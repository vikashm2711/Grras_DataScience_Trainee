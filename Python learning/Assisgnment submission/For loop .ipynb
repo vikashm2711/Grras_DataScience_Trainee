{
 "cells": [
  {
   "cell_type": "code",
   "execution_count": 1,
   "metadata": {
    "ExecuteTime": {
     "end_time": "2021-05-13T03:57:55.686763Z",
     "start_time": "2021-05-13T03:57:55.677765Z"
    }
   },
   "outputs": [
    {
     "name": "stdout",
     "output_type": "stream",
     "text": [
      "1\t2\t3\t4\t5\t6\t7\t8\t9\t10\t11\t12\t13\t14\t15\t16\t17\t18\t19\t20\t21\t22\t23\t24\t25\t26\t27\t28\t29\t30\t31\t32\t33\t34\t35\t36\t37\t38\t39\t40\t41\t42\t43\t44\t45\t46\t47\t48\t49\t50\t51\t52\t53\t54\t55\t56\t57\t58\t59\t60\t61\t62\t63\t64\t65\t66\t67\t68\t69\t70\t71\t72\t73\t74\t75\t76\t77\t78\t79\t80\t81\t82\t83\t84\t85\t86\t87\t88\t89\t90\t91\t92\t93\t94\t95\t96\t97\t98\t99\t100\t"
     ]
    }
   ],
   "source": [
    "for v in range (1,101):\n",
    "    print (v,end=\"\\t\")"
   ]
  },
  {
   "cell_type": "code",
   "execution_count": 2,
   "metadata": {
    "ExecuteTime": {
     "end_time": "2021-05-13T03:57:55.752753Z",
     "start_time": "2021-05-13T03:57:55.692761Z"
    }
   },
   "outputs": [
    {
     "name": "stdout",
     "output_type": "stream",
     "text": [
      "Hello World..!!\n",
      "Hello World..!!\n",
      "Hello World..!!\n",
      "Hello World..!!\n",
      "Hello World..!!\n",
      "Hello World..!!\n",
      "Hello World..!!\n",
      "Hello World..!!\n",
      "Hello World..!!\n",
      "Hello World..!!\n"
     ]
    }
   ],
   "source": [
    "\n",
    "for v in range (1, 11):\n",
    "    print(\"Hello World..!!\")"
   ]
  },
  {
   "cell_type": "code",
   "execution_count": 3,
   "metadata": {
    "ExecuteTime": {
     "end_time": "2021-05-13T03:57:55.815744Z",
     "start_time": "2021-05-13T03:57:55.755752Z"
    }
   },
   "outputs": [
    {
     "name": "stdout",
     "output_type": "stream",
     "text": [
      "100\t99\t98\t97\t96\t95\t94\t93\t92\t91\t90\t89\t88\t87\t86\t85\t84\t83\t82\t81\t80\t79\t78\t77\t76\t75\t74\t73\t72\t71\t70\t69\t68\t67\t66\t65\t64\t63\t62\t61\t60\t59\t58\t57\t56\t55\t54\t53\t52\t51\t50\t49\t48\t47\t46\t45\t44\t43\t42\t41\t40\t39\t38\t37\t36\t35\t34\t33\t32\t31\t30\t29\t28\t27\t26\t25\t24\t23\t22\t21\t20\t19\t18\t17\t16\t15\t14\t13\t12\t11\t10\t9\t8\t7\t6\t5\t4\t3\t2\t1\t"
     ]
    }
   ],
   "source": [
    "for v in range (100,0,-1):\n",
    "    print(v,end=\"\\t\")"
   ]
  },
  {
   "cell_type": "code",
   "execution_count": 4,
   "metadata": {
    "ExecuteTime": {
     "end_time": "2021-05-13T03:58:32.804549Z",
     "start_time": "2021-05-13T03:57:55.821742Z"
    }
   },
   "outputs": [
    {
     "name": "stdout",
     "output_type": "stream",
     "text": [
      "Enter a numbuer ---> 4\n",
      " 4  X  1  =   4  \n",
      " 4  X  2  =   8  \n",
      " 4  X  3  =  12  \n",
      " 4  X  4  =  16  \n",
      " 4  X  5  =  20  \n",
      " 4  X  6  =  24  \n",
      " 4  X  7  =  28  \n",
      " 4  X  8  =  32  \n",
      " 4  X  9  =  36  \n",
      " 4  X 10  =  40  \n"
     ]
    }
   ],
   "source": [
    "num = int(input(\"Enter a numbuer ---> \"))\n",
    "for v in range (1,11):\n",
    "    print(f\"{num:^3} X {v:^3} = {num*v:^5}\")\n",
    "        "
   ]
  },
  {
   "cell_type": "code",
   "execution_count": 5,
   "metadata": {
    "ExecuteTime": {
     "end_time": "2021-05-13T03:58:44.676047Z",
     "start_time": "2021-05-13T03:58:32.804549Z"
    }
   },
   "outputs": [
    {
     "name": "stdout",
     "output_type": "stream",
     "text": [
      "Enter the number of elements --> 4\n",
      "Enter the elements no. 0 --> 1\n",
      "Enter the elements no. 1 --> 2\n",
      "Enter the elements no. 2 --> 3\n",
      "Enter the elements no. 3 --> 4\n",
      "final list -->  [1, 2, 3, 4]\n"
     ]
    }
   ],
   "source": [
    "n = int(input (\"Enter the number of elements --> \"))\n",
    "\n",
    "l=[]\n",
    "\n",
    "for v in range (0,n):\n",
    "    e= int(input(f\"Enter the elements no. {v} --> \"))\n",
    "    l.append(e)\n",
    "print(\"final list --> \",l)"
   ]
  },
  {
   "cell_type": "code",
   "execution_count": 6,
   "metadata": {
    "ExecuteTime": {
     "end_time": "2021-05-13T03:58:48.972717Z",
     "start_time": "2021-05-13T03:58:44.676047Z"
    }
   },
   "outputs": [
    {
     "name": "stdout",
     "output_type": "stream",
     "text": [
      "Enter the word to reverese it -->123\n",
      "321"
     ]
    }
   ],
   "source": [
    "s = input(\"Enter the word to reverese it -->\")\n",
    "\n",
    "a =len(s)-1\n",
    "\n",
    "for v in range (a,-1,-1):\n",
    "    print(s[v],end=\"\")"
   ]
  },
  {
   "cell_type": "code",
   "execution_count": 34,
   "metadata": {
    "ExecuteTime": {
     "end_time": "2021-05-13T04:13:20.773688Z",
     "start_time": "2021-05-13T04:13:19.389330Z"
    }
   },
   "outputs": [
    {
     "name": "stdout",
     "output_type": "stream",
     "text": [
      "Enter the number to reverese: 345\n",
      "5 4 3 "
     ]
    }
   ],
   "source": [
    "### reverese integer\n",
    "s= int(input(\"Enter the number to reverese: \"))\n",
    "p=str(s)\n",
    "p\n",
    "for i in range (len(str(s))-1,-1,-1):\n",
    "    print(p[i], end=\" \")"
   ]
  },
  {
   "cell_type": "code",
   "execution_count": 8,
   "metadata": {
    "ExecuteTime": {
     "end_time": "2021-05-13T03:59:10.836640Z",
     "start_time": "2021-05-13T03:58:48.988341Z"
    }
   },
   "outputs": [
    {
     "name": "stdout",
     "output_type": "stream",
     "text": [
      "Enter the number : 10\n",
      "factorial of 10 is 3628800\n"
     ]
    }
   ],
   "source": [
    "#Factorial\n",
    "\n",
    "s= int(input(\"Enter the number : \"))\n",
    "\n",
    "\n",
    "fact=1\n",
    "for i in range(1,s+1):\n",
    "    fact *=i\n",
    "    \n",
    "print(f\"factorial of {s} is {fact}\")"
   ]
  },
  {
   "cell_type": "code",
   "execution_count": 9,
   "metadata": {
    "ExecuteTime": {
     "end_time": "2021-05-13T03:59:17.687862Z",
     "start_time": "2021-05-13T03:59:10.836640Z"
    }
   },
   "outputs": [
    {
     "name": "stdout",
     "output_type": "stream",
     "text": [
      "Enter the fiboanaci No: 10\n",
      "0 1 1 2 3 5 8 13 21 34 "
     ]
    }
   ],
   "source": [
    "## Fabonaci\n",
    "\n",
    "s= int(input(\"Enter the fiboanaci No: \"))\n",
    "\n",
    "a=0\n",
    "b=1\n",
    "\n",
    "\n",
    "for i in range (1,s+1):\n",
    "    c=a+b\n",
    "    print(a,end=\" \")\n",
    "    a=b\n",
    "    b=c\n"
   ]
  },
  {
   "cell_type": "code",
   "execution_count": 10,
   "metadata": {
    "ExecuteTime": {
     "end_time": "2021-05-13T03:59:26.729325Z",
     "start_time": "2021-05-13T03:59:17.687862Z"
    }
   },
   "outputs": [
    {
     "name": "stdout",
     "output_type": "stream",
     "text": [
      "Enter the Number: 5\n",
      "5 is Prime\n"
     ]
    }
   ],
   "source": [
    "### Prime\n",
    "\n",
    "s= int(input(\"Enter the Number: \"))\n",
    "flag=1\n",
    "\n",
    "for i in range (2, s):\n",
    "    if s%i ==0:\n",
    "        flag=0\n",
    "        print (f\"{s}%{i}\")\n",
    "        break\n",
    "        \n",
    "    else:\n",
    "        flag=1\n",
    "    \n",
    "if flag==1:\n",
    "    print(f\"{s} is Prime\")\n",
    "else:\n",
    "    print(f\"{s} is Non-Prime\")"
   ]
  },
  {
   "cell_type": "code",
   "execution_count": 11,
   "metadata": {
    "ExecuteTime": {
     "end_time": "2021-05-13T03:59:39.385820Z",
     "start_time": "2021-05-13T03:59:26.729325Z"
    }
   },
   "outputs": [
    {
     "name": "stdout",
     "output_type": "stream",
     "text": [
      "Enter the Number: 57\n",
      "57%3\n",
      "57 is Non-Prime\n"
     ]
    }
   ],
   "source": [
    "\n",
    "from math import sqrt\n",
    "\n",
    "\n",
    "s = int(input(\"Enter the Number: \"))\n",
    "flag=1\n",
    "\n",
    "check=round(sqrt(s))\n",
    "            \n",
    "for i in range (2, check):\n",
    "    if s%i ==0:\n",
    "        flag=0\n",
    "        print (f\"{s}%{i}\")\n",
    "        break\n",
    "        \n",
    "    else:\n",
    "        flag=1\n",
    "    \n",
    "if flag==1:\n",
    "    print(f\"{s} is Prime\")\n",
    "else:\n",
    "    print(f\"{s} is Non-Prime\")"
   ]
  },
  {
   "cell_type": "code",
   "execution_count": 12,
   "metadata": {
    "ExecuteTime": {
     "end_time": "2021-05-13T03:59:56.211612Z",
     "start_time": "2021-05-13T03:59:39.385820Z"
    }
   },
   "outputs": [
    {
     "name": "stdout",
     "output_type": "stream",
     "text": [
      "Enter the Number: 45\n",
      "45 is Non-Prime\n",
      "45%3\n"
     ]
    }
   ],
   "source": [
    "from math import sqrt\n",
    "\n",
    "\n",
    "s = int(input(\"Enter the Number: \"))\n",
    "flag=1\n",
    "\n",
    "check=round(sqrt(s))\n",
    "            \n",
    "for i in range (2, check):\n",
    "    if s%i ==0:\n",
    "        print(f\"{s} is Non-Prime\")\n",
    "        print (f\"{s}%{i}\")\n",
    "        break\n",
    "        \n",
    "else:\n",
    "    print(f\"{s} is Prime\")"
   ]
  },
  {
   "cell_type": "code",
   "execution_count": 37,
   "metadata": {
    "ExecuteTime": {
     "end_time": "2021-05-13T04:19:58.153423Z",
     "start_time": "2021-05-13T04:19:54.429403Z"
    }
   },
   "outputs": [
    {
     "name": "stdout",
     "output_type": "stream",
     "text": [
      "Enter the range Number: 5\n",
      "2 3 4 "
     ]
    },
    {
     "data": {
      "text/plain": [
       "'    \\ns,e = map(int,input(\"Enter the starting point and stop stop point of the range (comma separated) -->\").split(\",\"))\\nwhile s<=e:\\n    c = 2\\n    check=round(sqrt(s))\\n    while c<=check:\\n        if s%c==0:\\n            break\\n        c+=1\\n    else:\\n        print(s,end=\"\\t\")\\n    s+=1 \\n    '"
      ]
     },
     "execution_count": 37,
     "metadata": {},
     "output_type": "execute_result"
    }
   ],
   "source": [
    "### prime in range\n",
    "\n",
    "from math import sqrt\n",
    "\n",
    "s = int(input(\"Enter the range Number: \"))\n",
    "\n",
    "for i in range(2, s + 1):\n",
    "    if s % i == 0:\n",
    "        break\n",
    "    else:\n",
    "        print(i, end=\" \")\n",
    "    \n",
    "\"\"\"    \n",
    "s,e = map(int,input(\"Enter the starting point and stop stop point of the range (comma separated) -->\").split(\",\"))\n",
    "while s<=e:\n",
    "    c = 2\n",
    "    check=round(sqrt(s))\n",
    "    while c<=check:\n",
    "        if s%c==0:\n",
    "            break\n",
    "        c+=1\n",
    "    else:\n",
    "        print(s,end=\"\\t\")\n",
    "    s+=1 \n",
    "\"\"\""
   ]
  },
  {
   "cell_type": "code",
   "execution_count": 14,
   "metadata": {
    "ExecuteTime": {
     "end_time": "2021-05-13T04:00:03.355111Z",
     "start_time": "2021-05-13T04:00:03.332972Z"
    }
   },
   "outputs": [
    {
     "name": "stdout",
     "output_type": "stream",
     "text": [
      "['Hello', 'Guys', 'how', 'are', 'you', ',', 'I', 'hope', 'you', 'all', 'are', 'fine', 'at', 'home', ',', 'stay', 'safe', 'use', 'mask.']\n",
      "Hello\n",
      "how\n",
      "hope\n",
      "home\n"
     ]
    }
   ],
   "source": [
    "s = \"Hello Guys how are you , I hope you all are fine at home , stay safe use mask.\"\n",
    "s=s.split()\n",
    "c=0\n",
    "\n",
    "print(s)\n",
    "\n",
    "b=len(s)\n",
    "for i in range(0,b):\n",
    "    if s[i].lower()[0]=='h':\n",
    "        print(s[i])\n",
    "        \n",
    "        \n",
    "# while c<len(s):\n",
    "#     if s[c].lower()[0]=='h':\n",
    "#         print(s[c])\n",
    "#     c+=1"
   ]
  },
  {
   "cell_type": "code",
   "execution_count": 15,
   "metadata": {
    "ExecuteTime": {
     "end_time": "2021-05-13T04:00:03.401983Z",
     "start_time": "2021-05-13T04:00:03.355111Z"
    }
   },
   "outputs": [
    {
     "name": "stdout",
     "output_type": "stream",
     "text": [
      "['Hello', 'Guys', 'how', 'are', 'you', ',', 'I', 'hope', 'you', 'all', 'are', 'fine', 'at', 'home', ',', 'stay', 'safe', 'use', 'mask.']\n",
      "Guys\n",
      "hope\n",
      "fine\n",
      "home\n",
      "stay\n",
      "safe\n"
     ]
    }
   ],
   "source": [
    "s = \"Hello Guys how are you , I hope you all are fine at home , stay safe use mask.\"\n",
    "s=s.split()\n",
    "c=0\n",
    "\n",
    "print(s)\n",
    "\n",
    "b=len(s)\n",
    "for i in range(0,b):\n",
    "    if len(s[i])==4:\n",
    "        print(s[i])\n",
    "        "
   ]
  },
  {
   "cell_type": "code",
   "execution_count": 67,
   "metadata": {
    "ExecuteTime": {
     "end_time": "2021-05-13T04:46:15.685011Z",
     "start_time": "2021-05-13T04:46:14.233087Z"
    }
   },
   "outputs": [
    {
     "name": "stdout",
     "output_type": "stream",
     "text": [
      "Enter the number: 234\n",
      "234\n",
      "<class 'str'>\n",
      "2\n"
     ]
    },
    {
     "ename": "IndexError",
     "evalue": "list assignment index out of range",
     "output_type": "error",
     "traceback": [
      "\u001b[1;31m---------------------------------------------------------------------------\u001b[0m",
      "\u001b[1;31mIndexError\u001b[0m                                Traceback (most recent call last)",
      "\u001b[1;32m<ipython-input-67-3c37052f05b0>\u001b[0m in \u001b[0;36m<module>\u001b[1;34m\u001b[0m\n\u001b[0;32m      8\u001b[0m \u001b[1;32mfor\u001b[0m \u001b[0mi\u001b[0m \u001b[1;32min\u001b[0m \u001b[0mrange\u001b[0m \u001b[1;33m(\u001b[0m\u001b[0mlen\u001b[0m\u001b[1;33m(\u001b[0m\u001b[0mstr\u001b[0m\u001b[1;33m(\u001b[0m\u001b[0ms\u001b[0m\u001b[1;33m)\u001b[0m\u001b[1;33m)\u001b[0m\u001b[1;33m-\u001b[0m\u001b[1;36m1\u001b[0m\u001b[1;33m,\u001b[0m\u001b[1;33m-\u001b[0m\u001b[1;36m1\u001b[0m\u001b[1;33m,\u001b[0m\u001b[1;33m-\u001b[0m\u001b[1;36m1\u001b[0m\u001b[1;33m)\u001b[0m\u001b[1;33m:\u001b[0m\u001b[1;33m\u001b[0m\u001b[1;33m\u001b[0m\u001b[0m\n\u001b[0;32m      9\u001b[0m     \u001b[0mprint\u001b[0m\u001b[1;33m(\u001b[0m\u001b[0mi\u001b[0m\u001b[1;33m)\u001b[0m\u001b[1;33m\u001b[0m\u001b[1;33m\u001b[0m\u001b[0m\n\u001b[1;32m---> 10\u001b[1;33m     \u001b[0mq\u001b[0m\u001b[1;33m[\u001b[0m\u001b[0mi\u001b[0m\u001b[1;33m]\u001b[0m\u001b[1;33m=\u001b[0m\u001b[0mo\u001b[0m\u001b[1;33m[\u001b[0m\u001b[0mi\u001b[0m\u001b[1;33m]\u001b[0m\u001b[1;33m\u001b[0m\u001b[1;33m\u001b[0m\u001b[0m\n\u001b[0m\u001b[0;32m     11\u001b[0m \u001b[1;33m\u001b[0m\u001b[0m\n\u001b[0;32m     12\u001b[0m \u001b[1;33m\u001b[0m\u001b[0m\n",
      "\u001b[1;31mIndexError\u001b[0m: list assignment index out of range"
     ]
    }
   ],
   "source": [
    "s = int(input(\"Enter the number: \"))\n",
    "o = str(s)\n",
    "print(o)\n",
    "q=[]\n",
    "q\n",
    "l=[]\n",
    "print(type(o))\n",
    "for i in range (\n",
    "    \n",
    "\n",
    "\n",
    "print(l)\n",
    "if num ==res:\n",
    "    print(\"Its a armstrong number\")\n",
    "else:\n",
    "    print(\"Its not an armstrong number\")"
   ]
  },
  {
   "cell_type": "code",
   "execution_count": null,
   "metadata": {},
   "outputs": [],
   "source": []
  }
 ],
 "metadata": {
  "hide_input": false,
  "kernelspec": {
   "display_name": "Python 3",
   "language": "python",
   "name": "python3"
  },
  "language_info": {
   "codemirror_mode": {
    "name": "ipython",
    "version": 3
   },
   "file_extension": ".py",
   "mimetype": "text/x-python",
   "name": "python",
   "nbconvert_exporter": "python",
   "pygments_lexer": "ipython3",
   "version": "3.8.5"
  },
  "toc": {
   "base_numbering": 1,
   "nav_menu": {},
   "number_sections": true,
   "sideBar": true,
   "skip_h1_title": false,
   "title_cell": "Table of Contents",
   "title_sidebar": "Contents",
   "toc_cell": false,
   "toc_position": {},
   "toc_section_display": true,
   "toc_window_display": false
  },
  "varInspector": {
   "cols": {
    "lenName": 16,
    "lenType": 16,
    "lenVar": 40
   },
   "kernels_config": {
    "python": {
     "delete_cmd_postfix": "",
     "delete_cmd_prefix": "del ",
     "library": "var_list.py",
     "varRefreshCmd": "print(var_dic_list())"
    },
    "r": {
     "delete_cmd_postfix": ") ",
     "delete_cmd_prefix": "rm(",
     "library": "var_list.r",
     "varRefreshCmd": "cat(var_dic_list()) "
    }
   },
   "types_to_exclude": [
    "module",
    "function",
    "builtin_function_or_method",
    "instance",
    "_Feature"
   ],
   "window_display": false
  }
 },
 "nbformat": 4,
 "nbformat_minor": 4
}
