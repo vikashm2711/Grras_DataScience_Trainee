{
 "cells": [
  {
   "cell_type": "code",
   "execution_count": 1,
   "metadata": {},
   "outputs": [
    {
     "name": "stdout",
     "output_type": "stream",
     "text": [
      "\"Marke my word\"\n"
     ]
    }
   ],
   "source": [
    "# 1. What are escape characters?\n",
    "> to write \" in python sting we use \\ as an escape character to \n",
    "print(\"\\\"Marke my word\\\"\")"
   ]
  },
  {
   "cell_type": "code",
   "execution_count": null,
   "metadata": {},
   "outputs": [],
   "source": [
    "#2. What do the \\n and \\t escape characters represent?\n",
    "> \\n line break\n",
    "> \\t tab space"
   ]
  },
  {
   "cell_type": "code",
   "execution_count": 2,
   "metadata": {},
   "outputs": [
    {
     "name": "stdout",
     "output_type": "stream",
     "text": [
      "\\ don'Marke my word\"\n"
     ]
    }
   ],
   "source": [
    "#3. How can you put a \\ backslash character in a string?\n",
    "print(\"\\\\ don'Marke my word\\\"\")\n",
    "> using escape charater \\\\"
   ]
  },
  {
   "cell_type": "code",
   "execution_count": null,
   "metadata": {},
   "outputs": [],
   "source": [
    "4. The string value \"Howl's Moving Castle\" is a valid string.\n",
    "Why isn’t it a problem that the single quote character in the word Howl's isn’t escaped?\n",
    "> "
   ]
  },
  {
   "cell_type": "code",
   "execution_count": 9,
   "metadata": {},
   "outputs": [
    {
     "name": "stdout",
     "output_type": "stream",
     "text": [
      "\n",
      "    Hello dear,\n",
      "        hi..!!\n",
      "\n"
     ]
    }
   ],
   "source": [
    "# 5. If you don’t want to put \\n in your string, how can you write a string with newlines in it?\n",
    "a=\"\"\"\n",
    "    Hello dear,\n",
    "        hi..!!\n",
    "\"\"\"\n",
    "a\n",
    "print(a)"
   ]
  },
  {
   "cell_type": "code",
   "execution_count": null,
   "metadata": {},
   "outputs": [],
   "source": [
    "#6. What do the following expressions evaluate to?\n",
    "\n",
    "'Hello world!'[1] #> e\n",
    "'Hello world!'[0:5] #> Hello\n",
    "'Hello world!'[:5] #> Hello\n",
    "'Hello world!'[3:] #> lo world!"
   ]
  },
  {
   "cell_type": "code",
   "execution_count": null,
   "metadata": {},
   "outputs": [],
   "source": [
    "#7. What do the following expressions evaluate to?\n",
    "\n",
    "'Hello'.upper() #> HELLO\n",
    "'Hello'.upper().isupper() #> true\n",
    "'Hello'.upper().lower() #> hello"
   ]
  },
  {
   "cell_type": "code",
   "execution_count": null,
   "metadata": {},
   "outputs": [],
   "source": [
    "#8. What do the following expressions evaluate to?\n",
    "\n",
    "'Remember, remember, the fifth of November.'.split() #> ['Remember,', 'remember,', 'the', 'fifth', 'of', 'November.']\n",
    "'-'.join('There can be only one.'.split()) #> 'There-can-be-only-one.'"
   ]
  },
  {
   "cell_type": "code",
   "execution_count": null,
   "metadata": {},
   "outputs": [],
   "source": [
    "9. What string methods can you use to right-justify, left-justify, and center a string?\n",
    "> rjust(), ljust(), center()"
   ]
  },
  {
   "cell_type": "code",
   "execution_count": null,
   "metadata": {},
   "outputs": [],
   "source": [
    "10. How can you trim whitespace characters from the beginning or end of a string?\n",
    "> lstrip(), rstip()"
   ]
  }
 ],
 "metadata": {
  "kernelspec": {
   "display_name": "Python 3",
   "language": "python",
   "name": "python3"
  },
  "language_info": {
   "codemirror_mode": {
    "name": "ipython",
    "version": 3
   },
   "file_extension": ".py",
   "mimetype": "text/x-python",
   "name": "python",
   "nbconvert_exporter": "python",
   "pygments_lexer": "ipython3",
   "version": "3.8.5"
  }
 },
 "nbformat": 4,
 "nbformat_minor": 4
}
