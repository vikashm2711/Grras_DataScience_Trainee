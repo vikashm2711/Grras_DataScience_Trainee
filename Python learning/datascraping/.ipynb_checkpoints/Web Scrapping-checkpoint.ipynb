{
 "cells": [
  {
   "cell_type": "code",
   "execution_count": 4,
   "metadata": {
    "ExecuteTime": {
     "end_time": "2021-07-17T15:58:47.713008Z",
     "start_time": "2021-07-17T15:58:47.487999Z"
    }
   },
   "outputs": [],
   "source": []
  },
  {
   "cell_type": "code",
   "execution_count": 3,
   "metadata": {
    "ExecuteTime": {
     "end_time": "2021-07-17T15:58:39.415895Z",
     "start_time": "2021-07-17T15:58:32.151554Z"
    }
   },
   "outputs": [
    {
     "name": "stdout",
     "output_type": "stream",
     "text": [
      "Collecting selenium\n",
      "  Downloading selenium-3.141.0-py2.py3-none-any.whl (904 kB)\n",
      "Requirement already satisfied: urllib3 in c:\\programdata\\anaconda3\\lib\\site-packages (from selenium) (1.25.11)\n",
      "Installing collected packages: selenium\n",
      "Successfully installed selenium-3.141.0\n"
     ]
    }
   ],
   "source": [
    "!pip install selenium"
   ]
  },
  {
   "cell_type": "code",
   "execution_count": 26,
   "metadata": {
    "ExecuteTime": {
     "end_time": "2021-07-17T16:20:29.234678Z",
     "start_time": "2021-07-17T16:20:29.220659Z"
    }
   },
   "outputs": [],
   "source": [
    "from selenium import webdriver"
   ]
  },
  {
   "cell_type": "code",
   "execution_count": 27,
   "metadata": {
    "ExecuteTime": {
     "end_time": "2021-07-17T16:20:29.627574Z",
     "start_time": "2021-07-17T16:20:29.612550Z"
    }
   },
   "outputs": [
    {
     "data": {
      "text/plain": [
       "'D:\\\\learn\\\\Grasss\\\\datascraping'"
      ]
     },
     "execution_count": 27,
     "metadata": {},
     "output_type": "execute_result"
    }
   ],
   "source": [
    "pwd"
   ]
  },
  {
   "cell_type": "code",
   "execution_count": 28,
   "metadata": {
    "ExecuteTime": {
     "end_time": "2021-07-17T16:20:31.955298Z",
     "start_time": "2021-07-17T16:20:30.332845Z"
    }
   },
   "outputs": [],
   "source": [
    "d=webdriver.Chrome(\"D://learn//Grasss//datascraping/chromedriver.exe\")"
   ]
  },
  {
   "cell_type": "code",
   "execution_count": 29,
   "metadata": {
    "ExecuteTime": {
     "end_time": "2021-07-17T16:20:37.781396Z",
     "start_time": "2021-07-17T16:20:33.675373Z"
    }
   },
   "outputs": [],
   "source": [
    "d.get(\"https://www.flipkart.com/laptops/pr?sid=6bo,b5g&marketplace=FLIPKART&otracker=product_breadCrumbs_Laptops\")"
   ]
  },
  {
   "cell_type": "code",
   "execution_count": 30,
   "metadata": {
    "ExecuteTime": {
     "end_time": "2021-07-17T16:20:41.600744Z",
     "start_time": "2021-07-17T16:20:41.472743Z"
    }
   },
   "outputs": [],
   "source": [
    "from bs4 import BeautifulSoup as soup\n",
    "data=d.page_source"
   ]
  },
  {
   "cell_type": "code",
   "execution_count": 34,
   "metadata": {
    "ExecuteTime": {
     "end_time": "2021-07-17T16:25:16.523606Z",
     "start_time": "2021-07-17T16:25:16.396614Z"
    }
   },
   "outputs": [],
   "source": [
    "s=soup(data)"
   ]
  },
  {
   "cell_type": "code",
   "execution_count": 44,
   "metadata": {
    "ExecuteTime": {
     "end_time": "2021-07-17T17:36:23.643477Z",
     "start_time": "2021-07-17T17:36:23.615478Z"
    }
   },
   "outputs": [],
   "source": [
    "product=[]\n",
    "for var in s.findAll('div', attrs={'class':\"_4rR01T\"}):\n",
    "    product.append(var)"
   ]
  },
  {
   "cell_type": "code",
   "execution_count": 41,
   "metadata": {
    "ExecuteTime": {
     "end_time": "2021-07-17T17:33:07.473931Z",
     "start_time": "2021-07-17T17:33:07.447932Z"
    }
   },
   "outputs": [],
   "source": [
    "price = []\n",
    "for var in s.findAll('div', attrs={'class':\"_30jeq3 _1_WHN1\"}):\n",
    "    price.append(var)"
   ]
  },
  {
   "cell_type": "code",
   "execution_count": 45,
   "metadata": {
    "ExecuteTime": {
     "end_time": "2021-07-17T17:37:09.812079Z",
     "start_time": "2021-07-17T17:37:06.432561Z"
    }
   },
   "outputs": [],
   "source": [
    "import pandas as pd"
   ]
  },
  {
   "cell_type": "code",
   "execution_count": 46,
   "metadata": {
    "ExecuteTime": {
     "end_time": "2021-07-17T17:37:50.892902Z",
     "start_time": "2021-07-17T17:37:50.830906Z"
    }
   },
   "outputs": [],
   "source": [
    "df = pd.DataFrame([product,price])"
   ]
  },
  {
   "cell_type": "code",
   "execution_count": 50,
   "metadata": {
    "ExecuteTime": {
     "end_time": "2021-07-17T17:38:17.234978Z",
     "start_time": "2021-07-17T17:38:17.223975Z"
    }
   },
   "outputs": [],
   "source": [
    "df =df.T"
   ]
  },
  {
   "cell_type": "code",
   "execution_count": 51,
   "metadata": {
    "ExecuteTime": {
     "end_time": "2021-07-17T17:38:21.555890Z",
     "start_time": "2021-07-17T17:38:21.509889Z"
    }
   },
   "outputs": [
    {
     "data": {
      "text/html": [
       "<div>\n",
       "<style scoped>\n",
       "    .dataframe tbody tr th:only-of-type {\n",
       "        vertical-align: middle;\n",
       "    }\n",
       "\n",
       "    .dataframe tbody tr th {\n",
       "        vertical-align: top;\n",
       "    }\n",
       "\n",
       "    .dataframe thead th {\n",
       "        text-align: right;\n",
       "    }\n",
       "</style>\n",
       "<table border=\"1\" class=\"dataframe\">\n",
       "  <thead>\n",
       "    <tr style=\"text-align: right;\">\n",
       "      <th></th>\n",
       "      <th>0</th>\n",
       "      <th>1</th>\n",
       "    </tr>\n",
       "  </thead>\n",
       "  <tbody>\n",
       "    <tr>\n",
       "      <th>0</th>\n",
       "      <td>[Lenovo Ideapad Slim 3i (2021) Core i5 11th Ge...</td>\n",
       "      <td>[₹57,990]</td>\n",
       "    </tr>\n",
       "    <tr>\n",
       "      <th>1</th>\n",
       "      <td>[Lenovo IdeaPad Flex 5 Core i3 11th Gen - (8 G...</td>\n",
       "      <td>[₹54,990]</td>\n",
       "    </tr>\n",
       "    <tr>\n",
       "      <th>2</th>\n",
       "      <td>[DELL Vostro Core i3 10th Gen - (4 GB/256 GB S...</td>\n",
       "      <td>[₹36,497]</td>\n",
       "    </tr>\n",
       "    <tr>\n",
       "      <th>3</th>\n",
       "      <td>[HP Core i3 11th Gen - (8 GB/256 GB SSD/Window...</td>\n",
       "      <td>[₹41,490]</td>\n",
       "    </tr>\n",
       "    <tr>\n",
       "      <th>4</th>\n",
       "      <td>[DELL Inspiron 3501 Core i5 11th Gen - (8 GB/1...</td>\n",
       "      <td>[₹57,165]</td>\n",
       "    </tr>\n",
       "    <tr>\n",
       "      <th>5</th>\n",
       "      <td>[HP 14s Core i3 11th Gen - (8 GB/256 GB SSD/Wi...</td>\n",
       "      <td>[₹41,990]</td>\n",
       "    </tr>\n",
       "    <tr>\n",
       "      <th>6</th>\n",
       "      <td>[HP 15s Core i3 11th Gen - (8 GB/1 TB HDD/Wind...</td>\n",
       "      <td>[₹42,990]</td>\n",
       "    </tr>\n",
       "    <tr>\n",
       "      <th>7</th>\n",
       "      <td>[Lenovo Ideapad Slim 5i Core i5 11th Gen - (16...</td>\n",
       "      <td>[₹73,990]</td>\n",
       "    </tr>\n",
       "    <tr>\n",
       "      <th>8</th>\n",
       "      <td>[Lenovo Lenovo V Athlon Dual Core 3050U - (4 G...</td>\n",
       "      <td>[₹26,990]</td>\n",
       "    </tr>\n",
       "    <tr>\n",
       "      <th>9</th>\n",
       "      <td>[ASUS VivoBook Ultra 14 Core i3 10th Gen - (4 ...</td>\n",
       "      <td>[₹38,990]</td>\n",
       "    </tr>\n",
       "    <tr>\n",
       "      <th>10</th>\n",
       "      <td>[HP 15s Ryzen 3 Dual Core 3250U - (8 GB/1 TB H...</td>\n",
       "      <td>[₹41,990]</td>\n",
       "    </tr>\n",
       "    <tr>\n",
       "      <th>11</th>\n",
       "      <td>[Lenovo Ideapad Slim 5 Ryzen 7 Octa Core 4700U...</td>\n",
       "      <td>[₹60,990]</td>\n",
       "    </tr>\n",
       "    <tr>\n",
       "      <th>12</th>\n",
       "      <td>[HP 15s Ryzen 3 Dual Core 3250U - (8 GB/1 TB H...</td>\n",
       "      <td>[₹38,490]</td>\n",
       "    </tr>\n",
       "    <tr>\n",
       "      <th>13</th>\n",
       "      <td>[Lenovo IdeaPad Slim 3i (2021) Core i3 11th Ge...</td>\n",
       "      <td>[₹43,990]</td>\n",
       "    </tr>\n",
       "    <tr>\n",
       "      <th>14</th>\n",
       "      <td>[Lenovo Ideapad Slim 5i Core i5 11th Gen - (16...</td>\n",
       "      <td>[₹66,990]</td>\n",
       "    </tr>\n",
       "    <tr>\n",
       "      <th>15</th>\n",
       "      <td>[acer Aspire 7 Core i5 10th Gen - (8 GB/512 GB...</td>\n",
       "      <td>[₹59,990]</td>\n",
       "    </tr>\n",
       "    <tr>\n",
       "      <th>16</th>\n",
       "      <td>[HP Core i3 11th Gen - (8 GB/512 GB SSD/Window...</td>\n",
       "      <td>[₹45,949]</td>\n",
       "    </tr>\n",
       "    <tr>\n",
       "      <th>17</th>\n",
       "      <td>[DELL Inspiron Ryzen 5 Hexa Core 5500U - (8 GB...</td>\n",
       "      <td>[₹58,522]</td>\n",
       "    </tr>\n",
       "    <tr>\n",
       "      <th>18</th>\n",
       "      <td>[HP Pavilion Core i5 11th Gen - (16 GB/512 GB ...</td>\n",
       "      <td>[₹66,990]</td>\n",
       "    </tr>\n",
       "    <tr>\n",
       "      <th>19</th>\n",
       "      <td>[Lenovo Ideapad Slim 3i (2021) Core i5 11th Ge...</td>\n",
       "      <td>[₹62,990]</td>\n",
       "    </tr>\n",
       "    <tr>\n",
       "      <th>20</th>\n",
       "      <td>[ASUS Vivobook Gaming Core i5 9th Gen - (8 GB/...</td>\n",
       "      <td>[₹54,990]</td>\n",
       "    </tr>\n",
       "    <tr>\n",
       "      <th>21</th>\n",
       "      <td>[HP 15s Core i5 11th Gen - (8 GB/512 GB SSD/Wi...</td>\n",
       "      <td>[₹58,990]</td>\n",
       "    </tr>\n",
       "    <tr>\n",
       "      <th>22</th>\n",
       "      <td>[MSI Modern 14 Core i5 10th Gen - (8 GB/512 GB...</td>\n",
       "      <td>[₹49,990]</td>\n",
       "    </tr>\n",
       "    <tr>\n",
       "      <th>23</th>\n",
       "      <td>[Lenovo Ideapad Slim 5 Ryzen 7 Octa Core 5700U...</td>\n",
       "      <td>[₹67,990]</td>\n",
       "    </tr>\n",
       "  </tbody>\n",
       "</table>\n",
       "</div>"
      ],
      "text/plain": [
       "                                                    0          1\n",
       "0   [Lenovo Ideapad Slim 3i (2021) Core i5 11th Ge...  [₹57,990]\n",
       "1   [Lenovo IdeaPad Flex 5 Core i3 11th Gen - (8 G...  [₹54,990]\n",
       "2   [DELL Vostro Core i3 10th Gen - (4 GB/256 GB S...  [₹36,497]\n",
       "3   [HP Core i3 11th Gen - (8 GB/256 GB SSD/Window...  [₹41,490]\n",
       "4   [DELL Inspiron 3501 Core i5 11th Gen - (8 GB/1...  [₹57,165]\n",
       "5   [HP 14s Core i3 11th Gen - (8 GB/256 GB SSD/Wi...  [₹41,990]\n",
       "6   [HP 15s Core i3 11th Gen - (8 GB/1 TB HDD/Wind...  [₹42,990]\n",
       "7   [Lenovo Ideapad Slim 5i Core i5 11th Gen - (16...  [₹73,990]\n",
       "8   [Lenovo Lenovo V Athlon Dual Core 3050U - (4 G...  [₹26,990]\n",
       "9   [ASUS VivoBook Ultra 14 Core i3 10th Gen - (4 ...  [₹38,990]\n",
       "10  [HP 15s Ryzen 3 Dual Core 3250U - (8 GB/1 TB H...  [₹41,990]\n",
       "11  [Lenovo Ideapad Slim 5 Ryzen 7 Octa Core 4700U...  [₹60,990]\n",
       "12  [HP 15s Ryzen 3 Dual Core 3250U - (8 GB/1 TB H...  [₹38,490]\n",
       "13  [Lenovo IdeaPad Slim 3i (2021) Core i3 11th Ge...  [₹43,990]\n",
       "14  [Lenovo Ideapad Slim 5i Core i5 11th Gen - (16...  [₹66,990]\n",
       "15  [acer Aspire 7 Core i5 10th Gen - (8 GB/512 GB...  [₹59,990]\n",
       "16  [HP Core i3 11th Gen - (8 GB/512 GB SSD/Window...  [₹45,949]\n",
       "17  [DELL Inspiron Ryzen 5 Hexa Core 5500U - (8 GB...  [₹58,522]\n",
       "18  [HP Pavilion Core i5 11th Gen - (16 GB/512 GB ...  [₹66,990]\n",
       "19  [Lenovo Ideapad Slim 3i (2021) Core i5 11th Ge...  [₹62,990]\n",
       "20  [ASUS Vivobook Gaming Core i5 9th Gen - (8 GB/...  [₹54,990]\n",
       "21  [HP 15s Core i5 11th Gen - (8 GB/512 GB SSD/Wi...  [₹58,990]\n",
       "22  [MSI Modern 14 Core i5 10th Gen - (8 GB/512 GB...  [₹49,990]\n",
       "23  [Lenovo Ideapad Slim 5 Ryzen 7 Octa Core 5700U...  [₹67,990]"
      ]
     },
     "execution_count": 51,
     "metadata": {},
     "output_type": "execute_result"
    }
   ],
   "source": [
    "df"
   ]
  },
  {
   "cell_type": "code",
   "execution_count": null,
   "metadata": {},
   "outputs": [],
   "source": []
  }
 ],
 "metadata": {
  "hide_input": false,
  "kernelspec": {
   "display_name": "Python 3",
   "language": "python",
   "name": "python3"
  },
  "language_info": {
   "codemirror_mode": {
    "name": "ipython",
    "version": 3
   },
   "file_extension": ".py",
   "mimetype": "text/x-python",
   "name": "python",
   "nbconvert_exporter": "python",
   "pygments_lexer": "ipython3",
   "version": "3.8.5"
  },
  "toc": {
   "base_numbering": 1,
   "nav_menu": {},
   "number_sections": true,
   "sideBar": true,
   "skip_h1_title": false,
   "title_cell": "Table of Contents",
   "title_sidebar": "Contents",
   "toc_cell": false,
   "toc_position": {},
   "toc_section_display": true,
   "toc_window_display": false
  },
  "varInspector": {
   "cols": {
    "lenName": 16,
    "lenType": 16,
    "lenVar": 40
   },
   "kernels_config": {
    "python": {
     "delete_cmd_postfix": "",
     "delete_cmd_prefix": "del ",
     "library": "var_list.py",
     "varRefreshCmd": "print(var_dic_list())"
    },
    "r": {
     "delete_cmd_postfix": ") ",
     "delete_cmd_prefix": "rm(",
     "library": "var_list.r",
     "varRefreshCmd": "cat(var_dic_list()) "
    }
   },
   "types_to_exclude": [
    "module",
    "function",
    "builtin_function_or_method",
    "instance",
    "_Feature"
   ],
   "window_display": false
  }
 },
 "nbformat": 4,
 "nbformat_minor": 4
}
