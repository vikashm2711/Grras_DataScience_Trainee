{
 "cells": [
  {
   "cell_type": "code",
   "execution_count": 4,
   "metadata": {
    "ExecuteTime": {
     "end_time": "2021-07-17T15:58:47.713008Z",
     "start_time": "2021-07-17T15:58:47.487999Z"
    }
   },
   "outputs": [],
   "source": []
  },
  {
   "cell_type": "code",
   "execution_count": 3,
   "metadata": {
    "ExecuteTime": {
     "end_time": "2021-07-17T15:58:39.415895Z",
     "start_time": "2021-07-17T15:58:32.151554Z"
    }
   },
   "outputs": [
    {
     "name": "stdout",
     "output_type": "stream",
     "text": [
      "Collecting selenium\n",
      "  Downloading selenium-3.141.0-py2.py3-none-any.whl (904 kB)\n",
      "Requirement already satisfied: urllib3 in c:\\programdata\\anaconda3\\lib\\site-packages (from selenium) (1.25.11)\n",
      "Installing collected packages: selenium\n",
      "Successfully installed selenium-3.141.0\n"
     ]
    }
   ],
   "source": []
  },
  {
   "cell_type": "code",
   "execution_count": 1,
   "metadata": {
    "ExecuteTime": {
     "end_time": "2021-07-17T17:44:42.091518Z",
     "start_time": "2021-07-17T17:44:41.753507Z"
    }
   },
   "outputs": [],
   "source": [
    "from selenium import webdriver"
   ]
  },
  {
   "cell_type": "code",
   "execution_count": 2,
   "metadata": {
    "ExecuteTime": {
     "end_time": "2021-07-17T17:44:43.039901Z",
     "start_time": "2021-07-17T17:44:43.016896Z"
    }
   },
   "outputs": [
    {
     "data": {
      "text/plain": [
       "'D:\\\\learn\\\\Grasss\\\\datascraping'"
      ]
     },
     "execution_count": 2,
     "metadata": {},
     "output_type": "execute_result"
    }
   ],
   "source": [
    "pwd"
   ]
  },
  {
   "cell_type": "code",
   "execution_count": 3,
   "metadata": {
    "ExecuteTime": {
     "end_time": "2021-07-17T17:44:47.297381Z",
     "start_time": "2021-07-17T17:44:45.053925Z"
    }
   },
   "outputs": [],
   "source": [
    "d=webdriver.Chrome(\"D://learn//Grasss//datascraping/chromedriver.exe\")"
   ]
  },
  {
   "cell_type": "code",
   "execution_count": 11,
   "metadata": {
    "ExecuteTime": {
     "end_time": "2021-07-17T17:51:18.470217Z",
     "start_time": "2021-07-17T17:51:17.042216Z"
    }
   },
   "outputs": [],
   "source": [
    "d.get(\"https://www.gtu.ac.in/Circular.aspx\")"
   ]
  },
  {
   "cell_type": "code",
   "execution_count": 5,
   "metadata": {
    "ExecuteTime": {
     "end_time": "2021-07-17T17:46:36.335595Z",
     "start_time": "2021-07-17T17:46:35.861544Z"
    }
   },
   "outputs": [],
   "source": [
    "from bs4 import BeautifulSoup as soup\n",
    "data=d.page_source"
   ]
  },
  {
   "cell_type": "code",
   "execution_count": 6,
   "metadata": {
    "ExecuteTime": {
     "end_time": "2021-07-17T17:46:39.328223Z",
     "start_time": "2021-07-17T17:46:39.070179Z"
    }
   },
   "outputs": [],
   "source": [
    "s=soup(data)"
   ]
  },
  {
   "cell_type": "code",
   "execution_count": 14,
   "metadata": {
    "ExecuteTime": {
     "end_time": "2021-07-17T17:54:27.596857Z",
     "start_time": "2021-07-17T17:54:27.552854Z"
    }
   },
   "outputs": [],
   "source": [
    "title=[]\n",
    "for var in s.findAll('span', attrs={'class':\"ContentPlaceHolder1_lvCircular_lblContentHeading_1\"}):\n",
    "    print(var)"
   ]
  },
  {
   "cell_type": "code",
   "execution_count": 9,
   "metadata": {
    "ExecuteTime": {
     "end_time": "2021-07-17T17:47:37.022356Z",
     "start_time": "2021-07-17T17:47:36.479334Z"
    }
   },
   "outputs": [
    {
     "data": {
      "text/plain": [
       "<html lang=\"en\"><head>\n",
       "<meta content=\"d_jobs_guest_search\" name=\"pageKey\"/>\n",
       "<meta content=\"urlType=jserp_custom;emptyResult=false\" name=\"linkedin:pageTag\"/>\n",
       "<meta content=\"en_US\" name=\"locale\"/>\n",
       "<meta data-app-version=\"2.0.474\" data-browser-id=\"ca845d85-cf24-4eb5-836e-9f8cb1118005\" data-call-tree-id=\"OvtkCQ+lkhbgPgnAKSsAAA==\" data-enable-page-view-heartbeat-tracking=\"\" data-multiproduct-name=\"jobs-guest-frontend\" data-service-name=\"jobs-guest-frontend\" id=\"config\"/>\n",
       "<meta id=\"google-analytics-config\"/>\n",
       "<link href=\"https://www.linkedin.com/jobs/data-science-jobs\" rel=\"canonical\"/>\n",
       "<!-- --><!-- -->\n",
       "<!-- -->\n",
       "<!-- -->\n",
       "<!-- -->\n",
       "<link href=\"https://static-exp1.licdn.com/sc/h/al2o9zrvru7aqj8e1x2rzsrca\" rel=\"icon\"/>\n",
       "<script async=\"\" src=\"//platform.linkedin.com/js/analytics.js\"></script><script>\n",
       "            function getDfd() {let yFn,nFn;const p=new Promise(function(y, n){yFn=y;nFn=n;});p.resolve=yFn;p.reject=nFn;return p;}\n",
       "            window.lazyloader = getDfd();\n",
       "            window.tracking = getDfd();\n",
       "            window.impressionTracking = getDfd();\n",
       "            window.ingraphTracking = getDfd();\n",
       "            window.appDetection = getDfd();\n",
       "            window.pemTracking = getDfd();\n",
       "          </script>\n",
       "<!-- -->\n",
       "<title>159,000+ Data Science jobs in United States (5,985 new)</title>\n",
       "<meta content=\"Today’s top 159,000+ Data Science jobs in United States. Leverage your professional network, and get hired. New Data Science jobs added daily.\" name=\"description\"/>\n",
       "<meta content=\"noarchive\" name=\"robots\"/>\n",
       "<meta content=\"width=device-width, initial-scale=1\" name=\"viewport\"/>\n",
       "<meta content=\"jobs-guest-frontend\" name=\"litmsProfileName\"/>\n",
       "<meta content=\"1\" data-counter-metric-endpoint=\"/jobs-guest/api/ingraphs/counter\" data-gauge-metric-endpoint=\"/jobs-guest/api/ingraphs/gauge\" name=\"clientSideIngraphs\"/>\n",
       "<meta charset=\"utf-8\"/>\n",
       "<meta content=\"website\" property=\"og:type\"/>\n",
       "<meta content=\"159,000+ Data Science jobs in United States (5,985 new)\" property=\"og:title\"/>\n",
       "<meta content=\"https://www.linkedin.com/jobs/data-science-jobs\" property=\"og:url\"/>\n",
       "<meta content=\"Today’s top 159,000+ Data Science jobs in United States. Leverage your professional network, and get hired. New Data Science jobs added daily.\" property=\"og:description\"/>\n",
       "<meta content=\"159,000+ Data Science jobs in United States (5,985 new)\" name=\"twitter:title\"/>\n",
       "<meta content=\"summary_large_image\" name=\"twitter:card\"/>\n",
       "<meta content=\"@LinkedIn\" name=\"twitter:site\"/>\n",
       "<meta content=\"Today’s top 159,000+ Data Science jobs in United States. Leverage your professional network, and get hired. New Data Science jobs added daily.\" name=\"twitter:description\"/>\n",
       "<meta content=\"https://www.linkedin.com/jobs/search/?keywords=data%20science\" property=\"lnkd:url\"/>\n",
       "<link href=\"https://static-exp1.licdn.com/sc/h/4bgwdyqe3i965vn8kqpxub8f4\" rel=\"stylesheet\"/>\n",
       "<link href=\"https://static-exp1.licdn.com/sc/h/dfth9tdbk4s0cwdqncu9die14\" rel=\"stylesheet\"/>\n",
       "<script async=\"\" src=\"https://platform.linkedin.com/litms/utag/jobs-guest-frontend/utag.js?cb=1626543900000\" type=\"text/javascript\"></script><style id=\"googleidentityservice_button_styles\">.qJTHM{-webkit-user-select:none;color:#202124;direction:ltr;-webkit-touch-callout:none;font-family:'Roboto-Regular',arial,sans-serif;-webkit-font-smoothing:antialiased;font-weight:400;margin:0;overflow:hidden;-webkit-text-size-adjust:100%}.ynRLnc{left:-9999px;position:absolute;top:-9999px}.L6cTce{display:none}.bltWBb{word-break:break-all}.hSRGPd{color:#1a73e8;cursor:pointer;font-weight:500;text-decoration:none}.Bz112c-W3lGp{height:16px;width:16px}.Bz112c-E3DyYd{height:20px;width:20px}.Bz112c-r9oPif{height:24px;width:24px}.Bz112c-uaxL4e{-webkit-border-radius:10px;border-radius:10px}.LgbsSe-Bz112c{display:block}.S9gUrf-YoZ4jf,.S9gUrf-YoZ4jf *{border:none;margin:0;padding:0}.fFW7wc-ibnC6b>.aZ2wEe>div{border-color:#4285f4}.P1ekSe-ZMv3u>div:nth-child(1){background-color:#1a73e8!important}.P1ekSe-ZMv3u>div:nth-child(2),.P1ekSe-ZMv3u>div:nth-child(3){background-image:linear-gradient(to right,rgba(255,255,255,0.7),rgba(255,255,255,0.7)),linear-gradient(to right,#1a73e8,#1a73e8)!important}.haAclf{display:inline-block}.nsm7Bb-HzV7m-LgbsSe{-webkit-border-radius:4px;border-radius:4px;-webkit-box-sizing:border-box;box-sizing:border-box;-webkit-transition:background-color .218s,border-color .218s;transition:background-color .218s,border-color .218s;-webkit-user-select:none;-webkit-appearance:none;background-color:#fff;background-image:none;border:1px solid #dadce0;color:#3c4043;cursor:pointer;font-family:'Google Sans',arial,sans-serif;font-size:14px;height:40px;letter-spacing:.25px;outline:none;overflow:hidden;padding:0 12px;position:relative;text-align:center;vertical-align:middle;white-space:nowrap;width:auto}@media screen and (-ms-high-contrast:active){.nsm7Bb-HzV7m-LgbsSe{border:2px solid windowText;color:windowText}}.nsm7Bb-HzV7m-LgbsSe.pSzOP-SxQuSe{font-size:14px;height:32px;letter-spacing:.25px;padding:0 10px}.nsm7Bb-HzV7m-LgbsSe.purZT-SxQuSe{font-size:11px;height:20px;letter-spacing:.3px;padding:0 8px}.nsm7Bb-HzV7m-LgbsSe.Bz112c-LgbsSe{padding:0;width:40px}.nsm7Bb-HzV7m-LgbsSe.Bz112c-LgbsSe.pSzOP-SxQuSe{width:32px}.nsm7Bb-HzV7m-LgbsSe.Bz112c-LgbsSe.purZT-SxQuSe{width:20px}.nsm7Bb-HzV7m-LgbsSe.JGcpL-RbRzK{-webkit-border-radius:20px;border-radius:20px}.nsm7Bb-HzV7m-LgbsSe.JGcpL-RbRzK.pSzOP-SxQuSe{-webkit-border-radius:16px;border-radius:16px}.nsm7Bb-HzV7m-LgbsSe.JGcpL-RbRzK.purZT-SxQuSe{-webkit-border-radius:10px;border-radius:10px}.nsm7Bb-HzV7m-LgbsSe.MFS4be-Ia7Qfc{border:none;color:#fff}.nsm7Bb-HzV7m-LgbsSe.MFS4be-v3pZbf-Ia7Qfc{background-color:#1a73e8}.nsm7Bb-HzV7m-LgbsSe.MFS4be-JaPV2b-Ia7Qfc{background-color:#202124;color:#e8eaed}.nsm7Bb-HzV7m-LgbsSe .nsm7Bb-HzV7m-LgbsSe-Bz112c{height:18px;margin-right:8px;min-width:18px;width:18px}.nsm7Bb-HzV7m-LgbsSe.pSzOP-SxQuSe .nsm7Bb-HzV7m-LgbsSe-Bz112c{height:14px;min-width:14px;width:14px}.nsm7Bb-HzV7m-LgbsSe.purZT-SxQuSe .nsm7Bb-HzV7m-LgbsSe-Bz112c{height:10px;min-width:10px;width:10px}.nsm7Bb-HzV7m-LgbsSe.jVeSEe .nsm7Bb-HzV7m-LgbsSe-Bz112c{margin-left:8px;margin-right:-4px}.nsm7Bb-HzV7m-LgbsSe.Bz112c-LgbsSe .nsm7Bb-HzV7m-LgbsSe-Bz112c{margin:0;padding:10px}.nsm7Bb-HzV7m-LgbsSe.Bz112c-LgbsSe.pSzOP-SxQuSe .nsm7Bb-HzV7m-LgbsSe-Bz112c{padding:8px}.nsm7Bb-HzV7m-LgbsSe.Bz112c-LgbsSe.purZT-SxQuSe .nsm7Bb-HzV7m-LgbsSe-Bz112c{padding:4px}.nsm7Bb-HzV7m-LgbsSe .nsm7Bb-HzV7m-LgbsSe-Bz112c-haAclf{-webkit-border-top-left-radius:3px;border-top-left-radius:3px;-webkit-border-bottom-left-radius:3px;border-bottom-left-radius:3px;display:-webkit-box;display:-webkit-flex;display:flex;justify-content:center;-webkit-align-items:center;align-items:center;background-color:#fff;height:36px;margin-left:-10px;margin-right:12px;min-width:36px;width:36px}.nsm7Bb-HzV7m-LgbsSe .nsm7Bb-HzV7m-LgbsSe-Bz112c-haAclf .nsm7Bb-HzV7m-LgbsSe-Bz112c,.nsm7Bb-HzV7m-LgbsSe.Bz112c-LgbsSe .nsm7Bb-HzV7m-LgbsSe-Bz112c-haAclf .nsm7Bb-HzV7m-LgbsSe-Bz112c{margin:0;padding:0}.nsm7Bb-HzV7m-LgbsSe.pSzOP-SxQuSe .nsm7Bb-HzV7m-LgbsSe-Bz112c-haAclf{height:28px;margin-left:-8px;margin-right:10px;min-width:28px;width:28px}.nsm7Bb-HzV7m-LgbsSe.purZT-SxQuSe .nsm7Bb-HzV7m-LgbsSe-Bz112c-haAclf{height:16px;margin-left:-6px;margin-right:8px;min-width:16px;width:16px}.nsm7Bb-HzV7m-LgbsSe.Bz112c-LgbsSe .nsm7Bb-HzV7m-LgbsSe-Bz112c-haAclf{-webkit-border-radius:3px;border-radius:3px;margin-left:2px;margin-right:0;padding:0}.nsm7Bb-HzV7m-LgbsSe.JGcpL-RbRzK .nsm7Bb-HzV7m-LgbsSe-Bz112c-haAclf{-webkit-border-radius:18px;border-radius:18px}.nsm7Bb-HzV7m-LgbsSe.pSzOP-SxQuSe.JGcpL-RbRzK .nsm7Bb-HzV7m-LgbsSe-Bz112c-haAclf{-webkit-border-radius:14px;border-radius:14px}.nsm7Bb-HzV7m-LgbsSe.purZT-SxQuSe.JGcpL-RbRzK .nsm7Bb-HzV7m-LgbsSe-Bz112c-haAclf{-webkit-border-radius:8px;border-radius:8px}.nsm7Bb-HzV7m-LgbsSe .nsm7Bb-HzV7m-LgbsSe-bN97Pc-sM5MNb{display:-webkit-box;display:-webkit-flex;display:flex;-webkit-align-items:center;align-items:center;-webkit-flex-direction:row;flex-direction:row;justify-content:space-between;-webkit-flex-wrap:nowrap;flex-wrap:nowrap;height:100%;position:relative;width:100%}.nsm7Bb-HzV7m-LgbsSe .oXtfBe-l4eHX{justify-content:center}.nsm7Bb-HzV7m-LgbsSe .nsm7Bb-HzV7m-LgbsSe-BPrWId{-webkit-flex-grow:1;flex-grow:1;font-family:'Google Sans',arial,sans-serif;font-weight:500;overflow:hidden;text-overflow:ellipsis;vertical-align:top}.nsm7Bb-HzV7m-LgbsSe.purZT-SxQuSe .nsm7Bb-HzV7m-LgbsSe-BPrWId{font-weight:300}.nsm7Bb-HzV7m-LgbsSe .oXtfBe-l4eHX .nsm7Bb-HzV7m-LgbsSe-BPrWId{-webkit-flex-grow:0;flex-grow:0}.nsm7Bb-HzV7m-LgbsSe .nsm7Bb-HzV7m-LgbsSe-MJoBVe{-webkit-transition:background-color .218s;transition:background-color .218s;bottom:0;left:0;position:absolute;right:0;top:0}.nsm7Bb-HzV7m-LgbsSe:hover,.nsm7Bb-HzV7m-LgbsSe:focus{-webkit-box-shadow:none;box-shadow:none;border-color:#d2e3fc;outline:none}.nsm7Bb-HzV7m-LgbsSe:hover .nsm7Bb-HzV7m-LgbsSe-MJoBVe,.nsm7Bb-HzV7m-LgbsSe:focus .nsm7Bb-HzV7m-LgbsSe-MJoBVe{background:rgba(66,133,244,0.04)}.nsm7Bb-HzV7m-LgbsSe:active .nsm7Bb-HzV7m-LgbsSe-MJoBVe{background:rgba(66,133,244,0.1)}.nsm7Bb-HzV7m-LgbsSe.MFS4be-Ia7Qfc:hover .nsm7Bb-HzV7m-LgbsSe-MJoBVe,.nsm7Bb-HzV7m-LgbsSe.MFS4be-Ia7Qfc:focus .nsm7Bb-HzV7m-LgbsSe-MJoBVe{background:rgba(255,255,255,0.24)}.nsm7Bb-HzV7m-LgbsSe.MFS4be-Ia7Qfc:active .nsm7Bb-HzV7m-LgbsSe-MJoBVe{background:rgba(255,255,255,0.32)}.nsm7Bb-HzV7m-LgbsSe .n1UuX-DkfjY{-webkit-border-radius:50%;border-radius:50%;display:-webkit-box;display:-webkit-flex;display:flex;height:20px;margin-left:-4px;margin-right:8px;min-width:20px;width:20px}.nsm7Bb-HzV7m-LgbsSe.jVeSEe .nsm7Bb-HzV7m-LgbsSe-BPrWId{font-family:'Roboto';font-size:12px;text-align:left}.nsm7Bb-HzV7m-LgbsSe.jVeSEe .nsm7Bb-HzV7m-LgbsSe-BPrWId .ssJRIf,.nsm7Bb-HzV7m-LgbsSe.jVeSEe .nsm7Bb-HzV7m-LgbsSe-BPrWId .K4efff .fmcmS{overflow:hidden;text-overflow:ellipsis}.nsm7Bb-HzV7m-LgbsSe.jVeSEe .nsm7Bb-HzV7m-LgbsSe-BPrWId .K4efff{display:-webkit-box;display:-webkit-flex;display:flex;-webkit-align-items:center;align-items:center;color:#5f6368;fill:#5f6368;font-size:11px;f"
      ]
     },
     "execution_count": 9,
     "metadata": {},
     "output_type": "execute_result"
    },
    {
     "data": {
      "text/html": [
       "<b>limit_output extension: Maximum message size of 10000 exceeded with 450941 characters</b>"
      ]
     },
     "metadata": {},
     "output_type": "display_data"
    }
   ],
   "source": [
    "s"
   ]
  },
  {
   "cell_type": "code",
   "execution_count": 41,
   "metadata": {
    "ExecuteTime": {
     "end_time": "2021-07-17T17:33:07.473931Z",
     "start_time": "2021-07-17T17:33:07.447932Z"
    }
   },
   "outputs": [],
   "source": [
    "price = []\n",
    "for var in s.findAll('div', attrs={'class':\"_30jeq3 _1_WHN1\"}):\n",
    "    price.append(var)"
   ]
  },
  {
   "cell_type": "code",
   "execution_count": 45,
   "metadata": {
    "ExecuteTime": {
     "end_time": "2021-07-17T17:37:09.812079Z",
     "start_time": "2021-07-17T17:37:06.432561Z"
    }
   },
   "outputs": [],
   "source": [
    "import pandas as pd"
   ]
  },
  {
   "cell_type": "code",
   "execution_count": 46,
   "metadata": {
    "ExecuteTime": {
     "end_time": "2021-07-17T17:37:50.892902Z",
     "start_time": "2021-07-17T17:37:50.830906Z"
    }
   },
   "outputs": [],
   "source": [
    "df = pd.DataFrame([product,price])"
   ]
  },
  {
   "cell_type": "code",
   "execution_count": 50,
   "metadata": {
    "ExecuteTime": {
     "end_time": "2021-07-17T17:38:17.234978Z",
     "start_time": "2021-07-17T17:38:17.223975Z"
    }
   },
   "outputs": [],
   "source": [
    "df =df.T"
   ]
  },
  {
   "cell_type": "code",
   "execution_count": 51,
   "metadata": {
    "ExecuteTime": {
     "end_time": "2021-07-17T17:38:21.555890Z",
     "start_time": "2021-07-17T17:38:21.509889Z"
    }
   },
   "outputs": [
    {
     "data": {
      "text/html": [
       "<div>\n",
       "<style scoped>\n",
       "    .dataframe tbody tr th:only-of-type {\n",
       "        vertical-align: middle;\n",
       "    }\n",
       "\n",
       "    .dataframe tbody tr th {\n",
       "        vertical-align: top;\n",
       "    }\n",
       "\n",
       "    .dataframe thead th {\n",
       "        text-align: right;\n",
       "    }\n",
       "</style>\n",
       "<table border=\"1\" class=\"dataframe\">\n",
       "  <thead>\n",
       "    <tr style=\"text-align: right;\">\n",
       "      <th></th>\n",
       "      <th>0</th>\n",
       "      <th>1</th>\n",
       "    </tr>\n",
       "  </thead>\n",
       "  <tbody>\n",
       "    <tr>\n",
       "      <th>0</th>\n",
       "      <td>[Lenovo Ideapad Slim 3i (2021) Core i5 11th Ge...</td>\n",
       "      <td>[₹57,990]</td>\n",
       "    </tr>\n",
       "    <tr>\n",
       "      <th>1</th>\n",
       "      <td>[Lenovo IdeaPad Flex 5 Core i3 11th Gen - (8 G...</td>\n",
       "      <td>[₹54,990]</td>\n",
       "    </tr>\n",
       "    <tr>\n",
       "      <th>2</th>\n",
       "      <td>[DELL Vostro Core i3 10th Gen - (4 GB/256 GB S...</td>\n",
       "      <td>[₹36,497]</td>\n",
       "    </tr>\n",
       "    <tr>\n",
       "      <th>3</th>\n",
       "      <td>[HP Core i3 11th Gen - (8 GB/256 GB SSD/Window...</td>\n",
       "      <td>[₹41,490]</td>\n",
       "    </tr>\n",
       "    <tr>\n",
       "      <th>4</th>\n",
       "      <td>[DELL Inspiron 3501 Core i5 11th Gen - (8 GB/1...</td>\n",
       "      <td>[₹57,165]</td>\n",
       "    </tr>\n",
       "    <tr>\n",
       "      <th>5</th>\n",
       "      <td>[HP 14s Core i3 11th Gen - (8 GB/256 GB SSD/Wi...</td>\n",
       "      <td>[₹41,990]</td>\n",
       "    </tr>\n",
       "    <tr>\n",
       "      <th>6</th>\n",
       "      <td>[HP 15s Core i3 11th Gen - (8 GB/1 TB HDD/Wind...</td>\n",
       "      <td>[₹42,990]</td>\n",
       "    </tr>\n",
       "    <tr>\n",
       "      <th>7</th>\n",
       "      <td>[Lenovo Ideapad Slim 5i Core i5 11th Gen - (16...</td>\n",
       "      <td>[₹73,990]</td>\n",
       "    </tr>\n",
       "    <tr>\n",
       "      <th>8</th>\n",
       "      <td>[Lenovo Lenovo V Athlon Dual Core 3050U - (4 G...</td>\n",
       "      <td>[₹26,990]</td>\n",
       "    </tr>\n",
       "    <tr>\n",
       "      <th>9</th>\n",
       "      <td>[ASUS VivoBook Ultra 14 Core i3 10th Gen - (4 ...</td>\n",
       "      <td>[₹38,990]</td>\n",
       "    </tr>\n",
       "    <tr>\n",
       "      <th>10</th>\n",
       "      <td>[HP 15s Ryzen 3 Dual Core 3250U - (8 GB/1 TB H...</td>\n",
       "      <td>[₹41,990]</td>\n",
       "    </tr>\n",
       "    <tr>\n",
       "      <th>11</th>\n",
       "      <td>[Lenovo Ideapad Slim 5 Ryzen 7 Octa Core 4700U...</td>\n",
       "      <td>[₹60,990]</td>\n",
       "    </tr>\n",
       "    <tr>\n",
       "      <th>12</th>\n",
       "      <td>[HP 15s Ryzen 3 Dual Core 3250U - (8 GB/1 TB H...</td>\n",
       "      <td>[₹38,490]</td>\n",
       "    </tr>\n",
       "    <tr>\n",
       "      <th>13</th>\n",
       "      <td>[Lenovo IdeaPad Slim 3i (2021) Core i3 11th Ge...</td>\n",
       "      <td>[₹43,990]</td>\n",
       "    </tr>\n",
       "    <tr>\n",
       "      <th>14</th>\n",
       "      <td>[Lenovo Ideapad Slim 5i Core i5 11th Gen - (16...</td>\n",
       "      <td>[₹66,990]</td>\n",
       "    </tr>\n",
       "    <tr>\n",
       "      <th>15</th>\n",
       "      <td>[acer Aspire 7 Core i5 10th Gen - (8 GB/512 GB...</td>\n",
       "      <td>[₹59,990]</td>\n",
       "    </tr>\n",
       "    <tr>\n",
       "      <th>16</th>\n",
       "      <td>[HP Core i3 11th Gen - (8 GB/512 GB SSD/Window...</td>\n",
       "      <td>[₹45,949]</td>\n",
       "    </tr>\n",
       "    <tr>\n",
       "      <th>17</th>\n",
       "      <td>[DELL Inspiron Ryzen 5 Hexa Core 5500U - (8 GB...</td>\n",
       "      <td>[₹58,522]</td>\n",
       "    </tr>\n",
       "    <tr>\n",
       "      <th>18</th>\n",
       "      <td>[HP Pavilion Core i5 11th Gen - (16 GB/512 GB ...</td>\n",
       "      <td>[₹66,990]</td>\n",
       "    </tr>\n",
       "    <tr>\n",
       "      <th>19</th>\n",
       "      <td>[Lenovo Ideapad Slim 3i (2021) Core i5 11th Ge...</td>\n",
       "      <td>[₹62,990]</td>\n",
       "    </tr>\n",
       "    <tr>\n",
       "      <th>20</th>\n",
       "      <td>[ASUS Vivobook Gaming Core i5 9th Gen - (8 GB/...</td>\n",
       "      <td>[₹54,990]</td>\n",
       "    </tr>\n",
       "    <tr>\n",
       "      <th>21</th>\n",
       "      <td>[HP 15s Core i5 11th Gen - (8 GB/512 GB SSD/Wi...</td>\n",
       "      <td>[₹58,990]</td>\n",
       "    </tr>\n",
       "    <tr>\n",
       "      <th>22</th>\n",
       "      <td>[MSI Modern 14 Core i5 10th Gen - (8 GB/512 GB...</td>\n",
       "      <td>[₹49,990]</td>\n",
       "    </tr>\n",
       "    <tr>\n",
       "      <th>23</th>\n",
       "      <td>[Lenovo Ideapad Slim 5 Ryzen 7 Octa Core 5700U...</td>\n",
       "      <td>[₹67,990]</td>\n",
       "    </tr>\n",
       "  </tbody>\n",
       "</table>\n",
       "</div>"
      ],
      "text/plain": [
       "                                                    0          1\n",
       "0   [Lenovo Ideapad Slim 3i (2021) Core i5 11th Ge...  [₹57,990]\n",
       "1   [Lenovo IdeaPad Flex 5 Core i3 11th Gen - (8 G...  [₹54,990]\n",
       "2   [DELL Vostro Core i3 10th Gen - (4 GB/256 GB S...  [₹36,497]\n",
       "3   [HP Core i3 11th Gen - (8 GB/256 GB SSD/Window...  [₹41,490]\n",
       "4   [DELL Inspiron 3501 Core i5 11th Gen - (8 GB/1...  [₹57,165]\n",
       "5   [HP 14s Core i3 11th Gen - (8 GB/256 GB SSD/Wi...  [₹41,990]\n",
       "6   [HP 15s Core i3 11th Gen - (8 GB/1 TB HDD/Wind...  [₹42,990]\n",
       "7   [Lenovo Ideapad Slim 5i Core i5 11th Gen - (16...  [₹73,990]\n",
       "8   [Lenovo Lenovo V Athlon Dual Core 3050U - (4 G...  [₹26,990]\n",
       "9   [ASUS VivoBook Ultra 14 Core i3 10th Gen - (4 ...  [₹38,990]\n",
       "10  [HP 15s Ryzen 3 Dual Core 3250U - (8 GB/1 TB H...  [₹41,990]\n",
       "11  [Lenovo Ideapad Slim 5 Ryzen 7 Octa Core 4700U...  [₹60,990]\n",
       "12  [HP 15s Ryzen 3 Dual Core 3250U - (8 GB/1 TB H...  [₹38,490]\n",
       "13  [Lenovo IdeaPad Slim 3i (2021) Core i3 11th Ge...  [₹43,990]\n",
       "14  [Lenovo Ideapad Slim 5i Core i5 11th Gen - (16...  [₹66,990]\n",
       "15  [acer Aspire 7 Core i5 10th Gen - (8 GB/512 GB...  [₹59,990]\n",
       "16  [HP Core i3 11th Gen - (8 GB/512 GB SSD/Window...  [₹45,949]\n",
       "17  [DELL Inspiron Ryzen 5 Hexa Core 5500U - (8 GB...  [₹58,522]\n",
       "18  [HP Pavilion Core i5 11th Gen - (16 GB/512 GB ...  [₹66,990]\n",
       "19  [Lenovo Ideapad Slim 3i (2021) Core i5 11th Ge...  [₹62,990]\n",
       "20  [ASUS Vivobook Gaming Core i5 9th Gen - (8 GB/...  [₹54,990]\n",
       "21  [HP 15s Core i5 11th Gen - (8 GB/512 GB SSD/Wi...  [₹58,990]\n",
       "22  [MSI Modern 14 Core i5 10th Gen - (8 GB/512 GB...  [₹49,990]\n",
       "23  [Lenovo Ideapad Slim 5 Ryzen 7 Octa Core 5700U...  [₹67,990]"
      ]
     },
     "execution_count": 51,
     "metadata": {},
     "output_type": "execute_result"
    }
   ],
   "source": [
    "df"
   ]
  },
  {
   "cell_type": "code",
   "execution_count": null,
   "metadata": {},
   "outputs": [],
   "source": []
  }
 ],
 "metadata": {
  "hide_input": false,
  "kernelspec": {
   "display_name": "Python 3",
   "language": "python",
   "name": "python3"
  },
  "language_info": {
   "codemirror_mode": {
    "name": "ipython",
    "version": 3
   },
   "file_extension": ".py",
   "mimetype": "text/x-python",
   "name": "python",
   "nbconvert_exporter": "python",
   "pygments_lexer": "ipython3",
   "version": "3.8.5"
  },
  "toc": {
   "base_numbering": 1,
   "nav_menu": {},
   "number_sections": true,
   "sideBar": true,
   "skip_h1_title": false,
   "title_cell": "Table of Contents",
   "title_sidebar": "Contents",
   "toc_cell": false,
   "toc_position": {},
   "toc_section_display": true,
   "toc_window_display": false
  },
  "varInspector": {
   "cols": {
    "lenName": 16,
    "lenType": 16,
    "lenVar": 40
   },
   "kernels_config": {
    "python": {
     "delete_cmd_postfix": "",
     "delete_cmd_prefix": "del ",
     "library": "var_list.py",
     "varRefreshCmd": "print(var_dic_list())"
    },
    "r": {
     "delete_cmd_postfix": ") ",
     "delete_cmd_prefix": "rm(",
     "library": "var_list.r",
     "varRefreshCmd": "cat(var_dic_list()) "
    }
   },
   "types_to_exclude": [
    "module",
    "function",
    "builtin_function_or_method",
    "instance",
    "_Feature"
   ],
   "window_display": false
  }
 },
 "nbformat": 4,
 "nbformat_minor": 4
}
