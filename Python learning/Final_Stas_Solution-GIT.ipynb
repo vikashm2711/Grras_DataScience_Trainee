{
 "cells": [
  {
   "cell_type": "code",
   "execution_count": 3,
   "metadata": {
    "ExecuteTime": {
     "end_time": "2021-08-09T06:14:12.210377Z",
     "start_time": "2021-08-09T06:14:11.788858Z"
    }
   },
   "outputs": [],
   "source": [
    "import numpy as np\n",
    "import math"
   ]
  },
  {
   "cell_type": "code",
   "execution_count": 4,
   "metadata": {
    "ExecuteTime": {
     "end_time": "2021-08-09T06:14:13.010013Z",
     "start_time": "2021-08-09T06:14:13.002015Z"
    }
   },
   "outputs": [],
   "source": [
    "def counter(li, min, max):\n",
    "\tctr = 0\n",
    "\tfor x in li:\n",
    "\t\tif min <= x < max:\n",
    "\t\t\tctr += 1\n",
    "\treturn ctr\n",
    "\n",
    "def counterin(li, min, max):\n",
    "\tctr = 0\n",
    "\tfor x in li:\n",
    "\t\tif min <= x <= max:\n",
    "\t\t\tctr += 1\n",
    "\treturn ctr"
   ]
  },
  {
   "cell_type": "code",
   "execution_count": 12,
   "metadata": {
    "ExecuteTime": {
     "end_time": "2021-08-09T06:27:36.413348Z",
     "start_time": "2021-08-09T06:27:34.135647Z"
    }
   },
   "outputs": [
    {
     "name": "stdout",
     "output_type": "stream",
     "text": [
      "Enter the number of observation : 100\n",
      "Array : [ 1  1  5  5  5  7  7  9 10 10 11 12 16 16 18 21 22 22 22 26 26 26 27 28\n",
      " 29 30 32 33 33 34 34 38 40 40 40 41 42 43 44 46 46 47 47 48 48 49 50 51\n",
      " 51 53 55 56 56 57 58 59 61 63 64 66 67 67 68 69 69 74 75 75 75 75 76 76\n",
      " 76 77 79 80 83 85 86 87 87 87 88 88 89 89 89 92 92 92 94 94 96 96 96 96\n",
      " 97 98 99 99]\n",
      "Minimum : 1\n",
      "Maximum : 99\n",
      "Range   : 98\n",
      "No of intervals:  8\n",
      "Width of intervals:  13\n",
      "\n",
      "--> Inclusive Method\n",
      "--------------------------\n",
      "| Intervals | Frequency  |\n",
      "--------------------------\n",
      "|    1-9    |     8      |\n",
      "|   10-17   |     6      |\n",
      "|   18-25   |     5      |\n",
      "|   26-33   |     10     |\n",
      "|   34-41   |     7      |\n",
      "|   42-49   |     10     |\n",
      "|   50-57   |     8      |\n",
      "|   58-65   |     5      |\n",
      "|   66-73   |     6      |\n",
      "|   74-81   |     11     |\n",
      "|   82-89   |     11     |\n",
      "|   90-97   |     10     |\n",
      "|   98-105  |     3      |\n",
      "--------------------------\n",
      "|   Total   |    100     | \n",
      "--------------------------\n",
      "\n",
      "--> Exclusive Method\n",
      "--------------------------\n",
      "| Intervals | Frequency  |\n",
      "--------------------------\n",
      "|    1-9    |     7      |\n",
      "|    9-17   |     7      |\n",
      "|   17-25   |     5      |\n",
      "|   25-33   |     8      |\n",
      "|   33-41   |     8      |\n",
      "|   41-49   |     10     |\n",
      "|   49-57   |     8      |\n",
      "|   57-65   |     6      |\n",
      "|   65-73   |     6      |\n",
      "|   73-81   |     11     |\n",
      "|   81-89   |     8      |\n",
      "|   89-97   |     12     |\n",
      "|   97-105  |     4      |\n",
      "--------------------------\n",
      "|   Total   |    100     | \n",
      "--------------------------\n",
      "\n",
      "--> Complete Table\n",
      "-------------------------------------------------------\n",
      "| Intervals | Frequency  |   Fper  |   LCF   |   HCF  |\n",
      "-------------------------------------------------------\n",
      "|    1-9    |     8      |   4.0   |    4    |   95   |\n",
      "|   10-17   |     6      |   8.0   |   12    |   87   |\n",
      "|   18-25   |     5      |   6.0   |   18    |   81   |\n",
      "|   26-33   |     10     |   5.0   |   23    |   76   |\n",
      "|   34-41   |     7      |  10.0   |   33    |   66   |\n",
      "|   42-49   |     10     |   7.0   |   40    |   59   |\n",
      "|   50-57   |     8      |  10.0   |   50    |   49   |\n",
      "|   58-65   |     5      |   8.0   |   58    |   41   |\n",
      "|   66-73   |     6      |   5.0   |   63    |   36   |\n",
      "|   74-81   |     11     |   6.0   |   69    |   30   |\n",
      "|   82-89   |     11     |  11.0   |   80    |   19   |\n",
      "|   90-97   |     10     |  11.0   |   91    |    8   |\n",
      "|   98-105  |     3      |  10.0   |   101   |   -2   |\n",
      "-------------------------------------------------------\n",
      "|   Total   |    100     |  101.0  |\n",
      "-------------------------------------------------------\n"
     ]
    }
   ],
   "source": [
    "N = int(input(\"Enter the number of observation : \"))\n",
    "arr = np.random.randint(0, 100, N)\n",
    "k = round(1 + (3.322 * np.log10(N)))\n",
    "range_ = max(arr) - min(arr)\n",
    "size = int(math.ceil(range_ / k))\n",
    "\n",
    "arr.sort()\n",
    "print(\"Array :\",arr)\n",
    "print(\"Minimum :\",min(arr))\n",
    "print(\"Maximum :\",max(arr))\n",
    "print(\"Range   :\",range_)\n",
    "print(\"No of intervals: \", k)\n",
    "print(\"Width of intervals: \", size)\n",
    "\n",
    "# Inclusive Method\n",
    "print(\"\\n--> Inclusive Method\")\n",
    "\n",
    "ravalues = []\n",
    "for i in range(min(arr), max(arr) + k, k):\n",
    "    ravalues.append(i)\n",
    "\n",
    "ravalues = []\n",
    "ravalues2 = []\n",
    "list1 = []\n",
    "print(\"-\" * 26)\n",
    "print(\"| Intervals | Frequency  |\")\n",
    "print(\"-\" * 26)\n",
    "for i in range(min(arr), max(arr) + k, k):\n",
    "    ravalues.append(i)\n",
    "for i in range(min(arr) + 1, max(arr), k):\n",
    "    ravalues2.append(i)\n",
    "\n",
    "for i in range(0, len(ravalues) - 1):\n",
    "    if i == 0:\n",
    "        count_ = counterin(arr, ravalues[i], ravalues[i + 1])\n",
    "        list1.append(count_)\n",
    "        print(f\"|{ravalues[i]:>5}-{ravalues[i+1]:<4} | {count_:^10} |\")\n",
    "    else:\n",
    "        count_ = counterin(arr, ravalues2[i], ravalues[i + 1])\n",
    "        list1.append(count_)\n",
    "        print(f\"|{ravalues2[i]:>5}-{ravalues[i+1]:<4} | {count_:^10} |\")\n",
    "print(\"-\" * 26)\n",
    "print(f\"|   Total   | {N:^10} | \")\n",
    "print(\"-\" * 26)\n",
    "\n",
    "\n",
    "###Exclusive Method\n",
    "print(\"\\n--> Exclusive Method\")\n",
    "\n",
    "ravalues=[]\n",
    "for i in range(min(arr),max(arr)+k,k):\n",
    "    ravalues.append(i)\n",
    "\n",
    "list1=[]\n",
    "print(\"-\"*26)\n",
    "print(\"| Intervals | Frequency  |\")\n",
    "print(\"-\"*26)\n",
    "for i in range(0,len(ravalues)-1):\n",
    "    count_=counter(arr, ravalues[i], ravalues[i+1])\n",
    "    list1.append(count_)\n",
    "    print(f\"|{ravalues[i]:>5}-{ravalues[i+1]:<4} | {count_:^10} |\")\n",
    "print(\"-\"*26)\n",
    "print(f\"|   Total   | {N:^10} | \")\n",
    "print(\"-\"*26)\n",
    "\n",
    "###3rd Question\n",
    "print(\"\\n--> Complete Table\")\n",
    "\n",
    "ravalues = []\n",
    "ravalues2 = []\n",
    "for i in range(min(arr),max(arr)+k,k):\n",
    "    ravalues.append(i)\n",
    "for i in range(min(arr)+1,max(arr),k):\n",
    "    ravalues2.append(i)\n",
    "\n",
    "list1 = []\n",
    "fper1 = []\n",
    "lcf1 = []\n",
    "hcf1 = []\n",
    "lcf = 0\n",
    "hcf = max(arr)\n",
    "print(\"-\" * 55)\n",
    "print(\"| Intervals | Frequency  |   Fper  |   LCF   |   HCF  |\")\n",
    "print(\"-\" * 55)\n",
    "\n",
    "\n",
    "\n",
    "for i in range(0, len(ravalues) - 1):\n",
    "    \n",
    "    fper = (round(count_ / N * 100, 2))\n",
    "    lcf += count_\n",
    "    \n",
    "    list1.append(count_)\n",
    "    fper1.append(fper)\n",
    "    hcf1.append(hcf)\n",
    "    lcf1.append(lcf)\n",
    "    hcf -= count_\n",
    "    \n",
    "    if i ==0:\n",
    "        count_=counterin(arr, ravalues[i], ravalues[i+1])\n",
    "        list1.append(count_)\n",
    "        print(f\"|{ravalues[i]:>5}-{ravalues[i+1]:<4} | {count_:^10} | {fper:^7} | {lcf:^7} | {hcf:^7}|\"\n",
    "    )\n",
    "        \n",
    "    else:\n",
    "        count_=counterin(arr, ravalues2[i], ravalues[i+1])\n",
    "        list1.append(count_)\n",
    "        print(f\"|{ravalues2[i]:>5}-{ravalues[i+1]:<4} | {count_:^10} | {fper:^7} | {lcf:^7} | {hcf:^7}|\"\n",
    "    )\n",
    "\n",
    "print(\"-\" * 55)\n",
    "print(f\"|   Total   | {N:^10} | {sum(fper1):^7} |\")\n",
    "print(\"-\" * 55)"
   ]
  },
  {
   "cell_type": "code",
   "execution_count": 47,
   "metadata": {
    "ExecuteTime": {
     "end_time": "2021-08-09T05:37:00.865873Z",
     "start_time": "2021-08-09T05:37:00.837889Z"
    }
   },
   "outputs": [
    {
     "name": "stdout",
     "output_type": "stream",
     "text": [
      "Inclusive Method\n",
      "--------------------------\n",
      "| Intervals | Frequency  |\n",
      "--------------------------\n",
      "|    3-10   |     4      |\n",
      "|   11-17   |     3      |\n",
      "|   18-24   |     2      |\n",
      "|   25-31   |     5      |\n",
      "|   32-38   |     3      |\n",
      "|   39-45   |     6      |\n",
      "|   46-52   |     4      |\n",
      "|   53-59   |     4      |\n",
      "|   60-66   |     3      |\n",
      "|   67-73   |     1      |\n",
      "|   74-80   |     2      |\n",
      "|   81-87   |     2      |\n",
      "|   88-94   |     8      |\n",
      "|   95-101  |     3      |\n",
      "--------------------------\n",
      "|   Total   |     50     | \n",
      "--------------------------\n"
     ]
    }
   ],
   "source": []
  },
  {
   "cell_type": "code",
   "execution_count": 49,
   "metadata": {
    "ExecuteTime": {
     "end_time": "2021-08-09T05:38:11.552643Z",
     "start_time": "2021-08-09T05:38:11.542649Z"
    }
   },
   "outputs": [
    {
     "name": "stdout",
     "output_type": "stream",
     "text": [
      "Exclusive Method\n",
      "--------------------------\n",
      "| Intervals | Frequency  |\n",
      "--------------------------\n",
      "|    3-10   |     4      |\n",
      "|   10-17   |     3      |\n",
      "|   17-24   |     2      |\n",
      "|   24-31   |     4      |\n",
      "|   31-38   |     2      |\n",
      "|   38-45   |     7      |\n",
      "|   45-52   |     4      |\n",
      "|   52-59   |     3      |\n",
      "|   59-66   |     4      |\n",
      "|   66-73   |     2      |\n",
      "|   73-80   |     2      |\n",
      "|   80-87   |     2      |\n",
      "|   87-94   |     7      |\n",
      "|   94-101  |     4      |\n",
      "--------------------------\n",
      "|   Total   |     50     | \n",
      "--------------------------\n"
     ]
    }
   ],
   "source": []
  },
  {
   "cell_type": "code",
   "execution_count": 51,
   "metadata": {
    "ExecuteTime": {
     "end_time": "2021-08-09T05:39:05.174209Z",
     "start_time": "2021-08-09T05:39:05.143207Z"
    }
   },
   "outputs": [
    {
     "name": "stdout",
     "output_type": "stream",
     "text": [
      "3rd Question\n",
      "-------------------------------------------------------\n",
      "| Intervals | Frequency  |   Fper  |   LCF   |   HCF  |\n",
      "-------------------------------------------------------\n",
      "|    3-10   |     4      |   6.0   |    3    |   96   |\n",
      "|   11-17   |     3      |   8.0   |    7    |   92   |\n",
      "|   18-24   |     2      |   6.0   |   10    |   89   |\n",
      "|   25-31   |     5      |   4.0   |   12    |   87   |\n",
      "|   32-38   |     3      |  10.0   |   17    |   82   |\n",
      "|   39-45   |     6      |   6.0   |   20    |   79   |\n",
      "|   46-52   |     4      |  12.0   |   26    |   73   |\n",
      "|   53-59   |     4      |   8.0   |   30    |   69   |\n",
      "|   60-66   |     3      |   8.0   |   34    |   65   |\n",
      "|   67-73   |     1      |   6.0   |   37    |   62   |\n",
      "|   74-80   |     2      |   2.0   |   38    |   61   |\n",
      "|   81-87   |     2      |   4.0   |   40    |   59   |\n",
      "|   88-94   |     8      |   4.0   |   42    |   57   |\n",
      "|   95-101  |     3      |  16.0   |   50    |   49   |\n",
      "-------------------------------------------------------\n",
      "|   Total   |     50     |  100.0  |\n",
      "-------------------------------------------------------\n"
     ]
    }
   ],
   "source": []
  },
  {
   "cell_type": "code",
   "execution_count": null,
   "metadata": {},
   "outputs": [],
   "source": []
  }
 ],
 "metadata": {
  "kernelspec": {
   "display_name": "Python 3",
   "language": "python",
   "name": "python3"
  },
  "language_info": {
   "codemirror_mode": {
    "name": "ipython",
    "version": 3
   },
   "file_extension": ".py",
   "mimetype": "text/x-python",
   "name": "python",
   "nbconvert_exporter": "python",
   "pygments_lexer": "ipython3",
   "version": "3.8.5"
  }
 },
 "nbformat": 4,
 "nbformat_minor": 4
}
