{
 "cells": [
  {
   "cell_type": "code",
   "execution_count": 43,
   "metadata": {
    "ExecuteTime": {
     "end_time": "2021-07-22T11:42:18.947427Z",
     "start_time": "2021-07-22T11:42:18.922425Z"
    }
   },
   "outputs": [
    {
     "ename": "SyntaxError",
     "evalue": "invalid syntax (<ipython-input-43-66fb51b70425>, line 2)",
     "output_type": "error",
     "traceback": [
      "\u001b[1;36m  File \u001b[1;32m\"<ipython-input-43-66fb51b70425>\"\u001b[1;36m, line \u001b[1;32m2\u001b[0m\n\u001b[1;33m    ravi,10A,70,50,60\u001b[0m\n\u001b[1;37m           ^\u001b[0m\n\u001b[1;31mSyntaxError\u001b[0m\u001b[1;31m:\u001b[0m invalid syntax\n"
     ]
    }
   ],
   "source": [
    "name,batch,maths,chem,phy\n",
    "ravi,10A,70,50,60\n",
    "AB,10B,70,50,20\n",
    "ra,10A,70,10,60\n",
    "vi,10A,70,50,20\n",
    "av,10B,70,70,60\n",
    "vcs,10B,70,50,60\n",
    "rsdi,10B,60,50,60\n",
    "dfa,10A,70,50,60\n",
    "fdsi,10A,70,50,30\n",
    "rrei,10B,70,50,50"
   ]
  },
  {
   "cell_type": "code",
   "execution_count": 44,
   "metadata": {
    "ExecuteTime": {
     "end_time": "2021-07-22T11:42:42.353745Z",
     "start_time": "2021-07-22T11:42:42.346745Z"
    }
   },
   "outputs": [],
   "source": [
    "def generate_result(src,dst):\n",
    "    with open(src)as fp:\n",
    "        data=fp.read()"
   ]
  },
  {
   "cell_type": "code",
   "execution_count": 45,
   "metadata": {
    "ExecuteTime": {
     "end_time": "2021-07-22T11:42:43.311557Z",
     "start_time": "2021-07-22T11:42:43.305551Z"
    }
   },
   "outputs": [],
   "source": [
    "with open(\"test.txt\")as fp:\n",
    "    data=fp.read()"
   ]
  },
  {
   "cell_type": "code",
   "execution_count": 46,
   "metadata": {
    "ExecuteTime": {
     "end_time": "2021-07-22T11:42:44.650301Z",
     "start_time": "2021-07-22T11:42:44.642300Z"
    }
   },
   "outputs": [
    {
     "data": {
      "text/plain": [
       "'name,batch,maths,chem,phy\\nravi,10A,70,50,60\\nAB,10B,70,50,20\\nra,10A,70,10,60\\nvi,10A,70,50,20\\nav,10B,70,70,60\\nvcs,10B,70,50,60\\nrsdi,10B,60,50,60\\ndfa,10A,70,50,60\\nfdsi,10A,70,50,30\\nrrei,10B,70,50,50'"
      ]
     },
     "execution_count": 46,
     "metadata": {},
     "output_type": "execute_result"
    }
   ],
   "source": [
    "data"
   ]
  },
  {
   "cell_type": "code",
   "execution_count": 47,
   "metadata": {
    "ExecuteTime": {
     "end_time": "2021-07-22T11:42:46.214277Z",
     "start_time": "2021-07-22T11:42:46.207277Z"
    }
   },
   "outputs": [
    {
     "name": "stdout",
     "output_type": "stream",
     "text": [
      "name,batch,maths,chem,phy\n",
      "ravi,10A,70,50,60\n",
      "AB,10B,70,50,20\n",
      "ra,10A,70,10,60\n",
      "vi,10A,70,50,20\n",
      "av,10B,70,70,60\n",
      "vcs,10B,70,50,60\n",
      "rsdi,10B,60,50,60\n",
      "dfa,10A,70,50,60\n",
      "fdsi,10A,70,50,30\n",
      "rrei,10B,70,50,50\n"
     ]
    }
   ],
   "source": [
    "print(data)"
   ]
  },
  {
   "cell_type": "code",
   "execution_count": 48,
   "metadata": {
    "ExecuteTime": {
     "end_time": "2021-07-22T11:42:48.136904Z",
     "start_time": "2021-07-22T11:42:48.129921Z"
    }
   },
   "outputs": [],
   "source": [
    "data=data.split(\"\\n\")"
   ]
  },
  {
   "cell_type": "code",
   "execution_count": 49,
   "metadata": {
    "ExecuteTime": {
     "end_time": "2021-07-22T11:42:48.986412Z",
     "start_time": "2021-07-22T11:42:48.977410Z"
    }
   },
   "outputs": [
    {
     "name": "stdout",
     "output_type": "stream",
     "text": [
      "name,batch,maths,chem,phy\n"
     ]
    }
   ],
   "source": [
    "print(data[0])"
   ]
  },
  {
   "cell_type": "code",
   "execution_count": 50,
   "metadata": {
    "ExecuteTime": {
     "end_time": "2021-07-22T11:42:51.855341Z",
     "start_time": "2021-07-22T11:42:51.833668Z"
    }
   },
   "outputs": [],
   "source": [
    "for var in range(len(data)):\n",
    "    name=data[var].split(\",\")[0]\n",
    "    batch=data[var].split(\",\")[1]\n",
    "    maths=data[var].split(\",\")[2]\n",
    "    chem=data[var].split(\",\")[3]\n",
    "    phy=data[var].split(\",\")[4]"
   ]
  },
  {
   "cell_type": "code",
   "execution_count": 55,
   "metadata": {
    "ExecuteTime": {
     "end_time": "2021-07-22T11:43:51.355759Z",
     "start_time": "2021-07-22T11:43:51.338762Z"
    }
   },
   "outputs": [],
   "source": [
    "for var in range(1,len(data)-1):\n",
    "    s=reduce(add,data[var].split(\",\")[2:])\n",
    "    result=(s/300*100)"
   ]
  },
  {
   "cell_type": "code",
   "execution_count": 52,
   "metadata": {
    "ExecuteTime": {
     "end_time": "2021-07-22T11:42:59.945421Z",
     "start_time": "2021-07-22T11:42:59.929418Z"
    }
   },
   "outputs": [],
   "source": [
    "from functools import reduce\n",
    "def add(a,b):\n",
    "    a=int(a)\n",
    "    b= int(b)\n",
    "    return a+b"
   ]
  },
  {
   "cell_type": "code",
   "execution_count": 53,
   "metadata": {
    "ExecuteTime": {
     "end_time": "2021-07-22T11:43:01.330637Z",
     "start_time": "2021-07-22T11:43:01.314643Z"
    }
   },
   "outputs": [
    {
     "data": {
      "text/plain": [
       "150"
      ]
     },
     "execution_count": 53,
     "metadata": {},
     "output_type": "execute_result"
    }
   ],
   "source": [
    "s"
   ]
  },
  {
   "cell_type": "code",
   "execution_count": 65,
   "metadata": {
    "ExecuteTime": {
     "end_time": "2021-07-22T11:51:28.322571Z",
     "start_time": "2021-07-22T11:51:28.304573Z"
    }
   },
   "outputs": [],
   "source": [
    "f=open(\"studnet_per.txt\",'w')\n",
    "for var in range(1,len(data)-1):\n",
    "    name=data[var].split(\",\")[0].capitalize()\n",
    "    batch=data[var].split(\",\")[1]\n",
    "    s=reduce(add,data[var].split(\",\")[2:])\n",
    "    result=(s/300)\n",
    "    f.write(f\"{name},{batch},{result:.2%}\\n\")\n",
    "f.close()\n"
   ]
  },
  {
   "cell_type": "code",
   "execution_count": 70,
   "metadata": {
    "ExecuteTime": {
     "end_time": "2021-07-22T11:59:22.299902Z",
     "start_time": "2021-07-22T11:59:22.279901Z"
    }
   },
   "outputs": [],
   "source": [
    "no=100\n",
    "f=open(\"no.txt\",'w')\n",
    "for _ in range(1,no+1):\n",
    "    f.write(f\"{_}\\n\")\n",
    "f.close()"
   ]
  },
  {
   "cell_type": "code",
   "execution_count": null,
   "metadata": {},
   "outputs": [],
   "source": [
    "f=open(\"output.txt\")"
   ]
  }
 ],
 "metadata": {
  "hide_input": false,
  "kernelspec": {
   "display_name": "Python 3",
   "language": "python",
   "name": "python3"
  },
  "language_info": {
   "codemirror_mode": {
    "name": "ipython",
    "version": 3
   },
   "file_extension": ".py",
   "mimetype": "text/x-python",
   "name": "python",
   "nbconvert_exporter": "python",
   "pygments_lexer": "ipython3",
   "version": "3.8.5"
  },
  "toc": {
   "base_numbering": 1,
   "nav_menu": {},
   "number_sections": true,
   "sideBar": true,
   "skip_h1_title": false,
   "title_cell": "Table of Contents",
   "title_sidebar": "Contents",
   "toc_cell": false,
   "toc_position": {},
   "toc_section_display": true,
   "toc_window_display": false
  },
  "varInspector": {
   "cols": {
    "lenName": 16,
    "lenType": 16,
    "lenVar": 40
   },
   "kernels_config": {
    "python": {
     "delete_cmd_postfix": "",
     "delete_cmd_prefix": "del ",
     "library": "var_list.py",
     "varRefreshCmd": "print(var_dic_list())"
    },
    "r": {
     "delete_cmd_postfix": ") ",
     "delete_cmd_prefix": "rm(",
     "library": "var_list.r",
     "varRefreshCmd": "cat(var_dic_list()) "
    }
   },
   "types_to_exclude": [
    "module",
    "function",
    "builtin_function_or_method",
    "instance",
    "_Feature"
   ],
   "window_display": false
  }
 },
 "nbformat": 4,
 "nbformat_minor": 4
}
