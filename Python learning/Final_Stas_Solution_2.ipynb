{
 "cells": [
  {
   "cell_type": "code",
   "execution_count": 76,
   "metadata": {
    "ExecuteTime": {
     "end_time": "2021-08-10T04:47:52.843261Z",
     "start_time": "2021-08-10T04:47:52.784085Z"
    }
   },
   "outputs": [],
   "source": [
    "import numpy as np\n",
    "import math\n",
    "import statistics as stats"
   ]
  },
  {
   "cell_type": "code",
   "execution_count": 7,
   "metadata": {
    "ExecuteTime": {
     "end_time": "2021-08-10T03:33:45.401185Z",
     "start_time": "2021-08-10T03:33:45.366461Z"
    }
   },
   "outputs": [
    {
     "name": "stdout",
     "output_type": "stream",
     "text": [
      "Exclusive Method\n",
      "--------------------------\n",
      "| Intervals | Frequency  | LCF |  LCF% |\n",
      "--------------------------\n",
      "|    1-8    |     8      |  2  |  4.0  |\n",
      "|    8-15   |     6      | 10  | 20.0  |\n",
      "|   15-22   |     2      | 16  | 32.0  |\n",
      "|   22-29   |     6      | 18  | 36.0  |\n",
      "|   29-36   |     2      | 24  | 48.0  |\n",
      "|   36-43   |     4      | 26  | 52.0  |\n",
      "|   43-50   |     2      | 30  | 60.0  |\n",
      "|   50-57   |     4      | 32  | 64.0  |\n",
      "|   57-64   |     4      | 36  | 72.0  |\n",
      "|   64-71   |     3      | 40  | 80.0  |\n",
      "|   71-78   |     2      | 43  | 86.0  |\n",
      "|   78-85   |     3      | 45  | 90.0  |\n",
      "|   85-92   |     2      | 48  | 96.0  |\n",
      "|   92-99   |     1      | 50  | 100.0 |\n",
      "--------------------------\n",
      "|   Total   |     50     | \n",
      "--------------------------\n"
     ]
    }
   ],
   "source": [
    "###1st Question\n",
    "print(\"Exclusive Method\")\n",
    "\n",
    "ravalues=[]\n",
    "for i in range(min(arr),max(arr)+k,k):\n",
    "    ravalues.append(i)\n",
    "\n",
    "list1=[]\n",
    "lcf=0\n",
    "print(\"-\"*26)\n",
    "print(\"| Intervals | Frequency  | LCF |  LCF% |\")\n",
    "print(\"-\"*26)\n",
    "\n",
    "for i in range(0,len(ravalues)-1):\n",
    "    lcf1.append(lcf)\n",
    "    lcf += count_\n",
    "    lcfper= (round(lcf / N * 100, 2))\n",
    "    count_=counter(arr, ravalues[i], ravalues[i+1])\n",
    "    list1.append(count_)\n",
    "    print(f\"|{ravalues[i]:>5}-{ravalues[i+1]:<4} | {count_:^10} | {lcf:^3} | {lcfper:^5} |\")\n",
    "print(\"-\"*26)\n",
    "print(f\"|   Total   | {N:^10} | \")\n",
    "print(\"-\"*26)"
   ]
  },
  {
   "cell_type": "code",
   "execution_count": 94,
   "metadata": {
    "ExecuteTime": {
     "end_time": "2021-08-10T04:55:02.358639Z",
     "start_time": "2021-08-10T04:55:02.343018Z"
    }
   },
   "outputs": [
    {
     "name": "stdout",
     "output_type": "stream",
     "text": [
      "Exclusive Method\n",
      "--------------------------\n",
      "| Intervals | Frequency  |  Mid(X) |    d    |    fd   |\n",
      "--------------------------\n",
      "|    1-8    |     8      |   4.5   |  -42.0  |  -336   |\n",
      "|    8-15   |     6      |  11.5   |  -35.0  |  -210   |\n",
      "|   15-22   |     2      |  18.5   |  -28.0  |   -56   |\n",
      "|   22-29   |     6      |  25.5   |  -21.0  |  -126   |\n",
      "|   29-36   |     2      |  32.5   |  -14.0  |   -28   |\n",
      "|   36-43   |     4      |  39.5   |  -7.0   |   -28   |\n",
      "|   43-50   |     2      |  46.5   |   0.0   |    0    |\n",
      "|   50-57   |     4      |  53.5   |   7.0   |   28    |\n",
      "|   57-64   |     4      |  60.5   |  14.0   |   56    |\n",
      "|   64-71   |     3      |  67.5   |  21.0   |   63    |\n",
      "|   71-78   |     2      |  74.5   |  28.0   |   56    |\n",
      "|   78-85   |     3      |  81.5   |  35.0   |   105   |\n",
      "|   85-92   |     2      |  88.5   |  42.0   |   84    |\n",
      "|   92-99   |     1      |  95.5   |  49.0   |   49    |\n",
      "--------------------------\n",
      "|   Total   |     50     | \n",
      "--------------------------\n"
     ]
    }
   ],
   "source": [
    "###2nd Question\n",
    "print(\"Exclusive Method\")\n",
    "\n",
    "ravalues=[]\n",
    "for i in range(min(arr),max(arr)+k,k):\n",
    "    ravalues.append(i)\n",
    "\n",
    "list1=[]\n",
    "X1=[]\n",
    "d1=[]\n",
    "lcf=0\n",
    "print(\"-\"*26)\n",
    "print(\"| Intervals | Frequency  |  Mid(X) |    d    |    fd   |\")\n",
    "print(\"-\"*26)\n",
    "\n",
    "X=[]\n",
    "for i in range(0,len(ravalues)-1):\n",
    "    ress=(ravalues[i+1]+ravalues[i])/2\n",
    "    X.append(ress)\n",
    "\n",
    "A=int(len(X)/2)-1\n",
    "d1=[]\n",
    "fd1=[]\n",
    "for i in range(0,len(ravalues)-1):\n",
    "    lcf1.append(lcf)\n",
    "    lcf += count_\n",
    "    lcfper= (round(lcf / N * 100, 2))\n",
    "    \n",
    "    d=X[i]-X[A]\n",
    "    d1.append(d)\n",
    "\n",
    "    count_=counter(arr, ravalues[i], ravalues[i+1])\n",
    "    list1.append(count_)\n",
    "    fd=int(count_*d)\n",
    "    fd1.append(fd)\n",
    "\n",
    "    print(f\"|{ravalues[i]:>5}-{ravalues[i+1]:<4} | {count_:^10} | {X[i]:^7} | {d:^7} | {fd:^7} |\")\n",
    "print(\"-\"*26)\n",
    "print(f\"|   Total   | {N:^10} | \")\n",
    "print(\"-\"*26)"
   ]
  },
  {
   "cell_type": "code",
   "execution_count": 97,
   "metadata": {
    "ExecuteTime": {
     "end_time": "2021-08-10T05:01:47.153021Z",
     "start_time": "2021-08-10T05:01:47.136998Z"
    }
   },
   "outputs": [
    {
     "name": "stdout",
     "output_type": "stream",
     "text": [
      "Means is :  42.02\n"
     ]
    }
   ],
   "source": [
    "mean_= A + (sum(fd1)/N*k)\n",
    "print(\"Means is : \",abs(mean_))"
   ]
  },
  {
   "cell_type": "code",
   "execution_count": 98,
   "metadata": {
    "ExecuteTime": {
     "end_time": "2021-08-10T05:01:50.061626Z",
     "start_time": "2021-08-10T05:01:50.030027Z"
    }
   },
   "outputs": [
    {
     "data": {
      "text/plain": [
       "40"
      ]
     },
     "execution_count": 98,
     "metadata": {},
     "output_type": "execute_result"
    }
   ],
   "source": [
    "stats.mean(arr)"
   ]
  },
  {
   "cell_type": "code",
   "execution_count": 136,
   "metadata": {
    "ExecuteTime": {
     "end_time": "2021-08-10T05:24:43.468393Z",
     "start_time": "2021-08-10T05:24:43.452772Z"
    }
   },
   "outputs": [
    {
     "name": "stdout",
     "output_type": "stream",
     "text": [
      "---------------------------\n",
      "Salary| People |     WX   |\n",
      "---------------------------\n",
      "15000 |   2    |  30000   |\n",
      "10000 |   6    |  60000   |\n",
      "8000  |   9    |  72000   |\n",
      "2000  |   14   |  28000   |\n",
      "1000  |   10   |  10000   |\n",
      "---------------------------\n",
      "Total |   41   |  200000  |\n",
      "---------------------------\n",
      "\n",
      "Weighted AM is :  40000.0\n"
     ]
    }
   ],
   "source": [
    "###3rd Question\n",
    "\n",
    "N = 5\n",
    "salary = [15000, 10000, 8000, 2000, 1000]\n",
    "people = np.random.randint(1, 15, N)\n",
    "\n",
    "wx1 = []\n",
    "print(\"-\" * 27)\n",
    "print(f\"Salary| People |     WX   |\")\n",
    "print(\"-\" * 27)\n",
    "for i in range(0, N):\n",
    "    wx = salary[i] * people[i]\n",
    "    wx1.append(wx)\n",
    "    print(f\"{salary[i]:^5} | {people[i]:^6} | {wx:^8} |\")\n",
    "\n",
    "print(\"-\" * 27)\n",
    "print(f\"Total | {sum(people):^6} |  {sum(wx1):^5}  |\")\n",
    "print(\"-\" * 27)\n",
    "WAM = sum(wx1) / N\n",
    "\n",
    "print(\"\\nWeighted AM is : \", WAM)"
   ]
  }
 ],
 "metadata": {
  "kernelspec": {
   "display_name": "Python 3",
   "language": "python",
   "name": "python3"
  },
  "language_info": {
   "codemirror_mode": {
    "name": "ipython",
    "version": 3
   },
   "file_extension": ".py",
   "mimetype": "text/x-python",
   "name": "python",
   "nbconvert_exporter": "python",
   "pygments_lexer": "ipython3",
   "version": "3.8.8"
  }
 },
 "nbformat": 4,
 "nbformat_minor": 4
}
