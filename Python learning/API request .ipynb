{
 "cells": [
  {
   "cell_type": "code",
   "execution_count": 1,
   "metadata": {
    "ExecuteTime": {
     "end_time": "2021-07-04T08:52:59.870710Z",
     "start_time": "2021-07-04T08:52:59.631702Z"
    }
   },
   "outputs": [],
   "source": [
    "import requests"
   ]
  },
  {
   "cell_type": "code",
   "execution_count": 2,
   "metadata": {
    "ExecuteTime": {
     "end_time": "2021-07-04T08:53:05.018058Z",
     "start_time": "2021-07-04T08:53:00.854056Z"
    }
   },
   "outputs": [
    {
     "name": "stdout",
     "output_type": "stream",
     "text": [
      "Enter a moive name -->iron man\n"
     ]
    }
   ],
   "source": [
    "movie=input(\"Enter a moive name -->\")"
   ]
  },
  {
   "cell_type": "code",
   "execution_count": 3,
   "metadata": {
    "ExecuteTime": {
     "end_time": "2021-07-04T08:53:06.352314Z",
     "start_time": "2021-07-04T08:53:06.334314Z"
    }
   },
   "outputs": [],
   "source": [
    "key = \"GPKgGPFe5xHMiT3h8kQgZVrEC8MGQ8xs\""
   ]
  },
  {
   "cell_type": "code",
   "execution_count": 12,
   "metadata": {
    "ExecuteTime": {
     "end_time": "2021-07-04T08:54:10.722466Z",
     "start_time": "2021-07-04T08:54:10.716464Z"
    }
   },
   "outputs": [],
   "source": [
    "url = f\"https://api.nytimes.com/svc/movies/v2/reviews/search.json?query={movie}&api-key={key}\""
   ]
  },
  {
   "cell_type": "code",
   "execution_count": 13,
   "metadata": {
    "ExecuteTime": {
     "end_time": "2021-07-04T08:54:11.440812Z",
     "start_time": "2021-07-04T08:54:11.428816Z"
    }
   },
   "outputs": [
    {
     "data": {
      "text/plain": [
       "'https://api.nytimes.com/svc/movies/v2/reviews/search.json?query=iron man&api-key=GPKgGPFe5xHMiT3h8kQgZVrEC8MGQ8xs'"
      ]
     },
     "execution_count": 13,
     "metadata": {},
     "output_type": "execute_result"
    }
   ],
   "source": [
    "url"
   ]
  },
  {
   "cell_type": "code",
   "execution_count": 14,
   "metadata": {
    "ExecuteTime": {
     "end_time": "2021-07-04T08:54:13.885101Z",
     "start_time": "2021-07-04T08:54:12.260362Z"
    }
   },
   "outputs": [],
   "source": [
    "data = requests.get(url)"
   ]
  },
  {
   "cell_type": "code",
   "execution_count": 15,
   "metadata": {
    "ExecuteTime": {
     "end_time": "2021-07-04T08:54:13.933087Z",
     "start_time": "2021-07-04T08:54:13.924089Z"
    }
   },
   "outputs": [
    {
     "data": {
      "text/plain": [
       "200"
      ]
     },
     "execution_count": 15,
     "metadata": {},
     "output_type": "execute_result"
    }
   ],
   "source": [
    "data.status_code"
   ]
  },
  {
   "cell_type": "code",
   "execution_count": 16,
   "metadata": {
    "ExecuteTime": {
     "end_time": "2021-07-04T08:54:33.057577Z",
     "start_time": "2021-07-04T08:54:33.037579Z"
    }
   },
   "outputs": [
    {
     "data": {
      "text/plain": [
       "{'status': 'OK',\n",
       " 'copyright': 'Copyright (c) 2021 The New York Times Company. All Rights Reserved.',\n",
       " 'has_more': False,\n",
       " 'num_results': 4,\n",
       " 'results': [{'display_title': 'Iron Man 3',\n",
       "   'mpaa_rating': 'PG-13',\n",
       "   'critics_pick': 0,\n",
       "   'byline': 'MANOHLA DARGIS',\n",
       "   'headline': 'Bang, Boom: Terrorism as a Game',\n",
       "   'summary_short': '“Iron Man 3,” with all its explosions so soon after the Boston Marathon bombings, underscores just how thoroughly terrorism and its aftermath have been colonized by the movies.',\n",
       "   'publication_date': '2013-05-02',\n",
       "   'opening_date': '2013-05-03',\n",
       "   'date_updated': '2017-11-02 04:18:16',\n",
       "   'link': {'type': 'article',\n",
       "    'url': 'https://www.nytimes.com/2013/05/03/movies/iron-man-3-with-robert-downey-jr.html',\n",
       "    'suggested_link_text': 'Read the New York Times Review of Iron Man 3'},\n",
       "   'multimedia': None},\n",
       "  {'display_title': 'Iron Man 2',\n",
       "   'mpaa_rating': 'PG-13',\n",
       "   'critics_pick': 0,\n",
       "   'byline': 'A. O. SCOTT',\n",
       "   'headline': 'The Man in the Iron Irony',\n",
       "   'summary_short': 'The superhero sequel “Iron Man 2” has been turned over to its game and gifted cast: Robert Downey Jr., Gwyneth Paltrow, Mickey Rourke, Scarlett Johansson and Samuel L. Jackson.',\n",
       "   'publication_date': '2010-05-06',\n",
       "   'opening_date': '2010-05-07',\n",
       "   'date_updated': '2017-11-02 04:18:11',\n",
       "   'link': {'type': 'article',\n",
       "    'url': 'https://www.nytimes.com/2010/05/07/movies/07iron.html',\n",
       "    'suggested_link_text': 'Read the New York Times Review of Iron Man 2'},\n",
       "   'multimedia': None},\n",
       "  {'display_title': 'Iron Man',\n",
       "   'mpaa_rating': 'PG-13',\n",
       "   'critics_pick': 0,\n",
       "   'byline': 'A. O. SCOTT',\n",
       "   'headline': 'Heavy Suit, Light Touches',\n",
       "   'summary_short': '“Iron Man” is an unusually good superhero picture. Or at least — since it certainly has its problems — a superhero movie that’s good in unusual ways.',\n",
       "   'publication_date': '2008-05-02',\n",
       "   'opening_date': '2008-05-02',\n",
       "   'date_updated': '2017-11-02 04:18:07',\n",
       "   'link': {'type': 'article',\n",
       "    'url': 'https://www.nytimes.com/2008/05/02/movies/02iron.html',\n",
       "    'suggested_link_text': 'Read the New York Times Review of Iron Man'},\n",
       "   'multimedia': None},\n",
       "  {'display_title': 'Tetsuo: The Iron Man',\n",
       "   'mpaa_rating': 'Not Rated',\n",
       "   'critics_pick': 0,\n",
       "   'byline': 'STEPHEN HOLDEN',\n",
       "   'headline': 'TETSUO: THE IRON MAN (MOVIE)',\n",
       "   'summary_short': '',\n",
       "   'publication_date': '1992-04-22',\n",
       "   'opening_date': None,\n",
       "   'date_updated': '2017-11-02 04:16:09',\n",
       "   'link': {'type': 'article',\n",
       "    'url': 'https://www.nytimes.com/1992/04/22/movies/review-film-forgoing-the-flesh-for-metallic-pleasures.html',\n",
       "    'suggested_link_text': 'Read the New York Times Review of Tetsuo: The Iron Man'},\n",
       "   'multimedia': None}]}"
      ]
     },
     "execution_count": 16,
     "metadata": {},
     "output_type": "execute_result"
    }
   ],
   "source": [
    "data.json()"
   ]
  },
  {
   "cell_type": "code",
   "execution_count": 17,
   "metadata": {
    "ExecuteTime": {
     "end_time": "2021-07-04T08:54:40.633365Z",
     "start_time": "2021-07-04T08:54:40.620349Z"
    }
   },
   "outputs": [],
   "source": [
    "data=data.json()"
   ]
  },
  {
   "cell_type": "code",
   "execution_count": 18,
   "metadata": {
    "ExecuteTime": {
     "end_time": "2021-07-04T08:54:56.066835Z",
     "start_time": "2021-07-04T08:54:56.044816Z"
    }
   },
   "outputs": [
    {
     "data": {
      "text/plain": [
       "dict_keys(['status', 'copyright', 'has_more', 'num_results', 'results'])"
      ]
     },
     "execution_count": 18,
     "metadata": {},
     "output_type": "execute_result"
    }
   ],
   "source": [
    "data.keys()"
   ]
  },
  {
   "cell_type": "code",
   "execution_count": 19,
   "metadata": {
    "ExecuteTime": {
     "end_time": "2021-07-04T08:55:53.872381Z",
     "start_time": "2021-07-04T08:55:53.853383Z"
    }
   },
   "outputs": [
    {
     "data": {
      "text/plain": [
       "'“Iron Man” is an unusually good superhero picture. Or at least — since it certainly has its problems — a superhero movie that’s good in unusual ways.'"
      ]
     },
     "execution_count": 19,
     "metadata": {},
     "output_type": "execute_result"
    }
   ],
   "source": [
    "data['results'][2]['summary_short']"
   ]
  },
  {
   "cell_type": "code",
   "execution_count": 20,
   "metadata": {
    "ExecuteTime": {
     "end_time": "2021-07-04T08:56:13.127703Z",
     "start_time": "2021-07-04T08:56:13.118704Z"
    }
   },
   "outputs": [
    {
     "name": "stdout",
     "output_type": "stream",
     "text": [
      "Iron Man 3 \n",
      "“Iron Man 3,” with all its explosions so soon after the Boston Marathon bombings, underscores just how thoroughly terrorism and its aftermath have been colonized by the movies. \n",
      "\n",
      "Iron Man 2 \n",
      "The superhero sequel “Iron Man 2” has been turned over to its game and gifted cast: Robert Downey Jr., Gwyneth Paltrow, Mickey Rourke, Scarlett Johansson and Samuel L. Jackson. \n",
      "\n",
      "Iron Man \n",
      "“Iron Man” is an unusually good superhero picture. Or at least — since it certainly has its problems — a superhero movie that’s good in unusual ways. \n",
      "\n"
     ]
    }
   ],
   "source": [
    "for var in range(3):\n",
    "    print(data['results'][var]['display_title'],\"\")\n",
    "    print(data['results'][var]['summary_short'],\"\\n\")    "
   ]
  },
  {
   "cell_type": "code",
   "execution_count": null,
   "metadata": {},
   "outputs": [],
   "source": []
  }
 ],
 "metadata": {
  "hide_input": false,
  "kernelspec": {
   "display_name": "Python 3",
   "language": "python",
   "name": "python3"
  },
  "language_info": {
   "codemirror_mode": {
    "name": "ipython",
    "version": 3
   },
   "file_extension": ".py",
   "mimetype": "text/x-python",
   "name": "python",
   "nbconvert_exporter": "python",
   "pygments_lexer": "ipython3",
   "version": "3.8.5"
  },
  "toc": {
   "base_numbering": 1,
   "nav_menu": {},
   "number_sections": true,
   "sideBar": true,
   "skip_h1_title": false,
   "title_cell": "Table of Contents",
   "title_sidebar": "Contents",
   "toc_cell": false,
   "toc_position": {},
   "toc_section_display": true,
   "toc_window_display": false
  },
  "varInspector": {
   "cols": {
    "lenName": 16,
    "lenType": 16,
    "lenVar": 40
   },
   "kernels_config": {
    "python": {
     "delete_cmd_postfix": "",
     "delete_cmd_prefix": "del ",
     "library": "var_list.py",
     "varRefreshCmd": "print(var_dic_list())"
    },
    "r": {
     "delete_cmd_postfix": ") ",
     "delete_cmd_prefix": "rm(",
     "library": "var_list.r",
     "varRefreshCmd": "cat(var_dic_list()) "
    }
   },
   "types_to_exclude": [
    "module",
    "function",
    "builtin_function_or_method",
    "instance",
    "_Feature"
   ],
   "window_display": false
  }
 },
 "nbformat": 4,
 "nbformat_minor": 4
}
