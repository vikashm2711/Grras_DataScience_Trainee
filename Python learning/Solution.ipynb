{
 "cells": [
  {
   "cell_type": "code",
   "execution_count": 93,
   "metadata": {
    "ExecuteTime": {
     "end_time": "2021-08-09T03:36:49.260573Z",
     "start_time": "2021-08-09T03:36:49.236579Z"
    }
   },
   "outputs": [
    {
     "data": {
      "text/plain": [
       "array([ 4,  1, 10,  8, 19, 16,  5, 16, 14, 11,  8,  7, 16,  6,  9])"
      ]
     },
     "execution_count": 93,
     "metadata": {},
     "output_type": "execute_result"
    }
   ],
   "source": [
    "import numpy as np\n",
    "import math\n",
    "np.random.randint(1, 20, 15)"
   ]
  },
  {
   "cell_type": "code",
   "execution_count": 2,
   "metadata": {
    "ExecuteTime": {
     "end_time": "2021-08-09T01:09:17.913855Z",
     "start_time": "2021-08-09T01:09:17.891713Z"
    }
   },
   "outputs": [],
   "source": [
    "n = 30\n",
    "k = 5"
   ]
  },
  {
   "cell_type": "code",
   "execution_count": 3,
   "metadata": {
    "ExecuteTime": {
     "end_time": "2021-08-09T01:09:17.947589Z",
     "start_time": "2021-08-09T01:09:17.913855Z"
    }
   },
   "outputs": [],
   "source": [
    "#### 1. Create a python program which will create class intervals using exclusive method and create frequency distribution table"
   ]
  },
  {
   "cell_type": "code",
   "execution_count": 4,
   "metadata": {
    "ExecuteTime": {
     "end_time": "2021-08-09T01:09:17.973469Z",
     "start_time": "2021-08-09T01:09:17.949611Z"
    }
   },
   "outputs": [],
   "source": []
  },
  {
   "cell_type": "code",
   "execution_count": 5,
   "metadata": {
    "ExecuteTime": {
     "end_time": "2021-08-09T01:09:18.013707Z",
     "start_time": "2021-08-09T01:09:17.973469Z"
    }
   },
   "outputs": [
    {
     "name": "stdout",
     "output_type": "stream",
     "text": [
      "No of intervals:  8\n",
      "Width of intervals:  6\n"
     ]
    }
   ],
   "source": [
    "print(\"No of intervals: \", k)\n",
    "print(\"Width of intervals: \", size)"
   ]
  },
  {
   "cell_type": "code",
   "execution_count": 6,
   "metadata": {
    "ExecuteTime": {
     "end_time": "2021-08-09T01:09:18.060599Z",
     "start_time": "2021-08-09T01:09:18.013707Z"
    }
   },
   "outputs": [],
   "source": [
    "k = range (0,100,8)"
   ]
  },
  {
   "cell_type": "code",
   "execution_count": 7,
   "metadata": {
    "ExecuteTime": {
     "end_time": "2021-08-09T01:09:18.097554Z",
     "start_time": "2021-08-09T01:09:18.060599Z"
    }
   },
   "outputs": [],
   "source": [
    "ravalues=[]\n",
    "for i in range(0,100,8):\n",
    "    ravalues.append(i)"
   ]
  },
  {
   "cell_type": "code",
   "execution_count": 8,
   "metadata": {
    "ExecuteTime": {
     "end_time": "2021-08-09T01:09:18.148434Z",
     "start_time": "2021-08-09T01:09:18.102623Z"
    }
   },
   "outputs": [
    {
     "data": {
      "text/plain": [
       "[0, 8, 16, 24, 32, 40, 48, 56, 64, 72, 80, 88, 96]"
      ]
     },
     "execution_count": 8,
     "metadata": {},
     "output_type": "execute_result"
    }
   ],
   "source": [
    "ravalues"
   ]
  },
  {
   "cell_type": "code",
   "execution_count": 9,
   "metadata": {
    "ExecuteTime": {
     "end_time": "2021-08-09T01:09:18.179683Z",
     "start_time": "2021-08-09T01:09:18.148434Z"
    }
   },
   "outputs": [
    {
     "name": "stdout",
     "output_type": "stream",
     "text": [
      "0-8\n",
      "8-16\n",
      "16-24\n",
      "24-32\n",
      "32-40\n",
      "40-48\n",
      "48-56\n",
      "56-64\n",
      "64-72\n",
      "72-80\n",
      "80-88\n",
      "88-96\n"
     ]
    }
   ],
   "source": [
    "for i in range(0,len(ravalues)-1):\n",
    "    print(f\"{ravalues[i]}-{ravalues[i+1]}\")"
   ]
  },
  {
   "cell_type": "code",
   "execution_count": 10,
   "metadata": {
    "ExecuteTime": {
     "end_time": "2021-08-09T01:09:18.224610Z",
     "start_time": "2021-08-09T01:09:18.179683Z"
    }
   },
   "outputs": [
    {
     "name": "stdout",
     "output_type": "stream",
     "text": [
      "0\n",
      "1\n",
      "2\n",
      "3\n",
      "4\n",
      "5\n",
      "6\n",
      "7\n",
      "8\n",
      "9\n",
      "10\n",
      "11\n"
     ]
    }
   ],
   "source": [
    "for i in range(0,len(ravalues)-1):\n",
    "    print(i)"
   ]
  },
  {
   "cell_type": "code",
   "execution_count": 11,
   "metadata": {
    "ExecuteTime": {
     "end_time": "2021-08-09T01:09:18.271479Z",
     "start_time": "2021-08-09T01:09:18.224610Z"
    }
   },
   "outputs": [
    {
     "name": "stdout",
     "output_type": "stream",
     "text": [
      "[0, 8, 16, 24, 32, 40, 48, 56, 64, 72, 80, 88, 96]\n",
      "[0, 8, 16, 24, 32, 40, 48, 56, 64, 72, 80, 88, 96]\n",
      "[0, 8, 16, 24, 32, 40, 48, 56, 64, 72, 80, 88, 96]\n",
      "[0, 8, 16, 24, 32, 40, 48, 56, 64, 72, 80, 88, 96]\n",
      "[0, 8, 16, 24, 32, 40, 48, 56, 64, 72, 80, 88, 96]\n",
      "[0, 8, 16, 24, 32, 40, 48, 56, 64, 72, 80, 88, 96]\n",
      "[0, 8, 16, 24, 32, 40, 48, 56, 64, 72, 80, 88, 96]\n",
      "[0, 8, 16, 24, 32, 40, 48, 56, 64, 72, 80, 88, 96]\n",
      "[0, 8, 16, 24, 32, 40, 48, 56, 64, 72, 80, 88, 96]\n",
      "[0, 8, 16, 24, 32, 40, 48, 56, 64, 72, 80, 88, 96]\n",
      "[0, 8, 16, 24, 32, 40, 48, 56, 64, 72, 80, 88, 96]\n",
      "[0, 8, 16, 24, 32, 40, 48, 56, 64, 72, 80, 88, 96]\n"
     ]
    }
   ],
   "source": [
    "a=0\n",
    "res=[]\n",
    "for i in range(0,len(ravalues)-1):\n",
    "    print(ravalues)"
   ]
  },
  {
   "cell_type": "code",
   "execution_count": 12,
   "metadata": {
    "ExecuteTime": {
     "end_time": "2021-08-09T01:09:18.314162Z",
     "start_time": "2021-08-09T01:09:18.271479Z"
    }
   },
   "outputs": [
    {
     "name": "stdout",
     "output_type": "stream",
     "text": [
      "0\n",
      "1\n",
      "2\n",
      "3\n",
      "4\n",
      "5\n",
      "6\n",
      "7\n",
      "8\n",
      "9\n",
      "10\n",
      "11\n"
     ]
    }
   ],
   "source": [
    "for j in range(0,len(ravalues)-1):\n",
    "    for i in range(ravalues[j],ravalues[j]+1):\n",
    "        print(j)"
   ]
  },
  {
   "cell_type": "code",
   "execution_count": 13,
   "metadata": {
    "ExecuteTime": {
     "end_time": "2021-08-09T01:09:18.357626Z",
     "start_time": "2021-08-09T01:09:18.317196Z"
    }
   },
   "outputs": [
    {
     "name": "stdout",
     "output_type": "stream",
     "text": [
      "0\n",
      "1\n",
      "2\n",
      "3\n",
      "4\n",
      "5\n",
      "6\n",
      "7\n",
      "8\n",
      "9\n",
      "10\n",
      "11\n"
     ]
    }
   ],
   "source": [
    "for j in range(0,len(ravalues)-1):\n",
    "    print(j)"
   ]
  },
  {
   "cell_type": "code",
   "execution_count": 14,
   "metadata": {
    "ExecuteTime": {
     "end_time": "2021-08-09T01:09:18.388877Z",
     "start_time": "2021-08-09T01:09:18.357626Z"
    }
   },
   "outputs": [
    {
     "name": "stdout",
     "output_type": "stream",
     "text": [
      "0\n",
      "1\n",
      "2\n",
      "3\n",
      "4\n",
      "5\n",
      "6\n",
      "7\n",
      "8\n"
     ]
    }
   ],
   "source": [
    "res={}\n",
    "for i in range(ravalues[0],ravalues[1]+1):\n",
    "    print(i)"
   ]
  },
  {
   "cell_type": "code",
   "execution_count": 23,
   "metadata": {
    "ExecuteTime": {
     "end_time": "2021-08-09T01:26:03.404196Z",
     "start_time": "2021-08-09T01:26:03.394179Z"
    },
    "run_control": {
     "marked": true
    }
   },
   "outputs": [],
   "source": [
    "arr.sort()\n",
    "l1=list(arr)"
   ]
  },
  {
   "cell_type": "code",
   "execution_count": 29,
   "metadata": {
    "ExecuteTime": {
     "end_time": "2021-08-09T02:42:56.502818Z",
     "start_time": "2021-08-09T02:42:56.487819Z"
    }
   },
   "outputs": [
    {
     "name": "stdout",
     "output_type": "stream",
     "text": [
      "0-8  : 11\n",
      "8-16  : 20\n",
      "16-24  : 24\n",
      "24-32  : 19\n",
      "32-40  : 20\n",
      "40-48  : 16\n",
      "48-56  : 4\n",
      "56-64  : 0\n",
      "64-72  : 0\n",
      "72-80  : 0\n",
      "80-88  : 0\n",
      "88-96  : 0\n"
     ]
    }
   ],
   "source": [
    "# freq={}\n",
    "# for item in l1:\n",
    "#     if (item in freq):\n",
    "#         freq[item] +=1\n",
    "#     else:\n",
    "#         freq[item] =1\n",
    "# for item,value in freq.items():\n",
    "#     print(f\"{item}  :  {value}\")\n",
    "\n",
    "# new_dict = dict() \n",
    "# for k, v in freq: \n",
    "#    new_dict.update({k:sum(v)})  \n"
   ]
  },
  {
   "cell_type": "code",
   "execution_count": 123,
   "metadata": {
    "ExecuteTime": {
     "end_time": "2021-08-09T03:47:50.671662Z",
     "start_time": "2021-08-09T03:47:50.656663Z"
    }
   },
   "outputs": [
    {
     "name": "stdout",
     "output_type": "stream",
     "text": [
      "[32 32 32 33 33 33 34 36 38 38 38 39 39 39 40 40 40 41 42 42 43 43 44 44\n",
      " 44 44 45 46 48 50 50 50 53 55 56 56 56 57 57 58 59 59 59 60 61 61 61 61\n",
      " 63 63]\n",
      "Maximum : 63\n",
      "Minimum : 32\n",
      "Range   : 31\n",
      "Width of intervals:  5\n",
      "No of intervals:  7\n"
     ]
    }
   ],
   "source": [
    "def counter(li, min, max):\n",
    "\tctr = 0\n",
    "\tfor x in li:\n",
    "\t\tif min <= x < max:\n",
    "\t\t\tctr += 1\n",
    "\treturn ctr\n",
    "\n",
    "N = 50\n",
    "arr = np.random.randint(32, 64, N)\n",
    "k = round(1 + (3.322 * np.log10(N)))\n",
    "range_ = max(arr) - min(arr)\n",
    "size = math.ceil(range_ / k)\n",
    "\n",
    "arr.sort()\n",
    "print(arr)\n",
    "print(\"Maximum :\",max(arr))\n",
    "print(\"Minimum :\",min(arr))\n",
    "print(\"Range   :\",range_)\n",
    "print(\"Width of intervals: \", size)\n",
    "print(\"No of intervals: \", k)\n"
   ]
  },
  {
   "cell_type": "code",
   "execution_count": 127,
   "metadata": {
    "ExecuteTime": {
     "end_time": "2021-08-09T03:50:08.789398Z",
     "start_time": "2021-08-09T03:50:08.764400Z"
    }
   },
   "outputs": [
    {
     "name": "stdout",
     "output_type": "stream",
     "text": [
      "Class Intervals : Frequency\n",
      "32-39  : 11\n",
      "39-46  : 16\n",
      "46-53  : 5\n",
      "53-60  : 11\n",
      "60-67  : 7\n"
     ]
    }
   ],
   "source": [
    "###Inclusive Method\n",
    "ravalues=[]\n",
    "for i in range(min(arr),max(arr)+k,k):\n",
    "    ravalues.append(i)\n",
    "\n",
    "list1=[]\n",
    "print(\"Class Intervals : Frequency\")\n",
    "for i in range(0,len(ravalues)-1):\n",
    "    count_=counter(arr, ravalues[i], ravalues[i+1])\n",
    "    list1.append(count_)\n",
    "    print(f\"{ravalues[i]}-{ravalues[i+1]}  : {count_}\")\n"
   ]
  },
  {
   "cell_type": "code",
   "execution_count": 263,
   "metadata": {
    "ExecuteTime": {
     "end_time": "2021-08-09T05:09:43.229231Z",
     "start_time": "2021-08-09T05:09:43.204249Z"
    }
   },
   "outputs": [
    {
     "name": "stdout",
     "output_type": "stream",
     "text": [
      "| Intervals | Frequency  | \n",
      "32-39  : 11\n",
      "39-46  : 16\n",
      "46-53  : 5\n",
      "53-60  : 11\n",
      "60-67  : 7\n"
     ]
    }
   ],
   "source": [
    "##Exclusive Method\n",
    "\n",
    "ravalues=[]\n",
    "for i in range(min(arr),max(arr)+k,k):\n",
    "    ravalues.append(i)\n",
    "\n",
    "list1=[]\n",
    "print(\"| Intervals | Frequency  | \")\n",
    "i=0\n",
    "for i in range(0,len(ravalues)-1):\n",
    "    \n",
    "    count_=counter(arr, ravalues[i], ravalues[i+1])\n",
    "    \n",
    "    list1.append(count_)\n",
    "    print(f\"{ravalues[i]}-{ravalues[i+1]}  : {count_}\")"
   ]
  },
  {
   "cell_type": "code",
   "execution_count": 262,
   "metadata": {
    "ExecuteTime": {
     "end_time": "2021-08-09T05:09:16.768172Z",
     "start_time": "2021-08-09T05:09:16.748174Z"
    }
   },
   "outputs": [
    {
     "name": "stdout",
     "output_type": "stream",
     "text": [
      "[32, 39, 46, 53, 60, 67]\n",
      "[33, 40, 47, 54, 61]\n",
      "   32-39   |     11     \n",
      "   40-46   |     13     \n",
      "   47-53   |     4      \n",
      "   54-60   |     10     \n",
      "   61-67   |     6      \n"
     ]
    }
   ],
   "source": [
    "ravalues=[]\n",
    "ravalues2=[]\n",
    "list1=[]\n",
    "for i in range(min(arr),max(arr)+k,k):\n",
    "    ravalues.append(i)\n",
    "for i in range(min(arr)+1,max(arr),k):\n",
    "    ravalues2.append(i)\n",
    "print(ravalues)\n",
    "print(ravalues2)\n",
    "for i in range(0,len(ravalues)-1):\n",
    "    if i ==0:\n",
    "        count_=counter(arr, ravalues[i], ravalues[i+1])\n",
    "        list1.append(count_)\n",
    "        print(f\"{ravalues[i]:>5}-{ravalues[i+1]:<4} | {count_:^10} \")\n",
    "    else:\n",
    "        count_=counter(arr, ravalues2[i], ravalues[i+1])\n",
    "        list1.append(count_)\n",
    "        print(f\"{ravalues2[i]:>5}-{ravalues[i+1]:<4} | {count_:^10} \")"
   ]
  },
  {
   "cell_type": "code",
   "execution_count": 227,
   "metadata": {
    "ExecuteTime": {
     "end_time": "2021-08-09T04:46:21.033481Z",
     "start_time": "2021-08-09T04:46:21.003497Z"
    }
   },
   "outputs": [
    {
     "name": "stdout",
     "output_type": "stream",
     "text": [
      "-----------------------------------------------------\n",
      "| Intervals | Frequency  |   Fper  |   LCF   |   HCF  |\n",
      "-----------------------------------------------------\n",
      "|   32-39   |     11     |   22    |   11    |   52   |\n",
      "|   39-46   |     16     |   32    |   27    |   36   |\n",
      "|   46-53   |     5      |   10    |   32    |   31   |\n",
      "|   53-60   |     11     |   22    |   43    |   20   |\n",
      "|   60-67   |     7      |   14    |   50    |   13   |\n",
      "-----------------------------------------------------\n",
      "|   Total   |     50     |   100   |\n",
      "-----------------------------------------------------\n"
     ]
    }
   ],
   "source": [
    "###3rd Question\n",
    "ravalues = []\n",
    "for i in range(min(arr), max(arr) + k, k):\n",
    "    ravalues.append(i)\n",
    "\n",
    "list1 = []\n",
    "fper1 = []\n",
    "lcf1 = []\n",
    "hcf1 = []\n",
    "lcf = 0\n",
    "hcf = max(arr)\n",
    "print(\"-\"*53)\n",
    "print(\"| Intervals | Frequency  |   Fper  |   LCF   |   HCF  |\")\n",
    "print(\"-\"*53)\n",
    "for i in range(0, len(ravalues) - 1):\n",
    "    count_ = counter(arr, ravalues[i], ravalues[i + 1])\n",
    "    fper = int(round(count_ / N * 100, 2))\n",
    "    list1.append(count_)\n",
    "    fper1.append(fper)\n",
    "    lcf += count_\n",
    "    hcf -= count_\n",
    "    lcf1.append(lcf)\n",
    "    hcf1.append(hcf)\n",
    "    print(\n",
    "        f\"|{ravalues[i]:>5}-{ravalues[i+1]:<4} | {count_:^10} | {fper:^7} | {lcf:^7} | {hcf:^7}|\"\n",
    "    )\n",
    "print(\"-\"*53)\n",
    "print(f\"|   Total   | {N:^10} | {sum(fper1):^7} |\")\n",
    "print(\"-\"*53)"
   ]
  },
  {
   "cell_type": "code",
   "execution_count": 146,
   "metadata": {
    "ExecuteTime": {
     "end_time": "2021-08-09T04:04:24.186521Z",
     "start_time": "2021-08-09T04:04:24.166542Z"
    }
   },
   "outputs": [
    {
     "name": "stdout",
     "output_type": "stream",
     "text": [
      "11\n",
      "27\n",
      "32\n",
      "43\n",
      "50\n",
      "[11, 16, 5, 11, 7]\n",
      "[11, 27, 32, 43, 50]\n"
     ]
    }
   ],
   "source": [
    "list1=[]\n",
    "lcf1=[]\n",
    "lcf=0\n",
    "for i in range(0,len(ravalues)-1):\n",
    "    count_=counter(arr, ravalues[i], ravalues[i+1])\n",
    "    list1.append(count_)\n",
    "    lcf += count_\n",
    "    print(lcf)\n",
    "    lcf1.append(lcf)\n",
    "    \n",
    "print(list1)\n",
    "print(lcf)"
   ]
  },
  {
   "cell_type": "code",
   "execution_count": 67,
   "metadata": {
    "ExecuteTime": {
     "end_time": "2021-08-09T03:02:22.218222Z",
     "start_time": "2021-08-09T03:02:22.198202Z"
    }
   },
   "outputs": [
    {
     "name": "stdout",
     "output_type": "stream",
     "text": [
      "\n",
      "0 - 6 14\n",
      "\n",
      "6 - 12 7\n",
      "\n",
      "12 - 18 13\n",
      "\n",
      "18 - 24 12\n",
      "\n",
      "24 - 30 17\n",
      "\n",
      "30 - 36 15\n",
      "\n",
      "36 - 42 15\n",
      "\n",
      "42 - 48 14\n"
     ]
    }
   ],
   "source": [
    "list1=[]\n",
    "for i in range(0,len(ravalues)-1):\n",
    "    print()\n",
    "    print(ravalues[i],'-',ravalues[i+1],counter(arr, ravalues[i], ravalues[i+1]))\n",
    "    k=counter(arr, ravalues[i], ravalues[i+1])\n",
    "    list1.append(k)"
   ]
  },
  {
   "cell_type": "code",
   "execution_count": 151,
   "metadata": {
    "ExecuteTime": {
     "end_time": "2021-08-09T04:12:13.433090Z",
     "start_time": "2021-08-09T04:12:13.413087Z"
    }
   },
   "outputs": [
    {
     "name": "stdout",
     "output_type": "stream",
     "text": [
      "        MyString        \n"
     ]
    }
   ],
   "source": [
    "print('{:^24s}'.format(\"MyString\"))"
   ]
  },
  {
   "cell_type": "code",
   "execution_count": 163,
   "metadata": {
    "ExecuteTime": {
     "end_time": "2021-08-09T04:22:34.983222Z",
     "start_time": "2021-08-09T04:22:34.973223Z"
    }
   },
   "outputs": [
    {
     "name": "stdout",
     "output_type": "stream",
     "text": [
      "Class Intervals : Frequency : Fper%  : LCF  : HCF\n",
      " 32   39              7         \n",
      " 39   46              7         \n",
      " 46   53              7         \n",
      " 53   60              7         \n",
      " 60   67              7         \n"
     ]
    }
   ],
   "source": [
    "print(\"Class Intervals : Frequency : Fper%  : LCF  : HCF\")\n",
    "for i in range(0,len(ravalues)-1):\n",
    "    print(\"{:^5} {:<15} {:<10}\".format((ravalues[i]),(ravalues[i+1]), (count_),(fper) , (lcf) , (hcf)))\n",
    "# print (.format( name, age, perc))\n",
    "# print(f\"Total  : {N}  :  {sum(fper1)} :{N}: {N}\")\n",
    "# print(\"{:<8} {:<15} {:<10}\".format({ravalues[i]}-{ravalues[i+1]}  : {count_}  :{fper} : {lcf} : {hcf})\")\n"
   ]
  },
  {
   "cell_type": "code",
   "execution_count": 88,
   "metadata": {
    "ExecuteTime": {
     "end_time": "2021-08-09T03:10:34.625995Z",
     "start_time": "2021-08-09T03:10:34.605999Z"
    }
   },
   "outputs": [
    {
     "name": "stdout",
     "output_type": "stream",
     "text": [
      "[0, 8, 16, 24, 32, 40, 48]\n"
     ]
    }
   ],
   "source": [
    "x=[]\n",
    "for i in range(0,max(arr)+1,k):\n",
    "    x.append(i)\n",
    "print(x)"
   ]
  },
  {
   "cell_type": "code",
   "execution_count": 86,
   "metadata": {
    "ExecuteTime": {
     "end_time": "2021-08-09T03:09:57.721940Z",
     "start_time": "2021-08-09T03:09:57.701937Z"
    }
   },
   "outputs": [
    {
     "data": {
      "text/plain": [
       "49"
      ]
     },
     "execution_count": 86,
     "metadata": {},
     "output_type": "execute_result"
    }
   ],
   "source": [
    "max(arr)"
   ]
  },
  {
   "cell_type": "code",
   "execution_count": 225,
   "metadata": {
    "ExecuteTime": {
     "end_time": "2021-08-09T04:44:38.453536Z",
     "start_time": "2021-08-09T04:44:38.443540Z"
    }
   },
   "outputs": [
    {
     "data": {
      "text/plain": [
       "26"
      ]
     },
     "execution_count": 225,
     "metadata": {},
     "output_type": "execute_result"
    }
   ],
   "source": [
    "len(\"| Intervals | Frequency  |\")"
   ]
  },
  {
   "cell_type": "code",
   "execution_count": 264,
   "metadata": {
    "ExecuteTime": {
     "end_time": "2021-08-09T05:51:31.047325Z",
     "start_time": "2021-08-09T05:51:31.017342Z"
    }
   },
   "outputs": [
    {
     "name": "stdout",
     "output_type": "stream",
     "text": [
      "c :  6.279434850863423\n",
      "   Class-Interval        Frequency          Less than CF      Greater than CF   \n",
      "\t1-7\t             13\t                13\t            100\n",
      "\t7-13\t             16\t                29\t             87\n",
      "\t13-19\t             11\t                40\t             71\n",
      "\t19-25\t             15\t                55\t             60\n",
      "\t25-31\t              7\t                62\t             45\n",
      "\t31-37\t             12\t                74\t             38\n",
      "\t37-43\t             15\t                89\t             26\n",
      "\t43-49\t             10\t                99\t             11\n"
     ]
    }
   ],
   "source": [
    "import numpy as np\n",
    "def exclusive(data,r,k,c):\n",
    "    st=min(data)\n",
    "    lcf=0\n",
    "    gcf=len(data)\n",
    "    for i in range(int(round(k))):\n",
    "        count=0\n",
    "        limit=st+int(round(c))\n",
    "        print(f\"\\t{int(st):}-{int(limit):}\",end=\"\\t\")\n",
    "        for j in data:\n",
    "            if j>=st and j<limit:\n",
    "                count+=1\n",
    "        print(f\"{count:>15}\",end=\"\\t\")\n",
    "        lcf+=count\n",
    "        print(f\"{lcf:>18}\",end=\"\\t\")\n",
    "        print(f\"{gcf:>15}\")\n",
    "        gcf-=count\n",
    "        st=limit\n",
    "data=np.random.randint(0,50,100)\n",
    "r=max(data)-min(data)\n",
    "k=1+(3.322*(np.log10(len(data))))\n",
    "c=r/k\n",
    "print(\"c : \",c)\n",
    "print(f\"{'Class-Interval':^20}{'Frequency':^20}{'Less than CF':^20}{'Greater than CF':^20}\")\n",
    "exclusive(data,r,k,c)"
   ]
  },
  {
   "cell_type": "code",
   "execution_count": null,
   "metadata": {},
   "outputs": [],
   "source": []
  }
 ],
 "metadata": {
  "kernelspec": {
   "display_name": "Python 3",
   "language": "python",
   "name": "python3"
  },
  "language_info": {
   "codemirror_mode": {
    "name": "ipython",
    "version": 3
   },
   "file_extension": ".py",
   "mimetype": "text/x-python",
   "name": "python",
   "nbconvert_exporter": "python",
   "pygments_lexer": "ipython3",
   "version": "3.8.5"
  }
 },
 "nbformat": 4,
 "nbformat_minor": 4
}
