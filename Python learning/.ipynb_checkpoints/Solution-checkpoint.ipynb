{
 "cells": [
  {
   "cell_type": "code",
   "execution_count": 1,
   "metadata": {
    "ExecuteTime": {
     "end_time": "2021-08-09T01:09:17.891713Z",
     "start_time": "2021-08-09T01:09:17.659939Z"
    }
   },
   "outputs": [
    {
     "data": {
      "text/plain": [
       "array([17, 18, 19, 17,  1, 10, 17, 10,  5,  1, 17,  3, 12,  2, 15])"
      ]
     },
     "execution_count": 1,
     "metadata": {},
     "output_type": "execute_result"
    }
   ],
   "source": [
    "import numpy as np\n",
    "np.random.randint(1, 20, 15)"
   ]
  },
  {
   "cell_type": "code",
   "execution_count": 2,
   "metadata": {
    "ExecuteTime": {
     "end_time": "2021-08-09T01:09:17.913855Z",
     "start_time": "2021-08-09T01:09:17.891713Z"
    }
   },
   "outputs": [],
   "source": [
    "n = 30\n",
    "k = 5"
   ]
  },
  {
   "cell_type": "code",
   "execution_count": 3,
   "metadata": {
    "ExecuteTime": {
     "end_time": "2021-08-09T01:09:17.947589Z",
     "start_time": "2021-08-09T01:09:17.913855Z"
    }
   },
   "outputs": [],
   "source": [
    "#### 1. Create a python program which will create class intervals using exclusive method and create frequency distribution table"
   ]
  },
  {
   "cell_type": "code",
   "execution_count": 4,
   "metadata": {
    "ExecuteTime": {
     "end_time": "2021-08-09T01:09:17.973469Z",
     "start_time": "2021-08-09T01:09:17.949611Z"
    }
   },
   "outputs": [],
   "source": []
  },
  {
   "cell_type": "code",
   "execution_count": 5,
   "metadata": {
    "ExecuteTime": {
     "end_time": "2021-08-09T01:09:18.013707Z",
     "start_time": "2021-08-09T01:09:17.973469Z"
    }
   },
   "outputs": [
    {
     "name": "stdout",
     "output_type": "stream",
     "text": [
      "No of intervals:  8\n",
      "Width of intervals:  6\n"
     ]
    }
   ],
   "source": [
    "print(\"No of intervals: \", k)\n",
    "print(\"Width of intervals: \", size)"
   ]
  },
  {
   "cell_type": "code",
   "execution_count": 6,
   "metadata": {
    "ExecuteTime": {
     "end_time": "2021-08-09T01:09:18.060599Z",
     "start_time": "2021-08-09T01:09:18.013707Z"
    }
   },
   "outputs": [],
   "source": [
    "k = range (0,100,8)"
   ]
  },
  {
   "cell_type": "code",
   "execution_count": 7,
   "metadata": {
    "ExecuteTime": {
     "end_time": "2021-08-09T01:09:18.097554Z",
     "start_time": "2021-08-09T01:09:18.060599Z"
    }
   },
   "outputs": [],
   "source": [
    "ravalues=[]\n",
    "for i in range(0,100,8):\n",
    "    ravalues.append(i)"
   ]
  },
  {
   "cell_type": "code",
   "execution_count": 8,
   "metadata": {
    "ExecuteTime": {
     "end_time": "2021-08-09T01:09:18.148434Z",
     "start_time": "2021-08-09T01:09:18.102623Z"
    }
   },
   "outputs": [
    {
     "data": {
      "text/plain": [
       "[0, 8, 16, 24, 32, 40, 48, 56, 64, 72, 80, 88, 96]"
      ]
     },
     "execution_count": 8,
     "metadata": {},
     "output_type": "execute_result"
    }
   ],
   "source": [
    "ravalues"
   ]
  },
  {
   "cell_type": "code",
   "execution_count": 9,
   "metadata": {
    "ExecuteTime": {
     "end_time": "2021-08-09T01:09:18.179683Z",
     "start_time": "2021-08-09T01:09:18.148434Z"
    }
   },
   "outputs": [
    {
     "name": "stdout",
     "output_type": "stream",
     "text": [
      "0-8\n",
      "8-16\n",
      "16-24\n",
      "24-32\n",
      "32-40\n",
      "40-48\n",
      "48-56\n",
      "56-64\n",
      "64-72\n",
      "72-80\n",
      "80-88\n",
      "88-96\n"
     ]
    }
   ],
   "source": [
    "for i in range(0,len(ravalues)-1):\n",
    "    print(f\"{ravalues[i]}-{ravalues[i+1]}\")"
   ]
  },
  {
   "cell_type": "code",
   "execution_count": 10,
   "metadata": {
    "ExecuteTime": {
     "end_time": "2021-08-09T01:09:18.224610Z",
     "start_time": "2021-08-09T01:09:18.179683Z"
    }
   },
   "outputs": [
    {
     "name": "stdout",
     "output_type": "stream",
     "text": [
      "0\n",
      "1\n",
      "2\n",
      "3\n",
      "4\n",
      "5\n",
      "6\n",
      "7\n",
      "8\n",
      "9\n",
      "10\n",
      "11\n"
     ]
    }
   ],
   "source": [
    "for i in range(0,len(ravalues)-1):\n",
    "    print(i)"
   ]
  },
  {
   "cell_type": "code",
   "execution_count": 11,
   "metadata": {
    "ExecuteTime": {
     "end_time": "2021-08-09T01:09:18.271479Z",
     "start_time": "2021-08-09T01:09:18.224610Z"
    }
   },
   "outputs": [
    {
     "name": "stdout",
     "output_type": "stream",
     "text": [
      "[0, 8, 16, 24, 32, 40, 48, 56, 64, 72, 80, 88, 96]\n",
      "[0, 8, 16, 24, 32, 40, 48, 56, 64, 72, 80, 88, 96]\n",
      "[0, 8, 16, 24, 32, 40, 48, 56, 64, 72, 80, 88, 96]\n",
      "[0, 8, 16, 24, 32, 40, 48, 56, 64, 72, 80, 88, 96]\n",
      "[0, 8, 16, 24, 32, 40, 48, 56, 64, 72, 80, 88, 96]\n",
      "[0, 8, 16, 24, 32, 40, 48, 56, 64, 72, 80, 88, 96]\n",
      "[0, 8, 16, 24, 32, 40, 48, 56, 64, 72, 80, 88, 96]\n",
      "[0, 8, 16, 24, 32, 40, 48, 56, 64, 72, 80, 88, 96]\n",
      "[0, 8, 16, 24, 32, 40, 48, 56, 64, 72, 80, 88, 96]\n",
      "[0, 8, 16, 24, 32, 40, 48, 56, 64, 72, 80, 88, 96]\n",
      "[0, 8, 16, 24, 32, 40, 48, 56, 64, 72, 80, 88, 96]\n",
      "[0, 8, 16, 24, 32, 40, 48, 56, 64, 72, 80, 88, 96]\n"
     ]
    }
   ],
   "source": [
    "a=0\n",
    "res=[]\n",
    "for i in range(0,len(ravalues)-1):\n",
    "    print(ravalues)"
   ]
  },
  {
   "cell_type": "code",
   "execution_count": 12,
   "metadata": {
    "ExecuteTime": {
     "end_time": "2021-08-09T01:09:18.314162Z",
     "start_time": "2021-08-09T01:09:18.271479Z"
    }
   },
   "outputs": [
    {
     "name": "stdout",
     "output_type": "stream",
     "text": [
      "0\n",
      "1\n",
      "2\n",
      "3\n",
      "4\n",
      "5\n",
      "6\n",
      "7\n",
      "8\n",
      "9\n",
      "10\n",
      "11\n"
     ]
    }
   ],
   "source": [
    "for j in range(0,len(ravalues)-1):\n",
    "    for i in range(ravalues[j],ravalues[j]+1):\n",
    "        print(j)"
   ]
  },
  {
   "cell_type": "code",
   "execution_count": 13,
   "metadata": {
    "ExecuteTime": {
     "end_time": "2021-08-09T01:09:18.357626Z",
     "start_time": "2021-08-09T01:09:18.317196Z"
    }
   },
   "outputs": [
    {
     "name": "stdout",
     "output_type": "stream",
     "text": [
      "0\n",
      "1\n",
      "2\n",
      "3\n",
      "4\n",
      "5\n",
      "6\n",
      "7\n",
      "8\n",
      "9\n",
      "10\n",
      "11\n"
     ]
    }
   ],
   "source": [
    "for j in range(0,len(ravalues)-1):\n",
    "    print(j)"
   ]
  },
  {
   "cell_type": "code",
   "execution_count": 14,
   "metadata": {
    "ExecuteTime": {
     "end_time": "2021-08-09T01:09:18.388877Z",
     "start_time": "2021-08-09T01:09:18.357626Z"
    }
   },
   "outputs": [
    {
     "name": "stdout",
     "output_type": "stream",
     "text": [
      "0\n",
      "1\n",
      "2\n",
      "3\n",
      "4\n",
      "5\n",
      "6\n",
      "7\n",
      "8\n"
     ]
    }
   ],
   "source": [
    "res={}\n",
    "for i in range(ravalues[0],ravalues[1]+1):\n",
    "    print(i)"
   ]
  },
  {
   "cell_type": "code",
   "execution_count": 23,
   "metadata": {
    "ExecuteTime": {
     "end_time": "2021-08-09T01:26:03.404196Z",
     "start_time": "2021-08-09T01:26:03.394179Z"
    },
    "run_control": {
     "marked": true
    }
   },
   "outputs": [],
   "source": [
    "arr.sort()\n",
    "l1=list(arr)"
   ]
  },
  {
   "cell_type": "code",
   "execution_count": 29,
   "metadata": {
    "ExecuteTime": {
     "end_time": "2021-08-09T02:42:56.502818Z",
     "start_time": "2021-08-09T02:42:56.487819Z"
    }
   },
   "outputs": [
    {
     "name": "stdout",
     "output_type": "stream",
     "text": [
      "0-8  : 11\n",
      "8-16  : 20\n",
      "16-24  : 24\n",
      "24-32  : 19\n",
      "32-40  : 20\n",
      "40-48  : 16\n",
      "48-56  : 4\n",
      "56-64  : 0\n",
      "64-72  : 0\n",
      "72-80  : 0\n",
      "80-88  : 0\n",
      "88-96  : 0\n"
     ]
    }
   ],
   "source": [
    "# freq={}\n",
    "# for item in l1:\n",
    "#     if (item in freq):\n",
    "#         freq[item] +=1\n",
    "#     else:\n",
    "#         freq[item] =1\n",
    "# for item,value in freq.items():\n",
    "#     print(f\"{item}  :  {value}\")\n",
    "\n",
    "# new_dict = dict() \n",
    "# for k, v in freq: \n",
    "#    new_dict.update({k:sum(v)})  \n"
   ]
  },
  {
   "cell_type": "code",
   "execution_count": 78,
   "metadata": {
    "ExecuteTime": {
     "end_time": "2021-08-09T03:06:17.284979Z",
     "start_time": "2021-08-09T03:06:17.259998Z"
    }
   },
   "outputs": [
    {
     "name": "stdout",
     "output_type": "stream",
     "text": [
      "Width of intervals:  6\n",
      "No of intervals:  8\n",
      "[ 1  1  1  1  2  3  3  3  4  4  5  5  5  5  5  5  6  6  7  7  8  9  9 10\n",
      " 10 11 11 11 12 12 12 13 13 13 14 14 15 16 17 17 17 18 18 19 19 19 20 20\n",
      " 22 23 24 24 25 26 26 26 26 28 28 28 29 29 29 29 30 30 30 31 33 33 33 34\n",
      " 34 34 35 36 37 37 37 37 38 38 38 39 39 40 40 41 42 43 44 44 44 46 47 48\n",
      " 48 49 49 49]\n",
      "49\n"
     ]
    }
   ],
   "source": [
    "N = 100\n",
    "arr = np.random.randint(1, 50, N)\n",
    "k = round(1 + (3.322 * np.log10(N)))\n",
    "range_ = max(arr) - min(arr)\n",
    "size = round(range_ / k)\n",
    "print(\"Width of intervals: \", size)\n",
    "print(\"No of intervals: \", k)\n",
    "arr.sort()\n",
    "print(arr)\n",
    "print(max(arr))"
   ]
  },
  {
   "cell_type": "code",
   "execution_count": 80,
   "metadata": {
    "ExecuteTime": {
     "end_time": "2021-08-09T03:07:05.528142Z",
     "start_time": "2021-08-09T03:07:05.518143Z"
    }
   },
   "outputs": [
    {
     "name": "stdout",
     "output_type": "stream",
     "text": [
      "[0, 8, 16, 24, 32, 40, 48]\n",
      "0-8\n",
      "8-16\n",
      "16-24\n",
      "24-32\n",
      "32-40\n",
      "40-48\n"
     ]
    }
   ],
   "source": [
    "def counter(li, min, max):\n",
    "\tctr = 0\n",
    "\tfor x in li:\n",
    "\t\tif min <= x <= max:\n",
    "\t\t\tctr += 1\n",
    "\treturn ctr\n",
    "\n",
    "ravalues=[]\n",
    "for i in range(0,max(arr)+1,k):\n",
    "    ravalues.append(i)\n",
    "print(ravalues)\n",
    "freq=[]\n",
    "for i in range(0,len(ravalues)-1):\n",
    "#     count_=counter(arr, ravalues[i], ravalues[i+1])\n",
    "#     freq.append(count_)\n",
    "#     print(f\"{ravalues[i]}-{ravalues[i+1]}  : {count_}\")\n",
    "    print(f\"{ravalues[i]}-{ravalues[i+1]}\")"
   ]
  },
  {
   "cell_type": "code",
   "execution_count": 60,
   "metadata": {
    "ExecuteTime": {
     "end_time": "2021-08-09T02:59:54.119364Z",
     "start_time": "2021-08-09T02:59:54.109384Z"
    }
   },
   "outputs": [
    {
     "data": {
      "text/plain": [
       "14"
      ]
     },
     "execution_count": 60,
     "metadata": {},
     "output_type": "execute_result"
    }
   ],
   "source": [
    "count_"
   ]
  },
  {
   "cell_type": "code",
   "execution_count": 47,
   "metadata": {
    "ExecuteTime": {
     "end_time": "2021-08-09T02:54:04.289533Z",
     "start_time": "2021-08-09T02:54:04.279534Z"
    }
   },
   "outputs": [
    {
     "data": {
      "text/plain": [
       "array([ 0,  0,  0,  0,  2,  2,  3,  3,  3,  4,  5,  7,  7,  8,  8,  8,  9,\n",
       "        9,  9,  9, 10, 10, 10, 11, 11, 12, 13, 13, 13, 14, 15, 15, 16, 16,\n",
       "       16, 16, 17, 17, 17, 17, 19, 19, 19, 20, 20, 20, 21, 21, 23, 23, 23,\n",
       "       24, 25, 25, 25, 25, 25, 26, 26, 27, 27, 28, 28, 29, 29, 29, 30, 30,\n",
       "       31, 32, 32, 33, 33, 34, 34, 35, 35, 35, 35, 36, 37, 37, 38, 39, 40,\n",
       "       42, 43, 44, 45, 45, 45, 46, 46, 47, 47, 47, 48, 48, 49, 49])"
      ]
     },
     "execution_count": 47,
     "metadata": {},
     "output_type": "execute_result"
    }
   ],
   "source": [
    "arr"
   ]
  },
  {
   "cell_type": "code",
   "execution_count": 67,
   "metadata": {
    "ExecuteTime": {
     "end_time": "2021-08-09T03:02:22.218222Z",
     "start_time": "2021-08-09T03:02:22.198202Z"
    }
   },
   "outputs": [
    {
     "name": "stdout",
     "output_type": "stream",
     "text": [
      "\n",
      "0 - 6 14\n",
      "\n",
      "6 - 12 7\n",
      "\n",
      "12 - 18 13\n",
      "\n",
      "18 - 24 12\n",
      "\n",
      "24 - 30 17\n",
      "\n",
      "30 - 36 15\n",
      "\n",
      "36 - 42 15\n",
      "\n",
      "42 - 48 14\n"
     ]
    }
   ],
   "source": [
    "list1=[]\n",
    "for i in range(0,len(ravalues)-1):\n",
    "    print()\n",
    "    print(ravalues[i],'-',ravalues[i+1],counter(arr, ravalues[i], ravalues[i+1]))\n",
    "    k=counter(arr, ravalues[i], ravalues[i+1])\n",
    "    list1.append(k)"
   ]
  },
  {
   "cell_type": "code",
   "execution_count": 68,
   "metadata": {
    "ExecuteTime": {
     "end_time": "2021-08-09T03:02:25.778575Z",
     "start_time": "2021-08-09T03:02:25.758597Z"
    }
   },
   "outputs": [
    {
     "data": {
      "text/plain": [
       "107"
      ]
     },
     "execution_count": 68,
     "metadata": {},
     "output_type": "execute_result"
    }
   ],
   "source": [
    "sum(list1)"
   ]
  },
  {
   "cell_type": "code",
   "execution_count": null,
   "metadata": {},
   "outputs": [],
   "source": []
  }
 ],
 "metadata": {
  "kernelspec": {
   "display_name": "Python 3",
   "language": "python",
   "name": "python3"
  },
  "language_info": {
   "codemirror_mode": {
    "name": "ipython",
    "version": 3
   },
   "file_extension": ".py",
   "mimetype": "text/x-python",
   "name": "python",
   "nbconvert_exporter": "python",
   "pygments_lexer": "ipython3",
   "version": "3.8.5"
  }
 },
 "nbformat": 4,
 "nbformat_minor": 4
}
