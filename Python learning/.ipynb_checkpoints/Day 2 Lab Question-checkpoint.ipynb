{
 "cells": [
  {
   "cell_type": "code",
   "execution_count": 13,
   "metadata": {},
   "outputs": [
    {
     "name": "stdout",
     "output_type": "stream",
     "text": [
      "DtSin\n",
      "niStD\n"
     ]
    }
   ],
   "source": [
    "###Q1\n",
    "string = 'DataScience'\n",
    "print(string[:-1:2])\n",
    "print(string[-3::-2])"
   ]
  },
  {
   "cell_type": "code",
   "execution_count": 16,
   "metadata": {},
   "outputs": [
    {
     "name": "stdout",
     "output_type": "stream",
     "text": [
      "    TALK IS CHEAP! SHOW ME THE CODE.      \n",
      "    Talk Is Cheap! Show Me The Code.      \n",
      "    TALK IS CHEAP! SHOW ME THE CODE.      \n",
      "    Talk Is Cheap! Show me the code.\n",
      "Talk Is Cheap! Show me the code.      \n",
      "Talk Is Cheap! Show me the code.\n",
      "    TALK IS CHEAP! SHOW ME THE CODE.      \n",
      "*****************************    Talk Is Cheap! Show me the code.      *****************************\n"
     ]
    }
   ],
   "source": [
    "###Q2\n",
    "\n",
    "string2  = '    Talk Is Cheap! Show me the code.      '\n",
    "print(string2.upper())\n",
    "print(string2.title())\n",
    "print(string2.upper())\n",
    "print(string2.rstrip())\n",
    "print(string2.lstrip())\n",
    "print(string2.strip())\n",
    "print(string2.upper())\n",
    "print(string2.center(100,\"*\"))"
   ]
  },
  {
   "cell_type": "code",
   "execution_count": 22,
   "metadata": {},
   "outputs": [
    {
     "data": {
      "text/plain": [
       "'I have three visi s for India. In 3000 years of our history people from all over the world have come and invaded\\n    us, captured our lands, c quered our minds. From Alexander  wards the Greeks, the Turks, the Moguls, the Portuguese,the\\n    British, the French, the Dutch, all of them came and looted us, took over what was ours. Yet we have not d e this to any \\n    other nati . We have not c quered any e. We have not grabbed their land, their culture and their history and tried to \\n    enforce our way of life   them. Why? Because we respect the freedom of others. That is why my FIRST VISION is that of \\n    FREEDOM. I believe that India got its first visi  of this in 1857, when we started the war of Independence. It is this \\n    freedom that we must protect and nurture and build  . If we are not free, no  e will respect us.'"
      ]
     },
     "execution_count": 22,
     "metadata": {},
     "output_type": "execute_result"
    }
   ],
   "source": [
    "###Q3\n",
    "\n",
    "paragraph = \"\"\"I have three visions for India. In 3000 years of our history people from all over the world have come and invaded\n",
    "    us, captured our lands, conquered our minds. From Alexander onwards the Greeks, the Turks, the Moguls, the Portuguese,the\n",
    "    British, the French, the Dutch, all of them came and looted us, took over what was ours. Yet we have not done this to any \n",
    "    other nation. We have not conquered anyone. We have not grabbed their land, their culture and their history and tried to \n",
    "    enforce our way of life on them. Why? Because we respect the freedom of others. That is why my FIRST VISION is that of \n",
    "    FREEDOM. I believe that India got its first vision of this in 1857, when we started the war of Independence. It is this \n",
    "    freedom that we must protect and nurture and build on. If we are not free, no one will respect us.\"\"\"\n",
    "\n",
    "p = paragraph.replace(\",\",\" \")\n",
    "p = paragraph.replace(\".\",\" \")\n",
    "p = paragraph.replace(\"and\",\" \")\n",
    "p = paragraph.replace(\"a\",\" \")\n",
    "p = paragraph.replace(\"the\",\" \")\n",
    "p = paragraph.replace(\"in\",\" \")\n",
    "p = paragraph.replace(\"of\",\" \")\n",
    "p = paragraph.replace(\"is\",\" \")\n",
    "p = paragraph.replace(\"on\",\" \")\n",
    "p"
   ]
  },
  {
   "cell_type": "code",
   "execution_count": null,
   "metadata": {},
   "outputs": [],
   "source": []
  }
 ],
 "metadata": {
  "kernelspec": {
   "display_name": "Python 3",
   "language": "python",
   "name": "python3"
  },
  "language_info": {
   "codemirror_mode": {
    "name": "ipython",
    "version": 3
   },
   "file_extension": ".py",
   "mimetype": "text/x-python",
   "name": "python",
   "nbconvert_exporter": "python",
   "pygments_lexer": "ipython3",
   "version": "3.8.5"
  }
 },
 "nbformat": 4,
 "nbformat_minor": 4
}
