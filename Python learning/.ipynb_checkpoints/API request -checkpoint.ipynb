{
 "cells": [
  {
   "cell_type": "code",
   "execution_count": null,
   "metadata": {
    "ExecuteTime": {
     "end_time": "2021-06-01T04:10:26.691221Z",
     "start_time": "2021-06-01T04:10:26.473712Z"
    }
   },
   "outputs": [],
   "source": [
    "import requests"
   ]
  },
  {
   "cell_type": "code",
   "execution_count": null,
   "metadata": {
    "ExecuteTime": {
     "end_time": "2021-06-01T04:11:53.782481Z",
     "start_time": "2021-06-01T04:11:46.656483Z"
    }
   },
   "outputs": [],
   "source": [
    "movie=input(\"Enter a moive name -->\")"
   ]
  },
  {
   "cell_type": "code",
   "execution_count": null,
   "metadata": {
    "ExecuteTime": {
     "end_time": "2021-06-01T04:13:07.216497Z",
     "start_time": "2021-06-01T04:13:07.196494Z"
    }
   },
   "outputs": [],
   "source": [
    "key = \"GPKgGPFe5xHMiT3h8kQgZVrEC8MGQ8xs\""
   ]
  },
  {
   "cell_type": "code",
   "execution_count": null,
   "metadata": {
    "ExecuteTime": {
     "end_time": "2021-06-01T04:13:07.959616Z",
     "start_time": "2021-06-01T04:13:07.954612Z"
    }
   },
   "outputs": [],
   "source": [
    "url = f\"https://api.nytimes.com/svc/movies/v2/reviews/search.json?query={movie}&api-key={key}\""
   ]
  },
  {
   "cell_type": "code",
   "execution_count": null,
   "metadata": {
    "ExecuteTime": {
     "end_time": "2021-06-01T04:13:11.782589Z",
     "start_time": "2021-06-01T04:13:11.757593Z"
    }
   },
   "outputs": [],
   "source": [
    "url"
   ]
  },
  {
   "cell_type": "code",
   "execution_count": null,
   "metadata": {
    "ExecuteTime": {
     "end_time": "2021-06-01T04:13:37.667370Z",
     "start_time": "2021-06-01T04:13:35.964658Z"
    }
   },
   "outputs": [],
   "source": [
    "data = requests.get(url)"
   ]
  },
  {
   "cell_type": "code",
   "execution_count": null,
   "metadata": {
    "ExecuteTime": {
     "end_time": "2021-06-01T04:13:59.616382Z",
     "start_time": "2021-06-01T04:13:59.606377Z"
    }
   },
   "outputs": [],
   "source": [
    "data.status_code"
   ]
  },
  {
   "cell_type": "code",
   "execution_count": null,
   "metadata": {
    "ExecuteTime": {
     "end_time": "2021-06-01T04:15:13.543775Z",
     "start_time": "2021-06-01T04:15:13.528772Z"
    }
   },
   "outputs": [],
   "source": [
    "data.json()"
   ]
  },
  {
   "cell_type": "code",
   "execution_count": 14,
   "metadata": {
    "ExecuteTime": {
     "end_time": "2021-06-01T04:17:29.496660Z",
     "start_time": "2021-06-01T04:17:29.476665Z"
    }
   },
   "outputs": [],
   "source": [
    "data=data.json()"
   ]
  },
  {
   "cell_type": "code",
   "execution_count": 15,
   "metadata": {
    "ExecuteTime": {
     "end_time": "2021-06-01T04:17:30.223882Z",
     "start_time": "2021-06-01T04:17:30.213898Z"
    }
   },
   "outputs": [
    {
     "data": {
      "text/plain": [
       "dict_keys(['status', 'copyright', 'has_more', 'num_results', 'results'])"
      ]
     },
     "execution_count": 15,
     "metadata": {},
     "output_type": "execute_result"
    }
   ],
   "source": [
    "data.keys()"
   ]
  },
  {
   "cell_type": "code",
   "execution_count": 23,
   "metadata": {
    "ExecuteTime": {
     "end_time": "2021-06-01T04:19:11.244882Z",
     "start_time": "2021-06-01T04:19:11.223420Z"
    }
   },
   "outputs": [
    {
     "data": {
      "text/plain": [
       "'“Iron Man” is an unusually good superhero picture. Or at least — since it certainly has its problems — a superhero movie that’s good in unusual ways.'"
      ]
     },
     "execution_count": 23,
     "metadata": {},
     "output_type": "execute_result"
    }
   ],
   "source": [
    "data['results'][2]['summary_short']"
   ]
  },
  {
   "cell_type": "code",
   "execution_count": 31,
   "metadata": {
    "ExecuteTime": {
     "end_time": "2021-06-01T04:38:39.402413Z",
     "start_time": "2021-06-01T04:38:39.382433Z"
    }
   },
   "outputs": [
    {
     "name": "stdout",
     "output_type": "stream",
     "text": [
      "Iron Man 3 \n",
      "“Iron Man 3,” with all its explosions so soon after the Boston Marathon bombings, underscores just how thoroughly terrorism and its aftermath have been colonized by the movies. \n",
      "\n",
      "Iron Man 2 \n",
      "The superhero sequel “Iron Man 2” has been turned over to its game and gifted cast: Robert Downey Jr., Gwyneth Paltrow, Mickey Rourke, Scarlett Johansson and Samuel L. Jackson. \n",
      "\n",
      "Iron Man \n",
      "“Iron Man” is an unusually good superhero picture. Or at least — since it certainly has its problems — a superhero movie that’s good in unusual ways. \n",
      "\n"
     ]
    }
   ],
   "source": [
    "for var in range(3):\n",
    "    print(data['results'][var]['display_title'],\"\")\n",
    "    print(data['results'][var]['summary_short'],\"\\n\")    "
   ]
  },
  {
   "cell_type": "code",
   "execution_count": null,
   "metadata": {},
   "outputs": [],
   "source": []
  }
 ],
 "metadata": {
  "hide_input": false,
  "kernelspec": {
   "display_name": "Python 3",
   "language": "python",
   "name": "python3"
  },
  "language_info": {
   "codemirror_mode": {
    "name": "ipython",
    "version": 3
   },
   "file_extension": ".py",
   "mimetype": "text/x-python",
   "name": "python",
   "nbconvert_exporter": "python",
   "pygments_lexer": "ipython3",
   "version": "3.8.5"
  },
  "toc": {
   "base_numbering": 1,
   "nav_menu": {},
   "number_sections": true,
   "sideBar": true,
   "skip_h1_title": false,
   "title_cell": "Table of Contents",
   "title_sidebar": "Contents",
   "toc_cell": false,
   "toc_position": {},
   "toc_section_display": true,
   "toc_window_display": false
  },
  "varInspector": {
   "cols": {
    "lenName": 16,
    "lenType": 16,
    "lenVar": 40
   },
   "kernels_config": {
    "python": {
     "delete_cmd_postfix": "",
     "delete_cmd_prefix": "del ",
     "library": "var_list.py",
     "varRefreshCmd": "print(var_dic_list())"
    },
    "r": {
     "delete_cmd_postfix": ") ",
     "delete_cmd_prefix": "rm(",
     "library": "var_list.r",
     "varRefreshCmd": "cat(var_dic_list()) "
    }
   },
   "types_to_exclude": [
    "module",
    "function",
    "builtin_function_or_method",
    "instance",
    "_Feature"
   ],
   "window_display": false
  }
 },
 "nbformat": 4,
 "nbformat_minor": 4
}
