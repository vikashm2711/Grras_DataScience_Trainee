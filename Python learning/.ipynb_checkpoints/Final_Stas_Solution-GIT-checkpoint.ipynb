{
 "cells": [
  {
   "cell_type": "code",
   "execution_count": 32,
   "metadata": {
    "ExecuteTime": {
     "end_time": "2021-08-09T05:13:31.847034Z",
     "start_time": "2021-08-09T05:13:31.837030Z"
    }
   },
   "outputs": [],
   "source": [
    "import numpy as np\n",
    "import math"
   ]
  },
  {
   "cell_type": "code",
   "execution_count": 39,
   "metadata": {
    "ExecuteTime": {
     "end_time": "2021-08-09T05:16:03.774989Z",
     "start_time": "2021-08-09T05:16:03.754991Z"
    }
   },
   "outputs": [],
   "source": [
    "def counter(li, min, max):\n",
    "\tctr = 0\n",
    "\tfor x in li:\n",
    "\t\tif min <= x < max:\n",
    "\t\t\tctr += 1\n",
    "\treturn ctr\n",
    "\n",
    "def counterin(li, min, max):\n",
    "\tctr = 0\n",
    "\tfor x in li:\n",
    "\t\tif min <= x <= max:\n",
    "\t\t\tctr += 1\n",
    "\treturn ctr"
   ]
  },
  {
   "cell_type": "code",
   "execution_count": 46,
   "metadata": {
    "ExecuteTime": {
     "end_time": "2021-08-09T05:36:53.125248Z",
     "start_time": "2021-08-09T05:36:53.111256Z"
    }
   },
   "outputs": [
    {
     "name": "stdout",
     "output_type": "stream",
     "text": [
      "Array : [ 3  7  8  9 12 13 14 19 21 26 26 28 29 31 34 38 38 41 42 42 43 44 45 48\n",
      " 49 49 52 54 58 59 59 60 60 66 72 78 78 81 82 88 88 91 91 92 93 93 94 96\n",
      " 98 99]\n",
      "Maximum : 99\n",
      "Minimum : 3\n",
      "Range   : 96\n",
      "No of intervals:  7\n",
      "Width of intervals:  14\n"
     ]
    }
   ],
   "source": [
    "N = 50\n",
    "arr = np.random.randint(0, 100, N)\n",
    "k = round(1 + (3.322 * np.log10(N)))\n",
    "range_ = max(arr) - min(arr)\n",
    "size = math.ceil(range_ / k)\n",
    "\n",
    "arr.sort()\n",
    "print(\"Array :\",arr)\n",
    "print(\"Maximum :\",max(arr))\n",
    "print(\"Minimum :\",min(arr))\n",
    "print(\"Range   :\",range_)\n",
    "print(\"No of intervals: \", k)\n",
    "print(\"Width of intervals: \", size)\n"
   ]
  },
  {
   "cell_type": "code",
   "execution_count": 47,
   "metadata": {
    "ExecuteTime": {
     "end_time": "2021-08-09T05:37:00.865873Z",
     "start_time": "2021-08-09T05:37:00.837889Z"
    }
   },
   "outputs": [
    {
     "name": "stdout",
     "output_type": "stream",
     "text": [
      "Inclusive Method\n",
      "--------------------------\n",
      "| Intervals | Frequency  |\n",
      "--------------------------\n",
      "|    3-10   |     4      |\n",
      "|   11-17   |     3      |\n",
      "|   18-24   |     2      |\n",
      "|   25-31   |     5      |\n",
      "|   32-38   |     3      |\n",
      "|   39-45   |     6      |\n",
      "|   46-52   |     4      |\n",
      "|   53-59   |     4      |\n",
      "|   60-66   |     3      |\n",
      "|   67-73   |     1      |\n",
      "|   74-80   |     2      |\n",
      "|   81-87   |     2      |\n",
      "|   88-94   |     8      |\n",
      "|   95-101  |     3      |\n",
      "--------------------------\n",
      "|   Total   |     50     | \n",
      "--------------------------\n"
     ]
    }
   ],
   "source": [
    "# Inclusive Method\n",
    "print(\"Inclusive Method\")\n",
    "\n",
    "ravalues = []\n",
    "for i in range(min(arr), max(arr) + k, k):\n",
    "    ravalues.append(i)\n",
    "\n",
    "ravalues = []\n",
    "ravalues2 = []\n",
    "list1 = []\n",
    "print(\"-\" * 26)\n",
    "print(\"| Intervals | Frequency  |\")\n",
    "print(\"-\" * 26)\n",
    "for i in range(min(arr), max(arr) + k, k):\n",
    "    ravalues.append(i)\n",
    "for i in range(min(arr) + 1, max(arr), k):\n",
    "    ravalues2.append(i)\n",
    "\n",
    "for i in range(0, len(ravalues) - 1):\n",
    "    if i == 0:\n",
    "        count_ = counterin(arr, ravalues[i], ravalues[i + 1])\n",
    "        list1.append(count_)\n",
    "        print(f\"|{ravalues[i]:>5}-{ravalues[i+1]:<4} | {count_:^10} |\")\n",
    "    else:\n",
    "        count_ = counterin(arr, ravalues2[i], ravalues[i + 1])\n",
    "        list1.append(count_)\n",
    "        print(f\"|{ravalues2[i]:>5}-{ravalues[i+1]:<4} | {count_:^10} |\")\n",
    "print(\"-\" * 26)\n",
    "print(f\"|   Total   | {N:^10} | \")\n",
    "print(\"-\" * 26)"
   ]
  },
  {
   "cell_type": "code",
   "execution_count": 49,
   "metadata": {
    "ExecuteTime": {
     "end_time": "2021-08-09T05:38:11.552643Z",
     "start_time": "2021-08-09T05:38:11.542649Z"
    }
   },
   "outputs": [
    {
     "name": "stdout",
     "output_type": "stream",
     "text": [
      "Exclusive Method\n",
      "--------------------------\n",
      "| Intervals | Frequency  |\n",
      "--------------------------\n",
      "|    3-10   |     4      |\n",
      "|   10-17   |     3      |\n",
      "|   17-24   |     2      |\n",
      "|   24-31   |     4      |\n",
      "|   31-38   |     2      |\n",
      "|   38-45   |     7      |\n",
      "|   45-52   |     4      |\n",
      "|   52-59   |     3      |\n",
      "|   59-66   |     4      |\n",
      "|   66-73   |     2      |\n",
      "|   73-80   |     2      |\n",
      "|   80-87   |     2      |\n",
      "|   87-94   |     7      |\n",
      "|   94-101  |     4      |\n",
      "--------------------------\n",
      "|   Total   |     50     | \n",
      "--------------------------\n"
     ]
    }
   ],
   "source": [
    "###Exclusive Method\n",
    "print(\"Exclusive Method\")\n",
    "\n",
    "ravalues=[]\n",
    "for i in range(min(arr),max(arr)+k,k):\n",
    "    ravalues.append(i)\n",
    "\n",
    "list1=[]\n",
    "print(\"-\"*26)\n",
    "print(\"| Intervals | Frequency  |\")\n",
    "print(\"-\"*26)\n",
    "for i in range(0,len(ravalues)-1):\n",
    "    count_=counter(arr, ravalues[i], ravalues[i+1])\n",
    "    list1.append(count_)\n",
    "    print(f\"|{ravalues[i]:>5}-{ravalues[i+1]:<4} | {count_:^10} |\")\n",
    "print(\"-\"*26)\n",
    "print(f\"|   Total   | {N:^10} | \")\n",
    "print(\"-\"*26)"
   ]
  },
  {
   "cell_type": "code",
   "execution_count": 51,
   "metadata": {
    "ExecuteTime": {
     "end_time": "2021-08-09T05:39:05.174209Z",
     "start_time": "2021-08-09T05:39:05.143207Z"
    }
   },
   "outputs": [
    {
     "name": "stdout",
     "output_type": "stream",
     "text": [
      "3rd Question\n",
      "-------------------------------------------------------\n",
      "| Intervals | Frequency  |   Fper  |   LCF   |   HCF  |\n",
      "-------------------------------------------------------\n",
      "|    3-10   |     4      |   6.0   |    3    |   96   |\n",
      "|   11-17   |     3      |   8.0   |    7    |   92   |\n",
      "|   18-24   |     2      |   6.0   |   10    |   89   |\n",
      "|   25-31   |     5      |   4.0   |   12    |   87   |\n",
      "|   32-38   |     3      |  10.0   |   17    |   82   |\n",
      "|   39-45   |     6      |   6.0   |   20    |   79   |\n",
      "|   46-52   |     4      |  12.0   |   26    |   73   |\n",
      "|   53-59   |     4      |   8.0   |   30    |   69   |\n",
      "|   60-66   |     3      |   8.0   |   34    |   65   |\n",
      "|   67-73   |     1      |   6.0   |   37    |   62   |\n",
      "|   74-80   |     2      |   2.0   |   38    |   61   |\n",
      "|   81-87   |     2      |   4.0   |   40    |   59   |\n",
      "|   88-94   |     8      |   4.0   |   42    |   57   |\n",
      "|   95-101  |     3      |  16.0   |   50    |   49   |\n",
      "-------------------------------------------------------\n",
      "|   Total   |     50     |  100.0  |\n",
      "-------------------------------------------------------\n"
     ]
    }
   ],
   "source": [
    "###3rd Question\n",
    "print(\"3rd Question\")\n",
    "\n",
    "ravalues = []\n",
    "ravalues2 = []\n",
    "for i in range(min(arr),max(arr)+k,k):\n",
    "    ravalues.append(i)\n",
    "for i in range(min(arr)+1,max(arr),k):\n",
    "    ravalues2.append(i)\n",
    "\n",
    "list1 = []\n",
    "fper1 = []\n",
    "lcf1 = []\n",
    "hcf1 = []\n",
    "lcf = 0\n",
    "hcf = max(arr)\n",
    "print(\"-\" * 55)\n",
    "print(\"| Intervals | Frequency  |   Fper  |   LCF   |   HCF  |\")\n",
    "print(\"-\" * 55)\n",
    "\n",
    "\n",
    "\n",
    "for i in range(0, len(ravalues) - 1):\n",
    "    \n",
    "    fper = (round(count_ / N * 100, 2))\n",
    "    lcf += count_\n",
    "    \n",
    "    list1.append(count_)\n",
    "    fper1.append(fper)\n",
    "    hcf1.append(hcf)\n",
    "    lcf1.append(lcf)\n",
    "    hcf -= count_\n",
    "    \n",
    "    if i ==0:\n",
    "        count_=counterin(arr, ravalues[i], ravalues[i+1])\n",
    "        list1.append(count_)\n",
    "        print(f\"|{ravalues[i]:>5}-{ravalues[i+1]:<4} | {count_:^10} | {fper:^7} | {lcf:^7} | {hcf:^7}|\"\n",
    "    )\n",
    "        \n",
    "    else:\n",
    "        count_=counterin(arr, ravalues2[i], ravalues[i+1])\n",
    "        list1.append(count_)\n",
    "        print(f\"|{ravalues2[i]:>5}-{ravalues[i+1]:<4} | {count_:^10} | {fper:^7} | {lcf:^7} | {hcf:^7}|\"\n",
    "    )\n",
    "\n",
    "print(\"-\" * 55)\n",
    "print(f\"|   Total   | {N:^10} | {sum(fper1):^7} |\")\n",
    "print(\"-\" * 55)"
   ]
  },
  {
   "cell_type": "code",
   "execution_count": null,
   "metadata": {},
   "outputs": [],
   "source": []
  }
 ],
 "metadata": {
  "kernelspec": {
   "display_name": "Python 3",
   "language": "python",
   "name": "python3"
  },
  "language_info": {
   "codemirror_mode": {
    "name": "ipython",
    "version": 3
   },
   "file_extension": ".py",
   "mimetype": "text/x-python",
   "name": "python",
   "nbconvert_exporter": "python",
   "pygments_lexer": "ipython3",
   "version": "3.8.5"
  }
 },
 "nbformat": 4,
 "nbformat_minor": 4
}
