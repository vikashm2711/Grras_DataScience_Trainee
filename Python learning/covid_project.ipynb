{
 "cells": [
  {
   "cell_type": "code",
   "execution_count": 1,
   "metadata": {
    "ExecuteTime": {
     "end_time": "2021-07-14T12:03:28.966662Z",
     "start_time": "2021-07-14T12:03:28.656652Z"
    }
   },
   "outputs": [],
   "source": [
    "import requests"
   ]
  },
  {
   "cell_type": "code",
   "execution_count": 12,
   "metadata": {
    "ExecuteTime": {
     "end_time": "2021-07-14T12:15:51.659288Z",
     "start_time": "2021-07-14T12:15:51.641288Z"
    }
   },
   "outputs": [],
   "source": [
    "url= f\"https://api.covid19india.org/v4/min/timeseries.min.json\""
   ]
  },
  {
   "cell_type": "code",
   "execution_count": 13,
   "metadata": {
    "ExecuteTime": {
     "end_time": "2021-07-14T12:15:52.549923Z",
     "start_time": "2021-07-14T12:15:52.113163Z"
    }
   },
   "outputs": [],
   "source": [
    "data = requests.get(url)"
   ]
  },
  {
   "cell_type": "code",
   "execution_count": 14,
   "metadata": {
    "ExecuteTime": {
     "end_time": "2021-07-14T12:15:52.677853Z",
     "start_time": "2021-07-14T12:15:52.657856Z"
    }
   },
   "outputs": [
    {
     "data": {
      "text/plain": [
       "200"
      ]
     },
     "execution_count": 14,
     "metadata": {},
     "output_type": "execute_result"
    }
   ],
   "source": [
    "data.status_code"
   ]
  },
  {
   "cell_type": "code",
   "execution_count": 15,
   "metadata": {
    "ExecuteTime": {
     "end_time": "2021-07-14T12:16:03.999842Z",
     "start_time": "2021-07-14T12:15:53.786830Z"
    }
   },
   "outputs": [
    {
     "data": {
      "text/plain": [
       "{'AN': {'dates': {'2020-03-26': {'delta': {'confirmed': 1},\n",
       "    'delta7': {'confirmed': 1},\n",
       "    'total': {'confirmed': 1}},\n",
       "   '2020-03-27': {'delta': {'confirmed': 5},\n",
       "    'delta7': {'confirmed': 6},\n",
       "    'total': {'confirmed': 6}},\n",
       "   '2020-03-28': {'delta': {'confirmed': 3},\n",
       "    'delta7': {'confirmed': 9},\n",
       "    'total': {'confirmed': 9}},\n",
       "   '2020-03-29': {'delta7': {'confirmed': 9}, 'total': {'confirmed': 9}},\n",
       "   '2020-03-30': {'delta': {'confirmed': 1},\n",
       "    'delta7': {'confirmed': 10},\n",
       "    'total': {'confirmed': 10}},\n",
       "   '2020-03-31': {'delta7': {'confirmed': 10}, 'total': {'confirmed': 10}},\n",
       "   '2020-04-01': {'delta7': {'confirmed': 10}, 'total': {'confirmed': 10}},\n",
       "   '2020-04-02': {'delta7': {'confirmed': 9}, 'total': {'confirmed': 10}},\n",
       "   '2020-04-03': {'delta7': {'confirmed': 4}, 'total': {'confirmed': 10}},\n",
       "   '2020-04-04': {'delta7': {'confirmed': 1}, 'total': {'confirmed': 10}},\n",
       "   '2020-04-05': {'delta7': {'confirmed': 1}, 'total': {'confirmed': 10}},\n",
       "   '2020-04-06': {'total': {'confirmed': 10}},\n",
       "   '2020-04-07': {'total': {'confirmed': 10}},\n",
       "   '2020-04-08': {'delta': {'confirmed': 1},\n",
       "    'delta7': {'confirmed': 1},\n",
       "    'total': {'confirmed': 11}},\n",
       "   '2020-04-09': {'delta': {'recovered': 10},\n",
       "    'delta7': {'confirmed': 1, 'recovered': 10},\n",
       "    'total': {'confirmed': 11, 'recovered': 10}},\n",
       "   '2020-04-10': {'delta7': {'confirmed': 1, 'recovered': 10},\n",
       "    'total': {'confirmed': 11, 'recovered': 10}},\n",
       "   '2020-04-11': {'delta7': {'confirmed': 1, 'recovered': 10},\n",
       "    'total': {'confirmed': 11, 'recovered': 10}},\n",
       "   '2020-04-12': {'delta7': {'confirmed': 1, 'recovered': 10},\n",
       "    'total': {'confirmed': 11, 'recovered': 10}},\n",
       "   '2020-04-13': {'delta7': {'confirmed': 1, 'recovered': 10},\n",
       "    'total': {'confirmed': 11, 'recovered': 10}},\n",
       "   '2020-04-14': {'delta7': {'confirmed': 1, 'recovered': 10},\n",
       "    'total': {'confirmed': 11, 'recovered': 10}},\n",
       "   '2020-04-15': {'delta7': {'recovered': 10},\n",
       "    'total': {'confirmed': 11, 'recovered': 10}},\n",
       "   '2020-04-16': {'delta': {'recovered': 1},\n",
       "    'delta7': {'recovered': 1},\n",
       "    'total': {'confirmed': 11, 'recovered': 11}},\n",
       "   '2020-04-17': {'delta': {'confirmed': 1, 'tested': 1403},\n",
       "    'delta7': {'confirmed': 1, 'recovered': 1, 'tested': 1403},\n",
       "    'total': {'confirmed': 12, 'recovered': 11, 'tested': 1403}},\n",
       "   '2020-04-18': {'delta': {'confirmed': 2},\n",
       "    'delta7': {'confirmed': 3, 'recovered': 1, 'tested': 1403},\n",
       "    'total': {'confirmed': 14, 'recovered': 11, 'tested': 1403}},\n",
       "   '2020-04-19': {'delta': {'confirmed': 1},\n",
       "    'delta7': {'confirmed': 4, 'recovered': 1, 'tested': 1403},\n",
       "    'total': {'confirmed': 15, 'recovered': 11, 'tested': 1403}},\n",
       "   '2020-04-20': {'delta': {'confirmed': 1},\n",
       "    'delta7': {'confirmed': 5, 'recovered': 1, 'tested': 1403},\n",
       "    'total': {'confirmed': 16, 'recovered': 11, 'tested': 1403}},\n",
       "   '2020-04-21': {'delta': {'confirmed': 1},\n",
       "    'delta7': {'confirmed': 6, 'recovered': 1, 'tested': 1403},\n",
       "    'total': {'confirmed': 17, 'recovered': 11, 'tested': 1403}},\n",
       "   '2020-04-22': {'delta': {'confirmed': 1},\n",
       "    'delta7': {'confirmed': 7, 'recovered': 1, 'tested': 1403},\n",
       "    'total': {'confirmed': 18, 'recovered': 11, 'tested': 1403}},\n",
       "   '2020-04-23': {'delta': {'confirmed': 4},\n",
       "    'delta7': {'confirmed': 11, 'tested': 1403},\n",
       "    'total': {'confirmed': 22, 'recovered': 11, 'tested': 1403}},\n",
       "   '2020-04-24': {'delta': {'confirmed': 7, 'tested': 1276},\n",
       "    'delta7': {'confirmed': 17, 'tested': 1276},\n",
       "    'total': {'confirmed': 29, 'recovered': 11, 'tested': 2679}},\n",
       "   '2020-04-25': {'delta': {'confirmed': 4},\n",
       "    'delta7': {'confirmed': 19, 'tested': 1276},\n",
       "    'total': {'confirmed': 33, 'recovered': 11, 'tested': 2679}},\n",
       "   '2020-04-26': {'delta7': {'confirmed': 18, 'tested': 1276},\n",
       "    'total': {'confirmed': 33, 'recovered': 11, 'tested': 2679}},\n",
       "   '2020-04-27': {'delta': {'tested': 169},\n",
       "    'delta7': {'confirmed': 17, 'tested': 1445},\n",
       "    'total': {'confirmed': 33, 'recovered': 11, 'tested': 2848}},\n",
       "   '2020-04-28': {'delta': {'recovered': 4},\n",
       "    'delta7': {'confirmed': 16, 'recovered': 4, 'tested': 1445},\n",
       "    'total': {'confirmed': 33, 'recovered': 15, 'tested': 2848}},\n",
       "   '2020-04-29': {'delta7': {'confirmed': 15, 'recovered': 4, 'tested': 1445},\n",
       "    'total': {'confirmed': 33, 'recovered': 15, 'tested': 2848}},\n",
       "   '2020-04-30': {'delta': {'recovered': 1},\n",
       "    'delta7': {'confirmed': 11, 'recovered': 5, 'tested': 1445},\n",
       "    'total': {'confirmed': 33, 'recovered': 16, 'tested': 2848}},\n",
       "   '2020-05-01': {'delta': {'tested': 906},\n",
       "    'delta7': {'confirmed': 4, 'recovered': 5, 'tested': 1075},\n",
       "    'total': {'confirmed': 33, 'recovered': 16, 'tested': 3754}},\n",
       "   '2020-05-02': {'delta': {'recovered': 10},\n",
       "    'delta7': {'recovered': 15, 'tested': 1075},\n",
       "    'total': {'confirmed': 33, 'recovered': 26, 'tested': 3754}},\n",
       "   '2020-05-03': {'delta': {'recovered': 6},\n",
       "    'delta7': {'recovered': 21, 'tested': 1075},\n",
       "    'total': {'confirmed': 33, 'recovered': 32, 'tested': 3754}},\n",
       "   '2020-05-04': {'delta7': {'recovered': 21, 'tested': 906},\n",
       "    'total': {'confirmed': 33, 'recovered': 32, 'tested': 3754}},\n",
       "   '2020-05-05': {'delta7': {'recovered': 17, 'tested': 906},\n",
       "    'total': {'confirmed': 33, 'recovered': 32, 'tested': 3754}},\n",
       "   '2020-05-06': {'delta7': {'recovered': 17, 'tested': 906},\n",
       "    'total': {'confirmed': 33, 'recovered': 32, 'tested': 3754}},\n",
       "   '2020-05-07': {'delta': {'recovered': 1},\n",
       "    'delta7': {'recovered': 17, 'tested': 906},\n",
       "    'total': {'confirmed': 33, 'recovered': 33, 'tested': 3754}},\n",
       "   '2020-05-08': {'delta7': {'recovered': 17},\n",
       "    'total': {'confirmed': 33, 'recovered': 33, 'tested': 3754}},\n",
       "   '2020-05-09': {'delta7': {'recovered': 7},\n",
       "    'total': {'confirmed': 33, 'recovered': 33, 'tested': 3754}},\n",
       "   '2020-05-10': {'delta7': {'recovered': 1},\n",
       "    'total': {'confirmed': 33, 'recovered': 33, 'tested': 3754}},\n",
       "   '2020-05-11': {'delta7': {'recovered': 1},\n",
       "    'total': {'confirmed': 33, 'recovered': 33, 'tested': 3754}},\n",
       "   '2020-05-12': {'delta7': {'recovered': 1},\n",
       "    'total': {'confirmed': 33, 'recovered': 33, 'tested': 3754}},\n",
       "   '2020-05-13': {'delta7': {'recovered': 1},\n",
       "    'total': {'confirmed': 33, 'recovered': 33, 'tested': 3754}},\n",
       "   '2020-05-14': {'total': {'confirmed': 33, 'recovered': 33, 'tested': 3754}},\n",
       "   '2020-05-15': {'total': {'confirmed': 33, 'recovered': 33, 'tested': 3754}},\n",
       "   '2020-05-16': {'delta': {'tested': 2923},\n",
       "    'delta7': {'tested': 2923},\n",
       "    'total': {'confirmed': 33, 'recovered': 33, 'tested': 6677}},\n",
       "   '2020-05-17': {'delta7': {'tested': 2923},\n",
       "    'total': {'confirmed': 33, 'recovered': 33, 'tested': 6677}},\n",
       "   '2020-05-18': {'delta7': {'tested': 2923},\n",
       "    'total': {'confirmed': 33, 'recovered': 33, 'tested': 6677}},\n",
       "   '2020-05-19': {'delta': {'tested': 288},\n",
       "    'delta7': {'tested': 3211},\n",
       "    'total': {'confirmed': 33, 'recovered': 33, 'tested': 6965}},\n",
       "   '2020-05-20': {'delta': {'tested': 117},\n",
       "    'delta7': {'tested': 3328},\n",
       "    'total': {'confirmed': 33, 'recovered': 33, 'tested': 7082}},\n",
       "   '2020-05-21': {'delta': {'tested': 85},\n",
       "    'delta7': {'tested': 3413},\n",
       "    'total': {'confirmed': 33, 'recovered': 33, 'tested': 7167}},\n",
       "   '2020-05-22': {'delta': {'tested': 96},\n",
       "    'delta7': {'tested': 3509},\n",
       "    'total': {'confirmed': 33, 'recovered': 33, 'tested': 7263}},\n",
       "   '2020-05-23': {'delta': {'tested': 64},\n",
       "    'delta7': {'tested': 650},\n",
       "    'total': {'confirmed': 33, 'recovered': 33, 'tested': 7327}},\n",
       "   '2020-05-24': {'delta7': {'tested': 650},\n",
       "    'total': {'confirmed': 33, 'recovered': 33, 'tested': 7327}},\n",
       "   '2020-05-25': {'delta': {'tested': 36},\n",
       "    'delta7': {'tested': 686},\n",
       "    'total': {'confirmed': 33, 'recovered': 33, 'tested': 7363}},\n",
       "   '2020-05-26': {'delta': {'tested': 85},\n",
       "    'delta7': {'tested': 483},\n",
       "    'total': {'confirmed': 33, 'recovered': 33, 'tested': 7448}},\n",
       "   '2020-05-27': {'delta': {'tested': 51},\n",
       "    'delta7': {'tested': 417},\n",
       "    'total': {'confirmed': 33, 'recovered': 33, 'tested': 7499}},\n",
       "   '2020-05-28': {'delta': {'tested': 20},\n",
       "    'delta7': {'tested': 352},\n",
       "    'total': {'confirmed': 33, 'recovered': 33, 'tested': 7519}},\n",
       "   '2020-05-29': {'delta': {'tested': 48},\n",
       "    'delta7': {'tested': 304},\n",
       "    'total': {'confirmed': 33, 'recovered': 33, 'tested': 7567}},\n",
       "   '2020-05-30': {'delta7': {'tested': 240},\n",
       "    'total': {'confirmed': 33, 'recovered': 33, 'tested': 7567}},\n",
       "   '2020-05-31': {'delta': {'tested': 139},\n",
       "    'delta7': {'tested': 379},\n",
       "    'total': {'confirmed': 33, 'recovered': 33, 'tested': 7706}},\n",
       "   '2020-06-01': {'delta': {'tested': 99},\n",
       "    'delta7': {'tested': 442},\n",
       "    'total': {'confirmed': 33, 'recovered': 33, 'tested': 7805}},\n",
       "   '2020-06-02': {'delta': {'tested': 281},\n",
       "    'delta7': {'tested': 638},\n",
       "    'total': {'confirmed': 33, 'recovered': 33, 'tested': 8086}},\n",
       "   '2020-06-03': {'delta': {'tested': 209},\n",
       "    'delta7': {'tested': 796},\n",
       "    'total': {'confirmed': 33, 'recovered': 33, 'tested': 8295}},\n",
       "   '2020-06-04': {'delta': {'tested': 118},\n",
       "    'delta7': {'tested': 894},\n",
       "    'total': {'confirmed': 33, 'recovered': 33, 'tested': 8413}},\n",
       "   '2020-06-05': {'delta': {'tested': 281},\n",
       "    'delta7': {'tested': 1127},\n",
       "    'total': {'confirmed': 33, 'recovered': 33, 'tested': 8694}},\n",
       "   '2020-06-06': {'delta': {'tested': 343},\n",
       "    'delta7': {'tested': 1470},\n",
       "    'total': {'confirmed': 33, 'recovered': 33, 'tested': 9037}},\n",
       "   '2020-06-07': {'delta': {'tested': 205},\n",
       "    'delta7': {'tested': 1536},\n",
       "    'total': {'confirmed': 33, 'recovered': 33, 'tested': 9242}},\n",
       "   '2020-06-08': {'delta': {'tested': 99},\n",
       "    'delta7': {'tested': 1536},\n",
       "    'total': {'confirmed': 33, 'recovered': 33, 'tested': 9341}},\n",
       "   '2020-06-09': {'delta': {'confirmed': 1, 'tested': 518},\n",
       "    'delta7': {'confirmed': 1, 'tested': 1773},\n",
       "    'total': {'confirmed': 34, 'recovered': 33, 'tested': 9859}},\n",
       "   '2020-06-10': {'delta': {'confirmed': 1, 'tested': 151},\n",
       "    'delta7': {'confirmed': 2, 'tested': 1715},\n",
       "    'total': {'confirmed': 35, 'recovered': 33, 'tested': 10010}},\n",
       "   '2020-06-11': {'delta': {'confirmed': 3, 'teste"
      ]
     },
     "execution_count": 15,
     "metadata": {},
     "output_type": "execute_result"
    },
    {
     "data": {
      "text/html": [
       "<b>limit_output extension: Maximum message size of 10000 exceeded with 6252385 characters</b>"
      ]
     },
     "metadata": {},
     "output_type": "display_data"
    }
   ],
   "source": [
    "data.json()"
   ]
  },
  {
   "cell_type": "code",
   "execution_count": 16,
   "metadata": {
    "ExecuteTime": {
     "end_time": "2021-07-14T12:16:16.601882Z",
     "start_time": "2021-07-14T12:16:16.350882Z"
    }
   },
   "outputs": [],
   "source": [
    "data=data.json()"
   ]
  },
  {
   "cell_type": "code",
   "execution_count": 17,
   "metadata": {
    "ExecuteTime": {
     "end_time": "2021-07-14T12:16:17.675581Z",
     "start_time": "2021-07-14T12:16:17.656559Z"
    }
   },
   "outputs": [
    {
     "data": {
      "text/plain": [
       "dict_keys(['AN', 'AP', 'AR', 'AS', 'BR', 'CH', 'CT', 'DL', 'DN', 'GA', 'GJ', 'HP', 'HR', 'JH', 'JK', 'KA', 'KL', 'LA', 'LD', 'MH', 'ML', 'MN', 'MP', 'MZ', 'NL', 'OR', 'PB', 'PY', 'RJ', 'SK', 'TG', 'TN', 'TR', 'TT', 'UN', 'UP', 'UT', 'WB'])"
      ]
     },
     "execution_count": 17,
     "metadata": {},
     "output_type": "execute_result"
    }
   ],
   "source": [
    "data.keys()"
   ]
  },
  {
   "cell_type": "code",
   "execution_count": 23,
   "metadata": {
    "ExecuteTime": {
     "end_time": "2021-07-14T12:19:56.666223Z",
     "start_time": "2021-07-14T12:19:56.647204Z"
    }
   },
   "outputs": [
    {
     "data": {
      "text/plain": [
       "{'confirmed': 7496,\n",
       " 'deceased': 129,\n",
       " 'recovered': 7358,\n",
       " 'tested': 420157,\n",
       " 'vaccinated1': 168329,\n",
       " 'vaccinated2': 62169}"
      ]
     },
     "execution_count": 23,
     "metadata": {},
     "output_type": "execute_result"
    }
   ],
   "source": [
    "data['AN']['dates']['2021-07-13']['total']"
   ]
  },
  {
   "cell_type": "code",
   "execution_count": 24,
   "metadata": {
    "ExecuteTime": {
     "end_time": "2021-07-14T12:22:17.534260Z",
     "start_time": "2021-07-14T12:22:17.294265Z"
    }
   },
   "outputs": [
    {
     "name": "stderr",
     "output_type": "stream",
     "text": [
      "IOPub data rate exceeded.\n",
      "The notebook server will temporarily stop sending output\n",
      "to the client in order to avoid crashing it.\n",
      "To change this limit, set the config variable\n",
      "`--NotebookApp.iopub_data_rate_limit`.\n",
      "\n",
      "Current values:\n",
      "NotebookApp.iopub_data_rate_limit=1000000.0 (bytes/sec)\n",
      "NotebookApp.rate_limit_window=3.0 (secs)\n",
      "\n"
     ]
    }
   ],
   "source": [
    "for x in data.items():\n",
    "    print(x)"
   ]
  },
  {
   "cell_type": "code",
   "execution_count": 25,
   "metadata": {
    "ExecuteTime": {
     "end_time": "2021-07-14T12:23:19.614304Z",
     "start_time": "2021-07-14T12:23:19.600303Z"
    }
   },
   "outputs": [
    {
     "name": "stdout",
     "output_type": "stream",
     "text": [
      "brand Ford\n",
      "model Mustang\n",
      "year 1964\n"
     ]
    }
   ],
   "source": [
    "thisdict =\t{\n",
    "  \"brand\": \"Ford\",\n",
    "  \"model\": \"Mustang\",\n",
    "  \"year\": 1964\n",
    "}\n",
    "for x, y in thisdict.items():\n",
    "  print(x, y)\n"
   ]
  },
  {
   "cell_type": "code",
   "execution_count": 26,
   "metadata": {
    "ExecuteTime": {
     "end_time": "2021-07-14T12:24:11.054321Z",
     "start_time": "2021-07-14T12:24:11.032300Z"
    }
   },
   "outputs": [
    {
     "name": "stdout",
     "output_type": "stream",
     "text": [
      "38\n"
     ]
    }
   ],
   "source": [
    "print(len(data))"
   ]
  },
  {
   "cell_type": "code",
   "execution_count": null,
   "metadata": {},
   "outputs": [],
   "source": []
  }
 ],
 "metadata": {
  "hide_input": false,
  "kernelspec": {
   "display_name": "Python 3",
   "language": "python",
   "name": "python3"
  },
  "language_info": {
   "codemirror_mode": {
    "name": "ipython",
    "version": 3
   },
   "file_extension": ".py",
   "mimetype": "text/x-python",
   "name": "python",
   "nbconvert_exporter": "python",
   "pygments_lexer": "ipython3",
   "version": "3.8.5"
  },
  "toc": {
   "base_numbering": 1,
   "nav_menu": {},
   "number_sections": true,
   "sideBar": true,
   "skip_h1_title": false,
   "title_cell": "Table of Contents",
   "title_sidebar": "Contents",
   "toc_cell": false,
   "toc_position": {},
   "toc_section_display": true,
   "toc_window_display": false
  },
  "varInspector": {
   "cols": {
    "lenName": 16,
    "lenType": 16,
    "lenVar": 40
   },
   "kernels_config": {
    "python": {
     "delete_cmd_postfix": "",
     "delete_cmd_prefix": "del ",
     "library": "var_list.py",
     "varRefreshCmd": "print(var_dic_list())"
    },
    "r": {
     "delete_cmd_postfix": ") ",
     "delete_cmd_prefix": "rm(",
     "library": "var_list.r",
     "varRefreshCmd": "cat(var_dic_list()) "
    }
   },
   "types_to_exclude": [
    "module",
    "function",
    "builtin_function_or_method",
    "instance",
    "_Feature"
   ],
   "window_display": false
  }
 },
 "nbformat": 4,
 "nbformat_minor": 4
}
