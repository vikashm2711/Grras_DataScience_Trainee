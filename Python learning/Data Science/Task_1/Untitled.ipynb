{
 "cells": [
  {
   "cell_type": "code",
   "execution_count": 110,
   "id": "d7f0d4d9",
   "metadata": {
    "ExecuteTime": {
     "end_time": "2021-08-12T06:52:32.113325Z",
     "start_time": "2021-08-12T06:52:32.103331Z"
    }
   },
   "outputs": [],
   "source": [
    "import numpy as np\n",
    "import statistics as stat\n",
    "import math\n",
    "import os\n",
    "import matplotlib.pyplot as plt"
   ]
  },
  {
   "cell_type": "code",
   "execution_count": 111,
   "id": "218de5ed",
   "metadata": {
    "ExecuteTime": {
     "end_time": "2021-08-12T06:52:32.223288Z",
     "start_time": "2021-08-12T06:52:32.116322Z"
    }
   },
   "outputs": [],
   "source": [
    "plt.rcParams['figure.figsize'] = 10, 5\n",
    "plt.rcParams['figure.dpi'] = 80"
   ]
  },
  {
   "cell_type": "code",
   "execution_count": 112,
   "id": "d995998d",
   "metadata": {
    "ExecuteTime": {
     "end_time": "2021-08-12T06:52:32.254970Z",
     "start_time": "2021-08-12T06:52:32.226286Z"
    }
   },
   "outputs": [
    {
     "name": "stdout",
     "output_type": "stream",
     "text": [
      "[89.0, 66.0, 76.0, 65.0, 44.0, 1000.0, 1000.0, 81.0, 69.0, 55.0, 82.0, 93.0, 92.0, 82.0, 61.0, 77.0, 85.0, 63.0, 46.0, 46.0, 69.0, 88.0, 10000.0, 83.0, 1000.0, 80.0, 61.0, 46.0, 42.0, 69.0, 46.0, 98.0, 42.0, 70.0, -0.5, 93.0, 93.0, 83.0, 49.0, 77.0, 68.0, 50.0, 69.0, 60.0, 97.0, 55.0, 90.0, 48.0, 71.0, 91.0, 46.0, 54.0, 52.0, 68.0, 85.0, 89.0, 67.0, 96.0, 64.0, 59.0, 86.0, 50.0, 1000.0, 83.0, 95.0, 70.0, 999.0, 91.0, 49.0, 40.0, 52.0, 88.0, 85.0, 53.0, 100.0, 61.0, 40.0, 10000.0, 78.0, -0.5, 78.0, 75.0, 61.0, 55.0, 72.0, 75.0, 98.0, 62.0, 75.0, 47.0, 53.0, 999.0, 42.0, 81.0, 42.0, 90.0, 56.0, 94.0, 74.0, 52.0, 51.0, 55.0, 88.0, 75.0, 96.0, 58.0, 86.0, 59.0, 97.0, 62.0]\n"
     ]
    }
   ],
   "source": [
    "f = open(\"data.txt\",\"r+\")\n",
    "data =f.read()\n",
    "f.close()\n",
    "print(data)\n",
    "data=data.replace('[',\"\")\n",
    "data=data.replace(']',\"\")\n",
    "data=data.split(\", \")\n"
   ]
  },
  {
   "cell_type": "code",
   "execution_count": 113,
   "id": "ffefe1ca",
   "metadata": {
    "ExecuteTime": {
     "end_time": "2021-08-12T06:52:32.300896Z",
     "start_time": "2021-08-12T06:52:32.258964Z"
    }
   },
   "outputs": [],
   "source": [
    "arr=[]\n",
    "for var in data:\n",
    "    var=float(var)\n",
    "    arr.append(var)"
   ]
  },
  {
   "cell_type": "code",
   "execution_count": 114,
   "id": "64b58f2d",
   "metadata": {
    "ExecuteTime": {
     "end_time": "2021-08-12T06:52:32.332477Z",
     "start_time": "2021-08-12T06:52:32.304891Z"
    }
   },
   "outputs": [],
   "source": [
    "def quartiles(arr):\n",
    "    arr.sort()\n",
    "    l=arr\n",
    "    t=int(len(arr)/2)\n",
    "    if len(l)%2==0:\n",
    "        up=l[:int(len(l)/2):]\n",
    "        lo=l[int(len(l)/2)::]\n",
    "    else:\n",
    "        up=l[:int(len(l)/2):]\n",
    "        lo=l[int(len(l)/2)+1::]\n",
    "    res=[]\n",
    "\n",
    "    res.append(int(stat.median(up)))\n",
    "    \n",
    "    res.append(int(stat.median(arr)))\n",
    "    \n",
    "    res.append(int(stat.median(lo)))\n",
    "    \n",
    "    return res\n",
    "\n",
    "def stdDev(arr):\n",
    "    mean=stat.mean(arr)\n",
    "    r=[]\n",
    "    for i in arr:\n",
    "        r.append((i-mean)**2)\n",
    "   \n",
    "    smean=stat.mean(r)\n",
    "    result = math.sqrt(smean)\n",
    "    return result"
   ]
  },
  {
   "cell_type": "code",
   "execution_count": 115,
   "id": "75a05fae",
   "metadata": {
    "ExecuteTime": {
     "end_time": "2021-08-12T06:52:32.378127Z",
     "start_time": "2021-08-12T06:52:32.336473Z"
    }
   },
   "outputs": [],
   "source": [
    "mean=stat.mean(arr)\n",
    "med=stat.median(arr)\n",
    "mode=stat.mode(arr)\n",
    "\n",
    "Qres=quartiles(arr)\n",
    "\n",
    "IQR= Qres[2]-Qres[0]\n",
    "\n",
    "stdres = stdDev(arr)"
   ]
  },
  {
   "cell_type": "code",
   "execution_count": 116,
   "id": "6719cb5e",
   "metadata": {
    "ExecuteTime": {
     "end_time": "2021-08-12T06:52:32.423492Z",
     "start_time": "2021-08-12T06:52:32.380127Z"
    }
   },
   "outputs": [
    {
     "name": "stdout",
     "output_type": "stream",
     "text": [
      "Mean  : 299.7\n",
      "Median: 70.5\n",
      "Mode  : 46.0\n",
      "\n",
      "Quartile Q1: 55\n",
      "Quartile Q2: 70\n",
      "Quartile Q3: 88\n",
      "\n",
      "Interquartile Range: 33\n",
      "Standard Deviation: 1337.00\n"
     ]
    }
   ],
   "source": [
    "print(f\"Mean  : {mean}\")\n",
    "print(f\"Median: {med}\")\n",
    "print(f\"Mode  : {mode}\\n\")\n",
    "\n",
    "print(f\"Quartile Q1: {Qres[0]}\")\n",
    "print(f\"Quartile Q2: {Qres[1]}\")\n",
    "print(f\"Quartile Q3: {Qres[2]}\\n\")\n",
    "\n",
    "print(f\"Interquartile Range: {IQR}\")\n",
    "\n",
    "print(f\"Standard Deviation: {stdres:.2f}\")"
   ]
  },
  {
   "cell_type": "code",
   "execution_count": 117,
   "id": "606c4f32",
   "metadata": {
    "ExecuteTime": {
     "end_time": "2021-08-12T06:52:32.826809Z",
     "start_time": "2021-08-12T06:52:32.427488Z"
    }
   },
   "outputs": [
    {
     "ename": "AttributeError",
     "evalue": "'list' object has no attribute 'mean'",
     "output_type": "error",
     "traceback": [
      "\u001b[1;31m---------------------------------------------------------------------------\u001b[0m",
      "\u001b[1;31mAttributeError\u001b[0m                            Traceback (most recent call last)",
      "\u001b[1;32m<ipython-input-117-e9c8e4977810>\u001b[0m in \u001b[0;36m<module>\u001b[1;34m\u001b[0m\n\u001b[0;32m      3\u001b[0m \u001b[0mplt\u001b[0m\u001b[1;33m.\u001b[0m\u001b[0mylabel\u001b[0m\u001b[1;33m(\u001b[0m\u001b[1;34m\"AGE\"\u001b[0m\u001b[1;33m)\u001b[0m\u001b[1;33m\u001b[0m\u001b[1;33m\u001b[0m\u001b[0m\n\u001b[0;32m      4\u001b[0m \u001b[0mplt\u001b[0m\u001b[1;33m.\u001b[0m\u001b[0mxticks\u001b[0m\u001b[1;33m(\u001b[0m\u001b[0mrange\u001b[0m\u001b[1;33m(\u001b[0m\u001b[1;36m20\u001b[0m\u001b[1;33m)\u001b[0m\u001b[1;33m)\u001b[0m\u001b[1;33m\u001b[0m\u001b[1;33m\u001b[0m\u001b[0m\n\u001b[1;32m----> 5\u001b[1;33m \u001b[0mdev\u001b[0m \u001b[1;33m=\u001b[0m \u001b[0mround\u001b[0m\u001b[1;33m(\u001b[0m\u001b[0msum\u001b[0m\u001b[1;33m(\u001b[0m\u001b[0mabs\u001b[0m\u001b[1;33m(\u001b[0m\u001b[0marr\u001b[0m\u001b[1;33m.\u001b[0m\u001b[0mmean\u001b[0m\u001b[1;33m(\u001b[0m\u001b[1;33m)\u001b[0m \u001b[1;33m-\u001b[0m \u001b[0marr\u001b[0m\u001b[1;33m)\u001b[0m\u001b[1;33m)\u001b[0m\u001b[1;33m/\u001b[0m\u001b[0mlen\u001b[0m\u001b[1;33m(\u001b[0m\u001b[0marr\u001b[0m\u001b[1;33m)\u001b[0m\u001b[1;33m)\u001b[0m\u001b[1;33m\u001b[0m\u001b[1;33m\u001b[0m\u001b[0m\n\u001b[0m\u001b[0;32m      6\u001b[0m \u001b[0mplt\u001b[0m\u001b[1;33m.\u001b[0m\u001b[0mplot\u001b[0m\u001b[1;33m(\u001b[0m\u001b[1;33m[\u001b[0m\u001b[1;36m0\u001b[0m\u001b[1;33m,\u001b[0m \u001b[1;36m200\u001b[0m\u001b[1;33m]\u001b[0m\u001b[1;33m,\u001b[0m \u001b[1;33m[\u001b[0m\u001b[0mmean\u001b[0m\u001b[1;33m,\u001b[0m \u001b[0mmean\u001b[0m\u001b[1;33m]\u001b[0m\u001b[1;33m,\u001b[0m \u001b[1;34m'k'\u001b[0m\u001b[1;33m)\u001b[0m\u001b[1;33m\u001b[0m\u001b[1;33m\u001b[0m\u001b[0m\n\u001b[0;32m      7\u001b[0m \u001b[1;33m\u001b[0m\u001b[0m\n",
      "\u001b[1;31mAttributeError\u001b[0m: 'list' object has no attribute 'mean'"
     ]
    },
    {
     "data": {
      "image/png": "[encoded data removed]",
      "text/plain": [
       "<Figure size 800x400 with 1 Axes>"
      ]
     },
     "metadata": {
      "needs_background": "light"
     },
     "output_type": "display_data"
    }
   ],
   "source": [
    "plt.plot(arr, 'o') \n",
    "plt.xlabel(\"INDEX\")\n",
    "plt.ylabel(\"AGE\")\n",
    "plt.xticks(range(20))\n",
    "dev = round(sum(abs(arr.mean() - arr))/len(arr))\n",
    "plt.plot([0, 200], [mean, mean], 'k')\n",
    "\n",
    "plt.plot([0, 20], [mean+dev, mean+dev], 'g')\n",
    "plt.plot([0, 20], [mean-dev, mean-dev], 'g')\n",
    "plt.show()"
   ]
  },
  {
   "cell_type": "code",
   "execution_count": 123,
   "id": "f1bf1ad7",
   "metadata": {
    "ExecuteTime": {
     "end_time": "2021-08-12T06:58:33.968629Z",
     "start_time": "2021-08-12T06:58:33.957616Z"
    }
   },
   "outputs": [
    {
     "name": "stdout",
     "output_type": "stream",
     "text": [
      "1787561.4599999997\n"
     ]
    }
   ],
   "source": [
    "print(np.var(arr))"
   ]
  },
  {
   "cell_type": "code",
   "execution_count": 120,
   "id": "6dc66ef9",
   "metadata": {
    "ExecuteTime": {
     "end_time": "2021-08-12T06:57:55.290260Z",
     "start_time": "2021-08-12T06:57:55.278270Z"
    }
   },
   "outputs": [
    {
     "name": "stdout",
     "output_type": "stream",
     "text": [
      "1336.997180251327\n"
     ]
    }
   ],
   "source": [
    "print(np.std(arr))"
   ]
  },
  {
   "cell_type": "code",
   "execution_count": null,
   "id": "1ab5cfaa",
   "metadata": {
    "ExecuteTime": {
     "end_time": "2021-08-12T07:00:00.492931Z",
     "start_time": "2021-08-12T07:00:00.469412Z"
    }
   },
   "outputs": [],
   "source": []
  },
  {
   "cell_type": "code",
   "execution_count": null,
   "id": "b6d12f01",
   "metadata": {},
   "outputs": [],
   "source": []
  }
 ],
 "metadata": {
  "kernelspec": {
   "display_name": "Python 3",
   "language": "python",
   "name": "python3"
  },
  "language_info": {
   "codemirror_mode": {
    "name": "ipython",
    "version": 3
   },
   "file_extension": ".py",
   "mimetype": "text/x-python",
   "name": "python",
   "nbconvert_exporter": "python",
   "pygments_lexer": "ipython3",
   "version": "3.8.8"
  }
 },
 "nbformat": 4,
 "nbformat_minor": 5
}
