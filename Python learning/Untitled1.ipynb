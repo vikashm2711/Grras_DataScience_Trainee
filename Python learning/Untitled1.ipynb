{
 "cells": [
  {
   "cell_type": "code",
   "execution_count": 14,
   "metadata": {
    "ExecuteTime": {
     "end_time": "2021-07-28T06:20:00.574959Z",
     "start_time": "2021-07-28T06:20:00.558959Z"
    }
   },
   "outputs": [],
   "source": [
    "def mean(y):\n",
    "    res =(sum(y)/len(y))\n",
    "    return (res)\n",
    "\n",
    "def sort(y):\n",
    "    newy= []\n",
    "    while y:\n",
    "        min = y[0]  \n",
    "        for var in y: \n",
    "            if var < min:\n",
    "                min = var\n",
    "        newy.append(min)\n",
    "        y.remove(min)    \n",
    "    return newy\n",
    "\n",
    "def median(y):\n",
    "    y=sort(y)\n",
    "    if len(y)%2==0:\n",
    "        median=(y[int(len(y)/2)-1] + y[int(len(y)/2)])/2\n",
    "    else:\n",
    "        median=y[round(len(y)/2)]\n",
    "    return ( median)\n",
    "\n",
    "def mode(y):\n",
    "    "
   ]
  },
  {
   "cell_type": "code",
   "execution_count": 16,
   "metadata": {
    "ExecuteTime": {
     "end_time": "2021-07-28T06:20:26.388041Z",
     "start_time": "2021-07-28T06:20:21.822907Z"
    }
   },
   "outputs": [
    {
     "name": "stdout",
     "output_type": "stream",
     "text": [
      "3\n",
      "32 32 32\n"
     ]
    }
   ],
   "source": [
    "x= int(input())\n",
    "y = list(map(int, input().split()))"
   ]
  },
  {
   "cell_type": "code",
   "execution_count": 17,
   "metadata": {
    "ExecuteTime": {
     "end_time": "2021-07-28T06:20:30.796184Z",
     "start_time": "2021-07-28T06:20:30.784184Z"
    }
   },
   "outputs": [
    {
     "name": "stdout",
     "output_type": "stream",
     "text": [
      "32.0\n",
      "32\n"
     ]
    }
   ],
   "source": [
    "print(mean(y))\n",
    "print(median(y))\n",
    "print(mode(y))"
   ]
  },
  {
   "cell_type": "code",
   "execution_count": 17,
   "metadata": {
    "ExecuteTime": {
     "end_time": "2021-07-28T06:00:27.322976Z",
     "start_time": "2021-07-28T06:00:27.303953Z"
    }
   },
   "outputs": [
    {
     "name": "stdout",
     "output_type": "stream",
     "text": [
      "0\n"
     ]
    }
   ],
   "source": [
    "print(len(y))"
   ]
  },
  {
   "cell_type": "code",
   "execution_count": 28,
   "metadata": {
    "ExecuteTime": {
     "end_time": "2021-07-28T06:12:20.368329Z",
     "start_time": "2021-07-28T06:12:20.351304Z"
    }
   },
   "outputs": [
    {
     "name": "stdout",
     "output_type": "stream",
     "text": [
      "[10, 4, 3, 4, 5]\n",
      "[3, 4, 4, 5, 10]\n"
     ]
    },
    {
     "data": {
      "text/plain": [
       "int"
      ]
     },
     "execution_count": 28,
     "metadata": {},
     "output_type": "execute_result"
    }
   ],
   "source": [
    "def sort2(y):\n",
    "    print(y)\n",
    "    newy= []\n",
    "    while y:\n",
    "        min = y[0]  \n",
    "        for var in y: \n",
    "            if var < min:\n",
    "                min = var\n",
    "        newy.append(min)\n",
    "        y.remove(min) \n",
    "    return newy \n",
    "\n",
    "y = [10,4,3,4,5]\n",
    "\n",
    "\n",
    "\n",
    "newy=sort2(y)\n",
    "print(newy)\n",
    "type(newy[0])\n"
   ]
  },
  {
   "cell_type": "code",
   "execution_count": 27,
   "metadata": {
    "ExecuteTime": {
     "end_time": "2021-07-28T06:02:28.377252Z",
     "start_time": "2021-07-28T06:02:28.358249Z"
    }
   },
   "outputs": [
    {
     "data": {
      "text/plain": [
       "int"
      ]
     },
     "execution_count": 27,
     "metadata": {},
     "output_type": "execute_result"
    }
   ],
   "source": [
    "type(y[0])"
   ]
  },
  {
   "cell_type": "code",
   "execution_count": 7,
   "metadata": {
    "ExecuteTime": {
     "end_time": "2021-07-28T05:54:33.774581Z",
     "start_time": "2021-07-28T05:54:33.758581Z"
    }
   },
   "outputs": [
    {
     "name": "stdout",
     "output_type": "stream",
     "text": [
      "[-64, -15, -2, 1, 15, 23, 23, 76]\n"
     ]
    }
   ],
   "source": [
    "y = [-15, -2, 15, 1, 23, -64, 23, 76]\n",
    "newy = []\n",
    "\n",
    "while y:\n",
    "    min = y[0]  \n",
    "    for var in y: \n",
    "        if var < min:\n",
    "            min = var\n",
    "    newy.append(min)\n",
    "    y.remove(min)    \n",
    "\n",
    "print(newy)"
   ]
  },
  {
   "cell_type": "code",
   "execution_count": 9,
   "metadata": {
    "ExecuteTime": {
     "end_time": "2021-07-28T05:55:25.166747Z",
     "start_time": "2021-07-28T05:55:25.150748Z"
    }
   },
   "outputs": [
    {
     "name": "stdout",
     "output_type": "stream",
     "text": [
      "-15\n",
      "-2\n",
      "15\n",
      "1\n",
      "23\n",
      "-64\n",
      "23\n",
      "76\n"
     ]
    }
   ],
   "source": []
  },
  {
   "cell_type": "code",
   "execution_count": null,
   "metadata": {},
   "outputs": [],
   "source": [
    "y = [2,2,3,4,5,6,6,6]\n",
    "for var in y:\n",
    "    count"
   ]
  }
 ],
 "metadata": {
  "hide_input": false,
  "kernelspec": {
   "display_name": "Python 3",
   "language": "python",
   "name": "python3"
  },
  "language_info": {
   "codemirror_mode": {
    "name": "ipython",
    "version": 3
   },
   "file_extension": ".py",
   "mimetype": "text/x-python",
   "name": "python",
   "nbconvert_exporter": "python",
   "pygments_lexer": "ipython3",
   "version": "3.8.5"
  },
  "toc": {
   "base_numbering": 1,
   "nav_menu": {},
   "number_sections": true,
   "sideBar": true,
   "skip_h1_title": false,
   "title_cell": "Table of Contents",
   "title_sidebar": "Contents",
   "toc_cell": false,
   "toc_position": {},
   "toc_section_display": true,
   "toc_window_display": false
  },
  "varInspector": {
   "cols": {
    "lenName": 16,
    "lenType": 16,
    "lenVar": 40
   },
   "kernels_config": {
    "python": {
     "delete_cmd_postfix": "",
     "delete_cmd_prefix": "del ",
     "library": "var_list.py",
     "varRefreshCmd": "print(var_dic_list())"
    },
    "r": {
     "delete_cmd_postfix": ") ",
     "delete_cmd_prefix": "rm(",
     "library": "var_list.r",
     "varRefreshCmd": "cat(var_dic_list()) "
    }
   },
   "types_to_exclude": [
    "module",
    "function",
    "builtin_function_or_method",
    "instance",
    "_Feature"
   ],
   "window_display": false
  }
 },
 "nbformat": 4,
 "nbformat_minor": 4
}
