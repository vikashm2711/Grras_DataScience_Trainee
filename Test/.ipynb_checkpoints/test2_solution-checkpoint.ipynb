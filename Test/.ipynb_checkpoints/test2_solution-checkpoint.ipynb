{
 "cells": [
  {
   "cell_type": "markdown",
   "metadata": {},
   "source": [
    "#### 1. A dictionary is given of students which there ids as keys. There ids are different but by mistake teacher give different id to same student so your task is to remove the ids with the name student name. \n",
    " "
   ]
  },
  {
   "cell_type": "code",
   "execution_count": 19,
   "metadata": {
    "ExecuteTime": {
     "end_time": "2021-06-08T12:12:02.475842Z",
     "start_time": "2021-06-08T12:12:02.458840Z"
    }
   },
   "outputs": [
    {
     "name": "stdout",
     "output_type": "stream",
     "text": [
      "{'id1': {'name': 'Samaya', 'subject': ['english', 'hindi', 'maths'], 'sports': ['badminton', 'cricket']}, 'id2': {'name': 'Rajesh', 'subject': ['english', 'hindi', 'maths'], 'sports': ['badminton', 'cricket']}}\n"
     ]
    }
   ],
   "source": [
    "student_data = {\n",
    "    \"id1\": {\n",
    "        \"name\": \"Samaya\",\n",
    "        \"subject\": ['english', 'hindi', 'maths'],\n",
    "        \"sports\": [\"badminton\", \"cricket\"]\n",
    "    },\n",
    "    \"id2\": {\n",
    "        \"name\": \"Rajesh\",\n",
    "        \"subject\": ['english', 'hindi', 'maths'],\n",
    "        \"sports\": [\"badminton\", \"cricket\"]\n",
    "    },\n",
    "    \"id3\": {\n",
    "        \"name\": \"Samaya\",\n",
    "        \"subject\": ['english', 'hindi', 'maths'],\n",
    "        \"sports\": [\"badminton\", \"cricket\"]\n",
    "    },\n",
    "    \"id4\": {\n",
    "        \"name\": \"Rajesh\",\n",
    "        \"subject\": ['english', 'hindi', 'maths'],\n",
    "        \"sports\": [\"badminton\", \"cricket\"]\n",
    "    }\n",
    "}\n",
    "temp = []\n",
    "res = dict()\n",
    "for key, val in student_data.items():\n",
    "    if val not in temp:\n",
    "        temp.append(val)\n",
    "        res[key] = val\n",
    "print(res)"
   ]
  },
  {
   "cell_type": "markdown",
   "metadata": {},
   "source": [
    "#### 2. Read the given file data.txt and convert it like the following dictionary \n",
    "> file handeling still self learning left"
   ]
  },
  {
   "cell_type": "markdown",
   "metadata": {},
   "source": [
    "#### 3. Write a function for password validation. A password must includes the following points."
   ]
  },
  {
   "cell_type": "code",
   "execution_count": 46,
   "metadata": {
    "ExecuteTime": {
     "end_time": "2021-06-08T12:58:00.752143Z",
     "start_time": "2021-06-08T12:57:42.935732Z"
    }
   },
   "outputs": [
    {
     "name": "stdout",
     "output_type": "stream",
     "text": [
      "Enter the password to validate : Vm2817@02maurya\n",
      "your Vm2817@02maurya is Valid Password\n"
     ]
    }
   ],
   "source": [
    "password = input(\"Enter the password to validate : \")\n",
    "upper = 0\n",
    "lower = 0\n",
    "special = 0\n",
    "num = 0\n",
    "digit=0\n",
    "\n",
    "if (len(password) >= 8):\n",
    "    for i in password:\n",
    "        if (i.islower()):\n",
    "            lower += 1\n",
    "        if (i.isupper()):\n",
    "            upper += 1\n",
    "        if (i.isdigit()):\n",
    "            digit += 1\n",
    "        if(i=='@'or i=='$' or i=='#' or i=='%' or i=='^' or i=='*' or i=='!' ):\n",
    "            special +=1\n",
    "\n",
    "if (lower >= 5 and upper >= 1 and digit >= 1 and special >=1):\n",
    "    print(f\"your {password} is Valid Password\")\n",
    "else:\n",
    "    print(f\"your {password} is not Invalid Password\")"
   ]
  },
  {
   "cell_type": "markdown",
   "metadata": {},
   "source": [
    "#### 4. Add lines or edit line from 3 to 10 to get the following output (Do not change lines from 11 to 13)"
   ]
  },
  {
   "cell_type": "code",
   "execution_count": 6,
   "metadata": {
    "ExecuteTime": {
     "end_time": "2021-06-08T11:07:08.118224Z",
     "start_time": "2021-06-08T11:07:08.108224Z"
    }
   },
   "outputs": [
    {
     "name": "stdout",
     "output_type": "stream",
     "text": [
      "Name :  Kushal\n",
      "Subject :  cloud computing\n",
      "Profile :  IT Trainer\n"
     ]
    }
   ],
   "source": [
    "name = \"simran\"\n",
    "def details():\n",
    "    global subject \n",
    "    subject = \"cloud computing\"\n",
    "    def change():\n",
    "        global name\n",
    "        global profile \n",
    "        name = \"Kushal\"\n",
    "        profile = \"IT Trainer\"\n",
    "    change()\n",
    "details()\n",
    "print(\"Name : \", name)\n",
    "print(\"Subject : \", subject)\n",
    "print(\"Profile : \", profile)"
   ]
  },
  {
   "cell_type": "markdown",
   "metadata": {},
   "source": [
    "#### 5. Fill the lines line1 and line2 below to get the following output"
   ]
  },
  {
   "cell_type": "code",
   "execution_count": 42,
   "metadata": {
    "ExecuteTime": {
     "end_time": "2021-06-08T12:53:39.008867Z",
     "start_time": "2021-06-08T12:53:38.998868Z"
    }
   },
   "outputs": [
    {
     "name": "stdout",
     "output_type": "stream",
     "text": [
      "Python is general purpose Language\n",
      "Python is used in unit testing also\n",
      "None\n"
     ]
    }
   ],
   "source": [
    "def check():\n",
    "    print(\"Python is used in unit testing also\")\n",
    "    \n",
    "print(\"Python is general purpose Language\")\n",
    "print(check())\n",
    "\n",
    "          \n",
    "          "
   ]
  },
  {
   "cell_type": "markdown",
   "metadata": {},
   "source": [
    "#### 6. Write a function “perfect()” that determines if parameter number is a perfect number. Use this function in a program that determines and prints all the perfect numbers between 1 and 1000."
   ]
  },
  {
   "cell_type": "code",
   "execution_count": 8,
   "metadata": {
    "ExecuteTime": {
     "end_time": "2021-06-08T11:45:54.935209Z",
     "start_time": "2021-06-08T11:45:47.154330Z"
    }
   },
   "outputs": [
    {
     "name": "stdout",
     "output_type": "stream",
     "text": [
      "Enter the number to check : 6\n",
      "perfect number:6 \n",
      "perfect number:28 \n",
      "perfect number:496 \n",
      "perfect number:8128 \n",
      "6 is a perfect number\n"
     ]
    }
   ],
   "source": [
    "def perfect(value):\n",
    "    global result\n",
    "    result= []\n",
    "    for Number in range(1, 10001):\n",
    "        Sum = 0\n",
    "        for n in range(1, Number - 1):\n",
    "            if(Number % n == 0):\n",
    "                Sum = Sum + n\n",
    "        # display the result\n",
    "        if(Sum == Number):\n",
    "            result.append(Number)\n",
    "            print(f\"perfect number:{Number} \")\n",
    "    for v in range(len(result)):\n",
    "        if (result[v] == value):\n",
    "            print(f\"Your Number {value} is a perfect number\")\n",
    "            break\n",
    "        else:\n",
    "            print(f\"Your Number {value} is a not perfect number\")\n",
    "\n",
    "        \n",
    "\n",
    "value= int(input(\"Enter the number to check : \"))\n",
    "perfect(value)\n"
   ]
  },
  {
   "cell_type": "markdown",
   "metadata": {},
   "source": [
    "#### 7. You are in charge of the cake for a child's birthday. You have decided the cake will have one candle for each year of their total age. They will only be able to blow out the tallest of the candles. Count how many candles are tallest.        "
   ]
  },
  {
   "cell_type": "code",
   "execution_count": 13,
   "metadata": {
    "ExecuteTime": {
     "end_time": "2021-06-08T11:59:34.384844Z",
     "start_time": "2021-06-08T11:59:34.375841Z"
    }
   },
   "outputs": [
    {
     "name": "stdout",
     "output_type": "stream",
     "text": [
      "13 is the talledt candle and it occurs 2 time\n"
     ]
    }
   ],
   "source": [
    "candel=[1,12,3,4,5,6,13,13]\n",
    "sa=len(candel)\n",
    "\n",
    "max=candel[0]\n",
    "for i in candel:\n",
    "    if i > max:\n",
    "        max = i\n",
    "    \n",
    "print(f\"{max} is the talledt candle and it occurs {candel.count(max)} time\")"
   ]
  },
  {
   "cell_type": "markdown",
   "metadata": {},
   "source": [
    "#### 8. How many instances are made from line 1 to line 2 in the class below\n",
    "> OOPS self learning is under process\n",
    "    "
   ]
  },
  {
   "cell_type": "code",
   "execution_count": 29,
   "metadata": {
    "ExecuteTime": {
     "end_time": "2021-06-08T12:28:32.498510Z",
     "start_time": "2021-06-08T12:28:32.475510Z"
    }
   },
   "outputs": [],
   "source": [
    "class Grras:\n",
    "    counter = 0\n",
    "    def __init__(self, name, subject):\n",
    "        self.name = name\n",
    "        self.subject = subject\n",
    "\n",
    "trainer1 = Grras(\"a\",\"b\")  # LINE1\n",
    "trainer2 = Grras(\"c\",\"d\")\n",
    "trainer3 = trainer2\n",
    "trainer2 = trainer1\n",
    "trainer2 = Grras()\n",
    "trainer1 = trainer2  # LINE2"
   ]
  },
  {
   "cell_type": "markdown",
   "metadata": {},
   "source": [
    "#### 8. Sam's house has an apple tree and an orange tree that yield an abundance of fruit. Using the information given below, determine the number of apples and oranges that land on Sam's house.\n",
    "> Need more pracitce to solve such question    "
   ]
  }
 ],
 "metadata": {
  "hide_input": false,
  "kernelspec": {
   "display_name": "Python 3",
   "language": "python",
   "name": "python3"
  },
  "language_info": {
   "codemirror_mode": {
    "name": "ipython",
    "version": 3
   },
   "file_extension": ".py",
   "mimetype": "text/x-python",
   "name": "python",
   "nbconvert_exporter": "python",
   "pygments_lexer": "ipython3",
   "version": "3.8.5"
  },
  "toc": {
   "base_numbering": 1,
   "nav_menu": {},
   "number_sections": true,
   "sideBar": true,
   "skip_h1_title": false,
   "title_cell": "Table of Contents",
   "title_sidebar": "Contents",
   "toc_cell": false,
   "toc_position": {},
   "toc_section_display": true,
   "toc_window_display": false
  },
  "varInspector": {
   "cols": {
    "lenName": 16,
    "lenType": 16,
    "lenVar": 40
   },
   "kernels_config": {
    "python": {
     "delete_cmd_postfix": "",
     "delete_cmd_prefix": "del ",
     "library": "var_list.py",
     "varRefreshCmd": "print(var_dic_list())"
    },
    "r": {
     "delete_cmd_postfix": ") ",
     "delete_cmd_prefix": "rm(",
     "library": "var_list.r",
     "varRefreshCmd": "cat(var_dic_list()) "
    }
   },
   "types_to_exclude": [
    "module",
    "function",
    "builtin_function_or_method",
    "instance",
    "_Feature"
   ],
   "window_display": false
  }
 },
 "nbformat": 4,
 "nbformat_minor": 2
}
