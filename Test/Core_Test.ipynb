{
 "cells": [
  {
   "cell_type": "markdown",
   "metadata": {},
   "source": []
  },
  {
   "cell_type": "markdown",
   "metadata": {},
   "source": []
  },
  {
   "cell_type": "markdown",
   "metadata": {},
   "source": []
  },
  {
   "cell_type": "markdown",
   "metadata": {},
   "source": [
    "#### 1. A dictionary is given of students which there ids as keys. There ids are different but by mistake teacher give different id to same student so your task is to remove the ids with the name student name. \n",
    " "
   ]
  },
  {
   "cell_type": "code",
   "execution_count": 19,
   "metadata": {
    "ExecuteTime": {
     "end_time": "2021-06-08T12:12:02.475842Z",
     "start_time": "2021-06-08T12:12:02.458840Z"
    },
    "code_folding": []
   },
   "outputs": [
    {
     "name": "stdout",
     "output_type": "stream",
     "text": [
      "{'id1': {'name': 'Samaya', 'subject': ['english', 'hindi', 'maths'], 'sports': ['badminton', 'cricket']}, 'id2': {'name': 'Rajesh', 'subject': ['english', 'hindi', 'maths'], 'sports': ['badminton', 'cricket']}}\n"
     ]
    }
   ],
   "source": [
    "student_data = {\n",
    "    \"id1\": {\n",
    "        \"name\": \"Samaya\",\n",
    "        \"subject\": ['english', 'hindi', 'maths'],\n",
    "        \"sports\": [\"badminton\", \"cricket\"]\n",
    "    },\n",
    "    \"id2\": {\n",
    "        \"name\": \"Rajesh\",\n",
    "        \"subject\": ['english', 'hindi', 'maths'],\n",
    "        \"sports\": [\"badminton\", \"cricket\"]\n",
    "    },\n",
    "    \"id3\": {\n",
    "        \"name\": \"Samaya\",\n",
    "        \"subject\": ['english', 'hindi', 'maths'],\n",
    "        \"sports\": [\"badminton\", \"cricket\"]\n",
    "    },\n",
    "    \"id4\": {\n",
    "        \"name\": \"Rajesh\",\n",
    "        \"subject\": ['english', 'hindi', 'maths'],\n",
    "        \"sports\": [\"badminton\", \"cricket\"]\n",
    "    }\n",
    "}\n",
    "temp = []\n",
    "res = dict()\n",
    "for key, val in student_data.items():\n",
    "    if val not in temp:\n",
    "        temp.append(val)\n",
    "        res[key] = val\n",
    "print(res)"
   ]
  },
  {
   "cell_type": "markdown",
   "metadata": {},
   "source": [
    "#### 2. Read the given file data.txt and convert it like the following dictionary \n",
    "> file handeling still self learning left"
   ]
  },
  {
   "cell_type": "markdown",
   "metadata": {},
   "source": [
    "#### 3. Write a function for password validation. A password must includes the following points."
   ]
  },
  {
   "cell_type": "code",
   "execution_count": 45,
   "metadata": {
    "ExecuteTime": {
     "end_time": "2021-06-08T12:57:26.713665Z",
     "start_time": "2021-06-08T12:57:17.350062Z"
    }
   },
   "outputs": [
    {
     "name": "stdout",
     "output_type": "stream",
     "text": [
      "Enter the password to validate : vikashmaurya!@#123\n",
      "your vikashmaurya!@#123 is not Invalid Password\n"
     ]
    }
   ],
   "source": [
    "password = input(\"Enter the password to validate : \")\n",
    "upper = 0\n",
    "lower = 0\n",
    "special = 0\n",
    "num = 0\n",
    "digit=0\n",
    "\n",
    "if (len(password) >= 8):\n",
    "    for i in password:\n",
    "        if (i.islower()):\n",
    "            lower += 1\n",
    "        if (i.isupper()):\n",
    "            upper += 1\n",
    "        if (i.isdigit()):\n",
    "            digit += 1\n",
    "        if(i=='@'or i=='$' or i=='#' or i=='%' or i=='^' or i=='*' or i=='!' ):\n",
    "            special +=1\n",
    "\n",
    "if (lower >= 5 and upper >= 1 and digit >= 1 and special >=1):\n",
    "    print(f\"your {password} is Valid Password\")\n",
    "else:\n",
    "    print(f\"your {password} is not Invalid Password\")"
   ]
  },
  {
   "cell_type": "markdown",
   "metadata": {},
   "source": [
    "#### 4. Add lines or edit line from 3 to 10 to get the following output (Do not change lines from 11 to 13)"
   ]
  },
  {
   "cell_type": "code",
   "execution_count": 6,
   "metadata": {
    "ExecuteTime": {
     "end_time": "2021-06-08T11:07:08.118224Z",
     "start_time": "2021-06-08T11:07:08.108224Z"
    },
    "code_folding": []
   },
   "outputs": [
    {
     "name": "stdout",
     "output_type": "stream",
     "text": [
      "Name :  Kushal\n",
      "Subject :  cloud computing\n",
      "Profile :  IT Trainer\n"
     ]
    }
   ],
   "source": [
    "name = \"simran\"\n",
    "def details():\n",
    "    global subject \n",
    "    subject = \"cloud computing\"\n",
    "    def change():\n",
    "        global name\n",
    "        global profile \n",
    "        name = \"Kushal\"\n",
    "        profile = \"IT Trainer\"\n",
    "    change()\n",
    "details()\n",
    "print(\"Name : \", name)\n",
    "print(\"Subject : \", subject)\n",
    "print(\"Profile : \", profile)"
   ]
  },
  {
   "cell_type": "markdown",
   "metadata": {},
   "source": [
    "#### 5. Fill the lines line1 and line2 below to get the following output"
   ]
  },
  {
   "cell_type": "code",
   "execution_count": 42,
   "metadata": {
    "ExecuteTime": {
     "end_time": "2021-06-08T12:53:39.008867Z",
     "start_time": "2021-06-08T12:53:38.998868Z"
    }
   },
   "outputs": [
    {
     "name": "stdout",
     "output_type": "stream",
     "text": [
      "Python is general purpose Language\n",
      "Python is used in unit testing also\n",
      "None\n"
     ]
    }
   ],
   "source": [
    "def check():\n",
    "    print(\"Python is used in unit testing also\")\n",
    "    \n",
    "print(\"Python is general purpose Language\")\n",
    "print(check())\n",
    "\n",
    "          \n",
    "          "
   ]
  },
  {
   "cell_type": "markdown",
   "metadata": {},
   "source": [
    "#### 6. Write a function “perfect()” that determines if parameter number is a perfect number. Use this function in a program that determines and prints all the perfect numbers between 1 and 1000."
   ]
  },
  {
   "cell_type": "code",
   "execution_count": 8,
   "metadata": {
    "ExecuteTime": {
     "end_time": "2021-06-08T11:45:54.935209Z",
     "start_time": "2021-06-08T11:45:47.154330Z"
    }
   },
   "outputs": [
    {
     "name": "stdout",
     "output_type": "stream",
     "text": [
      "Enter the number to check : 6\n",
      "perfect number:6 \n",
      "perfect number:28 \n",
      "perfect number:496 \n",
      "perfect number:8128 \n",
      "6 is a perfect number\n"
     ]
    }
   ],
   "source": [
    "def perfect(value):\n",
    "    global result\n",
    "    result= []\n",
    "    for Number in range(1, 10001):\n",
    "        Sum = 0\n",
    "        for n in range(1, Number - 1):\n",
    "            if(Number % n == 0):\n",
    "                Sum = Sum + n\n",
    "        # display the result\n",
    "        if(Sum == Number):\n",
    "            result.append(Number)\n",
    "            print(f\"perfect number:{Number} \")\n",
    "    for v in range(len(result)):\n",
    "        if (result[v] == value):\n",
    "            print(f\"Your Number {value} is a perfect number\")\n",
    "            break\n",
    "        else:\n",
    "            print(f\"Your Number {value} is a not perfect number\")\n",
    "\n",
    "        \n",
    "\n",
    "value= int(input(\"Enter the number to check : \"))\n",
    "perfect(value)\n"
   ]
  },
  {
   "cell_type": "markdown",
   "metadata": {},
   "source": [
    "#### 7. You are in charge of the cake for a child's birthday. You have decided the cake will have one candle for each year of their total age. They will only be able to blow out the tallest of the candles. Count how many candles are tallest.        "
   ]
  },
  {
   "cell_type": "code",
   "execution_count": 13,
   "metadata": {
    "ExecuteTime": {
     "end_time": "2021-06-08T11:59:34.384844Z",
     "start_time": "2021-06-08T11:59:34.375841Z"
    },
    "hide_input": true
   },
   "outputs": [
    {
     "name": "stdout",
     "output_type": "stream",
     "text": [
      "13 is the talledt candle and it occurs 2 time\n"
     ]
    }
   ],
   "source": [
    "candel=[1,12,3,4,5,6,13,13]\n",
    "sa=len(candel)\n",
    "\n",
    "max=candel[0]\n",
    "for i in candel:\n",
    "    if i > max:\n",
    "        max = i\n",
    "    \n",
    "print(f\"{max} is the talledt candle and it occurs {candel.count(max)} time\")"
   ]
  },
  {
   "cell_type": "markdown",
   "metadata": {},
   "source": [
    "#### 8. How many instances are made from line 1 to line 2 in the class below\n",
    "> OOPS self learning is under process\n",
    "    "
   ]
  },
  {
   "cell_type": "code",
   "execution_count": 29,
   "metadata": {
    "ExecuteTime": {
     "end_time": "2021-06-08T12:28:32.498510Z",
     "start_time": "2021-06-08T12:28:32.475510Z"
    },
    "code_folding": []
   },
   "outputs": [],
   "source": [
    "class Grras:\n",
    "    counter = 0\n",
    "    def __init__(self, name, subject):\n",
    "        self.name = name\n",
    "        self.subject = subject\n",
    "\n",
    "trainer1 = Grras(\"a\",\"b\")  # LINE1\n",
    "trainer2 = Grras(\"c\",\"d\")\n",
    "trainer3 = trainer2\n",
    "trainer2 = trainer1\n",
    "trainer2 = Grras()\n",
    "trainer1 = trainer2  # LINE2"
   ]
  },
  {
   "cell_type": "code",
   "execution_count": 4,
   "metadata": {
    "ExecuteTime": {
     "end_time": "2021-06-18T16:43:17.828471Z",
     "start_time": "2021-06-18T16:43:15.185328Z"
    }
   },
   "outputs": [
    {
     "name": "stdout",
     "output_type": "stream",
     "text": [
      "entre your namer\n",
      "--------------------------------------------------------------------------------------------------------------------------------------------------------------------------------------------------------\n",
      "--------------------------------------------------------------------------------------------------------------------------------------------------------------------------------------------------------\n",
      "********************************************************************************************************************************************************************************************************\n",
      "                              Welcome to Rock, Paper and Scissor Game                               \n",
      "********************************************************************************************************************************************************************************************************\n",
      "--------------------------------------------------------------------------------------------------------------------------------------------------------------------------------------------------------\n",
      "--------------------------------------------------------------------------------------------------------------------------------------------------------------------------------------------------------\n"
     ]
    }
   ],
   "source": [
    "from random import choice\n",
    "\n",
    "Options = (\"rock\", \"paper\", \"scissor\")\n",
    "name =  input(\"entre your name\")\n",
    "win = (('rock','scisssor'), ('paper','rock'),('scissor','paper'))\n",
    "\n",
    "print(\"--\" * 100)\n",
    "print(\"--\" * 100)\n",
    "print(\"**\" *100)\n",
    "print(\"Welcome to Rock, Paper and Scissor Game\".center(100))\n",
    "print(\"**\" *100)\n",
    "print(\"--\" * 100)\n",
    "print(\"--\" * 100)"
   ]
  },
  {
   "cell_type": "code",
   "execution_count": 5,
   "metadata": {
    "ExecuteTime": {
     "end_time": "2021-06-18T17:03:45.231817Z",
     "start_time": "2021-06-18T16:43:25.859105Z"
    },
    "scrolled": true
   },
   "outputs": [
    {
     "name": "stdout",
     "output_type": "stream",
     "text": [
      "Entre your choice : r\n",
      "Computer choice: scissor\n",
      "computer wins scissor\n"
     ]
    },
    {
     "ename": "KeyboardInterrupt",
     "evalue": "Interrupted by user",
     "output_type": "error",
     "traceback": [
      "\u001b[1;31m---------------------------------------------------------------------------\u001b[0m",
      "\u001b[1;31mKeyboardInterrupt\u001b[0m                         Traceback (most recent call last)",
      "\u001b[1;32m<ipython-input-5-49cc19223e6d>\u001b[0m in \u001b[0;36m<module>\u001b[1;34m\u001b[0m\n\u001b[0;32m     11\u001b[0m         \u001b[0mprint\u001b[0m\u001b[1;33m(\u001b[0m\u001b[1;34mf\"computer wins {com}\"\u001b[0m\u001b[1;33m)\u001b[0m\u001b[1;33m\u001b[0m\u001b[1;33m\u001b[0m\u001b[0m\n\u001b[0;32m     12\u001b[0m \u001b[1;33m\u001b[0m\u001b[0m\n\u001b[1;32m---> 13\u001b[1;33m     \u001b[0mch\u001b[0m \u001b[1;33m=\u001b[0m \u001b[0minput\u001b[0m\u001b[1;33m(\u001b[0m\u001b[1;34m\"Do you want to play again?\"\u001b[0m\u001b[1;33m)\u001b[0m\u001b[1;33m\u001b[0m\u001b[1;33m\u001b[0m\u001b[0m\n\u001b[0m\u001b[0;32m     14\u001b[0m \u001b[1;33m\u001b[0m\u001b[0m\n\u001b[0;32m     15\u001b[0m     \u001b[1;32mif\u001b[0m \u001b[0mch\u001b[0m \u001b[1;33m==\u001b[0m \u001b[1;34m\"yes\"\u001b[0m \u001b[1;32mor\u001b[0m \u001b[1;34m\"y\"\u001b[0m\u001b[1;33m:\u001b[0m\u001b[1;33m\u001b[0m\u001b[1;33m\u001b[0m\u001b[0m\n",
      "\u001b[1;32mC:\\ProgramData\\Anaconda3\\lib\\site-packages\\ipykernel\\kernelbase.py\u001b[0m in \u001b[0;36mraw_input\u001b[1;34m(self, prompt)\u001b[0m\n\u001b[0;32m    858\u001b[0m                 \u001b[1;34m\"raw_input was called, but this frontend does not support input requests.\"\u001b[0m\u001b[1;33m\u001b[0m\u001b[1;33m\u001b[0m\u001b[0m\n\u001b[0;32m    859\u001b[0m             )\n\u001b[1;32m--> 860\u001b[1;33m         return self._input_request(str(prompt),\n\u001b[0m\u001b[0;32m    861\u001b[0m             \u001b[0mself\u001b[0m\u001b[1;33m.\u001b[0m\u001b[0m_parent_ident\u001b[0m\u001b[1;33m,\u001b[0m\u001b[1;33m\u001b[0m\u001b[1;33m\u001b[0m\u001b[0m\n\u001b[0;32m    862\u001b[0m             \u001b[0mself\u001b[0m\u001b[1;33m.\u001b[0m\u001b[0m_parent_header\u001b[0m\u001b[1;33m,\u001b[0m\u001b[1;33m\u001b[0m\u001b[1;33m\u001b[0m\u001b[0m\n",
      "\u001b[1;32mC:\\ProgramData\\Anaconda3\\lib\\site-packages\\ipykernel\\kernelbase.py\u001b[0m in \u001b[0;36m_input_request\u001b[1;34m(self, prompt, ident, parent, password)\u001b[0m\n\u001b[0;32m    902\u001b[0m             \u001b[1;32mexcept\u001b[0m \u001b[0mKeyboardInterrupt\u001b[0m\u001b[1;33m:\u001b[0m\u001b[1;33m\u001b[0m\u001b[1;33m\u001b[0m\u001b[0m\n\u001b[0;32m    903\u001b[0m                 \u001b[1;31m# re-raise KeyboardInterrupt, to truncate traceback\u001b[0m\u001b[1;33m\u001b[0m\u001b[1;33m\u001b[0m\u001b[1;33m\u001b[0m\u001b[0m\n\u001b[1;32m--> 904\u001b[1;33m                 \u001b[1;32mraise\u001b[0m \u001b[0mKeyboardInterrupt\u001b[0m\u001b[1;33m(\u001b[0m\u001b[1;34m\"Interrupted by user\"\u001b[0m\u001b[1;33m)\u001b[0m \u001b[1;32mfrom\u001b[0m \u001b[1;32mNone\u001b[0m\u001b[1;33m\u001b[0m\u001b[1;33m\u001b[0m\u001b[0m\n\u001b[0m\u001b[0;32m    905\u001b[0m             \u001b[1;32mexcept\u001b[0m \u001b[0mException\u001b[0m \u001b[1;32mas\u001b[0m \u001b[0me\u001b[0m\u001b[1;33m:\u001b[0m\u001b[1;33m\u001b[0m\u001b[1;33m\u001b[0m\u001b[0m\n\u001b[0;32m    906\u001b[0m                 \u001b[0mself\u001b[0m\u001b[1;33m.\u001b[0m\u001b[0mlog\u001b[0m\u001b[1;33m.\u001b[0m\u001b[0mwarning\u001b[0m\u001b[1;33m(\u001b[0m\u001b[1;34m\"Invalid Message:\"\u001b[0m\u001b[1;33m,\u001b[0m \u001b[0mexc_info\u001b[0m\u001b[1;33m=\u001b[0m\u001b[1;32mTrue\u001b[0m\u001b[1;33m)\u001b[0m\u001b[1;33m\u001b[0m\u001b[1;33m\u001b[0m\u001b[0m\n",
      "\u001b[1;31mKeyboardInterrupt\u001b[0m: Interrupted by user"
     ]
    }
   ],
   "source": [
    "\n",
    "\n",
    "while True:\n",
    "    \n",
    "    com  = choice(Options)\n",
    "    Player = input(\"Entre your choice : \")\n",
    "    print(f\"Computer choice: {com}\")\n",
    "    if (Player,com) in win:\n",
    "        print(f\"player wins {name} computer choice {com}\")\n",
    "    elif Player == com:\n",
    "        print(f\"Its a tie --> computer choice {com}\")\n",
    "    else:\n",
    "        print(f\"computer wins {com}\")\n",
    "    \n",
    "    ch = input(\"Do you want to play again?\")\n",
    "    \n",
    "    if ch == \"yes\" or \"y\":\n",
    "        continue\n",
    "    else:\n",
    "        print(\"Thank you\")\n",
    "        break\n"
   ]
  },
  {
   "cell_type": "markdown",
   "metadata": {},
   "source": [
    "#### 8. Sam's house has an apple tree and an orange tree that yield an abundance of fruit. Using the information given below, determine the number of apples and oranges that land on Sam's house.\n",
    "> Need more pracitce to solve such question    "
   ]
  },
  {
   "cell_type": "code",
   "execution_count": null,
   "metadata": {
    "ExecuteTime": {
     "start_time": "2021-06-18T17:14:00.263Z"
    }
   },
   "outputs": [
    {
     "name": "stdout",
     "output_type": "stream",
     "text": [
      "entre your name : V\n",
      "Entre your choice : ROCK\n",
      "Computer choice is :paper \n",
      "computer wins paper\n",
      "Do you want to play again?y\n",
      "Entre your choice : PAper\n",
      "Computer choice is :paper \n",
      "Its a tie --> computer choice paper\n"
     ]
    }
   ],
   "source": [
    "from random import choice\n",
    "\n",
    "Options = (\"rock\", \"paper\", \"scissor\")\n",
    "name =  input(\"entre your name : \")\n",
    "Win = (('rock','scisssor'), ('paper','rock'),('scissor','paper'))\n",
    "\n",
    "\n",
    "while True:\n",
    "        com  = choice(Options)\n",
    "        Player = input(\"Entre your choice : \")\n",
    "        Player= Player.lower()\n",
    "        print(f\"Computer choice is :{com} \")\n",
    "\n",
    "        if (Player,com) in Win:\n",
    "            print(f\"player wins {name} computer choice {com}\")\n",
    "        elif Player == com:\n",
    "            print(f\"Its a tie --> computer choice {com}\")\n",
    "        else:\n",
    "            print(f\"computer wins {com}\")\n",
    "        \n",
    "        ch = input(\"Do you want to play again?\")\n",
    "        \n",
    "        if ch == \"yes\" or \"y\":\n",
    "            continue\n",
    "        else:\n",
    "            print(\"Thank you\")\n",
    "            break"
   ]
  },
  {
   "cell_type": "code",
   "execution_count": 12,
   "metadata": {
    "ExecuteTime": {
     "end_time": "2021-06-18T17:13:49.902764Z",
     "start_time": "2021-06-18T17:13:47.253448Z"
    }
   },
   "outputs": [
    {
     "name": "stdout",
     "output_type": "stream",
     "text": [
      "Entre your choice : VIKASH\n",
      "vikash\n"
     ]
    }
   ],
   "source": [
    "Player = input(\"Entre your choice : \")\n",
    "Player= Player.lower()\n",
    "print(Player)"
   ]
  },
  {
   "cell_type": "code",
   "execution_count": null,
   "metadata": {},
   "outputs": [],
   "source": []
  }
 ],
 "metadata": {
  "hide_input": false,
  "kernelspec": {
   "display_name": "Python 3",
   "language": "python",
   "name": "python3"
  },
  "notify_time": "5",
  "toc": {
   "base_numbering": 1,
   "nav_menu": {},
   "number_sections": true,
   "sideBar": true,
   "skip_h1_title": false,
   "title_cell": "Table of Contents",
   "title_sidebar": "Contents",
   "toc_cell": false,
   "toc_position": {},
   "toc_section_display": true,
   "toc_window_display": false
  },
  "varInspector": {
   "cols": {
    "lenName": 16,
    "lenType": 16,
    "lenVar": 40
   },
   "kernels_config": {
    "python": {
     "delete_cmd_postfix": "",
     "delete_cmd_prefix": "del ",
     "library": "var_list.py",
     "varRefreshCmd": "print(var_dic_list())"
    },
    "r": {
     "delete_cmd_postfix": ") ",
     "delete_cmd_prefix": "rm(",
     "library": "var_list.r",
     "varRefreshCmd": "cat(var_dic_list()) "
    }
   },
   "types_to_exclude": [
    "module",
    "function",
    "builtin_function_or_method",
    "instance",
    "_Feature"
   ],
   "window_display": false
  }
 },
 "nbformat": 4,
 "nbformat_minor": 2
}
