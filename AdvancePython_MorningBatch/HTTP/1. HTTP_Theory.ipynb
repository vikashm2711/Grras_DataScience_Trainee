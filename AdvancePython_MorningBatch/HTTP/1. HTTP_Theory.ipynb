{
 "cells": [
  {
   "cell_type": "markdown",
   "id": "73c7045f",
   "metadata": {},
   "source": [
    "### HTTP\n",
    "\n",
    "    Hyper Text Transfer Protocol \n",
    "    \n",
    "        Protocol --> Set of rules\n",
    "        \n",
    "        \n",
    "    https://www.example.com --> URL \n",
    "    \n",
    "    \n",
    "    Communication between your client and server \n",
    "    \n",
    "        Request --> \n",
    "                Head\n",
    "                \n",
    "                Data\n",
    "        \n",
    "        Response -->\n",
    "                Head\n",
    "                \n",
    "                Data "
   ]
  },
  {
   "cell_type": "markdown",
   "id": "86b8ba93",
   "metadata": {},
   "source": [
    "    https://www.google.com/search?q=images+of+sun&sxsrf=AOaemvJF4KaeZewd-Vdtf7FOCprEJjQtuw%3A1631249042623&source=hp&ei=kuI6YbPdIsqKxc8P1fKOuAs&iflsig=ALs-wAMAAAAAYTrwopb0UCGt2TbCO5kKSdYlKtCHnUTc&oq=images+of+sun&gs_lcp=Cgdnd3Mtd2l6EAMyBQgAEIAEMgUIABCABDIFCAAQgAQyBQgAEIAEMgUIABCABDIFCAAQgAQyBQgAEIAEMgUIABCABDIFCAAQgAQyBQgAEIAEOgQIIxAnOgsIABCABBCxAxCDAToFCAAQkQI6EQguEIAEELEDEIMBEMcBENEDOggIABCxAxCRAjoICAAQgAQQsQM6BQguEIAEOgsILhCABBDHARCvAToICAAQsQMQgwFQgRpY9SxgujhoAHAAeACAAb8BiAG5DpIBBDAuMTOYAQCgAQE&sclient=gws-wiz&ved=0ahUKEwiz7uOdzPPyAhVKRfEDHVW5A7cQ4dUDCAc&uact=5"
   ]
  },
  {
   "cell_type": "markdown",
   "id": "84f42b89",
   "metadata": {},
   "source": [
    "    /anything --> path\n",
    "    google.com --> domain \n",
    "    google.com/hello --> /hello --> path"
   ]
  },
  {
   "cell_type": "code",
   "execution_count": null,
   "id": "5fd4b893",
   "metadata": {},
   "outputs": [],
   "source": []
  }
 ],
 "metadata": {
  "kernelspec": {
   "display_name": "Python 3",
   "language": "python",
   "name": "python3"
  },
  "language_info": {
   "codemirror_mode": {
    "name": "ipython",
    "version": 3
   },
   "file_extension": ".py",
   "mimetype": "text/x-python",
   "name": "python",
   "nbconvert_exporter": "python",
   "pygments_lexer": "ipython3",
   "version": "3.8.8"
  }
 },
 "nbformat": 4,
 "nbformat_minor": 5
}
