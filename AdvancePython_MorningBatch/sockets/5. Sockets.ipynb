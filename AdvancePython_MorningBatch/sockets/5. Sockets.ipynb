{
 "cells": [
  {
   "cell_type": "code",
   "execution_count": 1,
   "id": "4df05ac0",
   "metadata": {},
   "outputs": [
    {
     "name": "stdout",
     "output_type": "stream",
     "text": [
      "Overwriting server_chat.py\n"
     ]
    }
   ],
   "source": [
    "%%writefile server_chat.py\n",
    "\n",
    "import socket\n",
    "\n",
    "server = socket.socket(socket.AF_INET, socket.SOCK_STREAM)\n",
    "ip = socket.gethostbyname(socket.gethostname())\n",
    "port = 1234\n",
    "\n",
    "server.bind((ip, port))  # defined the IP and PORT of server\n",
    "server.listen()\n",
    "print(f\"\\n Server is ready to listen at IP {ip} and PORT {port}\")\n",
    "\n",
    "client_socket, client_addr = server.accept()\n",
    "\n",
    "print(f\"\\n Client is running at IP {client_addr[0]} and PORT {client_addr[1]}\")\n",
    "client_socket.send(\"Your Request is accepted\".encode())  # encode --> to convert in bytes mode\n",
    "\n",
    "cmsg = client_socket.recv(1024).decode()\n",
    "print(f\"\\n Client --> {cmsg}\") \n",
    "\n",
    "break_cond = ['bye', 'bubye', 'tata', 'see you', 'c u', 'ttyl', 'talk to you later']\n",
    "exit = False\n",
    "while True:\n",
    "    # Taking input from server and sending it to client\n",
    "    smsg = input(\"\\n Server --> \")\n",
    "    client_socket.send(smsg.encode())\n",
    "    for i in break_cond:\n",
    "        if i in smsg.strip().lower():\n",
    "            print(\"\\n Server want to discontinue....\")\n",
    "            client_socket.close() # releasing the port of the socket\n",
    "            exit = True\n",
    "            break\n",
    "    if exit:\n",
    "        break\n",
    "    # Recieving msgs from client\n",
    "    cmsg = client_socket.recv(1024).decode()\n",
    "    print(\"\\n CLient --> \", cmsg)\n",
    "    for i in break_cond:\n",
    "        if i in cmsg.strip().lower():\n",
    "            print(\"\\n Client want to discontinue....\")\n",
    "            client_socket.close() # releasing the port of the socket\n",
    "            exit = True\n",
    "            break\n",
    "    if exit:\n",
    "        break"
   ]
  },
  {
   "cell_type": "code",
   "execution_count": 7,
   "id": "ad001fab",
   "metadata": {},
   "outputs": [
    {
     "name": "stdout",
     "output_type": "stream",
     "text": [
      "Overwriting client_chat.py\n"
     ]
    }
   ],
   "source": [
    "%%writefile client_chat.py\n",
    "\n",
    "import socket\n",
    "\n",
    "sock = socket.socket(socket.AF_INET, socket.SOCK_STREAM)  # that will be working at client side\n",
    "# and will help to connect with server\n",
    "ip = socket.gethostbyname(socket.gethostname())  # server IP\n",
    "port = 1234  # server PORT\n",
    "\n",
    "sock.connect((ip, port))  # connecting with server IP and PORT\n",
    "\n",
    "smsg = sock.recv(1024).decode()\n",
    "print(f\"\\n Server --> {smsg}\")\n",
    "\n",
    "sock.send(\"Thankyou for accepting request\".encode())\n",
    "break_cond = ['bye', 'bubye', 'tata', 'see you', 'c u', 'ttyl', 'talk to you later']\n",
    "exit = False\n",
    "while True:\n",
    "    # Receiving Messages from server\n",
    "    smsg = sock.recv(1024).decode()\n",
    "    print(\"\\n Server --> \", smsg)\n",
    "    for i in break_cond:\n",
    "        if i in smsg.strip().lower():\n",
    "            print(\"\\n Server want to discontinue....\")\n",
    "            exit = True\n",
    "            break\n",
    "    if exit:\n",
    "        break\n",
    "       \n",
    "    # Sending msgs to server\n",
    "    cmsg = input(\"\\n Client --> \")\n",
    "    sock.send(cmsg.encode())\n",
    "    for i in break_cond:\n",
    "        if i in cmsg.strip().lower():\n",
    "            print(\"\\n Client want to discontinue....\")\n",
    "            exit = True\n",
    "            break\n",
    "    if exit:\n",
    "        break"
   ]
  },
  {
   "cell_type": "code",
   "execution_count": 5,
   "id": "ab056a25",
   "metadata": {},
   "outputs": [
    {
     "name": "stdout",
     "output_type": "stream",
     "text": [
      "Writing server_file.py\n"
     ]
    }
   ],
   "source": [
    "%%writefile server_file.py\n",
    "\n",
    "import socket\n",
    "import os\n",
    "\n",
    "server = socket.socket(socket.AF_INET, socket.SOCK_STREAM)\n",
    "ip = socket.gethostbyname(socket.gethostname())\n",
    "port = 1234\n",
    "\n",
    "server.bind((ip, port))  # defined the IP and PORT of server\n",
    "server.listen()\n",
    "print(f\"\\n Server is ready to listen at IP {ip} and PORT {port}\")\n",
    "\n",
    "client_socket, client_addr = server.accept()\n",
    "\n",
    "print(f\"\\n Client is running at IP {client_addr[0]} and PORT {client_addr[1]}\")\n",
    "client_socket.send(\"Your Request is accepted\".encode())  # encode --> to convert in bytes mode\n",
    "\n",
    "cmsg = client_socket.recv(1024).decode()\n",
    "print(f\"\\n Client --> {cmsg}\") \n",
    "\n",
    "\n",
    "path = client_socket.recv(1024).decode() # receiving the file path which the client wants\n",
    "if os.path.exists(path):\n",
    "    client_socket.send(\"Sharing file.....\".encode())\n",
    "else:\n",
    "    client_socket.send(\"File Does Not Exist... Please check the filename.....\".encode())"
   ]
  },
  {
   "cell_type": "code",
   "execution_count": 4,
   "id": "3871d001",
   "metadata": {},
   "outputs": [
    {
     "name": "stdout",
     "output_type": "stream",
     "text": [
      "\n",
      "Windows IP Configuration\n",
      "\n",
      "\n",
      "Ethernet adapter Ethernet:\n",
      "\n",
      "   Media State . . . . . . . . . . . : Media disconnected\n",
      "   Connection-specific DNS Suffix  . : \n",
      "\n",
      "Wireless LAN adapter Local Area Connection* 1:\n",
      "\n",
      "   Media State . . . . . . . . . . . : Media disconnected\n",
      "   Connection-specific DNS Suffix  . : \n",
      "\n",
      "Wireless LAN adapter Local Area Connection* 10:\n",
      "\n",
      "   Media State . . . . . . . . . . . : Media disconnected\n",
      "   Connection-specific DNS Suffix  . : \n",
      "\n",
      "Wireless LAN adapter Wi-Fi:\n",
      "\n",
      "   Connection-specific DNS Suffix  . : \n",
      "   IPv6 Address. . . . . . . . . . . : 2402:e280:2307:37e:9b4:2aa4:2b0d:2365\n",
      "   Temporary IPv6 Address. . . . . . : 2402:e280:2307:37e:49c1:3877:3dea:61b7\n",
      "   Link-local IPv6 Address . . . . . : fe80::9b4:2aa4:2b0d:2365%9\n",
      "   IPv4 Address. . . . . . . . . . . : 192.168.1.7\n",
      "   Subnet Mask . . . . . . . . . . . : 255.255.255.0\n",
      "   Default Gateway . . . . . . . . . : fe80::1%9\n",
      "                                       192.168.1.254\n",
      "\n",
      "Ethernet adapter Bluetooth Network Connection:\n",
      "\n",
      "   Media State . . . . . . . . . . . : Media disconnected\n",
      "   Connection-specific DNS Suffix  . : \n"
     ]
    }
   ],
   "source": [
    "!ipconfig"
   ]
  },
  {
   "cell_type": "code",
   "execution_count": 10,
   "id": "72ac72be",
   "metadata": {},
   "outputs": [
    {
     "name": "stdout",
     "output_type": "stream",
     "text": [
      "Overwriting client_file.py\n"
     ]
    }
   ],
   "source": [
    "%%writefile client_file.py\n",
    "\n",
    "import socket\n",
    "\n",
    "sock = socket.socket(socket.AF_INET, socket.SOCK_STREAM)  # that will be working at client side\n",
    "# and will help to connect with server\n",
    "ip = input(\"\\n Server IP --> \") # server IP\n",
    "port = int(input(\"\\n Server PORT --> \"))  # server PORT\n",
    "\n",
    "sock.connect((ip, port))  # connecting with server IP and PORT\n",
    "\n",
    "smsg = sock.recv(1024).decode()\n",
    "print(f\"\\n Server --> {smsg}\")\n",
    "\n",
    "sock.send(\"Thankyou for accepting request\".encode())\n",
    "\n",
    "path = input(\"\\n Enter the filename/path_of_file which you want : \")\n",
    "sock.send(path.encode())\n",
    "\n",
    "smsg = sock.recv(1024).decode()\n",
    "print(f\"\\n Server --> {smsg}\")"
   ]
  },
  {
   "cell_type": "code",
   "execution_count": 11,
   "id": "9fe64759",
   "metadata": {},
   "outputs": [
    {
     "name": "stdout",
     "output_type": "stream",
     "text": [
      "Overwriting server_file.py\n"
     ]
    }
   ],
   "source": [
    "%%writefile server_file.py\n",
    "\n",
    "import socket\n",
    "import os\n",
    "\n",
    "server = socket.socket(socket.AF_INET, socket.SOCK_STREAM)\n",
    "ip = socket.gethostbyname(socket.gethostname())\n",
    "port = 1234\n",
    "\n",
    "server.bind((ip, port))  # defined the IP and PORT of server\n",
    "server.listen()\n",
    "print(f\"\\n Server is ready to listen at IP {ip} and PORT {port}\")\n",
    "\n",
    "client_socket, client_addr = server.accept()\n",
    "\n",
    "print(f\"\\n Client is running at IP {client_addr[0]} and PORT {client_addr[1]}\")\n",
    "client_socket.send(\"Your Request is accepted\".encode())  # encode --> to convert in bytes mode\n",
    "\n",
    "cmsg = client_socket.recv(1024).decode()\n",
    "print(f\"\\n Client --> {cmsg}\") \n",
    "\n",
    "\n",
    "path = client_socket.recv(1024).decode() # receiving the file path which the client wants\n",
    "if os.path.exists(path) and os.path.isfile(path):\n",
    "    client_socket.send(\"Sharing file.....\".encode())\n",
    "    with open(path, 'rb') as fp:\n",
    "        data = fp.read()\n",
    "        client_socket.send(data)\n",
    "        print(\"\\n File send successfully....\")\n",
    "else:\n",
    "    client_socket.send(\"File Does Not Exist... Please check the filename.....\".encode())"
   ]
  },
  {
   "cell_type": "code",
   "execution_count": 12,
   "id": "edd0b84a",
   "metadata": {},
   "outputs": [
    {
     "name": "stdout",
     "output_type": "stream",
     "text": [
      "Overwriting client_file.py\n"
     ]
    }
   ],
   "source": [
    "%%writefile client_file.py\n",
    "\n",
    "import socket\n",
    "\n",
    "sock = socket.socket(socket.AF_INET, socket.SOCK_STREAM)  # that will be working at client side\n",
    "# and will help to connect with server\n",
    "ip = input(\"\\n Server IP --> \") # server IP\n",
    "port = int(input(\"\\n Server PORT --> \"))  # server PORT\n",
    "\n",
    "sock.connect((ip, port))  # connecting with server IP and PORT\n",
    "\n",
    "smsg = sock.recv(1024).decode()\n",
    "print(f\"\\n Server --> {smsg}\")\n",
    "\n",
    "sock.send(\"Thankyou for accepting request\".encode())\n",
    "\n",
    "path = input(\"\\n Enter the filename/path_of_file which you want : \")\n",
    "sock.send(path.encode())\n",
    "\n",
    "smsg = sock.recv(1024).decode()\n",
    "print(f\"\\n Server --> {smsg}\")\n",
    "\n",
    "if \"not exists\" not in smsg.lower():\n",
    "    path = input(\"\\n Enter the path where you want to save the file : \")\n",
    "    with open(path, 'wb') as fp:\n",
    "        data = sock.recv(2048)\n",
    "        fp.write(data)\n",
    "        print(\"\\n File Created Successfully.\")"
   ]
  },
  {
   "cell_type": "code",
   "execution_count": 13,
   "id": "85074a13",
   "metadata": {},
   "outputs": [],
   "source": [
    "import os"
   ]
  },
  {
   "cell_type": "code",
   "execution_count": 14,
   "id": "63356f43",
   "metadata": {},
   "outputs": [
    {
     "ename": "AttributeError",
     "evalue": "module 'os' has no attribute 'getsize'",
     "output_type": "error",
     "traceback": [
      "\u001b[1;31m---------------------------------------------------------------------------\u001b[0m",
      "\u001b[1;31mAttributeError\u001b[0m                            Traceback (most recent call last)",
      "\u001b[1;32m<ipython-input-14-09cfe2dbac5c>\u001b[0m in \u001b[0;36m<module>\u001b[1;34m\u001b[0m\n\u001b[1;32m----> 1\u001b[1;33m \u001b[0mos\u001b[0m\u001b[1;33m.\u001b[0m\u001b[0mgetsize\u001b[0m\u001b[1;33m\u001b[0m\u001b[1;33m\u001b[0m\u001b[0m\n\u001b[0m",
      "\u001b[1;31mAttributeError\u001b[0m: module 'os' has no attribute 'getsize'"
     ]
    }
   ],
   "source": [
    "os.getsize"
   ]
  },
  {
   "cell_type": "code",
   "execution_count": 15,
   "id": "18e20beb",
   "metadata": {},
   "outputs": [
    {
     "name": "stdout",
     "output_type": "stream",
     "text": [
      "Overwriting server_file.py\n"
     ]
    }
   ],
   "source": [
    "%%writefile server_file.py\n",
    "\n",
    "import socket\n",
    "import os\n",
    "\n",
    "server = socket.socket(socket.AF_INET, socket.SOCK_STREAM)\n",
    "ip = socket.gethostbyname(socket.gethostname())\n",
    "port = 1234\n",
    "\n",
    "server.bind((ip, port))  # defined the IP and PORT of server\n",
    "server.listen()\n",
    "print(f\"\\n Server is ready to listen at IP {ip} and PORT {port}\")\n",
    "\n",
    "client_socket, client_addr = server.accept()\n",
    "\n",
    "print(f\"\\n Client is running at IP {client_addr[0]} and PORT {client_addr[1]}\")\n",
    "client_socket.send(\"Your Request is accepted\".encode())  # encode --> to convert in bytes mode\n",
    "\n",
    "cmsg = client_socket.recv(1024).decode()\n",
    "print(f\"\\n Client --> {cmsg}\") \n",
    "\n",
    "\n",
    "path = client_socket.recv(1024).decode() # receiving the file path which the client wants\n",
    "if os.path.exists(path) and os.path.isfile(path):\n",
    "    client_socket.send(\"Sharing file.....\".encode())\n",
    "    with open(path, 'rb') as fp:\n",
    "        data = fp.readline()\n",
    "        while data:    \n",
    "            client_socket.send(data)\n",
    "            data = fp.readline()\n",
    "        print(\"\\n File send successfully....\")\n",
    "else:\n",
    "    client_socket.send(\"File Does Not Exist... Please check the filename.....\".encode())"
   ]
  },
  {
   "cell_type": "code",
   "execution_count": 16,
   "id": "f3e94087",
   "metadata": {},
   "outputs": [
    {
     "name": "stdout",
     "output_type": "stream",
     "text": [
      "Overwriting client_file.py\n"
     ]
    }
   ],
   "source": [
    "%%writefile client_file.py\n",
    "\n",
    "import socket\n",
    "\n",
    "sock = socket.socket(socket.AF_INET, socket.SOCK_STREAM)  # that will be working at client side\n",
    "# and will help to connect with server\n",
    "ip = input(\"\\n Server IP --> \") # server IP\n",
    "port = int(input(\"\\n Server PORT --> \"))  # server PORT\n",
    "\n",
    "sock.connect((ip, port))  # connecting with server IP and PORT\n",
    "\n",
    "smsg = sock.recv(1024).decode()\n",
    "print(f\"\\n Server --> {smsg}\")\n",
    "\n",
    "sock.send(\"Thankyou for accepting request\".encode())\n",
    "\n",
    "path = input(\"\\n Enter the filename/path_of_file which you want : \")\n",
    "sock.send(path.encode())\n",
    "\n",
    "smsg = sock.recv(1024).decode()\n",
    "print(f\"\\n Server --> {smsg}\")\n",
    "\n",
    "if \"not exists\" not in smsg.lower():\n",
    "    path = input(\"\\n Enter the path where you want to save the file : \")\n",
    "    with open(path, 'wb') as fp:\n",
    "        data = sock.recv(2048)\n",
    "        while data:\n",
    "            fp.write(data)\n",
    "            data = sock.recv(2048)\n",
    "        print(\"\\n File Created Successfully.\")"
   ]
  },
  {
   "cell_type": "markdown",
   "id": "826e154c",
   "metadata": {},
   "source": [
    "    client --> C:/batches/one.py (server )\n",
    "    \n",
    "    client save --> C:/one.jpg\n",
    "    \n",
    "    C:/file1\n",
    "    \n",
    "    Add extension by yourself\n",
    "    \n",
    "    C:/file1.py\n",
    "    \n",
    "    Create file with the above filename "
   ]
  },
  {
   "cell_type": "code",
   "execution_count": null,
   "id": "14dc0e05",
   "metadata": {},
   "outputs": [],
   "source": []
  }
 ],
 "metadata": {
  "kernelspec": {
   "display_name": "Python 3",
   "language": "python",
   "name": "python3"
  },
  "language_info": {
   "codemirror_mode": {
    "name": "ipython",
    "version": 3
   },
   "file_extension": ".py",
   "mimetype": "text/x-python",
   "name": "python",
   "nbconvert_exporter": "python",
   "pygments_lexer": "ipython3",
   "version": "3.8.8"
  }
 },
 "nbformat": 4,
 "nbformat_minor": 5
}
