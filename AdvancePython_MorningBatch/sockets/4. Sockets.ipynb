{
 "cells": [
  {
   "cell_type": "markdown",
   "id": "fb1b32a3",
   "metadata": {},
   "source": [
    "### TCP\n",
    "        Transfer Control Protocol\n",
    "            Connection Oriented\n",
    "            Low Speed than UDP\n",
    "            http, \n",
    "### UDP\n",
    "        User Datagram Protocol\n",
    "            Connection Less\n",
    "            High Speed than TCP"
   ]
  },
  {
   "cell_type": "code",
   "execution_count": 1,
   "id": "46e93259",
   "metadata": {},
   "outputs": [],
   "source": [
    "import socket"
   ]
  },
  {
   "cell_type": "code",
   "execution_count": 2,
   "id": "0ead6cb0",
   "metadata": {},
   "outputs": [
    {
     "name": "stdout",
     "output_type": "stream",
     "text": [
      "['AF_APPLETALK', 'AF_DECnet', 'AF_INET', 'AF_INET6', 'AF_IPX', 'AF_IRDA', 'AF_SNA', 'AF_UNSPEC', 'AI_ADDRCONFIG', 'AI_ALL', 'AI_CANONNAME', 'AI_NUMERICHOST', 'AI_NUMERICSERV', 'AI_PASSIVE', 'AI_V4MAPPED', 'AddressFamily', 'AddressInfo', 'CAPI', 'EAGAIN', 'EAI_AGAIN', 'EAI_BADFLAGS', 'EAI_FAIL', 'EAI_FAMILY', 'EAI_MEMORY', 'EAI_NODATA', 'EAI_NONAME', 'EAI_SERVICE', 'EAI_SOCKTYPE', 'EBADF', 'EWOULDBLOCK', 'INADDR_ALLHOSTS_GROUP', 'INADDR_ANY', 'INADDR_BROADCAST', 'INADDR_LOOPBACK', 'INADDR_MAX_LOCAL_GROUP', 'INADDR_NONE', 'INADDR_UNSPEC_GROUP', 'IPPORT_RESERVED', 'IPPORT_USERRESERVED', 'IPPROTO_AH', 'IPPROTO_CBT', 'IPPROTO_DSTOPTS', 'IPPROTO_EGP', 'IPPROTO_ESP', 'IPPROTO_FRAGMENT', 'IPPROTO_GGP', 'IPPROTO_HOPOPTS', 'IPPROTO_ICLFXBM', 'IPPROTO_ICMP', 'IPPROTO_ICMPV6', 'IPPROTO_IDP', 'IPPROTO_IGMP', 'IPPROTO_IGP', 'IPPROTO_IP', 'IPPROTO_IPV4', 'IPPROTO_IPV6', 'IPPROTO_L2TP', 'IPPROTO_MAX', 'IPPROTO_ND', 'IPPROTO_NONE', 'IPPROTO_PGM', 'IPPROTO_PIM', 'IPPROTO_PUP', 'IPPROTO_RAW', 'IPPROTO_RDP', 'IPPROTO_ROUTING', 'IPPROTO_SCTP', 'IPPROTO_ST', 'IPPROTO_TCP', 'IPPROTO_UDP', 'IPV6_CHECKSUM', 'IPV6_DONTFRAG', 'IPV6_HOPLIMIT', 'IPV6_HOPOPTS', 'IPV6_JOIN_GROUP', 'IPV6_LEAVE_GROUP', 'IPV6_MULTICAST_HOPS', 'IPV6_MULTICAST_IF', 'IPV6_MULTICAST_LOOP', 'IPV6_PKTINFO', 'IPV6_RECVRTHDR', 'IPV6_RECVTCLASS', 'IPV6_RTHDR', 'IPV6_TCLASS', 'IPV6_UNICAST_HOPS', 'IPV6_V6ONLY', 'IP_ADD_MEMBERSHIP', 'IP_DROP_MEMBERSHIP', 'IP_HDRINCL', 'IP_MULTICAST_IF', 'IP_MULTICAST_LOOP', 'IP_MULTICAST_TTL', 'IP_OPTIONS', 'IP_RECVDSTADDR', 'IP_TOS', 'IP_TTL', 'IntEnum', 'IntFlag', 'MSG_BCAST', 'MSG_CTRUNC', 'MSG_DONTROUTE', 'MSG_ERRQUEUE', 'MSG_MCAST', 'MSG_OOB', 'MSG_PEEK', 'MSG_TRUNC', 'MSG_WAITALL', 'MsgFlag', 'NI_DGRAM', 'NI_MAXHOST', 'NI_MAXSERV', 'NI_NAMEREQD', 'NI_NOFQDN', 'NI_NUMERICHOST', 'NI_NUMERICSERV', 'RCVALL_MAX', 'RCVALL_OFF', 'RCVALL_ON', 'RCVALL_SOCKETLEVELONLY', 'SHUT_RD', 'SHUT_RDWR', 'SHUT_WR', 'SIO_KEEPALIVE_VALS', 'SIO_LOOPBACK_FAST_PATH', 'SIO_RCVALL', 'SOCK_DGRAM', 'SOCK_RAW', 'SOCK_RDM', 'SOCK_SEQPACKET', 'SOCK_STREAM', 'SOL_IP', 'SOL_SOCKET', 'SOL_TCP', 'SOL_UDP', 'SOMAXCONN', 'SO_ACCEPTCONN', 'SO_BROADCAST', 'SO_DEBUG', 'SO_DONTROUTE', 'SO_ERROR', 'SO_EXCLUSIVEADDRUSE', 'SO_KEEPALIVE', 'SO_LINGER', 'SO_OOBINLINE', 'SO_RCVBUF', 'SO_RCVLOWAT', 'SO_RCVTIMEO', 'SO_REUSEADDR', 'SO_SNDBUF', 'SO_SNDLOWAT', 'SO_SNDTIMEO', 'SO_TYPE', 'SO_USELOOPBACK', 'SocketIO', 'SocketKind', 'SocketType', 'TCP_FASTOPEN', 'TCP_KEEPCNT', 'TCP_KEEPIDLE', 'TCP_KEEPINTVL', 'TCP_MAXSEG', 'TCP_NODELAY', '_GLOBAL_DEFAULT_TIMEOUT', '_GiveupOnSendfile', '_LOCALHOST', '_LOCALHOST_V6', '__all__', '__builtins__', '__cached__', '__doc__', '__file__', '__loader__', '__name__', '__package__', '__spec__', '_blocking_errnos', '_intenum_converter', '_realsocket', '_socket', 'close', 'create_connection', 'create_server', 'dup', 'errno', 'error', 'errorTab', 'fromfd', 'fromshare', 'gaierror', 'getaddrinfo', 'getdefaulttimeout', 'getfqdn', 'gethostbyaddr', 'gethostbyname', 'gethostbyname_ex', 'gethostname', 'getnameinfo', 'getprotobyname', 'getservbyname', 'getservbyport', 'has_dualstack_ipv6', 'has_ipv6', 'herror', 'htonl', 'htons', 'if_indextoname', 'if_nameindex', 'if_nametoindex', 'inet_aton', 'inet_ntoa', 'inet_ntop', 'inet_pton', 'io', 'ntohl', 'ntohs', 'os', 'selectors', 'setdefaulttimeout', 'socket', 'socketpair', 'sys', 'timeout']\n"
     ]
    }
   ],
   "source": [
    "print(dir(socket))"
   ]
  },
  {
   "cell_type": "code",
   "execution_count": 3,
   "id": "0e715d6c",
   "metadata": {},
   "outputs": [
    {
     "data": {
      "text/plain": [
       "<module 'os' from 'C:\\\\Anaconda\\\\lib\\\\os.py'>"
      ]
     },
     "execution_count": 3,
     "metadata": {},
     "output_type": "execute_result"
    }
   ],
   "source": [
    "socket.os"
   ]
  },
  {
   "cell_type": "code",
   "execution_count": 4,
   "id": "3e073f0f",
   "metadata": {},
   "outputs": [
    {
     "data": {
      "text/plain": [
       "'DESKTOP-C0J3R7A'"
      ]
     },
     "execution_count": 4,
     "metadata": {},
     "output_type": "execute_result"
    }
   ],
   "source": [
    "socket.gethostname()"
   ]
  },
  {
   "cell_type": "code",
   "execution_count": 5,
   "id": "cbea17b1",
   "metadata": {},
   "outputs": [
    {
     "data": {
      "text/plain": [
       "'192.168.1.7'"
      ]
     },
     "execution_count": 5,
     "metadata": {},
     "output_type": "execute_result"
    }
   ],
   "source": [
    "socket.gethostbyname(socket.gethostname())"
   ]
  },
  {
   "cell_type": "code",
   "execution_count": 6,
   "id": "e80361d4",
   "metadata": {},
   "outputs": [],
   "source": [
    "### pydroid app--> phone"
   ]
  },
  {
   "cell_type": "code",
   "execution_count": 7,
   "id": "73817e5d",
   "metadata": {},
   "outputs": [
    {
     "data": {
      "text/plain": [
       "bytes"
      ]
     },
     "execution_count": 7,
     "metadata": {},
     "output_type": "execute_result"
    }
   ],
   "source": [
    "type(\"hi\".encode())"
   ]
  },
  {
   "cell_type": "code",
   "execution_count": 9,
   "id": "2ae588d6",
   "metadata": {},
   "outputs": [
    {
     "data": {
      "text/plain": [
       "b'\\xff\\xfeh\\x00i\\x00'"
      ]
     },
     "execution_count": 9,
     "metadata": {},
     "output_type": "execute_result"
    }
   ],
   "source": [
    "\"hi\".encode(\"utf-16\")"
   ]
  },
  {
   "cell_type": "code",
   "execution_count": 11,
   "id": "b33fc3d6",
   "metadata": {},
   "outputs": [
    {
     "name": "stdout",
     "output_type": "stream",
     "text": [
      "Overwriting server_chat.py\n"
     ]
    }
   ],
   "source": [
    "%%writefile server_chat.py\n",
    "\n",
    "import socket\n",
    "\n",
    "server = socket.socket(socket.AF_INET, socket.SOCK_STREAM)\n",
    "ip = socket.gethostbyname(socket.gethostname())\n",
    "port = 1234\n",
    "\n",
    "server.bind((ip, port))  # defined the IP and PORT of server\n",
    "server.listen()\n",
    "print(f\"\\n Server is ready to listen at IP {ip} and PORT {port}\")\n",
    "\n",
    "client_socket, client_addr = server.accept()\n",
    "\n",
    "print(f\"\\n Client is running at IP {client_addr[0]} and PORT {client_addr[1]}\")\n",
    "client_socket.send(\"Your Request is accepted\".encode())  # encode --> to convert in bytes mode\n",
    "\n",
    "msg = client_socket.recv(1024).decode()\n",
    "print(f\"\\n Client --> {msg}\") "
   ]
  },
  {
   "cell_type": "code",
   "execution_count": 12,
   "id": "1421a0f0",
   "metadata": {},
   "outputs": [
    {
     "name": "stdout",
     "output_type": "stream",
     "text": [
      "Writing client_chat.py\n"
     ]
    }
   ],
   "source": [
    "%%writefile client_chat.py\n",
    "\n",
    "import socket\n",
    "\n",
    "sock = socket.socket(socket.AF_INET, socket.SOCK_STREAM)  # that will be working at client side\n",
    "# and will help to connect with server\n",
    "ip = socket.gethostbyname(socket.gethostname())  # server IP\n",
    "port = 1234  # server PORT\n",
    "\n",
    "sock.connect((ip, port))  # connecting with server IP and PORT\n",
    "\n",
    "msg = sock.recv(1024).decode()\n",
    "print(f\"\\n Server --> {msg}\")\n",
    "\n",
    "sock.send(\"Thankyou for accepting request\".encode())\n",
    "\n",
    "sock.close()"
   ]
  },
  {
   "cell_type": "code",
   "execution_count": 13,
   "id": "a448a74e",
   "metadata": {},
   "outputs": [
    {
     "name": "stdout",
     "output_type": "stream",
     "text": [
      "Overwriting server_chat.py\n"
     ]
    }
   ],
   "source": [
    "%%writefile server_chat.py\n",
    "\n",
    "import socket\n",
    "\n",
    "server = socket.socket(socket.AF_INET, socket.SOCK_STREAM)\n",
    "ip = socket.gethostbyname(socket.gethostname())\n",
    "port = 1234\n",
    "\n",
    "server.bind((ip, port))  # defined the IP and PORT of server\n",
    "server.listen()\n",
    "print(f\"\\n Server is ready to listen at IP {ip} and PORT {port}\")\n",
    "\n",
    "client_socket, client_addr = server.accept()\n",
    "\n",
    "print(f\"\\n Client is running at IP {client_addr[0]} and PORT {client_addr[1]}\")\n",
    "client_socket.send(\"Your Request is accepted\".encode())  # encode --> to convert in bytes mode\n",
    "\n",
    "cmsg = client_socket.recv(1024).decode()\n",
    "print(f\"\\n Client --> {cmsg}\") \n",
    "\n",
    "while True:\n",
    "    # Taking input from server and sending it to client\n",
    "    smsg = input(\"\\n Server --> \")\n",
    "    client_socket.send(smsg.encode())\n",
    "    if smsg.strip().lower() == \"bye\":\n",
    "        print(\"\\n Server want to discontinue....\")\n",
    "        client_socket.close() # releasing the port of the socket\n",
    "        break\n",
    "        \n",
    "    # Recieving msgs from client\n",
    "    cmsg = client_socket.recv(1024).decode()\n",
    "    print(\"\\n CLient --> \", cmsg)\n",
    "    if cmsg.strip().lower() == \"bye\":\n",
    "        print(\"\\n CLient want to discontinue....\")\n",
    "        client_socket.close() # releasing the port of the socket\n",
    "        break"
   ]
  },
  {
   "cell_type": "code",
   "execution_count": 14,
   "id": "657fbdd8",
   "metadata": {},
   "outputs": [
    {
     "name": "stdout",
     "output_type": "stream",
     "text": [
      "Overwriting client_chat.py\n"
     ]
    }
   ],
   "source": [
    "%%writefile client_chat.py\n",
    "\n",
    "import socket\n",
    "\n",
    "sock = socket.socket(socket.AF_INET, socket.SOCK_STREAM)  # that will be working at client side\n",
    "# and will help to connect with server\n",
    "ip = socket.gethostbyname(socket.gethostname())  # server IP\n",
    "port = 1234  # server PORT\n",
    "\n",
    "sock.connect((ip, port))  # connecting with server IP and PORT\n",
    "\n",
    "smsg = sock.recv(1024).decode()\n",
    "print(f\"\\n Server --> {smsg}\")\n",
    "\n",
    "sock.send(\"Thankyou for accepting request\".encode())\n",
    "\n",
    "while True:\n",
    "    # Receiving Messages from server\n",
    "    smsg = sock.recv(1024).decode()\n",
    "    print(\"\\n Server --> \", smsg)\n",
    "    if smsg.strip().lower() == \"bye\":\n",
    "        print(\"\\n Server want to discontinue....\")\n",
    "        sock.close() # releasing the port of the socket\n",
    "        break\n",
    "       \n",
    "    # Sending msgs to server\n",
    "    cmsg = input(\"\\n Client --> \")\n",
    "    sock.send(cmsg.encode())\n",
    "    if cmsg.strip().lower() == \"bye\":\n",
    "        print(\"\\n CLient want to discontinue....\")\n",
    "        sock.close() # releasing the port of the socket\n",
    "        break\n",
    "    \n",
    "    "
   ]
  },
  {
   "cell_type": "markdown",
   "id": "d79ed9ff",
   "metadata": {},
   "source": [
    "    okay bye\n",
    "    okay bye bye\n",
    "    okay bubye\n",
    "    chal lets meet tmrw bye\n",
    "\n",
    "    Make changes in present code and make it such that if anyone anyhow say bye or bubye or byebye or any other word then the loop should break"
   ]
  },
  {
   "cell_type": "markdown",
   "id": "00940105",
   "metadata": {},
   "source": [
    "    File sharing using socket\n",
    "    \n",
    "    "
   ]
  },
  {
   "cell_type": "code",
   "execution_count": null,
   "id": "60973b64",
   "metadata": {},
   "outputs": [],
   "source": []
  }
 ],
 "metadata": {
  "kernelspec": {
   "display_name": "Python 3",
   "language": "python",
   "name": "python3"
  },
  "language_info": {
   "codemirror_mode": {
    "name": "ipython",
    "version": 3
   },
   "file_extension": ".py",
   "mimetype": "text/x-python",
   "name": "python",
   "nbconvert_exporter": "python",
   "pygments_lexer": "ipython3",
   "version": "3.8.8"
  }
 },
 "nbformat": 4,
 "nbformat_minor": 5
}
