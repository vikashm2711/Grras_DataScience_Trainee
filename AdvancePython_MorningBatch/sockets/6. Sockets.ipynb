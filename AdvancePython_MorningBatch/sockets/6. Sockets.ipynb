{
 "cells": [
  {
   "cell_type": "code",
   "execution_count": 1,
   "id": "e0cf4fcf",
   "metadata": {},
   "outputs": [
    {
     "name": "stdout",
     "output_type": "stream",
     "text": [
      "Overwriting server_file.py\n"
     ]
    }
   ],
   "source": [
    "%%writefile server_file.py\n",
    "\n",
    "import socket\n",
    "import os\n",
    "\n",
    "server = socket.socket(socket.AF_INET, socket.SOCK_STREAM)\n",
    "ip = socket.gethostbyname(socket.gethostname())\n",
    "port = 1234\n",
    "\n",
    "server.bind((ip, port))  # defined the IP and PORT of server\n",
    "server.listen()\n",
    "print(f\"\\n Server is ready to listen at IP {ip} and PORT {port}\")\n",
    "\n",
    "client_socket, client_addr = server.accept()\n",
    "\n",
    "print(f\"\\n Client is running at IP {client_addr[0]} and PORT {client_addr[1]}\")\n",
    "client_socket.send(\"Your Request is accepted\".encode())  # encode --> to convert in bytes mode\n",
    "\n",
    "cmsg = client_socket.recv(1024).decode()\n",
    "print(f\"\\n Client --> {cmsg}\") \n",
    "\n",
    "\n",
    "path = client_socket.recv(1024).decode() # receiving the file path which the client wants\n",
    "if os.path.exists(path) and os.path.isfile(path):\n",
    "    client_socket.send(\"Sharing file.....\".encode())\n",
    "    with open(path, 'rb') as fp:\n",
    "        data = fp.readline()\n",
    "        while data:    \n",
    "            client_socket.send(data)\n",
    "            data = fp.readline()\n",
    "        print(\"\\n File send successfully....\")\n",
    "else:\n",
    "    client_socket.send(\"File Does Not Exist... Please check the filename.....\".encode())"
   ]
  },
  {
   "cell_type": "code",
   "execution_count": 16,
   "id": "5e507cc9",
   "metadata": {},
   "outputs": [
    {
     "name": "stdout",
     "output_type": "stream",
     "text": [
      "Overwriting client_file.py\n"
     ]
    }
   ],
   "source": [
    "%%writefile client_file.py\n",
    "\n",
    "import socket\n",
    "import os\n",
    "\n",
    "sock = socket.socket(socket.AF_INET, socket.SOCK_STREAM)  # that will be working at client side\n",
    "# and will help to connect with server\n",
    "ip = input(\"\\n Server IP --> \") # server IP\n",
    "port = int(input(\"\\n Server PORT --> \"))  # server PORT\n",
    "\n",
    "sock.connect((ip, port))  # connecting with server IP and PORT\n",
    "\n",
    "smsg = sock.recv(1024).decode()\n",
    "print(f\"\\n Server --> {smsg}\")\n",
    "\n",
    "sock.send(\"Thankyou for accepting request\".encode())\n",
    "\n",
    "path = input(\"\\n Enter the filename/path_of_file which you want : \")\n",
    "sock.send(path.encode())\n",
    "ext = os.path.split(path)[1].split(\".\")[-1]\n",
    "\n",
    "smsg = sock.recv(1024).decode()\n",
    "print(f\"\\n Server --> {smsg}\")\n",
    "\n",
    "if \"not exists\" not in smsg.lower():\n",
    "    path = input(\"\\n Enter the path where you want to save the file(without extension) : \")\n",
    "    path += \".\" + ext\n",
    "    with open(path, 'wb') as fp:\n",
    "        data = sock.recv(2048)\n",
    "        while data:\n",
    "            fp.write(data)\n",
    "            data = sock.recv(2048)\n",
    "        print(\"\\n File Created Successfully.\")"
   ]
  },
  {
   "cell_type": "code",
   "execution_count": 2,
   "id": "525a68cd",
   "metadata": {},
   "outputs": [],
   "source": [
    "path = \"C:/batches/online_batch/one.txt\""
   ]
  },
  {
   "cell_type": "code",
   "execution_count": 3,
   "id": "eee59acb",
   "metadata": {},
   "outputs": [],
   "source": [
    "import os "
   ]
  },
  {
   "cell_type": "code",
   "execution_count": 4,
   "id": "96fd3060",
   "metadata": {},
   "outputs": [
    {
     "data": {
      "text/plain": [
       "['C:', 'batches', 'online_batch', 'one.txt']"
      ]
     },
     "execution_count": 4,
     "metadata": {},
     "output_type": "execute_result"
    }
   ],
   "source": [
    "path.split(\"/\")"
   ]
  },
  {
   "cell_type": "code",
   "execution_count": 5,
   "id": "d39b1d12",
   "metadata": {},
   "outputs": [
    {
     "data": {
      "text/plain": [
       "True"
      ]
     },
     "execution_count": 5,
     "metadata": {},
     "output_type": "execute_result"
    }
   ],
   "source": [
    "os.path.exists(\"C:/batches/online_batch/one.txt\")"
   ]
  },
  {
   "cell_type": "code",
   "execution_count": 7,
   "id": "f2b11002",
   "metadata": {},
   "outputs": [
    {
     "data": {
      "text/plain": [
       "True"
      ]
     },
     "execution_count": 7,
     "metadata": {},
     "output_type": "execute_result"
    }
   ],
   "source": [
    "os.path.exists(\"C://batches//online_batch//one.txt\")"
   ]
  },
  {
   "cell_type": "code",
   "execution_count": 8,
   "id": "8640cd9e",
   "metadata": {},
   "outputs": [
    {
     "data": {
      "text/plain": [
       "False"
      ]
     },
     "execution_count": 8,
     "metadata": {},
     "output_type": "execute_result"
    }
   ],
   "source": [
    "os.path.exists(\"C:\\batches\\online_batch\\one.txt\")"
   ]
  },
  {
   "cell_type": "code",
   "execution_count": 9,
   "id": "7979ea62",
   "metadata": {},
   "outputs": [
    {
     "data": {
      "text/plain": [
       "True"
      ]
     },
     "execution_count": 9,
     "metadata": {},
     "output_type": "execute_result"
    }
   ],
   "source": [
    "os.path.exists(\"C:\\\\batches\\\\online_batch\\\\one.txt\")"
   ]
  },
  {
   "cell_type": "code",
   "execution_count": 14,
   "id": "f3c81fbb",
   "metadata": {},
   "outputs": [
    {
     "data": {
      "text/plain": [
       "'txt'"
      ]
     },
     "execution_count": 14,
     "metadata": {},
     "output_type": "execute_result"
    }
   ],
   "source": [
    "os.path.split(path)[1].split(\".\")[-1]"
   ]
  },
  {
   "cell_type": "code",
   "execution_count": 17,
   "id": "de751a3a",
   "metadata": {},
   "outputs": [
    {
     "name": "stdout",
     "output_type": "stream",
     "text": [
      "\n",
      "Windows IP Configuration\n",
      "\n",
      "\n",
      "Ethernet adapter Ethernet:\n",
      "\n",
      "   Media State . . . . . . . . . . . : Media disconnected\n",
      "   Connection-specific DNS Suffix  . : \n",
      "\n",
      "Wireless LAN adapter Local Area Connection* 1:\n",
      "\n",
      "   Media State . . . . . . . . . . . : Media disconnected\n",
      "   Connection-specific DNS Suffix  . : \n",
      "\n",
      "Wireless LAN adapter Local Area Connection* 10:\n",
      "\n",
      "   Media State . . . . . . . . . . . : Media disconnected\n",
      "   Connection-specific DNS Suffix  . : \n",
      "\n",
      "Wireless LAN adapter Wi-Fi:\n",
      "\n",
      "   Connection-specific DNS Suffix  . : \n",
      "   IPv6 Address. . . . . . . . . . . : 2402:e280:2307:37e:9b4:2aa4:2b0d:2365\n",
      "   Temporary IPv6 Address. . . . . . : 2402:e280:2307:37e:49c1:3877:3dea:61b7\n",
      "   Temporary IPv6 Address. . . . . . : 2402:e280:2307:37e:919a:bbcf:1e75:39c1\n",
      "   Temporary IPv6 Address. . . . . . : 2402:e280:2307:37e:c46e:bb45:b59f:32d7\n",
      "   Link-local IPv6 Address . . . . . : fe80::9b4:2aa4:2b0d:2365%9\n",
      "   IPv4 Address. . . . . . . . . . . : 192.168.1.7\n",
      "   Subnet Mask . . . . . . . . . . . : 255.255.255.0\n",
      "   Default Gateway . . . . . . . . . : fe80::1%9\n",
      "                                       192.168.1.254\n",
      "\n",
      "Ethernet adapter Bluetooth Network Connection:\n",
      "\n",
      "   Media State . . . . . . . . . . . : Media disconnected\n",
      "   Connection-specific DNS Suffix  . : \n"
     ]
    }
   ],
   "source": [
    "!ipconfig"
   ]
  },
  {
   "cell_type": "markdown",
   "id": "7c6ab3b5",
   "metadata": {},
   "source": [
    "#### Network scanning"
   ]
  },
  {
   "cell_type": "code",
   "execution_count": 18,
   "id": "548a88b3",
   "metadata": {},
   "outputs": [],
   "source": [
    "import os"
   ]
  },
  {
   "cell_type": "code",
   "execution_count": 20,
   "id": "af4b8da3",
   "metadata": {},
   "outputs": [
    {
     "data": {
      "text/plain": [
       "0"
      ]
     },
     "execution_count": 20,
     "metadata": {},
     "output_type": "execute_result"
    }
   ],
   "source": [
    "os.system(\"ping 192.168.1.6\")"
   ]
  },
  {
   "cell_type": "code",
   "execution_count": 21,
   "id": "2cd97fe6",
   "metadata": {},
   "outputs": [
    {
     "data": {
      "text/plain": [
       "1"
      ]
     },
     "execution_count": 21,
     "metadata": {},
     "output_type": "execute_result"
    }
   ],
   "source": [
    "os.system(\"pin 192.168.1.6\")"
   ]
  },
  {
   "cell_type": "code",
   "execution_count": 26,
   "id": "05a80434",
   "metadata": {},
   "outputs": [
    {
     "name": "stdout",
     "output_type": "stream",
     "text": [
      "\n",
      "Pinging 192.168.1.6 with 32 bytes of data:\n",
      "Reply from 192.168.1.7: Destination host unreachable.\n",
      "Reply from 192.168.1.7: Destination host unreachable.\n",
      "Reply from 192.168.1.7: Destination host unreachable.\n",
      "Reply from 192.168.1.7: Destination host unreachable.\n",
      "\n",
      "Ping statistics for 192.168.1.6:\n",
      "    Packets: Sent = 4, Received = 4, Lost = 0 (0% loss),\n",
      "\n"
     ]
    }
   ],
   "source": [
    "p = os.popen(\"ping 192.168.1.6\")\n",
    "print(p.read())"
   ]
  },
  {
   "cell_type": "code",
   "execution_count": 24,
   "id": "f533edad",
   "metadata": {},
   "outputs": [
    {
     "data": {
      "text/plain": [
       "str"
      ]
     },
     "execution_count": 24,
     "metadata": {},
     "output_type": "execute_result"
    }
   ],
   "source": [
    "type(p.read())"
   ]
  },
  {
   "cell_type": "code",
   "execution_count": 28,
   "id": "0401242a",
   "metadata": {
    "scrolled": true
   },
   "outputs": [
    {
     "name": "stdout",
     "output_type": "stream",
     "text": [
      "\n",
      " Enter Your Network : 192.168.1\n",
      "192.168.1.1 is not reachable\n",
      "192.168.1.2 is active\n",
      "192.168.1.3 is not reachable\n",
      "192.168.1.4 is not reachable\n",
      "192.168.1.5 is not reachable\n",
      "192.168.1.6 is not reachable\n",
      "192.168.1.7 is active\n",
      "192.168.1.8 is not reachable\n",
      "192.168.1.9 is not reachable\n"
     ]
    }
   ],
   "source": [
    "net = input(\"\\n Enter Your Network : \")\n",
    "for i in range(1, 10):  # host\n",
    "    ip = net + \".\" + str(i)\n",
    "    p = os.popen(f\"ping {ip}\")\n",
    "    r = p.read()\n",
    "    if \"unreachable\" in r:\n",
    "        print(f\"{ip} is not reachable\")\n",
    "    else:\n",
    "        print(f\"{ip} is active\")"
   ]
  },
  {
   "cell_type": "code",
   "execution_count": 29,
   "id": "9757b3eb",
   "metadata": {},
   "outputs": [],
   "source": [
    "### port scanner using python sockets \n",
    "### we are finding the available ports in our system "
   ]
  },
  {
   "cell_type": "code",
   "execution_count": null,
   "id": "5ce8e645",
   "metadata": {},
   "outputs": [],
   "source": []
  }
 ],
 "metadata": {
  "kernelspec": {
   "display_name": "Python 3",
   "language": "python",
   "name": "python3"
  },
  "language_info": {
   "codemirror_mode": {
    "name": "ipython",
    "version": 3
   },
   "file_extension": ".py",
   "mimetype": "text/x-python",
   "name": "python",
   "nbconvert_exporter": "python",
   "pygments_lexer": "ipython3",
   "version": "3.8.8"
  }
 },
 "nbformat": 4,
 "nbformat_minor": 5
}
