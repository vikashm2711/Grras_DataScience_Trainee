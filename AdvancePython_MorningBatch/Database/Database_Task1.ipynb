{
 "cells": [
  {
   "cell_type": "code",
   "execution_count": 1,
   "id": "1efcf8b8",
   "metadata": {
    "ExecuteTime": {
     "end_time": "2021-09-12T12:48:57.604003Z",
     "start_time": "2021-09-12T12:48:52.082839Z"
    }
   },
   "outputs": [
    {
     "name": "stdout",
     "output_type": "stream",
     "text": [
      "Collecting pymysql\n",
      "  Downloading PyMySQL-1.0.2-py3-none-any.whl (43 kB)\n",
      "Installing collected packages: pymysql\n",
      "Successfully installed pymysql-1.0.2\n"
     ]
    }
   ],
   "source": [
    "!pip install pymysql "
   ]
  },
  {
   "cell_type": "code",
   "execution_count": 119,
   "id": "ff859464",
   "metadata": {
    "ExecuteTime": {
     "end_time": "2021-09-12T14:41:21.599189Z",
     "start_time": "2021-09-12T14:41:14.545939Z"
    }
   },
   "outputs": [
    {
     "name": "stdout",
     "output_type": "stream",
     "text": [
      "Collecting mysql-connector-python\n",
      "  Downloading mysql_connector_python-8.0.26-cp38-cp38-win_amd64.whl (799 kB)\n",
      "Collecting protobuf>=3.0.0\n",
      "  Downloading protobuf-3.17.3-cp38-cp38-win_amd64.whl (909 kB)\n",
      "Requirement already satisfied: six>=1.9 in c:\\programdata\\anaconda3\\lib\\site-packages (from protobuf>=3.0.0->mysql-connector-python) (1.15.0)\n",
      "Installing collected packages: protobuf, mysql-connector-python\n",
      "Successfully installed mysql-connector-python-8.0.26 protobuf-3.17.3\n"
     ]
    }
   ],
   "source": [
    "!pip install mysql-connector-python"
   ]
  },
  {
   "cell_type": "code",
   "execution_count": 120,
   "id": "1d3380f5",
   "metadata": {
    "ExecuteTime": {
     "end_time": "2021-09-12T14:41:23.978955Z",
     "start_time": "2021-09-12T14:41:23.909881Z"
    }
   },
   "outputs": [],
   "source": [
    "import pymysql as sql\n",
    "from bs4 import BeautifulSoup\n",
    "import requests\n",
    "import mysql.connector"
   ]
  },
  {
   "cell_type": "code",
   "execution_count": 102,
   "id": "ff92e2f2",
   "metadata": {
    "ExecuteTime": {
     "end_time": "2021-09-12T14:28:21.185806Z",
     "start_time": "2021-09-12T14:28:19.721780Z"
    }
   },
   "outputs": [
    {
     "name": "stdout",
     "output_type": "stream",
     "text": [
      "Connected to: 5.5.5-10.4.21-MariaDB-cll-lve\n"
     ]
    }
   ],
   "source": [
    "db = sql.connect(host=\"sql545.main-hosting.eu\",port=3306, \n",
    "                 user='u681323537_grras_SQL',\n",
    "                 password='5;YbQ1!JtPpY',\n",
    "                 db=\"u681323537_learnsql\")\n",
    "\n",
    "print(\"Connected to:\", db.get_server_info())"
   ]
  },
  {
   "cell_type": "code",
   "execution_count": 122,
   "id": "a362f82d",
   "metadata": {
    "ExecuteTime": {
     "end_time": "2021-09-12T14:43:53.830063Z",
     "start_time": "2021-09-12T14:43:52.041975Z"
    }
   },
   "outputs": [
    {
     "name": "stdout",
     "output_type": "stream",
     "text": [
      "Connection is successfull\n"
     ]
    }
   ],
   "source": [
    "mydb=mysql.connector.connect(host=\"sql545.main-hosting.eu\",port=3306, \n",
    "                 user='u681323537_grras_SQL',\n",
    "                 password='5;YbQ1!JtPpY',\n",
    "                 db=\"u681323537_learnsql\")\n",
    "if (mydb):\n",
    "    print(\"Connection is successfull\")\n",
    "else:\n",
    "    print(\"COnnection unsuccessfull\")"
   ]
  },
  {
   "cell_type": "code",
   "execution_count": 123,
   "id": "2dfeb9db",
   "metadata": {
    "ExecuteTime": {
     "end_time": "2021-09-12T14:44:18.453978Z",
     "start_time": "2021-09-12T14:44:18.440981Z"
    }
   },
   "outputs": [
    {
     "data": {
      "text/plain": [
       "<mysql.connector.connection.MySQLConnection at 0x19e70525790>"
      ]
     },
     "execution_count": 123,
     "metadata": {},
     "output_type": "execute_result"
    }
   ],
   "source": [
    "mydb"
   ]
  },
  {
   "cell_type": "code",
   "execution_count": 103,
   "id": "dfb2d55d",
   "metadata": {
    "ExecuteTime": {
     "end_time": "2021-09-12T14:29:03.523237Z",
     "start_time": "2021-09-12T14:29:03.514228Z"
    }
   },
   "outputs": [
    {
     "data": {
      "text/plain": [
       "<pymysql.connections.Connection at 0x19e70c73b20>"
      ]
     },
     "execution_count": 103,
     "metadata": {},
     "output_type": "execute_result"
    }
   ],
   "source": [
    "db"
   ]
  },
  {
   "cell_type": "code",
   "execution_count": 104,
   "id": "57ef92f9",
   "metadata": {
    "ExecuteTime": {
     "end_time": "2021-09-12T14:29:05.907418Z",
     "start_time": "2021-09-12T14:29:05.888440Z"
    }
   },
   "outputs": [],
   "source": [
    "cursor = db.cursor()"
   ]
  },
  {
   "cell_type": "code",
   "execution_count": 105,
   "id": "08c7edc1",
   "metadata": {
    "ExecuteTime": {
     "end_time": "2021-09-12T14:29:07.163135Z",
     "start_time": "2021-09-12T14:29:07.148138Z"
    }
   },
   "outputs": [
    {
     "data": {
      "text/plain": [
       "<pymysql.cursors.Cursor at 0x19e70c73580>"
      ]
     },
     "execution_count": 105,
     "metadata": {},
     "output_type": "execute_result"
    }
   ],
   "source": [
    "cursor"
   ]
  },
  {
   "cell_type": "code",
   "execution_count": 42,
   "id": "0e117a89",
   "metadata": {
    "ExecuteTime": {
     "end_time": "2021-09-12T13:07:56.974827Z",
     "start_time": "2021-09-12T13:07:56.949807Z"
    }
   },
   "outputs": [
    {
     "ename": "InterfaceError",
     "evalue": "(0, '')",
     "output_type": "error",
     "traceback": [
      "\u001b[1;31m---------------------------------------------------------------------------\u001b[0m",
      "\u001b[1;31mInterfaceError\u001b[0m                            Traceback (most recent call last)",
      "\u001b[1;32m<ipython-input-42-c2180de58ea4>\u001b[0m in \u001b[0;36m<module>\u001b[1;34m\u001b[0m\n\u001b[1;32m----> 1\u001b[1;33m \u001b[0mcursor\u001b[0m\u001b[1;33m.\u001b[0m\u001b[0mexecute\u001b[0m\u001b[1;33m(\u001b[0m\u001b[1;34m'create table one(id int not null, name char(25))'\u001b[0m\u001b[1;33m)\u001b[0m\u001b[1;33m\u001b[0m\u001b[1;33m\u001b[0m\u001b[0m\n\u001b[0m",
      "\u001b[1;32mC:\\ProgramData\\Anaconda3\\lib\\site-packages\\pymysql\\cursors.py\u001b[0m in \u001b[0;36mexecute\u001b[1;34m(self, query, args)\u001b[0m\n\u001b[0;32m    146\u001b[0m         \u001b[0mquery\u001b[0m \u001b[1;33m=\u001b[0m \u001b[0mself\u001b[0m\u001b[1;33m.\u001b[0m\u001b[0mmogrify\u001b[0m\u001b[1;33m(\u001b[0m\u001b[0mquery\u001b[0m\u001b[1;33m,\u001b[0m \u001b[0margs\u001b[0m\u001b[1;33m)\u001b[0m\u001b[1;33m\u001b[0m\u001b[1;33m\u001b[0m\u001b[0m\n\u001b[0;32m    147\u001b[0m \u001b[1;33m\u001b[0m\u001b[0m\n\u001b[1;32m--> 148\u001b[1;33m         \u001b[0mresult\u001b[0m \u001b[1;33m=\u001b[0m \u001b[0mself\u001b[0m\u001b[1;33m.\u001b[0m\u001b[0m_query\u001b[0m\u001b[1;33m(\u001b[0m\u001b[0mquery\u001b[0m\u001b[1;33m)\u001b[0m\u001b[1;33m\u001b[0m\u001b[1;33m\u001b[0m\u001b[0m\n\u001b[0m\u001b[0;32m    149\u001b[0m         \u001b[0mself\u001b[0m\u001b[1;33m.\u001b[0m\u001b[0m_executed\u001b[0m \u001b[1;33m=\u001b[0m \u001b[0mquery\u001b[0m\u001b[1;33m\u001b[0m\u001b[1;33m\u001b[0m\u001b[0m\n\u001b[0;32m    150\u001b[0m         \u001b[1;32mreturn\u001b[0m \u001b[0mresult\u001b[0m\u001b[1;33m\u001b[0m\u001b[1;33m\u001b[0m\u001b[0m\n",
      "\u001b[1;32mC:\\ProgramData\\Anaconda3\\lib\\site-packages\\pymysql\\cursors.py\u001b[0m in \u001b[0;36m_query\u001b[1;34m(self, q)\u001b[0m\n\u001b[0;32m    308\u001b[0m         \u001b[0mself\u001b[0m\u001b[1;33m.\u001b[0m\u001b[0m_last_executed\u001b[0m \u001b[1;33m=\u001b[0m \u001b[0mq\u001b[0m\u001b[1;33m\u001b[0m\u001b[1;33m\u001b[0m\u001b[0m\n\u001b[0;32m    309\u001b[0m         \u001b[0mself\u001b[0m\u001b[1;33m.\u001b[0m\u001b[0m_clear_result\u001b[0m\u001b[1;33m(\u001b[0m\u001b[1;33m)\u001b[0m\u001b[1;33m\u001b[0m\u001b[1;33m\u001b[0m\u001b[0m\n\u001b[1;32m--> 310\u001b[1;33m         \u001b[0mconn\u001b[0m\u001b[1;33m.\u001b[0m\u001b[0mquery\u001b[0m\u001b[1;33m(\u001b[0m\u001b[0mq\u001b[0m\u001b[1;33m)\u001b[0m\u001b[1;33m\u001b[0m\u001b[1;33m\u001b[0m\u001b[0m\n\u001b[0m\u001b[0;32m    311\u001b[0m         \u001b[0mself\u001b[0m\u001b[1;33m.\u001b[0m\u001b[0m_do_get_result\u001b[0m\u001b[1;33m(\u001b[0m\u001b[1;33m)\u001b[0m\u001b[1;33m\u001b[0m\u001b[1;33m\u001b[0m\u001b[0m\n\u001b[0;32m    312\u001b[0m         \u001b[1;32mreturn\u001b[0m \u001b[0mself\u001b[0m\u001b[1;33m.\u001b[0m\u001b[0mrowcount\u001b[0m\u001b[1;33m\u001b[0m\u001b[1;33m\u001b[0m\u001b[0m\n",
      "\u001b[1;32mC:\\ProgramData\\Anaconda3\\lib\\site-packages\\pymysql\\connections.py\u001b[0m in \u001b[0;36mquery\u001b[1;34m(self, sql, unbuffered)\u001b[0m\n\u001b[0;32m    545\u001b[0m         \u001b[1;32mif\u001b[0m \u001b[0misinstance\u001b[0m\u001b[1;33m(\u001b[0m\u001b[0msql\u001b[0m\u001b[1;33m,\u001b[0m \u001b[0mstr\u001b[0m\u001b[1;33m)\u001b[0m\u001b[1;33m:\u001b[0m\u001b[1;33m\u001b[0m\u001b[1;33m\u001b[0m\u001b[0m\n\u001b[0;32m    546\u001b[0m             \u001b[0msql\u001b[0m \u001b[1;33m=\u001b[0m \u001b[0msql\u001b[0m\u001b[1;33m.\u001b[0m\u001b[0mencode\u001b[0m\u001b[1;33m(\u001b[0m\u001b[0mself\u001b[0m\u001b[1;33m.\u001b[0m\u001b[0mencoding\u001b[0m\u001b[1;33m,\u001b[0m \u001b[1;34m\"surrogateescape\"\u001b[0m\u001b[1;33m)\u001b[0m\u001b[1;33m\u001b[0m\u001b[1;33m\u001b[0m\u001b[0m\n\u001b[1;32m--> 547\u001b[1;33m         \u001b[0mself\u001b[0m\u001b[1;33m.\u001b[0m\u001b[0m_execute_command\u001b[0m\u001b[1;33m(\u001b[0m\u001b[0mCOMMAND\u001b[0m\u001b[1;33m.\u001b[0m\u001b[0mCOM_QUERY\u001b[0m\u001b[1;33m,\u001b[0m \u001b[0msql\u001b[0m\u001b[1;33m)\u001b[0m\u001b[1;33m\u001b[0m\u001b[1;33m\u001b[0m\u001b[0m\n\u001b[0m\u001b[0;32m    548\u001b[0m         \u001b[0mself\u001b[0m\u001b[1;33m.\u001b[0m\u001b[0m_affected_rows\u001b[0m \u001b[1;33m=\u001b[0m \u001b[0mself\u001b[0m\u001b[1;33m.\u001b[0m\u001b[0m_read_query_result\u001b[0m\u001b[1;33m(\u001b[0m\u001b[0munbuffered\u001b[0m\u001b[1;33m=\u001b[0m\u001b[0munbuffered\u001b[0m\u001b[1;33m)\u001b[0m\u001b[1;33m\u001b[0m\u001b[1;33m\u001b[0m\u001b[0m\n\u001b[0;32m    549\u001b[0m         \u001b[1;32mreturn\u001b[0m \u001b[0mself\u001b[0m\u001b[1;33m.\u001b[0m\u001b[0m_affected_rows\u001b[0m\u001b[1;33m\u001b[0m\u001b[1;33m\u001b[0m\u001b[0m\n",
      "\u001b[1;32mC:\\ProgramData\\Anaconda3\\lib\\site-packages\\pymysql\\connections.py\u001b[0m in \u001b[0;36m_execute_command\u001b[1;34m(self, command, sql)\u001b[0m\n\u001b[0;32m    791\u001b[0m         \"\"\"\n\u001b[0;32m    792\u001b[0m         \u001b[1;32mif\u001b[0m \u001b[1;32mnot\u001b[0m \u001b[0mself\u001b[0m\u001b[1;33m.\u001b[0m\u001b[0m_sock\u001b[0m\u001b[1;33m:\u001b[0m\u001b[1;33m\u001b[0m\u001b[1;33m\u001b[0m\u001b[0m\n\u001b[1;32m--> 793\u001b[1;33m             \u001b[1;32mraise\u001b[0m \u001b[0merr\u001b[0m\u001b[1;33m.\u001b[0m\u001b[0mInterfaceError\u001b[0m\u001b[1;33m(\u001b[0m\u001b[1;36m0\u001b[0m\u001b[1;33m,\u001b[0m \u001b[1;34m\"\"\u001b[0m\u001b[1;33m)\u001b[0m\u001b[1;33m\u001b[0m\u001b[1;33m\u001b[0m\u001b[0m\n\u001b[0m\u001b[0;32m    794\u001b[0m \u001b[1;33m\u001b[0m\u001b[0m\n\u001b[0;32m    795\u001b[0m         \u001b[1;31m# If the last query was unbuffered, make sure it finishes before\u001b[0m\u001b[1;33m\u001b[0m\u001b[1;33m\u001b[0m\u001b[1;33m\u001b[0m\u001b[0m\n",
      "\u001b[1;31mInterfaceError\u001b[0m: (0, '')"
     ]
    }
   ],
   "source": [
    "cursor.execute('create table one(id int not null, name char(25))')"
   ]
  },
  {
   "cell_type": "code",
   "execution_count": 51,
   "id": "fe674d95",
   "metadata": {
    "ExecuteTime": {
     "end_time": "2021-09-12T13:47:09.764764Z",
     "start_time": "2021-09-12T13:47:08.940464Z"
    }
   },
   "outputs": [],
   "source": [
    "url = \"http://api.covid19india.org/csv/latest/vaccine_doses_statewise_v2.csv\"\n",
    "download_csv = requests.get(url)\n",
    "covid_csv=download_csv.content"
   ]
  },
  {
   "cell_type": "code",
   "execution_count": 52,
   "id": "18659c9c",
   "metadata": {
    "ExecuteTime": {
     "end_time": "2021-09-12T13:47:23.835503Z",
     "start_time": "2021-09-12T13:47:23.772337Z"
    }
   },
   "outputs": [
    {
     "name": "stdout",
     "output_type": "stream",
     "text": [
      "b'Vaccinated As of,State,First Dose Administered,Second Dose Administered,Total Doses Administered\\r\\n16/01/2021,Andaman and Nicobar Islands,225,0,225\\r\\n16/01/2021,Andhra Pradesh,18412,0,18412\\r\\n16/01/2021,Arunachal Pradesh,829,0,829\\r\\n16/01/2021,Assam,3528,0,3528\\r\\n16/01/2021,Bihar,18169,0,18169\\r\\n16/01/2021,Chandigarh,265,0,265\\r\\n16/01/2021,Chhattisgarh,5592,0,5592\\r\\n16/01/2021,Dadra and Nagar Haveli and Daman and Diu,123,0,123\\r\\n16/01/2021,Delhi,4319,0,4319\\r\\n16/01/2021,Goa,426,0,426\\r\\n16/01/2021,Gujarat,10787,0,10787\\r\\n16/01/2021,Haryana,5589,0,5589\\r\\n16/01/2021,Himachal Pradesh,1517,0,1517\\r\\n16/01/2021,Jammu and Kashmir,2044,0,2044\\r\\n16/01/2021,Jharkhand,3096,0,3096\\r\\n16/01/2021,Karnataka,13594,0,13594\\r\\n16/01/2021,Kerala,8062,0,8062\\r\\n16/01/2021,Ladakh,79,0,79\\r\\n16/01/2021,Lakshadweep,21,0,21\\r\\n16/01/2021,Madhya Pradesh,9219,0,9219\\r\\n16/01/2021,Maharashtra,18328,0,18328\\r\\n16/01/2021,Manipur,585,0,585\\r\\n16/01/2021,Meghalaya,509,0,509\\r\\n16/01/2021,Mizoram,314,0,314\\r\\n16/01/2021,Nagaland,561,0,561\\r\\n16/01/2021,Odisha,13746,0,13746\\r\\n16/01/2021,Puducherry,274,0,274\\r\\n16/01/2021,Punjab,1319,0,1319\\r\\n16/01/2021,Rajasthan,9279,0,9279\\r\\n16/01/2021,Sikkim,120,0,120\\r\\n16/01/2021,Tamil Nadu,2945,0,2945\\r\\n16/01/2021,Telangana,3653,0,3653\\r\\n16/01/2021,Tripura,355,0,355\\r\\n16/01/2021,Uttar Pradesh,21291,0,21291\\r\\n16/01/2021,Uttarakhand,2276,0,2276\\r\\n16/01/2021,West Bengal,9730,0,9730\\r\\n16/01/2021,Miscellaneous,0,0,0\\r\\n16/01/2021,Total,191181,0,191181\\r\\n18/01/2021,Andaman and Nicobar Islands,442,0,442\\r\\n18/01/2021,Andhra Pradesh,46680,0,46680\\r\\n18/01/2021,Arunachal Pradesh,2805,0,2805\\r\\n18/01/2021,Assam,5542,0,5542\\r\\n18/01/2021,Bihar,33389,0,33389\\r\\n18/01/2021,Chandigarh,265,0,265\\r\\n18/01/2021,Chhattisgarh,10872,0,10872\\r\\n18/01/2021,Dadra and Nagar Haveli and Daman and Diu,123,0,123\\r\\n18/01/2021,Delhi,7968,0,7968\\r\\n18/01/2021,Goa,426,0,426\\r\\n18/01/2021,Gujarat,10787,0,10787\\r\\n18/01/2021,Haryana,17642,0,17642\\r\\n18/01/2021,Himachal Pradesh,4817,0,4817\\r\\n18/01/2021,Jammu and Kashmir,3375,0,3375\\r\\n18/01/2021,Jharkhand,6059,0,6059\\r\\n18/01/2021,Karnataka,66392,0,66392\\r\\n18/01/2021,Kerala,15477,0,15477\\r\\n18/01/2021,Ladakh,119,0,119\\r\\n18/01/2021,Lakshadweep,201,0,201\\r\\n18/01/2021,Madhya Pradesh,18174,0,18174\\r\\n18/01/2021,Maharashtra,18582,0,18582\\r\\n18/01/2021,Manipur,978,0,978\\r\\n18/01/2021,Meghalaya,530,0,530\\r\\n18/01/2021,Mizoram,554,0,554\\r\\n18/01/2021,Nagaland,1436,0,1436\\r\\n18/01/2021,Odisha,46506,0,46506\\r\\n18/01/2021,Puducherry,554,0,554\\r\\n18/01/2021,Punjab,3318,0,3318\\r\\n18/01/2021,Rajasthan,23546,0,23546\\r\\n18/01/2021,Sikkim,120,0,120\\r\\n18/01/2021,Tamil Nadu,16462,0,16462\\r\\n18/01/2021,Telangana,17408,0,17408\\r\\n18/01/2021,Tripura,1736,0,1736\\r\\n18/01/2021,Uttar Pradesh,22644,0,22644\\r\\n18/01/2021,Uttarakhand,4237,0,4237\\r\\n18/01/2021,West Bengal,29866,0,29866\\r\\n18/01/2021,Miscellaneous,14017,0,14017\\r\\n18/01/2021,Total,454049,0,454049\\r\\n19/01/2021,Andaman and Nicobar Islands,644,0,644\\r\\n19/01/2021,Andhra Pradesh,58495,0,58495\\r\\n19/01/2021,Arunachal Pradesh,2805,0,2805\\r\\n19/01/2021,Assam,7418,0,7418\\r\\n19/01/2021,Bihar,42085,0,42085\\r\\n19/01/2021,Chandigarh,469,0,469\\r\\n19/01/2021,Chhattisgarh,10872,0,10872\\r\\n19/01/2021,Dadra and Nagar Haveli and Daman and Diu,208,0,208\\r\\n19/01/2021,Delhi,12441,0,12441\\r\\n19/01/2021,Goa,426,0,426\\r\\n19/01/2021,Gujarat,17581,0,17581\\r\\n19/01/2021,Haryana,24944,0,24944\\r\\n19/01/2021,Himachal Pradesh,5049,0,5049\\r\\n19/01/2021,Jammu and Kashmir,4395,0,4395\\r\\n19/01/2021,Jharkhand,8824,0,8824\\r\\n19/01/2021,Karnataka,80686,0,80686\\r\\n19/01/2021,Kerala,23855,0,23855\\r\\n19/01/2021,Ladakh,119,0,119\\r\\n19/01/2021,Lakshadweep,369,0,369\\r\\n19/01/2021,Madhya Pradesh,18174,0,18174\\r\\n19/01/2021,Maharashtra,30247,0,30247\\r\\n19/01/2021,Manipur,111,0,111\\r\\n19/01/2021,Meghalaya,1037,0,1037\\r\\n19/01/2021,Mizoram,1091,0,1091\\r\\n19/01/2021,Nagaland,2286,0,2286\\r\\n19/01/2021,Odisha,55138,0,55138\\r\\n19/01/2021,Puducherry,719,0,719\\r\\n19/01/2021,Punjab,5567,0,5567\\r\\n19/01/2021,Rajasthan,30761,0,30761\\r\\n19/01/2021,Sikkim,350,0,350\\r\\n19/01/2021,Tamil Nadu,25251,0,25251\\r\\n19/01/2021,Telangana,69405,0,69405\\r\\n19/01/2021,Tripura,3734,0,3734\\r\\n19/01/2021,Uttar Pradesh,22644,0,22644\\r\\n19/01/2021,Uttarakhand,6107,0,6107\\r\\n19/01/2021,West Bengal,42093,0,42093\\r\\n19/01/2021,Miscellaneous,14017,0,14017\\r\\n19/01/2021,Total,630417,0,630417\\r\\n20/01/2021,Andaman and Nicobar Islands,644,0,644\\r\\n20/01/2021,Andhra Pradesh,91778,0,91778\\r\\n20/01/2021,Arunachal Pradesh,3023,0,3023\\r\\n20/01/2021,Assam,7585,0,7585\\r\\n20/01/2021,Bihar,47433,0,47433\\r\\n20/01/2021,Chandigarh,469,0,469\\r\\n20/01/2021,Chhattisgarh,16255,0,16255\\r\\n20/01/2021,Dadra and Nagar Haveli and Daman and Diu,219,0,219\\r\\n20/01/2021,Delhi,12902,0,12902\\r\\n20/01/2021,Goa,426,0,426\\r\\n20/01/2021,Gujarat,21832,0,21832\\r\\n20/01/2021,Haryana,30402,0,30402\\r\\n20/01/2021,Himachal Pradesh,5094,0,5094\\r\\n20/01/2021,Jammu and Kashmir,4414,0,4414\\r\\n20/01/2021,Jharkhand,11641,0,11641\\r\\n20/01/2"
     ]
    },
    {
     "data": {
      "text/html": [
       "<b>limit_output extension: Maximum message size of 5000 exceeded with 421969 characters</b>"
      ]
     },
     "metadata": {},
     "output_type": "display_data"
    }
   ],
   "source": [
    "print(covid_csv)"
   ]
  },
  {
   "cell_type": "code",
   "execution_count": 62,
   "id": "fe05e21c",
   "metadata": {
    "ExecuteTime": {
     "end_time": "2021-09-12T13:52:47.547906Z",
     "start_time": "2021-09-12T13:52:47.524909Z"
    }
   },
   "outputs": [
    {
     "name": "stdout",
     "output_type": "stream",
     "text": [
      "<class 'str'>\n"
     ]
    },
    {
     "data": {
      "text/plain": [
       "'Vaccinated As of,State,First Dose Administered,Second Dose Administered,Total Doses Administered\\r\\n16/01/2021,Andaman and Nicobar Islands,225,0,225\\r\\n16/01/2021,Andhra Pradesh,18412,0,18412\\r\\n16/01/2021,Arunachal Pradesh,829,0,829\\r\\n16/01/2021,Assam,3528,0,3528\\r\\n16/01/2021,Bihar,18169,0,18169\\r\\n16/01/2021,Chandigarh,265,0,265\\r\\n16/01/2021,Chhattisgarh,5592,0,5592\\r\\n16/01/2021,Dadra and Nagar Haveli and Daman and Diu,123,0,123\\r\\n16/01/2021,Delhi,4319,0,4319\\r\\n16/01/2021,Goa,426,0,426\\r\\n16/01/2021,Gujarat,10787,0,10787\\r\\n16/01/2021,Haryana,5589,0,5589\\r\\n16/01/2021,Himachal Pradesh,1517,0,1517\\r\\n16/01/2021,Jammu and Kashmir,2044,0,2044\\r\\n16/01/2021,Jharkhand,3096,0,3096\\r\\n16/01/2021,Karnataka,13594,0,13594\\r\\n16/01/2021,Kerala,8062,0,8062\\r\\n16/01/2021,Ladakh,79,0,79\\r\\n16/01/2021,Lakshadweep,21,0,21\\r\\n16/01/2021,Madhya Pradesh,9219,0,9219\\r\\n16/01/2021,Maharashtra,18328,0,18328\\r\\n16/01/2021,Manipur,585,0,585\\r\\n16/01/2021,Meghalaya,509,0,509\\r\\n16/01/2021,Mizoram,314,0,314\\r\\n16/01/2021,Nagaland,561,0,561\\r\\n16/01/2021,Odisha,13746,0,13746\\r\\n16/01/2021,Puducherry,274,0,274\\r\\n16/01/2021,Punjab,1319,0,1319\\r\\n16/01/2021,Rajasthan,9279,0,9279\\r\\n16/01/2021,Sikkim,120,0,120\\r\\n16/01/2021,Tamil Nadu,2945,0,2945\\r\\n16/01/2021,Telangana,3653,0,3653\\r\\n16/01/2021,Tripura,355,0,355\\r\\n16/01/2021,Uttar Pradesh,21291,0,21291\\r\\n16/01/2021,Uttarakhand,2276,0,2276\\r\\n16/01/2021,West Bengal,9730,0,9730\\r\\n16/01/2021,Miscellaneous,0,0,0\\r\\n16/01/2021,Total,191181,0,191181\\r\\n18/01/2021,Andaman and Nicobar Islands,442,0,442\\r\\n18/01/2021,Andhra Pradesh,46680,0,46680\\r\\n18/01/2021,Arunachal Pradesh,2805,0,2805\\r\\n18/01/2021,Assam,5542,0,5542\\r\\n18/01/2021,Bihar,33389,0,33389\\r\\n18/01/2021,Chandigarh,265,0,265\\r\\n18/01/2021,Chhattisgarh,10872,0,10872\\r\\n18/01/2021,Dadra and Nagar Haveli and Daman and Diu,123,0,123\\r\\n18/01/2021,Delhi,7968,0,7968\\r\\n18/01/2021,Goa,426,0,426\\r\\n18/01/2021,Gujarat,10787,0,10787\\r\\n18/01/2021,Haryana,17642,0,17642\\r\\n18/01/2021,Himachal Pradesh,4817,0,4817\\r\\n18/01/2021,Jammu and Kashmir,3375,0,3375\\r\\n18/01/2021,Jharkhand,6059,0,6059\\r\\n18/01/2021,Karnataka,66392,0,66392\\r\\n18/01/2021,Kerala,15477,0,15477\\r\\n18/01/2021,Ladakh,119,0,119\\r\\n18/01/2021,Lakshadweep,201,0,201\\r\\n18/01/2021,Madhya Pradesh,18174,0,18174\\r\\n18/01/2021,Maharashtra,18582,0,18582\\r\\n18/01/2021,Manipur,978,0,978\\r\\n18/01/2021,Meghalaya,530,0,530\\r\\n18/01/2021,Mizoram,554,0,554\\r\\n18/01/2021,Nagaland,1436,0,1436\\r\\n18/01/2021,Odisha,46506,0,46506\\r\\n18/01/2021,Puducherry,554,0,554\\r\\n18/01/2021,Punjab,3318,0,3318\\r\\n18/01/2021,Rajasthan,23546,0,23546\\r\\n18/01/2021,Sikkim,120,0,120\\r\\n18/01/2021,Tamil Nadu,16462,0,16462\\r\\n18/01/2021,Telangana,17408,0,17408\\r\\n18/01/2021,Tripura,1736,0,1736\\r\\n18/01/2021,Uttar Pradesh,22644,0,22644\\r\\n18/01/2021,Uttarakhand,4237,0,4237\\r\\n18/01/2021,West Bengal,29866,0,29866\\r\\n18/01/2021,Miscellaneous,14017,0,14017\\r\\n18/01/2021,Total,454049,0,454049\\r\\n19/01/2021,Andaman and Nicobar Islands,644,0,644\\r\\n19/01/2021,Andhra Pradesh,58495,0,58495\\r\\n19/01/2021,Arunachal Pradesh,2805,0,2805\\r\\n19/01/2021,Assam,7418,0,7418\\r\\n19/01/2021,Bihar,42085,0,42085\\r\\n19/01/2021,Chandigarh,469,0,469\\r\\n19/01/2021,Chhattisgarh,10872,0,10872\\r\\n19/01/2021,Dadra and Nagar Haveli and Daman and Diu,208,0,208\\r\\n19/01/2021,Delhi,12441,0,12441\\r\\n19/01/2021,Goa,426,0,426\\r\\n19/01/2021,Gujarat,17581,0,17581\\r\\n19/01/2021,Haryana,24944,0,24944\\r\\n19/01/2021,Himachal Pradesh,5049,0,5049\\r\\n19/01/2021,Jammu and Kashmir,4395,0,4395\\r\\n19/01/2021,Jharkhand,8824,0,8824\\r\\n19/01/2021,Karnataka,80686,0,80686\\r\\n19/01/2021,Kerala,23855,0,23855\\r\\n19/01/2021,Ladakh,119,0,119\\r\\n19/01/2021,Lakshadweep,369,0,369\\r\\n19/01/2021,Madhya Pradesh,18174,0,18174\\r\\n19/01/2021,Maharashtra,30247,0,30247\\r\\n19/01/2021,Manipur,111,0,111\\r\\n19/01/2021,Meghalaya,1037,0,1037\\r\\n19/01/2021,Mizoram,1091,0,1091\\r\\n19/01/2021,Nagaland,2286,0,2286\\r\\n19/01/2021,Odisha,55138,0,55138\\r\\n19/01/2021,Puducherry,719,0,719\\r\\n19/01/2021,Punjab,5567,0,5567\\r\\n19/01/2021,Rajasthan,30761,0,30761\\r\\n19/01/2021,Sikkim,350,0,350\\r\\n19/01/2021,Tamil Nadu,25251,0,25251\\r\\n19/01/2021,Telangana,69405,0,69405\\r\\n19/01/2021,Tripura,3734,0,3734\\r\\n19/01/2021,Uttar Pradesh,22644,0,22644\\r\\n19/01/2021,Uttarakhand,6107,0,6107\\r\\n19/01/2021,West Bengal,42093,0,42093\\r\\n19/01/2021,Miscellaneous,14017,0,14017\\r\\n19/01/2021,Total,630417,0,630417\\r\\n20/01/2021,Andaman and Nicobar Islands,644,0,644\\r\\n20/01/2021,Andhra Pradesh,91778,0,91778\\r\\n20/01/2021,Arunachal Pradesh,3023,0,3023\\r\\n20/01/2021,Assam,7585,0,7585\\r\\n20/01/2021,Bihar,47433,0,47433\\r\\n20/01/2021,Chandigarh,469,0,469\\r\\n20/01/2021,Chhattisgarh,16255,0,16255\\r\\n20/01/2021,Dadra and Nagar Haveli and Daman and Diu,219,0,219\\r\\n20/01/2021,Delhi,12902,0,12902\\r\\n20/01/2021,Goa,426,0,426\\r\\n20/01/2021,Gujarat,21832,0,21832\\r\\n20/01/2021,Haryana,30402,0,30402\\r\\n20/01/2021,Himachal Pradesh,5094,0,5094\\r\\n20/01/2021,Jammu and Kashmir,4414,0,4414\\r\\n20/01/2021,Jharkhand,11641,0,116"
      ]
     },
     "execution_count": 62,
     "metadata": {},
     "output_type": "execute_result"
    },
    {
     "data": {
      "text/html": [
       "<b>limit_output extension: Maximum message size of 5000 exceeded with 421981 characters</b>"
      ]
     },
     "metadata": {},
     "output_type": "display_data"
    }
   ],
   "source": [
    "csv=covid_csv.decode('utf-8')\n",
    "print(type(csv))\n",
    "csv"
   ]
  },
  {
   "cell_type": "code",
   "execution_count": 63,
   "id": "5c014797",
   "metadata": {
    "ExecuteTime": {
     "end_time": "2021-09-12T13:53:19.597399Z",
     "start_time": "2021-09-12T13:53:19.583398Z"
    }
   },
   "outputs": [],
   "source": [
    "csv=csv.split('\\n')"
   ]
  },
  {
   "cell_type": "code",
   "execution_count": 82,
   "id": "360f6909",
   "metadata": {
    "ExecuteTime": {
     "end_time": "2021-09-12T14:01:29.656756Z",
     "start_time": "2021-09-12T14:01:29.645746Z"
    }
   },
   "outputs": [],
   "source": [
    "data=[]\n",
    "for i in csv:\n",
    "    data.append(i)"
   ]
  },
  {
   "cell_type": "code",
   "execution_count": 83,
   "id": "f6b9e6a2",
   "metadata": {
    "ExecuteTime": {
     "end_time": "2021-09-12T14:01:39.684176Z",
     "start_time": "2021-09-12T14:01:39.663174Z"
    }
   },
   "outputs": [],
   "source": [
    "values=[]\n",
    "for i in data:\n",
    "    values.append(i[:-1].split(','))"
   ]
  },
  {
   "cell_type": "code",
   "execution_count": 84,
   "id": "3d6ce698",
   "metadata": {
    "ExecuteTime": {
     "end_time": "2021-09-12T14:01:41.584148Z",
     "start_time": "2021-09-12T14:01:41.431151Z"
    }
   },
   "outputs": [
    {
     "data": {
      "text/plain": [
       "[['Vaccinated As of',\n",
       "  'State',\n",
       "  'First Dose Administered',\n",
       "  'Second Dose Administered',\n",
       "  'Total Doses Administered'],\n",
       " ['16/01/2021', 'Andaman and Nicobar Islands', '225', '0', '225'],\n",
       " ['16/01/2021', 'Andhra Pradesh', '18412', '0', '18412'],\n",
       " ['16/01/2021', 'Arunachal Pradesh', '829', '0', '829'],\n",
       " ['16/01/2021', 'Assam', '3528', '0', '3528'],\n",
       " ['16/01/2021', 'Bihar', '18169', '0', '18169'],\n",
       " ['16/01/2021', 'Chandigarh', '265', '0', '265'],\n",
       " ['16/01/2021', 'Chhattisgarh', '5592', '0', '5592'],\n",
       " ['16/01/2021', 'Dadra and Nagar Haveli and Daman and Diu', '123', '0', '123'],\n",
       " ['16/01/2021', 'Delhi', '4319', '0', '4319'],\n",
       " ['16/01/2021', 'Goa', '426', '0', '426'],\n",
       " ['16/01/2021', 'Gujarat', '10787', '0', '10787'],\n",
       " ['16/01/2021', 'Haryana', '5589', '0', '5589'],\n",
       " ['16/01/2021', 'Himachal Pradesh', '1517', '0', '1517'],\n",
       " ['16/01/2021', 'Jammu and Kashmir', '2044', '0', '2044'],\n",
       " ['16/01/2021', 'Jharkhand', '3096', '0', '3096'],\n",
       " ['16/01/2021', 'Karnataka', '13594', '0', '13594'],\n",
       " ['16/01/2021', 'Kerala', '8062', '0', '8062'],\n",
       " ['16/01/2021', 'Ladakh', '79', '0', '79'],\n",
       " ['16/01/2021', 'Lakshadweep', '21', '0', '21'],\n",
       " ['16/01/2021', 'Madhya Pradesh', '9219', '0', '9219'],\n",
       " ['16/01/2021', 'Maharashtra', '18328', '0', '18328'],\n",
       " ['16/01/2021', 'Manipur', '585', '0', '585'],\n",
       " ['16/01/2021', 'Meghalaya', '509', '0', '509'],\n",
       " ['16/01/2021', 'Mizoram', '314', '0', '314'],\n",
       " ['16/01/2021', 'Nagaland', '561', '0', '561'],\n",
       " ['16/01/2021', 'Odisha', '13746', '0', '13746'],\n",
       " ['16/01/2021', 'Puducherry', '274', '0', '274'],\n",
       " ['16/01/2021', 'Punjab', '1319', '0', '1319'],\n",
       " ['16/01/2021', 'Rajasthan', '9279', '0', '9279'],\n",
       " ['16/01/2021', 'Sikkim', '120', '0', '120'],\n",
       " ['16/01/2021', 'Tamil Nadu', '2945', '0', '2945'],\n",
       " ['16/01/2021', 'Telangana', '3653', '0', '3653'],\n",
       " ['16/01/2021', 'Tripura', '355', '0', '355'],\n",
       " ['16/01/2021', 'Uttar Pradesh', '21291', '0', '21291'],\n",
       " ['16/01/2021', 'Uttarakhand', '2276', '0', '2276'],\n",
       " ['16/01/2021', 'West Bengal', '9730', '0', '9730'],\n",
       " ['16/01/2021', 'Miscellaneous', '0', '0', '0'],\n",
       " ['16/01/2021', 'Total', '191181', '0', '191181'],\n",
       " ['18/01/2021', 'Andaman and Nicobar Islands', '442', '0', '442'],\n",
       " ['18/01/2021', 'Andhra Pradesh', '46680', '0', '46680'],\n",
       " ['18/01/2021', 'Arunachal Pradesh', '2805', '0', '2805'],\n",
       " ['18/01/2021', 'Assam', '5542', '0', '5542'],\n",
       " ['18/01/2021', 'Bihar', '33389', '0', '33389'],\n",
       " ['18/01/2021', 'Chandigarh', '265', '0', '265'],\n",
       " ['18/01/2021', 'Chhattisgarh', '10872', '0', '10872'],\n",
       " ['18/01/2021', 'Dadra and Nagar Haveli and Daman and Diu', '123', '0', '123'],\n",
       " ['18/01/2021', 'Delhi', '7968', '0', '7968'],\n",
       " ['18/01/2021', 'Goa', '426', '0', '426'],\n",
       " ['18/01/2021', 'Gujarat', '10787', '0', '10787'],\n",
       " ['18/01/2021', 'Haryana', '17642', '0', '17642'],\n",
       " ['18/01/2021', 'Himachal Pradesh', '4817', '0', '4817'],\n",
       " ['18/01/2021', 'Jammu and Kashmir', '3375', '0', '3375'],\n",
       " ['18/01/2021', 'Jharkhand', '6059', '0', '6059'],\n",
       " ['18/01/2021', 'Karnataka', '66392', '0', '66392'],\n",
       " ['18/01/2021', 'Kerala', '15477', '0', '15477'],\n",
       " ['18/01/2021', 'Ladakh', '119', '0', '119'],\n",
       " ['18/01/2021', 'Lakshadweep', '201', '0', '201'],\n",
       " ['18/01/2021', 'Madhya Pradesh', '18174', '0', '18174'],\n",
       " ['18/01/2021', 'Maharashtra', '18582', '0', '18582'],\n",
       " ['18/01/2021', 'Manipur', '978', '0', '978'],\n",
       " ['18/01/2021', 'Meghalaya', '530', '0', '530'],\n",
       " ['18/01/2021', 'Mizoram', '554', '0', '554'],\n",
       " ['18/01/2021', 'Nagaland', '1436', '0', '1436'],\n",
       " ['18/01/2021', 'Odisha', '46506', '0', '46506'],\n",
       " ['18/01/2021', 'Puducherry', '554', '0', '554'],\n",
       " ['18/01/2021', 'Punjab', '3318', '0', '3318'],\n",
       " ['18/01/2021', 'Rajasthan', '23546', '0', '23546'],\n",
       " ['18/01/2021', 'Sikkim', '120', '0', '120'],\n",
       " ['18/01/2021', 'Tamil Nadu', '16462', '0', '16462'],\n",
       " ['18/01/2021', 'Telangana', '17408', '0', '17408'],\n",
       " ['18/01/2021', 'Tripura', '1736', '0', '1736'],\n",
       " ['18/01/2021', 'Uttar Pradesh', '22644', '0', '22644'],\n",
       " ['18/01/2021', 'Uttarakhand', '4237', '0', '4237'],\n",
       " ['18/01/2021', 'West Bengal', '29866', '0', '29866'],\n",
       " ['18/01/2021', 'Miscellaneous', '14017', '0', '14017'],\n",
       " ['18/01/2021', 'Total', '454049', '0', '454049'],\n",
       " ['19/01/2021', 'Andaman and Nicobar Islands', '644', '0', '644'],\n",
       " ['19/01/2021', 'Andhra Pradesh', '58495', '0', '58495'],\n",
       " ['19/01/2021', 'Arunachal Pradesh', '2805', '0', '2805'],\n",
       " ['19/01/2021', 'Assam', '7418', '0', '7418'],\n",
       " ['19/01/2021', 'Bihar', '42085', '0', '42085'],\n",
       " ['19/01/2021', 'Chandigarh', '469', '0', '469'],\n",
       " ['19/01/2021', 'Chhattisgarh', '10872', '0', '10872'],\n",
       " ['19/01/2021', 'Dadra and Nagar Haveli and Daman and Diu', '208', '0', '208'],\n",
       " ['19/01/2021', 'Delhi', '12441', '0', '12441'],\n",
       " ['19/01/2021', 'Goa', '426', '0', '426'],\n",
       " ['19/01/2021', 'Gujarat', '17581', '0', '17581'],\n",
       " ['19/01/2021', 'Haryana', '24944', '0', '24944'],\n",
       " ['19/01/2021', 'Himachal Pradesh', '5049', '0', '5049'],\n",
       " ['19/01/2021', 'Jammu and Kashmir', '4395', '0', '4395'],\n",
       " ['19/01/2021', 'Jharkhand', '8824', '0', '8824'],\n",
       " ['19/01/2021', 'Karnataka', '80686', '0', '80686'],\n",
       " ['19/01/2021'"
      ]
     },
     "execution_count": 84,
     "metadata": {},
     "output_type": "execute_result"
    },
    {
     "data": {
      "text/html": [
       "<b>limit_output extension: Maximum message size of 5000 exceeded with 54437 characters</b>"
      ]
     },
     "metadata": {},
     "output_type": "display_data"
    }
   ],
   "source": [
    "values"
   ]
  },
  {
   "cell_type": "code",
   "execution_count": 85,
   "id": "83fde52d",
   "metadata": {
    "ExecuteTime": {
     "end_time": "2021-09-12T14:02:02.015785Z",
     "start_time": "2021-09-12T14:02:02.007785Z"
    }
   },
   "outputs": [
    {
     "data": {
      "text/plain": [
       "['Vaccinated As of',\n",
       " 'State',\n",
       " 'First Dose Administered',\n",
       " 'Second Dose Administered',\n",
       " 'Total Doses Administered']"
      ]
     },
     "execution_count": 85,
     "metadata": {},
     "output_type": "execute_result"
    }
   ],
   "source": [
    "values[0]"
   ]
  },
  {
   "cell_type": "code",
   "execution_count": 89,
   "id": "3aedb0aa",
   "metadata": {
    "ExecuteTime": {
     "end_time": "2021-09-12T14:16:37.159182Z",
     "start_time": "2021-09-12T14:16:37.127179Z"
    }
   },
   "outputs": [
    {
     "ename": "InterfaceError",
     "evalue": "(0, '')",
     "output_type": "error",
     "traceback": [
      "\u001b[1;31m---------------------------------------------------------------------------\u001b[0m",
      "\u001b[1;31mInterfaceError\u001b[0m                            Traceback (most recent call last)",
      "\u001b[1;32m<ipython-input-89-942a52b87707>\u001b[0m in \u001b[0;36m<module>\u001b[1;34m\u001b[0m\n\u001b[1;32m----> 1\u001b[1;33m \u001b[0mcursor\u001b[0m\u001b[1;33m.\u001b[0m\u001b[0mexecute\u001b[0m\u001b[1;33m(\u001b[0m\u001b[1;34m'CREATE TABLE covid (Vaccinated varchar(255),State varchar(255),F_dose int,S_dose int,total int);'\u001b[0m\u001b[1;33m)\u001b[0m\u001b[1;33m\u001b[0m\u001b[1;33m\u001b[0m\u001b[0m\n\u001b[0m\u001b[0;32m      2\u001b[0m \u001b[0mdb\u001b[0m\u001b[1;33m.\u001b[0m\u001b[0mcommit\u001b[0m\u001b[1;33m(\u001b[0m\u001b[1;33m)\u001b[0m\u001b[1;33m\u001b[0m\u001b[1;33m\u001b[0m\u001b[0m\n",
      "\u001b[1;32mC:\\ProgramData\\Anaconda3\\lib\\site-packages\\pymysql\\cursors.py\u001b[0m in \u001b[0;36mexecute\u001b[1;34m(self, query, args)\u001b[0m\n\u001b[0;32m    146\u001b[0m         \u001b[0mquery\u001b[0m \u001b[1;33m=\u001b[0m \u001b[0mself\u001b[0m\u001b[1;33m.\u001b[0m\u001b[0mmogrify\u001b[0m\u001b[1;33m(\u001b[0m\u001b[0mquery\u001b[0m\u001b[1;33m,\u001b[0m \u001b[0margs\u001b[0m\u001b[1;33m)\u001b[0m\u001b[1;33m\u001b[0m\u001b[1;33m\u001b[0m\u001b[0m\n\u001b[0;32m    147\u001b[0m \u001b[1;33m\u001b[0m\u001b[0m\n\u001b[1;32m--> 148\u001b[1;33m         \u001b[0mresult\u001b[0m \u001b[1;33m=\u001b[0m \u001b[0mself\u001b[0m\u001b[1;33m.\u001b[0m\u001b[0m_query\u001b[0m\u001b[1;33m(\u001b[0m\u001b[0mquery\u001b[0m\u001b[1;33m)\u001b[0m\u001b[1;33m\u001b[0m\u001b[1;33m\u001b[0m\u001b[0m\n\u001b[0m\u001b[0;32m    149\u001b[0m         \u001b[0mself\u001b[0m\u001b[1;33m.\u001b[0m\u001b[0m_executed\u001b[0m \u001b[1;33m=\u001b[0m \u001b[0mquery\u001b[0m\u001b[1;33m\u001b[0m\u001b[1;33m\u001b[0m\u001b[0m\n\u001b[0;32m    150\u001b[0m         \u001b[1;32mreturn\u001b[0m \u001b[0mresult\u001b[0m\u001b[1;33m\u001b[0m\u001b[1;33m\u001b[0m\u001b[0m\n",
      "\u001b[1;32mC:\\ProgramData\\Anaconda3\\lib\\site-packages\\pymysql\\cursors.py\u001b[0m in \u001b[0;36m_query\u001b[1;34m(self, q)\u001b[0m\n\u001b[0;32m    308\u001b[0m         \u001b[0mself\u001b[0m\u001b[1;33m.\u001b[0m\u001b[0m_last_executed\u001b[0m \u001b[1;33m=\u001b[0m \u001b[0mq\u001b[0m\u001b[1;33m\u001b[0m\u001b[1;33m\u001b[0m\u001b[0m\n\u001b[0;32m    309\u001b[0m         \u001b[0mself\u001b[0m\u001b[1;33m.\u001b[0m\u001b[0m_clear_result\u001b[0m\u001b[1;33m(\u001b[0m\u001b[1;33m)\u001b[0m\u001b[1;33m\u001b[0m\u001b[1;33m\u001b[0m\u001b[0m\n\u001b[1;32m--> 310\u001b[1;33m         \u001b[0mconn\u001b[0m\u001b[1;33m.\u001b[0m\u001b[0mquery\u001b[0m\u001b[1;33m(\u001b[0m\u001b[0mq\u001b[0m\u001b[1;33m)\u001b[0m\u001b[1;33m\u001b[0m\u001b[1;33m\u001b[0m\u001b[0m\n\u001b[0m\u001b[0;32m    311\u001b[0m         \u001b[0mself\u001b[0m\u001b[1;33m.\u001b[0m\u001b[0m_do_get_result\u001b[0m\u001b[1;33m(\u001b[0m\u001b[1;33m)\u001b[0m\u001b[1;33m\u001b[0m\u001b[1;33m\u001b[0m\u001b[0m\n\u001b[0;32m    312\u001b[0m         \u001b[1;32mreturn\u001b[0m \u001b[0mself\u001b[0m\u001b[1;33m.\u001b[0m\u001b[0mrowcount\u001b[0m\u001b[1;33m\u001b[0m\u001b[1;33m\u001b[0m\u001b[0m\n",
      "\u001b[1;32mC:\\ProgramData\\Anaconda3\\lib\\site-packages\\pymysql\\connections.py\u001b[0m in \u001b[0;36mquery\u001b[1;34m(self, sql, unbuffered)\u001b[0m\n\u001b[0;32m    545\u001b[0m         \u001b[1;32mif\u001b[0m \u001b[0misinstance\u001b[0m\u001b[1;33m(\u001b[0m\u001b[0msql\u001b[0m\u001b[1;33m,\u001b[0m \u001b[0mstr\u001b[0m\u001b[1;33m)\u001b[0m\u001b[1;33m:\u001b[0m\u001b[1;33m\u001b[0m\u001b[1;33m\u001b[0m\u001b[0m\n\u001b[0;32m    546\u001b[0m             \u001b[0msql\u001b[0m \u001b[1;33m=\u001b[0m \u001b[0msql\u001b[0m\u001b[1;33m.\u001b[0m\u001b[0mencode\u001b[0m\u001b[1;33m(\u001b[0m\u001b[0mself\u001b[0m\u001b[1;33m.\u001b[0m\u001b[0mencoding\u001b[0m\u001b[1;33m,\u001b[0m \u001b[1;34m\"surrogateescape\"\u001b[0m\u001b[1;33m)\u001b[0m\u001b[1;33m\u001b[0m\u001b[1;33m\u001b[0m\u001b[0m\n\u001b[1;32m--> 547\u001b[1;33m         \u001b[0mself\u001b[0m\u001b[1;33m.\u001b[0m\u001b[0m_execute_command\u001b[0m\u001b[1;33m(\u001b[0m\u001b[0mCOMMAND\u001b[0m\u001b[1;33m.\u001b[0m\u001b[0mCOM_QUERY\u001b[0m\u001b[1;33m,\u001b[0m \u001b[0msql\u001b[0m\u001b[1;33m)\u001b[0m\u001b[1;33m\u001b[0m\u001b[1;33m\u001b[0m\u001b[0m\n\u001b[0m\u001b[0;32m    548\u001b[0m         \u001b[0mself\u001b[0m\u001b[1;33m.\u001b[0m\u001b[0m_affected_rows\u001b[0m \u001b[1;33m=\u001b[0m \u001b[0mself\u001b[0m\u001b[1;33m.\u001b[0m\u001b[0m_read_query_result\u001b[0m\u001b[1;33m(\u001b[0m\u001b[0munbuffered\u001b[0m\u001b[1;33m=\u001b[0m\u001b[0munbuffered\u001b[0m\u001b[1;33m)\u001b[0m\u001b[1;33m\u001b[0m\u001b[1;33m\u001b[0m\u001b[0m\n\u001b[0;32m    549\u001b[0m         \u001b[1;32mreturn\u001b[0m \u001b[0mself\u001b[0m\u001b[1;33m.\u001b[0m\u001b[0m_affected_rows\u001b[0m\u001b[1;33m\u001b[0m\u001b[1;33m\u001b[0m\u001b[0m\n",
      "\u001b[1;32mC:\\ProgramData\\Anaconda3\\lib\\site-packages\\pymysql\\connections.py\u001b[0m in \u001b[0;36m_execute_command\u001b[1;34m(self, command, sql)\u001b[0m\n\u001b[0;32m    791\u001b[0m         \"\"\"\n\u001b[0;32m    792\u001b[0m         \u001b[1;32mif\u001b[0m \u001b[1;32mnot\u001b[0m \u001b[0mself\u001b[0m\u001b[1;33m.\u001b[0m\u001b[0m_sock\u001b[0m\u001b[1;33m:\u001b[0m\u001b[1;33m\u001b[0m\u001b[1;33m\u001b[0m\u001b[0m\n\u001b[1;32m--> 793\u001b[1;33m             \u001b[1;32mraise\u001b[0m \u001b[0merr\u001b[0m\u001b[1;33m.\u001b[0m\u001b[0mInterfaceError\u001b[0m\u001b[1;33m(\u001b[0m\u001b[1;36m0\u001b[0m\u001b[1;33m,\u001b[0m \u001b[1;34m\"\"\u001b[0m\u001b[1;33m)\u001b[0m\u001b[1;33m\u001b[0m\u001b[1;33m\u001b[0m\u001b[0m\n\u001b[0m\u001b[0;32m    794\u001b[0m \u001b[1;33m\u001b[0m\u001b[0m\n\u001b[0;32m    795\u001b[0m         \u001b[1;31m# If the last query was unbuffered, make sure it finishes before\u001b[0m\u001b[1;33m\u001b[0m\u001b[1;33m\u001b[0m\u001b[1;33m\u001b[0m\u001b[0m\n",
      "\u001b[1;31mInterfaceError\u001b[0m: (0, '')"
     ]
    }
   ],
   "source": [
    "# cursor.execute('CREATE TABLE covid (Vaccinated varchar(255),State varchar(255),F_dose int,S_dose int,total int);')\n",
    "# db.commit()"
   ]
  },
  {
   "cell_type": "code",
   "execution_count": 92,
   "id": "9cb58d2b",
   "metadata": {
    "ExecuteTime": {
     "end_time": "2021-09-12T14:18:40.818339Z",
     "start_time": "2021-09-12T14:18:40.801338Z"
    }
   },
   "outputs": [
    {
     "ename": "InterfaceError",
     "evalue": "(0, '')",
     "output_type": "error",
     "traceback": [
      "\u001b[1;31m---------------------------------------------------------------------------\u001b[0m",
      "\u001b[1;31mInterfaceError\u001b[0m                            Traceback (most recent call last)",
      "\u001b[1;32m<ipython-input-92-d2953c750069>\u001b[0m in \u001b[0;36m<module>\u001b[1;34m\u001b[0m\n\u001b[1;32m----> 1\u001b[1;33m \u001b[0mcursor\u001b[0m\u001b[1;33m.\u001b[0m\u001b[0mexecute\u001b[0m\u001b[1;33m(\u001b[0m\u001b[1;34m'describe covid'\u001b[0m\u001b[1;33m)\u001b[0m\u001b[1;33m\u001b[0m\u001b[1;33m\u001b[0m\u001b[0m\n\u001b[0m\u001b[0;32m      2\u001b[0m \u001b[0mcursor\u001b[0m\u001b[1;33m.\u001b[0m\u001b[0mfetchall\u001b[0m\u001b[1;33m(\u001b[0m\u001b[1;33m)\u001b[0m\u001b[1;33m\u001b[0m\u001b[1;33m\u001b[0m\u001b[0m\n",
      "\u001b[1;32mC:\\ProgramData\\Anaconda3\\lib\\site-packages\\pymysql\\cursors.py\u001b[0m in \u001b[0;36mexecute\u001b[1;34m(self, query, args)\u001b[0m\n\u001b[0;32m    146\u001b[0m         \u001b[0mquery\u001b[0m \u001b[1;33m=\u001b[0m \u001b[0mself\u001b[0m\u001b[1;33m.\u001b[0m\u001b[0mmogrify\u001b[0m\u001b[1;33m(\u001b[0m\u001b[0mquery\u001b[0m\u001b[1;33m,\u001b[0m \u001b[0margs\u001b[0m\u001b[1;33m)\u001b[0m\u001b[1;33m\u001b[0m\u001b[1;33m\u001b[0m\u001b[0m\n\u001b[0;32m    147\u001b[0m \u001b[1;33m\u001b[0m\u001b[0m\n\u001b[1;32m--> 148\u001b[1;33m         \u001b[0mresult\u001b[0m \u001b[1;33m=\u001b[0m \u001b[0mself\u001b[0m\u001b[1;33m.\u001b[0m\u001b[0m_query\u001b[0m\u001b[1;33m(\u001b[0m\u001b[0mquery\u001b[0m\u001b[1;33m)\u001b[0m\u001b[1;33m\u001b[0m\u001b[1;33m\u001b[0m\u001b[0m\n\u001b[0m\u001b[0;32m    149\u001b[0m         \u001b[0mself\u001b[0m\u001b[1;33m.\u001b[0m\u001b[0m_executed\u001b[0m \u001b[1;33m=\u001b[0m \u001b[0mquery\u001b[0m\u001b[1;33m\u001b[0m\u001b[1;33m\u001b[0m\u001b[0m\n\u001b[0;32m    150\u001b[0m         \u001b[1;32mreturn\u001b[0m \u001b[0mresult\u001b[0m\u001b[1;33m\u001b[0m\u001b[1;33m\u001b[0m\u001b[0m\n",
      "\u001b[1;32mC:\\ProgramData\\Anaconda3\\lib\\site-packages\\pymysql\\cursors.py\u001b[0m in \u001b[0;36m_query\u001b[1;34m(self, q)\u001b[0m\n\u001b[0;32m    308\u001b[0m         \u001b[0mself\u001b[0m\u001b[1;33m.\u001b[0m\u001b[0m_last_executed\u001b[0m \u001b[1;33m=\u001b[0m \u001b[0mq\u001b[0m\u001b[1;33m\u001b[0m\u001b[1;33m\u001b[0m\u001b[0m\n\u001b[0;32m    309\u001b[0m         \u001b[0mself\u001b[0m\u001b[1;33m.\u001b[0m\u001b[0m_clear_result\u001b[0m\u001b[1;33m(\u001b[0m\u001b[1;33m)\u001b[0m\u001b[1;33m\u001b[0m\u001b[1;33m\u001b[0m\u001b[0m\n\u001b[1;32m--> 310\u001b[1;33m         \u001b[0mconn\u001b[0m\u001b[1;33m.\u001b[0m\u001b[0mquery\u001b[0m\u001b[1;33m(\u001b[0m\u001b[0mq\u001b[0m\u001b[1;33m)\u001b[0m\u001b[1;33m\u001b[0m\u001b[1;33m\u001b[0m\u001b[0m\n\u001b[0m\u001b[0;32m    311\u001b[0m         \u001b[0mself\u001b[0m\u001b[1;33m.\u001b[0m\u001b[0m_do_get_result\u001b[0m\u001b[1;33m(\u001b[0m\u001b[1;33m)\u001b[0m\u001b[1;33m\u001b[0m\u001b[1;33m\u001b[0m\u001b[0m\n\u001b[0;32m    312\u001b[0m         \u001b[1;32mreturn\u001b[0m \u001b[0mself\u001b[0m\u001b[1;33m.\u001b[0m\u001b[0mrowcount\u001b[0m\u001b[1;33m\u001b[0m\u001b[1;33m\u001b[0m\u001b[0m\n",
      "\u001b[1;32mC:\\ProgramData\\Anaconda3\\lib\\site-packages\\pymysql\\connections.py\u001b[0m in \u001b[0;36mquery\u001b[1;34m(self, sql, unbuffered)\u001b[0m\n\u001b[0;32m    545\u001b[0m         \u001b[1;32mif\u001b[0m \u001b[0misinstance\u001b[0m\u001b[1;33m(\u001b[0m\u001b[0msql\u001b[0m\u001b[1;33m,\u001b[0m \u001b[0mstr\u001b[0m\u001b[1;33m)\u001b[0m\u001b[1;33m:\u001b[0m\u001b[1;33m\u001b[0m\u001b[1;33m\u001b[0m\u001b[0m\n\u001b[0;32m    546\u001b[0m             \u001b[0msql\u001b[0m \u001b[1;33m=\u001b[0m \u001b[0msql\u001b[0m\u001b[1;33m.\u001b[0m\u001b[0mencode\u001b[0m\u001b[1;33m(\u001b[0m\u001b[0mself\u001b[0m\u001b[1;33m.\u001b[0m\u001b[0mencoding\u001b[0m\u001b[1;33m,\u001b[0m \u001b[1;34m\"surrogateescape\"\u001b[0m\u001b[1;33m)\u001b[0m\u001b[1;33m\u001b[0m\u001b[1;33m\u001b[0m\u001b[0m\n\u001b[1;32m--> 547\u001b[1;33m         \u001b[0mself\u001b[0m\u001b[1;33m.\u001b[0m\u001b[0m_execute_command\u001b[0m\u001b[1;33m(\u001b[0m\u001b[0mCOMMAND\u001b[0m\u001b[1;33m.\u001b[0m\u001b[0mCOM_QUERY\u001b[0m\u001b[1;33m,\u001b[0m \u001b[0msql\u001b[0m\u001b[1;33m)\u001b[0m\u001b[1;33m\u001b[0m\u001b[1;33m\u001b[0m\u001b[0m\n\u001b[0m\u001b[0;32m    548\u001b[0m         \u001b[0mself\u001b[0m\u001b[1;33m.\u001b[0m\u001b[0m_affected_rows\u001b[0m \u001b[1;33m=\u001b[0m \u001b[0mself\u001b[0m\u001b[1;33m.\u001b[0m\u001b[0m_read_query_result\u001b[0m\u001b[1;33m(\u001b[0m\u001b[0munbuffered\u001b[0m\u001b[1;33m=\u001b[0m\u001b[0munbuffered\u001b[0m\u001b[1;33m)\u001b[0m\u001b[1;33m\u001b[0m\u001b[1;33m\u001b[0m\u001b[0m\n\u001b[0;32m    549\u001b[0m         \u001b[1;32mreturn\u001b[0m \u001b[0mself\u001b[0m\u001b[1;33m.\u001b[0m\u001b[0m_affected_rows\u001b[0m\u001b[1;33m\u001b[0m\u001b[1;33m\u001b[0m\u001b[0m\n",
      "\u001b[1;32mC:\\ProgramData\\Anaconda3\\lib\\site-packages\\pymysql\\connections.py\u001b[0m in \u001b[0;36m_execute_command\u001b[1;34m(self, command, sql)\u001b[0m\n\u001b[0;32m    791\u001b[0m         \"\"\"\n\u001b[0;32m    792\u001b[0m         \u001b[1;32mif\u001b[0m \u001b[1;32mnot\u001b[0m \u001b[0mself\u001b[0m\u001b[1;33m.\u001b[0m\u001b[0m_sock\u001b[0m\u001b[1;33m:\u001b[0m\u001b[1;33m\u001b[0m\u001b[1;33m\u001b[0m\u001b[0m\n\u001b[1;32m--> 793\u001b[1;33m             \u001b[1;32mraise\u001b[0m \u001b[0merr\u001b[0m\u001b[1;33m.\u001b[0m\u001b[0mInterfaceError\u001b[0m\u001b[1;33m(\u001b[0m\u001b[1;36m0\u001b[0m\u001b[1;33m,\u001b[0m \u001b[1;34m\"\"\u001b[0m\u001b[1;33m)\u001b[0m\u001b[1;33m\u001b[0m\u001b[1;33m\u001b[0m\u001b[0m\n\u001b[0m\u001b[0;32m    794\u001b[0m \u001b[1;33m\u001b[0m\u001b[0m\n\u001b[0;32m    795\u001b[0m         \u001b[1;31m# If the last query was unbuffered, make sure it finishes before\u001b[0m\u001b[1;33m\u001b[0m\u001b[1;33m\u001b[0m\u001b[1;33m\u001b[0m\u001b[0m\n",
      "\u001b[1;31mInterfaceError\u001b[0m: (0, '')"
     ]
    }
   ],
   "source": [
    "# cursor.execute('describe covid')\n",
    "# cursor.fetchall()"
   ]
  },
  {
   "cell_type": "code",
   "execution_count": 111,
   "id": "a04197a9",
   "metadata": {
    "ExecuteTime": {
     "end_time": "2021-09-12T14:31:43.551004Z",
     "start_time": "2021-09-12T14:31:43.524982Z"
    }
   },
   "outputs": [
    {
     "ename": "InterfaceError",
     "evalue": "(0, '')",
     "output_type": "error",
     "traceback": [
      "\u001b[1;31m---------------------------------------------------------------------------\u001b[0m",
      "\u001b[1;31mInterfaceError\u001b[0m                            Traceback (most recent call last)",
      "\u001b[1;32m<ipython-input-111-c637afc2bd22>\u001b[0m in \u001b[0;36m<module>\u001b[1;34m\u001b[0m\n\u001b[1;32m----> 1\u001b[1;33m \u001b[0mcursor\u001b[0m\u001b[1;33m.\u001b[0m\u001b[0mexecute\u001b[0m\u001b[1;33m(\u001b[0m\u001b[1;34m\"use covid\"\u001b[0m\u001b[1;33m)\u001b[0m\u001b[1;33m\u001b[0m\u001b[1;33m\u001b[0m\u001b[0m\n\u001b[0m",
      "\u001b[1;32mC:\\ProgramData\\Anaconda3\\lib\\site-packages\\pymysql\\cursors.py\u001b[0m in \u001b[0;36mexecute\u001b[1;34m(self, query, args)\u001b[0m\n\u001b[0;32m    146\u001b[0m         \u001b[0mquery\u001b[0m \u001b[1;33m=\u001b[0m \u001b[0mself\u001b[0m\u001b[1;33m.\u001b[0m\u001b[0mmogrify\u001b[0m\u001b[1;33m(\u001b[0m\u001b[0mquery\u001b[0m\u001b[1;33m,\u001b[0m \u001b[0margs\u001b[0m\u001b[1;33m)\u001b[0m\u001b[1;33m\u001b[0m\u001b[1;33m\u001b[0m\u001b[0m\n\u001b[0;32m    147\u001b[0m \u001b[1;33m\u001b[0m\u001b[0m\n\u001b[1;32m--> 148\u001b[1;33m         \u001b[0mresult\u001b[0m \u001b[1;33m=\u001b[0m \u001b[0mself\u001b[0m\u001b[1;33m.\u001b[0m\u001b[0m_query\u001b[0m\u001b[1;33m(\u001b[0m\u001b[0mquery\u001b[0m\u001b[1;33m)\u001b[0m\u001b[1;33m\u001b[0m\u001b[1;33m\u001b[0m\u001b[0m\n\u001b[0m\u001b[0;32m    149\u001b[0m         \u001b[0mself\u001b[0m\u001b[1;33m.\u001b[0m\u001b[0m_executed\u001b[0m \u001b[1;33m=\u001b[0m \u001b[0mquery\u001b[0m\u001b[1;33m\u001b[0m\u001b[1;33m\u001b[0m\u001b[0m\n\u001b[0;32m    150\u001b[0m         \u001b[1;32mreturn\u001b[0m \u001b[0mresult\u001b[0m\u001b[1;33m\u001b[0m\u001b[1;33m\u001b[0m\u001b[0m\n",
      "\u001b[1;32mC:\\ProgramData\\Anaconda3\\lib\\site-packages\\pymysql\\cursors.py\u001b[0m in \u001b[0;36m_query\u001b[1;34m(self, q)\u001b[0m\n\u001b[0;32m    308\u001b[0m         \u001b[0mself\u001b[0m\u001b[1;33m.\u001b[0m\u001b[0m_last_executed\u001b[0m \u001b[1;33m=\u001b[0m \u001b[0mq\u001b[0m\u001b[1;33m\u001b[0m\u001b[1;33m\u001b[0m\u001b[0m\n\u001b[0;32m    309\u001b[0m         \u001b[0mself\u001b[0m\u001b[1;33m.\u001b[0m\u001b[0m_clear_result\u001b[0m\u001b[1;33m(\u001b[0m\u001b[1;33m)\u001b[0m\u001b[1;33m\u001b[0m\u001b[1;33m\u001b[0m\u001b[0m\n\u001b[1;32m--> 310\u001b[1;33m         \u001b[0mconn\u001b[0m\u001b[1;33m.\u001b[0m\u001b[0mquery\u001b[0m\u001b[1;33m(\u001b[0m\u001b[0mq\u001b[0m\u001b[1;33m)\u001b[0m\u001b[1;33m\u001b[0m\u001b[1;33m\u001b[0m\u001b[0m\n\u001b[0m\u001b[0;32m    311\u001b[0m         \u001b[0mself\u001b[0m\u001b[1;33m.\u001b[0m\u001b[0m_do_get_result\u001b[0m\u001b[1;33m(\u001b[0m\u001b[1;33m)\u001b[0m\u001b[1;33m\u001b[0m\u001b[1;33m\u001b[0m\u001b[0m\n\u001b[0;32m    312\u001b[0m         \u001b[1;32mreturn\u001b[0m \u001b[0mself\u001b[0m\u001b[1;33m.\u001b[0m\u001b[0mrowcount\u001b[0m\u001b[1;33m\u001b[0m\u001b[1;33m\u001b[0m\u001b[0m\n",
      "\u001b[1;32mC:\\ProgramData\\Anaconda3\\lib\\site-packages\\pymysql\\connections.py\u001b[0m in \u001b[0;36mquery\u001b[1;34m(self, sql, unbuffered)\u001b[0m\n\u001b[0;32m    545\u001b[0m         \u001b[1;32mif\u001b[0m \u001b[0misinstance\u001b[0m\u001b[1;33m(\u001b[0m\u001b[0msql\u001b[0m\u001b[1;33m,\u001b[0m \u001b[0mstr\u001b[0m\u001b[1;33m)\u001b[0m\u001b[1;33m:\u001b[0m\u001b[1;33m\u001b[0m\u001b[1;33m\u001b[0m\u001b[0m\n\u001b[0;32m    546\u001b[0m             \u001b[0msql\u001b[0m \u001b[1;33m=\u001b[0m \u001b[0msql\u001b[0m\u001b[1;33m.\u001b[0m\u001b[0mencode\u001b[0m\u001b[1;33m(\u001b[0m\u001b[0mself\u001b[0m\u001b[1;33m.\u001b[0m\u001b[0mencoding\u001b[0m\u001b[1;33m,\u001b[0m \u001b[1;34m\"surrogateescape\"\u001b[0m\u001b[1;33m)\u001b[0m\u001b[1;33m\u001b[0m\u001b[1;33m\u001b[0m\u001b[0m\n\u001b[1;32m--> 547\u001b[1;33m         \u001b[0mself\u001b[0m\u001b[1;33m.\u001b[0m\u001b[0m_execute_command\u001b[0m\u001b[1;33m(\u001b[0m\u001b[0mCOMMAND\u001b[0m\u001b[1;33m.\u001b[0m\u001b[0mCOM_QUERY\u001b[0m\u001b[1;33m,\u001b[0m \u001b[0msql\u001b[0m\u001b[1;33m)\u001b[0m\u001b[1;33m\u001b[0m\u001b[1;33m\u001b[0m\u001b[0m\n\u001b[0m\u001b[0;32m    548\u001b[0m         \u001b[0mself\u001b[0m\u001b[1;33m.\u001b[0m\u001b[0m_affected_rows\u001b[0m \u001b[1;33m=\u001b[0m \u001b[0mself\u001b[0m\u001b[1;33m.\u001b[0m\u001b[0m_read_query_result\u001b[0m\u001b[1;33m(\u001b[0m\u001b[0munbuffered\u001b[0m\u001b[1;33m=\u001b[0m\u001b[0munbuffered\u001b[0m\u001b[1;33m)\u001b[0m\u001b[1;33m\u001b[0m\u001b[1;33m\u001b[0m\u001b[0m\n\u001b[0;32m    549\u001b[0m         \u001b[1;32mreturn\u001b[0m \u001b[0mself\u001b[0m\u001b[1;33m.\u001b[0m\u001b[0m_affected_rows\u001b[0m\u001b[1;33m\u001b[0m\u001b[1;33m\u001b[0m\u001b[0m\n",
      "\u001b[1;32mC:\\ProgramData\\Anaconda3\\lib\\site-packages\\pymysql\\connections.py\u001b[0m in \u001b[0;36m_execute_command\u001b[1;34m(self, command, sql)\u001b[0m\n\u001b[0;32m    791\u001b[0m         \"\"\"\n\u001b[0;32m    792\u001b[0m         \u001b[1;32mif\u001b[0m \u001b[1;32mnot\u001b[0m \u001b[0mself\u001b[0m\u001b[1;33m.\u001b[0m\u001b[0m_sock\u001b[0m\u001b[1;33m:\u001b[0m\u001b[1;33m\u001b[0m\u001b[1;33m\u001b[0m\u001b[0m\n\u001b[1;32m--> 793\u001b[1;33m             \u001b[1;32mraise\u001b[0m \u001b[0merr\u001b[0m\u001b[1;33m.\u001b[0m\u001b[0mInterfaceError\u001b[0m\u001b[1;33m(\u001b[0m\u001b[1;36m0\u001b[0m\u001b[1;33m,\u001b[0m \u001b[1;34m\"\"\u001b[0m\u001b[1;33m)\u001b[0m\u001b[1;33m\u001b[0m\u001b[1;33m\u001b[0m\u001b[0m\n\u001b[0m\u001b[0;32m    794\u001b[0m \u001b[1;33m\u001b[0m\u001b[0m\n\u001b[0;32m    795\u001b[0m         \u001b[1;31m# If the last query was unbuffered, make sure it finishes before\u001b[0m\u001b[1;33m\u001b[0m\u001b[1;33m\u001b[0m\u001b[1;33m\u001b[0m\u001b[0m\n",
      "\u001b[1;31mInterfaceError\u001b[0m: (0, '')"
     ]
    }
   ],
   "source": [
    "cursor.execute(use covid)"
   ]
  },
  {
   "cell_type": "code",
   "execution_count": 115,
   "id": "7a90e154",
   "metadata": {
    "ExecuteTime": {
     "end_time": "2021-09-12T14:34:20.168239Z",
     "start_time": "2021-09-12T14:34:20.127239Z"
    }
   },
   "outputs": [
    {
     "ename": "InterfaceError",
     "evalue": "(0, '')",
     "output_type": "error",
     "traceback": [
      "\u001b[1;31m---------------------------------------------------------------------------\u001b[0m",
      "\u001b[1;31mInterfaceError\u001b[0m                            Traceback (most recent call last)",
      "\u001b[1;32m<ipython-input-115-e8b5ecb73739>\u001b[0m in \u001b[0;36m<module>\u001b[1;34m\u001b[0m\n\u001b[0;32m      1\u001b[0m \u001b[0mcursor\u001b[0m \u001b[1;33m=\u001b[0m \u001b[0mdb\u001b[0m\u001b[1;33m.\u001b[0m\u001b[0mcursor\u001b[0m\u001b[1;33m(\u001b[0m\u001b[1;33m)\u001b[0m\u001b[1;33m\u001b[0m\u001b[1;33m\u001b[0m\u001b[0m\n\u001b[1;32m----> 2\u001b[1;33m \u001b[0mcursor\u001b[0m\u001b[1;33m.\u001b[0m\u001b[0mexecute\u001b[0m\u001b[1;33m(\u001b[0m\u001b[1;34m'select * from covid'\u001b[0m\u001b[1;33m)\u001b[0m\u001b[1;33m\u001b[0m\u001b[1;33m\u001b[0m\u001b[0m\n\u001b[0m\u001b[0;32m      3\u001b[0m \u001b[0mcursor\u001b[0m\u001b[1;33m.\u001b[0m\u001b[0mclose\u001b[0m\u001b[1;33m(\u001b[0m\u001b[1;33m)\u001b[0m\u001b[1;33m\u001b[0m\u001b[1;33m\u001b[0m\u001b[0m\n",
      "\u001b[1;32mC:\\ProgramData\\Anaconda3\\lib\\site-packages\\pymysql\\cursors.py\u001b[0m in \u001b[0;36mexecute\u001b[1;34m(self, query, args)\u001b[0m\n\u001b[0;32m    146\u001b[0m         \u001b[0mquery\u001b[0m \u001b[1;33m=\u001b[0m \u001b[0mself\u001b[0m\u001b[1;33m.\u001b[0m\u001b[0mmogrify\u001b[0m\u001b[1;33m(\u001b[0m\u001b[0mquery\u001b[0m\u001b[1;33m,\u001b[0m \u001b[0margs\u001b[0m\u001b[1;33m)\u001b[0m\u001b[1;33m\u001b[0m\u001b[1;33m\u001b[0m\u001b[0m\n\u001b[0;32m    147\u001b[0m \u001b[1;33m\u001b[0m\u001b[0m\n\u001b[1;32m--> 148\u001b[1;33m         \u001b[0mresult\u001b[0m \u001b[1;33m=\u001b[0m \u001b[0mself\u001b[0m\u001b[1;33m.\u001b[0m\u001b[0m_query\u001b[0m\u001b[1;33m(\u001b[0m\u001b[0mquery\u001b[0m\u001b[1;33m)\u001b[0m\u001b[1;33m\u001b[0m\u001b[1;33m\u001b[0m\u001b[0m\n\u001b[0m\u001b[0;32m    149\u001b[0m         \u001b[0mself\u001b[0m\u001b[1;33m.\u001b[0m\u001b[0m_executed\u001b[0m \u001b[1;33m=\u001b[0m \u001b[0mquery\u001b[0m\u001b[1;33m\u001b[0m\u001b[1;33m\u001b[0m\u001b[0m\n\u001b[0;32m    150\u001b[0m         \u001b[1;32mreturn\u001b[0m \u001b[0mresult\u001b[0m\u001b[1;33m\u001b[0m\u001b[1;33m\u001b[0m\u001b[0m\n",
      "\u001b[1;32mC:\\ProgramData\\Anaconda3\\lib\\site-packages\\pymysql\\cursors.py\u001b[0m in \u001b[0;36m_query\u001b[1;34m(self, q)\u001b[0m\n\u001b[0;32m    308\u001b[0m         \u001b[0mself\u001b[0m\u001b[1;33m.\u001b[0m\u001b[0m_last_executed\u001b[0m \u001b[1;33m=\u001b[0m \u001b[0mq\u001b[0m\u001b[1;33m\u001b[0m\u001b[1;33m\u001b[0m\u001b[0m\n\u001b[0;32m    309\u001b[0m         \u001b[0mself\u001b[0m\u001b[1;33m.\u001b[0m\u001b[0m_clear_result\u001b[0m\u001b[1;33m(\u001b[0m\u001b[1;33m)\u001b[0m\u001b[1;33m\u001b[0m\u001b[1;33m\u001b[0m\u001b[0m\n\u001b[1;32m--> 310\u001b[1;33m         \u001b[0mconn\u001b[0m\u001b[1;33m.\u001b[0m\u001b[0mquery\u001b[0m\u001b[1;33m(\u001b[0m\u001b[0mq\u001b[0m\u001b[1;33m)\u001b[0m\u001b[1;33m\u001b[0m\u001b[1;33m\u001b[0m\u001b[0m\n\u001b[0m\u001b[0;32m    311\u001b[0m         \u001b[0mself\u001b[0m\u001b[1;33m.\u001b[0m\u001b[0m_do_get_result\u001b[0m\u001b[1;33m(\u001b[0m\u001b[1;33m)\u001b[0m\u001b[1;33m\u001b[0m\u001b[1;33m\u001b[0m\u001b[0m\n\u001b[0;32m    312\u001b[0m         \u001b[1;32mreturn\u001b[0m \u001b[0mself\u001b[0m\u001b[1;33m.\u001b[0m\u001b[0mrowcount\u001b[0m\u001b[1;33m\u001b[0m\u001b[1;33m\u001b[0m\u001b[0m\n",
      "\u001b[1;32mC:\\ProgramData\\Anaconda3\\lib\\site-packages\\pymysql\\connections.py\u001b[0m in \u001b[0;36mquery\u001b[1;34m(self, sql, unbuffered)\u001b[0m\n\u001b[0;32m    545\u001b[0m         \u001b[1;32mif\u001b[0m \u001b[0misinstance\u001b[0m\u001b[1;33m(\u001b[0m\u001b[0msql\u001b[0m\u001b[1;33m,\u001b[0m \u001b[0mstr\u001b[0m\u001b[1;33m)\u001b[0m\u001b[1;33m:\u001b[0m\u001b[1;33m\u001b[0m\u001b[1;33m\u001b[0m\u001b[0m\n\u001b[0;32m    546\u001b[0m             \u001b[0msql\u001b[0m \u001b[1;33m=\u001b[0m \u001b[0msql\u001b[0m\u001b[1;33m.\u001b[0m\u001b[0mencode\u001b[0m\u001b[1;33m(\u001b[0m\u001b[0mself\u001b[0m\u001b[1;33m.\u001b[0m\u001b[0mencoding\u001b[0m\u001b[1;33m,\u001b[0m \u001b[1;34m\"surrogateescape\"\u001b[0m\u001b[1;33m)\u001b[0m\u001b[1;33m\u001b[0m\u001b[1;33m\u001b[0m\u001b[0m\n\u001b[1;32m--> 547\u001b[1;33m         \u001b[0mself\u001b[0m\u001b[1;33m.\u001b[0m\u001b[0m_execute_command\u001b[0m\u001b[1;33m(\u001b[0m\u001b[0mCOMMAND\u001b[0m\u001b[1;33m.\u001b[0m\u001b[0mCOM_QUERY\u001b[0m\u001b[1;33m,\u001b[0m \u001b[0msql\u001b[0m\u001b[1;33m)\u001b[0m\u001b[1;33m\u001b[0m\u001b[1;33m\u001b[0m\u001b[0m\n\u001b[0m\u001b[0;32m    548\u001b[0m         \u001b[0mself\u001b[0m\u001b[1;33m.\u001b[0m\u001b[0m_affected_rows\u001b[0m \u001b[1;33m=\u001b[0m \u001b[0mself\u001b[0m\u001b[1;33m.\u001b[0m\u001b[0m_read_query_result\u001b[0m\u001b[1;33m(\u001b[0m\u001b[0munbuffered\u001b[0m\u001b[1;33m=\u001b[0m\u001b[0munbuffered\u001b[0m\u001b[1;33m)\u001b[0m\u001b[1;33m\u001b[0m\u001b[1;33m\u001b[0m\u001b[0m\n\u001b[0;32m    549\u001b[0m         \u001b[1;32mreturn\u001b[0m \u001b[0mself\u001b[0m\u001b[1;33m.\u001b[0m\u001b[0m_affected_rows\u001b[0m\u001b[1;33m\u001b[0m\u001b[1;33m\u001b[0m\u001b[0m\n",
      "\u001b[1;32mC:\\ProgramData\\Anaconda3\\lib\\site-packages\\pymysql\\connections.py\u001b[0m in \u001b[0;36m_execute_command\u001b[1;34m(self, command, sql)\u001b[0m\n\u001b[0;32m    791\u001b[0m         \"\"\"\n\u001b[0;32m    792\u001b[0m         \u001b[1;32mif\u001b[0m \u001b[1;32mnot\u001b[0m \u001b[0mself\u001b[0m\u001b[1;33m.\u001b[0m\u001b[0m_sock\u001b[0m\u001b[1;33m:\u001b[0m\u001b[1;33m\u001b[0m\u001b[1;33m\u001b[0m\u001b[0m\n\u001b[1;32m--> 793\u001b[1;33m             \u001b[1;32mraise\u001b[0m \u001b[0merr\u001b[0m\u001b[1;33m.\u001b[0m\u001b[0mInterfaceError\u001b[0m\u001b[1;33m(\u001b[0m\u001b[1;36m0\u001b[0m\u001b[1;33m,\u001b[0m \u001b[1;34m\"\"\u001b[0m\u001b[1;33m)\u001b[0m\u001b[1;33m\u001b[0m\u001b[1;33m\u001b[0m\u001b[0m\n\u001b[0m\u001b[0;32m    794\u001b[0m \u001b[1;33m\u001b[0m\u001b[0m\n\u001b[0;32m    795\u001b[0m         \u001b[1;31m# If the last query was unbuffered, make sure it finishes before\u001b[0m\u001b[1;33m\u001b[0m\u001b[1;33m\u001b[0m\u001b[1;33m\u001b[0m\u001b[0m\n",
      "\u001b[1;31mInterfaceError\u001b[0m: (0, '')"
     ]
    }
   ],
   "source": [
    "cursor = db.cursor()\n",
    "cursor.execute('select * from covid')\n",
    "cursor.close()"
   ]
  },
  {
   "cell_type": "code",
   "execution_count": 117,
   "id": "20cd7c45",
   "metadata": {
    "ExecuteTime": {
     "end_time": "2021-09-12T14:36:44.270731Z",
     "start_time": "2021-09-12T14:36:44.249734Z"
    }
   },
   "outputs": [
    {
     "ename": "InterfaceError",
     "evalue": "(0, '')",
     "output_type": "error",
     "traceback": [
      "\u001b[1;31m---------------------------------------------------------------------------\u001b[0m",
      "\u001b[1;31mInterfaceError\u001b[0m                            Traceback (most recent call last)",
      "\u001b[1;32m<ipython-input-117-2d1955112615>\u001b[0m in \u001b[0;36m<module>\u001b[1;34m\u001b[0m\n\u001b[0;32m      1\u001b[0m \u001b[1;32mwith\u001b[0m \u001b[0mdb\u001b[0m\u001b[1;33m.\u001b[0m\u001b[0mcursor\u001b[0m\u001b[1;33m(\u001b[0m\u001b[1;33m)\u001b[0m \u001b[1;32mas\u001b[0m \u001b[0mcursor\u001b[0m\u001b[1;33m:\u001b[0m\u001b[1;33m\u001b[0m\u001b[1;33m\u001b[0m\u001b[0m\n\u001b[1;32m----> 2\u001b[1;33m     \u001b[0mcursor\u001b[0m\u001b[1;33m.\u001b[0m\u001b[0mexecute\u001b[0m\u001b[1;33m(\u001b[0m\u001b[1;34m'use covid'\u001b[0m\u001b[1;33m)\u001b[0m\u001b[1;33m\u001b[0m\u001b[1;33m\u001b[0m\u001b[0m\n\u001b[0m",
      "\u001b[1;32mC:\\ProgramData\\Anaconda3\\lib\\site-packages\\pymysql\\cursors.py\u001b[0m in \u001b[0;36mexecute\u001b[1;34m(self, query, args)\u001b[0m\n\u001b[0;32m    146\u001b[0m         \u001b[0mquery\u001b[0m \u001b[1;33m=\u001b[0m \u001b[0mself\u001b[0m\u001b[1;33m.\u001b[0m\u001b[0mmogrify\u001b[0m\u001b[1;33m(\u001b[0m\u001b[0mquery\u001b[0m\u001b[1;33m,\u001b[0m \u001b[0margs\u001b[0m\u001b[1;33m)\u001b[0m\u001b[1;33m\u001b[0m\u001b[1;33m\u001b[0m\u001b[0m\n\u001b[0;32m    147\u001b[0m \u001b[1;33m\u001b[0m\u001b[0m\n\u001b[1;32m--> 148\u001b[1;33m         \u001b[0mresult\u001b[0m \u001b[1;33m=\u001b[0m \u001b[0mself\u001b[0m\u001b[1;33m.\u001b[0m\u001b[0m_query\u001b[0m\u001b[1;33m(\u001b[0m\u001b[0mquery\u001b[0m\u001b[1;33m)\u001b[0m\u001b[1;33m\u001b[0m\u001b[1;33m\u001b[0m\u001b[0m\n\u001b[0m\u001b[0;32m    149\u001b[0m         \u001b[0mself\u001b[0m\u001b[1;33m.\u001b[0m\u001b[0m_executed\u001b[0m \u001b[1;33m=\u001b[0m \u001b[0mquery\u001b[0m\u001b[1;33m\u001b[0m\u001b[1;33m\u001b[0m\u001b[0m\n\u001b[0;32m    150\u001b[0m         \u001b[1;32mreturn\u001b[0m \u001b[0mresult\u001b[0m\u001b[1;33m\u001b[0m\u001b[1;33m\u001b[0m\u001b[0m\n",
      "\u001b[1;32mC:\\ProgramData\\Anaconda3\\lib\\site-packages\\pymysql\\cursors.py\u001b[0m in \u001b[0;36m_query\u001b[1;34m(self, q)\u001b[0m\n\u001b[0;32m    308\u001b[0m         \u001b[0mself\u001b[0m\u001b[1;33m.\u001b[0m\u001b[0m_last_executed\u001b[0m \u001b[1;33m=\u001b[0m \u001b[0mq\u001b[0m\u001b[1;33m\u001b[0m\u001b[1;33m\u001b[0m\u001b[0m\n\u001b[0;32m    309\u001b[0m         \u001b[0mself\u001b[0m\u001b[1;33m.\u001b[0m\u001b[0m_clear_result\u001b[0m\u001b[1;33m(\u001b[0m\u001b[1;33m)\u001b[0m\u001b[1;33m\u001b[0m\u001b[1;33m\u001b[0m\u001b[0m\n\u001b[1;32m--> 310\u001b[1;33m         \u001b[0mconn\u001b[0m\u001b[1;33m.\u001b[0m\u001b[0mquery\u001b[0m\u001b[1;33m(\u001b[0m\u001b[0mq\u001b[0m\u001b[1;33m)\u001b[0m\u001b[1;33m\u001b[0m\u001b[1;33m\u001b[0m\u001b[0m\n\u001b[0m\u001b[0;32m    311\u001b[0m         \u001b[0mself\u001b[0m\u001b[1;33m.\u001b[0m\u001b[0m_do_get_result\u001b[0m\u001b[1;33m(\u001b[0m\u001b[1;33m)\u001b[0m\u001b[1;33m\u001b[0m\u001b[1;33m\u001b[0m\u001b[0m\n\u001b[0;32m    312\u001b[0m         \u001b[1;32mreturn\u001b[0m \u001b[0mself\u001b[0m\u001b[1;33m.\u001b[0m\u001b[0mrowcount\u001b[0m\u001b[1;33m\u001b[0m\u001b[1;33m\u001b[0m\u001b[0m\n",
      "\u001b[1;32mC:\\ProgramData\\Anaconda3\\lib\\site-packages\\pymysql\\connections.py\u001b[0m in \u001b[0;36mquery\u001b[1;34m(self, sql, unbuffered)\u001b[0m\n\u001b[0;32m    545\u001b[0m         \u001b[1;32mif\u001b[0m \u001b[0misinstance\u001b[0m\u001b[1;33m(\u001b[0m\u001b[0msql\u001b[0m\u001b[1;33m,\u001b[0m \u001b[0mstr\u001b[0m\u001b[1;33m)\u001b[0m\u001b[1;33m:\u001b[0m\u001b[1;33m\u001b[0m\u001b[1;33m\u001b[0m\u001b[0m\n\u001b[0;32m    546\u001b[0m             \u001b[0msql\u001b[0m \u001b[1;33m=\u001b[0m \u001b[0msql\u001b[0m\u001b[1;33m.\u001b[0m\u001b[0mencode\u001b[0m\u001b[1;33m(\u001b[0m\u001b[0mself\u001b[0m\u001b[1;33m.\u001b[0m\u001b[0mencoding\u001b[0m\u001b[1;33m,\u001b[0m \u001b[1;34m\"surrogateescape\"\u001b[0m\u001b[1;33m)\u001b[0m\u001b[1;33m\u001b[0m\u001b[1;33m\u001b[0m\u001b[0m\n\u001b[1;32m--> 547\u001b[1;33m         \u001b[0mself\u001b[0m\u001b[1;33m.\u001b[0m\u001b[0m_execute_command\u001b[0m\u001b[1;33m(\u001b[0m\u001b[0mCOMMAND\u001b[0m\u001b[1;33m.\u001b[0m\u001b[0mCOM_QUERY\u001b[0m\u001b[1;33m,\u001b[0m \u001b[0msql\u001b[0m\u001b[1;33m)\u001b[0m\u001b[1;33m\u001b[0m\u001b[1;33m\u001b[0m\u001b[0m\n\u001b[0m\u001b[0;32m    548\u001b[0m         \u001b[0mself\u001b[0m\u001b[1;33m.\u001b[0m\u001b[0m_affected_rows\u001b[0m \u001b[1;33m=\u001b[0m \u001b[0mself\u001b[0m\u001b[1;33m.\u001b[0m\u001b[0m_read_query_result\u001b[0m\u001b[1;33m(\u001b[0m\u001b[0munbuffered\u001b[0m\u001b[1;33m=\u001b[0m\u001b[0munbuffered\u001b[0m\u001b[1;33m)\u001b[0m\u001b[1;33m\u001b[0m\u001b[1;33m\u001b[0m\u001b[0m\n\u001b[0;32m    549\u001b[0m         \u001b[1;32mreturn\u001b[0m \u001b[0mself\u001b[0m\u001b[1;33m.\u001b[0m\u001b[0m_affected_rows\u001b[0m\u001b[1;33m\u001b[0m\u001b[1;33m\u001b[0m\u001b[0m\n",
      "\u001b[1;32mC:\\ProgramData\\Anaconda3\\lib\\site-packages\\pymysql\\connections.py\u001b[0m in \u001b[0;36m_execute_command\u001b[1;34m(self, command, sql)\u001b[0m\n\u001b[0;32m    791\u001b[0m         \"\"\"\n\u001b[0;32m    792\u001b[0m         \u001b[1;32mif\u001b[0m \u001b[1;32mnot\u001b[0m \u001b[0mself\u001b[0m\u001b[1;33m.\u001b[0m\u001b[0m_sock\u001b[0m\u001b[1;33m:\u001b[0m\u001b[1;33m\u001b[0m\u001b[1;33m\u001b[0m\u001b[0m\n\u001b[1;32m--> 793\u001b[1;33m             \u001b[1;32mraise\u001b[0m \u001b[0merr\u001b[0m\u001b[1;33m.\u001b[0m\u001b[0mInterfaceError\u001b[0m\u001b[1;33m(\u001b[0m\u001b[1;36m0\u001b[0m\u001b[1;33m,\u001b[0m \u001b[1;34m\"\"\u001b[0m\u001b[1;33m)\u001b[0m\u001b[1;33m\u001b[0m\u001b[1;33m\u001b[0m\u001b[0m\n\u001b[0m\u001b[0;32m    794\u001b[0m \u001b[1;33m\u001b[0m\u001b[0m\n\u001b[0;32m    795\u001b[0m         \u001b[1;31m# If the last query was unbuffered, make sure it finishes before\u001b[0m\u001b[1;33m\u001b[0m\u001b[1;33m\u001b[0m\u001b[1;33m\u001b[0m\u001b[0m\n",
      "\u001b[1;31mInterfaceError\u001b[0m: (0, '')"
     ]
    }
   ],
   "source": [
    "with db.cursor() as cursor:\n",
    "    cursor.execute('use covid')"
   ]
  },
  {
   "cell_type": "code",
   "execution_count": 124,
   "id": "309c240f",
   "metadata": {
    "ExecuteTime": {
     "end_time": "2021-09-12T14:46:43.134851Z",
     "start_time": "2021-09-12T14:46:40.231243Z"
    }
   },
   "outputs": [
    {
     "name": "stdout",
     "output_type": "stream",
     "text": [
      "('16-01-2021', 'Andaman and Nicobar Islands', 225, 0, 225)\n"
     ]
    }
   ],
   "source": [
    "mydb=mysql.connector.connect(host=\"sql545.main-hosting.eu\",port=3306, \n",
    "                 user='u681323537_grras_SQL',\n",
    "                 password='5;YbQ1!JtPpY',\n",
    "                 db=\"u681323537_learnsql\")\n",
    "mycursor=mydb.cursor()\n",
    "mycursor.execute(\"select * from covid\")\n",
    "\n",
    "for db in mycursor:\n",
    "    print(db)"
   ]
  },
  {
   "cell_type": "code",
   "execution_count": 126,
   "id": "88bfb366",
   "metadata": {
    "ExecuteTime": {
     "end_time": "2021-09-12T14:49:46.966093Z",
     "start_time": "2021-09-12T14:49:46.949094Z"
    }
   },
   "outputs": [],
   "source": [
    "date=\"16-01-2021\"\n",
    "state=\"Goa\"\n",
    "fd=426\n",
    "sd=0\n",
    "td=426\n"
   ]
  },
  {
   "cell_type": "code",
   "execution_count": 128,
   "id": "07d7d974",
   "metadata": {
    "ExecuteTime": {
     "end_time": "2021-09-12T14:52:08.938053Z",
     "start_time": "2021-09-12T14:52:08.919054Z"
    }
   },
   "outputs": [
    {
     "name": "stdout",
     "output_type": "stream",
     "text": [
      "'16-01-2021','Goa',426,0\n"
     ]
    }
   ],
   "source": [
    "print(f\"'{date}','{state}',{fd},{sd}\")"
   ]
  },
  {
   "cell_type": "code",
   "execution_count": null,
   "id": "70feb4e5",
   "metadata": {},
   "outputs": [],
   "source": [
    "insert into coivd values(f\"'{date}','{state}',{fd},{sd}\")"
   ]
  },
  {
   "cell_type": "code",
   "execution_count": 146,
   "id": "4ac29eec",
   "metadata": {
    "ExecuteTime": {
     "end_time": "2021-09-12T15:02:07.310852Z",
     "start_time": "2021-09-12T15:02:04.050589Z"
    }
   },
   "outputs": [],
   "source": [
    "mydb=mysql.connector.connect(host=\"sql545.main-hosting.eu\",port=3306, \n",
    "                 user='u681323537_grras_SQL',\n",
    "                 password='5;YbQ1!JtPpY',\n",
    "                 db=\"u681323537_learnsql\")\n",
    "mycursor=mydb.cursor()\n",
    "mycursor.execute(f\"insert into covid values('{date}','{state}',{fd},{sd},{td})\")\n",
    "mydb.commit()\n",
    "for db in mycursor:\n",
    "    print(db)"
   ]
  },
  {
   "cell_type": "code",
   "execution_count": 147,
   "id": "2542a7ad",
   "metadata": {
    "ExecuteTime": {
     "end_time": "2021-09-12T15:03:00.543602Z",
     "start_time": "2021-09-12T15:02:57.519699Z"
    }
   },
   "outputs": [
    {
     "name": "stdout",
     "output_type": "stream",
     "text": [
      "('16-01-2021', 'Andaman and Nicobar Islands', 225, 0, 225)\n",
      "('16-01-2021', 'Goa', 426, 0, 426)\n"
     ]
    }
   ],
   "source": [
    "mydb=mysql.connector.connect(host=\"sql545.main-hosting.eu\",port=3306, \n",
    "                 user='u681323537_grras_SQL',\n",
    "                 password='5;YbQ1!JtPpY',\n",
    "                 db=\"u681323537_learnsql\")\n",
    "mycursor=mydb.cursor()\n",
    "mycursor.execute(\"select * from covid\")\n",
    "\n",
    "for db in mycursor:\n",
    "    print(db)"
   ]
  },
  {
   "cell_type": "code",
   "execution_count": 158,
   "id": "678255d9",
   "metadata": {
    "ExecuteTime": {
     "end_time": "2021-09-12T17:06:06.863663Z",
     "start_time": "2021-09-12T15:17:27.856703Z"
    }
   },
   "outputs": [
    {
     "name": "stdout",
     "output_type": "stream",
     "text": [
      "'16/01/2021','Andaman and Nicobar Islands',225,0,225 added: 1\n",
      "'16/01/2021','Andhra Pradesh',18412,0,18412 added: 2\n",
      "'16/01/2021','Arunachal Pradesh',829,0,829 added: 3\n",
      "'16/01/2021','Assam',3528,0,3528 added: 4\n",
      "'16/01/2021','Bihar',18169,0,18169 added: 5\n",
      "'16/01/2021','Chandigarh',265,0,265 added: 6\n",
      "'16/01/2021','Chhattisgarh',5592,0,5592 added: 7\n",
      "'16/01/2021','Dadra and Nagar Haveli and Daman and Diu',123,0,123 added: 8\n",
      "'16/01/2021','Delhi',4319,0,4319 added: 9\n",
      "'16/01/2021','Goa',426,0,426 added: 10\n",
      "'16/01/2021','Gujarat',10787,0,10787 added: 11\n",
      "'16/01/2021','Haryana',5589,0,5589 added: 12\n",
      "'16/01/2021','Himachal Pradesh',1517,0,1517 added: 13\n",
      "'16/01/2021','Jammu and Kashmir',2044,0,2044 added: 14\n",
      "'16/01/2021','Jharkhand',3096,0,3096 added: 15\n",
      "'16/01/2021','Karnataka',13594,0,13594 added: 16\n",
      "'16/01/2021','Kerala',8062,0,8062 added: 17\n",
      "'16/01/2021','Ladakh',79,0,79 added: 18\n",
      "'16/01/2021','Lakshadweep',21,0,21 added: 19\n",
      "'16/01/2021','Madhya Pradesh',9219,0,9219 added: 20\n",
      "'16/01/2021','Maharashtra',18328,0,18328 added: 21\n",
      "'16/01/2021','Manipur',585,0,585 added: 22\n",
      "'16/01/2021','Meghalaya',509,0,509 added: 23\n",
      "'16/01/2021','Mizoram',314,0,314 added: 24\n",
      "'16/01/2021','Nagaland',561,0,561 added: 25\n",
      "'16/01/2021','Odisha',13746,0,13746 added: 26\n",
      "'16/01/2021','Puducherry',274,0,274 added: 27\n",
      "'16/01/2021','Punjab',1319,0,1319 added: 28\n",
      "'16/01/2021','Rajasthan',9279,0,9279 added: 29\n",
      "'16/01/2021','Sikkim',120,0,120 added: 30\n",
      "'16/01/2021','Tamil Nadu',2945,0,2945 added: 31\n",
      "'16/01/2021','Telangana',3653,0,3653 added: 32\n",
      "'16/01/2021','Tripura',355,0,355 added: 33\n",
      "'16/01/2021','Uttar Pradesh',21291,0,21291 added: 34\n",
      "'16/01/2021','Uttarakhand',2276,0,2276 added: 35\n",
      "'16/01/2021','West Bengal',9730,0,9730 added: 36\n",
      "'16/01/2021','Miscellaneous',0,0,0 added: 37\n",
      "'16/01/2021','Total',191181,0,191181 added: 38\n",
      "'18/01/2021','Andaman and Nicobar Islands',442,0,442 added: 39\n",
      "'18/01/2021','Andhra Pradesh',46680,0,46680 added: 40\n",
      "'18/01/2021','Arunachal Pradesh',2805,0,2805 added: 41\n",
      "'18/01/2021','Assam',5542,0,5542 added: 42\n",
      "'18/01/2021','Bihar',33389,0,33389 added: 43\n",
      "'18/01/2021','Chandigarh',265,0,265 added: 44\n",
      "'18/01/2021','Chhattisgarh',10872,0,10872 added: 45\n",
      "'18/01/2021','Dadra and Nagar Haveli and Daman and Diu',123,0,123 added: 46\n",
      "'18/01/2021','Delhi',7968,0,7968 added: 47\n",
      "'18/01/2021','Goa',426,0,426 added: 48\n",
      "'18/01/2021','Gujarat',10787,0,10787 added: 49\n",
      "'18/01/2021','Haryana',17642,0,17642 added: 50\n",
      "'18/01/2021','Himachal Pradesh',4817,0,4817 added: 51\n",
      "'18/01/2021','Jammu and Kashmir',3375,0,3375 added: 52\n",
      "'18/01/2021','Jharkhand',6059,0,6059 added: 53\n",
      "'18/01/2021','Karnataka',66392,0,66392 added: 54\n",
      "'18/01/2021','Kerala',15477,0,15477 added: 55\n",
      "'18/01/2021','Ladakh',119,0,119 added: 56\n",
      "'18/01/2021','Lakshadweep',201,0,201 added: 57\n",
      "'18/01/2021','Madhya Pradesh',18174,0,18174 added: 58\n",
      "'18/01/2021','Maharashtra',18582,0,18582 added: 59\n",
      "'18/01/2021','Manipur',978,0,978 added: 60\n",
      "'18/01/2021','Meghalaya',530,0,530 added: 61\n",
      "'18/01/2021','Mizoram',554,0,554 added: 62\n",
      "'18/01/2021','Nagaland',1436,0,1436 added: 63\n",
      "'18/01/2021','Odisha',46506,0,46506 added: 64\n",
      "'18/01/2021','Puducherry',554,0,554 added: 65\n",
      "'18/01/2021','Punjab',3318,0,3318 added: 66\n",
      "'18/01/2021','Rajasthan',23546,0,23546 added: 67\n",
      "'18/01/2021','Sikkim',120,0,120 added: 68\n",
      "'18/01/2021','Tamil Nadu',16462,0,16462 added: 69\n",
      "'18/01/2021','Telangana',17408,0,17408 added: 70\n",
      "'18/01/2021','Tripura',1736,0,1736 added: 71\n",
      "'18/01/2021','Uttar Pradesh',22644,0,22644 added: 72\n",
      "'18/01/2021','Uttarakhand',4237,0,4237 added: 73\n",
      "'18/01/2021','West Bengal',29866,0,29866 added: 74\n",
      "'18/01/2021','Miscellaneous',14017,0,14017 added: 75\n",
      "'18/01/2021','Total',454049,0,454049 added: 76\n",
      "'19/01/2021','Andaman and Nicobar Islands',644,0,644 added: 77\n",
      "'19/01/2021','Andhra Pradesh',58495,0,58495 added: 78\n",
      "'19/01/2021','Arunachal Pradesh',2805,0,2805 added: 79\n",
      "'19/01/2021','Assam',7418,0,7418 added: 80\n",
      "'19/01/2021','Bihar',42085,0,42085 added: 81\n",
      "'19/01/2021','Chandigarh',469,0,469 added: 82\n",
      "'19/01/2021','Chhattisgarh',10872,0,10872 added: 83\n",
      "'19/01/2021','Dadra and Nagar Haveli and Daman and Diu',208,0,208 added: 84\n",
      "'19/01/2021','Delhi',12441,0,12441 added: 85\n",
      "'19/01/2021','Goa',426,0,426 added: 86\n",
      "'19/01/2021','Gujarat',17581,0,17581 added: 87\n",
      "'19/01/2021','Haryana',24944,0,24944 added: 88\n",
      "'19/01/2021','Himachal Pradesh',5049,0,5049 added: 89\n",
      "'19/01/2021','Jammu and Kashmir',4395,0,4395 added: 90\n",
      "'19/01/2021','Jharkhand',8824,0,8824 added: 91\n",
      "'19/01/2021','Karnataka',80686,0,80686 added: 92\n",
      "'19/01/2021','Kerala',23855,0,23855 added: 93\n",
      "'19/01/2021','Ladakh',119,0,119 added: 94\n",
      "'19/01/2021','Lakshadweep',369,0,369 added: 95\n",
      "'19/01/2021','Madhya Pradesh',18174,0,18174 added: 96\n",
      "'19/01/2021','Maharashtra',30247,0,30247 added: 97\n",
      "'19/01/2021','Manipur',111,0,111 added: 98\n",
      "'19/01/2021','Meghalaya',1037,0,1037 added: 99\n",
      "'19/01/2021','Mizoram',1091,0,1091 added: 100\n",
      "'19/01/2021','Nagaland',2286,0,2286 added: 101\n",
      "'19/01/2021','Odisha',55138,0,55138 added: 102\n",
      "'19/01/2021','Puducherry',719,0,719 added: 1"
     ]
    },
    {
     "data": {
      "text/html": [
       "<b>limit_output extension: Maximum message size of 5000 exceeded with 5003 characters</b>"
      ]
     },
     "metadata": {},
     "output_type": "display_data"
    }
   ],
   "source": [
    "mydb=mysql.connector.connect(host=\"sql545.main-hosting.eu\",port=3306, \n",
    "                 user='u681323537_grras_SQL',\n",
    "                 password='5;YbQ1!JtPpY',\n",
    "                 db=\"u681323537_learnsql\")\n",
    "mycursor=mydb.cursor()\n",
    "\n",
    "count=0\n",
    "for i in(values[1:]):\n",
    "    mycursor.execute(f\"insert into covid values('{i[0]}','{i[1]}',{i[2]},{i[3]},{i[4]})\")\n",
    "    mydb.commit()\n",
    "    count+=1\n",
    "    print(f\"'{i[0]}','{i[1]}',{i[2]},{i[3]},{i[4]} added: {count}\")"
   ]
  },
  {
   "cell_type": "code",
   "execution_count": null,
   "id": "03e96b66",
   "metadata": {},
   "outputs": [],
   "source": [
    "\n",
    "    "
   ]
  }
 ],
 "metadata": {
  "kernelspec": {
   "display_name": "Python 3",
   "language": "python",
   "name": "python3"
  },
  "language_info": {
   "codemirror_mode": {
    "name": "ipython",
    "version": 3
   },
   "file_extension": ".py",
   "mimetype": "text/x-python",
   "name": "python",
   "nbconvert_exporter": "python",
   "pygments_lexer": "ipython3",
   "version": "3.8.8"
  },
  "latex_envs": {
   "LaTeX_envs_menu_present": true,
   "autoclose": false,
   "autocomplete": true,
   "bibliofile": "biblio.bib",
   "cite_by": "apalike",
   "current_citInitial": 1,
   "eqLabelWithNumbers": true,
   "eqNumInitial": 1,
   "hotkeys": {
    "equation": "Ctrl-E",
    "itemize": "Ctrl-I"
   },
   "labels_anchors": false,
   "latex_user_defs": false,
   "report_style_numbering": false,
   "user_envs_cfg": false
  }
 },
 "nbformat": 4,
 "nbformat_minor": 5
}
