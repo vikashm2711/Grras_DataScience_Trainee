{
 "cells": [
  {
   "cell_type": "markdown",
   "id": "d35c2001",
   "metadata": {},
   "source": [
    "    root --> DBA \n",
    "    \n",
    "    create user --> host, username, password\n",
    "        username and password --> login"
   ]
  },
  {
   "cell_type": "markdown",
   "id": "a8a1f81e",
   "metadata": {},
   "source": [
    "    create user username@hostip identified by password;"
   ]
  },
  {
   "cell_type": "markdown",
   "id": "c1a966b2",
   "metadata": {},
   "source": [
    "    grant commands on dbname.tablename to username@hostname;\n",
    "    \n",
    "    grant all privileges on dbname.tablename to username@hostname;"
   ]
  },
  {
   "cell_type": "markdown",
   "id": "24e5f3ab",
   "metadata": {},
   "source": [
    "    percentage of surface area occupied by each country\n",
    "        \n",
    "        with data\n",
    "    -> as\n",
    "    -> (select sum(surfacearea) as s from country)\n",
    "    -> select country.surfacearea/data.s from country, data limit 2;\n",
    "\n",
    "\n",
    "    number of countries having code1 and code2 same"
   ]
  },
  {
   "cell_type": "code",
   "execution_count": null,
   "id": "f96b81d4",
   "metadata": {},
   "outputs": [],
   "source": []
  }
 ],
 "metadata": {
  "kernelspec": {
   "display_name": "Python 3",
   "language": "python",
   "name": "python3"
  },
  "language_info": {
   "codemirror_mode": {
    "name": "ipython",
    "version": 3
   },
   "file_extension": ".py",
   "mimetype": "text/x-python",
   "name": "python",
   "nbconvert_exporter": "python",
   "pygments_lexer": "ipython3",
   "version": "3.8.8"
  }
 },
 "nbformat": 4,
 "nbformat_minor": 5
}
