{
 "cells": [
  {
   "cell_type": "markdown",
   "id": "95bb6e8b",
   "metadata": {},
   "source": [
    "    select sum(population) from t1 inner join t2 on t1.code = t2.code group by code;"
   ]
  },
  {
   "cell_type": "markdown",
   "id": "f941209f",
   "metadata": {},
   "source": [
    "    The module or interface we are going to use to connect is\n",
    "        PyMySQL\n",
    "        \n",
    "     SQL Server \n",
    "         1. Host \n",
    "         2. Port(3306)\n",
    "         3. User \n",
    "         4. Password \n",
    "         5. Database (optional)\n",
    "         \n",
    "         "
   ]
  },
  {
   "cell_type": "code",
   "execution_count": 1,
   "id": "f2753bed",
   "metadata": {
    "ExecuteTime": {
     "end_time": "2021-09-12T12:48:17.770646Z",
     "start_time": "2021-09-12T12:48:17.523646Z"
    }
   },
   "outputs": [
    {
     "ename": "ModuleNotFoundError",
     "evalue": "No module named 'pymysql'",
     "output_type": "error",
     "traceback": [
      "\u001b[1;31m---------------------------------------------------------------------------\u001b[0m",
      "\u001b[1;31mModuleNotFoundError\u001b[0m                       Traceback (most recent call last)",
      "\u001b[1;32m<ipython-input-1-fa89893d4047>\u001b[0m in \u001b[0;36m<module>\u001b[1;34m\u001b[0m\n\u001b[1;32m----> 1\u001b[1;33m \u001b[1;32mimport\u001b[0m \u001b[0mpymysql\u001b[0m \u001b[1;32mas\u001b[0m \u001b[0msql\u001b[0m\u001b[1;33m\u001b[0m\u001b[1;33m\u001b[0m\u001b[0m\n\u001b[0m",
      "\u001b[1;31mModuleNotFoundError\u001b[0m: No module named 'pymysql'"
     ]
    }
   ],
   "source": [
    "import pymysql as sql"
   ]
  },
  {
   "cell_type": "markdown",
   "id": "2c75eca2",
   "metadata": {},
   "source": [
    "    pip install pymysql "
   ]
  },
  {
   "cell_type": "code",
   "execution_count": 2,
   "id": "8502844f",
   "metadata": {},
   "outputs": [],
   "source": [
    "import pymysql as sql"
   ]
  },
  {
   "cell_type": "code",
   "execution_count": 3,
   "id": "1ab7d0ad",
   "metadata": {},
   "outputs": [],
   "source": [
    "db = sql.connect(host=\"localhost\", port=3306, user='root', password='')"
   ]
  },
  {
   "cell_type": "code",
   "execution_count": 4,
   "id": "173d9582",
   "metadata": {},
   "outputs": [
    {
     "data": {
      "text/plain": [
       "<pymysql.connections.Connection at 0x1d2b3972c10>"
      ]
     },
     "execution_count": 4,
     "metadata": {},
     "output_type": "execute_result"
    }
   ],
   "source": [
    "db"
   ]
  },
  {
   "cell_type": "code",
   "execution_count": 5,
   "id": "23475822",
   "metadata": {},
   "outputs": [],
   "source": [
    "cursor = db.cursor()"
   ]
  },
  {
   "cell_type": "code",
   "execution_count": 6,
   "id": "6b903be4",
   "metadata": {},
   "outputs": [
    {
     "data": {
      "text/plain": [
       "<pymysql.cursors.Cursor at 0x1d2b3972520>"
      ]
     },
     "execution_count": 6,
     "metadata": {},
     "output_type": "execute_result"
    }
   ],
   "source": [
    "cursor"
   ]
  },
  {
   "cell_type": "code",
   "execution_count": 7,
   "id": "761866d8",
   "metadata": {},
   "outputs": [
    {
     "name": "stdout",
     "output_type": "stream",
     "text": [
      "['DataError', 'DatabaseError', 'Error', 'IntegrityError', 'InterfaceError', 'InternalError', 'NotSupportedError', 'OperationalError', 'ProgrammingError', 'Warning', '__class__', '__delattr__', '__dict__', '__dir__', '__doc__', '__enter__', '__eq__', '__exit__', '__format__', '__ge__', '__getattribute__', '__gt__', '__hash__', '__init__', '__init_subclass__', '__iter__', '__le__', '__lt__', '__module__', '__ne__', '__new__', '__reduce__', '__reduce_ex__', '__repr__', '__setattr__', '__sizeof__', '__str__', '__subclasshook__', '__weakref__', '_check_executed', '_clear_result', '_conv_row', '_do_execute_many', '_do_get_result', '_ensure_bytes', '_escape_args', '_executed', '_get_db', '_nextset', '_query', '_result', '_rows', 'arraysize', 'callproc', 'close', 'connection', 'description', 'execute', 'executemany', 'fetchall', 'fetchmany', 'fetchone', 'max_stmt_length', 'mogrify', 'nextset', 'rowcount', 'rownumber', 'scroll', 'setinputsizes', 'setoutputsizes']\n"
     ]
    }
   ],
   "source": [
    "print(dir(cursor))"
   ]
  },
  {
   "cell_type": "code",
   "execution_count": 8,
   "id": "b8248d61",
   "metadata": {},
   "outputs": [
    {
     "data": {
      "text/plain": [
       "0"
      ]
     },
     "execution_count": 8,
     "metadata": {},
     "output_type": "execute_result"
    }
   ],
   "source": [
    "cursor.execute(\"use batch9am\")"
   ]
  },
  {
   "cell_type": "code",
   "execution_count": 10,
   "id": "6f97480a",
   "metadata": {},
   "outputs": [
    {
     "ename": "ProgrammingError",
     "evalue": "(1146, \"Table 'batch9am.students' doesn't exist\")",
     "output_type": "error",
     "traceback": [
      "\u001b[1;31m---------------------------------------------------------------------------\u001b[0m",
      "\u001b[1;31mProgrammingError\u001b[0m                          Traceback (most recent call last)",
      "\u001b[1;32m<ipython-input-10-e6fb6a13ccf2>\u001b[0m in \u001b[0;36m<module>\u001b[1;34m\u001b[0m\n\u001b[1;32m----> 1\u001b[1;33m \u001b[0mcursor\u001b[0m\u001b[1;33m.\u001b[0m\u001b[0mexecute\u001b[0m\u001b[1;33m(\u001b[0m\u001b[1;34m'select * from students'\u001b[0m\u001b[1;33m)\u001b[0m\u001b[1;33m\u001b[0m\u001b[1;33m\u001b[0m\u001b[0m\n\u001b[0m",
      "\u001b[1;32mC:\\Anaconda\\lib\\site-packages\\pymysql\\cursors.py\u001b[0m in \u001b[0;36mexecute\u001b[1;34m(self, query, args)\u001b[0m\n\u001b[0;32m    146\u001b[0m         \u001b[0mquery\u001b[0m \u001b[1;33m=\u001b[0m \u001b[0mself\u001b[0m\u001b[1;33m.\u001b[0m\u001b[0mmogrify\u001b[0m\u001b[1;33m(\u001b[0m\u001b[0mquery\u001b[0m\u001b[1;33m,\u001b[0m \u001b[0margs\u001b[0m\u001b[1;33m)\u001b[0m\u001b[1;33m\u001b[0m\u001b[1;33m\u001b[0m\u001b[0m\n\u001b[0;32m    147\u001b[0m \u001b[1;33m\u001b[0m\u001b[0m\n\u001b[1;32m--> 148\u001b[1;33m         \u001b[0mresult\u001b[0m \u001b[1;33m=\u001b[0m \u001b[0mself\u001b[0m\u001b[1;33m.\u001b[0m\u001b[0m_query\u001b[0m\u001b[1;33m(\u001b[0m\u001b[0mquery\u001b[0m\u001b[1;33m)\u001b[0m\u001b[1;33m\u001b[0m\u001b[1;33m\u001b[0m\u001b[0m\n\u001b[0m\u001b[0;32m    149\u001b[0m         \u001b[0mself\u001b[0m\u001b[1;33m.\u001b[0m\u001b[0m_executed\u001b[0m \u001b[1;33m=\u001b[0m \u001b[0mquery\u001b[0m\u001b[1;33m\u001b[0m\u001b[1;33m\u001b[0m\u001b[0m\n\u001b[0;32m    150\u001b[0m         \u001b[1;32mreturn\u001b[0m \u001b[0mresult\u001b[0m\u001b[1;33m\u001b[0m\u001b[1;33m\u001b[0m\u001b[0m\n",
      "\u001b[1;32mC:\\Anaconda\\lib\\site-packages\\pymysql\\cursors.py\u001b[0m in \u001b[0;36m_query\u001b[1;34m(self, q)\u001b[0m\n\u001b[0;32m    308\u001b[0m         \u001b[0mself\u001b[0m\u001b[1;33m.\u001b[0m\u001b[0m_last_executed\u001b[0m \u001b[1;33m=\u001b[0m \u001b[0mq\u001b[0m\u001b[1;33m\u001b[0m\u001b[1;33m\u001b[0m\u001b[0m\n\u001b[0;32m    309\u001b[0m         \u001b[0mself\u001b[0m\u001b[1;33m.\u001b[0m\u001b[0m_clear_result\u001b[0m\u001b[1;33m(\u001b[0m\u001b[1;33m)\u001b[0m\u001b[1;33m\u001b[0m\u001b[1;33m\u001b[0m\u001b[0m\n\u001b[1;32m--> 310\u001b[1;33m         \u001b[0mconn\u001b[0m\u001b[1;33m.\u001b[0m\u001b[0mquery\u001b[0m\u001b[1;33m(\u001b[0m\u001b[0mq\u001b[0m\u001b[1;33m)\u001b[0m\u001b[1;33m\u001b[0m\u001b[1;33m\u001b[0m\u001b[0m\n\u001b[0m\u001b[0;32m    311\u001b[0m         \u001b[0mself\u001b[0m\u001b[1;33m.\u001b[0m\u001b[0m_do_get_result\u001b[0m\u001b[1;33m(\u001b[0m\u001b[1;33m)\u001b[0m\u001b[1;33m\u001b[0m\u001b[1;33m\u001b[0m\u001b[0m\n\u001b[0;32m    312\u001b[0m         \u001b[1;32mreturn\u001b[0m \u001b[0mself\u001b[0m\u001b[1;33m.\u001b[0m\u001b[0mrowcount\u001b[0m\u001b[1;33m\u001b[0m\u001b[1;33m\u001b[0m\u001b[0m\n",
      "\u001b[1;32mC:\\Anaconda\\lib\\site-packages\\pymysql\\connections.py\u001b[0m in \u001b[0;36mquery\u001b[1;34m(self, sql, unbuffered)\u001b[0m\n\u001b[0;32m    546\u001b[0m             \u001b[0msql\u001b[0m \u001b[1;33m=\u001b[0m \u001b[0msql\u001b[0m\u001b[1;33m.\u001b[0m\u001b[0mencode\u001b[0m\u001b[1;33m(\u001b[0m\u001b[0mself\u001b[0m\u001b[1;33m.\u001b[0m\u001b[0mencoding\u001b[0m\u001b[1;33m,\u001b[0m \u001b[1;34m\"surrogateescape\"\u001b[0m\u001b[1;33m)\u001b[0m\u001b[1;33m\u001b[0m\u001b[1;33m\u001b[0m\u001b[0m\n\u001b[0;32m    547\u001b[0m         \u001b[0mself\u001b[0m\u001b[1;33m.\u001b[0m\u001b[0m_execute_command\u001b[0m\u001b[1;33m(\u001b[0m\u001b[0mCOMMAND\u001b[0m\u001b[1;33m.\u001b[0m\u001b[0mCOM_QUERY\u001b[0m\u001b[1;33m,\u001b[0m \u001b[0msql\u001b[0m\u001b[1;33m)\u001b[0m\u001b[1;33m\u001b[0m\u001b[1;33m\u001b[0m\u001b[0m\n\u001b[1;32m--> 548\u001b[1;33m         \u001b[0mself\u001b[0m\u001b[1;33m.\u001b[0m\u001b[0m_affected_rows\u001b[0m \u001b[1;33m=\u001b[0m \u001b[0mself\u001b[0m\u001b[1;33m.\u001b[0m\u001b[0m_read_query_result\u001b[0m\u001b[1;33m(\u001b[0m\u001b[0munbuffered\u001b[0m\u001b[1;33m=\u001b[0m\u001b[0munbuffered\u001b[0m\u001b[1;33m)\u001b[0m\u001b[1;33m\u001b[0m\u001b[1;33m\u001b[0m\u001b[0m\n\u001b[0m\u001b[0;32m    549\u001b[0m         \u001b[1;32mreturn\u001b[0m \u001b[0mself\u001b[0m\u001b[1;33m.\u001b[0m\u001b[0m_affected_rows\u001b[0m\u001b[1;33m\u001b[0m\u001b[1;33m\u001b[0m\u001b[0m\n\u001b[0;32m    550\u001b[0m \u001b[1;33m\u001b[0m\u001b[0m\n",
      "\u001b[1;32mC:\\Anaconda\\lib\\site-packages\\pymysql\\connections.py\u001b[0m in \u001b[0;36m_read_query_result\u001b[1;34m(self, unbuffered)\u001b[0m\n\u001b[0;32m    773\u001b[0m         \u001b[1;32melse\u001b[0m\u001b[1;33m:\u001b[0m\u001b[1;33m\u001b[0m\u001b[1;33m\u001b[0m\u001b[0m\n\u001b[0;32m    774\u001b[0m             \u001b[0mresult\u001b[0m \u001b[1;33m=\u001b[0m \u001b[0mMySQLResult\u001b[0m\u001b[1;33m(\u001b[0m\u001b[0mself\u001b[0m\u001b[1;33m)\u001b[0m\u001b[1;33m\u001b[0m\u001b[1;33m\u001b[0m\u001b[0m\n\u001b[1;32m--> 775\u001b[1;33m             \u001b[0mresult\u001b[0m\u001b[1;33m.\u001b[0m\u001b[0mread\u001b[0m\u001b[1;33m(\u001b[0m\u001b[1;33m)\u001b[0m\u001b[1;33m\u001b[0m\u001b[1;33m\u001b[0m\u001b[0m\n\u001b[0m\u001b[0;32m    776\u001b[0m         \u001b[0mself\u001b[0m\u001b[1;33m.\u001b[0m\u001b[0m_result\u001b[0m \u001b[1;33m=\u001b[0m \u001b[0mresult\u001b[0m\u001b[1;33m\u001b[0m\u001b[1;33m\u001b[0m\u001b[0m\n\u001b[0;32m    777\u001b[0m         \u001b[1;32mif\u001b[0m \u001b[0mresult\u001b[0m\u001b[1;33m.\u001b[0m\u001b[0mserver_status\u001b[0m \u001b[1;32mis\u001b[0m \u001b[1;32mnot\u001b[0m \u001b[1;32mNone\u001b[0m\u001b[1;33m:\u001b[0m\u001b[1;33m\u001b[0m\u001b[1;33m\u001b[0m\u001b[0m\n",
      "\u001b[1;32mC:\\Anaconda\\lib\\site-packages\\pymysql\\connections.py\u001b[0m in \u001b[0;36mread\u001b[1;34m(self)\u001b[0m\n\u001b[0;32m   1154\u001b[0m     \u001b[1;32mdef\u001b[0m \u001b[0mread\u001b[0m\u001b[1;33m(\u001b[0m\u001b[0mself\u001b[0m\u001b[1;33m)\u001b[0m\u001b[1;33m:\u001b[0m\u001b[1;33m\u001b[0m\u001b[1;33m\u001b[0m\u001b[0m\n\u001b[0;32m   1155\u001b[0m         \u001b[1;32mtry\u001b[0m\u001b[1;33m:\u001b[0m\u001b[1;33m\u001b[0m\u001b[1;33m\u001b[0m\u001b[0m\n\u001b[1;32m-> 1156\u001b[1;33m             \u001b[0mfirst_packet\u001b[0m \u001b[1;33m=\u001b[0m \u001b[0mself\u001b[0m\u001b[1;33m.\u001b[0m\u001b[0mconnection\u001b[0m\u001b[1;33m.\u001b[0m\u001b[0m_read_packet\u001b[0m\u001b[1;33m(\u001b[0m\u001b[1;33m)\u001b[0m\u001b[1;33m\u001b[0m\u001b[1;33m\u001b[0m\u001b[0m\n\u001b[0m\u001b[0;32m   1157\u001b[0m \u001b[1;33m\u001b[0m\u001b[0m\n\u001b[0;32m   1158\u001b[0m             \u001b[1;32mif\u001b[0m \u001b[0mfirst_packet\u001b[0m\u001b[1;33m.\u001b[0m\u001b[0mis_ok_packet\u001b[0m\u001b[1;33m(\u001b[0m\u001b[1;33m)\u001b[0m\u001b[1;33m:\u001b[0m\u001b[1;33m\u001b[0m\u001b[1;33m\u001b[0m\u001b[0m\n",
      "\u001b[1;32mC:\\Anaconda\\lib\\site-packages\\pymysql\\connections.py\u001b[0m in \u001b[0;36m_read_packet\u001b[1;34m(self, packet_type)\u001b[0m\n\u001b[0;32m    723\u001b[0m             \u001b[1;32mif\u001b[0m \u001b[0mself\u001b[0m\u001b[1;33m.\u001b[0m\u001b[0m_result\u001b[0m \u001b[1;32mis\u001b[0m \u001b[1;32mnot\u001b[0m \u001b[1;32mNone\u001b[0m \u001b[1;32mand\u001b[0m \u001b[0mself\u001b[0m\u001b[1;33m.\u001b[0m\u001b[0m_result\u001b[0m\u001b[1;33m.\u001b[0m\u001b[0munbuffered_active\u001b[0m \u001b[1;32mis\u001b[0m \u001b[1;32mTrue\u001b[0m\u001b[1;33m:\u001b[0m\u001b[1;33m\u001b[0m\u001b[1;33m\u001b[0m\u001b[0m\n\u001b[0;32m    724\u001b[0m                 \u001b[0mself\u001b[0m\u001b[1;33m.\u001b[0m\u001b[0m_result\u001b[0m\u001b[1;33m.\u001b[0m\u001b[0munbuffered_active\u001b[0m \u001b[1;33m=\u001b[0m \u001b[1;32mFalse\u001b[0m\u001b[1;33m\u001b[0m\u001b[1;33m\u001b[0m\u001b[0m\n\u001b[1;32m--> 725\u001b[1;33m             \u001b[0mpacket\u001b[0m\u001b[1;33m.\u001b[0m\u001b[0mraise_for_error\u001b[0m\u001b[1;33m(\u001b[0m\u001b[1;33m)\u001b[0m\u001b[1;33m\u001b[0m\u001b[1;33m\u001b[0m\u001b[0m\n\u001b[0m\u001b[0;32m    726\u001b[0m         \u001b[1;32mreturn\u001b[0m \u001b[0mpacket\u001b[0m\u001b[1;33m\u001b[0m\u001b[1;33m\u001b[0m\u001b[0m\n\u001b[0;32m    727\u001b[0m \u001b[1;33m\u001b[0m\u001b[0m\n",
      "\u001b[1;32mC:\\Anaconda\\lib\\site-packages\\pymysql\\protocol.py\u001b[0m in \u001b[0;36mraise_for_error\u001b[1;34m(self)\u001b[0m\n\u001b[0;32m    219\u001b[0m         \u001b[1;32mif\u001b[0m \u001b[0mDEBUG\u001b[0m\u001b[1;33m:\u001b[0m\u001b[1;33m\u001b[0m\u001b[1;33m\u001b[0m\u001b[0m\n\u001b[0;32m    220\u001b[0m             \u001b[0mprint\u001b[0m\u001b[1;33m(\u001b[0m\u001b[1;34m\"errno =\"\u001b[0m\u001b[1;33m,\u001b[0m \u001b[0merrno\u001b[0m\u001b[1;33m)\u001b[0m\u001b[1;33m\u001b[0m\u001b[1;33m\u001b[0m\u001b[0m\n\u001b[1;32m--> 221\u001b[1;33m         \u001b[0merr\u001b[0m\u001b[1;33m.\u001b[0m\u001b[0mraise_mysql_exception\u001b[0m\u001b[1;33m(\u001b[0m\u001b[0mself\u001b[0m\u001b[1;33m.\u001b[0m\u001b[0m_data\u001b[0m\u001b[1;33m)\u001b[0m\u001b[1;33m\u001b[0m\u001b[1;33m\u001b[0m\u001b[0m\n\u001b[0m\u001b[0;32m    222\u001b[0m \u001b[1;33m\u001b[0m\u001b[0m\n\u001b[0;32m    223\u001b[0m     \u001b[1;32mdef\u001b[0m \u001b[0mdump\u001b[0m\u001b[1;33m(\u001b[0m\u001b[0mself\u001b[0m\u001b[1;33m)\u001b[0m\u001b[1;33m:\u001b[0m\u001b[1;33m\u001b[0m\u001b[1;33m\u001b[0m\u001b[0m\n",
      "\u001b[1;32mC:\\Anaconda\\lib\\site-packages\\pymysql\\err.py\u001b[0m in \u001b[0;36mraise_mysql_exception\u001b[1;34m(data)\u001b[0m\n\u001b[0;32m    141\u001b[0m     \u001b[1;32mif\u001b[0m \u001b[0merrorclass\u001b[0m \u001b[1;32mis\u001b[0m \u001b[1;32mNone\u001b[0m\u001b[1;33m:\u001b[0m\u001b[1;33m\u001b[0m\u001b[1;33m\u001b[0m\u001b[0m\n\u001b[0;32m    142\u001b[0m         \u001b[0merrorclass\u001b[0m \u001b[1;33m=\u001b[0m \u001b[0mInternalError\u001b[0m \u001b[1;32mif\u001b[0m \u001b[0merrno\u001b[0m \u001b[1;33m<\u001b[0m \u001b[1;36m1000\u001b[0m \u001b[1;32melse\u001b[0m \u001b[0mOperationalError\u001b[0m\u001b[1;33m\u001b[0m\u001b[1;33m\u001b[0m\u001b[0m\n\u001b[1;32m--> 143\u001b[1;33m     \u001b[1;32mraise\u001b[0m \u001b[0merrorclass\u001b[0m\u001b[1;33m(\u001b[0m\u001b[0merrno\u001b[0m\u001b[1;33m,\u001b[0m \u001b[0merrval\u001b[0m\u001b[1;33m)\u001b[0m\u001b[1;33m\u001b[0m\u001b[1;33m\u001b[0m\u001b[0m\n\u001b[0m",
      "\u001b[1;31mProgrammingError\u001b[0m: (1146, \"Table 'batch9am.students' doesn't exist\")"
     ]
    }
   ],
   "source": [
    "cursor.execute('select * from students')"
   ]
  },
  {
   "cell_type": "code",
   "execution_count": 16,
   "id": "090e97d2",
   "metadata": {},
   "outputs": [
    {
     "data": {
      "text/plain": [
       "10"
      ]
     },
     "execution_count": 16,
     "metadata": {},
     "output_type": "execute_result"
    }
   ],
   "source": [
    "cursor.execute('select * from student')"
   ]
  },
  {
   "cell_type": "code",
   "execution_count": 17,
   "id": "578a9070",
   "metadata": {},
   "outputs": [
    {
     "data": {
      "text/plain": [
       "((1, 'Surbhi', 'Python', 20),\n",
       " (2, 'Yash', 'DS', 22),\n",
       " (3, 'Krupali', 'DS', 23),\n",
       " (4, 'Aman', 'Advance Python', 22),\n",
       " (5, 'Ashish', 'AWS', 24),\n",
       " (6, 'Naman', None, 22),\n",
       " (7, 'Muskan', 'AWS', 20),\n",
       " (8, 'Priya', 'linux', 19),\n",
       " (9, 'Prabhakar', 'Python', 20),\n",
       " (10, 'priya', 'aws', 21))"
      ]
     },
     "execution_count": 17,
     "metadata": {},
     "output_type": "execute_result"
    }
   ],
   "source": [
    "cursor.fetchall()"
   ]
  },
  {
   "cell_type": "code",
   "execution_count": 18,
   "id": "85108269",
   "metadata": {},
   "outputs": [],
   "source": [
    "db.close()"
   ]
  },
  {
   "cell_type": "code",
   "execution_count": 29,
   "id": "27ec363a",
   "metadata": {},
   "outputs": [
    {
     "name": "stdout",
     "output_type": "stream",
     "text": [
      "\n",
      " Which table data you want to fetch(student/fees/address) : student\n",
      "1\t|\tSurbhi\t|\tPython\t|\t20\n",
      "2\t|\tYash\t|\tDS\t|\t22\n",
      "3\t|\tKrupali\t|\tDS\t|\t23\n",
      "4\t|\tAman\t|\tAdvance Python\t|\t22\n",
      "5\t|\tAshish\t|\tAWS\t|\t24\n",
      "6\t|\tNaman\t|\tNone\t|\t22\n",
      "7\t|\tMuskan\t|\tAWS\t|\t20\n",
      "8\t|\tPriya\t|\tlinux\t|\t19\n",
      "9\t|\tPrabhakar\t|\tPython\t|\t20\n",
      "10\t|\tpriya\t|\taws\t|\t21\n",
      "13\t|\tRahul\t|\tAWS\t|\t20\n",
      "14\t|\tAnjali\t|\tAzure\t|\t22\n"
     ]
    }
   ],
   "source": [
    "db = sql.connect(host=\"localhost\", port=3306, user='root', password='', database=\"batch9am\")\n",
    "cursor = db.cursor()\n",
    "table = input(\"\\n Which table data you want to fetch(student/fees/address) : \").strip().lower()\n",
    "try:\n",
    "    cursor.execute(f'select * from {table}')\n",
    "except Exceptiontion as error:\n",
    "    print(f'\\n {error}')\n",
    "else:\n",
    "    data = cursor.fetchall()\n",
    "    for value in data:\n",
    "        print(*value, sep=\"\\t|\\t\")\n",
    "db.close()"
   ]
  },
  {
   "cell_type": "code",
   "execution_count": 28,
   "id": "56e82e99",
   "metadata": {},
   "outputs": [
    {
     "name": "stdout",
     "output_type": "stream",
     "text": [
      "\n",
      " Enter any key to continue inserting : k\n",
      "\n",
      " Name : Rahul\n",
      "\n",
      " Course : AWS\n",
      "\n",
      " Age : 20\n",
      "\n",
      " Data inserted successfully.....\n",
      "\n",
      " Enter any key to continue inserting : Anjali\n",
      "\n",
      " Name : Anjali\n",
      "\n",
      " Course : Azure\n",
      "\n",
      " Age : 22\n",
      "\n",
      " Data inserted successfully.....\n",
      "\n",
      " Enter any key to continue inserting : \n"
     ]
    }
   ],
   "source": [
    "db = sql.connect(host=\"localhost\", port=3306, user='root', password='', database=\"batch9am\")\n",
    "cursor = db.cursor()\n",
    "while input(\"\\n Enter any key to continue inserting : \"):\n",
    "    name = input(\"\\n Name : \")\n",
    "    course = input(\"\\n Course : \")\n",
    "    age = int(input(\"\\n Age : \"))\n",
    "    cmd = f\"insert into student(name, course, age) values('{name}', '{course}', {age})\"\n",
    "    cursor.execute(cmd)\n",
    "    db.commit()  # permanently save\n",
    "    print(\"\\n Data inserted successfully.....\")\n",
    "db.close()"
   ]
  },
  {
   "cell_type": "markdown",
   "id": "100a0299",
   "metadata": {},
   "source": [
    "    1. You will have a csv file or any other file where values are separated with something \n",
    "        you have to read to read that file and store every data in database\n",
    "        |, \\t, ,\n",
    "        \n",
    "    2. Ask from use in which table he/she want to work \n",
    "        and ask table from the user untill and unless it exists\n",
    "        \n",
    "            a. Student\n",
    "                1. Select\n",
    "                2. Insert\n",
    "                3. Update \n",
    "                    update table set columnname=newvalue where sid=1\n",
    "                        1. columnname\n",
    "                        2. newvalue\n",
    "                        3. sid\n",
    "                4. Write Own Query for select \n",
    "                    user will write the query and you have to show the result for it \n",
    "                   \n",
    "            b. Fees\n",
    "                1. Select\n",
    "                2. Insert\n",
    "                3. Update \n",
    "                    update table set columnname=newvalue where sid=1\n",
    "                        1. columnname\n",
    "                        2. newvalue\n",
    "                        3. sid\n",
    "                        4. fid\n",
    "                4. Write Own Query for select \n",
    "                    user will write the query and you have to show the result for it \n",
    "            c. Address\n",
    "                1. Select\n",
    "                2. Insert\n",
    "                3. Update \n",
    "                    update table set columnname=newvalue where sid=1\n",
    "                        1. columnname\n",
    "                        2. newvalue\n",
    "                        3. sid\n",
    "                        4. aid\n",
    "                4. Write Own Query for select \n",
    "                    user will write the query and you have to show the result for it "
   ]
  },
  {
   "cell_type": "markdown",
   "id": "c0b64b3b",
   "metadata": {},
   "source": [
    "#### SQLITE\n",
    "    \n",
    "    SQL database \n",
    "    It works on files \n",
    "    Database --> File \n",
    "    \n",
    "    Medium/Interface --> sqlite3\n",
    "    \n",
    "    \n",
    "    The database at which you want to connect if it already exists then it gets connected\n",
    "    else it create the database and connect with it"
   ]
  },
  {
   "cell_type": "code",
   "execution_count": 30,
   "id": "e7bf86a1",
   "metadata": {},
   "outputs": [],
   "source": [
    "import sqlite3 as sql"
   ]
  },
  {
   "cell_type": "code",
   "execution_count": 31,
   "id": "88eafc9a",
   "metadata": {},
   "outputs": [],
   "source": [
    "db = sql.connect(\"Employee.db\")"
   ]
  },
  {
   "cell_type": "code",
   "execution_count": 32,
   "id": "3903f871",
   "metadata": {},
   "outputs": [
    {
     "data": {
      "text/plain": [
       "<sqlite3.Connection at 0x1d2b4d40030>"
      ]
     },
     "execution_count": 32,
     "metadata": {},
     "output_type": "execute_result"
    }
   ],
   "source": [
    "db"
   ]
  },
  {
   "cell_type": "code",
   "execution_count": 33,
   "id": "22aa30da",
   "metadata": {},
   "outputs": [
    {
     "name": "stdout",
     "output_type": "stream",
     "text": [
      " Volume in drive C has no label.\n",
      " Volume Serial Number is 766E-A7C0\n",
      "\n",
      " Directory of C:\\batches\\online_batch\\python_batch_830am\\Database\n",
      "\n",
      "09-09-2021  10:32    <DIR>          .\n",
      "09-09-2021  10:32    <DIR>          ..\n",
      "09-09-2021  09:27    <DIR>          .ipynb_checkpoints\n",
      "27-08-2021  14:11           101,421 1_2. Database_Theory.ipynb\n",
      "03-09-2021  10:23             5,606 3_4_5. Database.ipynb\n",
      "07-09-2021  10:04             1,669 7. Database.ipynb\n",
      "09-09-2021  10:31            22,412 8. Database_Connectivity.ipynb\n",
      "02-09-2021  10:25    <DIR>          Assignment\n",
      "09-09-2021  10:32                 0 Employee.db\n",
      "02-09-2021  10:25    <DIR>          notes\n",
      "08-09-2021  10:22            41,486 practice.txt\n",
      "31-08-2021  10:33            21,504 query1.txt\n",
      "01-09-2021  10:32            13,778 query2.txt\n",
      "02-09-2021  10:24            25,157 query3.txt\n",
      "03-09-2021  10:23            25,325 query4.txt\n",
      "07-09-2021  10:19            31,005 query5.txt\n",
      "              11 File(s)        289,363 bytes\n",
      "               5 Dir(s)  186,188,136,448 bytes free\n"
     ]
    }
   ],
   "source": [
    "ls"
   ]
  },
  {
   "cell_type": "code",
   "execution_count": 34,
   "id": "ec7a01d4",
   "metadata": {},
   "outputs": [],
   "source": [
    "cursor = db.cursor()"
   ]
  },
  {
   "cell_type": "code",
   "execution_count": 35,
   "id": "68819fce",
   "metadata": {},
   "outputs": [
    {
     "data": {
      "text/plain": [
       "<sqlite3.Cursor at 0x1d2b4d63730>"
      ]
     },
     "execution_count": 35,
     "metadata": {},
     "output_type": "execute_result"
    }
   ],
   "source": [
    "cursor"
   ]
  },
  {
   "cell_type": "code",
   "execution_count": 36,
   "id": "e1e00daa",
   "metadata": {},
   "outputs": [
    {
     "data": {
      "text/plain": [
       "<sqlite3.Cursor at 0x1d2b4d63730>"
      ]
     },
     "execution_count": 36,
     "metadata": {},
     "output_type": "execute_result"
    }
   ],
   "source": [
    "cmd = \"create table employee(eid int(5), name varchar(100), city varchar(100))\"\n",
    "cursor.execute(cmd)"
   ]
  },
  {
   "cell_type": "code",
   "execution_count": 37,
   "id": "92a1dbf9",
   "metadata": {},
   "outputs": [
    {
     "name": "stdout",
     "output_type": "stream",
     "text": [
      " Volume in drive C has no label.\n",
      " Volume Serial Number is 766E-A7C0\n",
      "\n",
      " Directory of C:\\batches\\online_batch\\python_batch_830am\\Database\n",
      "\n",
      "09-09-2021  10:34    <DIR>          .\n",
      "09-09-2021  10:34    <DIR>          ..\n",
      "09-09-2021  09:27    <DIR>          .ipynb_checkpoints\n",
      "27-08-2021  14:11           101,421 1_2. Database_Theory.ipynb\n",
      "03-09-2021  10:23             5,606 3_4_5. Database.ipynb\n",
      "07-09-2021  10:04             1,669 7. Database.ipynb\n",
      "09-09-2021  10:33            25,063 8. Database_Connectivity.ipynb\n",
      "02-09-2021  10:25    <DIR>          Assignment\n",
      "09-09-2021  10:34             8,192 Employee.db\n",
      "02-09-2021  10:25    <DIR>          notes\n",
      "08-09-2021  10:22            41,486 practice.txt\n",
      "31-08-2021  10:33            21,504 query1.txt\n",
      "01-09-2021  10:32            13,778 query2.txt\n",
      "02-09-2021  10:24            25,157 query3.txt\n",
      "03-09-2021  10:23            25,325 query4.txt\n",
      "07-09-2021  10:19            31,005 query5.txt\n",
      "              11 File(s)        300,206 bytes\n",
      "               5 Dir(s)  186,187,902,976 bytes free\n"
     ]
    }
   ],
   "source": [
    "ls"
   ]
  },
  {
   "cell_type": "code",
   "execution_count": 38,
   "id": "a1f3ea8d",
   "metadata": {},
   "outputs": [],
   "source": [
    "db.close()"
   ]
  },
  {
   "cell_type": "code",
   "execution_count": 39,
   "id": "5bb2c0b8",
   "metadata": {},
   "outputs": [],
   "source": [
    "db = sql.connect('Employee.db')\n",
    "cursor = db.cursor()\n",
    "try:\n",
    "    cursor.execute(f'select * from employee')\n",
    "except Exception as error:\n",
    "    print(f'\\n {error}')\n",
    "else:\n",
    "    data = cursor.fetchall()\n",
    "    for value in data:\n",
    "        print(*value, sep=\"\\t|\\t\")\n",
    "db.close()"
   ]
  },
  {
   "cell_type": "code",
   "execution_count": 40,
   "id": "0b70d006",
   "metadata": {},
   "outputs": [
    {
     "name": "stdout",
     "output_type": "stream",
     "text": [
      "\n",
      " Enter any key to continue inserting : k\n",
      "\n",
      " Id : 1\n",
      "\n",
      " Name : simran\n",
      "\n",
      " City : jaiput\n",
      "\n",
      " Data inserted successfully.....\n",
      "\n",
      " Enter any key to continue inserting : i\n",
      "\n",
      " Id : 2\n",
      "\n",
      " Name : sachin\n",
      "\n",
      " City : jaipur\n",
      "\n",
      " Data inserted successfully.....\n",
      "\n",
      " Enter any key to continue inserting : 4\n",
      "\n",
      " Id : 4\n",
      "\n",
      " Name : ravi\n",
      "\n",
      " City : delhi\n",
      "\n",
      " Data inserted successfully.....\n",
      "\n",
      " Enter any key to continue inserting : \n"
     ]
    }
   ],
   "source": [
    "db = sql.connect(\"Employee.db\")\n",
    "cursor = db.cursor()\n",
    "while input(\"\\n Enter any key to continue inserting : \"):\n",
    "    id_ = int(input(\"\\n Id : \"))\n",
    "    name = input(\"\\n Name : \")\n",
    "    city = input(\"\\n City : \")\n",
    "    cmd = f\"insert into employee values({id_}, '{name}', '{city}')\"\n",
    "    cursor.execute(cmd)\n",
    "    db.commit()  # permanently save\n",
    "    print(\"\\n Data inserted successfully.....\")\n",
    "db.close()"
   ]
  },
  {
   "cell_type": "code",
   "execution_count": 43,
   "id": "32276803",
   "metadata": {},
   "outputs": [
    {
     "name": "stdout",
     "output_type": "stream",
     "text": [
      "1\t|\tsimran\t|\tjaiput\n",
      "2\t|\tsachin\t|\tjaipur\n",
      "4\t|\travi\t|\tdelhi\n"
     ]
    }
   ],
   "source": [
    "db = sql.connect('Employee.db')\n",
    "cursor = db.cursor()\n",
    "try:\n",
    "    cursor.execute(f'select * from employee')\n",
    "except Exception as error:\n",
    "    print(f'\\n {error}')\n",
    "else:\n",
    "    data = cursor.fetchall()\n",
    "    for value in data:\n",
    "        print(*value, sep=\"\\t|\\t\")\n",
    "db.close()"
   ]
  },
  {
   "cell_type": "code",
   "execution_count": 45,
   "id": "34e824ea",
   "metadata": {},
   "outputs": [
    {
     "name": "stdout",
     "output_type": "stream",
     "text": [
      "1\t|\tsimran\t|\tjaiput\n"
     ]
    }
   ],
   "source": [
    "db = sql.connect('Employee.db')\n",
    "cursor = db.cursor()\n",
    "try:\n",
    "    cursor.execute(f'select * from employee')\n",
    "except Exception as error:\n",
    "    print(f'\\n {error}')\n",
    "else:\n",
    "    data = cursor.fetchone()\n",
    "    # print(data)\n",
    "    print(*data, sep=\"\\t|\\t\")\n",
    "db.close()"
   ]
  },
  {
   "cell_type": "code",
   "execution_count": 46,
   "id": "8fa932b6",
   "metadata": {},
   "outputs": [],
   "source": [
    "### jupyter notebook, http"
   ]
  },
  {
   "cell_type": "code",
   "execution_count": null,
   "id": "239600bb",
   "metadata": {},
   "outputs": [],
   "source": []
  }
 ],
 "metadata": {
  "kernelspec": {
   "display_name": "Python 3",
   "language": "python",
   "name": "python3"
  },
  "language_info": {
   "codemirror_mode": {
    "name": "ipython",
    "version": 3
   },
   "file_extension": ".py",
   "mimetype": "text/x-python",
   "name": "python",
   "nbconvert_exporter": "python",
   "pygments_lexer": "ipython3",
   "version": "3.8.8"
  },
  "latex_envs": {
   "LaTeX_envs_menu_present": true,
   "autoclose": false,
   "autocomplete": true,
   "bibliofile": "biblio.bib",
   "cite_by": "apalike",
   "current_citInitial": 1,
   "eqLabelWithNumbers": true,
   "eqNumInitial": 1,
   "hotkeys": {
    "equation": "Ctrl-E",
    "itemize": "Ctrl-I"
   },
   "labels_anchors": false,
   "latex_user_defs": false,
   "report_style_numbering": false,
   "user_envs_cfg": false
  }
 },
 "nbformat": 4,
 "nbformat_minor": 5
}
