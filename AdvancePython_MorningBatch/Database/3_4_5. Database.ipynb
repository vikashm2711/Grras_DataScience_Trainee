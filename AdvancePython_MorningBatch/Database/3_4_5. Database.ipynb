{
 "cells": [
  {
   "cell_type": "markdown",
   "id": "8cad0bd1",
   "metadata": {},
   "source": [
    "    mysql -u root -p  #-u --> option (user) -p --> password\n",
    "    password: (enter)\n",
    "    \n",
    "    mysql shell \n",
    "    \n",
    "    and enter bcz the present password of root is empty "
   ]
  },
  {
   "cell_type": "markdown",
   "id": "81714383",
   "metadata": {},
   "source": [
    "##### Data Types in Mysql"
   ]
  },
  {
   "cell_type": "markdown",
   "id": "ddeb75c7",
   "metadata": {},
   "source": [
    "    create table table_name(col_name1 datatype, col_name2 datatype, ......)"
   ]
  },
  {
   "cell_type": "markdown",
   "id": "19b171b4",
   "metadata": {},
   "source": [
    "    Student \n",
    "    \n",
    "        1. sid\n",
    "        2. name\n",
    "        3. age\n",
    "        4. course\n",
    "        \n",
    "        \n",
    "    Hackerrank SQL questions...."
   ]
  },
  {
   "cell_type": "markdown",
   "id": "5b636b15",
   "metadata": {},
   "source": [
    "    char --> fix\n",
    "    varchar --> variable\n",
    "    \n",
    "    address char(100)             address varchar(100)\n",
    "    A-47, Malviya Nagar           A-47, Malviya Nagar\n",
    "    \n",
    "    100-18 = 82                   100-18 = 82(it will release 82 char to give other people\n",
    "    (Useless)                              to use)\n",
    "     It will not \n",
    "     release "
   ]
  },
  {
   "cell_type": "code",
   "execution_count": 1,
   "id": "6edc31b8",
   "metadata": {},
   "outputs": [
    {
     "data": {
      "text/plain": [
       "82"
      ]
     },
     "execution_count": 1,
     "metadata": {},
     "output_type": "execute_result"
    }
   ],
   "source": [
    "100-18"
   ]
  },
  {
   "cell_type": "markdown",
   "id": "8142ca96",
   "metadata": {},
   "source": [
    "### Aggregate Functions\n",
    "\n",
    "    1. avg\n",
    "    2. count --> counting number of not null rows/column\n",
    "    3. max\n",
    "    4. min\n",
    "    5. sum"
   ]
  },
  {
   "cell_type": "markdown",
   "id": "c189643d",
   "metadata": {},
   "source": [
    "    #### Fees Table \n",
    "    \n",
    "        Fid --> primary key\n",
    "        Sid --> foreign key --> student\n",
    "        fees \n",
    "        paid\n",
    "        discount\n",
    "        \n",
    "        \n",
    "    #### Address Table\n",
    "        \n",
    "        Aid --> primary key \n",
    "        Sid --> Foreign key \n",
    "        street\n",
    "        city\n",
    "        state"
   ]
  },
  {
   "cell_type": "markdown",
   "id": "7dd6d85f",
   "metadata": {},
   "source": [
    "### Joins\n",
    "\n",
    "    If we want to merge 2 data tables \n",
    "    \n",
    "    1. Outer join\n",
    "        Union that the data from both the tables\n",
    "    2. Inner Join\n",
    "            s1 = {1, 2, 3, 4}\n",
    "            s2 = {2, 3, 4, 5}\n",
    "            Here we can easily find the intersection \n",
    "            \n",
    "                    Table1                       Table2\n",
    "            ID     Name     Age            SID    City    State\n",
    "            1                               1\n",
    "            2                               4 \n",
    "            3                               5\n",
    "            \n",
    "            \n",
    "            Here we need to specify using which column we need to find the common\n",
    "            Here\n",
    "            we need to find common between ID and SID\n",
    "            \n",
    "    3. Left Join\n",
    "        It will give whole of left table and the common data of right table \n",
    "        table1 left join table2\n",
    "            Which common data to give between table1 and table2 will be specified in the condition\n",
    "            \n",
    "    4. Right Join \n",
    "        It will give whole data of right table and the common data of left table \n",
    "        table1 right join table2\n",
    "            Which common data to give between table1 and table2 will be specified in the condition\n",
    "            \n",
    "            \n",
    "    select * from table1 inner/left/right join table2 on table1.id = table2.sid where condition;\n",
    "    \n",
    "    After on there is condition for join "
   ]
  },
  {
   "cell_type": "markdown",
   "id": "3e0a53c7",
   "metadata": {},
   "source": [
    "     You need to find the name of student and course living in jaipur having course either python or data science or advance python \n",
    " \n",
    "     Join "
   ]
  },
  {
   "cell_type": "markdown",
   "id": "78f1fb9a",
   "metadata": {},
   "source": [
    "    You need to tell me the sid, name, course, fees, street, city of the students having paid<5000 and leftover amount should be greater than 4000"
   ]
  },
  {
   "cell_type": "markdown",
   "id": "8df7b516",
   "metadata": {},
   "source": [
    "    mysql -u root -p < C:/batches/schema.sql (path of file)"
   ]
  },
  {
   "cell_type": "code",
   "execution_count": null,
   "id": "bee387ea",
   "metadata": {},
   "outputs": [],
   "source": []
  }
 ],
 "metadata": {
  "kernelspec": {
   "display_name": "Python 3",
   "language": "python",
   "name": "python3"
  },
  "language_info": {
   "codemirror_mode": {
    "name": "ipython",
    "version": 3
   },
   "file_extension": ".py",
   "mimetype": "text/x-python",
   "name": "python",
   "nbconvert_exporter": "python",
   "pygments_lexer": "ipython3",
   "version": "3.8.8"
  }
 },
 "nbformat": 4,
 "nbformat_minor": 5
}
