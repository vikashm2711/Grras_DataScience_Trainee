{
 "cells": [
  {
   "cell_type": "code",
   "execution_count": 27,
   "id": "874f0b4b",
   "metadata": {},
   "outputs": [],
   "source": [
    "import sqlalchemy\n",
    "import matplotlib.pyplot as plt"
   ]
  },
  {
   "cell_type": "markdown",
   "id": "29659699",
   "metadata": {},
   "source": [
    "    pip install sqlalchemy\n",
    "    pip install flask-mysqldb\n",
    "    pip install ipython-sql"
   ]
  },
  {
   "cell_type": "markdown",
   "id": "0fc904e5",
   "metadata": {},
   "source": [
    "    postgresql"
   ]
  },
  {
   "cell_type": "markdown",
   "id": "e4989e31",
   "metadata": {},
   "source": [
    "    sqlite3.connect(\"C:/batches/one.db\")"
   ]
  },
  {
   "cell_type": "code",
   "execution_count": 3,
   "id": "04d041fa",
   "metadata": {},
   "outputs": [],
   "source": [
    "engine = sqlalchemy.create_engine(\"mysql://root@localhost:3306/batch9am\")"
   ]
  },
  {
   "cell_type": "code",
   "execution_count": 8,
   "id": "d4280778",
   "metadata": {},
   "outputs": [],
   "source": [
    "%load_ext sql"
   ]
  },
  {
   "cell_type": "code",
   "execution_count": 11,
   "id": "1209f465",
   "metadata": {},
   "outputs": [],
   "source": [
    "%sql mysql://root@localhost:3306/batch9am"
   ]
  },
  {
   "cell_type": "code",
   "execution_count": null,
   "id": "f9efb373",
   "metadata": {},
   "outputs": [],
   "source": [
    "%%timeit\n",
    "%%writefile filename"
   ]
  },
  {
   "cell_type": "code",
   "execution_count": 13,
   "id": "3815658a",
   "metadata": {},
   "outputs": [
    {
     "name": "stdout",
     "output_type": "stream",
     "text": [
      " * mysql://root@localhost:3306/batch9am\n",
      "12 rows affected.\n"
     ]
    },
    {
     "data": {
      "text/html": [
       "<table>\n",
       "    <tr>\n",
       "        <th>sid</th>\n",
       "        <th>name</th>\n",
       "        <th>course</th>\n",
       "        <th>age</th>\n",
       "    </tr>\n",
       "    <tr>\n",
       "        <td>1</td>\n",
       "        <td>Surbhi</td>\n",
       "        <td>Python</td>\n",
       "        <td>20</td>\n",
       "    </tr>\n",
       "    <tr>\n",
       "        <td>2</td>\n",
       "        <td>Yash</td>\n",
       "        <td>DS</td>\n",
       "        <td>22</td>\n",
       "    </tr>\n",
       "    <tr>\n",
       "        <td>3</td>\n",
       "        <td>Krupali</td>\n",
       "        <td>DS</td>\n",
       "        <td>23</td>\n",
       "    </tr>\n",
       "    <tr>\n",
       "        <td>4</td>\n",
       "        <td>Aman</td>\n",
       "        <td>Advance Python</td>\n",
       "        <td>22</td>\n",
       "    </tr>\n",
       "    <tr>\n",
       "        <td>5</td>\n",
       "        <td>Ashish</td>\n",
       "        <td>AWS</td>\n",
       "        <td>24</td>\n",
       "    </tr>\n",
       "    <tr>\n",
       "        <td>6</td>\n",
       "        <td>Naman</td>\n",
       "        <td>None</td>\n",
       "        <td>22</td>\n",
       "    </tr>\n",
       "    <tr>\n",
       "        <td>7</td>\n",
       "        <td>Muskan</td>\n",
       "        <td>AWS</td>\n",
       "        <td>20</td>\n",
       "    </tr>\n",
       "    <tr>\n",
       "        <td>8</td>\n",
       "        <td>Priya</td>\n",
       "        <td>linux</td>\n",
       "        <td>19</td>\n",
       "    </tr>\n",
       "    <tr>\n",
       "        <td>9</td>\n",
       "        <td>Prabhakar</td>\n",
       "        <td>Python</td>\n",
       "        <td>20</td>\n",
       "    </tr>\n",
       "    <tr>\n",
       "        <td>10</td>\n",
       "        <td>priya</td>\n",
       "        <td>aws</td>\n",
       "        <td>21</td>\n",
       "    </tr>\n",
       "    <tr>\n",
       "        <td>13</td>\n",
       "        <td>Rahul</td>\n",
       "        <td>AWS</td>\n",
       "        <td>20</td>\n",
       "    </tr>\n",
       "    <tr>\n",
       "        <td>14</td>\n",
       "        <td>Anjali</td>\n",
       "        <td>Azure</td>\n",
       "        <td>22</td>\n",
       "    </tr>\n",
       "</table>"
      ],
      "text/plain": [
       "[(1, 'Surbhi', 'Python', 20),\n",
       " (2, 'Yash', 'DS', 22),\n",
       " (3, 'Krupali', 'DS', 23),\n",
       " (4, 'Aman', 'Advance Python', 22),\n",
       " (5, 'Ashish', 'AWS', 24),\n",
       " (6, 'Naman', None, 22),\n",
       " (7, 'Muskan', 'AWS', 20),\n",
       " (8, 'Priya', 'linux', 19),\n",
       " (9, 'Prabhakar', 'Python', 20),\n",
       " (10, 'priya', 'aws', 21),\n",
       " (13, 'Rahul', 'AWS', 20),\n",
       " (14, 'Anjali', 'Azure', 22)]"
      ]
     },
     "execution_count": 13,
     "metadata": {},
     "output_type": "execute_result"
    }
   ],
   "source": [
    "%%sql \n",
    "\n",
    "select * from student;"
   ]
  },
  {
   "cell_type": "code",
   "execution_count": 14,
   "id": "53b8fbe9",
   "metadata": {},
   "outputs": [
    {
     "name": "stdout",
     "output_type": "stream",
     "text": [
      " * mysql://root@localhost:3306/batch9am\n",
      "2 rows affected.\n"
     ]
    },
    {
     "data": {
      "text/html": [
       "<table>\n",
       "    <tr>\n",
       "        <th>sid</th>\n",
       "        <th>name</th>\n",
       "        <th>course</th>\n",
       "        <th>age</th>\n",
       "    </tr>\n",
       "    <tr>\n",
       "        <td>1</td>\n",
       "        <td>Surbhi</td>\n",
       "        <td>Python</td>\n",
       "        <td>20</td>\n",
       "    </tr>\n",
       "    <tr>\n",
       "        <td>9</td>\n",
       "        <td>Prabhakar</td>\n",
       "        <td>Python</td>\n",
       "        <td>20</td>\n",
       "    </tr>\n",
       "</table>"
      ],
      "text/plain": [
       "[(1, 'Surbhi', 'Python', 20), (9, 'Prabhakar', 'Python', 20)]"
      ]
     },
     "execution_count": 14,
     "metadata": {},
     "output_type": "execute_result"
    }
   ],
   "source": [
    "%%sql\n",
    "\n",
    "select * from student where course='python';"
   ]
  },
  {
   "cell_type": "code",
   "execution_count": 16,
   "id": "1920ae09",
   "metadata": {},
   "outputs": [
    {
     "name": "stdout",
     "output_type": "stream",
     "text": [
      " * mysql://root@localhost:3306/batch9am\n",
      "7 rows affected.\n"
     ]
    }
   ],
   "source": [
    "result = %sql select * from fees;"
   ]
  },
  {
   "cell_type": "code",
   "execution_count": 18,
   "id": "924dc02c",
   "metadata": {},
   "outputs": [
    {
     "data": {
      "text/plain": [
       "sql.run.ResultSet"
      ]
     },
     "execution_count": 18,
     "metadata": {},
     "output_type": "execute_result"
    }
   ],
   "source": [
    "type(result)"
   ]
  },
  {
   "cell_type": "code",
   "execution_count": 22,
   "id": "d6f97c91",
   "metadata": {},
   "outputs": [
    {
     "data": {
      "text/html": [
       "<table>\n",
       "    <tr>\n",
       "        <th>fid</th>\n",
       "        <th>sid</th>\n",
       "        <th>fees</th>\n",
       "        <th>discount</th>\n",
       "        <th>paid</th>\n",
       "    </tr>\n",
       "    <tr>\n",
       "        <td>101</td>\n",
       "        <td>1</td>\n",
       "        <td>10000.0</td>\n",
       "        <td>1000.0</td>\n",
       "        <td>4000.0</td>\n",
       "    </tr>\n",
       "    <tr>\n",
       "        <td>102</td>\n",
       "        <td>2</td>\n",
       "        <td>12000.0</td>\n",
       "        <td>2500.0</td>\n",
       "        <td>5500.0</td>\n",
       "    </tr>\n",
       "    <tr>\n",
       "        <td>103</td>\n",
       "        <td>3</td>\n",
       "        <td>12500.0</td>\n",
       "        <td>1000.0</td>\n",
       "        <td>4500.0</td>\n",
       "    </tr>\n",
       "    <tr>\n",
       "        <td>104</td>\n",
       "        <td>5</td>\n",
       "        <td>8000.0</td>\n",
       "        <td>0.0</td>\n",
       "        <td>4000.0</td>\n",
       "    </tr>\n",
       "    <tr>\n",
       "        <td>105</td>\n",
       "        <td>6</td>\n",
       "        <td>9000.0</td>\n",
       "        <td>0.0</td>\n",
       "        <td>9000.0</td>\n",
       "    </tr>\n",
       "    <tr>\n",
       "        <td>106</td>\n",
       "        <td>8</td>\n",
       "        <td>15000.0</td>\n",
       "        <td>5000.0</td>\n",
       "        <td>10000.0</td>\n",
       "    </tr>\n",
       "    <tr>\n",
       "        <td>107</td>\n",
       "        <td>4</td>\n",
       "        <td>8000.0</td>\n",
       "        <td>0.0</td>\n",
       "        <td>3000.0</td>\n",
       "    </tr>\n",
       "</table>"
      ],
      "text/plain": [
       "[(101, 1, 10000.0, 1000.0, 4000.0),\n",
       " (102, 2, 12000.0, 2500.0, 5500.0),\n",
       " (103, 3, 12500.0, 1000.0, 4500.0),\n",
       " (104, 5, 8000.0, 0.0, 4000.0),\n",
       " (105, 6, 9000.0, 0.0, 9000.0),\n",
       " (106, 8, 15000.0, 5000.0, 10000.0),\n",
       " (107, 4, 8000.0, 0.0, 3000.0)]"
      ]
     },
     "execution_count": 22,
     "metadata": {},
     "output_type": "execute_result"
    }
   ],
   "source": [
    "result"
   ]
  },
  {
   "cell_type": "code",
   "execution_count": 23,
   "id": "92c9b1b4",
   "metadata": {},
   "outputs": [
    {
     "name": "stdout",
     "output_type": "stream",
     "text": [
      " * mysql://root@localhost:3306/batch9am\n",
      "7 rows affected.\n"
     ]
    }
   ],
   "source": [
    "result = %sql select sid, fees from fees;"
   ]
  },
  {
   "cell_type": "code",
   "execution_count": 30,
   "id": "a35a15fd",
   "metadata": {},
   "outputs": [
    {
     "data": {
      "text/plain": [
       "<BarContainer object of 7 artists>"
      ]
     },
     "execution_count": 30,
     "metadata": {},
     "output_type": "execute_result"
    },
    {
     "data": {
      "image/png": "[encoded data removed]",
      "text/plain": [
       "<Figure size 1100x500 with 1 Axes>"
      ]
     },
     "metadata": {
      "needs_background": "light"
     },
     "output_type": "display_data"
    }
   ],
   "source": [
    "plt.figure(figsize=(11, 5), dpi=100)\n",
    "result.bar(color = ['red', 'blue', 'black', '#123456', '#abcdef', 'yellow', 'green'])"
   ]
  },
  {
   "cell_type": "code",
   "execution_count": 33,
   "id": "ec04401b",
   "metadata": {},
   "outputs": [],
   "source": [
    "df = result.DataFrame()"
   ]
  },
  {
   "cell_type": "code",
   "execution_count": 35,
   "id": "8397ef63",
   "metadata": {},
   "outputs": [
    {
     "data": {
      "text/plain": [
       "0    10000.0\n",
       "1    12000.0\n",
       "2    12500.0\n",
       "3     8000.0\n",
       "4     9000.0\n",
       "5    15000.0\n",
       "6     8000.0\n",
       "Name: fees, dtype: float64"
      ]
     },
     "execution_count": 35,
     "metadata": {},
     "output_type": "execute_result"
    }
   ],
   "source": [
    "df['fees']"
   ]
  },
  {
   "cell_type": "code",
   "execution_count": 36,
   "id": "95b4f46e",
   "metadata": {},
   "outputs": [
    {
     "name": "stdout",
     "output_type": "stream",
     "text": [
      " * mysql://root@localhost:3306/batch9am\n",
      "7 rows affected.\n"
     ]
    },
    {
     "data": {
      "text/html": [
       "<table>\n",
       "    <tr>\n",
       "        <th>sid</th>\n",
       "        <th>name</th>\n",
       "        <th>course</th>\n",
       "        <th>age</th>\n",
       "        <th>fid</th>\n",
       "        <th>sid_1</th>\n",
       "        <th>fees</th>\n",
       "        <th>discount</th>\n",
       "        <th>paid</th>\n",
       "    </tr>\n",
       "    <tr>\n",
       "        <td>1</td>\n",
       "        <td>Surbhi</td>\n",
       "        <td>Python</td>\n",
       "        <td>20</td>\n",
       "        <td>101</td>\n",
       "        <td>1</td>\n",
       "        <td>10000.0</td>\n",
       "        <td>1000.0</td>\n",
       "        <td>4000.0</td>\n",
       "    </tr>\n",
       "    <tr>\n",
       "        <td>2</td>\n",
       "        <td>Yash</td>\n",
       "        <td>DS</td>\n",
       "        <td>22</td>\n",
       "        <td>102</td>\n",
       "        <td>2</td>\n",
       "        <td>12000.0</td>\n",
       "        <td>2500.0</td>\n",
       "        <td>5500.0</td>\n",
       "    </tr>\n",
       "    <tr>\n",
       "        <td>3</td>\n",
       "        <td>Krupali</td>\n",
       "        <td>DS</td>\n",
       "        <td>23</td>\n",
       "        <td>103</td>\n",
       "        <td>3</td>\n",
       "        <td>12500.0</td>\n",
       "        <td>1000.0</td>\n",
       "        <td>4500.0</td>\n",
       "    </tr>\n",
       "    <tr>\n",
       "        <td>5</td>\n",
       "        <td>Ashish</td>\n",
       "        <td>AWS</td>\n",
       "        <td>24</td>\n",
       "        <td>104</td>\n",
       "        <td>5</td>\n",
       "        <td>8000.0</td>\n",
       "        <td>0.0</td>\n",
       "        <td>4000.0</td>\n",
       "    </tr>\n",
       "    <tr>\n",
       "        <td>6</td>\n",
       "        <td>Naman</td>\n",
       "        <td>None</td>\n",
       "        <td>22</td>\n",
       "        <td>105</td>\n",
       "        <td>6</td>\n",
       "        <td>9000.0</td>\n",
       "        <td>0.0</td>\n",
       "        <td>9000.0</td>\n",
       "    </tr>\n",
       "    <tr>\n",
       "        <td>8</td>\n",
       "        <td>Priya</td>\n",
       "        <td>linux</td>\n",
       "        <td>19</td>\n",
       "        <td>106</td>\n",
       "        <td>8</td>\n",
       "        <td>15000.0</td>\n",
       "        <td>5000.0</td>\n",
       "        <td>10000.0</td>\n",
       "    </tr>\n",
       "    <tr>\n",
       "        <td>4</td>\n",
       "        <td>Aman</td>\n",
       "        <td>Advance Python</td>\n",
       "        <td>22</td>\n",
       "        <td>107</td>\n",
       "        <td>4</td>\n",
       "        <td>8000.0</td>\n",
       "        <td>0.0</td>\n",
       "        <td>3000.0</td>\n",
       "    </tr>\n",
       "</table>"
      ],
      "text/plain": [
       "[(1, 'Surbhi', 'Python', 20, 101, 1, 10000.0, 1000.0, 4000.0),\n",
       " (2, 'Yash', 'DS', 22, 102, 2, 12000.0, 2500.0, 5500.0),\n",
       " (3, 'Krupali', 'DS', 23, 103, 3, 12500.0, 1000.0, 4500.0),\n",
       " (5, 'Ashish', 'AWS', 24, 104, 5, 8000.0, 0.0, 4000.0),\n",
       " (6, 'Naman', None, 22, 105, 6, 9000.0, 0.0, 9000.0),\n",
       " (8, 'Priya', 'linux', 19, 106, 8, 15000.0, 5000.0, 10000.0),\n",
       " (4, 'Aman', 'Advance Python', 22, 107, 4, 8000.0, 0.0, 3000.0)]"
      ]
     },
     "execution_count": 36,
     "metadata": {},
     "output_type": "execute_result"
    }
   ],
   "source": [
    "%%sql\n",
    "\n",
    "select * from student inner join fees on student.sid = fees.sid;"
   ]
  },
  {
   "cell_type": "code",
   "execution_count": 38,
   "id": "b1935fec",
   "metadata": {},
   "outputs": [],
   "source": [
    "engine = sqlalchemy.create_engine(\"mysql://root@localhost:3306/world\")\n",
    "%reload_ext sql\n",
    "%sql mysql://root@localhost:3306/world"
   ]
  },
  {
   "cell_type": "code",
   "execution_count": 39,
   "id": "d250086a",
   "metadata": {},
   "outputs": [
    {
     "name": "stdout",
     "output_type": "stream",
     "text": [
      "   mysql://root@localhost:3306/batch9am\n",
      " * mysql://root@localhost:3306/world\n",
      "2 rows affected.\n"
     ]
    },
    {
     "data": {
      "text/html": [
       "<table>\n",
       "    <tr>\n",
       "        <th>ID</th>\n",
       "        <th>Name</th>\n",
       "        <th>CountryCode</th>\n",
       "        <th>District</th>\n",
       "        <th>Population</th>\n",
       "    </tr>\n",
       "    <tr>\n",
       "        <td>1</td>\n",
       "        <td>Kabul</td>\n",
       "        <td>AFG</td>\n",
       "        <td>Kabol</td>\n",
       "        <td>1780000</td>\n",
       "    </tr>\n",
       "    <tr>\n",
       "        <td>2</td>\n",
       "        <td>Qandahar</td>\n",
       "        <td>AFG</td>\n",
       "        <td>Qandahar</td>\n",
       "        <td>237500</td>\n",
       "    </tr>\n",
       "</table>"
      ],
      "text/plain": [
       "[(1, 'Kabul', 'AFG', 'Kabol', 1780000),\n",
       " (2, 'Qandahar', 'AFG', 'Qandahar', 237500)]"
      ]
     },
     "execution_count": 39,
     "metadata": {},
     "output_type": "execute_result"
    }
   ],
   "source": [
    "%%sql\n",
    "\n",
    "select * from city limit 2;"
   ]
  },
  {
   "cell_type": "code",
   "execution_count": 40,
   "id": "7e26bc1d",
   "metadata": {},
   "outputs": [
    {
     "name": "stdout",
     "output_type": "stream",
     "text": [
      "   mysql://root@localhost:3306/batch9am\n",
      " * mysql://root@localhost:3306/world\n",
      "2 rows affected.\n"
     ]
    },
    {
     "data": {
      "text/html": [
       "<table>\n",
       "    <tr>\n",
       "        <th>Code</th>\n",
       "        <th>Name</th>\n",
       "        <th>Continent</th>\n",
       "        <th>Region</th>\n",
       "        <th>SurfaceArea</th>\n",
       "        <th>IndepYear</th>\n",
       "        <th>Population</th>\n",
       "        <th>LifeExpectancy</th>\n",
       "        <th>GNP</th>\n",
       "        <th>GNPOld</th>\n",
       "        <th>LocalName</th>\n",
       "        <th>GovernmentForm</th>\n",
       "        <th>HeadOfState</th>\n",
       "        <th>Capital</th>\n",
       "        <th>Code2</th>\n",
       "    </tr>\n",
       "    <tr>\n",
       "        <td>ABW</td>\n",
       "        <td>Aruba</td>\n",
       "        <td>North America</td>\n",
       "        <td>Caribbean</td>\n",
       "        <td>193.0</td>\n",
       "        <td>None</td>\n",
       "        <td>103000</td>\n",
       "        <td>78.4</td>\n",
       "        <td>828.0</td>\n",
       "        <td>793.0</td>\n",
       "        <td>Aruba</td>\n",
       "        <td>Nonmetropolitan Territory of The Netherlands</td>\n",
       "        <td>Beatrix</td>\n",
       "        <td>129</td>\n",
       "        <td>AW</td>\n",
       "    </tr>\n",
       "    <tr>\n",
       "        <td>AFG</td>\n",
       "        <td>Afghanistan</td>\n",
       "        <td>Asia</td>\n",
       "        <td>Southern and Central Asia</td>\n",
       "        <td>652090.0</td>\n",
       "        <td>1919</td>\n",
       "        <td>22720000</td>\n",
       "        <td>45.9</td>\n",
       "        <td>5976.0</td>\n",
       "        <td>None</td>\n",
       "        <td>Afganistan/Afqanestan</td>\n",
       "        <td>Islamic Emirate</td>\n",
       "        <td>Mohammad Omar</td>\n",
       "        <td>1</td>\n",
       "        <td>AF</td>\n",
       "    </tr>\n",
       "</table>"
      ],
      "text/plain": [
       "[('ABW', 'Aruba', 'North America', 'Caribbean', 193.0, None, 103000, 78.4, 828.0, 793.0, 'Aruba', 'Nonmetropolitan Territory of The Netherlands', 'Beatrix', 129, 'AW'),\n",
       " ('AFG', 'Afghanistan', 'Asia', 'Southern and Central Asia', 652090.0, 1919, 22720000, 45.9, 5976.0, None, 'Afganistan/Afqanestan', 'Islamic Emirate', 'Mohammad Omar', 1, 'AF')]"
      ]
     },
     "execution_count": 40,
     "metadata": {},
     "output_type": "execute_result"
    }
   ],
   "source": [
    "%%sql\n",
    "\n",
    "select * from country limit 2;"
   ]
  },
  {
   "cell_type": "code",
   "execution_count": null,
   "id": "01842b68",
   "metadata": {},
   "outputs": [],
   "source": []
  }
 ],
 "metadata": {
  "kernelspec": {
   "display_name": "Python 3",
   "language": "python",
   "name": "python3"
  },
  "language_info": {
   "codemirror_mode": {
    "name": "ipython",
    "version": 3
   },
   "file_extension": ".py",
   "mimetype": "text/x-python",
   "name": "python",
   "nbconvert_exporter": "python",
   "pygments_lexer": "ipython3",
   "version": "3.8.8"
  }
 },
 "nbformat": 4,
 "nbformat_minor": 5
}
