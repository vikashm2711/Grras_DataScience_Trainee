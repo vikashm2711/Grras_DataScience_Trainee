{
 "cells": [
  {
   "cell_type": "markdown",
   "metadata": {
    "slideshow": {
     "slide_type": "slide"
    }
   },
   "source": [
    "## Python Operator"
   ]
  },
  {
   "cell_type": "markdown",
   "metadata": {
    "slideshow": {
     "slide_type": "fragment"
    }
   },
   "source": [
    "- Operators are the constructs which can manipulate the value of operands.\n",
    "- Consider the expression 4 + 5 = 9. Here, 4 and 5 are called operands and + is called operator."
   ]
  },
  {
   "cell_type": "markdown",
   "metadata": {
    "slideshow": {
     "slide_type": "slide"
    }
   },
   "source": [
    "## Types of Operator\n"
   ]
  },
  {
   "cell_type": "markdown",
   "metadata": {
    "slideshow": {
     "slide_type": "fragment"
    }
   },
   "source": [
    "- Python language supports the following types of operators.\n",
    "\n",
    "    1. Arithmetic Operators\n",
    "    2. Comparison (Relational) Operators\n",
    "    3. Assignment Operators\n",
    "    4. Logical Operators\n",
    "    5. Bitwise Operators\n",
    "    6. Membership Operators\n",
    "    7. Identity Operators"
   ]
  },
  {
   "cell_type": "markdown",
   "metadata": {
    "slideshow": {
     "slide_type": "slide"
    }
   },
   "source": [
    "## 1. Arithmetic operators: "
   ]
  },
  {
   "cell_type": "markdown",
   "metadata": {
    "slideshow": {
     "slide_type": "fragment"
    }
   },
   "source": [
    "- Arithmetic operators are used to perform mathematical operations like addition, subtraction, multiplication and division."
   ]
  },
  {
   "cell_type": "markdown",
   "metadata": {
    "slideshow": {
     "slide_type": "slide"
    }
   },
   "source": [
    "<!-- ![image](https://drive.google.com/uc?export=view&id=1-H738zdfpLdNrLN1QMsFGgOQlRlYFzox \"Operator1\") -->\n",
    "<img src='https://drive.google.com/uc?id=1-H738zdfpLdNrLN1QMsFGgOQlRlYFzox' height=700px width=700px> "
   ]
  },
  {
   "cell_type": "markdown",
   "metadata": {
    "slideshow": {
     "slide_type": "slide"
    }
   },
   "source": [
    "#### Example\n",
    "###### Following is the example of Arithmetic Operations like Addition, Subtraction, Multiplication etc."
   ]
  },
  {
   "cell_type": "code",
   "execution_count": 8,
   "metadata": {
    "slideshow": {
     "slide_type": "fragment"
    }
   },
   "outputs": [
    {
     "name": "stdout",
     "output_type": "stream",
     "text": [
      "Addition: 13\n",
      "Subtraction: 5\n",
      "Multiplication: 36\n",
      "Division: 2.25\n",
      "Division(floor): 2\n",
      "Modulo: 1\n",
      "Power: 6561\n"
     ]
    }
   ],
   "source": [
    "# Examples of Arithmetic Operator \n",
    "num1 = 9\n",
    "num2 = 4\n",
    "\n",
    "# Addition of numbers \n",
    "add = num1 + num2\n",
    "\n",
    "# Subtraction of numbers \n",
    "sub = num1 - num2 \n",
    "\n",
    "# Multiplication of number \n",
    "mul = num1 * num2 \n",
    "\n",
    "# Division(float) of number \n",
    "div1 = num1 / num2 \n",
    "\n",
    "# Division(floor) of number \n",
    "div2 = num1 // num2\n",
    "\n",
    "# Modulo of both number \n",
    "mod = num1 % num2 \n",
    "\n",
    "# Power \n",
    "power = num1 ** num2 \n",
    "\n",
    "# print results \n",
    "print(\"Addition:\",add) \n",
    "print(\"Subtraction:\",sub) \n",
    "print(\"Multiplication:\",mul) \n",
    "print(\"Division:\",div1) \n",
    "print(\"Division(floor):\",div2) \n",
    "print(\"Modulo:\",mod) \n",
    "print(\"Power:\",power) \n"
   ]
  },
  {
   "cell_type": "markdown",
   "metadata": {
    "slideshow": {
     "slide_type": "slide"
    }
   },
   "source": [
    "## 2. Comparison Operators"
   ]
  },
  {
   "cell_type": "markdown",
   "metadata": {
    "slideshow": {
     "slide_type": "fragment"
    }
   },
   "source": [
    "- These operators compare the values on either sides of them and decide the relation among them. They are also called Relational operators. e.g: <, >, == "
   ]
  },
  {
   "cell_type": "markdown",
   "metadata": {
    "slideshow": {
     "slide_type": "slide"
    }
   },
   "source": [
    "<img src='https://drive.google.com/uc?id=1ckaKgwxt3NGjtbYc7LVq1LpJ65vzIT76' height=700px width=700px> "
   ]
  },
  {
   "cell_type": "markdown",
   "metadata": {
    "slideshow": {
     "slide_type": "slide"
    }
   },
   "source": [
    "#### Example\n",
    "###### Following is the example of Comparison Operators like <, >, ==, !=, >= etc"
   ]
  },
  {
   "cell_type": "code",
   "execution_count": 9,
   "metadata": {
    "slideshow": {
     "slide_type": "fragment"
    }
   },
   "outputs": [
    {
     "name": "stdout",
     "output_type": "stream",
     "text": [
      "False\n",
      "True\n",
      "False\n",
      "True\n",
      "False\n",
      "True\n"
     ]
    }
   ],
   "source": [
    "# Examples of Relational Operators \n",
    "num1 = 13\n",
    "num2 = 33\n",
    "\n",
    "# num1 > num2 is False \n",
    "print(num1 > num2) \n",
    "\n",
    "# num1 < num2 is True \n",
    "print(num1 < num2) \n",
    "\n",
    "# num1 == num2 is False \n",
    "print(num1 == num2) \n",
    "\n",
    "# num1 != num2 is True \n",
    "print(num1 != num2) \n",
    "\n",
    "# num1 >= num2 is False \n",
    "print(num1 >= num2) \n",
    "\n",
    "# num1 <= num2 is True \n",
    "print(1 <= num2) "
   ]
  },
  {
   "cell_type": "markdown",
   "metadata": {
    "slideshow": {
     "slide_type": "slide"
    }
   },
   "source": [
    "## 3. Assignment Operators"
   ]
  },
  {
   "cell_type": "markdown",
   "metadata": {
    "slideshow": {
     "slide_type": "fragment"
    }
   },
   "source": [
    "- Assignment operators are used to assign values to the variables."
   ]
  },
  {
   "cell_type": "markdown",
   "metadata": {
    "slideshow": {
     "slide_type": "slide"
    }
   },
   "source": [
    "<img src='https://drive.google.com/uc?id=180I5LF1vI1YFHM7iBtDjsasL4i58mdFE' height=700px width=700px> "
   ]
  },
  {
   "cell_type": "markdown",
   "metadata": {
    "slideshow": {
     "slide_type": "slide"
    }
   },
   "source": [
    "#### Example\n",
    "###### Following is the example of Assignment Operators like =, +=, -=, //=, **= , %= etc"
   ]
  },
  {
   "cell_type": "code",
   "execution_count": 3,
   "metadata": {
    "slideshow": {
     "slide_type": "fragment"
    }
   },
   "outputs": [
    {
     "name": "stdout",
     "output_type": "stream",
     "text": [
      "Line 1 - Value of num3 is  31\n",
      "Line 2 - Value of num3 is  52\n",
      "Line 3 - Value of num3 is  1092\n",
      "Line 4 - Value of num3 is  52.0\n",
      "Line 5 - Value of num3 is  2\n",
      "Line 6 - Value of num3 is  2097152\n",
      "Line 7 - Value of num3 is  99864\n"
     ]
    }
   ],
   "source": [
    "num1 = 21\n",
    "num2 = 10\n",
    "num3 = 0\n",
    "\n",
    "num3 = num1 + num2\n",
    "print (\"Line 1 - Value of num3 is \", num3)\n",
    "\n",
    "num3 += num1\n",
    "print (\"Line 2 - Value of num3 is \", num3)\n",
    "\n",
    "num3 *= num1\n",
    "print (\"Line 3 - Value of num3 is \", num3) \n",
    "\n",
    "num3 /= num1 \n",
    "print (\"Line 4 - Value of num3 is \", num3)\n",
    "\n",
    "num3 = 2\n",
    "num3 %= num1\n",
    "print (\"Line 5 - Value of num3 is \", num3)\n",
    "\n",
    "num3 **= num1\n",
    "print (\"Line 6 - Value of num3 is \", num3)\n",
    "\n",
    "num3 //= num1\n",
    "print (\"Line 7 - Value of num3 is \", num3)"
   ]
  },
  {
   "cell_type": "markdown",
   "metadata": {
    "slideshow": {
     "slide_type": "slide"
    }
   },
   "source": [
    "## 4. Logical Operators"
   ]
  },
  {
   "cell_type": "markdown",
   "metadata": {
    "slideshow": {
     "slide_type": "fragment"
    }
   },
   "source": [
    "- Logical operators perform Logical AND, Logical OR and Logical NOT operations."
   ]
  },
  {
   "cell_type": "markdown",
   "metadata": {
    "slideshow": {
     "slide_type": "slide"
    }
   },
   "source": [
    "<img src='https://drive.google.com/uc?id=1B5JZWhXzqQb0yML8PTJ5mFvLOl0gMDqt' height=700px width=700px> "
   ]
  },
  {
   "cell_type": "markdown",
   "metadata": {},
   "source": [
    "#### Example\n",
    "###### Following is the example of Logical Operators like  Logical AND, Logical OR and Logical NOT."
   ]
  },
  {
   "cell_type": "code",
   "execution_count": 19,
   "metadata": {
    "slideshow": {
     "slide_type": "slide"
    }
   },
   "outputs": [
    {
     "name": "stdout",
     "output_type": "stream",
     "text": [
      "False\n",
      "True\n",
      "False\n"
     ]
    }
   ],
   "source": [
    "# Examples of Logical Operator \n",
    "value1 = True\n",
    "value2 = False\n",
    "\n",
    "# Print value1 and value2 is False \n",
    "print(value1 and value2) \n",
    "\n",
    "# Print value1 or value2 is True \n",
    "print(value1 or value2) \n",
    "\n",
    "# Print not value1 is False \n",
    "print(not value1) "
   ]
  },
  {
   "cell_type": "markdown",
   "metadata": {
    "slideshow": {
     "slide_type": "slide"
    }
   },
   "source": [
    "## 5. Bitwise Operators"
   ]
  },
  {
   "cell_type": "markdown",
   "metadata": {
    "slideshow": {
     "slide_type": "fragment"
    }
   },
   "source": [
    "    - Bitwise operator works on bits and performs bit by bit operation. Assume if a = 60; and b = 13; Now in the binary format their values will be 0011 1100 and 0000 1101 respectively. Following table lists out the bitwise operators supported by Python language with an example each in those, we use the above two variables (a and b) as operands −\n",
    "\n",
    "    a = 0011 1100\n",
    "    b = 0000 1101\n",
    "    -----------------\n",
    "    \n",
    "    a&b = 0000 1100\n",
    "\n",
    "    a|b = 0011 1101\n",
    "\n",
    "    a^b = 0011 0001\n",
    "\n",
    "    ~a  = 1100 0011"
   ]
  },
  {
   "cell_type": "markdown",
   "metadata": {
    "slideshow": {
     "slide_type": "slide"
    }
   },
   "source": [
    "<img src='https://drive.google.com/uc?id=1Hm0HcxJukgva8DAzOvcwr46yEOedPfCp' height=700px width=700px> "
   ]
  },
  {
   "cell_type": "markdown",
   "metadata": {},
   "source": [
    "#### Example\n",
    "###### Following is the example of Bitwise Operators like &, ^, <<, >>, ~ etc"
   ]
  },
  {
   "cell_type": "code",
   "execution_count": 20,
   "metadata": {
    "slideshow": {
     "slide_type": "fragment"
    }
   },
   "outputs": [
    {
     "name": "stdout",
     "output_type": "stream",
     "text": [
      "0\n",
      "14\n",
      "-11\n",
      "14\n",
      "0\n",
      "40\n"
     ]
    }
   ],
   "source": [
    "# Examples of Bitwise operators \n",
    "num1 = 10\n",
    "num2 = 4\n",
    "\n",
    "# Print bitwise AND operation \n",
    "print(num1 & num2) \n",
    "\n",
    "# Print bitwise OR operation \n",
    "print(num1 | num2) \n",
    "\n",
    "# Print bitwise NOT operation \n",
    "print(~num1) \n",
    "\n",
    "# print bitwise XOR operation \n",
    "print(num1 ^ num2) \n",
    "\n",
    "# print bitwise right shift operation \n",
    "print(num1 >> num2) \n",
    "\n",
    "# print bitwise left shift operation \n",
    "print(num1 << 2) \n"
   ]
  },
  {
   "cell_type": "markdown",
   "metadata": {
    "slideshow": {
     "slide_type": "slide"
    }
   },
   "source": [
    "## 6. Membership Operators"
   ]
  },
  {
   "cell_type": "markdown",
   "metadata": {
    "slideshow": {
     "slide_type": "fragment"
    }
   },
   "source": [
    "- Python’s membership operators test for membership in a sequence, such as strings, lists, or tuples. There are two membership operators."
   ]
  },
  {
   "cell_type": "markdown",
   "metadata": {
    "slideshow": {
     "slide_type": "fragment"
    }
   },
   "source": [
    "<img src='https://drive.google.com/uc?id=1Qss8e30GB9VBwlYmSRwK4TlARAOV4ovS' height=700px width=700px> "
   ]
  },
  {
   "cell_type": "code",
   "execution_count": null,
   "metadata": {},
   "outputs": [],
   "source": [
    "#### Example\n",
    "###### Following is the example of Membership Operators like in and not inc"
   ]
  },
  {
   "cell_type": "code",
   "execution_count": 2,
   "metadata": {
    "slideshow": {
     "slide_type": "slide"
    }
   },
   "outputs": [
    {
     "name": "stdout",
     "output_type": "stream",
     "text": [
      "Line 1 - num1 is not available in the given list\n",
      "Line 2 - num2 is not available in the given list\n",
      "Line 3 - num1 is available in the given list\n"
     ]
    }
   ],
   "source": [
    "num1 = 10\n",
    "num2 = 20\n",
    "list = [1, 2, 3, 4, 5 ]\n",
    "\n",
    "if ( num1 in list ):\n",
    "    print (\"Line 1 - num1 is available in the given list\")\n",
    "else:\n",
    "    print (\"Line 1 - num1 is not available in the given list\")\n",
    "\n",
    "if ( num2 not in list ):\n",
    "    print (\"Line 2 - num2 is not available in the given list\")\n",
    "else:\n",
    "    print (\"Line 2 - num2 is available in the given list\")\n",
    "\n",
    "num1 = 2\n",
    "if ( num1 in list ):\n",
    "    print (\"Line 3 - num1 is available in the given list\")\n",
    "else:\n",
    "    print (\"Line 3 - num1 is not available in the given list\")"
   ]
  },
  {
   "cell_type": "markdown",
   "metadata": {
    "slideshow": {
     "slide_type": "slide"
    }
   },
   "source": [
    "## 7. Identity Operators "
   ]
  },
  {
   "cell_type": "markdown",
   "metadata": {
    "slideshow": {
     "slide_type": "fragment"
    }
   },
   "source": [
    "- Identity operators compare the memory locations of two objects. There are two Identity operators"
   ]
  },
  {
   "cell_type": "markdown",
   "metadata": {
    "slideshow": {
     "slide_type": "fragment"
    }
   },
   "source": [
    "<img src='https://drive.google.com/uc?id=1RMORxgynOA85Eyli-o0otptVEEcXLVdj' height=700px width=700px> "
   ]
  },
  {
   "cell_type": "code",
   "execution_count": null,
   "metadata": {},
   "outputs": [],
   "source": [
    "#### Example\n",
    "###### Following is the example of Membership Operators like is and not is."
   ]
  },
  {
   "cell_type": "code",
   "execution_count": 1,
   "metadata": {
    "slideshow": {
     "slide_type": "slide"
    }
   },
   "outputs": [
    {
     "name": "stdout",
     "output_type": "stream",
     "text": [
      "Line 1 - num1 and num2 have same identity\n",
      "Line 2 - num1 and num2 have same identity\n",
      "Line 3 - num1 and num2 do not have same identity\n",
      "Line 4 - num1 and num1 do not have same identity\n"
     ]
    }
   ],
   "source": [
    "num1 = 20\n",
    "num2 = 20\n",
    "\n",
    "if ( num1 is num2 ):\n",
    "    print (\"Line 1 - num1 and num2 have same identity\")\n",
    "else:\n",
    "    print (\"Line 1 - num1 and num2 do not have same identity\")\n",
    "\n",
    "if ( id(num1) == id(num2) ):\n",
    "    print (\"Line 2 - num1 and num2 have same identity\")\n",
    "else:\n",
    "    print (\"Line 2 - num1 and num2 do not have same identity\")\n",
    "\n",
    "num2 = 30\n",
    "if ( num1 is num2 ):\n",
    "    print (\"Line 3 - num1 and num2 have same identity\")\n",
    "else:\n",
    "    print (\"Line 3 - num1 and num2 do not have same identity\")\n",
    "\n",
    "if ( num1 is not num2 ):\n",
    "    print (\"Line 4 - num1 and num1 do not have same identity\")\n",
    "else:\n",
    "    print (\"Line 4 - num1 and num1 have same identity\")"
   ]
  },
  {
   "cell_type": "markdown",
   "metadata": {
    "slideshow": {
     "slide_type": "slide"
    }
   },
   "source": [
    "## Python Operators Precedence"
   ]
  },
  {
   "cell_type": "markdown",
   "metadata": {
    "slideshow": {
     "slide_type": "fragment"
    }
   },
   "source": [
    "- The following table lists all operators from highest precedence to lowest."
   ]
  },
  {
   "cell_type": "markdown",
   "metadata": {
    "slideshow": {
     "slide_type": "slide"
    }
   },
   "source": [
    "<img src='https://drive.google.com/uc?id=1PxENoQM4uoAqIDaTmb40v4lsMmZxX038' height=700px width=700px> "
   ]
  },
  {
   "cell_type": "code",
   "execution_count": null,
   "metadata": {},
   "outputs": [],
   "source": [
    "#### Example\n",
    "###### Following is the example of Operators Precedence."
   ]
  },
  {
   "cell_type": "code",
   "execution_count": 24,
   "metadata": {
    "slideshow": {
     "slide_type": "slide"
    }
   },
   "outputs": [
    {
     "name": "stdout",
     "output_type": "stream",
     "text": [
      "Value of (num1 + num2) * num3 / num4 is  90.0\n",
      "Value of ((num1 + num2) * num3) / num4 is  90.0\n",
      "Value of (num1 + num2) * (num3 / num4) is  40.0\n",
      "Value of num1 + (num2 * num3) / num4 is  50.0\n"
     ]
    }
   ],
   "source": [
    "num1 = 20\n",
    "num2 = 10\n",
    "num3 = 15\n",
    "num4 = 5\n",
    "num5 = 0\n",
    "\n",
    "num5 = (num1 + num2) * num3 / num4       #( 30 * 15 ) / 5\n",
    "print (\"Value of (num1 + num2) * num3 / num4 is \",  num5)\n",
    "\n",
    "num5 = ((num1 + num2) * num3) / num4     # (30 * 15 ) / 5\n",
    "print (\"Value of ((num1 + num2) * num3) / num4 is \",  num5)\n",
    "\n",
    "num5 = (num1 + num1) * (num1 / num1);    # (30) * (15/5)\n",
    "print (\"Value of (num1 + num2) * (num3 / num4) is \",  num5)\n",
    "\n",
    "num5 = num1 + (num2 * num3) / num4;      #  20 + (150/5)\n",
    "print (\"Value of num1 + (num2 * num3) / num4 is \",  num5)"
   ]
  },
  {
   "cell_type": "code",
   "execution_count": null,
   "metadata": {},
   "outputs": [],
   "source": []
  },
  {
   "cell_type": "code",
   "execution_count": null,
   "metadata": {
    "run_control": {
     "marked": true
    },
    "slideshow": {
     "slide_type": "slide"
    }
   },
   "outputs": [],
   "source": [
    "#Question:\n",
    "#Task: \n",
    "    The provided code stub reads two integers from STDIN, a and b. Add code to print three lines where:\n",
    "\n",
    "    1. The first line contains the sum of the two numbers.\n",
    "    2. The second line contains the difference of the two numbers (first - second).\n",
    "    3. The third line contains the product of the two numbers.\n",
    "\n",
    "# Example:\n",
    "    a=3\n",
    "    b=5\n",
    "    \n",
    "# Print the following:\n",
    "    8\n",
    "    -2\n",
    "    15\n",
    "    \n",
    "    \n",
    "# Input Format:\n",
    "    The first line contains the first integer, a.\n",
    "    The second line contains the second integer, b.\n",
    "\n",
    "\n",
    "# Output Format:\n",
    "    Print the three lines as explained above.\n",
    "\n",
    "# Sample Input:\n",
    "3\n",
    "2\n",
    "\n",
    "# Sample Output:\n",
    "5\n",
    "1\n",
    "6\n",
    "\n",
    "# Explanation:\n",
    "    3+2 => 5\n",
    "    3-2 => 1\n",
    "    3*2 => 6"
   ]
  },
  {
   "cell_type": "code",
   "execution_count": 4,
   "metadata": {
    "ExecuteTime": {
     "end_time": "2021-05-14T05:26:19.816847Z",
     "start_time": "2021-05-14T05:26:11.912709Z"
    },
    "run_control": {
     "marked": true
    }
   },
   "outputs": [
    {
     "name": "stdout",
     "output_type": "stream",
     "text": [
      "3\n",
      "2\n",
      "\n",
      "5\n",
      "1\n",
      "6\n"
     ]
    }
   ],
   "source": [
    "a=int(input())\n",
    "b=int(input())\n",
    "print(\"\")\n",
    "print(a+b)\n",
    "print(a-b)\n",
    "print(a*b)"
   ]
  },
  {
   "cell_type": "code",
   "execution_count": null,
   "metadata": {
    "run_control": {
     "marked": true
    },
    "slideshow": {
     "slide_type": "slide"
    }
   },
   "outputs": [],
   "source": [
    "# Question\n",
    "# Task: \n",
    "    The provided code stub reads two integers, a and b, from STDIN.\n",
    "    Add logic to print two lines. The first line should contain the result of integer division,  a//b.\n",
    "    The second line should contain the result of float division,  a/b.\n",
    "    No rounding or formatting is necessary.\n",
    "\n",
    "# Example:\n",
    "    a=3\n",
    "    b=5\n",
    "    \n",
    "    - The result of the integer division 3//5 = 0\n",
    "    - The result of the float division is 3/5 = 0.6\n",
    "    \n",
    "# Print:\n",
    "    0\n",
    "    0.6\n",
    "    \n",
    "# Input Format:\n",
    "    The first line contains the first integer, a.\n",
    "    The second line contains the second integer, b.\n",
    "\n",
    "# Output Format:\n",
    "    Print the two lines as described above.\n",
    "\n",
    "# Sample Input:\n",
    "    4\n",
    "    3\n",
    "\n",
    "# Sample Output:\n",
    "    1\n",
    "    1.33333333333"
   ]
  },
  {
   "cell_type": "code",
   "execution_count": 5,
   "metadata": {
    "ExecuteTime": {
     "end_time": "2021-05-14T05:27:35.650791Z",
     "start_time": "2021-05-14T05:27:32.182744Z"
    },
    "run_control": {
     "marked": true
    }
   },
   "outputs": [
    {
     "name": "stdout",
     "output_type": "stream",
     "text": [
      "4\n",
      "3\n",
      "\n",
      "1\n",
      "1.3333333333333333\n"
     ]
    }
   ],
   "source": [
    "a=int(input())\n",
    "b=int(input())\n",
    "print(\"\")\n",
    "print(a//b)\n",
    "print(a/b)\n"
   ]
  },
  {
   "cell_type": "code",
   "execution_count": null,
   "metadata": {
    "slideshow": {
     "slide_type": "slide"
    }
   },
   "outputs": [],
   "source": [
    "## Ques: \n",
    "    Mr. X's birthday is in next month. This time he is planning to invite N of his friends. He wants to distribute some \n",
    "    chocolates to all of his friends after party. He went to a shop to buy a packet of chocolates.At chocolate shop, each\n",
    "    packet is having different number of chocolates. He wants to buy such a packet which contains number of chocolates,\n",
    "    which can be distributed equally among all of his friends. Help Mr. X to buy such a packet.\n",
    "\n",
    "## Input:\n",
    "    First line contains T, number of test cases.\n",
    "    Each test case contains two integers, N and M. where is N is number of friends and M is number number of chocolates \n",
    "    in a packet.\n",
    "\n",
    "## Output:\n",
    "    In each test case output \"Yes\" if he can buy that packet and \"No\" if he can't buy that packet.\n",
    "\n",
    "# Constraints:\n",
    "    1<=T<=20\n",
    "    1<=N<=100\n",
    "    1<=M<=10^5\n",
    "\n",
    "\n",
    "# SAMPLE INPUT \n",
    "    2\n",
    "    5 14\n",
    "    3 21\n",
    "# SAMPLE OUTPUT \n",
    "    No\n",
    "    Yes\n",
    "    \n",
    "# Explanation:\n",
    "    Test Case 1:\n",
    "        There is no way such that he can distribute 14 chocolates among 5 friends equally.\n",
    "    \n",
    "    Test Case 2:\n",
    "        There are 21 chocolates and 3 friends, so he can distribute chocolates eqally. Each friend will get 7 chocolates."
   ]
  },
  {
   "cell_type": "code",
   "execution_count": null,
   "metadata": {
    "slideshow": {
     "slide_type": "slide"
    }
   },
   "outputs": [],
   "source": [
    "# Ques: \n",
    "    You are given an array of N integers. The task is to partition the array into an arbitrary number of groups (subarrays) \n",
    "    such that bitwise AND of beauties of the groups is maximized.\n",
    "    The beauty of a group (subarray) is defined by the bitwise XOR of all the numbers belonging to that group (subarray).\n",
    "\n",
    "\n",
    "# Input format:\n",
    "    First line of the input contains the number of test cases T.\n",
    "    Each test case has 2 lines. First line of the test case is the size of the array N. Second line has the array \n",
    "    elements separated by space.\n",
    "\n",
    "\n",
    "# Output format:\n",
    "    For each test case, output a single number, the maximum value achievable for the given array.\n",
    "\n",
    "    \n",
    "# SAMPLE INPUT: \n",
    "    2\n",
    "    7\n",
    "    4 1 2 5 2 1 6\n",
    "    3\n",
    "    1 2 4\n",
    "    \n",
    "# SAMPLE OUTPUT:\n",
    "    7\n",
    "    7\n",
    "    \n",
    "# Explanation:\n",
    "1. partition [[4, 1, 2], [5, 2], [1, 6]] gives the maximum value of 7 ( = (4^1^2)&(5^2)&(1^6) )\n",
    "2. partition [[1 2 4]] gives the maximum value of 7 ( = (1^2^4) ) "
   ]
  },
  {
   "cell_type": "code",
   "execution_count": null,
   "metadata": {
    "slideshow": {
     "slide_type": "slide"
    }
   },
   "outputs": [],
   "source": [
    "# Ques: \n",
    "    Mr. ABC was recently learning about computer division. Considering the basic model of the computer suppose we wish\n",
    "    to divide a number X by D i.e X/D and obtain the result (Note that it is integer division i.e result of 7/2 will be 3).\n",
    "    \n",
    "    Now the computer will give the divide overflow error if:\n",
    "    \n",
    "    The number of bits in the binary representation(without appending any leading zeroes) of the resulting number \n",
    "    (quotient) is greater than the number of bits in the binary representation of divisor(D) (Without appending any \n",
    "    leading zeroes).\n",
    "\n",
    "    Now Mr. ABC is given an integer X for T testcases .He wishes to find number of such divisors D(1<=D<=X) for which \n",
    "    divide overflow will not occur.\n",
    "\n",
    "# INPUT:\n",
    "    The first line contains the integer T , the number of test cases.\n",
    "    In next T lines, each line contains an integer X.\n",
    "\n",
    "# OUTPUT: \n",
    "    Print the required output for each testcase in new line. \n",
    "\n",
    "# SAMPLE INPUT \n",
    "    2\n",
    "    3\n",
    "    5\n",
    "    \n",
    "# SAMPLE OUTPUT \n",
    "    2\n",
    "    4\n",
    "\n",
    "# Explanation:\n",
    "    For X=3 \n",
    "        For D=1(1 bit) , result = 3/1=3 ( 2 bits)\n",
    "        For D=2(2 bit) , result = 3/2=1 ( 1 bit) //ans++\n",
    "        For D=3(2 bit) , result = 3/3=1 ( 1 bit) //ans++\n",
    "    Hence ans=2\n",
    "\n",
    "    For X=5\n",
    "        For D=1(1 bit) , result = 5/1=5 ( 3 bits)\n",
    "        For D=2(2 bit) , result = 5/2=2 (2 bit) //ans++\n",
    "        For D=3(2 bit) , result = 5/3=1 (1 bit) //ans++\n",
    "        For D=4(3 bit) , result = 5/4=1 (1 bit) //ans++\n",
    "        For D=5(3 bit) , result = 5/5=1 (1 bit) //ans++\n",
    "    Hence ans=4"
   ]
  }
 ],
 "metadata": {
  "celltoolbar": "Slideshow",
  "hide_input": false,
  "kernelspec": {
   "display_name": "Python 3",
   "language": "python",
   "name": "python3"
  },
  "language_info": {
   "codemirror_mode": {
    "name": "ipython",
    "version": 3
   },
   "file_extension": ".py",
   "mimetype": "text/x-python",
   "name": "python",
   "nbconvert_exporter": "python",
   "pygments_lexer": "ipython3",
   "version": "3.8.5"
  },
  "toc": {
   "base_numbering": 1,
   "nav_menu": {},
   "number_sections": true,
   "sideBar": true,
   "skip_h1_title": false,
   "title_cell": "Table of Contents",
   "title_sidebar": "Contents",
   "toc_cell": false,
   "toc_position": {},
   "toc_section_display": true,
   "toc_window_display": false
  },
  "varInspector": {
   "cols": {
    "lenName": 16,
    "lenType": 16,
    "lenVar": 40
   },
   "kernels_config": {
    "python": {
     "delete_cmd_postfix": "",
     "delete_cmd_prefix": "del ",
     "library": "var_list.py",
     "varRefreshCmd": "print(var_dic_list())"
    },
    "r": {
     "delete_cmd_postfix": ") ",
     "delete_cmd_prefix": "rm(",
     "library": "var_list.r",
     "varRefreshCmd": "cat(var_dic_list()) "
    }
   },
   "types_to_exclude": [
    "module",
    "function",
    "builtin_function_or_method",
    "instance",
    "_Feature"
   ],
   "window_display": false
  }
 },
 "nbformat": 4,
 "nbformat_minor": 2
}
