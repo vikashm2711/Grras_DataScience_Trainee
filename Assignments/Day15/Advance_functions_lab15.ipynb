{
 "cells": [
  {
   "cell_type": "markdown",
   "metadata": {
    "slideshow": {
     "slide_type": "slide"
    }
   },
   "source": [
    "## Special Functions"
   ]
  },
  {
   "cell_type": "markdown",
   "metadata": {
    "slideshow": {
     "slide_type": "fragment"
    }
   },
   "source": [
    "1. lambda"
   ]
  },
  {
   "cell_type": "markdown",
   "metadata": {
    "slideshow": {
     "slide_type": "fragment"
    }
   },
   "source": [
    "2. map"
   ]
  },
  {
   "cell_type": "markdown",
   "metadata": {
    "slideshow": {
     "slide_type": "fragment"
    }
   },
   "source": [
    "3. filter"
   ]
  },
  {
   "cell_type": "markdown",
   "metadata": {
    "slideshow": {
     "slide_type": "fragment"
    }
   },
   "source": [
    "4. reduce"
   ]
  },
  {
   "cell_type": "markdown",
   "metadata": {
    "slideshow": {
     "slide_type": "fragment"
    }
   },
   "source": [
    "5. recursion"
   ]
  },
  {
   "cell_type": "markdown",
   "metadata": {
    "slideshow": {
     "slide_type": "slide"
    }
   },
   "source": [
    "## The Anonymous Functions"
   ]
  },
  {
   "cell_type": "markdown",
   "metadata": {},
   "source": [
    "- These functions are called anonymous because they are not declared in the standard manner by using the def keyword. You can use the lambda keyword to create small anonymous functions."
   ]
  },
  {
   "cell_type": "markdown",
   "metadata": {},
   "source": [
    "- Lambda forms can take any number of arguments but return just one value in the form of an expression. They cannot contain commands or multiple expressions."
   ]
  },
  {
   "cell_type": "markdown",
   "metadata": {},
   "source": [
    "- An anonymous function cannot be a direct call to print because lambda requires an expression"
   ]
  },
  {
   "cell_type": "markdown",
   "metadata": {},
   "source": [
    "- Lambda functions have their own local namespace and cannot access variables other than those in their parameter list and those in the global namespace."
   ]
  },
  {
   "cell_type": "markdown",
   "metadata": {},
   "source": [
    "- Although it appears that lambda's are a one-line version of a function, they are not equivalent to inline statements in C or C++, whose purpose is by passing function stack allocation during invocation for performance reasons."
   ]
  },
  {
   "cell_type": "markdown",
   "metadata": {},
   "source": [
    "### Syntax\n",
    "- The syntax of lambda functions contains only a single statement, which is as follows −"
   ]
  },
  {
   "cell_type": "code",
   "execution_count": null,
   "metadata": {},
   "outputs": [],
   "source": [
    "lambda [arg1 [,arg2,.....argn]]: expression"
   ]
  },
  {
   "cell_type": "markdown",
   "metadata": {},
   "source": [
    "<img src='https://drive.google.com/uc?id=1utvt9xZEHqD4P-HGw-AMJbh2v9VPRQd1' height=400px width=500px>     "
   ]
  },
  {
   "cell_type": "markdown",
   "metadata": {},
   "source": [
    "#### Examples\n",
    "###### These are the following examples to show you how the lambda function works. First example show you print any thing using lambda function. Second example check any number positive or not, Third example for check Greatest among three number and last example for print the squares."
   ]
  },
  {
   "cell_type": "code",
   "execution_count": 10,
   "metadata": {},
   "outputs": [
    {
     "name": "stdout",
     "output_type": "stream",
     "text": [
      "hello world\n",
      "Positive\n",
      "greatest 56\n",
      "[1, 4, 9, 16, 25]\n"
     ]
    }
   ],
   "source": [
    "# Function definition is here\n",
    "Simple_print = lambda : print(\"hello world\")\n",
    "Check_number = lambda n : print(\"Positive\") if n>0 else print(\"Negative\") if n != 0 else print(\"Zero\")\n",
    "Greatest = lambda a,b,c : f\"greatest {a}\" if a>b and a>c else f\"greatest {b}\" if b>c else f\"greatest {c}\"\n",
    "Squares = lambda l : [i**2 for i in l]\n",
    "\n",
    "# Now you can call sum as a function\n",
    "Simple_print()\n",
    "Check_number(56)\n",
    "print(Greatest(10,56,34))\n",
    "print(Squares([1,2,3,4,5]))"
   ]
  },
  {
   "cell_type": "markdown",
   "metadata": {},
   "source": [
    "## Python map() function"
   ]
  },
  {
   "cell_type": "markdown",
   "metadata": {},
   "source": [
    "- map() function returns a map object(which is an iterator) of the results after applying the given function to each item of a given iterable (list, tuple etc.)"
   ]
  },
  {
   "cell_type": "markdown",
   "metadata": {},
   "source": [
    "### Syntax\n",
    "- The syntax of map functions contains only two arguments, which is as follows −"
   ]
  },
  {
   "cell_type": "code",
   "execution_count": null,
   "metadata": {},
   "outputs": [],
   "source": [
    "map(fun, iter)"
   ]
  },
  {
   "cell_type": "markdown",
   "metadata": {},
   "source": [
    "### Parameters :"
   ]
  },
  {
   "cell_type": "markdown",
   "metadata": {},
   "source": [
    "- fun : It is a function to which map passes each element of given iterable.\n",
    "- iter : It is a iterable which is to be mapped."
   ]
  },
  {
   "cell_type": "markdown",
   "metadata": {},
   "source": [
    "### Returns :"
   ]
  },
  {
   "cell_type": "markdown",
   "metadata": {},
   "source": [
    "- Returns a list of the results after applying the given function to each item of a given iterable (list, tuple etc.) "
   ]
  },
  {
   "cell_type": "markdown",
   "metadata": {},
   "source": [
    "#### Example\n",
    "###### These are the following examples to show you how the map function works. First example show you addition of two integer list and second example for input multiple inputs..."
   ]
  },
  {
   "cell_type": "code",
   "execution_count": 15,
   "metadata": {},
   "outputs": [
    {
     "name": "stdout",
     "output_type": "stream",
     "text": [
      "1 2 3 4 5\n",
      "List :  [1, 2, 3, 4, 5]\n",
      "final list:  [5, 7, 9]\n"
     ]
    }
   ],
   "source": [
    "## Example1\n",
    "# Input multiple number \n",
    "\n",
    "lst = list(map(int,input().split()))\n",
    "print(\"List : \",lst)\n",
    "\n",
    "\n",
    "## Example2\n",
    "# Add two lists using map and lambda \n",
    "\n",
    "numbers1 = [1, 2, 3] \n",
    "numbers2 = [4, 5, 6] \n",
    "\n",
    "result = map(lambda x, y: x + y, numbers1, numbers2) \n",
    "print(\"final list: \",list(result)) "
   ]
  },
  {
   "cell_type": "markdown",
   "metadata": {},
   "source": [
    "## Python filter() functions"
   ]
  },
  {
   "cell_type": "markdown",
   "metadata": {},
   "source": [
    "- The filter() method filters the given sequence with the help of a function that tests each element in the sequence to be true or not."
   ]
  },
  {
   "cell_type": "markdown",
   "metadata": {},
   "source": [
    "### syntax:"
   ]
  },
  {
   "cell_type": "code",
   "execution_count": null,
   "metadata": {},
   "outputs": [],
   "source": [
    "filter(function, sequence)"
   ]
  },
  {
   "cell_type": "markdown",
   "metadata": {},
   "source": [
    "### Parameters:"
   ]
  },
  {
   "cell_type": "markdown",
   "metadata": {},
   "source": [
    "- function: function that tests if each element of a sequence true or not.\n",
    "- sequence: sequence which needs to be filtered, it can be sets, lists, tuples, or containers of any iterators."
   ]
  },
  {
   "cell_type": "markdown",
   "metadata": {},
   "source": [
    "### Returns:\n",
    "- returns an iterator that is already filtered."
   ]
  },
  {
   "cell_type": "markdown",
   "metadata": {},
   "source": [
    "#### Example\n",
    "###### These are the following examples to show you how the filter function works. First example show you how to filter number which is divisible by 5 and Second Example is find the vowels in given list."
   ]
  },
  {
   "cell_type": "code",
   "execution_count": 22,
   "metadata": {},
   "outputs": [
    {
     "name": "stdout",
     "output_type": "stream",
     "text": [
      "[5, 10]\n",
      "The filtered letters are: ['a', 'e']\n"
     ]
    }
   ],
   "source": [
    "## Example1\n",
    "## List of 1-10\n",
    "lst = [1,2,3,4,5,6,7,8,9,10]\n",
    "\n",
    "## Function divide_5\n",
    "def divide_5(n):\n",
    "    if n%5 == 0:\n",
    "        return True\n",
    "    else:\n",
    "        return False\n",
    "    \n",
    "## Find the value which is divisible by 5\n",
    "print(list(filter(divide_5,lst)))\n",
    "\n",
    "\n",
    "## Example2:\n",
    "# function that filters vowels \n",
    "def fun(variable): \n",
    "    letters = ['a', 'e', 'i', 'o', 'u'] \n",
    "    if (variable in letters): \n",
    "        return True\n",
    "    else: \n",
    "        return False\n",
    "\n",
    "\n",
    "# sequence \n",
    "sequence = ['g', 'a', 'e', 'j', 'k', 's', 'p', 'r'] \n",
    "\n",
    "# using filter function \n",
    "filtered = filter(fun, sequence) \n",
    "\n",
    "print('The filtered letters are:', list(filtered))"
   ]
  },
  {
   "cell_type": "markdown",
   "metadata": {},
   "source": [
    "## Python reduce() Function"
   ]
  },
  {
   "cell_type": "markdown",
   "metadata": {},
   "source": [
    "- The reduce(fun,seq) function is used to apply a particular function passed in its argument to all of the list elements mentioned in the sequence passed along.This function is defined in “functools” module."
   ]
  },
  {
   "cell_type": "markdown",
   "metadata": {},
   "source": [
    "### Working : "
   ]
  },
  {
   "cell_type": "markdown",
   "metadata": {},
   "source": [
    "- At first step, first two elements of sequence are picked and the result is obtained."
   ]
  },
  {
   "cell_type": "markdown",
   "metadata": {},
   "source": [
    "- Next step is to apply the same function to the previously attained result and the number just succeeding the second element and the result is again stored."
   ]
  },
  {
   "cell_type": "markdown",
   "metadata": {},
   "source": [
    "- This process continues till no more elements are left in the container."
   ]
  },
  {
   "cell_type": "markdown",
   "metadata": {},
   "source": [
    "- The final returned result is returned and printed on console."
   ]
  },
  {
   "cell_type": "markdown",
   "metadata": {},
   "source": [
    "#### Example\n",
    "###### These are the following examples to show you how the Reduce function works.Frist example to show you the list addition and second example is to find the maximum element."
   ]
  },
  {
   "cell_type": "code",
   "execution_count": 24,
   "metadata": {},
   "outputs": [
    {
     "name": "stdout",
     "output_type": "stream",
     "text": [
      "The sum of the list elements is : 15\n",
      "The maximum element of the list is : 5\n"
     ]
    }
   ],
   "source": [
    "# Python code to demonstrate working of reduce() \n",
    "\n",
    "# importing functools for reduce() \n",
    "import functools \n",
    "\n",
    "# Examples\n",
    "# initializing list \n",
    "lst = [1,2,3,4,5] \n",
    "\n",
    "# using reduce to compute sum of list \n",
    "print (\"The sum of the list elements is : \",end=\"\") \n",
    "print (functools.reduce(lambda a,b : a+b,lst)) \n",
    "#1 + 2 = 3 --> [3,3,4,5]\n",
    "#3 + 3 = 6 --> [6,4,5]\n",
    "#6 + 4 = 10 --> [10,5]\n",
    "# 10 + 5 = 15\n",
    "\n",
    "# using reduce to compute maximum element from list \n",
    "print (\"The maximum element of the list is : \",end=\"\") \n",
    "print (functools.reduce(lambda a,b : a if a > b else b,lst)) \n"
   ]
  },
  {
   "cell_type": "markdown",
   "metadata": {},
   "source": [
    "## Recursion in Python"
   ]
  },
  {
   "cell_type": "markdown",
   "metadata": {},
   "source": [
    "- Python also accepts function recursion, which means a defined function can call itself."
   ]
  },
  {
   "cell_type": "markdown",
   "metadata": {},
   "source": [
    "- Recursion is a common mathematical and programming concept. It means that a function calls itself. This has the benefit of meaning that you can loop through data to reach a result."
   ]
  },
  {
   "cell_type": "markdown",
   "metadata": {},
   "source": [
    "- The developer should be very careful with recursion as it can be quite easy to slip into writing a function which never terminates, or one that uses excess amounts of memory or processor power. However, when written correctly recursion can be a very efficient and mathematically-elegant approach to programming."
   ]
  },
  {
   "cell_type": "markdown",
   "metadata": {},
   "source": [
    "### Example:\n",
    "- In this example we print the triangle series using recursion, tri_recursion() is a function that we have defined to call itself (\"recurse\"). We use the k variable as the data, which decrements (-1) every time we recurse. The recursion ends when the condition is not greater than 0 (i.e. when it is 0)."
   ]
  },
  {
   "cell_type": "code",
   "execution_count": 25,
   "metadata": {},
   "outputs": [
    {
     "name": "stdout",
     "output_type": "stream",
     "text": [
      "1\n",
      "3\n",
      "6\n",
      "10\n",
      "15\n",
      "21\n",
      "\n",
      "\n",
      "Recursion Example last digit Results:  21\n"
     ]
    }
   ],
   "source": [
    "### Example\n",
    "## Tri_recursion function\n",
    "def tri_recursion(k):\n",
    "    if(k > 0):\n",
    "        result = k + tri_recursion(k - 1)\n",
    "        print(result)\n",
    "    else:\n",
    "        result = 0\n",
    "    return result\n",
    "\n",
    "## Tri_recursion function calling\n",
    "print(\"\\n\\nRecursion Example last digit Results: \", tri_recursion(6))"
   ]
  },
  {
   "cell_type": "code",
   "execution_count": null,
   "metadata": {},
   "outputs": [],
   "source": [
    "## Do it Yourself\n",
    "## Ques:\n",
    "    Let's learn some new Python concepts! You have to generate a list of the first N fibonacci numbers, 0 being the first \n",
    "    number. Then, apply the map function and a lambda expression to cube each fibonacci number and print the list.\n",
    "\n",
    "# Concept:\n",
    "    The map() function applies a function to every member of an iterable and returns the result. It takes two parameters:\n",
    "    first, the function that is to be applied and secondly, the iterables.\n",
    "    Let's say you are given a list of names, and you have to print a list that contains the length of each name.\n",
    "    \n",
    "## Example\n",
    "    >> print (list(map(len, ['Tina', 'Raj', 'Tom'])))  \n",
    "    [4, 3, 3]  \n",
    "    Lambda is a single expression anonymous function often used as an inline function. In simple words, it is a function that has only one line in its body. It proves very handy in functional and GUI programming.\n",
    "\n",
    "    >> sum = lambda a, b, c: a + b + c\n",
    "    >> sum(1, 2, 3)\n",
    "    6\n",
    "    \n",
    "\n",
    "# Note:\n",
    "    Lambda functions cannot use the return statement and can only have a single expression. Unlike def, which creates a\n",
    "    function and assigns it a name, lambda creates a function and returns the function itself. Lambda can be used inside \n",
    "    lists and dictionaries.\n",
    "\n",
    "# Input Format:\n",
    "    One line of input: an integer N.\n",
    "\n",
    "\n",
    "# Output Format:\n",
    "    A list on a single line containing the cubes of the first N fibonacci numbers.\n",
    "\n",
    "# Sample Input:\n",
    "    5\n",
    "    \n",
    "# Sample Output\n",
    "    [0, 1, 1, 8, 27]\n",
    "\n",
    "Explanation:\n",
    "    The first  fibonacci numbers are [0,1,1,2,3], and their cubes are [0,1,1,8,27]."
   ]
  },
  {
   "cell_type": "code",
   "execution_count": null,
   "metadata": {},
   "outputs": [],
   "source": [
    "## Ques:\n",
    "    You are given an integer V followed by N email addresses. Your task is to print a list containing only valid email\n",
    "    addresses in lexicographical order.\n",
    "\n",
    "## Valid email addresses must follow these rules:\n",
    "    - It must have the username@websitename.extension format type.\n",
    "    - The username can only contain letters, digits, dashes and underscores.\n",
    "    - The website name can only have letters and digits.\n",
    "    - The maximum length of the extension is 3.\n",
    "\n",
    "# Concept\n",
    "    A filter takes a function returning True or False and applies it to a sequence, returning a list of only those members\n",
    "    of the sequence where the function returned True. A Lambda function can be used with filters.\n",
    "\n",
    "    Let's say you have to make a list of the squares of integers from 0 to 9 (both included).\n",
    "\n",
    "    >> l = list(range(10))\n",
    "    >> l = list(map(lambda x:x*x, l))\n",
    "    Now, you only require those elements that are greater than 10 but less than 80.\n",
    "\n",
    "    >> l = list(filter(lambda x: x > 10 and x < 80, l))\n",
    "\n",
    "# Input Format:\n",
    "        The first line of input is the integer N, the number of email addresses.\n",
    "    N lines follow, each containing a string.\n",
    "\n",
    "# Constraints:\n",
    "    Each line is a non-empty string.\n",
    "\n",
    "# Output Format:\n",
    "    Output a list containing the valid email addresses in lexicographical order. If the list is empty, just output an \n",
    "    empty list, [].\n",
    "\n",
    "# Sample Input:\n",
    "    3\n",
    "    lara@hackerrank.com\n",
    "    brian-23@hackerrank.com\n",
    "    britts_54@hackerrank.com\n",
    "\n",
    "# Sample Output:\n",
    "    ['brian-23@hackerrank.com', 'britts_54@hackerrank.com', 'lara@hackerrank.com']"
   ]
  },
  {
   "cell_type": "code",
   "execution_count": null,
   "metadata": {},
   "outputs": [],
   "source": [
    "# Ques:\n",
    "    Given a list of rational numbers,find their product.\n",
    "\n",
    "# Concept:\n",
    "    The reduce() function applies a function of two arguments cumulatively on a list of objects in succession from left to\n",
    "    right to reduce it to one value. Say you have a list, say [1,2,3] and you have to find its sum.\n",
    "\n",
    "    >>> reduce(lambda x, y : x + y,[1,2,3])\n",
    "    6\n",
    "    You can also define an initial value. If it is specified, the function will assume initial value as the value given, and then reduce. It is equivalent to adding the initial value at the beginning of the list. For example:\n",
    "\n",
    "    >>> reduce(lambda x, y : x + y, [1,2,3], -3)\n",
    "    3\n",
    "\n",
    "    >>> from fractions import gcd\n",
    "    >>> reduce(gcd, [2,4,8], 3)\n",
    "    1\n",
    "    \n",
    "# Input Format:\n",
    "    First line contains n, the number of rational numbers.\n",
    "    The i-th of next n lines contain two integers each, the numerator( Ni ) and denominator( Di ) of the i-th rational number in the \n",
    "    list.\n",
    "\n",
    "\n",
    "# Output Format:\n",
    "    Print only one line containing the numerator and denominator of the product of the numbers in the list in its simplest\n",
    "    form, i.e. numerator and denominator have no common divisor other than 1.\n",
    "\n",
    "# Sample Input:\n",
    "    3\n",
    "    1 2\n",
    "    3 4\n",
    "    10 6\n",
    "    \n",
    "# Sample Output:\n",
    "    5 8\n",
    "    \n",
    "# Explanation:\n",
    "    Required product is(1/2)(3/4)(10/6) = 5/8\n",
    "    \n",
    "    \n",
    "    \n",
    "### Use this code....\n",
    "from fractions import Fraction\n",
    "from functools import reduce\n",
    "\n",
    "def product(fracs):\n",
    "    t = # complete this line with a reduce statement  ## Write you code here\n",
    "    return t.numerator, t.denominator\n",
    "\n",
    "if __name__ == '__main__':\n",
    "    fracs = []\n",
    "    for _ in range(int(input())):\n",
    "        fracs.append(Fraction(*map(int, input().split())))\n",
    "    result = product(fracs)\n",
    "    print(*result)"
   ]
  },
  {
   "cell_type": "code",
   "execution_count": null,
   "metadata": {},
   "outputs": [],
   "source": [
    "### Ques:\n",
    "    You are a bank account hacker.Initially you have 1 rupee in your account, and you want exactly N rupees in your account.\n",
    "    You wrote two hacks, First hack can multiply the amount of money you own by 10, while the second can multiply it by 20.\n",
    "    These hacks can be used any number of time . Can you achieve the desired amount N using these hacks.\n",
    "    \n",
    "# Constraints:\n",
    "    1<=T<=100\n",
    "    1<=N<=10^12\n",
    "\n",
    "# Input Format:\n",
    "    The first line of the input contains a single integer T denoting the number of test cases.\n",
    "    The description of T test cases follows.The first and only line of each test case contains a single integer N.  \n",
    "\n",
    "# Output Format:\n",
    "    For each test case, print a single line containing the string \"Yes\" if you can make exactly N rupees or \"No\" otherwise.\n",
    "\n",
    "# SAMPLE INPUT \n",
    "    5\n",
    "    1\n",
    "    2\n",
    "    10\n",
    "    25\n",
    "    200\n",
    "\n",
    "# SAMPLE OUTPUT \n",
    "    Yes\n",
    "    No\n",
    "    Yes\n",
    "    No\n",
    "    Yes\n",
    "\n",
    "# Explanation\n",
    "    In the last case hacker can get Rs. 200 by first using 10x hack and then using 20x hack once.\n",
    "    1 -> 10 -> 200  ### Hint : Use recursion"
   ]
  }
 ],
 "metadata": {
  "celltoolbar": "Slideshow",
  "hide_input": false,
  "kernelspec": {
   "display_name": "Python 3",
   "language": "python",
   "name": "python3"
  },
  "language_info": {
   "codemirror_mode": {
    "name": "ipython",
    "version": 3
   },
   "file_extension": ".py",
   "mimetype": "text/x-python",
   "name": "python",
   "nbconvert_exporter": "python",
   "pygments_lexer": "ipython3",
   "version": "3.8.5"
  },
  "toc": {
   "base_numbering": 1,
   "nav_menu": {},
   "number_sections": true,
   "sideBar": true,
   "skip_h1_title": false,
   "title_cell": "Table of Contents",
   "title_sidebar": "Contents",
   "toc_cell": false,
   "toc_position": {},
   "toc_section_display": true,
   "toc_window_display": false
  },
  "varInspector": {
   "cols": {
    "lenName": 16,
    "lenType": 16,
    "lenVar": 40
   },
   "kernels_config": {
    "python": {
     "delete_cmd_postfix": "",
     "delete_cmd_prefix": "del ",
     "library": "var_list.py",
     "varRefreshCmd": "print(var_dic_list())"
    },
    "r": {
     "delete_cmd_postfix": ") ",
     "delete_cmd_prefix": "rm(",
     "library": "var_list.r",
     "varRefreshCmd": "cat(var_dic_list()) "
    }
   },
   "types_to_exclude": [
    "module",
    "function",
    "builtin_function_or_method",
    "instance",
    "_Feature"
   ],
   "window_display": false
  }
 },
 "nbformat": 4,
 "nbformat_minor": 2
}
