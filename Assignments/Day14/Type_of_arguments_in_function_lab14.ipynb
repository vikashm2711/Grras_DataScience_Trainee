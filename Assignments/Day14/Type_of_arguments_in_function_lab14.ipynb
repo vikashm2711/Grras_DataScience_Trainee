{
 "cells": [
  {
   "cell_type": "markdown",
   "metadata": {
    "slideshow": {
     "slide_type": "slide"
    }
   },
   "source": [
    "## Arguments"
   ]
  },
  {
   "cell_type": "markdown",
   "metadata": {
    "slideshow": {
     "slide_type": "fragment"
    }
   },
   "source": [
    "- Information can be passed into functions as arguments."
   ]
  },
  {
   "cell_type": "markdown",
   "metadata": {
    "slideshow": {
     "slide_type": "fragment"
    }
   },
   "source": [
    "- Arguments are specified after the function name, inside the parentheses. You can add as many arguments as you want, just separate them with a comma."
   ]
  },
  {
   "cell_type": "markdown",
   "metadata": {
    "slideshow": {
     "slide_type": "slide"
    }
   },
   "source": [
    "#### Example\n",
    "###### The following example has a function with one argument (fname). When the function is called, we pass along a first name, which is used inside the function to print the full name:"
   ]
  },
  {
   "cell_type": "code",
   "execution_count": 1,
   "metadata": {
    "slideshow": {
     "slide_type": "fragment"
    }
   },
   "outputs": [
    {
     "name": "stdout",
     "output_type": "stream",
     "text": [
      "Emil Refsnes\n",
      "Tobias Refsnes\n",
      "Linus Refsnes\n"
     ]
    }
   ],
   "source": [
    "def my_function(fname):\n",
    "    print(fname + \" Refsnes\")\n",
    "\n",
    "my_function(\"Emil\")\n",
    "my_function(\"Tobias\")\n",
    "my_function(\"Linus\")"
   ]
  },
  {
   "cell_type": "markdown",
   "metadata": {
    "slideshow": {
     "slide_type": "slide"
    }
   },
   "source": [
    "<img src='https://drive.google.com/uc?id=1w0OlpiHh9sH7mwdbnoTWGeHhyC9pgG8x' height=400px width=500px> "
   ]
  },
  {
   "cell_type": "markdown",
   "metadata": {
    "slideshow": {
     "slide_type": "slide"
    }
   },
   "source": [
    "## Function Arguments"
   ]
  },
  {
   "cell_type": "markdown",
   "metadata": {
    "slideshow": {
     "slide_type": "fragment"
    }
   },
   "source": [
    "- You can call a function by using the following types of formal arguments:"
   ]
  },
  {
   "cell_type": "markdown",
   "metadata": {
    "slideshow": {
     "slide_type": "fragment"
    }
   },
   "source": [
    "1. Required arguments"
   ]
  },
  {
   "cell_type": "markdown",
   "metadata": {
    "slideshow": {
     "slide_type": "fragment"
    }
   },
   "source": [
    "2. Keyword arguments"
   ]
  },
  {
   "cell_type": "markdown",
   "metadata": {
    "slideshow": {
     "slide_type": "fragment"
    }
   },
   "source": [
    "3. Default arguments"
   ]
  },
  {
   "cell_type": "markdown",
   "metadata": {
    "slideshow": {
     "slide_type": "fragment"
    }
   },
   "source": [
    "4. Variable-length arguments"
   ]
  },
  {
   "cell_type": "markdown",
   "metadata": {
    "slideshow": {
     "slide_type": "slide"
    }
   },
   "source": [
    "### 1. Required arguments"
   ]
  },
  {
   "cell_type": "markdown",
   "metadata": {
    "slideshow": {
     "slide_type": "fragment"
    }
   },
   "source": [
    "- Required arguments are the arguments passed to a function in correct positional order. Here, the number of arguments in the function call should match exactly with the function definition."
   ]
  },
  {
   "cell_type": "markdown",
   "metadata": {
    "slideshow": {
     "slide_type": "slide"
    }
   },
   "source": [
    "#### Example\n",
    "###### Following example to show that \"To call the function printme(), you definitely need to pass one argument, otherwise it gives a syntax error\"."
   ]
  },
  {
   "cell_type": "code",
   "execution_count": 2,
   "metadata": {
    "slideshow": {
     "slide_type": "fragment"
    }
   },
   "outputs": [
    {
     "ename": "TypeError",
     "evalue": "printme() missing 1 required positional argument: 'str'",
     "output_type": "error",
     "traceback": [
      "\u001b[1;31m----------------------------------------------------------------------\u001b[0m",
      "\u001b[1;31mTypeError\u001b[0m                            Traceback (most recent call last)",
      "\u001b[1;32m<ipython-input-2-dbbecdfc3968>\u001b[0m in \u001b[0;36m<module>\u001b[1;34m\u001b[0m\n\u001b[0;32m      6\u001b[0m \u001b[1;33m\u001b[0m\u001b[0m\n\u001b[0;32m      7\u001b[0m \u001b[1;31m# Now you can call printme function\u001b[0m\u001b[1;33m\u001b[0m\u001b[1;33m\u001b[0m\u001b[1;33m\u001b[0m\u001b[0m\n\u001b[1;32m----> 8\u001b[1;33m \u001b[0mprintme\u001b[0m\u001b[1;33m(\u001b[0m\u001b[1;33m)\u001b[0m\u001b[1;33m\u001b[0m\u001b[1;33m\u001b[0m\u001b[0m\n\u001b[0m",
      "\u001b[1;31mTypeError\u001b[0m: printme() missing 1 required positional argument: 'str'"
     ]
    }
   ],
   "source": [
    "# Function definition is here\n",
    "def Printme( string ):\n",
    "    \"This prints a passed string into this function\"\n",
    "    print (string)\n",
    "    return\n",
    "\n",
    "# Now you can call printme function\n",
    "Printme()"
   ]
  },
  {
   "cell_type": "markdown",
   "metadata": {
    "slideshow": {
     "slide_type": "slide"
    }
   },
   "source": [
    "### 2. Keyword arguments"
   ]
  },
  {
   "cell_type": "markdown",
   "metadata": {
    "slideshow": {
     "slide_type": "fragment"
    }
   },
   "source": [
    "- Keyword arguments are related to the function calls. When you use keyword arguments in a function call, the caller identifies the arguments by the parameter name."
   ]
  },
  {
   "cell_type": "markdown",
   "metadata": {
    "slideshow": {
     "slide_type": "fragment"
    }
   },
   "source": [
    "- This allows you to skip arguments or place them out of order because the Python interpreter is able to use the keywords provided to match the values with parameters."
   ]
  },
  {
   "cell_type": "markdown",
   "metadata": {
    "slideshow": {
     "slide_type": "slide"
    }
   },
   "source": [
    "#### Example\n",
    "###### Following example to show that keyword calls to the printinfo() function in the following ways."
   ]
  },
  {
   "cell_type": "code",
   "execution_count": 2,
   "metadata": {
    "slideshow": {
     "slide_type": "fragment"
    }
   },
   "outputs": [
    {
     "name": "stdout",
     "output_type": "stream",
     "text": [
      "{'name': 'simran', 'subject': 'python', 'sub2': 'ds', 'sub3': 'development'}\n",
      "name = simran\n",
      "subject = python\n",
      "sub2 = ds\n",
      "sub3 = development\n"
     ]
    }
   ],
   "source": [
    "# Function definition is here\n",
    "def printinfo(**kwargs):  #keyword arguments\n",
    "    print(kwargs)\n",
    "    for key,value in kwargs.items():\n",
    "        print(key,\"=\",value)\n",
    "\n",
    "# Now you can call printinfo function\n",
    "printinfo(name=\"simran\",subject=\"python\",sub2=\"ds\",sub3=\"development\")"
   ]
  },
  {
   "cell_type": "markdown",
   "metadata": {
    "slideshow": {
     "slide_type": "slide"
    }
   },
   "source": [
    "### 3. Default arguments"
   ]
  },
  {
   "cell_type": "markdown",
   "metadata": {
    "slideshow": {
     "slide_type": "fragment"
    }
   },
   "source": [
    "- A default argument is an argument that assumes a default value if a value is not provided in the function call for that argument. "
   ]
  },
  {
   "cell_type": "markdown",
   "metadata": {
    "slideshow": {
     "slide_type": "slide"
    }
   },
   "source": [
    "#### Example\n",
    "##### The following example gives an idea on default arguments, it prints default d if it is not passed then take 0."
   ]
  },
  {
   "cell_type": "code",
   "execution_count": 3,
   "metadata": {
    "slideshow": {
     "slide_type": "fragment"
    }
   },
   "outputs": [
    {
     "name": "stdout",
     "output_type": "stream",
     "text": [
      "Positional Argument :  1\n",
      "Default Argument :  10\n",
      "Variable Length :  ()\n",
      "Keywords Argument :  {}\n",
      "\n",
      "Positional Argument :  1\n",
      "Default Argument :  10\n",
      "Variable Length :  ()\n",
      "Keywords Argument :  {}\n",
      "\n",
      "Positional Argument :  10\n",
      "Default Argument :  1\n",
      "Variable Length :  ()\n",
      "Keywords Argument :  {}\n",
      "\n",
      "Positional Argument :  10\n",
      "Default Argument :  1\n",
      "Variable Length :  ()\n",
      "Keywords Argument :  {'a': 10, 'b': 20}\n",
      "\n",
      "Positional Argument :  30\n",
      "Default Argument :  40\n",
      "Variable Length :  ()\n",
      "Keywords Argument :  {'a': 10, 'b': 20}\n",
      "\n",
      "Positional Argument :  10\n",
      "Default Argument :  20\n",
      "Variable Length :  (30, 40)\n",
      "Keywords Argument :  {'a': 'hello', 'b': 'world'}\n",
      "\n"
     ]
    }
   ],
   "source": [
    "# Function definition is here\n",
    "def arguments(pos,d=0,*args,**kwargs):\n",
    "    print(\"Positional Argument : \",pos)\n",
    "    print(\"Default Argument : \",d)\n",
    "    print(\"Variable Length : \",args)\n",
    "    print(\"Keywords Argument : \",kwargs)\n",
    "    print()\n",
    "\n",
    "# Now you can call printinfo function\n",
    "arguments(1,10)\n",
    "arguments(d=10,pos=1)\n",
    "arguments(pos=10,d=1)\n",
    "arguments(pos=10,d=1,a=10,b=20)\n",
    "arguments(a=10,b=20,pos=30,d=40)\n",
    "arguments(10,20,30,40,a=\"hello\",b=\"world\")"
   ]
  },
  {
   "cell_type": "markdown",
   "metadata": {
    "slideshow": {
     "slide_type": "slide"
    }
   },
   "source": [
    "### 4. Variable-length arguments"
   ]
  },
  {
   "cell_type": "markdown",
   "metadata": {
    "slideshow": {
     "slide_type": "fragment"
    }
   },
   "source": [
    "- You may need to process a function for more arguments than you specified while defining the function."
   ]
  },
  {
   "cell_type": "markdown",
   "metadata": {
    "slideshow": {
     "slide_type": "fragment"
    }
   },
   "source": [
    "- These arguments are called variable-length arguments and are not named in the function definition, unlike required and default arguments."
   ]
  },
  {
   "cell_type": "markdown",
   "metadata": {
    "slideshow": {
     "slide_type": "slide"
    }
   },
   "source": [
    "#### Syntax for a function with non-keyword variable arguments is this −"
   ]
  },
  {
   "cell_type": "code",
   "execution_count": null,
   "metadata": {
    "slideshow": {
     "slide_type": "fragment"
    }
   },
   "outputs": [],
   "source": [
    "def functionname([formal_args,] *var_args_tuple ):\n",
    "    \"function_docstring\"\n",
    "    function_suite\n",
    "    return [expression]"
   ]
  },
  {
   "cell_type": "markdown",
   "metadata": {
    "slideshow": {
     "slide_type": "fragment"
    }
   },
   "source": [
    "###### Note: An asterisk (*) is placed before the variable name that holds the values of all nonkeyword variable arguments. This tuple remains empty if no additional arguments are specified during the function call."
   ]
  },
  {
   "cell_type": "markdown",
   "metadata": {
    "slideshow": {
     "slide_type": "slide"
    }
   },
   "source": [
    "#### Example\n",
    "###### The following example gives an idea on Variable-length arguments, This example show you if you pass one argument then its print that argument or when you pass multiple arguments that time it also work and print those elements.."
   ]
  },
  {
   "cell_type": "code",
   "execution_count": 4,
   "metadata": {
    "slideshow": {
     "slide_type": "slide"
    }
   },
   "outputs": [
    {
     "name": "stdout",
     "output_type": "stream",
     "text": [
      "Output is: \n",
      "10\n",
      "Output is: \n",
      "70\n",
      "60\n",
      "50\n"
     ]
    }
   ],
   "source": [
    "# Function definition is here\n",
    "def printinfo( arg1, *vartuple ):\n",
    "    \"This prints a variable passed arguments\"\n",
    "    print (\"Output is: \")\n",
    "    print (arg1)\n",
    "    for var in vartuple:\n",
    "        print (var)\n",
    "    return\n",
    "\n",
    "# Now you can call printinfo function\n",
    "printinfo( 10 )\n",
    "printinfo( 70, 60, 50 )"
   ]
  },
  {
   "cell_type": "markdown",
   "metadata": {
    "slideshow": {
     "slide_type": "slide"
    }
   },
   "source": [
    "## Do it yourself, Use the function to the solve all questions."
   ]
  },
  {
   "cell_type": "code",
   "execution_count": null,
   "metadata": {
    "slideshow": {
     "slide_type": "slide"
    }
   },
   "outputs": [],
   "source": [
    "# Ques:\n",
    "    You have a function char_count is given and in this function the docstring is written using this Complete the following\n",
    "    function according to its docstring. Here three arguments first is string, second and third is list using this complete\n",
    "    the function.\n",
    "    \n",
    "    def char_count(s: str, words: List[str]) -> List[int]:\n",
    "        \"\"\"Return a new list in which each item is the number of times\n",
    "            that the character at the corresponding position of s appears in\n",
    "            the string at the corresponding position of words.\n",
    "            Lowercase and uppercase characters are considered different.\n",
    "            Precondition: len(s) == len(words)\n",
    "            # In the example below, 'a' is in 'apple' 1 time,\n",
    "            # 'n' is in 'banana' 2 times, and\n",
    "            # 'b' is in 'orange' 0 times.\n",
    "            >>> char_count('anb', ['apple', 'banana', 'orange'])\n",
    "            [1, 2, 0]\n",
    "            >>> char_count('xdaao', ['cat', 'dog', 'cat', 'banana', 'cool'])\n",
    "            [0, 1, 1, 3, 2]\n",
    "            >>> char_count('fW', ['sandwiches', 'waffles'])\n",
    "            [0, 0]\n",
    "        \"\"\"\n",
    "        ## Start code here"
   ]
  },
  {
   "cell_type": "code",
   "execution_count": null,
   "metadata": {
    "slideshow": {
     "slide_type": "slide"
    }
   },
   "outputs": [],
   "source": [
    "# Ques:\n",
    "    Little Jhool always wanted to have some psychic powers so that he could showoff his skills, and magic to people and\n",
    "    impress them. (Specially, his girlfriend Big Jhool!) But, in spite all his efforts, hardwork, dedication, Googling, \n",
    "    watching youtube videos he couldnot garner any psychic abilities!\n",
    "\n",
    "    He knew everyone was making fun of him, so to stop all of that - he came up with a smart plan. Anyone who came to him\n",
    "    to know about their future, he asked them to write a binary number for him - and then, he smartly told them if the\n",
    "    future for that person had good in store, or bad.\n",
    "\n",
    "    The algorithm which Little Jhool follows is, as following:\n",
    "\n",
    "    If the binary number written by the person has six consecutive , or , his future is bad.\n",
    "    Otherwise, he says that their future is good.\n",
    "    \n",
    "# Input format:\n",
    "    Single line contains a binary number.\n",
    "\n",
    "# Output format:\n",
    "    You need to print \"Good luck!\" (Without quotes, and WITH exclamation mark!) if the Jhool is going to tell them that they're going to have a good time. Else, print \"Sorry, sorry!\" if the person is going to be told that he'll have a hard time!\n",
    "\n",
    "# Constraints:\n",
    "    The binary number will be in string format, with the maximum length being  characters.\n",
    "\n",
    "# SAMPLE INPUT:\n",
    "    0001111110\n",
    "\n",
    "# SAMPLE OUTPUT:\n",
    "    Sorry, sorry!\n",
    "    \n",
    "# Explanation:\n",
    "    Since the binary number given has six consecutive 1s, little Jhool tells the man that he's going to have a bad time!"
   ]
  },
  {
   "cell_type": "code",
   "execution_count": null,
   "metadata": {
    "slideshow": {
     "slide_type": "slide"
    }
   },
   "outputs": [],
   "source": [
    "# Ques:\n",
    "    You have c number of chocolates that you want to distribute between your n students. The intelligence level of the \n",
    "    students is not the same, therefore, you decide to distribute the chocolates in such a way that a smarter student gets \n",
    "    strictly more chocolates than the ones who are less smarter.\n",
    "    \n",
    "    The difference between the chocolates received by any two adjacent students must be exactly one. Formally, if the least\n",
    "    intelligent student gets k chocolates, then others must get k+1, k+2, k+3,... At the same time, your task is to minimize\n",
    "    the number of chocolates that are left (if any) after distributing those among students. Determine the minimum number of chocolates\n",
    "    left.\n",
    "\n",
    "Note:\n",
    "    It is mandatory to give chocolates to everyone if it is possible to do so. In other words, it is not possible that \n",
    "    some students are getting chocolates and others are not.\n",
    "    \n",
    "Input format:\n",
    "    First line: T denoting the number of test cases T.\n",
    "    For each test case (next T lines):\n",
    "    First line: Two space-separated integers c and n\n",
    "        \n",
    "Output format:\n",
    "    For each test case, print the minimum number of chocolates left in a new line.\n",
    "\n",
    "SAMPLE INPUT:\n",
    "    2\n",
    "    20 3\n",
    "    13 5\n",
    "\n",
    "SAMPLE OUTPUT:\n",
    "    2\n",
    "    13\n",
    "    \n",
    "Explanation:\n",
    "    In the first test case the 3 sutdents will get 5, 6, 7 chocolates. This will make the total count to 18.\n",
    "    Thus 20 - 18 = 2 chocolates remain.\n",
    "    In the second test case, there is no valid way to distribute the chocolates. So all the chocolates remain."
   ]
  },
  {
   "cell_type": "code",
   "execution_count": null,
   "metadata": {
    "slideshow": {
     "slide_type": "slide"
    }
   },
   "outputs": [],
   "source": [
    "# Ques:\n",
    "    You are given the binary representation of a number. You must consider the highest number of set bits in the binary\n",
    "    representation to complete your task. For example, 23 is represented as 10111 in binary and it contains four set bits (1-bits). \n",
    "    You are also given a number N and your task is to determine the number that is less than or equal to N and contains the \n",
    "    maximum number of set bits in its binary representation. \n",
    "    \n",
    "    In other words, print a number K that is less than or equal to N such that the number of set bits in the binary\n",
    "    representation of K must be maximum\n",
    "\n",
    "# Input format:\n",
    "    First line: An integer T denoting the number of test cases\n",
    "    For each test case:\n",
    "    First line: An integer N\n",
    "        \n",
    "# Output format:\n",
    "    For each test case, print the answer on a new line denoting a number K that is less than or equal to N such that the \n",
    "    number of set bits in the binary representation of K must be maximum.  \n",
    "\n",
    "# SAMPLE INPUT:\n",
    "    1\n",
    "    345\n",
    "\n",
    "# SAMPLE OUTPUT: \n",
    "    255\n",
    "\n",
    "# Explanation:\n",
    "    The number 255 (< 345) has most number of set bits."
   ]
  }
 ],
 "metadata": {
  "celltoolbar": "Slideshow",
  "kernelspec": {
   "display_name": "Python 3",
   "language": "python",
   "name": "python3"
  },
  "language_info": {
   "codemirror_mode": {
    "name": "ipython",
    "version": 3
   },
   "file_extension": ".py",
   "mimetype": "text/x-python",
   "name": "python",
   "nbconvert_exporter": "python",
   "pygments_lexer": "ipython3",
   "version": "3.7.3"
  }
 },
 "nbformat": 4,
 "nbformat_minor": 2
}
