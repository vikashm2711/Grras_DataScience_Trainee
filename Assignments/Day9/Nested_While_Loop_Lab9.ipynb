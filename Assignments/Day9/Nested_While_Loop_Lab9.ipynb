{
 "cells": [
  {
   "cell_type": "markdown",
   "metadata": {
    "slideshow": {
     "slide_type": "slide"
    }
   },
   "source": [
    "# Nested While Loop "
   ]
  },
  {
   "cell_type": "markdown",
   "metadata": {
    "slideshow": {
     "slide_type": "fragment"
    }
   },
   "source": [
    "- Python programming language allows to use one loop inside another loop. "
   ]
  },
  {
   "cell_type": "markdown",
   "metadata": {
    "slideshow": {
     "slide_type": "fragment"
    }
   },
   "source": [
    "- Following section shows few examples to illustrate the concept."
   ]
  },
  {
   "cell_type": "markdown",
   "metadata": {
    "slideshow": {
     "slide_type": "slide"
    }
   },
   "source": [
    "### Syntax"
   ]
  },
  {
   "cell_type": "code",
   "execution_count": null,
   "metadata": {
    "slideshow": {
     "slide_type": "fragment"
    }
   },
   "outputs": [],
   "source": [
    "while expression:\n",
    "    while expression:\n",
    "        statement(s)\n",
    "    statement(s)"
   ]
  },
  {
   "cell_type": "markdown",
   "metadata": {
    "slideshow": {
     "slide_type": "fragment"
    }
   },
   "source": [
    "#### Note : A final note on loop nesting is that you can put any type of loop inside of any other type of loop. For example a for loop can be inside a while loop or vice versa."
   ]
  },
  {
   "cell_type": "markdown",
   "metadata": {
    "slideshow": {
     "slide_type": "slide"
    }
   },
   "source": [
    "<!-- https://drive.google.com/file/d/1_c4phObYV9fJo4zz1WoNFmReO0SCHR5m/view?usp=sharing -->\n",
    "![image](https://drive.google.com/uc?export=view&id=1_c4phObYV9fJo4zz1WoNFmReO0SCHR5m \"While_nested\")"
   ]
  },
  {
   "cell_type": "markdown",
   "metadata": {
    "slideshow": {
     "slide_type": "slide"
    }
   },
   "source": [
    "#### Example: The following program uses a nested for loop to find the prime numbers from 2 to 50"
   ]
  },
  {
   "cell_type": "code",
   "execution_count": 4,
   "metadata": {
    "slideshow": {
     "slide_type": "fragment"
    }
   },
   "outputs": [
    {
     "name": "stdout",
     "output_type": "stream",
     "text": [
      "2  is prime\n",
      "3  is prime\n",
      "5  is prime\n",
      "7  is prime\n",
      "11  is prime\n",
      "13  is prime\n",
      "17  is prime\n",
      "19  is prime\n",
      "23  is prime\n",
      "29  is prime\n",
      "31  is prime\n",
      "37  is prime\n",
      "41  is prime\n",
      "43  is prime\n",
      "47  is prime\n"
     ]
    }
   ],
   "source": [
    "i = 2\n",
    "while(i < 50):\n",
    "    j = 2\n",
    "    while(j <= (i/j)):   ## two loop is used..\n",
    "        if not(i%j): break\n",
    "        j = j + 1\n",
    "    if (j > i/j) : print (i, \" is prime\")\n",
    "    i = i + 1"
   ]
  },
  {
   "cell_type": "code",
   "execution_count": null,
   "metadata": {
    "slideshow": {
     "slide_type": "slide"
    }
   },
   "outputs": [],
   "source": [
    "# Do it Yourself\n",
    "Ques: Write a python program to print 'hollow square star' pattern with diagonal using while loops. Your input is number \n",
    "    and according to that you need to print the pattern.\n",
    "\n",
    "Input Format: Enter the number.\n",
    "Output Format:  Print the hollow square star pattern.\n",
    "    \n",
    "Example:\n",
    "    Input: Enter a number: 5\n",
    "    Output : \n",
    "        *****\n",
    "        ** **\n",
    "        * * *\n",
    "        ** **\n",
    "        *****"
   ]
  },
  {
   "cell_type": "code",
   "execution_count": null,
   "metadata": {
    "slideshow": {
     "slide_type": "slide"
    }
   },
   "outputs": [],
   "source": [
    "Ques: Write a python program to print the given chessboard number pattern of 1's and 0's using while nested loop. Your input\n",
    "    is row number and column number and according to that you need to print the pattern.\n",
    "\n",
    "Input Format: Enter the Row and columns number.\n",
    "Output Format:  Print the chessboard number pattern.\n",
    "    \n",
    "Example:\n",
    "Input: \n",
    "    rows: 5\n",
    "    columns: 5\n",
    "Output:\n",
    "    10101\n",
    "    01010\n",
    "    10101\n",
    "    01010\n",
    "    10101"
   ]
  },
  {
   "cell_type": "code",
   "execution_count": null,
   "metadata": {
    "slideshow": {
     "slide_type": "slide"
    }
   },
   "outputs": [],
   "source": [
    "Ques: Write a program to input a number from user and find all factors of the given number using for nested while loop. Your \n",
    "    input is number and according to that find all the factors.\n",
    "\n",
    "Input Format: Enter the number.\n",
    "Output Format:  print the factors.\n",
    "    \n",
    "Example:\n",
    "Input: Number: 12\n",
    "Output: Factors of 12: 1, 2, 3, 4, 6, 12"
   ]
  },
  {
   "cell_type": "code",
   "execution_count": null,
   "metadata": {
    "slideshow": {
     "slide_type": "slide"
    }
   },
   "outputs": [],
   "source": [
    "Ques: Write a program to find all Perfect numbers between 1 to N. Python program to find all perfect numbers between given\n",
    "    range using nested while loops. \n",
    "\n",
    "Input Format: Enter the Upper limit\n",
    "Output Format:  Print The perfect Square number.\n",
    "\n",
    "Example:\n",
    "Input: Input upper limit: 100\n",
    "Output: Perfect numbers between 1 to 100: 6, 28\n",
    "\n",
    "Explation:\n",
    "For example: 6 is the first perfect number\n",
    "Proper divisors of 6 are 1, 2, 3\n",
    "Sum of its proper divisors = 1 + 2 + 3 = 6.\n",
    "Hence 6 is a perfect number."
   ]
  }
 ],
 "metadata": {
  "celltoolbar": "Slideshow",
  "hide_input": false,
  "kernelspec": {
   "display_name": "Python 3",
   "language": "python",
   "name": "python3"
  },
  "language_info": {
   "codemirror_mode": {
    "name": "ipython",
    "version": 3
   },
   "file_extension": ".py",
   "mimetype": "text/x-python",
   "name": "python",
   "nbconvert_exporter": "python",
   "pygments_lexer": "ipython3",
   "version": "3.8.5"
  },
  "toc": {
   "base_numbering": 1,
   "nav_menu": {},
   "number_sections": true,
   "sideBar": true,
   "skip_h1_title": false,
   "title_cell": "Table of Contents",
   "title_sidebar": "Contents",
   "toc_cell": false,
   "toc_position": {},
   "toc_section_display": true,
   "toc_window_display": false
  },
  "varInspector": {
   "cols": {
    "lenName": 16,
    "lenType": 16,
    "lenVar": 40
   },
   "kernels_config": {
    "python": {
     "delete_cmd_postfix": "",
     "delete_cmd_prefix": "del ",
     "library": "var_list.py",
     "varRefreshCmd": "print(var_dic_list())"
    },
    "r": {
     "delete_cmd_postfix": ") ",
     "delete_cmd_prefix": "rm(",
     "library": "var_list.r",
     "varRefreshCmd": "cat(var_dic_list()) "
    }
   },
   "types_to_exclude": [
    "module",
    "function",
    "builtin_function_or_method",
    "instance",
    "_Feature"
   ],
   "window_display": false
  }
 },
 "nbformat": 4,
 "nbformat_minor": 4
}
