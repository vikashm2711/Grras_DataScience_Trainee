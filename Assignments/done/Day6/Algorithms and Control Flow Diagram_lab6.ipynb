{
 "cells": [
  {
   "cell_type": "markdown",
   "metadata": {
    "slideshow": {
     "slide_type": "slide"
    }
   },
   "source": [
    "## Do it Yourself\n",
    "Ques: You have number is given N, Your task to calculate the factorial of this number. You have to write a alogorithms \n",
    "    and also create the flow diagram of the program. \n",
    "\n",
    "Example : \n",
    "Input Format: 5\n",
    "oOutput Format: 120 "
   ]
  },
  {
   "cell_type": "code",
   "execution_count": 4,
   "metadata": {},
   "outputs": [
    {
     "name": "stdout",
     "output_type": "stream",
     "text": [
      "Enter the number: 5\n",
      "120\n"
     ]
    }
   ],
   "source": [
    "s= int(input(\"Enter the number: \"))\n",
    "\n",
    "fact=1\n",
    "for i in range(1,s+1):\n",
    "    fact *=i\n",
    "    \n",
    "print(fact)"
   ]
  },
  {
   "cell_type": "markdown",
   "metadata": {
    "slideshow": {
     "slide_type": "slide"
    }
   },
   "source": [
    "Ques: You have given three number A, B, C. Your task to calculate which number is greater number among all of these . You \n",
    "    Work to write a program and algorithm of this task and also create the data/control flow diagram. \n",
    "    \n",
    "Example : \n",
    "Input Format: Enter Three Number : 23 56 12\n",
    "    \n",
    "Output Format: The Biggest Number : 56"
   ]
  },
  {
   "cell_type": "code",
   "execution_count": 7,
   "metadata": {},
   "outputs": [
    {
     "name": "stdout",
     "output_type": "stream",
     "text": [
      "Enter the three number: 23 56 12\n",
      "56 b is greater\n"
     ]
    }
   ],
   "source": [
    "a,b,c = map(eval,input(\"Enter the three number: \").split())\n",
    "\n",
    "if a>b and a>c:\n",
    "    print(f\"{a} a is greater\")\n",
    "elif b > c:\n",
    "    print (f\"{b} b is greater\")\n",
    "else:\n",
    "    print (f\"{c} c is greater\")"
   ]
  },
  {
   "cell_type": "markdown",
   "metadata": {
    "slideshow": {
     "slide_type": "slide"
    }
   },
   "source": [
    "# Dought\n",
    "Ques: You have two number is given A and B. Your task to calculate the Highest Common Factor(HCF) and Least Common \n",
    "    Multiple (LCM) of those number and write algorithm of this task and also create the data/control flow diagram. \n",
    "\n",
    "Example : \n",
    "Input Format: Enter Two Number : 9 24\n",
    "    \n",
    "Output Format: \n",
    "    Highest Common Factor(HCF) : 3\n",
    "    Least Common Multiple (LCM) : 72"
   ]
  },
  {
   "cell_type": "code",
   "execution_count": 8,
   "metadata": {},
   "outputs": [
    {
     "name": "stdout",
     "output_type": "stream",
     "text": [
      "enter the two number: 2 3\n"
     ]
    },
    {
     "data": {
      "text/plain": [
       "3"
      ]
     },
     "execution_count": 8,
     "metadata": {},
     "output_type": "execute_result"
    }
   ],
   "source": [
    "a,b = map(eval, input(\"enter the two number: \").split())\n",
    "\n",
    "c=max(a,b)\n",
    "\n",
    "\n",
    "for i in range ()"
   ]
  },
  {
   "cell_type": "code",
   "execution_count": null,
   "metadata": {},
   "outputs": [],
   "source": []
  }
 ],
 "metadata": {
  "celltoolbar": "Slideshow",
  "hide_input": false,
  "kernelspec": {
   "display_name": "Python 3",
   "language": "python",
   "name": "python3"
  },
  "language_info": {
   "codemirror_mode": {
    "name": "ipython",
    "version": 3
   },
   "file_extension": ".py",
   "mimetype": "text/x-python",
   "name": "python",
   "nbconvert_exporter": "python",
   "pygments_lexer": "ipython3",
   "version": "3.8.5"
  },
  "toc": {
   "base_numbering": 1,
   "nav_menu": {},
   "number_sections": true,
   "sideBar": true,
   "skip_h1_title": false,
   "title_cell": "Table of Contents",
   "title_sidebar": "Contents",
   "toc_cell": false,
   "toc_position": {},
   "toc_section_display": true,
   "toc_window_display": false
  },
  "varInspector": {
   "cols": {
    "lenName": 16,
    "lenType": 16,
    "lenVar": 40
   },
   "kernels_config": {
    "python": {
     "delete_cmd_postfix": "",
     "delete_cmd_prefix": "del ",
     "library": "var_list.py",
     "varRefreshCmd": "print(var_dic_list())"
    },
    "r": {
     "delete_cmd_postfix": ") ",
     "delete_cmd_prefix": "rm(",
     "library": "var_list.r",
     "varRefreshCmd": "cat(var_dic_list()) "
    }
   },
   "types_to_exclude": [
    "module",
    "function",
    "builtin_function_or_method",
    "instance",
    "_Feature"
   ],
   "window_display": false
  }
 },
 "nbformat": 4,
 "nbformat_minor": 4
}
