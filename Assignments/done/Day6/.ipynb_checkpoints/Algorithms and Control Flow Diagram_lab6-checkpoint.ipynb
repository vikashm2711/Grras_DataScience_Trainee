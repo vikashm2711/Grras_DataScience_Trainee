{
 "cells": [
  {
   "cell_type": "markdown",
   "metadata": {
    "slideshow": {
     "slide_type": "slide"
    }
   },
   "source": [
    "# Control Flow Graph"
   ]
  },
  {
   "cell_type": "markdown",
   "metadata": {
    "slideshow": {
     "slide_type": "fragment"
    }
   },
   "source": [
    "- A Control Flow Graph (CFG) is the graphical representation of control flow or computation during the execution of programs or applications. "
   ]
  },
  {
   "cell_type": "markdown",
   "metadata": {
    "slideshow": {
     "slide_type": "fragment"
    }
   },
   "source": [
    "- Control flow graphs are mostly used in static analysis as well as compiler applications, as they can accurately represent the flow inside of a program unit. "
   ]
  },
  {
   "cell_type": "markdown",
   "metadata": {
    "slideshow": {
     "slide_type": "fragment"
    }
   },
   "source": [
    "- The control flow graph was originally developed by Frances E. Allen."
   ]
  },
  {
   "cell_type": "markdown",
   "metadata": {
    "slideshow": {
     "slide_type": "slide"
    }
   },
   "source": [
    "## Characteristics of Control Flow Graph:"
   ]
  },
  {
   "cell_type": "markdown",
   "metadata": {
    "slideshow": {
     "slide_type": "fragment"
    }
   },
   "source": [
    "- Control flow graph is process oriented."
   ]
  },
  {
   "cell_type": "markdown",
   "metadata": {
    "slideshow": {
     "slide_type": "fragment"
    }
   },
   "source": [
    "- Control flow graph shows all the paths that can be traversed during a program execution."
   ]
  },
  {
   "cell_type": "markdown",
   "metadata": {
    "slideshow": {
     "slide_type": "fragment"
    }
   },
   "source": [
    "- Control flow graph is a directed graph."
   ]
  },
  {
   "cell_type": "markdown",
   "metadata": {
    "slideshow": {
     "slide_type": "slide"
    }
   },
   "source": [
    "**There exist 2 designated blocks in Control Flow Graph:**\n",
    "\n",
    "#### Entry Block:\n",
    "    - Entry block allows the control to enter into the control flow graph."
   ]
  },
  {
   "cell_type": "markdown",
   "metadata": {
    "slideshow": {
     "slide_type": "fragment"
    }
   },
   "source": [
    "#### Exit Block:\n",
    "    - Control flow leaves through the exit block."
   ]
  },
  {
   "cell_type": "markdown",
   "metadata": {
    "slideshow": {
     "slide_type": "slide"
    }
   },
   "source": [
    "## General Control Flow Graphs:"
   ]
  },
  {
   "cell_type": "markdown",
   "metadata": {
    "slideshow": {
     "slide_type": "fragment"
    }
   },
   "source": [
    "### If-else Control Flow Graph:"
   ]
  },
  {
   "cell_type": "markdown",
   "metadata": {
    "slideshow": {
     "slide_type": "fragment"
    }
   },
   "source": [
    "<img src='https://drive.google.com/uc?id=1gb3Dh69VF9RG_ykkE17SKtgfz28HB8k6' height=400px width=300px/>\n",
    "<!-- https://drive.google.com/file/d/1gb3Dh69VF9RG_ykkE17SKtgfz28HB8k6/view?usp=sharing -->"
   ]
  },
  {
   "cell_type": "markdown",
   "metadata": {
    "slideshow": {
     "slide_type": "slide"
    }
   },
   "source": [
    "### While Loop Control Flow Graph:"
   ]
  },
  {
   "cell_type": "markdown",
   "metadata": {
    "slideshow": {
     "slide_type": "fragment"
    }
   },
   "source": [
    "<img src='https://drive.google.com/uc?id=12O2U4CIjEtaJ4H6Z7jCZApCb1SOCXS9i' height=200px width=200px/>\n",
    "<!-- https://drive.google.com/file/d/12O2U4CIjEtaJ4H6Z7jCZApCb1SOCXS9i/view?usp=sharing -->"
   ]
  },
  {
   "cell_type": "markdown",
   "metadata": {
    "slideshow": {
     "slide_type": "slide"
    }
   },
   "source": [
    "### For Loop Control Flow Graph:"
   ]
  },
  {
   "cell_type": "markdown",
   "metadata": {
    "slideshow": {
     "slide_type": "fragment"
    }
   },
   "source": [
    "<img src='https://drive.google.com/uc?id=1QnxJZKJ_7JSptsgLmVMhhuaUU20I8fqp' height=100px width=100px/>\n",
    "<!-- https://drive.google.com/file/d/1QnxJZKJ_7JSptsgLmVMhhuaUU20I8fqp/view?usp=sharing -->"
   ]
  },
  {
   "cell_type": "markdown",
   "metadata": {},
   "source": [
    "#### Example: Simple example to understand control flow diagram. In this example check maximum number between B and C. That number assign to A and print A,B,C."
   ]
  },
  {
   "cell_type": "code",
   "execution_count": null,
   "metadata": {
    "slideshow": {
     "slide_type": "slide"
    }
   },
   "outputs": [],
   "source": [
    "Algorithms :\n",
    "    if  A = 10 then:\n",
    "        if B > C:\n",
    "            A = B\n",
    "        else A = C:\n",
    "        endif\n",
    "    endif\n",
    "    print A, B, C "
   ]
  },
  {
   "cell_type": "markdown",
   "metadata": {
    "slideshow": {
     "slide_type": "slide"
    }
   },
   "source": [
    "<!-- ![image](https://drive.google.com/uc?export=view&id=1Iq11kBgwkTBurbJFCm7luBfRBwq9dEYh \"ControlFlow\") -->\n",
    "<!-- <img src=https://drive.google.com/uc?export=view&id=1Iq11kBgwkTBurbJFCm7luBfRBwq9dEYh > -->\n",
    "<!-- https://drive.google.com/file/d/1Iq11kBgwkTBurbJFCm7luBfRBwq9dEYh/view?usp=sharing -->\n",
    "<img src='https://drive.google.com/uc?id=1Iq11kBgwkTBurbJFCm7luBfRBwq9dEYh' height=360px width=360px/>"
   ]
  },
  {
   "cell_type": "code",
   "execution_count": null,
   "metadata": {
    "slideshow": {
     "slide_type": "slide"
    }
   },
   "outputs": [],
   "source": [
    "## Do it Yourself\n",
    "Ques: You have number is given N, Your task to calculate the factorial of this number. You have to write a alogorithms \n",
    "    and also create the flow diagram of the program. \n",
    "\n",
    "Example : \n",
    "Input Format: 5\n",
    "    \n",
    "Output Format: 120 "
   ]
  },
  {
   "cell_type": "code",
   "execution_count": null,
   "metadata": {
    "slideshow": {
     "slide_type": "slide"
    }
   },
   "outputs": [],
   "source": [
    "Ques: You have given three number A, B, C. Your task to calculate which number is greater number among all of these . You \n",
    "    Work to write a program and algorithm of this task and also create the data/control flow diagram. \n",
    "    \n",
    "Example : \n",
    "Input Format: Enter Three Number : 23 56 12\n",
    "    \n",
    "Output Format: The Biggest Number : 56"
   ]
  },
  {
   "cell_type": "code",
   "execution_count": null,
   "metadata": {
    "slideshow": {
     "slide_type": "slide"
    }
   },
   "outputs": [],
   "source": [
    "Ques: You have two number is given A and B. Your task to calculate the Highest Common Factor(HCF) and Least Common \n",
    "    Multiple (LCM) of those number and write algorithm of this task and also create the data/control flow diagram. \n",
    "\n",
    "Example : \n",
    "Input Format: Enter Two Number : 9 24\n",
    "    \n",
    "Output Format: \n",
    "    Highest Common Factor(HCF) : 3\n",
    "    Least Common Multiple (LCM) : 72"
   ]
  }
 ],
 "metadata": {
  "celltoolbar": "Slideshow",
  "kernelspec": {
   "display_name": "Python 3",
   "language": "python",
   "name": "python3"
  },
  "language_info": {
   "codemirror_mode": {
    "name": "ipython",
    "version": 3
   },
   "file_extension": ".py",
   "mimetype": "text/x-python",
   "name": "python",
   "nbconvert_exporter": "python",
   "pygments_lexer": "ipython3",
   "version": "3.7.3"
  }
 },
 "nbformat": 4,
 "nbformat_minor": 4
}
