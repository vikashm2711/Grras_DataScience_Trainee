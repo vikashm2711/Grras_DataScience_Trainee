{
 "cells": [
  {
   "cell_type": "markdown",
   "metadata": {
    "slideshow": {
     "slide_type": "slide"
    }
   },
   "source": [
    "## List DataType"
   ]
  },
  {
   "cell_type": "markdown",
   "metadata": {
    "slideshow": {
     "slide_type": "fragment"
    }
   },
   "source": [
    "- Lists are just like dynamic sized arrays, declared in other languages (vector in C++ and ArrayList in Java)."
   ]
  },
  {
   "cell_type": "markdown",
   "metadata": {
    "slideshow": {
     "slide_type": "fragment"
    }
   },
   "source": [
    "- Lists need not be homogeneous always which makes it a most powerful tool in Python."
   ]
  },
  {
   "cell_type": "markdown",
   "metadata": {
    "slideshow": {
     "slide_type": "fragment"
    }
   },
   "source": [
    "- A single list may contain DataTypes like Integers, Strings, as well as Objects."
   ]
  },
  {
   "cell_type": "markdown",
   "metadata": {
    "slideshow": {
     "slide_type": "slide"
    }
   },
   "source": [
    "- Lists are mutable, and hence, they can be altered even after their creation."
   ]
  },
  {
   "cell_type": "markdown",
   "metadata": {
    "slideshow": {
     "slide_type": "fragment"
    }
   },
   "source": [
    "- List in Python are ordered and have a definite count."
   ]
  },
  {
   "cell_type": "markdown",
   "metadata": {
    "slideshow": {
     "slide_type": "fragment"
    }
   },
   "source": [
    "- The elements in a list are indexed according to a definite sequence and the indexing of a list is done with 0 being the first index."
   ]
  },
  {
   "cell_type": "markdown",
   "metadata": {
    "slideshow": {
     "slide_type": "slide"
    }
   },
   "source": [
    "- The elements in a list are indexed according to a definite sequence and the indexing of a list is done with 0 being the first index."
   ]
  },
  {
   "cell_type": "markdown",
   "metadata": {
    "slideshow": {
     "slide_type": "fragment"
    }
   },
   "source": [
    "- Lists in Python can be created by just placing the sequence inside the square brackets []."
   ]
  },
  {
   "cell_type": "markdown",
   "metadata": {
    "slideshow": {
     "slide_type": "slide"
    }
   },
   "source": [
    "<!-- https://drive.google.com/file/d/1HNWD2w6kGEhot_XEwoWBX57N7i6vNSlz/view?usp=sharing -->\n",
    "<!-- ![\"string.png\"](./string.png \"title\") -->\n",
    "<!-- https://drive.google.com/file/d/1R17428UvStEgqRIaRJcwsAy3In8N78Qa/view?usp=sharing -->\n",
    "![list_image](https://drive.google.com/uc?export=view&id=1HNWD2w6kGEhot_XEwoWBX57N7i6vNSlz \"List Use\")\n",
    "<!-- <img src='https://drive.google.com/uc?id=1HNWD2w6kGEhot_XEwoWBX57N7i6vNSlz' /> -->\n",
    "<!-- https://drive.google.com/file/d/1dwZb_dFGzWXQ4qn6Avrb4FcigBMpRCLF/view?usp=sharing -->\n",
    "<!-- https://drive.google.com/file/d/1dwZb_dFGzWXQ4qn6Avrb4FcigBMpRCLF/view?usp=sharing -->"
   ]
  },
  {
   "cell_type": "markdown",
   "metadata": {
    "slideshow": {
     "slide_type": "slide"
    }
   },
   "source": [
    "## Adding Elements to a List"
   ]
  },
  {
   "cell_type": "markdown",
   "metadata": {
    "slideshow": {
     "slide_type": "fragment"
    }
   },
   "source": [
    "#### Using append() method"
   ]
  },
  {
   "cell_type": "markdown",
   "metadata": {
    "slideshow": {
     "slide_type": "fragment"
    }
   },
   "source": [
    "- Elements can be added to the List by using built-in append() function."
   ]
  },
  {
   "cell_type": "markdown",
   "metadata": {
    "slideshow": {
     "slide_type": "fragment"
    }
   },
   "source": [
    "- Only one element at a time can be added to the list by using append() method, for addition of multiple elements with the append() method, loops are used."
   ]
  },
  {
   "cell_type": "code",
   "execution_count": 1,
   "metadata": {
    "slideshow": {
     "slide_type": "slide"
    }
   },
   "outputs": [
    {
     "name": "stdout",
     "output_type": "stream",
     "text": [
      "Initial blank List: \n",
      "[]\n",
      "\n",
      "List after Addition of Three elements: \n",
      "[1, 2, 4]\n"
     ]
    }
   ],
   "source": [
    "# Example\n",
    "# Python program to demonstrate  \n",
    "# Addition of elements in a List \n",
    "  \n",
    "# Creating a List \n",
    "List = [] \n",
    "print(\"Initial blank List: \") \n",
    "print(List) \n",
    "  \n",
    "# Addition of Elements in the List \n",
    "List.append(1) \n",
    "List.append(2) \n",
    "List.append(4) \n",
    "print(\"\\nList after Addition of Three elements: \") \n",
    "print(List) "
   ]
  },
  {
   "cell_type": "markdown",
   "metadata": {
    "slideshow": {
     "slide_type": "slide"
    }
   },
   "source": [
    "#### Using insert() method"
   ]
  },
  {
   "cell_type": "markdown",
   "metadata": {
    "slideshow": {
     "slide_type": "fragment"
    }
   },
   "source": [
    "- Append() method only works for addition of elements at the end of the List, for addition of element at the desired position, insert() method is used. "
   ]
  },
  {
   "cell_type": "markdown",
   "metadata": {
    "slideshow": {
     "slide_type": "fragment"
    }
   },
   "source": [
    "- Append() which takes only one argument, insert() method requires two arguments(position, value)."
   ]
  },
  {
   "cell_type": "code",
   "execution_count": 2,
   "metadata": {
    "slideshow": {
     "slide_type": "slide"
    }
   },
   "outputs": [
    {
     "name": "stdout",
     "output_type": "stream",
     "text": [
      "Initial List: \n",
      "[1, 2, 3, 4]\n",
      "\n",
      "List after performing Insert Operation: \n",
      "[1, 2, 3, 12, 4]\n"
     ]
    }
   ],
   "source": [
    "#Example\n",
    "# Python program to demonstrate \n",
    "# Addition of elements in a List \n",
    "\n",
    "# Creating a List \n",
    "List = [1,2,3,4] \n",
    "print(\"Initial List: \") \n",
    "print(List) \n",
    "\n",
    "# Addition of Element at specific Position (using Insert Method) \n",
    "List.insert(3, 12) \n",
    "print(\"\\nList after performing Insert Operation: \") \n",
    "print(List) \n"
   ]
  },
  {
   "cell_type": "markdown",
   "metadata": {
    "slideshow": {
     "slide_type": "slide"
    }
   },
   "source": [
    "#### Using extend() method"
   ]
  },
  {
   "cell_type": "markdown",
   "metadata": {
    "slideshow": {
     "slide_type": "fragment"
    }
   },
   "source": [
    "- Append() and Insert() methods, there’s one more method for Addition of elements, extend(), this method is used to add multiple elements at the same time at the end of the list."
   ]
  },
  {
   "cell_type": "markdown",
   "metadata": {
    "slideshow": {
     "slide_type": "fragment"
    }
   },
   "source": [
    "- append() and extend() methods can only add elements at the end."
   ]
  },
  {
   "cell_type": "code",
   "execution_count": 3,
   "metadata": {
    "slideshow": {
     "slide_type": "slide"
    }
   },
   "outputs": [
    {
     "name": "stdout",
     "output_type": "stream",
     "text": [
      "Initial List: \n",
      "[1, 2, 3, 4]\n",
      "\n",
      "List after performing Extend Operation: \n",
      "[1, 2, 3, 4, 8, 9, 10]\n"
     ]
    }
   ],
   "source": [
    "#Example\n",
    "# Python program to demonstrate \n",
    "# Addition of elements in a List \n",
    "\n",
    "# Creating a List \n",
    "List = [1,2,3,4] \n",
    "print(\"Initial List: \") \n",
    "print(List) \n",
    "\n",
    "# Addition of multiple elements to the List at the end (using Extend Method) \n",
    "List.extend([8, 9, 10]) \n",
    "print(\"\\nList after performing Extend Operation: \") \n",
    "print(List) \n"
   ]
  },
  {
   "cell_type": "markdown",
   "metadata": {
    "slideshow": {
     "slide_type": "slide"
    }
   },
   "source": [
    "## Removing Elements from the List"
   ]
  },
  {
   "cell_type": "markdown",
   "metadata": {
    "slideshow": {
     "slide_type": "fragment"
    }
   },
   "source": [
    "#### Using remove() method"
   ]
  },
  {
   "cell_type": "markdown",
   "metadata": {
    "slideshow": {
     "slide_type": "fragment"
    }
   },
   "source": [
    "- Elements can be removed from the List by using built-in remove() function but an Error arises if element doesn’t exist in the set. \n",
    "- Remove() method only removes one element at a time, to remove range of elements, iterator is used.\n",
    "- The remove() method removes the specified item.\n",
    "- Remove method in List will only remove the first occurrence of the searched element."
   ]
  },
  {
   "cell_type": "code",
   "execution_count": 4,
   "metadata": {
    "slideshow": {
     "slide_type": "slide"
    }
   },
   "outputs": [
    {
     "name": "stdout",
     "output_type": "stream",
     "text": [
      "Intial List: \n",
      "[1, 2, 3, 4, 5, 6, 7, 8, 9, 5, 6, 10, 11, 12]\n",
      "\n",
      "List after Removal of two elements: \n",
      "[1, 2, 3, 4, 7, 8, 9, 5, 6, 10, 11, 12]\n"
     ]
    }
   ],
   "source": [
    "# Example\n",
    "# Python program to demonstrate  \n",
    "# Removal of elements in a List \n",
    "  \n",
    "# Creating a List \n",
    "List = [1, 2, 3, 4, 5, 6, 7, 8, 9, 5, 6, 10, 11, 12] \n",
    "print(\"Intial List: \") \n",
    "print(List) \n",
    "  \n",
    "# Removing elements from List \n",
    "# using Remove() method \n",
    "List.remove(5) \n",
    "List.remove(6) \n",
    "print(\"\\nList after Removal of two elements: \") \n",
    "print(List) "
   ]
  },
  {
   "cell_type": "markdown",
   "metadata": {
    "slideshow": {
     "slide_type": "slide"
    }
   },
   "source": [
    "#### Using pop() method"
   ]
  },
  {
   "cell_type": "markdown",
   "metadata": {
    "slideshow": {
     "slide_type": "fragment"
    }
   },
   "source": [
    "- Pop() function can also be used to remove and return an element from the set, but by default it removes only the last element of the set, to remove element from a specific position of the List, index of the element is passed as an argument to the pop() method."
   ]
  },
  {
   "cell_type": "code",
   "execution_count": 5,
   "metadata": {
    "slideshow": {
     "slide_type": "slide"
    }
   },
   "outputs": [
    {
     "name": "stdout",
     "output_type": "stream",
     "text": [
      "\n",
      "List after popping an element: \n",
      "[1, 2, 3, 4]\n",
      "\n",
      "List after popping a specific element: \n",
      "[1, 2, 4]\n"
     ]
    }
   ],
   "source": [
    "# Example\n",
    "List = [1,2,3,4,5] \n",
    "\n",
    "# Removing element from the List using the pop() method \n",
    "List.pop() \n",
    "print(\"\\nList after popping an element: \") \n",
    "print(List) \n",
    "\n",
    "# Removing element at a specific location from the List using the pop() method \n",
    "List.pop(2)    ## index -2 \n",
    "print(\"\\nList after popping a specific element: \") \n",
    "print(List) "
   ]
  },
  {
   "cell_type": "code",
   "execution_count": 4,
   "metadata": {
    "slideshow": {
     "slide_type": "slide"
    }
   },
   "outputs": [
    {
     "name": "stdout",
     "output_type": "stream",
     "text": [
      "All method :  ['__add__', '__class__', '__contains__', '__delattr__', '__delitem__', '__dir__', '__doc__', '__eq__', '__format__', '__ge__', '__getattribute__', '__getitem__', '__gt__', '__hash__', '__iadd__', '__imul__', '__init__', '__init_subclass__', '__iter__', '__le__', '__len__', '__lt__', '__mul__', '__ne__', '__new__', '__reduce__', '__reduce_ex__', '__repr__', '__reversed__', '__rmul__', '__setattr__', '__setitem__', '__sizeof__', '__str__', '__subclasshook__', 'append', 'clear', 'copy', 'count', 'extend', 'index', 'insert', 'pop', 'remove', 'reverse', 'sort']\n"
     ]
    }
   ],
   "source": [
    "### List All methods\n",
    "lst = list()\n",
    "print(\"All method : \",dir(lst))  "
   ]
  },
  {
   "cell_type": "markdown",
   "metadata": {
    "slideshow": {
     "slide_type": "slide"
    }
   },
   "source": [
    "### LAB Questions "
   ]
  },
  {
   "cell_type": "code",
   "execution_count": 1,
   "metadata": {
    "slideshow": {
     "slide_type": "fragment"
    }
   },
   "outputs": [
    {
     "name": "stdout",
     "output_type": "stream",
     "text": [
      "Ascending Order:  [1, 3, 12, 23, 34, 46, 56, 56, 67, 89, 98]\n",
      "Descending order: [98, 89, 67, 56, 56, 46, 34, 23, 12, 3, 1]\n"
     ]
    }
   ],
   "source": [
    "# Ques : Sort the integers values in ascending and descending order and also mention the time complexity?\n",
    "lst = [34,1,3,46,23,56,12,98,89,67,56]\n",
    "# Ans :\n",
    "lst.sort()\n",
    "print('Ascending Order: ',lst)\n",
    "lst.sort(reverse=True)\n",
    "print('Descending order:',lst)\n",
    "## Time Complexity : O(nlogn)"
   ]
  },
  {
   "cell_type": "code",
   "execution_count": 2,
   "metadata": {
    "slideshow": {
     "slide_type": "slide"
    }
   },
   "outputs": [
    {
     "data": {
      "text/plain": [
       "3"
      ]
     },
     "execution_count": 2,
     "metadata": {},
     "output_type": "execute_result"
    }
   ],
   "source": [
    "# Ques : Find the index of 46 in this list?\n",
    "lst = [34,1,3,46,23,56,12,98,89,67,56]\n",
    "# Ans :\n",
    "lst.index(46)"
   ]
  },
  {
   "cell_type": "code",
   "execution_count": 3,
   "metadata": {
    "slideshow": {
     "slide_type": "fragment"
    }
   },
   "outputs": [
    {
     "name": "stdout",
     "output_type": "stream",
     "text": [
      "[5, 1, 2, 3, 4]\n"
     ]
    }
   ],
   "source": [
    "# Ques : Right circulation rotation on one element in list.\n",
    "lst = [1,2,3,4,5] \n",
    "# Ans :\n",
    "print(lst[-1:]+lst[:-1])"
   ]
  },
  {
   "cell_type": "code",
   "execution_count": 4,
   "metadata": {
    "slideshow": {
     "slide_type": "fragment"
    }
   },
   "outputs": [
    {
     "name": "stdout",
     "output_type": "stream",
     "text": [
      "[1, 46, 56, 98, 67, 34, 32, 99]\n"
     ]
    }
   ],
   "source": [
    "# Ques : Using slicing print odd index elements.\n",
    "lst = [34,1,3,46,23,56,12,98,89,67,56,34,12,32,68,99]\n",
    "# Ans :\n",
    "print(lst[1::2])"
   ]
  },
  {
   "cell_type": "code",
   "execution_count": null,
   "metadata": {
    "slideshow": {
     "slide_type": "slide"
    }
   },
   "outputs": [],
   "source": [
    "## Do it Yourself\n",
    "Ques: You have a non-empty set S, and you have to execute N commands given in N lines.\n",
    "    The commands will be pop, remove and discard.\n",
    "\n",
    "Input Format:\n",
    "    The first line contains integer , the number of elements in the set .\n",
    "    The second line contains  space separated elements of set . All of the elements are non-negative integers, less than or equal to 9.\n",
    "    The third line contains integer , the number of commands.\n",
    "    The next  lines contains either pop, remove and/or discard commands followed by their associated value.\n",
    "\n",
    "Output Format: \n",
    "    Print the sum of the elements of set  on a single line.\n"
   ]
  },
  {
   "cell_type": "code",
   "execution_count": null,
   "metadata": {
    "slideshow": {
     "slide_type": "slide"
    }
   },
   "outputs": [],
   "source": [
    "Ques : You have a non-empty list 'lst', and you have to execute or perform these 7 commands given in these lines. The command \n",
    "    is related to pop, insert, clear, count, index etc and write the outputs.\n",
    "\n",
    "Sample Input:\n",
    "    lst -> 34,1,3,46,23,56,12,98,89,67\n",
    "    Execute commands numbers : 7\n",
    "        op1: pop --> 2 times\n",
    "        op2: insert --> 44\n",
    "        op3: remove --> 34\n",
    "        op4: clear\n",
    "        op5: insert --> 56,78,12,23\n",
    "        op6: count element\n",
    "        op7: find index --> 12\n",
    "\n",
    "\n",
    "Output Format: \n",
    "    Print the sum of the elements of list on a single line and all list elements."
   ]
  },
  {
   "cell_type": "code",
   "execution_count": null,
   "metadata": {
    "slideshow": {
     "slide_type": "slide"
    }
   },
   "outputs": [],
   "source": [
    "Ques : You have a List is given like in shown in the example. Your work to perfrom the slicing in this list.\n",
    "    Using slicing you need to print last 6 even index elements in the reversed Order.\n",
    "\n",
    "Example:\n",
    "Sample Input:\n",
    "    lst = [34,1,3,46,23,56,12,98,89,67,56,34,12,32,68,99]\n",
    "\n",
    "Output Format: \n",
    "    lst = [99, 32, 34, 67, 98, 56, 46, 1]"
   ]
  },
  {
   "cell_type": "code",
   "execution_count": null,
   "metadata": {
    "slideshow": {
     "slide_type": "slide"
    }
   },
   "outputs": [],
   "source": [
    "Ques : You have a empty List 'lst' is given. Your task is add all these elemnet : 1, 2, 3, 4, 5, 6, 7, 8.\n",
    "    And do right circulation rotation on two element in list. After the right circulation rotation the output list print.\n",
    "    \n",
    "Example:\n",
    "Sample Input:\n",
    "    lst = [] # empty\n",
    "    \n",
    "    # After add elements\n",
    "    lst = [1,2,3,4,5,6,7,8]\n",
    "\n",
    "Output Format: \n",
    "    lst = [7,8,1,2,3,4,5,6]\n"
   ]
  },
  {
   "cell_type": "code",
   "execution_count": null,
   "metadata": {
    "slideshow": {
     "slide_type": "slide"
    }
   },
   "outputs": [],
   "source": [
    "Ques : A Shop keeper wants track there products like how many products is sell and what are the price of those products.\n",
    "    Write an application where a shop keeper keep track of sold products as - Items, price\n",
    "\n",
    "Example:\n",
    "Sample Input:\n",
    "    setp1 : Enter 10 product in items.\n",
    "    setp2 : Add the price of that 10 product\n",
    "    step3 : If a Person bought any 5 items then calculate the price and also calculate the 5% TAX and show both answer.\n",
    "    step4 : calculate total price (TAX + price ammount).\n",
    "\n",
    "Output Format: \n",
    "    Calculation price \n",
    "    Tax price\n",
    "    Total price\n",
    "## Usecase : when you create any python application like 'billing system' then this concept will help you."
   ]
  }
 ],
 "metadata": {
  "celltoolbar": "Slideshow",
  "hide_input": false,
  "kernelspec": {
   "display_name": "Python 3",
   "language": "python",
   "name": "python3"
  },
  "language_info": {
   "codemirror_mode": {
    "name": "ipython",
    "version": 3
   },
   "file_extension": ".py",
   "mimetype": "text/x-python",
   "name": "python",
   "nbconvert_exporter": "python",
   "pygments_lexer": "ipython3",
   "version": "3.8.5"
  },
  "toc": {
   "base_numbering": 1,
   "nav_menu": {},
   "number_sections": true,
   "sideBar": true,
   "skip_h1_title": false,
   "title_cell": "Table of Contents",
   "title_sidebar": "Contents",
   "toc_cell": false,
   "toc_position": {},
   "toc_section_display": true,
   "toc_window_display": false
  },
  "varInspector": {
   "cols": {
    "lenName": 16,
    "lenType": 16,
    "lenVar": 40
   },
   "kernels_config": {
    "python": {
     "delete_cmd_postfix": "",
     "delete_cmd_prefix": "del ",
     "library": "var_list.py",
     "varRefreshCmd": "print(var_dic_list())"
    },
    "r": {
     "delete_cmd_postfix": ") ",
     "delete_cmd_prefix": "rm(",
     "library": "var_list.r",
     "varRefreshCmd": "cat(var_dic_list()) "
    }
   },
   "types_to_exclude": [
    "module",
    "function",
    "builtin_function_or_method",
    "instance",
    "_Feature"
   ],
   "window_display": false
  }
 },
 "nbformat": 4,
 "nbformat_minor": 4
}
