{
 "cells": [
  {
   "cell_type": "markdown",
   "metadata": {
    "slideshow": {
     "slide_type": "slide"
    }
   },
   "source": [
    "# Set DataType"
   ]
  },
  {
   "cell_type": "markdown",
   "metadata": {
    "slideshow": {
     "slide_type": "fragment"
    }
   },
   "source": [
    "- Set is an unordered collection of data type that is iterable, mutable and has no duplicate elements. "
   ]
  },
  {
   "cell_type": "markdown",
   "metadata": {
    "slideshow": {
     "slide_type": "fragment"
    }
   },
   "source": [
    "- The major advantage of using a set, as opposed to a list, is that it has a highly optimized method for checking whether a specific element is contained in the set."
   ]
  },
  {
   "cell_type": "markdown",
   "metadata": {
    "slideshow": {
     "slide_type": "slide"
    }
   },
   "source": [
    "![image](https://drive.google.com/uc?export=view&id=1oDCQfnr3XplWudB56JRTA7rqsdZmPEP8 \"Set\")"
   ]
  },
  {
   "cell_type": "markdown",
   "metadata": {
    "slideshow": {
     "slide_type": "slide"
    }
   },
   "source": [
    "## Creating a Set"
   ]
  },
  {
   "cell_type": "markdown",
   "metadata": {
    "slideshow": {
     "slide_type": "fragment"
    }
   },
   "source": [
    "- Sets can be created by using the built-in set() function with an iterable object or a sequence by placing the sequence inside curly braces, separated by ‘comma’."
   ]
  },
  {
   "cell_type": "markdown",
   "metadata": {
    "slideshow": {
     "slide_type": "fragment"
    }
   },
   "source": [
    "- A set cannot have mutable elements like a list, set or dictionary, as its elements."
   ]
  },
  {
   "cell_type": "code",
   "execution_count": 2,
   "metadata": {
    "slideshow": {
     "slide_type": "slide"
    }
   },
   "outputs": [
    {
     "name": "stdout",
     "output_type": "stream",
     "text": [
      "Intial blank Set: \n",
      "set()\n",
      "\n",
      "Set with the use of String: \n",
      "{'W', 'r', ' ', ',', 'l', 'd', 'H', 'e', '!', 'o'}\n",
      "\n",
      "Set with the use of List: \n",
      "{'English', 'Maths', 'Science'}\n"
     ]
    }
   ],
   "source": [
    "# Example\n",
    "# Python program to demonstrate  \n",
    "# Creation of Set in Python \n",
    "  \n",
    "# Creating a Set \n",
    "set1 = set() \n",
    "print(\"Intial blank Set: \") \n",
    "print(set1) \n",
    "  \n",
    "# Creating a Set with the use of a String \n",
    "set1 = set(\"Hello, World!\")  ## Unordered and space also count\n",
    "print(\"\\nSet with the use of String: \") \n",
    "print(set1) \n",
    "\n",
    "# Creating a Set with the use of a List.\n",
    "set1 = set([\"Maths\", \"Science\", \"English\"]) \n",
    "print(\"\\nSet with the use of List: \") \n",
    "print(set1) "
   ]
  },
  {
   "cell_type": "markdown",
   "metadata": {
    "slideshow": {
     "slide_type": "slide"
    }
   },
   "source": [
    "## Adding Elements to a Set"
   ]
  },
  {
   "cell_type": "markdown",
   "metadata": {
    "slideshow": {
     "slide_type": "fragment"
    }
   },
   "source": [
    "#### Using add() method"
   ]
  },
  {
   "cell_type": "markdown",
   "metadata": {
    "slideshow": {
     "slide_type": "fragment"
    }
   },
   "source": [
    "- Elements can be added to the Set by using built-in add() function. \n",
    "- Only one element at a time can be added to the set by using add() method.\n",
    "- Loops are used to add multiple elements at a time with the use of add() method.\n",
    "- Lists cannot be added to a set as elements because Lists are not hashable whereas Tuples can be added because tuples are immutable and hence Hashable."
   ]
  },
  {
   "cell_type": "code",
   "execution_count": 3,
   "metadata": {
    "slideshow": {
     "slide_type": "slide"
    }
   },
   "outputs": [
    {
     "name": "stdout",
     "output_type": "stream",
     "text": [
      "Intial blank Set: \n",
      "set()\n",
      "\n",
      "Set after Addition of Three elements: \n",
      "{8, 9, (6, 7)}\n",
      "\n",
      "Set after Addition of elements from 1-5: \n",
      "{1, 2, 3, (6, 7), 4, 5, 8, 9}\n"
     ]
    }
   ],
   "source": [
    "# Example\n",
    "# Python program to demonstrate Addition of elements in a Set \n",
    "\n",
    "# Creating a Set \n",
    "set1 = set() \n",
    "print(\"Intial blank Set: \") \n",
    "print(set1) \n",
    "\n",
    "# Adding element and tuple to the Set \n",
    "set1.add(8) \n",
    "set1.add(9) \n",
    "set1.add((6,7)) ## If you try to add list it give error.\n",
    "print(\"\\nSet after Addition of Three elements: \") \n",
    "print(set1) \n",
    "\n",
    "# Adding elements to the Set \n",
    "# using Iterator \n",
    "for i in range(1, 6): \n",
    "    set1.add(i) \n",
    "print(\"\\nSet after Addition of elements from 1-5: \") \n",
    "print(set1) \n"
   ]
  },
  {
   "cell_type": "markdown",
   "metadata": {
    "slideshow": {
     "slide_type": "slide"
    }
   },
   "source": [
    "#### Using update() method"
   ]
  },
  {
   "cell_type": "markdown",
   "metadata": {
    "slideshow": {
     "slide_type": "fragment"
    }
   },
   "source": [
    "- Addition of two or more elements Update() method is used. \n",
    "- The update() method accepts lists, strings, tuples as well as other sets as its arguments. \n",
    "- In all of these cases, duplicate elements are avoided."
   ]
  },
  {
   "cell_type": "code",
   "execution_count": 4,
   "metadata": {
    "slideshow": {
     "slide_type": "slide"
    }
   },
   "outputs": [
    {
     "name": "stdout",
     "output_type": "stream",
     "text": [
      "\n",
      "Set after Addition of elements using Update: \n",
      "{4, 5, (6, 7), 10, 11}\n"
     ]
    }
   ],
   "source": [
    "## Example\n",
    "# Python program to demonstrate \n",
    "# Addition of elements in a Set \n",
    "\n",
    "# Addition of elements to the Set \n",
    "# using Update function \n",
    "set1 = set([ 4, 5, (6, 7)]) \n",
    "set1.update([10, 11]) ## if add same number then first occurance number is added.\n",
    "print(\"\\nSet after Addition of elements using Update: \") \n",
    "print(set1) \n"
   ]
  },
  {
   "cell_type": "markdown",
   "metadata": {
    "slideshow": {
     "slide_type": "slide"
    }
   },
   "source": [
    "## Accessing a Set"
   ]
  },
  {
   "cell_type": "markdown",
   "metadata": {
    "slideshow": {
     "slide_type": "fragment"
    }
   },
   "source": [
    "- Set items cannot be accessed by referring to an index, since sets are unordered the items has no index. \n",
    "- But you can loop through the set items using a for loop, or ask if a specified value is present in a set, by using the in keyword."
   ]
  },
  {
   "cell_type": "code",
   "execution_count": 9,
   "metadata": {
    "slideshow": {
     "slide_type": "slide"
    }
   },
   "outputs": [
    {
     "name": "stdout",
     "output_type": "stream",
     "text": [
      "\n",
      "Initial set\n",
      "{1, 2, 3, 4, 5, 'harry'}\n",
      "\n",
      "Elements of set: \n",
      "1 2 3 4 5 harry \n",
      "\n",
      "True\n"
     ]
    }
   ],
   "source": [
    "# Example\n",
    "# Python program to demonstrate accessing of elements in a set \n",
    "\n",
    "# Creating a set \n",
    "set1 = set([1, 2, 3, 4, 5, 'harry']) \n",
    "print(\"\\nInitial set\") \n",
    "print(set1) \n",
    "\n",
    "# Accessing element using for loop \n",
    "print(\"\\nElements of set: \") \n",
    "for i in set1: \n",
    "    print(i, end=\" \") \n",
    "print(\"\\n\")\n",
    "\n",
    "# Checking the element using in keyword \n",
    "print(\"harry\" in set1) \n"
   ]
  },
  {
   "cell_type": "markdown",
   "metadata": {
    "slideshow": {
     "slide_type": "slide"
    }
   },
   "source": [
    "## Removing elements from the Set"
   ]
  },
  {
   "cell_type": "markdown",
   "metadata": {
    "slideshow": {
     "slide_type": "fragment"
    }
   },
   "source": [
    "#### Using remove() method or discard() method"
   ]
  },
  {
   "cell_type": "markdown",
   "metadata": {
    "slideshow": {
     "slide_type": "fragment"
    }
   },
   "source": [
    "- Elements can be removed from the Set by using built-in remove() function but a KeyError arises if element doesn’t exist in the set.\n",
    "- To remove elements from a set without KeyError, use discard(), if the element doesn’t exist in the set, it remains unchanged."
   ]
  },
  {
   "cell_type": "code",
   "execution_count": 10,
   "metadata": {
    "slideshow": {
     "slide_type": "slide"
    }
   },
   "outputs": [
    {
     "name": "stdout",
     "output_type": "stream",
     "text": [
      "Intial Set: \n",
      "{1, 2, 3, 4, 5, 6, 7, 8, 9, 10, 11, 12}\n",
      "\n",
      "Set after Removal of two elements: \n",
      "{1, 2, 3, 4, 7, 8, 9, 10, 11, 12}\n",
      "\n",
      "Set after Discarding two elements: \n",
      "{1, 2, 3, 4, 7, 10, 11, 12}\n",
      "\n",
      "Set after Removing a range of elements: \n",
      "{7, 10, 11, 12}\n"
     ]
    }
   ],
   "source": [
    "# Exaple\n",
    "# Python program to demonstrate deletion of elements in a Set \n",
    "\n",
    "# Creating a Set \n",
    "set1 = set([1, 2, 3, 4, 5, 6, 7, 8, 9, 10, 11, 12]) \n",
    "print(\"Intial Set: \") \n",
    "print(set1) \n",
    "\n",
    "# Removing elements from Set using Remove() method \n",
    "set1.remove(5) \n",
    "set1.remove(6)  ## if you remove 13 then give error because not presentin set1.\n",
    "print(\"\\nSet after Removal of two elements: \") \n",
    "print(set1) \n",
    "\n",
    "# Removing elements from Set using Discard() method \n",
    "set1.discard(8) \n",
    "set1.discard(9) ## if you remove 13 then not give error.\n",
    "print(\"\\nSet after Discarding two elements: \") \n",
    "print(set1) \n",
    "\n",
    "# Removing elements from Set \n",
    "# using iterator method \n",
    "for i in range(1, 5): \n",
    "    set1.remove(i) \n",
    "print(\"\\nSet after Removing a range of elements: \") \n",
    "print(set1) \n"
   ]
  },
  {
   "cell_type": "markdown",
   "metadata": {
    "slideshow": {
     "slide_type": "slide"
    }
   },
   "source": [
    "#### Using pop() method"
   ]
  },
  {
   "cell_type": "markdown",
   "metadata": {
    "slideshow": {
     "slide_type": "fragment"
    }
   },
   "source": [
    "- Pop() function can also be used to remove and return an element from the set, but it removes only the last element of the set.\n",
    "- If the set is unordered then there’s no such way to determine which element is popped by using the pop() function."
   ]
  },
  {
   "cell_type": "code",
   "execution_count": 13,
   "metadata": {
    "slideshow": {
     "slide_type": "slide"
    }
   },
   "outputs": [
    {
     "name": "stdout",
     "output_type": "stream",
     "text": [
      "Intial Set: \n",
      "{1, 2, 3, 4, 5, 6, 7, 8, 9, 10, 11, 12}\n",
      "\n",
      "Set after popping an element: \n",
      "{2, 3, 4, 5, 6, 7, 8, 9, 10, 11, 12}\n"
     ]
    }
   ],
   "source": [
    "# Example\n",
    "# Python program to demonstrate \n",
    "# Deletion of elements in a Set \n",
    "\n",
    "# Creating a Set \n",
    "set1 = set([1, 2, 3, 4, 5, 6, 7, 8, 9, 10, 11, 12]) \n",
    "print(\"Intial Set: \") \n",
    "print(set1) \n",
    "\n",
    "# Removing element from the Set using the pop() method \n",
    "set1.pop() \n",
    "print(\"\\nSet after popping an element: \") \n",
    "print(set1) \n"
   ]
  },
  {
   "cell_type": "markdown",
   "metadata": {
    "slideshow": {
     "slide_type": "slide"
    }
   },
   "source": [
    "#### Using clear() method"
   ]
  },
  {
   "cell_type": "markdown",
   "metadata": {
    "slideshow": {
     "slide_type": "fragment"
    }
   },
   "source": [
    "- To remove all the elements from the set, clear() function is used."
   ]
  },
  {
   "cell_type": "code",
   "execution_count": 16,
   "metadata": {
    "slideshow": {
     "slide_type": "slide"
    }
   },
   "outputs": [
    {
     "name": "stdout",
     "output_type": "stream",
     "text": [
      "\n",
      " Initial set: \n",
      "{1, 2, 3, 4, 5}\n",
      "\n",
      "Set after clearing all the elements: \n",
      "set()\n"
     ]
    }
   ],
   "source": [
    "# Example\n",
    "# Creating a set \n",
    "set1 = set([1,2,3,4,5]) \n",
    "print(\"\\n Initial set: \") \n",
    "print(set1) \n",
    "\n",
    "\n",
    "# Removing all the elements from Set using clear() method \n",
    "set1.clear() \n",
    "print(\"\\nSet after clearing all the elements: \") \n",
    "print(set1) "
   ]
  },
  {
   "cell_type": "markdown",
   "metadata": {
    "slideshow": {
     "slide_type": "slide"
    }
   },
   "source": [
    "**Note :**\n",
    "- Frozen sets in Python are immutable objects that only support methods and operators that produce a result without affecting the frozen set or sets to which they are applied. While elements of a set can be modified at any time, elements of the frozen set remain the same after creation.\n",
    "- If no parameters are passed, it returns an empty frozenset."
   ]
  },
  {
   "cell_type": "code",
   "execution_count": 17,
   "metadata": {
    "slideshow": {
     "slide_type": "fragment"
    }
   },
   "outputs": [
    {
     "name": "stdout",
     "output_type": "stream",
     "text": [
      "The FrozenSet is: \n",
      "frozenset({'c', 'f', 'g', 'd', 'b', 'a', 'e'})\n",
      "\n",
      "Empty FrozenSet: \n",
      "frozenset()\n"
     ]
    }
   ],
   "source": [
    "# Example of FrozenSet\n",
    "# Python program to demonstrate working of a FrozenSet\n",
    "\n",
    "# Creating a Set \n",
    "String = ('a','b','c','d','e','f','g') \n",
    "\n",
    "Fset1 = frozenset(String) \n",
    "print(\"The FrozenSet is: \") \n",
    "print(Fset1) \n",
    "\n",
    "# To print Empty Frozen Set No parameter is passed \n",
    "print(\"\\nEmpty FrozenSet: \") \n",
    "print(frozenset()) \n"
   ]
  },
  {
   "cell_type": "code",
   "execution_count": 3,
   "metadata": {
    "slideshow": {
     "slide_type": "slide"
    }
   },
   "outputs": [
    {
     "name": "stdout",
     "output_type": "stream",
     "text": [
      "All Set methods :  ['__and__', '__class__', '__contains__', '__delattr__', '__dir__', '__doc__', '__eq__', '__format__', '__ge__', '__getattribute__', '__gt__', '__hash__', '__iand__', '__init__', '__init_subclass__', '__ior__', '__isub__', '__iter__', '__ixor__', '__le__', '__len__', '__lt__', '__ne__', '__new__', '__or__', '__rand__', '__reduce__', '__reduce_ex__', '__repr__', '__ror__', '__rsub__', '__rxor__', '__setattr__', '__sizeof__', '__str__', '__sub__', '__subclasshook__', '__xor__', 'add', 'clear', 'copy', 'difference', 'difference_update', 'discard', 'intersection', 'intersection_update', 'isdisjoint', 'issubset', 'issuperset', 'pop', 'remove', 'symmetric_difference', 'symmetric_difference_update', 'union', 'update']\n"
     ]
    }
   ],
   "source": [
    "## Set all Methods\n",
    "print('All Set methods : ',dir(set())) "
   ]
  },
  {
   "cell_type": "code",
   "execution_count": null,
   "metadata": {
    "slideshow": {
     "slide_type": "slide"
    }
   },
   "outputs": [],
   "source": [
    "Ques: You have a non-empty set S, and you have to execute N commands given in N lines.\n",
    "    The commands will be pop, remove and discard.\n",
    "\n",
    "Input Format:\n",
    "    The first line contains integer , the number of elements in the set .\n",
    "    The second line contains  space separated elements of set . All of the elements are non-negative integers, less than or equal to 9.\n",
    "    The third line contains integer , the number of commands.\n",
    "    The next  lines contains either pop, remove and/or discard commands followed by their associated value.\n",
    "\n",
    "Output Format: \n",
    "    Print the sum of the elements of set  on a single line.\n",
    "\n",
    "Sample Input:\n",
    "    N -> 9\n",
    "    N nimber set -> 1 2 3 4 5 6 7 8 9\n",
    "    Execute commands numbers : 10\n",
    "        pop\n",
    "        remove 9\n",
    "        discard 9\n",
    "        discard 8\n",
    "        remove 7\n",
    "        pop \n",
    "        discard 6\n",
    "        remove 5\n",
    "        pop \n",
    "        discard 5\n",
    "    \n",
    "Sample Output:\n",
    "    4"
   ]
  },
  {
   "cell_type": "code",
   "execution_count": null,
   "metadata": {
    "slideshow": {
     "slide_type": "slide"
    }
   },
   "outputs": [],
   "source": [
    "Ques : Given 2 sets of integers,set1  and set2, print their symmetric difference in ascending order. The term symmetric difference \n",
    "    indicates those values that exist in either set1 or set2  but do not exist in both.\n",
    "\n",
    "Input Format:  \n",
    "    - The First set1 contains space-separated integers.\n",
    "    - The second set2 contains space-separated integers.\n",
    "\n",
    "Output Format: \n",
    "    - Output the symmetric difference integers in ascending order, one per line.\n",
    "\n",
    "# Example :\n",
    "Sample Input:\n",
    "set1 -> 2 4 5 9\n",
    "set2 -> 2 4 11 12\n",
    "\n",
    "Sample Output:\n",
    "5\n",
    "9\n",
    "11\n",
    "12"
   ]
  },
  {
   "cell_type": "code",
   "execution_count": null,
   "metadata": {
    "slideshow": {
     "slide_type": "slide"
    }
   },
   "outputs": [],
   "source": [
    "Quest: You are given 2 set A and B set. Your job is to find whether set A is a strict superset of each of the B sets.\n",
    "Print True, if A is a strict superset of each of the B sets. Otherwise, print False.\n",
    "\n",
    "A strict superset has at least one element that does not exist in its subset.\n",
    "\n",
    "Example: \n",
    "    Set is {1,3,4} a strict superset of set {1,3}.\n",
    "    Set is {1,3,4} not a strict superset of set {1,3,4}.\n",
    "    Set is {1,3,4} not a strict superset of set {1,3,5}.\n",
    "\n",
    "Sample Input:\n",
    "    A --> 1 2 3 4 5 6 7 8 9 10 11 12 23 45 84 78\n",
    "\n",
    "Chekc for these two set b1 and b2:\n",
    "    B1 --> 1 2 3 4 5\n",
    "    B2 --> 100 11 12\n",
    "\n",
    "Sample Output:\n",
    "    True\n",
    "    False"
   ]
  },
  {
   "cell_type": "code",
   "execution_count": null,
   "metadata": {
    "slideshow": {
     "slide_type": "slide"
    }
   },
   "outputs": [],
   "source": [
    "Ques : The students of District College have subscriptions to English and French newspapers. Some students have subscribed \n",
    "    only to English, some have subscribed to only French and some have subscribed to both newspapers.You are given two sets \n",
    "    of student roll numbers. One set has subscribed to the English newspaper, and the other set is subscribed to the French \n",
    "    newspaper. The same student could be in both sets. Your task is to find the total number of students who have subscribed \n",
    "    to at least one newspaper.\n",
    "\n",
    "Input Format:\n",
    "    - The first line contains an integer, N the number of students who have subscribed to the English newspaper.\n",
    "    - The second line contains N space separated roll numbers of those students.\n",
    "    - The third line contains B, the number of students who have subscribed to the French newspaper.\n",
    "    - The fourth line contains B space separated roll numbers of those students.\n",
    "\n",
    "Output Format:\n",
    "    - Output the total number of students who have at least one subscription.\n",
    "    - Output the total number of students who have at both subscription.\n",
    "    - Output the total number of students who have English newspaper subscription.\n",
    "\n",
    "## Example\n",
    "Sample Input:\n",
    "    N -> 9\n",
    "    N number Student -> 1 2 3 4 5 6 7 8 9\n",
    "    B -> 9\n",
    "    B number Student -> 10 1 2 3 11 21 55 6 8\n",
    "\n",
    "Sample Output:\n",
    "    13"
   ]
  }
 ],
 "metadata": {
  "celltoolbar": "Slideshow",
  "kernelspec": {
   "display_name": "Python 3",
   "language": "python",
   "name": "python3"
  },
  "language_info": {
   "codemirror_mode": {
    "name": "ipython",
    "version": 3
   },
   "file_extension": ".py",
   "mimetype": "text/x-python",
   "name": "python",
   "nbconvert_exporter": "python",
   "pygments_lexer": "ipython3",
   "version": "3.7.3"
  }
 },
 "nbformat": 4,
 "nbformat_minor": 4
}
