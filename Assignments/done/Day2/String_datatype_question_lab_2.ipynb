{
 "cells": [
  {
   "cell_type": "markdown",
   "metadata": {
    "slideshow": {
     "slide_type": "slide"
    }
   },
   "source": [
    "## Sequence Type of DataType"
   ]
  },
  {
   "cell_type": "markdown",
   "metadata": {
    "slideshow": {
     "slide_type": "fragment"
    }
   },
   "source": [
    "- In Python, sequence is the ordered collection of similar or different data types.\n",
    "- Sequences allows to store multiple values in an organized and efficient fashion.\n",
    "- There are several sequence types in Python\n",
    "    - String \n",
    "    - List\n",
    "    - Tuple"
   ]
  },
  {
   "cell_type": "markdown",
   "metadata": {
    "slideshow": {
     "slide_type": "slide"
    }
   },
   "source": [
    "## String DataType"
   ]
  },
  {
   "cell_type": "markdown",
   "metadata": {
    "slideshow": {
     "slide_type": "fragment"
    }
   },
   "source": [
    "- In Python, Strings are arrays of bytes representing Unicode characters.\n",
    "- A string is a collection of one or more characters put in a single quote, double-quote or triple quote. \n",
    "- In python there is no character data type, a character is a string of length one. It is represented by str class."
   ]
  },
  {
   "cell_type": "markdown",
   "metadata": {
    "slideshow": {
     "slide_type": "slide"
    }
   },
   "source": [
    "## Examples: "
   ]
  },
  {
   "cell_type": "code",
   "execution_count": 10,
   "metadata": {
    "slideshow": {
     "slide_type": "fragment"
    }
   },
   "outputs": [
    {
     "name": "stdout",
     "output_type": "stream",
     "text": [
      "String with the use of Single Quotes: \n",
      "Welcome to the Grass. \n",
      "Class : <class 'str'>\n"
     ]
    }
   ],
   "source": [
    "String1 = 'Welcome to the Grass.'\n",
    "print(\"String with the use of Single Quotes: \")\n",
    "print(String1,'\\nClass :',type(String1)) "
   ]
  },
  {
   "cell_type": "code",
   "execution_count": 19,
   "metadata": {
    "slideshow": {
     "slide_type": "slide"
    }
   },
   "outputs": [
    {
     "name": "stdout",
     "output_type": "stream",
     "text": [
      "All the method in String :  ['__repr__', '__hash__', '__str__', '__getattribute__', '__lt__', '__le__', '__eq__', '__ne__', '__gt__', '__ge__', '__iter__', '__mod__', '__rmod__', '__len__', '__getitem__', '__add__', '__mul__', '__rmul__', '__contains__', '__new__', 'encode', 'replace', 'split', 'rsplit', 'join', 'capitalize', 'casefold', 'title', 'center', 'count', 'expandtabs', 'find', 'partition', 'index', 'ljust', 'lower', 'lstrip', 'rfind', 'rindex', 'rjust', 'rstrip', 'rpartition', 'splitlines', 'strip', 'swapcase', 'translate', 'upper', 'startswith', 'endswith', 'isascii', 'islower', 'isupper', 'istitle', 'isspace', 'isdecimal', 'isdigit', 'isnumeric', 'isalpha', 'isalnum', 'isidentifier', 'isprintable', 'zfill', 'format', 'format_map', '__format__', 'maketrans', '__sizeof__', '__getnewargs__', '__doc__', '__setattr__', '__delattr__', '__init__', '__reduce_ex__', '__reduce__', '__subclasshook__', '__init_subclass__', '__dir__', '__class__']\n"
     ]
    }
   ],
   "source": [
    "print('All the method in String : ',String1.__dir__())"
   ]
  },
  {
   "cell_type": "markdown",
   "metadata": {
    "slideshow": {
     "slide_type": "slide"
    }
   },
   "source": [
    "## Accessing characters in Python"
   ]
  },
  {
   "cell_type": "markdown",
   "metadata": {
    "slideshow": {
     "slide_type": "fragment"
    }
   },
   "source": [
    "- In Python, individual characters of a String can be accessed by using the method of Indexing. "
   ]
  },
  {
   "cell_type": "markdown",
   "metadata": {
    "slideshow": {
     "slide_type": "fragment"
    }
   },
   "source": [
    "- Indexing allows negative address references to access characters from the back of the String, e.g. -1 refers to the last character, -2 refers to the second last character and so on."
   ]
  },
  {
   "cell_type": "markdown",
   "metadata": {
    "slideshow": {
     "slide_type": "slide"
    }
   },
   "source": [
    "#### Note : \n",
    "- While accessing an index out of the range will cause an IndexError. \n",
    "- Only Integers are allowed to be passed as an index, float or other types will cause a TypeError."
   ]
  },
  {
   "cell_type": "markdown",
   "metadata": {
    "slideshow": {
     "slide_type": "fragment"
    }
   },
   "source": [
    "<!-- ![\"string.png\"](./string.png \"title\") -->\n",
    "<!-- https://drive.google.com/file/d/1R17428UvStEgqRIaRJcwsAy3In8N78Qa/view?usp=sharing -->\n",
    "![string.png](https://drive.google.com/uc?export=view&id=1R17428UvStEgqRIaRJcwsAy3In8N78Qa \"Indexing\")\n",
    "<!-- <img src='https://drive.google.com/uc?id=1dwZb_dFGzWXQ4qn6Avrb4FcigBMpRCLF' /> -->\n",
    "<!-- https://drive.google.com/file/d/1dwZb_dFGzWXQ4qn6Avrb4FcigBMpRCLF/view?usp=sharing -->\n",
    "<!-- https://drive.google.com/file/d/1dwZb_dFGzWXQ4qn6Avrb4FcigBMpRCLF/view?usp=sharing -->"
   ]
  },
  {
   "cell_type": "code",
   "execution_count": 34,
   "metadata": {
    "slideshow": {
     "slide_type": "slide"
    }
   },
   "outputs": [
    {
     "name": "stdout",
     "output_type": "stream",
     "text": [
      "\n",
      "First character of String is: \n",
      "G\n",
      "\n",
      "Last character of String is: \n",
      "e\n"
     ]
    }
   ],
   "source": [
    "# Example\n",
    "# Python Program to Access \n",
    "# characters of String \n",
    "\n",
    "String1 = 'GrassOnline' \n",
    "# Printing First character \n",
    "print(\"\\nFirst character of String is: \") \n",
    "print(String1[0]) \n",
    "  \n",
    "# Printing Last character \n",
    "print(\"\\nLast character of String is: \") \n",
    "print(String1[-1])"
   ]
  },
  {
   "cell_type": "markdown",
   "metadata": {
    "slideshow": {
     "slide_type": "slide"
    }
   },
   "source": [
    "## String Slicing"
   ]
  },
  {
   "cell_type": "markdown",
   "metadata": {
    "slideshow": {
     "slide_type": "fragment"
    }
   },
   "source": [
    "- To access a range of characters in the String, method of slicing is used. Slicing in a String is done by using a Slicing operator (colon)."
   ]
  },
  {
   "cell_type": "code",
   "execution_count": 41,
   "metadata": {
    "slideshow": {
     "slide_type": "fragment"
    }
   },
   "outputs": [
    {
     "name": "stdout",
     "output_type": "stream",
     "text": [
      "\n",
      "Slicing characters from 0-6: \n",
      "String\n",
      "\n",
      "Slicing characters from 0-6: \n",
      "Data\n"
     ]
    }
   ],
   "source": [
    "# Example\n",
    "# Python Program to \n",
    "# demonstrate String slicing \n",
    "\n",
    "String1 = 'String_Data_Type'\n",
    "\n",
    "# Printing 0 to 6th character \n",
    "print(\"\\nSlicing characters from 0-6: \") \n",
    "print(String1[0:6]) \n",
    "\n",
    "# Printing characters between \n",
    "print(\"\\nSlicing characters from 7 to -5: \") \n",
    "print(String1[7:-5]) \n"
   ]
  },
  {
   "cell_type": "markdown",
   "metadata": {
    "slideshow": {
     "slide_type": "slide"
    }
   },
   "source": [
    "## Deleting/Updating from a String"
   ]
  },
  {
   "cell_type": "markdown",
   "metadata": {
    "slideshow": {
     "slide_type": "fragment"
    }
   },
   "source": [
    "- In Python, Updation or deletion of characters from a String is not allowed. "
   ]
  },
  {
   "cell_type": "markdown",
   "metadata": {
    "slideshow": {
     "slide_type": "fragment"
    }
   },
   "source": [
    "- This is because Strings are immutable, hence elements of a String cannot be changed once it has been assigned."
   ]
  },
  {
   "cell_type": "markdown",
   "metadata": {
    "slideshow": {
     "slide_type": "fragment"
    }
   },
   "source": [
    "- This will cause an error because item assignment or item deletion from a String is not supported."
   ]
  },
  {
   "cell_type": "code",
   "execution_count": 46,
   "metadata": {
    "slideshow": {
     "slide_type": "slide"
    }
   },
   "outputs": [
    {
     "ename": "TypeError",
     "evalue": "'str' object does not support item assignment",
     "output_type": "error",
     "traceback": [
      "\u001b[1;31m----------------------------------------------------------------------\u001b[0m",
      "\u001b[1;31mTypeError\u001b[0m                            Traceback (most recent call last)",
      "\u001b[1;32m<ipython-input-46-225d21998190>\u001b[0m in \u001b[0;36m<module>\u001b[1;34m\u001b[0m\n\u001b[0;32m      2\u001b[0m \u001b[1;31m# character of a String\u001b[0m\u001b[1;33m\u001b[0m\u001b[1;33m\u001b[0m\u001b[1;33m\u001b[0m\u001b[0m\n\u001b[0;32m      3\u001b[0m \u001b[0mstring\u001b[0m \u001b[1;33m=\u001b[0m \u001b[1;34m\"Hello, I'm a Geek\"\u001b[0m\u001b[1;33m\u001b[0m\u001b[1;33m\u001b[0m\u001b[0m\n\u001b[1;32m----> 4\u001b[1;33m \u001b[0mString1\u001b[0m\u001b[1;33m[\u001b[0m\u001b[1;36m2\u001b[0m\u001b[1;33m]\u001b[0m \u001b[1;33m=\u001b[0m \u001b[1;34m'p'\u001b[0m     \u001b[1;31m### This give error\u001b[0m\u001b[1;33m\u001b[0m\u001b[1;33m\u001b[0m\u001b[0m\n\u001b[0m\u001b[0;32m      5\u001b[0m \u001b[0mprint\u001b[0m\u001b[1;33m(\u001b[0m\u001b[1;34m\"Updating character at 2nd Index: \"\u001b[0m\u001b[1;33m)\u001b[0m\u001b[1;33m\u001b[0m\u001b[1;33m\u001b[0m\u001b[0m\n\u001b[0;32m      6\u001b[0m \u001b[0mprint\u001b[0m\u001b[1;33m(\u001b[0m\u001b[0mString1\u001b[0m\u001b[1;33m)\u001b[0m\u001b[1;33m\u001b[0m\u001b[1;33m\u001b[0m\u001b[0m\n",
      "\u001b[1;31mTypeError\u001b[0m: 'str' object does not support item assignment"
     ]
    }
   ],
   "source": [
    "# Python Program to Update \n",
    "# character of a String \n",
    "string = \"Hello, I'm a Geek\"\n",
    "String1[2] = 'p'     ### This give error \n",
    "print(\"Updating character at 2nd Index: \") \n",
    "print(String1) "
   ]
  },
  {
   "cell_type": "markdown",
   "metadata": {
    "slideshow": {
     "slide_type": "slide"
    }
   },
   "source": [
    "## Escape Sequencing in Python"
   ]
  },
  {
   "cell_type": "markdown",
   "metadata": {
    "slideshow": {
     "slide_type": "fragment"
    }
   },
   "source": [
    "- Escape sequences start with a backslash and can be interpreted differently. "
   ]
  },
  {
   "cell_type": "markdown",
   "metadata": {
    "slideshow": {
     "slide_type": "fragment"
    }
   },
   "source": [
    "- If single quotes are used to represent a string, then all the single quotes present in the string must be escaped and same is done for Double Quotes."
   ]
  },
  {
   "cell_type": "code",
   "execution_count": 43,
   "metadata": {
    "slideshow": {
     "slide_type": "slide"
    }
   },
   "outputs": [
    {
     "name": "stdout",
     "output_type": "stream",
     "text": [
      "\n",
      "Escaping Double Quotes: \n",
      "I'm a \"Geek\"\n",
      "\n",
      "Escaping Backslashes: \n",
      "C:\\Python\\Geeks\\\n"
     ]
    }
   ],
   "source": [
    "# Escaping Doule Quotes \n",
    "String1 = \"I'm a \\\"Geek\\\"\"\n",
    "print(\"\\nEscaping Double Quotes: \") \n",
    "print(String1) \n",
    "  \n",
    "# Printing Paths with the  \n",
    "# use of Escape Sequences \n",
    "String1 = \"C:\\\\Python\\\\Geeks\\\\\"\n",
    "print(\"\\nEscaping Backslashes: \") \n",
    "print(String1) "
   ]
  },
  {
   "cell_type": "markdown",
   "metadata": {
    "slideshow": {
     "slide_type": "slide"
    }
   },
   "source": [
    "## Formatting of Strings"
   ]
  },
  {
   "cell_type": "markdown",
   "metadata": {
    "slideshow": {
     "slide_type": "fragment"
    }
   },
   "source": [
    "- Strings in Python can be formatted with the use of format() method which is very versatile and powerful tool for formatting of Strings. "
   ]
  },
  {
   "cell_type": "markdown",
   "metadata": {
    "slideshow": {
     "slide_type": "fragment"
    }
   },
   "source": [
    "- Format method in String contains curly braces {} as placeholders which can hold arguments according to position or keyword to specify the order."
   ]
  },
  {
   "cell_type": "code",
   "execution_count": 6,
   "metadata": {
    "slideshow": {
     "slide_type": "slide"
    }
   },
   "outputs": [
    {
     "name": "stdout",
     "output_type": "stream",
     "text": [
      "Print String in default order: \n",
      "Geeks For Life\n",
      "\n",
      "Print String in Positional order: \n",
      "For Geeks Life\n",
      "\n",
      "Print String in order of Keywords: \n",
      "Life For Geeks\n",
      "\n",
      "Hello, My name is Tushar and I'm 23 years old.\n"
     ]
    }
   ],
   "source": [
    "# Python Program for \n",
    "# Formatting of Strings \n",
    "  \n",
    "# Default order \n",
    "String1 = \"{} {} {}\".format('Geeks', 'For', 'Life') \n",
    "print(\"Print String in default order: \") \n",
    "print(String1) \n",
    "  \n",
    "# Positional Formatting \n",
    "String1 = \"{1} {0} {2}\".format('Geeks', 'For', 'Life') \n",
    "print(\"\\nPrint String in Positional order: \") \n",
    "print(String1) \n",
    "  \n",
    "# Keyword Formatting \n",
    "String1 = \"{l} {f} {g}\".format(g = 'Geeks', f = 'For', l = 'Life') \n",
    "print(\"\\nPrint String in order of Keywords: \") \n",
    "print(String1)\n",
    "print()\n",
    "\n",
    "# Using f-string : most imp.\n",
    "name = 'Tushar'\n",
    "age = 23\n",
    "print(f\"Hello, My name is {name} and I'm {age} years old.\") "
   ]
  },
  {
   "cell_type": "markdown",
   "metadata": {
    "slideshow": {
     "slide_type": "slide"
    }
   },
   "source": [
    "***A string can be left() or center(^) justified with the use of format specifiers, separated by colon(:).***"
   ]
  },
  {
   "cell_type": "code",
   "execution_count": 45,
   "metadata": {
    "slideshow": {
     "slide_type": "fragment"
    }
   },
   "outputs": [
    {
     "name": "stdout",
     "output_type": "stream",
     "text": [
      "\n",
      "Left, center and right alignment with Formatting: \n",
      "|HOW       |   ARE    |       YOU|\n",
      "\n",
      "     Python      was founded in 1989!\n"
     ]
    }
   ],
   "source": [
    "# String alignment \n",
    "String1 = \"|{:<10}|{:^10}|{:>10}|\".format('HOW','ARE','YOU') \n",
    "print(\"\\nLeft, center and right alignment with Formatting: \") \n",
    "print(String1) \n",
    "  \n",
    "# To demonstrate aligning of spaces  \n",
    "String1 = \"\\n{0:^16} was founded in {1:<4}!\".format(\"Python\", 1989) \n",
    "print(String1) "
   ]
  },
  {
   "cell_type": "markdown",
   "metadata": {
    "slideshow": {
     "slide_type": "slide"
    }
   },
   "source": [
    "## Two Important Method in String "
   ]
  },
  {
   "cell_type": "markdown",
   "metadata": {
    "slideshow": {
     "slide_type": "fragment"
    }
   },
   "source": [
    "- Split method\n",
    "- join method"
   ]
  },
  {
   "cell_type": "markdown",
   "metadata": {
    "slideshow": {
     "slide_type": "slide"
    }
   },
   "source": [
    "### 1. Split Method"
   ]
  },
  {
   "cell_type": "markdown",
   "metadata": {
    "slideshow": {
     "slide_type": "fragment"
    }
   },
   "source": [
    "* The **split()** method splits a string into a list.\n",
    "* You can specify the separator, default separator is whitespace."
   ]
  },
  {
   "cell_type": "code",
   "execution_count": 14,
   "metadata": {
    "slideshow": {
     "slide_type": "fragment"
    }
   },
   "outputs": [
    {
     "name": "stdout",
     "output_type": "stream",
     "text": [
      "['hello', 'my name is Peter', 'I am 26 years old']\n"
     ]
    }
   ],
   "source": [
    "# Example\n",
    "txt = \"hello, my name is Peter, I am 26 years old\"\n",
    "x = txt.split(\", \") ## Syntex : string.split(sep, maxsplit)\n",
    "print(x)"
   ]
  },
  {
   "cell_type": "markdown",
   "metadata": {
    "slideshow": {
     "slide_type": "slide"
    }
   },
   "source": [
    "### 2. Join Method"
   ]
  },
  {
   "cell_type": "markdown",
   "metadata": {
    "slideshow": {
     "slide_type": "fragment"
    }
   },
   "source": [
    "* The join() method takes all items in an iterable and joins them into one string.\n",
    "* A string must be specified as the separator."
   ]
  },
  {
   "cell_type": "code",
   "execution_count": 13,
   "metadata": {
    "slideshow": {
     "slide_type": "fragment"
    }
   },
   "outputs": [
    {
     "name": "stdout",
     "output_type": "stream",
     "text": [
      "We are study in Grass.\n"
     ]
    }
   ],
   "source": [
    "# Example\n",
    "myList = [\"We\",'are',\"\"\"study in Grass.\"\"\"]\n",
    "string = ' '.join(myList)  # Syntex  : string.join(iterable)\n",
    "\n",
    "print(string)"
   ]
  },
  {
   "cell_type": "markdown",
   "metadata": {
    "slideshow": {
     "slide_type": "slide"
    }
   },
   "source": [
    "### String Related Questions"
   ]
  },
  {
   "cell_type": "code",
   "execution_count": 1,
   "metadata": {
    "slideshow": {
     "slide_type": "fragment"
    }
   },
   "outputs": [
    {
     "name": "stdout",
     "output_type": "stream",
     "text": [
      "eneicS\n"
     ]
    }
   ],
   "source": [
    "# Ques : Extract the Science sub string in reversed order using slicing.\n",
    "string = 'DataSciene'\n",
    "print(string[-1:-7:-1])"
   ]
  },
  {
   "cell_type": "code",
   "execution_count": 3,
   "metadata": {
    "slideshow": {
     "slide_type": "fragment"
    }
   },
   "outputs": [
    {
     "name": "stdout",
     "output_type": "stream",
     "text": [
      "hOWaREyOU123\n"
     ]
    }
   ],
   "source": [
    "# Ques : Convert the string lower latter to upper latter and vice-versa.\n",
    "string = 'HowAreYou123'    \n",
    "print(string.swapcase())   ## try other method to slove lab questions."
   ]
  },
  {
   "cell_type": "code",
   "execution_count": 4,
   "metadata": {
    "slideshow": {
     "slide_type": "fragment"
    }
   },
   "outputs": [
    {
     "name": "stdout",
     "output_type": "stream",
     "text": [
      "['python', 'java', 'c++', 'c']\n"
     ]
    }
   ],
   "source": [
    "# Ques : Extract the computer language using split method.\n",
    "word = 'python:java:c++:c'\n",
    "print(word.split(':'))"
   ]
  },
  {
   "cell_type": "code",
   "execution_count": null,
   "metadata": {
    "slideshow": {
     "slide_type": "slide"
    }
   },
   "outputs": [],
   "source": [
    "## Do it yourself\n",
    "Ques: You have a non-empty string is given. In ths string we have mutiple function and methods are given.Use those method and \n",
    "    do the task, Your task is find starting 5 even index character.Then also find the Last odd 5 even index character in the \n",
    "    reverse order.\n",
    "\n",
    "Input Format:\n",
    "    String = 'DataScience'\n",
    "    \n",
    "Output Format:\n",
    "    Output : 'DtSin'\n",
    "    Output : 'niStD'"
   ]
  },
  {
   "cell_type": "code",
   "execution_count": null,
   "metadata": {
    "slideshow": {
     "slide_type": "slide"
    }
   },
   "outputs": [],
   "source": [
    "Ques : You have a non-empty string is given. In the String datatype we have some method using those method you need \n",
    "    to perform theis task. The task is you have complete line is given with some spaces so you need to perform all \n",
    "    the outputs which is describe here.\n",
    "    \n",
    "Input Format:\n",
    "    Given string  = '    Talk Is Cheap! Show me the code.      ' \n",
    "    Convert this string into following outputs.\n",
    "    \n",
    "Output Format:\n",
    "    output1 : '    TALK IS CHEAP! SHOW ME THE CODE.      '\n",
    "    output2 : '    Talk Is Cheap! Show Me The Code.      '\n",
    "    output3 : '    TALK IS CHEAP! SHOW ME THE CODE.      '\n",
    "    output4 : '    Talk Is Cheap! Show me the code.'\n",
    "    output5 : 'Talk Is Cheap! Show me the code.      '\n",
    "    output6 : 'Talk Is Cheap! Show me the code.'\n",
    "    output7 : '    TALK IS CHEAP! SHOW ME THE CODE.      '\n",
    "    output8 : '***************************    Talking Is Cheap! Show me the code.      ****************************'"
   ]
  },
  {
   "cell_type": "code",
   "execution_count": null,
   "metadata": {
    "slideshow": {
     "slide_type": "slide"
    }
   },
   "outputs": [],
   "source": [
    "Ques : Given an integer N print the following values for each integer i from 1 to N in these format.\n",
    "    1. Decimal\n",
    "    2. Octal\n",
    "    3. Hexadecimal (capitalized)\n",
    "    4. Binary\n",
    "The four values must be printed on a single line in the order specified above for each i from 1 to N. \n",
    "Each value should be space-padded to match the width of the binary value of N.\n",
    "\n",
    "Example :\n",
    "Sample Input : 17 --> 10001  ## hint : String Formatting using width of the binary value.\n",
    "\n",
    "        \n",
    "Sample Output:\n",
    "    1     1     1     1\n",
    "    2     2     2    10\n",
    "    3     3     3    11\n",
    "    4     4     4   100\n",
    "    5     5     5   101\n",
    "    6     6     6   110\n",
    "    7     7     7   111\n",
    "    8    10     8  1000\n",
    "    9    11     9  1001\n",
    "   10    12     A  1010\n",
    "   11    13     B  1011\n",
    "   12    14     C  1100\n",
    "   13    15     D  1101\n",
    "   14    16     E  1110\n",
    "   15    17     F  1111\n",
    "   16    20    10 10000\n",
    "   17    21    11 10001 "
   ]
  },
  {
   "cell_type": "code",
   "execution_count": null,
   "metadata": {
    "slideshow": {
     "slide_type": "slide"
    }
   },
   "outputs": [],
   "source": [
    "Ques : This task is related to text preprocessing Which will help you to understand the text image processing. You have a\n",
    "    paragraph is given. Your task is to preform these setps for text preprocessing. \n",
    "    Tasks:\n",
    "        1. Remove all the comma (,) in this paragraph.\n",
    "        2. Remove all the dots (.) in this paragraph.\n",
    "        3. Remove all the stopwords like \"and\",\"a\",\"the\",\"in\",\"of\",\"is\",\"on\".\n",
    "        4. Print the remaining paragraph.\n",
    "\n",
    "# Note Usecase : This will help you to understand when you learn about NLP in machine learning. There is a concept of text preprocessing.\n",
    "    \n",
    "paragraph = \"\"\"I have three visions for India. In 3000 years of our history people from all over the world have come and invaded\n",
    "    us, captured our lands, conquered our minds. From Alexander onwards the Greeks, the Turks, the Moguls, the Portuguese,the\n",
    "    British, the French, the Dutch, all of them came and looted us, took over what was ours. Yet we have not done this to any \n",
    "    other nation. We have not conquered anyone. We have not grabbed their land, their culture and their history and tried to \n",
    "    enforce our way of life on them. Why? Because we respect the freedom of others. That is why my FIRST VISION is that of \n",
    "    FREEDOM. I believe that India got its first vision of this in 1857, when we started the war of Independence. It is this \n",
    "    freedom that we must protect and nurture and build on. If we are not free, no one will respect us.\"\"\""
   ]
  }
 ],
 "metadata": {
  "celltoolbar": "Slideshow",
  "hide_input": false,
  "kernelspec": {
   "display_name": "Python 3",
   "language": "python",
   "name": "python3"
  },
  "language_info": {
   "codemirror_mode": {
    "name": "ipython",
    "version": 3
   },
   "file_extension": ".py",
   "mimetype": "text/x-python",
   "name": "python",
   "nbconvert_exporter": "python",
   "pygments_lexer": "ipython3",
   "version": "3.8.5"
  },
  "toc": {
   "base_numbering": 1,
   "nav_menu": {},
   "number_sections": true,
   "sideBar": true,
   "skip_h1_title": false,
   "title_cell": "Table of Contents",
   "title_sidebar": "Contents",
   "toc_cell": false,
   "toc_position": {},
   "toc_section_display": true,
   "toc_window_display": false
  },
  "varInspector": {
   "cols": {
    "lenName": 16,
    "lenType": 16,
    "lenVar": 40
   },
   "kernels_config": {
    "python": {
     "delete_cmd_postfix": "",
     "delete_cmd_prefix": "del ",
     "library": "var_list.py",
     "varRefreshCmd": "print(var_dic_list())"
    },
    "r": {
     "delete_cmd_postfix": ") ",
     "delete_cmd_prefix": "rm(",
     "library": "var_list.r",
     "varRefreshCmd": "cat(var_dic_list()) "
    }
   },
   "types_to_exclude": [
    "module",
    "function",
    "builtin_function_or_method",
    "instance",
    "_Feature"
   ],
   "window_display": false
  }
 },
 "nbformat": 4,
 "nbformat_minor": 2
}
