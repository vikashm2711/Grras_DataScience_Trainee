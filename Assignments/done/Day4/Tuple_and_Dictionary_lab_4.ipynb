{
 "cells": [
  {
   "cell_type": "markdown",
   "metadata": {
    "slideshow": {
     "slide_type": "slide"
    }
   },
   "source": [
    "# Tuple DataType"
   ]
  },
  {
   "cell_type": "markdown",
   "metadata": {
    "slideshow": {
     "slide_type": "fragment"
    }
   },
   "source": [
    "- Tuple is a collection of Python objects much like a list."
   ]
  },
  {
   "cell_type": "markdown",
   "metadata": {
    "slideshow": {
     "slide_type": "fragment"
    }
   },
   "source": [
    "- The sequence of values stored in a tuple can be of any type, and they are indexed by integers."
   ]
  },
  {
   "cell_type": "markdown",
   "metadata": {
    "slideshow": {
     "slide_type": "fragment"
    }
   },
   "source": [
    "- Tuples are created by placing sequence of values separated by ‘comma’ with or without the use of parentheses for grouping of data sequence."
   ]
  },
  {
   "cell_type": "markdown",
   "metadata": {
    "slideshow": {
     "slide_type": "fragment"
    }
   },
   "source": [
    "- Tuple is immutable."
   ]
  },
  {
   "cell_type": "markdown",
   "metadata": {
    "slideshow": {
     "slide_type": "slide"
    }
   },
   "source": [
    "### Tuple All methods"
   ]
  },
  {
   "cell_type": "code",
   "execution_count": 10,
   "metadata": {
    "slideshow": {
     "slide_type": "fragment"
    }
   },
   "outputs": [
    {
     "name": "stdout",
     "output_type": "stream",
     "text": [
      "['__add__', '__class__', '__contains__', '__delattr__', '__dir__', '__doc__', '__eq__', '__format__', '__ge__', '__getattribute__', '__getitem__', '__getnewargs__', '__gt__', '__hash__', '__init__', '__init_subclass__', '__iter__', '__le__', '__len__', '__lt__', '__mul__', '__ne__', '__new__', '__reduce__', '__reduce_ex__', '__repr__', '__rmul__', '__setattr__', '__sizeof__', '__str__', '__subclasshook__', 'count', 'index']\n"
     ]
    }
   ],
   "source": [
    "val = tuple()\n",
    "print(dir(val))"
   ]
  },
  {
   "cell_type": "code",
   "execution_count": 11,
   "metadata": {
    "slideshow": {
     "slide_type": "fragment"
    }
   },
   "outputs": [
    {
     "name": "stdout",
     "output_type": "stream",
     "text": [
      "<class 'tuple'>\n"
     ]
    }
   ],
   "source": [
    "## Example :\n",
    "val = 1,2,3,4,5\n",
    "print(type(val))"
   ]
  },
  {
   "cell_type": "markdown",
   "metadata": {
    "slideshow": {
     "slide_type": "slide"
    }
   },
   "source": [
    "# Dictionary DataType"
   ]
  },
  {
   "cell_type": "markdown",
   "metadata": {
    "slideshow": {
     "slide_type": "fragment"
    }
   },
   "source": [
    "![image](https://drive.google.com/uc?export=view&id=1dwZb_dFGzWXQ4qn6Avrb4FcigBMpRCLF \"dict\")\n",
    "<!-- <img src='https://drive.google.com/uc?id=1dwZb_dFGzWXQ4qn6Avrb4FcigBMpRCLF' /> -->\n",
    "<!-- https://drive.google.com/file/d/1dwZb_dFGzWXQ4qn6Avrb4FcigBMpRCLF/view?usp=sharing -->\n",
    "<!-- https://drive.google.com/file/d/1dwZb_dFGzWXQ4qn6Avrb4FcigBMpRCLF/view?usp=sharing -->"
   ]
  },
  {
   "cell_type": "markdown",
   "metadata": {
    "slideshow": {
     "slide_type": "fragment"
    }
   },
   "source": [
    "- Dictionary in Python is an unordered collection of data values, used to store data values like a map, which unlike other Data Types that hold only single value as an element, Dictionary holds key:value pair.\n",
    "- Keys in a dictionary doesn’t allows Polymorphism."
   ]
  },
  {
   "cell_type": "markdown",
   "metadata": {
    "slideshow": {
     "slide_type": "slide"
    }
   },
   "source": [
    "## Creating a Dictionary"
   ]
  },
  {
   "cell_type": "markdown",
   "metadata": {
    "slideshow": {
     "slide_type": "fragment"
    }
   },
   "source": [
    "- Dictionary can be created by placing sequence of elements within curly {} braces, separated by ‘comma’."
   ]
  },
  {
   "cell_type": "markdown",
   "metadata": {
    "slideshow": {
     "slide_type": "fragment"
    }
   },
   "source": [
    "- Dictionary holds a pair of values, one being the Key and the other corresponding pair element being its Key:value."
   ]
  },
  {
   "cell_type": "markdown",
   "metadata": {
    "slideshow": {
     "slide_type": "fragment"
    }
   },
   "source": [
    "- Values in a dictionary can be of any datatype and can be duplicated, whereas keys can’t be repeated and must be immutable."
   ]
  },
  {
   "cell_type": "markdown",
   "metadata": {
    "slideshow": {
     "slide_type": "fragment"
    }
   },
   "source": [
    "- Dictionary keys are case sensitive, same name but different cases of Key will be treated distinctly."
   ]
  },
  {
   "cell_type": "code",
   "execution_count": 3,
   "metadata": {
    "slideshow": {
     "slide_type": "slide"
    }
   },
   "outputs": [
    {
     "name": "stdout",
     "output_type": "stream",
     "text": [
      "Dictionary with the use of Mixed Keys: \n",
      "{'Name': ['Arjun', 'Ravi', 'Aaju'], 'rank': [1, 2, 3]}\n"
     ]
    }
   ],
   "source": [
    "## Example : Creating a Dictionary  \n",
    "students = {'Name': ['Arjun','Ravi','Aaju'], 'rank': [1, 2, 3]} \n",
    "print(\"Dictionary with the use of Mixed Keys: \") \n",
    "print(students) "
   ]
  },
  {
   "cell_type": "markdown",
   "metadata": {
    "slideshow": {
     "slide_type": "slide"
    }
   },
   "source": [
    "## Nested Dictionary:"
   ]
  },
  {
   "cell_type": "markdown",
   "metadata": {
    "slideshow": {
     "slide_type": "fragment"
    }
   },
   "source": [
    "<!-- ![image](./keys.png \"image\") -->\n",
    "<!-- https://drive.google.com/file/d/1AlG4ryxakk0CCPh7rkiOfF6mfCFl40Ov/view?usp=sharing -->\n",
    "![keys.png](https://drive.google.com/uc?export=view&id=1AlG4ryxakk0CCPh7rkiOfF6mfCFl40Ov \"dict\")\n",
    "<!-- <img alt=\"A Rockhopper Penguin standing on a beach.\" src=\"./keys.png\" width=500px height=500px> -->"
   ]
  },
  {
   "cell_type": "code",
   "execution_count": 4,
   "metadata": {
    "slideshow": {
     "slide_type": "slide"
    }
   },
   "outputs": [
    {
     "name": "stdout",
     "output_type": "stream",
     "text": [
      "{1: 'hello', 2: 'Friends', 3: {'A': 'Welcome', 'B': 'To', 'C': 'GRRAS'}}\n"
     ]
    }
   ],
   "source": [
    "#Example\n",
    "# Creating a Nested Dictionary \n",
    "# as shown in the below image \n",
    "values = {1: 'hello', 2: 'Friends', 3:{'A' : 'Welcome', 'B' : 'To', 'C' : 'GRRAS'}} \n",
    "\n",
    "print(values) "
   ]
  },
  {
   "cell_type": "markdown",
   "metadata": {
    "slideshow": {
     "slide_type": "slide"
    }
   },
   "source": [
    "## Adding elements to a Dictionary"
   ]
  },
  {
   "cell_type": "markdown",
   "metadata": {
    "slideshow": {
     "slide_type": "fragment"
    }
   },
   "source": [
    "- One value at a time can be added to a Dictionary by defining value along with the key e.g. Dict[Key] = ‘Value’. \n",
    "- Updating an existing value in a Dictionary can be done by using the built-in update() method. \n",
    "- Nested key values can also be added to an existing Dictionary.\n",
    "- While adding a value, if the key value already exists, the value gets updated otherwise a new Key with the value is added to the Dictionary."
   ]
  },
  {
   "cell_type": "code",
   "execution_count": 7,
   "metadata": {
    "slideshow": {
     "slide_type": "slide"
    }
   },
   "outputs": [
    {
     "name": "stdout",
     "output_type": "stream",
     "text": [
      "Empty Dictionary: \n",
      "{}\n",
      "\n",
      "Dictionary after adding 3 elements: \n",
      "{0: 'Math', 2: 'Science', 3: 'English'}\n",
      "\n",
      "Dictionary after adding 3 elements: \n",
      "{0: 'Math', 2: 'Science', 3: 'English', 'Marks': (70, 90, 80)}\n",
      "\n",
      "Updated key value: \n",
      "{0: 'Math', 2: 'Hindi', 3: 'English', 'Marks': (70, 90, 80)}\n"
     ]
    }
   ],
   "source": [
    "# Example\n",
    "# Creating an empty Dictionary \n",
    "values = {} \n",
    "print(\"Empty Dictionary: \") \n",
    "print(values) \n",
    "  \n",
    "# Adding elements one at a time \n",
    "Dict[0] = 'Math'\n",
    "Dict[2] = 'Science'\n",
    "Dict[3] = 'English'\n",
    "print(\"\\nDictionary after adding 3 elements: \") \n",
    "print(values) \n",
    "  \n",
    "# Adding set of values  \n",
    "# to a single Key \n",
    "values['Marks'] = 70, 90, 80\n",
    "print(\"\\nDictionary after adding 3 elements: \") \n",
    "print(values) \n",
    "  \n",
    "# Updating existing Key's Value \n",
    "values[2] = 'Hindi'\n",
    "print(\"\\nUpdated key value: \") \n",
    "print(values) "
   ]
  },
  {
   "cell_type": "markdown",
   "metadata": {
    "slideshow": {
     "slide_type": "slide"
    }
   },
   "source": [
    "## Accessing elements from a Dictionary"
   ]
  },
  {
   "cell_type": "code",
   "execution_count": 9,
   "metadata": {
    "slideshow": {
     "slide_type": "fragment"
    }
   },
   "outputs": [
    {
     "name": "stdout",
     "output_type": "stream",
     "text": [
      "Accessing a element using key:\n",
      "Sachin\n",
      "Accessing a element using key:\n",
      "Person\n"
     ]
    }
   ],
   "source": [
    "#Example\n",
    "# Python program to demonstrate \n",
    "# accessing a element from a Dictionary \n",
    "\n",
    "# Creating a Dictionary \n",
    "persons = {1: 'Person', 'name': 'Sachin', 3: 'Salary'} \n",
    "\n",
    "# accessing a element using key \n",
    "print(\"Accessing a element using key:\") \n",
    "print(persons['name']) \n",
    "\n",
    "# accessing a element using key \n",
    "print(\"Accessing a element using key:\") \n",
    "print(persons[1]) "
   ]
  },
  {
   "cell_type": "markdown",
   "metadata": {
    "slideshow": {
     "slide_type": "slide"
    }
   },
   "source": [
    "## Removing Elements from Dictionary\n"
   ]
  },
  {
   "cell_type": "markdown",
   "metadata": {
    "slideshow": {
     "slide_type": "fragment"
    }
   },
   "source": [
    "#### Using del keyword"
   ]
  },
  {
   "cell_type": "markdown",
   "metadata": {
    "slideshow": {
     "slide_type": "fragment"
    }
   },
   "source": [
    "- In Python Dictionary, deletion of keys can be done by using the del keyword. \n",
    "- Using del keyword, specific values from a dictionary as well as whole dictionary can be deleted.\n",
    "- Items in a Nested dictionary can also be deleted by using del keyword and providing specific nested key and particular key to be deleted from that nested Dictionary.\n",
    "- Del Dict will delete the entire dictionary and hence printing it after deletion will raise an Error. "
   ]
  },
  {
   "cell_type": "code",
   "execution_count": 11,
   "metadata": {
    "slideshow": {
     "slide_type": "slide"
    }
   },
   "outputs": [
    {
     "name": "stdout",
     "output_type": "stream",
     "text": [
      "Initial Dictionary: \n",
      "{5: 'Welcome', 6: 'To', 7: 'CSE', 'A': {1: 'Computer', 2: 'Science', 3: 'Engg.'}, 'B': {1: 'Geeks', 2: 'Life'}}\n",
      "\n",
      "Deleting a specific key: \n",
      "{5: 'Welcome', 7: 'CSE', 'A': {1: 'Computer', 2: 'Science', 3: 'Engg.'}, 'B': {1: 'Geeks', 2: 'Life'}}\n",
      "\n",
      "Deleting a key from Nested Dictionary: \n",
      "{5: 'Welcome', 7: 'CSE', 'A': {1: 'Computer', 3: 'Engg.'}, 'B': {1: 'Geeks', 2: 'Life'}}\n"
     ]
    }
   ],
   "source": [
    "# Example\n",
    "# Initial Dictionary \n",
    "val_dict = { 5 : 'Welcome', 6 : 'To', 7 : 'CSE', \n",
    "        'A' : {1 : 'Computer', 2 : 'Science', 3 : 'Engg.'}, \n",
    "        'B' : {1 : 'Geeks', 2 : 'Life'}} \n",
    "print(\"Initial Dictionary: \") \n",
    "print(val_dict) \n",
    "  \n",
    "# Deleting a Key value \n",
    "del val_dict[6] \n",
    "print(\"\\nDeleting a specific key: \") \n",
    "print(val_dict) \n",
    "\n",
    "# Deleting a Key from Nested Dictionary \n",
    "del val_dict['A'][2] \n",
    "print(\"\\nDeleting a key from Nested Dictionary: \") \n",
    "print(val_dict)"
   ]
  },
  {
   "cell_type": "markdown",
   "metadata": {
    "slideshow": {
     "slide_type": "slide"
    }
   },
   "source": [
    "### Tuple All methods"
   ]
  },
  {
   "cell_type": "code",
   "execution_count": 12,
   "metadata": {
    "slideshow": {
     "slide_type": "fragment"
    }
   },
   "outputs": [
    {
     "name": "stdout",
     "output_type": "stream",
     "text": [
      "['__class__', '__contains__', '__delattr__', '__delitem__', '__dir__', '__doc__', '__eq__', '__format__', '__ge__', '__getattribute__', '__getitem__', '__gt__', '__hash__', '__init__', '__init_subclass__', '__iter__', '__le__', '__len__', '__lt__', '__ne__', '__new__', '__reduce__', '__reduce_ex__', '__repr__', '__setattr__', '__setitem__', '__sizeof__', '__str__', '__subclasshook__', 'clear', 'copy', 'fromkeys', 'get', 'items', 'keys', 'pop', 'popitem', 'setdefault', 'update', 'values']\n"
     ]
    }
   ],
   "source": [
    "val = dict()\n",
    "print(dir(val))"
   ]
  },
  {
   "cell_type": "markdown",
   "metadata": {
    "slideshow": {
     "slide_type": "slide"
    }
   },
   "source": [
    "## Lab Questions"
   ]
  },
  {
   "cell_type": "code",
   "execution_count": 4,
   "metadata": {
    "slideshow": {
     "slide_type": "fragment"
    }
   },
   "outputs": [
    {
     "name": "stdout",
     "output_type": "stream",
     "text": [
      "(11, 22)\n",
      "(99, 88)\n"
     ]
    }
   ],
   "source": [
    "# Quest : Swap the following two tuples.\n",
    "tuple1 = (11, 22)\n",
    "tuple2 = (99, 88)\n",
    "# Ans : \n",
    "tuple1, tuple2 = tuple2, tuple1\n",
    "print(tuple2)\n",
    "print(tuple1)"
   ]
  },
  {
   "cell_type": "code",
   "execution_count": 2,
   "metadata": {
    "slideshow": {
     "slide_type": "fragment"
    }
   },
   "outputs": [
    {
     "name": "stdout",
     "output_type": "stream",
     "text": [
      "(11, [222, 33], 44, 55)\n"
     ]
    }
   ],
   "source": [
    "# Ques : Modify the first item (22) of a list inside a following tuple to 222.\n",
    "tuple1 = (11, [22, 33], 44, 55)\n",
    "# Ans\n",
    "tuple1[1][0] = 222\n",
    "print(tuple1)"
   ]
  },
  {
   "cell_type": "code",
   "execution_count": 5,
   "metadata": {
    "slideshow": {
     "slide_type": "slide"
    }
   },
   "outputs": [
    {
     "name": "stdout",
     "output_type": "stream",
     "text": [
      "{'Ten': 10, 'Twenty': 20, 'Thirty': 30}\n"
     ]
    }
   ],
   "source": [
    "# Ques : Below are the two lists convert it into the dictionary.\n",
    "keys = ['Ten', 'Twenty', 'Thirty']\n",
    "values = [10, 20, 30]\n",
    "# Ans\n",
    "sampleDict = dict(zip(keys, values))  # zip function use to map the similar index value.\n",
    "print(sampleDict)"
   ]
  },
  {
   "cell_type": "code",
   "execution_count": 6,
   "metadata": {
    "slideshow": {
     "slide_type": "fragment"
    }
   },
   "outputs": [
    {
     "name": "stdout",
     "output_type": "stream",
     "text": [
      "{'Ten': 10, 'Twenty': 20, 'Thirty': 30, 'Fourty': 40, 'Fifty': 50}\n"
     ]
    }
   ],
   "source": [
    "# Ques :  Merge following two Python dictionaries into one.\n",
    "dict1 = {'Ten': 10, 'Twenty': 20, 'Thirty': 30}\n",
    "dict2 = {'Thirty': 30, 'Fourty': 40, 'Fifty': 50}\n",
    "# Ans :\n",
    "dict3 = {**dict1, **dict2}  ## Shotcut method  \n",
    "print(dict3)"
   ]
  },
  {
   "cell_type": "code",
   "execution_count": null,
   "metadata": {
    "slideshow": {
     "slide_type": "slide"
    }
   },
   "outputs": [],
   "source": [
    "Quest : This question is related to accessing the element. You have give a tuple where you need to access the second \n",
    "    element which is list and inside the list you need to show second element of that list.  \n",
    "    \n",
    "aTuple = (\"Orange\", [10, 20, 30], (5, 15, 25))\n",
    "Output : 20"
   ]
  },
  {
   "cell_type": "code",
   "execution_count": null,
   "metadata": {
    "slideshow": {
     "slide_type": "fragment"
    }
   },
   "outputs": [],
   "source": [
    "Ques : In this question a dictionary is given. In this dictionary student data like name, marks are already given.\n",
    "    By mistake in 'Science' subject marks 78 is filled so we want correction this marks. You need to change the Science \n",
    "    subject marks 78 to 87.\n",
    "    \n",
    "sampleDict = { \n",
    "   \"class\":{ \n",
    "      \"student\":{ \n",
    "         \"name\":\"Mike\",\n",
    "         \"marks\":{ \n",
    "            \"physics\":70,\n",
    "            \"history\":80,\n",
    "             \"Math\":75,\n",
    "             \"SST\":88,\n",
    "             \"Science\":78\n",
    "         }\n",
    "      }\n",
    "   }\n",
    "}"
   ]
  },
  {
   "cell_type": "code",
   "execution_count": null,
   "metadata": {
    "slideshow": {
     "slide_type": "slide"
    }
   },
   "outputs": [],
   "source": [
    "Ques : Suppose you have given a person information like name of person, age, salary, city. In this information need a \n",
    "    correction the 'city' need to change in the 'location'. Your task to perfrom this correction with the help of \n",
    "    dictionary methods.\n",
    "    \n",
    "sampleDict = {\n",
    "  \"name\": \"Kelly\",\n",
    "  \"age\":25,\n",
    "  \"salary\": 8000,\n",
    "  \"city\": \"New york\"\n",
    "}\n",
    "\n",
    "Output : {\n",
    "  \"name\": \"Kelly\",\n",
    "  \"age\":25,\n",
    "  \"salary\": 8000,\n",
    "  \"location\": \"New york\"\n",
    "}   ## hint use dictionary method"
   ]
  },
  {
   "cell_type": "code",
   "execution_count": null,
   "metadata": {
    "slideshow": {
     "slide_type": "slide"
    }
   },
   "outputs": [],
   "source": [
    "Ques : This is the weather API data from jaipur city. In this data we have many information is given like longitude and \n",
    "    latitude, weather condition at persent time, temperature, pressure, humidity and many more informations. Your task to \n",
    "    find the usefull information like 'City_name', 'maximum temperature' and 'minimum temperature', \"wind speed\" \n",
    "    information in m/s.\n",
    "    \n",
    "    Note : Wind speed in API data in km/h.\n",
    "        \n",
    "weather_info = {'coord': {'lon': 75.82, 'lat': 26.92}, \n",
    "                'weather': [{'id': 701, 'main': 'Mist', 'description': 'mist', 'icon': '50d'}],\n",
    "                'base': 'stations', 'main': {'temp': 303.15, 'pressure': 997, 'humidity': 74, \n",
    "                'temp_min': 303.15, 'temp_max': 303.15}, 'visibility': 3000,\n",
    "                'wind': {'speed': 4.1, 'deg': 120}, 'clouds': {'all': 40}, 'dt': 1565440871, \n",
    "                'sys': {'type': 1, 'id': 9170, 'message': 0.0068, 'country': 'IN', 'sunrise': 1565396728, \n",
    "                'sunset': 1565444338}, 'timezone': 19800, 'id': 1269515, 'name': 'Jaipur', 'cod': 200}"
   ]
  },
  {
   "cell_type": "code",
   "execution_count": null,
   "metadata": {
    "slideshow": {
     "slide_type": "slide"
    }
   },
   "outputs": [],
   "source": [
    "Ques: You have given some information related to students like student_id number , student name, and marks on three subject\n",
    "    math, Science and English. Your task is write a Python program to convert this information into the dictionary formate \n",
    "    and then claculate the percentage of each person. In this you need to learn the how the Nested Dictionary work for \n",
    "    storing student information.\n",
    "    \n",
    "student_id = ['S001', 'S002', 'S003', 'S004']\n",
    "student_name = ['Adina Park', 'Leyton Marsh', 'Duncan Boyle', 'Saim Richards']\n",
    "marks = Math : [85, 98, 89, 92], \n",
    "        Science : [78,98,88,90], \n",
    "        English : [89,93,67,77]\n",
    "\n",
    "Output : Proper Format Maintained.\n",
    "    Student_id  \n",
    "    student_name \n",
    "    Percentage"
   ]
  }
 ],
 "metadata": {
  "celltoolbar": "Slideshow",
  "kernelspec": {
   "display_name": "Python 3",
   "language": "python",
   "name": "python3"
  },
  "language_info": {
   "codemirror_mode": {
    "name": "ipython",
    "version": 3
   },
   "file_extension": ".py",
   "mimetype": "text/x-python",
   "name": "python",
   "nbconvert_exporter": "python",
   "pygments_lexer": "ipython3",
   "version": "3.7.3"
  }
 },
 "nbformat": 4,
 "nbformat_minor": 4
}
