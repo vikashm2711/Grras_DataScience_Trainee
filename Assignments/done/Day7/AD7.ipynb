{
 "cells": [
  {
   "cell_type": "markdown",
   "metadata": {
    "slideshow": {
     "slide_type": "slide"
    }
   },
   "source": [
    "Ques: Given an integer N perform the following conditional actions:\n",
    "    If N is odd, print Weird\n",
    "    If N is even and in the inclusive range of 2 to 5, print Not Weird\n",
    "    If N is even and in the inclusive range of 6 to 20, print Weird\n",
    "    If N is even and greater than 20, print Not Weird\n",
    "\n",
    "Input Format: Enter a number.\n",
    "    \n",
    "Output Format: Print Weird or not.\n",
    "    \n",
    "# Example 1:\n",
    "Sample Input: 3\n",
    "Sample Output: Weird\n",
    "\n",
    "# Example 2:\n",
    "Sample Input: 24\n",
    "Sample Output: Not Weird"
   ]
  },
  {
   "cell_type": "code",
   "execution_count": 8,
   "metadata": {
    "ExecuteTime": {
     "end_time": "2021-05-13T14:15:48.620952Z",
     "start_time": "2021-05-13T14:15:45.737910Z"
    }
   },
   "outputs": [
    {
     "name": "stdout",
     "output_type": "stream",
     "text": [
      "Enter the number: 4\n",
      "Not Weird\n"
     ]
    }
   ],
   "source": [
    "n= int(input(\"Enter the number: \"))\n",
    "#     If N is odd, print Weird\n",
    "#     If N is even and in the inclusive range of 2 to 5, print Not Weird\n",
    "#     If N is even and in the inclusive range of 6 to 20, print Weird\n",
    "#     If N is even and greater than 20, print Not Weird\n",
    "if n %2 ==0:\n",
    "    if n in range(2,6):\n",
    "        print(\"Not Weird\")\n",
    "    elif n in range(6,21):\n",
    "        print(\"Weird\")\n",
    "    else:\n",
    "        print(\"Not Weird\")\n",
    "\n",
    "else:\n",
    "    print(\"Weird\")"
   ]
  },
  {
   "cell_type": "markdown",
   "metadata": {
    "slideshow": {
     "slide_type": "slide"
    }
   },
   "source": [
    "Ques : Write a program to input marks of five subjects Physics, Chemistry, Biology, Mathematics and Computer. \n",
    "    Calculate percentage and grade according to following:\n",
    "    Percentage >= 90% : Grade A\n",
    "    Percentage >= 80% : Grade B\n",
    "    Percentage >= 70% : Grade C\n",
    "    Percentage >= 60% : Grade D\n",
    "    Percentage >= 40% : Grade E\n",
    "    Percentage < 40% : Grade F\n",
    "        \n",
    "Input Format: \n",
    "    - Enter five Subject marks one by one. # e.g --> English: 88 ...\n",
    "    \n",
    "Output Format:\n",
    "    - Calculate the sum and Percentage.\n",
    "    - print the grade according to the Percentage.\n",
    "\n",
    "\n",
    "Example :\n",
    "    Total Marks : 457 \n",
    "    Percentage : 91.4 % \n",
    "    Grade : A"
   ]
  },
  {
   "cell_type": "code",
   "execution_count": 23,
   "metadata": {
    "ExecuteTime": {
     "end_time": "2021-05-13T17:24:49.932932Z",
     "start_time": "2021-05-13T17:24:42.082636Z"
    }
   },
   "outputs": [
    {
     "name": "stdout",
     "output_type": "stream",
     "text": [
      "Physics, Chemistry, Biology, Mathematics and Computer: 50 50 50 50 50\n",
      "Your percentage is 50.0%: Grade E\n"
     ]
    }
   ],
   "source": [
    "#     Percentage >= 90% : Grade A\n",
    "#     Percentage >= 80% : Grade B\n",
    "#     Percentage >= 70% : Grade C\n",
    "#     Percentage >= 60% : Grade D\n",
    "#     Percentage >= 40% : Grade E\n",
    "#     Percentage < 40% : Grade F\n",
    "a,b,c,d,e = map(eval,input(\"Physics, Chemistry, Biology, Mathematics and Computer: \").split())\n",
    "percentage= (a+b+c+d+e)/5\n",
    "percentage\n",
    "if percentage >= 90 :\n",
    "    print(f\"Your percentage is {percentage}%: Grade A\")\n",
    "elif percentage >= 80 and percentage <90:\n",
    "    print(f\"Your percentage is {percentage}%: Grade B\")\n",
    "elif percentage >= 70 and percentage <80:\n",
    "    print(f\"Your percentage is {percentage}%: Grade C\")\n",
    "elif percentage >= 60 and percentage <70:\n",
    "    print(f\"Your percentage is {percentage}%: Grade D\")\n",
    "elif percentage >= 40 and percentage <60:\n",
    "    print(f\"Your percentage is {percentage}%: Grade E\")\n",
    "elif percentage < 40:\n",
    "    print(f\"Your percentage is {percentage}%: Grade F\")"
   ]
  },
  {
   "cell_type": "code",
   "execution_count": null,
   "metadata": {
    "slideshow": {
     "slide_type": "slide"
    }
   },
   "outputs": [],
   "source": [
    "Ques: Write a program to input basic salary of an employee and calculate its Gross salary according to following:\n",
    "    Basic Salary <= 10000 : HRA = 20%, DA = 80%\n",
    "    Basic Salary <= 20000 : HRA = 25%, DA = 90%\n",
    "    Basic Salary > 20000 : HRA = 30%, DA = 95%\n",
    "        \n",
    "Input Format: Enter the Salary amount.\n",
    "    \n",
    "Output Format: print the Gross salary using the following conditions.\n",
    "\n",
    "Example\n",
    "    Input Format : Basic salary of an employee: 22000\n",
    "    Output : Gross salary = 44000"
   ]
  },
  {
   "cell_type": "markdown",
   "metadata": {
    "ExecuteTime": {
     "end_time": "2021-05-13T16:48:25.416729Z",
     "start_time": "2021-05-13T16:48:20.566310Z"
    }
   },
   "source": [
    "n = float(input(\"ENter your Salary: \"))\n",
    "\n",
    "if n <= 10000:\n",
    "    HRA = 20\n",
    "    DA = 80\n",
    "elif n <= 20000:\n",
    "    HRA = 25\n",
    "    DA = 90\n",
    "elif n > 20000:\n",
    "    HRA = 30\n",
    "    DA = 95\n",
    "else:\n",
    "    print(\"Invalid input\")\n",
    "# Doubt\n",
    "gross = (n * HRA / 100) + (n * DA / 100) + n\n",
    "\n",
    "print(f\"Your gross salary = {gross}\")"
   ]
  },
  {
   "cell_type": "code",
   "execution_count": null,
   "metadata": {
    "slideshow": {
     "slide_type": "slide"
    }
   },
   "outputs": [],
   "source": [
    "Ques: Write a program to input electricity unit charges and calculate total electricity bill according to the given condition:\n",
    "    For first 50 units Rs. 0.50/unit\n",
    "    For next 100 units Rs. 0.75/unit\n",
    "    For next 100 units Rs. 1.20/unit\n",
    "    For unit above 250 Rs. 1.50/unit\n",
    "    An additional surcharge of 20% is added to the bill\n",
    "    \n",
    "Input Format: Enter the total electricity units consumed \n",
    "    \n",
    "Output Format: print the Total Electricity Bill amount using the following conditions.\n",
    "\n",
    "Example:\n",
    "    Enter total units consumed: 150\n",
    "    Electricity Bill = Rs. 120.00"
   ]
  },
  {
   "cell_type": "code",
   "execution_count": 14,
   "metadata": {
    "ExecuteTime": {
     "end_time": "2021-05-13T16:40:11.427824Z",
     "start_time": "2021-05-13T16:40:09.195615Z"
    }
   },
   "outputs": [
    {
     "name": "stdout",
     "output_type": "stream",
     "text": [
      "Enter the total units consumed: 150\n",
      "Enter total units consumed: 150.0 \n",
      "Electricity Bill = Rs.120.0\n"
     ]
    }
   ],
   "source": [
    "#     For first 50 units Rs. 0.50/unit\n",
    "#     For next 100 units Rs. 0.75/unit\n",
    "#     For next 100 units Rs. 1.20/unit\n",
    "#     For unit above 250 Rs. 1.50/unit\n",
    "#     An additional surcharge of 20% is added to the bill\n",
    "\n",
    "n = float(input(\"Enter the total units consumed: \"))\n",
    "charge = 0\n",
    "if n <= 50:\n",
    "    charge = (n * 0.5)\n",
    "elif n > 50 and n <= 150:\n",
    "    charge = 50 * 0.5 + ((n - 50) * 0.75) + charge\n",
    "elif n > 150 and n <= 250:\n",
    "    charge = 50 * 0.5 + 100 * 0.75 + (n - 150) * 1.2 + charge\n",
    "elif n > 250:\n",
    "    charge = 50 * 0.5 + 100 * 0.75 + 100 * 1.2 + (n - 250) * 1.5 + charge\n",
    "\n",
    "else:\n",
    "    print(\"invalid input\")\n",
    "\n",
    "charge = charge + (charge * 0.2)\n",
    "print(f\"\\nEnter total units consumed: {n} \\nElectricity Bill = Rs.{charge}\")"
   ]
  }
 ],
 "metadata": {
  "celltoolbar": "Slideshow",
  "hide_input": false,
  "kernelspec": {
   "display_name": "Python 3",
   "language": "python",
   "name": "python3"
  },
  "language_info": {
   "codemirror_mode": {
    "name": "ipython",
    "version": 3
   },
   "file_extension": ".py",
   "mimetype": "text/x-python",
   "name": "python",
   "nbconvert_exporter": "python",
   "pygments_lexer": "ipython3",
   "version": "3.8.5"
  },
  "toc": {
   "base_numbering": 1,
   "nav_menu": {},
   "number_sections": true,
   "sideBar": true,
   "skip_h1_title": false,
   "title_cell": "Table of Contents",
   "title_sidebar": "Contents",
   "toc_cell": false,
   "toc_position": {},
   "toc_section_display": true,
   "toc_window_display": false
  },
  "varInspector": {
   "cols": {
    "lenName": 16,
    "lenType": 16,
    "lenVar": 40
   },
   "kernels_config": {
    "python": {
     "delete_cmd_postfix": "",
     "delete_cmd_prefix": "del ",
     "library": "var_list.py",
     "varRefreshCmd": "print(var_dic_list())"
    },
    "r": {
     "delete_cmd_postfix": ") ",
     "delete_cmd_prefix": "rm(",
     "library": "var_list.r",
     "varRefreshCmd": "cat(var_dic_list()) "
    }
   },
   "types_to_exclude": [
    "module",
    "function",
    "builtin_function_or_method",
    "instance",
    "_Feature"
   ],
   "window_display": false
  }
 },
 "nbformat": 4,
 "nbformat_minor": 4
}
