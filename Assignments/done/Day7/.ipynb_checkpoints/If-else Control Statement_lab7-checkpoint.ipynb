{
 "cells": [
  {
   "cell_type": "markdown",
   "metadata": {
    "slideshow": {
     "slide_type": "slide"
    }
   },
   "source": [
    "#  If else in Python"
   ]
  },
  {
   "cell_type": "markdown",
   "metadata": {
    "slideshow": {
     "slide_type": "fragment"
    }
   },
   "source": [
    "### Introdution:\n",
    "- There comes situations in real life when we need to make some decisions and based on these decisions, we decide what should we do next. \n",
    "- Similar situations arises in programming also where we need to make some decisions and based on these decisions we will execute the next block of code."
   ]
  },
  {
   "cell_type": "markdown",
   "metadata": {
    "slideshow": {
     "slide_type": "slide"
    }
   },
   "source": [
    "## Decision making statements available in python are:"
   ]
  },
  {
   "cell_type": "markdown",
   "metadata": {
    "slideshow": {
     "slide_type": "fragment"
    }
   },
   "source": [
    "- if statement"
   ]
  },
  {
   "cell_type": "markdown",
   "metadata": {
    "slideshow": {
     "slide_type": "fragment"
    }
   },
   "source": [
    "- if..else statements"
   ]
  },
  {
   "cell_type": "markdown",
   "metadata": {
    "slideshow": {
     "slide_type": "fragment"
    }
   },
   "source": [
    "- nested if statements"
   ]
  },
  {
   "cell_type": "markdown",
   "metadata": {
    "slideshow": {
     "slide_type": "fragment"
    }
   },
   "source": [
    "- if-elif ladder"
   ]
  },
  {
   "cell_type": "markdown",
   "metadata": {
    "slideshow": {
     "slide_type": "fragment"
    }
   },
   "source": [
    "- Short Hand if statement"
   ]
  },
  {
   "cell_type": "markdown",
   "metadata": {
    "slideshow": {
     "slide_type": "fragment"
    }
   },
   "source": [
    "- Short Hand if-else statement"
   ]
  },
  {
   "cell_type": "markdown",
   "metadata": {
    "heading_collapsed": true,
    "slideshow": {
     "slide_type": "slide"
    }
   },
   "source": [
    "### If statement:\n",
    "- if statement is the most simple decision making statement.\n",
    "- It is used to decide whether a certain statement or block of statements will be executed or not i.e if a certain condition is true then a block of statement is executed otherwise not."
   ]
  },
  {
   "cell_type": "markdown",
   "metadata": {
    "heading_collapsed": true,
    "slideshow": {
     "slide_type": "fragment"
    }
   },
   "source": [
    "### Example\n",
    "#### Python program to illustrate If statement, check the number 10 is greater then 15 using If statement."
   ]
  },
  {
   "cell_type": "code",
   "execution_count": 10,
   "metadata": {
    "hidden": true,
    "slideshow": {
     "slide_type": "fragment"
    }
   },
   "outputs": [
    {
     "name": "stdout",
     "output_type": "stream",
     "text": [
      "Number is Less than 15\n"
     ]
    }
   ],
   "source": [
    "number = 10\n",
    "if (number > 15): \n",
    "    print (\"Number is Greater than 15\") \n",
    "print (\"Number is Less than 15\") \n"
   ]
  },
  {
   "cell_type": "markdown",
   "metadata": {
    "heading_collapsed": true,
    "slideshow": {
     "slide_type": "slide"
    }
   },
   "source": [
    "### Example Flow Diagram:\n",
    "<img src='https://drive.google.com/uc?id=1itysAkrsCps4SzOqjog8IDM3yZ8wwYmt' height=400px width=360px/>\n",
    "<!-- https://drive.google.com/file/d/1itysAkrsCps4SzOqjog8IDM3yZ8wwYmt/view?usp=sharing -->"
   ]
  },
  {
   "cell_type": "markdown",
   "metadata": {
    "heading_collapsed": true,
    "slideshow": {
     "slide_type": "slide"
    }
   },
   "source": [
    "### If- else Statement:\n",
    "- The if statement alone tells us that if a condition is true it will execute a block of statements and if the condition is false it won’t. \n",
    "- if we want to do something else if the condition is false.  We can use the else statement with if statement to execute a block of code when the condition is false."
   ]
  },
  {
   "cell_type": "markdown",
   "metadata": {
    "heading_collapsed": true,
    "slideshow": {
     "slide_type": "slide"
    }
   },
   "source": [
    "### Example Flow Diagram:\n",
    "<img src='https://drive.google.com/uc?id=1tZ12qRtwPAZYZHGT3NZ6SZVrFSUDBs7B' height=400px width=360px/>\n",
    "<!-- https://drive.google.com/file/d/1tZ12qRtwPAZYZHGT3NZ6SZVrFSUDBs7B/view?usp=sharing -->"
   ]
  },
  {
   "cell_type": "markdown",
   "metadata": {
    "heading_collapsed": true,
    "hidden": true,
    "slideshow": {
     "slide_type": "slide"
    }
   },
   "source": [
    "##### Python program to illustrate If else statement, check a person can Vote or not using if else condition. A person can vote if He/She greater the 18 year. "
   ]
  },
  {
   "cell_type": "code",
   "execution_count": 11,
   "metadata": {
    "collapsed": true,
    "hidden": true,
    "slideshow": {
     "slide_type": "fragment"
    }
   },
   "outputs": [
    {
     "name": "stdout",
     "output_type": "stream",
     "text": [
      "You can Vote\n"
     ]
    }
   ],
   "source": [
    "# Example:\n",
    "number = 20; \n",
    "if (number < 18): \n",
    "    print (\"You cann't Vote\") \n",
    "else: \n",
    "    print (\"You can Vote\") "
   ]
  },
  {
   "cell_type": "markdown",
   "metadata": {
    "heading_collapsed": true,
    "slideshow": {
     "slide_type": "slide"
    }
   },
   "source": [
    "### Nested-if Statement\n",
    "- A nested if is an if statement that is the target of another if statement. \n",
    "- Nested if statements means an if statement inside another if statement.\n",
    "- Python allows us to nest if statements within if statements. i.e, we can place an if statement inside another if statement."
   ]
  },
  {
   "cell_type": "markdown",
   "metadata": {
    "heading_collapsed": true,
    "slideshow": {
     "slide_type": "slide"
    }
   },
   "source": [
    "### Example Flow Diagram:\n",
    "<img src='https://drive.google.com/uc?id=1eyJHCYnZkusaqvnAD_EP1JvTtI_-HHyh'/> \n",
    "<!-- https://drive.google.com/file/d/1eyJHCYnZkusaqvnAD_EP1JvTtI_-HHyh/view?usp=sharing  -->"
   ]
  },
  {
   "cell_type": "markdown",
   "metadata": {
    "heading_collapsed": true,
    "hidden": true,
    "slideshow": {
     "slide_type": "slide"
    }
   },
   "source": [
    "#### Example\n",
    "#### Python program to illustrate nested If, statement check number is less then 15 and 12 using nested if statement."
   ]
  },
  {
   "cell_type": "code",
   "execution_count": 3,
   "metadata": {
    "hidden": true,
    "slideshow": {
     "slide_type": "fragment"
    }
   },
   "outputs": [
    {
     "name": "stdout",
     "output_type": "stream",
     "text": [
      "number is smaller than 15\n",
      "number is smaller than 12 too\n"
     ]
    }
   ],
   "source": [
    "number = 10\n",
    "if (number == 10): \n",
    "    # First if statement \n",
    "    if (number < 15): \n",
    "        print (\"number is smaller than 15\") \n",
    "    # Nested - if statement Will only be executed if statement above it is true \n",
    "    if (number < 12): \n",
    "        print (\"number is smaller than 12 too\") \n",
    "    else: \n",
    "        print (\"number is greater than 15\") \n"
   ]
  },
  {
   "cell_type": "markdown",
   "metadata": {
    "heading_collapsed": true,
    "slideshow": {
     "slide_type": "slide"
    }
   },
   "source": [
    "### If-elif-else ladder Statement\n",
    "- A user can decide among multiple options. The if statements are executed from the top down. \n",
    "- As soon as one of the conditions controlling the if is true, the statement associated with that if is executed, and the rest of the ladder is bypassed. If none of the conditions is true, then the final else statement will be executed."
   ]
  },
  {
   "cell_type": "markdown",
   "metadata": {
    "heading_collapsed": true,
    "slideshow": {
     "slide_type": "slide"
    }
   },
   "source": [
    "### Example Flow Diagram:\n",
    "<img src='https://drive.google.com/uc?id=1PB-q5EnH6ajIXQkMqtP9P3AJ2lj85YxN' height=500px width=500px> \n",
    "<!-- https://drive.google.com/file/d/1PB-q5EnH6ajIXQkMqtP9P3AJ2lj85YxN/view?usp=sharing -->"
   ]
  },
  {
   "cell_type": "markdown",
   "metadata": {
    "heading_collapsed": true,
    "hidden": true,
    "slideshow": {
     "slide_type": "slide"
    }
   },
   "source": [
    "#### Example\n",
    "#### Python program to illustrate if-elif-else, ladder. check a number among all the condition which condition is suitable for that number."
   ]
  },
  {
   "cell_type": "code",
   "execution_count": 7,
   "metadata": {
    "hidden": true,
    "slideshow": {
     "slide_type": "fragment"
    }
   },
   "outputs": [
    {
     "name": "stdout",
     "output_type": "stream",
     "text": [
      "number is 20\n"
     ]
    }
   ],
   "source": [
    "number = 20\n",
    "if (number == 10): \n",
    "    print (\"number is 10\") \n",
    "elif (number == 15): \n",
    "    print (\"number is 15\") \n",
    "elif (number == 20): \n",
    "    print (\"number is 20\") \n",
    "else: \n",
    "    print (\"number is not present\") \n"
   ]
  },
  {
   "cell_type": "markdown",
   "metadata": {
    "heading_collapsed": true,
    "slideshow": {
     "slide_type": "slide"
    }
   },
   "source": [
    "### Short Hand if statement:\n",
    "- Whenever there is only a single statement to be executed inside the if block then shorthand if can be used.\n",
    "- The statement can be put on the same line as the if statement."
   ]
  },
  {
   "cell_type": "markdown",
   "metadata": {
    "heading_collapsed": true,
    "hidden": true,
    "slideshow": {
     "slide_type": "fragment"
    }
   },
   "source": [
    "#### Example\n",
    "#### Python program to illustrate short hand if, ceck a number is less then 15 or not."
   ]
  },
  {
   "cell_type": "code",
   "execution_count": 8,
   "metadata": {
    "hidden": true,
    "slideshow": {
     "slide_type": "fragment"
    }
   },
   "outputs": [
    {
     "name": "stdout",
     "output_type": "stream",
     "text": [
      "number is less than 15\n"
     ]
    }
   ],
   "source": [
    "number = 10\n",
    "if number < 15: print(\"number is less than 15\") "
   ]
  },
  {
   "cell_type": "markdown",
   "metadata": {
    "slideshow": {
     "slide_type": "slide"
    }
   },
   "source": [
    "### Short Hand if-else statement:\n",
    "- This can be used to write the if-else statements in a single line where there is only one statement to be executed in both if and else block."
   ]
  },
  {
   "cell_type": "markdown",
   "metadata": {
    "slideshow": {
     "slide_type": "fragment"
    }
   },
   "source": [
    "#### Example:\n",
    "#### Python program to illustrate short hand if-else, Check a number is less then 15 or not. If less then print True if not print False."
   ]
  },
  {
   "cell_type": "code",
   "execution_count": 9,
   "metadata": {
    "slideshow": {
     "slide_type": "fragment"
    }
   },
   "outputs": [
    {
     "name": "stdout",
     "output_type": "stream",
     "text": [
      "True\n"
     ]
    }
   ],
   "source": [
    "Number = 10\n",
    "print(True) if Number < 15 else print(False) "
   ]
  },
  {
   "cell_type": "code",
   "execution_count": null,
   "metadata": {
    "slideshow": {
     "slide_type": "slide"
    }
   },
   "outputs": [],
   "source": [
    "Ques: Given an integer N perform the following conditional actions:\n",
    "    If N is odd, print Weird\n",
    "    If N is even and in the inclusive range of 2 to 5, print Not Weird\n",
    "    If N is even and in the inclusive range of 6 to 20, print Weird\n",
    "    If N is even and greater than 20, print Not Weird\n",
    "\n",
    "Input Format: Enter a number.\n",
    "    \n",
    "Output Format: Print Weird or not.\n",
    "    \n",
    "# Example 1:\n",
    "Sample Input: 3\n",
    "Sample Output: Weird\n",
    "\n",
    "# Example 2:\n",
    "Sample Input: 24\n",
    "Sample Output: Not Weird"
   ]
  },
  {
   "cell_type": "code",
   "execution_count": 8,
   "metadata": {
    "ExecuteTime": {
     "end_time": "2021-05-13T14:15:48.620952Z",
     "start_time": "2021-05-13T14:15:45.737910Z"
    }
   },
   "outputs": [
    {
     "name": "stdout",
     "output_type": "stream",
     "text": [
      "Enter the number: 4\n",
      "Not Weird\n"
     ]
    }
   ],
   "source": [
    "n= int(input(\"Enter the number: \"))\n",
    "#     If N is odd, print Weird\n",
    "#     If N is even and in the inclusive range of 2 to 5, print Not Weird\n",
    "#     If N is even and in the inclusive range of 6 to 20, print Weird\n",
    "#     If N is even and greater than 20, print Not Weird\n",
    "if n %2 ==0:\n",
    "    if n in range(2,6):\n",
    "        print(\"Not Weird\")\n",
    "    elif n in range(6,21):\n",
    "        print(\"Weird\")\n",
    "    else:\n",
    "        print(\"Not Weird\")\n",
    "\n",
    "else:\n",
    "    print(\"Weird\")"
   ]
  },
  {
   "cell_type": "code",
   "execution_count": null,
   "metadata": {
    "slideshow": {
     "slide_type": "slide"
    }
   },
   "outputs": [],
   "source": [
    "Ques : Write a program to input marks of five subjects Physics, Chemistry, Biology, Mathematics and Computer. \n",
    "    Calculate percentage and grade according to following:\n",
    "    Percentage >= 90% : Grade A\n",
    "    Percentage >= 80% : Grade B\n",
    "    Percentage >= 70% : Grade C\n",
    "    Percentage >= 60% : Grade D\n",
    "    Percentage >= 40% : Grade E\n",
    "    Percentage < 40% : Grade F\n",
    "        \n",
    "Input Format: \n",
    "    - Enter five Subject marks one by one. # e.g --> English: 88 ...\n",
    "    \n",
    "Output Format:\n",
    "    - Calculate the sum and Percentage.\n",
    "    - print the grade according to the Percentage.\n",
    "\n",
    "\n",
    "Example :\n",
    "    Total Marks : 457 \n",
    "    Percentage : 91.4 % \n",
    "    Grade : A"
   ]
  },
  {
   "cell_type": "code",
   "execution_count": 23,
   "metadata": {
    "ExecuteTime": {
     "end_time": "2021-05-13T17:24:49.932932Z",
     "start_time": "2021-05-13T17:24:42.082636Z"
    }
   },
   "outputs": [
    {
     "name": "stdout",
     "output_type": "stream",
     "text": [
      "Physics, Chemistry, Biology, Mathematics and Computer: 50 50 50 50 50\n",
      "Your percentage is 50.0%: Grade E\n"
     ]
    }
   ],
   "source": [
    "#     Percentage >= 90% : Grade A\n",
    "#     Percentage >= 80% : Grade B\n",
    "#     Percentage >= 70% : Grade C\n",
    "#     Percentage >= 60% : Grade D\n",
    "#     Percentage >= 40% : Grade E\n",
    "#     Percentage < 40% : Grade F\n",
    "a,b,c,d,e = map(eval,input(\"Physics, Chemistry, Biology, Mathematics and Computer: \").split())\n",
    "percentage= (a+b+c+d+e)/5\n",
    "percentage\n",
    "if percentage >= 90 :\n",
    "    print(f\"Your percentage is {percentage}%: Grade A\")\n",
    "elif percentage >= 80 and percentage <90:\n",
    "    print(f\"Your percentage is {percentage}%: Grade B\")\n",
    "elif percentage >= 70 and percentage <80:\n",
    "    print(f\"Your percentage is {percentage}%: Grade C\")\n",
    "elif percentage >= 60 and percentage <70:\n",
    "    print(f\"Your percentage is {percentage}%: Grade D\")\n",
    "elif percentage >= 40 and percentage <60:\n",
    "    print(f\"Your percentage is {percentage}%: Grade E\")\n",
    "elif percentage < 40:\n",
    "    print(f\"Your percentage is {percentage}%: Grade F\")"
   ]
  },
  {
   "cell_type": "code",
   "execution_count": null,
   "metadata": {
    "slideshow": {
     "slide_type": "slide"
    }
   },
   "outputs": [],
   "source": [
    "Ques: Write a program to input basic salary of an employee and calculate its Gross salary according to following:\n",
    "    Basic Salary <= 10000 : HRA = 20%, DA = 80%\n",
    "    Basic Salary <= 20000 : HRA = 25%, DA = 90%\n",
    "    Basic Salary > 20000 : HRA = 30%, DA = 95%\n",
    "        \n",
    "Input Format: Enter the Salary amount.\n",
    "    \n",
    "Output Format: print the Gross salary using the following conditions.\n",
    "\n",
    "Example\n",
    "    Input Format : Basic salary of an employee: 22000\n",
    "    Output : Gross salary = 44000"
   ]
  },
  {
   "cell_type": "code",
   "execution_count": 19,
   "metadata": {
    "ExecuteTime": {
     "end_time": "2021-05-13T16:48:25.416729Z",
     "start_time": "2021-05-13T16:48:20.566310Z"
    }
   },
   "outputs": [
    {
     "name": "stdout",
     "output_type": "stream",
     "text": [
      "ENter your Salary: 22000\n",
      "30\n",
      "95\n",
      "49500.0\n"
     ]
    }
   ],
   "source": [
    "n = float(input(\"ENter your Salary: \"))\n",
    "#     Basic Salary <= 10000 : HRA = 20%, DA = 80%\n",
    "#     Basic Salary <= 20000 : HRA = 25%, DA = 90%\n",
    "#     Basic Salary > 20000 : HRA = 30%, DA = 95%\n",
    "if n <= 10000:\n",
    "    HRA = 20\n",
    "    DA = 80\n",
    "elif n <= 20000:\n",
    "    HRA = 25\n",
    "    DA = 90\n",
    "elif n > 20000:\n",
    "    HRA = 30\n",
    "    DA = 95\n",
    "else:\n",
    "    print(\"Invalid input\")\n",
    "\n",
    "gross = (n * HRA / 100) + (n * DA / 100) + n\n",
    "\n",
    "print(f\"Your gross salary = {gross}\")"
   ]
  },
  {
   "cell_type": "code",
   "execution_count": null,
   "metadata": {
    "slideshow": {
     "slide_type": "slide"
    }
   },
   "outputs": [],
   "source": [
    "Ques: Write a program to input electricity unit charges and calculate total electricity bill according to the given condition:\n",
    "    For first 50 units Rs. 0.50/unit\n",
    "    For next 100 units Rs. 0.75/unit\n",
    "    For next 100 units Rs. 1.20/unit\n",
    "    For unit above 250 Rs. 1.50/unit\n",
    "    An additional surcharge of 20% is added to the bill\n",
    "    \n",
    "Input Format: Enter the total electricity units consumed \n",
    "    \n",
    "Output Format: print the Total Electricity Bill amount using the following conditions.\n",
    "\n",
    "Example:\n",
    "    Enter total units consumed: 150\n",
    "    Electricity Bill = Rs. 120.00"
   ]
  },
  {
   "cell_type": "code",
   "execution_count": 14,
   "metadata": {
    "ExecuteTime": {
     "end_time": "2021-05-13T16:40:11.427824Z",
     "start_time": "2021-05-13T16:40:09.195615Z"
    }
   },
   "outputs": [
    {
     "name": "stdout",
     "output_type": "stream",
     "text": [
      "Enter the total units consumed: 150\n",
      "Enter total units consumed: 150.0 \n",
      "Electricity Bill = Rs.120.0\n"
     ]
    }
   ],
   "source": [
    "#     For first 50 units Rs. 0.50/unit\n",
    "#     For next 100 units Rs. 0.75/unit\n",
    "#     For next 100 units Rs. 1.20/unit\n",
    "#     For unit above 250 Rs. 1.50/unit\n",
    "#     An additional surcharge of 20% is added to the bill\n",
    "\n",
    "n = float(input(\"Enter the total units consumed: \"))\n",
    "charge = 0\n",
    "if n <= 50:\n",
    "    charge = (n * 0.5)\n",
    "elif n > 50 and n <= 150:\n",
    "    charge = 50 * 0.5 + ((n - 50) * 0.75) + charge\n",
    "elif n > 150 and n <= 250:\n",
    "    charge = 50 * 0.5 + 100 * 0.75 + (n - 150) * 1.2 + charge\n",
    "elif n > 250:\n",
    "    charge = 50 * 0.5 + 100 * 0.75 + 100 * 1.2 + (n - 250) * 1.5 + charge\n",
    "\n",
    "else:\n",
    "    print(\"invalid input\")\n",
    "\n",
    "charge = charge + (charge * 0.2)\n",
    "print(f\"\\nEnter total units consumed: {n} \\nElectricity Bill = Rs.{charge}\")"
   ]
  }
 ],
 "metadata": {
  "celltoolbar": "Slideshow",
  "hide_input": false,
  "kernelspec": {
   "display_name": "Python 3",
   "language": "python",
   "name": "python3"
  },
  "toc": {
   "base_numbering": 1,
   "nav_menu": {},
   "number_sections": true,
   "sideBar": true,
   "skip_h1_title": false,
   "title_cell": "Table of Contents",
   "title_sidebar": "Contents",
   "toc_cell": false,
   "toc_position": {},
   "toc_section_display": true,
   "toc_window_display": false
  },
  "varInspector": {
   "cols": {
    "lenName": 16,
    "lenType": 16,
    "lenVar": 40
   },
   "kernels_config": {
    "python": {
     "delete_cmd_postfix": "",
     "delete_cmd_prefix": "del ",
     "library": "var_list.py",
     "varRefreshCmd": "print(var_dic_list())"
    },
    "r": {
     "delete_cmd_postfix": ") ",
     "delete_cmd_prefix": "rm(",
     "library": "var_list.r",
     "varRefreshCmd": "cat(var_dic_list()) "
    }
   },
   "types_to_exclude": [
    "module",
    "function",
    "builtin_function_or_method",
    "instance",
    "_Feature"
   ],
   "window_display": false
  }
 },
 "nbformat": 4,
 "nbformat_minor": 4
}
