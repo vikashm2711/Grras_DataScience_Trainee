{
 "cells": [
  {
   "cell_type": "markdown",
   "metadata": {
    "slideshow": {
     "slide_type": "slide"
    }
   },
   "source": [
    "## For Loop in Python"
   ]
  },
  {
   "cell_type": "markdown",
   "metadata": {
    "slideshow": {
     "slide_type": "fragment"
    }
   },
   "source": [
    "- A for loop is used for iterating over a sequence (that is either a list, a tuple, a dictionary, a set, or a string).\n",
    "- It falls under the category of definite iteration. \n",
    "- Definite iterations means the number of repetitions is specified explicitly in advance.\n",
    "\n",
    "#### Note: In python, for loops only implements the collection-based iteration."
   ]
  },
  {
   "cell_type": "markdown",
   "metadata": {
    "slideshow": {
     "slide_type": "slide"
    }
   },
   "source": [
    "#### Syntax: "
   ]
  },
  {
   "cell_type": "code",
   "execution_count": null,
   "metadata": {
    "slideshow": {
     "slide_type": "fragment"
    }
   },
   "outputs": [],
   "source": [
    "for var in iterable:\n",
    "    # statements"
   ]
  },
  {
   "cell_type": "markdown",
   "metadata": {
    "slideshow": {
     "slide_type": "fragment"
    }
   },
   "source": [
    "- Here the iterable is a collection of objects like list, tuple. \n",
    "- The indented statements inside the for loops are executed once for each item in an iterable."
   ]
  },
  {
   "cell_type": "markdown",
   "metadata": {
    "slideshow": {
     "slide_type": "slide"
    }
   },
   "source": [
    "#### Example:\n",
    "##### Python program to illustrate 'for loop' with different datatypes. "
   ]
  },
  {
   "cell_type": "code",
   "execution_count": 2,
   "metadata": {
    "slideshow": {
     "slide_type": "fragment"
    }
   },
   "outputs": [
    {
     "name": "stdout",
     "output_type": "stream",
     "text": [
      "List Iteration\n",
      "1\n",
      "2\n",
      "3\n",
      "4\n",
      "5\n",
      "\n",
      "Tuple Iteration\n",
      "10\n",
      "20\n",
      "30\n",
      "Hello\n",
      "\n",
      "String Iteration\n",
      "P\n",
      "y\n",
      "t\n",
      "h\n",
      "o\n",
      "n\n",
      "\n",
      "Dictionary Iteration\n",
      "xyz  123\n",
      "abc  345\n"
     ]
    }
   ],
   "source": [
    "# Python program to illustrate iterating over a list \n",
    "print(\"List Iteration\") \n",
    "lst = [1,2,3,4,5] \n",
    "for i in lst: \n",
    "    print(i) \n",
    "\n",
    "# Iterating over a tuple (immutable) \n",
    "print(\"\\nTuple Iteration\") \n",
    "tuple1 = (10,20,30,\"Hello\") \n",
    "for i in tuple1: \n",
    "    print(i) \n",
    "\n",
    "# Iterating over a String \n",
    "print(\"\\nString Iteration\")\t \n",
    "string = \"Python\"\n",
    "for i in string : \n",
    "    print(i) \n",
    "\n",
    "# Iterating over dictionary \n",
    "print(\"\\nDictionary Iteration\")\t \n",
    "dict1 = dict() \n",
    "dict1['xyz'] = 123\n",
    "dict1['abc'] = 345\n",
    "for i in dict1 : \n",
    "    print(\"% s % d\" %(i, dict1[i])) \n"
   ]
  },
  {
   "cell_type": "markdown",
   "metadata": {
    "slideshow": {
     "slide_type": "slide"
    }
   },
   "source": [
    "## Control flow\n",
    "<!-- https://drive.google.com/file/d/1to8lrEz4e5nlKwphkAh23cnp-VN-oGnS/view?usp=sharing -->\n",
    "<img src='https://drive.google.com/uc?id=1to8lrEz4e5nlKwphkAh23cnp-VN-oGnS' height=700px width=700px> "
   ]
  },
  {
   "cell_type": "markdown",
   "metadata": {
    "slideshow": {
     "slide_type": "slide"
    }
   },
   "source": [
    "### Loop Control Statements\n",
    "- Loop control statements change execution from its normal sequence. \n",
    "- When execution leaves a scope, all automatic objects that were created in that scope are destroyed."
   ]
  },
  {
   "cell_type": "markdown",
   "metadata": {
    "slideshow": {
     "slide_type": "slide"
    }
   },
   "source": [
    "#### Continue Statement:\n",
    "- It returns the control to the beginning of the loop."
   ]
  },
  {
   "cell_type": "markdown",
   "metadata": {
    "slideshow": {
     "slide_type": "fragment"
    }
   },
   "source": [
    "<img src='https://drive.google.com/uc?id=1JX2OxFiVQVPupsxfW51dlNWl4kBYkEGs' height=500px width=500px> "
   ]
  },
  {
   "cell_type": "markdown",
   "metadata": {
    "slideshow": {
     "slide_type": "slide"
    }
   },
   "source": [
    "#### Example\n",
    "##### Program to show you the use of continue statement inside for loop in this example print the fruits till the 'banana'."
   ]
  },
  {
   "cell_type": "code",
   "execution_count": 3,
   "metadata": {
    "slideshow": {
     "slide_type": "fragment"
    }
   },
   "outputs": [
    {
     "name": "stdout",
     "output_type": "stream",
     "text": [
      "Apple\n",
      "Grapes\n",
      "Orange\n",
      "Banana\n"
     ]
    }
   ],
   "source": [
    "fruits = [\"Apple\", \"Grapes\", \"Orange\", \"Banana\", \"Cherry\", \"Lichi\"]\n",
    "for x in fruits:\n",
    "    print(x)\n",
    "    if x == \"Banana\":\n",
    "        break"
   ]
  },
  {
   "cell_type": "markdown",
   "metadata": {
    "slideshow": {
     "slide_type": "slide"
    }
   },
   "source": [
    "#### Break Statement: \n",
    "- It brings control out of the loop."
   ]
  },
  {
   "cell_type": "markdown",
   "metadata": {
    "slideshow": {
     "slide_type": "fragment"
    }
   },
   "source": [
    "<img src='https://drive.google.com/uc?id=1kuEiqiXSMBrU0gERk9ip-f5za3mXOnZY' height=500px width=500px> "
   ]
  },
  {
   "cell_type": "markdown",
   "metadata": {
    "slideshow": {
     "slide_type": "slide"
    }
   },
   "source": [
    "#### Example\n",
    "##### Program to show you the use of continue statement inside for loop,  in this example program to display only odd numbers"
   ]
  },
  {
   "cell_type": "code",
   "execution_count": 4,
   "metadata": {
    "slideshow": {
     "slide_type": "fragment"
    }
   },
   "outputs": [
    {
     "name": "stdout",
     "output_type": "stream",
     "text": [
      "11\n",
      "9\n",
      "89\n",
      "35\n",
      "89\n"
     ]
    }
   ],
   "source": [
    "for num in [20, 11, 9, 66, 4, 89, 44, 35, 68, 89]:\n",
    "    # Skipping the iteration when number is even\n",
    "    if num%2 == 0:\n",
    "        continue\n",
    "    # This statement will be skipped for all even numbers\n",
    "    print(num)"
   ]
  },
  {
   "cell_type": "markdown",
   "metadata": {
    "slideshow": {
     "slide_type": "slide"
    }
   },
   "source": [
    "#### Pass Statement: \n",
    "- We use pass statement to write empty loops. Pass is also used for empty control statements, function and classes."
   ]
  },
  {
   "cell_type": "markdown",
   "metadata": {
    "slideshow": {
     "slide_type": "fragment"
    }
   },
   "source": [
    "#### Example\n",
    "##### Program to show you the use of pass statement inside for loop, in this example print the all the square till number except the 2."
   ]
  },
  {
   "cell_type": "markdown",
   "metadata": {
    "slideshow": {
     "slide_type": "slide"
    }
   },
   "source": [
    "##### Task\n",
    "- The provided code stub reads and integer, n, from STDIN. For all non-negative integers i<n, print i**2.\n",
    "\n",
    "##### Example\n",
    "n=4\n",
    "- The list of non-negative integers that are less than n=3 is [0, 1, 2]. Print the square of each number on a separate line.\n",
    "    0\n",
    "    1\n",
    "    9\n",
    "\n",
    "##### Input Format\n",
    "- The first and only line contains the integer, .\n",
    "\n",
    "\n",
    "##### Output Format:\n",
    "   - Print  lines, one corresponding to each .\n",
    "\n",
    "##### Sample Input: 5\n",
    "##### Sample Output:\n",
    "    0\n",
    "    1\n",
    "    9\n",
    "    16"
   ]
  },
  {
   "cell_type": "code",
   "execution_count": 3,
   "metadata": {
    "slideshow": {
     "slide_type": "fragment"
    }
   },
   "outputs": [
    {
     "name": "stdout",
     "output_type": "stream",
     "text": [
      "5\n",
      "0\n",
      "1\n",
      "9\n",
      "16\n"
     ]
    }
   ],
   "source": [
    "# solution\n",
    "n = int(input())\n",
    "for val in range(n):\n",
    "    if val == 2:\n",
    "        pass\n",
    "    else:\n",
    "        print(val*val)"
   ]
  },
  {
   "cell_type": "markdown",
   "metadata": {
    "slideshow": {
     "slide_type": "slide"
    }
   },
   "source": [
    "## Range Function:"
   ]
  },
  {
   "cell_type": "markdown",
   "metadata": {
    "slideshow": {
     "slide_type": "fragment"
    }
   },
   "source": [
    "- range() is a built-in function of Python. "
   ]
  },
  {
   "cell_type": "markdown",
   "metadata": {
    "slideshow": {
     "slide_type": "fragment"
    }
   },
   "source": [
    "- It is used when a user needs to perform an action for a specific number of times."
   ]
  },
  {
   "cell_type": "markdown",
   "metadata": {
    "slideshow": {
     "slide_type": "fragment"
    }
   },
   "source": [
    "- range() in Python(3.x) is just a renamed version of a function called xrange() in Python(2.x)."
   ]
  },
  {
   "cell_type": "markdown",
   "metadata": {
    "slideshow": {
     "slide_type": "fragment"
    }
   },
   "source": [
    "- The range() function is used to generate a sequence of numbers. "
   ]
  },
  {
   "cell_type": "markdown",
   "metadata": {
    "slideshow": {
     "slide_type": "fragment"
    }
   },
   "source": [
    "- In simple terms, range() allows user to generate a series of numbers within a given range. "
   ]
  },
  {
   "cell_type": "markdown",
   "metadata": {
    "slideshow": {
     "slide_type": "fragment"
    }
   },
   "source": [
    "- range() takes mainly three arguments. "
   ]
  },
  {
   "cell_type": "markdown",
   "metadata": {
    "slideshow": {
     "slide_type": "slide"
    }
   },
   "source": [
    "#### start: \n",
    "- integer starting from which the sequence of integers is to be returned \n",
    " \n",
    "#### stop:\n",
    "- integer before which the sequence of integers is to be returned. \n",
    "- The range of integers end at stop – 1. \n",
    " \n",
    "#### step:\n",
    "- integer value which determines the increment between each integer in the sequence "
   ]
  },
  {
   "cell_type": "markdown",
   "metadata": {
    "slideshow": {
     "slide_type": "slide"
    }
   },
   "source": [
    "#### Example\n",
    "###### Python Program to show range() basics operations like print 10 numbers, range for iteration and additions of first 10 numbers. "
   ]
  },
  {
   "cell_type": "code",
   "execution_count": 1,
   "metadata": {
    "slideshow": {
     "slide_type": "fragment"
    }
   },
   "outputs": [
    {
     "name": "stdout",
     "output_type": "stream",
     "text": [
      "0 1 2 3 4 5 6 7 8 9 \n",
      "10 20 30 40 \n",
      "Sum of first 10 numbers : 45\n"
     ]
    }
   ],
   "source": [
    "# printing a number \n",
    "for i in range(10): \n",
    "    print(i, end=\" \") \n",
    "print() \n",
    "\n",
    "# using range for iteration \n",
    "l = [10, 20, 30, 40] \n",
    "for i in range(len(l)): \n",
    "    print(l[i], end=\" \") \n",
    "print() \n",
    "\n",
    "# performing sum of first 10 numbers \n",
    "sum1 = 0\n",
    "for i in range(1, 10): \n",
    "    sum1 = sum1 + i \n",
    "print(\"Sum of first 10 numbers :\", sum1) \n"
   ]
  },
  {
   "cell_type": "markdown",
   "metadata": {
    "slideshow": {
     "slide_type": "slide"
    }
   },
   "source": [
    "## for-else loop"
   ]
  },
  {
   "cell_type": "markdown",
   "metadata": {
    "slideshow": {
     "slide_type": "fragment"
    }
   },
   "source": [
    "- In most of the programming languages (C/C++, Java, etc), the use of else statement has been restricted with the if conditional statements. But Python also allows us to use the else condition with for loops. \n",
    "\n",
    "#### Note: The else block just after for/while is executed only when the loop is NOT terminated by a break statement."
   ]
  },
  {
   "cell_type": "markdown",
   "metadata": {
    "slideshow": {
     "slide_type": "slide"
    }
   },
   "source": [
    "### Example\n",
    "##### Python program to demonstrate for-else loop, Here print the 1 to 4 without break and with break function."
   ]
  },
  {
   "cell_type": "code",
   "execution_count": 2,
   "metadata": {
    "slideshow": {
     "slide_type": "fragment"
    }
   },
   "outputs": [
    {
     "name": "stdout",
     "output_type": "stream",
     "text": [
      "1\n",
      "2\n",
      "3\n",
      "No Break\n",
      "\n",
      "1\n"
     ]
    }
   ],
   "source": [
    "for i in range(1, 4): \n",
    "    print(i) \n",
    "else: # Executed because no break in for \n",
    "    print(\"No Break\\n\") \n",
    "\n",
    "for i in range(1, 4): \n",
    "    print(i) \n",
    "    break\n",
    "else: # Not executed as there is a break \n",
    "    print(\"No Break\") \n"
   ]
  },
  {
   "cell_type": "code",
   "execution_count": null,
   "metadata": {
    "slideshow": {
     "slide_type": "slide"
    }
   },
   "outputs": [],
   "source": [
    "# Do It Yourself\n",
    "Ques:\n",
    "    part (1): Complete the following function according to its docstring description.\n",
    "        You must use this algorithm:\n",
    "        • Create a copy of the original list.\n",
    "        • Create a new empty list to hold the biggest three numbers.\n",
    "        • Find the biggest number in the copy of the original list, add it to a new list, and remove it from a\n",
    "        copy of the original list. Repeat twice more.\n",
    "        \n",
    "def top_three(scores):\n",
    "    \"\"\" (list of int) -> list of int\n",
    "    Precondition: len(scores) >= 3\n",
    "    Return a new list that contains the three largest numbers from scores.\n",
    "    >>> top_three([5, 4, 6, 3, 1, 2, 7])\n",
    "    [7, 6, 5]\n",
    "    >>> top_three([6, 2, 11, 12, 7, 12, -3])\n",
    "    [12, 12, 11]\n",
    "    \"\"\"\n",
    "    # Start with a copy of the list so we dont modify the original.\n",
    "    scores_copy = scores[:]    \n",
    "    ## Write your code here..\n",
    "    \n",
    "    \n",
    "    \n",
    "    Part (2): Complete the following function according to its docstring description.\n",
    "        You must use this algorithm:\n",
    "        • Remove the smallest number from the list repeatedly until only the three largest numbers remain in the list.\n",
    "    \n",
    "    \n",
    "def top_three_mutate(scores):\n",
    "    \"\"\" (list of int) -> NoneType\n",
    "    Precondition: len(scores) >= 3\n",
    "    Modify scores so that it contains only the three largest numbers,\n",
    "    in the same order they appear in the original list.\n",
    "    >>> my_scores = [5, 4, 6, 3, 1, 2, 7]\n",
    "    >>> top_three_mutate(my_scores)\n",
    "    >>> my_scores\n",
    "    [5, 6, 7]\n",
    "    >>> my_scores = [6, 2, 12, 11, 7, 12, -3]\n",
    "    >>> top_three_mutate(my_scores)\n",
    "    >>> my_scores\n",
    "    [12, 11, 12]\n",
    "    \"\"\"\n",
    "    ### Write your code here..\n",
    "    "
   ]
  },
  {
   "cell_type": "code",
   "execution_count": null,
   "metadata": {
    "slideshow": {
     "slide_type": "slide"
    }
   },
   "outputs": [],
   "source": [
    "Ques: You have given a number your task to write a Python program to input a number from user and find all factors of \n",
    "    the given number using for loop.\n",
    "    \n",
    "Input Format:\n",
    "    - The first and only line contains the integer N.\n",
    "\n",
    "Output Format:\n",
    "    - Print N lines, one corresponding to each i like a series.\n",
    "\n",
    "Example:\n",
    "    Input:\n",
    "        Input number: 12\n",
    "    Output:\n",
    "        Factors of 12: 1, 2, 3, 4, 6, 12"
   ]
  },
  {
   "cell_type": "code",
   "execution_count": null,
   "metadata": {
    "slideshow": {
     "slide_type": "slide"
    }
   },
   "outputs": [],
   "source": [
    "Ques: You have given a number your task to write a python program to print Fibonacci series up to N terms using loop. \n",
    "    To generate Fibonacci series up to N terms use for loops in Python programming. \n",
    "    \n",
    "Input Format:\n",
    "    - The first and only line contains the integer N.  \n",
    "    \n",
    "Output Format:\n",
    "    - Print N lines, one corresponding to each i like a series.\n",
    "    \n",
    "Example:\n",
    "    Input:\n",
    "        Input number of terms: 10\n",
    "    Output:\n",
    "        Fibonacci series: \n",
    "            0, 1, 1, 2, 3, 5, 8, 13, 21, 34"
   ]
  },
  {
   "cell_type": "code",
   "execution_count": null,
   "metadata": {
    "slideshow": {
     "slide_type": "slide"
    }
   },
   "outputs": [],
   "source": [
    "Ques: You have given a number your task to write a Pyhton program to print the given half diamond star number pattern \n",
    "    series using for loop. To print the given half diamond star number pattern series use for loop in Python programming. \n",
    "\n",
    "Input Format:\n",
    "    - The first and only line contains the integer N.   \n",
    "    \n",
    "Output Format:\n",
    "    - Print N lines, one corresponding to each i like a pattern.\n",
    "    \n",
    "Example:\n",
    "    Input:\n",
    "        Input N: 5\n",
    "\n",
    "    Output:\n",
    "        *\n",
    "        *1*\n",
    "        *121*\n",
    "        *12321*\n",
    "        *1234321*\n",
    "        *123454321*\n",
    "        *1234321*\n",
    "        *12321*\n",
    "        *121*\n",
    "        *1*\n",
    "        *"
   ]
  },
  {
   "cell_type": "code",
   "execution_count": null,
   "metadata": {
    "slideshow": {
     "slide_type": "slide"
    }
   },
   "outputs": [],
   "source": [
    "Ques: You have given a number your task to write a Python program to print the given number pattern using loop.\n",
    "    To print the given number pattern use for loop in Python programming.\n",
    "    \n",
    "Input Format:\n",
    "    - The first and only line contains the integer N.   \n",
    "    \n",
    "Output Format:\n",
    "    - Print N lines, one corresponding to each i like a pattern.\n",
    "\n",
    "Example:\n",
    "Input:\n",
    "    Input N: 5\n",
    "Output:\n",
    "    1        1\n",
    "    12      21\n",
    "    123    321\n",
    "    1234  4321\n",
    "    1234554321"
   ]
  },
  {
   "cell_type": "code",
   "execution_count": null,
   "metadata": {},
   "outputs": [],
   "source": [
    "Ques: Given the names and grades for each student in a class of N students, store them in a nested list and print the \n",
    "    name(s) of any student(s) having the second lowest grade.\n",
    "\n",
    "Note: If there are multiple students with the second lowest grade, order their names alphabetically and print each \n",
    "    name on a new line.\n",
    "\n",
    "Example:\n",
    "    records = [['chi',20.0],['beta',50.0],['alpha',50.0]]\n",
    "    The ordered list of scores is 50.0, so the second lowest score is [20,50].\n",
    "    There are two students with that score: ['beta','alpha'].\n",
    "    Ordered alphabetically, the names are printed as:\n",
    "        alpha\n",
    "        beta\n",
    "        \n",
    "Input Format:\n",
    "    The first line contains an integer, N, the number of students.\n",
    "    The 2N subsequent lines describe each student over  lines.\n",
    "    - The first line contains a student's name.\n",
    "    - The second line contains their grade.\n",
    "\n",
    "    \n",
    "Constraints:\n",
    "    There will always be one or more students having the second lowest grade.\n",
    "    \n",
    "Output Format:\n",
    "    Print the name(s) of any student(s) having the second lowest grade in. If there are multiple students, order \n",
    "    their names alphabetically and print each one on a new line.\n",
    "\n",
    "Example:\n",
    "Sample Input:\n",
    "    5\n",
    "    Harry\n",
    "    37.21\n",
    "    Berry\n",
    "    37.21\n",
    "    Tina\n",
    "    37.2\n",
    "    Akriti\n",
    "    41\n",
    "    Harsh\n",
    "    39\n",
    "    \n",
    "Sample Output:\n",
    "Berry\n",
    "Harry\n",
    "\n",
    "Explanation:\n",
    "    There are 5 students in this class whose names and grades are assembled to build the following list:\n",
    "    python students = [['Harry', 37.21], ['Berry', 37.21], ['Tina', 37.2], ['Akriti', 41], ['Harsh', 39]]\n",
    "    The lowest grade of 37.2 belongs to Tina. The second lowest grade of 37.21 belongs to both Harry and Berry, so we \n",
    "    order their names alphabetically and print each name on a new line."
   ]
  }
 ],
 "metadata": {
  "celltoolbar": "Slideshow",
  "hide_input": false,
  "kernelspec": {
   "display_name": "Python 3",
   "language": "python",
   "name": "python3"
  },
  "language_info": {
   "codemirror_mode": {
    "name": "ipython",
    "version": 3
   },
   "file_extension": ".py",
   "mimetype": "text/x-python",
   "name": "python",
   "nbconvert_exporter": "python",
   "pygments_lexer": "ipython3",
   "version": "3.8.5"
  },
  "toc": {
   "base_numbering": 1,
   "nav_menu": {},
   "number_sections": true,
   "sideBar": true,
   "skip_h1_title": false,
   "title_cell": "Table of Contents",
   "title_sidebar": "Contents",
   "toc_cell": false,
   "toc_position": {},
   "toc_section_display": true,
   "toc_window_display": false
  },
  "varInspector": {
   "cols": {
    "lenName": 16,
    "lenType": 16,
    "lenVar": 40
   },
   "kernels_config": {
    "python": {
     "delete_cmd_postfix": "",
     "delete_cmd_prefix": "del ",
     "library": "var_list.py",
     "varRefreshCmd": "print(var_dic_list())"
    },
    "r": {
     "delete_cmd_postfix": ") ",
     "delete_cmd_prefix": "rm(",
     "library": "var_list.r",
     "varRefreshCmd": "cat(var_dic_list()) "
    }
   },
   "types_to_exclude": [
    "module",
    "function",
    "builtin_function_or_method",
    "instance",
    "_Feature"
   ],
   "window_display": false
  }
 },
 "nbformat": 4,
 "nbformat_minor": 2
}
