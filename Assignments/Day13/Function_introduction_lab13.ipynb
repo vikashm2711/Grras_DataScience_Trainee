{
 "cells": [
  {
   "cell_type": "markdown",
   "metadata": {
    "slideshow": {
     "slide_type": "slide"
    }
   },
   "source": [
    "## Functions in Python"
   ]
  },
  {
   "cell_type": "markdown",
   "metadata": {
    "slideshow": {
     "slide_type": "fragment"
    }
   },
   "source": [
    "- A function is a set of statements that take inputs, do some specific computation and produces output."
   ]
  },
  {
   "cell_type": "markdown",
   "metadata": {
    "slideshow": {
     "slide_type": "fragment"
    }
   },
   "source": [
    "- The idea is to put some commonly or repeatedly done task together and make a function, so that instead of writing the same code again and again for different inputs, we can call the function."
   ]
  },
  {
   "cell_type": "markdown",
   "metadata": {
    "slideshow": {
     "slide_type": "fragment"
    }
   },
   "source": [
    "- Python provides built-in functions like print(), etc. but we can also create your own functions. These functions are called user-defined functions."
   ]
  },
  {
   "cell_type": "markdown",
   "metadata": {
    "slideshow": {
     "slide_type": "slide"
    }
   },
   "source": [
    "### Defining a Function"
   ]
  },
  {
   "cell_type": "markdown",
   "metadata": {
    "slideshow": {
     "slide_type": "fragment"
    }
   },
   "source": [
    "- You can define functions to provide the required functionality. Here are simple rules to define a function in Python."
   ]
  },
  {
   "cell_type": "markdown",
   "metadata": {
    "slideshow": {
     "slide_type": "fragment"
    }
   },
   "source": [
    "- Function blocks begin with the keyword def followed by the function name and parentheses ( ( ) )."
   ]
  },
  {
   "cell_type": "markdown",
   "metadata": {
    "slideshow": {
     "slide_type": "fragment"
    }
   },
   "source": [
    "- Any input parameters or arguments should be placed within these parentheses. You can also define parameters inside these parentheses."
   ]
  },
  {
   "cell_type": "markdown",
   "metadata": {
    "slideshow": {
     "slide_type": "fragment"
    }
   },
   "source": [
    "- The first statement of a function can be an optional statement - the documentation string of the function or docstring."
   ]
  },
  {
   "cell_type": "markdown",
   "metadata": {
    "slideshow": {
     "slide_type": "fragment"
    }
   },
   "source": [
    "- The code block within every function starts with a colon (:) and is indented."
   ]
  },
  {
   "cell_type": "markdown",
   "metadata": {
    "slideshow": {
     "slide_type": "fragment"
    }
   },
   "source": [
    "- The statement return [expression] exits a function, optionally passing back an expression to the caller. A return statement with no arguments is the same as return None."
   ]
  },
  {
   "cell_type": "markdown",
   "metadata": {
    "slideshow": {
     "slide_type": "slide"
    }
   },
   "source": [
    "### Syntax"
   ]
  },
  {
   "cell_type": "code",
   "execution_count": null,
   "metadata": {
    "slideshow": {
     "slide_type": "fragment"
    }
   },
   "outputs": [],
   "source": [
    "def functionname( parameters ):\n",
    "    \"function_docstring\"\n",
    "    function_suite\n",
    "    return [expression]"
   ]
  },
  {
   "cell_type": "markdown",
   "metadata": {},
   "source": [
    "### Docstrings"
   ]
  },
  {
   "cell_type": "markdown",
   "metadata": {},
   "source": [
    "- The first string after the function header is called the docstring and is short for documentation string. It is briefly used to explain what a function does."
   ]
  },
  {
   "cell_type": "markdown",
   "metadata": {},
   "source": [
    "- Although optional, documentation is a good programming practice. Unless you can remember what you had for dinner last week, always document your code."
   ]
  },
  {
   "cell_type": "markdown",
   "metadata": {},
   "source": [
    "- In the above example, we have a docstring immediately below the function header. We generally use triple quotes so that docstring can extend up to multiple lines. This string is available to us as the __doc__ attribute of the function."
   ]
  },
  {
   "cell_type": "markdown",
   "metadata": {
    "slideshow": {
     "slide_type": "slide"
    }
   },
   "source": [
    "#### Example\n",
    "##### This is the example to show you that a simple Python function to addition two list elements wise and if the element is not same then give errro message. "
   ]
  },
  {
   "cell_type": "code",
   "execution_count": 4,
   "metadata": {
    "slideshow": {
     "slide_type": "fragment"
    }
   },
   "outputs": [
    {
     "name": "stdout",
     "output_type": "stream",
     "text": [
      "[7, 9, 11, 13, 15]\n",
      "Length of both list is not same\n"
     ]
    }
   ],
   "source": [
    "### Example \n",
    "def element_wise_addition(l1,l2):\n",
    "    \"\"\"\n",
    "        This function is to add the elements of two list element wise\n",
    "        for eg : l1 = [1,2,3,4,5] and l2 = [2,3,4,5,6]\n",
    "        it will return [3,5,7,9,11]\n",
    "    \"\"\"\n",
    "    if len(l1) == len(l2):\n",
    "        l = []\n",
    "        for i in range(len(l1)):\n",
    "            l.append(l1[i] + l2[i])\n",
    "        return l\n",
    "    else:\n",
    "        return \"Length of both list is not same\"\n",
    "    \n",
    "print(element_wise_addition([1,2,3,4,5],[6,7,8,9,10]))\n",
    "print(element_wise_addition([1,2,3,4,5],[6,7,8,9,10,11]))  ## If length is not same"
   ]
  },
  {
   "cell_type": "markdown",
   "metadata": {
    "slideshow": {
     "slide_type": "slide"
    }
   },
   "source": [
    "### Addition of two numbers using function\n",
    "<img src='https://drive.google.com/uc?id=1Dxa13Apj8yTnQKX-vnOLlqJ4UKKwJeLu' height=400px width=500px> "
   ]
  },
  {
   "cell_type": "markdown",
   "metadata": {
    "slideshow": {
     "slide_type": "slide"
    }
   },
   "source": [
    "## Calling a Function"
   ]
  },
  {
   "cell_type": "markdown",
   "metadata": {
    "slideshow": {
     "slide_type": "fragment"
    }
   },
   "source": [
    "- Defining a function only gives it a name, specifies the parameters that are to be included in the function and structures the blocks of code."
   ]
  },
  {
   "cell_type": "markdown",
   "metadata": {
    "slideshow": {
     "slide_type": "fragment"
    }
   },
   "source": [
    "- Once the basic structure of a function is finalized, you can execute it by calling it from another function or directly from the Python prompt."
   ]
  },
  {
   "cell_type": "markdown",
   "metadata": {
    "slideshow": {
     "slide_type": "slide"
    }
   },
   "source": [
    "#### Example\n",
    "##### Following is the example to calling a function for finding the minimum number index of the list.."
   ]
  },
  {
   "cell_type": "code",
   "execution_count": 1,
   "metadata": {
    "slideshow": {
     "slide_type": "fragment"
    }
   },
   "outputs": [
    {
     "data": {
      "text/plain": [
       "(0, 7)"
      ]
     },
     "execution_count": 1,
     "metadata": {},
     "output_type": "execute_result"
    }
   ],
   "source": [
    "## Example\n",
    "## Function for finding the minumum number index\n",
    "def min_ele_index(l):\n",
    "    \"\"\" This function will return minimum index element and index of that element\n",
    "        The function will return this in form of tuple (minimum_element,index_of_minimum_element)\n",
    "    \"\"\"\n",
    "    if len(l) >= 1:\n",
    "        m = l[0] #minium element at 0 index\n",
    "        index = 0\n",
    "        for i in range(len(l)):\n",
    "            if m > l[i]:\n",
    "                m = l[i]\n",
    "                index = i\n",
    "        return (m,index)\n",
    "    else:\n",
    "        return \"Empty List\"\n",
    "    \n",
    "## function calling\n",
    "min_ele_index([10,20,11,1,4,3,90,0])"
   ]
  },
  {
   "cell_type": "markdown",
   "metadata": {
    "slideshow": {
     "slide_type": "slide"
    }
   },
   "source": [
    "## Pass by Reference or pass by value?"
   ]
  },
  {
   "cell_type": "markdown",
   "metadata": {
    "slideshow": {
     "slide_type": "fragment"
    }
   },
   "source": [
    "- All parameters (arguments) in the Python language are passed by reference."
   ]
  },
  {
   "cell_type": "markdown",
   "metadata": {
    "slideshow": {
     "slide_type": "fragment"
    }
   },
   "source": [
    "- All parameters (arguments) in the Python language are passed by reference. - It means if you change what a parameter refers to within a function, the change also reflects back in the calling function."
   ]
  },
  {
   "cell_type": "markdown",
   "metadata": {
    "slideshow": {
     "slide_type": "slide"
    }
   },
   "source": [
    "#### Example\n",
    "##### Following  these two examples to show that how the pass by reference is work."
   ]
  },
  {
   "cell_type": "code",
   "execution_count": 13,
   "metadata": {
    "slideshow": {
     "slide_type": "fragment"
    }
   },
   "outputs": [
    {
     "name": "stdout",
     "output_type": "stream",
     "text": [
      "Values inside the function:  [10, 20, 30, [1, 2, 3, 4]]\n",
      "Values outside the function:  [10, 20, 30, [1, 2, 3, 4]]\n"
     ]
    }
   ],
   "source": [
    "# Example 1\n",
    "# Function definition is here\n",
    "def changeme( mylist ):\n",
    "    \"This changes a passed list into this function\"\n",
    "    mylist.append([1,2,3,4])\n",
    "    print (\"Values inside the function: \", mylist)\n",
    "    return\n",
    "\n",
    "# Now you can call changeme function\n",
    "mylist = [10,20,30]\n",
    "changeme( mylist )\n",
    "print (\"Values outside the function: \", mylist)"
   ]
  },
  {
   "cell_type": "markdown",
   "metadata": {
    "slideshow": {
     "slide_type": "slide"
    }
   },
   "source": [
    "##### There is one more example where argument is being passed by reference and the reference is being overwritten inside the called function."
   ]
  },
  {
   "cell_type": "code",
   "execution_count": 15,
   "metadata": {
    "slideshow": {
     "slide_type": "fragment"
    }
   },
   "outputs": [
    {
     "name": "stdout",
     "output_type": "stream",
     "text": [
      "Values inside the function:  [1, 2, 3, 4]\n",
      "Values outside the function:  [10, 20, 30]\n"
     ]
    }
   ],
   "source": [
    "# Example 2\n",
    "# Function definition is here\n",
    "def changeme( mylist ):\n",
    "    \"This changes a passed list into this function\"\n",
    "    mylist = [1,2,3,4]; # This would assig new reference in mylist\n",
    "    print (\"Values inside the function: \", mylist)\n",
    "    return\n",
    "\n",
    "# Now you can call changeme function\n",
    "mylist = [10,20,30];\n",
    "changeme( mylist );\n",
    "print (\"Values outside the function: \", mylist)"
   ]
  },
  {
   "cell_type": "markdown",
   "metadata": {
    "slideshow": {
     "slide_type": "slide"
    }
   },
   "source": [
    "## Scope of Variables\n",
    "- All variables in a program may not be accessible at all locations in that program. This depends on where you have declared a variable.\n",
    "- The scope of a variable determines the portion of the program where you can access a particular identifier. There are two basic scopes of variables in Python −\n",
    "\n",
    "    1. Global variables\n",
    "    2. Local variables"
   ]
  },
  {
   "cell_type": "markdown",
   "metadata": {
    "slideshow": {
     "slide_type": "slide"
    }
   },
   "source": [
    "### Global vs. Local variables\n",
    "- Variables that are defined inside a function body have a local scope, and those defined outside have a global scope.\n",
    "- This means that local variables can be accessed only inside the function in which they are declared, whereas global variables can be accessed throughout the program body by all functions. When you call a function, the variables declared inside it are brought into scope."
   ]
  },
  {
   "cell_type": "markdown",
   "metadata": {
    "slideshow": {
     "slide_type": "slide"
    }
   },
   "source": [
    "#### Example\n",
    "###### Following is the example to show how Global vs Local variable works using the addition example."
   ]
  },
  {
   "cell_type": "code",
   "execution_count": 7,
   "metadata": {
    "slideshow": {
     "slide_type": "fragment"
    }
   },
   "outputs": [
    {
     "name": "stdout",
     "output_type": "stream",
     "text": [
      "Inside the function local total :  100\n",
      "Outside the function global total :  0\n",
      "------------------------------------------------------------\n",
      "\n",
      " The value of x in fun1 space is :  (1, 2, 3)\n",
      "\n",
      " The id of x inside fun1 is :  2423119634504\n",
      "\n",
      " The value of x in fun2 space is :  (1, 2, 3)\n",
      "\n",
      " The id of x inside fun2 is :  2423119624664\n",
      "\n",
      " The value of x outside is :  (1, 2, 3)\n",
      "\n",
      " The id of x outside is :  2423119624664\n"
     ]
    }
   ],
   "source": [
    "## Example1\n",
    "total = 0 # This is global variable.\n",
    "# Function definition is here\n",
    "def sumFun( arg1, arg2, arg3, arg4 ):\n",
    "    # Add both the parameters and return them.\"\n",
    "    total = arg1 + arg2 + arg3 + arg4; # Here total is local variable.\n",
    "    print (\"Inside the function local total : \", total)\n",
    "    return total\n",
    "\n",
    "# Now you can call sum function\n",
    "sumFun( 10, 20, 30, 40 )\n",
    "print (\"Outside the function global total : \", total )\n",
    "print(\"-\"*60)\n",
    "\n",
    "# Example2\n",
    "number = (1,2,3)  #global variable\n",
    "def fun1():\n",
    "    number = (1,2,3)  #local variable\n",
    "    print(\"\\n The value of x in fun1 space is : \",number)\n",
    "    print(\"\\n The id of x inside fun1 is : \",id(number))\n",
    "def fun2():\n",
    "    x = (1,2,3) #local variable\n",
    "    print(\"\\n The value of x in fun2 space is : \",number)\n",
    "    print(\"\\n The id of x inside fun2 is : \",id(number))\n",
    "\n",
    "fun1()\n",
    "fun2()\n",
    "print(\"\\n The value of x outside is : \",number)\n",
    "print(\"\\n The id of x outside is : \",id(number))"
   ]
  },
  {
   "cell_type": "code",
   "execution_count": null,
   "metadata": {
    "slideshow": {
     "slide_type": "slide"
    }
   },
   "outputs": [],
   "source": [
    "## Do it Yourself\n",
    "## Ques:\n",
    "    You have given a function find_population complete the body of the function below according to its docstring.\n",
    "    \n",
    "    def find_population(continent_info):\n",
    "        \"\"\" (dict of {str: dict of {str: dict of {str: int}}}) -> dict of {str: int}\n",
    "            Precondition: continent_info has keys representing continents, and the\n",
    "            values are dictionaries where the keys represent countries on that\n",
    "            continent and the values are dictionaries where the keys represent cities\n",
    "            in that country and the values represent city populations.\n",
    "            Return a dictionary where the keys are continents from continent_info\n",
    "            and the values are the total population of all cities on that continent.\n",
    "            >>> data = {'Europe': {'France': {'Paris': 100, 'Nice': 50, 'Lyon': 4}, \\\n",
    "            'Bulgaria': {'Sofia': 3000}}}\n",
    "            >>> result = find_population(data)\n",
    "            >>> result == {'Europe': 3154}\n",
    "            True\n",
    "            >>> data = { \\\n",
    "            'North America': {'Canada': {'Toronto': 5000, 'Ottawa': 200}, \\\n",
    "            'USA': {'Portland': 400, 'New York': 5000, 'Chicago': 1000}, \\\n",
    "            'Mexico': {'Mexico City': 10000}}, \\\n",
    "            'Asia': {'Thailand': {'Bangkok': 456}, \\\n",
    "            'Japan': {'Tokyo': 10000, 'Osaka': 5000}}, \\\n",
    "            'Antarctica': {}}\n",
    "            >>> result = find_population(data)\n",
    "            >>> result == {'North America': 21600, 'Asia': 15456, 'Antarctica': 0}\n",
    "            True\n",
    "        \"\"\"\n",
    "        ### Start code here"
   ]
  },
  {
   "cell_type": "code",
   "execution_count": null,
   "metadata": {
    "slideshow": {
     "slide_type": "slide"
    }
   },
   "outputs": [],
   "source": [
    "#Ques:\n",
    "    In this question, you are to write code that uses a Python dictionary where each key represents the name of\n",
    "    a meal (e.g., 'stew', 'eggs') and the associated value represents a list of table numbers (e.g., 1, 2, 3),\n",
    "    with one list item for each meal order. If there are, for example, three orders for 'stew' at table 2, then 2\n",
    "    will appear three times in the list of table numbers associated with 'stew'.\n",
    "\n",
    "# Part (a):\n",
    "    Complete the following function according to its docstring.\n",
    "\n",
    "def get_num_orders(meal_to_tables: Dict[str, List[int]], meal: str) -> int:\n",
    "    \"\"\"Return the number of orders for meal in meal_to_tables.\n",
    "    >>> m_to_t = {'stew': [4, 1], 'eggs': [6]}\n",
    "    >>> get_num_orders(m_to_t, 'stew')\n",
    "    2\n",
    "    >>> get_num_orders(m_to_t, 'eggs')\n",
    "    1\n",
    "    >>> get_num_orders(m_to_t, 'brussel sprouts')\n",
    "    0\n",
    "    \"\"\"\n",
    "    ### Start code here\n",
    "    \n",
    "    \n",
    "# Part (b):\n",
    "    Complete the following function according to its docstring.\n",
    "\n",
    "def order_meal(meal_to_tables: Dict[str, List[int]], meal: str, table: int) -> None:\n",
    "    \"\"\"Modify meal_to_tables to include a new order for meal at table. Place\n",
    "    table at the end of the list of table number(s) associated with meal.\n",
    "    >>> m_to_t = {}\n",
    "    >>> order_meal(m_to_t, 'stew', 4)\n",
    "    >>> m_to_t == {'stew': [4]}\n",
    "    True\n",
    "    >>> order_meal(m_to_t, 'stew', 1)\n",
    "    >>> m_to_t == {'stew': [4, 1]}\n",
    "    True\n",
    "    >>> order_meal(m_to_t, 'eggs', 6)\n",
    "    >>> m_to_t == {'stew': [4, 1], 'eggs': [6]}\n",
    "    True\n",
    "    \"\"\"\n",
    "    ### Start code here\n"
   ]
  },
  {
   "cell_type": "code",
   "execution_count": null,
   "metadata": {
    "slideshow": {
     "slide_type": "slide"
    }
   },
   "outputs": [],
   "source": [
    "## Ques:\n",
    "    An extra day is added to the calendar almost every four years as February 29, and the day is called a leap day. It \n",
    "    corrects the calendar for the fact that our planet takes approximately 365.25 days to orbit the sun. A leap year \n",
    "    contains a leap day.\n",
    "    In the Gregorian calendar, three conditions are used to identify leap years:\n",
    "    The year can be evenly divided by 4, is a leap year, unless:\n",
    "    The year can be evenly divided by 100, it is NOT a leap year, unless:\n",
    "    The year is also evenly divisible by 400. Then it is a leap year.\n",
    "    This means that in the Gregorian calendar, the years 2000 and 2400 are leap years, while 1800, 1900, 2100, 2200, 2300\n",
    "    and 2500 are NOT leap years. \n",
    "\n",
    "# Task:\n",
    "    Given a year, determine whether it is a leap year. If it is a leap year, return the Boolean True, otherwise return \n",
    "    False.\n",
    "    \n",
    "    Note: that the code stub provided reads from STDIN and passes arguments to the is_leap function. It is only necessary \n",
    "    to complete the is_leap function.\n",
    "\n",
    "# Input Format: \n",
    "    Read year, the year to test.\n",
    "\n",
    "# Output Format:\n",
    "    The function must return a Boolean value (True/False). Output is handled by the provided code stub.\n",
    "\n",
    "# Sample Input:\n",
    "    1990\n",
    "\n",
    "# Sample Output:\n",
    "    False\n",
    "    \n",
    "# Explanation:\n",
    "    1990 is not a multiple of 4 hence it's not a leap year.\n",
    "    "
   ]
  },
  {
   "cell_type": "code",
   "execution_count": null,
   "metadata": {
    "slideshow": {
     "slide_type": "slide"
    }
   },
   "outputs": [],
   "source": [
    "# Ques: \n",
    "    To qualify for a job interview Px has to solve Easy Function. Being a newbie Px needs your help to qualify for the \n",
    "    job. Help him to solve the following Easy Function. \n",
    "    F(n) is a function defined by the recursive relation :\n",
    "    F(n) = F(n-1) - F(n-2) + n for n >= 2\n",
    "    F(0)=1, F(1)=1\n",
    "    \n",
    "    Let S(n) be the function defined as :\n",
    "    S(n)= sum(F(i)) i=0 to n. Your task is to calculate the value of S(n) for the given value of n for every test case.\n",
    "    As your answer can be very large print the value of S(n) modulo 1000000007.\n",
    "\n",
    "# CONSTRAINTS :\n",
    "    1 ≤  T ≤ 100\n",
    "    1 ≤  N ≤ 10^18\n",
    "\n",
    "# INPUT :\n",
    "    First Line contains T i.e. number of the test case.\n",
    "    Each of the next T lines contains an integer N.\n",
    "\n",
    "# OUTPUT :\n",
    "    For each test case print the value of S(N) modulo 1000000007\n",
    "\n",
    "# SAMPLE INPUT: \n",
    "    3\n",
    "    2\n",
    "    5\n",
    "    7\n",
    "    \n",
    "# SAMPLE OUTPUT :\n",
    "    4\n",
    "    21\n",
    "    35\n",
    "    \n",
    "# Explanation\n",
    "    For Test Case:\n",
    "    N=2\n",
    "    F(0) = 1, F(1) = 1\n",
    "    F(2) = F(1) - F(0) + 2\n",
    "    F(2) = 1 - 1 + 2 \n",
    "    F(2) = 2\n",
    "    S(2) = F(0) + F(1) + F(2)\n",
    "    S(2) = 1 + 1 + 2 \n",
    "    S(2) = 4"
   ]
  }
 ],
 "metadata": {
  "celltoolbar": "Slideshow",
  "kernelspec": {
   "display_name": "Python 3",
   "language": "python",
   "name": "python3"
  },
  "language_info": {
   "codemirror_mode": {
    "name": "ipython",
    "version": 3
   },
   "file_extension": ".py",
   "mimetype": "text/x-python",
   "name": "python",
   "nbconvert_exporter": "python",
   "pygments_lexer": "ipython3",
   "version": "3.7.3"
  }
 },
 "nbformat": 4,
 "nbformat_minor": 2
}
