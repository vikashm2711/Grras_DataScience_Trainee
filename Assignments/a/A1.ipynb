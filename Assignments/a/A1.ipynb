{
 "cells": [
  {
   "cell_type": "code",
   "execution_count": null,
   "metadata": {},
   "outputs": [],
   "source": [
    "#1. Which of the following are operators, and which are values?\n",
    "a)\t*       > operators\n",
    "b)\t'hello' > Values\n",
    "c)\t-88.8   > Values\n",
    "d)\t-       > Operators\n",
    "e)\t/       > operators\n",
    "f)\t+       > Operators\n",
    "g)\t5       > Values"
   ]
  },
  {
   "cell_type": "code",
   "execution_count": null,
   "metadata": {},
   "outputs": [],
   "source": [
    "#Which of the following is a variable, and which is a string?\n",
    "\n",
    "a)\tspam    > variable\n",
    "b)\t'spam'  > string"
   ]
  },
  {
   "cell_type": "code",
   "execution_count": null,
   "metadata": {},
   "outputs": [],
   "source": [
    "#3. Name three data types\n",
    "> integer\n",
    "> float\n",
    "> string"
   ]
  },
  {
   "cell_type": "code",
   "execution_count": null,
   "metadata": {},
   "outputs": [],
   "source": [
    "4. What is an expression made up of? What do all expressions do?\n",
    ">Expressions are operator and variables,..."
   ]
  },
  {
   "cell_type": "code",
   "execution_count": null,
   "metadata": {},
   "outputs": [],
   "source": [
    "5. This chapter introduced assignment statements, like spam = 10. What is the difference between an expression and a statement?\n",
    "statment example> print(\"hello, this line 2 is an statment\")\n",
    "expression > print(a+b) a+b is an expression which shows output"
   ]
  },
  {
   "cell_type": "code",
   "execution_count": null,
   "metadata": {},
   "outputs": [],
   "source": [
    "# 6. What does the variable bacon contain after the following code runs?\n",
    "\n",
    "bacon = 20\n",
    "bacon + 1\n",
    "> bacon = 20\n"
   ]
  },
  {
   "cell_type": "code",
   "execution_count": null,
   "metadata": {},
   "outputs": [],
   "source": [
    "\n",
    "# 7. What should the following two expressions evaluate to?\n",
    "\n",
    "1. 'spam' + 'spamspam' > spamspamspam\n",
    "2. 'spam' * 3 > spamspamspam"
   ]
  },
  {
   "cell_type": "code",
   "execution_count": null,
   "metadata": {},
   "outputs": [],
   "source": [
    "# 8. Why is eggs a valid variable name while 100 is invalid?\n",
    "> Variable can never start with a nummber"
   ]
  },
  {
   "cell_type": "code",
   "execution_count": null,
   "metadata": {},
   "outputs": [],
   "source": [
    "# 9. What three functions can be used to get the integer, floating-point number, or string version of a value?\n",
    "> int()\n",
    "> float()\n",
    "> str()"
   ]
  },
  {
   "cell_type": "code",
   "execution_count": null,
   "metadata": {},
   "outputs": [],
   "source": [
    "# 10. Why does this expression cause an error? How can you fix it?\n",
    "a=str('I have eaten ' + '99' + ' burritos.')\n",
    "a"
   ]
  }
 ],
 "metadata": {
  "kernelspec": {
   "display_name": "Python 3",
   "language": "python",
   "name": "python3"
  },
  "language_info": {
   "codemirror_mode": {
    "name": "ipython",
    "version": 3
   },
   "file_extension": ".py",
   "mimetype": "text/x-python",
   "name": "python",
   "nbconvert_exporter": "python",
   "pygments_lexer": "ipython3",
   "version": "3.8.5"
  }
 },
 "nbformat": 4,
 "nbformat_minor": 2
}
