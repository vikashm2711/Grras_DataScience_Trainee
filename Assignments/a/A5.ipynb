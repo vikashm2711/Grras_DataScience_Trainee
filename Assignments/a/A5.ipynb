{
 "cells": [
  {
   "cell_type": "code",
   "execution_count": 15,
   "metadata": {},
   "outputs": [
    {
     "data": {
      "text/plain": [
       "bool"
      ]
     },
     "execution_count": 15,
     "metadata": {},
     "output_type": "execute_result"
    }
   ],
   "source": [
    "# 1. What are the two values of the Boolean data type? How do you write them?\n",
    "type(True)\n",
    "type(False)\n",
    "> True\n",
    "> False"
   ]
  },
  {
   "cell_type": "code",
   "execution_count": null,
   "metadata": {},
   "outputs": [],
   "source": [
    "#2. What are the three Boolean operators?\n",
    "> AND, OR, NOT"
   ]
  },
  {
   "cell_type": "code",
   "execution_count": 12,
   "metadata": {},
   "outputs": [
    {
     "name": "stdout",
     "output_type": "stream",
     "text": [
      "a\tb\t a & b\n",
      "0\t0\t 0\n",
      "0\t1\t 0\n",
      "1\t0\t 0\n",
      "1\t1\t 1\n"
     ]
    }
   ],
   "source": [
    "#3. Write out the truth tables of each Boolean operator (that is, every possible combination of Boolean values for the operator and what they evaluate to).\n",
    "a=0\n",
    "b=1\n",
    "print(f\"a\\tb\\t a & b\")\n",
    "print(f\"{a}\\t{a}\\t {a and a}\")\n",
    "print(f\"{a}\\t{b}\\t {a and b}\")\n",
    "print(f\"{b}\\t{a}\\t {b and a}\")\n",
    "print(f\"{b}\\t{b}\\t {b and b}\")"
   ]
  },
  {
   "cell_type": "code",
   "execution_count": 2,
   "metadata": {},
   "outputs": [
    {
     "data": {
      "text/plain": [
       "True"
      ]
     },
     "execution_count": 2,
     "metadata": {},
     "output_type": "execute_result"
    }
   ],
   "source": [
    "#4. What do the following expressions evaluate to?\n",
    "\n",
    "# (5 > 4) and (3 == 5) > False\n",
    "\n",
    "# not (5 > 4) > False\n",
    "\n",
    "# (5 > 4) or (3 == 5) > True\n",
    "\n",
    "# not ((5 > 4) or (3 == 5)) > False\n",
    "\n",
    "(True and True) and (True == False) #> To ask\n",
    "\n",
    "#(not False) or (not True)  > True"
   ]
  },
  {
   "cell_type": "code",
   "execution_count": null,
   "metadata": {},
   "outputs": [],
   "source": [
    "5. What are the six comparison operators?\n",
    "> ( >,<,>=,<=,==,!=)"
   ]
  },
  {
   "cell_type": "code",
   "execution_count": null,
   "metadata": {},
   "outputs": [],
   "source": [
    "6. What is the difference between the equal to operator and the assignment operator?\n"
   ]
  },
  {
   "cell_type": "code",
   "execution_count": null,
   "metadata": {},
   "outputs": [],
   "source": [
    "7. Explain what a condition is and where you would use one."
   ]
  }
 ],
 "metadata": {
  "kernelspec": {
   "display_name": "Python 3",
   "language": "python",
   "name": "python3"
  },
  "language_info": {
   "codemirror_mode": {
    "name": "ipython",
    "version": 3
   },
   "file_extension": ".py",
   "mimetype": "text/x-python",
   "name": "python",
   "nbconvert_exporter": "python",
   "pygments_lexer": "ipython3",
   "version": "3.8.5"
  }
 },
 "nbformat": 4,
 "nbformat_minor": 4
}
