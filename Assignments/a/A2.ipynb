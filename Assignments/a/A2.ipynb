{
 "cells": [
  {
   "cell_type": "code",
   "execution_count": null,
   "metadata": {},
   "outputs": [],
   "source": [
    "#1. What is []?\n",
    "> Square bracket used for list data types. this is an empty list"
   ]
  },
  {
   "cell_type": "code",
   "execution_count": null,
   "metadata": {},
   "outputs": [],
   "source": [
    "#2. How would you assign the value 'hello' as the third value in a list stored in a variable named spam? (Assume spam contains [2, 4, 6, 8, 10].)\n",
    "spam=[2, 4, 6, 8, 10]\n",
    "spam.insert(2,\"hello\")\n",
    "print(spam)\n",
    "\n",
    "#For the following three questions, let’s say spam contains the list ['a', 'b', 'c', 'd'].\n",
    "spamn=['a', 'b', 'c', 'd']\n",
    "spamn.insert(2,\"hello\")\n",
    "print(spamn)"
   ]
  },
  {
   "cell_type": "code",
   "execution_count": null,
   "metadata": {},
   "outputs": [],
   "source": [
    "# 3.What does spam[int(int('3' * 2) // 11)] evaluate to?\n",
    "spam=[int(int('3' * 2) // 11)] \n",
    "spam > 3"
   ]
  },
  {
   "cell_type": "code",
   "execution_count": null,
   "metadata": {},
   "outputs": [],
   "source": [
    "# 4. What does spam[-1] evaluate to? \n",
    "> d"
   ]
  },
  {
   "cell_type": "code",
   "execution_count": null,
   "metadata": {},
   "outputs": [],
   "source": [
    "# 5. What does spam[:2] evaluate to?\n",
    "> a b\n"
   ]
  },
  {
   "cell_type": "code",
   "execution_count": null,
   "metadata": {},
   "outputs": [],
   "source": [
    "#For the following three questions, let’s say bacon contains the list [3.14, 'cat', 11, 'cat', True].\n",
    "#6. What does bacon.index('cat') evaluate to?\n",
    "> 1"
   ]
  },
  {
   "cell_type": "code",
   "execution_count": null,
   "metadata": {},
   "outputs": [],
   "source": [
    "#7. What does bacon.append(99) make the list value in bacon look like?\n",
    "> [3.14, 'cat', 11, 'cat', True, 99]"
   ]
  },
  {
   "cell_type": "code",
   "execution_count": null,
   "metadata": {},
   "outputs": [],
   "source": [
    "#8. What does bacon.remove('cat') make the list value in bacon look like?\n",
    "> [3.14, 11,'cat', True, 99]\n",
    "\n",
    "bacon=[3.14, 'cat', 11, 'cat', True]\n",
    "bacon.remove('cat')\n",
    "bacon"
   ]
  },
  {
   "cell_type": "code",
   "execution_count": null,
   "metadata": {},
   "outputs": [],
   "source": [
    "#9. What are the operators for list concatenation and list replication?\n",
    "> list concatenation is +, while the operator for replication is *."
   ]
  },
  {
   "cell_type": "code",
   "execution_count": null,
   "metadata": {},
   "outputs": [],
   "source": [
    "#10. What is the difference between the append() and insert() list methods?\n",
    "> append() always add value in the end whereas insert() add value on specific index"
   ]
  },
  {
   "cell_type": "code",
   "execution_count": null,
   "metadata": {},
   "outputs": [],
   "source": [
    "# 11. What are two ways to remove values from a list?\n",
    "> pop()\tRemoves the element at the specified position\n",
    "> remove()\tRemoves the first item with the specified value\n",
    " this two mehtod aare used to remove values from a list"
   ]
  },
  {
   "cell_type": "code",
   "execution_count": null,
   "metadata": {},
   "outputs": [],
   "source": [
    "#12. Name a few ways that list values are similar to string values.\n",
    "> both can perform len(), concatination or replication, index and slicing"
   ]
  },
  {
   "cell_type": "code",
   "execution_count": null,
   "metadata": {},
   "outputs": [],
   "source": [
    "#13. What is the difference between lists and tuples?\n",
    "> list are mutable  []\n",
    "> while tuples are imutable  ()\n"
   ]
  },
  {
   "cell_type": "code",
   "execution_count": 10,
   "metadata": {},
   "outputs": [
    {
     "name": "stdout",
     "output_type": "stream",
     "text": [
      "<class 'int'>\n"
     ]
    }
   ],
   "source": [
    "#14. How do you type the tuple value that has just the integer value 42 in it?\\\n",
    "tu=(42,)\n",
    "a=print(type(tu))\n",
    "a"
   ]
  },
  {
   "cell_type": "code",
   "execution_count": null,
   "metadata": {},
   "outputs": [],
   "source": [
    "15. How can you get the tuple form of a list value? How can you get the list form of a tuple value?\n",
    "tu=(42,2)\n",
    "li=[43,3]"
   ]
  },
  {
   "cell_type": "code",
   "execution_count": null,
   "metadata": {},
   "outputs": [],
   "source": [
    "16. Variables that “contain” list values don’t actually contain lists directly. What do they contain instead?\n",
    "> They contain reference to list values"
   ]
  },
  {
   "cell_type": "code",
   "execution_count": 15,
   "metadata": {},
   "outputs": [
    {
     "data": {
      "text/plain": [
       "[1, 2, [3, 5], 4]"
      ]
     },
     "execution_count": 15,
     "metadata": {},
     "output_type": "execute_result"
    }
   ],
   "source": [
    "#17. What is the difference between copy.copy() and copy.deepcopy() ?\n",
    "\n",
    "# importing copy module\n",
    "import copy\n",
    "  \n",
    "# initializing list 1 \n",
    "li1 = [1, 2, [3,5], 4]\n",
    "  \n",
    "  \n",
    "# using copy for shallow copy  \n",
    "li2 = copy.copy(li1) \n",
    "li2\n",
    "\n",
    "# using deepcopy for deepcopy  \n",
    "li3 = copy.deepcopy(li1) \n",
    "li3\n"
   ]
  }
 ],
 "metadata": {
  "kernelspec": {
   "display_name": "Python 3",
   "language": "python",
   "name": "python3"
  },
  "language_info": {
   "codemirror_mode": {
    "name": "ipython",
    "version": 3
   },
   "file_extension": ".py",
   "mimetype": "text/x-python",
   "name": "python",
   "nbconvert_exporter": "python",
   "pygments_lexer": "ipython3",
   "version": "3.8.5"
  }
 },
 "nbformat": 4,
 "nbformat_minor": 2
}
