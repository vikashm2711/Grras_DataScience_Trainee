{
 "cells": [
  {
   "cell_type": "code",
   "execution_count": 132,
   "id": "bd7386a1",
   "metadata": {
    "ExecuteTime": {
     "end_time": "2021-10-30T10:21:56.524408Z",
     "start_time": "2021-10-30T10:21:56.505409Z"
    }
   },
   "outputs": [],
   "source": [
    "from selenium import webdriver\n",
    "from time import sleep\n",
    "from selenium.webdriver.common.keys import Keys\n",
    "import warnings\n",
    "warnings.filterwarnings(\"ignore\", category=DeprecationWarning) "
   ]
  },
  {
   "cell_type": "code",
   "execution_count": 133,
   "id": "74b98818",
   "metadata": {
    "ExecuteTime": {
     "end_time": "2021-10-30T10:21:57.627409Z",
     "start_time": "2021-10-30T10:21:57.620409Z"
    }
   },
   "outputs": [],
   "source": [
    "f =open(\"contact.csv\",'r')\n",
    "contact=[]\n",
    "\n",
    "for i in f:\n",
    "    contact.append(i[:-1])"
   ]
  },
  {
   "cell_type": "code",
   "execution_count": 134,
   "id": "67786a02",
   "metadata": {
    "ExecuteTime": {
     "end_time": "2021-10-30T10:21:58.582345Z",
     "start_time": "2021-10-30T10:21:58.532350Z"
    }
   },
   "outputs": [],
   "source": [
    "msg=[]\n",
    "\n",
    "with open(\"message.txt\",'r') as file:\n",
    "    for i in file:\n",
    "        msg.append(i.rstrip())"
   ]
  },
  {
   "cell_type": "code",
   "execution_count": 127,
   "id": "e057877c",
   "metadata": {
    "ExecuteTime": {
     "end_time": "2021-10-30T10:04:36.708701Z",
     "start_time": "2021-10-30T10:04:36.692682Z"
    }
   },
   "outputs": [],
   "source": [
    "done_contanct=[]\n",
    "NF_contact=[]"
   ]
  },
  {
   "cell_type": "code",
   "execution_count": 135,
   "id": "6c70f143",
   "metadata": {
    "ExecuteTime": {
     "end_time": "2021-10-30T10:24:17.537810Z",
     "start_time": "2021-10-30T10:22:37.902891Z"
    }
   },
   "outputs": [
    {
     "name": "stdout",
     "output_type": "stream",
     "text": [
      "Press Enter After Scanning QR code and ur ready\n"
     ]
    },
    {
     "data": {
      "text/plain": [
       "''"
      ]
     },
     "execution_count": 135,
     "metadata": {},
     "output_type": "execute_result"
    }
   ],
   "source": [
    "from selenium import webdriver\n",
    "from time import sleep\n",
    "\n",
    "driver = webdriver.Chrome()\n",
    "driver.get('https://web.whatsapp.com/')\n",
    "filepath = \"C://Users/Kiki/Pictures/Illustrator/4x/1.jpg\" #input('Enter your filepath (images/video): ')\n",
    "\n",
    "input('Press Enter After Scanning QR code and ur ready')"
   ]
  },
  {
   "cell_type": "code",
   "execution_count": 136,
   "id": "b15980dc",
   "metadata": {
    "ExecuteTime": {
     "end_time": "2021-10-30T10:26:34.157657Z",
     "start_time": "2021-10-30T10:24:17.540764Z"
    }
   },
   "outputs": [
    {
     "name": "stdout",
     "output_type": "stream",
     "text": [
      "53 Orchid Greenfield-A-9-64\n",
      "54 Orchid Greenfield-A-9-62\n",
      "55 Orchid Greenfield-A-9-61\n",
      "56 Orchid Greenfield-A-9-41\n",
      "57 Orchid Greenfield-A-9-34\n",
      "58 Orchid Greenfield-A-9-154\n",
      "59 Orchid Greenfield-A-9-143\n",
      "60 Orchid Greenfield-A-9-141\n",
      "61 Orchid Greenfield-A-9-124\n"
     ]
    },
    {
     "ename": "NoSuchElementException",
     "evalue": "Message: no such element: Unable to locate element: {\"method\":\"xpath\",\"selector\":\"//div[@class=\"_13NKt copyable-text selectable-text\"]\"}\n  (Session info: chrome=95.0.4638.54)\nStacktrace:\nBacktrace:\n\tOrdinal0 [0x00ED06F3+2492147]\n\tOrdinal0 [0x00E69BD1+2071505]\n\tOrdinal0 [0x00D72478+1057912]\n\tOrdinal0 [0x00D9C964+1231204]\n\tOrdinal0 [0x00DC6B62+1403746]\n\tOrdinal0 [0x00DB57FA+1333242]\n\tOrdinal0 [0x00DC4F38+1396536]\n\tOrdinal0 [0x00DB568B+1332875]\n\tOrdinal0 [0x00D921D4+1188308]\n\tOrdinal0 [0x00D9302F+1191983]\n\tGetHandleVerifier [0x010567A6+1545030]\n\tGetHandleVerifier [0x0110105C+2243580]\n\tGetHandleVerifier [0x00F5BC97+518199]\n\tGetHandleVerifier [0x00F5AD80+514336]\n\tOrdinal0 [0x00E6ED2D+2092333]\n\tOrdinal0 [0x00E72EE8+2109160]\n\tOrdinal0 [0x00E73022+2109474]\n\tOrdinal0 [0x00E7CB71+2149233]\n\tBaseThreadInitThunk [0x7631FA29+25]\n\tRtlGetAppContainerNamedObjectPath [0x77C97A9E+286]\n\tRtlGetAppContainerNamedObjectPath [0x77C97A6E+238]\n",
     "output_type": "error",
     "traceback": [
      "\u001b[1;31m---------------------------------------------------------------------------\u001b[0m",
      "\u001b[1;31mNoSuchElementException\u001b[0m                    Traceback (most recent call last)",
      "\u001b[1;32m<ipython-input-136-1f458c7f5eed>\u001b[0m in \u001b[0;36m<module>\u001b[1;34m\u001b[0m\n\u001b[0;32m      6\u001b[0m     \u001b[0msearch\u001b[0m\u001b[1;33m.\u001b[0m\u001b[0mclick\u001b[0m\u001b[1;33m(\u001b[0m\u001b[1;33m)\u001b[0m\u001b[1;33m\u001b[0m\u001b[1;33m\u001b[0m\u001b[0m\n\u001b[0;32m      7\u001b[0m \u001b[1;33m\u001b[0m\u001b[0m\n\u001b[1;32m----> 8\u001b[1;33m     \u001b[0minputElement\u001b[0m\u001b[1;33m=\u001b[0m\u001b[0mdriver\u001b[0m\u001b[1;33m.\u001b[0m\u001b[0mfind_element_by_xpath\u001b[0m\u001b[1;33m(\u001b[0m\u001b[1;34m'//div[@class=\"_13NKt copyable-text selectable-text\"]'\u001b[0m\u001b[1;33m)\u001b[0m\u001b[1;33m\u001b[0m\u001b[1;33m\u001b[0m\u001b[0m\n\u001b[0m\u001b[0;32m      9\u001b[0m     \u001b[0minputElement\u001b[0m\u001b[1;33m.\u001b[0m\u001b[0msend_keys\u001b[0m\u001b[1;33m(\u001b[0m\u001b[1;34mf\"{i}\"\u001b[0m\u001b[1;33m)\u001b[0m\u001b[1;33m\u001b[0m\u001b[1;33m\u001b[0m\u001b[0m\n\u001b[0;32m     10\u001b[0m     \u001b[0msleep\u001b[0m\u001b[1;33m(\u001b[0m\u001b[1;36m1\u001b[0m\u001b[1;33m)\u001b[0m\u001b[1;33m\u001b[0m\u001b[1;33m\u001b[0m\u001b[0m\n",
      "\u001b[1;32mC:\\ProgramData\\Anaconda3\\lib\\site-packages\\selenium\\webdriver\\remote\\webdriver.py\u001b[0m in \u001b[0;36mfind_element_by_xpath\u001b[1;34m(self, xpath)\u001b[0m\n\u001b[0;32m    512\u001b[0m             \u001b[0mstacklevel\u001b[0m\u001b[1;33m=\u001b[0m\u001b[1;36m2\u001b[0m\u001b[1;33m,\u001b[0m\u001b[1;33m\u001b[0m\u001b[1;33m\u001b[0m\u001b[0m\n\u001b[0;32m    513\u001b[0m         )\n\u001b[1;32m--> 514\u001b[1;33m         \u001b[1;32mreturn\u001b[0m \u001b[0mself\u001b[0m\u001b[1;33m.\u001b[0m\u001b[0mfind_element\u001b[0m\u001b[1;33m(\u001b[0m\u001b[0mby\u001b[0m\u001b[1;33m=\u001b[0m\u001b[0mBy\u001b[0m\u001b[1;33m.\u001b[0m\u001b[0mXPATH\u001b[0m\u001b[1;33m,\u001b[0m \u001b[0mvalue\u001b[0m\u001b[1;33m=\u001b[0m\u001b[0mxpath\u001b[0m\u001b[1;33m)\u001b[0m\u001b[1;33m\u001b[0m\u001b[1;33m\u001b[0m\u001b[0m\n\u001b[0m\u001b[0;32m    515\u001b[0m \u001b[1;33m\u001b[0m\u001b[0m\n\u001b[0;32m    516\u001b[0m     \u001b[1;32mdef\u001b[0m \u001b[0mfind_elements_by_xpath\u001b[0m\u001b[1;33m(\u001b[0m\u001b[0mself\u001b[0m\u001b[1;33m,\u001b[0m \u001b[0mxpath\u001b[0m\u001b[1;33m)\u001b[0m \u001b[1;33m->\u001b[0m \u001b[0mWebElement\u001b[0m\u001b[1;33m:\u001b[0m\u001b[1;33m\u001b[0m\u001b[1;33m\u001b[0m\u001b[0m\n",
      "\u001b[1;32mC:\\ProgramData\\Anaconda3\\lib\\site-packages\\selenium\\webdriver\\remote\\webdriver.py\u001b[0m in \u001b[0;36mfind_element\u001b[1;34m(self, by, value)\u001b[0m\n\u001b[0;32m   1236\u001b[0m             \u001b[0mvalue\u001b[0m \u001b[1;33m=\u001b[0m \u001b[1;34m'[name=\"%s\"]'\u001b[0m \u001b[1;33m%\u001b[0m \u001b[0mvalue\u001b[0m\u001b[1;33m\u001b[0m\u001b[1;33m\u001b[0m\u001b[0m\n\u001b[0;32m   1237\u001b[0m \u001b[1;33m\u001b[0m\u001b[0m\n\u001b[1;32m-> 1238\u001b[1;33m         return self.execute(Command.FIND_ELEMENT, {\n\u001b[0m\u001b[0;32m   1239\u001b[0m             \u001b[1;34m'using'\u001b[0m\u001b[1;33m:\u001b[0m \u001b[0mby\u001b[0m\u001b[1;33m,\u001b[0m\u001b[1;33m\u001b[0m\u001b[1;33m\u001b[0m\u001b[0m\n\u001b[0;32m   1240\u001b[0m             'value': value})['value']\n",
      "\u001b[1;32mC:\\ProgramData\\Anaconda3\\lib\\site-packages\\selenium\\webdriver\\remote\\webdriver.py\u001b[0m in \u001b[0;36mexecute\u001b[1;34m(self, driver_command, params)\u001b[0m\n\u001b[0;32m    416\u001b[0m         \u001b[0mresponse\u001b[0m \u001b[1;33m=\u001b[0m \u001b[0mself\u001b[0m\u001b[1;33m.\u001b[0m\u001b[0mcommand_executor\u001b[0m\u001b[1;33m.\u001b[0m\u001b[0mexecute\u001b[0m\u001b[1;33m(\u001b[0m\u001b[0mdriver_command\u001b[0m\u001b[1;33m,\u001b[0m \u001b[0mparams\u001b[0m\u001b[1;33m)\u001b[0m\u001b[1;33m\u001b[0m\u001b[1;33m\u001b[0m\u001b[0m\n\u001b[0;32m    417\u001b[0m         \u001b[1;32mif\u001b[0m \u001b[0mresponse\u001b[0m\u001b[1;33m:\u001b[0m\u001b[1;33m\u001b[0m\u001b[1;33m\u001b[0m\u001b[0m\n\u001b[1;32m--> 418\u001b[1;33m             \u001b[0mself\u001b[0m\u001b[1;33m.\u001b[0m\u001b[0merror_handler\u001b[0m\u001b[1;33m.\u001b[0m\u001b[0mcheck_response\u001b[0m\u001b[1;33m(\u001b[0m\u001b[0mresponse\u001b[0m\u001b[1;33m)\u001b[0m\u001b[1;33m\u001b[0m\u001b[1;33m\u001b[0m\u001b[0m\n\u001b[0m\u001b[0;32m    419\u001b[0m             response['value'] = self._unwrap_value(\n\u001b[0;32m    420\u001b[0m                 response.get('value', None))\n",
      "\u001b[1;32mC:\\ProgramData\\Anaconda3\\lib\\site-packages\\selenium\\webdriver\\remote\\errorhandler.py\u001b[0m in \u001b[0;36mcheck_response\u001b[1;34m(self, response)\u001b[0m\n\u001b[0;32m    241\u001b[0m                 \u001b[0malert_text\u001b[0m \u001b[1;33m=\u001b[0m \u001b[0mvalue\u001b[0m\u001b[1;33m[\u001b[0m\u001b[1;34m'alert'\u001b[0m\u001b[1;33m]\u001b[0m\u001b[1;33m.\u001b[0m\u001b[0mget\u001b[0m\u001b[1;33m(\u001b[0m\u001b[1;34m'text'\u001b[0m\u001b[1;33m)\u001b[0m\u001b[1;33m\u001b[0m\u001b[1;33m\u001b[0m\u001b[0m\n\u001b[0;32m    242\u001b[0m             \u001b[1;32mraise\u001b[0m \u001b[0mexception_class\u001b[0m\u001b[1;33m(\u001b[0m\u001b[0mmessage\u001b[0m\u001b[1;33m,\u001b[0m \u001b[0mscreen\u001b[0m\u001b[1;33m,\u001b[0m \u001b[0mstacktrace\u001b[0m\u001b[1;33m,\u001b[0m \u001b[0malert_text\u001b[0m\u001b[1;33m)\u001b[0m  \u001b[1;31m# type: ignore[call-arg]  # mypy is not smart enough here\u001b[0m\u001b[1;33m\u001b[0m\u001b[1;33m\u001b[0m\u001b[0m\n\u001b[1;32m--> 243\u001b[1;33m         \u001b[1;32mraise\u001b[0m \u001b[0mexception_class\u001b[0m\u001b[1;33m(\u001b[0m\u001b[0mmessage\u001b[0m\u001b[1;33m,\u001b[0m \u001b[0mscreen\u001b[0m\u001b[1;33m,\u001b[0m \u001b[0mstacktrace\u001b[0m\u001b[1;33m)\u001b[0m\u001b[1;33m\u001b[0m\u001b[1;33m\u001b[0m\u001b[0m\n\u001b[0m\u001b[0;32m    244\u001b[0m \u001b[1;33m\u001b[0m\u001b[0m\n\u001b[0;32m    245\u001b[0m     \u001b[1;32mdef\u001b[0m \u001b[0m_value_or_default\u001b[0m\u001b[1;33m(\u001b[0m\u001b[0mself\u001b[0m\u001b[1;33m,\u001b[0m \u001b[0mobj\u001b[0m\u001b[1;33m:\u001b[0m \u001b[0mMapping\u001b[0m\u001b[1;33m[\u001b[0m\u001b[0m_KT\u001b[0m\u001b[1;33m,\u001b[0m \u001b[0m_VT\u001b[0m\u001b[1;33m]\u001b[0m\u001b[1;33m,\u001b[0m \u001b[0mkey\u001b[0m\u001b[1;33m:\u001b[0m \u001b[0m_KT\u001b[0m\u001b[1;33m,\u001b[0m \u001b[0mdefault\u001b[0m\u001b[1;33m:\u001b[0m \u001b[0m_VT\u001b[0m\u001b[1;33m)\u001b[0m \u001b[1;33m->\u001b[0m \u001b[0m_VT\u001b[0m\u001b[1;33m:\u001b[0m\u001b[1;33m\u001b[0m\u001b[1;33m\u001b[0m\u001b[0m\n",
      "\u001b[1;31mNoSuchElementException\u001b[0m: Message: no such element: Unable to locate element: {\"method\":\"xpath\",\"selector\":\"//div[@class=\"_13NKt copyable-text selectable-text\"]\"}\n  (Session info: chrome=95.0.4638.54)\nStacktrace:\nBacktrace:\n\tOrdinal0 [0x00ED06F3+2492147]\n\tOrdinal0 [0x00E69BD1+2071505]\n\tOrdinal0 [0x00D72478+1057912]\n\tOrdinal0 [0x00D9C964+1231204]\n\tOrdinal0 [0x00DC6B62+1403746]\n\tOrdinal0 [0x00DB57FA+1333242]\n\tOrdinal0 [0x00DC4F38+1396536]\n\tOrdinal0 [0x00DB568B+1332875]\n\tOrdinal0 [0x00D921D4+1188308]\n\tOrdinal0 [0x00D9302F+1191983]\n\tGetHandleVerifier [0x010567A6+1545030]\n\tGetHandleVerifier [0x0110105C+2243580]\n\tGetHandleVerifier [0x00F5BC97+518199]\n\tGetHandleVerifier [0x00F5AD80+514336]\n\tOrdinal0 [0x00E6ED2D+2092333]\n\tOrdinal0 [0x00E72EE8+2109160]\n\tOrdinal0 [0x00E73022+2109474]\n\tOrdinal0 [0x00E7CB71+2149233]\n\tBaseThreadInitThunk [0x7631FA29+25]\n\tRtlGetAppContainerNamedObjectPath [0x77C97A9E+286]\n\tRtlGetAppContainerNamedObjectPath [0x77C97A6E+238]\n"
     ]
    }
   ],
   "source": [
    "count=53\n",
    "ncount =4\n",
    "for i in contact:\n",
    "    sleep(1)\n",
    "    search = driver.find_element_by_xpath('//span[@data-icon=\"chat\"]')\n",
    "    search.click()\n",
    "    \n",
    "    inputElement=driver.find_element_by_xpath('//div[@class=\"_13NKt copyable-text selectable-text\"]')\n",
    "    inputElement.send_keys(f\"{i}\")\n",
    "    sleep(1)\n",
    "    try:\n",
    "        selectname=driver.find_element_by_xpath('//span[@title=\"{}\"]'.format(i))\n",
    "        selectname.click()\n",
    "    except:\n",
    "        print(\"Contact Not Found:\",ncount,i)\n",
    "        NF_contact.append(i)\n",
    "        sleep(1)\n",
    "        close_search=driver.find_element_by_xpath('//span[@data-icon=\"back\"]')\n",
    "        close_search.click()\n",
    "        ncount+=1\n",
    "    else:\n",
    "        sleep(2)\n",
    "        attachment_box=driver.find_element_by_xpath('//div[@title=\"Attach\"]')\n",
    "        attachment_box.click()\n",
    "        sleep(2)\n",
    "        image_box=driver.find_element_by_xpath('//input[@accept=\"image/*,video/mp4,video/3gpp,video/quicktime\"]')\n",
    "        image_box.send_keys(filepath)\n",
    "                \n",
    "        sleep(2)\n",
    "\n",
    "        send_button = driver.find_element_by_xpath('//span[@data-icon=\"send\"]')\n",
    "        send_button.click()\n",
    "        sleep(1)\n",
    "        \n",
    "        inputElement=driver.find_element_by_xpath('//div[@class=\"_13NKt copyable-text selectable-text\"][@contenteditable=\"true\"][@data-tab=\"9\"]')\n",
    "        for msgline in msg:\n",
    "            inputElement.send_keys(msgline + Keys.SHIFT+Keys.ENTER)\n",
    "        sleep(1)\n",
    "        send_button = driver.find_element_by_xpath('//span[@data-icon=\"send\"]')\n",
    "        send_button.click()\n",
    "        sleep(2)\n",
    "        done_contanct.append(i)\n",
    "        print(count,i)\n",
    "        count+=1\n",
    "        \n",
    "        "
   ]
  },
  {
   "cell_type": "code",
   "execution_count": 85,
   "id": "2a7c850f",
   "metadata": {
    "ExecuteTime": {
     "end_time": "2021-10-30T08:59:47.470932Z",
     "start_time": "2021-10-30T08:59:47.462931Z"
    }
   },
   "outputs": [],
   "source": [
    "filepath = \"D://Learn/Project/Youtube-master/Whatsapp Automation/1.jpg\""
   ]
  },
  {
   "cell_type": "code",
   "execution_count": 89,
   "id": "e2290df6",
   "metadata": {
    "ExecuteTime": {
     "end_time": "2021-10-30T09:09:45.217548Z",
     "start_time": "2021-10-30T09:09:35.564621Z"
    }
   },
   "outputs": [],
   "source": [
    "driver = webdriver.Firefox()"
   ]
  },
  {
   "cell_type": "code",
   "execution_count": 119,
   "id": "c8bcf042",
   "metadata": {
    "ExecuteTime": {
     "end_time": "2021-10-30T09:56:35.119490Z",
     "start_time": "2021-10-30T09:56:07.508641Z"
    }
   },
   "outputs": [
    {
     "name": "stdout",
     "output_type": "stream",
     "text": [
      "Contact Not Found: 1 Kiki\n",
      "1 Vikash Maurya\n",
      "Contact Not Found: 2 Kiki\n",
      "2 Vikash Maurya\n"
     ]
    }
   ],
   "source": [
    "# from selenium import webdriver\n",
    "# from time import sleep\n",
    "\n",
    "# driver = webdriver.Chrome()\n",
    "# driver.get('https://web.whatsapp.com/')\n",
    "\n",
    "# input('Press Enter After Scanning QR code and ur ready')\n",
    "# filepath = \"C://Users/Kiki/Pictures/Illustrator/4x/1.jpg\"\n",
    "contact=[\"Kiki\",\"Vikash Maurya\",\"Kiki\",\"Vikash Maurya\"]\n",
    "NF_contact=[]\n",
    "count=1\n",
    "ncount =1\n",
    "for i in contact:\n",
    "    sleep(1)\n",
    "    search = driver.find_element_by_xpath('//span[@data-icon=\"chat\"]')\n",
    "    search.click()\n",
    "    \n",
    "    inputElement=driver.find_element_by_xpath('//div[@class=\"_13NKt copyable-text selectable-text\"]')\n",
    "    inputElement.send_keys(f\"{i}\")\n",
    "    sleep(1)\n",
    "    try:\n",
    "        selectname=driver.find_element_by_xpath('//span[@title=\"{}\"]'.format(i))\n",
    "        selectname.click()\n",
    "    except:\n",
    "        print(\"Contact Not Found:\",ncount,i)\n",
    "        NF_contact.append(i)\n",
    "        sleep(1)\n",
    "        close_search=driver.find_element_by_xpath('//span[@data-icon=\"back\"]')\n",
    "        close_search.click()\n",
    "\n",
    "    else:\n",
    "        \n",
    "        attachment_box=driver.find_element_by_xpath('//div[@title=\"Attach\"]')\n",
    "        attachment_box.click()\n",
    "        image_box=driver.find_element_by_xpath('//input[@accept=\"image/*,video/mp4,video/3gpp,video/quicktime\"]')\n",
    "        image_box.send_keys(filepath)\n",
    "                \n",
    "        sleep(3)\n",
    "\n",
    "        send_button = driver.find_element_by_xpath('//span[@data-icon=\"send\"]')\n",
    "        send_button.click()\n",
    "        sleep(1)\n",
    "        \n",
    "        inputElement=driver.find_element_by_xpath('//div[@class=\"_13NKt copyable-text selectable-text\"][@contenteditable=\"true\"][@data-tab=\"9\"]')\n",
    "        for msgline in msg:\n",
    "            inputElement.send_keys(msgline + Keys.SHIFT+Keys.ENTER)\n",
    "        sleep(1)\n",
    "        send_button = driver.find_element_by_xpath('//span[@data-icon=\"send\"]')\n",
    "        send_button.click()\n",
    "        print(count,i)\n",
    "        count+=1\n",
    "        ncount+=1\n",
    "        "
   ]
  },
  {
   "cell_type": "code",
   "execution_count": 102,
   "id": "9533be0a",
   "metadata": {
    "ExecuteTime": {
     "end_time": "2021-10-30T09:37:41.954503Z",
     "start_time": "2021-10-30T09:37:41.933502Z"
    }
   },
   "outputs": [
    {
     "data": {
      "text/plain": [
       "['Kiki']"
      ]
     },
     "execution_count": 102,
     "metadata": {},
     "output_type": "execute_result"
    }
   ],
   "source": []
  },
  {
   "cell_type": "code",
   "execution_count": 94,
   "id": "f7141352",
   "metadata": {
    "ExecuteTime": {
     "end_time": "2021-10-30T09:25:34.840499Z",
     "start_time": "2021-10-30T09:23:27.665162Z"
    }
   },
   "outputs": [
    {
     "name": "stdout",
     "output_type": "stream",
     "text": [
      "Enter anything after scanning QR code\n"
     ]
    },
    {
     "ename": "NoSuchElementException",
     "evalue": "Message: no such element: Unable to locate element: {\"method\":\"xpath\",\"selector\":\"//input[@accept=\"*\"]\"}\n  (Session info: chrome=95.0.4638.54)\nStacktrace:\nBacktrace:\n\tOrdinal0 [0x00ED06F3+2492147]\n\tOrdinal0 [0x00E69BD1+2071505]\n\tOrdinal0 [0x00D72478+1057912]\n\tOrdinal0 [0x00D9C964+1231204]\n\tOrdinal0 [0x00DC6B62+1403746]\n\tOrdinal0 [0x00DB57FA+1333242]\n\tOrdinal0 [0x00DC4F38+1396536]\n\tOrdinal0 [0x00DB568B+1332875]\n\tOrdinal0 [0x00D921D4+1188308]\n\tOrdinal0 [0x00D9302F+1191983]\n\tGetHandleVerifier [0x010567A6+1545030]\n\tGetHandleVerifier [0x0110105C+2243580]\n\tGetHandleVerifier [0x00F5BC97+518199]\n\tGetHandleVerifier [0x00F5AD80+514336]\n\tOrdinal0 [0x00E6ED2D+2092333]\n\tOrdinal0 [0x00E72EE8+2109160]\n\tOrdinal0 [0x00E73022+2109474]\n\tOrdinal0 [0x00E7CB71+2149233]\n\tBaseThreadInitThunk [0x7631FA29+25]\n\tRtlGetAppContainerNamedObjectPath [0x77C97A9E+286]\n\tRtlGetAppContainerNamedObjectPath [0x77C97A6E+238]\n",
     "output_type": "error",
     "traceback": [
      "\u001b[1;31m---------------------------------------------------------------------------\u001b[0m",
      "\u001b[1;31mNoSuchElementException\u001b[0m                    Traceback (most recent call last)",
      "\u001b[1;32m<ipython-input-94-ee45649baa62>\u001b[0m in \u001b[0;36m<module>\u001b[1;34m\u001b[0m\n\u001b[0;32m     16\u001b[0m     \u001b[0msleep\u001b[0m\u001b[1;33m(\u001b[0m\u001b[1;36m1\u001b[0m\u001b[1;33m)\u001b[0m\u001b[1;33m\u001b[0m\u001b[1;33m\u001b[0m\u001b[0m\n\u001b[0;32m     17\u001b[0m     \u001b[1;32mfor\u001b[0m \u001b[0mi\u001b[0m \u001b[1;32min\u001b[0m \u001b[0mrange\u001b[0m\u001b[1;33m(\u001b[0m\u001b[1;36m24\u001b[0m\u001b[1;33m)\u001b[0m\u001b[1;33m:\u001b[0m\u001b[1;33m\u001b[0m\u001b[1;33m\u001b[0m\u001b[0m\n\u001b[1;32m---> 18\u001b[1;33m         \u001b[0maddfile_button\u001b[0m\u001b[1;33m=\u001b[0m\u001b[0mdriver\u001b[0m\u001b[1;33m.\u001b[0m\u001b[0mfind_element_by_xpath\u001b[0m\u001b[1;33m(\u001b[0m\u001b[1;34m'//input[@accept=\"*\"]'\u001b[0m\u001b[1;33m)\u001b[0m\u001b[1;33m\u001b[0m\u001b[1;33m\u001b[0m\u001b[0m\n\u001b[0m\u001b[0;32m     19\u001b[0m         \u001b[0maddfile_button\u001b[0m\u001b[1;33m.\u001b[0m\u001b[0msend_keys\u001b[0m\u001b[1;33m(\u001b[0m\u001b[0mfilepath\u001b[0m\u001b[1;33m)\u001b[0m\u001b[1;33m\u001b[0m\u001b[1;33m\u001b[0m\u001b[0m\n\u001b[0;32m     20\u001b[0m         \u001b[0msleep\u001b[0m\u001b[1;33m(\u001b[0m\u001b[1;36m1\u001b[0m\u001b[1;33m)\u001b[0m\u001b[1;33m\u001b[0m\u001b[1;33m\u001b[0m\u001b[0m\n",
      "\u001b[1;32mC:\\ProgramData\\Anaconda3\\lib\\site-packages\\selenium\\webdriver\\remote\\webdriver.py\u001b[0m in \u001b[0;36mfind_element_by_xpath\u001b[1;34m(self, xpath)\u001b[0m\n\u001b[0;32m    512\u001b[0m             \u001b[0mstacklevel\u001b[0m\u001b[1;33m=\u001b[0m\u001b[1;36m2\u001b[0m\u001b[1;33m,\u001b[0m\u001b[1;33m\u001b[0m\u001b[1;33m\u001b[0m\u001b[0m\n\u001b[0;32m    513\u001b[0m         )\n\u001b[1;32m--> 514\u001b[1;33m         \u001b[1;32mreturn\u001b[0m \u001b[0mself\u001b[0m\u001b[1;33m.\u001b[0m\u001b[0mfind_element\u001b[0m\u001b[1;33m(\u001b[0m\u001b[0mby\u001b[0m\u001b[1;33m=\u001b[0m\u001b[0mBy\u001b[0m\u001b[1;33m.\u001b[0m\u001b[0mXPATH\u001b[0m\u001b[1;33m,\u001b[0m \u001b[0mvalue\u001b[0m\u001b[1;33m=\u001b[0m\u001b[0mxpath\u001b[0m\u001b[1;33m)\u001b[0m\u001b[1;33m\u001b[0m\u001b[1;33m\u001b[0m\u001b[0m\n\u001b[0m\u001b[0;32m    515\u001b[0m \u001b[1;33m\u001b[0m\u001b[0m\n\u001b[0;32m    516\u001b[0m     \u001b[1;32mdef\u001b[0m \u001b[0mfind_elements_by_xpath\u001b[0m\u001b[1;33m(\u001b[0m\u001b[0mself\u001b[0m\u001b[1;33m,\u001b[0m \u001b[0mxpath\u001b[0m\u001b[1;33m)\u001b[0m \u001b[1;33m->\u001b[0m \u001b[0mWebElement\u001b[0m\u001b[1;33m:\u001b[0m\u001b[1;33m\u001b[0m\u001b[1;33m\u001b[0m\u001b[0m\n",
      "\u001b[1;32mC:\\ProgramData\\Anaconda3\\lib\\site-packages\\selenium\\webdriver\\remote\\webdriver.py\u001b[0m in \u001b[0;36mfind_element\u001b[1;34m(self, by, value)\u001b[0m\n\u001b[0;32m   1236\u001b[0m             \u001b[0mvalue\u001b[0m \u001b[1;33m=\u001b[0m \u001b[1;34m'[name=\"%s\"]'\u001b[0m \u001b[1;33m%\u001b[0m \u001b[0mvalue\u001b[0m\u001b[1;33m\u001b[0m\u001b[1;33m\u001b[0m\u001b[0m\n\u001b[0;32m   1237\u001b[0m \u001b[1;33m\u001b[0m\u001b[0m\n\u001b[1;32m-> 1238\u001b[1;33m         return self.execute(Command.FIND_ELEMENT, {\n\u001b[0m\u001b[0;32m   1239\u001b[0m             \u001b[1;34m'using'\u001b[0m\u001b[1;33m:\u001b[0m \u001b[0mby\u001b[0m\u001b[1;33m,\u001b[0m\u001b[1;33m\u001b[0m\u001b[1;33m\u001b[0m\u001b[0m\n\u001b[0;32m   1240\u001b[0m             'value': value})['value']\n",
      "\u001b[1;32mC:\\ProgramData\\Anaconda3\\lib\\site-packages\\selenium\\webdriver\\remote\\webdriver.py\u001b[0m in \u001b[0;36mexecute\u001b[1;34m(self, driver_command, params)\u001b[0m\n\u001b[0;32m    416\u001b[0m         \u001b[0mresponse\u001b[0m \u001b[1;33m=\u001b[0m \u001b[0mself\u001b[0m\u001b[1;33m.\u001b[0m\u001b[0mcommand_executor\u001b[0m\u001b[1;33m.\u001b[0m\u001b[0mexecute\u001b[0m\u001b[1;33m(\u001b[0m\u001b[0mdriver_command\u001b[0m\u001b[1;33m,\u001b[0m \u001b[0mparams\u001b[0m\u001b[1;33m)\u001b[0m\u001b[1;33m\u001b[0m\u001b[1;33m\u001b[0m\u001b[0m\n\u001b[0;32m    417\u001b[0m         \u001b[1;32mif\u001b[0m \u001b[0mresponse\u001b[0m\u001b[1;33m:\u001b[0m\u001b[1;33m\u001b[0m\u001b[1;33m\u001b[0m\u001b[0m\n\u001b[1;32m--> 418\u001b[1;33m             \u001b[0mself\u001b[0m\u001b[1;33m.\u001b[0m\u001b[0merror_handler\u001b[0m\u001b[1;33m.\u001b[0m\u001b[0mcheck_response\u001b[0m\u001b[1;33m(\u001b[0m\u001b[0mresponse\u001b[0m\u001b[1;33m)\u001b[0m\u001b[1;33m\u001b[0m\u001b[1;33m\u001b[0m\u001b[0m\n\u001b[0m\u001b[0;32m    419\u001b[0m             response['value'] = self._unwrap_value(\n\u001b[0;32m    420\u001b[0m                 response.get('value', None))\n",
      "\u001b[1;32mC:\\ProgramData\\Anaconda3\\lib\\site-packages\\selenium\\webdriver\\remote\\errorhandler.py\u001b[0m in \u001b[0;36mcheck_response\u001b[1;34m(self, response)\u001b[0m\n\u001b[0;32m    241\u001b[0m                 \u001b[0malert_text\u001b[0m \u001b[1;33m=\u001b[0m \u001b[0mvalue\u001b[0m\u001b[1;33m[\u001b[0m\u001b[1;34m'alert'\u001b[0m\u001b[1;33m]\u001b[0m\u001b[1;33m.\u001b[0m\u001b[0mget\u001b[0m\u001b[1;33m(\u001b[0m\u001b[1;34m'text'\u001b[0m\u001b[1;33m)\u001b[0m\u001b[1;33m\u001b[0m\u001b[1;33m\u001b[0m\u001b[0m\n\u001b[0;32m    242\u001b[0m             \u001b[1;32mraise\u001b[0m \u001b[0mexception_class\u001b[0m\u001b[1;33m(\u001b[0m\u001b[0mmessage\u001b[0m\u001b[1;33m,\u001b[0m \u001b[0mscreen\u001b[0m\u001b[1;33m,\u001b[0m \u001b[0mstacktrace\u001b[0m\u001b[1;33m,\u001b[0m \u001b[0malert_text\u001b[0m\u001b[1;33m)\u001b[0m  \u001b[1;31m# type: ignore[call-arg]  # mypy is not smart enough here\u001b[0m\u001b[1;33m\u001b[0m\u001b[1;33m\u001b[0m\u001b[0m\n\u001b[1;32m--> 243\u001b[1;33m         \u001b[1;32mraise\u001b[0m \u001b[0mexception_class\u001b[0m\u001b[1;33m(\u001b[0m\u001b[0mmessage\u001b[0m\u001b[1;33m,\u001b[0m \u001b[0mscreen\u001b[0m\u001b[1;33m,\u001b[0m \u001b[0mstacktrace\u001b[0m\u001b[1;33m)\u001b[0m\u001b[1;33m\u001b[0m\u001b[1;33m\u001b[0m\u001b[0m\n\u001b[0m\u001b[0;32m    244\u001b[0m \u001b[1;33m\u001b[0m\u001b[0m\n\u001b[0;32m    245\u001b[0m     \u001b[1;32mdef\u001b[0m \u001b[0m_value_or_default\u001b[0m\u001b[1;33m(\u001b[0m\u001b[0mself\u001b[0m\u001b[1;33m,\u001b[0m \u001b[0mobj\u001b[0m\u001b[1;33m:\u001b[0m \u001b[0mMapping\u001b[0m\u001b[1;33m[\u001b[0m\u001b[0m_KT\u001b[0m\u001b[1;33m,\u001b[0m \u001b[0m_VT\u001b[0m\u001b[1;33m]\u001b[0m\u001b[1;33m,\u001b[0m \u001b[0mkey\u001b[0m\u001b[1;33m:\u001b[0m \u001b[0m_KT\u001b[0m\u001b[1;33m,\u001b[0m \u001b[0mdefault\u001b[0m\u001b[1;33m:\u001b[0m \u001b[0m_VT\u001b[0m\u001b[1;33m)\u001b[0m \u001b[1;33m->\u001b[0m \u001b[0m_VT\u001b[0m\u001b[1;33m:\u001b[0m\u001b[1;33m\u001b[0m\u001b[1;33m\u001b[0m\u001b[0m\n",
      "\u001b[1;31mNoSuchElementException\u001b[0m: Message: no such element: Unable to locate element: {\"method\":\"xpath\",\"selector\":\"//input[@accept=\"*\"]\"}\n  (Session info: chrome=95.0.4638.54)\nStacktrace:\nBacktrace:\n\tOrdinal0 [0x00ED06F3+2492147]\n\tOrdinal0 [0x00E69BD1+2071505]\n\tOrdinal0 [0x00D72478+1057912]\n\tOrdinal0 [0x00D9C964+1231204]\n\tOrdinal0 [0x00DC6B62+1403746]\n\tOrdinal0 [0x00DB57FA+1333242]\n\tOrdinal0 [0x00DC4F38+1396536]\n\tOrdinal0 [0x00DB568B+1332875]\n\tOrdinal0 [0x00D921D4+1188308]\n\tOrdinal0 [0x00D9302F+1191983]\n\tGetHandleVerifier [0x010567A6+1545030]\n\tGetHandleVerifier [0x0110105C+2243580]\n\tGetHandleVerifier [0x00F5BC97+518199]\n\tGetHandleVerifier [0x00F5AD80+514336]\n\tOrdinal0 [0x00E6ED2D+2092333]\n\tOrdinal0 [0x00E72EE8+2109160]\n\tOrdinal0 [0x00E73022+2109474]\n\tOrdinal0 [0x00E7CB71+2149233]\n\tBaseThreadInitThunk [0x7631FA29+25]\n\tRtlGetAppContainerNamedObjectPath [0x77C97A9E+286]\n\tRtlGetAppContainerNamedObjectPath [0x77C97A6E+238]\n"
     ]
    }
   ],
   "source": [
    "from selenium import webdriver\n",
    "from time import sleep\n",
    "driver=webdriver.Chrome()\n",
    "driver.get('https://web.whatsapp.com/')\n",
    "name=\"Vikash Maurya\"\n",
    "count=1 #int(input(\"How many times\"))\n",
    "filepath=\"C://Users/Kiki/Pictures/Illustrator/4x/1.jpg\" #input(\"Ënter your Filepath\")\n",
    "input(\"Enter anything after scanning QR code\")\n",
    "user=driver.find_element_by_xpath('//span[@title=\"{}\"]'.format(name))\n",
    "user.click()\n",
    "for i in range(4):\n",
    "    attachment_box=driver.find_element_by_xpath('//div[@title=\"Attach\"]')\n",
    "    attachment_box.click()\n",
    "    image_box=driver.find_element_by_xpath('//input[@accept=\"image/*,video/mp4,video/3gpp,video/quicktime\"]')\n",
    "    image_box.send_keys(filepath)\n",
    "    sleep(1)\n",
    "    for i in range(24):\n",
    "        addfile_button=driver.find_element_by_xpath('//input[@accept=\"*\"]')\n",
    "        addfile_button.send_keys(filepath)\n",
    "        sleep(1)\n",
    "        \n",
    "        \n",
    "    sleep(4)\n",
    "    send_button=driver.find_element_by_xpath('//span[@data-icon=\"send\"]')\n",
    "    send_button.click()\n",
    "    sleep(1)"
   ]
  },
  {
   "cell_type": "code",
   "execution_count": 88,
   "id": "c77d1f1e",
   "metadata": {
    "ExecuteTime": {
     "end_time": "2021-10-30T09:04:14.505815Z",
     "start_time": "2021-10-30T09:04:14.408812Z"
    }
   },
   "outputs": [],
   "source": [
    "image_box.send_keys(filepath)"
   ]
  },
  {
   "cell_type": "code",
   "execution_count": 96,
   "id": "1b5f8620",
   "metadata": {
    "ExecuteTime": {
     "end_time": "2021-10-30T09:28:16.898449Z",
     "start_time": "2021-10-30T09:28:12.654211Z"
    }
   },
   "outputs": [],
   "source": [
    "attachment_box=driver.find_element_by_xpath('//div[@title=\"Attach\"]')\n",
    "attachment_box.click()\n",
    "image_box=driver.find_element_by_xpath('//input[@accept=\"image/*,video/mp4,video/3gpp,video/quicktime\"]')\n",
    "image_box.send_keys(filepath)\n",
    "\n",
    "\n",
    "sleep(3)\n",
    "\n",
    "send_button = driver.find_element_by_xpath('//span[@data-icon=\"send\"]')\n",
    "send_button.click()\n",
    "sleep(1)\n"
   ]
  },
  {
   "cell_type": "code",
   "execution_count": null,
   "id": "4c5a4126",
   "metadata": {},
   "outputs": [],
   "source": []
  }
 ],
 "metadata": {
  "kernelspec": {
   "display_name": "Python 3",
   "language": "python",
   "name": "python3"
  },
  "language_info": {
   "codemirror_mode": {
    "name": "ipython",
    "version": 3
   },
   "file_extension": ".py",
   "mimetype": "text/x-python",
   "name": "python",
   "nbconvert_exporter": "python",
   "pygments_lexer": "ipython3",
   "version": "3.8.8"
  },
  "latex_envs": {
   "LaTeX_envs_menu_present": true,
   "autoclose": false,
   "autocomplete": true,
   "bibliofile": "biblio.bib",
   "cite_by": "apalike",
   "current_citInitial": 1,
   "eqLabelWithNumbers": true,
   "eqNumInitial": 1,
   "hotkeys": {
    "equation": "Ctrl-E",
    "itemize": "Ctrl-I"
   },
   "labels_anchors": false,
   "latex_user_defs": false,
   "report_style_numbering": false,
   "user_envs_cfg": false
  }
 },
 "nbformat": 4,
 "nbformat_minor": 5
}
