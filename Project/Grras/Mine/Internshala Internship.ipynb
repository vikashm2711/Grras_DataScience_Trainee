{
 "cells": [
  {
   "cell_type": "code",
   "execution_count": 1,
   "id": "8b4a8153",
   "metadata": {
    "ExecuteTime": {
     "end_time": "2021-10-20T05:11:26.101838Z",
     "start_time": "2021-10-20T05:11:24.008707Z"
    }
   },
   "outputs": [],
   "source": [
    "import pandas as pd\n",
    "import numpy as np\n",
    "import matplotlib.pyplot as plt"
   ]
  },
  {
   "cell_type": "code",
   "execution_count": 2,
   "id": "d40a6df0",
   "metadata": {
    "ExecuteTime": {
     "end_time": "2021-10-20T05:11:26.214909Z",
     "start_time": "2021-10-20T05:11:26.101838Z"
    }
   },
   "outputs": [],
   "source": [
    "bang=pd.read_csv(\"Dataset/internshala-jobs/BANGALORE.csv\")\n",
    "delhi=pd.read_csv(\"Dataset/internshala-jobs/DELHI.csv\")\n",
    "hyd=pd.read_csv(\"Dataset/internshala-jobs/HYDERABAD.csv\")\n",
    "inter=pd.read_csv(\"Dataset/internshala-jobs/INTERNATIONAL.csv\")\n",
    "kol=pd.read_csv(\"Dataset/internshala-jobs/KOLKATA.csv\")\n",
    "mum=pd.read_csv(\"Dataset/internshala-jobs/MUMBAI.csv\")"
   ]
  },
  {
   "cell_type": "code",
   "execution_count": 3,
   "id": "2bff861e",
   "metadata": {
    "ExecuteTime": {
     "end_time": "2021-10-20T05:11:26.230865Z",
     "start_time": "2021-10-20T05:11:26.218865Z"
    }
   },
   "outputs": [],
   "source": [
    "df=pd.concat([bang, delhi, hyd, inter, kol, mum], ignore_index= True)"
   ]
  },
  {
   "cell_type": "code",
   "execution_count": 4,
   "id": "a17142f2",
   "metadata": {
    "ExecuteTime": {
     "end_time": "2021-10-20T05:11:26.295976Z",
     "start_time": "2021-10-20T05:11:26.230865Z"
    }
   },
   "outputs": [
    {
     "name": "stdout",
     "output_type": "stream",
     "text": [
      "<class 'pandas.core.frame.DataFrame'>\n",
      "RangeIndex: 3000 entries, 0 to 2999\n",
      "Data columns (total 11 columns):\n",
      " #   Column            Non-Null Count  Dtype \n",
      "---  ------            --------------  ----- \n",
      " 0   _id               3000 non-null   object\n",
      " 1   Date Time         3000 non-null   object\n",
      " 2   profile           3000 non-null   object\n",
      " 3   company           3000 non-null   object\n",
      " 4   Location          3000 non-null   object\n",
      " 5   Start Date        3000 non-null   object\n",
      " 6   Stipend           3000 non-null   object\n",
      " 7   Duration          3000 non-null   object\n",
      " 8   Apply by Date     3000 non-null   object\n",
      " 9   Offer             3000 non-null   object\n",
      " 10  Skills and Perks  3000 non-null   object\n",
      "dtypes: object(11)\n",
      "memory usage: 257.9+ KB\n"
     ]
    }
   ],
   "source": [
    "df.info()"
   ]
  },
  {
   "cell_type": "code",
   "execution_count": 5,
   "id": "f2d5005f",
   "metadata": {
    "ExecuteTime": {
     "end_time": "2021-10-20T05:11:26.389099Z",
     "start_time": "2021-10-20T05:11:26.295976Z"
    }
   },
   "outputs": [
    {
     "data": {
      "text/html": [
       "<div>\n",
       "<style scoped>\n",
       "    .dataframe tbody tr th:only-of-type {\n",
       "        vertical-align: middle;\n",
       "    }\n",
       "\n",
       "    .dataframe tbody tr th {\n",
       "        vertical-align: top;\n",
       "    }\n",
       "\n",
       "    .dataframe thead th {\n",
       "        text-align: right;\n",
       "    }\n",
       "</style>\n",
       "<table border=\"1\" class=\"dataframe\">\n",
       "  <thead>\n",
       "    <tr style=\"text-align: right;\">\n",
       "      <th></th>\n",
       "      <th>_id</th>\n",
       "      <th>Date Time</th>\n",
       "      <th>profile</th>\n",
       "      <th>company</th>\n",
       "      <th>Location</th>\n",
       "      <th>Start Date</th>\n",
       "      <th>Stipend</th>\n",
       "      <th>Duration</th>\n",
       "      <th>Apply by Date</th>\n",
       "      <th>Offer</th>\n",
       "      <th>Skills and Perks</th>\n",
       "    </tr>\n",
       "  </thead>\n",
       "  <tbody>\n",
       "    <tr>\n",
       "      <th>0</th>\n",
       "      <td>5f9fc1e3fb43357b9094a297</td>\n",
       "      <td>2020-11-02 13:52:57</td>\n",
       "      <td>Fashion Design</td>\n",
       "      <td>Enamor</td>\n",
       "      <td>Bangalore</td>\n",
       "      <td>Immediately</td>\n",
       "      <td>5000 /month</td>\n",
       "      <td>2 Months</td>\n",
       "      <td>11 Nov' 20</td>\n",
       "      <td>Internship</td>\n",
       "      <td>[\"MS-Office\",\"Adobe Illustrator\",\"CorelDRAW\",\"...</td>\n",
       "    </tr>\n",
       "    <tr>\n",
       "      <th>1</th>\n",
       "      <td>5f9fc1e4fb43357b9094a298</td>\n",
       "      <td>2020-11-02 13:52:59</td>\n",
       "      <td>Operations</td>\n",
       "      <td>Lakshmi Tools &amp; Components</td>\n",
       "      <td>Hoskote</td>\n",
       "      <td>Immediately</td>\n",
       "      <td>12000 /month</td>\n",
       "      <td>1 Month</td>\n",
       "      <td>16 Nov' 20</td>\n",
       "      <td>Internship</td>\n",
       "      <td>[\"Chemistry\",\"Certificate\",\" Letter of recomme...</td>\n",
       "    </tr>\n",
       "    <tr>\n",
       "      <th>2</th>\n",
       "      <td>5f9fc1e4fb43357b9094a299</td>\n",
       "      <td>2020-11-02 13:53:00</td>\n",
       "      <td>Photography</td>\n",
       "      <td>Evineon Technologies</td>\n",
       "      <td>Bangalore</td>\n",
       "      <td>Immediately</td>\n",
       "      <td>10000-12000 /month</td>\n",
       "      <td>3 Months</td>\n",
       "      <td>16 Nov' 20</td>\n",
       "      <td>Internship</td>\n",
       "      <td>[\"Flexible work hours\",\" Free snacks &amp; beverag...</td>\n",
       "    </tr>\n",
       "    <tr>\n",
       "      <th>3</th>\n",
       "      <td>5f9fc1e5fb43357b9094a29a</td>\n",
       "      <td>2020-11-02 13:53:00</td>\n",
       "      <td>Social Media Marketing</td>\n",
       "      <td>VisualNet Private Limited</td>\n",
       "      <td>Bangalore</td>\n",
       "      <td>Immediately</td>\n",
       "      <td>7000 /month</td>\n",
       "      <td>6 Months</td>\n",
       "      <td>16 Nov' 20</td>\n",
       "      <td>Internship</td>\n",
       "      <td>[\"MS-Office\",\"Certificate\",\" Letter of recomme...</td>\n",
       "    </tr>\n",
       "    <tr>\n",
       "      <th>4</th>\n",
       "      <td>5f9fc1e6fb43357b9094a29b</td>\n",
       "      <td>2020-11-02 13:53:01</td>\n",
       "      <td>Business Development (Sales)</td>\n",
       "      <td>DM Consulting (India) Private Limited</td>\n",
       "      <td>Bangalore</td>\n",
       "      <td>Immediately</td>\n",
       "      <td>5000 /month</td>\n",
       "      <td>6 Months</td>\n",
       "      <td>16 Nov' 20</td>\n",
       "      <td>Internship</td>\n",
       "      <td>[]</td>\n",
       "    </tr>\n",
       "  </tbody>\n",
       "</table>\n",
       "</div>"
      ],
      "text/plain": [
       "                        _id            Date Time  \\\n",
       "0  5f9fc1e3fb43357b9094a297  2020-11-02 13:52:57   \n",
       "1  5f9fc1e4fb43357b9094a298  2020-11-02 13:52:59   \n",
       "2  5f9fc1e4fb43357b9094a299  2020-11-02 13:53:00   \n",
       "3  5f9fc1e5fb43357b9094a29a  2020-11-02 13:53:00   \n",
       "4  5f9fc1e6fb43357b9094a29b  2020-11-02 13:53:01   \n",
       "\n",
       "                        profile                                company  \\\n",
       "0                Fashion Design                                 Enamor   \n",
       "1                    Operations             Lakshmi Tools & Components   \n",
       "2                   Photography                   Evineon Technologies   \n",
       "3        Social Media Marketing              VisualNet Private Limited   \n",
       "4  Business Development (Sales)  DM Consulting (India) Private Limited   \n",
       "\n",
       "    Location   Start Date              Stipend  Duration Apply by Date  \\\n",
       "0  Bangalore  Immediately          5000 /month  2 Months    11 Nov' 20   \n",
       "1    Hoskote  Immediately         12000 /month   1 Month    16 Nov' 20   \n",
       "2  Bangalore  Immediately   10000-12000 /month  3 Months    16 Nov' 20   \n",
       "3  Bangalore  Immediately          7000 /month  6 Months    16 Nov' 20   \n",
       "4  Bangalore  Immediately          5000 /month  6 Months    16 Nov' 20   \n",
       "\n",
       "        Offer                                   Skills and Perks  \n",
       "0  Internship  [\"MS-Office\",\"Adobe Illustrator\",\"CorelDRAW\",\"...  \n",
       "1  Internship  [\"Chemistry\",\"Certificate\",\" Letter of recomme...  \n",
       "2  Internship  [\"Flexible work hours\",\" Free snacks & beverag...  \n",
       "3  Internship  [\"MS-Office\",\"Certificate\",\" Letter of recomme...  \n",
       "4  Internship                                                 []  "
      ]
     },
     "execution_count": 5,
     "metadata": {},
     "output_type": "execute_result"
    }
   ],
   "source": [
    "df.head()"
   ]
  },
  {
   "cell_type": "code",
   "execution_count": 6,
   "id": "e5dc4f53",
   "metadata": {
    "ExecuteTime": {
     "end_time": "2021-10-20T05:11:26.506467Z",
     "start_time": "2021-10-20T05:11:26.389099Z"
    }
   },
   "outputs": [
    {
     "data": {
      "text/html": [
       "<div>\n",
       "<style scoped>\n",
       "    .dataframe tbody tr th:only-of-type {\n",
       "        vertical-align: middle;\n",
       "    }\n",
       "\n",
       "    .dataframe tbody tr th {\n",
       "        vertical-align: top;\n",
       "    }\n",
       "\n",
       "    .dataframe thead th {\n",
       "        text-align: right;\n",
       "    }\n",
       "</style>\n",
       "<table border=\"1\" class=\"dataframe\">\n",
       "  <thead>\n",
       "    <tr style=\"text-align: right;\">\n",
       "      <th></th>\n",
       "      <th>_id</th>\n",
       "      <th>Date Time</th>\n",
       "      <th>profile</th>\n",
       "      <th>company</th>\n",
       "      <th>Location</th>\n",
       "      <th>Start Date</th>\n",
       "      <th>Stipend</th>\n",
       "      <th>Duration</th>\n",
       "      <th>Apply by Date</th>\n",
       "      <th>Offer</th>\n",
       "      <th>Skills and Perks</th>\n",
       "    </tr>\n",
       "  </thead>\n",
       "  <tbody>\n",
       "    <tr>\n",
       "      <th>count</th>\n",
       "      <td>3000</td>\n",
       "      <td>3000</td>\n",
       "      <td>3000</td>\n",
       "      <td>3000</td>\n",
       "      <td>3000</td>\n",
       "      <td>3000</td>\n",
       "      <td>3000</td>\n",
       "      <td>3000</td>\n",
       "      <td>3000</td>\n",
       "      <td>3000</td>\n",
       "      <td>3000</td>\n",
       "    </tr>\n",
       "    <tr>\n",
       "      <th>unique</th>\n",
       "      <td>3000</td>\n",
       "      <td>2443</td>\n",
       "      <td>571</td>\n",
       "      <td>1790</td>\n",
       "      <td>48</td>\n",
       "      <td>2</td>\n",
       "      <td>208</td>\n",
       "      <td>13</td>\n",
       "      <td>36</td>\n",
       "      <td>2</td>\n",
       "      <td>1795</td>\n",
       "    </tr>\n",
       "    <tr>\n",
       "      <th>top</th>\n",
       "      <td>5f9fcb38fe00d03aec299710</td>\n",
       "      <td>2020-11-02 13:36:26</td>\n",
       "      <td>Business Development (Sales)</td>\n",
       "      <td>Lloyd Harrington Australia Proprietary Limited</td>\n",
       "      <td>Delhi</td>\n",
       "      <td>Immediately</td>\n",
       "      <td>5000 /month</td>\n",
       "      <td>3 Months</td>\n",
       "      <td>6 Nov' 20</td>\n",
       "      <td>Internship</td>\n",
       "      <td>[\"Certificate\"]</td>\n",
       "    </tr>\n",
       "    <tr>\n",
       "      <th>freq</th>\n",
       "      <td>1</td>\n",
       "      <td>2</td>\n",
       "      <td>446</td>\n",
       "      <td>25</td>\n",
       "      <td>830</td>\n",
       "      <td>2979</td>\n",
       "      <td>367</td>\n",
       "      <td>1149</td>\n",
       "      <td>291</td>\n",
       "      <td>2038</td>\n",
       "      <td>96</td>\n",
       "    </tr>\n",
       "  </tbody>\n",
       "</table>\n",
       "</div>"
      ],
      "text/plain": [
       "                             _id            Date Time  \\\n",
       "count                       3000                 3000   \n",
       "unique                      3000                 2443   \n",
       "top     5f9fcb38fe00d03aec299710  2020-11-02 13:36:26   \n",
       "freq                           1                    2   \n",
       "\n",
       "                             profile  \\\n",
       "count                           3000   \n",
       "unique                           571   \n",
       "top     Business Development (Sales)   \n",
       "freq                             446   \n",
       "\n",
       "                                               company Location   Start Date  \\\n",
       "count                                             3000     3000         3000   \n",
       "unique                                            1790       48            2   \n",
       "top     Lloyd Harrington Australia Proprietary Limited    Delhi  Immediately   \n",
       "freq                                                25      830         2979   \n",
       "\n",
       "             Stipend  Duration Apply by Date       Offer Skills and Perks  \n",
       "count           3000      3000          3000        3000             3000  \n",
       "unique           208        13            36           2             1795  \n",
       "top      5000 /month  3 Months     6 Nov' 20  Internship  [\"Certificate\"]  \n",
       "freq             367      1149           291        2038               96  "
      ]
     },
     "execution_count": 6,
     "metadata": {},
     "output_type": "execute_result"
    }
   ],
   "source": [
    "df.describe()"
   ]
  },
  {
   "cell_type": "code",
   "execution_count": 7,
   "id": "22e91982",
   "metadata": {
    "ExecuteTime": {
     "end_time": "2021-10-20T05:11:26.534467Z",
     "start_time": "2021-10-20T05:11:26.506467Z"
    }
   },
   "outputs": [
    {
     "data": {
      "text/plain": [
       " 5000 /month         367\n",
       " 10000 /month        299\n",
       " 8000 /month         126\n",
       " 15000 /month        118\n",
       " 2000 /month         116\n",
       "                    ... \n",
       " 15500 /month          1\n",
       " 6000 lump sum         1\n",
       " 4000 lump sum         1\n",
       " 17000 /month          1\n",
       " 6000-9500 /month      1\n",
       "Name: Stipend, Length: 208, dtype: int64"
      ]
     },
     "execution_count": 7,
     "metadata": {},
     "output_type": "execute_result"
    }
   ],
   "source": [
    "df['Stipend'].value_counts(dropna=False)"
   ]
  },
  {
   "cell_type": "code",
   "execution_count": 8,
   "id": "76c468c7",
   "metadata": {
    "ExecuteTime": {
     "end_time": "2021-10-20T05:11:26.566468Z",
     "start_time": "2021-10-20T05:11:26.538447Z"
    }
   },
   "outputs": [],
   "source": [
    "def clean(x):\n",
    "    x=x.split('/')\n",
    "   \n",
    "    if len(x)>1:\n",
    "        y =x[1].strip()\n",
    "    else:\n",
    "        y=None\n",
    "    \n",
    "    if \"lump sum\" in x[0]:\n",
    "        print(x)\n",
    "        x=x[0].split(\" \")\n",
    "        min=x[0]\n",
    "        max=x[0]\n",
    "        y=\"lump sum\"\n",
    "        return min,max,y\n",
    "        \n",
    "    x=x[0].split('-')\n",
    "    \n",
    "    if len(x)>1:\n",
    "        min=x[0]\n",
    "        max=x[1]\n",
    "    else:\n",
    "        min = x[0]\n",
    "        max = x[0]\n",
    "    return min,max,y"
   ]
  },
  {
   "cell_type": "code",
   "execution_count": 9,
   "id": "4ada49e2",
   "metadata": {
    "ExecuteTime": {
     "end_time": "2021-10-20T05:11:26.633748Z",
     "start_time": "2021-10-20T05:11:26.570449Z"
    }
   },
   "outputs": [
    {
     "name": "stdout",
     "output_type": "stream",
     "text": [
      "[' 2000 lump sum']\n",
      "[' 6000 lump sum']\n",
      "[' 20000 lump sum +  Incentives']\n",
      "[' 30000 lump sum']\n",
      "[' 21000 lump sum']\n",
      "[' 2000 lump sum']\n",
      "[' 2000 lump sum']\n",
      "[' 2000 lump sum']\n",
      "[' 10000-15000 lump sum']\n",
      "[' 15000 lump sum']\n",
      "[' 10000 lump sum']\n",
      "[' 3500 lump sum']\n",
      "[' 1000 lump sum']\n",
      "[' 8000 lump sum +  Incentives']\n",
      "[' 10000 lump sum +  Incentives']\n",
      "[' 2000 lump sum +  Incentives']\n",
      "[' 15000-25000 lump sum']\n",
      "[' 40000 lump sum']\n",
      "[' 20000 lump sum']\n",
      "[' 10000 lump sum']\n",
      "[' 5000 lump sum']\n",
      "[' 4000 lump sum']\n",
      "[' 5000 lump sum']\n",
      "[' 5000 lump sum']\n",
      "[' 1000 lump sum']\n",
      "[' 3000 lump sum']\n",
      "[' 2000 lump sum']\n",
      "[' 15000 lump sum']\n",
      "[' 20000 lump sum']\n",
      "[' 21000 lump sum']\n",
      "[' 2500 lump sum']\n",
      "[' 2000 lump sum']\n",
      "[' 2000 lump sum']\n",
      "[' 5000 lump sum']\n",
      "[' 2000 lump sum +  Incentives']\n",
      "[' 21000 lump sum']\n"
     ]
    }
   ],
   "source": [
    "df['moneys']=df['Stipend'].apply(lambda x: clean(x))"
   ]
  },
  {
   "cell_type": "code",
   "execution_count": 10,
   "id": "0bc68bd2",
   "metadata": {
    "ExecuteTime": {
     "end_time": "2021-10-20T05:11:26.661739Z",
     "start_time": "2021-10-20T05:11:26.633748Z"
    }
   },
   "outputs": [],
   "source": [
    "df[['min','max','payfreq']]=pd.DataFrame([*df.moneys], df.index)"
   ]
  },
  {
   "cell_type": "code",
   "execution_count": 11,
   "id": "6c7312c0",
   "metadata": {
    "ExecuteTime": {
     "end_time": "2021-10-20T05:11:26.695183Z",
     "start_time": "2021-10-20T05:11:26.661739Z"
    }
   },
   "outputs": [],
   "source": [
    "df['Apply by Date']=df[\"Apply by Date\"].str.replace(\"'\",\"\")"
   ]
  },
  {
   "cell_type": "code",
   "execution_count": 12,
   "id": "ca2af9f7",
   "metadata": {
    "ExecuteTime": {
     "end_time": "2021-10-20T05:11:26.746178Z",
     "start_time": "2021-10-20T05:11:26.696199Z"
    }
   },
   "outputs": [
    {
     "data": {
      "text/plain": [
       "0       11 Nov 20\n",
       "1       16 Nov 20\n",
       "2       16 Nov 20\n",
       "3       16 Nov 20\n",
       "4       16 Nov 20\n",
       "          ...    \n",
       "2995     9 Nov 20\n",
       "2996     6 Nov 20\n",
       "2997     5 Nov 20\n",
       "2998     2 Nov 20\n",
       "2999    16 Nov 20\n",
       "Name: Apply by Date, Length: 3000, dtype: object"
      ]
     },
     "execution_count": 12,
     "metadata": {},
     "output_type": "execute_result"
    }
   ],
   "source": [
    "df[\"Apply by Date\"]"
   ]
  },
  {
   "cell_type": "markdown",
   "id": "ede31dae",
   "metadata": {
    "ExecuteTime": {
     "end_time": "2021-10-13T18:21:06.776860Z",
     "start_time": "2021-10-13T18:21:06.726862Z"
    }
   },
   "source": [
    "import datetime as datetime\n",
    "\n",
    "\n",
    "df[\"Apply_by_Date\"]=df[\"Apply by Date\"].apply(lambda x: datetime.datetime.strptime(x,'%-d %b %-y').strftime('%d-%m-%Y'))\n",
    "\n",
    "\n",
    "https://www.programiz.com/python-programming/datetime/strptime"
   ]
  },
  {
   "cell_type": "code",
   "execution_count": 13,
   "id": "ffebb540",
   "metadata": {
    "ExecuteTime": {
     "end_time": "2021-10-20T05:11:26.779416Z",
     "start_time": "2021-10-20T05:11:26.746178Z"
    }
   },
   "outputs": [],
   "source": [
    "df[\"Date_time\"]=pd.to_datetime(df[\"Date Time\"])\n",
    "\n",
    "# df['min']= df[\"min\"].astype(str).astype(float)\n",
    "# df['max']= df[\"max\"].astype(str).astype(float)\n",
    "# df[\"min\"].astype(str).astype(float)\n",
    "# df[\"Apply_date\"]=pd.to_datetime(df[\"Apply by Date\"])"
   ]
  },
  {
   "cell_type": "code",
   "execution_count": 14,
   "id": "856c317b",
   "metadata": {
    "ExecuteTime": {
     "end_time": "2021-10-20T05:11:26.823134Z",
     "start_time": "2021-10-20T05:11:26.779416Z"
    }
   },
   "outputs": [],
   "source": [
    "df.drop(['_id','Date Time','Stipend','moneys'], axis=1, inplace=True)"
   ]
  },
  {
   "cell_type": "code",
   "execution_count": 15,
   "id": "0edf3caa",
   "metadata": {
    "ExecuteTime": {
     "end_time": "2021-10-20T05:11:26.871056Z",
     "start_time": "2021-10-20T05:11:26.823134Z"
    }
   },
   "outputs": [],
   "source": [
    "df.index = np.arange(1,len(df)+1)"
   ]
  },
  {
   "cell_type": "code",
   "execution_count": 16,
   "id": "4b4fa94e",
   "metadata": {
    "ExecuteTime": {
     "end_time": "2021-10-20T05:11:26.903105Z",
     "start_time": "2021-10-20T05:11:26.875038Z"
    }
   },
   "outputs": [],
   "source": [
    "df.index.name= \"srno\" "
   ]
  },
  {
   "cell_type": "code",
   "execution_count": 17,
   "id": "f880d6c8",
   "metadata": {
    "ExecuteTime": {
     "end_time": "2021-10-20T05:11:26.965488Z",
     "start_time": "2021-10-20T05:11:26.903105Z"
    }
   },
   "outputs": [
    {
     "data": {
      "text/html": [
       "<div>\n",
       "<style scoped>\n",
       "    .dataframe tbody tr th:only-of-type {\n",
       "        vertical-align: middle;\n",
       "    }\n",
       "\n",
       "    .dataframe tbody tr th {\n",
       "        vertical-align: top;\n",
       "    }\n",
       "\n",
       "    .dataframe thead th {\n",
       "        text-align: right;\n",
       "    }\n",
       "</style>\n",
       "<table border=\"1\" class=\"dataframe\">\n",
       "  <thead>\n",
       "    <tr style=\"text-align: right;\">\n",
       "      <th></th>\n",
       "      <th>profile</th>\n",
       "      <th>company</th>\n",
       "      <th>Location</th>\n",
       "      <th>Start Date</th>\n",
       "      <th>Duration</th>\n",
       "      <th>Apply by Date</th>\n",
       "      <th>Offer</th>\n",
       "      <th>Skills and Perks</th>\n",
       "      <th>min</th>\n",
       "      <th>max</th>\n",
       "      <th>payfreq</th>\n",
       "      <th>Date_time</th>\n",
       "    </tr>\n",
       "    <tr>\n",
       "      <th>srno</th>\n",
       "      <th></th>\n",
       "      <th></th>\n",
       "      <th></th>\n",
       "      <th></th>\n",
       "      <th></th>\n",
       "      <th></th>\n",
       "      <th></th>\n",
       "      <th></th>\n",
       "      <th></th>\n",
       "      <th></th>\n",
       "      <th></th>\n",
       "      <th></th>\n",
       "    </tr>\n",
       "  </thead>\n",
       "  <tbody>\n",
       "    <tr>\n",
       "      <th>1</th>\n",
       "      <td>Fashion Design</td>\n",
       "      <td>Enamor</td>\n",
       "      <td>Bangalore</td>\n",
       "      <td>Immediately</td>\n",
       "      <td>2 Months</td>\n",
       "      <td>11 Nov 20</td>\n",
       "      <td>Internship</td>\n",
       "      <td>[\"MS-Office\",\"Adobe Illustrator\",\"CorelDRAW\",\"...</td>\n",
       "      <td>5000</td>\n",
       "      <td>5000</td>\n",
       "      <td>month</td>\n",
       "      <td>2020-11-02 13:52:57</td>\n",
       "    </tr>\n",
       "    <tr>\n",
       "      <th>2</th>\n",
       "      <td>Operations</td>\n",
       "      <td>Lakshmi Tools &amp; Components</td>\n",
       "      <td>Hoskote</td>\n",
       "      <td>Immediately</td>\n",
       "      <td>1 Month</td>\n",
       "      <td>16 Nov 20</td>\n",
       "      <td>Internship</td>\n",
       "      <td>[\"Chemistry\",\"Certificate\",\" Letter of recomme...</td>\n",
       "      <td>12000</td>\n",
       "      <td>12000</td>\n",
       "      <td>month</td>\n",
       "      <td>2020-11-02 13:52:59</td>\n",
       "    </tr>\n",
       "    <tr>\n",
       "      <th>3</th>\n",
       "      <td>Photography</td>\n",
       "      <td>Evineon Technologies</td>\n",
       "      <td>Bangalore</td>\n",
       "      <td>Immediately</td>\n",
       "      <td>3 Months</td>\n",
       "      <td>16 Nov 20</td>\n",
       "      <td>Internship</td>\n",
       "      <td>[\"Flexible work hours\",\" Free snacks &amp; beverag...</td>\n",
       "      <td>10000</td>\n",
       "      <td>12000</td>\n",
       "      <td>month</td>\n",
       "      <td>2020-11-02 13:53:00</td>\n",
       "    </tr>\n",
       "    <tr>\n",
       "      <th>4</th>\n",
       "      <td>Social Media Marketing</td>\n",
       "      <td>VisualNet Private Limited</td>\n",
       "      <td>Bangalore</td>\n",
       "      <td>Immediately</td>\n",
       "      <td>6 Months</td>\n",
       "      <td>16 Nov 20</td>\n",
       "      <td>Internship</td>\n",
       "      <td>[\"MS-Office\",\"Certificate\",\" Letter of recomme...</td>\n",
       "      <td>7000</td>\n",
       "      <td>7000</td>\n",
       "      <td>month</td>\n",
       "      <td>2020-11-02 13:53:00</td>\n",
       "    </tr>\n",
       "    <tr>\n",
       "      <th>5</th>\n",
       "      <td>Business Development (Sales)</td>\n",
       "      <td>DM Consulting (India) Private Limited</td>\n",
       "      <td>Bangalore</td>\n",
       "      <td>Immediately</td>\n",
       "      <td>6 Months</td>\n",
       "      <td>16 Nov 20</td>\n",
       "      <td>Internship</td>\n",
       "      <td>[]</td>\n",
       "      <td>5000</td>\n",
       "      <td>5000</td>\n",
       "      <td>month</td>\n",
       "      <td>2020-11-02 13:53:01</td>\n",
       "    </tr>\n",
       "    <tr>\n",
       "      <th>...</th>\n",
       "      <td>...</td>\n",
       "      <td>...</td>\n",
       "      <td>...</td>\n",
       "      <td>...</td>\n",
       "      <td>...</td>\n",
       "      <td>...</td>\n",
       "      <td>...</td>\n",
       "      <td>...</td>\n",
       "      <td>...</td>\n",
       "      <td>...</td>\n",
       "      <td>...</td>\n",
       "      <td>...</td>\n",
       "    </tr>\n",
       "    <tr>\n",
       "      <th>2996</th>\n",
       "      <td>Business Development (Sales)</td>\n",
       "      <td>Aliens Art Private Limited (Aliens Tattoo)</td>\n",
       "      <td>Mumbai</td>\n",
       "      <td>Immediately</td>\n",
       "      <td>3 Months</td>\n",
       "      <td>9 Nov 20</td>\n",
       "      <td>Internship with job offer</td>\n",
       "      <td>[\"Certificate\",\" Letter of recommendation\",\" F...</td>\n",
       "      <td>5000</td>\n",
       "      <td>5000</td>\n",
       "      <td>month</td>\n",
       "      <td>2020-11-02 14:13:29</td>\n",
       "    </tr>\n",
       "    <tr>\n",
       "      <th>2997</th>\n",
       "      <td>Mobile App Development</td>\n",
       "      <td>Raw Algo</td>\n",
       "      <td>Mumbai</td>\n",
       "      <td>Immediately</td>\n",
       "      <td>6 Months</td>\n",
       "      <td>6 Nov 20</td>\n",
       "      <td>Internship</td>\n",
       "      <td>[\"Java\",\"PHP\",\"MySQL\",\"MongoDB\",\"Swift\",\"React...</td>\n",
       "      <td>2000</td>\n",
       "      <td>2000</td>\n",
       "      <td>month</td>\n",
       "      <td>2020-11-02 14:13:30</td>\n",
       "    </tr>\n",
       "    <tr>\n",
       "      <th>2998</th>\n",
       "      <td>Human Resources (HR)</td>\n",
       "      <td>VDBS Consultancy Services Private Limited</td>\n",
       "      <td>Thane</td>\n",
       "      <td>Immediately</td>\n",
       "      <td>6 Months</td>\n",
       "      <td>5 Nov 20</td>\n",
       "      <td>Internship with job offer</td>\n",
       "      <td>[\"Certificate\",\" Letter of recommendation\",\" J...</td>\n",
       "      <td>5000</td>\n",
       "      <td>5000</td>\n",
       "      <td>month</td>\n",
       "      <td>2020-11-02 14:13:31</td>\n",
       "    </tr>\n",
       "    <tr>\n",
       "      <th>2999</th>\n",
       "      <td>Full-stack Development</td>\n",
       "      <td>Kualify Services Private Limited</td>\n",
       "      <td>Gurgaon</td>\n",
       "      <td>Immediately</td>\n",
       "      <td>3 Months</td>\n",
       "      <td>2 Nov 20</td>\n",
       "      <td>Internship</td>\n",
       "      <td>[\"CSS\",\"JavaScript\",\"Node.js\",\"Express.js\",\"Re...</td>\n",
       "      <td>10000</td>\n",
       "      <td>15000</td>\n",
       "      <td>month</td>\n",
       "      <td>2020-11-02 14:13:33</td>\n",
       "    </tr>\n",
       "    <tr>\n",
       "      <th>3000</th>\n",
       "      <td>Business Development (Sales)</td>\n",
       "      <td>Fincomienzo Solutions Private Limited</td>\n",
       "      <td>Ahmedabad</td>\n",
       "      <td>Immediately</td>\n",
       "      <td>4 Months</td>\n",
       "      <td>16 Nov 20</td>\n",
       "      <td>Inter"
      ],
      "text/plain": [
       "                           profile  \\\n",
       "srno                                 \n",
       "1                   Fashion Design   \n",
       "2                       Operations   \n",
       "3                      Photography   \n",
       "4           Social Media Marketing   \n",
       "5     Business Development (Sales)   \n",
       "...                            ...   \n",
       "2996  Business Development (Sales)   \n",
       "2997        Mobile App Development   \n",
       "2998          Human Resources (HR)   \n",
       "2999        Full-stack Development   \n",
       "3000  Business Development (Sales)   \n",
       "\n",
       "                                         company   Location   Start Date  \\\n",
       "srno                                                                       \n",
       "1                                         Enamor  Bangalore  Immediately   \n",
       "2                     Lakshmi Tools & Components    Hoskote  Immediately   \n",
       "3                           Evineon Technologies  Bangalore  Immediately   \n",
       "4                      VisualNet Private Limited  Bangalore  Immediately   \n",
       "5          DM Consulting (India) Private Limited  Bangalore  Immediately   \n",
       "...                                          ...        ...          ...   \n",
       "2996  Aliens Art Private Limited (Aliens Tattoo)     Mumbai  Immediately   \n",
       "2997                                    Raw Algo     Mumbai  Immediately   \n",
       "2998   VDBS Consultancy Services Private Limited      Thane  Immediately   \n",
       "2999            Kualify Services Private Limited    Gurgaon  Immediately   \n",
       "3000       Fincomienzo Solutions Private Limited  Ahmedabad  Immediately   \n",
       "\n",
       "      Duration Apply by Date                      Offer  \\\n",
       "srno                                                      \n",
       "1     2 Months     11 Nov 20                 Internship   \n",
       "2      1 Month     16 Nov 20                 Internship   \n",
       "3     3 Months     16 Nov 20                 Internship   \n",
       "4     6 Months     16 Nov 20                 Internship   \n",
       "5     6 Months     16 Nov 20                 Internship   \n",
       "...        ...           ...                        ...   \n",
       "2996  3 Months      9 Nov 20  Internship with job offer   \n",
       "2997  6 Months      6 Nov 20                 Internship   \n",
       "2998  6 Months      5 Nov 20  Internship with job offer   \n",
       "2999  3 Months      2 Nov 20                 Internship   \n",
       "3000  4 Months     16 Nov 20  Internship with job offer   \n",
       "\n",
       "                                       Skills and Perks      min      max  \\\n",
       "srno                                                                        \n",
       "1     [\"MS-Office\",\"Adobe Illustrator\",\"CorelDRAW\",\"...    5000     5000    \n",
       "2     [\"Chemistry\",\"Certificate\",\" Letter of recomme...   12000    12000    \n",
       "3     [\"Flexible work hours\",\" Free snacks & beverag...    10000   12000    \n",
       "4     [\"MS-Office\",\"Certificate\",\" Letter of recomme...    7000     7000    \n",
       "5                                                    []    5000     5000    \n",
       "...                                                 ...      ...      ...   \n",
       "2996  [\"Certificate\",\" Letter of recommendation\",\" F...    5000     5000    \n",
       "2997  [\"Java\",\"PHP\",\"MySQL\",\"MongoDB\",\"Swift\",\"React...    2000     2000    \n",
       "2998  [\"Certificate\",\" Letter of recommendation\",\" J...    5000     5000    \n",
       "2999  [\"CSS\",\"JavaScript\",\"Node.js\",\"Express.js\",\"Re...    10000   15000    \n",
       "3000  [\"Certificate\",\" Letter of recommendation\",\" F...    2000     2000    \n",
       "\n",
       "                  payfreq           Date_time  \n",
       "srno                                           \n",
       "1                   month 2020-11-02 13:52:57  \n",
       "2                   month 2020-11-02 13:52:59  \n",
       "3                   month 2020-11-02 13:53:00  \n",
       "4                   month 2020-11-02 13:53:00  \n",
       "5                   month 2020-11-02 13:53:01  \n",
       "...                   ...                 ...  \n",
       "2996                month 2020-11-02 14:13:29  \n",
       "2997                month 2020-11-02 14:13:30  \n",
       "2998                month 2020-11-02 14:13:31  \n",
       "2999                month 2020-11-02 14:13:33  \n",
       "3000  month +  Incentives 2020-11-02 14:18:13  \n",
       "\n",
       "[3000 rows x 12 columns]"
      ]
     },
     "execution_count": 17,
     "metadata": {},
     "output_type": "execute_result"
    },
    {
     "data": {
      "text/html": [
       "<b>limit_output extension: Maximum message size of 5000 exceeded with 5267 characters</b>"
      ]
     },
     "metadata": {},
     "output_type": "display_data"
    }
   ],
   "source": [
    "df"
   ]
  },
  {
   "cell_type": "code",
   "execution_count": 37,
   "id": "e30cbe28",
   "metadata": {
    "ExecuteTime": {
     "end_time": "2021-10-20T05:29:48.294619Z",
     "start_time": "2021-10-20T05:29:48.270617Z"
    }
   },
   "outputs": [
    {
     "data": {
      "text/plain": [
       "array(['Internship', 'Internship with job offer'], dtype=object)"
      ]
     },
     "execution_count": 37,
     "metadata": {},
     "output_type": "execute_result"
    }
   ],
   "source": [
    "df[\"Offer\"].unique()"
   ]
  },
  {
   "cell_type": "code",
   "execution_count": 35,
   "id": "a0896358",
   "metadata": {
    "ExecuteTime": {
     "end_time": "2021-10-20T05:19:57.285819Z",
     "start_time": "2021-10-20T05:19:57.265797Z"
    }
   },
   "outputs": [
    {
     "name": "stdout",
     "output_type": "stream",
     "text": [
      "<option name='2 Months'>2 Months</option>\n",
      "<option name='1 Month'>1 Month</option>\n",
      "<option name='3 Months'>3 Months</option>\n",
      "<option name='6 Months'>6 Months</option>\n",
      "<option name='4 Weeks'>4 Weeks</option>\n",
      "<option name='4 Months'>4 Months</option>\n",
      "<option name='5 Months'>5 Months</option>\n",
      "<option name='1 Week'>1 Week</option>\n",
      "<option name='6 Weeks'>6 Weeks</option>\n",
      "<option name='2 Weeks'>2 Weeks</option>\n",
      "<option name='12 Months'>12 Months</option>\n",
      "<option name='36 Months'>36 Months</option>\n",
      "<option name='24 Months'>24 Months</option>\n"
     ]
    }
   ],
   "source": [
    "for i in a:\n",
    "    print(f\"<option name='{i}'>{i}</option>\")"
   ]
  },
  {
   "cell_type": "code",
   "execution_count": 18,
   "id": "48e23be2",
   "metadata": {
    "ExecuteTime": {
     "end_time": "2021-10-20T05:11:27.070166Z",
     "start_time": "2021-10-20T05:11:26.965488Z"
    }
   },
   "outputs": [
    {
     "name": "stderr",
     "output_type": "stream",
     "text": [
      "<ipython-input-18-ea8415b8a3ee>:1: FutureWarning: Treating datetime data as categorical rather than numeric in `.describe` is deprecated and will be removed in a future version of pandas. Specify `datetime_is_numeric=True` to silence this warning and adopt the future behavior now.\n",
      "  df.describe()\n"
     ]
    },
    {
     "data": {
      "text/html": [
       "<div>\n",
       "<style scoped>\n",
       "    .dataframe tbody tr th:only-of-type {\n",
       "        vertical-align: middle;\n",
       "    }\n",
       "\n",
       "    .dataframe tbody tr th {\n",
       "        vertical-align: top;\n",
       "    }\n",
       "\n",
       "    .dataframe thead th {\n",
       "        text-align: right;\n",
       "    }\n",
       "</style>\n",
       "<table border=\"1\" class=\"dataframe\">\n",
       "  <thead>\n",
       "    <tr style=\"text-align: right;\">\n",
       "      <th></th>\n",
       "      <th>profile</th>\n",
       "      <th>company</th>\n",
       "      <th>Location</th>\n",
       "      <th>Start Date</th>\n",
       "      <th>Duration</th>\n",
       "      <th>Apply by Date</th>\n",
       "      <th>Offer</th>\n",
       "      <th>Skills and Perks</th>\n",
       "      <th>min</th>\n",
       "      <th>max</th>\n",
       "      <th>payfreq</th>\n",
       "      <th>Date_time</th>\n",
       "    </tr>\n",
       "  </thead>\n",
       "  <tbody>\n",
       "    <tr>\n",
       "      <th>count</th>\n",
       "      <td>3000</td>\n",
       "      <td>3000</td>\n",
       "      <td>3000</td>\n",
       "      <td>3000</td>\n",
       "      <td>3000</td>\n",
       "      <td>3000</td>\n",
       "      <td>3000</td>\n",
       "      <td>3000</td>\n",
       "      <td>3000</td>\n",
       "      <td>3000</td>\n",
       "      <td>2935</td>\n",
       "      <td>3000</td>\n",
       "    </tr>\n",
       "    <tr>\n",
       "      <th>unique</th>\n",
       "      <td>571</td>\n",
       "      <td>1790</td>\n",
       "      <td>48</td>\n",
       "      <td>2</td>\n",
       "      <td>13</td>\n",
       "      <td>36</td>\n",
       "      <td>2</td>\n",
       "      <td>1795</td>\n",
       "      <td>85</td>\n",
       "      <td>92</td>\n",
       "      <td>5</td>\n",
       "      <td>2443</td>\n",
       "    </tr>\n",
       "    <tr>\n",
       "      <th>top</th>\n",
       "      <td>Business Development (Sales)</td>\n",
       "      <td>Lloyd Harrington Australia Proprietary Limited</td>\n",
       "      <td>Delhi</td>\n",
       "      <td>Immediately</td>\n",
       "      <td>3 Months</td>\n",
       "      <td>6 Nov 20</td>\n",
       "      <td>Internship</td>\n",
       "      <td>[\"Certificate\"]</td>\n",
       "      <td>5000</td>\n",
       "      <td>5000</td>\n",
       "      <td>month</td>\n",
       "      <td>2020-11-02 13:28:51</td>\n",
       "    </tr>\n",
       "    <tr>\n",
       "      <th>freq</th>\n",
       "      <td>446</td>\n",
       "      <td>25</td>\n",
       "      <td>830</td>\n",
       "      <td>2979</td>\n",
       "      <td>1149</td>\n",
       "      <td>291</td>\n",
       "      <td>2038</td>\n",
       "      <td>96</td>\n",
       "      <td>410</td>\n",
       "      <td>410</td>\n",
       "      <td>2655</td>\n",
       "      <td>2</td>\n",
       "    </tr>\n",
       "    <tr>\n",
       "      <th>first</th>\n",
       "      <td>NaN</td>\n",
       "      <td>NaN</td>\n",
       "      <td>NaN</td>\n",
       "      <td>NaN</td>\n",
       "      <td>NaN</td>\n",
       "      <td>NaN</td>\n",
       "      <td>NaN</td>\n",
       "      <td>NaN</td>\n",
       "      <td>NaN</td>\n",
       "      <td>NaN</td>\n",
       "      <td>NaN</td>\n",
       "      <td>2020-11-02 13:27:21</td>\n",
       "    </tr>\n",
       "    <tr>\n",
       "      <th>last</th>\n",
       "      <td>NaN</td>\n",
       "      <td>NaN</td>\n",
       "      <td>NaN</td>\n",
       "      <td>NaN</td>\n",
       "      <td>NaN</td>\n",
       "      <td>NaN</td>\n",
       "      <td>NaN</td>\n",
       "      <td>NaN</td>\n",
       "      <td>NaN</td>\n",
       "      <td>NaN</td>\n",
       "      <td>NaN</td>\n",
       "      <td>2020-11-02 14:39:54</td>\n",
       "    </tr>\n",
       "  </tbody>\n",
       "</table>\n",
       "</div>"
      ],
      "text/plain": [
       "                             profile  \\\n",
       "count                           3000   \n",
       "unique                           571   \n",
       "top     Business Development (Sales)   \n",
       "freq                             446   \n",
       "first                            NaN   \n",
       "last                             NaN   \n",
       "\n",
       "                                               company Location   Start Date  \\\n",
       "count                                             3000     3000         3000   \n",
       "unique                                            1790       48            2   \n",
       "top     Lloyd Harrington Australia Proprietary Limited    Delhi  Immediately   \n",
       "freq                                                25      830         2979   \n",
       "first                                              NaN      NaN          NaN   \n",
       "last                                               NaN      NaN          NaN   \n",
       "\n",
       "        Duration Apply by Date       Offer Skills and Perks     min     max  \\\n",
       "count       3000          3000        3000             3000    3000    3000   \n",
       "unique        13            36           2             1795      85      92   \n",
       "top     3 Months      6 Nov 20  Internship  [\"Certificate\"]   5000    5000    \n",
       "freq        1149           291        2038               96     410     410   \n",
       "first        NaN           NaN         NaN              NaN     NaN     NaN   \n",
       "last         NaN           NaN         NaN              NaN     NaN     NaN   \n",
       "\n",
       "       payfreq            Date_time  \n",
       "count     2935                 3000  \n",
       "unique       5                 2443  \n",
       "top      month  2020-11-02 13:28:51  \n",
       "freq      2655                    2  \n",
       "first      NaN  2020-11-02 13:27:21  \n",
       "last       NaN  2020-11-02 14:39:54  "
      ]
     },
     "execution_count": 18,
     "metadata": {},
     "output_type": "execute_result"
    }
   ],
   "source": [
    "df.describe()"
   ]
  },
  {
   "cell_type": "markdown",
   "id": "ad054038",
   "metadata": {},
   "source": [
    "1. Duration and salary range bar graph\n",
    "2. location highest paid salary and duration\n",
    "3. scattr plot salary, hue offer\n",
    "4. top 10 paid and with 10,000 salary offer as internship + job and payment + incentives"
   ]
  },
  {
   "cell_type": "code",
   "execution_count": 19,
   "id": "88e189fa",
   "metadata": {
    "ExecuteTime": {
     "end_time": "2021-10-20T05:11:27.086190Z",
     "start_time": "2021-10-20T05:11:27.070166Z"
    }
   },
   "outputs": [],
   "source": [
    "skill=df['Skills and Perks']"
   ]
  },
  {
   "cell_type": "code",
   "execution_count": null,
   "id": "540b84cd",
   "metadata": {
    "ExecuteTime": {
     "end_time": "2021-10-18T07:11:13.064499Z",
     "start_time": "2021-10-18T07:11:12.813209Z"
    }
   },
   "outputs": [],
   "source": []
  },
  {
   "cell_type": "code",
   "execution_count": 20,
   "id": "72b47363",
   "metadata": {
    "ExecuteTime": {
     "end_time": "2021-10-20T05:11:35.338717Z",
     "start_time": "2021-10-20T05:11:27.086190Z"
    }
   },
   "outputs": [],
   "source": [
    "res=[]\n",
    "for i in range(1, len(skill)+1):\n",
    "    e=[]\n",
    "    for j in range(1, len(skill[i])):\n",
    "        e=eval(skill[i])\n",
    "    res.append(e)"
   ]
  },
  {
   "cell_type": "code",
   "execution_count": 21,
   "id": "4ac04540",
   "metadata": {
    "ExecuteTime": {
     "end_time": "2021-10-20T05:11:35.370499Z",
     "start_time": "2021-10-20T05:11:35.338717Z"
    }
   },
   "outputs": [],
   "source": [
    "list_=[]\n",
    "for i in range(len(res)):\n",
    "    for j in range(len(res[i])):\n",
    "        if res[i][j].strip() not in list_:\n",
    "            list_.append((res[i][j].strip()))"
   ]
  },
  {
   "cell_type": "code",
   "execution_count": 22,
   "id": "0e726ee9",
   "metadata": {
    "ExecuteTime": {
     "end_time": "2021-10-20T05:11:35.416993Z",
     "start_time": "2021-10-20T05:11:35.374430Z"
    }
   },
   "outputs": [
    {
     "data": {
      "text/plain": [
       "257"
      ]
     },
     "execution_count": 22,
     "metadata": {},
     "output_type": "execute_result"
    }
   ],
   "source": [
    "len(list_)"
   ]
  },
  {
   "cell_type": "code",
   "execution_count": 23,
   "id": "577bc2df",
   "metadata": {
    "ExecuteTime": {
     "end_time": "2021-10-20T05:11:35.906314Z",
     "start_time": "2021-10-20T05:11:35.420925Z"
    }
   },
   "outputs": [
    {
     "ename": "KeyError",
     "evalue": "'['",
     "output_type": "error",
     "traceback": [
      "\u001b[1;31m---------------------------------------------------------------------------\u001b[0m",
      "\u001b[1;31mKeyError\u001b[0m                                  Traceback (most recent call last)",
      "\u001b[1;32m<ipython-input-23-eb5696ed2081>\u001b[0m in \u001b[0;36m<module>\u001b[1;34m\u001b[0m\n\u001b[0;32m      4\u001b[0m     \u001b[1;32mfor\u001b[0m \u001b[0mj\u001b[0m \u001b[1;32min\u001b[0m \u001b[0mi\u001b[0m\u001b[1;33m:\u001b[0m\u001b[1;33m\u001b[0m\u001b[1;33m\u001b[0m\u001b[0m\n\u001b[0;32m      5\u001b[0m         \u001b[1;32mif\u001b[0m \u001b[0mj\u001b[0m \u001b[1;32mnot\u001b[0m \u001b[1;32min\u001b[0m \u001b[0md\u001b[0m\u001b[1;33m:\u001b[0m\u001b[1;33m\u001b[0m\u001b[1;33m\u001b[0m\u001b[0m\n\u001b[1;32m----> 6\u001b[1;33m             \u001b[0md\u001b[0m\u001b[1;33m[\u001b[0m\u001b[0mj\u001b[0m\u001b[1;33m]\u001b[0m\u001b[1;33m+=\u001b[0m\u001b[1;36m1\u001b[0m\u001b[1;33m\u001b[0m\u001b[1;33m\u001b[0m\u001b[0m\n\u001b[0m\u001b[0;32m      7\u001b[0m         \u001b[1;32melse\u001b[0m\u001b[1;33m:\u001b[0m\u001b[1;33m\u001b[0m\u001b[1;33m\u001b[0m\u001b[0m\n\u001b[0;32m      8\u001b[0m             \u001b[0md\u001b[0m\u001b[1;33m[\u001b[0m\u001b[0mj\u001b[0m\u001b[1;33m]\u001b[0m\u001b[1;33m+=\u001b[0m\u001b[1;36m1\u001b[0m\u001b[1;33m\u001b[0m\u001b[1;33m\u001b[0m\u001b[0m\n",
      "\u001b[1;31mKeyError\u001b[0m: '['"
     ]
    }
   ],
   "source": [
    "d={}\n",
    "\n",
    "for i in df['Skills and Perks'].values:\n",
    "    for j in i:\n",
    "        if j not in d:\n",
    "            d[j]+=1\n",
    "        else:\n",
    "            d[j]+=1"
   ]
  },
  {
   "cell_type": "code",
   "execution_count": null,
   "id": "8cd08a97",
   "metadata": {
    "ExecuteTime": {
     "end_time": "2021-10-20T05:11:35.910296Z",
     "start_time": "2021-10-20T05:11:24.182Z"
    }
   },
   "outputs": [],
   "source": [
    "a, b, c = {\"a\": \"b\", \"c\": \"d\", \"d\": \"e\"}"
   ]
  },
  {
   "cell_type": "code",
   "execution_count": null,
   "id": "0b18fb3d",
   "metadata": {
    "ExecuteTime": {
     "end_time": "2021-10-20T05:11:35.910296Z",
     "start_time": "2021-10-20T05:11:24.186Z"
    }
   },
   "outputs": [],
   "source": [
    "i = 1\n",
    "while True:\n",
    "    if i%3 == 0:\n",
    "        break\n",
    "    print(i)\n",
    "    i += 1"
   ]
  },
  {
   "cell_type": "code",
   "execution_count": null,
   "id": "4e557cfd",
   "metadata": {
    "ExecuteTime": {
     "end_time": "2021-10-20T05:11:35.914297Z",
     "start_time": "2021-10-20T05:11:24.190Z"
    }
   },
   "outputs": [],
   "source": [
    "l = [10, 12, 'hello', 'bye', 34, 56]\n",
    "for i in l:\n",
    "    if len(str(i))%2 == 0:\n",
    "        break\n",
    "    print(len(i))"
   ]
  },
  {
   "cell_type": "code",
   "execution_count": null,
   "id": "1a689bf6",
   "metadata": {
    "ExecuteTime": {
     "end_time": "2021-10-20T05:11:35.914297Z",
     "start_time": "2021-10-20T05:11:24.193Z"
    }
   },
   "outputs": [],
   "source": [
    "1 + 2 + 3/6 * 10 // 9"
   ]
  },
  {
   "cell_type": "code",
   "execution_count": null,
   "id": "6382c05a",
   "metadata": {
    "ExecuteTime": {
     "end_time": "2021-10-20T05:11:35.918295Z",
     "start_time": "2021-10-20T05:11:24.196Z"
    }
   },
   "outputs": [],
   "source": [
    "str1=\"hello\"\n",
    "c=0\n",
    "for x in str1:\n",
    "    if(x!=\"l\"):\n",
    "       c=c+1\n",
    "    else:\n",
    "        pass\n",
    "print(c)"
   ]
  },
  {
   "cell_type": "code",
   "execution_count": null,
   "id": "996c1731",
   "metadata": {
    "ExecuteTime": {
     "end_time": "2021-10-20T05:11:35.922295Z",
     "start_time": "2021-10-20T05:11:24.199Z"
    }
   },
   "outputs": [],
   "source": [
    "i = 0\n",
    "for i in range(1, 10):\n",
    "    pass\n",
    "print(i)"
   ]
  },
  {
   "cell_type": "code",
   "execution_count": null,
   "id": "89ba646a",
   "metadata": {
    "ExecuteTime": {
     "end_time": "2021-10-20T05:11:35.922295Z",
     "start_time": "2021-10-20T05:11:24.202Z"
    }
   },
   "outputs": [],
   "source": [
    "while infinite:\n",
    "    print(i)"
   ]
  },
  {
   "cell_type": "code",
   "execution_count": null,
   "id": "a03489a3",
   "metadata": {
    "ExecuteTime": {
     "end_time": "2021-10-20T05:11:35.926295Z",
     "start_time": "2021-10-20T05:11:24.207Z"
    }
   },
   "outputs": [],
   "source": [
    "\n",
    "i = 0\n",
    "while i < 5:\n",
    "    print(i)\n",
    "    i += 1\n",
    "    if i == 3:\n",
    "        break\n",
    "else:\n",
    "    print(0)"
   ]
  },
  {
   "cell_type": "code",
   "execution_count": null,
   "id": "25ef6900",
   "metadata": {
    "ExecuteTime": {
     "end_time": "2021-10-20T05:11:35.926295Z",
     "start_time": "2021-10-20T05:11:24.211Z"
    }
   },
   "outputs": [],
   "source": [
    "myList = [1, 5, 5, 5, 5, 1]\n",
    "max = myList[0]\n",
    "indexOfMax = 0\n",
    "for i in range(1, len(myList)):\n",
    "    if myList[i] > max:\n",
    "        max = myList[i]\n",
    "        indexOfMax = i\n",
    "print(indexOfMax)"
   ]
  },
  {
   "cell_type": "code",
   "execution_count": null,
   "id": "f1bf87ab",
   "metadata": {
    "ExecuteTime": {
     "end_time": "2021-10-20T05:11:35.930295Z",
     "start_time": "2021-10-20T05:11:24.215Z"
    }
   },
   "outputs": [],
   "source": [
    "data = {1: {\n",
    "        \"id\" : 390669115,\n",
    "        \"name\" : \"ProgramState\",\n",
    "        \"dataTypeName\" : \"text\",\n",
    "        \"description\" : \"\",\n",
    "        \"fieldName\" : \"programstate\",\n",
    "        \"position\" : 7,\n",
    "        \"renderTypeName\" : \"text\",\n",
    "        \"tableColumnId\" : 75398319,\n",
    "        \"cachedContents\" : {\n",
    "          \"largest\" : \"NY\",\n",
    "          \"non_null\" : \"4\",\n",
    "          \"null\" : \"0\",\n",
    "          \"top\" : [ {\n",
    "            \"item\" : \"NEWYORK\",\n",
    "            \"count\" : \"4\"\n",
    "          } ],\n",
    "          \"smallest\" : \"NY\",\n",
    "          \"not_null\" : \"4\",\n",
    "          \"cardinality\" : \"1\"\n",
    "        }\n",
    "}}"
   ]
  },
  {
   "cell_type": "code",
   "execution_count": null,
   "id": "1871763d",
   "metadata": {
    "ExecuteTime": {
     "end_time": "2021-10-20T05:11:35.930295Z",
     "start_time": "2021-10-20T05:11:24.218Z"
    }
   },
   "outputs": [],
   "source": [
    "data[1][\"cachedContents\"]['top'][0]['item']"
   ]
  },
  {
   "cell_type": "code",
   "execution_count": null,
   "id": "65d9bd70",
   "metadata": {
    "ExecuteTime": {
     "end_time": "2021-10-20T05:11:35.934296Z",
     "start_time": "2021-10-20T05:11:24.221Z"
    }
   },
   "outputs": [],
   "source": [
    "a=(\"Check\")*3\n",
    "print(a)"
   ]
  },
  {
   "cell_type": "code",
   "execution_count": null,
   "id": "34792275",
   "metadata": {
    "ExecuteTime": {
     "end_time": "2021-10-20T05:11:35.938297Z",
     "start_time": "2021-10-20T05:11:24.224Z"
    }
   },
   "outputs": [],
   "source": [
    "import turtle\n",
    "t=turtle.Pen()\n",
    "for i in range(1,4):\n",
    "\tt.forward(60)\n",
    "\tt.left(45)\n",
    "    "
   ]
  },
  {
   "cell_type": "code",
   "execution_count": null,
   "id": "07e00445",
   "metadata": {
    "ExecuteTime": {
     "end_time": "2021-10-20T05:11:35.938297Z",
     "start_time": "2021-10-20T05:11:24.227Z"
    }
   },
   "outputs": [],
   "source": [
    "import turtle\n",
    "t=turtle.Pen()\n",
    "for i in range(0,4):\n",
    "\tt.forward(100)\n",
    "\tt.left(90)\n",
    " \n",
    "t.up()  \n",
    "t.left(90)\n",
    "t.forward(200)\n",
    "for i in range(0,4):\n",
    "\tt.forward(100)\n",
    "\tt.left(90)"
   ]
  },
  {
   "cell_type": "code",
   "execution_count": null,
   "id": "c5ff9278",
   "metadata": {
    "ExecuteTime": {
     "end_time": "2021-10-20T05:11:35.942294Z",
     "start_time": "2021-10-20T05:11:24.231Z"
    }
   },
   "outputs": [],
   "source": [
    "import turtle\n",
    "t=turtle.Pen()\n",
    "for i in range(0,5):\n",
    "        t.left(144)\n",
    "        t.forward(100)"
   ]
  },
  {
   "cell_type": "code",
   "execution_count": null,
   "id": "a81cd2e8",
   "metadata": {
    "ExecuteTime": {
     "end_time": "2021-10-20T05:11:35.942294Z",
     "start_time": "2021-10-20T05:11:24.233Z"
    }
   },
   "outputs": [],
   "source": [
    "for i in range(-3):\n",
    "    pass"
   ]
  },
  {
   "cell_type": "code",
   "execution_count": null,
   "id": "7326b514",
   "metadata": {},
   "outputs": [],
   "source": []
  }
 ],
 "metadata": {
  "kernelspec": {
   "display_name": "Python 3",
   "language": "python",
   "name": "python3"
  },
  "language_info": {
   "codemirror_mode": {
    "name": "ipython",
    "version": 3
   },
   "file_extension": ".py",
   "mimetype": "text/x-python",
   "name": "python",
   "nbconvert_exporter": "python",
   "pygments_lexer": "ipython3",
   "version": "3.8.8"
  }
 },
 "nbformat": 4,
 "nbformat_minor": 5
}
