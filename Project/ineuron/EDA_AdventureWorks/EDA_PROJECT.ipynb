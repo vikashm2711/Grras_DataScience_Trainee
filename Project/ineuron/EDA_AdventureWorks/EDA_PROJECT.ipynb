{
 "cells": [
  {
   "cell_type": "markdown",
   "id": "e7a59d7d",
   "metadata": {},
   "source": [
    "# EDA_PROJECT"
   ]
  },
  {
   "cell_type": "code",
   "execution_count": 1,
   "id": "9a4305e7",
   "metadata": {
    "ExecuteTime": {
     "end_time": "2021-10-26T14:14:40.765330Z",
     "start_time": "2021-10-26T14:14:37.176891Z"
    }
   },
   "outputs": [],
   "source": [
    "import pandas as pd\n",
    "import numpy as np\n",
    "import matplotlib.pyplot as plt\n",
    "import seaborn as sns\n",
    "\n",
    "pd.set_option('display.max_columns', None)"
   ]
  },
  {
   "cell_type": "code",
   "execution_count": 2,
   "id": "bc4ef920",
   "metadata": {
    "ExecuteTime": {
     "end_time": "2021-10-26T14:14:41.270293Z",
     "start_time": "2021-10-26T14:14:40.769328Z"
    }
   },
   "outputs": [],
   "source": [
    "s17=pd.read_csv(\"DATA/Dataset_kaggel/AdventureWorks_Sales_2017.csv\")\n",
    "s16=pd.read_csv(\"DATA/Dataset_kaggel/AdventureWorks_Sales_2016.csv\")\n",
    "s15=pd.read_csv(\"DATA/Dataset_kaggel/AdventureWorks_Sales_2015.csv\")\n",
    "customer=pd.read_csv(\"DATA/Dataset_kaggel/AdventureWorks_Customers.csv\")\n",
    "products=pd.read_csv(\"DATA/Dataset_kaggel/AdventureWorks_Products.csv\")\n",
    "returns=pd.read_csv(\"DATA/Dataset_kaggel/AdventureWorks_Returns.csv\")\n",
    "categories= pd.read_csv(\"DATA/Dataset_kaggel/AdventureWorks_Product_Categories.csv\")\n",
    "subcategories=pd.read_csv(\"DATA/Dataset_kaggel/AdventureWorks_Product_Subcategories.csv\")\n",
    "area=pd.read_csv(\"DATA/Dataset_kaggel/AdventureWorks_Territories.csv\")"
   ]
  },
  {
   "cell_type": "code",
   "execution_count": 3,
   "id": "96ce439b",
   "metadata": {
    "ExecuteTime": {
     "end_time": "2021-10-26T14:14:43.234884Z",
     "start_time": "2021-10-26T14:14:43.180886Z"
    }
   },
   "outputs": [
    {
     "name": "stdout",
     "output_type": "stream",
     "text": [
      "<class 'pandas.core.frame.DataFrame'>\n",
      "RangeIndex: 18148 entries, 0 to 18147\n",
      "Data columns (total 13 columns):\n",
      " #   Column          Non-Null Count  Dtype \n",
      "---  ------          --------------  ----- \n",
      " 0   CustomerKey     18148 non-null  int64 \n",
      " 1   Prefix          18018 non-null  object\n",
      " 2   FirstName       18148 non-null  object\n",
      " 3   LastName        18148 non-null  object\n",
      " 4   BirthDate       18148 non-null  object\n",
      " 5   MaritalStatus   18148 non-null  object\n",
      " 6   Gender          18018 non-null  object\n",
      " 7   EmailAddress    18148 non-null  object\n",
      " 8   AnnualIncome    18148 non-null  object\n",
      " 9   TotalChildren   18148 non-null  int64 \n",
      " 10  EducationLevel  18148 non-null  object\n",
      " 11  Occupation      18148 non-null  object\n",
      " 12  HomeOwner       18148 non-null  object\n",
      "dtypes: int64(2), object(11)\n",
      "memory usage: 1.8+ MB\n"
     ]
    }
   ],
   "source": [
    "customer.info()"
   ]
  },
  {
   "cell_type": "code",
   "execution_count": 4,
   "id": "8728ee0b",
   "metadata": {
    "ExecuteTime": {
     "end_time": "2021-10-26T14:14:44.292618Z",
     "start_time": "2021-10-26T14:14:44.278617Z"
    }
   },
   "outputs": [
    {
     "name": "stdout",
     "output_type": "stream",
     "text": [
      "Index(['OrderDate', 'StockDate', 'OrderNumber', 'ProductKey', 'CustomerKey',\n",
      "       'TerritoryKey', 'OrderLineItem', 'OrderQuantity'],\n",
      "      dtype='object')\n",
      "Index(['OrderDate', 'StockDate', 'OrderNumber', 'ProductKey', 'CustomerKey',\n",
      "       'TerritoryKey', 'OrderLineItem', 'OrderQuantity'],\n",
      "      dtype='object')\n",
      "Index(['OrderDate', 'StockDate', 'OrderNumber', 'ProductKey', 'CustomerKey',\n",
      "       'TerritoryKey', 'OrderLineItem', 'OrderQuantity'],\n",
      "      dtype='object')\n",
      "Index(['CustomerKey', 'Prefix', 'FirstName', 'LastName', 'BirthDate',\n",
      "       'MaritalStatus', 'Gender', 'EmailAddress', 'AnnualIncome',\n",
      "       'TotalChildren', 'EducationLevel', 'Occupation', 'HomeOwner'],\n",
      "      dtype='object')\n",
      "Index(['ProductKey', 'ProductSubcategoryKey', 'ProductSKU', 'ProductName',\n",
      "       'ModelName', 'ProductDescription', 'ProductColor', 'ProductSize',\n",
      "       'ProductStyle', 'ProductCost', 'ProductPrice'],\n",
      "      dtype='object')\n",
      "Index(['ReturnDate', 'TerritoryKey', 'ProductKey', 'ReturnQuantity'], dtype='object')\n",
      "Index(['ProductCategoryKey', 'CategoryName'], dtype='object')\n",
      "Index(['ProductSubcategoryKey', 'SubcategoryName', 'ProductCategoryKey'], dtype='object')\n",
      "Index(['TerritoryKey', 'Region', 'Country', 'Continent'], dtype='object')\n"
     ]
    }
   ],
   "source": [
    "print(s17.columns)\n",
    "print(s16.columns)\n",
    "print(s15.columns)\n",
    "print(customer.columns)\n",
    "print(products.columns)\n",
    "print(returns.columns)\n",
    "print(categories.columns)\n",
    "print(subcategories.columns)\n",
    "print(area.columns)"
   ]
  },
  {
   "cell_type": "markdown",
   "id": "46fd4e58",
   "metadata": {
    "ExecuteTime": {
     "end_time": "2021-10-12T14:42:06.568254Z",
     "start_time": "2021-10-12T14:42:06.532655Z"
    }
   },
   "source": [
    "### Available Datasets\n",
    "\n",
    "- OrderDate', 'StockDate', 'OrderNumber', 'ProductKey', 'CustomerKey','TerritoryKey', 'OrderLineItem', 'OrderQuantity'\n",
    "\n",
    "- 'CustomerKey', 'Prefix', 'FirstName', 'LastName', 'BirthDate','MaritalStatus', 'Gender', 'EmailAddress', AnnualIncome','TotalChildren', 'EducationLevel', 'Occupation', 'HomeOwner'\n",
    "       \n",
    "- 'ProductKey', 'ProductSubcategoryKey', 'ProductSKU', 'ProductName', 'ModelName', 'ProductDescription', 'ProductColor', 'ProductSize', 'ProductStyle', 'ProductCost', 'ProductPrice'\n",
    "       \n",
    "- 'ReturnDate', 'TerritoryKey', 'ProductKey', 'ReturnQuantity\n",
    "\n",
    "- 'ProductCategoryKey', 'CategoryName'\n",
    "\n",
    "- 'productSubcategoryKey', 'SubcategoryName', 'ProductCategoryKey'"
   ]
  },
  {
   "cell_type": "markdown",
   "id": "fa3826a9",
   "metadata": {},
   "source": [
    "### CUSTOMERS\n",
    "1. Annual Income & product purchase relation\n",
    "2. Most purchased order by customer name, Territory wise, \n",
    "3. Female most ordered product vs male most oder product\n",
    "4. Gender , home owner matters in order purchasing\n",
    "5. Education level and child and annual income relation.\n",
    "6. Martial Status single and above 50 age purchase\n",
    "7. Best age group people purchasing \n",
    "8. Top annual income persons ordered product \n",
    "9. Most ordered proudct customer name and there annual income\n",
    "10. Paritial high school vs bachlors income mean and who orders the more valued products.\n",
    "11. People who bachelors & Clerical & Home owner & annual Income 40000\n",
    "\n",
    "### SALES\n",
    "1. Most ordered Product, category, subcategory\n",
    "2. Most products orders region wise.\n",
    "\n",
    "### DATE\n",
    "1. Orders by year, month\n",
    "2. peak days of orders from previous date data\n",
    "3. pivot table of all the products month wise\n",
    "4. how many peoples orderes on there birthdate\n",
    "\n",
    "### Other Visualization\n",
    "1. Bar chart of all months sales in year wise.\n",
    "2. Orderes sales line chart of all three years.. live chart.\n",
    "\n",
    "### Dashboard of all time\n",
    "1. Top 5 Products\n",
    "2. Top 5 Category\n",
    "3. Top 5 valuable Customer by sales amount."
   ]
  },
  {
   "cell_type": "code",
   "execution_count": 5,
   "id": "56f27580",
   "metadata": {
    "ExecuteTime": {
     "end_time": "2021-10-23T09:50:16.807502Z",
     "start_time": "2021-10-23T09:50:16.778500Z"
    }
   },
   "outputs": [],
   "source": [
    "sales=pd.concat([s15,s16,s17],ignore_index=True)"
   ]
  },
  {
   "cell_type": "code",
   "execution_count": 6,
   "id": "c461d45b",
   "metadata": {
    "ExecuteTime": {
     "end_time": "2021-10-23T09:50:16.853547Z",
     "start_time": "2021-10-23T09:50:16.809500Z"
    }
   },
   "outputs": [],
   "source": [
    "#sales.to_csv(\"sales.csv\")"
   ]
  },
  {
   "cell_type": "code",
   "execution_count": 46,
   "id": "4efc9027",
   "metadata": {
    "ExecuteTime": {
     "end_time": "2021-10-23T12:55:25.987298Z",
     "start_time": "2021-10-23T12:55:25.882229Z"
    }
   },
   "outputs": [],
   "source": [
    "sales= pd.read_csv(\"sales.csv\")"
   ]
  },
  {
   "cell_type": "code",
   "execution_count": 48,
   "id": "c559db56",
   "metadata": {
    "ExecuteTime": {
     "end_time": "2021-10-23T12:55:28.283893Z",
     "start_time": "2021-10-23T12:55:28.242911Z"
    }
   },
   "outputs": [
    {
     "name": "stdout",
     "output_type": "stream",
     "text": [
      "<class 'pandas.core.frame.DataFrame'>\n",
      "RangeIndex: 56046 entries, 0 to 56045\n",
      "Data columns (total 9 columns):\n",
      " #   Column         Non-Null Count  Dtype \n",
      "---  ------         --------------  ----- \n",
      " 0   Unnamed: 0     56046 non-null  int64 \n",
      " 1   OrderDate      56046 non-null  object\n",
      " 2   StockDate      56046 non-null  object\n",
      " 3   OrderNumber    56046 non-null  object\n",
      " 4   ProductKey     56046 non-null  int64 \n",
      " 5   CustomerKey    56046 non-null  int64 \n",
      " 6   TerritoryKey   56046 non-null  int64 \n",
      " 7   OrderLineItem  56046 non-null  int64 \n",
      " 8   OrderQuantity  56046 non-null  int64 \n",
      "dtypes: int64(6), object(3)\n",
      "memory usage: 3.8+ MB\n"
     ]
    }
   ],
   "source": [
    "sales.info()"
   ]
  },
  {
   "cell_type": "code",
   "execution_count": 88,
   "id": "2272f3bd",
   "metadata": {
    "ExecuteTime": {
     "end_time": "2021-10-23T13:24:32.191081Z",
     "start_time": "2021-10-23T13:24:32.164082Z"
    }
   },
   "outputs": [
    {
     "ename": "TypeError",
     "evalue": "merge() got an unexpected keyword argument 'ignore_index'",
     "output_type": "error",
     "traceback": [
      "\u001b[1;31m---------------------------------------------------------------------------\u001b[0m",
      "\u001b[1;31mTypeError\u001b[0m                                 Traceback (most recent call last)",
      "\u001b[1;32m<ipython-input-88-7785ec1005fb>\u001b[0m in \u001b[0;36m<module>\u001b[1;34m\u001b[0m\n\u001b[1;32m----> 1\u001b[1;33m \u001b[0mproduct_\u001b[0m\u001b[1;33m=\u001b[0m \u001b[0mpd\u001b[0m\u001b[1;33m.\u001b[0m\u001b[0mmerge\u001b[0m\u001b[1;33m(\u001b[0m\u001b[0msales\u001b[0m\u001b[1;33m,\u001b[0m \u001b[0mproducts\u001b[0m\u001b[1;33m,\u001b[0m \u001b[0mon\u001b[0m\u001b[1;33m=\u001b[0m\u001b[1;34m\"ProductKey\"\u001b[0m\u001b[1;33m,\u001b[0m \u001b[0mhow\u001b[0m\u001b[1;33m=\u001b[0m\u001b[1;34m\"inner\"\u001b[0m\u001b[1;33m,\u001b[0m \u001b[0mignore_index\u001b[0m\u001b[1;33m=\u001b[0m\u001b[1;32mTrue\u001b[0m\u001b[1;33m)\u001b[0m\u001b[1;33m\u001b[0m\u001b[1;33m\u001b[0m\u001b[0m\n\u001b[0m",
      "\u001b[1;31mTypeError\u001b[0m: merge() got an unexpected keyword argument 'ignore_index'"
     ]
    }
   ],
   "source": [
    "product_= pd.merge(sales, products, on=\"ProductKey\", how=\"inner\")\n",
    "final_= pd.merge(product_, customer, on=\"CustomerKey\", how=\"inner\")\n",
    "final_ = pd.merge(final_, subcategories, on=\"ProductSubcategoryKey\", how=\"inner\")\n",
    "final_ = pd.merge(final_, categories, on=\"ProductCategoryKey\", how=\"inner\")\n",
    "final_ = pd.merge(final_, area, on = [\"TerritoryKey\"], how = \"inner\")"
   ]
  },
  {
   "cell_type": "code",
   "execution_count": null,
   "id": "6985754b",
   "metadata": {},
   "outputs": [],
   "source": [
    "final_['OrderDate']=pd.to_datetime(final_['OrderDate'])\n",
    "final_['BirthDate']=pd.to_datetime(final_['BirthDate'])"
   ]
  },
  {
   "cell_type": "code",
   "execution_count": 141,
   "id": "971d7490",
   "metadata": {
    "ExecuteTime": {
     "end_time": "2021-10-23T14:27:10.040095Z",
     "start_time": "2021-10-23T14:27:09.927119Z"
    }
   },
   "outputs": [
    {
     "name": "stderr",
     "output_type": "stream",
     "text": [
      "<ipython-input-141-383e3b62d597>:2: FutureWarning: The default value of regex will change from True to False in a future version. In addition, single character regular expressions will*not* be treated as literal strings when regex=True.\n",
      "  final_['AnnualIncome'] = final_['AnnualIncome'].str.replace('$', '')\n"
     ]
    }
   ],
   "source": [
    "final_['AnnualIncome'] = final_['AnnualIncome'].str.replace(',', '')\n",
    "final_['AnnualIncome'] = final_['AnnualIncome'].str.replace('$', '')\n",
    "final_[\"AnnualIncome\"] = final_[\"AnnualIncome\"].astype(dtype=\"float\")"
   ]
  },
  {
   "cell_type": "code",
   "execution_count": 118,
   "id": "2e8dd49a",
   "metadata": {
    "ExecuteTime": {
     "end_time": "2021-10-23T13:55:51.309850Z",
     "start_time": "2021-10-23T13:55:51.290826Z"
    }
   },
   "outputs": [],
   "source": [
    "final_['t_purchase']=final_[\"OrderQuantity\"]+ final_[\"ProductPrice\"]\n",
    "final_['p_cost']=final_[\"OrderQuantity\"]+ final_[\"ProductCost\"]"
   ]
  },
  {
   "cell_type": "code",
   "execution_count": null,
   "id": "4f5dccee",
   "metadata": {},
   "outputs": [],
   "source": [
    "final_['s_year'] = final_['OrderDate'].dt.year\n",
    "final_['s_month'] = final_['OrderDate'].dt.month\n",
    "final_['s_date'] = final_['OrderDate'].dt.day\n",
    "\n",
    "final_['b_year'] = final_['BirthDate'].dt.year\n",
    "final_['b_month'] = final_['BirthDate'].dt.month\n",
    "final_['b_date'] = final_['BirthDate'].dt.day"
   ]
  },
  {
   "cell_type": "code",
   "execution_count": 203,
   "id": "c5da9180",
   "metadata": {
    "ExecuteTime": {
     "end_time": "2021-10-23T15:21:30.596922Z",
     "start_time": "2021-10-23T15:21:30.584919Z"
    }
   },
   "outputs": [],
   "source": [
    "final_[\"age\"] = 2017 - final_['b_year']"
   ]
  },
  {
   "cell_type": "code",
   "execution_count": 54,
   "id": "b13a464e",
   "metadata": {
    "ExecuteTime": {
     "end_time": "2021-10-23T12:56:03.276821Z",
     "start_time": "2021-10-23T12:56:03.220822Z"
    }
   },
   "outputs": [
    {
     "data": {
      "text/html": [
       "<div>\n",
       "<style scoped>\n",
       "    .dataframe tbody tr th:only-of-type {\n",
       "        vertical-align: middle;\n",
       "    }\n",
       "\n",
       "    .dataframe tbody tr th {\n",
       "        vertical-align: top;\n",
       "    }\n",
       "\n",
       "    .dataframe thead th {\n",
       "        text-align: right;\n",
       "    }\n",
       "</style>\n",
       "<table border=\"1\" class=\"dataframe\">\n",
       "  <thead>\n",
       "    <tr style=\"text-align: right;\">\n",
       "      <th></th>\n",
       "      <th>Unnamed: 0</th>\n",
       "      <th>OrderDate</th>\n",
       "      <th>StockDate</th>\n",
       "      <th>OrderNumber</th>\n",
       "      <th>ProductKey</th>\n",
       "      <th>CustomerKey</th>\n",
       "      <th>TerritoryKey</th>\n",
       "      <th>OrderLineItem</th>\n",
       "      <th>OrderQuantity</th>\n",
       "      <th>ProductSubcategoryKey</th>\n",
       "      <th>ProductSKU</th>\n",
       "      <th>ProductName</th>\n",
       "      <th>ModelName</th>\n",
       "      <th>ProductDescription</th>\n",
       "      <th>ProductColor</th>\n",
       "      <th>ProductSize</th>\n",
       "      <th>ProductStyle</th>\n",
       "      <th>ProductCost</th>\n",
       "      <th>ProductPrice</th>\n",
       "      <th>Prefix</th>\n",
       "      <th>FirstName</th>\n",
       "      <th>LastName</th>\n",
       "      <th>BirthDate</th>\n",
       "      <th>MaritalStatus</th>\n",
       "      <th>Gender</th>\n",
       "      <th>EmailAddress</th>\n",
       "      <th>AnnualIncome</th>\n",
       "      <th>TotalChildren</th>\n",
       "      <th>EducationLevel</th>\n",
       "      <th>Occupation</th>\n",
       "      <th>HomeOwner</th>\n",
       "      <th>SubcategoryName</th>\n",
       "      <th>ProductCategoryKey</th>\n",
       "      <th>CategoryName</th>\n",
       "    </tr>\n",
       "  </thead>\n",
       "  <tbody>\n",
       "    <tr>\n",
       "      <th>0</th>\n",
       "      <td>0</td>\n",
       "      <td>1/1/2015</td>\n",
       "      <td>9/21/2001</td>\n",
       "      <td>SO45080</td>\n",
       "      <td>332</td>\n",
       "      <td>14657</td>\n",
       "      <td>1</td>\n",
       "      <td>1</td>\n",
       "      <td>1</td>\n",
       "      <td>2</td>\n",
       "      <td>BK-R50B-58</td>\n",
       "      <td>Road-650 Black, 58</td>\n",
       "      <td>Road-650</td>\n",
       "      <td>Value-priced bike with many features of our to...</td>\n",
       "      <td>Black</td>\n",
       "      <td>58</td>\n",
       "      <td>U</td>\n",
       "      <td>413.1463</td>\n",
       "      <td>699.0982</td>\n",
       "      <td>MR.</td>\n",
       "      <td>JOHN</td>\n",
       "      <td>THOMAS</td>\n",
       "      <td>11/11/1958</td>\n",
       "      <td>M</td>\n",
       "      <td>M</td>\n",
       "      <td>john48@adventure-works.com</td>\n",
       "      <td>$80,000</td>\n",
       "      <td>1</td>\n",
       "      <td>Partial College</td>\n",
       "      <td>Skilled Manual</td>\n",
       "      <td>N</td>\n",
       "      <td>Road Bikes</td>\n",
       "      <td>1</td>\n",
       "      <td>Bikes</td>\n",
       "    </tr>\n",
       "    <tr>\n",
       "      <th>1</th>\n",
       "      <td>221</td>\n",
       "      <td>2/6/2015</td>\n",
       "      <td>10/12/2001</td>\n",
       "      <td>SO45383</td>\n",
       "      <td>332</td>\n",
       "      <td>14734</td>\n",
       "      <td>1</td>\n",
       "      <td>1</td>\n",
       "      <td>1</td>\n",
       "      <td>2</td>\n",
       "      <td>BK-R50B-58</td>\n",
       "      <td>Road-650 Black, 58</td>\n",
       "      <td>Road-650</td>\n",
       "      <td>Value-priced bike with many features of our to...</td>\n",
       "      <td>Black</td>\n",
       "      <td>58</td>\n",
       "      <td>U</td>\n",
       "      <td>413.1463</td>\n",
       "      <td>699.0982</td>\n",
       "      <td>MR.</td>\n",
       "      <td>KEVIN</td>\n",
       "      <td>EDWARDS</td>\n",
       "      <td>11/11/1953</td>\n",
       "      <td>M</td>\n",
       "      <td>M</td>\n",
       "      <td>kevin38@adventure-works.com</td>\n",
       "      <td>$30,000</td>\n",
       "      <td>1</td>\n",
       "      <td>Bachelors</td>\n",
       "      <td>Skilled Manual</td>\n",
       "      <td>Y</td>\n",
       "      <td>Road Bikes</td>\n",
       "      <td>1</td>\n",
       "      <td>Bikes</td>\n",
       "    </tr>\n",
       "    <tr>\n",
       "      <th>2</th>\n",
       "      <td>9498</td>\n",
       "      <td>9/1/2016</td>\n",
       "      <td>5/25/2003</td>\n",
       "      <td>SO53659</td>\n",
       "      <td>387</td>\n",
       "      <td>14734</td>\n",
       "      <td>1</td>\n",
       "      <td>1</td>\n",
       "      <td>1</td>\n",
       "      <td>2</td>\n",
       "      <td>BK-R64Y-44</td>\n",
       "      <td>Road-550-W Yellow, 44</td>\n",
       "      <td>Road-550-W</td>\n",
       "      <td>Same technology as all of our Road series bike...</td>\n",
       "      <td>Yellow</td>\n",
       "      <td>44</td>\n",
       "      <td>W</td>\n",
       "      <td>605.6492</td>\n",
       "      <td>1000.4375</td>\n",
       "      <td>MR.</td>\n",
       "      <td>KEVIN</td>\n",
       "      <td>EDWARDS</td>\n",
       "      <td>11/11/1953</td>\n",
       "      <td>M</td>\n",
       "      <td>M</td>\n",
       "      <td>kevin38@adventure-works.com</td>\n",
       "      <td>$30,000</td>\n",
       "      <td>1</td>\n",
       "      <td>Bachelors</td>\n",
       "      <td>Skilled Manual</td>\n",
       "      <td>Y</td>\n",
       "      <td>Road Bikes</td>\n",
       "      <td>1</td>\n",
       "      <td>Bikes</td>\n",
       "    </tr>\n",
       "    <tr>\n",
       "      <th>3</th>\n",
       "      <td>366</td>\n",
       "      <td>3/3/2015</td>\n",
       "      <td>1/27/2002</td>\n",
       "      <td>SO45596</td>\n",
       "      <td>332</td>\n",
       "      <td>20564</td>\n",
       "      <td>10</td>\n",
       "      <td>1</td>\n",
       "      <td>1</td>\n",
       "      <td>2</td>\n",
       "      <td>BK-R50B-58</td>\n",
       "      <td>Road-650 Black, 58</td>\n",
       "      <td>Road-650</td>\n",
       "      <td>Value-priced bike with many features of our to...</td>\n",
       "      <td>Black</td>\n",
       "      <td>58</td>\n",
       "      <td>U</td>\n",
       "      <td>413.1463</td>\n",
       "      <td>699.0982</td>\n",
       "      <td>MR.</td>\n",
       "      <td>JESSIE</td>\n",
       "      <td>GAO</td>\n",
       "      <td>10/28/1944</td>\n",
       "      <td>S</td>\n",
       "      <td>M</td>\n",
       "      <td>jessie19@adventure-works.com</td>\n",
       "      <td>$130,000</td>\n",
       "      <td>3</td>\n",
       "      <td>Bachelors</td>\n",
       "      <td>Management</td>\n",
       "      <td>N</td>\n",
       "      <td>Road Bikes</td>\n",
       "      <td>1</td>\n",
       "      <td>Bikes</td>\n",
       "    </tr>\n",
       "    <tr>\n",
       "      <th>4</th>\n",
       "      <td>520</td>\n",
       "      <td>3/26/2015</td>\n",
       "      <td>2/5/2002</td>\n",
       "      <td>SO45748</td>\n",
       "      <td>332</td>\n",
       "      <td>18046</td>\n",
       "      <td>7</td>\n",
       "      <td>1</td>\n",
       "      <td>1</td>\n",
       "      <td>2</td>\n",
       "      <td>BK-R50B-58</td>\n",
       "      <td>Road-650 Black, 58</td>\n",
       "      <td>Road-650</td>\n",
       "      <td>Value-priced bike with many features of our to...</td>\n"
      ],
      "text/plain": [
       "   Unnamed: 0  OrderDate   StockDate OrderNumber  ProductKey  CustomerKey  \\\n",
       "0           0   1/1/2015   9/21/2001     SO45080         332        14657   \n",
       "1         221   2/6/2015  10/12/2001     SO45383         332        14734   \n",
       "2        9498   9/1/2016   5/25/2003     SO53659         387        14734   \n",
       "3         366   3/3/2015   1/27/2002     SO45596         332        20564   \n",
       "4         520  3/26/2015    2/5/2002     SO45748         332        18046   \n",
       "\n",
       "   TerritoryKey  OrderLineItem  OrderQuantity  ProductSubcategoryKey  \\\n",
       "0             1              1              1                      2   \n",
       "1             1              1              1                      2   \n",
       "2             1              1              1                      2   \n",
       "3            10              1              1                      2   \n",
       "4             7              1              1                      2   \n",
       "\n",
       "   ProductSKU            ProductName   ModelName  \\\n",
       "0  BK-R50B-58     Road-650 Black, 58    Road-650   \n",
       "1  BK-R50B-58     Road-650 Black, 58    Road-650   \n",
       "2  BK-R64Y-44  Road-550-W Yellow, 44  Road-550-W   \n",
       "3  BK-R50B-58     Road-650 Black, 58    Road-650   \n",
       "4  BK-R50B-58     Road-650 Black, 58    Road-650   \n",
       "\n",
       "                                  ProductDescription ProductColor ProductSize  \\\n",
       "0  Value-priced bike with many features of our to...        Black          58   \n",
       "1  Value-priced bike with many features of our to...        Black          58   \n",
       "2  Same technology as all of our Road series bike...       Yellow          44   \n",
       "3  Value-priced bike with many features of our to...        Black          58   \n",
       "4  Value-priced bike with many features of our to...        Black          58   \n",
       "\n",
       "  ProductStyle  ProductCost  ProductPrice Prefix FirstName LastName  \\\n",
       "0            U     413.1463      699.0982    MR.      JOHN   THOMAS   \n",
       "1            U     413.1463      699.0982    MR.     KEVIN  EDWARDS   \n",
       "2            W     605.6492     1000.4375    MR.     KEVIN  EDWARDS   \n",
       "3            U     413.1463      699.0982    MR.    JESSIE      GAO   \n",
       "4            U     413.1463      699.0982    MR.     TERRY      JAI   \n",
       "\n",
       "    BirthDate MaritalStatus Gender                  EmailAddress AnnualIncome  \\\n",
       "0  11/11/1958             M      M    john48@adventure-works.com     $80,000    \n",
       "1  11/11/1953             M      M   kevin38@adventure-works.com     $30,000    \n",
       "2  11/11/1953             M      M   kevin38@adventure-works.com     $30,000    \n",
       "3  10/28/1944             S      M  jessie19@adventure-works.com    $130,000    \n",
       "4    9/3/1973             S      M   terry14@adventure-works.com     $30,000    \n",
       "\n",
       "   TotalChildren   EducationLevel      Occupation HomeOwner SubcategoryName  \\\n",
       "0              1  Partial College  Skilled Manual         N      Road Bikes   \n",
       "1              1        Bachelors  Skilled Manual         Y      Road Bikes   \n",
       "2              1        Bachelors  Skilled Manual         Y      Road Bikes   \n",
       "3              3        Bachelors      Management         N      Road Bikes   \n",
       "4              0  Partial College        Clerical         N      Road Bikes   \n",
       "\n",
       "   ProductCategoryKey CategoryName  \n",
       "0                   1        Bikes  \n",
       "1                   1        Bikes  \n",
       "2                   1        Bikes  \n",
       "3                   1        Bikes  \n",
       "4                   1        Bikes  "
      ]
     },
     "execution_count": 54,
     "metadata": {},
     "output_type": "execute_result"
    },
    {
     "data": {
      "text/html": [
       "<b>limit_output extension: Maximum message size of 5000 exceeded with 5476 characters</b>"
      ]
     },
     "metadata": {},
     "output_type": "display_data"
    }
   ],
   "source": [
    "final_.head()"
   ]
  },
  {
   "cell_type": "code",
   "execution_count": 204,
   "id": "aa4b79ea",
   "metadata": {
    "ExecuteTime": {
     "end_time": "2021-10-23T15:21:41.012688Z",
     "start_time": "2021-10-23T15:21:38.743689Z"
    }
   },
   "outputs": [],
   "source": [
    "#final_.to_csv(\"final.csv\")"
   ]
  },
  {
   "cell_type": "code",
   "execution_count": 5,
   "id": "6e54a4d8",
   "metadata": {
    "ExecuteTime": {
     "end_time": "2021-10-26T14:15:37.723274Z",
     "start_time": "2021-10-26T14:15:36.703917Z"
    }
   },
   "outputs": [],
   "source": [
    "final_= pd.read_csv(\"final.csv\", low_memory=False)"
   ]
  },
  {
   "cell_type": "markdown",
   "id": "48daa66c",
   "metadata": {},
   "source": [
    "Dashboard of all time\n",
    "    \n",
    "    Top 5 Products\n",
    "    Top 5 Category\n",
    "    Top 5 valuable Customer by sales amount.\n"
   ]
  },
  {
   "cell_type": "code",
   "execution_count": 6,
   "id": "18d1b6da",
   "metadata": {
    "ExecuteTime": {
     "end_time": "2021-10-26T14:15:38.425258Z",
     "start_time": "2021-10-26T14:15:38.356170Z"
    }
   },
   "outputs": [
    {
     "data": {
      "text/plain": [
       "ProductName\n",
       "Water Bottle - 30 oz.    7967\n",
       "Patch Kit/8 Patches      5898\n",
       "Mountain Tire Tube       5678\n",
       "Road Tire Tube           4327\n",
       "AWC Logo Cap             4151\n",
       "Name: OrderQuantity, dtype: int64"
      ]
     },
     "execution_count": 6,
     "metadata": {},
     "output_type": "execute_result"
    }
   ],
   "source": [
    "final_.groupby(['ProductName'])['OrderQuantity'].sum().nlargest(5)"
   ]
  },
  {
   "cell_type": "code",
   "execution_count": 7,
   "id": "ec33fed1",
   "metadata": {
    "ExecuteTime": {
     "end_time": "2021-10-26T14:15:40.663886Z",
     "start_time": "2021-10-26T14:15:40.632638Z"
    }
   },
   "outputs": [
    {
     "data": {
      "text/plain": [
       "CategoryName\n",
       "Accessories    57809\n",
       "Bikes          13929\n",
       "Clothing       12436\n",
       "Name: OrderQuantity, dtype: int64"
      ]
     },
     "execution_count": 7,
     "metadata": {},
     "output_type": "execute_result"
    }
   ],
   "source": [
    "final_.groupby(['CategoryName'])['OrderQuantity'].sum().nlargest(5)"
   ]
  },
  {
   "cell_type": "code",
   "execution_count": 8,
   "id": "08445bb1",
   "metadata": {
    "ExecuteTime": {
     "end_time": "2021-10-26T14:15:43.102093Z",
     "start_time": "2021-10-26T14:15:43.023950Z"
    }
   },
   "outputs": [
    {
     "data": {
      "text/plain": [
       "CategoryName  SubcategoryName  \n",
       "Accessories   Tires and Tubes      29772\n",
       "              Bottles and Cages    15106\n",
       "Bikes         Road Bikes            7099\n",
       "Accessories   Helmets               6034\n",
       "Bikes         Mountain Bikes        4706\n",
       "Name: OrderQuantity, dtype: int64"
      ]
     },
     "execution_count": 8,
     "metadata": {},
     "output_type": "execute_result"
    }
   ],
   "source": [
    "final_.groupby(['CategoryName', 'SubcategoryName'])['OrderQuantity'].sum().nlargest(5)"
   ]
  },
  {
   "cell_type": "markdown",
   "id": "39aa5c19",
   "metadata": {},
   "source": [
    "DATE\n",
    "\n",
    "    Orders by year, month\n",
    "    peak days of orders from previous date data\n",
    "    pivot table of all the products month wise\n",
    "    how many peoples orderes on there birthdate\n"
   ]
  },
  {
   "cell_type": "code",
   "execution_count": 9,
   "id": "f2de76f7",
   "metadata": {
    "ExecuteTime": {
     "end_time": "2021-10-26T14:15:46.076269Z",
     "start_time": "2021-10-26T14:15:45.975910Z"
    }
   },
   "outputs": [],
   "source": [
    "bday=final_[(final_[\"b_date\"] == final_[\"s_date\"])& (final_[\"b_month\"] == final_[\"s_month\"])]"
   ]
  },
  {
   "cell_type": "code",
   "execution_count": 10,
   "id": "96a6b20f",
   "metadata": {
    "ExecuteTime": {
     "end_time": "2021-10-26T14:15:48.213027Z",
     "start_time": "2021-10-26T14:15:48.150525Z"
    }
   },
   "outputs": [
    {
     "data": {
      "text/html": [
       "<div>\n",
       "<style scoped>\n",
       "    .dataframe tbody tr th:only-of-type {\n",
       "        vertical-align: middle;\n",
       "    }\n",
       "\n",
       "    .dataframe tbody tr th {\n",
       "        vertical-align: top;\n",
       "    }\n",
       "\n",
       "    .dataframe thead th {\n",
       "        text-align: right;\n",
       "    }\n",
       "</style>\n",
       "<table border=\"1\" class=\"dataframe\">\n",
       "  <thead>\n",
       "    <tr style=\"text-align: right;\">\n",
       "      <th></th>\n",
       "      <th>OrderDate</th>\n",
       "      <th>BirthDate</th>\n",
       "      <th>FirstName</th>\n",
       "      <th>ProductName</th>\n",
       "      <th>ProductPrice</th>\n",
       "    </tr>\n",
       "  </thead>\n",
       "  <tbody>\n",
       "    <tr>\n",
       "      <th>32</th>\n",
       "      <td>2015-06-15</td>\n",
       "      <td>1955-06-15</td>\n",
       "      <td>JEREMY</td>\n",
       "      <td>Road-150 Red, 48</td>\n",
       "      <td>3578.2700</td>\n",
       "    </tr>\n",
       "    <tr>\n",
       "      <th>25427</th>\n",
       "      <td>2015-03-24</td>\n",
       "      <td>1958-03-24</td>\n",
       "      <td>DAKOTA</td>\n",
       "      <td>Road-150 Red, 44</td>\n",
       "      <td>3578.2700</td>\n",
       "    </tr>\n",
       "    <tr>\n",
       "      <th>418</th>\n",
       "      <td>2016-01-28</td>\n",
       "      <td>1957-01-28</td>\n",
       "      <td>ANDREW</td>\n",
       "      <td>Road-250 Red, 52</td>\n",
       "      <td>2443.3500</td>\n",
       "    </tr>\n",
       "    <tr>\n",
       "      <th>38502</th>\n",
       "      <td>2016-06-16</td>\n",
       "      <td>1972-06-16</td>\n",
       "      <td>ROGER</td>\n",
       "      <td>Road-250 Red, 52</td>\n",
       "      <td>2443.3500</td>\n",
       "    </tr>\n",
       "    <tr>\n",
       "      <th>38534</th>\n",
       "      <td>2016-01-23</td>\n",
       "      <td>1959-01-23</td>\n",
       "      <td>TIFFANY</td>\n",
       "      <td>Road-250 Red, 44</td>\n",
       "      <td>2443.3500</td>\n",
       "    </tr>\n",
       "    <tr>\n",
       "      <th>40376</th>\n",
       "      <td>2017-02-23</td>\n",
       "      <td>1962-02-23</td>\n",
       "      <td>MEREDITH</td>\n",
       "      <td>Touring-1000 Blue, 60</td>\n",
       "      <td>2384.0700</td>\n",
       "    </tr>\n",
       "    <tr>\n",
       "      <th>27641</th>\n",
       "      <td>2017-03-11</td>\n",
       "      <td>1971-03-11</td>\n",
       "      <td>MARISSA</td>\n",
       "      <td>Touring-1000 Blue, 60</td>\n",
       "      <td>2384.0700</td>\n",
       "    </tr>\n",
       "    <tr>\n",
       "      <th>21394</th>\n",
       "      <td>2017-04-28</td>\n",
       "      <td>1971-04-28</td>\n",
       "      <td>CARA</td>\n",
       "      <td>Touring-1000 Yellow, 60</td>\n",
       "      <td>2384.0700</td>\n",
       "    </tr>\n",
       "    <tr>\n",
       "      <th>40237</th>\n",
       "      <td>2017-06-13</td>\n",
       "      <td>1961-06-13</td>\n",
       "      <td>TONYA</td>\n",
       "      <td>Touring-1000 Yellow, 60</td>\n",
       "      <td>2384.0700</td>\n",
       "    </tr>\n",
       "    <tr>\n",
       "      <th>36766</th>\n",
       "      <td>2016-12-24</td>\n",
       "      <td>1971-12-24</td>\n",
       "      <td>JANET</td>\n",
       "      <td>Road-250 Black, 48</td>\n",
       "      <td>2181.5625</td>\n",
       "    </tr>\n",
       "  </tbody>\n",
       "</table>\n",
       "</div>"
      ],
      "text/plain": [
       "        OrderDate   BirthDate FirstName              ProductName  ProductPrice\n",
       "32     2015-06-15  1955-06-15    JEREMY         Road-150 Red, 48     3578.2700\n",
       "25427  2015-03-24  1958-03-24    DAKOTA         Road-150 Red, 44     3578.2700\n",
       "418    2016-01-28  1957-01-28    ANDREW         Road-250 Red, 52     2443.3500\n",
       "38502  2016-06-16  1972-06-16     ROGER         Road-250 Red, 52     2443.3500\n",
       "38534  2016-01-23  1959-01-23   TIFFANY         Road-250 Red, 44     2443.3500\n",
       "40376  2017-02-23  1962-02-23  MEREDITH    Touring-1000 Blue, 60     2384.0700\n",
       "27641  2017-03-11  1971-03-11   MARISSA    Touring-1000 Blue, 60     2384.0700\n",
       "21394  2017-04-28  1971-04-28      CARA  Touring-1000 Yellow, 60     2384.0700\n",
       "40237  2017-06-13  1961-06-13     TONYA  Touring-1000 Yellow, 60     2384.0700\n",
       "36766  2016-12-24  1971-12-24     JANET       Road-250 Black, 48     2181.5625"
      ]
     },
     "execution_count": 10,
     "metadata": {},
     "output_type": "execute_result"
    }
   ],
   "source": [
    "bday[[\"OrderDate\", \"BirthDate\", \"FirstName\", \"ProductName\", \"ProductPrice\"]].sort_values(by=\"ProductPrice\", ascending=False)[:10]"
   ]
  },
  {
   "cell_type": "code",
   "execution_count": 11,
   "id": "c098d7f6",
   "metadata": {
    "ExecuteTime": {
     "end_time": "2021-10-26T14:15:50.518440Z",
     "start_time": "2021-10-26T14:15:50.502809Z"
    }
   },
   "outputs": [
    {
     "data": {
      "text/plain": [
       "s_year\n",
       "2015    6.407564e+06\n",
       "2016    9.224054e+06\n",
       "2017    9.055032e+06\n",
       "Name: t_purchase, dtype: float64"
      ]
     },
     "execution_count": 11,
     "metadata": {},
     "output_type": "execute_result"
    }
   ],
   "source": [
    "final_.groupby(['s_year'])[\"t_purchase\"].sum()"
   ]
  },
  {
   "cell_type": "code",
   "execution_count": 12,
   "id": "fd2dbf93",
   "metadata": {
    "ExecuteTime": {
     "end_time": "2021-10-26T14:15:52.625854Z",
     "start_time": "2021-10-26T14:15:52.547692Z"
    }
   },
   "outputs": [
    {
     "data": {
      "text/html": [
       "<div>\n",
       "<style scoped>\n",
       "    .dataframe tbody tr th:only-of-type {\n",
       "        vertical-align: middle;\n",
       "    }\n",
       "\n",
       "    .dataframe tbody tr th {\n",
       "        vertical-align: top;\n",
       "    }\n",
       "\n",
       "    .dataframe thead th {\n",
       "        text-align: right;\n",
       "    }\n",
       "</style>\n",
       "<table border=\"1\" class=\"dataframe\">\n",
       "  <thead>\n",
       "    <tr style=\"text-align: right;\">\n",
       "      <th>s_month</th>\n",
       "      <th>1</th>\n",
       "      <th>2</th>\n",
       "      <th>3</th>\n",
       "      <th>4</th>\n",
       "      <th>5</th>\n",
       "      <th>6</th>\n",
       "      <th>7</th>\n",
       "      <th>8</th>\n",
       "      <th>9</th>\n",
       "      <th>10</th>\n",
       "      <th>11</th>\n",
       "      <th>12</th>\n",
       "    </tr>\n",
       "    <tr>\n",
       "      <th>s_year</th>\n",
       "      <th></th>\n",
       "      <th></th>\n",
       "      <th></th>\n",
       "      <th></th>\n",
       "      <th></th>\n",
       "      <th></th>\n",
       "      <th></th>\n",
       "      <th></th>\n",
       "      <th></th>\n",
       "      <th></th>\n",
       "      <th></th>\n",
       "      <th></th>\n",
       "    </tr>\n",
       "  </thead>\n",
       "  <tbody>\n",
       "    <tr>\n",
       "      <th>2015</th>\n",
       "      <td>5.854966e+05</td>\n",
       "      <td>5.323912e+05</td>\n",
       "      <td>6.436341e+05</td>\n",
       "      <td>6.535680e+05</td>\n",
       "      <td>6.595319e+05</td>\n",
       "      <td>6.702007e+05</td>\n",
       "      <td>486362.0054</td>\n",
       "      <td>536730.8175</td>\n",
       "      <td>344258.8749</td>\n",
       "      <td>4.044996e+05</td>\n",
       "      <td>3.268022e+05</td>\n",
       "      <td>5.640875e+05</td>\n",
       "    </tr>\n",
       "    <tr>\n",
       "      <th>2016</th>\n",
       "      <td>4.326677e+05</td>\n",
       "      <td>4.744298e+05</td>\n",
       "      <td>4.722279e+05</td>\n",
       "      <td>4.952474e+05</td>\n",
       "      <td>5.458637e+05</td>\n",
       "      <td>5.341370e+05</td>\n",
       "      <td>811337.7659</td>\n",
       "      <td>785268.8195</td>\n",
       "      <td>934285.0581</td>\n",
       "      <td>1.010609e+06</td>\n",
       "      <td>1.115460e+06</td>\n",
       "      <td>1.612519e+06</td>\n",
       "    </tr>\n",
       "    <tr>\n",
       "      <th>2017</th>\n",
       "      <td>1.253160e+06</td>\n",
       "      <td>1.319117e+06</td>\n",
       "      <td>1.427391e+06</td>\n",
       "      <td>1.505711e+06</td>\n",
       "      <td>1.745515e+06</td>\n",
       "      <td>1.804138e+06</td>\n",
       "      <td>NaN</td>\n",
       "      <td>NaN</td>\n",
       "      <td>NaN</td>\n",
       "      <td>NaN</td>\n",
       "      <td>NaN</td>\n",
       "      <td>NaN</td>\n",
       "    </tr>\n",
       "  </tbody>\n",
       "</table>\n",
       "</div>"
      ],
      "text/plain": [
       "s_month            1             2             3             4             5   \\\n",
       "s_year                                                                          \n",
       "2015     5.854966e+05  5.323912e+05  6.436341e+05  6.535680e+05  6.595319e+05   \n",
       "2016     4.326677e+05  4.744298e+05  4.722279e+05  4.952474e+05  5.458637e+05   \n",
       "2017     1.253160e+06  1.319117e+06  1.427391e+06  1.505711e+06  1.745515e+06   \n",
       "\n",
       "s_month            6            7            8            9             10  \\\n",
       "s_year                                                                       \n",
       "2015     6.702007e+05  486362.0054  536730.8175  344258.8749  4.044996e+05   \n",
       "2016     5.341370e+05  811337.7659  785268.8195  934285.0581  1.010609e+06   \n",
       "2017     1.804138e+06          NaN          NaN          NaN           NaN   \n",
       "\n",
       "s_month            11            12  \n",
       "s_year                               \n",
       "2015     3.268022e+05  5.640875e+05  \n",
       "2016     1.115460e+06  1.612519e+06  \n",
       "2017              NaN           NaN  "
      ]
     },
     "execution_count": 12,
     "metadata": {},
     "output_type": "execute_result"
    }
   ],
   "source": [
    "final_.groupby(['s_year','s_month'])[\"t_purchase\"].sum().unstack()"
   ]
  },
  {
   "cell_type": "markdown",
   "id": "94baa4b4",
   "metadata": {},
   "source": [
    "SALES\n",
    "\n",
    "    Most products orders region wise.\n"
   ]
  },
  {
   "cell_type": "code",
   "execution_count": 13,
   "id": "fd7862a9",
   "metadata": {
    "ExecuteTime": {
     "end_time": "2021-10-26T14:15:55.789671Z",
     "start_time": "2021-10-26T14:15:55.720647Z"
    }
   },
   "outputs": [
    {
     "data": {
      "text/html": [
       "<div>\n",
       "<style scoped>\n",
       "    .dataframe tbody tr th:only-of-type {\n",
       "        vertical-align: middle;\n",
       "    }\n",
       "\n",
       "    .dataframe tbody tr th {\n",
       "        vertical-align: top;\n",
       "    }\n",
       "\n",
       "    .dataframe thead th {\n",
       "        text-align: right;\n",
       "    }\n",
       "</style>\n",
       "<table border=\"1\" class=\"dataframe\">\n",
       "  <thead>\n",
       "    <tr style=\"text-align: right;\">\n",
       "      <th>s_year</th>\n",
       "      <th>2015</th>\n",
       "      <th>2016</th>\n",
       "      <th>2017</th>\n",
       "    </tr>\n",
       "    <tr>\n",
       "      <th>Region</th>\n",
       "      <th></th>\n",
       "      <th></th>\n",
       "      <th></th>\n",
       "    </tr>\n",
       "  </thead>\n",
       "  <tbody>\n",
       "    <tr>\n",
       "      <th>Australia</th>\n",
       "      <td>2.121513e+06</td>\n",
       "      <td>2.869263e+06</td>\n",
       "      <td>2.382692e+06</td>\n",
       "    </tr>\n",
       "    <tr>\n",
       "      <th>Canada</th>\n",
       "      <td>6.107154e+05</td>\n",
       "      <td>5.046924e+05</td>\n",
       "      <td>6.195928e+05</td>\n",
       "    </tr>\n",
       "    <tr>\n",
       "      <th>Central</th>\n",
       "      <td>NaN</td>\n",
       "      <td>2.781832e+03</td>\n",
       "      <td>2.444223e+02</td>\n",
       "    </tr>\n",
       "    <tr>\n",
       "      <th>France</th>\n",
       "      <td>5.035513e+05</td>\n",
       "      <td>9.762008e+05</td>\n",
       "      <td>8.615709e+05</td>\n",
       "    </tr>\n",
       "    <tr>\n",
       "      <th>Germany</th>\n",
       "      <td>5.042398e+05</td>\n",
       "      <td>9.955697e+05</td>\n",
       "      <td>1.003481e+06</td>\n",
       "    </tr>\n",
       "    <tr>\n",
       "      <th>Northeast</th>\n",
       "      <td>NaN</td>\n",
       "      <td>3.979175e+03</td>\n",
       "      <td>2.341731e+03</td>\n",
       "    </tr>\n",
       "    <tr>\n",
       "      <th>Northwest</th>\n",
       "      <td>8.348346e+05</td>\n",
       "      <td>1.036220e+06</td>\n",
       "      <td>1.189261e+06</td>\n",
       "    </tr>\n",
       "    <tr>\n",
       "      <th>Southeast</th>\n",
       "      <td>7.000982e+02</td>\n",
       "      <td>2.941626e+03</td>\n",
       "      <td>7.861518e+03</td>\n",
       "    </tr>\n",
       "    <tr>\n",
       "      <th>Southwest</th>\n",
       "      <td>1.264722e+06</td>\n",
       "      <td>1.627413e+06</td>\n",
       "      <td>1.883612e+06</td>\n",
       "    </tr>\n",
       "    <tr>\n",
       "      <th>United Kingdom</th>\n",
       "      <td>5.672881e+05</td>\n",
       "      <td>1.204993e+06</td>\n",
       "      <td>1.104376e+06</td>\n",
       "    </tr>\n",
       "  </tbody>\n",
       "</table>\n",
       "</div>"
      ],
      "text/plain": [
       "s_year                  2015          2016          2017\n",
       "Region                                                  \n",
       "Australia       2.121513e+06  2.869263e+06  2.382692e+06\n",
       "Canada          6.107154e+05  5.046924e+05  6.195928e+05\n",
       "Central                  NaN  2.781832e+03  2.444223e+02\n",
       "France          5.035513e+05  9.762008e+05  8.615709e+05\n",
       "Germany         5.042398e+05  9.955697e+05  1.003481e+06\n",
       "Northeast                NaN  3.979175e+03  2.341731e+03\n",
       "Northwest       8.348346e+05  1.036220e+06  1.189261e+06\n",
       "Southeast       7.000982e+02  2.941626e+03  7.861518e+03\n",
       "Southwest       1.264722e+06  1.627413e+06  1.883612e+06\n",
       "United Kingdom  5.672881e+05  1.204993e+06  1.104376e+06"
      ]
     },
     "execution_count": 13,
     "metadata": {},
     "output_type": "execute_result"
    }
   ],
   "source": [
    "final_.groupby([\"Region\",\"s_year\"])[\"t_purchase\"].sum().unstack()"
   ]
  },
  {
   "cell_type": "markdown",
   "id": "d56384d6",
   "metadata": {},
   "source": [
    "\n",
    "    Annual Income & product purchase relation\n",
    "    Most purchased order by customer name, Territory wise,\n",
    "    Female most ordered product vs male most oder product\n",
    "    Gender , home owner matters in order purchasing\n",
    "    best age group to target for sell.\n",
    "    Education level and child and annual income relation.\n",
    "    Martial Status single and above 50 age purchase\n",
    "    Top annual income persons ordered product\n",
    "    Most ordered proudct customer name and there annual income\n",
    "    People who bachelors & Clerical & Home owner & annual Income 40000\n"
   ]
  },
  {
   "cell_type": "code",
   "execution_count": 143,
   "id": "33dffeb5",
   "metadata": {
    "ExecuteTime": {
     "end_time": "2021-10-23T14:27:31.292687Z",
     "start_time": "2021-10-23T14:27:31.276686Z"
    }
   },
   "outputs": [
    {
     "data": {
      "text/plain": [
       "0        80000.0\n",
       "1        30000.0\n",
       "2        30000.0\n",
       "3        60000.0\n",
       "4        40000.0\n",
       "          ...   \n",
       "56041    40000.0\n",
       "56042    70000.0\n",
       "56043    40000.0\n",
       "56044    70000.0\n",
       "56045    60000.0\n",
       "Name: AnnualIncome, Length: 56046, dtype: float64"
      ]
     },
     "execution_count": 143,
     "metadata": {},
     "output_type": "execute_result"
    }
   ],
   "source": [
    "final_[\"AnnualIncome\"]"
   ]
  },
  {
   "cell_type": "code",
   "execution_count": 144,
   "id": "2327ca45",
   "metadata": {
    "ExecuteTime": {
     "end_time": "2021-10-23T14:27:33.173712Z",
     "start_time": "2021-10-23T14:27:33.109708Z"
    }
   },
   "outputs": [
    {
     "data": {
      "text/plain": [
       "0.07305839867557483"
      ]
     },
     "execution_count": 144,
     "metadata": {},
     "output_type": "execute_result"
    }
   ],
   "source": [
    "final_[\"AnnualIncome\"].corr(final_[\"t_purchase\"])"
   ]
  },
  {
   "cell_type": "code",
   "execution_count": 167,
   "id": "3aaec532",
   "metadata": {
    "ExecuteTime": {
     "end_time": "2021-10-23T14:45:40.395812Z",
     "start_time": "2021-10-23T14:45:40.353606Z"
    }
   },
   "outputs": [],
   "source": [
    "topcust=final_.groupby([\"Region\", \"CustomerKey\"])['t_purchase'].sum().sort_values(ascending=False).to_frame()"
   ]
  },
  {
   "cell_type": "code",
   "execution_count": 170,
   "id": "85cb5c4f",
   "metadata": {
    "ExecuteTime": {
     "end_time": "2021-10-23T14:46:30.842536Z",
     "start_time": "2021-10-23T14:46:30.817519Z"
    }
   },
   "outputs": [
    {
     "data": {
      "text/html": [
       "<div>\n",
       "<style scoped>\n",
       "    .dataframe tbody tr th:only-of-type {\n",
       "        vertical-align: middle;\n",
       "    }\n",
       "\n",
       "    .dataframe tbody tr th {\n",
       "        vertical-align: top;\n",
       "    }\n",
       "\n",
       "    .dataframe thead th {\n",
       "        text-align: right;\n",
       "    }\n",
       "</style>\n",
       "<table border=\"1\" class=\"dataframe\">\n",
       "  <thead>\n",
       "    <tr style=\"text-align: right;\">\n",
       "      <th></th>\n",
       "      <th></th>\n",
       "      <th>t_purchase</th>\n",
       "    </tr>\n",
       "    <tr>\n",
       "      <th>Region</th>\n",
       "      <th>CustomerKey</th>\n",
       "      <th></th>\n",
       "    </tr>\n",
       "  </thead>\n",
       "  <tbody>\n",
       "    <tr>\n",
       "      <th rowspan=\"5\" valign=\"top\">France</th>\n",
       "      <th>11433</th>\n",
       "      <td>12411.9645</td>\n",
       "    </tr>\n",
       "    <tr>\n",
       "      <th>11439</th>\n",
       "      <td>11996.4529</td>\n",
       "    </tr>\n",
       "    <tr>\n",
       "      <th>11241</th>\n",
       "      <td>11253.3171</td>\n",
       "    </tr>\n",
       "    <tr>\n",
       "      <th>11417</th>\n",
       "      <td>11025.5420</td>\n",
       "    </tr>\n",
       "    <tr>\n",
       "      <th>11420</th>\n",
       "      <td>10970.8160</td>\n",
       "    </tr>\n",
       "    <tr>\n",
       "      <th>...</th>\n",
       "      <th>...</th>\n",
       "      <td>...</td>\n",
       "    </tr>\n",
       "    <tr>\n",
       "      <th rowspan=\"3\" valign=\"top\">Southwest</th>\n",
       "      <th>27993</th>\n",
       "      <td>4.2900</td>\n",
       "    </tr>\n",
       "    <tr>\n",
       "      <th>11209</th>\n",
       "      <td>3.2900</td>\n",
       "    </tr>\n",
       "    <tr>\n",
       "      <th>28016</th>\n",
       "      <td>3.2900</td>\n",
       "    </tr>\n",
       "    <tr>\n",
       "      <th>Australia</th>\n",
       "      <th>18304</th>\n",
       "      <td>3.2900</td>\n",
       "    </tr>\n",
       "    <tr>\n",
       "      <th>Northwest</th>\n",
       "      <th>28093</th>\n",
       "      <td>3.2900</td>\n",
       "    </tr>\n",
       "  </tbody>\n",
       "</table>\n",
       "<p>17416 rows × 1 columns</p>\n",
       "</div>"
      ],
      "text/plain": [
       "                       t_purchase\n",
       "Region    CustomerKey            \n",
       "France    11433        12411.9645\n",
       "          11439        11996.4529\n",
       "          11241        11253.3171\n",
       "          11417        11025.5420\n",
       "          11420        10970.8160\n",
       "...                           ...\n",
       "Southwest 27993            4.2900\n",
       "          11209            3.2900\n",
       "          28016            3.2900\n",
       "Australia 18304            3.2900\n",
       "Northwest 28093            3.2900\n",
       "\n",
       "[17416 rows x 1 columns]"
      ]
     },
     "execution_count": 170,
     "metadata": {},
     "output_type": "execute_result"
    }
   ],
   "source": [
    "topcust"
   ]
  },
  {
   "cell_type": "code",
   "execution_count": 180,
   "id": "c9caf84e",
   "metadata": {
    "ExecuteTime": {
     "end_time": "2021-10-23T14:52:41.537166Z",
     "start_time": "2021-10-23T14:52:41.487147Z"
    }
   },
   "outputs": [],
   "source": [
    "male=final_[final_[\"Gender\"]==\"M\"]\n",
    "female=final_[final_[\"Gender\"]==\"F\"]"
   ]
  },
  {
   "cell_type": "code",
   "execution_count": 181,
   "id": "312f173e",
   "metadata": {
    "ExecuteTime": {
     "end_time": "2021-10-23T14:53:17.584798Z",
     "start_time": "2021-10-23T14:53:17.553776Z"
    }
   },
   "outputs": [
    {
     "data": {
      "text/plain": [
       "ProductName\n",
       "Water Bottle - 30 oz.    4047\n",
       "Patch Kit/8 Patches      2976\n",
       "Mountain Tire Tube       2883\n",
       "Road Tire Tube           2197\n",
       "AWC Logo Cap             2053\n",
       "Name: OrderQuantity, dtype: int64"
      ]
     },
     "execution_count": 181,
     "metadata": {},
     "output_type": "execute_result"
    }
   ],
   "source": [
    "male.groupby(['ProductName'])['OrderQuantity'].sum().nlargest(5)"
   ]
  },
  {
   "cell_type": "code",
   "execution_count": 182,
   "id": "049ef22e",
   "metadata": {
    "ExecuteTime": {
     "end_time": "2021-10-23T14:53:32.925729Z",
     "start_time": "2021-10-23T14:53:32.897708Z"
    }
   },
   "outputs": [
    {
     "data": {
      "text/plain": [
       "ProductName\n",
       "Water Bottle - 30 oz.    3869\n",
       "Patch Kit/8 Patches      2879\n",
       "Mountain Tire Tube       2760\n",
       "Road Tire Tube           2085\n",
       "AWC Logo Cap             2064\n",
       "Name: OrderQuantity, dtype: int64"
      ]
     },
     "execution_count": 182,
     "metadata": {},
     "output_type": "execute_result"
    }
   ],
   "source": [
    "female.groupby(['ProductName'])['OrderQuantity'].sum().nlargest(5)"
   ]
  },
  {
   "cell_type": "code",
   "execution_count": 184,
   "id": "ceea4653",
   "metadata": {
    "ExecuteTime": {
     "end_time": "2021-10-23T14:55:25.299846Z",
     "start_time": "2021-10-23T14:55:25.282825Z"
    }
   },
   "outputs": [
    {
     "data": {
      "text/plain": [
       "28071"
      ]
     },
     "execution_count": 184,
     "metadata": {},
     "output_type": "execute_result"
    }
   ],
   "source": [
    "len(male[\"HomeOwner\"]==\"Y\")"
   ]
  },
  {
   "cell_type": "code",
   "execution_count": 185,
   "id": "cc30377a",
   "metadata": {
    "ExecuteTime": {
     "end_time": "2021-10-23T14:55:35.607519Z",
     "start_time": "2021-10-23T14:55:35.586522Z"
    }
   },
   "outputs": [
    {
     "data": {
      "text/plain": [
       "27595"
      ]
     },
     "execution_count": 185,
     "metadata": {},
     "output_type": "execute_result"
    }
   ],
   "source": [
    "len(female[\"HomeOwner\"]==\"Y\")"
   ]
  },
  {
   "cell_type": "code",
   "execution_count": 188,
   "id": "ec72fa12",
   "metadata": {
    "ExecuteTime": {
     "end_time": "2021-10-23T15:01:59.800467Z",
     "start_time": "2021-10-23T15:01:59.787460Z"
    }
   },
   "outputs": [
    {
     "data": {
      "text/plain": [
       "0        63\n",
       "1        68\n",
       "2        68\n",
       "3        47\n",
       "4        41\n",
       "         ..\n",
       "56041    44\n",
       "56042    59\n",
       "56043    73\n",
       "56044    59\n",
       "56045    62\n",
       "Name: age, Length: 56046, dtype: int64"
      ]
     },
     "execution_count": 188,
     "metadata": {},
     "output_type": "execute_result"
    }
   ],
   "source": [
    "final_[\"age\"]"
   ]
  },
  {
   "cell_type": "code",
   "execution_count": 208,
   "id": "7c21ddc6",
   "metadata": {
    "ExecuteTime": {
     "end_time": "2021-10-23T15:25:29.435645Z",
     "start_time": "2021-10-23T15:25:29.423624Z"
    }
   },
   "outputs": [],
   "source": [
    "age_bins=[0,40,50,60,70,80,100]\n",
    "groupnames= [\"0-40\",\"40-50\", \"50-60\", \"60-70\", \"70-80\", \"60-100\"]"
   ]
  },
  {
   "cell_type": "code",
   "execution_count": 209,
   "id": "f3671bd5",
   "metadata": {
    "ExecuteTime": {
     "end_time": "2021-10-23T15:25:29.858566Z",
     "start_time": "2021-10-23T15:25:29.833567Z"
    }
   },
   "outputs": [],
   "source": [
    "final_[\"cats\"]=pd.cut(final_.age, age_bins, right= False, labels= groupnames)"
   ]
  },
  {
   "cell_type": "code",
   "execution_count": 210,
   "id": "2894478f",
   "metadata": {
    "ExecuteTime": {
     "end_time": "2021-10-23T15:25:30.454707Z",
     "start_time": "2021-10-23T15:25:30.441706Z"
    }
   },
   "outputs": [
    {
     "data": {
      "text/plain": [
       "50-60     18015\n",
       "40-50     16804\n",
       "60-70     11605\n",
       "70-80      5628\n",
       "0-40       2679\n",
       "60-100     1283\n",
       "Name: cats, dtype: int64"
      ]
     },
     "execution_count": 210,
     "metadata": {},
     "output_type": "execute_result"
    }
   ],
   "source": [
    "final_[\"cats\"].value_counts()"
   ]
  },
  {
   "cell_type": "code",
   "execution_count": 212,
   "id": "440a95d0",
   "metadata": {
    "ExecuteTime": {
     "end_time": "2021-10-23T15:27:21.254454Z",
     "start_time": "2021-10-23T15:27:21.212459Z"
    }
   },
   "outputs": [
    {
     "data": {
      "text/html": [
       "<div>\n",
       "<style scoped>\n",
       "    .dataframe tbody tr th:only-of-type {\n",
       "        vertical-align: middle;\n",
       "    }\n",
       "\n",
       "    .dataframe tbody tr th {\n",
       "        vertical-align: top;\n",
       "    }\n",
       "\n",
       "    .dataframe thead th {\n",
       "        text-align: right;\n",
       "    }\n",
       "</style>\n",
       "<table border=\"1\" class=\"dataframe\">\n",
       "  <thead>\n",
       "    <tr style=\"text-align: right;\">\n",
       "      <th>Occupation</th>\n",
       "      <th>Clerical</th>\n",
       "      <th>Management</th>\n",
       "      <th>Manual</th>\n",
       "      <th>Professional</th>\n",
       "      <th>Skilled Manual</th>\n",
       "    </tr>\n",
       "    <tr>\n",
       "      <th>EducationLevel</th>\n",
       "      <th></th>\n",
       "      <th></th>\n",
       "      <th></th>\n",
       "      <th></th>\n",
       "      <th></th>\n",
       "    </tr>\n",
       "  </thead>\n",
       "  <tbody>\n",
       "    <tr>\n",
       "      <th>Bachelors</th>\n",
       "      <td>0.659049</td>\n",
       "      <td>2.834988</td>\n",
       "      <td>0.995370</td>\n",
       "      <td>1.458903</td>\n",
       "      <td>1.836415</td>\n",
       "    </tr>\n",
       "    <tr>\n",
       "      <th>Graduate Degree</th>\n",
       "      <td>1.362782</td>\n",
       "      <td>2.290410</td>\n",
       "      <td>0.695122</td>\n",
       "      <td>2.191712</td>\n",
       "      <td>1.154734</td>\n",
       "    </tr>\n",
       "    <tr>\n",
       "      <th>High School</th>\n",
       "      <td>1.186441</td>\n",
       "      <td>2.106814</td>\n",
       "      <td>1.303534</td>\n",
       "      <td>2.862081</td>\n",
       "      <td>1.541880</td>\n",
       "    </tr>\n",
       "    <tr>\n",
       "      <th>Partial College</th>\n",
       "      <td>1.732939</td>\n",
       "      <td>1.792857</td>\n",
       "      <td>1.119871</td>\n",
       "      <td>2.871107</td>\n",
       "      <td>1.028490</td>\n",
       "    </tr>\n",
       "    <tr>\n",
       "      <th>Partial High School</th>\n",
       "      <td>1.617671</td>\n",
       "      <td>1.109589</td>\n",
       "      <td>1.082958</td>\n",
       "      <td>1.326415</td>\n",
       "      <td>2.591182</td>\n",
       "    </tr>\n",
       "  </tbody>\n",
       "</table>\n",
       "</div>"
      ],
      "text/plain": [
       "Occupation           Clerical  Management    Manual  Professional  \\\n",
       "EducationLevel                                                      \n",
       "Bachelors            0.659049    2.834988  0.995370      1.458903   \n",
       "Graduate Degree      1.362782    2.290410  0.695122      2.191712   \n",
       "High School          1.186441    2.106814  1.303534      2.862081   \n",
       "Partial College      1.732939    1.792857  1.119871      2.871107   \n",
       "Partial High School  1.617671    1.109589  1.082958      1.326415   \n",
       "\n",
       "Occupation           Skilled Manual  \n",
       "EducationLevel                       \n",
       "Bachelors                  1.836415  \n",
       "Graduate Degree            1.154734  \n",
       "High School                1.541880  \n",
       "Partial College            1.028490  \n",
       "Partial High School        2.591182  "
      ]
     },
     "execution_count": 212,
     "metadata": {},
     "output_type": "execute_result"
    }
   ],
   "source": [
    "final_.groupby([\"EducationLevel\", \"Occupation\"])[\"TotalChildren\"].mean().unstack()"
   ]
  },
  {
   "cell_type": "code",
   "execution_count": 214,
   "id": "69ec6773",
   "metadata": {
    "ExecuteTime": {
     "end_time": "2021-10-23T15:29:19.345673Z",
     "start_time": "2021-10-23T15:29:19.300671Z"
    }
   },
   "outputs": [
    {
     "data": {
      "text/html": [
       "<div>\n",
       "<style scoped>\n",
       "    .dataframe tbody tr th:only-of-type {\n",
       "        vertical-align: middle;\n",
       "    }\n",
       "\n",
       "    .dataframe tbody tr th {\n",
       "        vertical-align: top;\n",
       "    }\n",
       "\n",
       "    .dataframe thead th {\n",
       "        text-align: right;\n",
       "    }\n",
       "</style>\n",
       "<table border=\"1\" class=\"dataframe\">\n",
       "  <thead>\n",
       "    <tr style=\"text-align: right;\">\n",
       "      <th>Occupation</th>\n",
       "      <th>Clerical</th>\n",
       "      <th>Management</th>\n",
       "      <th>Manual</th>\n",
       "      <th>Professional</th>\n",
       "      <th>Skilled Manual</th>\n",
       "    </tr>\n",
       "    <tr>\n",
       "      <th>EducationLevel</th>\n",
       "      <th></th>\n",
       "      <th></th>\n",
       "      <th></th>\n",
       "      <th></th>\n",
       "      <th></th>\n",
       "    </tr>\n",
       "  </thead>\n",
       "  <tbody>\n",
       "    <tr>\n",
       "      <th>Bachelors</th>\n",
       "      <td>28549.440299</td>\n",
       "      <td>90137.013503</td>\n",
       "      <td>11111.111111</td>\n",
       "      <td>69313.217036</td>\n",
       "      <td>48818.552178</td>\n",
       "    </tr>\n",
       "    <tr>\n",
       "      <th>Graduate Degree</th>\n",
       "      <td>33082.706767</td>\n",
       "      <td>92445.717732</td>\n",
       "      <td>11585.365854</td>\n",
       "      <td>66560.805577</td>\n",
       "      <td>56752.886836</td>\n",
       "    </tr>\n",
       "    <tr>\n",
       "      <th>High School</th>\n",
       "      <td>30000.000000</td>\n",
       "      <td>108324.125230</td>\n",
       "      <td>18449.064449</td>\n",
       "      <td>74635.716706</td>\n",
       "      <td>39176.068376</td>\n",
       "    </tr>\n",
       "    <tr>\n",
       "      <th>Partial College</th>\n",
       "      <td>34836.109618</td>\n",
       "      <td>119964.285714</td>\n",
       "      <td>16251.728907</td>\n",
       "      <td>86073.170732</td>\n",
       "      <td>59422.429422</td>\n",
       "    </tr>\n",
       "    <tr>\n",
       "      <th>Partial High School</th>\n",
       "      <td>24715.111478</td>\n",
       "      <td>131643.835616</td>\n",
       "      <td>15228.295820</td>\n",
       "      <td>117018.867925</td>\n",
       "      <td>65060.120240</td>\n",
       "    </tr>\n",
       "  </tbody>\n",
       "</table>\n",
       "</div>"
      ],
      "text/plain": [
       "Occupation               Clerical     Management        Manual   Professional  \\\n",
       "EducationLevel                                                                  \n",
       "Bachelors            28549.440299   90137.013503  11111.111111   69313.217036   \n",
       "Graduate Degree      33082.706767   92445.717732  11585.365854   66560.805577   \n",
       "High School          30000.000000  108324.125230  18449.064449   74635.716706   \n",
       "Partial College      34836.109618  119964.285714  16251.728907   86073.170732   \n",
       "Partial High School  24715.111478  131643.835616  15228.295820  117018.867925   \n",
       "\n",
       "Occupation           Skilled Manual  \n",
       "EducationLevel                       \n",
       "Bachelors              48818.552178  \n",
       "Graduate Degree        56752.886836  \n",
       "High School            39176.068376  \n",
       "Partial College        59422.429422  \n",
       "Partial High School    65060.120240  "
      ]
     },
     "execution_count": 214,
     "metadata": {},
     "output_type": "execute_result"
    }
   ],
   "source": [
    "final_.groupby([\"EducationLevel\", \"Occupation\"])[\"AnnualIncome\"].mean().unstack()"
   ]
  },
  {
   "cell_type": "code",
   "execution_count": 213,
   "id": "fea0907a",
   "metadata": {
    "ExecuteTime": {
     "end_time": "2021-10-23T15:28:18.093310Z",
     "start_time": "2021-10-23T15:28:18.051361Z"
    }
   },
   "outputs": [
    {
     "data": {
      "text/html": [
       "<div>\n",
       "<style scoped>\n",
       "    .dataframe tbody tr th:only-of-type {\n",
       "        vertical-align: middle;\n",
       "    }\n",
       "\n",
       "    .dataframe tbody tr th {\n",
       "        vertical-align: top;\n",
       "    }\n",
       "\n",
       "    .dataframe thead th {\n",
       "        text-align: right;\n",
       "    }\n",
       "</style>\n",
       "<table border=\"1\" class=\"dataframe\">\n",
       "  <thead>\n",
       "    <tr style=\"text-align: right;\">\n",
       "      <th>Occupation</th>\n",
       "      <th>Clerical</th>\n",
       "      <th>Management</th>\n",
       "      <th>Manual</th>\n",
       "      <th>Professional</th>\n",
       "      <th>Skilled Manual</th>\n",
       "    </tr>\n",
       "    <tr>\n",
       "      <th>EducationLevel</th>\n",
       "      <th></th>\n",
       "      <th></th>\n",
       "      <th></th>\n",
       "      <th></th>\n",
       "      <th></th>\n",
       "    </tr>\n",
       "  </thead>\n",
       "  <tbody>\n",
       "    <tr>\n",
       "      <th>Bachelors</th>\n",
       "      <td>558.754159</td>\n",
       "      <td>431.522375</td>\n",
       "      <td>213.806296</td>\n",
       "      <td>534.023584</td>\n",
       "      <td>482.810163</td>\n",
       "    </tr>\n",
       "    <tr>\n",
       "      <th>Graduate Degree</th>\n",
       "      <td>557.331506</td>\n",
       "      <td>505.878490</td>\n",
       "      <td>369.805674</td>\n",
       "      <td>486.453658</td>\n",
       "      <td>345.925068</td>\n",
       "    </tr>\n",
       "    <tr>\n",
       "      <th>High School</th>\n",
       "      <td>261.652660</td>\n",
       "      <td>526.553579</td>\n",
       "      <td>388.665751</td>\n",
       "      <td>416.934883</td>\n",
       "      <td>360.297687</td>\n",
       "    </tr>\n",
       "    <tr>\n",
       "      <th>Partial College</th>\n",
       "      <td>425.005896</td>\n",
       "      <td>474.448035</td>\n",
       "      <td>439.352701</td>\n",
       "      <td>400.147947</td>\n",
       "      <td>431.746783</td>\n",
       "    </tr>\n",
       "    <tr>\n",
       "      <th>Partial High School</th>\n",
       "      <td>197.709173</td>\n",
       "      <td>418.123623</td>\n",
       "      <td>282.962826</td>\n",
       "      <td>711.395062</td>\n",
       "      <td>307.165803</td>\n",
       "    </tr>\n",
       "  </tbody>\n",
       "</table>\n",
       "</div>"
      ],
      "text/plain": [
       "Occupation             Clerical  Management      Manual  Professional  \\\n",
       "EducationLevel                                                          \n",
       "Bachelors            558.754159  431.522375  213.806296    534.023584   \n",
       "Graduate Degree      557.331506  505.878490  369.805674    486.453658   \n",
       "High School          261.652660  526.553579  388.665751    416.934883   \n",
       "Partial College      425.005896  474.448035  439.352701    400.147947   \n",
       "Partial High School  197.709173  418.123623  282.962826    711.395062   \n",
       "\n",
       "Occupation           Skilled Manual  \n",
       "EducationLevel                       \n",
       "Bachelors                482.810163  \n",
       "Graduate Degree          345.925068  \n",
       "High School              360.297687  \n",
       "Partial College          431.746783  \n",
       "Partial High School      307.165803  "
      ]
     },
     "execution_count": 213,
     "metadata": {},
     "output_type": "execute_result"
    }
   ],
   "source": [
    "final_.groupby([\"EducationLevel\", \"Occupation\"])[\"t_purchase\"].mean().unstack()"
   ]
  },
  {
   "cell_type": "code",
   "execution_count": 228,
   "id": "0c09c518",
   "metadata": {
    "ExecuteTime": {
     "end_time": "2021-10-23T15:50:48.767834Z",
     "start_time": "2021-10-23T15:50:48.755850Z"
    }
   },
   "outputs": [
    {
     "data": {
      "text/plain": [
       "0        80000.0\n",
       "1        30000.0\n",
       "2        30000.0\n",
       "3        60000.0\n",
       "4        40000.0\n",
       "          ...   \n",
       "56041    40000.0\n",
       "56042    70000.0\n",
       "56043    40000.0\n",
       "56044    70000.0\n",
       "56045    60000.0\n",
       "Name: AnnualIncome, Length: 56046, dtype: float64"
      ]
     },
     "execution_count": 228,
     "metadata": {},
     "output_type": "execute_result"
    }
   ],
   "source": [
    "final_[\"AnnualIncome\"]"
   ]
  },
  {
   "cell_type": "code",
   "execution_count": 233,
   "id": "a70f5166",
   "metadata": {
    "ExecuteTime": {
     "end_time": "2021-10-23T15:52:48.193822Z",
     "start_time": "2021-10-23T15:52:48.158824Z"
    }
   },
   "outputs": [
    {
     "data": {
      "text/plain": [
       "ProductName\n",
       "Water Bottle - 30 oz.    679\n",
       "Mountain Tire Tube       551\n",
       "Patch Kit/8 Patches      505\n",
       "Fender Set - Mountain    424\n",
       "Mountain Bottle Cage     320\n",
       "Name: OrderQuantity, dtype: int64"
      ]
     },
     "execution_count": 233,
     "metadata": {},
     "output_type": "execute_result"
    }
   ],
   "source": [
    "final_[final_[\"AnnualIncome\"]==80000].groupby(['ProductName'])['OrderQuantity'].sum().nlargest(5)"
   ]
  },
  {
   "cell_type": "code",
   "execution_count": 234,
   "id": "fe9e7232",
   "metadata": {
    "ExecuteTime": {
     "end_time": "2021-10-23T15:53:18.384001Z",
     "start_time": "2021-10-23T15:53:18.374006Z"
    }
   },
   "outputs": [],
   "source": [
    "rangeincome=final_[\"AnnualIncome\"].unique()"
   ]
  },
  {
   "cell_type": "code",
   "execution_count": 247,
   "id": "99ca60ac",
   "metadata": {
    "ExecuteTime": {
     "end_time": "2021-10-23T16:55:39.855396Z",
     "start_time": "2021-10-23T16:55:39.694400Z"
    }
   },
   "outputs": [],
   "source": [
    "p={}\n",
    "l=[]\n",
    "for i in rangeincome:\n",
    "    x=final_[final_[\"AnnualIncome\"]==i].groupby([\"AnnualIncome\",'ProductName'])['OrderQuantity'].sum().nlargest(5)\n",
    "    l.append(x)"
   ]
  },
  {
   "cell_type": "code",
   "execution_count": 260,
   "id": "c6b9b8c5",
   "metadata": {
    "ExecuteTime": {
     "end_time": "2021-10-23T17:01:05.328645Z",
     "start_time": "2021-10-23T17:01:05.298647Z"
    }
   },
   "outputs": [
    {
     "data": {
      "text/plain": [
       "AnnualIncome  ProductName               \n",
       "10000.0       AWC Logo Cap                  251\n",
       "              All-Purpose Bike Stand         15\n",
       "              Bike Wash - Dissolver          67\n",
       "              Classic Vest, L                 8\n",
       "              Classic Vest, M                 6\n",
       "                                           ... \n",
       "170000.0      Touring-3000 Blue, 58           1\n",
       "              Touring-3000 Yellow, 44         1\n",
       "              Water Bottle - 30 oz.          71\n",
       "              Women's Mountain Shorts, M      2\n",
       "              Women's Mountain Shorts, S      2\n",
       "Name: OrderQuantity, Length: 1828, dtype: int64"
      ]
     },
     "execution_count": 260,
     "metadata": {},
     "output_type": "execute_result"
    }
   ],
   "source": [
    "final_.groupby([\"AnnualIncome\",'ProductName'])['OrderQuantity'].sum()"
   ]
  },
  {
   "cell_type": "code",
   "execution_count": null,
   "id": "1b3d1b9c",
   "metadata": {},
   "outputs": [],
   "source": []
  }
 ],
 "metadata": {
  "kernelspec": {
   "display_name": "Python 3",
   "language": "python",
   "name": "python3"
  },
  "language_info": {
   "codemirror_mode": {
    "name": "ipython",
    "version": 3
   },
   "file_extension": ".py",
   "mimetype": "text/x-python",
   "name": "python",
   "nbconvert_exporter": "python",
   "pygments_lexer": "ipython3",
   "version": "3.8.8"
  }
 },
 "nbformat": 4,
 "nbformat_minor": 5
}
