{
 "cells": [
  {
   "cell_type": "markdown",
   "id": "1341732d",
   "metadata": {},
   "source": [
    "### Data Mining/Data Wrangling/Data Engineering \n",
    "\n",
    "    1. Data Collection\n",
    "    2. Data Preprocessing\n",
    "        a. Data Cleaning\n",
    "        b. Remove Outliers"
   ]
  },
  {
   "cell_type": "markdown",
   "id": "a4706a3c",
   "metadata": {},
   "source": [
    "#### Data Collection \n",
    "\n",
    "    1. Database\n",
    "    2. Files\n",
    "    3. Online Repos (git etc)\n",
    "    4. Api\n",
    "    5. Survey\n",
    "    6. Websites\n",
    "    7. Web Scraping \n",
    "    "
   ]
  },
  {
   "cell_type": "code",
   "execution_count": 6,
   "id": "ac938ff9",
   "metadata": {},
   "outputs": [],
   "source": [
    "with open(\"data.csv\") as fp:\n",
    "    data = fp.read()"
   ]
  },
  {
   "cell_type": "code",
   "execution_count": 14,
   "id": "f05c8687",
   "metadata": {},
   "outputs": [
    {
     "name": "stdout",
     "output_type": "stream",
     "text": [
      "Name\\tAge\n",
      "Simran\\t20\n",
      "Aman\\t19\n",
      "Ashish\\t20\n",
      "Heta\\t21\n",
      "Hanzal\\t21\n",
      "Meet\\t20\n",
      "Vikash\\t22\n"
     ]
    }
   ],
   "source": [
    "print(data)"
   ]
  },
  {
   "cell_type": "code",
   "execution_count": 7,
   "id": "609ed145",
   "metadata": {},
   "outputs": [
    {
     "data": {
      "text/plain": [
       "'Name\\\\tAge\\nSimran\\\\t20\\nAman\\\\t19\\nAshish\\\\t20\\nHeta\\\\t21\\nHanzal\\\\t21\\nMeet\\\\t20\\nVikash\\\\t22'"
      ]
     },
     "execution_count": 7,
     "metadata": {},
     "output_type": "execute_result"
    }
   ],
   "source": [
    "data"
   ]
  },
  {
   "cell_type": "code",
   "execution_count": 17,
   "id": "79fb94ad",
   "metadata": {},
   "outputs": [],
   "source": [
    "name = []\n",
    "age = []\n",
    "for ele in data.split(\"\\n\")[1:]:\n",
    "    n, a = ele.split(\"\\\\t\")\n",
    "    name.append(n)\n",
    "    age.append(a)"
   ]
  },
  {
   "cell_type": "code",
   "execution_count": 18,
   "id": "687b5d74",
   "metadata": {},
   "outputs": [
    {
     "data": {
      "text/plain": [
       "['Simran', 'Aman', 'Ashish', 'Heta', 'Hanzal', 'Meet', 'Vikash']"
      ]
     },
     "execution_count": 18,
     "metadata": {},
     "output_type": "execute_result"
    }
   ],
   "source": [
    "name"
   ]
  },
  {
   "cell_type": "code",
   "execution_count": 19,
   "id": "9ced8a64",
   "metadata": {},
   "outputs": [
    {
     "data": {
      "text/plain": [
       "['20', '19', '20', '21', '21', '20', '22']"
      ]
     },
     "execution_count": 19,
     "metadata": {},
     "output_type": "execute_result"
    }
   ],
   "source": [
    "age"
   ]
  },
  {
   "cell_type": "code",
   "execution_count": 13,
   "id": "d5f5e2dd",
   "metadata": {},
   "outputs": [
    {
     "data": {
      "text/plain": [
       "['Name',\n",
       " 'Age\\nSimran',\n",
       " '20\\nAman',\n",
       " '19\\nAshish',\n",
       " '20\\nHeta',\n",
       " '21\\nHanzal',\n",
       " '21\\nMeet',\n",
       " '20\\nVikash',\n",
       " '22']"
      ]
     },
     "execution_count": 13,
     "metadata": {},
     "output_type": "execute_result"
    }
   ],
   "source": [
    "data.split(\"\\\\t\")"
   ]
  },
  {
   "cell_type": "code",
   "execution_count": null,
   "id": "0f0a9bd6",
   "metadata": {},
   "outputs": [],
   "source": []
  }
 ],
 "metadata": {
  "kernelspec": {
   "display_name": "Python 3",
   "language": "python",
   "name": "python3"
  },
  "language_info": {
   "codemirror_mode": {
    "name": "ipython",
    "version": 3
   },
   "file_extension": ".py",
   "mimetype": "text/x-python",
   "name": "python",
   "nbconvert_exporter": "python",
   "pygments_lexer": "ipython3",
   "version": "3.8.8"
  }
 },
 "nbformat": 4,
 "nbformat_minor": 5
}
