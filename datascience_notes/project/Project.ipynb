{
 "cells": [
  {
   "cell_type": "code",
   "execution_count": 3,
   "id": "7bc0d288",
   "metadata": {
    "ExecuteTime": {
     "end_time": "2021-10-07T08:10:51.023446Z",
     "start_time": "2021-10-07T08:10:35.158511Z"
    }
   },
   "outputs": [
    {
     "name": "stdout",
     "output_type": "stream",
     "text": [
      "Collecting unirest\n",
      "  Using cached Unirest-1.1.7.tar.gz (3.8 kB)\n",
      "Collecting poster>=0.8.1\n",
      "  Using cached poster-0.8.1.tar.gz (12 kB)\n",
      "Collecting unirest\n",
      "  Using cached Unirest-1.1.6.tar.gz (3.7 kB)\n",
      "  Using cached Unirest-1.1.5.tar.gz (3.7 kB)\n",
      "  Using cached Unirest-1.1.4.tar.gz (3.7 kB)\n",
      "  Using cached Unirest-1.1.3.tar.gz (3.6 kB)\n",
      "  Using cached Unirest-1.1.2.tar.gz (3.6 kB)\n",
      "  Using cached Unirest-1.1.1.tar.gz (3.6 kB)\n",
      "  Using cached Unirest-1.1.0.tar.gz (3.5 kB)\n",
      "  Using cached Unirest-1.0.6.tar.gz (3.2 kB)\n",
      "  Using cached Unirest-1.0.5.tar.gz (3.2 kB)\n",
      "\n",
      "The conflict is caused by:\n",
      "    unirest 1.1.7 depends on poster>=0.8.1\n",
      "    unirest 1.1.6 depends on poster>=0.8.1\n",
      "    unirest 1.1.5 depends on poster>=0.8.1\n",
      "    unirest 1.1.4 depends on poster>=0.8.1\n",
      "    unirest 1.1.3 depends on poster>=0.8.1\n",
      "    unirest 1.1.2 depends on poster>=0.8.1\n",
      "    unirest 1.1.1 depends on poster>=0.8.1\n",
      "    unirest 1.1.0 depends on poster>=0.8.1\n",
      "    unirest 1.0.6 depends on poster>=0.8.1\n",
      "    unirest 1.0.5 depends on poster>=0.8.1\n",
      "\n",
      "To fix this you could try to:\n",
      "1. loosen the range of package versions you've specified\n",
      "2. remove package versions to allow pip attempt to solve the dependency conflict\n",
      "\n"
     ]
    },
    {
     "name": "stderr",
     "output_type": "stream",
     "text": [
      "    ERROR: Command errored out with exit status 1:\n",
      "     command: 'C:\\ProgramData\\Anaconda3\\python.exe' -c 'import sys, setuptools, tokenize; sys.argv[0] = '\"'\"'C:\\\\Users\\\\Kiki\\\\AppData\\\\Local\\\\Temp\\\\pip-install-kgyhtadl\\\\poster_e8d121a8bd6741369250f0b370bcdc58\\\\setup.py'\"'\"'; __file__='\"'\"'C:\\\\Users\\\\Kiki\\\\AppData\\\\Local\\\\Temp\\\\pip-install-kgyhtadl\\\\poster_e8d121a8bd6741369250f0b370bcdc58\\\\setup.py'\"'\"';f=getattr(tokenize, '\"'\"'open'\"'\"', open)(__file__);code=f.read().replace('\"'\"'\\r\\n'\"'\"', '\"'\"'\\n'\"'\"');f.close();exec(compile(code, __file__, '\"'\"'exec'\"'\"'))' egg_info --egg-base 'C:\\Users\\Kiki\\AppData\\Local\\Temp\\pip-pip-egg-info-d_xxc_ie'\n",
      "         cwd: C:\\Users\\Kiki\\AppData\\Local\\Temp\\pip-install-kgyhtadl\\poster_e8d121a8bd6741369250f0b370bcdc58\\\n",
      "    Complete output (10 lines):\n",
      "    Traceback (most recent call last):\n",
      "      File \"<string>\", line 1, in <module>\n",
      "      File \"C:\\Users\\Kiki\\AppData\\Local\\Temp\\pip-install-kgyhtadl\\poster_e8d121a8bd6741369250f0b370bcdc58\\setup.py\", line 2, in <module>\n",
      "        import poster\n",
      "      File \"C:\\Users\\Kiki\\AppData\\Local\\Temp\\pip-install-kgyhtadl\\poster_e8d121a8bd6741369250f0b370bcdc58\\poster\\__init__.py\", line 29, in <module>\n",
      "        import poster.streaminghttp\n",
      "      File \"C:\\Users\\Kiki\\AppData\\Local\\Temp\\pip-install-kgyhtadl\\poster_e8d121a8bd6741369250f0b370bcdc58\\poster\\streaminghttp.py\", line 61\n",
      "        print \"send:\", repr(value)\n",
      "              ^\n",
      "    SyntaxError: invalid syntax\n",
      "    ----------------------------------------\n",
      "WARNING: Discarding https://files.pythonhosted.org/packages/9f/dc/0683a458d21c3d561ab2f71b4fcdd812bf04e55c54e560b0854cea95610e/poster-0.8.1.tar.gz#sha256=af5bf45da4a916db2b638cffd9e9d6668b33020e2b8ca9f864db79b49331c6ff (from https://pypi.org/simple/poster/). Command errored out with exit status 1: python setup.py egg_info Check the logs for full command output.\n",
      "ERROR: Cannot install unirest==1.0.5, unirest==1.0.6, unirest==1.1.0, unirest==1.1.1, unirest==1.1.2, unirest==1.1.3, unirest==1.1.4, unirest==1.1.5, unirest==1.1.6 and unirest==1.1.7 because these package versions have conflicting dependencies.\n",
      "ERROR: ResolutionImpossible: for help visit https://pip.pypa.io/en/latest/user_guide/#fixing-conflicting-dependencies\n"
     ]
    }
   ],
   "source": [
    "!pip install unirest"
   ]
  },
  {
   "cell_type": "code",
   "execution_count": 4,
   "id": "5835a35f",
   "metadata": {
    "ExecuteTime": {
     "end_time": "2021-10-07T08:11:01.546445Z",
     "start_time": "2021-10-07T08:11:01.518447Z"
    }
   },
   "outputs": [
    {
     "ename": "ModuleNotFoundError",
     "evalue": "No module named 'unirest'",
     "output_type": "error",
     "traceback": [
      "\u001b[1;31m---------------------------------------------------------------------------\u001b[0m",
      "\u001b[1;31mModuleNotFoundError\u001b[0m                       Traceback (most recent call last)",
      "\u001b[1;32m<ipython-input-4-3fdbab712175>\u001b[0m in \u001b[0;36m<module>\u001b[1;34m\u001b[0m\n\u001b[1;32m----> 1\u001b[1;33m \u001b[1;32mimport\u001b[0m \u001b[0munirest\u001b[0m\u001b[1;33m\u001b[0m\u001b[1;33m\u001b[0m\u001b[0m\n\u001b[0m\u001b[0;32m      2\u001b[0m \u001b[1;33m\u001b[0m\u001b[0m\n\u001b[0;32m      3\u001b[0m response = unirest.post(API_URL,\n\u001b[0;32m      4\u001b[0m   headers={\n\u001b[0;32m      5\u001b[0m     \u001b[1;34m\"X-RapidAPI-Key\"\u001b[0m\u001b[1;33m:\u001b[0m \u001b[0mAPI_KEY\u001b[0m\u001b[1;33m,\u001b[0m\u001b[1;33m\u001b[0m\u001b[1;33m\u001b[0m\u001b[0m\n",
      "\u001b[1;31mModuleNotFoundError\u001b[0m: No module named 'unirest'"
     ]
    }
   ],
   "source": [
    "import unirest\n",
    "import requests\n",
    "\n",
    "response = unirest.post(API_URL,\n",
    "  headers={\n",
    "    \"X-RapidAPI-Key\": API_KEY,\n",
    "    \"Content-Type\": \"application/x-www-form-urlencoded\"\n",
    "  },\n",
    "  params={\n",
    "    \"parameter\": \"value\"\n",
    "  }\n",
    ")\n",
    "\n",
    "response.code # The HTTP status code\n",
    "response.headers # The HTTP headers\n",
    "response.body # The parsed response\n",
    "response.raw_body # The unparsed response"
   ]
  },
  {
   "cell_type": "code",
   "execution_count": null,
   "id": "a427b63d",
   "metadata": {},
   "outputs": [],
   "source": [
    "import requests\n",
    "import json\n",
    "\n",
    "\n",
    "API_URL =\n",
    "API_KEY =\n",
    "\n",
    "r = requests.post(API_URL,\n",
    "  headers={\n",
    "    \"X-RapidAPI-Key\": API_KEY,\n",
    "    \"Content-Type\": \"application/x-www-form-urlencoded\"\n",
    "  },\n",
    "  params={\n",
    "    \"parameter\": \"value\"\n",
    "  }\n",
    ")\n",
    "\n",
    "\n"
   ]
  }
 ],
 "metadata": {
  "kernelspec": {
   "display_name": "Python 3",
   "language": "python",
   "name": "python3"
  },
  "language_info": {
   "codemirror_mode": {
    "name": "ipython",
    "version": 3
   },
   "file_extension": ".py",
   "mimetype": "text/x-python",
   "name": "python",
   "nbconvert_exporter": "python",
   "pygments_lexer": "ipython3",
   "version": "3.8.8"
  }
 },
 "nbformat": 4,
 "nbformat_minor": 5
}
