{
  "nbformat": 4,
  "nbformat_minor": 0,
  "metadata": {
    "colab": {
      "name": "aug_8",
      "provenance": []
    },
    "kernelspec": {
      "name": "python3",
      "display_name": "Python 3"
    },
    "language_info": {
      "name": "python"
    }
  },
  "cells": [
    {
      "cell_type": "code",
      "metadata": {
        "colab": {
          "base_uri": "https://localhost:8080/"
        },
        "id": "A1QJzKvqcLDY",
        "outputId": "1204e1e9-d652-4295-eec0-2899f2fe08e4"
      },
      "source": [
        "from random import randint\n",
        "values=[]\n",
        "for i in range(100):\n",
        "    x=randint(0,100)\n",
        "    values.append(x)\n",
        "print(values)\n",
        "from math import log\n",
        "observation=print(len(values))\n",
        "no_of_class_interval=(1+3.22*log(100,10))\n",
        "print(no_of_class_interval)\n",
        "varify_observation=(2**7,2**6)\n",
        "print(varify_observation)\n",
        "\n",
        "range=max(values)-min(values)\n",
        "print(range)\n",
        "size_f_clsinterval=100//no_of_class_interval\n",
        "print(size_f_clsinterval)\n",
        "a,b,c,d,e,f,g,h=0,0,0,0,0,0,0,0\n",
        "\n",
        "for i in values:\n",
        "    if i>=0 and i<=13:\n",
        "        a=a+1\n",
        "    elif i>=14 and i<=26:\n",
        "        b=b+1\n",
        "    elif i>=27 and i<=39:\n",
        "        c=c+1\n",
        "    elif i>=40 and i<=52:\n",
        "        d=d+1\n",
        "    elif i>=53 and i<=65:\n",
        "        e=e+1\n",
        "    elif i>=66 and i<=78:\n",
        "        f=f+1\n",
        "    elif i>=79 and i<=91:\n",
        "        g=g+1\n",
        "    elif i>92:\n",
        "        h=h+1\n",
        "\n",
        "interval=[1,2,3,4,5,6,7,8]\n",
        "frequency=[a,b,c,d,e,f,g,h]\n",
        "x=(interval,frequency)\n",
        "print(f\"{interval},{frequency}\")\n",
        "\n"
      ],
      "execution_count": 1,
      "outputs": [
        {
          "output_type": "stream",
          "text": [
            "[82, 67, 96, 48, 44, 14, 68, 45, 49, 79, 11, 0, 2, 16, 16, 33, 48, 7, 96, 45, 55, 20, 79, 58, 45, 35, 93, 63, 93, 55, 100, 65, 80, 95, 5, 28, 4, 46, 89, 56, 33, 57, 4, 10, 60, 41, 44, 21, 53, 70, 24, 20, 83, 69, 96, 3, 86, 60, 15, 37, 96, 40, 54, 70, 88, 100, 50, 66, 34, 12, 12, 69, 26, 97, 18, 42, 10, 56, 44, 12, 48, 24, 73, 74, 20, 82, 65, 8, 4, 75, 19, 95, 13, 46, 73, 27, 33, 97, 56, 17]\n",
            "100\n",
            "7.44\n",
            "(128, 64)\n",
            "100\n",
            "13.0\n",
            "[1, 2, 3, 4, 5, 6, 7, 8],[16, 14, 8, 16, 14, 11, 9, 12]\n"
          ],
          "name": "stdout"
        }
      ]
    },
    {
      "cell_type": "markdown",
      "metadata": {
        "id": "pf339tkicWHj"
      },
      "source": [
        "##solution2"
      ]
    },
    {
      "cell_type": "code",
      "metadata": {
        "id": "itHKGChKcZIX"
      },
      "source": [
        "from random import randint\n",
        "values=[]\n",
        "for i in range(100):\n",
        "    x=randint(0,100)\n",
        "    values.append(x)\n",
        "print(values)\n",
        "from math import log\n",
        "observation=print(len(values))\n",
        "no_of_class_interval=(1+3.22*log(100,10))\n",
        "print(no_of_class_interval)\n",
        "varify_observation=(2**7,2**6)\n",
        "print(varify_observation)\n",
        "\n",
        "range=max(values)-min(values)\n",
        "print(range)\n",
        "size_f_clsinterval=100//no_of_class_interval\n",
        "print(size_f_clsinterval)\n",
        "a,b,c,d,e,f,g,h=0,0,0,0,0,0,0,0\n",
        "\n",
        "for i in values:\n",
        "    if i>=0 and i<13:\n",
        "        a=a+1\n",
        "    elif i>=14 and i<26:\n",
        "        b=b+1\n",
        "    elif i>=27 and i<39:\n",
        "        c=c+1\n",
        "    elif i>=40 and i<52:\n",
        "        d=d+1\n",
        "    elif i>=53 and i<65:\n",
        "        e=e+1\n",
        "    elif i>=66 and i<78:\n",
        "        f=f+1\n",
        "    elif i>=79 and i<91:\n",
        "        g=g+1\n",
        "    elif i>92:\n",
        "        h=h+1\n",
        "\n",
        "interval=[1,2,3,4,5,6,7,8]\n",
        "frequency=[a,b,c,d,e,f,g,h]\n",
        "x=(interval,frequency)\n",
        "print(f\"{interval},{frequency}\")\n",
        "\n",
        "\n",
        "\n",
        "\n",
        "\n"
      ],
      "execution_count": null,
      "outputs": []
    },
    {
      "cell_type": "code",
      "metadata": {
        "id": "YuCGmAEAcfUy"
      },
      "source": [
        ""
      ],
      "execution_count": null,
      "outputs": []
    },
    {
      "cell_type": "markdown",
      "metadata": {
        "id": "BL2dCYZCcgSC"
      },
      "source": [
        ""
      ]
    }
  ]
}