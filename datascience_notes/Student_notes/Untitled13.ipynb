{
 "cells": [
  {
   "cell_type": "code",
   "execution_count": null,
   "metadata": {},
   "outputs": [],
   "source": [
    "import numpy as np\n",
    "from random import randint\n",
    "\n",
    "obser = int(input('No. of observation : '))\n",
    "n = int(input('max limit : '))\n",
    "a = [randint(1,n) for x in range(0,obser)]\n",
    "n = max(a)\n",
    "for k in range(obser):\n",
    "    if k**2 >= n:\n",
    "        break\n",
    "if n%k == 0:\n",
    "    k = n//k\n",
    "    dif = n//k\n",
    "else:\n",
    "    k = n//k+1\n",
    "    dif = (n//k)+1\n",
    "print('a ----> ',a)\n",
    "print('k ----> ',k)\n",
    "print('dif ----> ',dif)\n",
    "\n",
    "def exclusive():\n",
    "    print('Exclusive     frequency     cumulative-frequency     frequency-percentage')\n",
    "    cf = 0\n",
    "    for j in range(1,k+1):\n",
    "        print(f'{(j-1)*dif+1} - {j*dif+1}',end=' '*12)\n",
    "        count=0\n",
    "        for c in a:\n",
    "            if c>=(j-1)*dif+1 and c<j*dif+1:\n",
    "                count+=1\n",
    "        cf+=count\n",
    "        per = (count/obser)*100\n",
    "        print(count,(' '*12),cf,(' '*20),per)\n",
    "        \n",
    "def inclusive():\n",
    "    print('Inclusive     frequency     cumulative-frequency     frequency-percentage')\n",
    "    cf = 0\n",
    "    for j in range(1,k+1):\n",
    "        print(f'{(j-1)*dif+1} - {j*dif}',end=' '*12)\n",
    "        count=0\n",
    "        for c in a:\n",
    "            if c>=(j-1)*dif+1 and c<=j*dif:\n",
    "                count+=1\n",
    "        cf+=count\n",
    "        per = (count/obser)*100\n",
    "        print(count,(' '*12),cf,(' '*20),per)"
   ]
  }
 ],
 "metadata": {
  "kernelspec": {
   "display_name": "Python 3",
   "language": "python",
   "name": "python3"
  },
  "language_info": {
   "codemirror_mode": {
    "name": "ipython",
    "version": 3
   },
   "file_extension": ".py",
   "mimetype": "text/x-python",
   "name": "python",
   "nbconvert_exporter": "python",
   "pygments_lexer": "ipython3",
   "version": "3.7.3"
  }
 },
 "nbformat": 4,
 "nbformat_minor": 2
}
