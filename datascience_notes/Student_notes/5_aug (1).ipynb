{
  "nbformat": 4,
  "nbformat_minor": 0,
  "metadata": {
    "colab": {
      "name": "5 aug ",
      "provenance": []
    },
    "kernelspec": {
      "name": "python3",
      "display_name": "Python 3"
    },
    "language_info": {
      "name": "python"
    }
  },
  "cells": [
    {
      "cell_type": "code",
      "metadata": {
        "id": "wErHn5FlVX5m"
      },
      "source": [
        "\n",
        "from random import randint\n",
        "values=[]\n",
        "for i in range(100000):\n",
        "    x=randint(0,101)\n",
        "    values.append(x)\n",
        "# print(values)\n",
        "fd={}\n",
        "for x in values:\n",
        "    if x in fd:\n",
        "        fd[x]=x+1\n",
        "    else:\n",
        "        fd[x]=1\n",
        "for q,w in fd.items():\n",
        "    print(f\"value= {q}      |    frequency= {w} times\")"
      ],
      "execution_count": null,
      "outputs": []
    }
  ]
}