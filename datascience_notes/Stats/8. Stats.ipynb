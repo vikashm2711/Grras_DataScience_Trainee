{
 "cells": [
  {
   "cell_type": "code",
   "execution_count": 1,
   "metadata": {},
   "outputs": [],
   "source": [
    "import numpy as np"
   ]
  },
  {
   "cell_type": "code",
   "execution_count": 8,
   "metadata": {},
   "outputs": [],
   "source": [
    "arr = np.random.randint(40, 101, 100)"
   ]
  },
  {
   "cell_type": "code",
   "execution_count": 10,
   "metadata": {},
   "outputs": [],
   "source": [
    "arr = np.concatenate([arr, [1000, 1000, 999, 10000, -0.5]])\n",
    "np.random.shuffle(arr)"
   ]
  },
  {
   "cell_type": "code",
   "execution_count": 15,
   "metadata": {},
   "outputs": [],
   "source": [
    "l = arr.tolist()"
   ]
  },
  {
   "cell_type": "code",
   "execution_count": 17,
   "metadata": {},
   "outputs": [
    {
     "name": "stdout",
     "output_type": "stream",
     "text": [
      "[89.0, 66.0, 76.0, 65.0, 44.0, 1000.0, 1000.0, 81.0, 69.0, 55.0, 82.0, 93.0, 92.0, 82.0, 61.0, 77.0, 85.0, 63.0, 46.0, 46.0, 69.0, 88.0, 10000.0, 83.0, 1000.0, 80.0, 61.0, 46.0, 42.0, 69.0, 46.0, 98.0, 42.0, 70.0, -0.5, 93.0, 93.0, 83.0, 49.0, 77.0, 68.0, 50.0, 69.0, 60.0, 97.0, 55.0, 90.0, 48.0, 71.0, 91.0, 46.0, 54.0, 52.0, 68.0, 85.0, 89.0, 67.0, 96.0, 64.0, 59.0, 86.0, 50.0, 1000.0, 83.0, 95.0, 70.0, 999.0, 91.0, 49.0, 40.0, 52.0, 88.0, 85.0, 53.0, 100.0, 61.0, 40.0, 10000.0, 78.0, -0.5, 78.0, 75.0, 61.0, 55.0, 72.0, 75.0, 98.0, 62.0, 75.0, 47.0, 53.0, 999.0, 42.0, 81.0, 42.0, 90.0, 56.0, 94.0, 74.0, 52.0, 51.0, 55.0, 88.0, 75.0, 96.0, 58.0, 86.0, 59.0, 97.0, 62.0]\n"
     ]
    }
   ],
   "source": [
    "print(l)"
   ]
  },
  {
   "cell_type": "code",
   "execution_count": 18,
   "metadata": {},
   "outputs": [],
   "source": [
    "import json"
   ]
  },
  {
   "cell_type": "code",
   "execution_count": 22,
   "metadata": {},
   "outputs": [],
   "source": [
    "with open(\"data.txt\", 'w') as fp:\n",
    "    fp.write(str(l))"
   ]
  },
  {
   "cell_type": "code",
   "execution_count": null,
   "metadata": {},
   "outputs": [],
   "source": []
  }
 ],
 "metadata": {
  "kernelspec": {
   "display_name": "Python 3",
   "language": "python",
   "name": "python3"
  },
  "language_info": {
   "codemirror_mode": {
    "name": "ipython",
    "version": 3
   },
   "file_extension": ".py",
   "mimetype": "text/x-python",
   "name": "python",
   "nbconvert_exporter": "python",
   "pygments_lexer": "ipython3",
   "version": "3.8.5"
  }
 },
 "nbformat": 4,
 "nbformat_minor": 4
}
