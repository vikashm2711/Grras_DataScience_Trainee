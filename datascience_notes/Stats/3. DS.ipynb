{
 "cells": [
  {
   "cell_type": "raw",
   "metadata": {},
   "source": [
    "1 1 1 1 \n",
    "1     1\n",
    "1     1\n",
    "1     1\n",
    "1 1 1 1"
   ]
  },
  {
   "cell_type": "code",
   "execution_count": 2,
   "metadata": {},
   "outputs": [
    {
     "name": "stdout",
     "output_type": "stream",
     "text": [
      "\n",
      " Enter number of rows : 5\n",
      "\n",
      " Enter number of columns : 4\n",
      "1 1 1 1 \n",
      "1     1 \n",
      "1     1 \n",
      "1     1 \n",
      "1 1 1 1 \n"
     ]
    }
   ],
   "source": [
    "row = int(input(\"\\n Enter number of rows : \"))\n",
    "col = int(input(\"\\n Enter number of columns : \"))\n",
    "i = 1\n",
    "while i<=row:  # row = 5, i --> 1, 2, 3, 4, 5\n",
    "    j = 1\n",
    "    while j<=col:\n",
    "        if i == 1 or i == row: # i == row means i == 5\n",
    "            print(1, end=\" \")\n",
    "        else:\n",
    "            if j == 1 or j == col:\n",
    "                print(1, end=\" \")\n",
    "            else:\n",
    "                print(\" \", end=\" \")\n",
    "                \n",
    "        j += 1\n",
    "    print()\n",
    "    i += 1"
   ]
  },
  {
   "cell_type": "code",
   "execution_count": null,
   "metadata": {},
   "outputs": [],
   "source": []
  }
 ],
 "metadata": {
  "kernelspec": {
   "display_name": "Python 3",
   "language": "python",
   "name": "python3"
  },
  "language_info": {
   "codemirror_mode": {
    "name": "ipython",
    "version": 3
   },
   "file_extension": ".py",
   "mimetype": "text/x-python",
   "name": "python",
   "nbconvert_exporter": "python",
   "pygments_lexer": "ipython3",
   "version": "3.8.5"
  }
 },
 "nbformat": 4,
 "nbformat_minor": 4
}
