{
 "cells": [
  {
   "cell_type": "code",
   "execution_count": 96,
   "id": "464a3a36",
   "metadata": {},
   "outputs": [],
   "source": [
    "import numpy as np\n",
    "import matplotlib.pyplot as plt\n",
    "import pandas as pd"
   ]
  },
  {
   "cell_type": "code",
   "execution_count": 2,
   "id": "735e3501",
   "metadata": {},
   "outputs": [],
   "source": [
    "arr = np.random.randint(1, 10, 10)"
   ]
  },
  {
   "cell_type": "code",
   "execution_count": 3,
   "id": "ee67665e",
   "metadata": {},
   "outputs": [
    {
     "data": {
      "text/plain": [
       "array([9, 2, 8, 3, 5, 6, 1, 2, 6, 7])"
      ]
     },
     "execution_count": 3,
     "metadata": {},
     "output_type": "execute_result"
    }
   ],
   "source": [
    "arr"
   ]
  },
  {
   "cell_type": "code",
   "execution_count": 6,
   "id": "f963ee2d",
   "metadata": {},
   "outputs": [],
   "source": [
    "v = arr.view()"
   ]
  },
  {
   "cell_type": "code",
   "execution_count": 7,
   "id": "78fd6134",
   "metadata": {},
   "outputs": [],
   "source": [
    "c = arr.copy()"
   ]
  },
  {
   "cell_type": "code",
   "execution_count": 8,
   "id": "0c199e4e",
   "metadata": {},
   "outputs": [
    {
     "data": {
      "text/plain": [
       "1347821065600"
      ]
     },
     "execution_count": 8,
     "metadata": {},
     "output_type": "execute_result"
    }
   ],
   "source": [
    "id(v)"
   ]
  },
  {
   "cell_type": "code",
   "execution_count": 9,
   "id": "b5a2e356",
   "metadata": {},
   "outputs": [
    {
     "data": {
      "text/plain": [
       "1347821067440"
      ]
     },
     "execution_count": 9,
     "metadata": {},
     "output_type": "execute_result"
    }
   ],
   "source": [
    "id(arr)"
   ]
  },
  {
   "cell_type": "code",
   "execution_count": 10,
   "id": "77c949f6",
   "metadata": {},
   "outputs": [
    {
     "data": {
      "text/plain": [
       "1346877402368"
      ]
     },
     "execution_count": 10,
     "metadata": {},
     "output_type": "execute_result"
    }
   ],
   "source": [
    "id(c)"
   ]
  },
  {
   "cell_type": "code",
   "execution_count": 11,
   "id": "ce051ebd",
   "metadata": {},
   "outputs": [
    {
     "data": {
      "text/plain": [
       "dtype('int32')"
      ]
     },
     "execution_count": 11,
     "metadata": {},
     "output_type": "execute_result"
    }
   ],
   "source": [
    "arr.dtype"
   ]
  },
  {
   "cell_type": "code",
   "execution_count": 12,
   "id": "4bb1b3a9",
   "metadata": {},
   "outputs": [
    {
     "data": {
      "text/plain": [
       "array([ 8589934601, 12884901896, 25769803781,  8589934593, 30064771078],\n",
       "      dtype=int64)"
      ]
     },
     "execution_count": 12,
     "metadata": {},
     "output_type": "execute_result"
    }
   ],
   "source": [
    "arr.view(dtype=np.int64)"
   ]
  },
  {
   "cell_type": "code",
   "execution_count": 13,
   "id": "e2444ea4",
   "metadata": {},
   "outputs": [
    {
     "ename": "TypeError",
     "evalue": "'dtype' is an invalid keyword argument for copy()",
     "output_type": "error",
     "traceback": [
      "\u001b[1;31m---------------------------------------------------------------------------\u001b[0m",
      "\u001b[1;31mTypeError\u001b[0m                                 Traceback (most recent call last)",
      "\u001b[1;32m<ipython-input-13-fbce443bd990>\u001b[0m in \u001b[0;36m<module>\u001b[1;34m\u001b[0m\n\u001b[1;32m----> 1\u001b[1;33m \u001b[0marr\u001b[0m\u001b[1;33m.\u001b[0m\u001b[0mcopy\u001b[0m\u001b[1;33m(\u001b[0m\u001b[0mdtype\u001b[0m\u001b[1;33m=\u001b[0m\u001b[0mnp\u001b[0m\u001b[1;33m.\u001b[0m\u001b[0mint64\u001b[0m\u001b[1;33m)\u001b[0m\u001b[1;33m\u001b[0m\u001b[1;33m\u001b[0m\u001b[0m\n\u001b[0m",
      "\u001b[1;31mTypeError\u001b[0m: 'dtype' is an invalid keyword argument for copy()"
     ]
    }
   ],
   "source": [
    "arr.copy(dtype=np.int64)"
   ]
  },
  {
   "cell_type": "code",
   "execution_count": 15,
   "id": "ca846075",
   "metadata": {},
   "outputs": [
    {
     "name": "stdout",
     "output_type": "stream",
     "text": [
      "Help on built-in function view:\n",
      "\n",
      "view(...) method of numpy.ndarray instance\n",
      "    a.view([dtype][, type])\n",
      "    \n",
      "    New view of array with the same data.\n",
      "    \n",
      "    .. note::\n",
      "        Passing None for ``dtype`` is different from omitting the parameter,\n",
      "        since the former invokes ``dtype(None)`` which is an alias for\n",
      "        ``dtype('float_')``.\n",
      "    \n",
      "    Parameters\n",
      "    ----------\n",
      "    dtype : data-type or ndarray sub-class, optional\n",
      "        Data-type descriptor of the returned view, e.g., float32 or int16.\n",
      "        Omitting it results in the view having the same data-type as `a`.\n",
      "        This argument can also be specified as an ndarray sub-class, which\n",
      "        then specifies the type of the returned object (this is equivalent to\n",
      "        setting the ``type`` parameter).\n",
      "    type : Python type, optional\n",
      "        Type of the returned view, e.g., ndarray or matrix.  Again, omission\n",
      "        of the parameter results in type preservation.\n",
      "    \n",
      "    Notes\n",
      "    -----\n",
      "    ``a.view()`` is used two different ways:\n",
      "    \n",
      "    ``a.view(some_dtype)`` or ``a.view(dtype=some_dtype)`` constructs a view\n",
      "    of the array's memory with a different data-type.  This can cause a\n",
      "    reinterpretation of the bytes of memory.\n",
      "    \n",
      "    ``a.view(ndarray_subclass)`` or ``a.view(type=ndarray_subclass)`` just\n",
      "    returns an instance of `ndarray_subclass` that looks at the same array\n",
      "    (same shape, dtype, etc.)  This does not cause a reinterpretation of the\n",
      "    memory.\n",
      "    \n",
      "    For ``a.view(some_dtype)``, if ``some_dtype`` has a different number of\n",
      "    bytes per entry than the previous dtype (for example, converting a\n",
      "    regular array to a structured array), then the behavior of the view\n",
      "    cannot be predicted just from the superficial appearance of ``a`` (shown\n",
      "    by ``print(a)``). It also depends on exactly how ``a`` is stored in\n",
      "    memory. Therefore if ``a`` is C-ordered versus fortran-ordered, versus\n",
      "    defined as a slice or transpose, etc., the view may give different\n",
      "    results.\n",
      "    \n",
      "    \n",
      "    Examples\n",
      "    --------\n",
      "    >>> x = np.array([(1, 2)], dtype=[('a', np.int8), ('b', np.int8)])\n",
      "    \n",
      "    Viewing array data using a different type and dtype:\n",
      "    \n",
      "    >>> y = x.view(dtype=np.int16, type=np.matrix)\n",
      "    >>> y\n",
      "    matrix([[513]], dtype=int16)\n",
      "    >>> print(type(y))\n",
      "    <class 'numpy.matrix'>\n",
      "    \n",
      "    Creating a view on a structured array so it can be used in calculations\n",
      "    \n",
      "    >>> x = np.array([(1, 2),(3,4)], dtype=[('a', np.int8), ('b', np.int8)])\n",
      "    >>> xv = x.view(dtype=np.int8).reshape(-1,2)\n",
      "    >>> xv\n",
      "    array([[1, 2],\n",
      "           [3, 4]], dtype=int8)\n",
      "    >>> xv.mean(0)\n",
      "    array([2.,  3.])\n",
      "    \n",
      "    Making changes to the view changes the underlying array\n",
      "    \n",
      "    >>> xv[0,1] = 20\n",
      "    >>> x\n",
      "    array([(1, 20), (3,  4)], dtype=[('a', 'i1'), ('b', 'i1')])\n",
      "    \n",
      "    Using a view to convert an array to a recarray:\n",
      "    \n",
      "    >>> z = x.view(np.recarray)\n",
      "    >>> z.a\n",
      "    array([1, 3], dtype=int8)\n",
      "    \n",
      "    Views share data:\n",
      "    \n",
      "    >>> x[0] = (9, 10)\n",
      "    >>> z[0]\n",
      "    (9, 10)\n",
      "    \n",
      "    Views that change the dtype size (bytes per entry) should normally be\n",
      "    avoided on arrays defined by slices, transposes, fortran-ordering, etc.:\n",
      "    \n",
      "    >>> x = np.array([[1,2,3],[4,5,6]], dtype=np.int16)\n",
      "    >>> y = x[:, 0:2]\n",
      "    >>> y\n",
      "    array([[1, 2],\n",
      "           [4, 5]], dtype=int16)\n",
      "    >>> y.view(dtype=[('width', np.int16), ('length', np.int16)])\n",
      "    Traceback (most recent call last):\n",
      "        ...\n",
      "    ValueError: To change to a dtype of a different size, the array must be C-contiguous\n",
      "    >>> z = y.copy()\n",
      "    >>> z.view(dtype=[('width', np.int16), ('length', np.int16)])\n",
      "    array([[(1, 2)],\n",
      "           [(4, 5)]], dtype=[('width', '<i2'), ('length', '<i2')])\n",
      "\n"
     ]
    }
   ],
   "source": [
    "help(arr.view)"
   ]
  },
  {
   "cell_type": "code",
   "execution_count": 16,
   "id": "d39b21ab",
   "metadata": {},
   "outputs": [
    {
     "data": {
      "text/plain": [
       "matrix([[9, 2, 8, 3, 5, 6, 1, 2, 6, 7]])"
      ]
     },
     "execution_count": 16,
     "metadata": {},
     "output_type": "execute_result"
    }
   ],
   "source": [
    "arr.view(type=np.matrix)"
   ]
  },
  {
   "cell_type": "code",
   "execution_count": 17,
   "id": "a45843a3",
   "metadata": {},
   "outputs": [
    {
     "data": {
      "text/plain": [
       "array([9, 2, 8, 3, 5, 6, 1, 2, 6, 7])"
      ]
     },
     "execution_count": 17,
     "metadata": {},
     "output_type": "execute_result"
    }
   ],
   "source": [
    "arr"
   ]
  },
  {
   "cell_type": "code",
   "execution_count": 19,
   "id": "332873c6",
   "metadata": {},
   "outputs": [],
   "source": [
    "v[-1] = 17"
   ]
  },
  {
   "cell_type": "code",
   "execution_count": 20,
   "id": "26b390cb",
   "metadata": {},
   "outputs": [
    {
     "data": {
      "text/plain": [
       "array([ 9,  2,  8,  3,  5,  6,  1,  2,  6, 17])"
      ]
     },
     "execution_count": 20,
     "metadata": {},
     "output_type": "execute_result"
    }
   ],
   "source": [
    "v"
   ]
  },
  {
   "cell_type": "code",
   "execution_count": 21,
   "id": "34c07a03",
   "metadata": {},
   "outputs": [
    {
     "data": {
      "text/plain": [
       "array([ 9,  2,  8,  3,  5,  6,  1,  2,  6, 17])"
      ]
     },
     "execution_count": 21,
     "metadata": {},
     "output_type": "execute_result"
    }
   ],
   "source": [
    "arr"
   ]
  },
  {
   "cell_type": "code",
   "execution_count": 22,
   "id": "52fed6a2",
   "metadata": {},
   "outputs": [
    {
     "data": {
      "text/plain": [
       "array([9, 2, 8, 3, 5, 6, 1, 2, 6, 7])"
      ]
     },
     "execution_count": 22,
     "metadata": {},
     "output_type": "execute_result"
    }
   ],
   "source": [
    "c"
   ]
  },
  {
   "cell_type": "code",
   "execution_count": 23,
   "id": "1884f365",
   "metadata": {},
   "outputs": [
    {
     "data": {
      "text/plain": [
       "549"
      ]
     },
     "execution_count": 23,
     "metadata": {},
     "output_type": "execute_result"
    }
   ],
   "source": [
    "np.inner(arr, arr)"
   ]
  },
  {
   "cell_type": "code",
   "execution_count": 25,
   "id": "bb04ff48",
   "metadata": {},
   "outputs": [
    {
     "data": {
      "text/plain": [
       "549"
      ]
     },
     "execution_count": 25,
     "metadata": {},
     "output_type": "execute_result"
    }
   ],
   "source": [
    "sum(arr*arr)"
   ]
  },
  {
   "cell_type": "code",
   "execution_count": 28,
   "id": "b6910216",
   "metadata": {},
   "outputs": [],
   "source": [
    "a1 = arr.reshape(5, 2)"
   ]
  },
  {
   "cell_type": "code",
   "execution_count": 29,
   "id": "944d3197",
   "metadata": {},
   "outputs": [
    {
     "data": {
      "text/plain": [
       "array([[ 9,  2],\n",
       "       [ 8,  3],\n",
       "       [ 5,  6],\n",
       "       [ 1,  2],\n",
       "       [ 6, 17]])"
      ]
     },
     "execution_count": 29,
     "metadata": {},
     "output_type": "execute_result"
    }
   ],
   "source": [
    "a1"
   ]
  },
  {
   "cell_type": "code",
   "execution_count": 30,
   "id": "479c429f",
   "metadata": {},
   "outputs": [
    {
     "data": {
      "text/plain": [
       "array([[ 85,  78,  57,  13,  88],\n",
       "       [ 78,  73,  58,  14,  99],\n",
       "       [ 57,  58,  61,  17, 132],\n",
       "       [ 13,  14,  17,   5,  40],\n",
       "       [ 88,  99, 132,  40, 325]])"
      ]
     },
     "execution_count": 30,
     "metadata": {},
     "output_type": "execute_result"
    }
   ],
   "source": [
    "np.inner(a1, a1)"
   ]
  },
  {
   "cell_type": "code",
   "execution_count": 32,
   "id": "6b176153",
   "metadata": {},
   "outputs": [
    {
     "data": {
      "text/plain": [
       "array([[ 9,  2],\n",
       "       [ 8,  3],\n",
       "       [ 5,  6],\n",
       "       [ 1,  2],\n",
       "       [ 6, 17]])"
      ]
     },
     "execution_count": 32,
     "metadata": {},
     "output_type": "execute_result"
    }
   ],
   "source": [
    "a1"
   ]
  },
  {
   "cell_type": "code",
   "execution_count": 35,
   "id": "0de1b336",
   "metadata": {},
   "outputs": [
    {
     "data": {
      "text/plain": [
       "73"
      ]
     },
     "execution_count": 35,
     "metadata": {},
     "output_type": "execute_result"
    }
   ],
   "source": [
    "64+9"
   ]
  },
  {
   "cell_type": "code",
   "execution_count": 34,
   "id": "fcb07dce",
   "metadata": {},
   "outputs": [
    {
     "data": {
      "text/plain": [
       "array([[ 9,  2],\n",
       "       [ 8,  3],\n",
       "       [ 5,  6],\n",
       "       [ 1,  2],\n",
       "       [ 6, 17]])"
      ]
     },
     "execution_count": 34,
     "metadata": {},
     "output_type": "execute_result"
    }
   ],
   "source": [
    "a1"
   ]
  },
  {
   "cell_type": "code",
   "execution_count": 36,
   "id": "ac372c41",
   "metadata": {},
   "outputs": [
    {
     "data": {
      "text/plain": [
       "61"
      ]
     },
     "execution_count": 36,
     "metadata": {},
     "output_type": "execute_result"
    }
   ],
   "source": [
    "25+36"
   ]
  },
  {
   "cell_type": "code",
   "execution_count": 37,
   "id": "090912fe",
   "metadata": {},
   "outputs": [
    {
     "name": "stdout",
     "output_type": "stream",
     "text": [
      "Help on function outer in module numpy:\n",
      "\n",
      "outer(a, b, out=None)\n",
      "    Compute the outer product of two vectors.\n",
      "    \n",
      "    Given two vectors, ``a = [a0, a1, ..., aM]`` and\n",
      "    ``b = [b0, b1, ..., bN]``,\n",
      "    the outer product [1]_ is::\n",
      "    \n",
      "      [[a0*b0  a0*b1 ... a0*bN ]\n",
      "       [a1*b0    .\n",
      "       [ ...          .\n",
      "       [aM*b0            aM*bN ]]\n",
      "    \n",
      "    Parameters\n",
      "    ----------\n",
      "    a : (M,) array_like\n",
      "        First input vector.  Input is flattened if\n",
      "        not already 1-dimensional.\n",
      "    b : (N,) array_like\n",
      "        Second input vector.  Input is flattened if\n",
      "        not already 1-dimensional.\n",
      "    out : (M, N) ndarray, optional\n",
      "        A location where the result is stored\n",
      "    \n",
      "        .. versionadded:: 1.9.0\n",
      "    \n",
      "    Returns\n",
      "    -------\n",
      "    out : (M, N) ndarray\n",
      "        ``out[i, j] = a[i] * b[j]``\n",
      "    \n",
      "    See also\n",
      "    --------\n",
      "    inner\n",
      "    einsum : ``einsum('i,j->ij', a.ravel(), b.ravel())`` is the equivalent.\n",
      "    ufunc.outer : A generalization to dimensions other than 1D and other\n",
      "                  operations. ``np.multiply.outer(a.ravel(), b.ravel())``\n",
      "                  is the equivalent.\n",
      "    tensordot : ``np.tensordot(a.ravel(), b.ravel(), axes=((), ()))``\n",
      "                is the equivalent.\n",
      "    \n",
      "    References\n",
      "    ----------\n",
      "    .. [1] : G. H. Golub and C. F. Van Loan, *Matrix Computations*, 3rd\n",
      "             ed., Baltimore, MD, Johns Hopkins University Press, 1996,\n",
      "             pg. 8.\n",
      "    \n",
      "    Examples\n",
      "    --------\n",
      "    Make a (*very* coarse) grid for computing a Mandelbrot set:\n",
      "    \n",
      "    >>> rl = np.outer(np.ones((5,)), np.linspace(-2, 2, 5))\n",
      "    >>> rl\n",
      "    array([[-2., -1.,  0.,  1.,  2.],\n",
      "           [-2., -1.,  0.,  1.,  2.],\n",
      "           [-2., -1.,  0.,  1.,  2.],\n",
      "           [-2., -1.,  0.,  1.,  2.],\n",
      "           [-2., -1.,  0.,  1.,  2.]])\n",
      "    >>> im = np.outer(1j*np.linspace(2, -2, 5), np.ones((5,)))\n",
      "    >>> im\n",
      "    array([[0.+2.j, 0.+2.j, 0.+2.j, 0.+2.j, 0.+2.j],\n",
      "           [0.+1.j, 0.+1.j, 0.+1.j, 0.+1.j, 0.+1.j],\n",
      "           [0.+0.j, 0.+0.j, 0.+0.j, 0.+0.j, 0.+0.j],\n",
      "           [0.-1.j, 0.-1.j, 0.-1.j, 0.-1.j, 0.-1.j],\n",
      "           [0.-2.j, 0.-2.j, 0.-2.j, 0.-2.j, 0.-2.j]])\n",
      "    >>> grid = rl + im\n",
      "    >>> grid\n",
      "    array([[-2.+2.j, -1.+2.j,  0.+2.j,  1.+2.j,  2.+2.j],\n",
      "           [-2.+1.j, -1.+1.j,  0.+1.j,  1.+1.j,  2.+1.j],\n",
      "           [-2.+0.j, -1.+0.j,  0.+0.j,  1.+0.j,  2.+0.j],\n",
      "           [-2.-1.j, -1.-1.j,  0.-1.j,  1.-1.j,  2.-1.j],\n",
      "           [-2.-2.j, -1.-2.j,  0.-2.j,  1.-2.j,  2.-2.j]])\n",
      "    \n",
      "    An example using a \"vector\" of letters:\n",
      "    \n",
      "    >>> x = np.array(['a', 'b', 'c'], dtype=object)\n",
      "    >>> np.outer(x, [1, 2, 3])\n",
      "    array([['a', 'aa', 'aaa'],\n",
      "           ['b', 'bb', 'bbb'],\n",
      "           ['c', 'cc', 'ccc']], dtype=object)\n",
      "\n"
     ]
    }
   ],
   "source": [
    "help(np.outer)"
   ]
  },
  {
   "cell_type": "code",
   "execution_count": 38,
   "id": "806cb7b1",
   "metadata": {},
   "outputs": [],
   "source": [
    "arr1 = np.array([[1, 2], [3, 4]])\n",
    "arr2 = arr1.copy()"
   ]
  },
  {
   "cell_type": "code",
   "execution_count": 39,
   "id": "79209a87",
   "metadata": {},
   "outputs": [
    {
     "data": {
      "text/plain": [
       "array([[ 1,  2,  3,  4],\n",
       "       [ 2,  4,  6,  8],\n",
       "       [ 3,  6,  9, 12],\n",
       "       [ 4,  8, 12, 16]])"
      ]
     },
     "execution_count": 39,
     "metadata": {},
     "output_type": "execute_result"
    }
   ],
   "source": [
    "np.outer(arr1, arr2)"
   ]
  },
  {
   "cell_type": "code",
   "execution_count": 41,
   "id": "ae3b16e2",
   "metadata": {},
   "outputs": [
    {
     "data": {
      "text/plain": [
       "array([[1, 2],\n",
       "       [3, 4]])"
      ]
     },
     "execution_count": 41,
     "metadata": {},
     "output_type": "execute_result"
    }
   ],
   "source": [
    "arr1"
   ]
  },
  {
   "cell_type": "code",
   "execution_count": 42,
   "id": "287242d8",
   "metadata": {},
   "outputs": [
    {
     "data": {
      "text/plain": [
       "array([[1, 2],\n",
       "       [3, 4]])"
      ]
     },
     "execution_count": 42,
     "metadata": {},
     "output_type": "execute_result"
    }
   ],
   "source": [
    "arr1"
   ]
  },
  {
   "cell_type": "code",
   "execution_count": 43,
   "id": "5bba529f",
   "metadata": {},
   "outputs": [
    {
     "data": {
      "text/plain": [
       "array([-1.        , -0.89473684, -0.78947368, -0.68421053, -0.57894737,\n",
       "       -0.47368421, -0.36842105, -0.26315789, -0.15789474, -0.05263158,\n",
       "        0.05263158,  0.15789474,  0.26315789,  0.36842105,  0.47368421,\n",
       "        0.57894737,  0.68421053,  0.78947368,  0.89473684,  1.        ])"
      ]
     },
     "execution_count": 43,
     "metadata": {},
     "output_type": "execute_result"
    }
   ],
   "source": [
    "np.linspace(-1, 1, 20)"
   ]
  },
  {
   "cell_type": "code",
   "execution_count": 44,
   "id": "1fa36059",
   "metadata": {},
   "outputs": [
    {
     "ename": "TypeError",
     "evalue": "'tuple' object cannot be interpreted as an integer",
     "output_type": "error",
     "traceback": [
      "\u001b[1;31m---------------------------------------------------------------------------\u001b[0m",
      "\u001b[1;31mTypeError\u001b[0m                                 Traceback (most recent call last)",
      "\u001b[1;32m<ipython-input-44-1b5b598222fd>\u001b[0m in \u001b[0;36m<module>\u001b[1;34m\u001b[0m\n\u001b[1;32m----> 1\u001b[1;33m \u001b[0mnp\u001b[0m\u001b[1;33m.\u001b[0m\u001b[0mlinspace\u001b[0m\u001b[1;33m(\u001b[0m\u001b[1;33m-\u001b[0m\u001b[1;36m1\u001b[0m\u001b[1;33m,\u001b[0m \u001b[1;36m1\u001b[0m\u001b[1;33m,\u001b[0m \u001b[1;33m(\u001b[0m\u001b[1;36m5\u001b[0m\u001b[1;33m,\u001b[0m \u001b[1;36m5\u001b[0m\u001b[1;33m)\u001b[0m\u001b[1;33m)\u001b[0m\u001b[1;33m\u001b[0m\u001b[1;33m\u001b[0m\u001b[0m\n\u001b[0m",
      "\u001b[1;32m<__array_function__ internals>\u001b[0m in \u001b[0;36mlinspace\u001b[1;34m(*args, **kwargs)\u001b[0m\n",
      "\u001b[1;32mC:\\Anaconda\\lib\\site-packages\\numpy\\core\\function_base.py\u001b[0m in \u001b[0;36mlinspace\u001b[1;34m(start, stop, num, endpoint, retstep, dtype, axis)\u001b[0m\n\u001b[0;32m    111\u001b[0m \u001b[1;33m\u001b[0m\u001b[0m\n\u001b[0;32m    112\u001b[0m     \"\"\"\n\u001b[1;32m--> 113\u001b[1;33m     \u001b[0mnum\u001b[0m \u001b[1;33m=\u001b[0m \u001b[0moperator\u001b[0m\u001b[1;33m.\u001b[0m\u001b[0mindex\u001b[0m\u001b[1;33m(\u001b[0m\u001b[0mnum\u001b[0m\u001b[1;33m)\u001b[0m\u001b[1;33m\u001b[0m\u001b[1;33m\u001b[0m\u001b[0m\n\u001b[0m\u001b[0;32m    114\u001b[0m     \u001b[1;32mif\u001b[0m \u001b[0mnum\u001b[0m \u001b[1;33m<\u001b[0m \u001b[1;36m0\u001b[0m\u001b[1;33m:\u001b[0m\u001b[1;33m\u001b[0m\u001b[1;33m\u001b[0m\u001b[0m\n\u001b[0;32m    115\u001b[0m         \u001b[1;32mraise\u001b[0m \u001b[0mValueError\u001b[0m\u001b[1;33m(\u001b[0m\u001b[1;34m\"Number of samples, %s, must be non-negative.\"\u001b[0m \u001b[1;33m%\u001b[0m \u001b[0mnum\u001b[0m\u001b[1;33m)\u001b[0m\u001b[1;33m\u001b[0m\u001b[1;33m\u001b[0m\u001b[0m\n",
      "\u001b[1;31mTypeError\u001b[0m: 'tuple' object cannot be interpreted as an integer"
     ]
    }
   ],
   "source": [
    "np.linspace(-1, 1, (5, 5))"
   ]
  },
  {
   "cell_type": "code",
   "execution_count": 47,
   "id": "c2c134c7",
   "metadata": {},
   "outputs": [
    {
     "data": {
      "text/plain": [
       "array([[-1.        , -0.91666667, -0.83333333, -0.75      , -0.66666667],\n",
       "       [-0.58333333, -0.5       , -0.41666667, -0.33333333, -0.25      ],\n",
       "       [-0.16666667, -0.08333333,  0.        ,  0.08333333,  0.16666667],\n",
       "       [ 0.25      ,  0.33333333,  0.41666667,  0.5       ,  0.58333333],\n",
       "       [ 0.66666667,  0.75      ,  0.83333333,  0.91666667,  1.        ]])"
      ]
     },
     "execution_count": 47,
     "metadata": {},
     "output_type": "execute_result"
    }
   ],
   "source": [
    "np.linspace(-1, 1, 25).reshape(5, 5)"
   ]
  },
  {
   "cell_type": "code",
   "execution_count": 50,
   "id": "c9df55ea",
   "metadata": {},
   "outputs": [],
   "source": [
    "degree = np.arange(0, 361, 15)"
   ]
  },
  {
   "cell_type": "code",
   "execution_count": 51,
   "id": "dcf3dc86",
   "metadata": {},
   "outputs": [
    {
     "data": {
      "text/plain": [
       "array([  0,  15,  30,  45,  60,  75,  90, 105, 120, 135, 150, 165, 180,\n",
       "       195, 210, 225, 240, 255, 270, 285, 300, 315, 330, 345, 360])"
      ]
     },
     "execution_count": 51,
     "metadata": {},
     "output_type": "execute_result"
    }
   ],
   "source": [
    "degree"
   ]
  },
  {
   "cell_type": "code",
   "execution_count": 53,
   "id": "ee4ccff2",
   "metadata": {},
   "outputs": [],
   "source": [
    "sin = np.sin(degree)"
   ]
  },
  {
   "cell_type": "code",
   "execution_count": 55,
   "id": "0280c973",
   "metadata": {},
   "outputs": [],
   "source": [
    "cos = np.cos(degree)"
   ]
  },
  {
   "cell_type": "code",
   "execution_count": 57,
   "id": "7d06ba7a",
   "metadata": {},
   "outputs": [
    {
     "data": {
      "text/plain": [
       "[<matplotlib.lines.Line2D at 0x139db32a2b0>]"
      ]
     },
     "execution_count": 57,
     "metadata": {},
     "output_type": "execute_result"
    },
    {
     "data": {
      "image/png": "[encoded data removed]",
      "text/plain": [
       "<Figure size 432x288 with 1 Axes>"
      ]
     },
     "metadata": {
      "needs_background": "light"
     },
     "output_type": "display_data"
    }
   ],
   "source": [
    "plt.plot(degree, sin)"
   ]
  },
  {
   "cell_type": "code",
   "execution_count": 58,
   "id": "3d7836f7",
   "metadata": {},
   "outputs": [
    {
     "data": {
      "text/plain": [
       "[<matplotlib.lines.Line2D at 0x139db413430>]"
      ]
     },
     "execution_count": 58,
     "metadata": {},
     "output_type": "execute_result"
    },
    {
     "data": {
      "image/png": "[encoded data removed]",
      "text/plain": [
       "<Figure size 432x288 with 1 Axes>"
      ]
     },
     "metadata": {
      "needs_background": "light"
     },
     "output_type": "display_data"
    }
   ],
   "source": [
    "plt.plot(degree, cos)"
   ]
  },
  {
   "cell_type": "code",
   "execution_count": 60,
   "id": "2515cc21",
   "metadata": {},
   "outputs": [],
   "source": [
    "rad = np.deg2rad(degree)"
   ]
  },
  {
   "cell_type": "code",
   "execution_count": 61,
   "id": "64c6d7a3",
   "metadata": {},
   "outputs": [],
   "source": [
    "sin = np.sin(rad)\n",
    "cos = np.cos(rad)"
   ]
  },
  {
   "cell_type": "code",
   "execution_count": 67,
   "id": "c1b7deaf",
   "metadata": {},
   "outputs": [
    {
     "data": {
      "image/png": "[encoded data removed]",
      "text/plain": [
       "<Figure size 792x360 with 1 Axes>"
      ]
     },
     "metadata": {
      "needs_background": "light"
     },
     "output_type": "display_data"
    }
   ],
   "source": [
    "plt.figure(figsize=(11, 5))\n",
    "plt.plot(rad, sin, label=\"SIN(X)\")\n",
    "plt.plot(rad, cos, label=\"COS(X)\")\n",
    "plt.plot([0, 6.5], [0, 0], 'm--')\n",
    "plt.legend()\n",
    "plt.show()"
   ]
  },
  {
   "cell_type": "code",
   "execution_count": 69,
   "id": "2d6973d3",
   "metadata": {},
   "outputs": [
    {
     "data": {
      "text/plain": [
       "6.283185307179586"
      ]
     },
     "execution_count": 69,
     "metadata": {},
     "output_type": "execute_result"
    }
   ],
   "source": [
    "2*np.pi  # 360"
   ]
  },
  {
   "cell_type": "code",
   "execution_count": 71,
   "id": "100bdf14",
   "metadata": {},
   "outputs": [
    {
     "data": {
      "image/png": "[encoded data removed]",
      "text/plain": [
       "<Figure size 792x360 with 1 Axes>"
      ]
     },
     "metadata": {
      "needs_background": "light"
     },
     "output_type": "display_data"
    }
   ],
   "source": [
    "plt.figure(figsize=(11, 5))\n",
    "plt.plot(rad, sin, label=\"SIN(X)\")\n",
    "plt.plot(rad, cos, label=\"COS(X)\")\n",
    "plt.plot([0, 6.5], [0, 0], 'm--')\n",
    "plt.tick_params(labelcolor=\"red\")\n",
    "plt.legend()\n",
    "plt.grid()\n",
    "plt.show()"
   ]
  },
  {
   "cell_type": "code",
   "execution_count": 72,
   "id": "e72a8f3a",
   "metadata": {},
   "outputs": [
    {
     "data": {
      "text/plain": [
       "array([0.        , 0.26179939, 0.52359878, 0.78539816, 1.04719755,\n",
       "       1.30899694, 1.57079633, 1.83259571, 2.0943951 , 2.35619449,\n",
       "       2.61799388, 2.87979327, 3.14159265, 3.40339204, 3.66519143,\n",
       "       3.92699082, 4.1887902 , 4.45058959, 4.71238898, 4.97418837,\n",
       "       5.23598776, 5.49778714, 5.75958653, 6.02138592, 6.28318531])"
      ]
     },
     "execution_count": 72,
     "metadata": {},
     "output_type": "execute_result"
    }
   ],
   "source": [
    "rad"
   ]
  },
  {
   "cell_type": "code",
   "execution_count": 73,
   "id": "80ed1463",
   "metadata": {},
   "outputs": [
    {
     "data": {
      "text/plain": [
       "array([  0.,  15.,  30.,  45.,  60.,  75.,  90., 105., 120., 135., 150.,\n",
       "       165., 180., 195., 210., 225., 240., 255., 270., 285., 300., 315.,\n",
       "       330., 345., 360.])"
      ]
     },
     "execution_count": 73,
     "metadata": {},
     "output_type": "execute_result"
    }
   ],
   "source": [
    "np.rad2deg(rad)"
   ]
  },
  {
   "cell_type": "code",
   "execution_count": 75,
   "id": "2ef6340e",
   "metadata": {},
   "outputs": [
    {
     "data": {
      "text/plain": [
       "array([  0,  15,  30,  45,  60,  75,  90, 105, 120, 135, 150, 165, 180,\n",
       "       195, 210, 225, 240, 255, 270, 285, 300, 315, 330, 345, 360])"
      ]
     },
     "execution_count": 75,
     "metadata": {},
     "output_type": "execute_result"
    }
   ],
   "source": [
    "degree"
   ]
  },
  {
   "cell_type": "code",
   "execution_count": 78,
   "id": "057b0278",
   "metadata": {},
   "outputs": [
    {
     "data": {
      "text/plain": [
       "[<matplotlib.lines.Line2D at 0x139db748d30>]"
      ]
     },
     "execution_count": 78,
     "metadata": {},
     "output_type": "execute_result"
    },
    {
     "data": {
      "image/png": "[encoded data removed]",
      "text/plain": [
       "<Figure size 432x288 with 1 Axes>"
      ]
     },
     "metadata": {
      "needs_background": "light"
     },
     "output_type": "display_data"
    }
   ],
   "source": [
    "tan = np.tan(rad)\n",
    "plt.plot(rad, tan, 'r--')"
   ]
  },
  {
   "cell_type": "code",
   "execution_count": 79,
   "id": "ce043a58",
   "metadata": {},
   "outputs": [],
   "source": [
    "f1 = np.random.randint(20, 60, 10)\n",
    "f2 = np.random.randint(10, 60, 10)\n",
    "f3 = np.random.randint(5, 40, 10)\n",
    "f4 = np.random.randint(20, 70, 10)"
   ]
  },
  {
   "cell_type": "code",
   "execution_count": 80,
   "id": "1ae53dbb",
   "metadata": {},
   "outputs": [
    {
     "data": {
      "text/plain": [
       "array([24, 41, 48, 41, 21, 46, 46, 34, 24, 49])"
      ]
     },
     "execution_count": 80,
     "metadata": {},
     "output_type": "execute_result"
    }
   ],
   "source": [
    "f1"
   ]
  },
  {
   "cell_type": "code",
   "execution_count": 81,
   "id": "a7ae16de",
   "metadata": {},
   "outputs": [
    {
     "data": {
      "text/plain": [
       "array([11, 17, 44, 29, 17, 20, 30, 15, 25, 23])"
      ]
     },
     "execution_count": 81,
     "metadata": {},
     "output_type": "execute_result"
    }
   ],
   "source": [
    "f2"
   ]
  },
  {
   "cell_type": "code",
   "execution_count": 82,
   "id": "bb10f640",
   "metadata": {},
   "outputs": [
    {
     "data": {
      "text/plain": [
       "array([ 9, 18, 22, 17, 35, 25, 34, 28, 37, 10])"
      ]
     },
     "execution_count": 82,
     "metadata": {},
     "output_type": "execute_result"
    }
   ],
   "source": [
    "f3"
   ]
  },
  {
   "cell_type": "code",
   "execution_count": 83,
   "id": "29a498b7",
   "metadata": {},
   "outputs": [
    {
     "data": {
      "text/plain": [
       "array([40, 36, 52, 68, 24, 36, 36, 59, 32, 43])"
      ]
     },
     "execution_count": 83,
     "metadata": {},
     "output_type": "execute_result"
    }
   ],
   "source": [
    "f4"
   ]
  },
  {
   "cell_type": "code",
   "execution_count": 84,
   "id": "0b2cfc66",
   "metadata": {},
   "outputs": [
    {
     "data": {
      "text/plain": [
       "array([[24, 41, 48, 41, 21, 46, 46, 34, 24, 49],\n",
       "       [11, 17, 44, 29, 17, 20, 30, 15, 25, 23],\n",
       "       [ 9, 18, 22, 17, 35, 25, 34, 28, 37, 10],\n",
       "       [40, 36, 52, 68, 24, 36, 36, 59, 32, 43]])"
      ]
     },
     "execution_count": 84,
     "metadata": {},
     "output_type": "execute_result"
    }
   ],
   "source": [
    "np.row_stack([f1, f2, f3, f4])"
   ]
  },
  {
   "cell_type": "code",
   "execution_count": 89,
   "id": "0f41c608",
   "metadata": {},
   "outputs": [
    {
     "data": {
      "text/plain": [
       "array([9, 2, 8, 3, 5])"
      ]
     },
     "execution_count": 89,
     "metadata": {},
     "output_type": "execute_result"
    }
   ],
   "source": [
    "arr[:5]"
   ]
  },
  {
   "cell_type": "code",
   "execution_count": 90,
   "id": "cb9e5ed1",
   "metadata": {},
   "outputs": [
    {
     "ename": "ValueError",
     "evalue": "all the input array dimensions for the concatenation axis must match exactly, but along dimension 1, the array at index 0 has size 10 and the array at index 3 has size 5",
     "output_type": "error",
     "traceback": [
      "\u001b[1;31m---------------------------------------------------------------------------\u001b[0m",
      "\u001b[1;31mValueError\u001b[0m                                Traceback (most recent call last)",
      "\u001b[1;32m<ipython-input-90-a16e555fd998>\u001b[0m in \u001b[0;36m<module>\u001b[1;34m\u001b[0m\n\u001b[1;32m----> 1\u001b[1;33m \u001b[0mnp\u001b[0m\u001b[1;33m.\u001b[0m\u001b[0mrow_stack\u001b[0m\u001b[1;33m(\u001b[0m\u001b[1;33m[\u001b[0m\u001b[0mf1\u001b[0m\u001b[1;33m,\u001b[0m \u001b[0mf2\u001b[0m\u001b[1;33m,\u001b[0m \u001b[0mf3\u001b[0m\u001b[1;33m,\u001b[0m \u001b[0mf4\u001b[0m\u001b[1;33m[\u001b[0m\u001b[1;33m:\u001b[0m\u001b[1;36m5\u001b[0m\u001b[1;33m]\u001b[0m\u001b[1;33m]\u001b[0m\u001b[1;33m)\u001b[0m\u001b[1;33m\u001b[0m\u001b[1;33m\u001b[0m\u001b[0m\n\u001b[0m",
      "\u001b[1;32m<__array_function__ internals>\u001b[0m in \u001b[0;36mvstack\u001b[1;34m(*args, **kwargs)\u001b[0m\n",
      "\u001b[1;32mC:\\Anaconda\\lib\\site-packages\\numpy\\core\\shape_base.py\u001b[0m in \u001b[0;36mvstack\u001b[1;34m(tup)\u001b[0m\n\u001b[0;32m    281\u001b[0m     \u001b[1;32mif\u001b[0m \u001b[1;32mnot\u001b[0m \u001b[0misinstance\u001b[0m\u001b[1;33m(\u001b[0m\u001b[0marrs\u001b[0m\u001b[1;33m,\u001b[0m \u001b[0mlist\u001b[0m\u001b[1;33m)\u001b[0m\u001b[1;33m:\u001b[0m\u001b[1;33m\u001b[0m\u001b[1;33m\u001b[0m\u001b[0m\n\u001b[0;32m    282\u001b[0m         \u001b[0marrs\u001b[0m \u001b[1;33m=\u001b[0m \u001b[1;33m[\u001b[0m\u001b[0marrs\u001b[0m\u001b[1;33m]\u001b[0m\u001b[1;33m\u001b[0m\u001b[1;33m\u001b[0m\u001b[0m\n\u001b[1;32m--> 283\u001b[1;33m     \u001b[1;32mreturn\u001b[0m \u001b[0m_nx\u001b[0m\u001b[1;33m.\u001b[0m\u001b[0mconcatenate\u001b[0m\u001b[1;33m(\u001b[0m\u001b[0marrs\u001b[0m\u001b[1;33m,\u001b[0m \u001b[1;36m0\u001b[0m\u001b[1;33m)\u001b[0m\u001b[1;33m\u001b[0m\u001b[1;33m\u001b[0m\u001b[0m\n\u001b[0m\u001b[0;32m    284\u001b[0m \u001b[1;33m\u001b[0m\u001b[0m\n\u001b[0;32m    285\u001b[0m \u001b[1;33m\u001b[0m\u001b[0m\n",
      "\u001b[1;32m<__array_function__ internals>\u001b[0m in \u001b[0;36mconcatenate\u001b[1;34m(*args, **kwargs)\u001b[0m\n",
      "\u001b[1;31mValueError\u001b[0m: all the input array dimensions for the concatenation axis must match exactly, but along dimension 1, the array at index 0 has size 10 and the array at index 3 has size 5"
     ]
    }
   ],
   "source": [
    "np.row_stack([f1, f2, f3, f4[:5]])"
   ]
  },
  {
   "cell_type": "code",
   "execution_count": 91,
   "id": "2999ddc3",
   "metadata": {},
   "outputs": [
    {
     "data": {
      "text/plain": [
       "array([[24, 11,  9, 40],\n",
       "       [41, 17, 18, 36],\n",
       "       [48, 44, 22, 52],\n",
       "       [41, 29, 17, 68],\n",
       "       [21, 17, 35, 24],\n",
       "       [46, 20, 25, 36],\n",
       "       [46, 30, 34, 36],\n",
       "       [34, 15, 28, 59],\n",
       "       [24, 25, 37, 32],\n",
       "       [49, 23, 10, 43]])"
      ]
     },
     "execution_count": 91,
     "metadata": {},
     "output_type": "execute_result"
    }
   ],
   "source": [
    "np.column_stack([f1, f2, f3, f4])"
   ]
  },
  {
   "cell_type": "code",
   "execution_count": 93,
   "id": "fa063a45",
   "metadata": {},
   "outputs": [
    {
     "data": {
      "text/plain": [
       "array([[ 9,  2,  9,  2],\n",
       "       [ 8,  3,  8,  3],\n",
       "       [ 5,  6,  5,  6],\n",
       "       [ 1,  2,  1,  2],\n",
       "       [ 6, 17,  6, 17]])"
      ]
     },
     "execution_count": 93,
     "metadata": {},
     "output_type": "execute_result"
    }
   ],
   "source": [
    "np.column_stack([a1, a1])"
   ]
  },
  {
   "cell_type": "code",
   "execution_count": 94,
   "id": "a5dfe19d",
   "metadata": {},
   "outputs": [
    {
     "data": {
      "text/plain": [
       "array([[ 9,  2],\n",
       "       [ 8,  3],\n",
       "       [ 5,  6],\n",
       "       [ 1,  2],\n",
       "       [ 6, 17],\n",
       "       [ 9,  2],\n",
       "       [ 8,  3],\n",
       "       [ 5,  6],\n",
       "       [ 1,  2],\n",
       "       [ 6, 17]])"
      ]
     },
     "execution_count": 94,
     "metadata": {},
     "output_type": "execute_result"
    }
   ],
   "source": [
    "np.row_stack([a1, a1])"
   ]
  },
  {
   "cell_type": "code",
   "execution_count": 97,
   "id": "f7f8ca00",
   "metadata": {},
   "outputs": [],
   "source": [
    "r = np.row_stack([f1, f2, f3, f4])"
   ]
  },
  {
   "cell_type": "code",
   "execution_count": 101,
   "id": "498b23a1",
   "metadata": {},
   "outputs": [],
   "source": [
    "df = pd.DataFrame(r, index=['f1', 'f2', 'f3', 'f4'], columns=range(1, 11))"
   ]
  },
  {
   "cell_type": "code",
   "execution_count": 102,
   "id": "e293b2aa",
   "metadata": {},
   "outputs": [
    {
     "data": {
      "text/html": [
       "<div>\n",
       "<style scoped>\n",
       "    .dataframe tbody tr th:only-of-type {\n",
       "        vertical-align: middle;\n",
       "    }\n",
       "\n",
       "    .dataframe tbody tr th {\n",
       "        vertical-align: top;\n",
       "    }\n",
       "\n",
       "    .dataframe thead th {\n",
       "        text-align: right;\n",
       "    }\n",
       "</style>\n",
       "<table border=\"1\" class=\"dataframe\">\n",
       "  <thead>\n",
       "    <tr style=\"text-align: right;\">\n",
       "      <th></th>\n",
       "      <th>1</th>\n",
       "      <th>2</th>\n",
       "      <th>3</th>\n",
       "      <th>4</th>\n",
       "      <th>5</th>\n",
       "      <th>6</th>\n",
       "      <th>7</th>\n",
       "      <th>8</th>\n",
       "      <th>9</th>\n",
       "      <th>10</th>\n",
       "    </tr>\n",
       "  </thead>\n",
       "  <tbody>\n",
       "    <tr>\n",
       "      <th>f1</th>\n",
       "      <td>24</td>\n",
       "      <td>41</td>\n",
       "      <td>48</td>\n",
       "      <td>41</td>\n",
       "      <td>21</td>\n",
       "      <td>46</td>\n",
       "      <td>46</td>\n",
       "      <td>34</td>\n",
       "      <td>24</td>\n",
       "      <td>49</td>\n",
       "    </tr>\n",
       "    <tr>\n",
       "      <th>f2</th>\n",
       "      <td>11</td>\n",
       "      <td>17</td>\n",
       "      <td>44</td>\n",
       "      <td>29</td>\n",
       "      <td>17</td>\n",
       "      <td>20</td>\n",
       "      <td>30</td>\n",
       "      <td>15</td>\n",
       "      <td>25</td>\n",
       "      <td>23</td>\n",
       "    </tr>\n",
       "    <tr>\n",
       "      <th>f3</th>\n",
       "      <td>9</td>\n",
       "      <td>18</td>\n",
       "      <td>22</td>\n",
       "      <td>17</td>\n",
       "      <td>35</td>\n",
       "      <td>25</td>\n",
       "      <td>34</td>\n",
       "      <td>28</td>\n",
       "      <td>37</td>\n",
       "      <td>10</td>\n",
       "    </tr>\n",
       "    <tr>\n",
       "      <th>f4</th>\n",
       "      <td>40</td>\n",
       "      <td>36</td>\n",
       "      <td>52</td>\n",
       "      <td>68</td>\n",
       "      <td>24</td>\n",
       "      <td>36</td>\n",
       "      <td>36</td>\n",
       "      <td>59</td>\n",
       "      <td>32</td>\n",
       "      <td>43</td>\n",
       "    </tr>\n",
       "  </tbody>\n",
       "</table>\n",
       "</div>"
      ],
      "text/plain": [
       "    1   2   3   4   5   6   7   8   9   10\n",
       "f1  24  41  48  41  21  46  46  34  24  49\n",
       "f2  11  17  44  29  17  20  30  15  25  23\n",
       "f3   9  18  22  17  35  25  34  28  37  10\n",
       "f4  40  36  52  68  24  36  36  59  32  43"
      ]
     },
     "execution_count": 102,
     "metadata": {},
     "output_type": "execute_result"
    }
   ],
   "source": [
    "df"
   ]
  },
  {
   "cell_type": "code",
   "execution_count": 103,
   "id": "a326d680",
   "metadata": {},
   "outputs": [
    {
     "data": {
      "text/plain": [
       "array([[24, 41, 48, 41, 21, 46, 46, 34, 24, 49],\n",
       "       [11, 17, 44, 29, 17, 20, 30, 15, 25, 23],\n",
       "       [ 9, 18, 22, 17, 35, 25, 34, 28, 37, 10],\n",
       "       [40, 36, 52, 68, 24, 36, 36, 59, 32, 43]])"
      ]
     },
     "execution_count": 103,
     "metadata": {},
     "output_type": "execute_result"
    }
   ],
   "source": [
    "r"
   ]
  },
  {
   "cell_type": "code",
   "execution_count": 104,
   "id": "aa6a43dc",
   "metadata": {},
   "outputs": [],
   "source": [
    "## maximum and minimum age from every family"
   ]
  },
  {
   "cell_type": "code",
   "execution_count": 106,
   "id": "fcfc205d",
   "metadata": {},
   "outputs": [
    {
     "data": {
      "text/plain": [
       "68"
      ]
     },
     "execution_count": 106,
     "metadata": {},
     "output_type": "execute_result"
    }
   ],
   "source": [
    "r.max()"
   ]
  },
  {
   "cell_type": "code",
   "execution_count": 107,
   "id": "f34b83a1",
   "metadata": {},
   "outputs": [
    {
     "data": {
      "text/plain": [
       "array([40, 41, 52, 68, 35, 46, 46, 59, 37, 49])"
      ]
     },
     "execution_count": 107,
     "metadata": {},
     "output_type": "execute_result"
    }
   ],
   "source": [
    "r.max(axis=0)"
   ]
  },
  {
   "cell_type": "code",
   "execution_count": 108,
   "id": "2bdd5abd",
   "metadata": {},
   "outputs": [
    {
     "data": {
      "text/plain": [
       "array([49, 44, 37, 68])"
      ]
     },
     "execution_count": 108,
     "metadata": {},
     "output_type": "execute_result"
    }
   ],
   "source": [
    "r.max(axis=1)"
   ]
  },
  {
   "cell_type": "code",
   "execution_count": 110,
   "id": "b3b0a7a3",
   "metadata": {},
   "outputs": [
    {
     "ename": "IndexError",
     "evalue": "index 68 is out of bounds for axis 0 with size 4",
     "output_type": "error",
     "traceback": [
      "\u001b[1;31m---------------------------------------------------------------------------\u001b[0m",
      "\u001b[1;31mIndexError\u001b[0m                                Traceback (most recent call last)",
      "\u001b[1;32m<ipython-input-110-b39ea94d1e7e>\u001b[0m in \u001b[0;36m<module>\u001b[1;34m\u001b[0m\n\u001b[1;32m----> 1\u001b[1;33m \u001b[0mr\u001b[0m\u001b[1;33m[\u001b[0m\u001b[0mr\u001b[0m\u001b[1;33m[\u001b[0m\u001b[1;33m:\u001b[0m\u001b[1;33m]\u001b[0m\u001b[1;33m.\u001b[0m\u001b[0mmax\u001b[0m\u001b[1;33m(\u001b[0m\u001b[1;33m)\u001b[0m\u001b[1;33m]\u001b[0m\u001b[1;33m\u001b[0m\u001b[1;33m\u001b[0m\u001b[0m\n\u001b[0m",
      "\u001b[1;31mIndexError\u001b[0m: index 68 is out of bounds for axis 0 with size 4"
     ]
    }
   ],
   "source": [
    "r[r[:].max()]"
   ]
  },
  {
   "cell_type": "code",
   "execution_count": 113,
   "id": "f1882f8f",
   "metadata": {},
   "outputs": [
    {
     "data": {
      "text/plain": [
       "array([3, 0, 3, 3, 2, 0, 0, 3, 2, 0], dtype=int64)"
      ]
     },
     "execution_count": 113,
     "metadata": {},
     "output_type": "execute_result"
    }
   ],
   "source": [
    "r.argmax(axis=0)"
   ]
  },
  {
   "cell_type": "code",
   "execution_count": 125,
   "id": "2d43c508",
   "metadata": {},
   "outputs": [
    {
     "data": {
      "text/plain": [
       "array([9, 2, 8, 3], dtype=int64)"
      ]
     },
     "execution_count": 125,
     "metadata": {},
     "output_type": "execute_result"
    }
   ],
   "source": [
    "r.argmax(axis=1)"
   ]
  },
  {
   "cell_type": "code",
   "execution_count": 117,
   "id": "649b995d",
   "metadata": {},
   "outputs": [
    {
     "data": {
      "text/plain": [
       "array([[24, 41, 48, 41, 21, 46, 46, 34, 24, 49],\n",
       "       [11, 17, 44, 29, 17, 20, 30, 15, 25, 23],\n",
       "       [ 9, 18, 22, 17, 35, 25, 34, 28, 37, 10],\n",
       "       [40, 36, 52, 68, 24, 36, 36, 59, 32, 43]])"
      ]
     },
     "execution_count": 117,
     "metadata": {},
     "output_type": "execute_result"
    }
   ],
   "source": [
    "r"
   ]
  },
  {
   "cell_type": "code",
   "execution_count": 124,
   "id": "44f3f261",
   "metadata": {},
   "outputs": [
    {
     "data": {
      "text/plain": [
       "array([49, 44, 37, 68])"
      ]
     },
     "execution_count": 124,
     "metadata": {},
     "output_type": "execute_result"
    }
   ],
   "source": [
    "r[[0, 1, 2, 3], r.argmax(axis=1)]\n",
    "# r[[0, 1, 2, 3], [9, 2, 8, 3]]"
   ]
  },
  {
   "cell_type": "code",
   "execution_count": 126,
   "id": "8bbe5318",
   "metadata": {},
   "outputs": [
    {
     "data": {
      "text/plain": [
       "array([[24, 41, 48, 41, 21, 46, 46, 34, 24, 49],\n",
       "       [11, 17, 44, 29, 17, 20, 30, 15, 25, 23],\n",
       "       [ 9, 18, 22, 17, 35, 25, 34, 28, 37, 10],\n",
       "       [40, 36, 52, 68, 24, 36, 36, 59, 32, 43]])"
      ]
     },
     "execution_count": 126,
     "metadata": {},
     "output_type": "execute_result"
    }
   ],
   "source": [
    "r"
   ]
  },
  {
   "cell_type": "code",
   "execution_count": 128,
   "id": "a7094ec6",
   "metadata": {},
   "outputs": [
    {
     "name": "stdout",
     "output_type": "stream",
     "text": [
      "49\n",
      "44\n",
      "37\n",
      "68\n"
     ]
    }
   ],
   "source": [
    "for i in r:\n",
    "    print(i.max())"
   ]
  },
  {
   "cell_type": "code",
   "execution_count": 129,
   "id": "716bd5b5",
   "metadata": {},
   "outputs": [
    {
     "data": {
      "text/plain": [
       "array([21, 11,  9, 24])"
      ]
     },
     "execution_count": 129,
     "metadata": {},
     "output_type": "execute_result"
    }
   ],
   "source": [
    "r.min(axis=1)"
   ]
  },
  {
   "cell_type": "code",
   "execution_count": 130,
   "id": "4e818961",
   "metadata": {},
   "outputs": [
    {
     "data": {
      "text/plain": [
       "array([[24, 41, 48, 41, 21, 46, 46, 34, 24, 49],\n",
       "       [11, 17, 44, 29, 17, 20, 30, 15, 25, 23],\n",
       "       [ 9, 18, 22, 17, 35, 25, 34, 28, 37, 10],\n",
       "       [40, 36, 52, 68, 24, 36, 36, 59, 32, 43]])"
      ]
     },
     "execution_count": 130,
     "metadata": {},
     "output_type": "execute_result"
    }
   ],
   "source": [
    "r"
   ]
  },
  {
   "cell_type": "code",
   "execution_count": 133,
   "id": "e2d19481",
   "metadata": {},
   "outputs": [
    {
     "data": {
      "text/plain": [
       "f1    48\n",
       "f2    44\n",
       "f3    22\n",
       "f4    52\n",
       "Name: 3, dtype: int32"
      ]
     },
     "execution_count": 133,
     "metadata": {},
     "output_type": "execute_result"
    }
   ],
   "source": [
    "df[3]"
   ]
  },
  {
   "cell_type": "code",
   "execution_count": 135,
   "id": "7c43032f",
   "metadata": {},
   "outputs": [
    {
     "data": {
      "text/plain": [
       "<AxesSubplot:>"
      ]
     },
     "execution_count": 135,
     "metadata": {},
     "output_type": "execute_result"
    },
    {
     "data": {
      "image/png": "[encoded data removed]",
      "text/plain": [
       "<Figure size 432x288 with 1 Axes>"
      ]
     },
     "metadata": {
      "needs_background": "light"
     },
     "output_type": "display_data"
    }
   ],
   "source": [
    "df.plot(kind=\"bar\")"
   ]
  },
  {
   "cell_type": "code",
   "execution_count": 136,
   "id": "7676099c",
   "metadata": {},
   "outputs": [
    {
     "data": {
      "text/plain": [
       "array([ 9,  2,  8,  3,  5,  6,  1,  2,  6, 17])"
      ]
     },
     "execution_count": 136,
     "metadata": {},
     "output_type": "execute_result"
    }
   ],
   "source": [
    "arr.reshape()"
   ]
  },
  {
   "cell_type": "code",
   "execution_count": 137,
   "id": "3f4239ac",
   "metadata": {},
   "outputs": [
    {
     "data": {
      "text/plain": [
       "array([[ 9,  2,  8,  3,  5,  6,  1,  2,  6, 17]])"
      ]
     },
     "execution_count": 137,
     "metadata": {},
     "output_type": "execute_result"
    }
   ],
   "source": [
    "arr.reshape(1, 10)"
   ]
  },
  {
   "cell_type": "code",
   "execution_count": 138,
   "id": "950cb199",
   "metadata": {},
   "outputs": [
    {
     "data": {
      "text/plain": [
       "array([[ 9],\n",
       "       [ 2],\n",
       "       [ 8],\n",
       "       [ 3],\n",
       "       [ 5],\n",
       "       [ 6],\n",
       "       [ 1],\n",
       "       [ 2],\n",
       "       [ 6],\n",
       "       [17]])"
      ]
     },
     "execution_count": 138,
     "metadata": {},
     "output_type": "execute_result"
    }
   ],
   "source": [
    "arr.reshape(10, 1)"
   ]
  },
  {
   "cell_type": "code",
   "execution_count": 139,
   "id": "a1d41e5c",
   "metadata": {},
   "outputs": [],
   "source": [
    "# arr --> 100 elements, 100 rows and 1 column"
   ]
  },
  {
   "cell_type": "code",
   "execution_count": 141,
   "id": "f0e9f413",
   "metadata": {},
   "outputs": [
    {
     "data": {
      "text/plain": [
       "array([[ 9],\n",
       "       [ 2],\n",
       "       [ 8],\n",
       "       [ 3],\n",
       "       [ 5],\n",
       "       [ 6],\n",
       "       [ 1],\n",
       "       [ 2],\n",
       "       [ 6],\n",
       "       [17]])"
      ]
     },
     "execution_count": 141,
     "metadata": {},
     "output_type": "execute_result"
    }
   ],
   "source": [
    "arr.reshape(-1, 1)"
   ]
  },
  {
   "cell_type": "code",
   "execution_count": 142,
   "id": "a20ace06",
   "metadata": {},
   "outputs": [
    {
     "data": {
      "text/plain": [
       "array([[ 9,  2,  8,  3,  5,  6,  1,  2,  6, 17]])"
      ]
     },
     "execution_count": 142,
     "metadata": {},
     "output_type": "execute_result"
    }
   ],
   "source": [
    "arr.reshape(1, -1)"
   ]
  },
  {
   "cell_type": "code",
   "execution_count": 144,
   "id": "5fe2dcbf",
   "metadata": {},
   "outputs": [
    {
     "data": {
      "text/plain": [
       "array([[24, 41, 48, 41, 21, 46, 46, 34, 24, 49],\n",
       "       [11, 17, 44, 29, 17, 20, 30, 15, 25, 23],\n",
       "       [ 9, 18, 22, 17, 35, 25, 34, 28, 37, 10],\n",
       "       [40, 36, 52, 68, 24, 36, 36, 59, 32, 43]])"
      ]
     },
     "execution_count": 144,
     "metadata": {},
     "output_type": "execute_result"
    }
   ],
   "source": [
    "np.hstack([[f1, f2, f3, f4]])"
   ]
  },
  {
   "cell_type": "code",
   "execution_count": 145,
   "id": "7cb931e5",
   "metadata": {},
   "outputs": [
    {
     "data": {
      "text/plain": [
       "array([[24, 41, 48, 41, 21, 46, 46, 34, 24, 49],\n",
       "       [11, 17, 44, 29, 17, 20, 30, 15, 25, 23],\n",
       "       [ 9, 18, 22, 17, 35, 25, 34, 28, 37, 10],\n",
       "       [40, 36, 52, 68, 24, 36, 36, 59, 32, 43]])"
      ]
     },
     "execution_count": 145,
     "metadata": {},
     "output_type": "execute_result"
    }
   ],
   "source": [
    "np.hstack([[f1, f2, f3, f4]])"
   ]
  },
  {
   "cell_type": "code",
   "execution_count": 149,
   "id": "94619a84",
   "metadata": {},
   "outputs": [
    {
     "data": {
      "text/plain": [
       "array([[24, 41, 48, 41, 21, 46, 46, 34, 24, 49],\n",
       "       [11, 17, 44, 29, 17, 20, 30, 15, 25, 23],\n",
       "       [ 9, 18, 22, 17, 35, 25, 34, 28, 37, 10],\n",
       "       [40, 36, 52, 68, 24, 36, 36, 59, 32, 43]])"
      ]
     },
     "execution_count": 149,
     "metadata": {},
     "output_type": "execute_result"
    }
   ],
   "source": [
    "np.vstack([[f1, f2, f3, f4]])"
   ]
  },
  {
   "cell_type": "code",
   "execution_count": 151,
   "id": "6a5246df",
   "metadata": {},
   "outputs": [
    {
     "data": {
      "text/plain": [
       "array([0., 0., 0., 0., 0., 0., 0., 0., 0., 0.])"
      ]
     },
     "execution_count": 151,
     "metadata": {},
     "output_type": "execute_result"
    }
   ],
   "source": [
    "np.zeros(10)"
   ]
  },
  {
   "cell_type": "code",
   "execution_count": 152,
   "id": "d213e479",
   "metadata": {},
   "outputs": [
    {
     "data": {
      "text/plain": [
       "array([24, 41, 48, 41, 21, 46, 46, 34, 24, 49])"
      ]
     },
     "execution_count": 152,
     "metadata": {},
     "output_type": "execute_result"
    }
   ],
   "source": [
    "f1"
   ]
  },
  {
   "cell_type": "code",
   "execution_count": 157,
   "id": "bd7bb879",
   "metadata": {},
   "outputs": [
    {
     "data": {
      "text/plain": [
       "array([[ 0.,  0.,  0.,  0.,  0.,  0.,  0.,  0.,  0.,  0.],\n",
       "       [24., 41., 48., 41., 21., 46., 46., 34., 24., 49.]])"
      ]
     },
     "execution_count": 157,
     "metadata": {},
     "output_type": "execute_result"
    }
   ],
   "source": [
    "np.vstack([np.zeros(10), f1])"
   ]
  },
  {
   "cell_type": "code",
   "execution_count": 161,
   "id": "98b409f6",
   "metadata": {},
   "outputs": [
    {
     "data": {
      "text/plain": [
       "array([[ 0.,  0.,  0.,  0.,  0.,  0.,  0.,  0.,  0.,  0.],\n",
       "       [24., 41., 48., 41., 21., 46., 46., 34., 24., 49.]])"
      ]
     },
     "execution_count": 161,
     "metadata": {},
     "output_type": "execute_result"
    }
   ],
   "source": [
    "np.hstack([[np.zeros(10), f1]])"
   ]
  },
  {
   "cell_type": "code",
   "execution_count": 162,
   "id": "b00422f7",
   "metadata": {},
   "outputs": [
    {
     "name": "stdout",
     "output_type": "stream",
     "text": [
      " Volume in drive C has no label.\n",
      " Volume Serial Number is 766E-A7C0\n",
      "\n",
      " Directory of C:\\Users\\Simran Grover\\Grras Solution Pvt. Ltd\\DataScience_11 00AM - Live Class ??\\datascience_notes\\Analysis\\Numpy\n",
      "\n",
      "02-09-2021  12:50    <DIR>          .\n",
      "02-09-2021  12:50    <DIR>          ..\n",
      "02-09-2021  11:24    <DIR>          .ipynb_checkpoints\n",
      "24-08-2021  12:05             9,629 1. Numpy.ipynb\n",
      "25-08-2021  12:49            38,424 2. Numpy.ipynb\n",
      "26-08-2021  13:00            47,490 3. Numpy.ipynb\n",
      "27-08-2021  12:55            32,819 4. Numpy.ipynb\n",
      "31-08-2021  12:50            88,861 5. Numpy.ipynb\n",
      "01-09-2021  12:42            35,383 6. Numpy.ipynb\n",
      "02-09-2021  12:50           207,661 7. Numpy.ipynb\n",
      "30-08-2021  00:36    <DIR>          numpy_notes\n",
      "26-08-2021  12:36               200 one.txt\n",
      "               8 File(s)        460,467 bytes\n",
      "               4 Dir(s)  187,987,689,472 bytes free\n"
     ]
    }
   ],
   "source": [
    "ls"
   ]
  },
  {
   "cell_type": "code",
   "execution_count": 163,
   "id": "9e57b199",
   "metadata": {},
   "outputs": [],
   "source": [
    "img = plt.imread(\"D:/F_Drive/Wallpapers/clouds_sunset_horizon_131654_3840x2400.jpg\")"
   ]
  },
  {
   "cell_type": "code",
   "execution_count": 166,
   "id": "8006ba0f",
   "metadata": {},
   "outputs": [
    {
     "data": {
      "text/plain": [
       "(2400, 3840, 3)"
      ]
     },
     "execution_count": 166,
     "metadata": {},
     "output_type": "execute_result"
    }
   ],
   "source": [
    "img.shape  # 3 columns --> rgb format "
   ]
  },
  {
   "cell_type": "code",
   "execution_count": 167,
   "id": "fdee29b6",
   "metadata": {},
   "outputs": [
    {
     "data": {
      "text/plain": [
       "27648000"
      ]
     },
     "execution_count": 167,
     "metadata": {},
     "output_type": "execute_result"
    }
   ],
   "source": [
    "img.size"
   ]
  },
  {
   "cell_type": "code",
   "execution_count": 168,
   "id": "49e64499",
   "metadata": {},
   "outputs": [
    {
     "data": {
      "text/plain": [
       "<matplotlib.image.AxesImage at 0x139dd4634c0>"
      ]
     },
     "execution_count": 168,
     "metadata": {},
     "output_type": "execute_result"
    },
    {
     "data": {
      "image/png": "[encoded data removed]",
      "text/plain": [
       "<Figure size 432x288 with 1 Axes>"
      ]
     },
     "metadata": {
      "needs_background": "light"
     },
     "output_type": "display_data"
    }
   ],
   "source": [
    "plt.imshow(img)"
   ]
  },
  {
   "cell_type": "code",
   "execution_count": 169,
   "id": "aa337718",
   "metadata": {},
   "outputs": [],
   "source": [
    "### images manipulate, pandas"
   ]
  },
  {
   "cell_type": "code",
   "execution_count": null,
   "id": "555ec77c",
   "metadata": {},
   "outputs": [],
   "source": []
  }
 ],
 "metadata": {
  "kernelspec": {
   "display_name": "Python 3",
   "language": "python",
   "name": "python3"
  },
  "language_info": {
   "codemirror_mode": {
    "name": "ipython",
    "version": 3
   },
   "file_extension": ".py",
   "mimetype": "text/x-python",
   "name": "python",
   "nbconvert_exporter": "python",
   "pygments_lexer": "ipython3",
   "version": "3.8.8"
  }
 },
 "nbformat": 4,
 "nbformat_minor": 5
}
