{
 "cells": [
  {
   "cell_type": "code",
   "execution_count": 12,
   "id": "e3b8fc30",
   "metadata": {},
   "outputs": [],
   "source": [
    "import numpy as np\n",
    "import matplotlib.pyplot as plt"
   ]
  },
  {
   "cell_type": "markdown",
   "id": "5b75f993",
   "metadata": {},
   "source": [
    "    seed(1)"
   ]
  },
  {
   "cell_type": "code",
   "execution_count": 2,
   "id": "2bc6dbb7",
   "metadata": {},
   "outputs": [],
   "source": [
    "l = [1, 2, 3, 4]"
   ]
  },
  {
   "cell_type": "code",
   "execution_count": 3,
   "id": "499b8a9c",
   "metadata": {},
   "outputs": [
    {
     "data": {
      "text/plain": [
       "2.718281828459045"
      ]
     },
     "execution_count": 3,
     "metadata": {},
     "output_type": "execute_result"
    }
   ],
   "source": [
    "np.exp(l[0])"
   ]
  },
  {
   "cell_type": "code",
   "execution_count": 4,
   "id": "9736335c",
   "metadata": {},
   "outputs": [
    {
     "data": {
      "text/plain": [
       "7.38905609893065"
      ]
     },
     "execution_count": 4,
     "metadata": {},
     "output_type": "execute_result"
    }
   ],
   "source": [
    "np.exp(l[1])"
   ]
  },
  {
   "cell_type": "code",
   "execution_count": 5,
   "id": "ebce6ca0",
   "metadata": {},
   "outputs": [
    {
     "data": {
      "text/plain": [
       "20.085536923187668"
      ]
     },
     "execution_count": 5,
     "metadata": {},
     "output_type": "execute_result"
    }
   ],
   "source": [
    "np.exp(l[2])"
   ]
  },
  {
   "cell_type": "code",
   "execution_count": 7,
   "id": "c04f5d85",
   "metadata": {},
   "outputs": [
    {
     "data": {
      "text/plain": [
       "7.387524"
      ]
     },
     "execution_count": 7,
     "metadata": {},
     "output_type": "execute_result"
    }
   ],
   "source": [
    "(2.718)**2"
   ]
  },
  {
   "cell_type": "code",
   "execution_count": 8,
   "id": "ccf13f99",
   "metadata": {},
   "outputs": [
    {
     "data": {
      "text/plain": [
       "20.079290231999998"
      ]
     },
     "execution_count": 8,
     "metadata": {},
     "output_type": "execute_result"
    }
   ],
   "source": [
    "(2.718)**3"
   ]
  },
  {
   "cell_type": "markdown",
   "id": "5c010dfa",
   "metadata": {},
   "source": [
    "    1 1 1 1\n",
    "    1 2 2 1\n",
    "    1 2 2 1\n",
    "    1 1 1 1\n",
    "    \n",
    "    \n",
    "    Take number of rows from user and solve this pattern. "
   ]
  },
  {
   "cell_type": "code",
   "execution_count": 9,
   "id": "87f2fc60",
   "metadata": {},
   "outputs": [
    {
     "data": {
      "text/plain": [
       "array([6, 7, 2, 3, 8, 6, 3, 7, 5, 4, 5, 6, 5, 9, 2, 1, 8, 3, 8, 5])"
      ]
     },
     "execution_count": 9,
     "metadata": {},
     "output_type": "execute_result"
    }
   ],
   "source": [
    "np.random.randint(1, 10, 20)"
   ]
  },
  {
   "cell_type": "code",
   "execution_count": 11,
   "id": "2925467d",
   "metadata": {},
   "outputs": [],
   "source": [
    "normal = np.random.randn(1000)"
   ]
  },
  {
   "cell_type": "code",
   "execution_count": 14,
   "id": "c86626c7",
   "metadata": {},
   "outputs": [
    {
     "data": {
      "image/png": "[encoded data removed]",
      "text/plain": [
       "<Figure size 432x288 with 1 Axes>"
      ]
     },
     "metadata": {
      "needs_background": "light"
     },
     "output_type": "display_data"
    }
   ],
   "source": [
    "plt.hist(normal, bins=30, ec='k')\n",
    "plt.show()"
   ]
  },
  {
   "cell_type": "code",
   "execution_count": 18,
   "id": "9a0ad037",
   "metadata": {},
   "outputs": [
    {
     "data": {
      "text/plain": [
       "0"
      ]
     },
     "execution_count": 18,
     "metadata": {},
     "output_type": "execute_result"
    }
   ],
   "source": [
    "round(normal.mean())"
   ]
  },
  {
   "cell_type": "code",
   "execution_count": 19,
   "id": "4d886322",
   "metadata": {},
   "outputs": [
    {
     "data": {
      "text/plain": [
       "0"
      ]
     },
     "execution_count": 19,
     "metadata": {},
     "output_type": "execute_result"
    }
   ],
   "source": [
    "round(np.median(normal))"
   ]
  },
  {
   "cell_type": "code",
   "execution_count": 20,
   "id": "8a664457",
   "metadata": {},
   "outputs": [
    {
     "data": {
      "text/plain": [
       "array([4.72778748, 3.87240786, 4.98332734, 6.23845843, 6.59916786,\n",
       "       7.82311808, 6.7630931 , 5.61592334, 4.94226419, 7.87461485,\n",
       "       6.57264875, 5.22867911, 5.27552214, 5.57264167, 2.17267701,\n",
       "       6.94163912, 3.23813912, 7.32034723, 6.67810426, 1.91367117,\n",
       "       8.4591195 , 4.89963916, 5.80089139, 6.4241006 , 3.60128637,\n",
       "       4.07475366, 6.32572899, 4.75588024, 1.69900179, 6.79959777,\n",
       "       6.56531951, 3.59817766, 9.28634664, 6.0652559 , 5.51867986,\n",
       "       3.51357945, 4.87713966, 5.37311022, 6.25192269, 0.79381296,\n",
       "       3.97755493, 1.73751253, 6.79010399, 5.97490964, 5.09788276,\n",
       "       4.9304944 , 8.5334106 , 6.71140058, 4.37949549, 9.08677271,\n",
       "       6.46911863, 4.18112073, 6.3599957 , 8.91137596, 5.55295086,\n",
       "       3.08095477, 2.52233009, 3.572379  , 7.86960807, 7.49498109,\n",
       "       4.0888405 , 3.7953047 , 4.03144411, 8.2120233 , 1.97941031,\n",
       "       4.03786675, 3.15527298, 4.14672876, 6.02553781, 5.45694348,\n",
       "       7.61705959, 2.02531867, 3.89019649, 7.02443942, 5.28886107,\n",
       "       7.29637557, 6.09941212, 6.46784049, 3.32093672, 6.68588891,\n",
       "       3.80972736, 5.59569155, 6.99284019, 1.17922422, 4.51392374,\n",
       "       6.75665587, 6.26869803, 6.76437148, 3.46768609, 2.25669098,\n",
       "       4.81324324, 5.6764891 , 7.6829255 , 5.84549221, 4.63192906,\n",
       "       5.87201226, 4.04055545, 5.34617542, 4.69789782, 5.39438835])"
      ]
     },
     "execution_count": 20,
     "metadata": {},
     "output_type": "execute_result"
    }
   ],
   "source": [
    "np.random.normal(5, 2, 100)\n",
    "# 5 --> mean, 2 --> std, 100 --> values"
   ]
  },
  {
   "cell_type": "code",
   "execution_count": 21,
   "id": "e5df9d7f",
   "metadata": {},
   "outputs": [],
   "source": [
    "height = np.random.normal(140, 20, 1000)"
   ]
  },
  {
   "cell_type": "code",
   "execution_count": 22,
   "id": "2c63aebd",
   "metadata": {},
   "outputs": [
    {
     "data": {
      "text/plain": [
       "138.9894288724931"
      ]
     },
     "execution_count": 22,
     "metadata": {},
     "output_type": "execute_result"
    }
   ],
   "source": [
    "height.mean()"
   ]
  },
  {
   "cell_type": "code",
   "execution_count": 23,
   "id": "525ec6f8",
   "metadata": {},
   "outputs": [
    {
     "data": {
      "text/plain": [
       "19.633994639325643"
      ]
     },
     "execution_count": 23,
     "metadata": {},
     "output_type": "execute_result"
    }
   ],
   "source": [
    "height.std()"
   ]
  },
  {
   "cell_type": "code",
   "execution_count": 25,
   "id": "e200d0ad",
   "metadata": {},
   "outputs": [
    {
     "data": {
      "image/png": "[encoded data removed]",
      "text/plain": [
       "<Figure size 432x288 with 1 Axes>"
      ]
     },
     "metadata": {
      "needs_background": "light"
     },
     "output_type": "display_data"
    }
   ],
   "source": [
    "plt.hist(height, bins=20, ec='k')\n",
    "plt.show()"
   ]
  },
  {
   "cell_type": "code",
   "execution_count": 27,
   "id": "3f74d35b",
   "metadata": {},
   "outputs": [
    {
     "data": {
      "text/plain": [
       "138.1484875732763"
      ]
     },
     "execution_count": 27,
     "metadata": {},
     "output_type": "execute_result"
    }
   ],
   "source": [
    "np.median(height)"
   ]
  },
  {
   "cell_type": "code",
   "execution_count": 29,
   "id": "56f177e6",
   "metadata": {},
   "outputs": [
    {
     "data": {
      "text/plain": [
       "array([[0.13962841, 0.71484211, 0.61621798, 0.91634163, 0.42301283],\n",
       "       [0.46992941, 0.19380285, 0.58422714, 0.79162911, 0.48873488],\n",
       "       [0.37813254, 0.69496514, 0.52146662, 0.02759976, 0.70466734],\n",
       "       [0.92035628, 0.26252067, 0.7741182 , 0.83535628, 0.04961543],\n",
       "       [0.72855078, 0.34734066, 0.19023917, 0.93169206, 0.99433702]])"
      ]
     },
     "execution_count": 29,
     "metadata": {},
     "output_type": "execute_result"
    }
   ],
   "source": [
    "np.random.random((5, 5))"
   ]
  },
  {
   "cell_type": "code",
   "execution_count": 30,
   "id": "6cc53b22",
   "metadata": {},
   "outputs": [
    {
     "data": {
      "text/plain": [
       "array([0.50089411, 0.35133623, 0.25847842, 0.8660276 , 0.61830317,\n",
       "       0.69250094, 0.88770839, 0.735342  , 0.39173531, 0.73205041,\n",
       "       0.67697635, 0.68543447, 0.58320035, 0.2758017 , 0.78415682,\n",
       "       0.12324564, 0.97579983, 0.66061612, 0.29245779, 0.92918819,\n",
       "       0.00492549, 0.32363466, 0.46747204, 0.27473497, 0.69033733,\n",
       "       0.39036766, 0.87148796, 0.48457999, 0.3312184 , 0.46661152,\n",
       "       0.60836001, 0.20954399, 0.71161836, 0.77151057, 0.61295682,\n",
       "       0.35061742, 0.92132652, 0.89549154, 0.38738321, 0.73889155,\n",
       "       0.8010334 , 0.79585245, 0.66474662, 0.92677236, 0.74537093,\n",
       "       0.24866949, 0.41547514, 0.37565461, 0.00542392, 0.45060652,\n",
       "       0.13019168, 0.80530092, 0.94617925, 0.4657936 , 0.02736083,\n",
       "       0.28359968, 0.31086488, 0.86155021, 0.16887176, 0.92899272,\n",
       "       0.82199429, 0.22365248, 0.96658643, 0.52627759, 0.44979658,\n",
       "       0.95951262, 0.40744962, 0.2115611 , 0.72138402, 0.49549924,\n",
       "       0.29842943, 0.77798725, 0.19139668, 0.88559638, 0.29126705,\n",
       "       0.97337908, 0.92804839, 0.48488334, 0.33887245, 0.78980918,\n",
       "       0.58177395, 0.81850704, 0.90004722, 0.73807533, 0.09040829,\n",
       "       0.84770271, 0.76376995, 0.75479372, 0.89574168, 0.81956088,\n",
       "       0.31091328, 0.48130434, 0.65173395, 0.62580692, 0.66843245,\n",
       "       0.55033344, 0.048923  , 0.99476891, 0.85604652, 0.35504488])"
      ]
     },
     "execution_count": 30,
     "metadata": {},
     "output_type": "execute_result"
    }
   ],
   "source": [
    "np.random.random(100)"
   ]
  },
  {
   "cell_type": "code",
   "execution_count": 39,
   "id": "ed43b523",
   "metadata": {},
   "outputs": [
    {
     "data": {
      "text/plain": [
       "array([0, 0, 0, 0, 2, 1, 1, 0, 2, 0, 3, 0, 1, 0, 1, 3, 0, 1, 1, 0, 1, 0,\n",
       "       1, 2, 1, 0, 2, 2, 1, 2, 1, 0, 0, 0, 1, 0, 0, 3, 1, 2, 1, 1, 2, 1,\n",
       "       0, 1, 0, 2, 1, 0, 0, 0, 1, 1, 0, 2, 3, 1, 2, 1, 1, 2, 1, 1, 0, 0,\n",
       "       0, 0, 2, 1, 0, 1, 2, 1, 1, 2, 0, 3, 3, 2, 1, 0, 0, 1, 0, 2, 1, 1,\n",
       "       1, 0, 1, 4, 1, 2, 2, 2, 1, 0, 1, 0])"
      ]
     },
     "execution_count": 39,
     "metadata": {},
     "output_type": "execute_result"
    }
   ],
   "source": [
    "np.random.poisson(size=100)"
   ]
  },
  {
   "cell_type": "code",
   "execution_count": 33,
   "id": "0da964d9",
   "metadata": {},
   "outputs": [
    {
     "name": "stdout",
     "output_type": "stream",
     "text": [
      "['BitGenerator', 'Generator', 'MT19937', 'PCG64', 'Philox', 'RandomState', 'SFC64', 'SeedSequence', '__RandomState_ctor', '__all__', '__builtins__', '__cached__', '__doc__', '__file__', '__loader__', '__name__', '__package__', '__path__', '__spec__', '_bounded_integers', '_common', '_generator', '_mt19937', '_pcg64', '_philox', '_pickle', '_sfc64', 'beta', 'binomial', 'bit_generator', 'bytes', 'chisquare', 'choice', 'default_rng', 'dirichlet', 'exponential', 'f', 'gamma', 'geometric', 'get_state', 'gumbel', 'hypergeometric', 'laplace', 'logistic', 'lognormal', 'logseries', 'mtrand', 'multinomial', 'multivariate_normal', 'negative_binomial', 'noncentral_chisquare', 'noncentral_f', 'normal', 'pareto', 'permutation', 'poisson', 'power', 'rand', 'randint', 'randn', 'random', 'random_integers', 'random_sample', 'ranf', 'rayleigh', 'sample', 'seed', 'set_state', 'shuffle', 'standard_cauchy', 'standard_exponential', 'standard_gamma', 'standard_normal', 'standard_t', 'test', 'triangular', 'uniform', 'vonmises', 'wald', 'weibull', 'zipf']\n"
     ]
    }
   ],
   "source": [
    "print(dir(np.random))"
   ]
  },
  {
   "cell_type": "code",
   "execution_count": 41,
   "id": "d36a80bb",
   "metadata": {},
   "outputs": [
    {
     "data": {
      "text/plain": [
       "numpy.random.mtrand.RandomState"
      ]
     },
     "execution_count": 41,
     "metadata": {},
     "output_type": "execute_result"
    }
   ],
   "source": [
    "np.random.RandomState"
   ]
  },
  {
   "cell_type": "code",
   "execution_count": 52,
   "id": "10cfe4d6",
   "metadata": {},
   "outputs": [],
   "source": [
    "np.random.seed(1)"
   ]
  },
  {
   "cell_type": "code",
   "execution_count": 92,
   "id": "cf2b9f46",
   "metadata": {},
   "outputs": [
    {
     "data": {
      "text/plain": [
       "array([ 1.78862847,  0.43650985,  0.09649747, -1.8634927 , -0.2773882 ,\n",
       "       -0.35475898, -0.08274148, -0.62700068, -0.04381817, -0.47721803])"
      ]
     },
     "execution_count": 92,
     "metadata": {},
     "output_type": "execute_result"
    }
   ],
   "source": [
    "np.random.seed(3)\n",
    "np.random.randn(10)"
   ]
  },
  {
   "cell_type": "code",
   "execution_count": 67,
   "id": "2a96b0ae",
   "metadata": {},
   "outputs": [
    {
     "data": {
      "text/plain": [
       "array([9, 9, 7, 3, 9, 8, 3, 2, 6, 5, 5, 6, 8, 4, 7, 5, 4, 8, 7, 2])"
      ]
     },
     "execution_count": 67,
     "metadata": {},
     "output_type": "execute_result"
    }
   ],
   "source": [
    "np.random.seed(2)\n",
    "np.random.randint(1, 10, 20)"
   ]
  },
  {
   "cell_type": "code",
   "execution_count": 84,
   "id": "06bd67cc",
   "metadata": {},
   "outputs": [
    {
     "data": {
      "text/plain": [
       "array([6, 5])"
      ]
     },
     "execution_count": 84,
     "metadata": {},
     "output_type": "execute_result"
    }
   ],
   "source": [
    "np.random.randint(1, 10, 2)"
   ]
  },
  {
   "cell_type": "code",
   "execution_count": 123,
   "id": "1a6be5b4",
   "metadata": {},
   "outputs": [
    {
     "data": {
      "text/plain": [
       "array([ 1.62434536, -0.61175641, -0.52817175, -1.07296862,  0.86540763,\n",
       "       -2.3015387 ,  1.74481176, -0.7612069 ,  0.3190391 , -0.24937038])"
      ]
     },
     "execution_count": 123,
     "metadata": {},
     "output_type": "execute_result"
    }
   ],
   "source": [
    "np.random.seed(1)\n",
    "np.random.randn(10)"
   ]
  },
  {
   "cell_type": "code",
   "execution_count": 122,
   "id": "a9cf5aee",
   "metadata": {},
   "outputs": [
    {
     "data": {
      "text/plain": [
       "array([ 6, 12, 13,  9, 10, 12,  6, 16,  1, 17])"
      ]
     },
     "execution_count": 122,
     "metadata": {},
     "output_type": "execute_result"
    }
   ],
   "source": [
    "np.random.randint(1, 20, 10)"
   ]
  },
  {
   "cell_type": "code",
   "execution_count": 116,
   "id": "b0da166e",
   "metadata": {},
   "outputs": [
    {
     "data": {
      "text/plain": [
       "array([4, 5, 9, 2, 5, 1, 4, 3, 1, 5])"
      ]
     },
     "execution_count": 116,
     "metadata": {},
     "output_type": "execute_result"
    }
   ],
   "source": [
    "np.random.randint(1, 10, 10)"
   ]
  },
  {
   "cell_type": "code",
   "execution_count": 135,
   "id": "07c8a05b",
   "metadata": {},
   "outputs": [
    {
     "data": {
      "text/plain": [
       "array([0.75694783])"
      ]
     },
     "execution_count": 135,
     "metadata": {},
     "output_type": "execute_result"
    }
   ],
   "source": [
    "rng = np.random.default_rng(2021)\n",
    "rng.random(1)"
   ]
  },
  {
   "cell_type": "code",
   "execution_count": 125,
   "id": "0d5f2d6c",
   "metadata": {},
   "outputs": [
    {
     "data": {
      "text/plain": [
       "array([ 3.62606881,  3.42302641,  7.1520137 ,  4.97895167,  4.08869474,\n",
       "        4.92267706, -0.24299278,  3.35352025,  1.91446875,  5.90902483,\n",
       "        4.21580318,  6.9136451 ,  5.76185657,  2.55108712,  5.32897805,\n",
       "        3.58221801,  4.71023439,  5.40701224,  3.61681373,  6.58878906,\n",
       "        5.39195433,  4.93991787,  2.18810993,  4.07360063,  3.54584214,\n",
       "        6.87840551,  9.66822647,  5.13520622,  0.6479492 ,  2.55526409,\n",
       "        6.80882033,  3.08002346, 10.43605322,  1.90275252,  6.6844442 ,\n",
       "        5.03881248,  3.98932012,  4.0951681 ,  3.80502228,  6.47378465,\n",
       "        3.47436364,  5.12461994,  3.47011124,  8.63802605,  7.1242986 ,\n",
       "        5.59763779,  4.09369193,  3.58490603,  6.03619165,  4.11919678,\n",
       "        4.92918641,  3.74940607,  7.03184315,  6.05549299,  5.34504563,\n",
       "        6.72379725,  4.16419161,  4.17079527,  6.65582505,  5.07725359,\n",
       "        5.9172664 ,  5.09185283,  4.89804273,  1.93479883,  4.71346143,\n",
       "        2.15490012,  2.48147088,  3.3180959 ,  8.92800684,  6.44384638,\n",
       "        5.14999683,  6.10157119,  7.6171788 ,  4.08715785,  2.33235383,\n",
       "        5.10298929,  6.76145073,  5.01638604,  6.19032405,  7.16873892,\n",
       "        6.65683817,  4.30563122,  5.79325911,  5.57349034,  5.53339002,\n",
       "        6.20509546,  6.74744685,  2.40371692,  5.15391337,  3.46622209,\n",
       "        4.90486812,  8.72914826,  5.35513455,  3.42220494,  3.76247612,\n",
       "        4.15788318,  6.51007945,  5.50455556,  5.53231687,  8.62793953])"
      ]
     },
     "execution_count": 125,
     "metadata": {},
     "output_type": "execute_result"
    }
   ],
   "source": [
    "rng.normal(5, 2, 100)"
   ]
  },
  {
   "cell_type": "code",
   "execution_count": 133,
   "id": "20867f30",
   "metadata": {},
   "outputs": [
    {
     "data": {
      "text/plain": [
       "array([0.48357569, 0.58996712, 0.41962385, 0.59513182, 0.19595575,\n",
       "       0.78427764, 0.12806398, 0.33302018, 0.87317911, 0.66399837,\n",
       "       0.06926011, 0.22050264, 0.58354433, 0.63746381, 0.33918169,\n",
       "       0.06019162, 0.26555477, 0.74181325, 0.55832104, 0.87374462])"
      ]
     },
     "execution_count": 133,
     "metadata": {},
     "output_type": "execute_result"
    }
   ],
   "source": [
    "rng.random(20)"
   ]
  },
  {
   "cell_type": "code",
   "execution_count": null,
   "id": "1b246720",
   "metadata": {},
   "outputs": [],
   "source": []
  }
 ],
 "metadata": {
  "kernelspec": {
   "display_name": "Python 3",
   "language": "python",
   "name": "python3"
  },
  "language_info": {
   "codemirror_mode": {
    "name": "ipython",
    "version": 3
   },
   "file_extension": ".py",
   "mimetype": "text/x-python",
   "name": "python",
   "nbconvert_exporter": "python",
   "pygments_lexer": "ipython3",
   "version": "3.8.8"
  }
 },
 "nbformat": 4,
 "nbformat_minor": 5
}
