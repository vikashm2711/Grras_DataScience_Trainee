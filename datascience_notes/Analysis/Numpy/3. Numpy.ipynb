{
 "cells": [
  {
   "cell_type": "code",
   "execution_count": 1,
   "id": "99394c06",
   "metadata": {},
   "outputs": [],
   "source": [
    "import numpy as np"
   ]
  },
  {
   "cell_type": "code",
   "execution_count": 7,
   "id": "799cb55e",
   "metadata": {},
   "outputs": [],
   "source": [
    "def matrix(n, m):\n",
    "    l = [[int(input(f\"\\n [{row}][{col}] : \")) for col in range(m)] for row in range(n)]\n",
    "    return l"
   ]
  },
  {
   "cell_type": "markdown",
   "id": "5e294c4d",
   "metadata": {},
   "source": [
    "        l1 = [\n",
    "                [1, 2, 3],\n",
    "                [4, 5, 6]\n",
    "             ]\n",
    "             \n",
    "        l2 = [\n",
    "                [3, 4, 5],\n",
    "                [6, 7, 8]\n",
    "             ]"
   ]
  },
  {
   "cell_type": "code",
   "execution_count": 8,
   "id": "8e6f13db",
   "metadata": {},
   "outputs": [
    {
     "name": "stdout",
     "output_type": "stream",
     "text": [
      "\n",
      " Rows : 2\n",
      "\n",
      " Columns : 3\n",
      "\n",
      " [0][0] : 1\n",
      "\n",
      " [0][1] : 2\n",
      "\n",
      " [0][2] : 3\n",
      "\n",
      " [1][0] : 4\n",
      "\n",
      " [1][1] : 5\n",
      "\n",
      " [1][2] : 6\n",
      "\n",
      " [0][0] : 3\n",
      "\n",
      " [0][1] : 4\n",
      "\n",
      " [0][2] : 5\n",
      "\n",
      " [1][0] : 2\n",
      "\n",
      " [1][1] : 3\n",
      "\n",
      " [1][2] : 4\n",
      "\n",
      " Addition :  [[4, 6, 8], [6, 8, 10]]\n"
     ]
    }
   ],
   "source": [
    "n, m = int(input(\"\\n Rows : \")), int(input(\"\\n Columns : \"))\n",
    "l1 = matrix(n, m)\n",
    "l2 = matrix(n, m)\n",
    "add = []\n",
    "for row in range(n):\n",
    "    a = []\n",
    "    for col in range(m):  \n",
    "        a.append(l1[row][col] + l2[row][col])\n",
    "    add.append(a)\n",
    "print(\"\\n Addition : \", add)\n",
    "        \n",
    "# row --> 0, col --> 0 , l1[0][0] + l2[0][0]\n",
    "# row --> 0, col --> 1, l1[0][1] + l2[0][1]\n",
    "# row --> 0, col --> 2 , l1[0][2] + l2[0][2] "
   ]
  },
  {
   "cell_type": "code",
   "execution_count": 9,
   "id": "6b705b04",
   "metadata": {},
   "outputs": [
    {
     "data": {
      "text/plain": [
       "[[1, 2, 3], [4, 5, 6]]"
      ]
     },
     "execution_count": 9,
     "metadata": {},
     "output_type": "execute_result"
    }
   ],
   "source": [
    "l1"
   ]
  },
  {
   "cell_type": "code",
   "execution_count": 10,
   "id": "f2a1e370",
   "metadata": {},
   "outputs": [
    {
     "data": {
      "text/plain": [
       "[[3, 4, 5], [2, 3, 4]]"
      ]
     },
     "execution_count": 10,
     "metadata": {},
     "output_type": "execute_result"
    }
   ],
   "source": [
    "l2"
   ]
  },
  {
   "cell_type": "code",
   "execution_count": 11,
   "id": "99d81090",
   "metadata": {},
   "outputs": [
    {
     "name": "stdout",
     "output_type": "stream",
     "text": [
      "\n",
      " Rows : 2\n",
      "\n",
      " Columns : 3\n",
      "\n",
      " [0][0] : 3\n",
      "\n",
      " [0][1] : 4\n",
      "\n",
      " [0][2] : 5\n",
      "\n",
      " [1][0] : 6\n",
      "\n",
      " [1][1] : 7\n",
      "\n",
      " [1][2] : 8\n",
      "\n",
      " [0][0] : 1\n",
      "\n",
      " [0][1] : 2\n",
      "\n",
      " [0][2] : 3\n",
      "\n",
      " [1][0] : 5\n",
      "\n",
      " [1][1] : 6\n",
      "\n",
      " [1][2] : 7\n",
      "\n",
      " Addition :  [[4, 6, 8], [11, 13, 15]]\n"
     ]
    }
   ],
   "source": [
    "n, m = int(input(\"\\n Rows : \")), int(input(\"\\n Columns : \"))\n",
    "l1 = matrix(n, m)\n",
    "l2 = matrix(n, m)\n",
    "add = [[l1[row][col]+l2[row][col] for col in range(m)] for row in range(n)]\n",
    "print(\"\\n Addition : \", add)\n",
    "        \n",
    "# row --> 0, col --> 0 , l1[0][0] + l2[0][0]\n",
    "# row --> 0, col --> 1, l1[0][1] + l2[0][1]\n",
    "# row --> 0, col --> 2 , l1[0][2] + l2[0][2] "
   ]
  },
  {
   "cell_type": "code",
   "execution_count": 12,
   "id": "0c2bb7a1",
   "metadata": {},
   "outputs": [
    {
     "data": {
      "text/plain": [
       "[[1, 2, 3], [5, 6, 7]]"
      ]
     },
     "execution_count": 12,
     "metadata": {},
     "output_type": "execute_result"
    }
   ],
   "source": [
    "l2"
   ]
  },
  {
   "cell_type": "code",
   "execution_count": 14,
   "id": "f5237f6d",
   "metadata": {},
   "outputs": [
    {
     "name": "stdout",
     "output_type": "stream",
     "text": [
      "\n",
      " [0][0] : 3\n",
      "\n",
      " [0][1] : 4\n",
      "\n",
      " [0][2] : 5\n",
      "\n",
      " [0][3] : 1\n",
      "\n",
      " [1][0] : 2\n",
      "\n",
      " [1][1] : 3\n",
      "\n",
      " [1][2] : 6\n",
      "\n",
      " [1][3] : 7\n",
      "\n",
      " [2][0] : 8\n",
      "\n",
      " [2][1] : 3\n",
      "\n",
      " [2][2] : 2\n",
      "\n",
      " [2][3] : 1\n"
     ]
    }
   ],
   "source": [
    "arr = matrix(3, 4)"
   ]
  },
  {
   "cell_type": "code",
   "execution_count": 15,
   "id": "996b1066",
   "metadata": {},
   "outputs": [
    {
     "data": {
      "text/plain": [
       "[[3, 4, 5, 1], [2, 3, 6, 7], [8, 3, 2, 1]]"
      ]
     },
     "execution_count": 15,
     "metadata": {},
     "output_type": "execute_result"
    }
   ],
   "source": [
    "arr"
   ]
  },
  {
   "cell_type": "code",
   "execution_count": 17,
   "id": "6144a8d6",
   "metadata": {},
   "outputs": [],
   "source": [
    "arr = np.array(arr)"
   ]
  },
  {
   "cell_type": "code",
   "execution_count": 18,
   "id": "22ae70b0",
   "metadata": {},
   "outputs": [
    {
     "data": {
      "text/plain": [
       "array([[3, 4, 5, 1],\n",
       "       [2, 3, 6, 7],\n",
       "       [8, 3, 2, 1]])"
      ]
     },
     "execution_count": 18,
     "metadata": {},
     "output_type": "execute_result"
    }
   ],
   "source": [
    "arr"
   ]
  },
  {
   "cell_type": "code",
   "execution_count": 19,
   "id": "897d91f1",
   "metadata": {},
   "outputs": [
    {
     "data": {
      "text/plain": [
       "array([3, 4, 5, 1])"
      ]
     },
     "execution_count": 19,
     "metadata": {},
     "output_type": "execute_result"
    }
   ],
   "source": [
    "arr[0]"
   ]
  },
  {
   "cell_type": "code",
   "execution_count": 20,
   "id": "378aec23",
   "metadata": {},
   "outputs": [
    {
     "data": {
      "text/plain": [
       "array([2, 3, 6, 7])"
      ]
     },
     "execution_count": 20,
     "metadata": {},
     "output_type": "execute_result"
    }
   ],
   "source": [
    "arr[1]"
   ]
  },
  {
   "cell_type": "code",
   "execution_count": 21,
   "id": "4c86d2cc",
   "metadata": {},
   "outputs": [
    {
     "data": {
      "text/plain": [
       "array([8, 3, 2, 1])"
      ]
     },
     "execution_count": 21,
     "metadata": {},
     "output_type": "execute_result"
    }
   ],
   "source": [
    "arr[2]"
   ]
  },
  {
   "cell_type": "code",
   "execution_count": 23,
   "id": "dcab7a0e",
   "metadata": {},
   "outputs": [],
   "source": [
    "arr[1][3] = 17"
   ]
  },
  {
   "cell_type": "code",
   "execution_count": 24,
   "id": "401c6cb1",
   "metadata": {},
   "outputs": [
    {
     "data": {
      "text/plain": [
       "array([[ 3,  4,  5,  1],\n",
       "       [ 2,  3,  6, 17],\n",
       "       [ 8,  3,  2,  1]])"
      ]
     },
     "execution_count": 24,
     "metadata": {},
     "output_type": "execute_result"
    }
   ],
   "source": [
    "arr"
   ]
  },
  {
   "cell_type": "code",
   "execution_count": 25,
   "id": "7d5d9e6c",
   "metadata": {},
   "outputs": [
    {
     "data": {
      "text/plain": [
       "array([[ 8,  3,  2,  1],\n",
       "       [ 2,  3,  6, 17],\n",
       "       [ 3,  4,  5,  1]])"
      ]
     },
     "execution_count": 25,
     "metadata": {},
     "output_type": "execute_result"
    }
   ],
   "source": [
    "arr[::-1]  # row inverse"
   ]
  },
  {
   "cell_type": "code",
   "execution_count": 27,
   "id": "ad33773c",
   "metadata": {},
   "outputs": [
    {
     "data": {
      "text/plain": [
       "array([[ 3,  4,  5,  1],\n",
       "       [ 2,  3,  6, 17],\n",
       "       [ 8,  3,  2,  1]])"
      ]
     },
     "execution_count": 27,
     "metadata": {},
     "output_type": "execute_result"
    }
   ],
   "source": [
    "arr[::-1][::-1]"
   ]
  },
  {
   "cell_type": "code",
   "execution_count": 29,
   "id": "08334fdf",
   "metadata": {},
   "outputs": [
    {
     "data": {
      "text/plain": [
       "17"
      ]
     },
     "execution_count": 29,
     "metadata": {},
     "output_type": "execute_result"
    }
   ],
   "source": [
    "arr[1, 3]  # [row_indexing/slicing, col_indexing/slicing]"
   ]
  },
  {
   "cell_type": "code",
   "execution_count": 31,
   "id": "10fe0ae8",
   "metadata": {},
   "outputs": [
    {
     "data": {
      "text/plain": [
       "5"
      ]
     },
     "execution_count": 31,
     "metadata": {},
     "output_type": "execute_result"
    }
   ],
   "source": [
    "arr[0, 2]"
   ]
  },
  {
   "cell_type": "code",
   "execution_count": 32,
   "id": "59d96ba2",
   "metadata": {},
   "outputs": [
    {
     "data": {
      "text/plain": [
       "array([[ 1,  2,  3,  8],\n",
       "       [17,  6,  3,  2],\n",
       "       [ 1,  5,  4,  3]])"
      ]
     },
     "execution_count": 32,
     "metadata": {},
     "output_type": "execute_result"
    }
   ],
   "source": [
    "arr[::-1, ::-1]"
   ]
  },
  {
   "cell_type": "code",
   "execution_count": 34,
   "id": "66b69d3a",
   "metadata": {},
   "outputs": [
    {
     "data": {
      "text/plain": [
       "array([[ 8,  3,  2,  1],\n",
       "       [ 2,  3,  6, 17],\n",
       "       [ 3,  4,  5,  1]])"
      ]
     },
     "execution_count": 34,
     "metadata": {},
     "output_type": "execute_result"
    }
   ],
   "source": [
    "arr[::-1]"
   ]
  },
  {
   "cell_type": "code",
   "execution_count": 35,
   "id": "b44ed2d6",
   "metadata": {},
   "outputs": [
    {
     "data": {
      "text/plain": [
       "array([[ 3,  4,  5,  1],\n",
       "       [ 2,  3,  6, 17],\n",
       "       [ 8,  3,  2,  1]])"
      ]
     },
     "execution_count": 35,
     "metadata": {},
     "output_type": "execute_result"
    }
   ],
   "source": [
    "arr"
   ]
  },
  {
   "cell_type": "code",
   "execution_count": 36,
   "id": "6dae5fa9",
   "metadata": {},
   "outputs": [
    {
     "data": {
      "text/plain": [
       "array([[3, 5],\n",
       "       [8, 2]])"
      ]
     },
     "execution_count": 36,
     "metadata": {},
     "output_type": "execute_result"
    }
   ],
   "source": [
    "arr[::2, ::2]"
   ]
  },
  {
   "cell_type": "code",
   "execution_count": 37,
   "id": "77d1b2ee",
   "metadata": {},
   "outputs": [
    {
     "data": {
      "text/plain": [
       "array([[ 3,  4,  5,  1],\n",
       "       [ 2,  3,  6, 17]])"
      ]
     },
     "execution_count": 37,
     "metadata": {},
     "output_type": "execute_result"
    }
   ],
   "source": [
    "arr[:2, :]"
   ]
  },
  {
   "cell_type": "code",
   "execution_count": 38,
   "id": "07694f5c",
   "metadata": {},
   "outputs": [
    {
     "data": {
      "text/plain": [
       "array([5, 6, 2])"
      ]
     },
     "execution_count": 38,
     "metadata": {},
     "output_type": "execute_result"
    }
   ],
   "source": [
    "arr[:, 2]"
   ]
  },
  {
   "cell_type": "code",
   "execution_count": 39,
   "id": "21d82371",
   "metadata": {},
   "outputs": [
    {
     "data": {
      "text/plain": [
       "array([[3, 5],\n",
       "       [2, 6],\n",
       "       [8, 2]])"
      ]
     },
     "execution_count": 39,
     "metadata": {},
     "output_type": "execute_result"
    }
   ],
   "source": [
    "arr[:, ::2]"
   ]
  },
  {
   "cell_type": "code",
   "execution_count": 40,
   "id": "5db69adb",
   "metadata": {},
   "outputs": [
    {
     "data": {
      "text/plain": [
       "array([8, 2, 3, 2, 1, 7, 4, 6, 8, 2, 1, 4, 3, 1, 2, 4, 4, 1, 7, 9, 8, 1,\n",
       "       8, 9, 3, 6, 7, 2, 5, 8, 2, 7, 3, 4, 1, 1, 5, 4, 5, 9, 5, 5, 9, 4,\n",
       "       3, 6, 1, 5, 7, 7])"
      ]
     },
     "execution_count": 40,
     "metadata": {},
     "output_type": "execute_result"
    }
   ],
   "source": [
    "np.random.randint(1, 10, 50)"
   ]
  },
  {
   "cell_type": "code",
   "execution_count": 42,
   "id": "c65cee3b",
   "metadata": {},
   "outputs": [],
   "source": [
    "arr2d = np.random.randint(1, 10, (10, 5))"
   ]
  },
  {
   "cell_type": "code",
   "execution_count": 43,
   "id": "0dba4027",
   "metadata": {},
   "outputs": [
    {
     "data": {
      "text/plain": [
       "array([[9, 2, 6, 1, 5],\n",
       "       [2, 1, 4, 7, 9],\n",
       "       [8, 1, 8, 3, 7],\n",
       "       [9, 4, 3, 1, 9],\n",
       "       [7, 1, 7, 5, 2],\n",
       "       [5, 7, 6, 4, 6],\n",
       "       [7, 2, 4, 2, 4],\n",
       "       [4, 9, 4, 9, 7],\n",
       "       [5, 9, 4, 8, 7],\n",
       "       [1, 9, 7, 7, 4]])"
      ]
     },
     "execution_count": 43,
     "metadata": {},
     "output_type": "execute_result"
    }
   ],
   "source": [
    "arr2d"
   ]
  },
  {
   "cell_type": "markdown",
   "id": "8fcb1aa2",
   "metadata": {},
   "source": [
    "    [[3, 8, 1],\n",
    "     [4, 6, 7],\n",
    "     [8, 4, 9]\n",
    "    ]"
   ]
  },
  {
   "cell_type": "code",
   "execution_count": 45,
   "id": "d00da1bd",
   "metadata": {},
   "outputs": [
    {
     "data": {
      "text/plain": [
       "array([], shape=(1, 0), dtype=int32)"
      ]
     },
     "execution_count": 45,
     "metadata": {},
     "output_type": "execute_result"
    }
   ],
   "source": [
    "arr2d[2:5:8 ,1:3:-1]"
   ]
  },
  {
   "cell_type": "code",
   "execution_count": 46,
   "id": "eadbf872",
   "metadata": {},
   "outputs": [
    {
     "data": {
      "text/plain": [
       "array([], shape=(4, 0), dtype=int32)"
      ]
     },
     "execution_count": 46,
     "metadata": {},
     "output_type": "execute_result"
    }
   ],
   "source": [
    "arr2d[3:10:2, 1:4:-1]"
   ]
  },
  {
   "cell_type": "code",
   "execution_count": 47,
   "id": "b52fb0d1",
   "metadata": {},
   "outputs": [
    {
     "data": {
      "text/plain": [
       "array([[3, 8, 1],\n",
       "       [4, 6, 7],\n",
       "       [8, 4, 9]])"
      ]
     },
     "execution_count": 47,
     "metadata": {},
     "output_type": "execute_result"
    }
   ],
   "source": [
    "arr2d[2:9:3, 3:0:-1]"
   ]
  },
  {
   "cell_type": "code",
   "execution_count": 48,
   "id": "7d8ccefd",
   "metadata": {},
   "outputs": [
    {
     "data": {
      "text/plain": [
       "array([[3, 8, 1],\n",
       "       [4, 6, 7],\n",
       "       [8, 4, 9]])"
      ]
     },
     "execution_count": 48,
     "metadata": {},
     "output_type": "execute_result"
    }
   ],
   "source": [
    "arr2d[2::3, -2:-5:-1]"
   ]
  },
  {
   "cell_type": "code",
   "execution_count": 44,
   "id": "b7dbab01",
   "metadata": {},
   "outputs": [
    {
     "data": {
      "text/plain": [
       "array([[7, 3, 8, 1, 8],\n",
       "       [2, 5, 7, 1, 7],\n",
       "       [4, 2, 4, 2, 7]])"
      ]
     },
     "execution_count": 44,
     "metadata": {},
     "output_type": "execute_result"
    }
   ],
   "source": [
    "arr2d[2:8:2, ::-1]"
   ]
  },
  {
   "cell_type": "code",
   "execution_count": 49,
   "id": "d94a217b",
   "metadata": {},
   "outputs": [
    {
     "data": {
      "text/plain": [
       "5.24"
      ]
     },
     "execution_count": 49,
     "metadata": {},
     "output_type": "execute_result"
    }
   ],
   "source": [
    "arr2d.mean()"
   ]
  },
  {
   "cell_type": "code",
   "execution_count": 50,
   "id": "f41ce4a3",
   "metadata": {},
   "outputs": [
    {
     "data": {
      "text/plain": [
       "array([[ 3,  4,  5,  1],\n",
       "       [ 2,  3,  6, 17],\n",
       "       [ 8,  3,  2,  1]])"
      ]
     },
     "execution_count": 50,
     "metadata": {},
     "output_type": "execute_result"
    }
   ],
   "source": [
    "arr"
   ]
  },
  {
   "cell_type": "code",
   "execution_count": 51,
   "id": "adac3b2c",
   "metadata": {},
   "outputs": [
    {
     "data": {
      "text/plain": [
       "array([4.33333333, 3.33333333, 4.33333333, 6.33333333])"
      ]
     },
     "execution_count": 51,
     "metadata": {},
     "output_type": "execute_result"
    }
   ],
   "source": [
    "arr.mean(axis=0) # column wise"
   ]
  },
  {
   "cell_type": "code",
   "execution_count": 53,
   "id": "c938d5d0",
   "metadata": {},
   "outputs": [
    {
     "data": {
      "text/plain": [
       "4.333333333333333"
      ]
     },
     "execution_count": 53,
     "metadata": {},
     "output_type": "execute_result"
    }
   ],
   "source": [
    "(3+2+8)/3"
   ]
  },
  {
   "cell_type": "code",
   "execution_count": 57,
   "id": "a5a89b38",
   "metadata": {},
   "outputs": [
    {
     "data": {
      "text/plain": [
       "4.333333333333333"
      ]
     },
     "execution_count": 57,
     "metadata": {},
     "output_type": "execute_result"
    }
   ],
   "source": [
    "(5+6+2)/3"
   ]
  },
  {
   "cell_type": "code",
   "execution_count": 58,
   "id": "1236adda",
   "metadata": {},
   "outputs": [
    {
     "data": {
      "text/plain": [
       "6.333333333333333"
      ]
     },
     "execution_count": 58,
     "metadata": {},
     "output_type": "execute_result"
    }
   ],
   "source": [
    "19/3"
   ]
  },
  {
   "cell_type": "code",
   "execution_count": 59,
   "id": "da391b9b",
   "metadata": {},
   "outputs": [
    {
     "data": {
      "text/plain": [
       "array([3.25, 7.  , 3.5 ])"
      ]
     },
     "execution_count": 59,
     "metadata": {},
     "output_type": "execute_result"
    }
   ],
   "source": [
    "arr.mean(axis=1)  # row wise"
   ]
  },
  {
   "cell_type": "code",
   "execution_count": 60,
   "id": "67bb5ccc",
   "metadata": {},
   "outputs": [
    {
     "data": {
      "text/plain": [
       "3.25"
      ]
     },
     "execution_count": 60,
     "metadata": {},
     "output_type": "execute_result"
    }
   ],
   "source": [
    "sum([ 3,  4,  5,  1])/4"
   ]
  },
  {
   "cell_type": "code",
   "execution_count": 61,
   "id": "72fc499d",
   "metadata": {},
   "outputs": [
    {
     "data": {
      "text/plain": [
       "55"
      ]
     },
     "execution_count": 61,
     "metadata": {},
     "output_type": "execute_result"
    }
   ],
   "source": [
    "arr.sum()"
   ]
  },
  {
   "cell_type": "code",
   "execution_count": 62,
   "id": "e07981b9",
   "metadata": {},
   "outputs": [
    {
     "data": {
      "text/plain": [
       "array([[ 3,  4,  5,  1],\n",
       "       [ 2,  3,  6, 17],\n",
       "       [ 8,  3,  2,  1]])"
      ]
     },
     "execution_count": 62,
     "metadata": {},
     "output_type": "execute_result"
    }
   ],
   "source": [
    "arr"
   ]
  },
  {
   "cell_type": "code",
   "execution_count": 63,
   "id": "80d8dc76",
   "metadata": {},
   "outputs": [
    {
     "data": {
      "text/plain": [
       "array([13, 28, 14])"
      ]
     },
     "execution_count": 63,
     "metadata": {},
     "output_type": "execute_result"
    }
   ],
   "source": [
    "arr.sum(axis=1)"
   ]
  },
  {
   "cell_type": "code",
   "execution_count": 64,
   "id": "f743cf5e",
   "metadata": {},
   "outputs": [
    {
     "data": {
      "text/plain": [
       "13"
      ]
     },
     "execution_count": 64,
     "metadata": {},
     "output_type": "execute_result"
    }
   ],
   "source": [
    "sum([ 3,  4,  5,  1])"
   ]
  },
  {
   "cell_type": "code",
   "execution_count": 66,
   "id": "b600dab2",
   "metadata": {},
   "outputs": [
    {
     "data": {
      "text/plain": [
       "array([13, 10, 13, 19])"
      ]
     },
     "execution_count": 66,
     "metadata": {},
     "output_type": "execute_result"
    }
   ],
   "source": [
    "arr.sum(axis=0)"
   ]
  },
  {
   "cell_type": "markdown",
   "id": "b1b46a5f",
   "metadata": {},
   "source": [
    "### 3D\n",
    "\n",
    "    collection of 2D array\n",
    "    \n",
    "    [\n",
    "        [\n",
    "            [1, 2],\n",
    "            [3, 4]\n",
    "        ],\n",
    "        \n",
    "        [\n",
    "            [1, 2],\n",
    "            [3, 4]\n",
    "        ],\n",
    "    ]"
   ]
  },
  {
   "cell_type": "markdown",
   "id": "d92a4b3b",
   "metadata": {},
   "source": [
    "### Create a function which will create 3D list using list comprehension\n",
    "    Also subtract 3D list using List Comprehension"
   ]
  },
  {
   "cell_type": "code",
   "execution_count": 67,
   "id": "efd797d5",
   "metadata": {},
   "outputs": [],
   "source": [
    "arr3d = np.array([\n",
    "    [\n",
    "        [1, 2],\n",
    "        [3, 4]\n",
    "    ],\n",
    "    [\n",
    "        [1, 2],\n",
    "        [3, 4]\n",
    "    ]\n",
    "])"
   ]
  },
  {
   "cell_type": "code",
   "execution_count": 68,
   "id": "ee6508d9",
   "metadata": {},
   "outputs": [
    {
     "data": {
      "text/plain": [
       "array([[[1, 2],\n",
       "        [3, 4]],\n",
       "\n",
       "       [[1, 2],\n",
       "        [3, 4]]])"
      ]
     },
     "execution_count": 68,
     "metadata": {},
     "output_type": "execute_result"
    }
   ],
   "source": [
    "arr3d"
   ]
  },
  {
   "cell_type": "code",
   "execution_count": 69,
   "id": "c65735c7",
   "metadata": {},
   "outputs": [
    {
     "name": "stdout",
     "output_type": "stream",
     "text": [
      "\n",
      " Dim :  3\n",
      "\n",
      " Shape :  (2, 2, 2)\n",
      "\n",
      " Size :  8\n",
      "\n",
      " Data Type :  int32\n"
     ]
    }
   ],
   "source": [
    "print(\"\\n Dim : \", arr3d.ndim)\n",
    "print(\"\\n Shape : \", arr3d.shape)  # (no_of_2d array, rows, columns)\n",
    "print(\"\\n Size : \", arr3d.size)\n",
    "print(\"\\n Data Type : \", arr3d.dtype)"
   ]
  },
  {
   "cell_type": "code",
   "execution_count": 70,
   "id": "8a8c9587",
   "metadata": {},
   "outputs": [
    {
     "name": "stderr",
     "output_type": "stream",
     "text": [
      "<ipython-input-70-11bb111a8a86>:1: VisibleDeprecationWarning: Creating an ndarray from ragged nested sequences (which is a list-or-tuple of lists-or-tuples-or ndarrays with different lengths or shapes) is deprecated. If you meant to do this, you must specify 'dtype=object' when creating the ndarray\n",
      "  a = np.array([\n"
     ]
    }
   ],
   "source": [
    "a = np.array([\n",
    "    [\n",
    "        [1, 2],\n",
    "        [3, 4],\n",
    "        [13, 14]\n",
    "    ],\n",
    "    [\n",
    "        [1, 2],\n",
    "        [3, 4]\n",
    "    ]\n",
    "])"
   ]
  },
  {
   "cell_type": "code",
   "execution_count": 71,
   "id": "5e5cfaef",
   "metadata": {},
   "outputs": [
    {
     "data": {
      "text/plain": [
       "1"
      ]
     },
     "execution_count": 71,
     "metadata": {},
     "output_type": "execute_result"
    }
   ],
   "source": [
    "a.ndim"
   ]
  },
  {
   "cell_type": "code",
   "execution_count": 72,
   "id": "c67062c8",
   "metadata": {},
   "outputs": [
    {
     "data": {
      "text/plain": [
       "array([list([[1, 2], [3, 4], [13, 14]]), list([[1, 2], [3, 4]])],\n",
       "      dtype=object)"
      ]
     },
     "execution_count": 72,
     "metadata": {},
     "output_type": "execute_result"
    }
   ],
   "source": [
    "a"
   ]
  },
  {
   "cell_type": "code",
   "execution_count": 73,
   "id": "e0329f64",
   "metadata": {},
   "outputs": [
    {
     "data": {
      "text/plain": [
       "(2,)"
      ]
     },
     "execution_count": 73,
     "metadata": {},
     "output_type": "execute_result"
    }
   ],
   "source": [
    "a.shape"
   ]
  },
  {
   "cell_type": "code",
   "execution_count": 74,
   "id": "88ce09bd",
   "metadata": {},
   "outputs": [
    {
     "data": {
      "text/plain": [
       "array([[[1, 2],\n",
       "        [3, 4]],\n",
       "\n",
       "       [[1, 2],\n",
       "        [3, 4]]])"
      ]
     },
     "execution_count": 74,
     "metadata": {},
     "output_type": "execute_result"
    }
   ],
   "source": [
    "arr3d"
   ]
  },
  {
   "cell_type": "code",
   "execution_count": 75,
   "id": "59c889a5",
   "metadata": {},
   "outputs": [
    {
     "data": {
      "text/plain": [
       "2.5"
      ]
     },
     "execution_count": 75,
     "metadata": {},
     "output_type": "execute_result"
    }
   ],
   "source": [
    "arr3d.mean()"
   ]
  },
  {
   "cell_type": "code",
   "execution_count": 76,
   "id": "52a1b438",
   "metadata": {},
   "outputs": [
    {
     "data": {
      "text/plain": [
       "20"
      ]
     },
     "execution_count": 76,
     "metadata": {},
     "output_type": "execute_result"
    }
   ],
   "source": [
    "arr3d.sum()"
   ]
  },
  {
   "cell_type": "code",
   "execution_count": 77,
   "id": "6bef9748",
   "metadata": {},
   "outputs": [
    {
     "data": {
      "text/plain": [
       "1.25"
      ]
     },
     "execution_count": 77,
     "metadata": {},
     "output_type": "execute_result"
    }
   ],
   "source": [
    "arr3d.var()"
   ]
  },
  {
   "cell_type": "code",
   "execution_count": 78,
   "id": "9bd1512e",
   "metadata": {},
   "outputs": [
    {
     "data": {
      "text/plain": [
       "1.118033988749895"
      ]
     },
     "execution_count": 78,
     "metadata": {},
     "output_type": "execute_result"
    }
   ],
   "source": [
    "arr3d.std()"
   ]
  },
  {
   "cell_type": "code",
   "execution_count": 79,
   "id": "816f053a",
   "metadata": {},
   "outputs": [
    {
     "data": {
      "text/plain": [
       "b'\\x01\\x00\\x00\\x00\\x02\\x00\\x00\\x00\\x03\\x00\\x00\\x00\\x04\\x00\\x00\\x00\\x01\\x00\\x00\\x00\\x02\\x00\\x00\\x00\\x03\\x00\\x00\\x00\\x04\\x00\\x00\\x00'"
      ]
     },
     "execution_count": 79,
     "metadata": {},
     "output_type": "execute_result"
    }
   ],
   "source": [
    "arr3d.tobytes()"
   ]
  },
  {
   "cell_type": "code",
   "execution_count": 81,
   "id": "cb40080b",
   "metadata": {},
   "outputs": [
    {
     "data": {
      "text/plain": [
       "b'\\t\\x00\\x00\\x00\\x02\\x00\\x00\\x00\\x06\\x00\\x00\\x00\\x01\\x00\\x00\\x00\\x05\\x00\\x00\\x00\\x02\\x00\\x00\\x00\\x01\\x00\\x00\\x00\\x04\\x00\\x00\\x00\\x07\\x00\\x00\\x00\\t\\x00\\x00\\x00\\x08\\x00\\x00\\x00\\x01\\x00\\x00\\x00\\x08\\x00\\x00\\x00\\x03\\x00\\x00\\x00\\x07\\x00\\x00\\x00\\t\\x00\\x00\\x00\\x04\\x00\\x00\\x00\\x03\\x00\\x00\\x00\\x01\\x00\\x00\\x00\\t\\x00\\x00\\x00\\x07\\x00\\x00\\x00\\x01\\x00\\x00\\x00\\x07\\x00\\x00\\x00\\x05\\x00\\x00\\x00\\x02\\x00\\x00\\x00\\x05\\x00\\x00\\x00\\x07\\x00\\x00\\x00\\x06\\x00\\x00\\x00\\x04\\x00\\x00\\x00\\x06\\x00\\x00\\x00\\x07\\x00\\x00\\x00\\x02\\x00\\x00\\x00\\x04\\x00\\x00\\x00\\x02\\x00\\x00\\x00\\x04\\x00\\x00\\x00\\x04\\x00\\x00\\x00\\t\\x00\\x00\\x00\\x04\\x00\\x00\\x00\\t\\x00\\x00\\x00\\x07\\x00\\x00\\x00\\x05\\x00\\x00\\x00\\t\\x00\\x00\\x00\\x04\\x00\\x00\\x00\\x08\\x00\\x00\\x00\\x07\\x00\\x00\\x00\\x01\\x00\\x00\\x00\\t\\x00\\x00\\x00\\x07\\x00\\x00\\x00\\x07\\x00\\x00\\x00\\x04\\x00\\x00\\x00'"
      ]
     },
     "execution_count": 81,
     "metadata": {},
     "output_type": "execute_result"
    }
   ],
   "source": [
    "arr2d.tobytes()"
   ]
  },
  {
   "cell_type": "code",
   "execution_count": 86,
   "id": "5340a5b1",
   "metadata": {},
   "outputs": [
    {
     "data": {
      "text/plain": [
       "array([[9, 2, 6, 1, 5],\n",
       "       [2, 1, 4, 7, 9],\n",
       "       [8, 1, 8, 3, 7],\n",
       "       [9, 4, 3, 1, 9],\n",
       "       [7, 1, 7, 5, 2],\n",
       "       [5, 7, 6, 4, 6],\n",
       "       [7, 2, 4, 2, 4],\n",
       "       [4, 9, 4, 9, 7],\n",
       "       [5, 9, 4, 8, 7],\n",
       "       [1, 9, 7, 7, 4]])"
      ]
     },
     "execution_count": 86,
     "metadata": {},
     "output_type": "execute_result"
    }
   ],
   "source": [
    "arr2d"
   ]
  },
  {
   "cell_type": "code",
   "execution_count": 83,
   "id": "69a48ca7",
   "metadata": {},
   "outputs": [],
   "source": [
    "arr2d.tofile('one.txt')"
   ]
  },
  {
   "cell_type": "code",
   "execution_count": 84,
   "id": "f499da27",
   "metadata": {},
   "outputs": [
    {
     "name": "stdout",
     "output_type": "stream",
     "text": [
      " Volume in drive C has no label.\n",
      " Volume Serial Number is 766E-A7C0\n",
      "\n",
      " Directory of C:\\Users\\Simran Grover\\Grras Solution Pvt. Ltd\\DataScience_11 00AM - Live Class ??\\datascience_notes\\Analysis\\Numpy\n",
      "\n",
      "26-08-2021  12:36    <DIR>          .\n",
      "26-08-2021  12:36    <DIR>          ..\n",
      "26-08-2021  11:35    <DIR>          .ipynb_checkpoints\n",
      "24-08-2021  12:05             9,629 1. Numpy.ipynb\n",
      "25-08-2021  12:49            38,424 2. Numpy.ipynb\n",
      "26-08-2021  12:35            24,159 3. Numpy.ipynb\n",
      "26-08-2021  12:36               200 one.txt\n",
      "               4 File(s)         72,412 bytes\n",
      "               3 Dir(s)  191,825,608,704 bytes free\n"
     ]
    }
   ],
   "source": [
    "ls"
   ]
  },
  {
   "cell_type": "code",
   "execution_count": 85,
   "id": "8d52da4c",
   "metadata": {},
   "outputs": [
    {
     "name": "stdout",
     "output_type": "stream",
     "text": [
      "\t\u0000\u0000\u0000\u0002\u0000\u0000\u0000\u0006\u0000\u0000\u0000\u0001\u0000\u0000\u0000\u0005\u0000\u0000\u0000\u0002\u0000\u0000\u0000\u0001\u0000\u0000\u0000\u0004\u0000\u0000\u0000\u0007\u0000\u0000\u0000\t\u0000\u0000\u0000\b\u0000\u0000\u0000\u0001\u0000\u0000\u0000\b\u0000\u0000\u0000\u0003\u0000\u0000\u0000\u0007\u0000\u0000\u0000\t\u0000\u0000\u0000\u0004\u0000\u0000\u0000\u0003\u0000\u0000\u0000\u0001\u0000\u0000\u0000\t\u0000\u0000\u0000\u0007\u0000\u0000\u0000\u0001\u0000\u0000\u0000\u0007\u0000\u0000\u0000\u0005\u0000\u0000\u0000\u0002\u0000\u0000\u0000\u0005\u0000\u0000\u0000\u0007\u0000\u0000\u0000\u0006\u0000\u0000\u0000\u0004\u0000\u0000\u0000\u0006\u0000\u0000\u0000\u0007\u0000\u0000\u0000\u0002\u0000\u0000\u0000\u0004\u0000\u0000\u0000\u0002\u0000\u0000\u0000\u0004\u0000\u0000\u0000\u0004\u0000\u0000\u0000\t\u0000\u0000\u0000\u0004\u0000\u0000\u0000\t\u0000\u0000\u0000\u0007\u0000\u0000\u0000\u0005\u0000\u0000\u0000\t\u0000\u0000\u0000\u0004\u0000\u0000\u0000\b\u0000\u0000\u0000\u0007\u0000\u0000\u0000\u0001\u0000\u0000\u0000\t\u0000\u0000\u0000\u0007\u0000\u0000\u0000\u0007\u0000\u0000\u0000\u0004\u0000\u0000\u0000\n"
     ]
    }
   ],
   "source": [
    "with open(\"one.txt\") as fp:\n",
    "    print(fp.read())"
   ]
  },
  {
   "cell_type": "code",
   "execution_count": 87,
   "id": "b9f684af",
   "metadata": {},
   "outputs": [],
   "source": [
    "b = arr2d.tobytes()"
   ]
  },
  {
   "cell_type": "code",
   "execution_count": 88,
   "id": "c23d1439",
   "metadata": {},
   "outputs": [
    {
     "data": {
      "text/plain": [
       "b'\\t\\x00\\x00\\x00\\x02\\x00\\x00\\x00\\x06\\x00\\x00\\x00\\x01\\x00\\x00\\x00\\x05\\x00\\x00\\x00\\x02\\x00\\x00\\x00\\x01\\x00\\x00\\x00\\x04\\x00\\x00\\x00\\x07\\x00\\x00\\x00\\t\\x00\\x00\\x00\\x08\\x00\\x00\\x00\\x01\\x00\\x00\\x00\\x08\\x00\\x00\\x00\\x03\\x00\\x00\\x00\\x07\\x00\\x00\\x00\\t\\x00\\x00\\x00\\x04\\x00\\x00\\x00\\x03\\x00\\x00\\x00\\x01\\x00\\x00\\x00\\t\\x00\\x00\\x00\\x07\\x00\\x00\\x00\\x01\\x00\\x00\\x00\\x07\\x00\\x00\\x00\\x05\\x00\\x00\\x00\\x02\\x00\\x00\\x00\\x05\\x00\\x00\\x00\\x07\\x00\\x00\\x00\\x06\\x00\\x00\\x00\\x04\\x00\\x00\\x00\\x06\\x00\\x00\\x00\\x07\\x00\\x00\\x00\\x02\\x00\\x00\\x00\\x04\\x00\\x00\\x00\\x02\\x00\\x00\\x00\\x04\\x00\\x00\\x00\\x04\\x00\\x00\\x00\\t\\x00\\x00\\x00\\x04\\x00\\x00\\x00\\t\\x00\\x00\\x00\\x07\\x00\\x00\\x00\\x05\\x00\\x00\\x00\\t\\x00\\x00\\x00\\x04\\x00\\x00\\x00\\x08\\x00\\x00\\x00\\x07\\x00\\x00\\x00\\x01\\x00\\x00\\x00\\t\\x00\\x00\\x00\\x07\\x00\\x00\\x00\\x07\\x00\\x00\\x00\\x04\\x00\\x00\\x00'"
      ]
     },
     "execution_count": 88,
     "metadata": {},
     "output_type": "execute_result"
    }
   ],
   "source": [
    "b"
   ]
  },
  {
   "cell_type": "code",
   "execution_count": 90,
   "id": "da0caf03",
   "metadata": {},
   "outputs": [
    {
     "data": {
      "text/plain": [
       "array([[9, 2, 6, 1, 5],\n",
       "       [2, 1, 4, 7, 9],\n",
       "       [8, 1, 8, 3, 7],\n",
       "       [9, 4, 3, 1, 9],\n",
       "       [7, 1, 7, 5, 2],\n",
       "       [5, 7, 6, 4, 6],\n",
       "       [7, 2, 4, 2, 4],\n",
       "       [4, 9, 4, 9, 7],\n",
       "       [5, 9, 4, 8, 7],\n",
       "       [1, 9, 7, 7, 4]])"
      ]
     },
     "execution_count": 90,
     "metadata": {},
     "output_type": "execute_result"
    }
   ],
   "source": [
    "arr2d"
   ]
  },
  {
   "cell_type": "code",
   "execution_count": 92,
   "id": "8e69df11",
   "metadata": {},
   "outputs": [
    {
     "data": {
      "text/plain": [
       "dtype('int32')"
      ]
     },
     "execution_count": 92,
     "metadata": {},
     "output_type": "execute_result"
    }
   ],
   "source": [
    "arr2d.dtype"
   ]
  },
  {
   "cell_type": "code",
   "execution_count": 94,
   "id": "954e5754",
   "metadata": {},
   "outputs": [],
   "source": [
    "b = np.frombuffer(b)\n",
    "b.dtype = np.int32"
   ]
  },
  {
   "cell_type": "code",
   "execution_count": 96,
   "id": "5923bb46",
   "metadata": {},
   "outputs": [
    {
     "data": {
      "text/plain": [
       "array([[9, 2, 6, 1, 5],\n",
       "       [2, 1, 4, 7, 9],\n",
       "       [8, 1, 8, 3, 7],\n",
       "       [9, 4, 3, 1, 9],\n",
       "       [7, 1, 7, 5, 2],\n",
       "       [5, 7, 6, 4, 6],\n",
       "       [7, 2, 4, 2, 4],\n",
       "       [4, 9, 4, 9, 7],\n",
       "       [5, 9, 4, 8, 7],\n",
       "       [1, 9, 7, 7, 4]])"
      ]
     },
     "execution_count": 96,
     "metadata": {},
     "output_type": "execute_result"
    }
   ],
   "source": [
    "b.reshape(10, 5)  # reshape is used to change shape of arr"
   ]
  },
  {
   "cell_type": "code",
   "execution_count": 99,
   "id": "401b48d6",
   "metadata": {},
   "outputs": [
    {
     "data": {
      "text/plain": [
       "array([[9, 2, 6, 1, 5, 2, 1, 4, 7, 9],\n",
       "       [8, 1, 8, 3, 7, 9, 4, 3, 1, 9],\n",
       "       [7, 1, 7, 5, 2, 5, 7, 6, 4, 6],\n",
       "       [7, 2, 4, 2, 4, 4, 9, 4, 9, 7],\n",
       "       [5, 9, 4, 8, 7, 1, 9, 7, 7, 4]])"
      ]
     },
     "execution_count": 99,
     "metadata": {},
     "output_type": "execute_result"
    }
   ],
   "source": [
    "b.reshape(5, 10)"
   ]
  },
  {
   "cell_type": "code",
   "execution_count": 101,
   "id": "19ca0280",
   "metadata": {},
   "outputs": [
    {
     "data": {
      "text/plain": [
       "array([9, 2, 6, 1, 5, 2, 1, 4, 7, 9, 8, 1, 8, 3, 7, 9, 4, 3, 1, 9, 7, 1,\n",
       "       7, 5, 2, 5, 7, 6, 4, 6, 7, 2, 4, 2, 4, 4, 9, 4, 9, 7, 5, 9, 4, 8,\n",
       "       7, 1, 9, 7, 7, 4])"
      ]
     },
     "execution_count": 101,
     "metadata": {},
     "output_type": "execute_result"
    }
   ],
   "source": [
    "arr2d.reshape(50)"
   ]
  },
  {
   "cell_type": "code",
   "execution_count": 103,
   "id": "0fdc83f0",
   "metadata": {},
   "outputs": [
    {
     "data": {
      "text/plain": [
       "array([[9, 2],\n",
       "       [6, 1],\n",
       "       [5, 2],\n",
       "       [1, 4],\n",
       "       [7, 9],\n",
       "       [8, 1],\n",
       "       [8, 3],\n",
       "       [7, 9],\n",
       "       [4, 3],\n",
       "       [1, 9],\n",
       "       [7, 1],\n",
       "       [7, 5],\n",
       "       [2, 5],\n",
       "       [7, 6],\n",
       "       [4, 6],\n",
       "       [7, 2],\n",
       "       [4, 2],\n",
       "       [4, 4],\n",
       "       [9, 4],\n",
       "       [9, 7],\n",
       "       [5, 9],\n",
       "       [4, 8],\n",
       "       [7, 1],\n",
       "       [9, 7],\n",
       "       [7, 4]])"
      ]
     },
     "execution_count": 103,
     "metadata": {},
     "output_type": "execute_result"
    }
   ],
   "source": [
    "arr2d.reshape(25, 2)"
   ]
  },
  {
   "cell_type": "code",
   "execution_count": 105,
   "id": "1f4db4b2",
   "metadata": {},
   "outputs": [
    {
     "data": {
      "text/plain": [
       "dtype('float64')"
      ]
     },
     "execution_count": 105,
     "metadata": {},
     "output_type": "execute_result"
    }
   ],
   "source": [
    "np.fromfile(\"one.txt\").dtype "
   ]
  },
  {
   "cell_type": "code",
   "execution_count": 106,
   "id": "f2b49419",
   "metadata": {},
   "outputs": [],
   "source": [
    "f = np.fromfile(\"one.txt\")\n",
    "f.dtype = np.int32"
   ]
  },
  {
   "cell_type": "code",
   "execution_count": 108,
   "id": "ffd66594",
   "metadata": {},
   "outputs": [
    {
     "data": {
      "text/plain": [
       "array([9, 2, 6, 1, 5, 2, 1, 4, 7, 9, 8, 1, 8, 3, 7, 9, 4, 3, 1, 9, 7, 1,\n",
       "       7, 5, 2, 5, 7, 6, 4, 6, 7, 2, 4, 2, 4, 4, 9, 4, 9, 7, 5, 9, 4, 8,\n",
       "       7, 1, 9, 7, 7, 4])"
      ]
     },
     "execution_count": 108,
     "metadata": {},
     "output_type": "execute_result"
    }
   ],
   "source": [
    "f"
   ]
  },
  {
   "cell_type": "code",
   "execution_count": 110,
   "id": "1693afea",
   "metadata": {},
   "outputs": [
    {
     "name": "stderr",
     "output_type": "stream",
     "text": [
      "<ipython-input-110-0bbd0773f9e8>:1: DeprecationWarning: tostring() is deprecated. Use tobytes() instead.\n",
      "  arr.tostring()\n"
     ]
    },
    {
     "data": {
      "text/plain": [
       "b'\\x03\\x00\\x00\\x00\\x04\\x00\\x00\\x00\\x05\\x00\\x00\\x00\\x01\\x00\\x00\\x00\\x02\\x00\\x00\\x00\\x03\\x00\\x00\\x00\\x06\\x00\\x00\\x00\\x11\\x00\\x00\\x00\\x08\\x00\\x00\\x00\\x03\\x00\\x00\\x00\\x02\\x00\\x00\\x00\\x01\\x00\\x00\\x00'"
      ]
     },
     "execution_count": 110,
     "metadata": {},
     "output_type": "execute_result"
    }
   ],
   "source": [
    "arr.tostring()"
   ]
  },
  {
   "cell_type": "code",
   "execution_count": 111,
   "id": "91762a43",
   "metadata": {},
   "outputs": [
    {
     "data": {
      "text/plain": [
       "[[3, 4, 5, 1], [2, 3, 6, 17], [8, 3, 2, 1]]"
      ]
     },
     "execution_count": 111,
     "metadata": {},
     "output_type": "execute_result"
    }
   ],
   "source": [
    "arr.tolist()"
   ]
  },
  {
   "cell_type": "code",
   "execution_count": 113,
   "id": "5a251a14",
   "metadata": {},
   "outputs": [
    {
     "data": {
      "text/plain": [
       "(2, 2, 2)"
      ]
     },
     "execution_count": 113,
     "metadata": {},
     "output_type": "execute_result"
    }
   ],
   "source": [
    "arr3d.shape"
   ]
  },
  {
   "cell_type": "code",
   "execution_count": 115,
   "id": "e0ce8543",
   "metadata": {},
   "outputs": [
    {
     "data": {
      "text/plain": [
       "array([[1, 2],\n",
       "       [3, 4]])"
      ]
     },
     "execution_count": 115,
     "metadata": {},
     "output_type": "execute_result"
    }
   ],
   "source": [
    "arr3d[0]"
   ]
  },
  {
   "cell_type": "code",
   "execution_count": 116,
   "id": "9d50d50a",
   "metadata": {},
   "outputs": [
    {
     "data": {
      "text/plain": [
       "array([[1, 2],\n",
       "       [3, 4]])"
      ]
     },
     "execution_count": 116,
     "metadata": {},
     "output_type": "execute_result"
    }
   ],
   "source": [
    "arr3d[1]"
   ]
  },
  {
   "cell_type": "code",
   "execution_count": 117,
   "id": "18fc4dd3",
   "metadata": {},
   "outputs": [
    {
     "data": {
      "text/plain": [
       "array([[[1, 2],\n",
       "        [3, 4]],\n",
       "\n",
       "       [[1, 2],\n",
       "        [3, 4]]])"
      ]
     },
     "execution_count": 117,
     "metadata": {},
     "output_type": "execute_result"
    }
   ],
   "source": [
    "arr3d"
   ]
  },
  {
   "cell_type": "code",
   "execution_count": 120,
   "id": "ac4a237f",
   "metadata": {},
   "outputs": [
    {
     "data": {
      "text/plain": [
       "1"
      ]
     },
     "execution_count": 120,
     "metadata": {},
     "output_type": "execute_result"
    }
   ],
   "source": [
    "arr3d[0][0][0]"
   ]
  },
  {
   "cell_type": "code",
   "execution_count": 122,
   "id": "26c3b4de",
   "metadata": {},
   "outputs": [],
   "source": [
    "arr3d[1][0][0] = 10"
   ]
  },
  {
   "cell_type": "code",
   "execution_count": 123,
   "id": "d2db3a25",
   "metadata": {},
   "outputs": [
    {
     "data": {
      "text/plain": [
       "array([[[ 1,  2],\n",
       "        [ 3,  4]],\n",
       "\n",
       "       [[10,  2],\n",
       "        [ 3,  4]]])"
      ]
     },
     "execution_count": 123,
     "metadata": {},
     "output_type": "execute_result"
    }
   ],
   "source": [
    "arr3d"
   ]
  },
  {
   "cell_type": "code",
   "execution_count": 125,
   "id": "3783d5df",
   "metadata": {},
   "outputs": [
    {
     "data": {
      "text/plain": [
       "array([[[ 1,  2],\n",
       "        [ 3,  4]],\n",
       "\n",
       "       [[10,  2],\n",
       "        [ 3,  4]]])"
      ]
     },
     "execution_count": 125,
     "metadata": {},
     "output_type": "execute_result"
    }
   ],
   "source": [
    "arr3d[::-1][::-1]"
   ]
  },
  {
   "cell_type": "code",
   "execution_count": 126,
   "id": "1e1140c9",
   "metadata": {},
   "outputs": [
    {
     "data": {
      "text/plain": [
       "array([[[ 3,  4],\n",
       "        [10,  2]],\n",
       "\n",
       "       [[ 3,  4],\n",
       "        [ 1,  2]]])"
      ]
     },
     "execution_count": 126,
     "metadata": {},
     "output_type": "execute_result"
    }
   ],
   "source": [
    "arr3d[::-1, ::-1]  # [2d_array, row, col]"
   ]
  },
  {
   "cell_type": "code",
   "execution_count": 127,
   "id": "3accde1e",
   "metadata": {},
   "outputs": [
    {
     "data": {
      "text/plain": [
       "array([[[ 4,  3],\n",
       "        [ 2, 10]],\n",
       "\n",
       "       [[ 4,  3],\n",
       "        [ 2,  1]]])"
      ]
     },
     "execution_count": 127,
     "metadata": {},
     "output_type": "execute_result"
    }
   ],
   "source": [
    "arr3d[::-1, ::-1, ::-1]"
   ]
  },
  {
   "cell_type": "code",
   "execution_count": 128,
   "id": "2d65d964",
   "metadata": {},
   "outputs": [
    {
     "data": {
      "text/plain": [
       "array([[9, 2, 6, 1, 5],\n",
       "       [2, 1, 4, 7, 9],\n",
       "       [8, 1, 8, 3, 7],\n",
       "       [9, 4, 3, 1, 9],\n",
       "       [7, 1, 7, 5, 2],\n",
       "       [5, 7, 6, 4, 6],\n",
       "       [7, 2, 4, 2, 4],\n",
       "       [4, 9, 4, 9, 7],\n",
       "       [5, 9, 4, 8, 7],\n",
       "       [1, 9, 7, 7, 4]])"
      ]
     },
     "execution_count": 128,
     "metadata": {},
     "output_type": "execute_result"
    }
   ],
   "source": [
    "arr2d"
   ]
  },
  {
   "cell_type": "markdown",
   "id": "8dcf8baa",
   "metadata": {},
   "source": [
    "    [\n",
    "        [2, 1, 4, 7, 9],\n",
    "        [8, 1, 8, 3, 7],\n",
    "        [7, 1, 7, 5, 2],\n",
    "        [7, 2, 4, 2, 4],\n",
    "        [4, 9, 4, 9, 7]\n",
    "     ]"
   ]
  },
  {
   "cell_type": "code",
   "execution_count": 134,
   "id": "9275b50f",
   "metadata": {},
   "outputs": [
    {
     "data": {
      "text/plain": [
       "array([[2, 1, 4, 7, 9],\n",
       "       [8, 1, 8, 3, 7],\n",
       "       [7, 1, 7, 5, 2],\n",
       "       [7, 2, 4, 2, 4],\n",
       "       [4, 9, 4, 9, 7]])"
      ]
     },
     "execution_count": 134,
     "metadata": {},
     "output_type": "execute_result"
    }
   ],
   "source": [
    "arr2d[[1, 2, 4, 6, 7]]"
   ]
  },
  {
   "cell_type": "code",
   "execution_count": 135,
   "id": "fd8b60da",
   "metadata": {},
   "outputs": [
    {
     "data": {
      "text/plain": [
       "array([[9, 7, 4, 1, 2],\n",
       "       [7, 3, 8, 1, 8],\n",
       "       [2, 5, 7, 1, 7],\n",
       "       [4, 2, 4, 2, 7],\n",
       "       [7, 9, 4, 9, 4]])"
      ]
     },
     "execution_count": 135,
     "metadata": {},
     "output_type": "execute_result"
    }
   ],
   "source": [
    "arr2d[[1, 2, 4, 6, 7], ::-1]"
   ]
  },
  {
   "cell_type": "code",
   "execution_count": 137,
   "id": "034362cc",
   "metadata": {},
   "outputs": [
    {
     "data": {
      "text/plain": [
       "array([[7, 9],\n",
       "       [3, 7],\n",
       "       [5, 2],\n",
       "       [2, 4],\n",
       "       [9, 7]])"
      ]
     },
     "execution_count": 137,
     "metadata": {},
     "output_type": "execute_result"
    }
   ],
   "source": [
    "arr2d[[1, 2, 4, 6, 7], 3:]"
   ]
  },
  {
   "cell_type": "code",
   "execution_count": 138,
   "id": "735a8669",
   "metadata": {},
   "outputs": [
    {
     "data": {
      "text/plain": [
       "array([[2, 6, 5],\n",
       "       [1, 4, 9],\n",
       "       [1, 8, 7],\n",
       "       [4, 3, 9],\n",
       "       [1, 7, 2],\n",
       "       [7, 6, 6],\n",
       "       [2, 4, 4],\n",
       "       [9, 4, 7],\n",
       "       [9, 4, 7],\n",
       "       [9, 7, 4]])"
      ]
     },
     "execution_count": 138,
     "metadata": {},
     "output_type": "execute_result"
    }
   ],
   "source": [
    "arr2d[:, [1, 2, 4]]"
   ]
  },
  {
   "cell_type": "code",
   "execution_count": 139,
   "id": "738612fd",
   "metadata": {},
   "outputs": [
    {
     "data": {
      "text/plain": [
       "array([[[ 1,  2],\n",
       "        [ 3,  4]],\n",
       "\n",
       "       [[10,  2],\n",
       "        [ 3,  4]]])"
      ]
     },
     "execution_count": 139,
     "metadata": {},
     "output_type": "execute_result"
    }
   ],
   "source": [
    "arr3d"
   ]
  },
  {
   "cell_type": "code",
   "execution_count": 140,
   "id": "a71a29da",
   "metadata": {},
   "outputs": [
    {
     "data": {
      "text/plain": [
       "array([[3, 4],\n",
       "       [3, 4]])"
      ]
     },
     "execution_count": 140,
     "metadata": {},
     "output_type": "execute_result"
    }
   ],
   "source": [
    "arr3d[:, 1, :]"
   ]
  },
  {
   "cell_type": "code",
   "execution_count": 142,
   "id": "a8d59471",
   "metadata": {},
   "outputs": [
    {
     "data": {
      "text/plain": [
       "array([4, 4])"
      ]
     },
     "execution_count": 142,
     "metadata": {},
     "output_type": "execute_result"
    }
   ],
   "source": [
    "arr3d[:, 1, 1]"
   ]
  },
  {
   "cell_type": "code",
   "execution_count": 145,
   "id": "d879ecf4",
   "metadata": {},
   "outputs": [],
   "source": [
    "b = arr2d.reshape(2, 5, 5)"
   ]
  },
  {
   "cell_type": "code",
   "execution_count": 147,
   "id": "ed31cb81",
   "metadata": {},
   "outputs": [
    {
     "data": {
      "text/plain": [
       "array([[[9, 2, 6, 1, 5],\n",
       "        [9, 4, 3, 1, 9],\n",
       "        [7, 1, 7, 5, 2]],\n",
       "\n",
       "       [[5, 7, 6, 4, 6],\n",
       "        [5, 9, 4, 8, 7],\n",
       "        [1, 9, 7, 7, 4]]])"
      ]
     },
     "execution_count": 147,
     "metadata": {},
     "output_type": "execute_result"
    }
   ],
   "source": [
    "b[:, [0, 3, 4], :]"
   ]
  },
  {
   "cell_type": "code",
   "execution_count": null,
   "id": "01ef5e8d",
   "metadata": {},
   "outputs": [],
   "source": []
  }
 ],
 "metadata": {
  "kernelspec": {
   "display_name": "Python 3",
   "language": "python",
   "name": "python3"
  },
  "language_info": {
   "codemirror_mode": {
    "name": "ipython",
    "version": 3
   },
   "file_extension": ".py",
   "mimetype": "text/x-python",
   "name": "python",
   "nbconvert_exporter": "python",
   "pygments_lexer": "ipython3",
   "version": "3.8.8"
  }
 },
 "nbformat": 4,
 "nbformat_minor": 5
}
