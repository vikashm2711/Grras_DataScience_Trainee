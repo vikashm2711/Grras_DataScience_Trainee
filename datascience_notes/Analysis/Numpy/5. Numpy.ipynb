{
 "cells": [
  {
   "cell_type": "code",
   "execution_count": 41,
   "id": "db6d63a9",
   "metadata": {},
   "outputs": [],
   "source": [
    "import numpy as np\n",
    "import matplotlib.pyplot as plt"
   ]
  },
  {
   "cell_type": "markdown",
   "id": "f4456d5b",
   "metadata": {},
   "source": [
    "#### Operations"
   ]
  },
  {
   "cell_type": "code",
   "execution_count": 11,
   "id": "ac2aae44",
   "metadata": {},
   "outputs": [],
   "source": [
    "name = np.array(['heta', 'ashish', 'aman', 'lakshay', 'hanzal', 'vikash', 'vijay', 'vishal'])\n",
    "dose1 = np.array(['yes', 'yes', 'no', 'no', 'yes', 'yes', 'no', 'yes'])\n",
    "dose2 =  np.random.choice(['yes', 'no'], 8)"
   ]
  },
  {
   "cell_type": "code",
   "execution_count": 12,
   "id": "a24a8b74",
   "metadata": {},
   "outputs": [
    {
     "data": {
      "text/plain": [
       "array(['no', 'yes', 'yes', 'no', 'no', 'no', 'yes', 'no'], dtype='<U3')"
      ]
     },
     "execution_count": 12,
     "metadata": {},
     "output_type": "execute_result"
    }
   ],
   "source": [
    "dose2"
   ]
  },
  {
   "cell_type": "code",
   "execution_count": 14,
   "id": "fb7be484",
   "metadata": {},
   "outputs": [],
   "source": [
    "dose2[2] = \"no\"\n",
    "dose2[-2] = \"no\""
   ]
  },
  {
   "cell_type": "code",
   "execution_count": 15,
   "id": "ddb9d47e",
   "metadata": {},
   "outputs": [
    {
     "data": {
      "text/plain": [
       "array(['no', 'yes', 'no', 'no', 'no', 'no', 'no', 'no'], dtype='<U3')"
      ]
     },
     "execution_count": 15,
     "metadata": {},
     "output_type": "execute_result"
    }
   ],
   "source": [
    "dose2"
   ]
  },
  {
   "cell_type": "code",
   "execution_count": 16,
   "id": "281a9045",
   "metadata": {},
   "outputs": [
    {
     "data": {
      "text/plain": [
       "array(['yes', 'yes', 'no', 'no', 'yes', 'yes', 'no', 'yes'], dtype='<U3')"
      ]
     },
     "execution_count": 16,
     "metadata": {},
     "output_type": "execute_result"
    }
   ],
   "source": [
    "dose1"
   ]
  },
  {
   "cell_type": "code",
   "execution_count": 17,
   "id": "55637d86",
   "metadata": {},
   "outputs": [
    {
     "data": {
      "text/plain": [
       "array(['heta', 'ashish', 'aman', 'lakshay', 'hanzal', 'vikash', 'vijay',\n",
       "       'vishal'], dtype='<U7')"
      ]
     },
     "execution_count": 17,
     "metadata": {},
     "output_type": "execute_result"
    }
   ],
   "source": [
    "name"
   ]
  },
  {
   "cell_type": "code",
   "execution_count": 19,
   "id": "cce435d0",
   "metadata": {},
   "outputs": [
    {
     "data": {
      "text/plain": [
       "array(['ashish'], dtype='<U7')"
      ]
     },
     "execution_count": 19,
     "metadata": {},
     "output_type": "execute_result"
    }
   ],
   "source": [
    "name[(dose1 == \"yes\") & (dose2 == \"yes\")]"
   ]
  },
  {
   "cell_type": "code",
   "execution_count": 20,
   "id": "6ebe55b5",
   "metadata": {},
   "outputs": [
    {
     "data": {
      "text/plain": [
       "array(['heta', 'ashish', 'aman', 'lakshay', 'hanzal', 'vikash', 'vijay',\n",
       "       'vishal'], dtype='<U7')"
      ]
     },
     "execution_count": 20,
     "metadata": {},
     "output_type": "execute_result"
    }
   ],
   "source": [
    "name"
   ]
  },
  {
   "cell_type": "code",
   "execution_count": 21,
   "id": "c9d87823",
   "metadata": {},
   "outputs": [
    {
     "data": {
      "text/plain": [
       "array(['yes', 'yes', 'no', 'no', 'yes', 'yes', 'no', 'yes'], dtype='<U3')"
      ]
     },
     "execution_count": 21,
     "metadata": {},
     "output_type": "execute_result"
    }
   ],
   "source": [
    "dose1"
   ]
  },
  {
   "cell_type": "code",
   "execution_count": 22,
   "id": "3424feeb",
   "metadata": {},
   "outputs": [
    {
     "data": {
      "text/plain": [
       "array(['no', 'yes', 'no', 'no', 'no', 'no', 'no', 'no'], dtype='<U3')"
      ]
     },
     "execution_count": 22,
     "metadata": {},
     "output_type": "execute_result"
    }
   ],
   "source": [
    "dose2"
   ]
  },
  {
   "cell_type": "code",
   "execution_count": 28,
   "id": "8077bff8",
   "metadata": {},
   "outputs": [
    {
     "data": {
      "text/plain": [
       "62.5"
      ]
     },
     "execution_count": 28,
     "metadata": {},
     "output_type": "execute_result"
    }
   ],
   "source": [
    "((dose1 == \"yes\").sum()/len(dose1))*100"
   ]
  },
  {
   "cell_type": "code",
   "execution_count": 29,
   "id": "d348f2be",
   "metadata": {},
   "outputs": [
    {
     "data": {
      "text/plain": [
       "12.5"
      ]
     },
     "execution_count": 29,
     "metadata": {},
     "output_type": "execute_result"
    }
   ],
   "source": [
    "(((dose1 == \"yes\") & (dose2 == \"yes\")).sum()/len(dose1))*100"
   ]
  },
  {
   "cell_type": "code",
   "execution_count": 30,
   "id": "8e555dcf",
   "metadata": {},
   "outputs": [
    {
     "data": {
      "text/plain": [
       "37.5"
      ]
     },
     "execution_count": 30,
     "metadata": {},
     "output_type": "execute_result"
    }
   ],
   "source": [
    "((dose1 == \"no\").sum()/len(dose1))*100"
   ]
  },
  {
   "cell_type": "code",
   "execution_count": 32,
   "id": "deba0c1d",
   "metadata": {},
   "outputs": [],
   "source": [
    "arr2 = np.random.randint(1, 10, (5, 5))"
   ]
  },
  {
   "cell_type": "code",
   "execution_count": 35,
   "id": "7ef8eccd",
   "metadata": {},
   "outputs": [
    {
     "data": {
      "text/plain": [
       "array([2, 4, 4, 6, 8, 4, 4, 6, 8, 4, 8])"
      ]
     },
     "execution_count": 35,
     "metadata": {},
     "output_type": "execute_result"
    }
   ],
   "source": [
    "arr2[arr2%2 == 0]"
   ]
  },
  {
   "cell_type": "code",
   "execution_count": 36,
   "id": "457dc6d9",
   "metadata": {},
   "outputs": [
    {
     "data": {
      "text/plain": [
       "11"
      ]
     },
     "execution_count": 36,
     "metadata": {},
     "output_type": "execute_result"
    }
   ],
   "source": [
    "arr2[arr2%2 == 0].__len__()"
   ]
  },
  {
   "cell_type": "code",
   "execution_count": 38,
   "id": "0229f18e",
   "metadata": {},
   "outputs": [],
   "source": [
    "coord = np.random.randint(1, 10, (10, 2))"
   ]
  },
  {
   "cell_type": "code",
   "execution_count": 39,
   "id": "69579a85",
   "metadata": {},
   "outputs": [
    {
     "data": {
      "text/plain": [
       "array([[5, 1],\n",
       "       [3, 1],\n",
       "       [2, 2],\n",
       "       [2, 9],\n",
       "       [5, 9],\n",
       "       [1, 1],\n",
       "       [6, 7],\n",
       "       [8, 6],\n",
       "       [5, 9],\n",
       "       [3, 1]])"
      ]
     },
     "execution_count": 39,
     "metadata": {},
     "output_type": "execute_result"
    }
   ],
   "source": [
    "coord"
   ]
  },
  {
   "cell_type": "code",
   "execution_count": 43,
   "id": "393f402f",
   "metadata": {},
   "outputs": [
    {
     "data": {
      "text/plain": [
       "[<matplotlib.lines.Line2D at 0x2147e99e880>]"
      ]
     },
     "execution_count": 43,
     "metadata": {},
     "output_type": "execute_result"
    },
    {
     "data": {
      "image/png": "[encoded data removed]",
      "text/plain": [
       "<Figure size 432x288 with 1 Axes>"
      ]
     },
     "metadata": {
      "needs_background": "light"
     },
     "output_type": "display_data"
    }
   ],
   "source": [
    "plt.plot(coord[:, 0], coord[:, 1], 'ro--')  # plot(x_array, y_array)"
   ]
  },
  {
   "cell_type": "code",
   "execution_count": 46,
   "id": "80c7a798",
   "metadata": {},
   "outputs": [
    {
     "data": {
      "text/plain": [
       "array([5, 1, 3, 1, 9, 5, 9, 1, 1, 7, 5, 9, 3, 1])"
      ]
     },
     "execution_count": 46,
     "metadata": {},
     "output_type": "execute_result"
    }
   ],
   "source": [
    "coord[(coord%2 != 0)]"
   ]
  },
  {
   "cell_type": "code",
   "execution_count": 48,
   "id": "fc8e24b9",
   "metadata": {},
   "outputs": [],
   "source": [
    "maths = np.random.randint(40, 100, 20)\n",
    "eng = np.random.randint(40, 100, 20)\n",
    "sci = np.random.randint(40, 100, 20)\n",
    "names = np.array([chr(i) for i in range(65, 85)])"
   ]
  },
  {
   "cell_type": "code",
   "execution_count": 49,
   "id": "0e6da056",
   "metadata": {},
   "outputs": [
    {
     "data": {
      "text/plain": [
       "array([54, 60, 80, 84, 41, 80, 99, 88, 95, 42, 78, 56, 86, 52, 81, 66, 95,\n",
       "       65, 43, 63])"
      ]
     },
     "execution_count": 49,
     "metadata": {},
     "output_type": "execute_result"
    }
   ],
   "source": [
    "maths"
   ]
  },
  {
   "cell_type": "code",
   "execution_count": 50,
   "id": "2a3b6f3d",
   "metadata": {},
   "outputs": [
    {
     "data": {
      "text/plain": [
       "array([98, 79, 46, 46, 87, 74, 74, 77, 63, 67, 42, 71, 57, 81, 99, 80, 46,\n",
       "       82, 96, 50])"
      ]
     },
     "execution_count": 50,
     "metadata": {},
     "output_type": "execute_result"
    }
   ],
   "source": [
    "eng"
   ]
  },
  {
   "cell_type": "code",
   "execution_count": 51,
   "id": "5ced8c17",
   "metadata": {},
   "outputs": [
    {
     "data": {
      "text/plain": [
       "array([61, 41, 56, 84, 40, 54, 95, 74, 68, 48, 82, 75, 91, 94, 73, 48, 49,\n",
       "       42, 73, 94])"
      ]
     },
     "execution_count": 51,
     "metadata": {},
     "output_type": "execute_result"
    }
   ],
   "source": [
    "sci"
   ]
  },
  {
   "cell_type": "code",
   "execution_count": 52,
   "id": "95857f87",
   "metadata": {},
   "outputs": [
    {
     "data": {
      "text/plain": [
       "array(['A', 'B', 'C', 'D', 'E', 'F', 'G', 'H', 'I', 'J', 'K', 'L', 'M',\n",
       "       'N', 'O', 'P', 'Q', 'R', 'S', 'T'], dtype='<U1')"
      ]
     },
     "execution_count": 52,
     "metadata": {},
     "output_type": "execute_result"
    }
   ],
   "source": [
    "names"
   ]
  },
  {
   "cell_type": "markdown",
   "id": "7aa370b1",
   "metadata": {},
   "source": [
    "    Element wise \n",
    "    + \n",
    "    - \n",
    "    * \n",
    "    /\n",
    "    **\n",
    "    //\n",
    "    %\n",
    "    ^"
   ]
  },
  {
   "cell_type": "code",
   "execution_count": 55,
   "id": "87934205",
   "metadata": {},
   "outputs": [
    {
     "data": {
      "text/plain": [
       "array([13.5 , 15.  , 20.  , 21.  , 10.25, 20.  , 24.75, 22.  , 23.75,\n",
       "       10.5 , 19.5 , 14.  , 21.5 , 13.  , 20.25, 16.5 , 23.75, 16.25,\n",
       "       10.75, 15.75])"
      ]
     },
     "execution_count": 55,
     "metadata": {},
     "output_type": "execute_result"
    }
   ],
   "source": [
    "maths/4"
   ]
  },
  {
   "cell_type": "code",
   "execution_count": 56,
   "id": "143d01b3",
   "metadata": {},
   "outputs": [
    {
     "data": {
      "text/plain": [
       "array([32.66666667, 26.33333333, 15.33333333, 15.33333333, 29.        ,\n",
       "       24.66666667, 24.66666667, 25.66666667, 21.        , 22.33333333,\n",
       "       14.        , 23.66666667, 19.        , 27.        , 33.        ,\n",
       "       26.66666667, 15.33333333, 27.33333333, 32.        , 16.66666667])"
      ]
     },
     "execution_count": 56,
     "metadata": {},
     "output_type": "execute_result"
    }
   ],
   "source": [
    "eng/3"
   ]
  },
  {
   "cell_type": "code",
   "execution_count": 57,
   "id": "9ce1d5a6",
   "metadata": {},
   "outputs": [
    {
     "data": {
      "text/plain": [
       "array([108, 120, 160, 168,  82, 160, 198, 176, 190,  84, 156, 112, 172,\n",
       "       104, 162, 132, 190, 130,  86, 126])"
      ]
     },
     "execution_count": 57,
     "metadata": {},
     "output_type": "execute_result"
    }
   ],
   "source": [
    "maths*2"
   ]
  },
  {
   "cell_type": "code",
   "execution_count": 58,
   "id": "3792f02c",
   "metadata": {},
   "outputs": [
    {
     "ename": "ValueError",
     "evalue": "operands could not be broadcast together with shapes (20,) (2,) ",
     "output_type": "error",
     "traceback": [
      "\u001b[1;31m---------------------------------------------------------------------------\u001b[0m",
      "\u001b[1;31mValueError\u001b[0m                                Traceback (most recent call last)",
      "\u001b[1;32m<ipython-input-58-044ffbbf6a06>\u001b[0m in \u001b[0;36m<module>\u001b[1;34m\u001b[0m\n\u001b[1;32m----> 1\u001b[1;33m \u001b[0mmaths\u001b[0m\u001b[1;33m*\u001b[0m\u001b[1;33m[\u001b[0m\u001b[1;36m3\u001b[0m\u001b[1;33m,\u001b[0m \u001b[1;36m4\u001b[0m\u001b[1;33m]\u001b[0m\u001b[1;33m\u001b[0m\u001b[1;33m\u001b[0m\u001b[0m\n\u001b[0m",
      "\u001b[1;31mValueError\u001b[0m: operands could not be broadcast together with shapes (20,) (2,) "
     ]
    }
   ],
   "source": [
    "maths*[3, 4]"
   ]
  },
  {
   "cell_type": "code",
   "execution_count": 62,
   "id": "d3fd465a",
   "metadata": {},
   "outputs": [],
   "source": [
    "per = np.round(((maths + sci + eng)/300)*100, 2)"
   ]
  },
  {
   "cell_type": "code",
   "execution_count": 65,
   "id": "2d8c8101",
   "metadata": {},
   "outputs": [
    {
     "data": {
      "text/plain": [
       "<BarContainer object of 20 artists>"
      ]
     },
     "execution_count": 65,
     "metadata": {},
     "output_type": "execute_result"
    },
    {
     "data": {
      "image/png": "[encoded data removed]",
      "text/plain": [
       "<Figure size 792x360 with 1 Axes>"
      ]
     },
     "metadata": {
      "needs_background": "light"
     },
     "output_type": "display_data"
    }
   ],
   "source": [
    "plt.figure(figsize=(11, 5))\n",
    "plt.bar(names, per, color='red')"
   ]
  },
  {
   "cell_type": "code",
   "execution_count": 67,
   "id": "17cbbf86",
   "metadata": {},
   "outputs": [
    {
     "data": {
      "text/plain": [
       "52.33"
      ]
     },
     "execution_count": 67,
     "metadata": {},
     "output_type": "execute_result"
    }
   ],
   "source": [
    "per.min()"
   ]
  },
  {
   "cell_type": "code",
   "execution_count": 68,
   "id": "a2b3f2dc",
   "metadata": {},
   "outputs": [
    {
     "data": {
      "text/plain": [
       "89.33"
      ]
     },
     "execution_count": 68,
     "metadata": {},
     "output_type": "execute_result"
    }
   ],
   "source": [
    "per.max()"
   ]
  },
  {
   "cell_type": "code",
   "execution_count": 69,
   "id": "68f31e3d",
   "metadata": {},
   "outputs": [
    {
     "data": {
      "text/plain": [
       "1"
      ]
     },
     "execution_count": 69,
     "metadata": {},
     "output_type": "execute_result"
    }
   ],
   "source": [
    "(per == per.max()).sum()"
   ]
  },
  {
   "cell_type": "code",
   "execution_count": 70,
   "id": "0b8a8717",
   "metadata": {},
   "outputs": [
    {
     "data": {
      "text/plain": [
       "1"
      ]
     },
     "execution_count": 70,
     "metadata": {},
     "output_type": "execute_result"
    }
   ],
   "source": [
    "(per == per.min()).sum()"
   ]
  },
  {
   "cell_type": "code",
   "execution_count": 71,
   "id": "094cb3f6",
   "metadata": {},
   "outputs": [
    {
     "data": {
      "text/plain": [
       "array(['J'], dtype='<U1')"
      ]
     },
     "execution_count": 71,
     "metadata": {},
     "output_type": "execute_result"
    }
   ],
   "source": [
    "names[(per == per.min())]"
   ]
  },
  {
   "cell_type": "code",
   "execution_count": 73,
   "id": "7638b23c",
   "metadata": {},
   "outputs": [
    {
     "data": {
      "text/plain": [
       "array([115, 101, 136, 168,  81, 134, 194, 162, 163,  90, 160, 131, 177,\n",
       "       146, 154, 114, 144, 107, 116, 157])"
      ]
     },
     "execution_count": 73,
     "metadata": {},
     "output_type": "execute_result"
    }
   ],
   "source": [
    "maths + sci # element wise or index wise"
   ]
  },
  {
   "cell_type": "code",
   "execution_count": 74,
   "id": "d284f1ba",
   "metadata": {},
   "outputs": [
    {
     "data": {
      "text/plain": [
       "array([54, 60, 80, 84, 41, 80, 99, 88, 95, 42, 78, 56, 86, 52, 81, 66, 95,\n",
       "       65, 43, 63])"
      ]
     },
     "execution_count": 74,
     "metadata": {},
     "output_type": "execute_result"
    }
   ],
   "source": [
    "maths"
   ]
  },
  {
   "cell_type": "code",
   "execution_count": 75,
   "id": "2d151e76",
   "metadata": {},
   "outputs": [
    {
     "data": {
      "text/plain": [
       "array([61, 41, 56, 84, 40, 54, 95, 74, 68, 48, 82, 75, 91, 94, 73, 48, 49,\n",
       "       42, 73, 94])"
      ]
     },
     "execution_count": 75,
     "metadata": {},
     "output_type": "execute_result"
    }
   ],
   "source": [
    "sci"
   ]
  },
  {
   "cell_type": "code",
   "execution_count": 77,
   "id": "2e942c39",
   "metadata": {},
   "outputs": [
    {
     "ename": "ValueError",
     "evalue": "operands could not be broadcast together with shapes (20,) (10,) ",
     "output_type": "error",
     "traceback": [
      "\u001b[1;31m---------------------------------------------------------------------------\u001b[0m",
      "\u001b[1;31mValueError\u001b[0m                                Traceback (most recent call last)",
      "\u001b[1;32m<ipython-input-77-b6c2090794a3>\u001b[0m in \u001b[0;36m<module>\u001b[1;34m\u001b[0m\n\u001b[1;32m----> 1\u001b[1;33m \u001b[0mmaths\u001b[0m \u001b[1;33m+\u001b[0m \u001b[0msci\u001b[0m\u001b[1;33m[\u001b[0m\u001b[1;33m:\u001b[0m\u001b[1;36m10\u001b[0m\u001b[1;33m]\u001b[0m\u001b[1;33m\u001b[0m\u001b[1;33m\u001b[0m\u001b[0m\n\u001b[0m",
      "\u001b[1;31mValueError\u001b[0m: operands could not be broadcast together with shapes (20,) (10,) "
     ]
    }
   ],
   "source": [
    "maths + sci[:10]"
   ]
  },
  {
   "cell_type": "code",
   "execution_count": 79,
   "id": "cf0ec344",
   "metadata": {},
   "outputs": [
    {
     "data": {
      "text/plain": [
       "array([2916, 3600, 6400, 7056, 1681, 6400, 9801, 7744, 9025, 1764, 6084,\n",
       "       3136, 7396, 2704, 6561, 4356, 9025, 4225, 1849, 3969], dtype=int32)"
      ]
     },
     "execution_count": 79,
     "metadata": {},
     "output_type": "execute_result"
    }
   ],
   "source": [
    "maths**2"
   ]
  },
  {
   "cell_type": "code",
   "execution_count": 80,
   "id": "2a4ad4f2",
   "metadata": {},
   "outputs": [
    {
     "data": {
      "text/plain": [
       "array([63, 43, 58, 86, 42, 52, 93, 72, 70, 50, 80, 73, 89, 92, 75, 50, 51,\n",
       "       40, 75, 92], dtype=int32)"
      ]
     },
     "execution_count": 80,
     "metadata": {},
     "output_type": "execute_result"
    }
   ],
   "source": [
    "sci^2"
   ]
  },
  {
   "cell_type": "code",
   "execution_count": 81,
   "id": "93523354",
   "metadata": {},
   "outputs": [
    {
     "data": {
      "text/plain": [
       "array([122,  82, 112, 168,  80, 108, 190, 148, 136,  96, 164, 150, 182,\n",
       "       188, 146,  96,  98,  84, 146, 188], dtype=int32)"
      ]
     },
     "execution_count": 81,
     "metadata": {},
     "output_type": "execute_result"
    }
   ],
   "source": [
    "sci<<1"
   ]
  },
  {
   "cell_type": "code",
   "execution_count": 82,
   "id": "f3b5b40e",
   "metadata": {},
   "outputs": [
    {
     "data": {
      "text/plain": [
       "array([61, 41, 56, 84, 40, 54, 95, 74, 68, 48, 82, 75, 91, 94, 73, 48, 49,\n",
       "       42, 73, 94])"
      ]
     },
     "execution_count": 82,
     "metadata": {},
     "output_type": "execute_result"
    }
   ],
   "source": [
    "sci"
   ]
  },
  {
   "cell_type": "code",
   "execution_count": 85,
   "id": "578b99f9",
   "metadata": {},
   "outputs": [
    {
     "data": {
      "text/plain": [
       "'0b111111'"
      ]
     },
     "execution_count": 85,
     "metadata": {},
     "output_type": "execute_result"
    }
   ],
   "source": [
    "bin(63)"
   ]
  },
  {
   "cell_type": "code",
   "execution_count": 83,
   "id": "c74cf70e",
   "metadata": {},
   "outputs": [
    {
     "data": {
      "text/plain": [
       "'0b111101'"
      ]
     },
     "execution_count": 83,
     "metadata": {},
     "output_type": "execute_result"
    }
   ],
   "source": [
    "bin(61)"
   ]
  },
  {
   "cell_type": "code",
   "execution_count": 84,
   "id": "ef886aa7",
   "metadata": {},
   "outputs": [
    {
     "data": {
      "text/plain": [
       "'0b10'"
      ]
     },
     "execution_count": 84,
     "metadata": {},
     "output_type": "execute_result"
    }
   ],
   "source": [
    "bin(2)\n",
    "# 000010"
   ]
  },
  {
   "cell_type": "markdown",
   "id": "4f35b6a4",
   "metadata": {},
   "source": [
    "        0   0     0\n",
    "        0   1     1\n",
    "        1   0     1\n",
    "        1   1     0"
   ]
  },
  {
   "cell_type": "code",
   "execution_count": 88,
   "id": "42c0ddc4",
   "metadata": {},
   "outputs": [
    {
     "data": {
      "text/plain": [
       "array([0, 0, 0, 0, 1, 0, 1, 0, 1, 0, 0, 0, 0, 0, 1, 0, 1, 1, 1, 1],\n",
       "      dtype=int32)"
      ]
     },
     "execution_count": 88,
     "metadata": {},
     "output_type": "execute_result"
    }
   ],
   "source": [
    "maths%2"
   ]
  },
  {
   "cell_type": "code",
   "execution_count": 89,
   "id": "58d9b4dc",
   "metadata": {},
   "outputs": [
    {
     "data": {
      "text/plain": [
       "array([4, 0, 0, 4, 1, 0, 4, 3, 0, 2, 3, 1, 1, 2, 1, 1, 0, 0, 3, 3],\n",
       "      dtype=int32)"
      ]
     },
     "execution_count": 89,
     "metadata": {},
     "output_type": "execute_result"
    }
   ],
   "source": [
    "maths%5"
   ]
  },
  {
   "cell_type": "code",
   "execution_count": 90,
   "id": "2bb7c104",
   "metadata": {},
   "outputs": [],
   "source": [
    "arr1 = np.random.randint(1, 10, (3, 3))\n",
    "arr2 = np.random.randint(1, 10, (3, 3))"
   ]
  },
  {
   "cell_type": "code",
   "execution_count": 91,
   "id": "5ee4d59f",
   "metadata": {},
   "outputs": [
    {
     "data": {
      "text/plain": [
       "array([[4, 3, 3],\n",
       "       [1, 3, 3],\n",
       "       [7, 9, 1]])"
      ]
     },
     "execution_count": 91,
     "metadata": {},
     "output_type": "execute_result"
    }
   ],
   "source": [
    "arr1"
   ]
  },
  {
   "cell_type": "code",
   "execution_count": 92,
   "id": "dad120bb",
   "metadata": {},
   "outputs": [
    {
     "data": {
      "text/plain": [
       "array([[8, 1, 7],\n",
       "       [8, 7, 3],\n",
       "       [1, 3, 4]])"
      ]
     },
     "execution_count": 92,
     "metadata": {},
     "output_type": "execute_result"
    }
   ],
   "source": [
    "arr2"
   ]
  },
  {
   "cell_type": "code",
   "execution_count": 93,
   "id": "18ee4648",
   "metadata": {},
   "outputs": [
    {
     "data": {
      "text/plain": [
       "array([[12,  4, 10],\n",
       "       [ 9, 10,  6],\n",
       "       [ 8, 12,  5]])"
      ]
     },
     "execution_count": 93,
     "metadata": {},
     "output_type": "execute_result"
    }
   ],
   "source": [
    "arr1 + arr2"
   ]
  },
  {
   "cell_type": "code",
   "execution_count": 94,
   "id": "ace4d830",
   "metadata": {},
   "outputs": [
    {
     "data": {
      "text/plain": [
       "array([[-4,  2, -4],\n",
       "       [-7, -4,  0],\n",
       "       [ 6,  6, -3]])"
      ]
     },
     "execution_count": 94,
     "metadata": {},
     "output_type": "execute_result"
    }
   ],
   "source": [
    "arr1 -arr2"
   ]
  },
  {
   "cell_type": "code",
   "execution_count": 95,
   "id": "1ec67de6",
   "metadata": {},
   "outputs": [
    {
     "data": {
      "text/plain": [
       "array([[ 4, -2,  4],\n",
       "       [ 7,  4,  0],\n",
       "       [-6, -6,  3]])"
      ]
     },
     "execution_count": 95,
     "metadata": {},
     "output_type": "execute_result"
    }
   ],
   "source": [
    "arr2 - arr1"
   ]
  },
  {
   "cell_type": "code",
   "execution_count": 96,
   "id": "907fc2b2",
   "metadata": {},
   "outputs": [
    {
     "data": {
      "text/plain": [
       "array([[-4,  2, -4],\n",
       "       [-7, -4,  0],\n",
       "       [ 6,  6, -3]])"
      ]
     },
     "execution_count": 96,
     "metadata": {},
     "output_type": "execute_result"
    }
   ],
   "source": [
    "arr1 - arr2  # distance between your point"
   ]
  },
  {
   "cell_type": "code",
   "execution_count": 100,
   "id": "5f9958ce",
   "metadata": {},
   "outputs": [
    {
     "data": {
      "text/plain": [
       "3"
      ]
     },
     "execution_count": 100,
     "metadata": {},
     "output_type": "execute_result"
    }
   ],
   "source": [
    "arr1[(arr1 - arr2) > 0].__len__()"
   ]
  },
  {
   "cell_type": "code",
   "execution_count": 101,
   "id": "778e9527",
   "metadata": {},
   "outputs": [
    {
     "data": {
      "text/plain": [
       "3"
      ]
     },
     "execution_count": 101,
     "metadata": {},
     "output_type": "execute_result"
    }
   ],
   "source": [
    "arr1[(arr1 - arr2) > 0].size"
   ]
  },
  {
   "cell_type": "code",
   "execution_count": 102,
   "id": "9aa66ffb",
   "metadata": {},
   "outputs": [
    {
     "data": {
      "text/plain": [
       "5"
      ]
     },
     "execution_count": 102,
     "metadata": {},
     "output_type": "execute_result"
    }
   ],
   "source": [
    "arr1[(arr1 - arr2) < 0].__len__()"
   ]
  },
  {
   "cell_type": "code",
   "execution_count": 104,
   "id": "ab82c4cf",
   "metadata": {},
   "outputs": [
    {
     "data": {
      "text/plain": [
       "array([[12,  4, 10],\n",
       "       [ 9, 10,  6],\n",
       "       [ 8, 12,  5]])"
      ]
     },
     "execution_count": 104,
     "metadata": {},
     "output_type": "execute_result"
    }
   ],
   "source": [
    "arr1 + arr2"
   ]
  },
  {
   "cell_type": "code",
   "execution_count": 105,
   "id": "7437b4da",
   "metadata": {},
   "outputs": [
    {
     "data": {
      "text/plain": [
       "array([[12,  9,  9],\n",
       "       [ 3,  9,  9],\n",
       "       [21, 27,  3]])"
      ]
     },
     "execution_count": 105,
     "metadata": {},
     "output_type": "execute_result"
    }
   ],
   "source": [
    "arr1*3"
   ]
  },
  {
   "cell_type": "code",
   "execution_count": 106,
   "id": "f7314386",
   "metadata": {},
   "outputs": [
    {
     "data": {
      "text/plain": [
       "array([[1.33333333, 1.        , 1.        ],\n",
       "       [0.33333333, 1.        , 1.        ],\n",
       "       [2.33333333, 3.        , 0.33333333]])"
      ]
     },
     "execution_count": 106,
     "metadata": {},
     "output_type": "execute_result"
    }
   ],
   "source": [
    "arr1/3"
   ]
  },
  {
   "cell_type": "code",
   "execution_count": 107,
   "id": "0e5852cc",
   "metadata": {},
   "outputs": [
    {
     "data": {
      "text/plain": [
       "array([[1, 1, 1],\n",
       "       [0, 1, 1],\n",
       "       [2, 3, 0]], dtype=int32)"
      ]
     },
     "execution_count": 107,
     "metadata": {},
     "output_type": "execute_result"
    }
   ],
   "source": [
    "arr1//3"
   ]
  },
  {
   "cell_type": "code",
   "execution_count": 108,
   "id": "5db0f096",
   "metadata": {},
   "outputs": [
    {
     "data": {
      "text/plain": [
       "array([[16,  9,  9],\n",
       "       [ 1,  9,  9],\n",
       "       [49, 81,  1]], dtype=int32)"
      ]
     },
     "execution_count": 108,
     "metadata": {},
     "output_type": "execute_result"
    }
   ],
   "source": [
    "arr1**2"
   ]
  },
  {
   "cell_type": "code",
   "execution_count": 109,
   "id": "e6121ee1",
   "metadata": {},
   "outputs": [
    {
     "data": {
      "text/plain": [
       "array([[ 6,  1,  1],\n",
       "       [ 3,  1,  1],\n",
       "       [ 5, 11,  3]], dtype=int32)"
      ]
     },
     "execution_count": 109,
     "metadata": {},
     "output_type": "execute_result"
    }
   ],
   "source": [
    "arr1^2"
   ]
  },
  {
   "cell_type": "code",
   "execution_count": 111,
   "id": "905614c9",
   "metadata": {},
   "outputs": [
    {
     "data": {
      "text/plain": [
       "array([[32,  3, 21],\n",
       "       [ 8, 21,  9],\n",
       "       [ 7, 27,  4]])"
      ]
     },
     "execution_count": 111,
     "metadata": {},
     "output_type": "execute_result"
    }
   ],
   "source": [
    "arr1*arr2  # element wise multiplication"
   ]
  },
  {
   "cell_type": "code",
   "execution_count": 115,
   "id": "0a89bbed",
   "metadata": {},
   "outputs": [
    {
     "ename": "ValueError",
     "evalue": "operands could not be broadcast together with shapes (20,) (3,3) ",
     "output_type": "error",
     "traceback": [
      "\u001b[1;31m---------------------------------------------------------------------------\u001b[0m",
      "\u001b[1;31mValueError\u001b[0m                                Traceback (most recent call last)",
      "\u001b[1;32m<ipython-input-115-33a640ee25c6>\u001b[0m in \u001b[0;36m<module>\u001b[1;34m\u001b[0m\n\u001b[1;32m----> 1\u001b[1;33m \u001b[0mmaths\u001b[0m \u001b[1;33m*\u001b[0m \u001b[0marr1\u001b[0m\u001b[1;33m\u001b[0m\u001b[1;33m\u001b[0m\u001b[0m\n\u001b[0m",
      "\u001b[1;31mValueError\u001b[0m: operands could not be broadcast together with shapes (20,) (3,3) "
     ]
    }
   ],
   "source": [
    "maths * arr1"
   ]
  },
  {
   "cell_type": "markdown",
   "id": "be2fcb8e",
   "metadata": {},
   "source": [
    "     mat1 \n",
    "         n1*m1\n",
    "         \n",
    "     mat2\n",
    "         n2*m2\n",
    "         \n",
    "     The number of columns of first matrix (m1) should be equals to your number of rows\n",
    "     in second column\n",
    "     \n",
    "         m1 == n2 "
   ]
  },
  {
   "cell_type": "code",
   "execution_count": 118,
   "id": "e60a3276",
   "metadata": {},
   "outputs": [
    {
     "data": {
      "text/plain": [
       "(3, 3)"
      ]
     },
     "execution_count": 118,
     "metadata": {},
     "output_type": "execute_result"
    }
   ],
   "source": [
    "arr1.shape"
   ]
  },
  {
   "cell_type": "code",
   "execution_count": 119,
   "id": "a87ce5c8",
   "metadata": {},
   "outputs": [
    {
     "data": {
      "text/plain": [
       "(3, 3)"
      ]
     },
     "execution_count": 119,
     "metadata": {},
     "output_type": "execute_result"
    }
   ],
   "source": [
    "arr2.shape"
   ]
  },
  {
   "cell_type": "code",
   "execution_count": 120,
   "id": "3f71aad7",
   "metadata": {},
   "outputs": [
    {
     "data": {
      "text/plain": [
       "array([[ 59,  34,  49],\n",
       "       [ 35,  31,  28],\n",
       "       [129,  73,  80]])"
      ]
     },
     "execution_count": 120,
     "metadata": {},
     "output_type": "execute_result"
    }
   ],
   "source": [
    "arr1@arr2  # matrix mulitplicate"
   ]
  },
  {
   "cell_type": "code",
   "execution_count": 121,
   "id": "40d3cd81",
   "metadata": {},
   "outputs": [
    {
     "data": {
      "text/plain": [
       "array([[32,  3, 21],\n",
       "       [ 8, 21,  9],\n",
       "       [ 7, 27,  4]])"
      ]
     },
     "execution_count": 121,
     "metadata": {},
     "output_type": "execute_result"
    }
   ],
   "source": [
    "arr1*arr2"
   ]
  },
  {
   "cell_type": "code",
   "execution_count": 122,
   "id": "2dc4a186",
   "metadata": {},
   "outputs": [
    {
     "data": {
      "text/plain": [
       "array([[4, 3, 3],\n",
       "       [1, 3, 3],\n",
       "       [7, 9, 1]])"
      ]
     },
     "execution_count": 122,
     "metadata": {},
     "output_type": "execute_result"
    }
   ],
   "source": [
    "arr1"
   ]
  },
  {
   "cell_type": "code",
   "execution_count": 123,
   "id": "8d930c91",
   "metadata": {},
   "outputs": [
    {
     "data": {
      "text/plain": [
       "array([[8, 1, 7],\n",
       "       [8, 7, 3],\n",
       "       [1, 3, 4]])"
      ]
     },
     "execution_count": 123,
     "metadata": {},
     "output_type": "execute_result"
    }
   ],
   "source": [
    "arr2"
   ]
  },
  {
   "cell_type": "code",
   "execution_count": 124,
   "id": "bdab65b2",
   "metadata": {},
   "outputs": [
    {
     "data": {
      "text/plain": [
       "59"
      ]
     },
     "execution_count": 124,
     "metadata": {},
     "output_type": "execute_result"
    }
   ],
   "source": [
    "4*8 + 3*8 + 3*1"
   ]
  },
  {
   "cell_type": "code",
   "execution_count": 127,
   "id": "2f91ef1c",
   "metadata": {},
   "outputs": [
    {
     "data": {
      "text/plain": [
       "34"
      ]
     },
     "execution_count": 127,
     "metadata": {},
     "output_type": "execute_result"
    }
   ],
   "source": [
    "4 + 21 + 9"
   ]
  },
  {
   "cell_type": "code",
   "execution_count": 128,
   "id": "3039fc74",
   "metadata": {},
   "outputs": [
    {
     "data": {
      "text/plain": [
       "49"
      ]
     },
     "execution_count": 128,
     "metadata": {},
     "output_type": "execute_result"
    }
   ],
   "source": [
    "4*7 + 9 + 12"
   ]
  },
  {
   "cell_type": "code",
   "execution_count": 130,
   "id": "d1ecaf32",
   "metadata": {},
   "outputs": [
    {
     "data": {
      "text/plain": [
       "array([[ 59,  34,  49],\n",
       "       [ 35,  31,  28],\n",
       "       [129,  73,  80]])"
      ]
     },
     "execution_count": 130,
     "metadata": {},
     "output_type": "execute_result"
    }
   ],
   "source": [
    "arr1.dot(arr2)"
   ]
  },
  {
   "cell_type": "code",
   "execution_count": 132,
   "id": "db665569",
   "metadata": {},
   "outputs": [
    {
     "data": {
      "text/plain": [
       "array([[0.5       , 3.        , 0.42857143],\n",
       "       [0.125     , 0.42857143, 1.        ],\n",
       "       [7.        , 3.        , 0.25      ]])"
      ]
     },
     "execution_count": 132,
     "metadata": {},
     "output_type": "execute_result"
    }
   ],
   "source": [
    "arr1/arr2"
   ]
  },
  {
   "cell_type": "code",
   "execution_count": 134,
   "id": "f0521b78",
   "metadata": {},
   "outputs": [],
   "source": [
    "a1 = np.random.randint(1, 10, (10, 2))"
   ]
  },
  {
   "cell_type": "code",
   "execution_count": 135,
   "id": "d032dd13",
   "metadata": {},
   "outputs": [
    {
     "data": {
      "text/plain": [
       "array([[3, 6],\n",
       "       [6, 2],\n",
       "       [2, 3],\n",
       "       [3, 8],\n",
       "       [1, 8],\n",
       "       [2, 6],\n",
       "       [2, 4],\n",
       "       [4, 6],\n",
       "       [5, 1],\n",
       "       [6, 3]])"
      ]
     },
     "execution_count": 135,
     "metadata": {},
     "output_type": "execute_result"
    }
   ],
   "source": [
    "a1"
   ]
  },
  {
   "cell_type": "code",
   "execution_count": 136,
   "id": "f1dacd2a",
   "metadata": {},
   "outputs": [
    {
     "data": {
      "text/plain": [
       "array([[5, 1],\n",
       "       [3, 1],\n",
       "       [2, 2],\n",
       "       [2, 9],\n",
       "       [5, 9],\n",
       "       [1, 1],\n",
       "       [6, 7],\n",
       "       [8, 6],\n",
       "       [5, 9],\n",
       "       [3, 1]])"
      ]
     },
     "execution_count": 136,
     "metadata": {},
     "output_type": "execute_result"
    }
   ],
   "source": [
    "coord"
   ]
  },
  {
   "cell_type": "code",
   "execution_count": 137,
   "id": "70be63f0",
   "metadata": {},
   "outputs": [
    {
     "ename": "ValueError",
     "evalue": "matmul: Input operand 1 has a mismatch in its core dimension 0, with gufunc signature (n?,k),(k,m?)->(n?,m?) (size 10 is different from 2)",
     "output_type": "error",
     "traceback": [
      "\u001b[1;31m---------------------------------------------------------------------------\u001b[0m",
      "\u001b[1;31mValueError\u001b[0m                                Traceback (most recent call last)",
      "\u001b[1;32m<ipython-input-137-9ed461137116>\u001b[0m in \u001b[0;36m<module>\u001b[1;34m\u001b[0m\n\u001b[1;32m----> 1\u001b[1;33m \u001b[0ma1\u001b[0m\u001b[1;33m@\u001b[0m\u001b[0mcoord\u001b[0m\u001b[1;33m\u001b[0m\u001b[1;33m\u001b[0m\u001b[0m\n\u001b[0m",
      "\u001b[1;31mValueError\u001b[0m: matmul: Input operand 1 has a mismatch in its core dimension 0, with gufunc signature (n?,k),(k,m?)->(n?,m?) (size 10 is different from 2)"
     ]
    }
   ],
   "source": [
    "a1@coord"
   ]
  },
  {
   "cell_type": "code",
   "execution_count": 138,
   "id": "79a201ec",
   "metadata": {},
   "outputs": [
    {
     "data": {
      "text/plain": [
       "(10, 2)"
      ]
     },
     "execution_count": 138,
     "metadata": {},
     "output_type": "execute_result"
    }
   ],
   "source": [
    "a1.shape"
   ]
  },
  {
   "cell_type": "code",
   "execution_count": 139,
   "id": "29f6c50d",
   "metadata": {},
   "outputs": [
    {
     "data": {
      "text/plain": [
       "(10, 2)"
      ]
     },
     "execution_count": 139,
     "metadata": {},
     "output_type": "execute_result"
    }
   ],
   "source": [
    "coord.shape"
   ]
  },
  {
   "cell_type": "code",
   "execution_count": 141,
   "id": "c90d0177",
   "metadata": {},
   "outputs": [
    {
     "data": {
      "text/plain": [
       "array([[173, 146],\n",
       "       [143, 188]])"
      ]
     },
     "execution_count": 141,
     "metadata": {},
     "output_type": "execute_result"
    }
   ],
   "source": [
    "a1.reshape(2, 10)@coord"
   ]
  },
  {
   "cell_type": "code",
   "execution_count": 143,
   "id": "91b2b1c4",
   "metadata": {},
   "outputs": [
    {
     "data": {
      "text/plain": [
       "array([[137, 140],\n",
       "       [190, 240]])"
      ]
     },
     "execution_count": 143,
     "metadata": {},
     "output_type": "execute_result"
    }
   ],
   "source": [
    "a1.T@coord"
   ]
  },
  {
   "cell_type": "code",
   "execution_count": 144,
   "id": "150284d0",
   "metadata": {},
   "outputs": [],
   "source": [
    "# a1.T --> T --> Transpose --> convert rows into columns and columns into rows"
   ]
  },
  {
   "cell_type": "markdown",
   "id": "27f2077e",
   "metadata": {},
   "source": [
    "#### Functions"
   ]
  },
  {
   "cell_type": "code",
   "execution_count": 145,
   "id": "44e3536e",
   "metadata": {},
   "outputs": [
    {
     "data": {
      "text/plain": [
       "array([[1., 0., 0., 0., 0., 0., 0., 0., 0., 0.],\n",
       "       [0., 1., 0., 0., 0., 0., 0., 0., 0., 0.],\n",
       "       [0., 0., 1., 0., 0., 0., 0., 0., 0., 0.],\n",
       "       [0., 0., 0., 1., 0., 0., 0., 0., 0., 0.],\n",
       "       [0., 0., 0., 0., 1., 0., 0., 0., 0., 0.],\n",
       "       [0., 0., 0., 0., 0., 1., 0., 0., 0., 0.],\n",
       "       [0., 0., 0., 0., 0., 0., 1., 0., 0., 0.],\n",
       "       [0., 0., 0., 0., 0., 0., 0., 1., 0., 0.],\n",
       "       [0., 0., 0., 0., 0., 0., 0., 0., 1., 0.],\n",
       "       [0., 0., 0., 0., 0., 0., 0., 0., 0., 1.]])"
      ]
     },
     "execution_count": 145,
     "metadata": {},
     "output_type": "execute_result"
    }
   ],
   "source": [
    "np.eye(10)"
   ]
  },
  {
   "cell_type": "code",
   "execution_count": 146,
   "id": "ebe64081",
   "metadata": {},
   "outputs": [
    {
     "data": {
      "text/plain": [
       "array([[11., 10., 10., 10., 10., 10., 10., 10., 10., 10.],\n",
       "       [10., 11., 10., 10., 10., 10., 10., 10., 10., 10.],\n",
       "       [10., 10., 11., 10., 10., 10., 10., 10., 10., 10.],\n",
       "       [10., 10., 10., 11., 10., 10., 10., 10., 10., 10.],\n",
       "       [10., 10., 10., 10., 11., 10., 10., 10., 10., 10.],\n",
       "       [10., 10., 10., 10., 10., 11., 10., 10., 10., 10.],\n",
       "       [10., 10., 10., 10., 10., 10., 11., 10., 10., 10.],\n",
       "       [10., 10., 10., 10., 10., 10., 10., 11., 10., 10.],\n",
       "       [10., 10., 10., 10., 10., 10., 10., 10., 11., 10.],\n",
       "       [10., 10., 10., 10., 10., 10., 10., 10., 10., 11.]])"
      ]
     },
     "execution_count": 146,
     "metadata": {},
     "output_type": "execute_result"
    }
   ],
   "source": [
    "np.eye(10) + 10"
   ]
  },
  {
   "cell_type": "code",
   "execution_count": 147,
   "id": "8fd3b1a5",
   "metadata": {},
   "outputs": [
    {
     "data": {
      "text/plain": [
       "array([[1., 0., 0., 0., 0., 0., 0., 0., 0., 0.],\n",
       "       [0., 1., 0., 0., 0., 0., 0., 0., 0., 0.],\n",
       "       [0., 0., 1., 0., 0., 0., 0., 0., 0., 0.],\n",
       "       [0., 0., 0., 1., 0., 0., 0., 0., 0., 0.],\n",
       "       [0., 0., 0., 0., 1., 0., 0., 0., 0., 0.],\n",
       "       [0., 0., 0., 0., 0., 1., 0., 0., 0., 0.],\n",
       "       [0., 0., 0., 0., 0., 0., 1., 0., 0., 0.],\n",
       "       [0., 0., 0., 0., 0., 0., 0., 1., 0., 0.],\n",
       "       [0., 0., 0., 0., 0., 0., 0., 0., 1., 0.],\n",
       "       [0., 0., 0., 0., 0., 0., 0., 0., 0., 1.]])"
      ]
     },
     "execution_count": 147,
     "metadata": {},
     "output_type": "execute_result"
    }
   ],
   "source": [
    "np.identity(10)"
   ]
  },
  {
   "cell_type": "code",
   "execution_count": 148,
   "id": "07f1f777",
   "metadata": {},
   "outputs": [
    {
     "data": {
      "text/plain": [
       "array([[11., 10., 10., 10., 10., 10., 10., 10., 10., 10.],\n",
       "       [10., 11., 10., 10., 10., 10., 10., 10., 10., 10.],\n",
       "       [10., 10., 11., 10., 10., 10., 10., 10., 10., 10.],\n",
       "       [10., 10., 10., 11., 10., 10., 10., 10., 10., 10.],\n",
       "       [10., 10., 10., 10., 11., 10., 10., 10., 10., 10.],\n",
       "       [10., 10., 10., 10., 10., 11., 10., 10., 10., 10.],\n",
       "       [10., 10., 10., 10., 10., 10., 11., 10., 10., 10.],\n",
       "       [10., 10., 10., 10., 10., 10., 10., 11., 10., 10.],\n",
       "       [10., 10., 10., 10., 10., 10., 10., 10., 11., 10.],\n",
       "       [10., 10., 10., 10., 10., 10., 10., 10., 10., 11.]])"
      ]
     },
     "execution_count": 148,
     "metadata": {},
     "output_type": "execute_result"
    }
   ],
   "source": [
    "np.identity(10) + 10"
   ]
  },
  {
   "cell_type": "code",
   "execution_count": 149,
   "id": "7618c327",
   "metadata": {},
   "outputs": [
    {
     "data": {
      "text/plain": [
       "array([[1., 0., 0., 0., 0.],\n",
       "       [0., 1., 0., 0., 0.],\n",
       "       [0., 0., 1., 0., 0.],\n",
       "       [0., 0., 0., 1., 0.],\n",
       "       [0., 0., 0., 0., 1.]])"
      ]
     },
     "execution_count": 149,
     "metadata": {},
     "output_type": "execute_result"
    }
   ],
   "source": [
    "np.eye(5, 5)"
   ]
  },
  {
   "cell_type": "code",
   "execution_count": 150,
   "id": "d46134b9",
   "metadata": {},
   "outputs": [
    {
     "data": {
      "text/plain": [
       "array([[1., 0., 0., 0., 0., 0.],\n",
       "       [0., 1., 0., 0., 0., 0.],\n",
       "       [0., 0., 1., 0., 0., 0.],\n",
       "       [0., 0., 0., 1., 0., 0.],\n",
       "       [0., 0., 0., 0., 1., 0.]])"
      ]
     },
     "execution_count": 150,
     "metadata": {},
     "output_type": "execute_result"
    }
   ],
   "source": [
    "np.eye(5, 6)"
   ]
  },
  {
   "cell_type": "code",
   "execution_count": 151,
   "id": "b036ba96",
   "metadata": {},
   "outputs": [
    {
     "data": {
      "text/plain": [
       "array([[1., 0., 0.],\n",
       "       [0., 1., 0.],\n",
       "       [0., 0., 1.]])"
      ]
     },
     "execution_count": 151,
     "metadata": {},
     "output_type": "execute_result"
    }
   ],
   "source": [
    "np.eye(3, 3)"
   ]
  },
  {
   "cell_type": "code",
   "execution_count": 153,
   "id": "b3fd7b05",
   "metadata": {},
   "outputs": [
    {
     "data": {
      "text/plain": [
       "array([[1., 0.],\n",
       "       [0., 1.],\n",
       "       [0., 0.],\n",
       "       [0., 0.]])"
      ]
     },
     "execution_count": 153,
     "metadata": {},
     "output_type": "execute_result"
    }
   ],
   "source": [
    "np.eye(4, 2)"
   ]
  },
  {
   "cell_type": "code",
   "execution_count": 155,
   "id": "14b6fe3f",
   "metadata": {},
   "outputs": [
    {
     "data": {
      "text/plain": [
       "array([[1., 0., 0., 0., 0.],\n",
       "       [0., 1., 0., 0., 0.],\n",
       "       [0., 0., 1., 0., 0.],\n",
       "       [0., 0., 0., 1., 0.],\n",
       "       [0., 0., 0., 0., 1.]])"
      ]
     },
     "execution_count": 155,
     "metadata": {},
     "output_type": "execute_result"
    }
   ],
   "source": [
    "np.identity(5)"
   ]
  },
  {
   "cell_type": "code",
   "execution_count": 156,
   "id": "1f75098c",
   "metadata": {},
   "outputs": [
    {
     "ename": "TypeError",
     "evalue": "Cannot interpret '5' as a data type",
     "output_type": "error",
     "traceback": [
      "\u001b[1;31m---------------------------------------------------------------------------\u001b[0m",
      "\u001b[1;31mTypeError\u001b[0m                                 Traceback (most recent call last)",
      "\u001b[1;32m<ipython-input-156-ef41c5a45b18>\u001b[0m in \u001b[0;36m<module>\u001b[1;34m\u001b[0m\n\u001b[1;32m----> 1\u001b[1;33m \u001b[0mnp\u001b[0m\u001b[1;33m.\u001b[0m\u001b[0midentity\u001b[0m\u001b[1;33m(\u001b[0m\u001b[1;36m5\u001b[0m\u001b[1;33m,\u001b[0m \u001b[1;36m5\u001b[0m\u001b[1;33m)\u001b[0m\u001b[1;33m\u001b[0m\u001b[1;33m\u001b[0m\u001b[0m\n\u001b[0m",
      "\u001b[1;32mC:\\Anaconda\\lib\\site-packages\\numpy\\core\\numeric.py\u001b[0m in \u001b[0;36midentity\u001b[1;34m(n, dtype)\u001b[0m\n\u001b[0;32m   2112\u001b[0m     \"\"\"\n\u001b[0;32m   2113\u001b[0m     \u001b[1;32mfrom\u001b[0m \u001b[0mnumpy\u001b[0m \u001b[1;32mimport\u001b[0m \u001b[0meye\u001b[0m\u001b[1;33m\u001b[0m\u001b[1;33m\u001b[0m\u001b[0m\n\u001b[1;32m-> 2114\u001b[1;33m     \u001b[1;32mreturn\u001b[0m \u001b[0meye\u001b[0m\u001b[1;33m(\u001b[0m\u001b[0mn\u001b[0m\u001b[1;33m,\u001b[0m \u001b[0mdtype\u001b[0m\u001b[1;33m=\u001b[0m\u001b[0mdtype\u001b[0m\u001b[1;33m)\u001b[0m\u001b[1;33m\u001b[0m\u001b[1;33m\u001b[0m\u001b[0m\n\u001b[0m\u001b[0;32m   2115\u001b[0m \u001b[1;33m\u001b[0m\u001b[0m\n\u001b[0;32m   2116\u001b[0m \u001b[1;33m\u001b[0m\u001b[0m\n",
      "\u001b[1;32mC:\\Anaconda\\lib\\site-packages\\numpy\\lib\\twodim_base.py\u001b[0m in \u001b[0;36meye\u001b[1;34m(N, M, k, dtype, order)\u001b[0m\n\u001b[0;32m    197\u001b[0m     \u001b[1;32mif\u001b[0m \u001b[0mM\u001b[0m \u001b[1;32mis\u001b[0m \u001b[1;32mNone\u001b[0m\u001b[1;33m:\u001b[0m\u001b[1;33m\u001b[0m\u001b[1;33m\u001b[0m\u001b[0m\n\u001b[0;32m    198\u001b[0m         \u001b[0mM\u001b[0m \u001b[1;33m=\u001b[0m \u001b[0mN\u001b[0m\u001b[1;33m\u001b[0m\u001b[1;33m\u001b[0m\u001b[0m\n\u001b[1;32m--> 199\u001b[1;33m     \u001b[0mm\u001b[0m \u001b[1;33m=\u001b[0m \u001b[0mzeros\u001b[0m\u001b[1;33m(\u001b[0m\u001b[1;33m(\u001b[0m\u001b[0mN\u001b[0m\u001b[1;33m,\u001b[0m \u001b[0mM\u001b[0m\u001b[1;33m)\u001b[0m\u001b[1;33m,\u001b[0m \u001b[0mdtype\u001b[0m\u001b[1;33m=\u001b[0m\u001b[0mdtype\u001b[0m\u001b[1;33m,\u001b[0m \u001b[0morder\u001b[0m\u001b[1;33m=\u001b[0m\u001b[0morder\u001b[0m\u001b[1;33m)\u001b[0m\u001b[1;33m\u001b[0m\u001b[1;33m\u001b[0m\u001b[0m\n\u001b[0m\u001b[0;32m    200\u001b[0m     \u001b[1;32mif\u001b[0m \u001b[0mk\u001b[0m \u001b[1;33m>=\u001b[0m \u001b[0mM\u001b[0m\u001b[1;33m:\u001b[0m\u001b[1;33m\u001b[0m\u001b[1;33m\u001b[0m\u001b[0m\n\u001b[0;32m    201\u001b[0m         \u001b[1;32mreturn\u001b[0m \u001b[0mm\u001b[0m\u001b[1;33m\u001b[0m\u001b[1;33m\u001b[0m\u001b[0m\n",
      "\u001b[1;31mTypeError\u001b[0m: Cannot interpret '5' as a data type"
     ]
    }
   ],
   "source": [
    "np.identity(5, 5)"
   ]
  },
  {
   "cell_type": "code",
   "execution_count": 157,
   "id": "e5fae989",
   "metadata": {},
   "outputs": [
    {
     "data": {
      "text/plain": [
       "array([[1, 0, 0, 0, 0],\n",
       "       [0, 1, 0, 0, 0],\n",
       "       [0, 0, 1, 0, 0],\n",
       "       [0, 0, 0, 1, 0],\n",
       "       [0, 0, 0, 0, 1]])"
      ]
     },
     "execution_count": 157,
     "metadata": {},
     "output_type": "execute_result"
    }
   ],
   "source": [
    "np.identity(5, np.int32)"
   ]
  },
  {
   "cell_type": "code",
   "execution_count": 158,
   "id": "ad023a88",
   "metadata": {},
   "outputs": [
    {
     "data": {
      "text/plain": [
       "array([1., 1., 1., 1., 1., 1., 1., 1., 1., 1.])"
      ]
     },
     "execution_count": 158,
     "metadata": {},
     "output_type": "execute_result"
    }
   ],
   "source": [
    "np.ones(10)"
   ]
  },
  {
   "cell_type": "code",
   "execution_count": 160,
   "id": "455c9ef6",
   "metadata": {},
   "outputs": [
    {
     "data": {
      "text/plain": [
       "array([[1., 1., 1., 1., 1., 1., 1., 1., 1., 1.],\n",
       "       [1., 1., 1., 1., 1., 1., 1., 1., 1., 1.],\n",
       "       [1., 1., 1., 1., 1., 1., 1., 1., 1., 1.],\n",
       "       [1., 1., 1., 1., 1., 1., 1., 1., 1., 1.],\n",
       "       [1., 1., 1., 1., 1., 1., 1., 1., 1., 1.],\n",
       "       [1., 1., 1., 1., 1., 1., 1., 1., 1., 1.],\n",
       "       [1., 1., 1., 1., 1., 1., 1., 1., 1., 1.],\n",
       "       [1., 1., 1., 1., 1., 1., 1., 1., 1., 1.],\n",
       "       [1., 1., 1., 1., 1., 1., 1., 1., 1., 1.],\n",
       "       [1., 1., 1., 1., 1., 1., 1., 1., 1., 1.]])"
      ]
     },
     "execution_count": 160,
     "metadata": {},
     "output_type": "execute_result"
    }
   ],
   "source": [
    "np.ones([10, 10])"
   ]
  },
  {
   "cell_type": "code",
   "execution_count": 162,
   "id": "2998fac5",
   "metadata": {},
   "outputs": [
    {
     "data": {
      "text/plain": [
       "array([[0, 0, 0, 0, 0, 0, 0, 0, 0, 0],\n",
       "       [0, 0, 0, 0, 0, 0, 0, 0, 0, 0],\n",
       "       [0, 0, 0, 0, 0, 0, 0, 0, 0, 0],\n",
       "       [0, 0, 0, 0, 0, 0, 0, 0, 0, 0],\n",
       "       [0, 0, 0, 0, 0, 0, 0, 0, 0, 0],\n",
       "       [0, 0, 0, 0, 0, 0, 0, 0, 0, 0],\n",
       "       [0, 0, 0, 0, 0, 0, 0, 0, 0, 0],\n",
       "       [0, 0, 0, 0, 0, 0, 0, 0, 0, 0],\n",
       "       [0, 0, 0, 0, 0, 0, 0, 0, 0, 0],\n",
       "       [0, 0, 0, 0, 0, 0, 0, 0, 0, 0]])"
      ]
     },
     "execution_count": 162,
     "metadata": {},
     "output_type": "execute_result"
    }
   ],
   "source": [
    "np.zeros([10, 10], dtype=np.int32)"
   ]
  },
  {
   "cell_type": "code",
   "execution_count": 163,
   "id": "66c7ec37",
   "metadata": {},
   "outputs": [
    {
     "data": {
      "text/plain": [
       "array([[0, 0, 0, 0, 0],\n",
       "       [0, 0, 0, 0, 0],\n",
       "       [0, 0, 0, 0, 0],\n",
       "       [0, 0, 0, 0, 0],\n",
       "       [0, 0, 0, 0, 0],\n",
       "       [0, 0, 0, 0, 0],\n",
       "       [0, 0, 0, 0, 0],\n",
       "       [0, 0, 0, 0, 0],\n",
       "       [0, 0, 0, 0, 0],\n",
       "       [0, 0, 0, 0, 0]])"
      ]
     },
     "execution_count": 163,
     "metadata": {},
     "output_type": "execute_result"
    }
   ],
   "source": [
    "np.zeros([10, 5], dtype=np.int32)"
   ]
  },
  {
   "cell_type": "code",
   "execution_count": 164,
   "id": "0c7ebf48",
   "metadata": {},
   "outputs": [
    {
     "data": {
      "text/plain": [
       "array([[[0, 0, 0, 0, 0],\n",
       "        [0, 0, 0, 0, 0],\n",
       "        [0, 0, 0, 0, 0],\n",
       "        [0, 0, 0, 0, 0],\n",
       "        [0, 0, 0, 0, 0],\n",
       "        [0, 0, 0, 0, 0],\n",
       "        [0, 0, 0, 0, 0],\n",
       "        [0, 0, 0, 0, 0],\n",
       "        [0, 0, 0, 0, 0],\n",
       "        [0, 0, 0, 0, 0]],\n",
       "\n",
       "       [[0, 0, 0, 0, 0],\n",
       "        [0, 0, 0, 0, 0],\n",
       "        [0, 0, 0, 0, 0],\n",
       "        [0, 0, 0, 0, 0],\n",
       "        [0, 0, 0, 0, 0],\n",
       "        [0, 0, 0, 0, 0],\n",
       "        [0, 0, 0, 0, 0],\n",
       "        [0, 0, 0, 0, 0],\n",
       "        [0, 0, 0, 0, 0],\n",
       "        [0, 0, 0, 0, 0]]])"
      ]
     },
     "execution_count": 164,
     "metadata": {},
     "output_type": "execute_result"
    }
   ],
   "source": [
    "np.zeros([2, 10, 5], dtype=np.int32)"
   ]
  },
  {
   "cell_type": "code",
   "execution_count": 173,
   "id": "2b678df5",
   "metadata": {},
   "outputs": [],
   "source": [
    "z = np.zeros([100, 100, 3], dtype=np.int32)"
   ]
  },
  {
   "cell_type": "code",
   "execution_count": 175,
   "id": "b121a57e",
   "metadata": {},
   "outputs": [],
   "source": [
    "z[:, :] = [255, 255, 255]"
   ]
  },
  {
   "cell_type": "code",
   "execution_count": 176,
   "id": "a5eed3c5",
   "metadata": {},
   "outputs": [
    {
     "data": {
      "text/plain": [
       "array([[[255, 255, 255],\n",
       "        [255, 255, 255],\n",
       "        [255, 255, 255],\n",
       "        ...,\n",
       "        [255, 255, 255],\n",
       "        [255, 255, 255],\n",
       "        [255, 255, 255]],\n",
       "\n",
       "       [[255, 255, 255],\n",
       "        [255, 255, 255],\n",
       "        [255, 255, 255],\n",
       "        ...,\n",
       "        [255, 255, 255],\n",
       "        [255, 255, 255],\n",
       "        [255, 255, 255]],\n",
       "\n",
       "       [[255, 255, 255],\n",
       "        [255, 255, 255],\n",
       "        [255, 255, 255],\n",
       "        ...,\n",
       "        [255, 255, 255],\n",
       "        [255, 255, 255],\n",
       "        [255, 255, 255]],\n",
       "\n",
       "       ...,\n",
       "\n",
       "       [[255, 255, 255],\n",
       "        [255, 255, 255],\n",
       "        [255, 255, 255],\n",
       "        ...,\n",
       "        [255, 255, 255],\n",
       "        [255, 255, 255],\n",
       "        [255, 255, 255]],\n",
       "\n",
       "       [[255, 255, 255],\n",
       "        [255, 255, 255],\n",
       "        [255, 255, 255],\n",
       "        ...,\n",
       "        [255, 255, 255],\n",
       "        [255, 255, 255],\n",
       "        [255, 255, 255]],\n",
       "\n",
       "       [[255, 255, 255],\n",
       "        [255, 255, 255],\n",
       "        [255, 255, 255],\n",
       "        ...,\n",
       "        [255, 255, 255],\n",
       "        [255, 255, 255],\n",
       "        [255, 255, 255]]])"
      ]
     },
     "execution_count": 176,
     "metadata": {},
     "output_type": "execute_result"
    }
   ],
   "source": [
    "z"
   ]
  },
  {
   "cell_type": "code",
   "execution_count": 177,
   "id": "8e20d746",
   "metadata": {},
   "outputs": [
    {
     "data": {
      "text/plain": [
       "<matplotlib.image.AxesImage at 0x2147f16b610>"
      ]
     },
     "execution_count": 177,
     "metadata": {},
     "output_type": "execute_result"
    },
    {
     "data": {
      "image/png": "[encoded data removed]",
      "text/plain": [
       "<Figure size 432x288 with 1 Axes>"
      ]
     },
     "metadata": {
      "needs_background": "light"
     },
     "output_type": "display_data"
    }
   ],
   "source": [
    "plt.imshow(z)"
   ]
  },
  {
   "cell_type": "code",
   "execution_count": 178,
   "id": "63f7122e",
   "metadata": {},
   "outputs": [
    {
     "data": {
      "text/plain": [
       "<matplotlib.image.AxesImage at 0x2147eec91f0>"
      ]
     },
     "execution_count": 178,
     "metadata": {},
     "output_type": "execute_result"
    },
    {
     "data": {
      "image/png": "[encoded data removed]",
      "text/plain": [
       "<Figure size 432x288 with 1 Axes>"
      ]
     },
     "metadata": {
      "needs_background": "light"
     },
     "output_type": "display_data"
    }
   ],
   "source": [
    "z = np.zeros([100, 100, 3], dtype=np.int32)\n",
    "plt.imshow(z)"
   ]
  },
  {
   "cell_type": "markdown",
   "id": "d409a493",
   "metadata": {},
   "source": [
    "#### Create a common function which will take 2 matrix and an operator as an argument and perform \n",
    "    the operation on matrix."
   ]
  },
  {
   "cell_type": "code",
   "execution_count": null,
   "id": "05e2a5c7",
   "metadata": {},
   "outputs": [],
   "source": []
  }
 ],
 "metadata": {
  "kernelspec": {
   "display_name": "Python 3",
   "language": "python",
   "name": "python3"
  },
  "language_info": {
   "codemirror_mode": {
    "name": "ipython",
    "version": 3
   },
   "file_extension": ".py",
   "mimetype": "text/x-python",
   "name": "python",
   "nbconvert_exporter": "python",
   "pygments_lexer": "ipython3",
   "version": "3.8.8"
  }
 },
 "nbformat": 4,
 "nbformat_minor": 5
}
