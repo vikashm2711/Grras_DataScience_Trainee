{
 "cells": [
  {
   "cell_type": "code",
   "execution_count": 1,
   "id": "9ed246c7",
   "metadata": {
    "ExecuteTime": {
     "end_time": "2021-08-31T06:18:52.541491Z",
     "start_time": "2021-08-31T06:18:52.032514Z"
    }
   },
   "outputs": [],
   "source": [
    "import numpy as np"
   ]
  },
  {
   "cell_type": "code",
   "execution_count": 2,
   "id": "6692f3ad",
   "metadata": {},
   "outputs": [
    {
     "name": "stdout",
     "output_type": "stream",
     "text": [
      "3\n",
      "4\n",
      "5\n",
      "1\n",
      "2\n",
      "6\n",
      "7\n",
      "8\n"
     ]
    },
    {
     "data": {
      "text/plain": [
       "[[[3, 4], [5, 1]], [[2, 6], [7, 8]]]"
      ]
     },
     "execution_count": 2,
     "metadata": {},
     "output_type": "execute_result"
    }
   ],
   "source": [
    "def d3_array(d, n, m):\n",
    "    final = []\n",
    "    for i in range(d):\n",
    "        a = []\n",
    "        for row in range(n):\n",
    "            b = []\n",
    "            for col in range(m):\n",
    "                b.append(int(input()))\n",
    "            a.append(b)\n",
    "        final.append(a)\n",
    "    return final\n",
    "\n",
    "d3_array(2, 2, 2)"
   ]
  },
  {
   "cell_type": "code",
   "execution_count": 3,
   "id": "f5cb58ec",
   "metadata": {},
   "outputs": [
    {
     "name": "stdout",
     "output_type": "stream",
     "text": [
      "3\n",
      "4\n",
      "5\n",
      "1\n",
      "2\n",
      "6\n",
      "7\n",
      "8\n"
     ]
    },
    {
     "data": {
      "text/plain": [
       "[[[3, 4], [5, 1]], [[2, 6], [7, 8]]]"
      ]
     },
     "execution_count": 3,
     "metadata": {},
     "output_type": "execute_result"
    }
   ],
   "source": [
    "def d3_array(d, n, m):\n",
    "    final = [[[int(input()) for i in range(m)] for j in range(n)] for k in range(d)]\n",
    "    return final \n",
    "\n",
    "d3_array(2, 2, 2)"
   ]
  },
  {
   "cell_type": "code",
   "execution_count": 4,
   "id": "779d8916",
   "metadata": {},
   "outputs": [
    {
     "data": {
      "text/plain": [
       "array([[[5, 2, 1, 6, 1],\n",
       "        [2, 2, 2, 4, 4],\n",
       "        [2, 9, 1, 1, 9],\n",
       "        [8, 9, 3, 4, 1],\n",
       "        [4, 2, 3, 1, 1]],\n",
       "\n",
       "       [[8, 2, 4, 2, 1],\n",
       "        [6, 9, 9, 5, 3],\n",
       "        [6, 8, 4, 2, 1],\n",
       "        [4, 6, 9, 8, 3],\n",
       "        [2, 8, 6, 1, 9]]])"
      ]
     },
     "execution_count": 4,
     "metadata": {},
     "output_type": "execute_result"
    }
   ],
   "source": [
    "np.random.randint(1, 10, (2, 5, 5))"
   ]
  },
  {
   "cell_type": "code",
   "execution_count": 26,
   "id": "ff541fe4",
   "metadata": {},
   "outputs": [],
   "source": [
    "arr3 = np.random.randint(1, 10, 75).reshape(3, 5, 5)"
   ]
  },
  {
   "cell_type": "code",
   "execution_count": 27,
   "id": "0023020c",
   "metadata": {},
   "outputs": [
    {
     "data": {
      "text/plain": [
       "array([[[2, 5, 4, 2, 8],\n",
       "        [8, 3, 8, 7, 2],\n",
       "        [3, 1, 2, 7, 4],\n",
       "        [9, 4, 5, 9, 8],\n",
       "        [6, 5, 3, 7, 6]],\n",
       "\n",
       "       [[8, 4, 5, 4, 4],\n",
       "        [5, 3, 6, 9, 4],\n",
       "        [5, 6, 3, 5, 2],\n",
       "        [5, 2, 9, 2, 1],\n",
       "        [7, 6, 5, 8, 9]],\n",
       "\n",
       "       [[7, 3, 8, 2, 7],\n",
       "        [9, 7, 3, 2, 4],\n",
       "        [3, 8, 4, 1, 6],\n",
       "        [8, 7, 2, 5, 4],\n",
       "        [3, 6, 9, 2, 7]]])"
      ]
     },
     "execution_count": 27,
     "metadata": {},
     "output_type": "execute_result"
    }
   ],
   "source": [
    "arr3"
   ]
  },
  {
   "cell_type": "code",
   "execution_count": 22,
   "id": "c7d816f5",
   "metadata": {},
   "outputs": [
    {
     "data": {
      "text/plain": [
       "dtype('int32')"
      ]
     },
     "execution_count": 22,
     "metadata": {},
     "output_type": "execute_result"
    }
   ],
   "source": [
    "arr3.dtype"
   ]
  },
  {
   "cell_type": "code",
   "execution_count": 24,
   "id": "f1786ad9",
   "metadata": {},
   "outputs": [],
   "source": [
    "arr3.dtype = np.float16"
   ]
  },
  {
   "cell_type": "code",
   "execution_count": 25,
   "id": "a6ae9ff3",
   "metadata": {},
   "outputs": [
    {
     "data": {
      "text/plain": [
       "0"
      ]
     },
     "execution_count": 25,
     "metadata": {},
     "output_type": "execute_result"
    }
   ],
   "source": [
    "round(arr3[1][1][3])"
   ]
  },
  {
   "cell_type": "code",
   "execution_count": 28,
   "id": "13e2eb64",
   "metadata": {},
   "outputs": [
    {
     "data": {
      "text/plain": [
       "array([[[2, 5, 4, 2, 8],\n",
       "        [8, 3, 8, 7, 2],\n",
       "        [3, 1, 2, 7, 4],\n",
       "        [9, 4, 5, 9, 8],\n",
       "        [6, 5, 3, 7, 6]],\n",
       "\n",
       "       [[8, 4, 5, 4, 4],\n",
       "        [5, 3, 6, 9, 4],\n",
       "        [5, 6, 3, 5, 2],\n",
       "        [5, 2, 9, 2, 1],\n",
       "        [7, 6, 5, 8, 9]],\n",
       "\n",
       "       [[7, 3, 8, 2, 7],\n",
       "        [9, 7, 3, 2, 4],\n",
       "        [3, 8, 4, 1, 6],\n",
       "        [8, 7, 2, 5, 4],\n",
       "        [3, 6, 9, 2, 7]]])"
      ]
     },
     "execution_count": 28,
     "metadata": {},
     "output_type": "execute_result"
    }
   ],
   "source": [
    "arr3"
   ]
  },
  {
   "cell_type": "markdown",
   "id": "97073e2d",
   "metadata": {},
   "source": [
    "    [\n",
    "      [[8, 3],\n",
    "      [2, 1],\n",
    "      [5, 4],\n",
    "      [3, 5]],\n",
    "      \n",
    "      [[6, 3],\n",
    "      [3, 6],\n",
    "      [9, 2],\n",
    "      [5, 6]]\n",
    "    ]\n",
    "      "
   ]
  },
  {
   "cell_type": "code",
   "execution_count": 29,
   "id": "2ed4b7a8",
   "metadata": {},
   "outputs": [
    {
     "data": {
      "text/plain": [
       "array([[[8, 3],\n",
       "        [2, 1],\n",
       "        [5, 4],\n",
       "        [3, 5]],\n",
       "\n",
       "       [[6, 3],\n",
       "        [3, 6],\n",
       "        [9, 2],\n",
       "        [5, 6]],\n",
       "\n",
       "       [[3, 7],\n",
       "        [4, 8],\n",
       "        [2, 7],\n",
       "        [9, 6]]])"
      ]
     },
     "execution_count": 29,
     "metadata": {},
     "output_type": "execute_result"
    }
   ],
   "source": [
    "arr3[:,1:, 2:0:-1]"
   ]
  },
  {
   "cell_type": "code",
   "execution_count": 31,
   "id": "60b47b9f",
   "metadata": {},
   "outputs": [
    {
     "data": {
      "text/plain": [
       "array([[[8, 3],\n",
       "        [2, 1],\n",
       "        [5, 4],\n",
       "        [3, 5]],\n",
       "\n",
       "       [[6, 3],\n",
       "        [3, 6],\n",
       "        [9, 2],\n",
       "        [5, 6]],\n",
       "\n",
       "       [[3, 7],\n",
       "        [4, 8],\n",
       "        [2, 7],\n",
       "        [9, 6]]])"
      ]
     },
     "execution_count": 31,
     "metadata": {},
     "output_type": "execute_result"
    }
   ],
   "source": [
    "arr3[:,1:,-3:-5:-1]"
   ]
  },
  {
   "cell_type": "code",
   "execution_count": 33,
   "id": "d295e2a9",
   "metadata": {},
   "outputs": [],
   "source": [
    "arr = np.random.randint(1, 10, (2, 2, 2))"
   ]
  },
  {
   "cell_type": "code",
   "execution_count": 35,
   "id": "e7bad695",
   "metadata": {},
   "outputs": [
    {
     "data": {
      "text/plain": [
       "5.0"
      ]
     },
     "execution_count": 35,
     "metadata": {},
     "output_type": "execute_result"
    }
   ],
   "source": [
    "arr.mean()"
   ]
  },
  {
   "cell_type": "code",
   "execution_count": 36,
   "id": "9745e691",
   "metadata": {},
   "outputs": [
    {
     "data": {
      "text/plain": [
       "40"
      ]
     },
     "execution_count": 36,
     "metadata": {},
     "output_type": "execute_result"
    }
   ],
   "source": [
    "arr.sum()"
   ]
  },
  {
   "cell_type": "code",
   "execution_count": 38,
   "id": "ed513500",
   "metadata": {},
   "outputs": [
    {
     "data": {
      "text/plain": [
       "array([[[9, 4],\n",
       "        [9, 4]],\n",
       "\n",
       "       [[3, 1],\n",
       "        [8, 2]]])"
      ]
     },
     "execution_count": 38,
     "metadata": {},
     "output_type": "execute_result"
    }
   ],
   "source": [
    "arr"
   ]
  },
  {
   "cell_type": "code",
   "execution_count": 37,
   "id": "a321211a",
   "metadata": {},
   "outputs": [
    {
     "data": {
      "text/plain": [
       "array([[6. , 2.5],\n",
       "       [8.5, 3. ]])"
      ]
     },
     "execution_count": 37,
     "metadata": {},
     "output_type": "execute_result"
    }
   ],
   "source": [
    "arr.mean(axis=0)"
   ]
  },
  {
   "cell_type": "code",
   "execution_count": 39,
   "id": "1ad8ca37",
   "metadata": {},
   "outputs": [
    {
     "data": {
      "text/plain": [
       "array([[9. , 4. ],\n",
       "       [5.5, 1.5]])"
      ]
     },
     "execution_count": 39,
     "metadata": {},
     "output_type": "execute_result"
    }
   ],
   "source": [
    "arr.mean(axis=1) # col"
   ]
  },
  {
   "cell_type": "code",
   "execution_count": 40,
   "id": "3cd09b01",
   "metadata": {},
   "outputs": [
    {
     "data": {
      "text/plain": [
       "array([[6.5, 6.5],\n",
       "       [2. , 5. ]])"
      ]
     },
     "execution_count": 40,
     "metadata": {},
     "output_type": "execute_result"
    }
   ],
   "source": [
    "arr.mean(axis=2) # row"
   ]
  },
  {
   "cell_type": "code",
   "execution_count": 41,
   "id": "d0d2dbe8",
   "metadata": {},
   "outputs": [
    {
     "data": {
      "text/plain": [
       "array([[18,  8],\n",
       "       [11,  3]])"
      ]
     },
     "execution_count": 41,
     "metadata": {},
     "output_type": "execute_result"
    }
   ],
   "source": [
    "arr.sum(axis=1)"
   ]
  },
  {
   "cell_type": "code",
   "execution_count": 42,
   "id": "8921dab8",
   "metadata": {},
   "outputs": [
    {
     "data": {
      "text/plain": [
       "array([[13, 13],\n",
       "       [ 4, 10]])"
      ]
     },
     "execution_count": 42,
     "metadata": {},
     "output_type": "execute_result"
    }
   ],
   "source": [
    "arr.sum(axis=2)"
   ]
  },
  {
   "cell_type": "markdown",
   "id": "34dadb1f",
   "metadata": {},
   "source": [
    "### Operations "
   ]
  },
  {
   "cell_type": "code",
   "execution_count": 43,
   "id": "ba957e81",
   "metadata": {},
   "outputs": [],
   "source": [
    "ages = np.random.randint(5, 15, 10)"
   ]
  },
  {
   "cell_type": "code",
   "execution_count": 44,
   "id": "139b4253",
   "metadata": {},
   "outputs": [
    {
     "data": {
      "text/plain": [
       "array([ 7, 10,  5,  7,  7, 12,  6, 12, 14,  8])"
      ]
     },
     "execution_count": 44,
     "metadata": {},
     "output_type": "execute_result"
    }
   ],
   "source": [
    "ages"
   ]
  },
  {
   "cell_type": "code",
   "execution_count": 45,
   "id": "455f307b",
   "metadata": {},
   "outputs": [
    {
     "data": {
      "text/plain": [
       "array([False, False, False, False, False, False, False, False, False,\n",
       "       False])"
      ]
     },
     "execution_count": 45,
     "metadata": {},
     "output_type": "execute_result"
    }
   ],
   "source": [
    "ages>45"
   ]
  },
  {
   "cell_type": "code",
   "execution_count": 47,
   "id": "fa4c05c8",
   "metadata": {},
   "outputs": [],
   "source": [
    "l = [1, 2, 3, 4]"
   ]
  },
  {
   "cell_type": "code",
   "execution_count": 48,
   "id": "73be73ef",
   "metadata": {},
   "outputs": [
    {
     "ename": "TypeError",
     "evalue": "'>' not supported between instances of 'list' and 'int'",
     "output_type": "error",
     "traceback": [
      "\u001b[1;31m---------------------------------------------------------------------------\u001b[0m",
      "\u001b[1;31mTypeError\u001b[0m                                 Traceback (most recent call last)",
      "\u001b[1;32m<ipython-input-48-251a0c9fedb0>\u001b[0m in \u001b[0;36m<module>\u001b[1;34m\u001b[0m\n\u001b[1;32m----> 1\u001b[1;33m \u001b[0ml\u001b[0m \u001b[1;33m>\u001b[0m \u001b[1;36m4\u001b[0m\u001b[1;33m\u001b[0m\u001b[1;33m\u001b[0m\u001b[0m\n\u001b[0m",
      "\u001b[1;31mTypeError\u001b[0m: '>' not supported between instances of 'list' and 'int'"
     ]
    }
   ],
   "source": [
    "l > 4"
   ]
  },
  {
   "cell_type": "code",
   "execution_count": 51,
   "id": "972e1a52",
   "metadata": {},
   "outputs": [
    {
     "data": {
      "text/plain": [
       "array([ True, False,  True,  True,  True, False,  True, False, False,\n",
       "       False])"
      ]
     },
     "execution_count": 51,
     "metadata": {},
     "output_type": "execute_result"
    }
   ],
   "source": [
    "ages<8"
   ]
  },
  {
   "cell_type": "code",
   "execution_count": 53,
   "id": "c8ed6f95",
   "metadata": {},
   "outputs": [
    {
     "data": {
      "text/plain": [
       "array([ True, False, False,  True,  True, False, False, False, False,\n",
       "       False])"
      ]
     },
     "execution_count": 53,
     "metadata": {},
     "output_type": "execute_result"
    }
   ],
   "source": [
    "ages==7"
   ]
  },
  {
   "cell_type": "code",
   "execution_count": 55,
   "id": "d1370039",
   "metadata": {},
   "outputs": [
    {
     "data": {
      "text/plain": [
       "2"
      ]
     },
     "execution_count": 55,
     "metadata": {},
     "output_type": "execute_result"
    }
   ],
   "source": [
    "l[True]"
   ]
  },
  {
   "cell_type": "code",
   "execution_count": 56,
   "id": "06ed5447",
   "metadata": {},
   "outputs": [
    {
     "data": {
      "text/plain": [
       "[1, 2, 3, 4]"
      ]
     },
     "execution_count": 56,
     "metadata": {},
     "output_type": "execute_result"
    }
   ],
   "source": [
    "l"
   ]
  },
  {
   "cell_type": "code",
   "execution_count": 57,
   "id": "be77db10",
   "metadata": {},
   "outputs": [
    {
     "data": {
      "text/plain": [
       "1"
      ]
     },
     "execution_count": 57,
     "metadata": {},
     "output_type": "execute_result"
    }
   ],
   "source": [
    "l[False]"
   ]
  },
  {
   "cell_type": "code",
   "execution_count": 58,
   "id": "89ad6672",
   "metadata": {},
   "outputs": [
    {
     "ename": "TypeError",
     "evalue": "list indices must be integers or slices, not tuple",
     "output_type": "error",
     "traceback": [
      "\u001b[1;31m---------------------------------------------------------------------------\u001b[0m",
      "\u001b[1;31mTypeError\u001b[0m                                 Traceback (most recent call last)",
      "\u001b[1;32m<ipython-input-58-237355257d13>\u001b[0m in \u001b[0;36m<module>\u001b[1;34m\u001b[0m\n\u001b[1;32m----> 1\u001b[1;33m \u001b[0ml\u001b[0m\u001b[1;33m[\u001b[0m\u001b[1;32mTrue\u001b[0m\u001b[1;33m,\u001b[0m \u001b[1;32mTrue\u001b[0m\u001b[1;33m]\u001b[0m\u001b[1;33m\u001b[0m\u001b[1;33m\u001b[0m\u001b[0m\n\u001b[0m",
      "\u001b[1;31mTypeError\u001b[0m: list indices must be integers or slices, not tuple"
     ]
    }
   ],
   "source": [
    "l[True, True]"
   ]
  },
  {
   "cell_type": "code",
   "execution_count": 62,
   "id": "21cee0f6",
   "metadata": {},
   "outputs": [
    {
     "data": {
      "text/plain": [
       "array([12, 12, 14])"
      ]
     },
     "execution_count": 62,
     "metadata": {},
     "output_type": "execute_result"
    }
   ],
   "source": [
    "ages[ages>10]"
   ]
  },
  {
   "cell_type": "code",
   "execution_count": 65,
   "id": "755981b8",
   "metadata": {},
   "outputs": [
    {
     "data": {
      "text/plain": [
       "array([ 7,  5,  7, 12, 14])"
      ]
     },
     "execution_count": 65,
     "metadata": {},
     "output_type": "execute_result"
    }
   ],
   "source": [
    "ages[[True, False, True, False, True, True, False, False, True, False]]"
   ]
  },
  {
   "cell_type": "code",
   "execution_count": 66,
   "id": "ea814233",
   "metadata": {},
   "outputs": [
    {
     "ename": "IndexError",
     "evalue": "boolean index did not match indexed array along dimension 0; dimension is 10 but corresponding boolean dimension is 5",
     "output_type": "error",
     "traceback": [
      "\u001b[1;31m---------------------------------------------------------------------------\u001b[0m",
      "\u001b[1;31mIndexError\u001b[0m                                Traceback (most recent call last)",
      "\u001b[1;32m<ipython-input-66-f298be2ec296>\u001b[0m in \u001b[0;36m<module>\u001b[1;34m\u001b[0m\n\u001b[1;32m----> 1\u001b[1;33m \u001b[0mages\u001b[0m\u001b[1;33m[\u001b[0m\u001b[1;33m[\u001b[0m\u001b[1;32mTrue\u001b[0m\u001b[1;33m,\u001b[0m \u001b[1;32mFalse\u001b[0m\u001b[1;33m,\u001b[0m \u001b[1;32mTrue\u001b[0m\u001b[1;33m,\u001b[0m \u001b[1;32mFalse\u001b[0m\u001b[1;33m,\u001b[0m \u001b[1;32mTrue\u001b[0m\u001b[1;33m]\u001b[0m\u001b[1;33m]\u001b[0m\u001b[1;33m\u001b[0m\u001b[1;33m\u001b[0m\u001b[0m\n\u001b[0m",
      "\u001b[1;31mIndexError\u001b[0m: boolean index did not match indexed array along dimension 0; dimension is 10 but corresponding boolean dimension is 5"
     ]
    }
   ],
   "source": [
    "ages[[True, False, True, False, True]]"
   ]
  },
  {
   "cell_type": "code",
   "execution_count": 69,
   "id": "7eeda659",
   "metadata": {},
   "outputs": [
    {
     "data": {
      "text/plain": [
       "[12, 12, 14]"
      ]
     },
     "execution_count": 69,
     "metadata": {},
     "output_type": "execute_result"
    }
   ],
   "source": [
    "[i for i in ages if i>10]"
   ]
  },
  {
   "cell_type": "code",
   "execution_count": 70,
   "id": "325f23bf",
   "metadata": {},
   "outputs": [
    {
     "data": {
      "text/plain": [
       "array([ 7, 10,  5,  7,  7, 12,  6, 12, 14,  8])"
      ]
     },
     "execution_count": 70,
     "metadata": {},
     "output_type": "execute_result"
    }
   ],
   "source": [
    "ages"
   ]
  },
  {
   "cell_type": "markdown",
   "id": "70872b61",
   "metadata": {},
   "source": [
    "#### Number of students with age greater than 10"
   ]
  },
  {
   "cell_type": "code",
   "execution_count": 74,
   "id": "1bc7c849",
   "metadata": {},
   "outputs": [
    {
     "data": {
      "text/plain": [
       "3"
      ]
     },
     "execution_count": 74,
     "metadata": {},
     "output_type": "execute_result"
    }
   ],
   "source": [
    "len(ages[ages>10])"
   ]
  },
  {
   "cell_type": "code",
   "execution_count": 76,
   "id": "b9eabdee",
   "metadata": {},
   "outputs": [
    {
     "data": {
      "text/plain": [
       "3"
      ]
     },
     "execution_count": 76,
     "metadata": {},
     "output_type": "execute_result"
    }
   ],
   "source": [
    "(ages>10).sum()"
   ]
  },
  {
   "cell_type": "code",
   "execution_count": 80,
   "id": "d5f35f56",
   "metadata": {},
   "outputs": [],
   "source": [
    "ages = np.random.randint(5, 16, 30)"
   ]
  },
  {
   "cell_type": "code",
   "execution_count": 83,
   "id": "93a0b07f",
   "metadata": {},
   "outputs": [
    {
     "data": {
      "text/plain": [
       "8"
      ]
     },
     "execution_count": 83,
     "metadata": {},
     "output_type": "execute_result"
    }
   ],
   "source": [
    "(ages>10).sum()"
   ]
  },
  {
   "cell_type": "code",
   "execution_count": 84,
   "id": "cb99c7b6",
   "metadata": {},
   "outputs": [
    {
     "ename": "ValueError",
     "evalue": "The truth value of an array with more than one element is ambiguous. Use a.any() or a.all()",
     "output_type": "error",
     "traceback": [
      "\u001b[1;31m---------------------------------------------------------------------------\u001b[0m",
      "\u001b[1;31mValueError\u001b[0m                                Traceback (most recent call last)",
      "\u001b[1;32m<ipython-input-84-f1feb6b383f2>\u001b[0m in \u001b[0;36m<module>\u001b[1;34m\u001b[0m\n\u001b[1;32m----> 1\u001b[1;33m \u001b[1;36m10\u001b[0m\u001b[1;33m<\u001b[0m\u001b[0mages\u001b[0m\u001b[1;33m<=\u001b[0m\u001b[1;36m13\u001b[0m\u001b[1;33m\u001b[0m\u001b[1;33m\u001b[0m\u001b[0m\n\u001b[0m",
      "\u001b[1;31mValueError\u001b[0m: The truth value of an array with more than one element is ambiguous. Use a.any() or a.all()"
     ]
    }
   ],
   "source": [
    "10<ages<=13"
   ]
  },
  {
   "cell_type": "code",
   "execution_count": 85,
   "id": "7e0e0e4e",
   "metadata": {},
   "outputs": [
    {
     "ename": "ValueError",
     "evalue": "The truth value of an array with more than one element is ambiguous. Use a.any() or a.all()",
     "output_type": "error",
     "traceback": [
      "\u001b[1;31m---------------------------------------------------------------------------\u001b[0m",
      "\u001b[1;31mValueError\u001b[0m                                Traceback (most recent call last)",
      "\u001b[1;32m<ipython-input-85-3453d8873ac3>\u001b[0m in \u001b[0;36m<module>\u001b[1;34m\u001b[0m\n\u001b[1;32m----> 1\u001b[1;33m \u001b[1;33m(\u001b[0m\u001b[0mages\u001b[0m\u001b[1;33m>\u001b[0m\u001b[1;36m10\u001b[0m\u001b[1;33m)\u001b[0m \u001b[1;32mand\u001b[0m \u001b[1;33m(\u001b[0m\u001b[0mages\u001b[0m\u001b[1;33m<=\u001b[0m\u001b[1;36m13\u001b[0m\u001b[1;33m)\u001b[0m\u001b[1;33m\u001b[0m\u001b[1;33m\u001b[0m\u001b[0m\n\u001b[0m",
      "\u001b[1;31mValueError\u001b[0m: The truth value of an array with more than one element is ambiguous. Use a.any() or a.all()"
     ]
    }
   ],
   "source": [
    "(ages>10) and (ages<=13) # or\n",
    "# ages>10\n",
    "#[True, False, False] and [True, False, True]"
   ]
  },
  {
   "cell_type": "code",
   "execution_count": 88,
   "id": "05cc6e6f",
   "metadata": {},
   "outputs": [
    {
     "data": {
      "text/plain": [
       "array([ True, False,  True, False, False, False, False, False,  True,\n",
       "       False, False, False, False,  True, False, False,  True, False,\n",
       "       False, False, False, False,  True, False,  True, False,  True,\n",
       "       False, False, False])"
      ]
     },
     "execution_count": 88,
     "metadata": {},
     "output_type": "execute_result"
    }
   ],
   "source": [
    "(ages>10)"
   ]
  },
  {
   "cell_type": "code",
   "execution_count": 87,
   "id": "59338d90",
   "metadata": {},
   "outputs": [
    {
     "data": {
      "text/plain": [
       "True"
      ]
     },
     "execution_count": 87,
     "metadata": {},
     "output_type": "execute_result"
    }
   ],
   "source": [
    "any((ages>10))"
   ]
  },
  {
   "cell_type": "code",
   "execution_count": 89,
   "id": "2028c696",
   "metadata": {},
   "outputs": [
    {
     "data": {
      "text/plain": [
       "array([ True,  True,  True,  True,  True,  True,  True,  True,  True,\n",
       "        True,  True,  True,  True,  True,  True,  True, False,  True,\n",
       "        True,  True,  True,  True,  True,  True,  True,  True, False,\n",
       "        True,  True,  True])"
      ]
     },
     "execution_count": 89,
     "metadata": {},
     "output_type": "execute_result"
    }
   ],
   "source": [
    "(ages<=13)"
   ]
  },
  {
   "cell_type": "code",
   "execution_count": 86,
   "id": "7fa66f1b",
   "metadata": {},
   "outputs": [
    {
     "data": {
      "text/plain": [
       "True"
      ]
     },
     "execution_count": 86,
     "metadata": {},
     "output_type": "execute_result"
    }
   ],
   "source": [
    "any((ages>10)) and any((ages<=13)) "
   ]
  },
  {
   "cell_type": "code",
   "execution_count": 91,
   "id": "0c7da655",
   "metadata": {},
   "outputs": [
    {
     "data": {
      "text/plain": [
       "array([ True, False,  True, False, False, False, False, False,  True,\n",
       "       False, False, False, False,  True, False, False, False, False,\n",
       "       False, False, False, False,  True, False,  True, False, False,\n",
       "       False, False, False])"
      ]
     },
     "execution_count": 91,
     "metadata": {},
     "output_type": "execute_result"
    }
   ],
   "source": [
    "(ages>10) & (ages<=13)"
   ]
  },
  {
   "cell_type": "code",
   "execution_count": 92,
   "id": "6a36ef57",
   "metadata": {},
   "outputs": [
    {
     "data": {
      "text/plain": [
       "array([11, 13, 11, 12, 12, 11])"
      ]
     },
     "execution_count": 92,
     "metadata": {},
     "output_type": "execute_result"
    }
   ],
   "source": [
    "ages[(ages>10) & (ages<=13)]"
   ]
  },
  {
   "cell_type": "code",
   "execution_count": 93,
   "id": "0685de5d",
   "metadata": {},
   "outputs": [
    {
     "data": {
      "text/plain": [
       "6"
      ]
     },
     "execution_count": 93,
     "metadata": {},
     "output_type": "execute_result"
    }
   ],
   "source": [
    "((ages>10) & (ages<=13)).sum()"
   ]
  },
  {
   "cell_type": "code",
   "execution_count": 94,
   "id": "96349cc0",
   "metadata": {},
   "outputs": [
    {
     "data": {
      "text/plain": [
       "True"
      ]
     },
     "execution_count": 94,
     "metadata": {},
     "output_type": "execute_result"
    }
   ],
   "source": [
    "any([True, False, True, True]) # if there is any True value it will return True"
   ]
  },
  {
   "cell_type": "code",
   "execution_count": 95,
   "id": "ebf04c13",
   "metadata": {},
   "outputs": [
    {
     "data": {
      "text/plain": [
       "False"
      ]
     },
     "execution_count": 95,
     "metadata": {},
     "output_type": "execute_result"
    }
   ],
   "source": [
    "any([False, False, False]) # if there is any True value it will return True"
   ]
  },
  {
   "cell_type": "code",
   "execution_count": 96,
   "id": "c493b6c2",
   "metadata": {},
   "outputs": [
    {
     "data": {
      "text/plain": [
       "False"
      ]
     },
     "execution_count": 96,
     "metadata": {},
     "output_type": "execute_result"
    }
   ],
   "source": [
    "all([True, False, True, True]) "
   ]
  },
  {
   "cell_type": "code",
   "execution_count": 97,
   "id": "48383885",
   "metadata": {},
   "outputs": [
    {
     "data": {
      "text/plain": [
       "True"
      ]
     },
     "execution_count": 97,
     "metadata": {},
     "output_type": "execute_result"
    }
   ],
   "source": [
    "all([True, True, True, True]) "
   ]
  },
  {
   "cell_type": "code",
   "execution_count": 99,
   "id": "2287dabd",
   "metadata": {},
   "outputs": [
    {
     "data": {
      "text/plain": [
       "True"
      ]
     },
     "execution_count": 99,
     "metadata": {},
     "output_type": "execute_result"
    }
   ],
   "source": [
    "any([0, 1, (), []])"
   ]
  },
  {
   "cell_type": "code",
   "execution_count": 102,
   "id": "43a9e946",
   "metadata": {},
   "outputs": [
    {
     "data": {
      "text/plain": [
       "array([ 5,  5,  9,  5,  9,  6,  9,  6,  8,  6, 15,  7,  6,  5,  6,  7,  5,\n",
       "        5, 14,  5,  8,  7])"
      ]
     },
     "execution_count": 102,
     "metadata": {},
     "output_type": "execute_result"
    }
   ],
   "source": [
    "ages[(ages>13) | (ages<10)]"
   ]
  },
  {
   "cell_type": "code",
   "execution_count": 103,
   "id": "0a629ac3",
   "metadata": {},
   "outputs": [],
   "source": [
    "maths = np.random.randint(50, 100, 10)\n",
    "sci = np.random.randint(50, 100, 10)\n",
    "eng = np.random.randint(50, 100, 10)\n",
    "names = np.array(list(\"ABCDEFGHIJ\"))"
   ]
  },
  {
   "cell_type": "code",
   "execution_count": 104,
   "id": "e1d1dcf3",
   "metadata": {},
   "outputs": [
    {
     "data": {
      "text/plain": [
       "True"
      ]
     },
     "execution_count": 104,
     "metadata": {},
     "output_type": "execute_result"
    }
   ],
   "source": [
    "len(maths) == len(sci) == len(eng) == len(names)"
   ]
  },
  {
   "cell_type": "markdown",
   "id": "9ce8c805",
   "metadata": {},
   "source": [
    "#### Names of students having eng marks greater than 70"
   ]
  },
  {
   "cell_type": "code",
   "execution_count": 106,
   "id": "ca96177e",
   "metadata": {},
   "outputs": [
    {
     "data": {
      "text/plain": [
       "array([89, 94, 99, 83])"
      ]
     },
     "execution_count": 106,
     "metadata": {},
     "output_type": "execute_result"
    }
   ],
   "source": [
    "eng[eng>70]"
   ]
  },
  {
   "cell_type": "code",
   "execution_count": 108,
   "id": "c6031707",
   "metadata": {},
   "outputs": [
    {
     "data": {
      "text/plain": [
       "array(['B', 'E', 'G', 'H'], dtype='<U1')"
      ]
     },
     "execution_count": 108,
     "metadata": {},
     "output_type": "execute_result"
    }
   ],
   "source": [
    "names[eng>70]"
   ]
  },
  {
   "cell_type": "code",
   "execution_count": 113,
   "id": "57ab07bf",
   "metadata": {},
   "outputs": [
    {
     "data": {
      "text/plain": [
       "1"
      ]
     },
     "execution_count": 113,
     "metadata": {},
     "output_type": "execute_result"
    }
   ],
   "source": [
    "(eng == eng.max()).sum()"
   ]
  },
  {
   "cell_type": "code",
   "execution_count": 114,
   "id": "3dfe665c",
   "metadata": {},
   "outputs": [
    {
     "data": {
      "text/plain": [
       "2"
      ]
     },
     "execution_count": 114,
     "metadata": {},
     "output_type": "execute_result"
    }
   ],
   "source": [
    "(maths == maths.max()).sum()"
   ]
  },
  {
   "cell_type": "code",
   "execution_count": 115,
   "id": "b2878cf9",
   "metadata": {},
   "outputs": [
    {
     "data": {
      "text/plain": [
       "96"
      ]
     },
     "execution_count": 115,
     "metadata": {},
     "output_type": "execute_result"
    }
   ],
   "source": [
    "maths.max()"
   ]
  },
  {
   "cell_type": "code",
   "execution_count": 116,
   "id": "b0bd3c5c",
   "metadata": {},
   "outputs": [
    {
     "data": {
      "text/plain": [
       "1"
      ]
     },
     "execution_count": 116,
     "metadata": {},
     "output_type": "execute_result"
    }
   ],
   "source": [
    "(sci == sci.max()).sum()"
   ]
  },
  {
   "cell_type": "code",
   "execution_count": 117,
   "id": "f26c3dd9",
   "metadata": {},
   "outputs": [
    {
     "data": {
      "text/plain": [
       "95"
      ]
     },
     "execution_count": 117,
     "metadata": {},
     "output_type": "execute_result"
    }
   ],
   "source": [
    "sci.max()"
   ]
  },
  {
   "cell_type": "markdown",
   "id": "aa818bf6",
   "metadata": {},
   "source": [
    "#### Is there any of studens/students having maximum marks in 3 of the subject\n",
    "##### if yes? Then what is its name?"
   ]
  },
  {
   "cell_type": "code",
   "execution_count": 118,
   "id": "9bc7116e",
   "metadata": {},
   "outputs": [
    {
     "data": {
      "text/plain": [
       "array(['G'], dtype='<U1')"
      ]
     },
     "execution_count": 118,
     "metadata": {},
     "output_type": "execute_result"
    }
   ],
   "source": [
    "names[eng==eng.max()]"
   ]
  },
  {
   "cell_type": "code",
   "execution_count": 120,
   "id": "8f1d4822",
   "metadata": {},
   "outputs": [
    {
     "data": {
      "text/plain": [
       "array([], dtype='<U1')"
      ]
     },
     "execution_count": 120,
     "metadata": {},
     "output_type": "execute_result"
    }
   ],
   "source": [
    "names[(eng==eng.max()) & (maths == maths.max()) & (sci == sci.max())]"
   ]
  },
  {
   "cell_type": "code",
   "execution_count": 121,
   "id": "7939be4d",
   "metadata": {},
   "outputs": [
    {
     "name": "stdout",
     "output_type": "stream",
     "text": [
      "\n",
      " There is no such student with maximum marks in each subject...\n"
     ]
    }
   ],
   "source": [
    "arr = (eng==eng.max()) & (maths == maths.max()) & (sci == sci.max())\n",
    "if any(arr):\n",
    "    print(names[arr])\n",
    "else:\n",
    "    print(\"\\n There is no such student with maximum marks in each subject...\")"
   ]
  },
  {
   "cell_type": "code",
   "execution_count": 122,
   "id": "ca1c2da1",
   "metadata": {},
   "outputs": [
    {
     "data": {
      "text/plain": [
       "array([94])"
      ]
     },
     "execution_count": 122,
     "metadata": {},
     "output_type": "execute_result"
    }
   ],
   "source": [
    "maths[(eng==eng.max())]"
   ]
  },
  {
   "cell_type": "code",
   "execution_count": 123,
   "id": "d3b2f439",
   "metadata": {},
   "outputs": [
    {
     "data": {
      "text/plain": [
       "array([85])"
      ]
     },
     "execution_count": 123,
     "metadata": {},
     "output_type": "execute_result"
    }
   ],
   "source": [
    "sci[(eng==eng.max())]"
   ]
  },
  {
   "cell_type": "code",
   "execution_count": 2,
   "id": "3f4f9841",
   "metadata": {
    "ExecuteTime": {
     "end_time": "2021-08-31T06:22:49.067525Z",
     "start_time": "2021-08-31T06:22:49.050532Z"
    }
   },
   "outputs": [],
   "source": [
    "m=np.random.randint(40,100,20)\n",
    "a=np.random.randint(40,100,20)\n",
    "b=np.random.randint(40,100,20)\n"
   ]
  },
  {
   "cell_type": "code",
   "execution_count": 17,
   "id": "523be83b",
   "metadata": {
    "ExecuteTime": {
     "end_time": "2021-08-31T06:52:20.775764Z",
     "start_time": "2021-08-31T06:52:20.762764Z"
    }
   },
   "outputs": [],
   "source": [
    "a= np.random.randint(-4,5,9)\n",
    "b= np.random.randint(-4,5,9)"
   ]
  },
  {
   "cell_type": "code",
   "execution_count": 20,
   "id": "808cdfec",
   "metadata": {
    "ExecuteTime": {
     "end_time": "2021-08-31T06:52:36.683881Z",
     "start_time": "2021-08-31T06:52:36.668903Z"
    }
   },
   "outputs": [],
   "source": [
    "a=a.reshape(3,3)\n",
    "b=b.reshape(3,3)"
   ]
  },
  {
   "cell_type": "code",
   "execution_count": 22,
   "id": "29b6f0b2",
   "metadata": {
    "ExecuteTime": {
     "end_time": "2021-08-31T06:52:48.282438Z",
     "start_time": "2021-08-31T06:52:48.263439Z"
    }
   },
   "outputs": [
    {
     "name": "stdout",
     "output_type": "stream",
     "text": [
      "[[ 3  1  3]\n",
      " [-4  2  4]\n",
      " [-1  0 -1]]\n",
      "[[-2 -4 -2]\n",
      " [ 1 -3 -1]\n",
      " [-2  2  4]]\n"
     ]
    }
   ],
   "source": [
    "print(a)\n",
    "print(b)"
   ]
  },
  {
   "cell_type": "code",
   "execution_count": 24,
   "id": "3ed6bdbd",
   "metadata": {
    "ExecuteTime": {
     "end_time": "2021-08-31T06:55:21.880167Z",
     "start_time": "2021-08-31T06:55:21.868169Z"
    }
   },
   "outputs": [],
   "source": [
    "res=[]\n",
    "for i in range(len(a)):\n",
    "    sum=0\n",
    "    for j in range(len(b)):\n",
    "        sum=a[i][j]*b[j][i]+sum\n",
    "    \n",
    "    res.append(sum)\n",
    "    "
   ]
  },
  {
   "cell_type": "code",
   "execution_count": 25,
   "id": "372343d0",
   "metadata": {
    "ExecuteTime": {
     "end_time": "2021-08-31T06:55:25.608800Z",
     "start_time": "2021-08-31T06:55:25.592794Z"
    }
   },
   "outputs": [
    {
     "data": {
      "text/plain": [
       "[-11, 18, -2]"
      ]
     },
     "execution_count": 25,
     "metadata": {},
     "output_type": "execute_result"
    }
   ],
   "source": [
    "res"
   ]
  },
  {
   "cell_type": "code",
   "execution_count": null,
   "id": "ea8a4967",
   "metadata": {},
   "outputs": [],
   "source": []
  }
 ],
 "metadata": {
  "kernelspec": {
   "display_name": "Python 3",
   "language": "python",
   "name": "python3"
  },
  "language_info": {
   "codemirror_mode": {
    "name": "ipython",
    "version": 3
   },
   "file_extension": ".py",
   "mimetype": "text/x-python",
   "name": "python",
   "nbconvert_exporter": "python",
   "pygments_lexer": "ipython3",
   "version": "3.8.8"
  },
  "latex_envs": {
   "LaTeX_envs_menu_present": true,
   "autoclose": false,
   "autocomplete": true,
   "bibliofile": "biblio.bib",
   "cite_by": "apalike",
   "current_citInitial": 1,
   "eqLabelWithNumbers": true,
   "eqNumInitial": 1,
   "hotkeys": {
    "equation": "Ctrl-E",
    "itemize": "Ctrl-I"
   },
   "labels_anchors": false,
   "latex_user_defs": false,
   "report_style_numbering": false,
   "user_envs_cfg": false
  }
 },
 "nbformat": 4,
 "nbformat_minor": 5
}
