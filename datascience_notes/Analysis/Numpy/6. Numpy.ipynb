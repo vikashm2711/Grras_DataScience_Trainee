{
 "cells": [
  {
   "cell_type": "code",
   "execution_count": 1,
   "id": "36c5b705",
   "metadata": {},
   "outputs": [],
   "source": [
    "import numpy as np"
   ]
  },
  {
   "cell_type": "code",
   "execution_count": 3,
   "id": "9ee07f99",
   "metadata": {},
   "outputs": [],
   "source": [
    "arr = np.random.randint(1, 10, 10)"
   ]
  },
  {
   "cell_type": "code",
   "execution_count": 4,
   "id": "7669f202",
   "metadata": {},
   "outputs": [
    {
     "data": {
      "text/plain": [
       "array([0.5       , 0.11111111, 0.5       , 1.        , 0.11111111,\n",
       "       0.25      , 0.2       , 0.11111111, 0.14285714, 0.5       ])"
      ]
     },
     "execution_count": 4,
     "metadata": {},
     "output_type": "execute_result"
    }
   ],
   "source": [
    "1/arr"
   ]
  },
  {
   "cell_type": "code",
   "execution_count": 5,
   "id": "4ffb4594",
   "metadata": {},
   "outputs": [
    {
     "data": {
      "text/plain": [
       "array([2, 9, 2, 1, 9, 4, 5, 9, 7, 2])"
      ]
     },
     "execution_count": 5,
     "metadata": {},
     "output_type": "execute_result"
    }
   ],
   "source": [
    "arr"
   ]
  },
  {
   "cell_type": "code",
   "execution_count": 6,
   "id": "770e100c",
   "metadata": {},
   "outputs": [
    {
     "ename": "ZeroDivisionError",
     "evalue": "division by zero",
     "output_type": "error",
     "traceback": [
      "\u001b[1;31m---------------------------------------------------------------------------\u001b[0m",
      "\u001b[1;31mZeroDivisionError\u001b[0m                         Traceback (most recent call last)",
      "\u001b[1;32m<ipython-input-6-9e1622b385b6>\u001b[0m in \u001b[0;36m<module>\u001b[1;34m\u001b[0m\n\u001b[1;32m----> 1\u001b[1;33m \u001b[1;36m1\u001b[0m\u001b[1;33m/\u001b[0m\u001b[1;36m0\u001b[0m\u001b[1;33m\u001b[0m\u001b[1;33m\u001b[0m\u001b[0m\n\u001b[0m",
      "\u001b[1;31mZeroDivisionError\u001b[0m: division by zero"
     ]
    }
   ],
   "source": [
    "1/0"
   ]
  },
  {
   "cell_type": "code",
   "execution_count": 7,
   "id": "fd415f13",
   "metadata": {},
   "outputs": [
    {
     "name": "stderr",
     "output_type": "stream",
     "text": [
      "<ipython-input-7-39e2cbdaf753>:1: RuntimeWarning: divide by zero encountered in true_divide\n",
      "  arr/0\n"
     ]
    },
    {
     "data": {
      "text/plain": [
       "array([inf, inf, inf, inf, inf, inf, inf, inf, inf, inf])"
      ]
     },
     "execution_count": 7,
     "metadata": {},
     "output_type": "execute_result"
    }
   ],
   "source": [
    "arr/0"
   ]
  },
  {
   "cell_type": "code",
   "execution_count": 9,
   "id": "e47a5c06",
   "metadata": {},
   "outputs": [],
   "source": [
    "a = np.zeros(10)"
   ]
  },
  {
   "cell_type": "code",
   "execution_count": 10,
   "id": "5e441a81",
   "metadata": {},
   "outputs": [
    {
     "name": "stderr",
     "output_type": "stream",
     "text": [
      "<ipython-input-10-f2f92b2a85cc>:1: RuntimeWarning: divide by zero encountered in true_divide\n",
      "  1/a\n"
     ]
    },
    {
     "data": {
      "text/plain": [
       "array([inf, inf, inf, inf, inf, inf, inf, inf, inf, inf])"
      ]
     },
     "execution_count": 10,
     "metadata": {},
     "output_type": "execute_result"
    }
   ],
   "source": [
    "1/a"
   ]
  },
  {
   "cell_type": "markdown",
   "id": "8ff3e299",
   "metadata": {},
   "source": [
    "        [\n",
    "           [35 30 35 30 35],\n",
    "           [35 30 35 30 35],\n",
    "           [35 30 35 30 35],\n",
    "           [35 30 35 30 35],\n",
    "           [35 30 35 30 35],\n",
    "        ]"
   ]
  },
  {
   "cell_type": "code",
   "execution_count": 19,
   "id": "47718ff6",
   "metadata": {},
   "outputs": [
    {
     "data": {
      "text/plain": [
       "array([[6., 6., 6., 6., 6.],\n",
       "       [6., 6., 6., 6., 6.],\n",
       "       [6., 6., 6., 6., 6.],\n",
       "       [6., 6., 6., 6., 6.],\n",
       "       [6., 6., 6., 6., 6.]])"
      ]
     },
     "execution_count": 19,
     "metadata": {},
     "output_type": "execute_result"
    }
   ],
   "source": [
    "np.zeros((5, 5))+6"
   ]
  },
  {
   "cell_type": "code",
   "execution_count": 28,
   "id": "f4ddfd10",
   "metadata": {},
   "outputs": [],
   "source": [
    "a = (np.ones((5, 5), dtype=np.int32)*5) * (np.zeros((5, 5), dtype=np.int32)+6)"
   ]
  },
  {
   "cell_type": "code",
   "execution_count": 29,
   "id": "ed2a67d3",
   "metadata": {},
   "outputs": [],
   "source": [
    "a[:, ::2] += 5"
   ]
  },
  {
   "cell_type": "code",
   "execution_count": 30,
   "id": "7dd1932d",
   "metadata": {},
   "outputs": [
    {
     "data": {
      "text/plain": [
       "array([[35, 30, 35, 30, 35],\n",
       "       [35, 30, 35, 30, 35],\n",
       "       [35, 30, 35, 30, 35],\n",
       "       [35, 30, 35, 30, 35],\n",
       "       [35, 30, 35, 30, 35]])"
      ]
     },
     "execution_count": 30,
     "metadata": {},
     "output_type": "execute_result"
    }
   ],
   "source": [
    "a"
   ]
  },
  {
   "cell_type": "code",
   "execution_count": 31,
   "id": "fedfba9b",
   "metadata": {},
   "outputs": [
    {
     "data": {
      "text/plain": [
       "array([2, 9, 2, 1, 9, 4, 5, 9, 7, 2])"
      ]
     },
     "execution_count": 31,
     "metadata": {},
     "output_type": "execute_result"
    }
   ],
   "source": [
    "arr"
   ]
  },
  {
   "cell_type": "code",
   "execution_count": 32,
   "id": "97d85be1",
   "metadata": {},
   "outputs": [
    {
     "data": {
      "text/plain": [
       "array([ 2,  9,  2,  1,  9,  4,  5,  9,  7,  2, 10])"
      ]
     },
     "execution_count": 32,
     "metadata": {},
     "output_type": "execute_result"
    }
   ],
   "source": [
    "np.append(arr, 10)"
   ]
  },
  {
   "cell_type": "code",
   "execution_count": 33,
   "id": "2bfb5e09",
   "metadata": {},
   "outputs": [
    {
     "data": {
      "text/plain": [
       "array([ 2,  9,  2,  1,  9,  4,  5,  9,  7,  2, 10, 20, 30])"
      ]
     },
     "execution_count": 33,
     "metadata": {},
     "output_type": "execute_result"
    }
   ],
   "source": [
    "np.append(arr, [10, 20, 30])"
   ]
  },
  {
   "cell_type": "code",
   "execution_count": 34,
   "id": "44fb431d",
   "metadata": {},
   "outputs": [
    {
     "data": {
      "text/plain": [
       "array([ 2,  9,  2,  1,  9,  4,  5,  9,  7,  2, 10, 20, 30])"
      ]
     },
     "execution_count": 34,
     "metadata": {},
     "output_type": "execute_result"
    }
   ],
   "source": [
    "np.append(arr, [[10, 20, 30]])"
   ]
  },
  {
   "cell_type": "code",
   "execution_count": 35,
   "id": "23373fd2",
   "metadata": {},
   "outputs": [
    {
     "data": {
      "text/plain": [
       "array([[35, 30, 35, 30, 35],\n",
       "       [35, 30, 35, 30, 35],\n",
       "       [35, 30, 35, 30, 35],\n",
       "       [35, 30, 35, 30, 35],\n",
       "       [35, 30, 35, 30, 35]])"
      ]
     },
     "execution_count": 35,
     "metadata": {},
     "output_type": "execute_result"
    }
   ],
   "source": [
    "a"
   ]
  },
  {
   "cell_type": "code",
   "execution_count": 36,
   "id": "3d882fd4",
   "metadata": {},
   "outputs": [
    {
     "data": {
      "text/plain": [
       "array([35, 30, 35, 30, 35, 35, 30, 35, 30, 35, 35, 30, 35, 30, 35, 35, 30,\n",
       "       35, 30, 35, 35, 30, 35, 30, 35, 10])"
      ]
     },
     "execution_count": 36,
     "metadata": {},
     "output_type": "execute_result"
    }
   ],
   "source": [
    "np.append(a, 10)"
   ]
  },
  {
   "cell_type": "code",
   "execution_count": 38,
   "id": "7b32d6c7",
   "metadata": {},
   "outputs": [
    {
     "data": {
      "text/plain": [
       "array([35, 30, 35, 30, 35, 35, 30, 35, 30, 35, 35, 30, 35, 30, 35, 35, 30,\n",
       "       35, 30, 35, 35, 30, 35, 30, 35, 10, 20, 30, 40, 50])"
      ]
     },
     "execution_count": 38,
     "metadata": {},
     "output_type": "execute_result"
    }
   ],
   "source": [
    "np.append(a, [10, 20, 30, 40, 50])"
   ]
  },
  {
   "cell_type": "code",
   "execution_count": 39,
   "id": "fce6e635",
   "metadata": {},
   "outputs": [
    {
     "data": {
      "text/plain": [
       "array([35, 30, 35, 30, 35, 35, 30, 35, 30, 35, 35, 30, 35, 30, 35, 35, 30,\n",
       "       35, 30, 35, 35, 30, 35, 30, 35, 10, 20, 30, 40, 50])"
      ]
     },
     "execution_count": 39,
     "metadata": {},
     "output_type": "execute_result"
    }
   ],
   "source": [
    "np.append(a, [[10, 20, 30, 40, 50]])"
   ]
  },
  {
   "cell_type": "code",
   "execution_count": 41,
   "id": "fa7257e2",
   "metadata": {},
   "outputs": [
    {
     "data": {
      "text/plain": [
       "array([[35, 30, 35, 30, 35],\n",
       "       [35, 30, 35, 30, 35],\n",
       "       [35, 30, 35, 30, 35],\n",
       "       [35, 30, 35, 30, 35],\n",
       "       [35, 30, 35, 30, 35],\n",
       "       [10, 20, 30, 40, 50]])"
      ]
     },
     "execution_count": 41,
     "metadata": {},
     "output_type": "execute_result"
    }
   ],
   "source": [
    "np.append(a, [[10, 20, 30, 40, 50]], axis=0)  # axis=0 --> rows append"
   ]
  },
  {
   "cell_type": "code",
   "execution_count": 44,
   "id": "ed2b52b3",
   "metadata": {},
   "outputs": [
    {
     "data": {
      "text/plain": [
       "array([[35, 30, 35, 30, 35, 10, 10],\n",
       "       [35, 30, 35, 30, 35, 20, 20],\n",
       "       [35, 30, 35, 30, 35, 30, 35],\n",
       "       [35, 30, 35, 30, 35, 40, 44],\n",
       "       [35, 30, 35, 30, 35, 50, 21]])"
      ]
     },
     "execution_count": 44,
     "metadata": {},
     "output_type": "execute_result"
    }
   ],
   "source": [
    "np.append(a, [[10, 10], [20, 20], [30, 35], [40, 44], [50, 21]], axis=1)  # axis=1 --> column append"
   ]
  },
  {
   "cell_type": "code",
   "execution_count": 45,
   "id": "6f776068",
   "metadata": {},
   "outputs": [
    {
     "data": {
      "text/plain": [
       "array([[35, 30, 35, 30, 35],\n",
       "       [35, 30, 35, 30, 35],\n",
       "       [35, 30, 35, 30, 35],\n",
       "       [35, 30, 35, 30, 35],\n",
       "       [35, 30, 35, 30, 35]])"
      ]
     },
     "execution_count": 45,
     "metadata": {},
     "output_type": "execute_result"
    }
   ],
   "source": [
    "a"
   ]
  },
  {
   "cell_type": "code",
   "execution_count": 47,
   "id": "1cc14a95",
   "metadata": {},
   "outputs": [],
   "source": [
    "arr = np.append(arr, [10, 20, 30])"
   ]
  },
  {
   "cell_type": "code",
   "execution_count": 48,
   "id": "cf909e64",
   "metadata": {},
   "outputs": [
    {
     "data": {
      "text/plain": [
       "array([ 2,  9,  2,  1,  9,  4,  5,  9,  7,  2, 10, 20, 30])"
      ]
     },
     "execution_count": 48,
     "metadata": {},
     "output_type": "execute_result"
    }
   ],
   "source": [
    "arr"
   ]
  },
  {
   "cell_type": "code",
   "execution_count": 53,
   "id": "2152f27c",
   "metadata": {},
   "outputs": [
    {
     "data": {
      "text/plain": [
       "array([ 2,  9,  2,  1,  9,  4,  5,  9,  7,  2, 10, 20, 30, 10])"
      ]
     },
     "execution_count": 53,
     "metadata": {},
     "output_type": "execute_result"
    }
   ],
   "source": [
    "np.concatenate([arr, [10]])"
   ]
  },
  {
   "cell_type": "code",
   "execution_count": 55,
   "id": "3ed05014",
   "metadata": {},
   "outputs": [
    {
     "data": {
      "text/plain": [
       "array([ 2,  9,  2,  1,  9,  4,  5,  9,  7,  2, 10, 20, 30, 10, 20,  3,  3,\n",
       "        5,  6])"
      ]
     },
     "execution_count": 55,
     "metadata": {},
     "output_type": "execute_result"
    }
   ],
   "source": [
    "np.concatenate([arr, [10, 20, 3, 3, 5, 6]])"
   ]
  },
  {
   "cell_type": "code",
   "execution_count": 56,
   "id": "f92fab2a",
   "metadata": {},
   "outputs": [],
   "source": [
    "a1 = np.random.randint(1, 10, 10)\n",
    "a2 = np.random.randint(10, 20, 10)\n",
    "a3 = np.random.randint(15, 21, 10)"
   ]
  },
  {
   "cell_type": "code",
   "execution_count": 57,
   "id": "c17bb3a4",
   "metadata": {},
   "outputs": [
    {
     "data": {
      "text/plain": [
       "array([2, 9, 1, 3, 1, 6, 8, 1, 2, 5])"
      ]
     },
     "execution_count": 57,
     "metadata": {},
     "output_type": "execute_result"
    }
   ],
   "source": [
    "a1"
   ]
  },
  {
   "cell_type": "code",
   "execution_count": 58,
   "id": "34e16791",
   "metadata": {},
   "outputs": [
    {
     "data": {
      "text/plain": [
       "array([12, 10, 17, 19, 15, 14, 18, 13, 12, 15])"
      ]
     },
     "execution_count": 58,
     "metadata": {},
     "output_type": "execute_result"
    }
   ],
   "source": [
    "a2"
   ]
  },
  {
   "cell_type": "code",
   "execution_count": 59,
   "id": "98706563",
   "metadata": {},
   "outputs": [
    {
     "data": {
      "text/plain": [
       "array([16, 16, 16, 16, 19, 19, 16, 19, 16, 20])"
      ]
     },
     "execution_count": 59,
     "metadata": {},
     "output_type": "execute_result"
    }
   ],
   "source": [
    "a3"
   ]
  },
  {
   "cell_type": "code",
   "execution_count": 60,
   "id": "3d3a45f2",
   "metadata": {},
   "outputs": [
    {
     "data": {
      "text/plain": [
       "array([ 2,  9,  1,  3,  1,  6,  8,  1,  2,  5, 12, 10, 17, 19, 15, 14, 18,\n",
       "       13, 12, 15])"
      ]
     },
     "execution_count": 60,
     "metadata": {},
     "output_type": "execute_result"
    }
   ],
   "source": [
    "np.concatenate([a1, a2])"
   ]
  },
  {
   "cell_type": "code",
   "execution_count": 61,
   "id": "9203fcfb",
   "metadata": {},
   "outputs": [
    {
     "data": {
      "text/plain": [
       "array([ 2,  9,  1,  3,  1,  6,  8,  1,  2,  5, 12, 10, 17, 19, 15, 14, 18,\n",
       "       13, 12, 15])"
      ]
     },
     "execution_count": 61,
     "metadata": {},
     "output_type": "execute_result"
    }
   ],
   "source": [
    "np.append(a1, a2)"
   ]
  },
  {
   "cell_type": "code",
   "execution_count": 63,
   "id": "f23a7621",
   "metadata": {},
   "outputs": [
    {
     "data": {
      "text/plain": [
       "array([[35, 30, 35, 30, 35],\n",
       "       [35, 30, 35, 30, 35],\n",
       "       [35, 30, 35, 30, 35],\n",
       "       [35, 30, 35, 30, 35],\n",
       "       [35, 30, 35, 30, 35],\n",
       "       [35, 30, 35, 30, 35],\n",
       "       [35, 30, 35, 30, 35],\n",
       "       [35, 30, 35, 30, 35],\n",
       "       [35, 30, 35, 30, 35],\n",
       "       [35, 30, 35, 30, 35]])"
      ]
     },
     "execution_count": 63,
     "metadata": {},
     "output_type": "execute_result"
    }
   ],
   "source": [
    "np.concatenate([a, a])"
   ]
  },
  {
   "cell_type": "code",
   "execution_count": 69,
   "id": "8bf6441c",
   "metadata": {},
   "outputs": [
    {
     "data": {
      "text/plain": [
       "array([[35, 30, 35, 30, 35],\n",
       "       [35, 30, 35, 30, 35],\n",
       "       [35, 30, 35, 30, 35],\n",
       "       [35, 30, 35, 30, 35],\n",
       "       [35, 30, 35, 30, 35],\n",
       "       [10, 12, 13, 14, 15]])"
      ]
     },
     "execution_count": 69,
     "metadata": {},
     "output_type": "execute_result"
    }
   ],
   "source": [
    "np.concatenate([a, [[10, 12, 13, 14, 15]]])"
   ]
  },
  {
   "cell_type": "code",
   "execution_count": 71,
   "id": "901dc438",
   "metadata": {},
   "outputs": [
    {
     "data": {
      "text/plain": [
       "array([[35, 30, 35, 30, 35, 10],\n",
       "       [35, 30, 35, 30, 35, 12],\n",
       "       [35, 30, 35, 30, 35, 13],\n",
       "       [35, 30, 35, 30, 35, 14],\n",
       "       [35, 30, 35, 30, 35, 15]])"
      ]
     },
     "execution_count": 71,
     "metadata": {},
     "output_type": "execute_result"
    }
   ],
   "source": [
    "np.concatenate([a, [[10], [12], [13], [14], [15]]], axis=1)"
   ]
  },
  {
   "cell_type": "code",
   "execution_count": 66,
   "id": "f39ab135",
   "metadata": {},
   "outputs": [
    {
     "data": {
      "text/plain": [
       "array([[35, 30, 35, 30, 35],\n",
       "       [35, 30, 35, 30, 35],\n",
       "       [35, 30, 35, 30, 35],\n",
       "       [35, 30, 35, 30, 35],\n",
       "       [35, 30, 35, 30, 35],\n",
       "       [35, 30, 35, 30, 35],\n",
       "       [35, 30, 35, 30, 35],\n",
       "       [35, 30, 35, 30, 35],\n",
       "       [35, 30, 35, 30, 35],\n",
       "       [35, 30, 35, 30, 35]])"
      ]
     },
     "execution_count": 66,
     "metadata": {},
     "output_type": "execute_result"
    }
   ],
   "source": [
    "np.append(a, a, axis=0)"
   ]
  },
  {
   "cell_type": "code",
   "execution_count": 72,
   "id": "6a4fa39a",
   "metadata": {},
   "outputs": [
    {
     "data": {
      "text/plain": [
       "array([2, 9, 1, 3, 1, 6, 8, 1, 2, 5])"
      ]
     },
     "execution_count": 72,
     "metadata": {},
     "output_type": "execute_result"
    }
   ],
   "source": [
    "a1"
   ]
  },
  {
   "cell_type": "code",
   "execution_count": 73,
   "id": "c85bb918",
   "metadata": {},
   "outputs": [
    {
     "data": {
      "text/plain": [
       "array([12, 10, 17, 19, 15, 14, 18, 13, 12, 15])"
      ]
     },
     "execution_count": 73,
     "metadata": {},
     "output_type": "execute_result"
    }
   ],
   "source": [
    "a2"
   ]
  },
  {
   "cell_type": "code",
   "execution_count": 75,
   "id": "b22ae9dc",
   "metadata": {},
   "outputs": [
    {
     "data": {
      "text/plain": [
       "array([16, 16, 16, 16, 19, 19, 16, 19, 16, 20])"
      ]
     },
     "execution_count": 75,
     "metadata": {},
     "output_type": "execute_result"
    }
   ],
   "source": [
    "a3"
   ]
  },
  {
   "cell_type": "code",
   "execution_count": 78,
   "id": "be20a175",
   "metadata": {},
   "outputs": [
    {
     "ename": "TypeError",
     "evalue": "only integer scalar arrays can be converted to a scalar index",
     "output_type": "error",
     "traceback": [
      "\u001b[1;31m---------------------------------------------------------------------------\u001b[0m",
      "\u001b[1;31mTypeError\u001b[0m                                 Traceback (most recent call last)",
      "\u001b[1;32m<ipython-input-78-b24247b3db34>\u001b[0m in \u001b[0;36m<module>\u001b[1;34m\u001b[0m\n\u001b[1;32m----> 1\u001b[1;33m \u001b[0mnp\u001b[0m\u001b[1;33m.\u001b[0m\u001b[0mappend\u001b[0m\u001b[1;33m(\u001b[0m\u001b[0ma1\u001b[0m\u001b[1;33m,\u001b[0m \u001b[0ma2\u001b[0m\u001b[1;33m,\u001b[0m \u001b[0ma3\u001b[0m\u001b[1;33m)\u001b[0m\u001b[1;33m\u001b[0m\u001b[1;33m\u001b[0m\u001b[0m\n\u001b[0m",
      "\u001b[1;32m<__array_function__ internals>\u001b[0m in \u001b[0;36mappend\u001b[1;34m(*args, **kwargs)\u001b[0m\n",
      "\u001b[1;32mC:\\Anaconda\\lib\\site-packages\\numpy\\lib\\function_base.py\u001b[0m in \u001b[0;36mappend\u001b[1;34m(arr, values, axis)\u001b[0m\n\u001b[0;32m   4669\u001b[0m         \u001b[0mvalues\u001b[0m \u001b[1;33m=\u001b[0m \u001b[0mravel\u001b[0m\u001b[1;33m(\u001b[0m\u001b[0mvalues\u001b[0m\u001b[1;33m)\u001b[0m\u001b[1;33m\u001b[0m\u001b[1;33m\u001b[0m\u001b[0m\n\u001b[0;32m   4670\u001b[0m         \u001b[0maxis\u001b[0m \u001b[1;33m=\u001b[0m \u001b[0marr\u001b[0m\u001b[1;33m.\u001b[0m\u001b[0mndim\u001b[0m\u001b[1;33m-\u001b[0m\u001b[1;36m1\u001b[0m\u001b[1;33m\u001b[0m\u001b[1;33m\u001b[0m\u001b[0m\n\u001b[1;32m-> 4671\u001b[1;33m     \u001b[1;32mreturn\u001b[0m \u001b[0mconcatenate\u001b[0m\u001b[1;33m(\u001b[0m\u001b[1;33m(\u001b[0m\u001b[0marr\u001b[0m\u001b[1;33m,\u001b[0m \u001b[0mvalues\u001b[0m\u001b[1;33m)\u001b[0m\u001b[1;33m,\u001b[0m \u001b[0maxis\u001b[0m\u001b[1;33m=\u001b[0m\u001b[0maxis\u001b[0m\u001b[1;33m)\u001b[0m\u001b[1;33m\u001b[0m\u001b[1;33m\u001b[0m\u001b[0m\n\u001b[0m\u001b[0;32m   4672\u001b[0m \u001b[1;33m\u001b[0m\u001b[0m\n\u001b[0;32m   4673\u001b[0m \u001b[1;33m\u001b[0m\u001b[0m\n",
      "\u001b[1;32m<__array_function__ internals>\u001b[0m in \u001b[0;36mconcatenate\u001b[1;34m(*args, **kwargs)\u001b[0m\n",
      "\u001b[1;31mTypeError\u001b[0m: only integer scalar arrays can be converted to a scalar index"
     ]
    }
   ],
   "source": [
    "np.append(a1, a2, a3)"
   ]
  },
  {
   "cell_type": "code",
   "execution_count": 80,
   "id": "c51fd490",
   "metadata": {},
   "outputs": [],
   "source": [
    "ages = np.concatenate([a1, a2, a3])"
   ]
  },
  {
   "cell_type": "code",
   "execution_count": 81,
   "id": "b15571b8",
   "metadata": {},
   "outputs": [
    {
     "data": {
      "text/plain": [
       "array([ 2,  9,  1,  3,  1,  6,  8,  1,  2,  5, 12, 10, 17, 19, 15, 14, 18,\n",
       "       13, 12, 15, 16, 16, 16, 16, 19, 19, 16, 19, 16, 20])"
      ]
     },
     "execution_count": 81,
     "metadata": {},
     "output_type": "execute_result"
    }
   ],
   "source": [
    "ages"
   ]
  },
  {
   "cell_type": "code",
   "execution_count": 83,
   "id": "02b6ab3d",
   "metadata": {},
   "outputs": [
    {
     "data": {
      "text/plain": [
       "20"
      ]
     },
     "execution_count": 83,
     "metadata": {},
     "output_type": "execute_result"
    }
   ],
   "source": [
    "ages.max()"
   ]
  },
  {
   "cell_type": "code",
   "execution_count": 84,
   "id": "5135e7ad",
   "metadata": {},
   "outputs": [
    {
     "data": {
      "text/plain": [
       "20"
      ]
     },
     "execution_count": 84,
     "metadata": {},
     "output_type": "execute_result"
    }
   ],
   "source": [
    "ages[29]"
   ]
  },
  {
   "cell_type": "code",
   "execution_count": 82,
   "id": "3f44fc96",
   "metadata": {},
   "outputs": [
    {
     "data": {
      "text/plain": [
       "29"
      ]
     },
     "execution_count": 82,
     "metadata": {},
     "output_type": "execute_result"
    }
   ],
   "source": [
    "ages.argmax()\n",
    "# return the index of maximum element"
   ]
  },
  {
   "cell_type": "code",
   "execution_count": 85,
   "id": "5252ec83",
   "metadata": {},
   "outputs": [
    {
     "data": {
      "text/plain": [
       "2"
      ]
     },
     "execution_count": 85,
     "metadata": {},
     "output_type": "execute_result"
    }
   ],
   "source": [
    "ages.argmin()"
   ]
  },
  {
   "cell_type": "code",
   "execution_count": 90,
   "id": "0e46d7c0",
   "metadata": {},
   "outputs": [
    {
     "data": {
      "text/plain": [
       "29"
      ]
     },
     "execution_count": 90,
     "metadata": {},
     "output_type": "execute_result"
    }
   ],
   "source": [
    "l = list(ages)\n",
    "l.index(max(l))"
   ]
  },
  {
   "cell_type": "code",
   "execution_count": 91,
   "id": "225d5af7",
   "metadata": {},
   "outputs": [],
   "source": [
    "def argmin(arr):\n",
    "    \"\"\"Return the index of minimum element in the array\"\"\"\n",
    "    index = 0\n",
    "    min_ = arr[0]\n",
    "    for i in range(1, len(arr)):\n",
    "        if min_ > arr[i]:\n",
    "            min_ = arr[i]\n",
    "            index = i\n",
    "    return index"
   ]
  },
  {
   "cell_type": "code",
   "execution_count": 92,
   "id": "af31969c",
   "metadata": {},
   "outputs": [
    {
     "data": {
      "text/plain": [
       "2"
      ]
     },
     "execution_count": 92,
     "metadata": {},
     "output_type": "execute_result"
    }
   ],
   "source": [
    "argmin(ages)"
   ]
  },
  {
   "cell_type": "code",
   "execution_count": 93,
   "id": "6edf6cb1",
   "metadata": {},
   "outputs": [
    {
     "data": {
      "text/plain": [
       "array([ 2,  9,  1,  3,  1,  6,  8,  1,  2,  5, 12, 10, 17, 19, 15, 14, 18,\n",
       "       13, 12, 15, 16, 16, 16, 16, 19, 19, 16, 19, 16, 20])"
      ]
     },
     "execution_count": 93,
     "metadata": {},
     "output_type": "execute_result"
    }
   ],
   "source": [
    "ages"
   ]
  },
  {
   "cell_type": "code",
   "execution_count": 96,
   "id": "f9ae6074",
   "metadata": {},
   "outputs": [
    {
     "data": {
      "text/plain": [
       "array([ 2,  4,  7,  0,  8,  3,  9,  5,  6,  1, 11, 10, 18, 17, 15, 19, 14,\n",
       "       28, 20, 21, 22, 23, 26, 12, 16, 13, 24, 25, 27, 29], dtype=int64)"
      ]
     },
     "execution_count": 96,
     "metadata": {},
     "output_type": "execute_result"
    }
   ],
   "source": [
    "ages.argsort()"
   ]
  },
  {
   "cell_type": "code",
   "execution_count": 95,
   "id": "71bbe09c",
   "metadata": {},
   "outputs": [
    {
     "data": {
      "text/plain": [
       "array([ 1,  1,  1,  2,  2,  3,  5,  6,  8,  9, 10, 12, 12, 13, 14, 15, 15,\n",
       "       16, 16, 16, 16, 16, 16, 17, 18, 19, 19, 19, 19, 20])"
      ]
     },
     "execution_count": 95,
     "metadata": {},
     "output_type": "execute_result"
    }
   ],
   "source": [
    "ages[ages.argsort()]"
   ]
  },
  {
   "cell_type": "code",
   "execution_count": 101,
   "id": "bc50eb7e",
   "metadata": {},
   "outputs": [
    {
     "data": {
      "text/plain": [
       "array([ 2,  9,  1,  3,  1,  6,  8,  1,  2,  5, 12, 10, 17, 19, 15, 14, 18,\n",
       "       13, 12, 15, 16, 16, 16, 16, 19, 19, 16, 19, 16, 20])"
      ]
     },
     "execution_count": 101,
     "metadata": {},
     "output_type": "execute_result"
    }
   ],
   "source": [
    "ages"
   ]
  },
  {
   "cell_type": "code",
   "execution_count": 102,
   "id": "94848697",
   "metadata": {},
   "outputs": [
    {
     "data": {
      "text/plain": [
       "17"
      ]
     },
     "execution_count": 102,
     "metadata": {},
     "output_type": "execute_result"
    }
   ],
   "source": [
    "ages[12]"
   ]
  },
  {
   "cell_type": "code",
   "execution_count": 99,
   "id": "42f00baa",
   "metadata": {},
   "outputs": [
    {
     "data": {
      "text/plain": [
       "(array([12, 13, 14, 16, 19, 20, 21, 22, 23, 24, 25, 26, 27, 28, 29],\n",
       "       dtype=int64),)"
      ]
     },
     "execution_count": 99,
     "metadata": {},
     "output_type": "execute_result"
    }
   ],
   "source": [
    "np.where(ages>14)"
   ]
  },
  {
   "cell_type": "code",
   "execution_count": 103,
   "id": "925fa051",
   "metadata": {},
   "outputs": [
    {
     "data": {
      "text/plain": [
       "array([17, 19, 15, 18, 15, 16, 16, 16, 16, 19, 19, 16, 19, 16, 20])"
      ]
     },
     "execution_count": 103,
     "metadata": {},
     "output_type": "execute_result"
    }
   ],
   "source": [
    "ages[np.where(ages>14)]"
   ]
  },
  {
   "cell_type": "code",
   "execution_count": 104,
   "id": "54a6485b",
   "metadata": {},
   "outputs": [
    {
     "data": {
      "text/plain": [
       "array([  4,  81,   1,   9,   1,  36,  64,   1,   4,  25, 144, 100,  17,\n",
       "        19,  15, 196,  18, 169, 144,  15,  16,  16,  16,  16,  19,  19,\n",
       "        16,  19,  16,  20])"
      ]
     },
     "execution_count": 104,
     "metadata": {},
     "output_type": "execute_result"
    }
   ],
   "source": [
    "np.where(ages>14, ages, ages**2)"
   ]
  },
  {
   "cell_type": "code",
   "execution_count": 100,
   "id": "2bb35452",
   "metadata": {},
   "outputs": [
    {
     "data": {
      "text/plain": [
       "array([False, False, False, False, False, False, False, False, False,\n",
       "       False, False, False,  True,  True,  True, False,  True, False,\n",
       "       False,  True,  True,  True,  True,  True,  True,  True,  True,\n",
       "        True,  True,  True])"
      ]
     },
     "execution_count": 100,
     "metadata": {},
     "output_type": "execute_result"
    }
   ],
   "source": [
    "ages>14"
   ]
  },
  {
   "cell_type": "code",
   "execution_count": 105,
   "id": "c98f6944",
   "metadata": {},
   "outputs": [
    {
     "data": {
      "text/plain": [
       "array([  4,  81,   1,   9,   1,  36,  64,   1,   4,  25, 144, 100,  17,\n",
       "        19,  15, 196,  18, 169, 144,  15,  16,  16,  16,  16,  19,  19,\n",
       "        16,  19,  16,  20])"
      ]
     },
     "execution_count": 105,
     "metadata": {},
     "output_type": "execute_result"
    }
   ],
   "source": [
    "np.where(ages>14, ages, ages**2)3"
   ]
  },
  {
   "cell_type": "code",
   "execution_count": 106,
   "id": "8584d8a4",
   "metadata": {},
   "outputs": [
    {
     "data": {
      "text/plain": [
       "array([ 2,  9,  1,  3,  1,  6,  8,  1,  2,  5, 12, 10, 17, 19, 15, 14, 18,\n",
       "       13, 12, 15, 16, 16, 16, 16, 19, 19, 16, 19, 16, 20])"
      ]
     },
     "execution_count": 106,
     "metadata": {},
     "output_type": "execute_result"
    }
   ],
   "source": [
    "ages"
   ]
  },
  {
   "cell_type": "code",
   "execution_count": 107,
   "id": "1d26894c",
   "metadata": {},
   "outputs": [
    {
     "data": {
      "text/plain": [
       "array([  4,  81,   1,   9,   1,  36,  64,   1,   4,  25, 144, 100, 289,\n",
       "       361, 225, 196, 324, 169, 144, 225, 256, 256, 256, 256, 361, 361,\n",
       "       256, 361, 256, 400], dtype=int32)"
      ]
     },
     "execution_count": 107,
     "metadata": {},
     "output_type": "execute_result"
    }
   ],
   "source": [
    "ages**2"
   ]
  },
  {
   "cell_type": "code",
   "execution_count": 109,
   "id": "afa2a91b",
   "metadata": {},
   "outputs": [
    {
     "data": {
      "text/plain": [
       "array([  2,   9,   1,   3,   1,   6,   8,   1,   2,   5,  12,  10, 289,\n",
       "       361, 225,  14, 324,  13,  12, 225, 256, 256, 256, 256, 361, 361,\n",
       "       256, 361, 256, 400])"
      ]
     },
     "execution_count": 109,
     "metadata": {},
     "output_type": "execute_result"
    }
   ],
   "source": [
    "np.where(ages>14, ages**2, ages)\n",
    "# condition, arr1, arr2\n",
    "# the condition at which the elements are true it will return from arr1 else from arr2"
   ]
  },
  {
   "cell_type": "code",
   "execution_count": 110,
   "id": "f20bf3fd",
   "metadata": {},
   "outputs": [
    {
     "data": {
      "text/plain": [
       "array([False, False, False, False, False, False, False, False, False,\n",
       "       False, False, False,  True,  True,  True, False,  True, False,\n",
       "       False,  True,  True,  True,  True,  True,  True,  True,  True,\n",
       "        True,  True,  True])"
      ]
     },
     "execution_count": 110,
     "metadata": {},
     "output_type": "execute_result"
    }
   ],
   "source": [
    "np.where(ages>14, True, False)"
   ]
  },
  {
   "cell_type": "code",
   "execution_count": 112,
   "id": "e31dd8b0",
   "metadata": {},
   "outputs": [
    {
     "data": {
      "text/plain": [
       "[0, 1, 2, 3, 4, 5, 6, 7, 8, 9]"
      ]
     },
     "execution_count": 112,
     "metadata": {},
     "output_type": "execute_result"
    }
   ],
   "source": [
    "list(range(10))"
   ]
  },
  {
   "cell_type": "code",
   "execution_count": 113,
   "id": "d8b71040",
   "metadata": {},
   "outputs": [
    {
     "data": {
      "text/plain": [
       "array([0, 1, 2, 3, 4, 5, 6, 7, 8, 9])"
      ]
     },
     "execution_count": 113,
     "metadata": {},
     "output_type": "execute_result"
    }
   ],
   "source": [
    "np.arange(10)"
   ]
  },
  {
   "cell_type": "code",
   "execution_count": 115,
   "id": "d2a49b88",
   "metadata": {},
   "outputs": [
    {
     "data": {
      "text/plain": [
       "array([10, 12, 14, 16, 18])"
      ]
     },
     "execution_count": 115,
     "metadata": {},
     "output_type": "execute_result"
    }
   ],
   "source": [
    "np.arange(10, 20, 2)"
   ]
  },
  {
   "cell_type": "code",
   "execution_count": 119,
   "id": "aeaf9fa9",
   "metadata": {},
   "outputs": [
    {
     "data": {
      "text/plain": [
       "array([[20, 22, 24, 26, 28, 30, 32, 34],\n",
       "       [36, 38, 40, 42, 44, 46, 48, 50],\n",
       "       [52, 54, 56, 58, 60, 62, 64, 66],\n",
       "       [68, 70, 72, 74, 76, 78, 80, 82],\n",
       "       [84, 86, 88, 90, 92, 94, 96, 98]])"
      ]
     },
     "execution_count": 119,
     "metadata": {},
     "output_type": "execute_result"
    }
   ],
   "source": [
    "np.arange(20, 100, 2).reshape(5, 8)"
   ]
  },
  {
   "cell_type": "code",
   "execution_count": 120,
   "id": "e43c45f9",
   "metadata": {},
   "outputs": [
    {
     "data": {
      "text/plain": [
       "array([4, 3, 2])"
      ]
     },
     "execution_count": 120,
     "metadata": {},
     "output_type": "execute_result"
    }
   ],
   "source": [
    "np.arange(4, 1, -1)"
   ]
  },
  {
   "cell_type": "code",
   "execution_count": 121,
   "id": "3b0c1cdd",
   "metadata": {},
   "outputs": [
    {
     "data": {
      "text/plain": [
       "array([0.        , 0.14285714, 0.28571429, 0.42857143, 0.57142857,\n",
       "       0.71428571, 0.85714286, 1.        ])"
      ]
     },
     "execution_count": 121,
     "metadata": {},
     "output_type": "execute_result"
    }
   ],
   "source": [
    "np.linspace(0, 1, 8)"
   ]
  },
  {
   "cell_type": "code",
   "execution_count": 122,
   "id": "49cd12d7",
   "metadata": {},
   "outputs": [
    {
     "data": {
      "text/plain": [
       "0.14285714"
      ]
     },
     "execution_count": 122,
     "metadata": {},
     "output_type": "execute_result"
    }
   ],
   "source": [
    "0.14285714 - 0"
   ]
  },
  {
   "cell_type": "code",
   "execution_count": 123,
   "id": "f268a3b9",
   "metadata": {},
   "outputs": [
    {
     "data": {
      "text/plain": [
       "0.14285715"
      ]
     },
     "execution_count": 123,
     "metadata": {},
     "output_type": "execute_result"
    }
   ],
   "source": [
    "0.28571429 - 0.14285714"
   ]
  },
  {
   "cell_type": "code",
   "execution_count": 124,
   "id": "0262ee56",
   "metadata": {},
   "outputs": [
    {
     "data": {
      "text/plain": [
       "array([1.        , 1.11111111, 1.22222222, 1.33333333, 1.44444444,\n",
       "       1.55555556, 1.66666667, 1.77777778, 1.88888889, 2.        ])"
      ]
     },
     "execution_count": 124,
     "metadata": {},
     "output_type": "execute_result"
    }
   ],
   "source": [
    "np.linspace(1, 2, 10)"
   ]
  },
  {
   "cell_type": "code",
   "execution_count": 125,
   "id": "74891279",
   "metadata": {},
   "outputs": [
    {
     "data": {
      "text/plain": [
       "array([1.        , 1.02040816, 1.04081633, 1.06122449, 1.08163265,\n",
       "       1.10204082, 1.12244898, 1.14285714, 1.16326531, 1.18367347,\n",
       "       1.20408163, 1.2244898 , 1.24489796, 1.26530612, 1.28571429,\n",
       "       1.30612245, 1.32653061, 1.34693878, 1.36734694, 1.3877551 ,\n",
       "       1.40816327, 1.42857143, 1.44897959, 1.46938776, 1.48979592,\n",
       "       1.51020408, 1.53061224, 1.55102041, 1.57142857, 1.59183673,\n",
       "       1.6122449 , 1.63265306, 1.65306122, 1.67346939, 1.69387755,\n",
       "       1.71428571, 1.73469388, 1.75510204, 1.7755102 , 1.79591837,\n",
       "       1.81632653, 1.83673469, 1.85714286, 1.87755102, 1.89795918,\n",
       "       1.91836735, 1.93877551, 1.95918367, 1.97959184, 2.        ])"
      ]
     },
     "execution_count": 125,
     "metadata": {},
     "output_type": "execute_result"
    }
   ],
   "source": [
    "np.linspace(1, 2, 50)"
   ]
  },
  {
   "cell_type": "code",
   "execution_count": null,
   "id": "7f4bfb9a",
   "metadata": {},
   "outputs": [],
   "source": []
  }
 ],
 "metadata": {
  "kernelspec": {
   "display_name": "Python 3",
   "language": "python",
   "name": "python3"
  },
  "language_info": {
   "codemirror_mode": {
    "name": "ipython",
    "version": 3
   },
   "file_extension": ".py",
   "mimetype": "text/x-python",
   "name": "python",
   "nbconvert_exporter": "python",
   "pygments_lexer": "ipython3",
   "version": "3.8.8"
  }
 },
 "nbformat": 4,
 "nbformat_minor": 5
}
