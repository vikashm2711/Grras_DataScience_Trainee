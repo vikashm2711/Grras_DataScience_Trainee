{
 "cells": [
  {
   "cell_type": "code",
   "execution_count": 1,
   "id": "11f9019b",
   "metadata": {
    "ExecuteTime": {
     "end_time": "2021-08-29T12:51:58.403135Z",
     "start_time": "2021-08-29T12:51:58.005973Z"
    }
   },
   "outputs": [],
   "source": [
    "import numpy as np"
   ]
  },
  {
   "cell_type": "code",
   "execution_count": 10,
   "id": "efedd6de",
   "metadata": {
    "ExecuteTime": {
     "end_time": "2021-08-29T09:22:56.870030Z",
     "start_time": "2021-08-29T09:22:56.670028Z"
    }
   },
   "outputs": [
    {
     "name": "stdout",
     "output_type": "stream",
     "text": [
      "[2, 3, 4, 5, 6]\n"
     ]
    }
   ],
   "source": [
    "print(l)\n",
    "import numpy as np"
   ]
  },
  {
   "cell_type": "code",
   "execution_count": 25,
   "id": "5210f8a9",
   "metadata": {
    "ExecuteTime": {
     "end_time": "2021-08-29T09:27:26.814988Z",
     "start_time": "2021-08-29T09:27:19.357630Z"
    }
   },
   "outputs": [
    {
     "name": "stdout",
     "output_type": "stream",
     "text": [
      "2 3 4 5 6 7 8\n",
      "[8. 7. 6. 5. 4. 3. 2.]\n"
     ]
    }
   ],
   "source": [
    "import numpy as np\n",
    "l=list(map(int,input(\"\").split()))\n",
    "l=np.array(l,dtype='f')\n",
    "print(l[::-1])"
   ]
  },
  {
   "cell_type": "code",
   "execution_count": 26,
   "id": "1f2776fe",
   "metadata": {
    "ExecuteTime": {
     "end_time": "2021-08-29T09:31:39.502309Z",
     "start_time": "2021-08-29T09:31:31.312168Z"
    }
   },
   "outputs": [
    {
     "name": "stdout",
     "output_type": "stream",
     "text": [
      "1 2 3 4 5 6 7 8 9\n",
      "[[1 2 3]\n",
      " [4 5 6]\n",
      " [7 8 9]]\n"
     ]
    }
   ],
   "source": [
    "import numpy as np\n",
    "\n",
    "\n",
    "l=list(map(int,input(\"\").split()))\n",
    "\n",
    "\n",
    "l=np.array(l).reshape(3,3)\n",
    "print(l)\n"
   ]
  },
  {
   "cell_type": "code",
   "execution_count": 39,
   "id": "c61c7f5f",
   "metadata": {
    "ExecuteTime": {
     "end_time": "2021-08-29T09:41:15.016043Z",
     "start_time": "2021-08-29T09:41:11.639892Z"
    }
   },
   "outputs": [
    {
     "name": "stdout",
     "output_type": "stream",
     "text": [
      "2 2 2\n",
      "[[[0 0]\n",
      "  [0 0]]\n",
      "\n",
      " [[0 0]\n",
      "  [0 0]]]\n",
      "[[[1 1]\n",
      "  [1 1]]\n",
      "\n",
      " [[1 1]\n",
      "  [1 1]]]\n"
     ]
    }
   ],
   "source": [
    "l=list(map(int,input(\"\").split()))\n",
    "print(np.zeros((l), dtype = int))\n",
    "print(np.ones((l), dtype = int))\n"
   ]
  },
  {
   "cell_type": "raw",
   "id": "87c349a8",
   "metadata": {},
   "source": [
    "arr"
   ]
  },
  {
   "cell_type": "code",
   "execution_count": 35,
   "id": "c865c6cc",
   "metadata": {
    "ExecuteTime": {
     "end_time": "2021-08-29T09:37:23.000918Z",
     "start_time": "2021-08-29T09:37:22.981896Z"
    }
   },
   "outputs": [
    {
     "data": {
      "text/plain": [
       "array([[[1, 1, 1],\n",
       "        [1, 1, 1],\n",
       "        [1, 1, 1]],\n",
       "\n",
       "       [[1, 1, 1],\n",
       "        [1, 1, 1],\n",
       "        [1, 1, 1]],\n",
       "\n",
       "       [[1, 1, 1],\n",
       "        [1, 1, 1],\n",
       "        [1, 1, 1]]])"
      ]
     },
     "execution_count": 35,
     "metadata": {},
     "output_type": "execute_result"
    }
   ],
   "source": [
    "arr"
   ]
  },
  {
   "cell_type": "code",
   "execution_count": null,
   "id": "8ff56010",
   "metadata": {
    "ExecuteTime": {
     "start_time": "2021-08-29T10:00:04.742Z"
    }
   },
   "outputs": [],
   "source": [
    "n,m = map(int,input(\"\").split())\n",
    "\n",
    "l=[]\n",
    "for i in range(n):\n",
    "    l.append(list(map(int,input(\"\").split())))\n",
    "l=np.min(np.max(np.array(l),axis=1), axis=0)"
   ]
  },
  {
   "cell_type": "code",
   "execution_count": 14,
   "id": "7da24be5",
   "metadata": {
    "ExecuteTime": {
     "end_time": "2021-08-29T09:59:56.250196Z",
     "start_time": "2021-08-29T09:59:56.225175Z"
    }
   },
   "outputs": [
    {
     "ename": "AxisError",
     "evalue": "axis 1 is out of bounds for array of dimension 1",
     "output_type": "error",
     "traceback": [
      "\u001b[1;31m---------------------------------------------------------------------------\u001b[0m",
      "\u001b[1;31mAxisError\u001b[0m                                 Traceback (most recent call last)",
      "\u001b[1;32m<ipython-input-14-363948f965c3>\u001b[0m in \u001b[0;36m<module>\u001b[1;34m\u001b[0m\n\u001b[1;32m----> 1\u001b[1;33m \u001b[0ml\u001b[0m\u001b[1;33m=\u001b[0m\u001b[0mnp\u001b[0m\u001b[1;33m.\u001b[0m\u001b[0mmax\u001b[0m\u001b[1;33m(\u001b[0m\u001b[0mnp\u001b[0m\u001b[1;33m.\u001b[0m\u001b[0marray\u001b[0m\u001b[1;33m(\u001b[0m\u001b[0ml\u001b[0m\u001b[1;33m)\u001b[0m\u001b[1;33m,\u001b[0m\u001b[0maxis\u001b[0m\u001b[1;33m=\u001b[0m\u001b[1;36m1\u001b[0m\u001b[1;33m)\u001b[0m\u001b[1;33m\u001b[0m\u001b[1;33m\u001b[0m\u001b[0m\n\u001b[0m\u001b[0;32m      2\u001b[0m \u001b[0ml\u001b[0m\u001b[1;33m\u001b[0m\u001b[1;33m\u001b[0m\u001b[0m\n",
      "\u001b[1;32m<__array_function__ internals>\u001b[0m in \u001b[0;36mamax\u001b[1;34m(*args, **kwargs)\u001b[0m\n",
      "\u001b[1;32mC:\\ProgramData\\Anaconda3\\lib\\site-packages\\numpy\\core\\fromnumeric.py\u001b[0m in \u001b[0;36mamax\u001b[1;34m(a, axis, out, keepdims, initial, where)\u001b[0m\n\u001b[0;32m   2731\u001b[0m     \u001b[1;36m5\u001b[0m\u001b[1;33m\u001b[0m\u001b[1;33m\u001b[0m\u001b[0m\n\u001b[0;32m   2732\u001b[0m     \"\"\"\n\u001b[1;32m-> 2733\u001b[1;33m     return _wrapreduction(a, np.maximum, 'max', axis, None, out,\n\u001b[0m\u001b[0;32m   2734\u001b[0m                           keepdims=keepdims, initial=initial, where=where)\n\u001b[0;32m   2735\u001b[0m \u001b[1;33m\u001b[0m\u001b[0m\n",
      "\u001b[1;32mC:\\ProgramData\\Anaconda3\\lib\\site-packages\\numpy\\core\\fromnumeric.py\u001b[0m in \u001b[0;36m_wrapreduction\u001b[1;34m(obj, ufunc, method, axis, dtype, out, **kwargs)\u001b[0m\n\u001b[0;32m     85\u001b[0m                 \u001b[1;32mreturn\u001b[0m \u001b[0mreduction\u001b[0m\u001b[1;33m(\u001b[0m\u001b[0maxis\u001b[0m\u001b[1;33m=\u001b[0m\u001b[0maxis\u001b[0m\u001b[1;33m,\u001b[0m \u001b[0mout\u001b[0m\u001b[1;33m=\u001b[0m\u001b[0mout\u001b[0m\u001b[1;33m,\u001b[0m \u001b[1;33m**\u001b[0m\u001b[0mpasskwargs\u001b[0m\u001b[1;33m)\u001b[0m\u001b[1;33m\u001b[0m\u001b[1;33m\u001b[0m\u001b[0m\n\u001b[0;32m     86\u001b[0m \u001b[1;33m\u001b[0m\u001b[0m\n\u001b[1;32m---> 87\u001b[1;33m     \u001b[1;32mreturn\u001b[0m \u001b[0mufunc\u001b[0m\u001b[1;33m.\u001b[0m\u001b[0mreduce\u001b[0m\u001b[1;33m(\u001b[0m\u001b[0mobj\u001b[0m\u001b[1;33m,\u001b[0m \u001b[0maxis\u001b[0m\u001b[1;33m,\u001b[0m \u001b[0mdtype\u001b[0m\u001b[1;33m,\u001b[0m \u001b[0mout\u001b[0m\u001b[1;33m,\u001b[0m \u001b[1;33m**\u001b[0m\u001b[0mpasskwargs\u001b[0m\u001b[1;33m)\u001b[0m\u001b[1;33m\u001b[0m\u001b[1;33m\u001b[0m\u001b[0m\n\u001b[0m\u001b[0;32m     88\u001b[0m \u001b[1;33m\u001b[0m\u001b[0m\n\u001b[0;32m     89\u001b[0m \u001b[1;33m\u001b[0m\u001b[0m\n",
      "\u001b[1;31mAxisError\u001b[0m: axis 1 is out of bounds for array of dimension 1"
     ]
    }
   ],
   "source": [
    "l=np.max(np.array(l),axis=1)\n",
    "l"
   ]
  },
  {
   "cell_type": "code",
   "execution_count": 3,
   "id": "4d4612ee",
   "metadata": {
    "ExecuteTime": {
     "end_time": "2021-08-29T09:54:45.392813Z",
     "start_time": "2021-08-29T09:54:41.287992Z"
    }
   },
   "outputs": [
    {
     "name": "stdout",
     "output_type": "stream",
     "text": [
      "2 4\n",
      "4 2\n"
     ]
    }
   ],
   "source": [
    "m=[l.append(list(map(int,input(\"\").split()))) for i in range(n)]"
   ]
  },
  {
   "cell_type": "code",
   "execution_count": 4,
   "id": "4d1f3ec0",
   "metadata": {
    "ExecuteTime": {
     "end_time": "2021-08-29T09:54:48.076350Z",
     "start_time": "2021-08-29T09:54:48.065351Z"
    }
   },
   "outputs": [
    {
     "data": {
      "text/plain": [
       "[None, None]"
      ]
     },
     "execution_count": 4,
     "metadata": {},
     "output_type": "execute_result"
    }
   ],
   "source": [
    "m"
   ]
  },
  {
   "cell_type": "code",
   "execution_count": 12,
   "id": "84088ce8",
   "metadata": {
    "ExecuteTime": {
     "end_time": "2021-08-29T13:02:12.162224Z",
     "start_time": "2021-08-29T13:02:12.152216Z"
    }
   },
   "outputs": [
    {
     "name": "stdout",
     "output_type": "stream",
     "text": [
      "[1 1 1]\n",
      "[ 2  6 12]\n",
      "[0 1 1]\n",
      "[ 2  9 64]\n"
     ]
    }
   ],
   "source": [
    "\n",
    "A+B\n",
    "print(A-B)\n",
    "print(A*B)\n",
    "print(A%B)\n",
    "print(A**B)"
   ]
  },
  {
   "cell_type": "code",
   "execution_count": 8,
   "id": "d5007a6c",
   "metadata": {
    "ExecuteTime": {
     "end_time": "2021-08-29T12:56:01.685077Z",
     "start_time": "2021-08-29T12:56:01.671059Z"
    }
   },
   "outputs": [
    {
     "name": "stdout",
     "output_type": "stream",
     "text": [
      "[3 5 7]\n"
     ]
    }
   ],
   "source": []
  },
  {
   "cell_type": "code",
   "execution_count": 13,
   "id": "69f8626f",
   "metadata": {
    "ExecuteTime": {
     "end_time": "2021-08-29T13:41:38.747389Z",
     "start_time": "2021-08-29T13:41:38.733385Z"
    }
   },
   "outputs": [
    {
     "data": {
      "text/plain": [
       "(array([2, 1, 1], dtype=int32), array([0, 1, 1], dtype=int32))"
      ]
     },
     "execution_count": 13,
     "metadata": {},
     "output_type": "execute_result"
    }
   ],
   "source": [
    "np.divide()"
   ]
  },
  {
   "cell_type": "code",
   "execution_count": 17,
   "id": "ea09eef3",
   "metadata": {
    "ExecuteTime": {
     "end_time": "2021-08-29T13:51:08.558701Z",
     "start_time": "2021-08-29T13:51:08.545703Z"
    }
   },
   "outputs": [
    {
     "name": "stdout",
     "output_type": "stream",
     "text": [
      "24\n"
     ]
    }
   ],
   "source": [
    "n,m = map(int,input(\"\").split())\n",
    "l=[]\n",
    "for i in range(n):\n",
    "    l.append(list(map(int,input(\"\").split())))\n",
    "    \n",
    "l=my_array = np.array([ [1, 2], [3, 4] ])\n",
    "print(np.prod(np.sum(l,axis=0)))"
   ]
  },
  {
   "cell_type": "code",
   "execution_count": 22,
   "id": "f7716cf4",
   "metadata": {
    "ExecuteTime": {
     "end_time": "2021-08-29T14:00:33.927370Z",
     "start_time": "2021-08-29T14:00:33.907352Z"
    }
   },
   "outputs": [
    {
     "name": "stdout",
     "output_type": "stream",
     "text": [
      "[1.5 3.5]\n",
      "[1. 1.]\n",
      "1.11803398875\n"
     ]
    }
   ],
   "source": [
    "l=my_array = np.array([ [1, 2], [3, 4] ])\n",
    "\n",
    "print(np.mean(l,axis=1))\n",
    "print(np.var(l,axis=0))\n",
    "print(round(np.std(l),11))"
   ]
  },
  {
   "cell_type": "code",
   "execution_count": 25,
   "id": "cef67e64",
   "metadata": {
    "ExecuteTime": {
     "end_time": "2021-08-29T14:31:29.000985Z",
     "start_time": "2021-08-29T14:31:28.986986Z"
    }
   },
   "outputs": [],
   "source": [
    "A = np.array([1.1, 2.2, 3.3, 4.4, 5.5, 6.6, 7.7, 8.8, 9.9])\n"
   ]
  },
  {
   "cell_type": "code",
   "execution_count": 28,
   "id": "2482bdcf",
   "metadata": {
    "ExecuteTime": {
     "end_time": "2021-08-29T14:32:29.760632Z",
     "start_time": "2021-08-29T14:32:29.746611Z"
    }
   },
   "outputs": [
    {
     "name": "stdout",
     "output_type": "stream",
     "text": [
      "[1. 2. 3. 4. 5. 6. 7. 8. 9.]\n",
      "[ 2.  3.  4.  5.  6.  7.  8.  9. 10.]\n",
      "[ 1.  2.  3.  4.  6.  7.  8.  9. 10.]\n"
     ]
    }
   ],
   "source": [
    "print(np.floor(A))\n",
    "print(np.ceil(A))\n",
    "print(np.rint(A))"
   ]
  },
  {
   "cell_type": "code",
   "execution_count": null,
   "id": "3b3e0a23",
   "metadata": {},
   "outputs": [],
   "source": [
    "    [1. 2. 3. 4. 5. 6. 7. 8. 9.]\n",
    "\n",
    "    [ 2.  3.  4.  5.  6.  7.  8.  9. 10.]\n",
    "\n",
    "    [ 1.  2.  3.  4.  6.  7.  8.  9. 10.]\n",
    "\n",
    "    [ 1.  2.  3.  4.  5.  6.  7.  8.  9.]\n",
    "\n",
    "    [  2.   3.   4.   5.   6.   7.   8.   9.  10.]\n",
    "\n",
    "    [  1.   2.   3.   4.   6.   7.   8.   9.  10.]\n",
    "    "
   ]
  }
 ],
 "metadata": {
  "kernelspec": {
   "display_name": "Python 3",
   "language": "python",
   "name": "python3"
  },
  "language_info": {
   "codemirror_mode": {
    "name": "ipython",
    "version": 3
   },
   "file_extension": ".py",
   "mimetype": "text/x-python",
   "name": "python",
   "nbconvert_exporter": "python",
   "pygments_lexer": "ipython3",
   "version": "3.8.8"
  },
  "latex_envs": {
   "LaTeX_envs_menu_present": true,
   "autoclose": false,
   "autocomplete": true,
   "bibliofile": "biblio.bib",
   "cite_by": "apalike",
   "current_citInitial": 1,
   "eqLabelWithNumbers": true,
   "eqNumInitial": 1,
   "hotkeys": {
    "equation": "Ctrl-E",
    "itemize": "Ctrl-I"
   },
   "labels_anchors": false,
   "latex_user_defs": false,
   "report_style_numbering": false,
   "user_envs_cfg": false
  }
 },
 "nbformat": 4,
 "nbformat_minor": 5
}
