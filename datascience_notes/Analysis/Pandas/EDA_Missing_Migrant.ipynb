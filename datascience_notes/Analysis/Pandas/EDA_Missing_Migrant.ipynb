{
 "cells": [
  {
   "cell_type": "code",
   "execution_count": 2,
   "id": "9a9b5c96",
   "metadata": {
    "ExecuteTime": {
     "end_time": "2021-09-20T06:18:55.202846Z",
     "start_time": "2021-09-20T06:18:54.286368Z"
    }
   },
   "outputs": [],
   "source": [
    "import pandas as pd"
   ]
  },
  {
   "cell_type": "code",
   "execution_count": 3,
   "id": "ddbdd67b",
   "metadata": {
    "ExecuteTime": {
     "end_time": "2021-09-20T06:18:55.312961Z",
     "start_time": "2021-09-20T06:18:55.205857Z"
    }
   },
   "outputs": [],
   "source": [
    "df=pd.read_csv('MissingMigrantsGlobal.csv',encoding='latin',sep='\\t')"
   ]
  },
  {
   "cell_type": "code",
   "execution_count": 4,
   "id": "4e0b8e27",
   "metadata": {
    "ExecuteTime": {
     "end_time": "2021-09-20T06:18:55.436946Z",
     "start_time": "2021-09-20T06:18:55.316946Z"
    },
    "scrolled": true
   },
   "outputs": [
    {
     "data": {
      "text/html": [
       "<div>\n",
       "<style scoped>\n",
       "    .dataframe tbody tr th:only-of-type {\n",
       "        vertical-align: middle;\n",
       "    }\n",
       "\n",
       "    .dataframe tbody tr th {\n",
       "        vertical-align: top;\n",
       "    }\n",
       "\n",
       "    .dataframe thead th {\n",
       "        text-align: right;\n",
       "    }\n",
       "</style>\n",
       "<table border=\"1\" class=\"dataframe\">\n",
       "  <thead>\n",
       "    <tr style=\"text-align: right;\">\n",
       "      <th></th>\n",
       "      <th>Web ID</th>\n",
       "      <th>Region of Incident</th>\n",
       "      <th>Reported Date</th>\n",
       "      <th>Reported Year</th>\n",
       "      <th>Reported Month</th>\n",
       "      <th>Number Dead</th>\n",
       "      <th>Minimum Estimated Number of Missing</th>\n",
       "      <th>Total Dead and Missing</th>\n",
       "      <th>Number of Survivors</th>\n",
       "      <th>Number of Females</th>\n",
       "      <th>Number of Males</th>\n",
       "      <th>Number of Children</th>\n",
       "      <th>Cause of Death</th>\n",
       "      <th>Location Description</th>\n",
       "      <th>Information Source</th>\n",
       "      <th>Location Coordinates</th>\n",
       "      <th>Migration Route</th>\n",
       "      <th>URL</th>\n",
       "      <th>UNSD Geographical Grouping</th>\n",
       "      <th>Source Quality</th>\n",
       "    </tr>\n",
       "  </thead>\n",
       "  <tbody>\n",
       "    <tr>\n",
       "      <th>0</th>\n",
       "      <td>51591</td>\n",
       "      <td>Mediterranean</td>\n",
       "      <td>March 28, 2019</td>\n",
       "      <td>2019</td>\n",
       "      <td>Mar</td>\n",
       "      <td>NaN</td>\n",
       "      <td>2.0</td>\n",
       "      <td>2</td>\n",
       "      <td>36.0</td>\n",
       "      <td>NaN</td>\n",
       "      <td>2.0</td>\n",
       "      <td>NaN</td>\n",
       "      <td>Presumed drowning</td>\n",
       "      <td>Off the coast of Chios, Greece</td>\n",
       "      <td>Hellenic Coast Guard via IOM Greece</td>\n",
       "      <td>38.362368696592, 26.172509473654</td>\n",
       "      <td>Eastern Mediterranean</td>\n",
       "      <td>NaN</td>\n",
       "      <td>Uncategorized</td>\n",
       "      <td>5</td>\n",
       "    </tr>\n",
       "    <tr>\n",
       "      <th>1</th>\n",
       "      <td>51588</td>\n",
       "      <td>Mediterranean</td>\n",
       "      <td>March 26, 2019</td>\n",
       "      <td>2019</td>\n",
       "      <td>Mar</td>\n",
       "      <td>4.0</td>\n",
       "      <td>NaN</td>\n",
       "      <td>4</td>\n",
       "      <td>11.0</td>\n",
       "      <td>3.0</td>\n",
       "      <td>NaN</td>\n",
       "      <td>1.0</td>\n",
       "      <td>Presumed drowning</td>\n",
       "      <td>Off the coast of Ayvac?k district, Çanakkale p...</td>\n",
       "      <td>Turkish Coast Guard via IOM Turkey</td>\n",
       "      <td>39.441975591614, 26.378816195919</td>\n",
       "      <td>Eastern Mediterranean</td>\n",
       "      <td>http://bit.ly/2YmiPAN</td>\n",
       "      <td>Uncategorized</td>\n",
       "      <td>5</td>\n",
       "    </tr>\n",
       "    <tr>\n",
       "      <th>2</th>\n",
       "      <td>51589</td>\n",
       "      <td>Mediterranean</td>\n",
       "      <td>March 26, 2019</td>\n",
       "      <td>2019</td>\n",
       "      <td>Mar</td>\n",
       "      <td>1.0</td>\n",
       "      <td>NaN</td>\n",
       "      <td>1</td>\n",
       "      <td>NaN</td>\n",
       "      <td>NaN</td>\n",
       "      <td>NaN</td>\n",
       "      <td>NaN</td>\n",
       "      <td>Presumed drowning</td>\n",
       "      <td>Body recovered on Playa del Tarajal, Ceuta, Sp...</td>\n",
       "      <td>Ceuta al día, El Pueblo de Ceuta</td>\n",
       "      <td>35.871901875921, -5.343037665842</td>\n",
       "      <td>Western Mediterranean</td>\n",
       "      <td>http://bit.ly/2uyj7qO, http://bit.ly/2uwj5zC</td>\n",
       "      <td>Uncategorized</td>\n",
       "      <td>3</td>\n",
       "    </tr>\n",
       "    <tr>\n",
       "      <th>3</th>\n",
       "      <td>51590</td>\n",
       "      <td>Mediterranean</td>\n",
       "      <td>March 26, 2019</td>\n",
       "      <td>2019</td>\n",
       "      <td>Mar</td>\n",
       "      <td>1.0</td>\n",
       "      <td>NaN</td>\n",
       "      <td>1</td>\n",
       "      <td>NaN</td>\n",
       "      <td>NaN</td>\n",
       "      <td>NaN</td>\n",
       "      <td>NaN</td>\n",
       "      <td>Presumed drowning</td>\n",
       "      <td>Body recovered on beach near Tetouan, Morocco ...</td>\n",
       "      <td>El Pueblo de Ceuta</td>\n",
       "      <td>35.635115912988, -5.275650103548</td>\n",
       "      <td>Western Mediterranean</td>\n",
       "      <td>http://bit.ly/2uwj5zC</td>\n",
       "      <td>Uncategorized</td>\n",
       "      <td>1</td>\n",
       "    </tr>\n",
       "    <tr>\n",
       "      <th>4</th>\n",
       "      <td>51587</td>\n",
       "      <td>Central America</td>\n",
       "      <td>March 25, 2019</td>\n",
       "      <td>2019</td>\n",
       "      <td>Mar</td>\n",
       "      <td>1.0</td>\n",
       "      <td>NaN</td>\n",
       "      <td>1</td>\n",
       "      <td>NaN</td>\n",
       "      <td>NaN</td>\n",
       "      <td>1.0</td>\n",
       "      <td>NaN</td>\n",
       "      <td>Fall from train</td>\n",
       "      <td>Train tracks in Teacalco, Tlaxcala, Mexico</td>\n",
       "      <td>Megalópolis, Línea de contraste</td>\n",
       "      <td>19.334475177429, -98.069823987538</td>\n",
       "      <td>NaN</td>\n",
       "      <td>http://bit.ly/2uvDIvH, http://bit.ly/2TXAFLS</td>\n",
       "      <td>Central America</td>\n",
       "      <td>3</td>\n",
       "    </tr>\n",
       "    <tr>\n",
       "      <th>...</th>\n",
       "      <td>...</td>\n",
       "      <td>...</td>\n",
       "      <td>...</td>\n",
       "      <td>...</td>\n",
       "      <td>...</td>\n",
       "      <td>...</td>\n",
       "      <td>...</td>\n",
       "      <td>...</td>\n",
       "      <td>...</td>\n",
       "      <td>...</td>\n",
       "      <td>...</td>\n",
       "      <td>...</td>\n",
       "      <td>...</td>\n",
       "      <td>...</td>\n",
       "      <td>...</td>\n",
       "      <td>...</td>\n",
       "      <td>...</td>\n",
       "      <td>...</td>\n",
       "      <td>...</td>\n",
       "      <td>...</td>\n",
       "    </tr>\n",
       "    <tr>\n",
       "      <th>5328</th>\n",
       "      <td>39207</td>\n",
       "      <td>US-Mexico Border</td>\n",
       "      <td>January 16, 2014</td>\n",
       "      <td>2014</td>\n",
       "      <td>Jan</td>\n",
       "      <td>1.0</td>\n",
       "      <td>NaN</td>\n",
       "      <td>1</td>\n",
       "      <td>NaN</td>\n",
       "      <td>NaN</td>\n",
       "      <td>1.0</td>\n",
       "      <td>NaN</td>\n",
       "      <td>Shot</td>\n",
       "      <td>near Douglas, Arizona</td>\n",
       "      <td>Ministry of Foreign Affairs Mexico</td>\n",
       "      <td>31.344700000000, -109.545000000000</td>\n",
       "      <td>Central America to US</td>\n",
       "      <td>http://bit.ly/1qfIw00</td>\n",
       "      <td>Northern America</td>\n",
       "      <td>5</td>\n",
       "    </tr>\n",
       "    <tr>\n",
       "    "
      ],
      "text/plain": [
       "      Web ID Region of Incident     Reported Date  Reported Year  \\\n",
       "0      51591      Mediterranean    March 28, 2019           2019   \n",
       "1      51588      Mediterranean    March 26, 2019           2019   \n",
       "2      51589      Mediterranean    March 26, 2019           2019   \n",
       "3      51590      Mediterranean    March 26, 2019           2019   \n",
       "4      51587    Central America    March 25, 2019           2019   \n",
       "...      ...                ...               ...            ...   \n",
       "5328   39207   US-Mexico Border  January 16, 2014           2014   \n",
       "5329   39368             Europe  January 16, 2014           2014   \n",
       "5330   39257   US-Mexico Border  January 14, 2014           2014   \n",
       "5331   39256   US-Mexico Border  January 12, 2014           2014   \n",
       "5332   39206   US-Mexico Border  January 06, 2014           2014   \n",
       "\n",
       "     Reported Month  Number Dead  Minimum Estimated Number of Missing  \\\n",
       "0               Mar          NaN                                  2.0   \n",
       "1               Mar          4.0                                  NaN   \n",
       "2               Mar          1.0                                  NaN   \n",
       "3               Mar          1.0                                  NaN   \n",
       "4               Mar          1.0                                  NaN   \n",
       "...             ...          ...                                  ...   \n",
       "5328            Jan          1.0                                  NaN   \n",
       "5329            Jan          1.0                                  0.0   \n",
       "5330            Jan          1.0                                  NaN   \n",
       "5331            Jan          1.0                                  NaN   \n",
       "5332            Jan          1.0                                  NaN   \n",
       "\n",
       "      Total Dead and Missing  Number of Survivors  Number of Females  \\\n",
       "0                          2                 36.0                NaN   \n",
       "1                          4                 11.0                3.0   \n",
       "2                          1                  NaN                NaN   \n",
       "3                          1                  NaN                NaN   \n",
       "4                          1                  NaN                NaN   \n",
       "...                      ...                  ...                ...   \n",
       "5328                       1                  NaN                NaN   \n",
       "5329                       1                  2.0                NaN   \n",
       "5330                       1                  NaN                NaN   \n",
       "5331                       1                  NaN                NaN   \n",
       "5332                       1                  NaN                NaN   \n",
       "\n",
       "      Number of Males  Number of Children              Cause of Death  \\\n",
       "0                 2.0                 NaN           Presumed drowning   \n",
       "1                 NaN                 1.0           Presumed drowning   \n",
       "2                 NaN                 NaN           Presumed drowning   \n",
       "3                 NaN                 NaN           Presumed drowning   \n",
       "4                 1.0                 NaN             Fall from train   \n",
       "...               ...                 ...                         ...   \n",
       "5328              1.0                 NaN                        Shot   \n",
       "5329              1.0                 NaN                Hyperthermia   \n",
       "5330              NaN                 NaN  Unknown (skeletal remains)   \n",
       "5331              NaN                 NaN  Unknown (skeletal remains)   \n",
       "5332              1.0                 NaN  Unknown (skeletal remains)   \n",
       "\n",
       "                                   Location Description  \\\n",
       "0                        Off the coast of Chios, Greece   \n",
       "1     Off the coast of Ayvac?k district, Çanakkale p...   \n",
       "2     Body recovered on Playa del Tarajal, Ceuta, Sp...   \n",
       "3     Body recovered on beach near Tetouan, Morocco ...   \n",
       "4            Train tracks in Teacalco, Tlaxcala, Mexico   \n",
       "...                                                 ...   \n",
       "5328                              near Douglas, Arizona   \n",
       "5329                  Border between Russia and Estonia   \n",
       "5330                                        Pima County   \n",
       "5331                                        Pima County   \n",
       "5332                                        Pima County   \n",
       "\n",
       "                               Information Source  \\\n",
       "0             Hellenic Coast Guard via IOM Greece   \n",
       "1              Turkish Coast Guard via IOM Turkey   \n",
       "2                Ceuta al día, El Pueblo de Ceuta   \n",
       "3                              El Pueblo de Ceuta   \n",
       "4                 Megalópolis, Línea de contraste   \n",
       "...                                           ...   \n",
       "5328           Ministry of Foreign Affairs Mexico   \n",
       "5329            EUBusiness (Agence France-Presse)   \n",
       "5330   Pima County Office of the Medical Examiner   \n",
       "5331   Pima County Office of the Medical Examiner   \n",
       "5332  Humane Borders Arizona Open GIS Initiative    \n",
       "\n",
       "                    Location Coordinates        Migration Route  \\\n",
       "0       38.362368696592, 26.172509473654  Eastern Mediterranean   \n",
       "1       39.441975591614, 26.378816195919  Eastern Mediterranean   \n",
       "2       35.871901"
      ]
     },
     "execution_count": 4,
     "metadata": {},
     "output_type": "execute_result"
    },
    {
     "data": {
      "text/html": [
       "<b>limit_output extension: Maximum message size of 5000 exceeded with 7356 characters</b>"
      ]
     },
     "metadata": {},
     "output_type": "display_data"
    }
   ],
   "source": [
    "df"
   ]
  },
  {
   "cell_type": "markdown",
   "id": "bdbda203",
   "metadata": {},
   "source": [
    "1.\tWhat are the Top 10 Region of Incidents with higher incidents?\n",
    "2.\tWhat is the Percentage of missing Females, Males and Children in top 10 regions of incidents?\n",
    "3.\tList most common Information Source according to region of incident wise\n",
    "4.\tWhat are the most common causes of death in every region?\n",
    "5.\t List number of cases reported month wise in year 2019 ?\n",
    "6.\tWhat are the top migration routes\n",
    "7.\tList number of cases reported yearwise and compare them¶\n"
   ]
  },
  {
   "cell_type": "code",
   "execution_count": 5,
   "id": "957f5342",
   "metadata": {
    "ExecuteTime": {
     "end_time": "2021-09-20T06:18:55.559946Z",
     "start_time": "2021-09-20T06:18:55.440958Z"
    }
   },
   "outputs": [
    {
     "data": {
      "text/html": [
       "<div>\n",
       "<style scoped>\n",
       "    .dataframe tbody tr th:only-of-type {\n",
       "        vertical-align: middle;\n",
       "    }\n",
       "\n",
       "    .dataframe tbody tr th {\n",
       "        vertical-align: top;\n",
       "    }\n",
       "\n",
       "    .dataframe thead th {\n",
       "        text-align: right;\n",
       "    }\n",
       "</style>\n",
       "<table border=\"1\" class=\"dataframe\">\n",
       "  <thead>\n",
       "    <tr style=\"text-align: right;\">\n",
       "      <th></th>\n",
       "      <th>Web ID</th>\n",
       "      <th>Reported Year</th>\n",
       "      <th>Number Dead</th>\n",
       "      <th>Minimum Estimated Number of Missing</th>\n",
       "      <th>Total Dead and Missing</th>\n",
       "      <th>Number of Survivors</th>\n",
       "      <th>Number of Females</th>\n",
       "      <th>Number of Males</th>\n",
       "      <th>Number of Children</th>\n",
       "      <th>Source Quality</th>\n",
       "    </tr>\n",
       "  </thead>\n",
       "  <tbody>\n",
       "    <tr>\n",
       "      <th>count</th>\n",
       "      <td>5333.000000</td>\n",
       "      <td>5333.000000</td>\n",
       "      <td>5142.000000</td>\n",
       "      <td>503.000000</td>\n",
       "      <td>5333.000000</td>\n",
       "      <td>749.000000</td>\n",
       "      <td>897.000000</td>\n",
       "      <td>2813.000000</td>\n",
       "      <td>644.000000</td>\n",
       "      <td>5333.000000</td>\n",
       "    </tr>\n",
       "    <tr>\n",
       "      <th>mean</th>\n",
       "      <td>43247.885805</td>\n",
       "      <td>2016.656104</td>\n",
       "      <td>3.287631</td>\n",
       "      <td>29.119284</td>\n",
       "      <td>5.916370</td>\n",
       "      <td>63.607477</td>\n",
       "      <td>2.012263</td>\n",
       "      <td>1.890864</td>\n",
       "      <td>2.476708</td>\n",
       "      <td>2.895556</td>\n",
       "    </tr>\n",
       "    <tr>\n",
       "      <th>std</th>\n",
       "      <td>5186.837212</td>\n",
       "      <td>1.237033</td>\n",
       "      <td>13.593407</td>\n",
       "      <td>67.913216</td>\n",
       "      <td>28.051811</td>\n",
       "      <td>146.520155</td>\n",
       "      <td>2.990100</td>\n",
       "      <td>5.510674</td>\n",
       "      <td>10.216220</td>\n",
       "      <td>1.423257</td>\n",
       "    </tr>\n",
       "    <tr>\n",
       "      <th>min</th>\n",
       "      <td>30158.000000</td>\n",
       "      <td>2014.000000</td>\n",
       "      <td>0.000000</td>\n",
       "      <td>0.000000</td>\n",
       "      <td>0.000000</td>\n",
       "      <td>0.000000</td>\n",
       "      <td>0.000000</td>\n",
       "      <td>0.000000</td>\n",
       "      <td>0.000000</td>\n",
       "      <td>1.000000</td>\n",
       "    </tr>\n",
       "    <tr>\n",
       "      <th>25%</th>\n",
       "      <td>40876.000000</td>\n",
       "      <td>2016.000000</td>\n",
       "      <td>1.000000</td>\n",
       "      <td>2.000000</td>\n",
       "      <td>1.000000</td>\n",
       "      <td>5.000000</td>\n",
       "      <td>1.000000</td>\n",
       "      <td>1.000000</td>\n",
       "      <td>1.000000</td>\n",
       "      <td>2.000000</td>\n",
       "    </tr>\n",
       "    <tr>\n",
       "      <th>50%</th>\n",
       "      <td>43504.000000</td>\n",
       "      <td>2017.000000</td>\n",
       "      <td>1.000000</td>\n",
       "      <td>7.000000</td>\n",
       "      <td>1.000000</td>\n",
       "      <td>15.000000</td>\n",
       "      <td>1.000000</td>\n",
       "      <td>1.000000</td>\n",
       "      <td>1.000000</td>\n",
       "      <td>2.000000</td>\n",
       "    </tr>\n",
       "    <tr>\n",
       "      <th>75%</th>\n",
       "      <td>45747.000000</td>\n",
       "      <td>2018.000000</td>\n",
       "      <td>2.000000</td>\n",
       "      <td>25.000000</td>\n",
       "      <td>3.000000</td>\n",
       "      <td>61.000000</td>\n",
       "      <td>2.000000</td>\n",
       "      <td>1.000000</td>\n",
       "      <td>2.000000</td>\n",
       "      <td>4.000000</td>\n",
       "    </tr>\n",
       "    <tr>\n",
       "      <th>max</th>\n",
       "      <td>51592.000000</td>\n",
       "      <td>2019.000000</td>\n",
       "      <td>750.000000</td>\n",
       "      <td>750.000000</td>\n",
       "      <td>1022.000000</td>\n",
       "      <td>1950.000000</td>\n",
       "      <td>30.000000</td>\n",
       "      <td>135.000000</td>\n",
       "      <td>250.000000</td>\n",
       "      <td>5.000000</td>\n",
       "    </tr>\n",
       "  </tbody>\n",
       "</table>\n",
       "</div>"
      ],
      "text/plain": [
       "             Web ID  Reported Year  Number Dead  \\\n",
       "count   5333.000000    5333.000000  5142.000000   \n",
       "mean   43247.885805    2016.656104     3.287631   \n",
       "std     5186.837212       1.237033    13.593407   \n",
       "min    30158.000000    2014.000000     0.000000   \n",
       "25%    40876.000000    2016.000000     1.000000   \n",
       "50%    43504.000000    2017.000000     1.000000   \n",
       "75%    45747.000000    2018.000000     2.000000   \n",
       "max    51592.000000    2019.000000   750.000000   \n",
       "\n",
       "       Minimum Estimated Number of Missing  Total Dead and Missing  \\\n",
       "count                           503.000000             5333.000000   \n",
       "mean                             29.119284                5.916370   \n",
       "std                              67.913216               28.051811   \n",
       "min                               0.000000                0.000000   \n",
       "25%                               2.000000                1.000000   \n",
       "50%                               7.000000                1.000000   \n",
       "75%                              25.000000                3.000000   \n",
       "max                             750.000000             1022.000000   \n",
       "\n",
       "       Number of Survivors  Number of Females  Number of Males  \\\n",
       "count           749.000000         897.000000      2813.000000   \n",
       "mean             63.607477           2.012263         1.890864   \n",
       "std             146.520155           2.990100         5.510674   \n",
       "min               0.000000           0.000000         0.000000   \n",
       "25%               5.000000           1.000000         1.000000   \n",
       "50%              15.000000           1.000000         1.000000   \n",
       "75%              61.000000           2.000000         1.000000   \n",
       "max            1950.000000          30.000000       135.000000   \n",
       "\n",
       "       Number of Children  Source Quality  \n",
       "count          644.000000     5333.000000  \n",
       "mean             2.476708        2.895556  \n",
       "std             10.216220        1.423257  \n",
       "min              0.000000        1.000000  \n",
       "25%              1.000000        2.000000  \n",
       "50%              1.000000        2.000000  \n",
       "75%              2.000000        4.000000  \n",
       "max            250.000000        5.000000  "
      ]
     },
     "execution_count": 5,
     "metadata": {},
     "output_type": "execute_result"
    }
   ],
   "source": [
    "df.describe()"
   ]
  },
  {
   "cell_type": "code",
   "execution_count": 6,
   "id": "d0db381d",
   "metadata": {
    "ExecuteTime": {
     "end_time": "2021-09-20T06:18:55.622949Z",
     "start_time": "2021-09-20T06:18:55.562952Z"
    }
   },
   "outputs": [
    {
     "name": "stdout",
     "output_type": "stream",
     "text": [
      "<class 'pandas.core.frame.DataFrame'>\n",
      "RangeIndex: 5333 entries, 0 to 5332\n",
      "Data columns (total 20 columns):\n",
      " #   Column                               Non-Null Count  Dtype  \n",
      "---  ------                               --------------  -----  \n",
      " 0   Web ID                               5333 non-null   int64  \n",
      " 1   Region of Incident                   5333 non-null   object \n",
      " 2   Reported Date                        5333 non-null   object \n",
      " 3   Reported Year                        5333 non-null   int64  \n",
      " 4   Reported Month                       5333 non-null   object \n",
      " 5   Number Dead                          5142 non-null   float64\n",
      " 6   Minimum Estimated Number of Missing  503 non-null    float64\n",
      " 7   Total Dead and Missing               5333 non-null   int64  \n",
      " 8   Number of Survivors                  749 non-null    float64\n",
      " 9   Number of Females                    897 non-null    float64\n",
      " 10  Number of Males                      2813 non-null   float64\n",
      " 11  Number of Children                   644 non-null    float64\n",
      " 12  Cause of Death                       5333 non-null   object \n",
      " 13  Location Description                 5323 non-null   object \n",
      " 14  Information Source                   5331 non-null   object \n",
      " 15  Location Coordinates                 5332 non-null   object \n",
      " 16  Migration Route                      2660 non-null   object \n",
      " 17  URL                                  3192 non-null   object \n",
      " 18  UNSD Geographical Grouping           5322 non-null   object \n",
      " 19  Source Quality                       5333 non-null   int64  \n",
      "dtypes: float64(6), int64(4), object(10)\n",
      "memory usage: 833.4+ KB\n"
     ]
    }
   ],
   "source": [
    "df.info()"
   ]
  },
  {
   "cell_type": "code",
   "execution_count": 7,
   "id": "e995ab21",
   "metadata": {
    "ExecuteTime": {
     "end_time": "2021-09-20T06:18:55.653942Z",
     "start_time": "2021-09-20T06:18:55.626948Z"
    }
   },
   "outputs": [
    {
     "data": {
      "text/plain": [
       "Index(['Web ID', 'Region of Incident', 'Reported Date', 'Reported Year',\n",
       "       'Reported Month', 'Number Dead', 'Minimum Estimated Number of Missing',\n",
       "       'Total Dead and Missing', 'Number of Survivors', 'Number of Females',\n",
       "       'Number of Males', 'Number of Children', 'Cause of Death',\n",
       "       'Location Description', 'Information Source', 'Location Coordinates',\n",
       "       'Migration Route', 'URL', 'UNSD Geographical Grouping',\n",
       "       'Source Quality'],\n",
       "      dtype='object')"
      ]
     },
     "execution_count": 7,
     "metadata": {},
     "output_type": "execute_result"
    }
   ],
   "source": [
    "df.columns"
   ]
  },
  {
   "cell_type": "markdown",
   "id": "a26af5a5",
   "metadata": {},
   "source": [
    "## 1. What are the Top 10 Region of Incidents with higher incidents?"
   ]
  },
  {
   "cell_type": "code",
   "execution_count": null,
   "id": "4294f971",
   "metadata": {},
   "outputs": [],
   "source": []
  },
  {
   "cell_type": "code",
   "execution_count": 8,
   "id": "7c47a4cd",
   "metadata": {
    "ExecuteTime": {
     "end_time": "2021-09-20T06:18:55.700942Z",
     "start_time": "2021-09-20T06:18:55.658946Z"
    }
   },
   "outputs": [
    {
     "data": {
      "text/plain": [
       "Region of Incident\n",
       "Mediterranean         18229\n",
       "North Africa           4027\n",
       "Southeast Asia         2203\n",
       "US-Mexico Border       1964\n",
       "Sub-Saharan Africa     1549\n",
       "Horn of Africa         1152\n",
       "Central America         619\n",
       "Caribbean               499\n",
       "Europe                  442\n",
       "Middle East             406\n",
       "Name: Total Dead and Missing, dtype: int64"
      ]
     },
     "execution_count": 8,
     "metadata": {},
     "output_type": "execute_result"
    }
   ],
   "source": [
    "df.groupby('Region of Incident')['Total Dead and Missing'].sum().nlargest(10)"
   ]
  },
  {
   "cell_type": "markdown",
   "id": "3eb71ed8",
   "metadata": {},
   "source": [
    "## 2.\tWhat is the Percentage of missing Females, Males and Children in top 10 regions of incidents?"
   ]
  },
  {
   "cell_type": "code",
   "execution_count": 9,
   "id": "38a11ce4",
   "metadata": {
    "ExecuteTime": {
     "end_time": "2021-09-20T06:18:55.920075Z",
     "start_time": "2021-09-20T06:18:55.708948Z"
    }
   },
   "outputs": [
    {
     "ename": "KeyError",
     "evalue": "''",
     "output_type": "error",
     "traceback": [
      "\u001b[1;31m---------------------------------------------------------------------------\u001b[0m",
      "\u001b[1;31mKeyError\u001b[0m                                  Traceback (most recent call last)",
      "\u001b[1;32m<ipython-input-9-df6371ae309f>\u001b[0m in \u001b[0;36m<module>\u001b[1;34m\u001b[0m\n\u001b[1;32m----> 1\u001b[1;33m \u001b[0mdf\u001b[0m\u001b[1;33m.\u001b[0m\u001b[0mgroupby\u001b[0m\u001b[1;33m(\u001b[0m\u001b[1;34m''\u001b[0m\u001b[1;33m)\u001b[0m\u001b[1;33m\u001b[0m\u001b[1;33m\u001b[0m\u001b[0m\n\u001b[0m",
      "\u001b[1;32mC:\\ProgramData\\Anaconda3\\lib\\site-packages\\pandas\\core\\frame.py\u001b[0m in \u001b[0;36mgroupby\u001b[1;34m(self, by, axis, level, as_index, sort, group_keys, squeeze, observed, dropna)\u001b[0m\n\u001b[0;32m   6715\u001b[0m         \u001b[0maxis\u001b[0m \u001b[1;33m=\u001b[0m \u001b[0mself\u001b[0m\u001b[1;33m.\u001b[0m\u001b[0m_get_axis_number\u001b[0m\u001b[1;33m(\u001b[0m\u001b[0maxis\u001b[0m\u001b[1;33m)\u001b[0m\u001b[1;33m\u001b[0m\u001b[1;33m\u001b[0m\u001b[0m\n\u001b[0;32m   6716\u001b[0m \u001b[1;33m\u001b[0m\u001b[0m\n\u001b[1;32m-> 6717\u001b[1;33m         return DataFrameGroupBy(\n\u001b[0m\u001b[0;32m   6718\u001b[0m             \u001b[0mobj\u001b[0m\u001b[1;33m=\u001b[0m\u001b[0mself\u001b[0m\u001b[1;33m,\u001b[0m\u001b[1;33m\u001b[0m\u001b[1;33m\u001b[0m\u001b[0m\n\u001b[0;32m   6719\u001b[0m             \u001b[0mkeys\u001b[0m\u001b[1;33m=\u001b[0m\u001b[0mby\u001b[0m\u001b[1;33m,\u001b[0m\u001b[1;33m\u001b[0m\u001b[1;33m\u001b[0m\u001b[0m\n",
      "\u001b[1;32mC:\\ProgramData\\Anaconda3\\lib\\site-packages\\pandas\\core\\groupby\\groupby.py\u001b[0m in \u001b[0;36m__init__\u001b[1;34m(self, obj, keys, axis, level, grouper, exclusions, selection, as_index, sort, group_keys, squeeze, observed, mutated, dropna)\u001b[0m\n\u001b[0;32m    558\u001b[0m             \u001b[1;32mfrom\u001b[0m \u001b[0mpandas\u001b[0m\u001b[1;33m.\u001b[0m\u001b[0mcore\u001b[0m\u001b[1;33m.\u001b[0m\u001b[0mgroupby\u001b[0m\u001b[1;33m.\u001b[0m\u001b[0mgrouper\u001b[0m \u001b[1;32mimport\u001b[0m \u001b[0mget_grouper\u001b[0m\u001b[1;33m\u001b[0m\u001b[1;33m\u001b[0m\u001b[0m\n\u001b[0;32m    559\u001b[0m \u001b[1;33m\u001b[0m\u001b[0m\n\u001b[1;32m--> 560\u001b[1;33m             grouper, exclusions, obj = get_grouper(\n\u001b[0m\u001b[0;32m    561\u001b[0m                 \u001b[0mobj\u001b[0m\u001b[1;33m,\u001b[0m\u001b[1;33m\u001b[0m\u001b[1;33m\u001b[0m\u001b[0m\n\u001b[0;32m    562\u001b[0m                 \u001b[0mkeys\u001b[0m\u001b[1;33m,\u001b[0m\u001b[1;33m\u001b[0m\u001b[1;33m\u001b[0m\u001b[0m\n",
      "\u001b[1;32mC:\\ProgramData\\Anaconda3\\lib\\site-packages\\pandas\\core\\groupby\\grouper.py\u001b[0m in \u001b[0;36mget_grouper\u001b[1;34m(obj, key, axis, level, sort, observed, mutated, validate, dropna)\u001b[0m\n\u001b[0;32m    809\u001b[0m                 \u001b[0min_axis\u001b[0m\u001b[1;33m,\u001b[0m \u001b[0mname\u001b[0m\u001b[1;33m,\u001b[0m \u001b[0mlevel\u001b[0m\u001b[1;33m,\u001b[0m \u001b[0mgpr\u001b[0m \u001b[1;33m=\u001b[0m \u001b[1;32mFalse\u001b[0m\u001b[1;33m,\u001b[0m \u001b[1;32mNone\u001b[0m\u001b[1;33m,\u001b[0m \u001b[0mgpr\u001b[0m\u001b[1;33m,\u001b[0m \u001b[1;32mNone\u001b[0m\u001b[1;33m\u001b[0m\u001b[1;33m\u001b[0m\u001b[0m\n\u001b[0;32m    810\u001b[0m             \u001b[1;32melse\u001b[0m\u001b[1;33m:\u001b[0m\u001b[1;33m\u001b[0m\u001b[1;33m\u001b[0m\u001b[0m\n\u001b[1;32m--> 811\u001b[1;33m                 \u001b[1;32mraise\u001b[0m \u001b[0mKeyError\u001b[0m\u001b[1;33m(\u001b[0m\u001b[0mgpr\u001b[0m\u001b[1;33m)\u001b[0m\u001b[1;33m\u001b[0m\u001b[1;33m\u001b[0m\u001b[0m\n\u001b[0m\u001b[0;32m    812\u001b[0m         \u001b[1;32melif\u001b[0m \u001b[0misinstance\u001b[0m\u001b[1;33m(\u001b[0m\u001b[0mgpr\u001b[0m\u001b[1;33m,\u001b[0m \u001b[0mGrouper\u001b[0m\u001b[1;33m)\u001b[0m \u001b[1;32mand\u001b[0m \u001b[0mgpr\u001b[0m\u001b[1;33m.\u001b[0m\u001b[0mkey\u001b[0m \u001b[1;32mis\u001b[0m \u001b[1;32mnot\u001b[0m \u001b[1;32mNone\u001b[0m\u001b[1;33m:\u001b[0m\u001b[1;33m\u001b[0m\u001b[1;33m\u001b[0m\u001b[0m\n\u001b[0;32m    813\u001b[0m             \u001b[1;31m# Add key to exclusions\u001b[0m\u001b[1;33m\u001b[0m\u001b[1;33m\u001b[0m\u001b[1;33m\u001b[0m\u001b[0m\n",
      "\u001b[1;31mKeyError\u001b[0m: ''"
     ]
    }
   ],
   "source": [
    "df.groupby('')"
   ]
  },
  {
   "cell_type": "markdown",
   "id": "5fdee45e",
   "metadata": {},
   "source": [
    "## 3.\tList most common Information Source according to region of incident wise"
   ]
  },
  {
   "cell_type": "code",
   "execution_count": 16,
   "id": "2b7d6317",
   "metadata": {
    "ExecuteTime": {
     "end_time": "2021-09-20T06:32:37.774369Z",
     "start_time": "2021-09-20T06:32:37.741815Z"
    }
   },
   "outputs": [
    {
     "data": {
      "text/plain": [
       "Region of Incident  Information Source                                   \n",
       "US-Mexico Border    Pima County Office of the Medical Examiner               681\n",
       "North Africa        Mixed Migration Monitoring Mechanism Initiative (4Mi)    674\n",
       "                    Mixed Migration Monitoring Mechanism Initiative (4mi)    316\n",
       "Sub-Saharan Africa  Mixed Migration Monitoring Mechanism Initiative (4mi)    269\n",
       "North Africa        MHub                                                     186\n",
       "Name: Information Source, dtype: int64"
      ]
     },
     "execution_count": 16,
     "metadata": {},
     "output_type": "execute_result"
    }
   ],
   "source": [
    "df.groupby('Region of Incident')['Information Source'].value_counts(sort=True).sort_values(ascending=False)[:5]"
   ]
  },
  {
   "cell_type": "markdown",
   "id": "a7ba2dce",
   "metadata": {},
   "source": [
    "## 4.\tWhat are the most common causes of death in every region?"
   ]
  },
  {
   "cell_type": "code",
   "execution_count": 12,
   "id": "93d046cc",
   "metadata": {
    "ExecuteTime": {
     "end_time": "2021-09-20T06:22:20.118757Z",
     "start_time": "2021-09-20T06:22:20.093712Z"
    },
    "scrolled": true
   },
   "outputs": [
    {
     "data": {
      "text/plain": [
       "Drowning                                    968\n",
       "Sickness and lack of access to medicines    757\n",
       "Unknown                                     549\n",
       "Unknown (skeletal remains)                  469\n",
       "Vehicle Accident                            444\n",
       "Presumed drowning                           347\n",
       "Shot                                        171\n",
       "Dehydration                                 121\n",
       "Starvation                                   89\n",
       "Hypothermia                                  79\n",
       "Name: Cause of Death, dtype: int64"
      ]
     },
     "execution_count": 12,
     "metadata": {},
     "output_type": "execute_result"
    }
   ],
   "source": [
    "df['Cause of Death'].value_counts(sort=True).head(10)"
   ]
  },
  {
   "cell_type": "code",
   "execution_count": 17,
   "id": "e5b45532",
   "metadata": {
    "ExecuteTime": {
     "end_time": "2021-09-20T06:38:41.594161Z",
     "start_time": "2021-09-20T06:38:41.559126Z"
    }
   },
   "outputs": [
    {
     "data": {
      "text/plain": [
       "Region of Incident  Cause of Death                          \n",
       "Caribbean           Drowning                                    25\n",
       "                    Presumed drowning                           17\n",
       "                    Unknown                                      7\n",
       "                    Shot                                         2\n",
       "                    Vehicle Accident                             2\n",
       "                                                                ..\n",
       "US-Mexico Border    Hypoglycemia                                 1\n",
       "                    Pneumonia                                    1\n",
       "                    Train Accident                               1\n",
       "                    Unknown (mummified and skeletal remains)     1\n",
       "                    Unknown (violence)                           1\n",
       "Name: Cause of Death, Length: 454, dtype: int64"
      ]
     },
     "execution_count": 17,
     "metadata": {},
     "output_type": "execute_result"
    }
   ],
   "source": [
    "df.groupby('Region of Incident')['Cause of Death'].value_counts()"
   ]
  },
  {
   "cell_type": "markdown",
   "id": "6fe42795",
   "metadata": {},
   "source": [
    "## 5.\t List number of cases reported month wise in year 2019 ?"
   ]
  },
  {
   "cell_type": "code",
   "execution_count": 10,
   "id": "6d21496c",
   "metadata": {
    "ExecuteTime": {
     "end_time": "2021-09-20T06:19:11.362880Z",
     "start_time": "2021-09-20T06:19:11.291967Z"
    }
   },
   "outputs": [
    {
     "data": {
      "text/html": [
       "<div>\n",
       "<style scoped>\n",
       "    .dataframe tbody tr th:only-of-type {\n",
       "        vertical-align: middle;\n",
       "    }\n",
       "\n",
       "    .dataframe tbody tr th {\n",
       "        vertical-align: top;\n",
       "    }\n",
       "\n",
       "    .dataframe thead th {\n",
       "        text-align: right;\n",
       "    }\n",
       "</style>\n",
       "<table border=\"1\" class=\"dataframe\">\n",
       "  <thead>\n",
       "    <tr style=\"text-align: right;\">\n",
       "      <th></th>\n",
       "      <th>Web ID</th>\n",
       "      <th>Region of Incident</th>\n",
       "      <th>Reported Date</th>\n",
       "      <th>Reported Year</th>\n",
       "      <th>Number Dead</th>\n",
       "      <th>Minimum Estimated Number of Missing</th>\n",
       "      <th>Total Dead and Missing</th>\n",
       "      <th>Number of Survivors</th>\n",
       "      <th>Number of Females</th>\n",
       "      <th>Number of Males</th>\n",
       "      <th>Number of Children</th>\n",
       "      <th>Cause of Death</th>\n",
       "      <th>Location Description</th>\n",
       "      <th>Information Source</th>\n",
       "      <th>Location Coordinates</th>\n",
       "      <th>Migration Route</th>\n",
       "      <th>URL</th>\n",
       "      <th>UNSD Geographical Grouping</th>\n",
       "      <th>Source Quality</th>\n",
       "    </tr>\n",
       "    <tr>\n",
       "      <th>Reported Month</th>\n",
       "      <th></th>\n",
       "      <th></th>\n",
       "      <th></th>\n",
       "      <th></th>\n",
       "      <th></th>\n",
       "      <th></th>\n",
       "      <th></th>\n",
       "      <th></th>\n",
       "      <th></th>\n",
       "      <th></th>\n",
       "      <th></th>\n",
       "      <th></th>\n",
       "      <th></th>\n",
       "      <th></th>\n",
       "      <th></th>\n",
       "      <th></th>\n",
       "      <th></th>\n",
       "      <th></th>\n",
       "      <th></th>\n",
       "    </tr>\n",
       "  </thead>\n",
       "  <tbody>\n",
       "    <tr>\n",
       "      <th>Feb</th>\n",
       "      <td>51</td>\n",
       "      <td>51</td>\n",
       "      <td>51</td>\n",
       "      <td>51</td>\n",
       "      <td>48</td>\n",
       "      <td>6</td>\n",
       "      <td>51</td>\n",
       "      <td>10</td>\n",
       "      <td>7</td>\n",
       "      <td>31</td>\n",
       "      <td>4</td>\n",
       "      <td>51</td>\n",
       "      <td>51</td>\n",
       "      <td>51</td>\n",
       "      <td>51</td>\n",
       "      <td>14</td>\n",
       "      <td>48</td>\n",
       "      <td>51</td>\n",
       "      <td>51</td>\n",
       "    </tr>\n",
       "    <tr>\n",
       "      <th>Jan</th>\n",
       "      <td>57</td>\n",
       "      <td>57</td>\n",
       "      <td>57</td>\n",
       "      <td>57</td>\n",
       "      <td>52</td>\n",
       "      <td>7</td>\n",
       "      <td>57</td>\n",
       "      <td>14</td>\n",
       "      <td>6</td>\n",
       "      <td>30</td>\n",
       "      <td>5</td>\n",
       "      <td>57</td>\n",
       "      <td>57</td>\n",
       "      <td>57</td>\n",
       "      <td>57</td>\n",
       "      <td>23</td>\n",
       "      <td>54</td>\n",
       "      <td>57</td>\n",
       "      <td>57</td>\n",
       "    </tr>\n",
       "    <tr>\n",
       "      <th>Mar</th>\n",
       "      <td>35</td>\n",
       "      <td>35</td>\n",
       "      <td>35</td>\n",
       "      <td>35</td>\n",
       "      <td>32</td>\n",
       "      <td>7</td>\n",
       "      <td>35</td>\n",
       "      <td>11</td>\n",
       "      <td>8</td>\n",
       "      <td>14</td>\n",
       "      <td>7</td>\n",
       "      <td>35</td>\n",
       "      <td>35</td>\n",
       "      <td>35</td>\n",
       "      <td>35</td>\n",
       "      <td>16</td>\n",
       "      <td>31</td>\n",
       "      <td>35</td>\n",
       "      <td>35</td>\n",
       "    </tr>\n",
       "  </tbody>\n",
       "</table>\n",
       "</div>"
      ],
      "text/plain": [
       "                Web ID  Region of Incident  Reported Date  Reported Year  \\\n",
       "Reported Month                                                             \n",
       "Feb                 51                  51             51             51   \n",
       "Jan                 57                  57             57             57   \n",
       "Mar                 35                  35             35             35   \n",
       "\n",
       "                Number Dead  Minimum Estimated Number of Missing  \\\n",
       "Reported Month                                                     \n",
       "Feb                      48                                    6   \n",
       "Jan                      52                                    7   \n",
       "Mar                      32                                    7   \n",
       "\n",
       "                Total Dead and Missing  Number of Survivors  \\\n",
       "Reported Month                                                \n",
       "Feb                                 51                   10   \n",
       "Jan                                 57                   14   \n",
       "Mar                                 35                   11   \n",
       "\n",
       "                Number of Females  Number of Males  Number of Children  \\\n",
       "Reported Month                                                           \n",
       "Feb                             7               31                   4   \n",
       "Jan                             6               30                   5   \n",
       "Mar                             8               14                   7   \n",
       "\n",
       "                Cause of Death  Location Description  Information Source  \\\n",
       "Reported Month                                                             \n",
       "Feb                         51                    51                  51   \n",
       "Jan                         57                    57                  57   \n",
       "Mar                         35                    35                  35   \n",
       "\n",
       "                Location Coordinates  Migration Route  URL  \\\n",
       "Reported Month                                               \n",
       "Feb                               51               14   48   \n",
       "Jan                               57               23   54   \n",
       "Mar                               35               16   31   \n",
       "\n",
       "                UNSD Geographical Grouping  Source Quality  \n",
       "Reported Month                                              \n",
       "Feb                                     51              51  \n",
       "Jan                                     57              57  \n",
       "Mar                                     35              35  "
      ]
     },
     "execution_count": 10,
     "metadata": {},
     "output_type": "execute_result"
    }
   ],
   "source": [
    "df[df['Reported Year']==2019].groupby('Reported Month').count()"
   ]
  },
  {
   "cell_type": "markdown",
   "id": "671cdcb8",
   "metadata": {},
   "source": [
    "## 6.\tWhat are the top migration routes"
   ]
  },
  {
   "cell_type": "code",
   "execution_count": 18,
   "id": "5c988235",
   "metadata": {
    "ExecuteTime": {
     "end_time": "2021-09-20T06:41:10.930543Z",
     "start_time": "2021-09-20T06:41:10.910341Z"
    }
   },
   "outputs": [
    {
     "data": {
      "text/plain": [
       "Central America to US                        1507\n",
       "Central Mediterranean                         499\n",
       "Western Mediterranean                         255\n",
       "Eastern Mediterranean                         230\n",
       "Western Balkans                                64\n",
       "Calais to United Kingdom                       51\n",
       "Horn Africa to Yemen                           15\n",
       "Western African                                15\n",
       "Italy to France                                 9\n",
       "Darien Gap                                      7\n",
       "Caribbean to Central America                    3\n",
       "Dominican Republic to Puerto Rico               2\n",
       "From Haiti to Dajabon, Dominican Republic       1\n",
       "Venezuela to Curaçao                            1\n",
       "Malaysia to Indonesia                           1\n",
       "Name: Migration Route, dtype: int64"
      ]
     },
     "execution_count": 18,
     "metadata": {},
     "output_type": "execute_result"
    }
   ],
   "source": [
    "df['Migration Route'].value_counts().nlargest(20)"
   ]
  },
  {
   "cell_type": "markdown",
   "id": "c9f8969d",
   "metadata": {},
   "source": [
    "## 7.\tList number of cases reported yearwise and compare them"
   ]
  },
  {
   "cell_type": "code",
   "execution_count": 19,
   "id": "02537d14",
   "metadata": {
    "ExecuteTime": {
     "end_time": "2021-09-20T06:42:58.894006Z",
     "start_time": "2021-09-20T06:42:58.853655Z"
    }
   },
   "outputs": [
    {
     "data": {
      "text/html": [
       "<div>\n",
       "<style scoped>\n",
       "    .dataframe tbody tr th:only-of-type {\n",
       "        vertical-align: middle;\n",
       "    }\n",
       "\n",
       "    .dataframe tbody tr th {\n",
       "        vertical-align: top;\n",
       "    }\n",
       "\n",
       "    .dataframe thead th {\n",
       "        text-align: right;\n",
       "    }\n",
       "</style>\n",
       "<table border=\"1\" class=\"dataframe\">\n",
       "  <thead>\n",
       "    <tr style=\"text-align: right;\">\n",
       "      <th></th>\n",
       "      <th>Web ID</th>\n",
       "      <th>Number Dead</th>\n",
       "      <th>Minimum Estimated Number of Missing</th>\n",
       "      <th>Total Dead and Missing</th>\n",
       "      <th>Number of Survivors</th>\n",
       "      <th>Number of Females</th>\n",
       "      <th>Number of Males</th>\n",
       "      <th>Number of Children</th>\n",
       "      <th>Source Quality</th>\n",
       "    </tr>\n",
       "    <tr>\n",
       "      <th>Reported Year</th>\n",
       "      <th></th>\n",
       "      <th></th>\n",
       "      <th></th>\n",
       "      <th></th>\n",
       "      <th></th>\n",
       "      <th></th>\n",
       "      <th></th>\n",
       "      <th></th>\n",
       "      <th></th>\n",
       "    </tr>\n",
       "  </thead>\n",
       "  <tbody>\n",
       "    <tr>\n",
       "      <th>2014</th>\n",
       "      <td>9662545</td>\n",
       "      <td>1724.0</td>\n",
       "      <td>3563.0</td>\n",
       "      <td>5287</td>\n",
       "      <td>5553.0</td>\n",
       "      <td>54.0</td>\n",
       "      <td>202.0</td>\n",
       "      <td>300.0</td>\n",
       "      <td>821</td>\n",
       "    </tr>\n",
       "    <tr>\n",
       "      <th>2015</th>\n",
       "      <td>32943987</td>\n",
       "      <td>4045.0</td>\n",
       "      <td>2539.0</td>\n",
       "      <td>6584</td>\n",
       "      <td>8115.0</td>\n",
       "      <td>216.0</td>\n",
       "      <td>797.0</td>\n",
       "      <td>291.0</td>\n",
       "      <td>2282</td>\n",
       "    </tr>\n",
       "    <tr>\n",
       "      <th>2016</th>\n",
       "      <td>54925720</td>\n",
       "      <td>4059.0</td>\n",
       "      <td>4011.0</td>\n",
       "      <td>8070</td>\n",
       "      <td>17407.0</td>\n",
       "      <td>282.0</td>\n",
       "      <td>890.0</td>\n",
       "      <td>268.0</td>\n",
       "      <td>3367</td>\n",
       "    </tr>\n",
       "    <tr>\n",
       "      <th>2017</th>\n",
       "      <td>53418072</td>\n",
       "      <td>3734.0</td>\n",
       "      <td>2545.0</td>\n",
       "      <td>6279</td>\n",
       "      <td>6424.0</td>\n",
       "      <td>546.0</td>\n",
       "      <td>1614.0</td>\n",
       "      <td>308.0</td>\n",
       "      <td>4069</td>\n",
       "    </tr>\n",
       "    <tr>\n",
       "      <th>2018</th>\n",
       "      <td>72444192</td>\n",
       "      <td>3032.0</td>\n",
       "      <td>1702.0</td>\n",
       "      <td>4734</td>\n",
       "      <td>9167.0</td>\n",
       "      <td>655.0</td>\n",
       "      <td>1715.0</td>\n",
       "      <td>397.0</td>\n",
       "      <td>4399</td>\n",
       "    </tr>\n",
       "    <tr>\n",
       "      <th>2019</th>\n",
       "      <td>7246459</td>\n",
       "      <td>311.0</td>\n",
       "      <td>287.0</td>\n",
       "      <td>598</td>\n",
       "      <td>976.0</td>\n",
       "      <td>52.0</td>\n",
       "      <td>101.0</td>\n",
       "      <td>31.0</td>\n",
       "      <td>504</td>\n",
       "    </tr>\n",
       "  </tbody>\n",
       "</table>\n",
       "</div>"
      ],
      "text/plain": [
       "                 Web ID  Number Dead  Minimum Estimated Number of Missing  \\\n",
       "Reported Year                                                               \n",
       "2014            9662545       1724.0                               3563.0   \n",
       "2015           32943987       4045.0                               2539.0   \n",
       "2016           54925720       4059.0                               4011.0   \n",
       "2017           53418072       3734.0                               2545.0   \n",
       "2018           72444192       3032.0                               1702.0   \n",
       "2019            7246459        311.0                                287.0   \n",
       "\n",
       "               Total Dead and Missing  Number of Survivors  Number of Females  \\\n",
       "Reported Year                                                                   \n",
       "2014                             5287               5553.0               54.0   \n",
       "2015                             6584               8115.0              216.0   \n",
       "2016                             8070              17407.0              282.0   \n",
       "2017                             6279               6424.0              546.0   \n",
       "2018                             4734               9167.0              655.0   \n",
       "2019                              598                976.0               52.0   \n",
       "\n",
       "               Number of Males  Number of Children  Source Quality  \n",
       "Reported Year                                                       \n",
       "2014                     202.0               300.0             821  \n",
       "2015                     797.0               291.0            2282  \n",
       "2016                     890.0               268.0            3367  \n",
       "2017                    1614.0               308.0            4069  \n",
       "2018                    1715.0               397.0            4399  \n",
       "2019                     101.0                31.0             504  "
      ]
     },
     "execution_count": 19,
     "metadata": {},
     "output_type": "execute_result"
    }
   ],
   "source": [
    "df.groupby('Reported Year').sum()"
   ]
  },
  {
   "cell_type": "code",
   "execution_count": null,
   "id": "8a99ab35",
   "metadata": {},
   "outputs": [],
   "source": []
  }
 ],
 "metadata": {
  "_draft": {
   "nbviewer_url": "https://gist.github.com/54d842f970f43f7a540598b04c81decb"
  },
  "gist": {
   "data": {
    "description": "Grras_DataScience_Trainee/datascience_notes/Analysis/Pandas/Missing_Migrant_EDA.ipynb",
    "public": false
   },
   "id": "54d842f970f43f7a540598b04c81decb"
  },
  "kernelspec": {
   "display_name": "Python 3",
   "language": "python",
   "name": "python3"
  },
  "language_info": {
   "codemirror_mode": {
    "name": "ipython",
    "version": 3
   },
   "file_extension": ".py",
   "mimetype": "text/x-python",
   "name": "python",
   "nbconvert_exporter": "python",
   "pygments_lexer": "ipython3",
   "version": "3.8.8"
  }
 },
 "nbformat": 4,
 "nbformat_minor": 5
}
