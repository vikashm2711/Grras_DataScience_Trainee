{
 "cells": [
  {
   "cell_type": "code",
   "execution_count": 1,
   "id": "c1c527d0",
   "metadata": {
    "ExecuteTime": {
     "end_time": "2021-09-24T15:56:27.409120Z",
     "start_time": "2021-09-24T15:56:27.402117Z"
    }
   },
   "outputs": [],
   "source": [
    "re='AC3fsdf@>!'"
   ]
  },
  {
   "cell_type": "code",
   "execution_count": 2,
   "id": "b8c55c6a",
   "metadata": {
    "ExecuteTime": {
     "end_time": "2021-09-24T15:58:01.742139Z",
     "start_time": "2021-09-24T15:58:01.724137Z"
    }
   },
   "outputs": [],
   "source": [
    "import re"
   ]
  },
  {
   "cell_type": "code",
   "execution_count": null,
   "id": "5dddbce9",
   "metadata": {},
   "outputs": [],
   "source": []
  }
 ],
 "metadata": {
  "kernelspec": {
   "display_name": "Python 3",
   "language": "python",
   "name": "python3"
  },
  "language_info": {
   "codemirror_mode": {
    "name": "ipython",
    "version": 3
   },
   "file_extension": ".py",
   "mimetype": "text/x-python",
   "name": "python",
   "nbconvert_exporter": "python",
   "pygments_lexer": "ipython3",
   "version": "3.8.8"
  }
 },
 "nbformat": 4,
 "nbformat_minor": 5
}
