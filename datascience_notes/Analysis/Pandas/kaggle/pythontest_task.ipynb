{
 "cells": [
  {
   "cell_type": "code",
   "execution_count": 1,
   "id": "c3d9ae30",
   "metadata": {
    "ExecuteTime": {
     "end_time": "2021-10-19T06:38:18.340374Z",
     "start_time": "2021-10-19T06:38:16.654363Z"
    }
   },
   "outputs": [],
   "source": [
    "import pandas as pd\n",
    "import numpy as np"
   ]
  },
  {
   "cell_type": "code",
   "execution_count": 2,
   "id": "4849bec2",
   "metadata": {
    "ExecuteTime": {
     "end_time": "2021-10-19T06:38:20.355907Z",
     "start_time": "2021-10-19T06:38:18.343355Z"
    }
   },
   "outputs": [],
   "source": [
    "df=pd.read_excel(\"Dataset/Python_Mock_Test(1-280).xlsx\",header=[0])"
   ]
  },
  {
   "cell_type": "code",
   "execution_count": 3,
   "id": "b1aa5d51",
   "metadata": {
    "ExecuteTime": {
     "end_time": "2021-10-19T06:38:20.433216Z",
     "start_time": "2021-10-19T06:38:20.360891Z"
    }
   },
   "outputs": [
    {
     "name": "stdout",
     "output_type": "stream",
     "text": [
      "<class 'pandas.core.frame.DataFrame'>\n",
      "RangeIndex: 280 entries, 0 to 279\n",
      "Columns: 112 entries, ID to Feedback - What should be replaced in blank space to get the output as \n",
      "Output:\n",
      "     0\n",
      "     1\n",
      "     2\n",
      "\n",
      "i = 0\n",
      "while i < 5:\n",
      "    print(i)\n",
      "    i += 1\n",
      "    if i == 3:\n",
      "        ________\n",
      "else:\n",
      "    print(0)\n",
      "dtypes: datetime64[ns](2), float64(44), int64(33), object(33)\n",
      "memory usage: 245.1+ KB\n"
     ]
    }
   ],
   "source": [
    "df.info()"
   ]
  },
  {
   "cell_type": "code",
   "execution_count": 4,
   "id": "08ccbc42",
   "metadata": {
    "ExecuteTime": {
     "end_time": "2021-10-19T06:38:20.698277Z",
     "start_time": "2021-10-19T06:38:20.441214Z"
    }
   },
   "outputs": [
    {
     "data": {
      "text/html": [
       "<div>\n",
       "<style scoped>\n",
       "    .dataframe tbody tr th:only-of-type {\n",
       "        vertical-align: middle;\n",
       "    }\n",
       "\n",
       "    .dataframe tbody tr th {\n",
       "        vertical-align: top;\n",
       "    }\n",
       "\n",
       "    .dataframe thead th {\n",
       "        text-align: right;\n",
       "    }\n",
       "</style>\n",
       "<table border=\"1\" class=\"dataframe\">\n",
       "  <thead>\n",
       "    <tr style=\"text-align: right;\">\n",
       "      <th></th>\n",
       "      <th>ID</th>\n",
       "      <th>Start time</th>\n",
       "      <th>Completion time</th>\n",
       "      <th>Email</th>\n",
       "      <th>Name</th>\n",
       "      <th>Total points</th>\n",
       "      <th>Quiz feedback</th>\n",
       "      <th>Please fill your full name?</th>\n",
       "      <th>Points - Please fill your full name?</th>\n",
       "      <th>Feedback - Please fill your full name?</th>\n",
       "      <th>...</th>\n",
       "      <th>Feedback -  What should be replace in blank space to get output as 33?\\n\\nnames1 = ['Amir', 'Bear', 'Charlton', 'Daman']\\nnames2 = names1\\nnames3 = names1\\n\\nnames2[0] = 'Alice'\\nnames3[1] = 'Bob'\\n\\nsum = 0\\nfor ls i...</th>\n",
       "      <th>Which should we write to get the output as NEWYORK or to access NEWYORK?\\n\\ndata = {1: {\\n        \"id\" : 390669115,\\n        \"name\" : \"ProgramState\",\\n        \"dataTypeName\" : \"text\",\\n        \"descript...</th>\n",
       "      <th>Points - Which should we write to get the output as NEWYORK or to access NEWYORK?\\n\\ndata = {1: {\\n        \"id\" : 390669115,\\n        \"name\" : \"ProgramState\",\\n        \"dataTypeName\" : \"text\",\\n        \"descript...</th>\n",
       "      <th>Feedback - Which should we write to get the output as NEWYORK or to access NEWYORK?\\n\\ndata = {1: {\\n        \"id\" : 390669115,\\n        \"name\" : \"ProgramState\",\\n        \"dataTypeName\" : \"text\",\\n        \"descript...</th>\n",
       "      <th>What should be replaced in line 5 blank space to get the output as 1?\\n\\n1. myList = [1, 5, 5, 5, 5, 1]\\n2. max = myList[0]\\n3. indexOfMax = 0\\n4. for i in range(1, len(myList)):\\n5.     if myList[i] __...</th>\n",
       "      <th>Points - What should be replaced in line 5 blank space to get the output as 1?\\n\\n1. myList = [1, 5, 5, 5, 5, 1]\\n2. max = myList[0]\\n3. indexOfMax = 0\\n4. for i in range(1, len(myList)):\\n5.     if myList[i] __...</th>\n",
       "      <th>Feedback - What should be replaced in line 5 blank space to get the output as 1?\\n\\n1. myList = [1, 5, 5, 5, 5, 1]\\n2. max = myList[0]\\n3. indexOfMax = 0\\n4. for i in range(1, len(myList)):\\n5.     if myList[i] __...</th>\n",
       "      <th>What should be replaced in blank space to get the output as \\nOutput:\\n     0\\n     1\\n     2\\n\\ni = 0\\nwhile i &lt; 5:\\n    print(i)\\n    i += 1\\n    if i == 3:\\n        ________\\nelse:\\n    print(0)</th>\n",
       "      <th>Points - What should be replaced in blank space to get the output as \\nOutput:\\n     0\\n     1\\n     2\\n\\ni = 0\\nwhile i &lt; 5:\\n    print(i)\\n    i += 1\\n    if i == 3:\\n        ________\\nelse:\\n    print(0)</th>\n",
       "      <th>Feedback - What should be replaced in blank space to get the output as \\nOutput:\\n     0\\n     1\\n     2\\n\\ni = 0\\nwhile i &lt; 5:\\n    print(i)\\n    i += 1\\n    if i == 3:\\n        ________\\nelse:\\n    print(0)</th>\n",
       "    </tr>\n",
       "  </thead>\n",
       "  <tbody>\n",
       "    <tr>\n",
       "      <th>0</th>\n",
       "      <td>1</td>\n",
       "      <td>2021-07-02 21:51:56</td>\n",
       "      <td>2021-07-02 21:52:13</td>\n",
       "      <td>anonymous</td>\n",
       "      <td>NaN</td>\n",
       "      <td>1</td>\n",
       "      <td>NaN</td>\n",
       "      <td>NaN</td>\n",
       "      <td>NaN</td>\n",
       "      <td>NaN</td>\n",
       "      <td>...</td>\n",
       "      <td>NaN</td>\n",
       "      <td>NaN</td>\n",
       "      <td>0</td>\n",
       "      <td>NaN</td>\n",
       "      <td>NaN</td>\n",
       "      <td>0</td>\n",
       "      <td>NaN</td>\n",
       "      <td>NaN</td>\n",
       "      <td>0</td>\n",
       "      <td>NaN</td>\n",
       "    </tr>\n",
       "    <tr>\n",
       "      <th>1</th>\n",
       "      <td>2</td>\n",
       "      <td>2021-07-03 14:13:47</td>\n",
       "      <td>2021-07-03 14:18:16</td>\n",
       "      <td>anonymous</td>\n",
       "      <td>NaN</td>\n",
       "      <td>9</td>\n",
       "      <td>NaN</td>\n",
       "      <td>Vishal thakur</td>\n",
       "      <td>NaN</td>\n",
       "      <td>NaN</td>\n",
       "      <td>...</td>\n",
       "      <td>NaN</td>\n",
       "      <td>New York</td>\n",
       "      <td>0</td>\n",
       "      <td>NaN</td>\n",
       "      <td>0</td>\n",
       "      <td>0</td>\n",
       "      <td>NaN</td>\n",
       "      <td>0</td>\n",
       "      <td>0</td>\n",
       "      <td>NaN</td>\n",
       "    </tr>\n",
       "    <tr>\n",
       "      <th>2</th>\n",
       "      <td>3</td>\n",
       "      <td>2021-07-03 14:18:11</td>\n",
       "      <td>2021-07-03 14:23:05</td>\n",
       "      <td>anonymous</td>\n",
       "      <td>NaN</td>\n",
       "      <td>14</td>\n",
       "      <td>NaN</td>\n",
       "      <td>Nikita prajapati</td>\n",
       "      <td>NaN</td>\n",
       "      <td>NaN</td>\n",
       "      <td>...</td>\n",
       "      <td>NaN</td>\n",
       "      <td>NaN</td>\n",
       "      <td>0</td>\n",
       "      <td>NaN</td>\n",
       "      <td>NaN</td>\n",
       "      <td>0</td>\n",
       "      <td>NaN</td>\n",
       "      <td>NaN</td>\n",
       "      <td>0</td>\n",
       "      <td>NaN</td>\n",
       "    </tr>\n",
       "    <tr>\n",
       "      <th>3</th>\n",
       "      <td>4</td>\n",
       "      <td>2021-07-03 14:19:02</td>\n",
       "      <td>2021-07-03 14:23:40</td>\n",
       "      <td>anonymous</td>\n",
       "      <td>NaN</td>\n",
       "      <td>14</td>\n",
       "      <td>NaN</td>\n",
       "      <td>ansh</td>\n",
       "      <td>NaN</td>\n",
       "      <td>NaN</td>\n",
       "      <td>...</td>\n",
       "      <td>NaN</td>\n",
       "      <td>8</td>\n",
       "      <td>0</td>\n",
       "      <td>NaN</td>\n",
       "      <td>8</td>\n",
       "      <td>0</td>\n",
       "      <td>NaN</td>\n",
       "      <td>7</td>\n",
       "      <td>0</td>\n",
       "      <td>NaN</td>\n",
       "    </tr>\n",
       "    <tr>\n",
       "      <th>4</th>\n",
       "      <td>5</td>\n",
       "      <td>2021-07-03 14:14:44</td>\n",
       "      <td>2021-07-03 14:26:08</td>\n",
       "      <td>anonymous</td>\n",
       "      <td>NaN"
      ],
      "text/plain": [
       "      ID          Start time     Completion time      Email  Name  \\\n",
       "0      1 2021-07-02 21:51:56 2021-07-02 21:52:13  anonymous   NaN   \n",
       "1      2 2021-07-03 14:13:47 2021-07-03 14:18:16  anonymous   NaN   \n",
       "2      3 2021-07-03 14:18:11 2021-07-03 14:23:05  anonymous   NaN   \n",
       "3      4 2021-07-03 14:19:02 2021-07-03 14:23:40  anonymous   NaN   \n",
       "4      5 2021-07-03 14:14:44 2021-07-03 14:26:08  anonymous   NaN   \n",
       "..   ...                 ...                 ...        ...   ...   \n",
       "275  276 2021-07-03 17:12:25 2021-07-03 17:14:54  anonymous   NaN   \n",
       "276  277 2021-07-03 16:20:43 2021-07-03 17:17:03  anonymous   NaN   \n",
       "277  278 2021-07-03 16:49:17 2021-07-03 17:19:23  anonymous   NaN   \n",
       "278  279 2021-07-03 17:15:25 2021-07-03 17:30:20  anonymous   NaN   \n",
       "279  280 2021-07-03 17:05:35 2021-07-03 17:35:47  anonymous   NaN   \n",
       "\n",
       "     Total points  Quiz feedback Please fill your full name?  \\\n",
       "0               1            NaN                         NaN   \n",
       "1               9            NaN               Vishal thakur   \n",
       "2              14            NaN            Nikita prajapati   \n",
       "3              14            NaN                        ansh   \n",
       "4               9            NaN              Krishna garare   \n",
       "..            ...            ...                         ...   \n",
       "275            57            NaN                Komal  patil   \n",
       "276            32            NaN                Ruchita Rani   \n",
       "277            45            NaN             Utkarsh Goswami   \n",
       "278            51            NaN                Rahul Sagar    \n",
       "279            19            NaN                  Salma Bano   \n",
       "\n",
       "     Points - Please fill your full name?  \\\n",
       "0                                     NaN   \n",
       "1                                     NaN   \n",
       "2                                     NaN   \n",
       "3                                     NaN   \n",
       "4                                     NaN   \n",
       "..                                    ...   \n",
       "275                                   NaN   \n",
       "276                                   NaN   \n",
       "277                                   NaN   \n",
       "278                                   NaN   \n",
       "279                                   NaN   \n",
       "\n",
       "     Feedback - Please fill your full name?  ...  \\\n",
       "0                                       NaN  ...   \n",
       "1                                       NaN  ...   \n",
       "2                                       NaN  ...   \n",
       "3                                       NaN  ...   \n",
       "4                                       NaN  ...   \n",
       "..                                      ...  ...   \n",
       "275                                     NaN  ...   \n",
       "276                                     NaN  ...   \n",
       "277                                     NaN  ...   \n",
       "278                                     NaN  ...   \n",
       "279                                     NaN  ...   \n",
       "\n",
       "    Feedback -  What should be replace in blank space to get output as 33?\\n\\nnames1 = ['Amir', 'Bear', 'Charlton', 'Daman']\\nnames2 = names1\\nnames3 = names1\\n\\nnames2[0] = 'Alice'\\nnames3[1] = 'Bob'\\n\\nsum = 0\\nfor ls i...  \\\n",
       "0                                                  NaN                                                                                                                                                                             \n",
       "1                                                  NaN                                                                                                                                                                             \n",
       "2                                                  NaN                                                                                                                                                                             \n",
       "3                                                  NaN                                                                                                                                                                             \n",
       "4                                                  NaN                                                                                                                                                                             \n",
       "..                                                 ...                                                                                                                                                                             \n",
       "275                                                NaN                                                                                                                                                                             \n",
       "276                                                NaN                                                                                                                                                                             \n",
       "277                                                NaN                                                                                                                                  "
      ]
     },
     "execution_count": 4,
     "metadata": {},
     "output_type": "execute_result"
    },
    {
     "data": {
      "text/html": [
       "<b>limit_output extension: Maximum message size of 5000 exceeded with 29030 characters</b>"
      ]
     },
     "metadata": {},
     "output_type": "display_data"
    }
   ],
   "source": [
    "df"
   ]
  },
  {
   "cell_type": "code",
   "execution_count": 5,
   "id": "5a86088d",
   "metadata": {
    "ExecuteTime": {
     "end_time": "2021-10-19T06:38:20.713270Z",
     "start_time": "2021-10-19T06:38:20.703272Z"
    }
   },
   "outputs": [],
   "source": [
    "l=df.columns"
   ]
  },
  {
   "cell_type": "code",
   "execution_count": 6,
   "id": "0d3ec580",
   "metadata": {
    "ExecuteTime": {
     "end_time": "2021-10-19T06:38:20.760270Z",
     "start_time": "2021-10-19T06:38:20.717269Z"
    }
   },
   "outputs": [],
   "source": [
    "col_=[]\n",
    "for i in range(len(l)):\n",
    "    if \"Points - \" in l[i]:\n",
    "        pass\n",
    "    elif \"Feedback - \" in l[i]:\n",
    "        pass\n",
    "    else:\n",
    "        col_.append(l[i])"
   ]
  },
  {
   "cell_type": "code",
   "execution_count": 7,
   "id": "2608e58d",
   "metadata": {
    "ExecuteTime": {
     "end_time": "2021-10-19T06:38:20.808270Z",
     "start_time": "2021-10-19T06:38:20.762270Z"
    }
   },
   "outputs": [],
   "source": [
    "df=df[col_]"
   ]
  },
  {
   "cell_type": "code",
   "execution_count": 8,
   "id": "a68d7aaf",
   "metadata": {
    "ExecuteTime": {
     "end_time": "2021-10-19T06:38:20.840274Z",
     "start_time": "2021-10-19T06:38:20.811271Z"
    }
   },
   "outputs": [
    {
     "data": {
      "text/plain": [
       "42"
      ]
     },
     "execution_count": 8,
     "metadata": {},
     "output_type": "execute_result"
    }
   ],
   "source": [
    "len(df.columns)"
   ]
  },
  {
   "cell_type": "code",
   "execution_count": 9,
   "id": "3a24132a",
   "metadata": {
    "ExecuteTime": {
     "end_time": "2021-10-19T06:38:20.950359Z",
     "start_time": "2021-10-19T06:38:20.846270Z"
    }
   },
   "outputs": [
    {
     "data": {
      "text/html": [
       "<div>\n",
       "<style scoped>\n",
       "    .dataframe tbody tr th:only-of-type {\n",
       "        vertical-align: middle;\n",
       "    }\n",
       "\n",
       "    .dataframe tbody tr th {\n",
       "        vertical-align: top;\n",
       "    }\n",
       "\n",
       "    .dataframe thead th {\n",
       "        text-align: right;\n",
       "    }\n",
       "</style>\n",
       "<table border=\"1\" class=\"dataframe\">\n",
       "  <thead>\n",
       "    <tr style=\"text-align: right;\">\n",
       "      <th></th>\n",
       "      <th>ID</th>\n",
       "      <th>Start time</th>\n",
       "      <th>Completion time</th>\n",
       "      <th>Email</th>\n",
       "      <th>Name</th>\n",
       "      <th>Total points</th>\n",
       "      <th>Quiz feedback</th>\n",
       "      <th>Please fill your full name?</th>\n",
       "      <th>Please fill your email?</th>\n",
       "      <th>Please choose your batch?</th>\n",
       "      <th>...</th>\n",
       "      <th>In how many lines there is logical error to get the output as SQUARE?\\n\\nimport turtle\\nt=turtle.Pen()\\nfor i in range(1,4):\\n\\tt.forward(60)\\n\\tt.left(45)</th>\n",
       "      <th>What will be the output of the following Python code?\\n\\nimport turtle\\nt=turtle.Pen()\\nfor i in range(0,4):\\n\\tt.forward(100)\\n\\tt.left(90)\\n \\nt.up()  \\nt.left(90)\\nt.forward(200)\\nfor i in range(0,4):\\n\\tt.fo...</th>\n",
       "      <th>What should be replaced in blank line given as argument to left to get the output as STAR?\\n\\nimport turtle\\nt=turtle.Pen()\\nfor i in range(0,5):\\n        t.left(_________)\\n        t.forward(100)</th>\n",
       "      <th>Which of the following is Exit control loop in python ?</th>\n",
       "      <th>We have a string\\n\"****************************   hello world            **********************\"\\nWe need output of the string as \\n\"world\"\\nWhich set of operations/functions we need to apply on strin...</th>\n",
       "      <th>What should be the value of a so that the output becomes as follows:\\n\\na = ?\\nprint(a)\\n\\noutput:\\n(\"CheckCheckCheck\")</th>\n",
       "      <th>What should be replace in blank space to get output as 33?\\n\\nnames1 = ['Amir', 'Bear', 'Charlton', 'Daman']\\nnames2 = names1\\nnames3 = names1\\n\\nnames2[0] = 'Alice'\\nnames3[1] = 'Bob'\\n\\nsum = 0\\nfor ls i...</th>\n",
       "      <th>Which should we write to get the output as NEWYORK or to access NEWYORK?\\n\\ndata = {1: {\\n        \"id\" : 390669115,\\n        \"name\" : \"ProgramState\",\\n        \"dataTypeName\" : \"text\",\\n        \"descript...</th>\n",
       "      <th>What should be replaced in line 5 blank space to get the output as 1?\\n\\n1. myList = [1, 5, 5, 5, 5, 1]\\n2. max = myList[0]\\n3. indexOfMax = 0\\n4. for i in range(1, len(myList)):\\n5.     if myList[i] __...</th>\n",
       "      <th>What should be replaced in blank space to get the output as \\nOutput:\\n     0\\n     1\\n     2\\n\\ni = 0\\nwhile i &lt; 5:\\n    print(i)\\n    i += 1\\n    if i == 3:\\n        ________\\nelse:\\n    print(0)</th>\n",
       "    </tr>\n",
       "  </thead>\n",
       "  <tbody>\n",
       "    <tr>\n",
       "      <th>0</th>\n",
       "      <td>1</td>\n",
       "      <td>2021-07-02 21:51:56</td>\n",
       "      <td>2021-07-02 21:52:13</td>\n",
       "      <td>anonymous</td>\n",
       "      <td>NaN</td>\n",
       "      <td>1</td>\n",
       "      <td>NaN</td>\n",
       "      <td>NaN</td>\n",
       "      <td>NaN</td>\n",
       "      <td>NaN</td>\n",
       "      <td>...</td>\n",
       "      <td>NaN</td>\n",
       "      <td>NaN</td>\n",
       "      <td>NaN</td>\n",
       "      <td>NaN</td>\n",
       "      <td>NaN</td>\n",
       "      <td>NaN</td>\n",
       "      <td>NaN</td>\n",
       "      <td>NaN</td>\n",
       "      <td>NaN</td>\n",
       "      <td>NaN</td>\n",
       "    </tr>\n",
       "    <tr>\n",
       "      <th>1</th>\n",
       "      <td>2</td>\n",
       "      <td>2021-07-03 14:13:47</td>\n",
       "      <td>2021-07-03 14:18:16</td>\n",
       "      <td>anonymous</td>\n",
       "      <td>NaN</td>\n",
       "      <td>9</td>\n",
       "      <td>NaN</td>\n",
       "      <td>Vishal thakur</td>\n",
       "      <td>vishalthakur850900@gmail.com</td>\n",
       "      <td>Batch 2</td>\n",
       "      <td>...</td>\n",
       "      <td>1</td>\n",
       "      <td>1 Square</td>\n",
       "      <td>0</td>\n",
       "      <td>While</td>\n",
       "      <td>strip strip split indexing</td>\n",
       "      <td>* is not supported in tuple</td>\n",
       "      <td>elif else</td>\n",
       "      <td>New York</td>\n",
       "      <td>0</td>\n",
       "      <td>0</td>\n",
       "    </tr>\n",
       "    <tr>\n",
       "      <th>2</th>\n",
       "      <td>3</td>\n",
       "      <td>2021-07-03 14:18:11</td>\n",
       "      <td>2021-07-03 14:23:05</td>\n",
       "      <td>anonymous</td>\n",
       "      <td>NaN</td>\n",
       "      <td>14</td>\n",
       "      <td>NaN</td>\n",
       "      <td>Nikita prajapati</td>\n",
       "      <td>Nikitap8912@gmail.com</td>\n",
       "      <td>Batch 2</td>\n",
       "      <td>...</td>\n",
       "      <td>3</td>\n",
       "      <td>2 squares, at a separation of100 units, joined...</td>\n",
       "      <td>(200)</td>\n",
       "      <td>While</td>\n",
       "      <td>split strip strip slicing</td>\n",
       "      <td>Tuple is immutable</td>\n",
       "      <td>elif else</td>\n",
       "      <td>NaN</td>\n",
       "      <td>NaN</td>\n",
       "      <td>NaN</td>\n",
       "    </tr>\n",
       "    <tr>\n",
       "      <th>3</th>\n",
       "      <td>4</td>\n",
       "      <td>2021-07-03 14:19:02</td>\n",
       "      <td>2021-07-03 14:23:40</td>\n",
       "      <td>anonymous</td>\n",
       "      <td>NaN</td>\n",
       "      <td>14</td>\n",
       "      <td>NaN</td>\n",
       "      <td>ansh</td>\n",
       "      <td>ansh00@gmail.com</td>\n",
       "      <td>Batch 2</td>\n",
       "      <td>...</td>\n",
       "      <td>3</td>\n",
       "      <td>1 Square</td>\n",
       "      <td>hn</td>\n",
       "      <td>None of the above</td>\n",
       "      <td>strip strip split indexing</td>\n",
       "      <td>Tuple is immutable</td>\n",
       "      <td>if else</td>\n",
       "      <td>8</td>\n",
       "      <td>8</td>\n",
       "      <td>7</td>\n",
       "    </tr>\n",
       "    <tr>\n",
       "      <th>4</th>\n",
       "      <td>5</td>\n",
       "      <td>2021-07-03 14:14:44</td>\n",
       "      <td>2021-07-03 14:26:08</td>\n",
       "      <td>anonymous</td>\n",
       "      <td>NaN</td>\n",
       "      <td>9</td>\n",
       "      <td>NaN</td>\n",
       "      <td>Krishna garare</td>\n",
       "      <"
      ],
      "text/plain": [
       "      ID          Start time     Completion time      Email  Name  \\\n",
       "0      1 2021-07-02 21:51:56 2021-07-02 21:52:13  anonymous   NaN   \n",
       "1      2 2021-07-03 14:13:47 2021-07-03 14:18:16  anonymous   NaN   \n",
       "2      3 2021-07-03 14:18:11 2021-07-03 14:23:05  anonymous   NaN   \n",
       "3      4 2021-07-03 14:19:02 2021-07-03 14:23:40  anonymous   NaN   \n",
       "4      5 2021-07-03 14:14:44 2021-07-03 14:26:08  anonymous   NaN   \n",
       "..   ...                 ...                 ...        ...   ...   \n",
       "275  276 2021-07-03 17:12:25 2021-07-03 17:14:54  anonymous   NaN   \n",
       "276  277 2021-07-03 16:20:43 2021-07-03 17:17:03  anonymous   NaN   \n",
       "277  278 2021-07-03 16:49:17 2021-07-03 17:19:23  anonymous   NaN   \n",
       "278  279 2021-07-03 17:15:25 2021-07-03 17:30:20  anonymous   NaN   \n",
       "279  280 2021-07-03 17:05:35 2021-07-03 17:35:47  anonymous   NaN   \n",
       "\n",
       "     Total points  Quiz feedback Please fill your full name?  \\\n",
       "0               1            NaN                         NaN   \n",
       "1               9            NaN               Vishal thakur   \n",
       "2              14            NaN            Nikita prajapati   \n",
       "3              14            NaN                        ansh   \n",
       "4               9            NaN              Krishna garare   \n",
       "..            ...            ...                         ...   \n",
       "275            57            NaN                Komal  patil   \n",
       "276            32            NaN                Ruchita Rani   \n",
       "277            45            NaN             Utkarsh Goswami   \n",
       "278            51            NaN                Rahul Sagar    \n",
       "279            19            NaN                  Salma Bano   \n",
       "\n",
       "           Please fill your email? Please choose your batch?  ...  \\\n",
       "0                              NaN                       NaN  ...   \n",
       "1     vishalthakur850900@gmail.com                   Batch 2  ...   \n",
       "2            Nikitap8912@gmail.com                   Batch 2  ...   \n",
       "3                 ansh00@gmail.com                   Batch 2  ...   \n",
       "4       krishnagararekkg@gmail.com                   Batch 3  ...   \n",
       "..                             ...                       ...  ...   \n",
       "275       Patilkommu8383@gmail.com                   Batch 1  ...   \n",
       "276        ruchitarani14@gmail.com                   Batch 3  ...   \n",
       "277  voraciousutkarsh536@gmail.com                   Batch 3  ...   \n",
       "278        rahul47sagar@gmail.com                    Batch 1  ...   \n",
       "279        salmabano0108@gmail.com                   Batch 1  ...   \n",
       "\n",
       "    In how many lines there is logical error to get the output as SQUARE?\\n\\nimport turtle\\nt=turtle.Pen()\\nfor i in range(1,4):\\n\\tt.forward(60)\\n\\tt.left(45)  \\\n",
       "0                                                  NaN                                                                                                            \n",
       "1                                                    1                                                                                                            \n",
       "2                                                    3                                                                                                            \n",
       "3                                                    3                                                                                                            \n",
       "4                                                    1                                                                                                            \n",
       "..                                                 ...                                                                                                            \n",
       "275                                                  2                                                                                                            \n",
       "276                                                  2                                                                                                            \n",
       "277                                               None                                                                                                            \n",
       "278                                                  2                                                                                                            \n",
       "279                                                  2                                                                                                            \n",
       "\n",
       "    What will be the output of the following Python code?\\n\\nimport turtle\\nt=turtle.Pen()\\nfor i in range(0,4):\\n\\tt.forward(100)\\n\\tt.left(90)\\n \\nt.up()  \\nt.left(90)\\nt.forward(200)\\nfor i in range(0,4):\\n\\tt.fo...  \\\n",
       "0                                                  NaN                                                                                                                                                                       \n",
       "1                                             1 Square                                                                                                                      "
      ]
     },
     "execution_count": 9,
     "metadata": {},
     "output_type": "execute_result"
    },
    {
     "data": {
      "text/html": [
       "<b>limit_output extension: Maximum message size of 5000 exceeded with 24528 characters</b>"
      ]
     },
     "metadata": {},
     "output_type": "display_data"
    }
   ],
   "source": [
    "df"
   ]
  },
  {
   "cell_type": "code",
   "execution_count": 10,
   "id": "51d2c800",
   "metadata": {
    "ExecuteTime": {
     "end_time": "2021-10-19T06:38:20.965352Z",
     "start_time": "2021-10-19T06:38:20.956353Z"
    }
   },
   "outputs": [
    {
     "data": {
      "text/plain": [
       "42"
      ]
     },
     "execution_count": 10,
     "metadata": {},
     "output_type": "execute_result"
    }
   ],
   "source": [
    "len(df.columns)"
   ]
  },
  {
   "cell_type": "code",
   "execution_count": 11,
   "id": "80ad78a1",
   "metadata": {
    "ExecuteTime": {
     "end_time": "2021-10-19T06:38:21.011879Z",
     "start_time": "2021-10-19T06:38:20.970877Z"
    }
   },
   "outputs": [],
   "source": [
    "ans=df.columns[11:].to_frame()"
   ]
  },
  {
   "cell_type": "code",
   "execution_count": 12,
   "id": "c675443e",
   "metadata": {
    "ExecuteTime": {
     "end_time": "2021-10-19T06:38:21.814434Z",
     "start_time": "2021-10-19T06:38:21.014875Z"
    }
   },
   "outputs": [],
   "source": [
    "c=pd.read_excel(\"Dataset/Python_Mock_Test(1-280).xlsx\",header=[0])"
   ]
  },
  {
   "cell_type": "code",
   "execution_count": 13,
   "id": "c3ba45d9",
   "metadata": {
    "ExecuteTime": {
     "end_time": "2021-10-19T06:38:21.830438Z",
     "start_time": "2021-10-19T06:38:21.820440Z"
    }
   },
   "outputs": [],
   "source": [
    "l=c.columns"
   ]
  },
  {
   "cell_type": "code",
   "execution_count": 14,
   "id": "f85718e5",
   "metadata": {
    "ExecuteTime": {
     "end_time": "2021-10-19T06:38:21.876445Z",
     "start_time": "2021-10-19T06:38:21.835438Z"
    }
   },
   "outputs": [],
   "source": [
    "col_2=[]\n",
    "for i in range(len(l)):\n",
    "    if \"Points - \" in l[i]:\n",
    "        col_2.append(l[i])"
   ]
  },
  {
   "cell_type": "code",
   "execution_count": 15,
   "id": "0f3eb12d",
   "metadata": {
    "ExecuteTime": {
     "end_time": "2021-10-19T06:38:21.924434Z",
     "start_time": "2021-10-19T06:38:21.879438Z"
    }
   },
   "outputs": [],
   "source": [
    "col_2=col_2[4:]"
   ]
  },
  {
   "cell_type": "code",
   "execution_count": 16,
   "id": "2bdae91f",
   "metadata": {
    "ExecuteTime": {
     "end_time": "2021-10-19T06:38:21.986436Z",
     "start_time": "2021-10-19T06:38:21.929438Z"
    }
   },
   "outputs": [
    {
     "data": {
      "text/plain": [
       "Points - Which data type among the following is immutable                                                                                                                                                                          1.0\n",
       "Points - Python is which type of language                                                                                                                                                                                          1.0\n",
       "Points - What is Maximum possible length of identifier                                                                                                                                                                             1.0\n",
       "Points - In which year was the Python language developed?                                                                                                                                                                          1.0\n",
       "Points - Which is the correct extension of python file                                                                                                                                                                             1.0\n",
       "Points - What do we use to define a block of code in Python language?                                                                                                                                                              1.0\n",
       "Points - Which of the following declaration is incorrect                                                                                                                                                                           1.0\n",
       "Points - Which of the following is incorrect                                                                                                                                                                                       1.0\n",
       "Points - What will be the output of this code?\\na = 10\\nb = 20\\nc = 2\\nwhile a<b:\\n    c += 2\\n    a += 2\\nprint(c)                                                                                                                2.0\n",
       "Points - What will be the output of the code?\\ni = 1\\nwhile True:\\n    if i%3 == 0:\\n        break\\n    print(i)\\n \\n    i + = 1                                                                                                   2.0\n",
       "Points - What will be the output of the code?\\nl = [10, 12, 'hello', 'bye', 34, 56]\\nfor i in l:\\n    if len(str(i))%2 == 0:\\n        break\\n    print(len(i))                                                                     2.0\n",
       "Points - What will be the output of the following?\\n1 + 2 + 3/6 * 10 // 9                                                                                                                                                          2.0\n",
       "Points - What should be filled in the line 5 so output become 3?\\n\\n1. str1=\"hello\"\\n2. c=0\\n3. for x in str1:\\n4.    if(x!=\"l\"):\\n5.        _______\\n6.    else:\\n7.        pass\\n8. print(c)                                     2.0\n",
       "Points - str1=\"learn python\"\\n\\nstr2=\"\"\\n\\nstr3=\"\"\\n\\nfor x in str1:\\n\\n    if(x==\"r\" or x==\"n\" or x==\"p\"):\\n\\n        str2+=x\\n\\n    if(x==\"r\" or x==\"e\" or x==\"a\"):\\n\\n        str3+=x\\n\\nprint(str2,end=\", \")\\nprint(str3)      2.0\n",
       "Points - Which of the following is a valid for loop in Python?                                                                                                                                                                     2.0\n",
       "Points - A while loop in Python is used for what type of iteration?                                                                                                                                                                2.0\n",
       "Points - Which of the option below is correct?                                                                                                                                                                                     1.0\n",
       "Points - How many time this loop will run?\\nfor i in range(-3):\\n    pass                                                                                                                                                          2.0\n",
       "Points - What is the output of this code?\\n\\ni = 0\\nfor i in range(1, 10):\\n    pass\\nprint(i)                                                                                                                                     2.0\n",
       "Points - Which of the following is considered as infinite loop?                                                                                                                                                                    2.0\n",
       "Points - What will be the number of lines drawn in each case, assuming that the turtle module has been imported:\\npen = turtle.Pen()\\nCase 1:\\nfor i in range(0,10):\\n\\tpen.forward(100)\\n\\tpen.left(90)\\n\\nCase 2:\\nfo...         2.0\n",
       "Points - In how many lines there is logical error to get the output as SQUARE?\\n\\nimport turtle\\nt=turtle.Pen()\\nfor i in range(1,4):\\n\\tt.forward(60"
      ]
     },
     "execution_count": 16,
     "metadata": {},
     "output_type": "execute_result"
    },
    {
     "data": {
      "text/html": [
       "<b>limit_output extension: Maximum message size of 5000 exceeded with 7175 characters</b>"
      ]
     },
     "metadata": {},
     "output_type": "display_data"
    }
   ],
   "source": [
    "c[col_2].max()"
   ]
  },
  {
   "cell_type": "code",
   "execution_count": 17,
   "id": "27d542ba",
   "metadata": {
    "ExecuteTime": {
     "end_time": "2021-10-19T06:38:22.611435Z",
     "start_time": "2021-10-19T06:38:21.991438Z"
    }
   },
   "outputs": [
    {
     "ename": "NameError",
     "evalue": "name 'x' is not defined",
     "output_type": "error",
     "traceback": [
      "\u001b[1;31m---------------------------------------------------------------------------\u001b[0m",
      "\u001b[1;31mNameError\u001b[0m                                 Traceback (most recent call last)",
      "\u001b[1;32m<ipython-input-17-1432ca9efd21>\u001b[0m in \u001b[0;36m<module>\u001b[1;34m\u001b[0m\n\u001b[0;32m      1\u001b[0m \u001b[0mmax_\u001b[0m\u001b[1;33m=\u001b[0m\u001b[1;33m[\u001b[0m\u001b[1;33m]\u001b[0m\u001b[1;33m\u001b[0m\u001b[1;33m\u001b[0m\u001b[0m\n\u001b[1;32m----> 2\u001b[1;33m \u001b[1;32mfor\u001b[0m \u001b[0mi\u001b[0m \u001b[1;32min\u001b[0m \u001b[0mrange\u001b[0m\u001b[1;33m(\u001b[0m\u001b[1;36m0\u001b[0m\u001b[1;33m,\u001b[0m \u001b[0mlen\u001b[0m\u001b[1;33m(\u001b[0m\u001b[0mx\u001b[0m\u001b[1;33m)\u001b[0m\u001b[1;33m)\u001b[0m\u001b[1;33m:\u001b[0m\u001b[1;33m\u001b[0m\u001b[1;33m\u001b[0m\u001b[0m\n\u001b[0m\u001b[0;32m      3\u001b[0m     \u001b[0mmax_\u001b[0m\u001b[1;33m.\u001b[0m\u001b[0mappend\u001b[0m\u001b[1;33m(\u001b[0m\u001b[0mx\u001b[0m\u001b[1;33m.\u001b[0m\u001b[0miloc\u001b[0m\u001b[1;33m[\u001b[0m\u001b[0mi\u001b[0m\u001b[1;33m]\u001b[0m\u001b[1;33m)\u001b[0m\u001b[1;33m\u001b[0m\u001b[1;33m\u001b[0m\u001b[0m\n",
      "\u001b[1;31mNameError\u001b[0m: name 'x' is not defined"
     ]
    }
   ],
   "source": [
    "max_=[]\n",
    "for i in range(0, len(x)):\n",
    "    max_.append(x.iloc[i])"
   ]
  },
  {
   "cell_type": "code",
   "execution_count": null,
   "id": "eb0abd03",
   "metadata": {
    "ExecuteTime": {
     "end_time": "2021-10-19T06:38:22.617439Z",
     "start_time": "2021-10-19T06:38:16.705Z"
    }
   },
   "outputs": [],
   "source": [
    "max_"
   ]
  },
  {
   "cell_type": "code",
   "execution_count": null,
   "id": "0feb7843",
   "metadata": {
    "ExecuteTime": {
     "end_time": "2021-10-19T06:38:22.620438Z",
     "start_time": "2021-10-19T06:38:16.710Z"
    }
   },
   "outputs": [],
   "source": [
    "ans[\"points\"]=max_"
   ]
  },
  {
   "cell_type": "code",
   "execution_count": null,
   "id": "43cf9f55",
   "metadata": {
    "ExecuteTime": {
     "end_time": "2021-10-19T06:38:22.622435Z",
     "start_time": "2021-10-19T06:38:16.714Z"
    },
    "scrolled": true
   },
   "outputs": [],
   "source": [
    "ans.set_index(pd.RangeIndex(1, len(ans)+1), inplace=True)"
   ]
  },
  {
   "cell_type": "code",
   "execution_count": null,
   "id": "e4d2b674",
   "metadata": {
    "ExecuteTime": {
     "end_time": "2021-10-19T06:38:22.624443Z",
     "start_time": "2021-10-19T06:38:16.717Z"
    }
   },
   "outputs": [],
   "source": [
    "ans.iloc[27,1]=4.0"
   ]
  },
  {
   "cell_type": "code",
   "execution_count": null,
   "id": "cc6d11be",
   "metadata": {
    "ExecuteTime": {
     "end_time": "2021-10-19T06:38:22.626441Z",
     "start_time": "2021-10-19T06:38:16.721Z"
    }
   },
   "outputs": [],
   "source": [
    "ans['points']=ans['points'].astype(int)"
   ]
  },
  {
   "cell_type": "code",
   "execution_count": null,
   "id": "d7c64d9d",
   "metadata": {
    "ExecuteTime": {
     "end_time": "2021-10-19T06:38:22.629438Z",
     "start_time": "2021-10-19T06:38:16.724Z"
    }
   },
   "outputs": [],
   "source": [
    "ans.columns=['question','points']\n",
    "ans.index.name='no'"
   ]
  },
  {
   "cell_type": "code",
   "execution_count": null,
   "id": "37bf3d99",
   "metadata": {
    "ExecuteTime": {
     "end_time": "2021-10-19T06:38:22.633442Z",
     "start_time": "2021-10-19T06:38:16.727Z"
    }
   },
   "outputs": [],
   "source": [
    "ans"
   ]
  },
  {
   "cell_type": "code",
   "execution_count": null,
   "id": "e5d2ca8b",
   "metadata": {
    "ExecuteTime": {
     "end_time": "2021-10-19T06:38:22.637446Z",
     "start_time": "2021-10-19T06:38:16.732Z"
    }
   },
   "outputs": [],
   "source": [
    "ans.to_csv(\"answer.csv\")"
   ]
  },
  {
   "cell_type": "code",
   "execution_count": 18,
   "id": "29b39699",
   "metadata": {
    "ExecuteTime": {
     "end_time": "2021-10-19T06:38:44.482802Z",
     "start_time": "2021-10-19T06:38:44.463806Z"
    }
   },
   "outputs": [],
   "source": [
    "answer=pd.read_csv('answer - Copy.csv')"
   ]
  },
  {
   "cell_type": "code",
   "execution_count": 19,
   "id": "36ca9d9d",
   "metadata": {
    "ExecuteTime": {
     "end_time": "2021-10-19T06:38:44.987349Z",
     "start_time": "2021-10-19T06:38:44.955357Z"
    }
   },
   "outputs": [
    {
     "data": {
      "text/html": [
       "<div>\n",
       "<style scoped>\n",
       "    .dataframe tbody tr th:only-of-type {\n",
       "        vertical-align: middle;\n",
       "    }\n",
       "\n",
       "    .dataframe tbody tr th {\n",
       "        vertical-align: top;\n",
       "    }\n",
       "\n",
       "    .dataframe thead th {\n",
       "        text-align: right;\n",
       "    }\n",
       "</style>\n",
       "<table border=\"1\" class=\"dataframe\">\n",
       "  <thead>\n",
       "    <tr style=\"text-align: right;\">\n",
       "      <th></th>\n",
       "      <th>no</th>\n",
       "      <th>question</th>\n",
       "      <th>points</th>\n",
       "      <th>ans</th>\n",
       "    </tr>\n",
       "  </thead>\n",
       "  <tbody>\n",
       "    <tr>\n",
       "      <th>0</th>\n",
       "      <td>1</td>\n",
       "      <td>Which data type among the following is immutable</td>\n",
       "      <td>1</td>\n",
       "      <td>String</td>\n",
       "    </tr>\n",
       "    <tr>\n",
       "      <th>1</th>\n",
       "      <td>2</td>\n",
       "      <td>Python is which type of language</td>\n",
       "      <td>1</td>\n",
       "      <td>Dynamic</td>\n",
       "    </tr>\n",
       "    <tr>\n",
       "      <th>2</th>\n",
       "      <td>3</td>\n",
       "      <td>What is Maximum possible length of identifier</td>\n",
       "      <td>1</td>\n",
       "      <td>None of these</td>\n",
       "    </tr>\n",
       "    <tr>\n",
       "      <th>3</th>\n",
       "      <td>4</td>\n",
       "      <td>In which year was the Python language developed?</td>\n",
       "      <td>1</td>\n",
       "      <td>1989</td>\n",
       "    </tr>\n",
       "    <tr>\n",
       "      <th>4</th>\n",
       "      <td>5</td>\n",
       "      <td>Which is the correct extension of python file</td>\n",
       "      <td>1</td>\n",
       "      <td>.py</td>\n",
       "    </tr>\n",
       "    <tr>\n",
       "      <th>5</th>\n",
       "      <td>6</td>\n",
       "      <td>What do we use to define a block of code in Py...</td>\n",
       "      <td>1</td>\n",
       "      <td>Indentation</td>\n",
       "    </tr>\n",
       "    <tr>\n",
       "      <th>6</th>\n",
       "      <td>7</td>\n",
       "      <td>Which of the following declaration is incorrect</td>\n",
       "      <td>1</td>\n",
       "      <td>123x_;abc@123;</td>\n",
       "    </tr>\n",
       "    <tr>\n",
       "      <th>7</th>\n",
       "      <td>8</td>\n",
       "      <td>Which of the following is incorrect</td>\n",
       "      <td>1</td>\n",
       "      <td>a, b, c = 123</td>\n",
       "    </tr>\n",
       "    <tr>\n",
       "      <th>8</th>\n",
       "      <td>9</td>\n",
       "      <td>What will be the output of this code?\\na = 10\\...</td>\n",
       "      <td>2</td>\n",
       "      <td>12</td>\n",
       "    </tr>\n",
       "    <tr>\n",
       "      <th>9</th>\n",
       "      <td>10</td>\n",
       "      <td>What will be the output of the code?\\ni = 1\\nw...</td>\n",
       "      <td>2</td>\n",
       "      <td>error</td>\n",
       "    </tr>\n",
       "    <tr>\n",
       "      <th>10</th>\n",
       "      <td>11</td>\n",
       "      <td>What will be the output of the code?\\nl = [10,...</td>\n",
       "      <td>2</td>\n",
       "      <td>10 12</td>\n",
       "    </tr>\n",
       "    <tr>\n",
       "      <th>11</th>\n",
       "      <td>12</td>\n",
       "      <td>What will be the output of the following?\\n1 +...</td>\n",
       "      <td>2</td>\n",
       "      <td>3</td>\n",
       "    </tr>\n",
       "    <tr>\n",
       "      <th>12</th>\n",
       "      <td>13</td>\n",
       "      <td>What should be filled in the line 5 so output ...</td>\n",
       "      <td>2</td>\n",
       "      <td>c=c+1</td>\n",
       "    </tr>\n",
       "    <tr>\n",
       "      <th>13</th>\n",
       "      <td>14</td>\n",
       "      <td>str1=\"learn python\"\\n\\nstr2=\"\"\\n\\nstr3=\"\"\\n\\nf...</td>\n",
       "      <td>2</td>\n",
       "      <td>rnpn, ear</td>\n",
       "    </tr>\n",
       "    <tr>\n",
       "      <th>14</th>\n",
       "      <td>15</td>\n",
       "      <td>Which of the following is a valid for loop in ...</td>\n",
       "      <td>2</td>\n",
       "      <td>for i in range(0,n):</td>\n",
       "    </tr>\n",
       "    <tr>\n",
       "      <th>15</th>\n",
       "      <td>16</td>\n",
       "      <td>A while loop in Python is used for what type o...</td>\n",
       "      <td>2</td>\n",
       "      <td>indefinite</td>\n",
       "    </tr>\n",
       "    <tr>\n",
       "      <th>16</th>\n",
       "      <td>17</td>\n",
       "      <td>Which of the option below is correct?</td>\n",
       "      <td>1</td>\n",
       "      <td>import requests</td>\n",
       "    </tr>\n",
       "    <tr>\n",
       "      <th>17</th>\n",
       "      <td>18</td>\n",
       "      <td>How many time this loop will run?\\nfor i in ra...</td>\n",
       "      <td>2</td>\n",
       "      <td>0</td>\n",
       "    </tr>\n",
       "    <tr>\n",
       "      <th>18</th>\n",
       "      <td>19</td>\n",
       "      <td>What is the output of this code?\\n\\ni = 0\\nfor...</td>\n",
       "      <td>2</td>\n",
       "      <td>9</td>\n",
       "    </tr>\n",
       "    <tr>\n",
       "      <th>19</th>\n",
       "      <td>20</td>\n",
       "      <td>Which of the following is considered as infini...</td>\n",
       "      <td>2</td>\n",
       "      <td>while 1:</td>\n",
       "    </tr>\n",
       "    <tr>\n",
       "      <th>20</th>\n",
       "      <td>21</td>\n",
       "      <td>What will be the number of lines drawn in each...</td>\n",
       "      <td>2</td>\n",
       "      <td>10, 9</td>\n",
       "    </tr>\n",
       "    <tr>\n",
       "      <th>21</th>\n",
       "      <td>22</td>\n",
       "      <td>In how many lines there is logical error to ge...</td>\n",
       "      <td>2</td>\n",
       "      <td>2</td>\n",
       "    </tr>\n",
       "    <tr>\n",
       "      <th>22</th>\n",
       "      <td>23</td>\n",
       "      <td>What will be the output of the following Pytho...</td>\n",
       "      <td>2</td>\n",
       "      <td>1 Square</td>\n",
       "    </tr>\n",
       "    <tr>\n",
       "      <th>23</th>\n",
       "      <td>24</td>\n",
       "      <td>What should be replaced in blank line given as...</td>\n",
       "      <td>2</td>\n",
       "      <td>144</td>\n",
       "    </tr>\n",
       "    <tr>\n",
       "      <th>24</th>\n",
       "      <td>25</td>\n",
       "      <td>Which of the following is Exit control loop in...</td>\n",
       "      <td>2</td>\n",
       "      <td>None of the above</td>\n",
       "    </tr>\n",
       "    <tr>\n",
       "      <th>25</th>\n",
       "      <td>26</td>\n",
       "      <td>We have a string\\n\"***************************...</td>\n",
       "      <td>2</td>\n",
       "      <td>strip strip split indexing</td>\n",
       "    </tr>\n",
       "    <tr>\n",
       "      <th>26</th>\n",
       "      <td>27</td>\n",
       "      <td>What should be the value of a so that the outp...</td>\n",
       "      <td>3</td>\n",
       "      <td>(\"Check\")*3</td>\n",
       "    </tr>\n",
       "    <tr>\n",
       "      <th>27</th>\n",
       "      <td>28</td>\n",
       "      <td>What should be replace in blank space to get ...</td>\n",
       "      <td>4</td>\n",
       "      <td>if if</td>\n",
       "    </tr>\n",
       "    <tr>\n",
       "      <th>28</th>\n",
       "      <td>29</td>\n",
       "      <td>Which should we write to get the output as NEW...</td>\n",
       "    "
      ],
      "text/plain": [
       "    no                                           question  points  \\\n",
       "0    1   Which data type among the following is immutable       1   \n",
       "1    2                   Python is which type of language       1   \n",
       "2    3      What is Maximum possible length of identifier       1   \n",
       "3    4   In which year was the Python language developed?       1   \n",
       "4    5      Which is the correct extension of python file       1   \n",
       "5    6  What do we use to define a block of code in Py...       1   \n",
       "6    7    Which of the following declaration is incorrect       1   \n",
       "7    8                Which of the following is incorrect       1   \n",
       "8    9  What will be the output of this code?\\na = 10\\...       2   \n",
       "9   10  What will be the output of the code?\\ni = 1\\nw...       2   \n",
       "10  11  What will be the output of the code?\\nl = [10,...       2   \n",
       "11  12  What will be the output of the following?\\n1 +...       2   \n",
       "12  13  What should be filled in the line 5 so output ...       2   \n",
       "13  14  str1=\"learn python\"\\n\\nstr2=\"\"\\n\\nstr3=\"\"\\n\\nf...       2   \n",
       "14  15  Which of the following is a valid for loop in ...       2   \n",
       "15  16  A while loop in Python is used for what type o...       2   \n",
       "16  17              Which of the option below is correct?       1   \n",
       "17  18  How many time this loop will run?\\nfor i in ra...       2   \n",
       "18  19  What is the output of this code?\\n\\ni = 0\\nfor...       2   \n",
       "19  20  Which of the following is considered as infini...       2   \n",
       "20  21  What will be the number of lines drawn in each...       2   \n",
       "21  22  In how many lines there is logical error to ge...       2   \n",
       "22  23  What will be the output of the following Pytho...       2   \n",
       "23  24  What should be replaced in blank line given as...       2   \n",
       "24  25  Which of the following is Exit control loop in...       2   \n",
       "25  26  We have a string\\n\"***************************...       2   \n",
       "26  27  What should be the value of a so that the outp...       3   \n",
       "27  28   What should be replace in blank space to get ...       4   \n",
       "28  29  Which should we write to get the output as NEW...       4   \n",
       "29  30  What should be replaced in line 5 blank space ...       4   \n",
       "30  31  What should be replaced in blank space to get ...       3   \n",
       "\n",
       "                                            ans  \n",
       "0                                        String  \n",
       "1                                       Dynamic  \n",
       "2                                 None of these  \n",
       "3                                          1989  \n",
       "4                                           .py  \n",
       "5                                   Indentation  \n",
       "6                                123x_;abc@123;  \n",
       "7                                 a, b, c = 123  \n",
       "8                                            12  \n",
       "9                                         error  \n",
       "10                                        10 12  \n",
       "11                                            3  \n",
       "12                                        c=c+1  \n",
       "13                                    rnpn, ear  \n",
       "14                         for i in range(0,n):  \n",
       "15                                   indefinite  \n",
       "16                              import requests  \n",
       "17                                            0  \n",
       "18                                            9  \n",
       "19                                     while 1:  \n",
       "20                                        10, 9  \n",
       "21                                            2  \n",
       "22                                     1 Square  \n",
       "23                                          144  \n",
       "24                            None of the above  \n",
       "25                   strip strip split indexing  \n",
       "26                                  (\"Check\")*3  \n",
       "27                                        if if  \n",
       "28  data[1]['cachedContents']['top'][0]['item']  \n",
       "29                                            >  \n",
       "30                                        Break  "
      ]
     },
     "execution_count": 19,
     "metadata": {},
     "output_type": "execute_result"
    },
    {
     "data": {
      "text/html": [
       "<b>limit_output extension: Maximum message size of 5000 exceeded with 5423 characters</b>"
      ]
     },
     "metadata": {},
     "output_type": "display_data"
    }
   ],
   "source": [
    "answer"
   ]
  },
  {
   "cell_type": "code",
   "execution_count": 20,
   "id": "50ee1cfd",
   "metadata": {
    "ExecuteTime": {
     "end_time": "2021-10-19T06:38:47.150400Z",
     "start_time": "2021-10-19T06:38:47.107400Z"
    }
   },
   "outputs": [],
   "source": [
    "check=df.T[11:]"
   ]
  },
  {
   "cell_type": "code",
   "execution_count": 21,
   "id": "9590e0d3",
   "metadata": {
    "ExecuteTime": {
     "end_time": "2021-10-19T06:38:47.767397Z",
     "start_time": "2021-10-19T06:38:47.658405Z"
    }
   },
   "outputs": [
    {
     "data": {
      "text/html": [
       "<div>\n",
       "<style scoped>\n",
       "    .dataframe tbody tr th:only-of-type {\n",
       "        vertical-align: middle;\n",
       "    }\n",
       "\n",
       "    .dataframe tbody tr th {\n",
       "        vertical-align: top;\n",
       "    }\n",
       "\n",
       "    .dataframe thead th {\n",
       "        text-align: right;\n",
       "    }\n",
       "</style>\n",
       "<table border=\"1\" class=\"dataframe\">\n",
       "  <thead>\n",
       "    <tr style=\"text-align: right;\">\n",
       "      <th></th>\n",
       "      <th>0</th>\n",
       "      <th>1</th>\n",
       "      <th>2</th>\n",
       "      <th>3</th>\n",
       "      <th>4</th>\n",
       "      <th>5</th>\n",
       "      <th>6</th>\n",
       "      <th>7</th>\n",
       "      <th>8</th>\n",
       "      <th>9</th>\n",
       "      <th>...</th>\n",
       "      <th>270</th>\n",
       "      <th>271</th>\n",
       "      <th>272</th>\n",
       "      <th>273</th>\n",
       "      <th>274</th>\n",
       "      <th>275</th>\n",
       "      <th>276</th>\n",
       "      <th>277</th>\n",
       "      <th>278</th>\n",
       "      <th>279</th>\n",
       "    </tr>\n",
       "  </thead>\n",
       "  <tbody>\n",
       "    <tr>\n",
       "      <th>Which data type among the following is immutable</th>\n",
       "      <td>NaN</td>\n",
       "      <td>List</td>\n",
       "      <td>Dictionary</td>\n",
       "      <td>Set</td>\n",
       "      <td>List</td>\n",
       "      <td>String</td>\n",
       "      <td>Dictionary</td>\n",
       "      <td>String</td>\n",
       "      <td>String</td>\n",
       "      <td>String</td>\n",
       "      <td>...</td>\n",
       "      <td>Set</td>\n",
       "      <td>String</td>\n",
       "      <td>String</td>\n",
       "      <td>String</td>\n",
       "      <td>List</td>\n",
       "      <td>String</td>\n",
       "      <td>String</td>\n",
       "      <td>String</td>\n",
       "      <td>String</td>\n",
       "      <td>String</td>\n",
       "    </tr>\n",
       "    <tr>\n",
       "      <th>Python is which type of language</th>\n",
       "      <td>Static</td>\n",
       "      <td>Dynamic</td>\n",
       "      <td>Dynamic</td>\n",
       "      <td>Static</td>\n",
       "      <td>Static</td>\n",
       "      <td>Dynamic</td>\n",
       "      <td>Dynamic</td>\n",
       "      <td>Dynamic</td>\n",
       "      <td>Dynamic</td>\n",
       "      <td>Dynamic</td>\n",
       "      <td>...</td>\n",
       "      <td>Dynamic</td>\n",
       "      <td>Dynamic</td>\n",
       "      <td>Dynamic</td>\n",
       "      <td>Dynamic</td>\n",
       "      <td>Dynamic</td>\n",
       "      <td>Dynamic</td>\n",
       "      <td>Dynamic</td>\n",
       "      <td>Dynamic</td>\n",
       "      <td>Dynamic</td>\n",
       "      <td>Dynamic</td>\n",
       "    </tr>\n",
       "    <tr>\n",
       "      <th>What is Maximum possible length of identifier</th>\n",
       "      <td>64</td>\n",
       "      <td>16</td>\n",
       "      <td>32</td>\n",
       "      <td>64</td>\n",
       "      <td>None of these</td>\n",
       "      <td>None of these</td>\n",
       "      <td>16</td>\n",
       "      <td>None of these</td>\n",
       "      <td>32</td>\n",
       "      <td>None of these</td>\n",
       "      <td>...</td>\n",
       "      <td>64</td>\n",
       "      <td>None of these</td>\n",
       "      <td>None of these</td>\n",
       "      <td>None of these</td>\n",
       "      <td>None of these</td>\n",
       "      <td>None of these</td>\n",
       "      <td>None of these</td>\n",
       "      <td>None of these</td>\n",
       "      <td>None of these</td>\n",
       "      <td>None of these</td>\n",
       "    </tr>\n",
       "    <tr>\n",
       "      <th>In which year was the Python language developed?</th>\n",
       "      <td>1992.0</td>\n",
       "      <td>1972.0</td>\n",
       "      <td>1989.0</td>\n",
       "      <td>1989.0</td>\n",
       "      <td>1991.0</td>\n",
       "      <td>1991.0</td>\n",
       "      <td>1991.0</td>\n",
       "      <td>1991.0</td>\n",
       "      <td>1991.0</td>\n",
       "      <td>1991.0</td>\n",
       "      <td>...</td>\n",
       "      <td>1991.0</td>\n",
       "      <td>1989.0</td>\n",
       "      <td>1989.0</td>\n",
       "      <td>1991.0</td>\n",
       "      <td>1991.0</td>\n",
       "      <td>1989.0</td>\n",
       "      <td>1989.0</td>\n",
       "      <td>1991.0</td>\n",
       "      <td>1989.0</td>\n",
       "      <td>1989.0</td>\n",
       "    </tr>\n",
       "    <tr>\n",
       "      <th>Which is the correct extension of python file</th>\n",
       "      <td>.python</td>\n",
       "      <td>.pyt</td>\n",
       "      <td>.pyt</td>\n",
       "      <td>.p</td>\n",
       "      <td>NaN</td>\n",
       "      <td>.py</td>\n",
       "      <td>.py</td>\n",
       "      <td>.py</td>\n",
       "      <td>.py</td>\n",
       "      <td>.py</td>\n",
       "      <td>...</td>\n",
       "      <td>.python</td>\n",
       "      <td>.py</td>\n",
       "      <td>.py</td>\n",
       "      <td>.py</td>\n",
       "      <td>.py</td>\n",
       "      <td>.py</td>\n",
       "      <td>.py</td>\n",
       "      <td>.py</td>\n",
       "      <td>.py</td>\n",
       "      <td>.py</td>\n",
       "    </tr>\n",
       "    <tr>\n",
       "      <th>What do we use to define a block of code in Python language?</th>\n",
       "      <td>Indentation</td>\n",
       "      <td>Brackets</td>\n",
       "      <td>Indentation</td>\n",
       "      <td>Indentation</td>\n",
       "      <td>Brackets</td>\n",
       "      <td>Indentation</td>\n",
       "      <td>Indentation</td>\n",
       "      <td>Indentation</td>\n",
       "      <td>Brackets</td>\n",
       "      <td>Indentation</td>\n",
       "      <td>...</td>\n",
       "      <td>Indentation</td>\n",
       "      <td>Indentation</td>\n",
       "      <td>Indentation</td>\n",
       "      <td>Indentation</td>\n",
       "      <td>Indentation</td>\n",
       "      <td>Indentation</td>\n",
       "      <td>Indentation</td>\n",
       "      <td>Indentation</td>\n",
       "      <td>Indentation</td>\n",
       "      <td>Indentation</td>\n",
       "    </tr>\n",
       "    <tr>\n",
       "      <th>Which of the following declaration is incorrect</th>\n",
       "      <td>123x_;</td>\n",
       "      <td>_x;</td>\n",
       "      <td>None of the above;</td>\n",
       "      <td>abc@123;</td>\n",
       "      <td>All of the above;</td>\n",
       "      <td>None of the above;</td>\n",
       "      <td>_x;</td>\n",
       "      <td>All of the above;</td>\n",
       "      <td>All of the above;</td>\n",
       "      <td>All of the above;</td>\n",
       "      <td>...</td>\n",
       "      <td>_x;</td>\n",
       "      <td>123x_;abc@123;</td>\n",
       "      <td>123x_;abc@123;</td>\n",
       "      <td>None of the above;</td>\n",
       "      <td>None of the above;</td>\n",
       "      <td>123x_;abc@123;</td>\n",
       "      <td>_x;abc@123;</td>\n",
       "      <td>None of the above;</td>\n",
       "      <td>123x_;abc@123;</td>\n",
       "      <td>123x_;</td>\n",
       "    </tr>\n",
       "    <tr>\n",
       "      <th>Which of the following is incorrect</th>\n",
       "      <td>a, b, c = {\"a\": \"b, \"c\": \"d\", \"d\": \"e\"}</td>\n",
       "      <td>a, b, c = 1, 2, 3</td>\n",
       "      <td>a, b, c = {\"a\": \"b, \"c\": \"d\", \"d\": \"e\"}</td>\n",
       "      <td>a, b, c = \"he"
      ],
      "text/plain": [
       "                                                                                        0    \\\n",
       "Which data type among the following is immutable                                        NaN   \n",
       "Python is which type of language                                                     Static   \n",
       "What is Maximum possible length of identifier                                            64   \n",
       "In which year was the Python language developed?                                     1992.0   \n",
       "Which is the correct extension of python file                                       .python   \n",
       "What do we use to define a block of code in Pyt...                              Indentation   \n",
       "Which of the following declaration is incorrect                                      123x_;   \n",
       "Which of the following is incorrect                 a, b, c = {\"a\": \"b, \"c\": \"d\", \"d\": \"e\"}   \n",
       "What will be the output of this code?\\na = 10\\n...                                        5   \n",
       "What will be the output of the code?\\ni = 1\\nwh...                                      NaN   \n",
       "What will be the output of the code?\\nl = [10, ...                                      NaN   \n",
       "What will be the output of the following?\\n1 + ...                                      NaN   \n",
       "What should be filled in the line 5 so output b...                                      NaN   \n",
       "str1=\"learn python\"\\n\\nstr2=\"\"\\n\\nstr3=\"\"\\n\\nfo...                                      NaN   \n",
       "Which of the following is a valid for loop in P...                                      NaN   \n",
       "A while loop in Python is used for what type of...                                      NaN   \n",
       "Which of the option below is correct?                                                   NaN   \n",
       "How many time this loop will run?\\nfor i in ran...                                      NaN   \n",
       "What is the output of this code?\\n\\ni = 0\\nfor ...                                      NaN   \n",
       "Which of the following is considered as infinit...                                      NaN   \n",
       "What will be the number of lines drawn in each ...                                      NaN   \n",
       "In how many lines there is logical error to get...                                      NaN   \n",
       "What will be the output of the following Python...                                      NaN   \n",
       "What should be replaced in blank line given as ...                                      NaN   \n",
       "Which of the following is Exit control loop in ...                                      NaN   \n",
       "We have a string\\n\"****************************...                                      NaN   \n",
       "What should be the value of a so that the outpu...                                      NaN   \n",
       " What should be replace in blank space to get o...                                      NaN   \n",
       "Which should we write to get the output as NEWY...                                      NaN   \n",
       "What should be replaced in line 5 blank space t...                                      NaN   \n",
       "What should be replaced in blank space to get t...                                      NaN   \n",
       "\n",
       "                                                                            1    \\\n",
       "Which data type among the following is immutable                           List   \n",
       "Python is which type of language                                        Dynamic   \n",
       "What is Maximum possible length of identifier                                16   \n",
       "In which year was the Python language developed?                         1972.0   \n",
       "Which is the correct extension of python file                              .pyt   \n",
       "What do we use to define a block of code in Pyt...                     Brackets   \n",
       "Which of the following declaration is incorrect                             _x;   \n",
       "Which of the following is incorrect                           a, b, c = 1, 2, 3   \n",
       "What will be the output of this code?\\na = 10\\n...                            5   \n",
       "What will be the output of the code?\\ni = 1\\nwh...                        error   \n",
       "What will be the output of the code?\\nl = [10, ...                        12 10   \n",
       "What will be the output of the following?\\n1 + ...                          3.0   \n",
       "What should be filled in the line 5 so output b...                            0   \n",
       "str1=\"learn python\"\\n\\nstr2=\"\"\\n\\nstr3=\"\"\\n\\nfo...                      rnpn ea   \n",
       "Which of the following is a valid for loop in P...          for i in range(0,n)   \n",
       "A while loop in Python is used for what type of...                   indefinite   \n",
       "Which of the option below is correct?                                 #requests   \n",
       "How many time this loop will run?\\nfor i in ran...                            2   \n",
       "What is the output of this code?\\n\\ni = 0\\nfor ...                            1   \n",
       "Which of the following is considered as infinit...                       for 1:   \n",
       "What will be the number of lines drawn in each ...                        9, 10   \n",
       "In how many lines there is logical error to get...                            1   \n",
       "What will be the output of the following Python..."
      ]
     },
     "execution_count": 21,
     "metadata": {},
     "output_type": "execute_result"
    },
    {
     "data": {
      "text/html": [
       "<b>limit_output extension: Maximum message size of 5000 exceeded with 58859 characters</b>"
      ]
     },
     "metadata": {},
     "output_type": "display_data"
    }
   ],
   "source": [
    "check"
   ]
  },
  {
   "cell_type": "code",
   "execution_count": 22,
   "id": "6c2af816",
   "metadata": {
    "ExecuteTime": {
     "end_time": "2021-10-19T06:38:48.034402Z",
     "start_time": "2021-10-19T06:38:48.015409Z"
    }
   },
   "outputs": [
    {
     "data": {
      "text/plain": [
       "280"
      ]
     },
     "execution_count": 22,
     "metadata": {},
     "output_type": "execute_result"
    }
   ],
   "source": [
    "check.shape[1]"
   ]
  },
  {
   "cell_type": "code",
   "execution_count": 23,
   "id": "25cfa5ac",
   "metadata": {
    "ExecuteTime": {
     "end_time": "2021-10-19T06:38:49.319362Z",
     "start_time": "2021-10-19T06:38:49.305340Z"
    }
   },
   "outputs": [],
   "source": [
    "def res_output(answer,check):\n",
    "    result=[]\n",
    "    count=0\n",
    "    for k in range (check.shape[1]):\n",
    "        sum=0\n",
    "        grace=2\n",
    "        for i in range(len(answer)):\n",
    "            if answer.iloc[i,3] == check.iloc[i,k]:\n",
    "                sum=sum+answer.iloc[i,2]\n",
    "        sum=sum+grace\n",
    "        result.append(sum)\n",
    "    return result"
   ]
  },
  {
   "cell_type": "code",
   "execution_count": 24,
   "id": "4df1944d",
   "metadata": {
    "ExecuteTime": {
     "end_time": "2021-10-19T06:38:50.484410Z",
     "start_time": "2021-10-19T06:38:49.729408Z"
    }
   },
   "outputs": [],
   "source": [
    "score=res_output(answer,check)"
   ]
  },
  {
   "cell_type": "code",
   "execution_count": 25,
   "id": "c7e35863",
   "metadata": {
    "ExecuteTime": {
     "end_time": "2021-10-19T06:38:50.500428Z",
     "start_time": "2021-10-19T06:38:50.488406Z"
    }
   },
   "outputs": [
    {
     "data": {
      "text/plain": [
       "280"
      ]
     },
     "execution_count": 25,
     "metadata": {},
     "output_type": "execute_result"
    }
   ],
   "source": [
    "len(score)"
   ]
  },
  {
   "cell_type": "code",
   "execution_count": 26,
   "id": "cabab8a5",
   "metadata": {
    "ExecuteTime": {
     "end_time": "2021-10-19T06:38:50.564408Z",
     "start_time": "2021-10-19T06:38:50.504405Z"
    }
   },
   "outputs": [
    {
     "data": {
      "text/plain": [
       "[3,\n",
       " 11,\n",
       " 15,\n",
       " 15,\n",
       " 9,\n",
       " 17,\n",
       " 18,\n",
       " 11,\n",
       " 8,\n",
       " 16,\n",
       " 17,\n",
       " 14,\n",
       " 14,\n",
       " 9,\n",
       " 15,\n",
       " 19,\n",
       " 10,\n",
       " 13,\n",
       " 19,\n",
       " 18,\n",
       " 9,\n",
       " 23,\n",
       " 18,\n",
       " 16,\n",
       " 8,\n",
       " 14,\n",
       " 27,\n",
       " 23,\n",
       " 25,\n",
       " 24,\n",
       " 22,\n",
       " 15,\n",
       " 49,\n",
       " 21,\n",
       " 17,\n",
       " 49,\n",
       " 19,\n",
       " 10,\n",
       " 49,\n",
       " 23,\n",
       " 20,\n",
       " 34,\n",
       " 20,\n",
       " 22,\n",
       " 17,\n",
       " 19,\n",
       " 23,\n",
       " 13,\n",
       " 17,\n",
       " 20,\n",
       " 15,\n",
       " 17,\n",
       " 23,\n",
       " 20,\n",
       " 21,\n",
       " 10,\n",
       " 24,\n",
       " 10,\n",
       " 43,\n",
       " 20,\n",
       " 25,\n",
       " 18,\n",
       " 23,\n",
       " 21,\n",
       " 49,\n",
       " 25,\n",
       " 15,\n",
       " 25,\n",
       " 53,\n",
       " 39,\n",
       " 49,\n",
       " 17,\n",
       " 23,\n",
       " 21,\n",
       " 14,\n",
       " 15,\n",
       " 26,\n",
       " 13,\n",
       " 37,\n",
       " 19,\n",
       " 19,\n",
       " 22,\n",
       " 18,\n",
       " 17,\n",
       " 15,\n",
       " 13,\n",
       " 22,\n",
       " 27,\n",
       " 9,\n",
       " 53,\n",
       " 49,\n",
       " 20,\n",
       " 26,\n",
       " 30,\n",
       " 32,\n",
       " 32,\n",
       " 26,\n",
       " 18,\n",
       " 20,\n",
       " 27,\n",
       " 33,\n",
       " 11,\n",
       " 13,\n",
       " 16,\n",
       " 18,\n",
       " 35,\n",
       " 37,\n",
       " 35,\n",
       " 38,\n",
       " 14,\n",
       " 34,\n",
       " 41,\n",
       " 23,\n",
       " 25,\n",
       " 27,\n",
       " 38,\n",
       " 26,\n",
       " 38,\n",
       " 28,\n",
       " 26,\n",
       " 46,\n",
       " 15,\n",
       " 49,\n",
       " 22,\n",
       " 12,\n",
       " 20,\n",
       " 16,\n",
       " 26,\n",
       " 41,\n",
       " 21,\n",
       " 47,\n",
       " 33,\n",
       " 23,\n",
       " 36,\n",
       " 41,\n",
       " 41,\n",
       " 35,\n",
       " 21,\n",
       " 13,\n",
       " 17,\n",
       " 50,\n",
       " 13,\n",
       " 13,\n",
       " 47,\n",
       " 25,\n",
       " 42,\n",
       " 46,\n",
       " 42,\n",
       " 40,\n",
       " 25,\n",
       " 30,\n",
       " 33,\n",
       " 31,\n",
       " 41,\n",
       " 30,\n",
       " 31,\n",
       " 29,\n",
       " 21,\n",
       " 30,\n",
       " 37,\n",
       " 28,\n",
       " 20,\n",
       " 40,\n",
       " 19,\n",
       " 26,\n",
       " 22,\n",
       " 38,\n",
       " 40,\n",
       " 38,\n",
       " 52,\n",
       " 55,\n",
       " 48,\n",
       " 35,\n",
       " 49,\n",
       " 27,\n",
       " 51,\n",
       " 36,\n",
       " 32,\n",
       " 29,\n",
       " 36,\n",
       " 32,\n",
       " 27,\n",
       " 51,\n",
       " 18,\n",
       " 26,\n",
       " 48,\n",
       " 17,\n",
       " 47,\n",
       " 41,\n",
       " 34,\n",
       " 19,\n",
       " 34,\n",
       " 37,\n",
       " 27,\n",
       " 25,\n",
       " 47,\n",
       " 48,\n",
       " 49,\n",
       " 35,\n",
       " 12,\n",
       " 25,\n",
       " 21,\n",
       " 17,\n",
       " 51,\n",
       " 26,\n",
       " 21,\n",
       " 17,\n",
       " 24,\n",
       " 48,\n",
       " 42,\n",
       " 41,\n",
       " 21,\n",
       " 46,\n",
       " 32,\n",
       " 36,\n",
       " 20,\n",
       " 9,\n",
       " 54,\n",
       " 18,\n",
       " 55,\n",
       " 44,\n",
       " 35,\n",
       " 13,\n",
       " 22,\n",
       " 49,\n",
       " 51,\n",
       " 48,\n",
       " 25,\n",
       " 21,\n",
       " 42,\n",
       " 22,\n",
       " 52,\n",
       " 34,\n",
       " 26,\n",
       " 11,\n",
       " 31,\n",
       " 58,\n",
       " 14,\n",
       " 26,\n",
       " 3,\n",
       " 19,\n",
       " 18,\n",
       " 48,\n",
       " 18,\n",
       " 21,\n",
       " 36,\n",
       " 33,\n",
       " 3,\n",
       " 52,\n",
       " 21,\n",
       " 16,\n",
       " 43,\n",
       " 29,\n",
       " 9,\n",
       " 33,\n",
       " 55,\n",
       " 37,\n",
       " 21,\n",
       " 36,\n",
       " 22,\n",
       " 53,\n",
       " 33,\n",
       " 18,\n",
       " 7,\n",
       " 29,\n",
       " 50,\n",
       " 38,\n",
       " 11,\n",
       " 39,\n",
       " 38,\n",
       " 9,\n",
       " 48,\n",
       " 47,\n",
       " 38,\n",
       " 25,\n",
       " 52,\n",
       " 31,\n",
       " 47,\n",
       " 47,\n",
       " 18]"
      ]
     },
     "execution_count": 26,
     "metadata": {},
     "output_type": "execute_result"
    }
   ],
   "source": [
    "score"
   ]
  },
  {
   "cell_type": "code",
   "execution_count": 27,
   "id": "b204f3c1",
   "metadata": {
    "ExecuteTime": {
     "end_time": "2021-10-19T06:38:50.817403Z",
     "start_time": "2021-10-19T06:38:50.803406Z"
    }
   },
   "outputs": [],
   "source": [
    "check=check.T"
   ]
  },
  {
   "cell_type": "code",
   "execution_count": 28,
   "id": "32e996a0",
   "metadata": {
    "ExecuteTime": {
     "end_time": "2021-10-19T06:38:52.026320Z",
     "start_time": "2021-10-19T06:38:52.016320Z"
    }
   },
   "outputs": [],
   "source": [
    "check['score']=score"
   ]
  },
  {
   "cell_type": "code",
   "execution_count": 29,
   "id": "854587f2",
   "metadata": {
    "ExecuteTime": {
     "end_time": "2021-10-19T06:38:52.308336Z",
     "start_time": "2021-10-19T06:38:52.289333Z"
    }
   },
   "outputs": [
    {
     "name": "stderr",
     "output_type": "stream",
     "text": [
      "<ipython-input-29-5e14b54766cb>:1: SettingWithCopyWarning: \n",
      "A value is trying to be set on a copy of a slice from a DataFrame.\n",
      "Try using .loc[row_indexer,col_indexer] = value instead\n",
      "\n",
      "See the caveats in the documentation: https://pandas.pydata.org/pandas-docs/stable/user_guide/indexing.html#returning-a-view-versus-a-copy\n",
      "  df['score']=check['score']\n"
     ]
    }
   ],
   "source": [
    "df['score']=check['score']"
   ]
  },
  {
   "cell_type": "code",
   "execution_count": 30,
   "id": "7434f368",
   "metadata": {
    "ExecuteTime": {
     "end_time": "2021-10-19T06:38:52.652330Z",
     "start_time": "2021-10-19T06:38:52.630306Z"
    }
   },
   "outputs": [
    {
     "data": {
      "text/plain": [
       "(280, 43)"
      ]
     },
     "execution_count": 30,
     "metadata": {},
     "output_type": "execute_result"
    }
   ],
   "source": [
    "df.shape"
   ]
  },
  {
   "cell_type": "code",
   "execution_count": 31,
   "id": "bd8196f6",
   "metadata": {
    "ExecuteTime": {
     "end_time": "2021-10-19T06:38:53.936080Z",
     "start_time": "2021-10-19T06:38:53.856081Z"
    }
   },
   "outputs": [
    {
     "data": {
      "text/html": [
       "<div>\n",
       "<style scoped>\n",
       "    .dataframe tbody tr th:only-of-type {\n",
       "        vertical-align: middle;\n",
       "    }\n",
       "\n",
       "    .dataframe tbody tr th {\n",
       "        vertical-align: top;\n",
       "    }\n",
       "\n",
       "    .dataframe thead th {\n",
       "        text-align: right;\n",
       "    }\n",
       "</style>\n",
       "<table border=\"1\" class=\"dataframe\">\n",
       "  <thead>\n",
       "    <tr style=\"text-align: right;\">\n",
       "      <th></th>\n",
       "      <th>ID</th>\n",
       "      <th>Start time</th>\n",
       "      <th>Completion time</th>\n",
       "      <th>Email</th>\n",
       "      <th>Name</th>\n",
       "      <th>Total points</th>\n",
       "      <th>Quiz feedback</th>\n",
       "      <th>Please fill your full name?</th>\n",
       "      <th>Please fill your email?</th>\n",
       "      <th>Please choose your batch?</th>\n",
       "      <th>...</th>\n",
       "      <th>What will be the output of the following Python code?\\n\\nimport turtle\\nt=turtle.Pen()\\nfor i in range(0,4):\\n\\tt.forward(100)\\n\\tt.left(90)\\n \\nt.up()  \\nt.left(90)\\nt.forward(200)\\nfor i in range(0,4):\\n\\tt.fo...</th>\n",
       "      <th>What should be replaced in blank line given as argument to left to get the output as STAR?\\n\\nimport turtle\\nt=turtle.Pen()\\nfor i in range(0,5):\\n        t.left(_________)\\n        t.forward(100)</th>\n",
       "      <th>Which of the following is Exit control loop in python ?</th>\n",
       "      <th>We have a string\\n\"****************************   hello world            **********************\"\\nWe need output of the string as \\n\"world\"\\nWhich set of operations/functions we need to apply on strin...</th>\n",
       "      <th>What should be the value of a so that the output becomes as follows:\\n\\na = ?\\nprint(a)\\n\\noutput:\\n(\"CheckCheckCheck\")</th>\n",
       "      <th>What should be replace in blank space to get output as 33?\\n\\nnames1 = ['Amir', 'Bear', 'Charlton', 'Daman']\\nnames2 = names1\\nnames3 = names1\\n\\nnames2[0] = 'Alice'\\nnames3[1] = 'Bob'\\n\\nsum = 0\\nfor ls i...</th>\n",
       "      <th>Which should we write to get the output as NEWYORK or to access NEWYORK?\\n\\ndata = {1: {\\n        \"id\" : 390669115,\\n        \"name\" : \"ProgramState\",\\n        \"dataTypeName\" : \"text\",\\n        \"descript...</th>\n",
       "      <th>What should be replaced in line 5 blank space to get the output as 1?\\n\\n1. myList = [1, 5, 5, 5, 5, 1]\\n2. max = myList[0]\\n3. indexOfMax = 0\\n4. for i in range(1, len(myList)):\\n5.     if myList[i] __...</th>\n",
       "      <th>What should be replaced in blank space to get the output as \\nOutput:\\n     0\\n     1\\n     2\\n\\ni = 0\\nwhile i &lt; 5:\\n    print(i)\\n    i += 1\\n    if i == 3:\\n        ________\\nelse:\\n    print(0)</th>\n",
       "      <th>score</th>\n",
       "    </tr>\n",
       "  </thead>\n",
       "  <tbody>\n",
       "    <tr>\n",
       "      <th>0</th>\n",
       "      <td>1</td>\n",
       "      <td>2021-07-02 21:51:56</td>\n",
       "      <td>2021-07-02 21:52:13</td>\n",
       "      <td>anonymous</td>\n",
       "      <td>NaN</td>\n",
       "      <td>1</td>\n",
       "      <td>NaN</td>\n",
       "      <td>NaN</td>\n",
       "      <td>NaN</td>\n",
       "      <td>NaN</td>\n",
       "      <td>...</td>\n",
       "      <td>NaN</td>\n",
       "      <td>NaN</td>\n",
       "      <td>NaN</td>\n",
       "      <td>NaN</td>\n",
       "      <td>NaN</td>\n",
       "      <td>NaN</td>\n",
       "      <td>NaN</td>\n",
       "      <td>NaN</td>\n",
       "      <td>NaN</td>\n",
       "      <td>3</td>\n",
       "    </tr>\n",
       "    <tr>\n",
       "      <th>1</th>\n",
       "      <td>2</td>\n",
       "      <td>2021-07-03 14:13:47</td>\n",
       "      <td>2021-07-03 14:18:16</td>\n",
       "      <td>anonymous</td>\n",
       "      <td>NaN</td>\n",
       "      <td>9</td>\n",
       "      <td>NaN</td>\n",
       "      <td>Vishal thakur</td>\n",
       "      <td>vishalthakur850900@gmail.com</td>\n",
       "      <td>Batch 2</td>\n",
       "      <td>...</td>\n",
       "      <td>1 Square</td>\n",
       "      <td>0</td>\n",
       "      <td>While</td>\n",
       "      <td>strip strip split indexing</td>\n",
       "      <td>* is not supported in tuple</td>\n",
       "      <td>elif else</td>\n",
       "      <td>New York</td>\n",
       "      <td>0</td>\n",
       "      <td>0</td>\n",
       "      <td>11</td>\n",
       "    </tr>\n",
       "    <tr>\n",
       "      <th>2</th>\n",
       "      <td>3</td>\n",
       "      <td>2021-07-03 14:18:11</td>\n",
       "      <td>2021-07-03 14:23:05</td>\n",
       "      <td>anonymous</td>\n",
       "      <td>NaN</td>\n",
       "      <td>14</td>\n",
       "      <td>NaN</td>\n",
       "      <td>Nikita prajapati</td>\n",
       "      <td>Nikitap8912@gmail.com</td>\n",
       "      <td>Batch 2</td>\n",
       "      <td>...</td>\n",
       "      <td>2 squares, at a separation of100 units, joined...</td>\n",
       "      <td>(200)</td>\n",
       "      <td>While</td>\n",
       "      <td>split strip strip slicing</td>\n",
       "      <td>Tuple is immutable</td>\n",
       "      <td>elif else</td>\n",
       "      <td>NaN</td>\n",
       "      <td>NaN</td>\n",
       "      <td>NaN</td>\n",
       "      <td>15</td>\n",
       "    </tr>\n",
       "    <tr>\n",
       "      <th>3</th>\n",
       "      <td>4</td>\n",
       "      <td>2021-07-03 14:19:02</td>\n",
       "      <td>2021-07-03 14:23:40</td>\n",
       "      <td>anonymous</td>\n",
       "      <td>NaN</td>\n",
       "      <td>14</td>\n",
       "      <td>NaN</td>\n",
       "      <td>ansh</td>\n",
       "      <td>ansh00@gmail.com</td>\n",
       "      <td>Batch 2</td>\n",
       "      <td>...</td>\n",
       "      <td>1 Square</td>\n",
       "      <td>hn</td>\n",
       "      <td>None of the above</td>\n",
       "      <td>strip strip split indexing</td>\n",
       "      <td>Tuple is immutable</td>\n",
       "      <td>if else</td>\n",
       "      <td>8</td>\n",
       "      <td>8</td>\n",
       "      <td>7</td>\n",
       "      <td>15</td>\n",
       "    </tr>\n",
       "    <tr>\n",
       "      <th>4</th>\n",
       "      <td>5</td>\n",
       "      <td>2021-07-03 14:14:44</td>\n",
       "      <td>2021-07-03 14:26:08</td>\n",
       "      <td>anonymous</td>\n",
       "      <td>NaN</td>\n",
       "      <td>9</td>\n",
       "      <td>NaN</td>\n",
       "      <td>Krishna garare</td>\n",
       "      <td>krishnagararekkg@gmail.com</td>\n",
       "      <td>Batch 3</td>\n",
       "      <td>...</td>\n",
       "      <td>Error</td>\n",
       "      <td>NaN</td>\n",
       "      <td>Do while</td>\n",
       "      <t"
      ],
      "text/plain": [
       "      ID          Start time     Completion time      Email  Name  \\\n",
       "0      1 2021-07-02 21:51:56 2021-07-02 21:52:13  anonymous   NaN   \n",
       "1      2 2021-07-03 14:13:47 2021-07-03 14:18:16  anonymous   NaN   \n",
       "2      3 2021-07-03 14:18:11 2021-07-03 14:23:05  anonymous   NaN   \n",
       "3      4 2021-07-03 14:19:02 2021-07-03 14:23:40  anonymous   NaN   \n",
       "4      5 2021-07-03 14:14:44 2021-07-03 14:26:08  anonymous   NaN   \n",
       "..   ...                 ...                 ...        ...   ...   \n",
       "275  276 2021-07-03 17:12:25 2021-07-03 17:14:54  anonymous   NaN   \n",
       "276  277 2021-07-03 16:20:43 2021-07-03 17:17:03  anonymous   NaN   \n",
       "277  278 2021-07-03 16:49:17 2021-07-03 17:19:23  anonymous   NaN   \n",
       "278  279 2021-07-03 17:15:25 2021-07-03 17:30:20  anonymous   NaN   \n",
       "279  280 2021-07-03 17:05:35 2021-07-03 17:35:47  anonymous   NaN   \n",
       "\n",
       "     Total points  Quiz feedback Please fill your full name?  \\\n",
       "0               1            NaN                         NaN   \n",
       "1               9            NaN               Vishal thakur   \n",
       "2              14            NaN            Nikita prajapati   \n",
       "3              14            NaN                        ansh   \n",
       "4               9            NaN              Krishna garare   \n",
       "..            ...            ...                         ...   \n",
       "275            57            NaN                Komal  patil   \n",
       "276            32            NaN                Ruchita Rani   \n",
       "277            45            NaN             Utkarsh Goswami   \n",
       "278            51            NaN                Rahul Sagar    \n",
       "279            19            NaN                  Salma Bano   \n",
       "\n",
       "           Please fill your email? Please choose your batch?  ...  \\\n",
       "0                              NaN                       NaN  ...   \n",
       "1     vishalthakur850900@gmail.com                   Batch 2  ...   \n",
       "2            Nikitap8912@gmail.com                   Batch 2  ...   \n",
       "3                 ansh00@gmail.com                   Batch 2  ...   \n",
       "4       krishnagararekkg@gmail.com                   Batch 3  ...   \n",
       "..                             ...                       ...  ...   \n",
       "275       Patilkommu8383@gmail.com                   Batch 1  ...   \n",
       "276        ruchitarani14@gmail.com                   Batch 3  ...   \n",
       "277  voraciousutkarsh536@gmail.com                   Batch 3  ...   \n",
       "278        rahul47sagar@gmail.com                    Batch 1  ...   \n",
       "279        salmabano0108@gmail.com                   Batch 1  ...   \n",
       "\n",
       "    What will be the output of the following Python code?\\n\\nimport turtle\\nt=turtle.Pen()\\nfor i in range(0,4):\\n\\tt.forward(100)\\n\\tt.left(90)\\n \\nt.up()  \\nt.left(90)\\nt.forward(200)\\nfor i in range(0,4):\\n\\tt.fo...  \\\n",
       "0                                                  NaN                                                                                                                                                                       \n",
       "1                                             1 Square                                                                                                                                                                       \n",
       "2    2 squares, at a separation of100 units, joined...                                                                                                                                                                       \n",
       "3                                             1 Square                                                                                                                                                                       \n",
       "4                                                Error                                                                                                                                                                       \n",
       "..                                                 ...                                                                                                                                                                       \n",
       "275                                           1 Square                                                                                                                                                                       \n",
       "276                                           1 Square                                                                                                                                                                       \n",
       "277                                           1 Square                                                                                                                                                                       \n",
       "278                                           1 Square                                                                                                                                                                       \n",
       "279                                           1 Square                                                                             "
      ]
     },
     "execution_count": 31,
     "metadata": {},
     "output_type": "execute_result"
    },
    {
     "data": {
      "text/html": [
       "<b>limit_output extension: Maximum message size of 5000 exceeded with 22728 characters</b>"
      ]
     },
     "metadata": {},
     "output_type": "display_data"
    }
   ],
   "source": [
    "df"
   ]
  },
  {
   "cell_type": "code",
   "execution_count": 32,
   "id": "a236d812",
   "metadata": {
    "ExecuteTime": {
     "end_time": "2021-10-19T06:38:56.044587Z",
     "start_time": "2021-10-19T06:38:56.024589Z"
    }
   },
   "outputs": [],
   "source": [
    "final=df.iloc[:, [0,1,2,7,8,5,42]]"
   ]
  },
  {
   "cell_type": "code",
   "execution_count": 33,
   "id": "bf5c3bb6",
   "metadata": {
    "ExecuteTime": {
     "end_time": "2021-10-19T06:38:56.596142Z",
     "start_time": "2021-10-19T06:38:56.566144Z"
    }
   },
   "outputs": [
    {
     "data": {
      "text/html": [
       "<div>\n",
       "<style scoped>\n",
       "    .dataframe tbody tr th:only-of-type {\n",
       "        vertical-align: middle;\n",
       "    }\n",
       "\n",
       "    .dataframe tbody tr th {\n",
       "        vertical-align: top;\n",
       "    }\n",
       "\n",
       "    .dataframe thead th {\n",
       "        text-align: right;\n",
       "    }\n",
       "</style>\n",
       "<table border=\"1\" class=\"dataframe\">\n",
       "  <thead>\n",
       "    <tr style=\"text-align: right;\">\n",
       "      <th></th>\n",
       "      <th>ID</th>\n",
       "      <th>Start time</th>\n",
       "      <th>Completion time</th>\n",
       "      <th>Please fill your full name?</th>\n",
       "      <th>Please fill your email?</th>\n",
       "      <th>Total points</th>\n",
       "      <th>score</th>\n",
       "    </tr>\n",
       "  </thead>\n",
       "  <tbody>\n",
       "    <tr>\n",
       "      <th>0</th>\n",
       "      <td>1</td>\n",
       "      <td>2021-07-02 21:51:56</td>\n",
       "      <td>2021-07-02 21:52:13</td>\n",
       "      <td>NaN</td>\n",
       "      <td>NaN</td>\n",
       "      <td>1</td>\n",
       "      <td>3</td>\n",
       "    </tr>\n",
       "    <tr>\n",
       "      <th>1</th>\n",
       "      <td>2</td>\n",
       "      <td>2021-07-03 14:13:47</td>\n",
       "      <td>2021-07-03 14:18:16</td>\n",
       "      <td>Vishal thakur</td>\n",
       "      <td>vishalthakur850900@gmail.com</td>\n",
       "      <td>9</td>\n",
       "      <td>11</td>\n",
       "    </tr>\n",
       "    <tr>\n",
       "      <th>2</th>\n",
       "      <td>3</td>\n",
       "      <td>2021-07-03 14:18:11</td>\n",
       "      <td>2021-07-03 14:23:05</td>\n",
       "      <td>Nikita prajapati</td>\n",
       "      <td>Nikitap8912@gmail.com</td>\n",
       "      <td>14</td>\n",
       "      <td>15</td>\n",
       "    </tr>\n",
       "    <tr>\n",
       "      <th>3</th>\n",
       "      <td>4</td>\n",
       "      <td>2021-07-03 14:19:02</td>\n",
       "      <td>2021-07-03 14:23:40</td>\n",
       "      <td>ansh</td>\n",
       "      <td>ansh00@gmail.com</td>\n",
       "      <td>14</td>\n",
       "      <td>15</td>\n",
       "    </tr>\n",
       "    <tr>\n",
       "      <th>4</th>\n",
       "      <td>5</td>\n",
       "      <td>2021-07-03 14:14:44</td>\n",
       "      <td>2021-07-03 14:26:08</td>\n",
       "      <td>Krishna garare</td>\n",
       "      <td>krishnagararekkg@gmail.com</td>\n",
       "      <td>9</td>\n",
       "      <td>9</td>\n",
       "    </tr>\n",
       "    <tr>\n",
       "      <th>...</th>\n",
       "      <td>...</td>\n",
       "      <td>...</td>\n",
       "      <td>...</td>\n",
       "      <td>...</td>\n",
       "      <td>...</td>\n",
       "      <td>...</td>\n",
       "      <td>...</td>\n",
       "    </tr>\n",
       "    <tr>\n",
       "      <th>275</th>\n",
       "      <td>276</td>\n",
       "      <td>2021-07-03 17:12:25</td>\n",
       "      <td>2021-07-03 17:14:54</td>\n",
       "      <td>Komal  patil</td>\n",
       "      <td>Patilkommu8383@gmail.com</td>\n",
       "      <td>57</td>\n",
       "      <td>52</td>\n",
       "    </tr>\n",
       "    <tr>\n",
       "      <th>276</th>\n",
       "      <td>277</td>\n",
       "      <td>2021-07-03 16:20:43</td>\n",
       "      <td>2021-07-03 17:17:03</td>\n",
       "      <td>Ruchita Rani</td>\n",
       "      <td>ruchitarani14@gmail.com</td>\n",
       "      <td>32</td>\n",
       "      <td>31</td>\n",
       "    </tr>\n",
       "    <tr>\n",
       "      <th>277</th>\n",
       "      <td>278</td>\n",
       "      <td>2021-07-03 16:49:17</td>\n",
       "      <td>2021-07-03 17:19:23</td>\n",
       "      <td>Utkarsh Goswami</td>\n",
       "      <td>voraciousutkarsh536@gmail.com</td>\n",
       "      <td>45</td>\n",
       "      <td>47</td>\n",
       "    </tr>\n",
       "    <tr>\n",
       "      <th>278</th>\n",
       "      <td>279</td>\n",
       "      <td>2021-07-03 17:15:25</td>\n",
       "      <td>2021-07-03 17:30:20</td>\n",
       "      <td>Rahul Sagar</td>\n",
       "      <td>rahul47sagar@gmail.com</td>\n",
       "      <td>51</td>\n",
       "      <td>47</td>\n",
       "    </tr>\n",
       "    <tr>\n",
       "      <th>279</th>\n",
       "      <td>280</td>\n",
       "      <td>2021-07-03 17:05:35</td>\n",
       "      <td>2021-07-03 17:35:47</td>\n",
       "      <td>Salma Bano</td>\n",
       "      <td>salmabano0108@gmail.com</td>\n",
       "      <td>19</td>\n",
       "      <td>18</td>\n",
       "    </tr>\n",
       "  </tbody>\n",
       "</table>\n",
       "<p>280 rows × 7 columns</p>\n",
       "</div>"
      ],
      "text/plain": [
       "      ID          Start time     Completion time Please fill your full name?  \\\n",
       "0      1 2021-07-02 21:51:56 2021-07-02 21:52:13                         NaN   \n",
       "1      2 2021-07-03 14:13:47 2021-07-03 14:18:16               Vishal thakur   \n",
       "2      3 2021-07-03 14:18:11 2021-07-03 14:23:05            Nikita prajapati   \n",
       "3      4 2021-07-03 14:19:02 2021-07-03 14:23:40                        ansh   \n",
       "4      5 2021-07-03 14:14:44 2021-07-03 14:26:08              Krishna garare   \n",
       "..   ...                 ...                 ...                         ...   \n",
       "275  276 2021-07-03 17:12:25 2021-07-03 17:14:54                Komal  patil   \n",
       "276  277 2021-07-03 16:20:43 2021-07-03 17:17:03                Ruchita Rani   \n",
       "277  278 2021-07-03 16:49:17 2021-07-03 17:19:23             Utkarsh Goswami   \n",
       "278  279 2021-07-03 17:15:25 2021-07-03 17:30:20                Rahul Sagar    \n",
       "279  280 2021-07-03 17:05:35 2021-07-03 17:35:47                  Salma Bano   \n",
       "\n",
       "           Please fill your email?  Total points  score  \n",
       "0                              NaN             1      3  \n",
       "1     vishalthakur850900@gmail.com             9     11  \n",
       "2            Nikitap8912@gmail.com            14     15  \n",
       "3                 ansh00@gmail.com            14     15  \n",
       "4       krishnagararekkg@gmail.com             9      9  \n",
       "..                             ...           ...    ...  \n",
       "275       Patilkommu8383@gmail.com            57     52  \n",
       "276        ruchitarani14@gmail.com            32     31  \n",
       "277  voraciousutkarsh536@gmail.com            45     47  \n",
       "278        rahul47sagar@gmail.com             51     47  \n",
       "279        salmabano0108@gmail.com            19     18  \n",
       "\n",
       "[280 rows x 7 columns]"
      ]
     },
     "execution_count": 33,
     "metadata": {},
     "output_type": "execute_result"
    }
   ],
   "source": [
    "final"
   ]
  },
  {
   "cell_type": "code",
   "execution_count": 34,
   "id": "d7122793",
   "metadata": {
    "ExecuteTime": {
     "end_time": "2021-10-19T06:38:57.790170Z",
     "start_time": "2021-10-19T06:38:57.768166Z"
    }
   },
   "outputs": [
    {
     "data": {
      "text/html": [
       "<div>\n",
       "<style scoped>\n",
       "    .dataframe tbody tr th:only-of-type {\n",
       "        vertical-align: middle;\n",
       "    }\n",
       "\n",
       "    .dataframe tbody tr th {\n",
       "        vertical-align: top;\n",
       "    }\n",
       "\n",
       "    .dataframe thead th {\n",
       "        text-align: right;\n",
       "    }\n",
       "</style>\n",
       "<table border=\"1\" class=\"dataframe\">\n",
       "  <thead>\n",
       "    <tr style=\"text-align: right;\">\n",
       "      <th></th>\n",
       "      <th>Please fill your full name?</th>\n",
       "      <th>Please fill your email?</th>\n",
       "      <th>score</th>\n",
       "    </tr>\n",
       "  </thead>\n",
       "  <tbody>\n",
       "    <tr>\n",
       "      <th>236</th>\n",
       "      <td>Shikha Khatri</td>\n",
       "      <td>shikhakhatri8855@gmail.com</td>\n",
       "      <td>58</td>\n",
       "    </tr>\n",
       "    <tr>\n",
       "      <th>170</th>\n",
       "      <td>Dhiraj kumar kushwaha</td>\n",
       "      <td>dhirajkushwaha002@gmail.com</td>\n",
       "      <td>55</td>\n",
       "    </tr>\n",
       "    <tr>\n",
       "      <th>255</th>\n",
       "      <td>Ujjwal Singh</td>\n",
       "      <td>usb9300322722@gmail.com</td>\n",
       "      <td>55</td>\n",
       "    </tr>\n",
       "    <tr>\n",
       "      <th>219</th>\n",
       "      <td>Himanshu Soni</td>\n",
       "      <td>himanshunitesh123@gmail.com</td>\n",
       "      <td>55</td>\n",
       "    </tr>\n",
       "    <tr>\n",
       "      <th>217</th>\n",
       "      <td>Kratika lashkari</td>\n",
       "      <td>lashkarikratika410@gmail.com</td>\n",
       "      <td>54</td>\n",
       "    </tr>\n",
       "    <tr>\n",
       "      <th>...</th>\n",
       "      <td>...</td>\n",
       "      <td>...</td>\n",
       "      <td>...</td>\n",
       "    </tr>\n",
       "    <tr>\n",
       "      <th>8</th>\n",
       "      <td>Payal Rai</td>\n",
       "      <td>Raipayal380@gmail.com</td>\n",
       "      <td>8</td>\n",
       "    </tr>\n",
       "    <tr>\n",
       "      <th>263</th>\n",
       "      <td>Itish Imrat Tirwal</td>\n",
       "      <td>itishtirwalkittu28@gmail.com</td>\n",
       "      <td>7</td>\n",
       "    </tr>\n",
       "    <tr>\n",
       "      <th>247</th>\n",
       "      <td>All toppers will be fake cause</td>\n",
       "      <td>xadalir639@nnacell.com</td>\n",
       "      <td>3</td>\n",
       "    </tr>\n",
       "    <tr>\n",
       "      <th>239</th>\n",
       "      <td>xadalir639@nnacell.com</td>\n",
       "      <td>xadalir639@nnacell.com</td>\n",
       "      <td>3</td>\n",
       "    </tr>\n",
       "    <tr>\n",
       "      <th>0</th>\n",
       "      <td>NaN</td>\n",
       "      <td>NaN</td>\n",
       "      <td>3</td>\n",
       "    </tr>\n",
       "  </tbody>\n",
       "</table>\n",
       "<p>280 rows × 3 columns</p>\n",
       "</div>"
      ],
      "text/plain": [
       "         Please fill your full name?       Please fill your email?  score\n",
       "236                   Shikha Khatri     shikhakhatri8855@gmail.com     58\n",
       "170            Dhiraj kumar kushwaha   dhirajkushwaha002@gmail.com     55\n",
       "255                     Ujjwal Singh       usb9300322722@gmail.com     55\n",
       "219                    Himanshu Soni   himanshunitesh123@gmail.com     55\n",
       "217                 Kratika lashkari  lashkarikratika410@gmail.com     54\n",
       "..                               ...                           ...    ...\n",
       "8                          Payal Rai         Raipayal380@gmail.com      8\n",
       "263               Itish Imrat Tirwal  itishtirwalkittu28@gmail.com      7\n",
       "247  All toppers will be fake cause         xadalir639@nnacell.com      3\n",
       "239           xadalir639@nnacell.com        xadalir639@nnacell.com      3\n",
       "0                                NaN                           NaN      3\n",
       "\n",
       "[280 rows x 3 columns]"
      ]
     },
     "execution_count": 34,
     "metadata": {},
     "output_type": "execute_result"
    }
   ],
   "source": [
    "final[['Please fill your full name?','Please fill your email?', 'score']].sort_values('score', ascending=False)\n"
   ]
  },
  {
   "cell_type": "code",
   "execution_count": 35,
   "id": "609ea21d",
   "metadata": {
    "ExecuteTime": {
     "end_time": "2021-10-19T06:39:00.069736Z",
     "start_time": "2021-10-19T06:39:00.040742Z"
    }
   },
   "outputs": [
    {
     "data": {
      "text/html": [
       "<div>\n",
       "<style scoped>\n",
       "    .dataframe tbody tr th:only-of-type {\n",
       "        vertical-align: middle;\n",
       "    }\n",
       "\n",
       "    .dataframe tbody tr th {\n",
       "        vertical-align: top;\n",
       "    }\n",
       "\n",
       "    .dataframe thead th {\n",
       "        text-align: right;\n",
       "    }\n",
       "</style>\n",
       "<table border=\"1\" class=\"dataframe\">\n",
       "  <thead>\n",
       "    <tr style=\"text-align: right;\">\n",
       "      <th></th>\n",
       "      <th>ID</th>\n",
       "      <th>Start time</th>\n",
       "      <th>Completion time</th>\n",
       "      <th>Please fill your full name?</th>\n",
       "      <th>Please fill your email?</th>\n",
       "      <th>Total points</th>\n",
       "      <th>score</th>\n",
       "    </tr>\n",
       "  </thead>\n",
       "  <tbody>\n",
       "    <tr>\n",
       "      <th>264</th>\n",
       "      <td>265</td>\n",
       "      <td>2021-07-03 16:34:54</td>\n",
       "      <td>2021-07-03 16:56:15</td>\n",
       "      <td>Komal patil</td>\n",
       "      <td>patilkommu8383@gmail.com</td>\n",
       "      <td>27</td>\n",
       "      <td>29</td>\n",
       "    </tr>\n",
       "    <tr>\n",
       "      <th>269</th>\n",
       "      <td>270</td>\n",
       "      <td>2021-07-03 16:59:14</td>\n",
       "      <td>2021-07-03 17:05:21</td>\n",
       "      <td>Komal patil</td>\n",
       "      <td>Patilkommu8383@gmail.com</td>\n",
       "      <td>41</td>\n",
       "      <td>38</td>\n",
       "    </tr>\n",
       "    <tr>\n",
       "      <th>271</th>\n",
       "      <td>272</td>\n",
       "      <td>2021-07-03 17:07:03</td>\n",
       "      <td>2021-07-03 17:09:50</td>\n",
       "      <td>Komal patil</td>\n",
       "      <td>Patilkommu8383@gmail.com</td>\n",
       "      <td>51</td>\n",
       "      <td>48</td>\n",
       "    </tr>\n",
       "  </tbody>\n",
       "</table>\n",
       "</div>"
      ],
      "text/plain": [
       "      ID          Start time     Completion time Please fill your full name?  \\\n",
       "264  265 2021-07-03 16:34:54 2021-07-03 16:56:15                 Komal patil   \n",
       "269  270 2021-07-03 16:59:14 2021-07-03 17:05:21                 Komal patil   \n",
       "271  272 2021-07-03 17:07:03 2021-07-03 17:09:50                 Komal patil   \n",
       "\n",
       "      Please fill your email?  Total points  score  \n",
       "264  patilkommu8383@gmail.com            27     29  \n",
       "269  Patilkommu8383@gmail.com            41     38  \n",
       "271  Patilkommu8383@gmail.com            51     48  "
      ]
     },
     "execution_count": 35,
     "metadata": {},
     "output_type": "execute_result"
    }
   ],
   "source": [
    "final[final[\"Please fill your full name?\"]==\"Komal patil\"]"
   ]
  },
  {
   "cell_type": "code",
   "execution_count": 36,
   "id": "9c7dcd9b",
   "metadata": {
    "ExecuteTime": {
     "end_time": "2021-10-19T06:39:00.744759Z",
     "start_time": "2021-10-19T06:39:00.718755Z"
    }
   },
   "outputs": [
    {
     "name": "stderr",
     "output_type": "stream",
     "text": [
      "<ipython-input-36-86468f5bbeaf>:1: SettingWithCopyWarning: \n",
      "A value is trying to be set on a copy of a slice from a DataFrame.\n",
      "Try using .loc[row_indexer,col_indexer] = value instead\n",
      "\n",
      "See the caveats in the documentation: https://pandas.pydata.org/pandas-docs/stable/user_guide/indexing.html#returning-a-view-versus-a-copy\n",
      "  final['time']=(final[\"Completion time\"]- final[\"Start time\"]).astype('timedelta64[m]')\n"
     ]
    }
   ],
   "source": [
    "final['time']=(final[\"Completion time\"]- final[\"Start time\"]).astype('timedelta64[m]')"
   ]
  },
  {
   "cell_type": "code",
   "execution_count": 37,
   "id": "d5bdb6a1",
   "metadata": {
    "ExecuteTime": {
     "end_time": "2021-10-19T06:39:02.392174Z",
     "start_time": "2021-10-19T06:39:02.361171Z"
    }
   },
   "outputs": [
    {
     "data": {
      "text/html": [
       "<div>\n",
       "<style scoped>\n",
       "    .dataframe tbody tr th:only-of-type {\n",
       "        vertical-align: middle;\n",
       "    }\n",
       "\n",
       "    .dataframe tbody tr th {\n",
       "        vertical-align: top;\n",
       "    }\n",
       "\n",
       "    .dataframe thead th {\n",
       "        text-align: right;\n",
       "    }\n",
       "</style>\n",
       "<table border=\"1\" class=\"dataframe\">\n",
       "  <thead>\n",
       "    <tr style=\"text-align: right;\">\n",
       "      <th></th>\n",
       "      <th>ID</th>\n",
       "      <th>Start time</th>\n",
       "      <th>Completion time</th>\n",
       "      <th>Please fill your full name?</th>\n",
       "      <th>Please fill your email?</th>\n",
       "      <th>Total points</th>\n",
       "      <th>score</th>\n",
       "      <th>time</th>\n",
       "    </tr>\n",
       "  </thead>\n",
       "  <tbody>\n",
       "    <tr>\n",
       "      <th>0</th>\n",
       "      <td>1</td>\n",
       "      <td>2021-07-02 21:51:56</td>\n",
       "      <td>2021-07-02 21:52:13</td>\n",
       "      <td>NaN</td>\n",
       "      <td>NaN</td>\n",
       "      <td>1</td>\n",
       "      <td>3</td>\n",
       "      <td>0.0</td>\n",
       "    </tr>\n",
       "    <tr>\n",
       "      <th>1</th>\n",
       "      <td>2</td>\n",
       "      <td>2021-07-03 14:13:47</td>\n",
       "      <td>2021-07-03 14:18:16</td>\n",
       "      <td>Vishal thakur</td>\n",
       "      <td>vishalthakur850900@gmail.com</td>\n",
       "      <td>9</td>\n",
       "      <td>11</td>\n",
       "      <td>4.0</td>\n",
       "    </tr>\n",
       "    <tr>\n",
       "      <th>2</th>\n",
       "      <td>3</td>\n",
       "      <td>2021-07-03 14:18:11</td>\n",
       "      <td>2021-07-03 14:23:05</td>\n",
       "      <td>Nikita prajapati</td>\n",
       "      <td>Nikitap8912@gmail.com</td>\n",
       "      <td>14</td>\n",
       "      <td>15</td>\n",
       "      <td>4.0</td>\n",
       "    </tr>\n",
       "    <tr>\n",
       "      <th>3</th>\n",
       "      <td>4</td>\n",
       "      <td>2021-07-03 14:19:02</td>\n",
       "      <td>2021-07-03 14:23:40</td>\n",
       "      <td>ansh</td>\n",
       "      <td>ansh00@gmail.com</td>\n",
       "      <td>14</td>\n",
       "      <td>15</td>\n",
       "      <td>4.0</td>\n",
       "    </tr>\n",
       "    <tr>\n",
       "      <th>4</th>\n",
       "      <td>5</td>\n",
       "      <td>2021-07-03 14:14:44</td>\n",
       "      <td>2021-07-03 14:26:08</td>\n",
       "      <td>Krishna garare</td>\n",
       "      <td>krishnagararekkg@gmail.com</td>\n",
       "      <td>9</td>\n",
       "      <td>9</td>\n",
       "      <td>11.0</td>\n",
       "    </tr>\n",
       "    <tr>\n",
       "      <th>...</th>\n",
       "      <td>...</td>\n",
       "      <td>...</td>\n",
       "      <td>...</td>\n",
       "      <td>...</td>\n",
       "      <td>...</td>\n",
       "      <td>...</td>\n",
       "      <td>...</td>\n",
       "      <td>...</td>\n",
       "    </tr>\n",
       "    <tr>\n",
       "      <th>275</th>\n",
       "      <td>276</td>\n",
       "      <td>2021-07-03 17:12:25</td>\n",
       "      <td>2021-07-03 17:14:54</td>\n",
       "      <td>Komal  patil</td>\n",
       "      <td>Patilkommu8383@gmail.com</td>\n",
       "      <td>57</td>\n",
       "      <td>52</td>\n",
       "      <td>2.0</td>\n",
       "    </tr>\n",
       "    <tr>\n",
       "      <th>276</th>\n",
       "      <td>277</td>\n",
       "      <td>2021-07-03 16:20:43</td>\n",
       "      <td>2021-07-03 17:17:03</td>\n",
       "      <td>Ruchita Rani</td>\n",
       "      <td>ruchitarani14@gmail.com</td>\n",
       "      <td>32</td>\n",
       "      <td>31</td>\n",
       "      <td>56.0</td>\n",
       "    </tr>\n",
       "    <tr>\n",
       "      <th>277</th>\n",
       "      <td>278</td>\n",
       "      <td>2021-07-03 16:49:17</td>\n",
       "      <td>2021-07-03 17:19:23</td>\n",
       "      <td>Utkarsh Goswami</td>\n",
       "      <td>voraciousutkarsh536@gmail.com</td>\n",
       "      <td>45</td>\n",
       "      <td>47</td>\n",
       "      <td>30.0</td>\n",
       "    </tr>\n",
       "    <tr>\n",
       "      <th>278</th>\n",
       "      <td>279</td>\n",
       "      <td>2021-07-03 17:15:25</td>\n",
       "      <td>2021-07-03 17:30:20</td>\n",
       "      <td>Rahul Sagar</td>\n",
       "      <td>rahul47sagar@gmail.com</td>\n",
       "      <td>51</td>\n",
       "      <td>47</td>\n",
       "      <td>14.0</td>\n",
       "    </tr>\n",
       "    <tr>\n",
       "      <th>279</th>\n",
       "      <td>280</td>\n",
       "      <td>2021-07-03 17:05:35</td>\n",
       "      <td>2021-07-03 17:35:47</td>\n",
       "      <td>Salma Bano</td>\n",
       "      <td>salmabano0108@gmail.com</td>\n",
       "      <td>19</td>\n",
       "      <td>18</td>\n",
       "      <td>30.0</td>\n",
       "    </tr>\n",
       "  </tbody>\n",
       "</table>\n",
       "<p>280 rows × 8 columns</p>\n",
       "</div>"
      ],
      "text/plain": [
       "      ID          Start time     Completion time Please fill your full name?  \\\n",
       "0      1 2021-07-02 21:51:56 2021-07-02 21:52:13                         NaN   \n",
       "1      2 2021-07-03 14:13:47 2021-07-03 14:18:16               Vishal thakur   \n",
       "2      3 2021-07-03 14:18:11 2021-07-03 14:23:05            Nikita prajapati   \n",
       "3      4 2021-07-03 14:19:02 2021-07-03 14:23:40                        ansh   \n",
       "4      5 2021-07-03 14:14:44 2021-07-03 14:26:08              Krishna garare   \n",
       "..   ...                 ...                 ...                         ...   \n",
       "275  276 2021-07-03 17:12:25 2021-07-03 17:14:54                Komal  patil   \n",
       "276  277 2021-07-03 16:20:43 2021-07-03 17:17:03                Ruchita Rani   \n",
       "277  278 2021-07-03 16:49:17 2021-07-03 17:19:23             Utkarsh Goswami   \n",
       "278  279 2021-07-03 17:15:25 2021-07-03 17:30:20                Rahul Sagar    \n",
       "279  280 2021-07-03 17:05:35 2021-07-03 17:35:47                  Salma Bano   \n",
       "\n",
       "           Please fill your email?  Total points  score  time  \n",
       "0                              NaN             1      3   0.0  \n",
       "1     vishalthakur850900@gmail.com             9     11   4.0  \n",
       "2            Nikitap8912@gmail.com            14     15   4.0  \n",
       "3                 ansh00@gmail.com            14     15   4.0  \n",
       "4       krishnagararekkg@gmail.com             9      9  11.0  \n",
       "..                             ...           ...    ...   ...  \n",
       "275       Patilkommu8383@gmail.com            57     52   2.0  \n",
       "276        ruchitarani14@gmail.com            32     31  56.0  \n",
       "277  voraciousutkarsh536@gmail.com            45     47  30.0  \n",
       "278        rahul47sagar@gmail.com             51     47  14.0  \n",
       "279        salmabano0108@gmail.com            19     18  30.0  \n",
       "\n",
       "[280 rows x 8 columns]"
      ]
     },
     "execution_count": 37,
     "metadata": {},
     "output_type": "execute_result"
    }
   ],
   "source": [
    "final"
   ]
  },
  {
   "cell_type": "code",
   "execution_count": 38,
   "id": "f9437bf9",
   "metadata": {
    "ExecuteTime": {
     "end_time": "2021-10-19T06:39:16.582524Z",
     "start_time": "2021-10-19T06:39:16.512505Z"
    }
   },
   "outputs": [],
   "source": [
    "##RULES \n",
    "mintime=20\n",
    "maxtime= 60\n",
    "final=final[(final['time'] > mintime)]"
   ]
  },
  {
   "cell_type": "code",
   "execution_count": 39,
   "id": "859d648e",
   "metadata": {
    "ExecuteTime": {
     "end_time": "2021-10-19T06:39:17.145089Z",
     "start_time": "2021-10-19T06:39:17.127087Z"
    }
   },
   "outputs": [
    {
     "data": {
      "text/plain": [
       "Index(['ID', 'Start time', 'Completion time', 'Please fill your full name?',\n",
       "       'Please fill your email?', 'Total points', 'score', 'time'],\n",
       "      dtype='object')"
      ]
     },
     "execution_count": 39,
     "metadata": {},
     "output_type": "execute_result"
    }
   ],
   "source": [
    "final.columns"
   ]
  },
  {
   "cell_type": "code",
   "execution_count": 42,
   "id": "60a4321b",
   "metadata": {
    "ExecuteTime": {
     "end_time": "2021-10-19T06:39:34.983375Z",
     "start_time": "2021-10-19T06:39:34.963376Z"
    }
   },
   "outputs": [
    {
     "name": "stderr",
     "output_type": "stream",
     "text": [
      "C:\\ProgramData\\Anaconda3\\lib\\site-packages\\pandas\\core\\frame.py:4441: SettingWithCopyWarning: \n",
      "A value is trying to be set on a copy of a slice from a DataFrame\n",
      "\n",
      "See the caveats in the documentation: https://pandas.pydata.org/pandas-docs/stable/user_guide/indexing.html#returning-a-view-versus-a-copy\n",
      "  return super().rename(\n"
     ]
    }
   ],
   "source": [
    "final.rename(columns={\"Please fill your full name?\":\"Full_name\",\"Please fill your email?\":\"Email\" },inplace=True)"
   ]
  },
  {
   "cell_type": "code",
   "execution_count": 43,
   "id": "507cbaa6",
   "metadata": {
    "ExecuteTime": {
     "end_time": "2021-10-19T06:39:38.111079Z",
     "start_time": "2021-10-19T06:39:38.081081Z"
    }
   },
   "outputs": [
    {
     "data": {
      "text/html": [
       "<div>\n",
       "<style scoped>\n",
       "    .dataframe tbody tr th:only-of-type {\n",
       "        vertical-align: middle;\n",
       "    }\n",
       "\n",
       "    .dataframe tbody tr th {\n",
       "        vertical-align: top;\n",
       "    }\n",
       "\n",
       "    .dataframe thead th {\n",
       "        text-align: right;\n",
       "    }\n",
       "</style>\n",
       "<table border=\"1\" class=\"dataframe\">\n",
       "  <thead>\n",
       "    <tr style=\"text-align: right;\">\n",
       "      <th></th>\n",
       "      <th>ID</th>\n",
       "      <th>Full_name</th>\n",
       "      <th>Email</th>\n",
       "      <th>time</th>\n",
       "      <th>score</th>\n",
       "    </tr>\n",
       "  </thead>\n",
       "  <tbody>\n",
       "    <tr>\n",
       "      <th>255</th>\n",
       "      <td>256</td>\n",
       "      <td>Ujjwal Singh</td>\n",
       "      <td>usb9300322722@gmail.com</td>\n",
       "      <td>128.0</td>\n",
       "      <td>55</td>\n",
       "    </tr>\n",
       "    <tr>\n",
       "      <th>170</th>\n",
       "      <td>171</td>\n",
       "      <td>Dhiraj kumar kushwaha</td>\n",
       "      <td>dhirajkushwaha002@gmail.com</td>\n",
       "      <td>78.0</td>\n",
       "      <td>55</td>\n",
       "    </tr>\n",
       "    <tr>\n",
       "      <th>219</th>\n",
       "      <td>220</td>\n",
       "      <td>Himanshu Soni</td>\n",
       "      <td>himanshunitesh123@gmail.com</td>\n",
       "      <td>98.0</td>\n",
       "      <td>55</td>\n",
       "    </tr>\n",
       "    <tr>\n",
       "      <th>89</th>\n",
       "      <td>90</td>\n",
       "      <td>Kartik Verma</td>\n",
       "      <td>kv06010@gmail.com</td>\n",
       "      <td>49.0</td>\n",
       "      <td>53</td>\n",
       "    </tr>\n",
       "    <tr>\n",
       "      <th>169</th>\n",
       "      <td>170</td>\n",
       "      <td>Priyanshu jain</td>\n",
       "      <td>Priyansh542003@gmail.com</td>\n",
       "      <td>78.0</td>\n",
       "      <td>52</td>\n",
       "    </tr>\n",
       "    <tr>\n",
       "      <th>231</th>\n",
       "      <td>232</td>\n",
       "      <td>Blesson Jacob Sunil</td>\n",
       "      <td>blessonsunil123@gmail.com</td>\n",
       "      <td>31.0</td>\n",
       "      <td>52</td>\n",
       "    </tr>\n",
       "    <tr>\n",
       "      <th>203</th>\n",
       "      <td>204</td>\n",
       "      <td>Khushi shukla</td>\n",
       "      <td>khushishukla898@gmail.com</td>\n",
       "      <td>86.0</td>\n",
       "      <td>51</td>\n",
       "    </tr>\n",
       "    <tr>\n",
       "      <th>175</th>\n",
       "      <td>176</td>\n",
       "      <td>khushi jain</td>\n",
       "      <td>aakjain312@gmail.com</td>\n",
       "      <td>69.0</td>\n",
       "      <td>51</td>\n",
       "    </tr>\n",
       "    <tr>\n",
       "      <th>265</th>\n",
       "      <td>266</td>\n",
       "      <td>Ujjawal sharma</td>\n",
       "      <td>sharmaujjawalji@gmail.com</td>\n",
       "      <td>141.0</td>\n",
       "      <td>50</td>\n",
       "    </tr>\n",
       "    <tr>\n",
       "      <th>140</th>\n",
       "      <td>141</td>\n",
       "      <td>HEMANT HAJARE</td>\n",
       "      <td>hemantjnv2@gmail.com</td>\n",
       "      <td>43.0</td>\n",
       "      <td>50</td>\n",
       "    </tr>\n",
       "  </tbody>\n",
       "</table>\n",
       "</div>"
      ],
      "text/plain": [
       "      ID              Full_name                        Email   time  score\n",
       "255  256           Ujjwal Singh      usb9300322722@gmail.com  128.0     55\n",
       "170  171  Dhiraj kumar kushwaha  dhirajkushwaha002@gmail.com   78.0     55\n",
       "219  220          Himanshu Soni  himanshunitesh123@gmail.com   98.0     55\n",
       "89    90           Kartik Verma            kv06010@gmail.com   49.0     53\n",
       "169  170         Priyanshu jain     Priyansh542003@gmail.com   78.0     52\n",
       "231  232    Blesson Jacob Sunil    blessonsunil123@gmail.com   31.0     52\n",
       "203  204          Khushi shukla    khushishukla898@gmail.com   86.0     51\n",
       "175  176            khushi jain         aakjain312@gmail.com   69.0     51\n",
       "265  266         Ujjawal sharma    sharmaujjawalji@gmail.com  141.0     50\n",
       "140  141          HEMANT HAJARE         hemantjnv2@gmail.com   43.0     50"
      ]
     },
     "execution_count": 43,
     "metadata": {},
     "output_type": "execute_result"
    }
   ],
   "source": [
    "final[[\"ID\", \"Full_name\", \"Email\", \"time\", \"score\"]].sort_values(by=\"score\", ascending=False)[:10]"
   ]
  },
  {
   "cell_type": "code",
   "execution_count": 50,
   "id": "3ccad68e",
   "metadata": {
    "ExecuteTime": {
     "end_time": "2021-10-19T07:04:09.835573Z",
     "start_time": "2021-10-19T07:04:04.741211Z"
    }
   },
   "outputs": [
    {
     "name": "stdout",
     "output_type": "stream",
     "text": [
      "a\n",
      "\n",
      "c\n"
     ]
    }
   ],
   "source": [
    "p=input()\n",
    "a=input()\n",
    "b=input()"
   ]
  },
  {
   "cell_type": "code",
   "execution_count": 55,
   "id": "7fee8e8e",
   "metadata": {
    "ExecuteTime": {
     "end_time": "2021-10-19T07:06:17.370166Z",
     "start_time": "2021-10-19T07:06:17.341165Z"
    }
   },
   "outputs": [
    {
     "name": "stdout",
     "output_type": "stream",
     "text": [
      "p\n",
      "      ID              Full_name                        Email   time  score\n",
      "255  256           Ujjwal Singh      usb9300322722@gmail.com  128.0     55\n",
      "170  171  Dhiraj kumar kushwaha  dhirajkushwaha002@gmail.com   78.0     55\n",
      "219  220          Himanshu Soni  himanshunitesh123@gmail.com   98.0     55\n",
      "89    90           Kartik Verma            kv06010@gmail.com   49.0     53\n",
      "169  170         Priyanshu jain     Priyansh542003@gmail.com   78.0     52\n",
      "231  232    Blesson Jacob Sunil    blessonsunil123@gmail.com   31.0     52\n",
      "203  204          Khushi shukla    khushishukla898@gmail.com   86.0     51\n",
      "175  176            khushi jain         aakjain312@gmail.com   69.0     51\n",
      "265  266         Ujjawal sharma    sharmaujjawalji@gmail.com  141.0     50\n",
      "140  141          HEMANT HAJARE         hemantjnv2@gmail.com   43.0     50\n",
      "b\n"
     ]
    }
   ],
   "source": [
    "if p:\n",
    "    print(\"p\")\n",
    "    print(final[[\"ID\", \"Full_name\", \"Email\", \"time\", \"score\"]].sort_values(by=\"score\", ascending=False)[:10])\n",
    "if a:\n",
    "    print(\"a\")\n",
    "if b:\n",
    "    print(\"b\")"
   ]
  },
  {
   "cell_type": "code",
   "execution_count": 54,
   "id": "34e1ac62",
   "metadata": {
    "ExecuteTime": {
     "end_time": "2021-10-19T07:06:07.082514Z",
     "start_time": "2021-10-19T07:06:07.073515Z"
    }
   },
   "outputs": [],
   "source": [
    "if a:\n",
    "    print(\"yes\")"
   ]
  },
  {
   "cell_type": "code",
   "execution_count": null,
   "id": "7e2d6adc",
   "metadata": {},
   "outputs": [],
   "source": []
  }
 ],
 "metadata": {
  "kernelspec": {
   "display_name": "Python 3",
   "language": "python",
   "name": "python3"
  },
  "language_info": {
   "codemirror_mode": {
    "name": "ipython",
    "version": 3
   },
   "file_extension": ".py",
   "mimetype": "text/x-python",
   "name": "python",
   "nbconvert_exporter": "python",
   "pygments_lexer": "ipython3",
   "version": "3.8.8"
  }
 },
 "nbformat": 4,
 "nbformat_minor": 5
}
