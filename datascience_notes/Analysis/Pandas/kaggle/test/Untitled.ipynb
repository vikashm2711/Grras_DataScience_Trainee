{
 "cells": [
  {
   "cell_type": "code",
   "execution_count": 1,
   "id": "9c379648",
   "metadata": {
    "ExecuteTime": {
     "end_time": "2021-09-30T15:37:06.757475Z",
     "start_time": "2021-09-30T15:37:05.266350Z"
    }
   },
   "outputs": [],
   "source": [
    "import pandas as pd"
   ]
  },
  {
   "cell_type": "code",
   "execution_count": 7,
   "id": "23291fe8",
   "metadata": {
    "ExecuteTime": {
     "end_time": "2021-09-30T15:39:19.165892Z",
     "start_time": "2021-09-30T15:39:19.143895Z"
    }
   },
   "outputs": [],
   "source": [
    "df=pd.read_csv('sales_data.csv')"
   ]
  },
  {
   "cell_type": "code",
   "execution_count": 3,
   "id": "b0ab7238",
   "metadata": {
    "ExecuteTime": {
     "end_time": "2021-09-30T15:37:32.187454Z",
     "start_time": "2021-09-30T15:37:32.126455Z"
    }
   },
   "outputs": [
    {
     "data": {
      "text/html": [
       "<div>\n",
       "<style scoped>\n",
       "    .dataframe tbody tr th:only-of-type {\n",
       "        vertical-align: middle;\n",
       "    }\n",
       "\n",
       "    .dataframe tbody tr th {\n",
       "        vertical-align: top;\n",
       "    }\n",
       "\n",
       "    .dataframe thead th {\n",
       "        text-align: right;\n",
       "    }\n",
       "</style>\n",
       "<table border=\"1\" class=\"dataframe\">\n",
       "  <thead>\n",
       "    <tr style=\"text-align: right;\">\n",
       "      <th></th>\n",
       "      <th>o;?Month</th>\n",
       "      <th>Store</th>\n",
       "      <th>Sales</th>\n",
       "    </tr>\n",
       "  </thead>\n",
       "  <tbody>\n",
       "    <tr>\n",
       "      <th>0</th>\n",
       "      <td>01/01/19</td>\n",
       "      <td>A</td>\n",
       "      <td>100</td>\n",
       "    </tr>\n",
       "    <tr>\n",
       "      <th>1</th>\n",
       "      <td>01/02/19</td>\n",
       "      <td>A</td>\n",
       "      <td>300</td>\n",
       "    </tr>\n",
       "    <tr>\n",
       "      <th>2</th>\n",
       "      <td>01/03/19</td>\n",
       "      <td>A</td>\n",
       "      <td>500</td>\n",
       "    </tr>\n",
       "    <tr>\n",
       "      <th>3</th>\n",
       "      <td>01/01/19</td>\n",
       "      <td>B</td>\n",
       "      <td>50</td>\n",
       "    </tr>\n",
       "    <tr>\n",
       "      <th>4</th>\n",
       "      <td>01/02/19</td>\n",
       "      <td>B</td>\n",
       "      <td>300</td>\n",
       "    </tr>\n",
       "  </tbody>\n",
       "</table>\n",
       "</div>"
      ],
      "text/plain": [
       "   o;?Month Store  Sales\n",
       "0  01/01/19     A    100\n",
       "1  01/02/19     A    300\n",
       "2  01/03/19     A    500\n",
       "3  01/01/19     B     50\n",
       "4  01/02/19     B    300"
      ]
     },
     "execution_count": 3,
     "metadata": {},
     "output_type": "execute_result"
    }
   ],
   "source": [
    "df.head()"
   ]
  },
  {
   "cell_type": "code",
   "execution_count": 4,
   "id": "c72019e6",
   "metadata": {
    "ExecuteTime": {
     "end_time": "2021-09-30T15:37:37.668018Z",
     "start_time": "2021-09-30T15:37:37.637011Z"
    }
   },
   "outputs": [
    {
     "name": "stdout",
     "output_type": "stream",
     "text": [
      "<class 'pandas.core.frame.DataFrame'>\n",
      "RangeIndex: 12 entries, 0 to 11\n",
      "Data columns (total 3 columns):\n",
      " #   Column    Non-Null Count  Dtype \n",
      "---  ------    --------------  ----- \n",
      " 0   o;?Month  12 non-null     object\n",
      " 1   Store     12 non-null     object\n",
      " 2   Sales     12 non-null     int64 \n",
      "dtypes: int64(1), object(2)\n",
      "memory usage: 416.0+ bytes\n"
     ]
    }
   ],
   "source": [
    "df.info()"
   ]
  },
  {
   "cell_type": "code",
   "execution_count": 5,
   "id": "d0b7bcc1",
   "metadata": {
    "ExecuteTime": {
     "end_time": "2021-09-30T15:38:00.289609Z",
     "start_time": "2021-09-30T15:38:00.255586Z"
    }
   },
   "outputs": [
    {
     "data": {
      "text/html": [
       "<div>\n",
       "<style scoped>\n",
       "    .dataframe tbody tr th:only-of-type {\n",
       "        vertical-align: middle;\n",
       "    }\n",
       "\n",
       "    .dataframe tbody tr th {\n",
       "        vertical-align: top;\n",
       "    }\n",
       "\n",
       "    .dataframe thead th {\n",
       "        text-align: right;\n",
       "    }\n",
       "</style>\n",
       "<table border=\"1\" class=\"dataframe\">\n",
       "  <thead>\n",
       "    <tr style=\"text-align: right;\">\n",
       "      <th></th>\n",
       "      <th>Sales</th>\n",
       "    </tr>\n",
       "  </thead>\n",
       "  <tbody>\n",
       "    <tr>\n",
       "      <th>count</th>\n",
       "      <td>12.000000</td>\n",
       "    </tr>\n",
       "    <tr>\n",
       "      <th>mean</th>\n",
       "      <td>187.500000</td>\n",
       "    </tr>\n",
       "    <tr>\n",
       "      <th>std</th>\n",
       "      <td>129.903811</td>\n",
       "    </tr>\n",
       "    <tr>\n",
       "      <th>min</th>\n",
       "      <td>50.000000</td>\n",
       "    </tr>\n",
       "    <tr>\n",
       "      <th>25%</th>\n",
       "      <td>100.000000</td>\n",
       "    </tr>\n",
       "    <tr>\n",
       "      <th>50%</th>\n",
       "      <td>175.000000</td>\n",
       "    </tr>\n",
       "    <tr>\n",
       "      <th>75%</th>\n",
       "      <td>225.000000</td>\n",
       "    </tr>\n",
       "    <tr>\n",
       "      <th>max</th>\n",
       "      <td>500.000000</td>\n",
       "    </tr>\n",
       "  </tbody>\n",
       "</table>\n",
       "</div>"
      ],
      "text/plain": [
       "            Sales\n",
       "count   12.000000\n",
       "mean   187.500000\n",
       "std    129.903811\n",
       "min     50.000000\n",
       "25%    100.000000\n",
       "50%    175.000000\n",
       "75%    225.000000\n",
       "max    500.000000"
      ]
     },
     "execution_count": 5,
     "metadata": {},
     "output_type": "execute_result"
    }
   ],
   "source": [
    "df.describe()"
   ]
  },
  {
   "cell_type": "code",
   "execution_count": 14,
   "id": "839be995",
   "metadata": {
    "ExecuteTime": {
     "end_time": "2021-09-30T15:45:23.383986Z",
     "start_time": "2021-09-30T15:45:23.368982Z"
    }
   },
   "outputs": [],
   "source": [
    "df=df.rename(columns= {\"o;?Month\":'Month'} )"
   ]
  },
  {
   "cell_type": "code",
   "execution_count": 15,
   "id": "a592df0e",
   "metadata": {
    "ExecuteTime": {
     "end_time": "2021-09-30T15:45:26.138341Z",
     "start_time": "2021-09-30T15:45:26.113338Z"
    }
   },
   "outputs": [],
   "source": [
    "df['Month'] = pd.to_datetime(df['Month'])"
   ]
  },
  {
   "cell_type": "code",
   "execution_count": 26,
   "id": "4ebe536a",
   "metadata": {
    "ExecuteTime": {
     "end_time": "2021-09-30T16:02:34.328340Z",
     "start_time": "2021-09-30T16:02:34.312335Z"
    }
   },
   "outputs": [],
   "source": [
    "a=df.groupby(['Month'])['Sales'].max()"
   ]
  },
  {
   "cell_type": "code",
   "execution_count": 27,
   "id": "27cadefc",
   "metadata": {
    "ExecuteTime": {
     "end_time": "2021-09-30T16:02:47.891507Z",
     "start_time": "2021-09-30T16:02:47.879506Z"
    }
   },
   "outputs": [
    {
     "data": {
      "text/plain": [
       "Month\n",
       "2019-01-01    200\n",
       "2019-01-02    300\n",
       "2019-01-03    500\n",
       "Name: Sales, dtype: int64"
      ]
     },
     "execution_count": 27,
     "metadata": {},
     "output_type": "execute_result"
    }
   ],
   "source": []
  },
  {
   "cell_type": "code",
   "execution_count": 116,
   "id": "40fa6902",
   "metadata": {
    "ExecuteTime": {
     "end_time": "2021-09-30T16:46:03.968888Z",
     "start_time": "2021-09-30T16:46:03.947229Z"
    }
   },
   "outputs": [
    {
     "ename": "SyntaxError",
     "evalue": "invalid syntax (<ipython-input-116-579b1090d575>, line 1)",
     "output_type": "error",
     "traceback": [
      "\u001b[1;36m  File \u001b[1;32m\"<ipython-input-116-579b1090d575>\"\u001b[1;36m, line \u001b[1;32m1\u001b[0m\n\u001b[1;33m    a=df.groupby(['Month','Store'])['Sales'].sum().to_frame()['Sales']>100.reset_index()\u001b[0m\n\u001b[1;37m                                                                           ^\u001b[0m\n\u001b[1;31mSyntaxError\u001b[0m\u001b[1;31m:\u001b[0m invalid syntax\n"
     ]
    }
   ],
   "source": []
  },
  {
   "cell_type": "code",
   "execution_count": 110,
   "id": "e741e458",
   "metadata": {
    "ExecuteTime": {
     "end_time": "2021-09-30T16:42:20.641397Z",
     "start_time": "2021-09-30T16:42:20.594398Z"
    }
   },
   "outputs": [
    {
     "data": {
      "text/html": [
       "<div>\n",
       "<style scoped>\n",
       "    .dataframe tbody tr th:only-of-type {\n",
       "        vertical-align: middle;\n",
       "    }\n",
       "\n",
       "    .dataframe tbody tr th {\n",
       "        vertical-align: top;\n",
       "    }\n",
       "\n",
       "    .dataframe thead th {\n",
       "        text-align: right;\n",
       "    }\n",
       "</style>\n",
       "<table border=\"1\" class=\"dataframe\">\n",
       "  <thead>\n",
       "    <tr style=\"text-align: right;\">\n",
       "      <th></th>\n",
       "      <th>Month</th>\n",
       "      <th>Sales_gt_100</th>\n",
       "    </tr>\n",
       "  </thead>\n",
       "  <tbody>\n",
       "    <tr>\n",
       "      <th>0</th>\n",
       "      <td>2019-01-01</td>\n",
       "      <td>2</td>\n",
       "    </tr>\n",
       "    <tr>\n",
       "      <th>1</th>\n",
       "      <td>2019-01-02</td>\n",
       "      <td>3</td>\n",
       "    </tr>\n",
       "    <tr>\n",
       "      <th>2</th>\n",
       "      <td>2019-01-03</td>\n",
       "      <td>2</td>\n",
       "    </tr>\n",
       "  </tbody>\n",
       "</table>\n",
       "</div>"
      ],
      "text/plain": [
       "       Month  Sales_gt_100\n",
       "0 2019-01-01             2\n",
       "1 2019-01-02             3\n",
       "2 2019-01-03             2"
      ]
     },
     "execution_count": 110,
     "metadata": {},
     "output_type": "execute_result"
    }
   ],
   "source": [
    "a=df.groupby(['Month','Store'])['Sales'].sum().to_frame()\n",
    "a=a[a['Sales']>100].reset_index()\n",
    "a=a.groupby(['Month','Store']).size().reset_index(name=\"count\")\n",
    "a.groupby('Month')['count'].sum().reset_index(name=\"Sales_gt_100\")"
   ]
  },
  {
   "cell_type": "code",
   "execution_count": 66,
   "id": "26509099",
   "metadata": {
    "ExecuteTime": {
     "end_time": "2021-09-30T16:21:00.847202Z",
     "start_time": "2021-09-30T16:21:00.836201Z"
    }
   },
   "outputs": [],
   "source": [
    "a=df.groupby(['Month','Store'])['Sales'].sum().to_frame()"
   ]
  },
  {
   "cell_type": "code",
   "execution_count": 67,
   "id": "84ca5b2c",
   "metadata": {
    "ExecuteTime": {
     "end_time": "2021-09-30T16:21:01.909269Z",
     "start_time": "2021-09-30T16:21:01.884253Z"
    }
   },
   "outputs": [
    {
     "data": {
      "text/html": [
       "<div>\n",
       "<style scoped>\n",
       "    .dataframe tbody tr th:only-of-type {\n",
       "        vertical-align: middle;\n",
       "    }\n",
       "\n",
       "    .dataframe tbody tr th {\n",
       "        vertical-align: top;\n",
       "    }\n",
       "\n",
       "    .dataframe thead th {\n",
       "        text-align: right;\n",
       "    }\n",
       "</style>\n",
       "<table border=\"1\" class=\"dataframe\">\n",
       "  <thead>\n",
       "    <tr style=\"text-align: right;\">\n",
       "      <th></th>\n",
       "      <th></th>\n",
       "      <th>Sales</th>\n",
       "    </tr>\n",
       "    <tr>\n",
       "      <th>Month</th>\n",
       "      <th>Store</th>\n",
       "      <th></th>\n",
       "    </tr>\n",
       "  </thead>\n",
       "  <tbody>\n",
       "    <tr>\n",
       "      <th rowspan=\"4\" valign=\"top\">2019-01-01</th>\n",
       "      <th>A</th>\n",
       "      <td>100</td>\n",
       "    </tr>\n",
       "    <tr>\n",
       "      <th>B</th>\n",
       "      <td>50</td>\n",
       "    </tr>\n",
       "    <tr>\n",
       "      <th>C</th>\n",
       "      <td>200</td>\n",
       "    </tr>\n",
       "    <tr>\n",
       "      <th>D</th>\n",
       "      <td>150</td>\n",
       "    </tr>\n",
       "    <tr>\n",
       "      <th rowspan=\"4\" valign=\"top\">2019-01-02</th>\n",
       "      <th>A</th>\n",
       "      <td>300</td>\n",
       "    </tr>\n",
       "    <tr>\n",
       "      <th>B</th>\n",
       "      <td>300</td>\n",
       "    </tr>\n",
       "    <tr>\n",
       "      <th>C</th>\n",
       "      <td>200</td>\n",
       "    </tr>\n",
       "    <tr>\n",
       "      <th>D</th>\n",
       "      <td>100</td>\n",
       "    </tr>\n",
       "    <tr>\n",
       "      <th rowspan=\"4\" valign=\"top\">2019-01-03</th>\n",
       "      <th>A</th>\n",
       "      <td>500</td>\n",
       "    </tr>\n",
       "    <tr>\n",
       "      <th>B</th>\n",
       "      <td>50</td>\n",
       "    </tr>\n",
       "    <tr>\n",
       "      <th>C</th>\n",
       "      <td>100</td>\n",
       "    </tr>\n",
       "    <tr>\n",
       "      <th>D</th>\n",
       "      <td>200</td>\n",
       "    </tr>\n",
       "  </tbody>\n",
       "</table>\n",
       "</div>"
      ],
      "text/plain": [
       "                  Sales\n",
       "Month      Store       \n",
       "2019-01-01 A        100\n",
       "           B         50\n",
       "           C        200\n",
       "           D        150\n",
       "2019-01-02 A        300\n",
       "           B        300\n",
       "           C        200\n",
       "           D        100\n",
       "2019-01-03 A        500\n",
       "           B         50\n",
       "           C        100\n",
       "           D        200"
      ]
     },
     "execution_count": 67,
     "metadata": {},
     "output_type": "execute_result"
    }
   ],
   "source": [
    "a"
   ]
  },
  {
   "cell_type": "code",
   "execution_count": 68,
   "id": "a04b099c",
   "metadata": {
    "ExecuteTime": {
     "end_time": "2021-09-30T16:21:07.654874Z",
     "start_time": "2021-09-30T16:21:07.633852Z"
    }
   },
   "outputs": [],
   "source": [
    "a=a[a['Sales']>100].reset_index()"
   ]
  },
  {
   "cell_type": "code",
   "execution_count": 69,
   "id": "201c3965",
   "metadata": {
    "ExecuteTime": {
     "end_time": "2021-09-30T16:21:12.707119Z",
     "start_time": "2021-09-30T16:21:12.682118Z"
    }
   },
   "outputs": [],
   "source": [
    "a=a.groupby(['Month','Store']).size().reset_index(name=\"count\")"
   ]
  },
  {
   "cell_type": "code",
   "execution_count": 70,
   "id": "a265766d",
   "metadata": {
    "ExecuteTime": {
     "end_time": "2021-09-30T16:21:13.922322Z",
     "start_time": "2021-09-30T16:21:13.906321Z"
    }
   },
   "outputs": [
    {
     "data": {
      "text/html": [
       "<div>\n",
       "<style scoped>\n",
       "    .dataframe tbody tr th:only-of-type {\n",
       "        vertical-align: middle;\n",
       "    }\n",
       "\n",
       "    .dataframe tbody tr th {\n",
       "        vertical-align: top;\n",
       "    }\n",
       "\n",
       "    .dataframe thead th {\n",
       "        text-align: right;\n",
       "    }\n",
       "</style>\n",
       "<table border=\"1\" class=\"dataframe\">\n",
       "  <thead>\n",
       "    <tr style=\"text-align: right;\">\n",
       "      <th></th>\n",
       "      <th>Month</th>\n",
       "      <th>Store</th>\n",
       "      <th>count</th>\n",
       "    </tr>\n",
       "  </thead>\n",
       "  <tbody>\n",
       "    <tr>\n",
       "      <th>0</th>\n",
       "      <td>2019-01-01</td>\n",
       "      <td>C</td>\n",
       "      <td>1</td>\n",
       "    </tr>\n",
       "    <tr>\n",
       "      <th>1</th>\n",
       "      <td>2019-01-01</td>\n",
       "      <td>D</td>\n",
       "      <td>1</td>\n",
       "    </tr>\n",
       "    <tr>\n",
       "      <th>2</th>\n",
       "      <td>2019-01-02</td>\n",
       "      <td>A</td>\n",
       "      <td>1</td>\n",
       "    </tr>\n",
       "    <tr>\n",
       "      <th>3</th>\n",
       "      <td>2019-01-02</td>\n",
       "      <td>B</td>\n",
       "      <td>1</td>\n",
       "    </tr>\n",
       "    <tr>\n",
       "      <th>4</th>\n",
       "      <td>2019-01-02</td>\n",
       "      <td>C</td>\n",
       "      <td>1</td>\n",
       "    </tr>\n",
       "    <tr>\n",
       "      <th>5</th>\n",
       "      <td>2019-01-03</td>\n",
       "      <td>A</td>\n",
       "      <td>1</td>\n",
       "    </tr>\n",
       "    <tr>\n",
       "      <th>6</th>\n",
       "      <td>2019-01-03</td>\n",
       "      <td>D</td>\n",
       "      <td>1</td>\n",
       "    </tr>\n",
       "  </tbody>\n",
       "</table>\n",
       "</div>"
      ],
      "text/plain": [
       "       Month Store  count\n",
       "0 2019-01-01     C      1\n",
       "1 2019-01-01     D      1\n",
       "2 2019-01-02     A      1\n",
       "3 2019-01-02     B      1\n",
       "4 2019-01-02     C      1\n",
       "5 2019-01-03     A      1\n",
       "6 2019-01-03     D      1"
      ]
     },
     "execution_count": 70,
     "metadata": {},
     "output_type": "execute_result"
    }
   ],
   "source": [
    "a"
   ]
  },
  {
   "cell_type": "code",
   "execution_count": 72,
   "id": "d7525caf",
   "metadata": {
    "ExecuteTime": {
     "end_time": "2021-09-30T16:21:41.366083Z",
     "start_time": "2021-09-30T16:21:41.339059Z"
    }
   },
   "outputs": [
    {
     "data": {
      "text/html": [
       "<div>\n",
       "<style scoped>\n",
       "    .dataframe tbody tr th:only-of-type {\n",
       "        vertical-align: middle;\n",
       "    }\n",
       "\n",
       "    .dataframe tbody tr th {\n",
       "        vertical-align: top;\n",
       "    }\n",
       "\n",
       "    .dataframe thead th {\n",
       "        text-align: right;\n",
       "    }\n",
       "</style>\n",
       "<table border=\"1\" class=\"dataframe\">\n",
       "  <thead>\n",
       "    <tr style=\"text-align: right;\">\n",
       "      <th></th>\n",
       "      <th>Month</th>\n",
       "      <th>Sales_gt_100</th>\n",
       "    </tr>\n",
       "  </thead>\n",
       "  <tbody>\n",
       "    <tr>\n",
       "      <th>0</th>\n",
       "      <td>2019-01-01</td>\n",
       "      <td>2</td>\n",
       "    </tr>\n",
       "    <tr>\n",
       "      <th>1</th>\n",
       "      <td>2019-01-02</td>\n",
       "      <td>3</td>\n",
       "    </tr>\n",
       "    <tr>\n",
       "      <th>2</th>\n",
       "      <td>2019-01-03</td>\n",
       "      <td>2</td>\n",
       "    </tr>\n",
       "  </tbody>\n",
       "</table>\n",
       "</div>"
      ],
      "text/plain": [
       "       Month  Sales_gt_100\n",
       "0 2019-01-01             2\n",
       "1 2019-01-02             3\n",
       "2 2019-01-03             2"
      ]
     },
     "execution_count": 72,
     "metadata": {},
     "output_type": "execute_result"
    }
   ],
   "source": [
    "a.groupby('Month')['count'].sum().reset_index(name=\"Sales_gt_100\")"
   ]
  },
  {
   "cell_type": "code",
   "execution_count": 102,
   "id": "032bffea",
   "metadata": {
    "ExecuteTime": {
     "end_time": "2021-09-30T16:36:49.107440Z",
     "start_time": "2021-09-30T16:36:49.088404Z"
    }
   },
   "outputs": [
    {
     "data": {
      "text/plain": [
       "0     100\n",
       "1     300\n",
       "2     500\n",
       "3      50\n",
       "4     300\n",
       "5      50\n",
       "6     200\n",
       "7     200\n",
       "8     100\n",
       "9     150\n",
       "10    100\n",
       "11    200\n",
       "Name: Sales, dtype: int64"
      ]
     },
     "execution_count": 102,
     "metadata": {},
     "output_type": "execute_result"
    }
   ],
   "source": [
    "df['Sales']"
   ]
  },
  {
   "cell_type": "code",
   "execution_count": 107,
   "id": "7797ff13",
   "metadata": {
    "ExecuteTime": {
     "end_time": "2021-09-30T16:37:57.500714Z",
     "start_time": "2021-09-30T16:37:57.481716Z"
    }
   },
   "outputs": [],
   "source": [
    "def check(value):\n",
    "    if value <= 150:\n",
    "        return 'a'\n",
    "    elif value <= 299 and value >= 151:\n",
    "        return 'b'\n",
    "    elif value >= 300:\n",
    "        return 'c'\n",
    "    \n"
   ]
  },
  {
   "cell_type": "code",
   "execution_count": 117,
   "id": "82192d63",
   "metadata": {
    "ExecuteTime": {
     "end_time": "2021-09-30T18:36:10.892457Z",
     "start_time": "2021-09-30T18:36:10.756348Z"
    }
   },
   "outputs": [
    {
     "data": {
      "text/html": [
       "<div>\n",
       "<style scoped>\n",
       "    .dataframe tbody tr th:only-of-type {\n",
       "        vertical-align: middle;\n",
       "    }\n",
       "\n",
       "    .dataframe tbody tr th {\n",
       "        vertical-align: top;\n",
       "    }\n",
       "\n",
       "    .dataframe thead th {\n",
       "        text-align: right;\n",
       "    }\n",
       "</style>\n",
       "<table border=\"1\" class=\"dataframe\">\n",
       "  <thead>\n",
       "    <tr style=\"text-align: right;\">\n",
       "      <th></th>\n",
       "      <th>Sales</th>\n",
       "    </tr>\n",
       "  </thead>\n",
       "  <tbody>\n",
       "    <tr>\n",
       "      <th>a</th>\n",
       "      <td>6</td>\n",
       "    </tr>\n",
       "    <tr>\n",
       "      <th>c</th>\n",
       "      <td>3</td>\n",
       "    </tr>\n",
       "    <tr>\n",
       "      <th>b</th>\n",
       "      <td>3</td>\n",
       "    </tr>\n",
       "  </tbody>\n",
       "</table>\n",
       "</div>"
      ],
      "text/plain": [
       "   Sales\n",
       "a      6\n",
       "c      3\n",
       "b      3"
      ]
     },
     "execution_count": 117,
     "metadata": {},
     "output_type": "execute_result"
    }
   ],
   "source": [
    "df['Sales'].apply(check).value_counts().to_frame()"
   ]
  },
  {
   "cell_type": "code",
   "execution_count": 114,
   "id": "c6b0f540",
   "metadata": {
    "ExecuteTime": {
     "end_time": "2021-09-30T16:44:45.403514Z",
     "start_time": "2021-09-30T16:44:45.386511Z"
    }
   },
   "outputs": [
    {
     "data": {
      "text/plain": [
       "Store  Month     \n",
       "A      2019-01-01    100\n",
       "       2019-01-02    300\n",
       "       2019-01-03    500\n",
       "B      2019-01-01     50\n",
       "       2019-01-02    300\n",
       "       2019-01-03     50\n",
       "C      2019-01-01    200\n",
       "       2019-01-02    200\n",
       "       2019-01-03    100\n",
       "D      2019-01-01    150\n",
       "       2019-01-02    100\n",
       "       2019-01-03    200\n",
       "Name: Sales, dtype: int64"
      ]
     },
     "execution_count": 114,
     "metadata": {},
     "output_type": "execute_result"
    }
   ],
   "source": [
    "df.groupby(['Store','Month'])['Sales'].sum()"
   ]
  },
  {
   "cell_type": "code",
   "execution_count": null,
   "id": "0af54046",
   "metadata": {},
   "outputs": [],
   "source": []
  }
 ],
 "metadata": {
  "kernelspec": {
   "display_name": "Python 3",
   "language": "python",
   "name": "python3"
  },
  "language_info": {
   "codemirror_mode": {
    "name": "ipython",
    "version": 3
   },
   "file_extension": ".py",
   "mimetype": "text/x-python",
   "name": "python",
   "nbconvert_exporter": "python",
   "pygments_lexer": "ipython3",
   "version": "3.8.8"
  }
 },
 "nbformat": 4,
 "nbformat_minor": 5
}
