{
 "cells": [
  {
   "cell_type": "code",
   "execution_count": 1,
   "id": "82dc75fb",
   "metadata": {
    "ExecuteTime": {
     "end_time": "2021-10-05T06:26:33.215391Z",
     "start_time": "2021-10-05T06:26:30.871701Z"
    }
   },
   "outputs": [],
   "source": [
    "import numpy as np\n",
    "import pandas as pd\n",
    "import matplotlib.pyplot as plt\n",
    "\n",
    "plt.rcParams['figure.figsize'] =11,5\n",
    "plt.rcParams['figure.dpi'] =100\n"
   ]
  },
  {
   "cell_type": "markdown",
   "id": "91b44b3b",
   "metadata": {},
   "source": []
  },
  {
   "cell_type": "code",
   "execution_count": 2,
   "id": "3c3b42e0",
   "metadata": {
    "ExecuteTime": {
     "end_time": "2021-10-05T06:26:34.531486Z",
     "start_time": "2021-10-05T06:26:33.219359Z"
    }
   },
   "outputs": [],
   "source": [
    "rd=pd.read_excel(\"../Dataset/RAW Data with 2 Sheets.xlsx\")"
   ]
  },
  {
   "cell_type": "code",
   "execution_count": 3,
   "id": "3e0bf9f6",
   "metadata": {
    "ExecuteTime": {
     "end_time": "2021-10-05T06:26:34.611472Z",
     "start_time": "2021-10-05T06:26:34.536471Z"
    }
   },
   "outputs": [
    {
     "name": "stdout",
     "output_type": "stream",
     "text": [
      "<class 'pandas.core.frame.DataFrame'>\n",
      "RangeIndex: 69 entries, 0 to 68\n",
      "Data columns (total 23 columns):\n",
      " #   Column                                    Non-Null Count  Dtype         \n",
      "---  ------                                    --------------  -----         \n",
      " 0   Start Date                                69 non-null     datetime64[ns]\n",
      " 1   End Date                                  69 non-null     datetime64[ns]\n",
      " 2   Portfolio name                            69 non-null     object        \n",
      " 3   Currency                                  69 non-null     object        \n",
      " 4   Campaign Name                             69 non-null     object        \n",
      " 5   Ad Group Name                             69 non-null     object        \n",
      " 6   Advertised SKU                            69 non-null     object        \n",
      " 7   Advertised ASIN                           69 non-null     object        \n",
      " 8   Impressions                               69 non-null     int64         \n",
      " 9   Clicks                                    69 non-null     int64         \n",
      " 10  Click-Thru Rate (CTR)                     69 non-null     float64       \n",
      " 11  Cost Per Click (CPC)                      50 non-null     float64       \n",
      " 12  Spend                                     69 non-null     float64       \n",
      " 13  7 Day Total Sales                         69 non-null     float64       \n",
      " 14  Total Advertising Cost of Sales (ACoS)    26 non-null     float64       \n",
      " 15  Total Return on Advertising Spend (RoAS)  50 non-null     float64       \n",
      " 16  7 Day Total Orders (#)                    69 non-null     int64         \n",
      " 17  7 Day Total Units (#)                     69 non-null     int64         \n",
      " 18  7 Day Conversion Rate                     50 non-null     float64       \n",
      " 19  7 Day Advertised SKU Units (#)            69 non-null     int64         \n",
      " 20  7 Day Other SKU Units (#)                 69 non-null     int64         \n",
      " 21  7 Day Advertised SKU Sales                69 non-null     float64       \n",
      " 22  7 Day Other SKU Sales                     69 non-null     float64       \n",
      "dtypes: datetime64[ns](2), float64(9), int64(6), object(6)\n",
      "memory usage: 12.5+ KB\n"
     ]
    }
   ],
   "source": [
    "rd.info()"
   ]
  },
  {
   "cell_type": "markdown",
   "id": "1da7b60f",
   "metadata": {},
   "source": [
    "#### A. What is the Conversion rate across all the Advertised SKU? Which one has the least and highest Conversion rate ?"
   ]
  },
  {
   "cell_type": "code",
   "execution_count": 4,
   "id": "eff2abc6",
   "metadata": {
    "ExecuteTime": {
     "end_time": "2021-10-05T06:26:36.582603Z",
     "start_time": "2021-10-05T06:26:36.507647Z"
    }
   },
   "outputs": [],
   "source": [
    "rd[\"conversion_rate\"] = rd[\"7 Day Total Orders (#)\"]/rd[\"Clicks\"]"
   ]
  },
  {
   "cell_type": "code",
   "execution_count": 5,
   "id": "c6a274e2",
   "metadata": {
    "ExecuteTime": {
     "end_time": "2021-10-05T06:26:37.090670Z",
     "start_time": "2021-10-05T06:26:37.055670Z"
    }
   },
   "outputs": [
    {
     "data": {
      "text/plain": [
       "Advertised SKU\n",
       "AE_HHSB_M001_1106E    0.000000\n",
       "BRH_INS_EUC_90        0.353448\n",
       "BRH_INS_LAV_90        0.465226\n",
       "BRH_INS_NAGC_90       0.427852\n",
       "BRH_INS_ROS_90        0.274634\n",
       "BRH_INS_SAN_90        0.444903\n",
       "V4-YKF0-7ZJE          0.000000\n",
       "Name: 7 Day Conversion Rate, dtype: float64"
      ]
     },
     "execution_count": 5,
     "metadata": {},
     "output_type": "execute_result"
    }
   ],
   "source": [
    "rd.groupby(\"Advertised SKU\")[\"7 Day Conversion Rate\"].sum()"
   ]
  },
  {
   "cell_type": "code",
   "execution_count": 6,
   "id": "8b2969a5",
   "metadata": {
    "ExecuteTime": {
     "end_time": "2021-10-05T06:26:38.859024Z",
     "start_time": "2021-10-05T06:26:38.844022Z"
    }
   },
   "outputs": [],
   "source": [
    "cr_=rd.groupby(\"Advertised SKU\")[\"conversion_rate\"].sum().to_frame()"
   ]
  },
  {
   "cell_type": "code",
   "execution_count": 7,
   "id": "38b6f1fc",
   "metadata": {
    "ExecuteTime": {
     "end_time": "2021-10-05T06:26:39.379663Z",
     "start_time": "2021-10-05T06:26:39.346870Z"
    }
   },
   "outputs": [
    {
     "data": {
      "text/html": [
       "<div>\n",
       "<style scoped>\n",
       "    .dataframe tbody tr th:only-of-type {\n",
       "        vertical-align: middle;\n",
       "    }\n",
       "\n",
       "    .dataframe tbody tr th {\n",
       "        vertical-align: top;\n",
       "    }\n",
       "\n",
       "    .dataframe thead th {\n",
       "        text-align: right;\n",
       "    }\n",
       "</style>\n",
       "<table border=\"1\" class=\"dataframe\">\n",
       "  <thead>\n",
       "    <tr style=\"text-align: right;\">\n",
       "      <th></th>\n",
       "      <th>conversion_rate</th>\n",
       "    </tr>\n",
       "    <tr>\n",
       "      <th>Advertised SKU</th>\n",
       "      <th></th>\n",
       "    </tr>\n",
       "  </thead>\n",
       "  <tbody>\n",
       "    <tr>\n",
       "      <th>AE_HHSB_M001_1106E</th>\n",
       "      <td>0.000000</td>\n",
       "    </tr>\n",
       "    <tr>\n",
       "      <th>BRH_INS_EUC_90</th>\n",
       "      <td>0.353448</td>\n",
       "    </tr>\n",
       "    <tr>\n",
       "      <th>BRH_INS_LAV_90</th>\n",
       "      <td>0.465226</td>\n",
       "    </tr>\n",
       "    <tr>\n",
       "      <th>BRH_INS_NAGC_90</th>\n",
       "      <td>0.427852</td>\n",
       "    </tr>\n",
       "    <tr>\n",
       "      <th>BRH_INS_ROS_90</th>\n",
       "      <td>0.274634</td>\n",
       "    </tr>\n",
       "    <tr>\n",
       "      <th>BRH_INS_SAN_90</th>\n",
       "      <td>0.444903</td>\n",
       "    </tr>\n",
       "    <tr>\n",
       "      <th>V4-YKF0-7ZJE</th>\n",
       "      <td>0.000000</td>\n",
       "    </tr>\n",
       "  </tbody>\n",
       "</table>\n",
       "</div>"
      ],
      "text/plain": [
       "                    conversion_rate\n",
       "Advertised SKU                     \n",
       "AE_HHSB_M001_1106E         0.000000\n",
       "BRH_INS_EUC_90             0.353448\n",
       "BRH_INS_LAV_90             0.465226\n",
       "BRH_INS_NAGC_90            0.427852\n",
       "BRH_INS_ROS_90             0.274634\n",
       "BRH_INS_SAN_90             0.444903\n",
       "V4-YKF0-7ZJE               0.000000"
      ]
     },
     "execution_count": 7,
     "metadata": {},
     "output_type": "execute_result"
    }
   ],
   "source": [
    "cr_"
   ]
  },
  {
   "cell_type": "code",
   "execution_count": 8,
   "id": "8001439f",
   "metadata": {
    "ExecuteTime": {
     "end_time": "2021-10-05T06:26:40.721460Z",
     "start_time": "2021-10-05T06:26:40.692458Z"
    }
   },
   "outputs": [
    {
     "data": {
      "text/html": [
       "<div>\n",
       "<style scoped>\n",
       "    .dataframe tbody tr th:only-of-type {\n",
       "        vertical-align: middle;\n",
       "    }\n",
       "\n",
       "    .dataframe tbody tr th {\n",
       "        vertical-align: top;\n",
       "    }\n",
       "\n",
       "    .dataframe thead th {\n",
       "        text-align: right;\n",
       "    }\n",
       "</style>\n",
       "<table border=\"1\" class=\"dataframe\">\n",
       "  <thead>\n",
       "    <tr style=\"text-align: right;\">\n",
       "      <th></th>\n",
       "      <th>conversion_rate</th>\n",
       "    </tr>\n",
       "    <tr>\n",
       "      <th>Advertised SKU</th>\n",
       "      <th></th>\n",
       "    </tr>\n",
       "  </thead>\n",
       "  <tbody>\n",
       "    <tr>\n",
       "      <th>BRH_INS_LAV_90</th>\n",
       "      <td>0.465226</td>\n",
       "    </tr>\n",
       "  </tbody>\n",
       "</table>\n",
       "</div>"
      ],
      "text/plain": [
       "                conversion_rate\n",
       "Advertised SKU                 \n",
       "BRH_INS_LAV_90         0.465226"
      ]
     },
     "execution_count": 8,
     "metadata": {},
     "output_type": "execute_result"
    }
   ],
   "source": [
    "cr_[cr_[\"conversion_rate\"]==cr_[\"conversion_rate\"].max()]"
   ]
  },
  {
   "cell_type": "code",
   "execution_count": 9,
   "id": "fbf237f8",
   "metadata": {
    "ExecuteTime": {
     "end_time": "2021-10-05T06:26:41.541580Z",
     "start_time": "2021-10-05T06:26:41.518582Z"
    }
   },
   "outputs": [
    {
     "data": {
      "text/html": [
       "<div>\n",
       "<style scoped>\n",
       "    .dataframe tbody tr th:only-of-type {\n",
       "        vertical-align: middle;\n",
       "    }\n",
       "\n",
       "    .dataframe tbody tr th {\n",
       "        vertical-align: top;\n",
       "    }\n",
       "\n",
       "    .dataframe thead th {\n",
       "        text-align: right;\n",
       "    }\n",
       "</style>\n",
       "<table border=\"1\" class=\"dataframe\">\n",
       "  <thead>\n",
       "    <tr style=\"text-align: right;\">\n",
       "      <th></th>\n",
       "      <th>conversion_rate</th>\n",
       "    </tr>\n",
       "    <tr>\n",
       "      <th>Advertised SKU</th>\n",
       "      <th></th>\n",
       "    </tr>\n",
       "  </thead>\n",
       "  <tbody>\n",
       "    <tr>\n",
       "      <th>AE_HHSB_M001_1106E</th>\n",
       "      <td>0.0</td>\n",
       "    </tr>\n",
       "    <tr>\n",
       "      <th>V4-YKF0-7ZJE</th>\n",
       "      <td>0.0</td>\n",
       "    </tr>\n",
       "  </tbody>\n",
       "</table>\n",
       "</div>"
      ],
      "text/plain": [
       "                    conversion_rate\n",
       "Advertised SKU                     \n",
       "AE_HHSB_M001_1106E              0.0\n",
       "V4-YKF0-7ZJE                    0.0"
      ]
     },
     "execution_count": 9,
     "metadata": {},
     "output_type": "execute_result"
    }
   ],
   "source": [
    "cr_[cr_[\"conversion_rate\"]==cr_[\"conversion_rate\"].min()]"
   ]
  },
  {
   "cell_type": "code",
   "execution_count": 15,
   "id": "ddb54526",
   "metadata": {
    "ExecuteTime": {
     "end_time": "2021-10-04T06:01:34.550033Z",
     "start_time": "2021-10-04T06:01:34.120712Z"
    }
   },
   "outputs": [],
   "source": [
    "rd2=pd.read_excel(\"../Dataset/RAW Data with 2 Sheets.xlsx\", sheet_name=\"RAW Data 2 For Search Terms\")"
   ]
  },
  {
   "cell_type": "code",
   "execution_count": 16,
   "id": "f4b16c52",
   "metadata": {
    "ExecuteTime": {
     "end_time": "2021-10-04T06:01:39.592886Z",
     "start_time": "2021-10-04T06:01:39.556504Z"
    }
   },
   "outputs": [
    {
     "name": "stdout",
     "output_type": "stream",
     "text": [
      "<class 'pandas.core.frame.DataFrame'>\n",
      "RangeIndex: 780 entries, 0 to 779\n",
      "Data columns (total 24 columns):\n",
      " #   Column                                    Non-Null Count  Dtype  \n",
      "---  ------                                    --------------  -----  \n",
      " 0   Start Date                                780 non-null    object \n",
      " 1   End Date                                  780 non-null    object \n",
      " 2   Portfolio name                            780 non-null    object \n",
      " 3   Currency                                  780 non-null    object \n",
      " 4   Campaign Name                             780 non-null    object \n",
      " 5   Ad Group Name                             780 non-null    object \n",
      " 6   Targeting                                 780 non-null    object \n",
      " 7   Match Type                                780 non-null    object \n",
      " 8   Customer Search Term                      780 non-null    object \n",
      " 9   Impressions                               780 non-null    int64  \n",
      " 10  Clicks                                    780 non-null    int64  \n",
      " 11  Click-Thru Rate (CTR)                     777 non-null    float64\n",
      " 12  Cost Per Click (CPC)                      778 non-null    object \n",
      " 13  Spend                                     780 non-null    object \n",
      " 14  7 Day Total Sales                         780 non-null    object \n",
      " 15  Total Advertising Cost of Sales (ACoS)    50 non-null     float64\n",
      " 16  Total Return on Advertising Spend (RoAS)  778 non-null    float64\n",
      " 17  7 Day Total Orders (#)                    780 non-null    int64  \n",
      " 18  7 Day Total Units (#)                     780 non-null    int64  \n",
      " 19  7 Day Conversion Rate                     778 non-null    float64\n",
      " 20  7 Day Advertised SKU Units (#)            780 non-null    int64  \n",
      " 21  7 Day Other SKU Units (#)                 780 non-null    int64  \n",
      " 22  7 Day Advertised SKU Sales                780 non-null    object \n",
      " 23  7 Day Other SKU Sales                     780 non-null    object \n",
      "dtypes: float64(4), int64(6), object(14)\n",
      "memory usage: 146.4+ KB\n"
     ]
    }
   ],
   "source": [
    "rd2.info()"
   ]
  },
  {
   "cell_type": "markdown",
   "id": "22f76491",
   "metadata": {},
   "source": [
    "#### b. Which are the top 10 “customer search terms” getting clicks, but no orders ?\n",
    "For this use the sheet “RAW Data 2 For Search Terms”"
   ]
  },
  {
   "cell_type": "code",
   "execution_count": 47,
   "id": "b57616c5",
   "metadata": {
    "ExecuteTime": {
     "end_time": "2021-10-04T06:17:41.704700Z",
     "start_time": "2021-10-04T06:17:41.686650Z"
    }
   },
   "outputs": [],
   "source": [
    "noclicks=rd2[rd2[\"7 Day Total Orders (#)\"]==0]"
   ]
  },
  {
   "cell_type": "code",
   "execution_count": 49,
   "id": "11f21300",
   "metadata": {
    "ExecuteTime": {
     "end_time": "2021-10-04T06:18:03.368996Z",
     "start_time": "2021-10-04T06:18:03.345342Z"
    }
   },
   "outputs": [
    {
     "data": {
      "text/plain": [
       "lavender incense sticks    5\n",
       "incense sticks             5\n",
       "incense premium            5\n",
       "b08rbxj635                 5\n",
       "phool incense sticks       4\n",
       "resin incense              4\n",
       "b01n8v1e2h                 4\n",
       "b0021gbnpc                 3\n",
       "sandalwood incense         3\n",
       "b07bvg6964                 3\n",
       "Name: Customer Search Term, dtype: int64"
      ]
     },
     "execution_count": 49,
     "metadata": {},
     "output_type": "execute_result"
    }
   ],
   "source": [
    "noclicks[\"Customer Search Term\"].value_counts()[:10]"
   ]
  },
  {
   "cell_type": "code",
   "execution_count": null,
   "id": "61933f3a",
   "metadata": {},
   "outputs": [],
   "source": []
  }
 ],
 "metadata": {
  "_draft": {
   "nbviewer_url": "https://gist.github.com/242264bd07981381c84e38e7799b4413"
  },
  "gist": {
   "data": {
    "description": "test/raw_data_test.ipynb",
    "public": false
   },
   "id": "242264bd07981381c84e38e7799b4413"
  },
  "kernelspec": {
   "display_name": "Python 3",
   "language": "python",
   "name": "python3"
  },
  "language_info": {
   "codemirror_mode": {
    "name": "ipython",
    "version": 3
   },
   "file_extension": ".py",
   "mimetype": "text/x-python",
   "name": "python",
   "nbconvert_exporter": "python",
   "pygments_lexer": "ipython3",
   "version": "3.8.8"
  }
 },
 "nbformat": 4,
 "nbformat_minor": 5
}
