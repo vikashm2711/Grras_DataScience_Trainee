{
 "cells": [
  {
   "cell_type": "code",
   "execution_count": 30,
   "id": "f9995ac0",
   "metadata": {
    "ExecuteTime": {
     "end_time": "2021-10-04T03:36:57.268386Z",
     "start_time": "2021-10-04T03:36:57.252740Z"
    }
   },
   "outputs": [],
   "source": [
    "import numpy as np\n",
    "import pandas as pd\n",
    "import matplotlib.pyplot as plt\n",
    "\n",
    "plt.rcParams['figure.figsize'] =11,5\n",
    "plt.rcParams['figure.dpi'] =100\n"
   ]
  },
  {
   "cell_type": "code",
   "execution_count": 31,
   "id": "7a9e56e4",
   "metadata": {
    "ExecuteTime": {
     "end_time": "2021-10-04T03:36:57.315258Z",
     "start_time": "2021-10-04T03:36:57.268386Z"
    }
   },
   "outputs": [
    {
     "name": "stderr",
     "output_type": "stream",
     "text": [
      "<ipython-input-31-f5d9d4271205>:1: ParserWarning: Falling back to the 'python' engine because the 'c' engine does not support skipfooter; you can avoid this warning by specifying engine='python'.\n",
      "  mp=pd.read_csv(\"Dataset/1990-2021.csv\", skipfooter=1, usecols=[\"Date\", \"United States(USD)\",\"India(INR)\"])\n"
     ]
    }
   ],
   "source": [
    "mp=pd.read_csv(\"Dataset/1990-2021.csv\", skipfooter=1, usecols=[\"Date\", \"United States(USD)\",\"India(INR)\"])"
   ]
  },
  {
   "cell_type": "code",
   "execution_count": 32,
   "id": "d1046d14",
   "metadata": {
    "ExecuteTime": {
     "end_time": "2021-10-04T03:36:57.368683Z",
     "start_time": "2021-10-04T03:36:57.315258Z"
    }
   },
   "outputs": [
    {
     "name": "stdout",
     "output_type": "stream",
     "text": [
      "<class 'pandas.core.frame.DataFrame'>\n",
      "RangeIndex: 378 entries, 0 to 377\n",
      "Data columns (total 3 columns):\n",
      " #   Column              Non-Null Count  Dtype  \n",
      "---  ------              --------------  -----  \n",
      " 0   Date                378 non-null    object \n",
      " 1   United States(USD)  378 non-null    float64\n",
      " 2   India(INR)          378 non-null    float64\n",
      "dtypes: float64(2), object(1)\n",
      "memory usage: 9.0+ KB\n"
     ]
    }
   ],
   "source": [
    "mp.info()"
   ]
  },
  {
   "cell_type": "code",
   "execution_count": 33,
   "id": "75b532b3",
   "metadata": {
    "ExecuteTime": {
     "end_time": "2021-10-04T03:36:57.399912Z",
     "start_time": "2021-10-04T03:36:57.368683Z"
    }
   },
   "outputs": [],
   "source": [
    "mp.rename(columns = {\"India(INR)\": \"INR_g\", \"United States(USD)\":\"USD_g\"}, inplace=True)"
   ]
  },
  {
   "cell_type": "code",
   "execution_count": 34,
   "id": "246f99e1",
   "metadata": {
    "ExecuteTime": {
     "end_time": "2021-10-04T03:36:57.446789Z",
     "start_time": "2021-10-04T03:36:57.399912Z"
    }
   },
   "outputs": [],
   "source": [
    "mp.Date= pd.to_datetime(mp.Date)"
   ]
  },
  {
   "cell_type": "code",
   "execution_count": 35,
   "id": "3d57f4ce",
   "metadata": {
    "ExecuteTime": {
     "end_time": "2021-10-04T03:36:57.484571Z",
     "start_time": "2021-10-04T03:36:57.446789Z"
    }
   },
   "outputs": [
    {
     "name": "stdout",
     "output_type": "stream",
     "text": [
      "<class 'pandas.core.frame.DataFrame'>\n",
      "RangeIndex: 378 entries, 0 to 377\n",
      "Data columns (total 3 columns):\n",
      " #   Column  Non-Null Count  Dtype         \n",
      "---  ------  --------------  -----         \n",
      " 0   Date    378 non-null    datetime64[ns]\n",
      " 1   USD_g   378 non-null    float64       \n",
      " 2   INR_g   378 non-null    float64       \n",
      "dtypes: datetime64[ns](1), float64(2)\n",
      "memory usage: 9.0 KB\n"
     ]
    }
   ],
   "source": [
    "mp.info()"
   ]
  },
  {
   "cell_type": "code",
   "execution_count": 36,
   "id": "88470f0a",
   "metadata": {
    "ExecuteTime": {
     "end_time": "2021-10-04T03:36:57.531448Z",
     "start_time": "2021-10-04T03:36:57.484571Z"
    }
   },
   "outputs": [
    {
     "data": {
      "text/html": [
       "<div>\n",
       "<style scoped>\n",
       "    .dataframe tbody tr th:only-of-type {\n",
       "        vertical-align: middle;\n",
       "    }\n",
       "\n",
       "    .dataframe tbody tr th {\n",
       "        vertical-align: top;\n",
       "    }\n",
       "\n",
       "    .dataframe thead th {\n",
       "        text-align: right;\n",
       "    }\n",
       "</style>\n",
       "<table border=\"1\" class=\"dataframe\">\n",
       "  <thead>\n",
       "    <tr style=\"text-align: right;\">\n",
       "      <th></th>\n",
       "      <th>Date</th>\n",
       "      <th>USD_g</th>\n",
       "      <th>INR_g</th>\n",
       "    </tr>\n",
       "  </thead>\n",
       "  <tbody>\n",
       "    <tr>\n",
       "      <th>0</th>\n",
       "      <td>1990-01-31</td>\n",
       "      <td>415.1</td>\n",
       "      <td>7041.0</td>\n",
       "    </tr>\n",
       "    <tr>\n",
       "      <th>1</th>\n",
       "      <td>1990-02-28</td>\n",
       "      <td>407.7</td>\n",
       "      <td>6957.4</td>\n",
       "    </tr>\n",
       "    <tr>\n",
       "      <th>2</th>\n",
       "      <td>1990-03-30</td>\n",
       "      <td>368.5</td>\n",
       "      <td>6334.4</td>\n",
       "    </tr>\n",
       "    <tr>\n",
       "      <th>3</th>\n",
       "      <td>1990-04-30</td>\n",
       "      <td>367.8</td>\n",
       "      <td>6379.3</td>\n",
       "    </tr>\n",
       "    <tr>\n",
       "      <th>4</th>\n",
       "      <td>1990-05-31</td>\n",
       "      <td>363.1</td>\n",
       "      <td>6295.5</td>\n",
       "    </tr>\n",
       "    <tr>\n",
       "      <th>...</th>\n",
       "      <td>...</td>\n",
       "      <td>...</td>\n",
       "      <td>...</td>\n",
       "    </tr>\n",
       "    <tr>\n",
       "      <th>373</th>\n",
       "      <td>2021-02-26</td>\n",
       "      <td>1742.9</td>\n",
       "      <td>128073.3</td>\n",
       "    </tr>\n",
       "    <tr>\n",
       "      <th>374</th>\n",
       "      <td>2021-03-31</td>\n",
       "      <td>1691.1</td>\n",
       "      <td>123639.0</td>\n",
       "    </tr>\n",
       "    <tr>\n",
       "      <th>375</th>\n",
       "      <td>2021-04-30</td>\n",
       "      <td>1767.7</td>\n",
       "      <td>130934.3</td>\n",
       "    </tr>\n",
       "    <tr>\n",
       "      <th>376</th>\n",
       "      <td>2021-05-31</td>\n",
       "      <td>1900.0</td>\n",
       "      <td>137979.1</td>\n",
       "    </tr>\n",
       "    <tr>\n",
       "      <th>377</th>\n",
       "      <td>2021-06-30</td>\n",
       "      <td>1763.2</td>\n",
       "      <td>131054.9</td>\n",
       "    </tr>\n",
       "  </tbody>\n",
       "</table>\n",
       "<p>378 rows × 3 columns</p>\n",
       "</div>"
      ],
      "text/plain": [
       "          Date   USD_g     INR_g\n",
       "0   1990-01-31   415.1    7041.0\n",
       "1   1990-02-28   407.7    6957.4\n",
       "2   1990-03-30   368.5    6334.4\n",
       "3   1990-04-30   367.8    6379.3\n",
       "4   1990-05-31   363.1    6295.5\n",
       "..         ...     ...       ...\n",
       "373 2021-02-26  1742.9  128073.3\n",
       "374 2021-03-31  1691.1  123639.0\n",
       "375 2021-04-30  1767.7  130934.3\n",
       "376 2021-05-31  1900.0  137979.1\n",
       "377 2021-06-30  1763.2  131054.9\n",
       "\n",
       "[378 rows x 3 columns]"
      ]
     },
     "execution_count": 36,
     "metadata": {},
     "output_type": "execute_result"
    }
   ],
   "source": [
    "mp"
   ]
  },
  {
   "cell_type": "code",
   "execution_count": 37,
   "id": "2b4d5b7f",
   "metadata": {
    "ExecuteTime": {
     "end_time": "2021-10-04T03:36:57.584864Z",
     "start_time": "2021-10-04T03:36:57.531448Z"
    }
   },
   "outputs": [
    {
     "name": "stderr",
     "output_type": "stream",
     "text": [
      "<ipython-input-37-8947f13c7075>:1: ParserWarning: Falling back to the 'python' engine because the 'c' engine does not support skipfooter; you can avoid this warning by specifying engine='python'.\n",
      "  usd=pd.read_csv(\"Dataset/usdinr_m.csv\", skipfooter=4, usecols=[\"Date\",\"Close\"])\n"
     ]
    }
   ],
   "source": [
    "usd=pd.read_csv(\"Dataset/usdinr_m.csv\", skipfooter=4, usecols=[\"Date\",\"Close\"])"
   ]
  },
  {
   "cell_type": "code",
   "execution_count": 38,
   "id": "4646cdfd",
   "metadata": {
    "ExecuteTime": {
     "end_time": "2021-10-04T03:36:57.631726Z",
     "start_time": "2021-10-04T03:36:57.584864Z"
    }
   },
   "outputs": [
    {
     "name": "stdout",
     "output_type": "stream",
     "text": [
      "<class 'pandas.core.frame.DataFrame'>\n",
      "RangeIndex: 378 entries, 0 to 377\n",
      "Data columns (total 2 columns):\n",
      " #   Column  Non-Null Count  Dtype  \n",
      "---  ------  --------------  -----  \n",
      " 0   Date    378 non-null    object \n",
      " 1   Close   378 non-null    float64\n",
      "dtypes: float64(1), object(1)\n",
      "memory usage: 6.0+ KB\n"
     ]
    }
   ],
   "source": [
    "usd.info()"
   ]
  },
  {
   "cell_type": "code",
   "execution_count": 39,
   "id": "b3a241b2",
   "metadata": {
    "ExecuteTime": {
     "end_time": "2021-10-04T03:36:57.669523Z",
     "start_time": "2021-10-04T03:36:57.631726Z"
    }
   },
   "outputs": [],
   "source": [
    "usd.Date=pd.to_datetime(usd.Date)"
   ]
  },
  {
   "cell_type": "code",
   "execution_count": 40,
   "id": "3e42291d",
   "metadata": {
    "ExecuteTime": {
     "end_time": "2021-10-04T03:36:57.711964Z",
     "start_time": "2021-10-04T03:36:57.674641Z"
    }
   },
   "outputs": [
    {
     "name": "stdout",
     "output_type": "stream",
     "text": [
      "<class 'pandas.core.frame.DataFrame'>\n",
      "RangeIndex: 378 entries, 0 to 377\n",
      "Data columns (total 2 columns):\n",
      " #   Column  Non-Null Count  Dtype         \n",
      "---  ------  --------------  -----         \n",
      " 0   Date    378 non-null    datetime64[ns]\n",
      " 1   Close   378 non-null    float64       \n",
      "dtypes: datetime64[ns](1), float64(1)\n",
      "memory usage: 6.0 KB\n"
     ]
    }
   ],
   "source": [
    "usd.info()"
   ]
  },
  {
   "cell_type": "code",
   "execution_count": 41,
   "id": "520ed27d",
   "metadata": {
    "ExecuteTime": {
     "end_time": "2021-10-04T03:36:57.769392Z",
     "start_time": "2021-10-04T03:36:57.711964Z"
    }
   },
   "outputs": [],
   "source": [
    "usd.rename(columns = {\"Close\": \"USD_d\"}, inplace=True)"
   ]
  },
  {
   "cell_type": "code",
   "execution_count": 42,
   "id": "fb828894",
   "metadata": {
    "ExecuteTime": {
     "end_time": "2021-10-04T03:36:57.809580Z",
     "start_time": "2021-10-04T03:36:57.775258Z"
    }
   },
   "outputs": [
    {
     "data": {
      "text/html": [
       "<div>\n",
       "<style scoped>\n",
       "    .dataframe tbody tr th:only-of-type {\n",
       "        vertical-align: middle;\n",
       "    }\n",
       "\n",
       "    .dataframe tbody tr th {\n",
       "        vertical-align: top;\n",
       "    }\n",
       "\n",
       "    .dataframe thead th {\n",
       "        text-align: right;\n",
       "    }\n",
       "</style>\n",
       "<table border=\"1\" class=\"dataframe\">\n",
       "  <thead>\n",
       "    <tr style=\"text-align: right;\">\n",
       "      <th></th>\n",
       "      <th>Date</th>\n",
       "      <th>USD_d</th>\n",
       "    </tr>\n",
       "  </thead>\n",
       "  <tbody>\n",
       "    <tr>\n",
       "      <th>0</th>\n",
       "      <td>1990-01-31</td>\n",
       "      <td>16.9000</td>\n",
       "    </tr>\n",
       "    <tr>\n",
       "      <th>1</th>\n",
       "      <td>1990-02-28</td>\n",
       "      <td>17.0000</td>\n",
       "    </tr>\n",
       "    <tr>\n",
       "      <th>2</th>\n",
       "      <td>1990-03-31</td>\n",
       "      <td>17.2000</td>\n",
       "    </tr>\n",
       "    <tr>\n",
       "      <th>3</th>\n",
       "      <td>1990-04-30</td>\n",
       "      <td>17.3000</td>\n",
       "    </tr>\n",
       "    <tr>\n",
       "      <th>4</th>\n",
       "      <td>1990-05-31</td>\n",
       "      <td>17.3000</td>\n",
       "    </tr>\n",
       "    <tr>\n",
       "      <th>...</th>\n",
       "      <td>...</td>\n",
       "      <td>...</td>\n",
       "    </tr>\n",
       "    <tr>\n",
       "      <th>373</th>\n",
       "      <td>2021-02-28</td>\n",
       "      <td>73.7380</td>\n",
       "    </tr>\n",
       "    <tr>\n",
       "      <th>374</th>\n",
       "      <td>2021-03-31</td>\n",
       "      <td>73.1050</td>\n",
       "    </tr>\n",
       "    <tr>\n",
       "      <th>375</th>\n",
       "      <td>2021-04-30</td>\n",
       "      <td>74.0750</td>\n",
       "    </tr>\n",
       "    <tr>\n",
       "      <th>376</th>\n",
       "      <td>2021-05-31</td>\n",
       "      <td>72.6175</td>\n",
       "    </tr>\n",
       "    <tr>\n",
       "      <th>377</th>\n",
       "      <td>2021-06-30</td>\n",
       "      <td>74.3240</td>\n",
       "    </tr>\n",
       "  </tbody>\n",
       "</table>\n",
       "<p>378 rows × 2 columns</p>\n",
       "</div>"
      ],
      "text/plain": [
       "          Date    USD_d\n",
       "0   1990-01-31  16.9000\n",
       "1   1990-02-28  17.0000\n",
       "2   1990-03-31  17.2000\n",
       "3   1990-04-30  17.3000\n",
       "4   1990-05-31  17.3000\n",
       "..         ...      ...\n",
       "373 2021-02-28  73.7380\n",
       "374 2021-03-31  73.1050\n",
       "375 2021-04-30  74.0750\n",
       "376 2021-05-31  72.6175\n",
       "377 2021-06-30  74.3240\n",
       "\n",
       "[378 rows x 2 columns]"
      ]
     },
     "execution_count": 42,
     "metadata": {},
     "output_type": "execute_result"
    }
   ],
   "source": [
    "usd"
   ]
  },
  {
   "cell_type": "code",
   "execution_count": 43,
   "id": "3bbf5605",
   "metadata": {
    "ExecuteTime": {
     "end_time": "2021-10-04T03:36:57.869488Z",
     "start_time": "2021-10-04T03:36:57.809580Z"
    }
   },
   "outputs": [
    {
     "data": {
      "text/html": [
       "<div>\n",
       "<style scoped>\n",
       "    .dataframe tbody tr th:only-of-type {\n",
       "        vertical-align: middle;\n",
       "    }\n",
       "\n",
       "    .dataframe tbody tr th {\n",
       "        vertical-align: top;\n",
       "    }\n",
       "\n",
       "    .dataframe thead th {\n",
       "        text-align: right;\n",
       "    }\n",
       "</style>\n",
       "<table border=\"1\" class=\"dataframe\">\n",
       "  <thead>\n",
       "    <tr style=\"text-align: right;\">\n",
       "      <th></th>\n",
       "      <th>Date</th>\n",
       "      <th>USD_g</th>\n",
       "      <th>INR_g</th>\n",
       "    </tr>\n",
       "  </thead>\n",
       "  <tbody>\n",
       "    <tr>\n",
       "      <th>0</th>\n",
       "      <td>1990-01-31</td>\n",
       "      <td>415.1</td>\n",
       "      <td>7041.0</td>\n",
       "    </tr>\n",
       "    <tr>\n",
       "      <th>1</th>\n",
       "      <td>1990-02-28</td>\n",
       "      <td>407.7</td>\n",
       "      <td>6957.4</td>\n",
       "    </tr>\n",
       "    <tr>\n",
       "      <th>2</th>\n",
       "      <td>1990-03-30</td>\n",
       "      <td>368.5</td>\n",
       "      <td>6334.4</td>\n",
       "    </tr>\n",
       "    <tr>\n",
       "      <th>3</th>\n",
       "      <td>1990-04-30</td>\n",
       "      <td>367.8</td>\n",
       "      <td>6379.3</td>\n",
       "    </tr>\n",
       "    <tr>\n",
       "      <th>4</th>\n",
       "      <td>1990-05-31</td>\n",
       "      <td>363.1</td>\n",
       "      <td>6295.5</td>\n",
       "    </tr>\n",
       "    <tr>\n",
       "      <th>...</th>\n",
       "      <td>...</td>\n",
       "      <td>...</td>\n",
       "      <td>...</td>\n",
       "    </tr>\n",
       "    <tr>\n",
       "      <th>373</th>\n",
       "      <td>2021-02-26</td>\n",
       "      <td>1742.9</td>\n",
       "      <td>128073.3</td>\n",
       "    </tr>\n",
       "    <tr>\n",
       "      <th>374</th>\n",
       "      <td>2021-03-31</td>\n",
       "      <td>1691.1</td>\n",
       "      <td>123639.0</td>\n",
       "    </tr>\n",
       "    <tr>\n",
       "      <th>375</th>\n",
       "      <td>2021-04-30</td>\n",
       "      <td>1767.7</td>\n",
       "      <td>130934.3</td>\n",
       "    </tr>\n",
       "    <tr>\n",
       "      <th>376</th>\n",
       "      <td>2021-05-31</td>\n",
       "      <td>1900.0</td>\n",
       "      <td>137979.1</td>\n",
       "    </tr>\n",
       "    <tr>\n",
       "      <th>377</th>\n",
       "      <td>2021-06-30</td>\n",
       "      <td>1763.2</td>\n",
       "      <td>131054.9</td>\n",
       "    </tr>\n",
       "  </tbody>\n",
       "</table>\n",
       "<p>378 rows × 3 columns</p>\n",
       "</div>"
      ],
      "text/plain": [
       "          Date   USD_g     INR_g\n",
       "0   1990-01-31   415.1    7041.0\n",
       "1   1990-02-28   407.7    6957.4\n",
       "2   1990-03-30   368.5    6334.4\n",
       "3   1990-04-30   367.8    6379.3\n",
       "4   1990-05-31   363.1    6295.5\n",
       "..         ...     ...       ...\n",
       "373 2021-02-26  1742.9  128073.3\n",
       "374 2021-03-31  1691.1  123639.0\n",
       "375 2021-04-30  1767.7  130934.3\n",
       "376 2021-05-31  1900.0  137979.1\n",
       "377 2021-06-30  1763.2  131054.9\n",
       "\n",
       "[378 rows x 3 columns]"
      ]
     },
     "execution_count": 43,
     "metadata": {},
     "output_type": "execute_result"
    }
   ],
   "source": [
    "mp"
   ]
  },
  {
   "cell_type": "code",
   "execution_count": 44,
   "id": "0796aa4d",
   "metadata": {
    "ExecuteTime": {
     "end_time": "2021-10-04T03:36:57.900736Z",
     "start_time": "2021-10-04T03:36:57.869488Z"
    }
   },
   "outputs": [],
   "source": [
    "allprice= pd.merge(mp,usd, how=\"inner\", on=\"Date\")"
   ]
  },
  {
   "cell_type": "code",
   "execution_count": 45,
   "id": "6a7aecf5",
   "metadata": {
    "ExecuteTime": {
     "end_time": "2021-10-04T03:36:57.947611Z",
     "start_time": "2021-10-04T03:36:57.900736Z"
    }
   },
   "outputs": [
    {
     "data": {
      "text/html": [
       "<div>\n",
       "<style scoped>\n",
       "    .dataframe tbody tr th:only-of-type {\n",
       "        vertical-align: middle;\n",
       "    }\n",
       "\n",
       "    .dataframe tbody tr th {\n",
       "        vertical-align: top;\n",
       "    }\n",
       "\n",
       "    .dataframe thead th {\n",
       "        text-align: right;\n",
       "    }\n",
       "</style>\n",
       "<table border=\"1\" class=\"dataframe\">\n",
       "  <thead>\n",
       "    <tr style=\"text-align: right;\">\n",
       "      <th></th>\n",
       "      <th>Date</th>\n",
       "      <th>USD_g</th>\n",
       "      <th>INR_g</th>\n",
       "      <th>USD_d</th>\n",
       "    </tr>\n",
       "  </thead>\n",
       "  <tbody>\n",
       "    <tr>\n",
       "      <th>265</th>\n",
       "      <td>2020-12-31</td>\n",
       "      <td>1887.6</td>\n",
       "      <td>137922.2</td>\n",
       "      <td>73.0230</td>\n",
       "    </tr>\n",
       "    <tr>\n",
       "      <th>266</th>\n",
       "      <td>2021-03-31</td>\n",
       "      <td>1691.1</td>\n",
       "      <td>123639.0</td>\n",
       "      <td>73.1050</td>\n",
       "    </tr>\n",
       "    <tr>\n",
       "      <th>267</th>\n",
       "      <td>2021-04-30</td>\n",
       "      <td>1767.7</td>\n",
       "      <td>130934.3</td>\n",
       "      <td>74.0750</td>\n",
       "    </tr>\n",
       "    <tr>\n",
       "      <th>268</th>\n",
       "      <td>2021-05-31</td>\n",
       "      <td>1900.0</td>\n",
       "      <td>137979.1</td>\n",
       "      <td>72.6175</td>\n",
       "    </tr>\n",
       "    <tr>\n",
       "      <th>269</th>\n",
       "      <td>2021-06-30</td>\n",
       "      <td>1763.2</td>\n",
       "      <td>131054.9</td>\n",
       "      <td>74.3240</td>\n",
       "    </tr>\n",
       "  </tbody>\n",
       "</table>\n",
       "</div>"
      ],
      "text/plain": [
       "          Date   USD_g     INR_g    USD_d\n",
       "265 2020-12-31  1887.6  137922.2  73.0230\n",
       "266 2021-03-31  1691.1  123639.0  73.1050\n",
       "267 2021-04-30  1767.7  130934.3  74.0750\n",
       "268 2021-05-31  1900.0  137979.1  72.6175\n",
       "269 2021-06-30  1763.2  131054.9  74.3240"
      ]
     },
     "execution_count": 45,
     "metadata": {},
     "output_type": "execute_result"
    }
   ],
   "source": [
    "allprice.tail()"
   ]
  },
  {
   "cell_type": "code",
   "execution_count": 60,
   "id": "c9715d21",
   "metadata": {
    "ExecuteTime": {
     "end_time": "2021-10-04T03:43:37.396958Z",
     "start_time": "2021-10-04T03:43:37.384964Z"
    }
   },
   "outputs": [],
   "source": [
    "allprice.set_index(\"Date\",inplace=True)"
   ]
  },
  {
   "cell_type": "code",
   "execution_count": 61,
   "id": "fc1ba6f0",
   "metadata": {
    "ExecuteTime": {
     "end_time": "2021-10-04T03:43:39.101237Z",
     "start_time": "2021-10-04T03:43:39.089237Z"
    }
   },
   "outputs": [],
   "source": [
    "allprice['USD_g']= allprice[\"USD_g\"]*allprice[\"USD_d\"]"
   ]
  },
  {
   "cell_type": "code",
   "execution_count": 62,
   "id": "4d46e9bf",
   "metadata": {
    "ExecuteTime": {
     "end_time": "2021-10-04T03:43:40.029189Z",
     "start_time": "2021-10-04T03:43:40.009173Z"
    }
   },
   "outputs": [
    {
     "data": {
      "text/html": [
       "<div>\n",
       "<style scoped>\n",
       "    .dataframe tbody tr th:only-of-type {\n",
       "        vertical-align: middle;\n",
       "    }\n",
       "\n",
       "    .dataframe tbody tr th {\n",
       "        vertical-align: top;\n",
       "    }\n",
       "\n",
       "    .dataframe thead th {\n",
       "        text-align: right;\n",
       "    }\n",
       "</style>\n",
       "<table border=\"1\" class=\"dataframe\">\n",
       "  <thead>\n",
       "    <tr style=\"text-align: right;\">\n",
       "      <th></th>\n",
       "      <th>USD_g</th>\n",
       "      <th>INR_g</th>\n",
       "      <th>USD_d</th>\n",
       "    </tr>\n",
       "    <tr>\n",
       "      <th>Date</th>\n",
       "      <th></th>\n",
       "      <th></th>\n",
       "      <th></th>\n",
       "    </tr>\n",
       "  </thead>\n",
       "  <tbody>\n",
       "    <tr>\n",
       "      <th>1990-01-31</th>\n",
       "      <td>1.185567e+05</td>\n",
       "      <td>7041.0</td>\n",
       "      <td>16.9000</td>\n",
       "    </tr>\n",
       "    <tr>\n",
       "      <th>1990-02-28</th>\n",
       "      <td>1.178253e+05</td>\n",
       "      <td>6957.4</td>\n",
       "      <td>17.0000</td>\n",
       "    </tr>\n",
       "    <tr>\n",
       "      <th>1990-04-30</th>\n",
       "      <td>1.100789e+05</td>\n",
       "      <td>6379.3</td>\n",
       "      <td>17.3000</td>\n",
       "    </tr>\n",
       "    <tr>\n",
       "      <th>1990-05-31</th>\n",
       "      <td>1.086722e+05</td>\n",
       "      <td>6295.5</td>\n",
       "      <td>17.3000</td>\n",
       "    </tr>\n",
       "    <tr>\n",
       "      <th>1990-07-31</th>\n",
       "      <td>1.114257e+05</td>\n",
       "      <td>6457.2</td>\n",
       "      <td>17.3000</td>\n",
       "    </tr>\n",
       "    <tr>\n",
       "      <th>...</th>\n",
       "      <td>...</td>\n",
       "      <td>...</td>\n",
       "      <td>...</td>\n",
       "    </tr>\n",
       "    <tr>\n",
       "      <th>2020-12-31</th>\n",
       "      <td>1.006536e+07</td>\n",
       "      <td>137922.2</td>\n",
       "      <td>73.0230</td>\n",
       "    </tr>\n",
       "    <tr>\n",
       "      <th>2021-03-31</th>\n",
       "      <td>9.037815e+06</td>\n",
       "      <td>123639.0</td>\n",
       "      <td>73.1050</td>\n",
       "    </tr>\n",
       "    <tr>\n",
       "      <th>2021-04-30</th>\n",
       "      <td>9.699557e+06</td>\n",
       "      <td>130934.3</td>\n",
       "      <td>74.0750</td>\n",
       "    </tr>\n",
       "    <tr>\n",
       "      <th>2021-05-31</th>\n",
       "      <td>1.001927e+07</td>\n",
       "      <td>137979.1</td>\n",
       "      <td>72.6175</td>\n",
       "    </tr>\n",
       "    <tr>\n",
       "      <th>2021-06-30</th>\n",
       "      <td>9.740017e+06</td>\n",
       "      <td>131054.9</td>\n",
       "      <td>74.3240</td>\n",
       "    </tr>\n",
       "  </tbody>\n",
       "</table>\n",
       "<p>270 rows × 3 columns</p>\n",
       "</div>"
      ],
      "text/plain": [
       "                   USD_g     INR_g    USD_d\n",
       "Date                                       \n",
       "1990-01-31  1.185567e+05    7041.0  16.9000\n",
       "1990-02-28  1.178253e+05    6957.4  17.0000\n",
       "1990-04-30  1.100789e+05    6379.3  17.3000\n",
       "1990-05-31  1.086722e+05    6295.5  17.3000\n",
       "1990-07-31  1.114257e+05    6457.2  17.3000\n",
       "...                  ...       ...      ...\n",
       "2020-12-31  1.006536e+07  137922.2  73.0230\n",
       "2021-03-31  9.037815e+06  123639.0  73.1050\n",
       "2021-04-30  9.699557e+06  130934.3  74.0750\n",
       "2021-05-31  1.001927e+07  137979.1  72.6175\n",
       "2021-06-30  9.740017e+06  131054.9  74.3240\n",
       "\n",
       "[270 rows x 3 columns]"
      ]
     },
     "execution_count": 62,
     "metadata": {},
     "output_type": "execute_result"
    }
   ],
   "source": [
    "allprice"
   ]
  },
  {
   "cell_type": "code",
   "execution_count": 63,
   "id": "d0a7d69e",
   "metadata": {
    "ExecuteTime": {
     "end_time": "2021-10-04T03:43:44.293248Z",
     "start_time": "2021-10-04T03:43:44.281248Z"
    }
   },
   "outputs": [],
   "source": [
    "xticks=[i for i in range(1990,2022,5)]"
   ]
  },
  {
   "cell_type": "code",
   "execution_count": 64,
   "id": "451dbf1d",
   "metadata": {
    "ExecuteTime": {
     "end_time": "2021-10-04T03:43:45.681287Z",
     "start_time": "2021-10-04T03:43:45.673287Z"
    }
   },
   "outputs": [
    {
     "data": {
      "text/plain": [
       "[1990, 1995, 2000, 2005, 2010, 2015, 2020]"
      ]
     },
     "execution_count": 64,
     "metadata": {},
     "output_type": "execute_result"
    }
   ],
   "source": [
    "xticks"
   ]
  },
  {
   "cell_type": "code",
   "execution_count": 67,
   "id": "d81c196c",
   "metadata": {
    "ExecuteTime": {
     "end_time": "2021-10-04T03:44:27.465505Z",
     "start_time": "2021-10-04T03:44:26.952133Z"
    }
   },
   "outputs": [
    {
     "data": {
      "image/png": "[encoded data removed]",
      "text/plain": [
       "<Figure size 1100x500 with 3 Axes>"
      ]
     },
     "metadata": {
      "needs_background": "light"
     },
     "output_type": "display_data"
    }
   ],
   "source": [
    "allprice.plot(subplots=True, sharex= False, sharey=False)\n",
    "plt.show()"
   ]
  },
  {
   "cell_type": "code",
   "execution_count": 81,
   "id": "cbe27b5d",
   "metadata": {
    "ExecuteTime": {
     "end_time": "2021-10-04T03:59:21.203773Z",
     "start_time": "2021-10-04T03:59:21.175768Z"
    }
   },
   "outputs": [],
   "source": [
    "btc=pd.read_csv(\"Dataset/BTC.csv\", usecols=[\"Date\", \"Price\"])"
   ]
  },
  {
   "cell_type": "code",
   "execution_count": 82,
   "id": "2b2ddb72",
   "metadata": {
    "ExecuteTime": {
     "end_time": "2021-10-04T03:59:21.679599Z",
     "start_time": "2021-10-04T03:59:21.667600Z"
    }
   },
   "outputs": [
    {
     "name": "stdout",
     "output_type": "stream",
     "text": [
      "<class 'pandas.core.frame.DataFrame'>\n",
      "RangeIndex: 135 entries, 0 to 134\n",
      "Data columns (total 2 columns):\n",
      " #   Column  Non-Null Count  Dtype \n",
      "---  ------  --------------  ----- \n",
      " 0   Date    135 non-null    object\n",
      " 1   Price   135 non-null    object\n",
      "dtypes: object(2)\n",
      "memory usage: 2.2+ KB\n"
     ]
    }
   ],
   "source": [
    "btc.info()"
   ]
  },
  {
   "cell_type": "code",
   "execution_count": 83,
   "id": "09bd52ee",
   "metadata": {
    "ExecuteTime": {
     "end_time": "2021-10-04T03:59:22.611647Z",
     "start_time": "2021-10-04T03:59:22.583662Z"
    }
   },
   "outputs": [
    {
     "data": {
      "text/html": [
       "<div>\n",
       "<style scoped>\n",
       "    .dataframe tbody tr th:only-of-type {\n",
       "        vertical-align: middle;\n",
       "    }\n",
       "\n",
       "    .dataframe tbody tr th {\n",
       "        vertical-align: top;\n",
       "    }\n",
       "\n",
       "    .dataframe thead th {\n",
       "        text-align: right;\n",
       "    }\n",
       "</style>\n",
       "<table border=\"1\" class=\"dataframe\">\n",
       "  <thead>\n",
       "    <tr style=\"text-align: right;\">\n",
       "      <th></th>\n",
       "      <th>Date</th>\n",
       "      <th>Price</th>\n",
       "    </tr>\n",
       "  </thead>\n",
       "  <tbody>\n",
       "    <tr>\n",
       "      <th>0</th>\n",
       "      <td>Oct 21</td>\n",
       "      <td>47,575.7</td>\n",
       "    </tr>\n",
       "    <tr>\n",
       "      <th>1</th>\n",
       "      <td>Sep 21</td>\n",
       "      <td>43,823.3</td>\n",
       "    </tr>\n",
       "    <tr>\n",
       "      <th>2</th>\n",
       "      <td>Aug 21</td>\n",
       "      <td>47,130.4</td>\n",
       "    </tr>\n",
       "    <tr>\n",
       "      <th>3</th>\n",
       "      <td>Jul 21</td>\n",
       "      <td>41,553.7</td>\n",
       "    </tr>\n",
       "    <tr>\n",
       "      <th>4</th>\n",
       "      <td>Jun 21</td>\n",
       "      <td>35,026.9</td>\n",
       "    </tr>\n",
       "    <tr>\n",
       "      <th>...</th>\n",
       "      <td>...</td>\n",
       "      <td>...</td>\n",
       "    </tr>\n",
       "    <tr>\n",
       "      <th>130</th>\n",
       "      <td>Dec 10</td>\n",
       "      <td>0.3</td>\n",
       "    </tr>\n",
       "    <tr>\n",
       "      <th>131</th>\n",
       "      <td>Nov 10</td>\n",
       "      <td>0.2</td>\n",
       "    </tr>\n",
       "    <tr>\n",
       "      <th>132</th>\n",
       "      <td>Oct 10</td>\n",
       "      <td>0.2</td>\n",
       "    </tr>\n",
       "    <tr>\n",
       "      <th>133</th>\n",
       "      <td>Sep 10</td>\n",
       "      <td>0.1</td>\n",
       "    </tr>\n",
       "    <tr>\n",
       "      <th>134</th>\n",
       "      <td>Aug 10</td>\n",
       "      <td>0.1</td>\n",
       "    </tr>\n",
       "  </tbody>\n",
       "</table>\n",
       "<p>135 rows × 2 columns</p>\n",
       "</div>"
      ],
      "text/plain": [
       "       Date     Price\n",
       "0    Oct 21  47,575.7\n",
       "1    Sep 21  43,823.3\n",
       "2    Aug 21  47,130.4\n",
       "3    Jul 21  41,553.7\n",
       "4    Jun 21  35,026.9\n",
       "..      ...       ...\n",
       "130  Dec 10       0.3\n",
       "131  Nov 10       0.2\n",
       "132  Oct 10       0.2\n",
       "133  Sep 10       0.1\n",
       "134  Aug 10       0.1\n",
       "\n",
       "[135 rows x 2 columns]"
      ]
     },
     "execution_count": 83,
     "metadata": {},
     "output_type": "execute_result"
    }
   ],
   "source": [
    "btc"
   ]
  },
  {
   "cell_type": "code",
   "execution_count": 84,
   "id": "eb96e84f",
   "metadata": {
    "ExecuteTime": {
     "end_time": "2021-10-04T03:59:23.828318Z",
     "start_time": "2021-10-04T03:59:23.816313Z"
    }
   },
   "outputs": [],
   "source": [
    "import datetime\n",
    "btc.Date=btc.Date.apply(lambda x: datetime.datetime.strptime(x,'%b %y').strftime('%d-%m-%Y'))"
   ]
  },
  {
   "cell_type": "code",
   "execution_count": 85,
   "id": "356f6ac2",
   "metadata": {
    "ExecuteTime": {
     "end_time": "2021-10-04T03:59:24.866060Z",
     "start_time": "2021-10-04T03:59:24.850059Z"
    }
   },
   "outputs": [
    {
     "data": {
      "text/html": [
       "<div>\n",
       "<style scoped>\n",
       "    .dataframe tbody tr th:only-of-type {\n",
       "        vertical-align: middle;\n",
       "    }\n",
       "\n",
       "    .dataframe tbody tr th {\n",
       "        vertical-align: top;\n",
       "    }\n",
       "\n",
       "    .dataframe thead th {\n",
       "        text-align: right;\n",
       "    }\n",
       "</style>\n",
       "<table border=\"1\" class=\"dataframe\">\n",
       "  <thead>\n",
       "    <tr style=\"text-align: right;\">\n",
       "      <th></th>\n",
       "      <th>Date</th>\n",
       "      <th>Price</th>\n",
       "    </tr>\n",
       "  </thead>\n",
       "  <tbody>\n",
       "    <tr>\n",
       "      <th>0</th>\n",
       "      <td>01-10-2021</td>\n",
       "      <td>47,575.7</td>\n",
       "    </tr>\n",
       "    <tr>\n",
       "      <th>1</th>\n",
       "      <td>01-09-2021</td>\n",
       "      <td>43,823.3</td>\n",
       "    </tr>\n",
       "    <tr>\n",
       "      <th>2</th>\n",
       "      <td>01-08-2021</td>\n",
       "      <td>47,130.4</td>\n",
       "    </tr>\n",
       "    <tr>\n",
       "      <th>3</th>\n",
       "      <td>01-07-2021</td>\n",
       "      <td>41,553.7</td>\n",
       "    </tr>\n",
       "    <tr>\n",
       "      <th>4</th>\n",
       "      <td>01-06-2021</td>\n",
       "      <td>35,026.9</td>\n",
       "    </tr>\n",
       "    <tr>\n",
       "      <th>...</th>\n",
       "      <td>...</td>\n",
       "      <td>...</td>\n",
       "    </tr>\n",
       "    <tr>\n",
       "      <th>130</th>\n",
       "      <td>01-12-2010</td>\n",
       "      <td>0.3</td>\n",
       "    </tr>\n",
       "    <tr>\n",
       "      <th>131</th>\n",
       "      <td>01-11-2010</td>\n",
       "      <td>0.2</td>\n",
       "    </tr>\n",
       "    <tr>\n",
       "      <th>132</th>\n",
       "      <td>01-10-2010</td>\n",
       "      <td>0.2</td>\n",
       "    </tr>\n",
       "    <tr>\n",
       "      <th>133</th>\n",
       "      <td>01-09-2010</td>\n",
       "      <td>0.1</td>\n",
       "    </tr>\n",
       "    <tr>\n",
       "      <th>134</th>\n",
       "      <td>01-08-2010</td>\n",
       "      <td>0.1</td>\n",
       "    </tr>\n",
       "  </tbody>\n",
       "</table>\n",
       "<p>135 rows × 2 columns</p>\n",
       "</div>"
      ],
      "text/plain": [
       "           Date     Price\n",
       "0    01-10-2021  47,575.7\n",
       "1    01-09-2021  43,823.3\n",
       "2    01-08-2021  47,130.4\n",
       "3    01-07-2021  41,553.7\n",
       "4    01-06-2021  35,026.9\n",
       "..          ...       ...\n",
       "130  01-12-2010       0.3\n",
       "131  01-11-2010       0.2\n",
       "132  01-10-2010       0.2\n",
       "133  01-09-2010       0.1\n",
       "134  01-08-2010       0.1\n",
       "\n",
       "[135 rows x 2 columns]"
      ]
     },
     "execution_count": 85,
     "metadata": {},
     "output_type": "execute_result"
    }
   ],
   "source": [
    "btc"
   ]
  },
  {
   "cell_type": "code",
   "execution_count": null,
   "id": "5034f114",
   "metadata": {},
   "outputs": [],
   "source": []
  }
 ],
 "metadata": {
  "kernelspec": {
   "display_name": "Python 3",
   "language": "python",
   "name": "python3"
  },
  "language_info": {
   "codemirror_mode": {
    "name": "ipython",
    "version": 3
   },
   "file_extension": ".py",
   "mimetype": "text/x-python",
   "name": "python",
   "nbconvert_exporter": "python",
   "pygments_lexer": "ipython3",
   "version": "3.8.8"
  }
 },
 "nbformat": 4,
 "nbformat_minor": 5
}
