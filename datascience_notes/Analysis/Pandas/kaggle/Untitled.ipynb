{
 "cells": [
  {
   "cell_type": "code",
   "execution_count": 1,
   "id": "46c15f7d",
   "metadata": {
    "ExecuteTime": {
     "end_time": "2021-10-12T07:04:11.653627Z",
     "start_time": "2021-10-12T07:04:09.618963Z"
    }
   },
   "outputs": [],
   "source": [
    "import numpy as np\n",
    "import pandas as pd\n",
    "import matplotlib.pyplot as plt\n",
    "import datetime\n",
    "\n",
    "plt.rcParams['figure.figsize'] =11,5\n",
    "plt.rcParams['figure.dpi'] =100\n"
   ]
  },
  {
   "cell_type": "code",
   "execution_count": 2,
   "id": "5ce7758e",
   "metadata": {
    "ExecuteTime": {
     "end_time": "2021-10-12T07:04:39.425414Z",
     "start_time": "2021-10-12T07:04:39.362411Z"
    }
   },
   "outputs": [],
   "source": [
    "df= pd.read_csv(\"Dataset/winequality-red.csv\")"
   ]
  },
  {
   "cell_type": "code",
   "execution_count": 3,
   "id": "345bf64c",
   "metadata": {
    "ExecuteTime": {
     "end_time": "2021-10-12T07:04:42.888931Z",
     "start_time": "2021-10-12T07:04:42.855929Z"
    }
   },
   "outputs": [
    {
     "name": "stdout",
     "output_type": "stream",
     "text": [
      "<class 'pandas.core.frame.DataFrame'>\n",
      "RangeIndex: 1599 entries, 0 to 1598\n",
      "Data columns (total 12 columns):\n",
      " #   Column                Non-Null Count  Dtype  \n",
      "---  ------                --------------  -----  \n",
      " 0   fixed acidity         1599 non-null   float64\n",
      " 1   volatile acidity      1599 non-null   float64\n",
      " 2   citric acid           1599 non-null   float64\n",
      " 3   residual sugar        1599 non-null   float64\n",
      " 4   chlorides             1599 non-null   float64\n",
      " 5   free sulfur dioxide   1599 non-null   float64\n",
      " 6   total sulfur dioxide  1599 non-null   float64\n",
      " 7   density               1599 non-null   float64\n",
      " 8   pH                    1599 non-null   float64\n",
      " 9   sulphates             1599 non-null   float64\n",
      " 10  alcohol               1599 non-null   float64\n",
      " 11  quality               1599 non-null   int64  \n",
      "dtypes: float64(11), int64(1)\n",
      "memory usage: 150.0 KB\n"
     ]
    }
   ],
   "source": [
    "df.info()"
   ]
  },
  {
   "cell_type": "code",
   "execution_count": null,
   "id": "07445ea5",
   "metadata": {},
   "outputs": [],
   "source": [
    "df['age']= 2021-df['Year_Birth']"
   ]
  },
  {
   "cell_type": "code",
   "execution_count": null,
   "id": "b7dd8031",
   "metadata": {},
   "outputs": [],
   "source": [
    "df[(df['Marital_Status']=='Single') & (df['age']>=60)&(df['MntWines']>200)]"
   ]
  }
 ],
 "metadata": {
  "kernelspec": {
   "display_name": "Python 3",
   "language": "python",
   "name": "python3"
  },
  "language_info": {
   "codemirror_mode": {
    "name": "ipython",
    "version": 3
   },
   "file_extension": ".py",
   "mimetype": "text/x-python",
   "name": "python",
   "nbconvert_exporter": "python",
   "pygments_lexer": "ipython3",
   "version": "3.8.8"
  }
 },
 "nbformat": 4,
 "nbformat_minor": 5
}
