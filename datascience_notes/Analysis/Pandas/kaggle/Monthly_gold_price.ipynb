{
 "cells": [
  {
   "cell_type": "code",
   "execution_count": 309,
   "id": "4ff6c5ae",
   "metadata": {
    "ExecuteTime": {
     "end_time": "2021-10-04T05:10:00.599073Z",
     "start_time": "2021-10-04T05:10:00.589090Z"
    }
   },
   "outputs": [],
   "source": [
    "import numpy as np\n",
    "import pandas as pd\n",
    "import matplotlib.pyplot as plt\n",
    "import datetime\n",
    "\n",
    "plt.rcParams['figure.figsize'] =11,5\n",
    "plt.rcParams['figure.dpi'] =100\n"
   ]
  },
  {
   "cell_type": "code",
   "execution_count": 310,
   "id": "2dbe9543",
   "metadata": {
    "ExecuteTime": {
     "end_time": "2021-10-04T05:10:00.646068Z",
     "start_time": "2021-10-04T05:10:00.602067Z"
    }
   },
   "outputs": [],
   "source": [
    "mp=pd.read_csv(\"Dataset/gold_inrusd.csv\", usecols=[\"Date\", \"USD\",\"INR\"])"
   ]
  },
  {
   "cell_type": "code",
   "execution_count": 311,
   "id": "05953bf7",
   "metadata": {
    "ExecuteTime": {
     "end_time": "2021-10-04T05:10:00.694072Z",
     "start_time": "2021-10-04T05:10:00.650070Z"
    }
   },
   "outputs": [
    {
     "name": "stdout",
     "output_type": "stream",
     "text": [
      "<class 'pandas.core.frame.DataFrame'>\n",
      "RangeIndex: 380 entries, 0 to 379\n",
      "Data columns (total 3 columns):\n",
      " #   Column  Non-Null Count  Dtype  \n",
      "---  ------  --------------  -----  \n",
      " 0   Date    380 non-null    object \n",
      " 1   USD     380 non-null    float64\n",
      " 2   INR     380 non-null    float64\n",
      "dtypes: float64(2), object(1)\n",
      "memory usage: 9.0+ KB\n"
     ]
    }
   ],
   "source": [
    "mp.info()"
   ]
  },
  {
   "cell_type": "code",
   "execution_count": 312,
   "id": "4733e573",
   "metadata": {
    "ExecuteTime": {
     "end_time": "2021-10-04T05:10:00.742067Z",
     "start_time": "2021-10-04T05:10:00.697070Z"
    }
   },
   "outputs": [],
   "source": [
    "mp.rename(columns = {\"INR\": \"INR_g\", \"USD\":\"USD_g\"}, inplace=True)"
   ]
  },
  {
   "cell_type": "code",
   "execution_count": 313,
   "id": "207daf26",
   "metadata": {
    "ExecuteTime": {
     "end_time": "2021-10-04T05:10:00.788069Z",
     "start_time": "2021-10-04T05:10:00.745070Z"
    }
   },
   "outputs": [
    {
     "data": {
      "text/html": [
       "<div>\n",
       "<style scoped>\n",
       "    .dataframe tbody tr th:only-of-type {\n",
       "        vertical-align: middle;\n",
       "    }\n",
       "\n",
       "    .dataframe tbody tr th {\n",
       "        vertical-align: top;\n",
       "    }\n",
       "\n",
       "    .dataframe thead th {\n",
       "        text-align: right;\n",
       "    }\n",
       "</style>\n",
       "<table border=\"1\" class=\"dataframe\">\n",
       "  <thead>\n",
       "    <tr style=\"text-align: right;\">\n",
       "      <th></th>\n",
       "      <th>Date</th>\n",
       "      <th>USD_g</th>\n",
       "      <th>INR_g</th>\n",
       "    </tr>\n",
       "  </thead>\n",
       "  <tbody>\n",
       "    <tr>\n",
       "      <th>0</th>\n",
       "      <td>31-01-1990</td>\n",
       "      <td>415.1</td>\n",
       "      <td>7041.03</td>\n",
       "    </tr>\n",
       "    <tr>\n",
       "      <th>1</th>\n",
       "      <td>28-02-1990</td>\n",
       "      <td>407.7</td>\n",
       "      <td>6957.44</td>\n",
       "    </tr>\n",
       "    <tr>\n",
       "      <th>2</th>\n",
       "      <td>30-03-1990</td>\n",
       "      <td>368.5</td>\n",
       "      <td>6334.40</td>\n",
       "    </tr>\n",
       "    <tr>\n",
       "      <th>3</th>\n",
       "      <td>30-04-1990</td>\n",
       "      <td>367.8</td>\n",
       "      <td>6379.27</td>\n",
       "    </tr>\n",
       "    <tr>\n",
       "      <th>4</th>\n",
       "      <td>31-05-1990</td>\n",
       "      <td>363.1</td>\n",
       "      <td>6295.47</td>\n",
       "    </tr>\n",
       "    <tr>\n",
       "      <th>...</th>\n",
       "      <td>...</td>\n",
       "      <td>...</td>\n",
       "      <td>...</td>\n",
       "    </tr>\n",
       "    <tr>\n",
       "      <th>375</th>\n",
       "      <td>30-04-2021</td>\n",
       "      <td>1767.7</td>\n",
       "      <td>130934.25</td>\n",
       "    </tr>\n",
       "    <tr>\n",
       "      <th>376</th>\n",
       "      <td>31-05-2021</td>\n",
       "      <td>1900.0</td>\n",
       "      <td>137979.12</td>\n",
       "    </tr>\n",
       "    <tr>\n",
       "      <th>377</th>\n",
       "      <td>30-06-2021</td>\n",
       "      <td>1763.2</td>\n",
       "      <td>131054.93</td>\n",
       "    </tr>\n",
       "    <tr>\n",
       "      <th>378</th>\n",
       "      <td>30-07-2021</td>\n",
       "      <td>1825.8</td>\n",
       "      <td>135863.19</td>\n",
       "    </tr>\n",
       "    <tr>\n",
       "      <th>379</th>\n",
       "      <td>31-08-2021</td>\n",
       "      <td>1814.9</td>\n",
       "      <td>132497.67</td>\n",
       "    </tr>\n",
       "  </tbody>\n",
       "</table>\n",
       "<p>380 rows × 3 columns</p>\n",
       "</div>"
      ],
      "text/plain": [
       "           Date   USD_g      INR_g\n",
       "0    31-01-1990   415.1    7041.03\n",
       "1    28-02-1990   407.7    6957.44\n",
       "2    30-03-1990   368.5    6334.40\n",
       "3    30-04-1990   367.8    6379.27\n",
       "4    31-05-1990   363.1    6295.47\n",
       "..          ...     ...        ...\n",
       "375  30-04-2021  1767.7  130934.25\n",
       "376  31-05-2021  1900.0  137979.12\n",
       "377  30-06-2021  1763.2  131054.93\n",
       "378  30-07-2021  1825.8  135863.19\n",
       "379  31-08-2021  1814.9  132497.67\n",
       "\n",
       "[380 rows x 3 columns]"
      ]
     },
     "execution_count": 313,
     "metadata": {},
     "output_type": "execute_result"
    }
   ],
   "source": [
    "mp"
   ]
  },
  {
   "cell_type": "code",
   "execution_count": 314,
   "id": "951e1074",
   "metadata": {
    "ExecuteTime": {
     "end_time": "2021-10-04T05:10:00.851069Z",
     "start_time": "2021-10-04T05:10:00.791069Z"
    }
   },
   "outputs": [],
   "source": [
    "mp.Date=mp.Date.apply(lambda x: datetime.datetime.strptime(x,'%d-%m-%Y').strftime('%m-%Y'))"
   ]
  },
  {
   "cell_type": "code",
   "execution_count": 315,
   "id": "26c27ee6",
   "metadata": {
    "ExecuteTime": {
     "end_time": "2021-10-04T05:10:00.912069Z",
     "start_time": "2021-10-04T05:10:00.856071Z"
    }
   },
   "outputs": [
    {
     "data": {
      "text/html": [
       "<div>\n",
       "<style scoped>\n",
       "    .dataframe tbody tr th:only-of-type {\n",
       "        vertical-align: middle;\n",
       "    }\n",
       "\n",
       "    .dataframe tbody tr th {\n",
       "        vertical-align: top;\n",
       "    }\n",
       "\n",
       "    .dataframe thead th {\n",
       "        text-align: right;\n",
       "    }\n",
       "</style>\n",
       "<table border=\"1\" class=\"dataframe\">\n",
       "  <thead>\n",
       "    <tr style=\"text-align: right;\">\n",
       "      <th></th>\n",
       "      <th>Date</th>\n",
       "      <th>USD_g</th>\n",
       "      <th>INR_g</th>\n",
       "    </tr>\n",
       "  </thead>\n",
       "  <tbody>\n",
       "    <tr>\n",
       "      <th>0</th>\n",
       "      <td>01-1990</td>\n",
       "      <td>415.1</td>\n",
       "      <td>7041.03</td>\n",
       "    </tr>\n",
       "    <tr>\n",
       "      <th>1</th>\n",
       "      <td>02-1990</td>\n",
       "      <td>407.7</td>\n",
       "      <td>6957.44</td>\n",
       "    </tr>\n",
       "    <tr>\n",
       "      <th>2</th>\n",
       "      <td>03-1990</td>\n",
       "      <td>368.5</td>\n",
       "      <td>6334.40</td>\n",
       "    </tr>\n",
       "    <tr>\n",
       "      <th>3</th>\n",
       "      <td>04-1990</td>\n",
       "      <td>367.8</td>\n",
       "      <td>6379.27</td>\n",
       "    </tr>\n",
       "    <tr>\n",
       "      <th>4</th>\n",
       "      <td>05-1990</td>\n",
       "      <td>363.1</td>\n",
       "      <td>6295.47</td>\n",
       "    </tr>\n",
       "    <tr>\n",
       "      <th>...</th>\n",
       "      <td>...</td>\n",
       "      <td>...</td>\n",
       "      <td>...</td>\n",
       "    </tr>\n",
       "    <tr>\n",
       "      <th>375</th>\n",
       "      <td>04-2021</td>\n",
       "      <td>1767.7</td>\n",
       "      <td>130934.25</td>\n",
       "    </tr>\n",
       "    <tr>\n",
       "      <th>376</th>\n",
       "      <td>05-2021</td>\n",
       "      <td>1900.0</td>\n",
       "      <td>137979.12</td>\n",
       "    </tr>\n",
       "    <tr>\n",
       "      <th>377</th>\n",
       "      <td>06-2021</td>\n",
       "      <td>1763.2</td>\n",
       "      <td>131054.93</td>\n",
       "    </tr>\n",
       "    <tr>\n",
       "      <th>378</th>\n",
       "      <td>07-2021</td>\n",
       "      <td>1825.8</td>\n",
       "      <td>135863.19</td>\n",
       "    </tr>\n",
       "    <tr>\n",
       "      <th>379</th>\n",
       "      <td>08-2021</td>\n",
       "      <td>1814.9</td>\n",
       "      <td>132497.67</td>\n",
       "    </tr>\n",
       "  </tbody>\n",
       "</table>\n",
       "<p>380 rows × 3 columns</p>\n",
       "</div>"
      ],
      "text/plain": [
       "        Date   USD_g      INR_g\n",
       "0    01-1990   415.1    7041.03\n",
       "1    02-1990   407.7    6957.44\n",
       "2    03-1990   368.5    6334.40\n",
       "3    04-1990   367.8    6379.27\n",
       "4    05-1990   363.1    6295.47\n",
       "..       ...     ...        ...\n",
       "375  04-2021  1767.7  130934.25\n",
       "376  05-2021  1900.0  137979.12\n",
       "377  06-2021  1763.2  131054.93\n",
       "378  07-2021  1825.8  135863.19\n",
       "379  08-2021  1814.9  132497.67\n",
       "\n",
       "[380 rows x 3 columns]"
      ]
     },
     "execution_count": 315,
     "metadata": {},
     "output_type": "execute_result"
    }
   ],
   "source": [
    "mp"
   ]
  },
  {
   "cell_type": "code",
   "execution_count": 316,
   "id": "53ec5fa2",
   "metadata": {
    "ExecuteTime": {
     "end_time": "2021-10-04T05:10:00.958072Z",
     "start_time": "2021-10-04T05:10:00.917071Z"
    }
   },
   "outputs": [
    {
     "name": "stderr",
     "output_type": "stream",
     "text": [
      "<ipython-input-316-02f665832b33>:1: ParserWarning: Falling back to the 'python' engine because the 'c' engine does not support skipfooter; you can avoid this warning by specifying engine='python'.\n",
      "  usd=pd.read_csv(\"Dataset/usdinr_m.csv\",skipfooter=2, usecols=[\"Date\",\"Close\"])\n"
     ]
    }
   ],
   "source": [
    "usd=pd.read_csv(\"Dataset/usdinr_m.csv\",skipfooter=2, usecols=[\"Date\",\"Close\"])"
   ]
  },
  {
   "cell_type": "code",
   "execution_count": 317,
   "id": "13d482ee",
   "metadata": {
    "ExecuteTime": {
     "end_time": "2021-10-04T05:10:01.006070Z",
     "start_time": "2021-10-04T05:10:00.962071Z"
    }
   },
   "outputs": [
    {
     "name": "stdout",
     "output_type": "stream",
     "text": [
      "<class 'pandas.core.frame.DataFrame'>\n",
      "RangeIndex: 380 entries, 0 to 379\n",
      "Data columns (total 2 columns):\n",
      " #   Column  Non-Null Count  Dtype  \n",
      "---  ------  --------------  -----  \n",
      " 0   Date    380 non-null    object \n",
      " 1   Close   380 non-null    float64\n",
      "dtypes: float64(1), object(1)\n",
      "memory usage: 6.1+ KB\n"
     ]
    }
   ],
   "source": [
    "usd.info()"
   ]
  },
  {
   "cell_type": "code",
   "execution_count": 318,
   "id": "94d7f760",
   "metadata": {
    "ExecuteTime": {
     "end_time": "2021-10-04T05:10:01.053064Z",
     "start_time": "2021-10-04T05:10:01.009067Z"
    }
   },
   "outputs": [
    {
     "data": {
      "text/html": [
       "<div>\n",
       "<style scoped>\n",
       "    .dataframe tbody tr th:only-of-type {\n",
       "        vertical-align: middle;\n",
       "    }\n",
       "\n",
       "    .dataframe tbody tr th {\n",
       "        vertical-align: top;\n",
       "    }\n",
       "\n",
       "    .dataframe thead th {\n",
       "        text-align: right;\n",
       "    }\n",
       "</style>\n",
       "<table border=\"1\" class=\"dataframe\">\n",
       "  <thead>\n",
       "    <tr style=\"text-align: right;\">\n",
       "      <th></th>\n",
       "      <th>Date</th>\n",
       "      <th>Close</th>\n",
       "    </tr>\n",
       "  </thead>\n",
       "  <tbody>\n",
       "    <tr>\n",
       "      <th>0</th>\n",
       "      <td>1990-01-31</td>\n",
       "      <td>16.9000</td>\n",
       "    </tr>\n",
       "    <tr>\n",
       "      <th>1</th>\n",
       "      <td>1990-02-28</td>\n",
       "      <td>17.0000</td>\n",
       "    </tr>\n",
       "    <tr>\n",
       "      <th>2</th>\n",
       "      <td>1990-03-31</td>\n",
       "      <td>17.2000</td>\n",
       "    </tr>\n",
       "    <tr>\n",
       "      <th>3</th>\n",
       "      <td>1990-04-30</td>\n",
       "      <td>17.3000</td>\n",
       "    </tr>\n",
       "    <tr>\n",
       "      <th>4</th>\n",
       "      <td>1990-05-31</td>\n",
       "      <td>17.3000</td>\n",
       "    </tr>\n",
       "    <tr>\n",
       "      <th>...</th>\n",
       "      <td>...</td>\n",
       "      <td>...</td>\n",
       "    </tr>\n",
       "    <tr>\n",
       "      <th>375</th>\n",
       "      <td>2021-04-30</td>\n",
       "      <td>74.0750</td>\n",
       "    </tr>\n",
       "    <tr>\n",
       "      <th>376</th>\n",
       "      <td>2021-05-31</td>\n",
       "      <td>72.6175</td>\n",
       "    </tr>\n",
       "    <tr>\n",
       "      <th>377</th>\n",
       "      <td>2021-06-30</td>\n",
       "      <td>74.3240</td>\n",
       "    </tr>\n",
       "    <tr>\n",
       "      <th>378</th>\n",
       "      <td>2021-07-31</td>\n",
       "      <td>74.4100</td>\n",
       "    </tr>\n",
       "    <tr>\n",
       "      <th>379</th>\n",
       "      <td>2021-08-31</td>\n",
       "      <td>72.9960</td>\n",
       "    </tr>\n",
       "  </tbody>\n",
       "</table>\n",
       "<p>380 rows × 2 columns</p>\n",
       "</div>"
      ],
      "text/plain": [
       "           Date    Close\n",
       "0    1990-01-31  16.9000\n",
       "1    1990-02-28  17.0000\n",
       "2    1990-03-31  17.2000\n",
       "3    1990-04-30  17.3000\n",
       "4    1990-05-31  17.3000\n",
       "..          ...      ...\n",
       "375  2021-04-30  74.0750\n",
       "376  2021-05-31  72.6175\n",
       "377  2021-06-30  74.3240\n",
       "378  2021-07-31  74.4100\n",
       "379  2021-08-31  72.9960\n",
       "\n",
       "[380 rows x 2 columns]"
      ]
     },
     "execution_count": 318,
     "metadata": {},
     "output_type": "execute_result"
    }
   ],
   "source": [
    "usd"
   ]
  },
  {
   "cell_type": "code",
   "execution_count": 319,
   "id": "6d6c0312",
   "metadata": {
    "ExecuteTime": {
     "end_time": "2021-10-04T05:10:01.100068Z",
     "start_time": "2021-10-04T05:10:01.055067Z"
    }
   },
   "outputs": [],
   "source": [
    "usd.Date=usd.Date.apply(lambda x: datetime.datetime.strptime(x,'%Y-%m-%d').strftime('%m-%Y'))"
   ]
  },
  {
   "cell_type": "code",
   "execution_count": 320,
   "id": "5b8ebce9",
   "metadata": {
    "ExecuteTime": {
     "end_time": "2021-10-04T05:10:01.148068Z",
     "start_time": "2021-10-04T05:10:01.103069Z"
    }
   },
   "outputs": [
    {
     "name": "stdout",
     "output_type": "stream",
     "text": [
      "<class 'pandas.core.frame.DataFrame'>\n",
      "RangeIndex: 380 entries, 0 to 379\n",
      "Data columns (total 2 columns):\n",
      " #   Column  Non-Null Count  Dtype  \n",
      "---  ------  --------------  -----  \n",
      " 0   Date    380 non-null    object \n",
      " 1   Close   380 non-null    float64\n",
      "dtypes: float64(1), object(1)\n",
      "memory usage: 6.1+ KB\n"
     ]
    }
   ],
   "source": [
    "usd.info()"
   ]
  },
  {
   "cell_type": "code",
   "execution_count": 321,
   "id": "b95bfba8",
   "metadata": {
    "ExecuteTime": {
     "end_time": "2021-10-04T05:10:01.180068Z",
     "start_time": "2021-10-04T05:10:01.150068Z"
    }
   },
   "outputs": [],
   "source": [
    "usd.rename(columns = {\"Close\": \"USD_d\"}, inplace=True)"
   ]
  },
  {
   "cell_type": "code",
   "execution_count": 322,
   "id": "388b67d0",
   "metadata": {
    "ExecuteTime": {
     "end_time": "2021-10-04T05:10:01.244070Z",
     "start_time": "2021-10-04T05:10:01.183069Z"
    }
   },
   "outputs": [
    {
     "data": {
      "text/html": [
       "<div>\n",
       "<style scoped>\n",
       "    .dataframe tbody tr th:only-of-type {\n",
       "        vertical-align: middle;\n",
       "    }\n",
       "\n",
       "    .dataframe tbody tr th {\n",
       "        vertical-align: top;\n",
       "    }\n",
       "\n",
       "    .dataframe thead th {\n",
       "        text-align: right;\n",
       "    }\n",
       "</style>\n",
       "<table border=\"1\" class=\"dataframe\">\n",
       "  <thead>\n",
       "    <tr style=\"text-align: right;\">\n",
       "      <th></th>\n",
       "      <th>Date</th>\n",
       "      <th>USD_d</th>\n",
       "    </tr>\n",
       "  </thead>\n",
       "  <tbody>\n",
       "    <tr>\n",
       "      <th>0</th>\n",
       "      <td>01-1990</td>\n",
       "      <td>16.9000</td>\n",
       "    </tr>\n",
       "    <tr>\n",
       "      <th>1</th>\n",
       "      <td>02-1990</td>\n",
       "      <td>17.0000</td>\n",
       "    </tr>\n",
       "    <tr>\n",
       "      <th>2</th>\n",
       "      <td>03-1990</td>\n",
       "      <td>17.2000</td>\n",
       "    </tr>\n",
       "    <tr>\n",
       "      <th>3</th>\n",
       "      <td>04-1990</td>\n",
       "      <td>17.3000</td>\n",
       "    </tr>\n",
       "    <tr>\n",
       "      <th>4</th>\n",
       "      <td>05-1990</td>\n",
       "      <td>17.3000</td>\n",
       "    </tr>\n",
       "    <tr>\n",
       "      <th>...</th>\n",
       "      <td>...</td>\n",
       "      <td>...</td>\n",
       "    </tr>\n",
       "    <tr>\n",
       "      <th>375</th>\n",
       "      <td>04-2021</td>\n",
       "      <td>74.0750</td>\n",
       "    </tr>\n",
       "    <tr>\n",
       "      <th>376</th>\n",
       "      <td>05-2021</td>\n",
       "      <td>72.6175</td>\n",
       "    </tr>\n",
       "    <tr>\n",
       "      <th>377</th>\n",
       "      <td>06-2021</td>\n",
       "      <td>74.3240</td>\n",
       "    </tr>\n",
       "    <tr>\n",
       "      <th>378</th>\n",
       "      <td>07-2021</td>\n",
       "      <td>74.4100</td>\n",
       "    </tr>\n",
       "    <tr>\n",
       "      <th>379</th>\n",
       "      <td>08-2021</td>\n",
       "      <td>72.9960</td>\n",
       "    </tr>\n",
       "  </tbody>\n",
       "</table>\n",
       "<p>380 rows × 2 columns</p>\n",
       "</div>"
      ],
      "text/plain": [
       "        Date    USD_d\n",
       "0    01-1990  16.9000\n",
       "1    02-1990  17.0000\n",
       "2    03-1990  17.2000\n",
       "3    04-1990  17.3000\n",
       "4    05-1990  17.3000\n",
       "..       ...      ...\n",
       "375  04-2021  74.0750\n",
       "376  05-2021  72.6175\n",
       "377  06-2021  74.3240\n",
       "378  07-2021  74.4100\n",
       "379  08-2021  72.9960\n",
       "\n",
       "[380 rows x 2 columns]"
      ]
     },
     "execution_count": 322,
     "metadata": {},
     "output_type": "execute_result"
    }
   ],
   "source": [
    "usd"
   ]
  },
  {
   "cell_type": "code",
   "execution_count": 323,
   "id": "43817ea2",
   "metadata": {
    "ExecuteTime": {
     "end_time": "2021-10-04T05:10:01.292066Z",
     "start_time": "2021-10-04T05:10:01.246071Z"
    }
   },
   "outputs": [
    {
     "data": {
      "text/html": [
       "<div>\n",
       "<style scoped>\n",
       "    .dataframe tbody tr th:only-of-type {\n",
       "        vertical-align: middle;\n",
       "    }\n",
       "\n",
       "    .dataframe tbody tr th {\n",
       "        vertical-align: top;\n",
       "    }\n",
       "\n",
       "    .dataframe thead th {\n",
       "        text-align: right;\n",
       "    }\n",
       "</style>\n",
       "<table border=\"1\" class=\"dataframe\">\n",
       "  <thead>\n",
       "    <tr style=\"text-align: right;\">\n",
       "      <th></th>\n",
       "      <th>Date</th>\n",
       "      <th>USD_g</th>\n",
       "      <th>INR_g</th>\n",
       "    </tr>\n",
       "  </thead>\n",
       "  <tbody>\n",
       "    <tr>\n",
       "      <th>0</th>\n",
       "      <td>01-1990</td>\n",
       "      <td>415.1</td>\n",
       "      <td>7041.03</td>\n",
       "    </tr>\n",
       "    <tr>\n",
       "      <th>1</th>\n",
       "      <td>02-1990</td>\n",
       "      <td>407.7</td>\n",
       "      <td>6957.44</td>\n",
       "    </tr>\n",
       "    <tr>\n",
       "      <th>2</th>\n",
       "      <td>03-1990</td>\n",
       "      <td>368.5</td>\n",
       "      <td>6334.40</td>\n",
       "    </tr>\n",
       "    <tr>\n",
       "      <th>3</th>\n",
       "      <td>04-1990</td>\n",
       "      <td>367.8</td>\n",
       "      <td>6379.27</td>\n",
       "    </tr>\n",
       "    <tr>\n",
       "      <th>4</th>\n",
       "      <td>05-1990</td>\n",
       "      <td>363.1</td>\n",
       "      <td>6295.47</td>\n",
       "    </tr>\n",
       "    <tr>\n",
       "      <th>...</th>\n",
       "      <td>...</td>\n",
       "      <td>...</td>\n",
       "      <td>...</td>\n",
       "    </tr>\n",
       "    <tr>\n",
       "      <th>375</th>\n",
       "      <td>04-2021</td>\n",
       "      <td>1767.7</td>\n",
       "      <td>130934.25</td>\n",
       "    </tr>\n",
       "    <tr>\n",
       "      <th>376</th>\n",
       "      <td>05-2021</td>\n",
       "      <td>1900.0</td>\n",
       "      <td>137979.12</td>\n",
       "    </tr>\n",
       "    <tr>\n",
       "      <th>377</th>\n",
       "      <td>06-2021</td>\n",
       "      <td>1763.2</td>\n",
       "      <td>131054.93</td>\n",
       "    </tr>\n",
       "    <tr>\n",
       "      <th>378</th>\n",
       "      <td>07-2021</td>\n",
       "      <td>1825.8</td>\n",
       "      <td>135863.19</td>\n",
       "    </tr>\n",
       "    <tr>\n",
       "      <th>379</th>\n",
       "      <td>08-2021</td>\n",
       "      <td>1814.9</td>\n",
       "      <td>132497.67</td>\n",
       "    </tr>\n",
       "  </tbody>\n",
       "</table>\n",
       "<p>380 rows × 3 columns</p>\n",
       "</div>"
      ],
      "text/plain": [
       "        Date   USD_g      INR_g\n",
       "0    01-1990   415.1    7041.03\n",
       "1    02-1990   407.7    6957.44\n",
       "2    03-1990   368.5    6334.40\n",
       "3    04-1990   367.8    6379.27\n",
       "4    05-1990   363.1    6295.47\n",
       "..       ...     ...        ...\n",
       "375  04-2021  1767.7  130934.25\n",
       "376  05-2021  1900.0  137979.12\n",
       "377  06-2021  1763.2  131054.93\n",
       "378  07-2021  1825.8  135863.19\n",
       "379  08-2021  1814.9  132497.67\n",
       "\n",
       "[380 rows x 3 columns]"
      ]
     },
     "execution_count": 323,
     "metadata": {},
     "output_type": "execute_result"
    }
   ],
   "source": [
    "mp"
   ]
  },
  {
   "cell_type": "code",
   "execution_count": 324,
   "id": "6411e936",
   "metadata": {
    "ExecuteTime": {
     "end_time": "2021-10-04T05:10:01.338067Z",
     "start_time": "2021-10-04T05:10:01.295069Z"
    }
   },
   "outputs": [],
   "source": [
    "allprice= pd.merge(mp,usd, how=\"outer\", on=\"Date\")"
   ]
  },
  {
   "cell_type": "code",
   "execution_count": 325,
   "id": "41865c8e",
   "metadata": {
    "ExecuteTime": {
     "end_time": "2021-10-04T05:10:01.384067Z",
     "start_time": "2021-10-04T05:10:01.341068Z"
    }
   },
   "outputs": [
    {
     "data": {
      "text/html": [
       "<div>\n",
       "<style scoped>\n",
       "    .dataframe tbody tr th:only-of-type {\n",
       "        vertical-align: middle;\n",
       "    }\n",
       "\n",
       "    .dataframe tbody tr th {\n",
       "        vertical-align: top;\n",
       "    }\n",
       "\n",
       "    .dataframe thead th {\n",
       "        text-align: right;\n",
       "    }\n",
       "</style>\n",
       "<table border=\"1\" class=\"dataframe\">\n",
       "  <thead>\n",
       "    <tr style=\"text-align: right;\">\n",
       "      <th></th>\n",
       "      <th>Date</th>\n",
       "      <th>USD_g</th>\n",
       "      <th>INR_g</th>\n",
       "      <th>USD_d</th>\n",
       "    </tr>\n",
       "  </thead>\n",
       "  <tbody>\n",
       "    <tr>\n",
       "      <th>375</th>\n",
       "      <td>04-2021</td>\n",
       "      <td>1767.7</td>\n",
       "      <td>130934.25</td>\n",
       "      <td>74.0750</td>\n",
       "    </tr>\n",
       "    <tr>\n",
       "      <th>376</th>\n",
       "      <td>05-2021</td>\n",
       "      <td>1900.0</td>\n",
       "      <td>137979.12</td>\n",
       "      <td>72.6175</td>\n",
       "    </tr>\n",
       "    <tr>\n",
       "      <th>377</th>\n",
       "      <td>06-2021</td>\n",
       "      <td>1763.2</td>\n",
       "      <td>131054.93</td>\n",
       "      <td>74.3240</td>\n",
       "    </tr>\n",
       "    <tr>\n",
       "      <th>378</th>\n",
       "      <td>07-2021</td>\n",
       "      <td>1825.8</td>\n",
       "      <td>135863.19</td>\n",
       "      <td>74.4100</td>\n",
       "    </tr>\n",
       "    <tr>\n",
       "      <th>379</th>\n",
       "      <td>08-2021</td>\n",
       "      <td>1814.9</td>\n",
       "      <td>132497.67</td>\n",
       "      <td>72.9960</td>\n",
       "    </tr>\n",
       "  </tbody>\n",
       "</table>\n",
       "</div>"
      ],
      "text/plain": [
       "        Date   USD_g      INR_g    USD_d\n",
       "375  04-2021  1767.7  130934.25  74.0750\n",
       "376  05-2021  1900.0  137979.12  72.6175\n",
       "377  06-2021  1763.2  131054.93  74.3240\n",
       "378  07-2021  1825.8  135863.19  74.4100\n",
       "379  08-2021  1814.9  132497.67  72.9960"
      ]
     },
     "execution_count": 325,
     "metadata": {},
     "output_type": "execute_result"
    }
   ],
   "source": [
    "allprice.tail()"
   ]
  },
  {
   "cell_type": "code",
   "execution_count": 326,
   "id": "2fadb16b",
   "metadata": {
    "ExecuteTime": {
     "end_time": "2021-10-04T05:10:01.416068Z",
     "start_time": "2021-10-04T05:10:01.387070Z"
    }
   },
   "outputs": [],
   "source": [
    "allprice.set_index(\"Date\",inplace=True)"
   ]
  },
  {
   "cell_type": "code",
   "execution_count": 327,
   "id": "8ac2cf06",
   "metadata": {
    "ExecuteTime": {
     "end_time": "2021-10-04T05:10:01.464066Z",
     "start_time": "2021-10-04T05:10:01.428068Z"
    }
   },
   "outputs": [],
   "source": [
    "allprice['INR_g']= allprice[\"INR_g\"]/allprice[\"USD_d\"]"
   ]
  },
  {
   "cell_type": "code",
   "execution_count": 328,
   "id": "13cd9478",
   "metadata": {
    "ExecuteTime": {
     "end_time": "2021-10-04T05:10:01.526068Z",
     "start_time": "2021-10-04T05:10:01.468069Z"
    }
   },
   "outputs": [
    {
     "data": {
      "text/html": [
       "<div>\n",
       "<style scoped>\n",
       "    .dataframe tbody tr th:only-of-type {\n",
       "        vertical-align: middle;\n",
       "    }\n",
       "\n",
       "    .dataframe tbody tr th {\n",
       "        vertical-align: top;\n",
       "    }\n",
       "\n",
       "    .dataframe thead th {\n",
       "        text-align: right;\n",
       "    }\n",
       "</style>\n",
       "<table border=\"1\" class=\"dataframe\">\n",
       "  <thead>\n",
       "    <tr style=\"text-align: right;\">\n",
       "      <th></th>\n",
       "      <th>USD_g</th>\n",
       "      <th>INR_g</th>\n",
       "      <th>USD_d</th>\n",
       "    </tr>\n",
       "    <tr>\n",
       "      <th>Date</th>\n",
       "      <th></th>\n",
       "      <th></th>\n",
       "      <th></th>\n",
       "    </tr>\n",
       "  </thead>\n",
       "  <tbody>\n",
       "    <tr>\n",
       "      <th>01-1990</th>\n",
       "      <td>415.1</td>\n",
       "      <td>416.628994</td>\n",
       "      <td>16.9000</td>\n",
       "    </tr>\n",
       "    <tr>\n",
       "      <th>02-1990</th>\n",
       "      <td>407.7</td>\n",
       "      <td>409.261176</td>\n",
       "      <td>17.0000</td>\n",
       "    </tr>\n",
       "    <tr>\n",
       "      <th>03-1990</th>\n",
       "      <td>368.5</td>\n",
       "      <td>368.279070</td>\n",
       "      <td>17.2000</td>\n",
       "    </tr>\n",
       "    <tr>\n",
       "      <th>04-1990</th>\n",
       "      <td>367.8</td>\n",
       "      <td>368.743931</td>\n",
       "      <td>17.3000</td>\n",
       "    </tr>\n",
       "    <tr>\n",
       "      <th>05-1990</th>\n",
       "      <td>363.1</td>\n",
       "      <td>363.900000</td>\n",
       "      <td>17.3000</td>\n",
       "    </tr>\n",
       "    <tr>\n",
       "      <th>...</th>\n",
       "      <td>...</td>\n",
       "      <td>...</td>\n",
       "      <td>...</td>\n",
       "    </tr>\n",
       "    <tr>\n",
       "      <th>04-2021</th>\n",
       "      <td>1767.7</td>\n",
       "      <td>1767.590280</td>\n",
       "      <td>74.0750</td>\n",
       "    </tr>\n",
       "    <tr>\n",
       "      <th>05-2021</th>\n",
       "      <td>1900.0</td>\n",
       "      <td>1900.080835</td>\n",
       "      <td>72.6175</td>\n",
       "    </tr>\n",
       "    <tr>\n",
       "      <th>06-2021</th>\n",
       "      <td>1763.2</td>\n",
       "      <td>1763.292207</td>\n",
       "      <td>74.3240</td>\n",
       "    </tr>\n",
       "    <tr>\n",
       "      <th>07-2021</th>\n",
       "      <td>1825.8</td>\n",
       "      <td>1825.872732</td>\n",
       "      <td>74.4100</td>\n",
       "    </tr>\n",
       "    <tr>\n",
       "      <th>08-2021</th>\n",
       "      <td>1814.9</td>\n",
       "      <td>1815.136035</td>\n",
       "      <td>72.9960</td>\n",
       "    </tr>\n",
       "  </tbody>\n",
       "</table>\n",
       "<p>380 rows × 3 columns</p>\n",
       "</div>"
      ],
      "text/plain": [
       "          USD_g        INR_g    USD_d\n",
       "Date                                 \n",
       "01-1990   415.1   416.628994  16.9000\n",
       "02-1990   407.7   409.261176  17.0000\n",
       "03-1990   368.5   368.279070  17.2000\n",
       "04-1990   367.8   368.743931  17.3000\n",
       "05-1990   363.1   363.900000  17.3000\n",
       "...         ...          ...      ...\n",
       "04-2021  1767.7  1767.590280  74.0750\n",
       "05-2021  1900.0  1900.080835  72.6175\n",
       "06-2021  1763.2  1763.292207  74.3240\n",
       "07-2021  1825.8  1825.872732  74.4100\n",
       "08-2021  1814.9  1815.136035  72.9960\n",
       "\n",
       "[380 rows x 3 columns]"
      ]
     },
     "execution_count": 328,
     "metadata": {},
     "output_type": "execute_result"
    }
   ],
   "source": [
    "allprice"
   ]
  },
  {
   "cell_type": "code",
   "execution_count": 329,
   "id": "b1186798",
   "metadata": {
    "ExecuteTime": {
     "end_time": "2021-10-04T05:10:01.557595Z",
     "start_time": "2021-10-04T05:10:01.529070Z"
    }
   },
   "outputs": [],
   "source": [
    "xticks=[i for i in range(1990,2022,5)]"
   ]
  },
  {
   "cell_type": "code",
   "execution_count": 330,
   "id": "5445d9ac",
   "metadata": {
    "ExecuteTime": {
     "end_time": "2021-10-04T05:10:01.605592Z",
     "start_time": "2021-10-04T05:10:01.561594Z"
    }
   },
   "outputs": [
    {
     "data": {
      "text/plain": [
       "[1990, 1995, 2000, 2005, 2010, 2015, 2020]"
      ]
     },
     "execution_count": 330,
     "metadata": {},
     "output_type": "execute_result"
    }
   ],
   "source": [
    "xticks"
   ]
  },
  {
   "cell_type": "code",
   "execution_count": 331,
   "id": "dcebbc57",
   "metadata": {
    "ExecuteTime": {
     "end_time": "2021-10-04T05:10:02.311588Z",
     "start_time": "2021-10-04T05:10:01.608595Z"
    }
   },
   "outputs": [
    {
     "data": {
      "image/png": "[encoded data removed]",
      "text/plain": [
       "<Figure size 1100x500 with 3 Axes>"
      ]
     },
     "metadata": {
      "needs_background": "light"
     },
     "output_type": "display_data"
    }
   ],
   "source": [
    "allprice.plot(subplots=True, sharex= False, sharey=False)\n",
    "plt.show()"
   ]
  },
  {
   "cell_type": "code",
   "execution_count": 332,
   "id": "2e1da2b9",
   "metadata": {
    "ExecuteTime": {
     "end_time": "2021-10-04T05:10:02.327599Z",
     "start_time": "2021-10-04T05:10:02.313591Z"
    }
   },
   "outputs": [],
   "source": [
    "btc=pd.read_csv(\"Dataset/BTC.csv\", usecols=[\"Date\", \"Price\"])"
   ]
  },
  {
   "cell_type": "code",
   "execution_count": null,
   "id": "c50ffeea",
   "metadata": {},
   "outputs": [],
   "source": []
  },
  {
   "cell_type": "code",
   "execution_count": 333,
   "id": "171e61eb",
   "metadata": {
    "ExecuteTime": {
     "end_time": "2021-10-04T05:10:02.375593Z",
     "start_time": "2021-10-04T05:10:02.331595Z"
    }
   },
   "outputs": [
    {
     "name": "stdout",
     "output_type": "stream",
     "text": [
      "<class 'pandas.core.frame.DataFrame'>\n",
      "RangeIndex: 135 entries, 0 to 134\n",
      "Data columns (total 2 columns):\n",
      " #   Column  Non-Null Count  Dtype \n",
      "---  ------  --------------  ----- \n",
      " 0   Date    135 non-null    object\n",
      " 1   Price   135 non-null    object\n",
      "dtypes: object(2)\n",
      "memory usage: 2.2+ KB\n"
     ]
    }
   ],
   "source": [
    "btc.info()"
   ]
  },
  {
   "cell_type": "code",
   "execution_count": 334,
   "id": "34624f5c",
   "metadata": {
    "ExecuteTime": {
     "end_time": "2021-10-04T05:10:02.423592Z",
     "start_time": "2021-10-04T05:10:02.378595Z"
    }
   },
   "outputs": [],
   "source": [
    "btc.rename(columns = {\"Price\": \"BTC\"}, inplace=True)"
   ]
  },
  {
   "cell_type": "code",
   "execution_count": 335,
   "id": "3b2d17c9",
   "metadata": {
    "ExecuteTime": {
     "end_time": "2021-10-04T05:10:02.471593Z",
     "start_time": "2021-10-04T05:10:02.425594Z"
    }
   },
   "outputs": [
    {
     "data": {
      "text/html": [
       "<div>\n",
       "<style scoped>\n",
       "    .dataframe tbody tr th:only-of-type {\n",
       "        vertical-align: middle;\n",
       "    }\n",
       "\n",
       "    .dataframe tbody tr th {\n",
       "        vertical-align: top;\n",
       "    }\n",
       "\n",
       "    .dataframe thead th {\n",
       "        text-align: right;\n",
       "    }\n",
       "</style>\n",
       "<table border=\"1\" class=\"dataframe\">\n",
       "  <thead>\n",
       "    <tr style=\"text-align: right;\">\n",
       "      <th></th>\n",
       "      <th>Date</th>\n",
       "      <th>BTC</th>\n",
       "    </tr>\n",
       "  </thead>\n",
       "  <tbody>\n",
       "    <tr>\n",
       "      <th>0</th>\n",
       "      <td>Oct 21</td>\n",
       "      <td>47,575.7</td>\n",
       "    </tr>\n",
       "    <tr>\n",
       "      <th>1</th>\n",
       "      <td>Sep 21</td>\n",
       "      <td>43,823.3</td>\n",
       "    </tr>\n",
       "    <tr>\n",
       "      <th>2</th>\n",
       "      <td>Aug 21</td>\n",
       "      <td>47,130.4</td>\n",
       "    </tr>\n",
       "    <tr>\n",
       "      <th>3</th>\n",
       "      <td>Jul 21</td>\n",
       "      <td>41,553.7</td>\n",
       "    </tr>\n",
       "    <tr>\n",
       "      <th>4</th>\n",
       "      <td>Jun 21</td>\n",
       "      <td>35,026.9</td>\n",
       "    </tr>\n",
       "    <tr>\n",
       "      <th>...</th>\n",
       "      <td>...</td>\n",
       "      <td>...</td>\n",
       "    </tr>\n",
       "    <tr>\n",
       "      <th>130</th>\n",
       "      <td>Dec 10</td>\n",
       "      <td>0.3</td>\n",
       "    </tr>\n",
       "    <tr>\n",
       "      <th>131</th>\n",
       "      <td>Nov 10</td>\n",
       "      <td>0.2</td>\n",
       "    </tr>\n",
       "    <tr>\n",
       "      <th>132</th>\n",
       "      <td>Oct 10</td>\n",
       "      <td>0.2</td>\n",
       "    </tr>\n",
       "    <tr>\n",
       "      <th>133</th>\n",
       "      <td>Sep 10</td>\n",
       "      <td>0.1</td>\n",
       "    </tr>\n",
       "    <tr>\n",
       "      <th>134</th>\n",
       "      <td>Aug 10</td>\n",
       "      <td>0.1</td>\n",
       "    </tr>\n",
       "  </tbody>\n",
       "</table>\n",
       "<p>135 rows × 2 columns</p>\n",
       "</div>"
      ],
      "text/plain": [
       "       Date       BTC\n",
       "0    Oct 21  47,575.7\n",
       "1    Sep 21  43,823.3\n",
       "2    Aug 21  47,130.4\n",
       "3    Jul 21  41,553.7\n",
       "4    Jun 21  35,026.9\n",
       "..      ...       ...\n",
       "130  Dec 10       0.3\n",
       "131  Nov 10       0.2\n",
       "132  Oct 10       0.2\n",
       "133  Sep 10       0.1\n",
       "134  Aug 10       0.1\n",
       "\n",
       "[135 rows x 2 columns]"
      ]
     },
     "execution_count": 335,
     "metadata": {},
     "output_type": "execute_result"
    }
   ],
   "source": [
    "btc"
   ]
  },
  {
   "cell_type": "code",
   "execution_count": 336,
   "id": "d2f65a8f",
   "metadata": {
    "ExecuteTime": {
     "end_time": "2021-10-04T05:10:02.533595Z",
     "start_time": "2021-10-04T05:10:02.479593Z"
    }
   },
   "outputs": [],
   "source": [
    "btc.Date=btc.Date.apply(lambda x: datetime.datetime.strptime(x,'%b %y').strftime('%m-%Y'))"
   ]
  },
  {
   "cell_type": "code",
   "execution_count": 337,
   "id": "ef011280",
   "metadata": {
    "ExecuteTime": {
     "end_time": "2021-10-04T05:10:02.609593Z",
     "start_time": "2021-10-04T05:10:02.537595Z"
    }
   },
   "outputs": [
    {
     "data": {
      "text/html": [
       "<div>\n",
       "<style scoped>\n",
       "    .dataframe tbody tr th:only-of-type {\n",
       "        vertical-align: middle;\n",
       "    }\n",
       "\n",
       "    .dataframe tbody tr th {\n",
       "        vertical-align: top;\n",
       "    }\n",
       "\n",
       "    .dataframe thead th {\n",
       "        text-align: right;\n",
       "    }\n",
       "</style>\n",
       "<table border=\"1\" class=\"dataframe\">\n",
       "  <thead>\n",
       "    <tr style=\"text-align: right;\">\n",
       "      <th></th>\n",
       "      <th>Date</th>\n",
       "      <th>BTC</th>\n",
       "    </tr>\n",
       "  </thead>\n",
       "  <tbody>\n",
       "    <tr>\n",
       "      <th>0</th>\n",
       "      <td>10-2021</td>\n",
       "      <td>47,575.7</td>\n",
       "    </tr>\n",
       "    <tr>\n",
       "      <th>1</th>\n",
       "      <td>09-2021</td>\n",
       "      <td>43,823.3</td>\n",
       "    </tr>\n",
       "    <tr>\n",
       "      <th>2</th>\n",
       "      <td>08-2021</td>\n",
       "      <td>47,130.4</td>\n",
       "    </tr>\n",
       "    <tr>\n",
       "      <th>3</th>\n",
       "      <td>07-2021</td>\n",
       "      <td>41,553.7</td>\n",
       "    </tr>\n",
       "    <tr>\n",
       "      <th>4</th>\n",
       "      <td>06-2021</td>\n",
       "      <td>35,026.9</td>\n",
       "    </tr>\n",
       "    <tr>\n",
       "      <th>...</th>\n",
       "      <td>...</td>\n",
       "      <td>...</td>\n",
       "    </tr>\n",
       "    <tr>\n",
       "      <th>130</th>\n",
       "      <td>12-2010</td>\n",
       "      <td>0.3</td>\n",
       "    </tr>\n",
       "    <tr>\n",
       "      <th>131</th>\n",
       "      <td>11-2010</td>\n",
       "      <td>0.2</td>\n",
       "    </tr>\n",
       "    <tr>\n",
       "      <th>132</th>\n",
       "      <td>10-2010</td>\n",
       "      <td>0.2</td>\n",
       "    </tr>\n",
       "    <tr>\n",
       "      <th>133</th>\n",
       "      <td>09-2010</td>\n",
       "      <td>0.1</td>\n",
       "    </tr>\n",
       "    <tr>\n",
       "      <th>134</th>\n",
       "      <td>08-2010</td>\n",
       "      <td>0.1</td>\n",
       "    </tr>\n",
       "  </tbody>\n",
       "</table>\n",
       "<p>135 rows × 2 columns</p>\n",
       "</div>"
      ],
      "text/plain": [
       "        Date       BTC\n",
       "0    10-2021  47,575.7\n",
       "1    09-2021  43,823.3\n",
       "2    08-2021  47,130.4\n",
       "3    07-2021  41,553.7\n",
       "4    06-2021  35,026.9\n",
       "..       ...       ...\n",
       "130  12-2010       0.3\n",
       "131  11-2010       0.2\n",
       "132  10-2010       0.2\n",
       "133  09-2010       0.1\n",
       "134  08-2010       0.1\n",
       "\n",
       "[135 rows x 2 columns]"
      ]
     },
     "execution_count": 337,
     "metadata": {},
     "output_type": "execute_result"
    }
   ],
   "source": [
    "btc"
   ]
  },
  {
   "cell_type": "code",
   "execution_count": 338,
   "id": "584e151a",
   "metadata": {
    "ExecuteTime": {
     "end_time": "2021-10-04T05:10:02.657595Z",
     "start_time": "2021-10-04T05:10:02.612594Z"
    }
   },
   "outputs": [],
   "source": [
    "btc.BTC=btc[\"BTC\"].apply(lambda x: x.split(\",\"))"
   ]
  },
  {
   "cell_type": "code",
   "execution_count": 339,
   "id": "2a150ec5",
   "metadata": {
    "ExecuteTime": {
     "end_time": "2021-10-04T05:10:02.705595Z",
     "start_time": "2021-10-04T05:10:02.660594Z"
    }
   },
   "outputs": [],
   "source": [
    "btc.BTC=btc.BTC.apply(lambda x: \"\".join(x))"
   ]
  },
  {
   "cell_type": "code",
   "execution_count": 340,
   "id": "c9d70df2",
   "metadata": {
    "ExecuteTime": {
     "end_time": "2021-10-04T05:10:02.753595Z",
     "start_time": "2021-10-04T05:10:02.708592Z"
    }
   },
   "outputs": [
    {
     "data": {
      "text/html": [
       "<div>\n",
       "<style scoped>\n",
       "    .dataframe tbody tr th:only-of-type {\n",
       "        vertical-align: middle;\n",
       "    }\n",
       "\n",
       "    .dataframe tbody tr th {\n",
       "        vertical-align: top;\n",
       "    }\n",
       "\n",
       "    .dataframe thead th {\n",
       "        text-align: right;\n",
       "    }\n",
       "</style>\n",
       "<table border=\"1\" class=\"dataframe\">\n",
       "  <thead>\n",
       "    <tr style=\"text-align: right;\">\n",
       "      <th></th>\n",
       "      <th>Date</th>\n",
       "      <th>BTC</th>\n",
       "    </tr>\n",
       "  </thead>\n",
       "  <tbody>\n",
       "    <tr>\n",
       "      <th>0</th>\n",
       "      <td>10-2021</td>\n",
       "      <td>47575.7</td>\n",
       "    </tr>\n",
       "    <tr>\n",
       "      <th>1</th>\n",
       "      <td>09-2021</td>\n",
       "      <td>43823.3</td>\n",
       "    </tr>\n",
       "    <tr>\n",
       "      <th>2</th>\n",
       "      <td>08-2021</td>\n",
       "      <td>47130.4</td>\n",
       "    </tr>\n",
       "    <tr>\n",
       "      <th>3</th>\n",
       "      <td>07-2021</td>\n",
       "      <td>41553.7</td>\n",
       "    </tr>\n",
       "    <tr>\n",
       "      <th>4</th>\n",
       "      <td>06-2021</td>\n",
       "      <td>35026.9</td>\n",
       "    </tr>\n",
       "    <tr>\n",
       "      <th>...</th>\n",
       "      <td>...</td>\n",
       "      <td>...</td>\n",
       "    </tr>\n",
       "    <tr>\n",
       "      <th>130</th>\n",
       "      <td>12-2010</td>\n",
       "      <td>0.3</td>\n",
       "    </tr>\n",
       "    <tr>\n",
       "      <th>131</th>\n",
       "      <td>11-2010</td>\n",
       "      <td>0.2</td>\n",
       "    </tr>\n",
       "    <tr>\n",
       "      <th>132</th>\n",
       "      <td>10-2010</td>\n",
       "      <td>0.2</td>\n",
       "    </tr>\n",
       "    <tr>\n",
       "      <th>133</th>\n",
       "      <td>09-2010</td>\n",
       "      <td>0.1</td>\n",
       "    </tr>\n",
       "    <tr>\n",
       "      <th>134</th>\n",
       "      <td>08-2010</td>\n",
       "      <td>0.1</td>\n",
       "    </tr>\n",
       "  </tbody>\n",
       "</table>\n",
       "<p>135 rows × 2 columns</p>\n",
       "</div>"
      ],
      "text/plain": [
       "        Date      BTC\n",
       "0    10-2021  47575.7\n",
       "1    09-2021  43823.3\n",
       "2    08-2021  47130.4\n",
       "3    07-2021  41553.7\n",
       "4    06-2021  35026.9\n",
       "..       ...      ...\n",
       "130  12-2010      0.3\n",
       "131  11-2010      0.2\n",
       "132  10-2010      0.2\n",
       "133  09-2010      0.1\n",
       "134  08-2010      0.1\n",
       "\n",
       "[135 rows x 2 columns]"
      ]
     },
     "execution_count": 340,
     "metadata": {},
     "output_type": "execute_result"
    }
   ],
   "source": [
    "btc"
   ]
  },
  {
   "cell_type": "code",
   "execution_count": 341,
   "id": "5d79c1d0",
   "metadata": {
    "ExecuteTime": {
     "end_time": "2021-10-04T05:10:02.815593Z",
     "start_time": "2021-10-04T05:10:02.758593Z"
    }
   },
   "outputs": [],
   "source": [
    "btc.BTC = pd.to_numeric(btc.BTC)"
   ]
  },
  {
   "cell_type": "code",
   "execution_count": 342,
   "id": "29fd4698",
   "metadata": {
    "ExecuteTime": {
     "end_time": "2021-10-04T05:10:02.877593Z",
     "start_time": "2021-10-04T05:10:02.818593Z"
    }
   },
   "outputs": [
    {
     "name": "stdout",
     "output_type": "stream",
     "text": [
      "<class 'pandas.core.frame.DataFrame'>\n",
      "RangeIndex: 135 entries, 0 to 134\n",
      "Data columns (total 2 columns):\n",
      " #   Column  Non-Null Count  Dtype  \n",
      "---  ------  --------------  -----  \n",
      " 0   Date    135 non-null    object \n",
      " 1   BTC     135 non-null    float64\n",
      "dtypes: float64(1), object(1)\n",
      "memory usage: 2.2+ KB\n"
     ]
    }
   ],
   "source": [
    "btc.info()"
   ]
  },
  {
   "cell_type": "code",
   "execution_count": 343,
   "id": "6e06c733",
   "metadata": {
    "ExecuteTime": {
     "end_time": "2021-10-04T05:10:02.940594Z",
     "start_time": "2021-10-04T05:10:02.880593Z"
    }
   },
   "outputs": [],
   "source": [
    "allprice= pd.merge(allprice,btc, how=\"outer\", on=\"Date\")"
   ]
  },
  {
   "cell_type": "code",
   "execution_count": 344,
   "id": "974fac6d",
   "metadata": {
    "ExecuteTime": {
     "end_time": "2021-10-04T05:10:03.001592Z",
     "start_time": "2021-10-04T05:10:02.946594Z"
    }
   },
   "outputs": [
    {
     "data": {
      "text/html": [
       "<div>\n",
       "<style scoped>\n",
       "    .dataframe tbody tr th:only-of-type {\n",
       "        vertical-align: middle;\n",
       "    }\n",
       "\n",
       "    .dataframe tbody tr th {\n",
       "        vertical-align: top;\n",
       "    }\n",
       "\n",
       "    .dataframe thead th {\n",
       "        text-align: right;\n",
       "    }\n",
       "</style>\n",
       "<table border=\"1\" class=\"dataframe\">\n",
       "  <thead>\n",
       "    <tr style=\"text-align: right;\">\n",
       "      <th></th>\n",
       "      <th>Date</th>\n",
       "      <th>USD_g</th>\n",
       "      <th>INR_g</th>\n",
       "      <th>USD_d</th>\n",
       "      <th>BTC</th>\n",
       "    </tr>\n",
       "  </thead>\n",
       "  <tbody>\n",
       "    <tr>\n",
       "      <th>0</th>\n",
       "      <td>01-1990</td>\n",
       "      <td>415.1</td>\n",
       "      <td>416.628994</td>\n",
       "      <td>16.900</td>\n",
       "      <td>NaN</td>\n",
       "    </tr>\n",
       "    <tr>\n",
       "      <th>1</th>\n",
       "      <td>02-1990</td>\n",
       "      <td>407.7</td>\n",
       "      <td>409.261176</td>\n",
       "      <td>17.000</td>\n",
       "      <td>NaN</td>\n",
       "    </tr>\n",
       "    <tr>\n",
       "      <th>2</th>\n",
       "      <td>03-1990</td>\n",
       "      <td>368.5</td>\n",
       "      <td>368.279070</td>\n",
       "      <td>17.200</td>\n",
       "      <td>NaN</td>\n",
       "    </tr>\n",
       "    <tr>\n",
       "      <th>3</th>\n",
       "      <td>04-1990</td>\n",
       "      <td>367.8</td>\n",
       "      <td>368.743931</td>\n",
       "      <td>17.300</td>\n",
       "      <td>NaN</td>\n",
       "    </tr>\n",
       "    <tr>\n",
       "      <th>4</th>\n",
       "      <td>05-1990</td>\n",
       "      <td>363.1</td>\n",
       "      <td>363.900000</td>\n",
       "      <td>17.300</td>\n",
       "      <td>NaN</td>\n",
       "    </tr>\n",
       "    <tr>\n",
       "      <th>...</th>\n",
       "      <td>...</td>\n",
       "      <td>...</td>\n",
       "      <td>...</td>\n",
       "      <td>...</td>\n",
       "      <td>...</td>\n",
       "    </tr>\n",
       "    <tr>\n",
       "      <th>377</th>\n",
       "      <td>06-2021</td>\n",
       "      <td>1763.2</td>\n",
       "      <td>1763.292207</td>\n",
       "      <td>74.324</td>\n",
       "      <td>35026.9</td>\n",
       "    </tr>\n",
       "    <tr>\n",
       "      <th>378</th>\n",
       "      <td>07-2021</td>\n",
       "      <td>1825.8</td>\n",
       "      <td>1825.872732</td>\n",
       "      <td>74.410</td>\n",
       "      <td>41553.7</td>\n",
       "    </tr>\n",
       "    <tr>\n",
       "      <th>379</th>\n",
       "      <td>08-2021</td>\n",
       "      <td>1814.9</td>\n",
       "      <td>1815.136035</td>\n",
       "      <td>72.996</td>\n",
       "      <td>47130.4</td>\n",
       "    </tr>\n",
       "    <tr>\n",
       "      <th>380</th>\n",
       "      <td>10-2021</td>\n",
       "      <td>NaN</td>\n",
       "      <td>NaN</td>\n",
       "      <td>NaN</td>\n",
       "      <td>47575.7</td>\n",
       "    </tr>\n",
       "    <tr>\n",
       "      <th>381</th>\n",
       "      <td>09-2021</td>\n",
       "      <td>NaN</td>\n",
       "      <td>NaN</td>\n",
       "      <td>NaN</td>\n",
       "      <td>43823.3</td>\n",
       "    </tr>\n",
       "  </tbody>\n",
       "</table>\n",
       "<p>382 rows × 5 columns</p>\n",
       "</div>"
      ],
      "text/plain": [
       "        Date   USD_g        INR_g   USD_d      BTC\n",
       "0    01-1990   415.1   416.628994  16.900      NaN\n",
       "1    02-1990   407.7   409.261176  17.000      NaN\n",
       "2    03-1990   368.5   368.279070  17.200      NaN\n",
       "3    04-1990   367.8   368.743931  17.300      NaN\n",
       "4    05-1990   363.1   363.900000  17.300      NaN\n",
       "..       ...     ...          ...     ...      ...\n",
       "377  06-2021  1763.2  1763.292207  74.324  35026.9\n",
       "378  07-2021  1825.8  1825.872732  74.410  41553.7\n",
       "379  08-2021  1814.9  1815.136035  72.996  47130.4\n",
       "380  10-2021     NaN          NaN     NaN  47575.7\n",
       "381  09-2021     NaN          NaN     NaN  43823.3\n",
       "\n",
       "[382 rows x 5 columns]"
      ]
     },
     "execution_count": 344,
     "metadata": {},
     "output_type": "execute_result"
    }
   ],
   "source": [
    "allprice"
   ]
  },
  {
   "cell_type": "code",
   "execution_count": 398,
   "id": "d361a180",
   "metadata": {
    "ExecuteTime": {
     "end_time": "2021-10-04T05:39:26.673317Z",
     "start_time": "2021-10-04T05:39:26.661338Z"
    }
   },
   "outputs": [],
   "source": [
    "allprice.set_index(\"Date\", inplace=True)"
   ]
  },
  {
   "cell_type": "code",
   "execution_count": 399,
   "id": "d24e721c",
   "metadata": {
    "ExecuteTime": {
     "end_time": "2021-10-04T05:39:28.737240Z",
     "start_time": "2021-10-04T05:39:28.142242Z"
    }
   },
   "outputs": [
    {
     "data": {
      "image/png": "[encoded data removed]",
      "text/plain": [
       "<Figure size 1100x500 with 4 Axes>"
      ]
     },
     "metadata": {
      "needs_background": "light"
     },
     "output_type": "display_data"
    }
   ],
   "source": [
    "allprice.plot(subplots=True, sharex= False, sharey=False)\n",
    "plt.show()"
   ]
  },
  {
   "cell_type": "code",
   "execution_count": 346,
   "id": "4752cd22",
   "metadata": {
    "ExecuteTime": {
     "end_time": "2021-10-04T05:10:04.136272Z",
     "start_time": "2021-10-04T05:10:04.093272Z"
    }
   },
   "outputs": [
    {
     "data": {
      "text/html": [
       "<div>\n",
       "<style scoped>\n",
       "    .dataframe tbody tr th:only-of-type {\n",
       "        vertical-align: middle;\n",
       "    }\n",
       "\n",
       "    .dataframe tbody tr th {\n",
       "        vertical-align: top;\n",
       "    }\n",
       "\n",
       "    .dataframe thead th {\n",
       "        text-align: right;\n",
       "    }\n",
       "</style>\n",
       "<table border=\"1\" class=\"dataframe\">\n",
       "  <thead>\n",
       "    <tr style=\"text-align: right;\">\n",
       "      <th></th>\n",
       "      <th>USD_g</th>\n",
       "      <th>INR_g</th>\n",
       "      <th>USD_d</th>\n",
       "      <th>BTC</th>\n",
       "    </tr>\n",
       "  </thead>\n",
       "  <tbody>\n",
       "    <tr>\n",
       "      <th>count</th>\n",
       "      <td>380.000000</td>\n",
       "      <td>380.000000</td>\n",
       "      <td>380.000000</td>\n",
       "      <td>135.000000</td>\n",
       "    </tr>\n",
       "    <tr>\n",
       "      <th>mean</th>\n",
       "      <td>796.234474</td>\n",
       "      <td>796.227245</td>\n",
       "      <td>47.351970</td>\n",
       "      <td>6225.451111</td>\n",
       "    </tr>\n",
       "    <tr>\n",
       "      <th>std</th>\n",
       "      <td>513.655220</td>\n",
       "      <td>513.559256</td>\n",
       "      <td>14.448781</td>\n",
       "      <td>12056.366724</td>\n",
       "    </tr>\n",
       "    <tr>\n",
       "      <th>min</th>\n",
       "      <td>254.800000</td>\n",
       "      <td>254.709197</td>\n",
       "      <td>16.900000</td>\n",
       "      <td>0.100000</td>\n",
       "    </tr>\n",
       "    <tr>\n",
       "      <th>25%</th>\n",
       "      <td>355.350000</td>\n",
       "      <td>354.800388</td>\n",
       "      <td>38.494500</td>\n",
       "      <td>117.500000</td>\n",
       "    </tr>\n",
       "    <tr>\n",
       "      <th>50%</th>\n",
       "      <td>484.500000</td>\n",
       "      <td>484.481927</td>\n",
       "      <td>45.878500</td>\n",
       "      <td>621.900000</td>\n",
       "    </tr>\n",
       "    <tr>\n",
       "      <th>75%</th>\n",
       "      <td>1261.775000</td>\n",
       "      <td>1260.643283</td>\n",
       "      <td>60.137500</td>\n",
       "      <td>7524.600000</td>\n",
       "    </tr>\n",
       "    <tr>\n",
       "      <th>max</th>\n",
       "      <td>1964.900000</td>\n",
       "      <td>1965.517255</td>\n",
       "      <td>75.563400</td>\n",
       "      <td>58763.700000</td>\n",
       "    </tr>\n",
       "  </tbody>\n",
       "</table>\n",
       "</div>"
      ],
      "text/plain": [
       "             USD_g        INR_g       USD_d           BTC\n",
       "count   380.000000   380.000000  380.000000    135.000000\n",
       "mean    796.234474   796.227245   47.351970   6225.451111\n",
       "std     513.655220   513.559256   14.448781  12056.366724\n",
       "min     254.800000   254.709197   16.900000      0.100000\n",
       "25%     355.350000   354.800388   38.494500    117.500000\n",
       "50%     484.500000   484.481927   45.878500    621.900000\n",
       "75%    1261.775000  1260.643283   60.137500   7524.600000\n",
       "max    1964.900000  1965.517255   75.563400  58763.700000"
      ]
     },
     "execution_count": 346,
     "metadata": {},
     "output_type": "execute_result"
    }
   ],
   "source": [
    "allprice.describe()"
   ]
  },
  {
   "cell_type": "code",
   "execution_count": 347,
   "id": "bb2d7c2a",
   "metadata": {
    "ExecuteTime": {
     "end_time": "2021-10-04T05:10:04.152270Z",
     "start_time": "2021-10-04T05:10:04.140272Z"
    }
   },
   "outputs": [],
   "source": [
    "label = {'fontsize': 15, 'color': '#abc123', 'fontfamily': 'monospace'}"
   ]
  },
  {
   "cell_type": "code",
   "execution_count": 400,
   "id": "c1350bff",
   "metadata": {
    "ExecuteTime": {
     "end_time": "2021-10-04T05:39:55.037608Z",
     "start_time": "2021-10-04T05:39:54.452614Z"
    }
   },
   "outputs": [
    {
     "data": {
      "image/png": "[encoded data removed]",
      "text/plain": [
       "<Figure size 1100x500 with 4 Axes>"
      ]
     },
     "metadata": {
      "needs_background": "light"
     },
     "output_type": "display_data"
    }
   ],
   "source": [
    "allprice.plot(subplots=True, sharex= False,sharey= False)\n",
    "plt.xlabel(\"Time\")\n",
    "plt.ylabel(\"Price\")\n",
    "plt.show()"
   ]
  },
  {
   "cell_type": "code",
   "execution_count": 403,
   "id": "91978aed",
   "metadata": {
    "ExecuteTime": {
     "end_time": "2021-10-04T05:40:49.269646Z",
     "start_time": "2021-10-04T05:40:48.652128Z"
    }
   },
   "outputs": [
    {
     "data": {
      "image/png": "[encoded data removed]",
      "text/plain": [
       "<Figure size 1100x500 with 4 Axes>"
      ]
     },
     "metadata": {
      "needs_background": "light"
     },
     "output_type": "display_data"
    }
   ],
   "source": [
    "allprice.plot(subplots=True, sharex= False,sharey= False)\n",
    "plt.xlabel(\"Time\",fontdict = label)\n",
    "plt.ylabel(\"Price\", fontdict = label)\n",
    "plt.show()"
   ]
  },
  {
   "cell_type": "code",
   "execution_count": null,
   "id": "98b25ca4",
   "metadata": {
    "ExecuteTime": {
     "end_time": "2021-10-04T05:10:04.200270Z",
     "start_time": "2021-10-04T05:10:01.018Z"
    }
   },
   "outputs": [],
   "source": [
    "allprice.INR_g"
   ]
  },
  {
   "cell_type": "code",
   "execution_count": 379,
   "id": "0bd50825",
   "metadata": {
    "ExecuteTime": {
     "end_time": "2021-10-04T05:26:41.034222Z",
     "start_time": "2021-10-04T05:26:41.019222Z"
    }
   },
   "outputs": [],
   "source": [
    "fc=pd.read_csv(\"Dataset/forecast_data.csv\")"
   ]
  }
 ],
 "metadata": {
  "kernelspec": {
   "display_name": "Python 3",
   "language": "python",
   "name": "python3"
  },
  "language_info": {
   "codemirror_mode": {
    "name": "ipython",
    "version": 3
   },
   "file_extension": ".py",
   "mimetype": "text/x-python",
   "name": "python",
   "nbconvert_exporter": "python",
   "pygments_lexer": "ipython3",
   "version": "3.8.8"
  }
 },
 "nbformat": 4,
 "nbformat_minor": 5
}
