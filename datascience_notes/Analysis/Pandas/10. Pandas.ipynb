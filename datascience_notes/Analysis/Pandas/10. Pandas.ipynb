{
 "cells": [
  {
   "cell_type": "code",
   "execution_count": 1,
   "id": "6507bb75",
   "metadata": {},
   "outputs": [],
   "source": [
    "import pandas as pd\n",
    "import numpy as np\n",
    "import matplotlib.pyplot as plt\n",
    "import seaborn as sns"
   ]
  },
  {
   "cell_type": "code",
   "execution_count": 2,
   "id": "f98fa8b8",
   "metadata": {},
   "outputs": [],
   "source": [
    "mig = pd.read_csv(\"D:/G_Drive/internship/datascience/DS_Assignments/missing_migrants/MissingMigrantsGlobal.csv\",\n",
    "                 encoding='latin', sep='\\t')\n",
    "# |,"
   ]
  },
  {
   "cell_type": "code",
   "execution_count": 4,
   "id": "91979c0e",
   "metadata": {},
   "outputs": [
    {
     "data": {
      "text/html": [
       "<div>\n",
       "<style scoped>\n",
       "    .dataframe tbody tr th:only-of-type {\n",
       "        vertical-align: middle;\n",
       "    }\n",
       "\n",
       "    .dataframe tbody tr th {\n",
       "        vertical-align: top;\n",
       "    }\n",
       "\n",
       "    .dataframe thead th {\n",
       "        text-align: right;\n",
       "    }\n",
       "</style>\n",
       "<table border=\"1\" class=\"dataframe\">\n",
       "  <thead>\n",
       "    <tr style=\"text-align: right;\">\n",
       "      <th></th>\n",
       "      <th>Web ID</th>\n",
       "      <th>Region of Incident</th>\n",
       "      <th>Reported Date</th>\n",
       "      <th>Reported Year</th>\n",
       "      <th>Reported Month</th>\n",
       "      <th>Number Dead</th>\n",
       "      <th>Minimum Estimated Number of Missing</th>\n",
       "      <th>Total Dead and Missing</th>\n",
       "      <th>Number of Survivors</th>\n",
       "      <th>Number of Females</th>\n",
       "      <th>Number of Males</th>\n",
       "      <th>Number of Children</th>\n",
       "      <th>Cause of Death</th>\n",
       "      <th>Location Description</th>\n",
       "      <th>Information Source</th>\n",
       "      <th>Location Coordinates</th>\n",
       "      <th>Migration Route</th>\n",
       "      <th>URL</th>\n",
       "      <th>UNSD Geographical Grouping</th>\n",
       "      <th>Source Quality</th>\n",
       "    </tr>\n",
       "  </thead>\n",
       "  <tbody>\n",
       "    <tr>\n",
       "      <th>0</th>\n",
       "      <td>51591</td>\n",
       "      <td>Mediterranean</td>\n",
       "      <td>March 28, 2019</td>\n",
       "      <td>2019</td>\n",
       "      <td>Mar</td>\n",
       "      <td>NaN</td>\n",
       "      <td>2.0</td>\n",
       "      <td>2</td>\n",
       "      <td>36.0</td>\n",
       "      <td>NaN</td>\n",
       "      <td>2.0</td>\n",
       "      <td>NaN</td>\n",
       "      <td>Presumed drowning</td>\n",
       "      <td>Off the coast of Chios, Greece</td>\n",
       "      <td>Hellenic Coast Guard via IOM Greece</td>\n",
       "      <td>38.362368696592, 26.172509473654</td>\n",
       "      <td>Eastern Mediterranean</td>\n",
       "      <td>NaN</td>\n",
       "      <td>Uncategorized</td>\n",
       "      <td>5</td>\n",
       "    </tr>\n",
       "    <tr>\n",
       "      <th>1</th>\n",
       "      <td>51588</td>\n",
       "      <td>Mediterranean</td>\n",
       "      <td>March 26, 2019</td>\n",
       "      <td>2019</td>\n",
       "      <td>Mar</td>\n",
       "      <td>4.0</td>\n",
       "      <td>NaN</td>\n",
       "      <td>4</td>\n",
       "      <td>11.0</td>\n",
       "      <td>3.0</td>\n",
       "      <td>NaN</td>\n",
       "      <td>1.0</td>\n",
       "      <td>Presumed drowning</td>\n",
       "      <td>Off the coast of Ayvac?k district, Çanakkale p...</td>\n",
       "      <td>Turkish Coast Guard via IOM Turkey</td>\n",
       "      <td>39.441975591614, 26.378816195919</td>\n",
       "      <td>Eastern Mediterranean</td>\n",
       "      <td>http://bit.ly/2YmiPAN</td>\n",
       "      <td>Uncategorized</td>\n",
       "      <td>5</td>\n",
       "    </tr>\n",
       "    <tr>\n",
       "      <th>2</th>\n",
       "      <td>51589</td>\n",
       "      <td>Mediterranean</td>\n",
       "      <td>March 26, 2019</td>\n",
       "      <td>2019</td>\n",
       "      <td>Mar</td>\n",
       "      <td>1.0</td>\n",
       "      <td>NaN</td>\n",
       "      <td>1</td>\n",
       "      <td>NaN</td>\n",
       "      <td>NaN</td>\n",
       "      <td>NaN</td>\n",
       "      <td>NaN</td>\n",
       "      <td>Presumed drowning</td>\n",
       "      <td>Body recovered on Playa del Tarajal, Ceuta, Sp...</td>\n",
       "      <td>Ceuta al día, El Pueblo de Ceuta</td>\n",
       "      <td>35.871901875921, -5.343037665842</td>\n",
       "      <td>Western Mediterranean</td>\n",
       "      <td>http://bit.ly/2uyj7qO, http://bit.ly/2uwj5zC</td>\n",
       "      <td>Uncategorized</td>\n",
       "      <td>3</td>\n",
       "    </tr>\n",
       "    <tr>\n",
       "      <th>3</th>\n",
       "      <td>51590</td>\n",
       "      <td>Mediterranean</td>\n",
       "      <td>March 26, 2019</td>\n",
       "      <td>2019</td>\n",
       "      <td>Mar</td>\n",
       "      <td>1.0</td>\n",
       "      <td>NaN</td>\n",
       "      <td>1</td>\n",
       "      <td>NaN</td>\n",
       "      <td>NaN</td>\n",
       "      <td>NaN</td>\n",
       "      <td>NaN</td>\n",
       "      <td>Presumed drowning</td>\n",
       "      <td>Body recovered on beach near Tetouan, Morocco ...</td>\n",
       "      <td>El Pueblo de Ceuta</td>\n",
       "      <td>35.635115912988, -5.275650103548</td>\n",
       "      <td>Western Mediterranean</td>\n",
       "      <td>http://bit.ly/2uwj5zC</td>\n",
       "      <td>Uncategorized</td>\n",
       "      <td>1</td>\n",
       "    </tr>\n",
       "    <tr>\n",
       "      <th>4</th>\n",
       "      <td>51587</td>\n",
       "      <td>Central America</td>\n",
       "      <td>March 25, 2019</td>\n",
       "      <td>2019</td>\n",
       "      <td>Mar</td>\n",
       "      <td>1.0</td>\n",
       "      <td>NaN</td>\n",
       "      <td>1</td>\n",
       "      <td>NaN</td>\n",
       "      <td>NaN</td>\n",
       "      <td>1.0</td>\n",
       "      <td>NaN</td>\n",
       "      <td>Fall from train</td>\n",
       "      <td>Train tracks in Teacalco, Tlaxcala, Mexico</td>\n",
       "      <td>Megalópolis, Línea de contraste</td>\n",
       "      <td>19.334475177429, -98.069823987538</td>\n",
       "      <td>NaN</td>\n",
       "      <td>http://bit.ly/2uvDIvH, http://bit.ly/2TXAFLS</td>\n",
       "      <td>Central America</td>\n",
       "      <td>3</td>\n",
       "    </tr>\n",
       "  </tbody>\n",
       "</table>\n",
       "</div>"
      ],
      "text/plain": [
       "   Web ID Region of Incident   Reported Date  Reported Year Reported Month  \\\n",
       "0   51591      Mediterranean  March 28, 2019           2019            Mar   \n",
       "1   51588      Mediterranean  March 26, 2019           2019            Mar   \n",
       "2   51589      Mediterranean  March 26, 2019           2019            Mar   \n",
       "3   51590      Mediterranean  March 26, 2019           2019            Mar   \n",
       "4   51587    Central America  March 25, 2019           2019            Mar   \n",
       "\n",
       "   Number Dead  Minimum Estimated Number of Missing  Total Dead and Missing  \\\n",
       "0          NaN                                  2.0                       2   \n",
       "1          4.0                                  NaN                       4   \n",
       "2          1.0                                  NaN                       1   \n",
       "3          1.0                                  NaN                       1   \n",
       "4          1.0                                  NaN                       1   \n",
       "\n",
       "   Number of Survivors  Number of Females  Number of Males  \\\n",
       "0                 36.0                NaN              2.0   \n",
       "1                 11.0                3.0              NaN   \n",
       "2                  NaN                NaN              NaN   \n",
       "3                  NaN                NaN              NaN   \n",
       "4                  NaN                NaN              1.0   \n",
       "\n",
       "   Number of Children     Cause of Death  \\\n",
       "0                 NaN  Presumed drowning   \n",
       "1                 1.0  Presumed drowning   \n",
       "2                 NaN  Presumed drowning   \n",
       "3                 NaN  Presumed drowning   \n",
       "4                 NaN    Fall from train   \n",
       "\n",
       "                                Location Description  \\\n",
       "0                     Off the coast of Chios, Greece   \n",
       "1  Off the coast of Ayvac?k district, Çanakkale p...   \n",
       "2  Body recovered on Playa del Tarajal, Ceuta, Sp...   \n",
       "3  Body recovered on beach near Tetouan, Morocco ...   \n",
       "4         Train tracks in Teacalco, Tlaxcala, Mexico   \n",
       "\n",
       "                    Information Source               Location Coordinates  \\\n",
       "0  Hellenic Coast Guard via IOM Greece   38.362368696592, 26.172509473654   \n",
       "1   Turkish Coast Guard via IOM Turkey   39.441975591614, 26.378816195919   \n",
       "2     Ceuta al día, El Pueblo de Ceuta   35.871901875921, -5.343037665842   \n",
       "3                   El Pueblo de Ceuta   35.635115912988, -5.275650103548   \n",
       "4      Megalópolis, Línea de contraste  19.334475177429, -98.069823987538   \n",
       "\n",
       "         Migration Route                                           URL  \\\n",
       "0  Eastern Mediterranean                                           NaN   \n",
       "1  Eastern Mediterranean                         http://bit.ly/2YmiPAN   \n",
       "2  Western Mediterranean  http://bit.ly/2uyj7qO, http://bit.ly/2uwj5zC   \n",
       "3  Western Mediterranean                         http://bit.ly/2uwj5zC   \n",
       "4                    NaN  http://bit.ly/2uvDIvH, http://bit.ly/2TXAFLS   \n",
       "\n",
       "  UNSD Geographical Grouping  Source Quality  \n",
       "0              Uncategorized               5  \n",
       "1              Uncategorized               5  \n",
       "2              Uncategorized               3  \n",
       "3              Uncategorized               1  \n",
       "4            Central America               3  "
      ]
     },
     "execution_count": 4,
     "metadata": {},
     "output_type": "execute_result"
    }
   ],
   "source": [
    "mig.head()"
   ]
  },
  {
   "cell_type": "code",
   "execution_count": 5,
   "id": "660087db",
   "metadata": {},
   "outputs": [
    {
     "data": {
      "text/plain": [
       "(5333, 20)"
      ]
     },
     "execution_count": 5,
     "metadata": {},
     "output_type": "execute_result"
    }
   ],
   "source": [
    "mig.shape"
   ]
  },
  {
   "cell_type": "code",
   "execution_count": 6,
   "id": "6430e08f",
   "metadata": {},
   "outputs": [
    {
     "name": "stdout",
     "output_type": "stream",
     "text": [
      "<class 'pandas.core.frame.DataFrame'>\n",
      "RangeIndex: 5333 entries, 0 to 5332\n",
      "Data columns (total 20 columns):\n",
      " #   Column                               Non-Null Count  Dtype  \n",
      "---  ------                               --------------  -----  \n",
      " 0   Web ID                               5333 non-null   int64  \n",
      " 1   Region of Incident                   5333 non-null   object \n",
      " 2   Reported Date                        5333 non-null   object \n",
      " 3   Reported Year                        5333 non-null   int64  \n",
      " 4   Reported Month                       5333 non-null   object \n",
      " 5   Number Dead                          5142 non-null   float64\n",
      " 6   Minimum Estimated Number of Missing  503 non-null    float64\n",
      " 7   Total Dead and Missing               5333 non-null   int64  \n",
      " 8   Number of Survivors                  749 non-null    float64\n",
      " 9   Number of Females                    897 non-null    float64\n",
      " 10  Number of Males                      2813 non-null   float64\n",
      " 11  Number of Children                   644 non-null    float64\n",
      " 12  Cause of Death                       5333 non-null   object \n",
      " 13  Location Description                 5323 non-null   object \n",
      " 14  Information Source                   5331 non-null   object \n",
      " 15  Location Coordinates                 5332 non-null   object \n",
      " 16  Migration Route                      2660 non-null   object \n",
      " 17  URL                                  3192 non-null   object \n",
      " 18  UNSD Geographical Grouping           5322 non-null   object \n",
      " 19  Source Quality                       5333 non-null   int64  \n",
      "dtypes: float64(6), int64(4), object(10)\n",
      "memory usage: 833.4+ KB\n"
     ]
    }
   ],
   "source": [
    "mig.info()"
   ]
  },
  {
   "cell_type": "code",
   "execution_count": 8,
   "id": "f36180d5",
   "metadata": {},
   "outputs": [
    {
     "data": {
      "text/plain": [
       "Web ID                                    0\n",
       "Region of Incident                        0\n",
       "Reported Date                             0\n",
       "Reported Year                             0\n",
       "Reported Month                            0\n",
       "Number Dead                             191\n",
       "Minimum Estimated Number of Missing    4830\n",
       "Total Dead and Missing                    0\n",
       "Number of Survivors                    4584\n",
       "Number of Females                      4436\n",
       "Number of Males                        2520\n",
       "Number of Children                     4689\n",
       "Cause of Death                            0\n",
       "Location Description                     10\n",
       "Information Source                        2\n",
       "Location Coordinates                      1\n",
       "Migration Route                        2673\n",
       "URL                                    2141\n",
       "UNSD Geographical Grouping               11\n",
       "Source Quality                            0\n",
       "dtype: int64"
      ]
     },
     "execution_count": 8,
     "metadata": {},
     "output_type": "execute_result"
    }
   ],
   "source": [
    "mig.isna().sum()"
   ]
  },
  {
   "cell_type": "code",
   "execution_count": 10,
   "id": "b249dfe2",
   "metadata": {},
   "outputs": [
    {
     "data": {
      "text/plain": [
       "Web ID                                 43247.885805\n",
       "Reported Year                           2016.656104\n",
       "Number Dead                                3.287631\n",
       "Minimum Estimated Number of Missing       29.119284\n",
       "Total Dead and Missing                     5.916370\n",
       "Number of Survivors                       63.607477\n",
       "Number of Females                          2.012263\n",
       "Number of Males                            1.890864\n",
       "Number of Children                         2.476708\n",
       "Source Quality                             2.895556\n",
       "dtype: float64"
      ]
     },
     "execution_count": 10,
     "metadata": {},
     "output_type": "execute_result"
    }
   ],
   "source": [
    "mig.mean()"
   ]
  },
  {
   "cell_type": "code",
   "execution_count": 9,
   "id": "f4734e29",
   "metadata": {},
   "outputs": [
    {
     "data": {
      "text/html": [
       "<div>\n",
       "<style scoped>\n",
       "    .dataframe tbody tr th:only-of-type {\n",
       "        vertical-align: middle;\n",
       "    }\n",
       "\n",
       "    .dataframe tbody tr th {\n",
       "        vertical-align: top;\n",
       "    }\n",
       "\n",
       "    .dataframe thead th {\n",
       "        text-align: right;\n",
       "    }\n",
       "</style>\n",
       "<table border=\"1\" class=\"dataframe\">\n",
       "  <thead>\n",
       "    <tr style=\"text-align: right;\">\n",
       "      <th></th>\n",
       "      <th>Web ID</th>\n",
       "      <th>Region of Incident</th>\n",
       "      <th>Reported Date</th>\n",
       "      <th>Reported Year</th>\n",
       "      <th>Reported Month</th>\n",
       "      <th>Number Dead</th>\n",
       "      <th>Minimum Estimated Number of Missing</th>\n",
       "      <th>Total Dead and Missing</th>\n",
       "      <th>Number of Survivors</th>\n",
       "      <th>Number of Females</th>\n",
       "      <th>Number of Males</th>\n",
       "      <th>Number of Children</th>\n",
       "      <th>Cause of Death</th>\n",
       "      <th>Location Description</th>\n",
       "      <th>Information Source</th>\n",
       "      <th>Location Coordinates</th>\n",
       "      <th>Migration Route</th>\n",
       "      <th>URL</th>\n",
       "      <th>UNSD Geographical Grouping</th>\n",
       "      <th>Source Quality</th>\n",
       "    </tr>\n",
       "  </thead>\n",
       "  <tbody>\n",
       "    <tr>\n",
       "      <th>0</th>\n",
       "      <td>51591</td>\n",
       "      <td>Mediterranean</td>\n",
       "      <td>March 28, 2019</td>\n",
       "      <td>2019</td>\n",
       "      <td>Mar</td>\n",
       "      <td>3.287631</td>\n",
       "      <td>2.000000</td>\n",
       "      <td>2</td>\n",
       "      <td>36.000000</td>\n",
       "      <td>2.012263</td>\n",
       "      <td>2.000000</td>\n",
       "      <td>2.476708</td>\n",
       "      <td>Presumed drowning</td>\n",
       "      <td>Off the coast of Chios, Greece</td>\n",
       "      <td>Hellenic Coast Guard via IOM Greece</td>\n",
       "      <td>38.362368696592, 26.172509473654</td>\n",
       "      <td>Eastern Mediterranean</td>\n",
       "      <td>NaN</td>\n",
       "      <td>Uncategorized</td>\n",
       "      <td>5</td>\n",
       "    </tr>\n",
       "    <tr>\n",
       "      <th>1</th>\n",
       "      <td>51588</td>\n",
       "      <td>Mediterranean</td>\n",
       "      <td>March 26, 2019</td>\n",
       "      <td>2019</td>\n",
       "      <td>Mar</td>\n",
       "      <td>4.000000</td>\n",
       "      <td>29.119284</td>\n",
       "      <td>4</td>\n",
       "      <td>11.000000</td>\n",
       "      <td>3.000000</td>\n",
       "      <td>1.890864</td>\n",
       "      <td>1.000000</td>\n",
       "      <td>Presumed drowning</td>\n",
       "      <td>Off the coast of Ayvac?k district, Çanakkale p...</td>\n",
       "      <td>Turkish Coast Guard via IOM Turkey</td>\n",
       "      <td>39.441975591614, 26.378816195919</td>\n",
       "      <td>Eastern Mediterranean</td>\n",
       "      <td>http://bit.ly/2YmiPAN</td>\n",
       "      <td>Uncategorized</td>\n",
       "      <td>5</td>\n",
       "    </tr>\n",
       "    <tr>\n",
       "      <th>2</th>\n",
       "      <td>51589</td>\n",
       "      <td>Mediterranean</td>\n",
       "      <td>March 26, 2019</td>\n",
       "      <td>2019</td>\n",
       "      <td>Mar</td>\n",
       "      <td>1.000000</td>\n",
       "      <td>29.119284</td>\n",
       "      <td>1</td>\n",
       "      <td>63.607477</td>\n",
       "      <td>2.012263</td>\n",
       "      <td>1.890864</td>\n",
       "      <td>2.476708</td>\n",
       "      <td>Presumed drowning</td>\n",
       "      <td>Body recovered on Playa del Tarajal, Ceuta, Sp...</td>\n",
       "      <td>Ceuta al día, El Pueblo de Ceuta</td>\n",
       "      <td>35.871901875921, -5.343037665842</td>\n",
       "      <td>Western Mediterranean</td>\n",
       "      <td>http://bit.ly/2uyj7qO, http://bit.ly/2uwj5zC</td>\n",
       "      <td>Uncategorized</td>\n",
       "      <td>3</td>\n",
       "    </tr>\n",
       "    <tr>\n",
       "      <th>3</th>\n",
       "      <td>51590</td>\n",
       "      <td>Mediterranean</td>\n",
       "      <td>March 26, 2019</td>\n",
       "      <td>2019</td>\n",
       "      <td>Mar</td>\n",
       "      <td>1.000000</td>\n",
       "      <td>29.119284</td>\n",
       "      <td>1</td>\n",
       "      <td>63.607477</td>\n",
       "      <td>2.012263</td>\n",
       "      <td>1.890864</td>\n",
       "      <td>2.476708</td>\n",
       "      <td>Presumed drowning</td>\n",
       "      <td>Body recovered on beach near Tetouan, Morocco ...</td>\n",
       "      <td>El Pueblo de Ceuta</td>\n",
       "      <td>35.635115912988, -5.275650103548</td>\n",
       "      <td>Western Mediterranean</td>\n",
       "      <td>http://bit.ly/2uwj5zC</td>\n",
       "      <td>Uncategorized</td>\n",
       "      <td>1</td>\n",
       "    </tr>\n",
       "    <tr>\n",
       "      <th>4</th>\n",
       "      <td>51587</td>\n",
       "      <td>Central America</td>\n",
       "      <td>March 25, 2019</td>\n",
       "      <td>2019</td>\n",
       "      <td>Mar</td>\n",
       "      <td>1.000000</td>\n",
       "      <td>29.119284</td>\n",
       "      <td>1</td>\n",
       "      <td>63.607477</td>\n",
       "      <td>2.012263</td>\n",
       "      <td>1.000000</td>\n",
       "      <td>2.476708</td>\n",
       "      <td>Fall from train</td>\n",
       "      <td>Train tracks in Teacalco, Tlaxcala, Mexico</td>\n",
       "      <td>Megalópolis, Línea de contraste</td>\n",
       "      <td>19.334475177429, -98.069823987538</td>\n",
       "      <td>NaN</td>\n",
       "      <td>http://bit.ly/2uvDIvH, http://bit.ly/2TXAFLS</td>\n",
       "      <td>Central America</td>\n",
       "      <td>3</td>\n",
       "    </tr>\n",
       "    <tr>\n",
       "      <th>...</th>\n",
       "      <td>...</td>\n",
       "      <td>...</td>\n",
       "      <td>...</td>\n",
       "      <td>...</td>\n",
       "      <td>...</td>\n",
       "      <td>...</td>\n",
       "      <td>...</td>\n",
       "      <td>...</td>\n",
       "      <td>...</td>\n",
       "      <td>...</td>\n",
       "      <td>...</td>\n",
       "      <td>...</td>\n",
       "      <td>...</td>\n",
       "      <td>...</td>\n",
       "      <td>...</td>\n",
       "      <td>...</td>\n",
       "      <td>...</td>\n",
       "      <td>...</td>\n",
       "      <td>...</td>\n",
       "      <td>...</td>\n",
       "    </tr>\n",
       "    <tr>\n",
       "      <th>5328</th>\n",
       "      <td>39207</td>\n",
       "      <td>US-Mexico Border</td>\n",
       "      <td>January 16, 2014</td>\n",
       "      <td>2014</td>\n",
       "      <td>Jan</td>\n",
       "      <td>1.000000</td>\n",
       "      <td>29.119284</td>\n",
       "      <td>1</td>\n",
       "      <td>63.607477</td>\n",
       "      <td>2.012263</td>\n",
       "      <td>1.000000</td>\n",
       "      <td>2.476708</td>\n",
       "      <td>Shot</td>\n",
       "      <td>near Douglas, Arizona</td>\n",
       "      <td>Ministry of Foreign Affairs Mexico</td>\n",
       "      <td>31.344700000000, -109.545000000000</td>\n",
       "      <td>Central America to US</td>\n",
       "      <td>http://bit.ly/1qfIw00</td>\n",
       "      <td>Northern America</td>\n",
       "      <td>5</td>\n",
       "    </tr>\n",
       "    <tr>\n",
       "      <th>5329</th>\n",
       "      <td>39368</td>\n",
       "      <td>Europe</td>\n",
       "      <td>January 16, 2014</td>\n",
       "      <td>2014</td>\n",
       "      <td>Jan</td>\n",
       "      <td>1.000000</td>\n",
       "      <td>0.000000</td>\n",
       "      <td>1</td>\n",
       "      <td>2.000000</td>\n",
       "      <td>2.012263</td>\n",
       "      <td>1.000000</td>\n",
       "      <td>2.476708</td>\n",
       "      <td>Hyperthermia</td>\n",
       "      <td>Border between Russia and Estonia</td>\n",
       "      <td>EUBusiness (Agence France-Presse)</td>\n",
       "      <td>59.155100000000, 27.858600000000</td>\n",
       "      <td>NaN</td>\n",
       "      <td>http://bit.ly/1rTFTjR</td>\n",
       "      <td>Northern Europe</td>\n",
       "      <td>1</td>\n",
       "    </tr>\n",
       "    <tr>\n",
       "      <th>5330</th>\n",
       "      <td>39257</td>\n",
       "      <td>US-Mexico Border</td>\n",
       "      <td>January 14, 2014</td>\n",
       "      <td>2014</td>\n",
       "      <td>Jan</td>\n",
       "      <td>1.000000</td>\n",
       "      <td>29.119284</td>\n",
       "      <td>1</td>\n",
       "      <td>63.607477</td>\n",
       "      <td>2.012263</td>\n",
       "      <td>1.890864</td>\n",
       "      <td>2.476708</td>\n",
       "      <td>Unknown (skeletal remains)</td>\n",
       "      <td>Pima County</td>\n",
       "      <td>Pima County Office of the Medical Examiner</td>\n",
       "      <td>32.058118300000, -111.623576100000</td>\n",
       "      <td>Central America to US</td>\n",
       "      <td>NaN</td>\n",
       "      <td>Northern America</td>\n",
       "      <td>5</td>\n",
       "    </tr>\n",
       "    <tr>\n",
       "      <th>5331</th>\n",
       "      <td>39256</td>\n",
       "      <td>US-Mexico Border</td>\n",
       "      <td>January 12, 2014</td>\n",
       "      <td>2014</td>\n",
       "      <td>Jan</td>\n",
       "      <td>1.000000</td>\n",
       "      <td>29.119284</td>\n",
       "      <td>1</td>\n",
       "      <td>63.607477</td>\n",
       "      <td>2.012263</td>\n",
       "      <td>1.890864</td>\n",
       "      <td>2.476708</td>\n",
       "      <td>Unknown (skeletal remains)</td>\n",
       "      <td>Pima County</td>\n",
       "      <td>Pima County Office of the Medical Examiner</td>\n",
       "      <td>32.058118300000, -111.623576100000</td>\n",
       "      <td>Central America to US</td>\n",
       "      <td>NaN</td>\n",
       "      <td>Northern America</td>\n",
       "      <td>5</td>\n",
       "    </tr>\n",
       "    <tr>\n",
       "      <th>5332</th>\n",
       "      <td>39206</td>\n",
       "      <td>US-Mexico Border</td>\n",
       "      <td>January 06, 2014</td>\n",
       "      <td>2014</td>\n",
       "      <td>Jan</td>\n",
       "      <td>1.000000</td>\n",
       "      <td>29.119284</td>\n",
       "      <td>1</td>\n",
       "      <td>63.607477</td>\n",
       "      <td>2.012263</td>\n",
       "      <td>1.000000</td>\n",
       "      <td>2.476708</td>\n",
       "      <td>Unknown (skeletal remains)</td>\n",
       "      <td>Pima County</td>\n",
       "      <td>Humane Borders Arizona Open GIS Initiative</td>\n",
       "      <td>32.058118300000, -111.623576100000</td>\n",
       "      <td>Central America to US</td>\n",
       "      <td>http://humaneborders.info/</td>\n",
       "      <td>Northern America</td>\n",
       "      <td>5</td>\n",
       "    </tr>\n",
       "  </tbody>\n",
       "</table>\n",
       "<p>5333 rows × 20 columns</p>\n",
       "</div>"
      ],
      "text/plain": [
       "      Web ID Region of Incident     Reported Date  Reported Year  \\\n",
       "0      51591      Mediterranean    March 28, 2019           2019   \n",
       "1      51588      Mediterranean    March 26, 2019           2019   \n",
       "2      51589      Mediterranean    March 26, 2019           2019   \n",
       "3      51590      Mediterranean    March 26, 2019           2019   \n",
       "4      51587    Central America    March 25, 2019           2019   \n",
       "...      ...                ...               ...            ...   \n",
       "5328   39207   US-Mexico Border  January 16, 2014           2014   \n",
       "5329   39368             Europe  January 16, 2014           2014   \n",
       "5330   39257   US-Mexico Border  January 14, 2014           2014   \n",
       "5331   39256   US-Mexico Border  January 12, 2014           2014   \n",
       "5332   39206   US-Mexico Border  January 06, 2014           2014   \n",
       "\n",
       "     Reported Month  Number Dead  Minimum Estimated Number of Missing  \\\n",
       "0               Mar     3.287631                             2.000000   \n",
       "1               Mar     4.000000                            29.119284   \n",
       "2               Mar     1.000000                            29.119284   \n",
       "3               Mar     1.000000                            29.119284   \n",
       "4               Mar     1.000000                            29.119284   \n",
       "...             ...          ...                                  ...   \n",
       "5328            Jan     1.000000                            29.119284   \n",
       "5329            Jan     1.000000                             0.000000   \n",
       "5330            Jan     1.000000                            29.119284   \n",
       "5331            Jan     1.000000                            29.119284   \n",
       "5332            Jan     1.000000                            29.119284   \n",
       "\n",
       "      Total Dead and Missing  Number of Survivors  Number of Females  \\\n",
       "0                          2            36.000000           2.012263   \n",
       "1                          4            11.000000           3.000000   \n",
       "2                          1            63.607477           2.012263   \n",
       "3                          1            63.607477           2.012263   \n",
       "4                          1            63.607477           2.012263   \n",
       "...                      ...                  ...                ...   \n",
       "5328                       1            63.607477           2.012263   \n",
       "5329                       1             2.000000           2.012263   \n",
       "5330                       1            63.607477           2.012263   \n",
       "5331                       1            63.607477           2.012263   \n",
       "5332                       1            63.607477           2.012263   \n",
       "\n",
       "      Number of Males  Number of Children              Cause of Death  \\\n",
       "0            2.000000            2.476708           Presumed drowning   \n",
       "1            1.890864            1.000000           Presumed drowning   \n",
       "2            1.890864            2.476708           Presumed drowning   \n",
       "3            1.890864            2.476708           Presumed drowning   \n",
       "4            1.000000            2.476708             Fall from train   \n",
       "...               ...                 ...                         ...   \n",
       "5328         1.000000            2.476708                        Shot   \n",
       "5329         1.000000            2.476708                Hyperthermia   \n",
       "5330         1.890864            2.476708  Unknown (skeletal remains)   \n",
       "5331         1.890864            2.476708  Unknown (skeletal remains)   \n",
       "5332         1.000000            2.476708  Unknown (skeletal remains)   \n",
       "\n",
       "                                   Location Description  \\\n",
       "0                        Off the coast of Chios, Greece   \n",
       "1     Off the coast of Ayvac?k district, Çanakkale p...   \n",
       "2     Body recovered on Playa del Tarajal, Ceuta, Sp...   \n",
       "3     Body recovered on beach near Tetouan, Morocco ...   \n",
       "4            Train tracks in Teacalco, Tlaxcala, Mexico   \n",
       "...                                                 ...   \n",
       "5328                              near Douglas, Arizona   \n",
       "5329                  Border between Russia and Estonia   \n",
       "5330                                        Pima County   \n",
       "5331                                        Pima County   \n",
       "5332                                        Pima County   \n",
       "\n",
       "                               Information Source  \\\n",
       "0             Hellenic Coast Guard via IOM Greece   \n",
       "1              Turkish Coast Guard via IOM Turkey   \n",
       "2                Ceuta al día, El Pueblo de Ceuta   \n",
       "3                              El Pueblo de Ceuta   \n",
       "4                 Megalópolis, Línea de contraste   \n",
       "...                                           ...   \n",
       "5328           Ministry of Foreign Affairs Mexico   \n",
       "5329            EUBusiness (Agence France-Presse)   \n",
       "5330   Pima County Office of the Medical Examiner   \n",
       "5331   Pima County Office of the Medical Examiner   \n",
       "5332  Humane Borders Arizona Open GIS Initiative    \n",
       "\n",
       "                    Location Coordinates        Migration Route  \\\n",
       "0       38.362368696592, 26.172509473654  Eastern Mediterranean   \n",
       "1       39.441975591614, 26.378816195919  Eastern Mediterranean   \n",
       "2       35.871901875921, -5.343037665842  Western Mediterranean   \n",
       "3       35.635115912988, -5.275650103548  Western Mediterranean   \n",
       "4      19.334475177429, -98.069823987538                    NaN   \n",
       "...                                  ...                    ...   \n",
       "5328  31.344700000000, -109.545000000000  Central America to US   \n",
       "5329    59.155100000000, 27.858600000000                    NaN   \n",
       "5330  32.058118300000, -111.623576100000  Central America to US   \n",
       "5331  32.058118300000, -111.623576100000  Central America to US   \n",
       "5332  32.058118300000, -111.623576100000  Central America to US   \n",
       "\n",
       "                                               URL UNSD Geographical Grouping  \\\n",
       "0                                              NaN              Uncategorized   \n",
       "1                            http://bit.ly/2YmiPAN              Uncategorized   \n",
       "2     http://bit.ly/2uyj7qO, http://bit.ly/2uwj5zC              Uncategorized   \n",
       "3                            http://bit.ly/2uwj5zC              Uncategorized   \n",
       "4     http://bit.ly/2uvDIvH, http://bit.ly/2TXAFLS            Central America   \n",
       "...                                            ...                        ...   \n",
       "5328                         http://bit.ly/1qfIw00           Northern America   \n",
       "5329                         http://bit.ly/1rTFTjR            Northern Europe   \n",
       "5330                                           NaN           Northern America   \n",
       "5331                                           NaN           Northern America   \n",
       "5332                    http://humaneborders.info/           Northern America   \n",
       "\n",
       "      Source Quality  \n",
       "0                  5  \n",
       "1                  5  \n",
       "2                  3  \n",
       "3                  1  \n",
       "4                  3  \n",
       "...              ...  \n",
       "5328               5  \n",
       "5329               1  \n",
       "5330               5  \n",
       "5331               5  \n",
       "5332               5  \n",
       "\n",
       "[5333 rows x 20 columns]"
      ]
     },
     "execution_count": 9,
     "metadata": {},
     "output_type": "execute_result"
    }
   ],
   "source": [
    "mig.fillna(mig.mean())"
   ]
  },
  {
   "cell_type": "markdown",
   "id": "6e0e87e2",
   "metadata": {},
   "source": [
    "#### 1.\tWhat are the Top 10 Region of Incidents with higher incidents?"
   ]
  },
  {
   "cell_type": "code",
   "execution_count": 17,
   "id": "55902b11",
   "metadata": {},
   "outputs": [],
   "source": [
    "reg = mig['Region of Incident'].value_counts()[:10]"
   ]
  },
  {
   "cell_type": "code",
   "execution_count": 18,
   "id": "b06c24a0",
   "metadata": {},
   "outputs": [
    {
     "data": {
      "text/plain": [
       "US-Mexico Border      1337\n",
       "North Africa          1239\n",
       "Mediterranean          984\n",
       "Sub-Saharan Africa     475\n",
       "Central America        309\n",
       "Europe                 249\n",
       "Horn of Africa         235\n",
       "Middle East            164\n",
       "South Asia             151\n",
       "Southeast Asia          96\n",
       "Name: Region of Incident, dtype: int64"
      ]
     },
     "execution_count": 18,
     "metadata": {},
     "output_type": "execute_result"
    }
   ],
   "source": [
    "reg"
   ]
  },
  {
   "cell_type": "code",
   "execution_count": 15,
   "id": "16504590",
   "metadata": {},
   "outputs": [
    {
     "data": {
      "text/plain": [
       "Mediterranean          984\n",
       "South America           28\n",
       "US-Mexico Border      1337\n",
       "North Africa          1239\n",
       "Middle East            164\n",
       "North America            1\n",
       "Europe                 249\n",
       "East Asia                5\n",
       "Horn of Africa         235\n",
       "Sub-Saharan Africa     475\n",
       "Caribbean               59\n",
       "Southeast Asia          96\n",
       "Central Asia             1\n",
       "South Asia             151\n",
       "Central America        309\n",
       "Name: Region of Incident, dtype: int64"
      ]
     },
     "execution_count": 15,
     "metadata": {},
     "output_type": "execute_result"
    }
   ],
   "source": [
    "mig['Region of Incident'].value_counts(sort=False)"
   ]
  },
  {
   "cell_type": "markdown",
   "id": "54536fe2",
   "metadata": {},
   "source": [
    "#### 2.\tWhat is the Percentage of missing Females, Males and Children in top 10 regions of incidents?"
   ]
  },
  {
   "cell_type": "code",
   "execution_count": 15,
   "id": "343ba1fc",
   "metadata": {},
   "outputs": [
    {
     "data": {
      "text/plain": [
       "Region of Incident\n",
       "Caribbean              2.105263\n",
       "Central America        2.160665\n",
       "Central Asia           0.000000\n",
       "East Asia              0.055402\n",
       "Europe                 1.939058\n",
       "Horn of Africa         3.878116\n",
       "Mediterranean         44.930748\n",
       "Middle East            3.324100\n",
       "North Africa          14.681440\n",
       "North America          0.055402\n",
       "South America          0.720222\n",
       "South Asia             0.997230\n",
       "Southeast Asia         8.310249\n",
       "Sub-Saharan Africa    11.468144\n",
       "US-Mexico Border       5.373961\n",
       "Name: Number of Females, dtype: float64"
      ]
     },
     "execution_count": 15,
     "metadata": {},
     "output_type": "execute_result"
    }
   ],
   "source": [
    "(mig.groupby(\"Region of Incident\")[\"Number of Females\"].sum()/mig[\"Number of Females\"].sum())*100"
   ]
  },
  {
   "cell_type": "code",
   "execution_count": 23,
   "id": "dda5418a",
   "metadata": {},
   "outputs": [
    {
     "data": {
      "text/plain": [
       "5.373961218836564"
      ]
     },
     "execution_count": 23,
     "metadata": {},
     "output_type": "execute_result"
    }
   ],
   "source": [
    "(mig[mig['Region of Incident'] == \"US-Mexico Border\"]['Number of Females'].sum()/mig['Number of Females'].sum())*100"
   ]
  },
  {
   "cell_type": "code",
   "execution_count": 27,
   "id": "2d57c62d",
   "metadata": {},
   "outputs": [
    {
     "data": {
      "text/plain": [
       "Index(['US-Mexico Border', 'North Africa', 'Mediterranean',\n",
       "       'Sub-Saharan Africa', 'Central America', 'Europe', 'Horn of Africa',\n",
       "       'Middle East', 'South Asia', 'Southeast Asia'],\n",
       "      dtype='object')"
      ]
     },
     "execution_count": 27,
     "metadata": {},
     "output_type": "execute_result"
    }
   ],
   "source": [
    "reg.index"
   ]
  },
  {
   "cell_type": "code",
   "execution_count": 28,
   "id": "f551d3f9",
   "metadata": {},
   "outputs": [],
   "source": [
    "f = (mig.groupby(\"Region of Incident\")[\"Number of Females\"].sum()/mig[\"Number of Females\"].sum())*100"
   ]
  },
  {
   "cell_type": "code",
   "execution_count": 31,
   "id": "f57f4aa4",
   "metadata": {},
   "outputs": [
    {
     "data": {
      "text/plain": [
       "15"
      ]
     },
     "execution_count": 31,
     "metadata": {},
     "output_type": "execute_result"
    }
   ],
   "source": [
    "f.size"
   ]
  },
  {
   "cell_type": "code",
   "execution_count": 32,
   "id": "ba071580",
   "metadata": {},
   "outputs": [
    {
     "data": {
      "text/plain": [
       "US-Mexico Border      1337\n",
       "North Africa          1239\n",
       "Mediterranean          984\n",
       "Sub-Saharan Africa     475\n",
       "Central America        309\n",
       "Europe                 249\n",
       "Horn of Africa         235\n",
       "Middle East            164\n",
       "South Asia             151\n",
       "Southeast Asia          96\n",
       "Name: Region of Incident, dtype: int64"
      ]
     },
     "execution_count": 32,
     "metadata": {},
     "output_type": "execute_result"
    }
   ],
   "source": [
    "reg"
   ]
  },
  {
   "cell_type": "code",
   "execution_count": 43,
   "id": "9dc35e2a",
   "metadata": {},
   "outputs": [
    {
     "data": {
      "text/plain": [
       "Region of Incident\n",
       "Central America        2.160665\n",
       "Europe                 1.939058\n",
       "Horn of Africa         3.878116\n",
       "Mediterranean         44.930748\n",
       "Middle East            3.324100\n",
       "North Africa          14.681440\n",
       "South Asia             0.997230\n",
       "Southeast Asia         8.310249\n",
       "Sub-Saharan Africa    11.468144\n",
       "US-Mexico Border       5.373961\n",
       "Name: Number of Females, dtype: float64"
      ]
     },
     "execution_count": 43,
     "metadata": {},
     "output_type": "execute_result"
    }
   ],
   "source": [
    "f[f.index.isin(reg.index)]"
   ]
  },
  {
   "cell_type": "code",
   "execution_count": 41,
   "id": "5e7a9f3f",
   "metadata": {},
   "outputs": [
    {
     "data": {
      "text/plain": [
       "Region of Incident\n",
       "Caribbean              2.105263\n",
       "Central America        2.160665\n",
       "Central Asia           0.000000\n",
       "East Asia              0.055402\n",
       "Europe                 1.939058\n",
       "Horn of Africa         3.878116\n",
       "Mediterranean         44.930748\n",
       "Middle East            3.324100\n",
       "North Africa          14.681440\n",
       "North America          0.055402\n",
       "South America          0.720222\n",
       "South Asia             0.997230\n",
       "Southeast Asia         8.310249\n",
       "Sub-Saharan Africa    11.468144\n",
       "US-Mexico Border       5.373961\n",
       "Name: Number of Females, dtype: float64"
      ]
     },
     "execution_count": 41,
     "metadata": {},
     "output_type": "execute_result"
    }
   ],
   "source": [
    "f"
   ]
  },
  {
   "cell_type": "code",
   "execution_count": 44,
   "id": "c96612d6",
   "metadata": {},
   "outputs": [
    {
     "data": {
      "text/plain": [
       "Region of Incident\n",
       "Central America        2.160665\n",
       "Europe                 1.939058\n",
       "Horn of Africa         3.878116\n",
       "Mediterranean         44.930748\n",
       "Middle East            3.324100\n",
       "North Africa          14.681440\n",
       "South Asia             0.997230\n",
       "Southeast Asia         8.310249\n",
       "Sub-Saharan Africa    11.468144\n",
       "US-Mexico Border       5.373961\n",
       "Name: Number of Females, dtype: float64"
      ]
     },
     "execution_count": 44,
     "metadata": {},
     "output_type": "execute_result"
    }
   ],
   "source": [
    "f[f.index.isin(reg.index)]"
   ]
  },
  {
   "cell_type": "code",
   "execution_count": 45,
   "id": "94169334",
   "metadata": {},
   "outputs": [],
   "source": [
    "f = (mig.groupby(\"Region of Incident\")[\"Number of Females\"].sum()/mig[\"Number of Females\"].sum())*100\n",
    "m = (mig.groupby(\"Region of Incident\")[\"Number of Males\"].sum()/mig[\"Number of Males\"].sum())*100\n",
    "c = (mig.groupby(\"Region of Incident\")[\"Number of Children\"].sum()/mig[\"Number of Children\"].sum())*100"
   ]
  },
  {
   "cell_type": "code",
   "execution_count": 46,
   "id": "a5a7d940",
   "metadata": {},
   "outputs": [
    {
     "data": {
      "text/plain": [
       "Region of Incident\n",
       "Central America        2.160665\n",
       "Europe                 1.939058\n",
       "Horn of Africa         3.878116\n",
       "Mediterranean         44.930748\n",
       "Middle East            3.324100\n",
       "North Africa          14.681440\n",
       "South Asia             0.997230\n",
       "Southeast Asia         8.310249\n",
       "Sub-Saharan Africa    11.468144\n",
       "US-Mexico Border       5.373961\n",
       "Name: Number of Females, dtype: float64"
      ]
     },
     "execution_count": 46,
     "metadata": {},
     "output_type": "execute_result"
    }
   ],
   "source": [
    "f[f.index.isin(reg.index)]"
   ]
  },
  {
   "cell_type": "code",
   "execution_count": 47,
   "id": "3fde8b72",
   "metadata": {},
   "outputs": [
    {
     "data": {
      "text/plain": [
       "Region of Incident\n",
       "Central America        6.016168\n",
       "Europe                 5.170145\n",
       "Horn of Africa         4.436924\n",
       "Mediterranean         35.683399\n",
       "Middle East            2.669675\n",
       "North Africa          11.223914\n",
       "South Asia             3.384095\n",
       "Southeast Asia         2.481669\n",
       "Sub-Saharan Africa     8.385035\n",
       "US-Mexico Border      18.593721\n",
       "Name: Number of Males, dtype: float64"
      ]
     },
     "execution_count": 47,
     "metadata": {},
     "output_type": "execute_result"
    }
   ],
   "source": [
    "m[m.index.isin(reg.index)]"
   ]
  },
  {
   "cell_type": "code",
   "execution_count": 48,
   "id": "12f88f36",
   "metadata": {},
   "outputs": [
    {
     "data": {
      "text/plain": [
       "Region of Incident\n",
       "Central America        3.009404\n",
       "Europe                 2.445141\n",
       "Horn of Africa         2.758621\n",
       "Mediterranean         42.006270\n",
       "Middle East            4.576803\n",
       "North Africa           9.028213\n",
       "South Asia             1.128527\n",
       "Southeast Asia        22.758621\n",
       "Sub-Saharan Africa     9.278997\n",
       "US-Mexico Border       1.630094\n",
       "Name: Number of Children, dtype: float64"
      ]
     },
     "execution_count": 48,
     "metadata": {},
     "output_type": "execute_result"
    }
   ],
   "source": [
    "c[c.index.isin(reg.index)]"
   ]
  },
  {
   "cell_type": "markdown",
   "id": "361a2ffc",
   "metadata": {},
   "source": [
    "#### 3.\tList most common Information Source according to region of incident wise"
   ]
  },
  {
   "cell_type": "code",
   "execution_count": 53,
   "id": "c8bdf525",
   "metadata": {},
   "outputs": [
    {
     "data": {
      "text/plain": [
       "Region of Incident  Information Source           \n",
       "Caribbean           Dominican Today                  3\n",
       "                    El Nuevo Herald                  3\n",
       "                    Listin Diario                    2\n",
       "                    US Coast Guard                   2\n",
       "                    14ymedio                         1\n",
       "                                                    ..\n",
       "US-Mexico Border    Zócalo, SuperChannel 12          1\n",
       "                    Zócalo, Telemundo San Antonio    1\n",
       "                    Zócalo, Vanguardia               1\n",
       "                    canalestrellatv                  1\n",
       "                    netnoticias.mx                   1\n",
       "Name: Information Source, Length: 1464, dtype: int64"
      ]
     },
     "execution_count": 53,
     "metadata": {},
     "output_type": "execute_result"
    }
   ],
   "source": [
    "mig.groupby(\"Region of Incident\")['Information Source'].value_counts()"
   ]
  },
  {
   "cell_type": "markdown",
   "id": "3d115fd4",
   "metadata": {},
   "source": [
    "#### 5. List number of cases reported month wise in year 2019"
   ]
  },
  {
   "cell_type": "code",
   "execution_count": 57,
   "id": "08c072b4",
   "metadata": {},
   "outputs": [
    {
     "data": {
      "text/plain": [
       "Jan    57\n",
       "Feb    51\n",
       "Mar    35\n",
       "Name: Reported Month, dtype: int64"
      ]
     },
     "execution_count": 57,
     "metadata": {},
     "output_type": "execute_result"
    }
   ],
   "source": [
    "mig[mig['Reported Year'] == 2019]['Reported Month'].value_counts()"
   ]
  },
  {
   "cell_type": "code",
   "execution_count": 58,
   "id": "da470e99",
   "metadata": {},
   "outputs": [
    {
     "data": {
      "text/plain": [
       "0      2019-03-28\n",
       "1      2019-03-26\n",
       "2      2019-03-26\n",
       "3      2019-03-26\n",
       "4      2019-03-25\n",
       "          ...    \n",
       "5328   2014-01-16\n",
       "5329   2014-01-16\n",
       "5330   2014-01-14\n",
       "5331   2014-01-12\n",
       "5332   2014-01-06\n",
       "Name: Reported Date, Length: 5333, dtype: datetime64[ns]"
      ]
     },
     "execution_count": 58,
     "metadata": {},
     "output_type": "execute_result"
    }
   ],
   "source": [
    "pd.to_datetime(mig['Reported Date'])"
   ]
  },
  {
   "cell_type": "markdown",
   "id": "5b5f0ac6",
   "metadata": {},
   "source": [
    "#### 7.\tList number of cases reported yearwise and compare them¶"
   ]
  },
  {
   "cell_type": "code",
   "execution_count": 59,
   "id": "46d9d497",
   "metadata": {},
   "outputs": [
    {
     "data": {
      "text/plain": [
       "2018    1506\n",
       "2017    1356\n",
       "2016    1275\n",
       "2015     808\n",
       "2014     245\n",
       "2019     143\n",
       "Name: Reported Year, dtype: int64"
      ]
     },
     "execution_count": 59,
     "metadata": {},
     "output_type": "execute_result"
    }
   ],
   "source": [
    "mig['Reported Year'].value_counts()"
   ]
  },
  {
   "cell_type": "code",
   "execution_count": 3,
   "id": "b015bf94",
   "metadata": {},
   "outputs": [],
   "source": [
    "tip = sns.load_dataset(\"tips\")"
   ]
  },
  {
   "cell_type": "code",
   "execution_count": 61,
   "id": "d2f4abc9",
   "metadata": {},
   "outputs": [
    {
     "data": {
      "text/html": [
       "<div>\n",
       "<style scoped>\n",
       "    .dataframe tbody tr th:only-of-type {\n",
       "        vertical-align: middle;\n",
       "    }\n",
       "\n",
       "    .dataframe tbody tr th {\n",
       "        vertical-align: top;\n",
       "    }\n",
       "\n",
       "    .dataframe thead th {\n",
       "        text-align: right;\n",
       "    }\n",
       "</style>\n",
       "<table border=\"1\" class=\"dataframe\">\n",
       "  <thead>\n",
       "    <tr style=\"text-align: right;\">\n",
       "      <th></th>\n",
       "      <th>total_bill</th>\n",
       "      <th>tip</th>\n",
       "      <th>sex</th>\n",
       "      <th>smoker</th>\n",
       "      <th>day</th>\n",
       "      <th>time</th>\n",
       "      <th>size</th>\n",
       "    </tr>\n",
       "  </thead>\n",
       "  <tbody>\n",
       "    <tr>\n",
       "      <th>0</th>\n",
       "      <td>16.99</td>\n",
       "      <td>1.01</td>\n",
       "      <td>Female</td>\n",
       "      <td>No</td>\n",
       "      <td>Sun</td>\n",
       "      <td>Dinner</td>\n",
       "      <td>2</td>\n",
       "    </tr>\n",
       "    <tr>\n",
       "      <th>1</th>\n",
       "      <td>10.34</td>\n",
       "      <td>1.66</td>\n",
       "      <td>Male</td>\n",
       "      <td>No</td>\n",
       "      <td>Sun</td>\n",
       "      <td>Dinner</td>\n",
       "      <td>3</td>\n",
       "    </tr>\n",
       "    <tr>\n",
       "      <th>2</th>\n",
       "      <td>21.01</td>\n",
       "      <td>3.50</td>\n",
       "      <td>Male</td>\n",
       "      <td>No</td>\n",
       "      <td>Sun</td>\n",
       "      <td>Dinner</td>\n",
       "      <td>3</td>\n",
       "    </tr>\n",
       "    <tr>\n",
       "      <th>3</th>\n",
       "      <td>23.68</td>\n",
       "      <td>3.31</td>\n",
       "      <td>Male</td>\n",
       "      <td>No</td>\n",
       "      <td>Sun</td>\n",
       "      <td>Dinner</td>\n",
       "      <td>2</td>\n",
       "    </tr>\n",
       "    <tr>\n",
       "      <th>4</th>\n",
       "      <td>24.59</td>\n",
       "      <td>3.61</td>\n",
       "      <td>Female</td>\n",
       "      <td>No</td>\n",
       "      <td>Sun</td>\n",
       "      <td>Dinner</td>\n",
       "      <td>4</td>\n",
       "    </tr>\n",
       "  </tbody>\n",
       "</table>\n",
       "</div>"
      ],
      "text/plain": [
       "   total_bill   tip     sex smoker  day    time  size\n",
       "0       16.99  1.01  Female     No  Sun  Dinner     2\n",
       "1       10.34  1.66    Male     No  Sun  Dinner     3\n",
       "2       21.01  3.50    Male     No  Sun  Dinner     3\n",
       "3       23.68  3.31    Male     No  Sun  Dinner     2\n",
       "4       24.59  3.61  Female     No  Sun  Dinner     4"
      ]
     },
     "execution_count": 61,
     "metadata": {},
     "output_type": "execute_result"
    }
   ],
   "source": [
    "tip.head()"
   ]
  },
  {
   "cell_type": "code",
   "execution_count": 64,
   "id": "855c4cc9",
   "metadata": {},
   "outputs": [
    {
     "data": {
      "text/plain": [
       "total_bill    19.785943\n",
       "tip            2.998279\n",
       "dtype: float64"
      ]
     },
     "execution_count": 64,
     "metadata": {},
     "output_type": "execute_result"
    }
   ],
   "source": [
    "tip.agg({'total_bill': np.mean, 'tip': np.mean})"
   ]
  },
  {
   "cell_type": "code",
   "execution_count": 67,
   "id": "f430d362",
   "metadata": {},
   "outputs": [
    {
     "data": {
      "text/plain": [
       "1.0"
      ]
     },
     "execution_count": 67,
     "metadata": {},
     "output_type": "execute_result"
    }
   ],
   "source": [
    "tip['tip'].agg(min)"
   ]
  },
  {
   "cell_type": "code",
   "execution_count": 68,
   "id": "84cd6b62",
   "metadata": {},
   "outputs": [
    {
     "data": {
      "text/plain": [
       "2.9982786885245902"
      ]
     },
     "execution_count": 68,
     "metadata": {},
     "output_type": "execute_result"
    }
   ],
   "source": [
    "tip['tip'].agg(np.mean)"
   ]
  },
  {
   "cell_type": "code",
   "execution_count": 69,
   "id": "67d8daec",
   "metadata": {},
   "outputs": [
    {
     "data": {
      "text/html": [
       "<div>\n",
       "<style scoped>\n",
       "    .dataframe tbody tr th:only-of-type {\n",
       "        vertical-align: middle;\n",
       "    }\n",
       "\n",
       "    .dataframe tbody tr th {\n",
       "        vertical-align: top;\n",
       "    }\n",
       "\n",
       "    .dataframe thead th {\n",
       "        text-align: right;\n",
       "    }\n",
       "</style>\n",
       "<table border=\"1\" class=\"dataframe\">\n",
       "  <thead>\n",
       "    <tr style=\"text-align: right;\">\n",
       "      <th></th>\n",
       "      <th>total_bill</th>\n",
       "      <th>tip</th>\n",
       "    </tr>\n",
       "  </thead>\n",
       "  <tbody>\n",
       "    <tr>\n",
       "      <th>mean</th>\n",
       "      <td>19.785943</td>\n",
       "      <td>2.998279</td>\n",
       "    </tr>\n",
       "    <tr>\n",
       "      <th>std</th>\n",
       "      <td>NaN</td>\n",
       "      <td>1.383638</td>\n",
       "    </tr>\n",
       "  </tbody>\n",
       "</table>\n",
       "</div>"
      ],
      "text/plain": [
       "      total_bill       tip\n",
       "mean   19.785943  2.998279\n",
       "std          NaN  1.383638"
      ]
     },
     "execution_count": 69,
     "metadata": {},
     "output_type": "execute_result"
    }
   ],
   "source": [
    "tip.agg({'total_bill': np.mean, 'tip': [np.mean, np.std]})"
   ]
  },
  {
   "cell_type": "code",
   "execution_count": 70,
   "id": "8c67f0e5",
   "metadata": {},
   "outputs": [
    {
     "data": {
      "text/html": [
       "<div>\n",
       "<style scoped>\n",
       "    .dataframe tbody tr th:only-of-type {\n",
       "        vertical-align: middle;\n",
       "    }\n",
       "\n",
       "    .dataframe tbody tr th {\n",
       "        vertical-align: top;\n",
       "    }\n",
       "\n",
       "    .dataframe thead th {\n",
       "        text-align: right;\n",
       "    }\n",
       "</style>\n",
       "<table border=\"1\" class=\"dataframe\">\n",
       "  <thead>\n",
       "    <tr style=\"text-align: right;\">\n",
       "      <th></th>\n",
       "      <th>total_bill</th>\n",
       "      <th>tip</th>\n",
       "    </tr>\n",
       "  </thead>\n",
       "  <tbody>\n",
       "    <tr>\n",
       "      <th>mean</th>\n",
       "      <td>19.785943</td>\n",
       "      <td>2.998279</td>\n",
       "    </tr>\n",
       "    <tr>\n",
       "      <th>std</th>\n",
       "      <td>8.902412</td>\n",
       "      <td>1.383638</td>\n",
       "    </tr>\n",
       "  </tbody>\n",
       "</table>\n",
       "</div>"
      ],
      "text/plain": [
       "      total_bill       tip\n",
       "mean   19.785943  2.998279\n",
       "std     8.902412  1.383638"
      ]
     },
     "execution_count": 70,
     "metadata": {},
     "output_type": "execute_result"
    }
   ],
   "source": [
    "tip.agg({'total_bill': [np.mean, np.std], 'tip': [np.mean, np.std]})"
   ]
  },
  {
   "cell_type": "code",
   "execution_count": 71,
   "id": "05087fe5",
   "metadata": {},
   "outputs": [
    {
     "data": {
      "text/html": [
       "<div>\n",
       "<style scoped>\n",
       "    .dataframe tbody tr th:only-of-type {\n",
       "        vertical-align: middle;\n",
       "    }\n",
       "\n",
       "    .dataframe tbody tr th {\n",
       "        vertical-align: top;\n",
       "    }\n",
       "\n",
       "    .dataframe thead th {\n",
       "        text-align: right;\n",
       "    }\n",
       "</style>\n",
       "<table border=\"1\" class=\"dataframe\">\n",
       "  <thead>\n",
       "    <tr style=\"text-align: right;\">\n",
       "      <th></th>\n",
       "      <th>total_bill</th>\n",
       "      <th>tip</th>\n",
       "    </tr>\n",
       "  </thead>\n",
       "  <tbody>\n",
       "    <tr>\n",
       "      <th>mean</th>\n",
       "      <td>19.785943</td>\n",
       "      <td>2.998279</td>\n",
       "    </tr>\n",
       "    <tr>\n",
       "      <th>std</th>\n",
       "      <td>8.902412</td>\n",
       "      <td>1.383638</td>\n",
       "    </tr>\n",
       "    <tr>\n",
       "      <th>min</th>\n",
       "      <td>NaN</td>\n",
       "      <td>1.000000</td>\n",
       "    </tr>\n",
       "  </tbody>\n",
       "</table>\n",
       "</div>"
      ],
      "text/plain": [
       "      total_bill       tip\n",
       "mean   19.785943  2.998279\n",
       "std     8.902412  1.383638\n",
       "min          NaN  1.000000"
      ]
     },
     "execution_count": 71,
     "metadata": {},
     "output_type": "execute_result"
    }
   ],
   "source": [
    "tip.agg({'total_bill': [np.mean, np.std], 'tip': [np.mean, np.std, min]})"
   ]
  },
  {
   "cell_type": "code",
   "execution_count": 78,
   "id": "5af81f45",
   "metadata": {},
   "outputs": [
    {
     "data": {
      "text/html": [
       "<div>\n",
       "<style scoped>\n",
       "    .dataframe tbody tr th:only-of-type {\n",
       "        vertical-align: middle;\n",
       "    }\n",
       "\n",
       "    .dataframe tbody tr th {\n",
       "        vertical-align: top;\n",
       "    }\n",
       "\n",
       "    .dataframe thead th {\n",
       "        text-align: right;\n",
       "    }\n",
       "</style>\n",
       "<table border=\"1\" class=\"dataframe\">\n",
       "  <thead>\n",
       "    <tr style=\"text-align: right;\">\n",
       "      <th></th>\n",
       "      <th>total_bill</th>\n",
       "      <th>tip</th>\n",
       "      <th>size</th>\n",
       "    </tr>\n",
       "  </thead>\n",
       "  <tbody>\n",
       "    <tr>\n",
       "      <th>mean</th>\n",
       "      <td>19.785943</td>\n",
       "      <td>2.998279</td>\n",
       "      <td>2.569672</td>\n",
       "    </tr>\n",
       "    <tr>\n",
       "      <th>std</th>\n",
       "      <td>8.902412</td>\n",
       "      <td>1.383638</td>\n",
       "      <td>NaN</td>\n",
       "    </tr>\n",
       "    <tr>\n",
       "      <th>min</th>\n",
       "      <td>NaN</td>\n",
       "      <td>1.000000</td>\n",
       "      <td>NaN</td>\n",
       "    </tr>\n",
       "  </tbody>\n",
       "</table>\n",
       "</div>"
      ],
      "text/plain": [
       "      total_bill       tip      size\n",
       "mean   19.785943  2.998279  2.569672\n",
       "std     8.902412  1.383638       NaN\n",
       "min          NaN  1.000000       NaN"
      ]
     },
     "execution_count": 78,
     "metadata": {},
     "output_type": "execute_result"
    }
   ],
   "source": [
    "tip.agg({'total_bill': [np.mean, np.std], 'tip': [np.mean, np.std, min], 'size': np.mean})"
   ]
  },
  {
   "cell_type": "code",
   "execution_count": 81,
   "id": "ddd5d9fe",
   "metadata": {},
   "outputs": [
    {
     "data": {
      "text/html": [
       "<div>\n",
       "<style scoped>\n",
       "    .dataframe tbody tr th:only-of-type {\n",
       "        vertical-align: middle;\n",
       "    }\n",
       "\n",
       "    .dataframe tbody tr th {\n",
       "        vertical-align: top;\n",
       "    }\n",
       "\n",
       "    .dataframe thead th {\n",
       "        text-align: right;\n",
       "    }\n",
       "</style>\n",
       "<table border=\"1\" class=\"dataframe\">\n",
       "  <thead>\n",
       "    <tr style=\"text-align: right;\">\n",
       "      <th></th>\n",
       "      <th>total_bill</th>\n",
       "      <th>tip</th>\n",
       "    </tr>\n",
       "    <tr>\n",
       "      <th>sex</th>\n",
       "      <th></th>\n",
       "      <th></th>\n",
       "    </tr>\n",
       "  </thead>\n",
       "  <tbody>\n",
       "    <tr>\n",
       "      <th>Male</th>\n",
       "      <td>20.744076</td>\n",
       "      <td>3.089618</td>\n",
       "    </tr>\n",
       "    <tr>\n",
       "      <th>Female</th>\n",
       "      <td>18.056897</td>\n",
       "      <td>2.833448</td>\n",
       "    </tr>\n",
       "  </tbody>\n",
       "</table>\n",
       "</div>"
      ],
      "text/plain": [
       "        total_bill       tip\n",
       "sex                         \n",
       "Male     20.744076  3.089618\n",
       "Female   18.056897  2.833448"
      ]
     },
     "execution_count": 81,
     "metadata": {},
     "output_type": "execute_result"
    }
   ],
   "source": [
    "tip.groupby(\"sex\").agg({'total_bill': np.mean, 'tip': np.mean})"
   ]
  },
  {
   "cell_type": "code",
   "execution_count": 4,
   "id": "7bbe7e42",
   "metadata": {},
   "outputs": [],
   "source": [
    "gr = tip.groupby(['sex', 'day']).agg({'size': max})"
   ]
  },
  {
   "cell_type": "code",
   "execution_count": 5,
   "id": "e527600b",
   "metadata": {},
   "outputs": [
    {
     "data": {
      "text/html": [
       "<div>\n",
       "<style scoped>\n",
       "    .dataframe tbody tr th:only-of-type {\n",
       "        vertical-align: middle;\n",
       "    }\n",
       "\n",
       "    .dataframe tbody tr th {\n",
       "        vertical-align: top;\n",
       "    }\n",
       "\n",
       "    .dataframe thead th {\n",
       "        text-align: right;\n",
       "    }\n",
       "</style>\n",
       "<table border=\"1\" class=\"dataframe\">\n",
       "  <thead>\n",
       "    <tr style=\"text-align: right;\">\n",
       "      <th></th>\n",
       "      <th></th>\n",
       "      <th>size</th>\n",
       "    </tr>\n",
       "    <tr>\n",
       "      <th>sex</th>\n",
       "      <th>day</th>\n",
       "      <th></th>\n",
       "    </tr>\n",
       "  </thead>\n",
       "  <tbody>\n",
       "    <tr>\n",
       "      <th rowspan=\"4\" valign=\"top\">Male</th>\n",
       "      <th>Thur</th>\n",
       "      <td>6</td>\n",
       "    </tr>\n",
       "    <tr>\n",
       "      <th>Fri</th>\n",
       "      <td>4</td>\n",
       "    </tr>\n",
       "    <tr>\n",
       "      <th>Sat</th>\n",
       "      <td>5</td>\n",
       "    </tr>\n",
       "    <tr>\n",
       "      <th>Sun</th>\n",
       "      <td>6</td>\n",
       "    </tr>\n",
       "    <tr>\n",
       "      <th rowspan=\"4\" valign=\"top\">Female</th>\n",
       "      <th>Thur</th>\n",
       "      <td>6</td>\n",
       "    </tr>\n",
       "    <tr>\n",
       "      <th>Fri</th>\n",
       "      <td>3</td>\n",
       "    </tr>\n",
       "    <tr>\n",
       "      <th>Sat</th>\n",
       "      <td>4</td>\n",
       "    </tr>\n",
       "    <tr>\n",
       "      <th>Sun</th>\n",
       "      <td>5</td>\n",
       "    </tr>\n",
       "  </tbody>\n",
       "</table>\n",
       "</div>"
      ],
      "text/plain": [
       "             size\n",
       "sex    day       \n",
       "Male   Thur     6\n",
       "       Fri      4\n",
       "       Sat      5\n",
       "       Sun      6\n",
       "Female Thur     6\n",
       "       Fri      3\n",
       "       Sat      4\n",
       "       Sun      5"
      ]
     },
     "execution_count": 5,
     "metadata": {},
     "output_type": "execute_result"
    }
   ],
   "source": [
    "gr"
   ]
  },
  {
   "cell_type": "code",
   "execution_count": 6,
   "id": "74c091db",
   "metadata": {},
   "outputs": [
    {
     "data": {
      "text/plain": [
       "size    5\n",
       "Name: Sat, dtype: int64"
      ]
     },
     "execution_count": 6,
     "metadata": {},
     "output_type": "execute_result"
    }
   ],
   "source": [
    "gr.loc[\"Male\"].loc['Sat']"
   ]
  },
  {
   "cell_type": "code",
   "execution_count": 8,
   "id": "40392ead",
   "metadata": {},
   "outputs": [
    {
     "data": {
      "text/plain": [
       "size    5\n",
       "Name: Sat, dtype: int64"
      ]
     },
     "execution_count": 8,
     "metadata": {},
     "output_type": "execute_result"
    }
   ],
   "source": [
    "gr.loc['Male'].loc['Sat']"
   ]
  },
  {
   "cell_type": "code",
   "execution_count": 9,
   "id": "911f08a7",
   "metadata": {},
   "outputs": [
    {
     "data": {
      "text/plain": [
       "MultiIndex([(  'Male', 'Thur'),\n",
       "            (  'Male',  'Fri'),\n",
       "            (  'Male',  'Sat'),\n",
       "            (  'Male',  'Sun'),\n",
       "            ('Female', 'Thur'),\n",
       "            ('Female',  'Fri'),\n",
       "            ('Female',  'Sat'),\n",
       "            ('Female',  'Sun')],\n",
       "           names=['sex', 'day'])"
      ]
     },
     "execution_count": 9,
     "metadata": {},
     "output_type": "execute_result"
    }
   ],
   "source": [
    "gr.index"
   ]
  },
  {
   "cell_type": "code",
   "execution_count": 11,
   "id": "2c5158fb",
   "metadata": {},
   "outputs": [
    {
     "data": {
      "text/plain": [
       "size    5\n",
       "Name: (Male, Sat), dtype: int64"
      ]
     },
     "execution_count": 11,
     "metadata": {},
     "output_type": "execute_result"
    }
   ],
   "source": [
    "gr.loc[(  'Male',  'Sat')]"
   ]
  },
  {
   "cell_type": "code",
   "execution_count": 12,
   "id": "3bbe00a1",
   "metadata": {},
   "outputs": [
    {
     "data": {
      "text/html": [
       "<div>\n",
       "<style scoped>\n",
       "    .dataframe tbody tr th:only-of-type {\n",
       "        vertical-align: middle;\n",
       "    }\n",
       "\n",
       "    .dataframe tbody tr th {\n",
       "        vertical-align: top;\n",
       "    }\n",
       "\n",
       "    .dataframe thead th {\n",
       "        text-align: right;\n",
       "    }\n",
       "</style>\n",
       "<table border=\"1\" class=\"dataframe\">\n",
       "  <thead>\n",
       "    <tr style=\"text-align: right;\">\n",
       "      <th></th>\n",
       "      <th>total_bill</th>\n",
       "      <th>tip</th>\n",
       "      <th>sex</th>\n",
       "      <th>smoker</th>\n",
       "      <th>day</th>\n",
       "      <th>time</th>\n",
       "      <th>size</th>\n",
       "    </tr>\n",
       "  </thead>\n",
       "  <tbody>\n",
       "    <tr>\n",
       "      <th>0</th>\n",
       "      <td>16.99</td>\n",
       "      <td>1.01</td>\n",
       "      <td>Female</td>\n",
       "      <td>No</td>\n",
       "      <td>Sun</td>\n",
       "      <td>Dinner</td>\n",
       "      <td>2</td>\n",
       "    </tr>\n",
       "    <tr>\n",
       "      <th>1</th>\n",
       "      <td>10.34</td>\n",
       "      <td>1.66</td>\n",
       "      <td>Male</td>\n",
       "      <td>No</td>\n",
       "      <td>Sun</td>\n",
       "      <td>Dinner</td>\n",
       "      <td>3</td>\n",
       "    </tr>\n",
       "    <tr>\n",
       "      <th>2</th>\n",
       "      <td>21.01</td>\n",
       "      <td>3.50</td>\n",
       "      <td>Male</td>\n",
       "      <td>No</td>\n",
       "      <td>Sun</td>\n",
       "      <td>Dinner</td>\n",
       "      <td>3</td>\n",
       "    </tr>\n",
       "    <tr>\n",
       "      <th>3</th>\n",
       "      <td>23.68</td>\n",
       "      <td>3.31</td>\n",
       "      <td>Male</td>\n",
       "      <td>No</td>\n",
       "      <td>Sun</td>\n",
       "      <td>Dinner</td>\n",
       "      <td>2</td>\n",
       "    </tr>\n",
       "    <tr>\n",
       "      <th>4</th>\n",
       "      <td>24.59</td>\n",
       "      <td>3.61</td>\n",
       "      <td>Female</td>\n",
       "      <td>No</td>\n",
       "      <td>Sun</td>\n",
       "      <td>Dinner</td>\n",
       "      <td>4</td>\n",
       "    </tr>\n",
       "  </tbody>\n",
       "</table>\n",
       "</div>"
      ],
      "text/plain": [
       "   total_bill   tip     sex smoker  day    time  size\n",
       "0       16.99  1.01  Female     No  Sun  Dinner     2\n",
       "1       10.34  1.66    Male     No  Sun  Dinner     3\n",
       "2       21.01  3.50    Male     No  Sun  Dinner     3\n",
       "3       23.68  3.31    Male     No  Sun  Dinner     2\n",
       "4       24.59  3.61  Female     No  Sun  Dinner     4"
      ]
     },
     "execution_count": 12,
     "metadata": {},
     "output_type": "execute_result"
    }
   ],
   "source": [
    "tip.head()"
   ]
  },
  {
   "cell_type": "code",
   "execution_count": 13,
   "id": "ce7e6fa6",
   "metadata": {},
   "outputs": [],
   "source": [
    "### tip practice"
   ]
  },
  {
   "cell_type": "code",
   "execution_count": null,
   "id": "82b7f713",
   "metadata": {},
   "outputs": [],
   "source": [
    "   "
   ]
  }
 ],
 "metadata": {
  "kernelspec": {
   "display_name": "Python 3",
   "language": "python",
   "name": "python3"
  },
  "language_info": {
   "codemirror_mode": {
    "name": "ipython",
    "version": 3
   },
   "file_extension": ".py",
   "mimetype": "text/x-python",
   "name": "python",
   "nbconvert_exporter": "python",
   "pygments_lexer": "ipython3",
   "version": "3.8.8"
  }
 },
 "nbformat": 4,
 "nbformat_minor": 5
}
