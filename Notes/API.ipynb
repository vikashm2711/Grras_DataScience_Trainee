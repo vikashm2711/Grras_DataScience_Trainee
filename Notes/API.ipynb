{
 "cells": [
  {
   "cell_type": "code",
   "execution_count": 3,
   "metadata": {},
   "outputs": [],
   "source": [
    "import requests"
   ]
  },
  {
   "cell_type": "code",
   "execution_count": 7,
   "metadata": {},
   "outputs": [
    {
     "name": "stdout",
     "output_type": "stream",
     "text": [
      "Enter a Movie name --> Iron Man\n"
     ]
    }
   ],
   "source": [
    "movie= input(\"Enter a Movie name --> \")"
   ]
  },
  {
   "cell_type": "code",
   "execution_count": 8,
   "metadata": {},
   "outputs": [],
   "source": [
    "key= \"4Bv6j9Pf8rrJ1PGKKquotiplcT3t4IcH\""
   ]
  },
  {
   "cell_type": "code",
   "execution_count": 9,
   "metadata": {},
   "outputs": [],
   "source": [
    "url = f\"https://api.nytimes.com/svc/movies/v2/reviews/search.json?query={movie}&api-key={key}\""
   ]
  },
  {
   "cell_type": "code",
   "execution_count": 10,
   "metadata": {},
   "outputs": [
    {
     "data": {
      "text/plain": [
       "'https://api.nytimes.com/svc/movies/v2/reviews/search.json?query=Iron Man&api-key=4Bv6j9Pf8rrJ1PGKKquotiplcT3t4IcH'"
      ]
     },
     "execution_count": 10,
     "metadata": {},
     "output_type": "execute_result"
    }
   ],
   "source": [
    "url"
   ]
  },
  {
   "cell_type": "code",
   "execution_count": 12,
   "metadata": {},
   "outputs": [],
   "source": [
    "data = requests.get(url)"
   ]
  },
  {
   "cell_type": "code",
   "execution_count": 13,
   "metadata": {},
   "outputs": [
    {
     "data": {
      "text/plain": [
       "200"
      ]
     },
     "execution_count": 13,
     "metadata": {},
     "output_type": "execute_result"
    }
   ],
   "source": [
    "data.status_code"
   ]
  },
  {
   "cell_type": "code",
   "execution_count": 16,
   "metadata": {},
   "outputs": [],
   "source": [
    "data=data.json()"
   ]
  },
  {
   "cell_type": "code",
   "execution_count": 18,
   "metadata": {},
   "outputs": [
    {
     "data": {
      "text/plain": [
       "dict_keys(['status', 'copyright', 'has_more', 'num_results', 'results'])"
      ]
     },
     "execution_count": 18,
     "metadata": {},
     "output_type": "execute_result"
    }
   ],
   "source": [
    "data.keys()"
   ]
  },
  {
   "cell_type": "code",
   "execution_count": 28,
   "metadata": {},
   "outputs": [
    {
     "data": {
      "text/plain": [
       "'“Iron Man” is an unusually good superhero picture. Or at least — since it certainly has its problems — a superhero movie that’s good in unusual ways.'"
      ]
     },
     "execution_count": 28,
     "metadata": {},
     "output_type": "execute_result"
    }
   ],
   "source": [
    "data['results'][2]['summary_short']"
   ]
  },
  {
   "cell_type": "code",
   "execution_count": 39,
   "metadata": {},
   "outputs": [
    {
     "name": "stdout",
     "output_type": "stream",
     "text": [
      "Iron Man 3 \n",
      "\n",
      "“Iron Man 3,” with all its explosions so soon after the Boston Marathon bombings, underscores just how thoroughly terrorism and its aftermath have been colonized by the movies. \n",
      "\n",
      "Iron Man 2 \n",
      "\n",
      "The superhero sequel “Iron Man 2” has been turned over to its game and gifted cast: Robert Downey Jr., Gwyneth Paltrow, Mickey Rourke, Scarlett Johansson and Samuel L. Jackson. \n",
      "\n",
      "Iron Man \n",
      "\n",
      "“Iron Man” is an unusually good superhero picture. Or at least — since it certainly has its problems — a superhero movie that’s good in unusual ways. \n",
      "\n"
     ]
    }
   ],
   "source": [
    "for var in range(3):\n",
    "    print(data['results'][var]['display_title'],\"\\n\")\n",
    "    print(data['results'][var]['summary_short'],\"\\n\")"
   ]
  },
  {
   "cell_type": "code",
   "execution_count": 40,
   "metadata": {},
   "outputs": [],
   "source": [
    "from pprint import pprint"
   ]
  },
  {
   "cell_type": "code",
   "execution_count": 41,
   "metadata": {},
   "outputs": [
    {
     "name": "stdout",
     "output_type": "stream",
     "text": [
      "{'copyright': 'Copyright (c) 2021 The New York Times Company. All Rights '\n",
      "              'Reserved.',\n",
      " 'has_more': False,\n",
      " 'num_results': 4,\n",
      " 'results': [{'byline': 'MANOHLA DARGIS',\n",
      "              'critics_pick': 0,\n",
      "              'date_updated': '2017-11-02 04:18:16',\n",
      "              'display_title': 'Iron Man 3',\n",
      "              'headline': 'Bang, Boom: Terrorism as a Game',\n",
      "              'link': {'suggested_link_text': 'Read the New York Times Review '\n",
      "                                              'of Iron Man 3',\n",
      "                       'type': 'article',\n",
      "                       'url': 'https://www.nytimes.com/2013/05/03/movies/iron-man-3-with-robert-downey-jr.html'},\n",
      "              'mpaa_rating': 'PG-13',\n",
      "              'multimedia': None,\n",
      "              'opening_date': '2013-05-03',\n",
      "              'publication_date': '2013-05-02',\n",
      "              'summary_short': '“Iron Man 3,” with all its explosions so soon '\n",
      "                               'after the Boston Marathon bombings, '\n",
      "                               'underscores just how thoroughly terrorism and '\n",
      "                               'its aftermath have been colonized by the '\n",
      "                               'movies.'},\n",
      "             {'byline': 'A. O. SCOTT',\n",
      "              'critics_pick': 0,\n",
      "              'date_updated': '2017-11-02 04:18:11',\n",
      "              'display_title': 'Iron Man 2',\n",
      "              'headline': 'The Man in the Iron Irony',\n",
      "              'link': {'suggested_link_text': 'Read the New York Times Review '\n",
      "                                              'of Iron Man 2',\n",
      "                       'type': 'article',\n",
      "                       'url': 'https://www.nytimes.com/2010/05/07/movies/07iron.html'},\n",
      "              'mpaa_rating': 'PG-13',\n",
      "              'multimedia': None,\n",
      "              'opening_date': '2010-05-07',\n",
      "              'publication_date': '2010-05-06',\n",
      "              'summary_short': 'The superhero sequel “Iron Man 2” has been '\n",
      "                               'turned over to its game and gifted cast: '\n",
      "                               'Robert Downey Jr., Gwyneth Paltrow, Mickey '\n",
      "                               'Rourke, Scarlett Johansson and Samuel L. '\n",
      "                               'Jackson.'},\n",
      "             {'byline': 'A. O. SCOTT',\n",
      "              'critics_pick': 0,\n",
      "              'date_updated': '2017-11-02 04:18:07',\n",
      "              'display_title': 'Iron Man',\n",
      "              'headline': 'Heavy Suit, Light Touches',\n",
      "              'link': {'suggested_link_text': 'Read the New York Times Review '\n",
      "                                              'of Iron Man',\n",
      "                       'type': 'article',\n",
      "                       'url': 'https://www.nytimes.com/2008/05/02/movies/02iron.html'},\n",
      "              'mpaa_rating': 'PG-13',\n",
      "              'multimedia': None,\n",
      "              'opening_date': '2008-05-02',\n",
      "              'publication_date': '2008-05-02',\n",
      "              'summary_short': '“Iron Man” is an unusually good superhero '\n",
      "                               'picture. Or at least — since it certainly has '\n",
      "                               'its problems — a superhero movie that’s good '\n",
      "                               'in unusual ways.'},\n",
      "             {'byline': 'STEPHEN HOLDEN',\n",
      "              'critics_pick': 0,\n",
      "              'date_updated': '2017-11-02 04:16:09',\n",
      "              'display_title': 'Tetsuo: The Iron Man',\n",
      "              'headline': 'TETSUO: THE IRON MAN (MOVIE)',\n",
      "              'link': {'suggested_link_text': 'Read the New York Times Review '\n",
      "                                              'of Tetsuo: The Iron Man',\n",
      "                       'type': 'article',\n",
      "                       'url': 'https://www.nytimes.com/1992/04/22/movies/review-film-forgoing-the-flesh-for-metallic-pleasures.html'},\n",
      "              'mpaa_rating': 'Not Rated',\n",
      "              'multimedia': None,\n",
      "              'opening_date': None,\n",
      "              'publication_date': '1992-04-22',\n",
      "              'summary_short': ''}],\n",
      " 'status': 'OK'}\n"
     ]
    }
   ],
   "source": [
    "pprint(data)"
   ]
  },
  {
   "cell_type": "code",
   "execution_count": null,
   "metadata": {},
   "outputs": [],
   "source": []
  }
 ],
 "metadata": {
  "kernelspec": {
   "display_name": "Python 3",
   "language": "python",
   "name": "python3"
  },
  "language_info": {
   "codemirror_mode": {
    "name": "ipython",
    "version": 3
   },
   "file_extension": ".py",
   "mimetype": "text/x-python",
   "name": "python",
   "nbconvert_exporter": "python",
   "pygments_lexer": "ipython3",
   "version": "3.8.5"
  }
 },
 "nbformat": 4,
 "nbformat_minor": 4
}
