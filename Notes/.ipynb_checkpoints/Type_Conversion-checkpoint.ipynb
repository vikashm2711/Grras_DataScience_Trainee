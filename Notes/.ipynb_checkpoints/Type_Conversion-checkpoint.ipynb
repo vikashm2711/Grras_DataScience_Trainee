{
 "cells": [
  {
   "cell_type": "markdown",
   "metadata": {},
   "source": [
    "# inbuilt functions"
   ]
  },
  {
   "cell_type": "markdown",
   "metadata": {},
   "source": [
    "    int()\n",
    "    float()\n",
    "    complex()\n",
    "    str()\n",
    "    list()\n",
    "    tuple()\n",
    "    dict()\n",
    "    set()"
   ]
  },
  {
   "cell_type": "code",
   "execution_count": 15,
   "metadata": {},
   "outputs": [],
   "source": [
    "#String is a universal data type"
   ]
  },
  {
   "cell_type": "code",
   "execution_count": 2,
   "metadata": {},
   "outputs": [],
   "source": [
    "#int to others"
   ]
  },
  {
   "cell_type": "code",
   "execution_count": 13,
   "metadata": {},
   "outputs": [
    {
     "name": "stdout",
     "output_type": "stream",
     "text": [
      "Float -->  55.0\n",
      "Complex -->  (55+0j)\n",
      "String --> 55\n"
     ]
    }
   ],
   "source": [
    "a = 55\n",
    "print(\"Float --> \",float(a))\n",
    "print(\"Complex --> \",complex(a))\n",
    "print(\"String -->\",str(a))\n",
    "#print(\"List -->\",list(a))\n",
    "#print(\"Tuple -->\",tuple(a))\n",
    "#print(\"Dictionary -->\",dict(a))\n",
    "#print(\"Set -->\",set(a))"
   ]
  },
  {
   "cell_type": "code",
   "execution_count": 14,
   "metadata": {},
   "outputs": [],
   "source": [
    "#float to Others"
   ]
  },
  {
   "cell_type": "code",
   "execution_count": 18,
   "metadata": {},
   "outputs": [
    {
     "name": "stdout",
     "output_type": "stream",
     "text": [
      "int -->  44\n",
      "Complex -->  (44.5+0j)\n",
      "String --> 44.5\n"
     ]
    }
   ],
   "source": [
    "a = 44.5\n",
    "print(\"int --> \",int(a))\n",
    "print(\"Complex --> \",complex(a))\n",
    "print(\"String -->\",str(a))\n",
    "#print(\"List -->\",list(a))\n",
    "#print(\"Tuple -->\",tuple(a))\n",
    "#print(\"Dictionary -->\",dict(a))\n",
    "#print(\"Set -->\",set(a))"
   ]
  },
  {
   "cell_type": "code",
   "execution_count": 19,
   "metadata": {},
   "outputs": [],
   "source": [
    "#Complex to others"
   ]
  },
  {
   "cell_type": "code",
   "execution_count": 27,
   "metadata": {},
   "outputs": [
    {
     "name": "stdout",
     "output_type": "stream",
     "text": [
      "String --> (44+55j)\n"
     ]
    }
   ],
   "source": [
    "a = 44+55j\n",
    "#print(\"int --> \",int(a))\n",
    "#print(\"float --> \",float(a))\n",
    "print(\"String -->\",str(a))\n",
    "#print(\"List -->\",list(a))\n",
    "#print(\"Tuple -->\",tuple(a))\n",
    "#print(\"Dictionary -->\",dict(a))\n",
    "#print(\"Set -->\",set(a))"
   ]
  },
  {
   "cell_type": "code",
   "execution_count": 28,
   "metadata": {},
   "outputs": [],
   "source": [
    "#String to others"
   ]
  },
  {
   "cell_type": "code",
   "execution_count": 31,
   "metadata": {},
   "outputs": [
    {
     "name": "stdout",
     "output_type": "stream",
     "text": [
      "List --> ['H', 'e', 'l', 'l', 'o', ' ', 'W', 'o', 'r', 'l', 'd']\n",
      "Tuple --> ('H', 'e', 'l', 'l', 'o', ' ', 'W', 'o', 'r', 'l', 'd')\n",
      "Set --> {'e', 'r', 'l', ' ', 'd', 'W', 'o', 'H'}\n"
     ]
    }
   ],
   "source": [
    "a = \"Hello World\"\n",
    "#print(\"int --> \",int(a))\n",
    "#print(\"float --> \",float(a))\n",
    "#print(\"Complex -->\",complex(a))\n",
    "print(\"List -->\",list(a))\n",
    "print(\"Tuple -->\",tuple(a))\n",
    "#print(\"Dictionary -->\",dict(a))\n",
    "print(\"Set -->\",set(a))"
   ]
  },
  {
   "cell_type": "code",
   "execution_count": 33,
   "metadata": {},
   "outputs": [
    {
     "name": "stdout",
     "output_type": "stream",
     "text": [
      "int -->  55\n",
      "float -->  55.0\n",
      "Complex --> (55+0j)\n",
      "List --> ['5', '5']\n",
      "Tuple --> ('5', '5')\n",
      "Set --> {'5'}\n"
     ]
    }
   ],
   "source": [
    "a = \"55\"\n",
    "print(\"int --> \",int(a))\n",
    "print(\"float --> \",float(a))\n",
    "print(\"Complex -->\",complex(a))\n",
    "print(\"List -->\",list(a))\n",
    "print(\"Tuple -->\",tuple(a))\n",
    "#print(\"Dictionary -->\",dict(a))\n",
    "print(\"Set -->\",set(a))"
   ]
  },
  {
   "cell_type": "code",
   "execution_count": 34,
   "metadata": {},
   "outputs": [],
   "source": [
    "#List to Others"
   ]
  },
  {
   "cell_type": "code",
   "execution_count": 37,
   "metadata": {},
   "outputs": [
    {
     "name": "stdout",
     "output_type": "stream",
     "text": [
      "String --> [12, 412, 4, 123, 5325, 5, 34, 23, 3]\n",
      "Tuple --> (12, 412, 4, 123, 5325, 5, 34, 23, 3)\n",
      "Set --> {34, 3, 4, 5, 12, 5325, 23, 123, 412}\n"
     ]
    }
   ],
   "source": [
    "a = [12,412,4,123,5325,5,34,23,3]\n",
    "#print(\"int --> \",int(a))\n",
    "#print(\"float --> \",float(a))\n",
    "#print(\"Complex -->\",complex(a))\n",
    "print(\"String -->\",str(a))\n",
    "print(\"Tuple -->\",tuple(a))\n",
    "#print(\"Dictionary -->\",dict(a))\n",
    "print(\"Set -->\",set(a))"
   ]
  },
  {
   "cell_type": "code",
   "execution_count": 41,
   "metadata": {},
   "outputs": [
    {
     "name": "stdout",
     "output_type": "stream",
     "text": [
      "String --> [[12, 412], [4, 123], [5325, 5], [34, 23]]\n",
      "Tuple --> ([12, 412], [4, 123], [5325, 5], [34, 23])\n",
      "Dictionary --> {12: 412, 4: 123, 5325: 5, 34: 23}\n"
     ]
    }
   ],
   "source": [
    "a = [[12,412],[4,123],[5325,5],[34,23]]\n",
    "#print(\"int --> \",int(a))\n",
    "#print(\"float --> \",float(a))\n",
    "#print(\"Complex -->\",complex(a))\n",
    "print(\"String -->\",str(a))\n",
    "print(\"Tuple -->\",tuple(a))\n",
    "print(\"Dictionary -->\",dict(a))\n",
    "#print(\"Set -->\",set(a))  unhasable list"
   ]
  },
  {
   "cell_type": "code",
   "execution_count": 1,
   "metadata": {},
   "outputs": [
    {
     "data": {
      "text/plain": [
       "{(34, 3), (34, 34)}"
      ]
     },
     "execution_count": 1,
     "metadata": {},
     "output_type": "execute_result"
    }
   ],
   "source": [
    "{(34,34),(34,3)}"
   ]
  },
  {
   "cell_type": "code",
   "execution_count": 42,
   "metadata": {},
   "outputs": [],
   "source": [
    "#tuple"
   ]
  },
  {
   "cell_type": "code",
   "execution_count": 47,
   "metadata": {},
   "outputs": [
    {
     "name": "stdout",
     "output_type": "stream",
     "text": [
      "String --> (12, 412, 4, 123, 5325, 5, 34, 23, 3)\n",
      "List --> [12, 412, 4, 123, 5325, 5, 34, 23, 3]\n",
      "Set --> {34, 3, 4, 5, 12, 5325, 23, 123, 412}\n"
     ]
    }
   ],
   "source": [
    "a = (12,412,4,123,5325,5,34,23,3)\n",
    "#print(\"int --> \",int(a))\n",
    "#print(\"float --> \",float(a))\n",
    "#print(\"Complex -->\",complex(a))\n",
    "print(\"String -->\",str(a))\n",
    "print(\"List -->\",list(a))\n",
    "#print(\"Dictionary -->\",dict(a))\n",
    "print(\"Set -->\",set(a))"
   ]
  },
  {
   "cell_type": "code",
   "execution_count": 48,
   "metadata": {},
   "outputs": [
    {
     "name": "stdout",
     "output_type": "stream",
     "text": [
      "String --> {412: 4, 123: 5325, 5: 34, 23: 3}\n",
      "List --> [412, 123, 5, 23]\n",
      "Tuple --> (412, 123, 5, 23)\n",
      "Set --> {123, 412, 5, 23}\n"
     ]
    }
   ],
   "source": [
    "#Dict to others\n",
    "a = {412:4,123:5325,5:34,23:3}\n",
    "#print(\"int --> \",int(a))\n",
    "#print(\"float --> \",float(a))\n",
    "#print(\"Complex -->\",complex(a))\n",
    "print(\"String -->\",str(a))\n",
    "print(\"List -->\",list(a))\n",
    "print(\"Tuple -->\",tuple(a))\n",
    "print(\"Set -->\",set(a))"
   ]
  },
  {
   "cell_type": "code",
   "execution_count": 51,
   "metadata": {},
   "outputs": [
    {
     "ename": "ValueError",
     "evalue": "dictionary update sequence element #0 has length 1; 2 is required",
     "output_type": "error",
     "traceback": [
      "\u001b[1;31m---------------------------------------------------------------------------\u001b[0m",
      "\u001b[1;31mValueError\u001b[0m                                Traceback (most recent call last)",
      "\u001b[1;32m<ipython-input-51-0181b7e02e22>\u001b[0m in \u001b[0;36m<module>\u001b[1;34m\u001b[0m\n\u001b[1;32m----> 1\u001b[1;33m \u001b[0mdict\u001b[0m\u001b[1;33m(\u001b[0m\u001b[0mstr\u001b[0m\u001b[1;33m(\u001b[0m\u001b[0ma\u001b[0m\u001b[1;33m)\u001b[0m\u001b[1;33m)\u001b[0m\u001b[1;33m\u001b[0m\u001b[1;33m\u001b[0m\u001b[0m\n\u001b[0m",
      "\u001b[1;31mValueError\u001b[0m: dictionary update sequence element #0 has length 1; 2 is required"
     ]
    }
   ],
   "source": [
    "dict(str(a))"
   ]
  },
  {
   "cell_type": "code",
   "execution_count": 52,
   "metadata": {},
   "outputs": [
    {
     "name": "stdout",
     "output_type": "stream",
     "text": [
      "String --> {34, 3, 4, 5, 5325, 23, 123, 412}\n",
      "List --> [34, 3, 4, 5, 5325, 23, 123, 412]\n",
      "Tuple --> (34, 3, 4, 5, 5325, 23, 123, 412)\n"
     ]
    },
    {
     "ename": "TypeError",
     "evalue": "cannot convert dictionary update sequence element #0 to a sequence",
     "output_type": "error",
     "traceback": [
      "\u001b[1;31m---------------------------------------------------------------------------\u001b[0m",
      "\u001b[1;31mTypeError\u001b[0m                                 Traceback (most recent call last)",
      "\u001b[1;32m<ipython-input-52-9cf02918a3cf>\u001b[0m in \u001b[0;36m<module>\u001b[1;34m\u001b[0m\n\u001b[0;32m      7\u001b[0m \u001b[0mprint\u001b[0m\u001b[1;33m(\u001b[0m\u001b[1;34m\"List -->\"\u001b[0m\u001b[1;33m,\u001b[0m\u001b[0mlist\u001b[0m\u001b[1;33m(\u001b[0m\u001b[0ma\u001b[0m\u001b[1;33m)\u001b[0m\u001b[1;33m)\u001b[0m\u001b[1;33m\u001b[0m\u001b[1;33m\u001b[0m\u001b[0m\n\u001b[0;32m      8\u001b[0m \u001b[0mprint\u001b[0m\u001b[1;33m(\u001b[0m\u001b[1;34m\"Tuple -->\"\u001b[0m\u001b[1;33m,\u001b[0m\u001b[0mtuple\u001b[0m\u001b[1;33m(\u001b[0m\u001b[0ma\u001b[0m\u001b[1;33m)\u001b[0m\u001b[1;33m)\u001b[0m\u001b[1;33m\u001b[0m\u001b[1;33m\u001b[0m\u001b[0m\n\u001b[1;32m----> 9\u001b[1;33m \u001b[0mprint\u001b[0m\u001b[1;33m(\u001b[0m\u001b[1;34m\"Dict -->\"\u001b[0m\u001b[1;33m,\u001b[0m\u001b[0mdict\u001b[0m\u001b[1;33m(\u001b[0m\u001b[0ma\u001b[0m\u001b[1;33m)\u001b[0m\u001b[1;33m)\u001b[0m\u001b[1;33m\u001b[0m\u001b[1;33m\u001b[0m\u001b[0m\n\u001b[0m",
      "\u001b[1;31mTypeError\u001b[0m: cannot convert dictionary update sequence element #0 to a sequence"
     ]
    }
   ],
   "source": [
    "#set to others\n",
    "a = {412,4,123,5325,5,34,23,3}\n",
    "#print(\"int --> \",int(a))\n",
    "#print(\"float --> \",float(a))\n",
    "#print(\"Complex -->\",complex(a))\n",
    "print(\"String -->\",str(a))\n",
    "print(\"List -->\",list(a))\n",
    "print(\"Tuple -->\",tuple(a))\n",
    "print(\"Dict -->\",dict(a))"
   ]
  },
  {
   "cell_type": "code",
   "execution_count": 53,
   "metadata": {},
   "outputs": [
    {
     "name": "stdout",
     "output_type": "stream",
     "text": [
      "String --> {(23, 3), (412, 4), (5, 34), (123, 5325)}\n",
      "List --> [(23, 3), (412, 4), (5, 34), (123, 5325)]\n",
      "Tuple --> ((23, 3), (412, 4), (5, 34), (123, 5325))\n",
      "Dict --> {23: 3, 412: 4, 5: 34, 123: 5325}\n"
     ]
    }
   ],
   "source": [
    "#set to others\n",
    "a = {(412,4),(123,5325),(5,34),(23,3)}\n",
    "#print(\"int --> \",int(a))\n",
    "#print(\"float --> \",float(a))\n",
    "#print(\"Complex -->\",complex(a))\n",
    "print(\"String -->\",str(a))\n",
    "print(\"List -->\",list(a))\n",
    "print(\"Tuple -->\",tuple(a))\n",
    "print(\"Dict -->\",dict(a))"
   ]
  },
  {
   "cell_type": "code",
   "execution_count": null,
   "metadata": {},
   "outputs": [],
   "source": []
  }
 ],
 "metadata": {
  "kernelspec": {
   "display_name": "Python 3",
   "language": "python",
   "name": "python3"
  },
  "language_info": {
   "codemirror_mode": {
    "name": "ipython",
    "version": 3
   },
   "file_extension": ".py",
   "mimetype": "text/x-python",
   "name": "python",
   "nbconvert_exporter": "python",
   "pygments_lexer": "ipython3",
   "version": "3.8.5"
  }
 },
 "nbformat": 4,
 "nbformat_minor": 4
}
