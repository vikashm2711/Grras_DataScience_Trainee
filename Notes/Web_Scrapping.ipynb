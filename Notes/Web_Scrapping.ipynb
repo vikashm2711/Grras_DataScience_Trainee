{
 "cells": [
  {
   "cell_type": "markdown",
   "metadata": {},
   "source": [
    "    Web Scrapping is used to collect large information from website.\n",
    "    \n",
    "    \n",
    "    Applications Of Web Scrapping.\n",
    "    \n",
    "    --> Price Comparison\n",
    "    --> Research and Development\n",
    "    --> Social Media Scrapping\n",
    "    --> Job data Scrapping\n",
    "    \n",
    "    \n",
    "    Data Collection --> Unstructured --> Structure --> file, Database, DataFrames\n",
    "    \n",
    "    \n",
    "    Websites --> Domain name like --> www.geeksforgeeks.org\n",
    "    \n",
    "    if you want to check for legal or ilegal issues, then you can request on any domain by adding a page path\n",
    "    www.geeksforgeeks.org/robots.txt\n",
    "    \n",
    "    \n",
    "    \n",
    "   For WebScrapping we will use the following modules-->\n",
    "   \n",
    "   \n",
    "   1. BeautifulSoup --> Allow us to Scrap Data from the elements of a Website.\n",
    "   \n",
    "   2. Selenium --> Browser Automation Tool\n",
    "   \n",
    "   3. Pymysql or Pandas --> To store the data in a structured way.\n",
    "   "
   ]
  },
  {
   "cell_type": "code",
   "execution_count": 3,
   "metadata": {},
   "outputs": [],
   "source": [
    "from selenium import webdriver"
   ]
  },
  {
   "cell_type": "code",
   "execution_count": 7,
   "metadata": {},
   "outputs": [],
   "source": [
    "d = webdriver.Chrome(\"c:/Users/HP-PC/Desktop/chromedriver.exe\")"
   ]
  },
  {
   "cell_type": "code",
   "execution_count": 9,
   "metadata": {},
   "outputs": [],
   "source": [
    "d.get(\"https://www.flipkart.com/search?q=laptop&otracker=search&otracker1=search&marketplace=FLIPKART&as-show=on&as=off\")"
   ]
  },
  {
   "cell_type": "code",
   "execution_count": null,
   "metadata": {},
   "outputs": [],
   "source": [
    "#Product Name\n",
    "#Price"
   ]
  }
 ],
 "metadata": {
  "kernelspec": {
   "display_name": "Python 3",
   "language": "python",
   "name": "python3"
  },
  "language_info": {
   "codemirror_mode": {
    "name": "ipython",
    "version": 3
   },
   "file_extension": ".py",
   "mimetype": "text/x-python",
   "name": "python",
   "nbconvert_exporter": "python",
   "pygments_lexer": "ipython3",
   "version": "3.8.5"
  }
 },
 "nbformat": 4,
 "nbformat_minor": 4
}
