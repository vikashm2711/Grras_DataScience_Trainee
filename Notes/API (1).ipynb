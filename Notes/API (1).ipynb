{
 "cells": [
  {
   "cell_type": "code",
   "execution_count": 3,
   "metadata": {},
   "outputs": [],
   "source": [
    "import requests"
   ]
  },
  {
   "cell_type": "code",
   "execution_count": 7,
   "metadata": {},
   "outputs": [
    {
     "name": "stdout",
     "output_type": "stream",
     "text": [
      "Enter a Movie name --> Iron Man\n"
     ]
    }
   ],
   "source": [
    "movie= input(\"Enter a Movie name --> \")"
   ]
  },
  {
   "cell_type": "code",
   "execution_count": 8,
   "metadata": {},
   "outputs": [],
   "source": [
    "key= \"4Bv6j9Pf8rrJ1PGKKquotiplcT3t4IcH\""
   ]
  },
  {
   "cell_type": "code",
   "execution_count": 9,
   "metadata": {},
   "outputs": [],
   "source": [
    "url = f\"https://api.nytimes.com/svc/movies/v2/reviews/search.json?query={movie}&api-key={key}\""
   ]
  },
  {
   "cell_type": "code",
   "execution_count": 10,
   "metadata": {},
   "outputs": [
    {
     "data": {
      "text/plain": [
       "'https://api.nytimes.com/svc/movies/v2/reviews/search.json?query=Iron Man&api-key=4Bv6j9Pf8rrJ1PGKKquotiplcT3t4IcH'"
      ]
     },
     "execution_count": 10,
     "metadata": {},
     "output_type": "execute_result"
    }
   ],
   "source": [
    "url"
   ]
  },
  {
   "cell_type": "code",
   "execution_count": 12,
   "metadata": {},
   "outputs": [],
   "source": [
    "data = requests.get(url)"
   ]
  },
  {
   "cell_type": "code",
   "execution_count": 13,
   "metadata": {},
   "outputs": [
    {
     "data": {
      "text/plain": [
       "200"
      ]
     },
     "execution_count": 13,
     "metadata": {},
     "output_type": "execute_result"
    }
   ],
   "source": [
    "data.status_code"
   ]
  },
  {
   "cell_type": "code",
   "execution_count": 16,
   "metadata": {},
   "outputs": [],
   "source": [
    "data=data.json()"
   ]
  },
  {
   "cell_type": "code",
   "execution_count": 18,
   "metadata": {},
   "outputs": [
    {
     "data": {
      "text/plain": [
       "dict_keys(['status', 'copyright', 'has_more', 'num_results', 'results'])"
      ]
     },
     "execution_count": 18,
     "metadata": {},
     "output_type": "execute_result"
    }
   ],
   "source": [
    "data.keys()"
   ]
  },
  {
   "cell_type": "code",
   "execution_count": 28,
   "metadata": {},
   "outputs": [
    {
     "data": {
      "text/plain": [
       "'“Iron Man” is an unusually good superhero picture. Or at least — since it certainly has its problems — a superhero movie that’s good in unusual ways.'"
      ]
     },
     "execution_count": 28,
     "metadata": {},
     "output_type": "execute_result"
    }
   ],
   "source": [
    "data['results'][2]['summary_short']"
   ]
  },
  {
   "cell_type": "code",
   "execution_count": 39,
   "metadata": {},
   "outputs": [
    {
     "name": "stdout",
     "output_type": "stream",
     "text": [
      "Iron Man 3 \n",
      "\n",
      "“Iron Man 3,” with all its explosions so soon after the Boston Marathon bombings, underscores just how thoroughly terrorism and its aftermath have been colonized by the movies. \n",
      "\n",
      "Iron Man 2 \n",
      "\n",
      "The superhero sequel “Iron Man 2” has been turned over to its game and gifted cast: Robert Downey Jr., Gwyneth Paltrow, Mickey Rourke, Scarlett Johansson and Samuel L. Jackson. \n",
      "\n",
      "Iron Man \n",
      "\n",
      "“Iron Man” is an unusually good superhero picture. Or at least — since it certainly has its problems — a superhero movie that’s good in unusual ways. \n",
      "\n"
     ]
    }
   ],
   "source": [
    "for var in range(3):\n",
    "    print(data['results'][var]['display_title'],\"\\n\")\n",
    "    print(data['results'][var]['summary_short'],\"\\n\")"
   ]
  },
  {
   "cell_type": "code",
   "execution_count": 40,
   "metadata": {},
   "outputs": [],
   "source": [
    "from pprint import pprint"
   ]
  },
  {
   "cell_type": "code",
   "execution_count": 41,
   "metadata": {},
   "outputs": [
    {
     "name": "stdout",
     "output_type": "stream",
     "text": [
      "{'copyright': 'Copyright (c) 2021 The New York Times Company. All Rights '\n",
      "              'Reserved.',\n",
      " 'has_more': False,\n",
      " 'num_results': 4,\n",
      " 'results': [{'byline': 'MANOHLA DARGIS',\n",
      "              'critics_pick': 0,\n",
      "              'date_updated': '2017-11-02 04:18:16',\n",
      "              'display_title': 'Iron Man 3',\n",
      "              'headline': 'Bang, Boom: Terrorism as a Game',\n",
      "              'link': {'suggested_link_text': 'Read the New York Times Review '\n",
      "                                              'of Iron Man 3',\n",
      "                       'type': 'article',\n",
      "                       'url': 'https://www.nytimes.com/2013/05/03/movies/iron-man-3-with-robert-downey-jr.html'},\n",
      "              'mpaa_rating': 'PG-13',\n",
      "              'multimedia': None,\n",
      "              'opening_date': '2013-05-03',\n",
      "              'publication_date': '2013-05-02',\n",
      "              'summary_short': '“Iron Man 3,” with all its explosions so soon '\n",
      "                               'after the Boston Marathon bombings, '\n",
      "                               'underscores just how thoroughly terrorism and '\n",
      "                               'its aftermath have been colonized by the '\n",
      "                               'movies.'},\n",
      "             {'byline': 'A. O. SCOTT',\n",
      "              'critics_pick': 0,\n",
      "              'date_updated': '2017-11-02 04:18:11',\n",
      "              'display_title': 'Iron Man 2',\n",
      "              'headline': 'The Man in the Iron Irony',\n",
      "              'link': {'suggested_link_text': 'Read the New York Times Review '\n",
      "                                              'of Iron Man 2',\n",
      "                       'type': 'article',\n",
      "                       'url': 'https://www.nytimes.com/2010/05/07/movies/07iron.html'},\n",
      "              'mpaa_rating': 'PG-13',\n",
      "              'multimedia': None,\n",
      "              'opening_date': '2010-05-07',\n",
      "              'publication_date': '2010-05-06',\n",
      "              'summary_short': 'The superhero sequel “Iron Man 2” has been '\n",
      "                               'turned over to its game and gifted cast: '\n",
      "                               'Robert Downey Jr., Gwyneth Paltrow, Mickey '\n",
      "                               'Rourke, Scarlett Johansson and Samuel L. '\n",
      "                               'Jackson.'},\n",
      "             {'byline': 'A. O. SCOTT',\n",
      "              'critics_pick': 0,\n",
      "              'date_updated': '2017-11-02 04:18:07',\n",
      "              'display_title': 'Iron Man',\n",
      "              'headline': 'Heavy Suit, Light Touches',\n",
      "              'link': {'suggested_link_text': 'Read the New York Times Review '\n",
      "                                              'of Iron Man',\n",
      "                       'type': 'article',\n",
      "                       'url': 'https://www.nytimes.com/2008/05/02/movies/02iron.html'},\n",
      "              'mpaa_rating': 'PG-13',\n",
      "              'multimedia': None,\n",
      "              'opening_date': '2008-05-02',\n",
      "              'publication_date': '2008-05-02',\n",
      "              'summary_short': '“Iron Man” is an unusually good superhero '\n",
      "                               'picture. Or at least — since it certainly has '\n",
      "                               'its problems — a superhero movie that’s good '\n",
      "                               'in unusual ways.'},\n",
      "             {'byline': 'STEPHEN HOLDEN',\n",
      "              'critics_pick': 0,\n",
      "              'date_updated': '2017-11-02 04:16:09',\n",
      "              'display_title': 'Tetsuo: The Iron Man',\n",
      "              'headline': 'TETSUO: THE IRON MAN (MOVIE)',\n",
      "              'link': {'suggested_link_text': 'Read the New York Times Review '\n",
      "                                              'of Tetsuo: The Iron Man',\n",
      "                       'type': 'article',\n",
      "                       'url': 'https://www.nytimes.com/1992/04/22/movies/review-film-forgoing-the-flesh-for-metallic-pleasures.html'},\n",
      "              'mpaa_rating': 'Not Rated',\n",
      "              'multimedia': None,\n",
      "              'opening_date': None,\n",
      "              'publication_date': '1992-04-22',\n",
      "              'summary_short': ''}],\n",
      " 'status': 'OK'}\n"
     ]
    }
   ],
   "source": [
    "pprint(data)"
   ]
  },
  {
   "cell_type": "markdown",
   "metadata": {},
   "source": [
    "# Weather Data "
   ]
  },
  {
   "cell_type": "code",
   "execution_count": 1,
   "metadata": {},
   "outputs": [],
   "source": [
    "#openweather map --> HW"
   ]
  },
  {
   "cell_type": "code",
   "execution_count": 33,
   "metadata": {},
   "outputs": [],
   "source": [
    "key=\"Mmr8VF9HZErNLHxjugyJJBEGIxi9R8kD\""
   ]
  },
  {
   "cell_type": "code",
   "execution_count": 47,
   "metadata": {},
   "outputs": [
    {
     "name": "stdout",
     "output_type": "stream",
     "text": [
      "Enter City --> Guwahati\n"
     ]
    }
   ],
   "source": [
    "city= input(\"Enter City --> \")"
   ]
  },
  {
   "cell_type": "code",
   "execution_count": 48,
   "metadata": {},
   "outputs": [],
   "source": [
    "loc_url = f\"http://dataservice.accuweather.com/locations/v1/cities/search?apikey={key}&q={city}\""
   ]
  },
  {
   "cell_type": "code",
   "execution_count": 49,
   "metadata": {},
   "outputs": [
    {
     "data": {
      "text/plain": [
       "'http://dataservice.accuweather.com/locations/v1/cities/search?apikey=Mmr8VF9HZErNLHxjugyJJBEGIxi9R8kD&q=Guwahati'"
      ]
     },
     "execution_count": 49,
     "metadata": {},
     "output_type": "execute_result"
    }
   ],
   "source": [
    "loc_url"
   ]
  },
  {
   "cell_type": "code",
   "execution_count": 50,
   "metadata": {},
   "outputs": [],
   "source": [
    "import requests"
   ]
  },
  {
   "cell_type": "code",
   "execution_count": 51,
   "metadata": {},
   "outputs": [],
   "source": [
    "data = requests.get(loc_url)"
   ]
  },
  {
   "cell_type": "code",
   "execution_count": 52,
   "metadata": {},
   "outputs": [
    {
     "data": {
      "text/plain": [
       "<Response [200]>"
      ]
     },
     "execution_count": 52,
     "metadata": {},
     "output_type": "execute_result"
    }
   ],
   "source": [
    "data"
   ]
  },
  {
   "cell_type": "code",
   "execution_count": 53,
   "metadata": {},
   "outputs": [],
   "source": [
    "data = data.json()"
   ]
  },
  {
   "cell_type": "code",
   "execution_count": 54,
   "metadata": {},
   "outputs": [],
   "source": [
    "loc_key = data[0]['Key']"
   ]
  },
  {
   "cell_type": "code",
   "execution_count": 55,
   "metadata": {},
   "outputs": [],
   "source": [
    "final_url = f\"http://dataservice.accuweather.com/forecasts/v1/daily/1day/{loc_key}?apikey={key}&details=true&metric=true\""
   ]
  },
  {
   "cell_type": "code",
   "execution_count": 56,
   "metadata": {},
   "outputs": [],
   "source": [
    "d = requests.get(final_url)"
   ]
  },
  {
   "cell_type": "code",
   "execution_count": 57,
   "metadata": {},
   "outputs": [
    {
     "data": {
      "text/plain": [
       "<Response [200]>"
      ]
     },
     "execution_count": 57,
     "metadata": {},
     "output_type": "execute_result"
    }
   ],
   "source": [
    "d"
   ]
  },
  {
   "cell_type": "code",
   "execution_count": 58,
   "metadata": {},
   "outputs": [],
   "source": [
    "d = d.json()"
   ]
  },
  {
   "cell_type": "code",
   "execution_count": 59,
   "metadata": {},
   "outputs": [
    {
     "data": {
      "text/plain": [
       "{'Minimum': {'Value': 24.3, 'Unit': 'C', 'UnitType': 17},\n",
       " 'Maximum': {'Value': 32.0, 'Unit': 'C', 'UnitType': 17}}"
      ]
     },
     "execution_count": 59,
     "metadata": {},
     "output_type": "execute_result"
    }
   ],
   "source": [
    "d['DailyForecasts'][0]['Temperature']"
   ]
  },
  {
   "cell_type": "code",
   "execution_count": 60,
   "metadata": {},
   "outputs": [
    {
     "data": {
      "text/plain": [
       "{'Headline': {'EffectiveDate': '2021-06-06T01:00:00+05:30',\n",
       "  'EffectiveEpochDate': 1622921400,\n",
       "  'Severity': 2,\n",
       "  'Text': 'Thunderstorms, some strong, late Saturday night through Sunday morning',\n",
       "  'Category': 'thunderstorm',\n",
       "  'EndDate': '2021-06-06T13:00:00+05:30',\n",
       "  'EndEpochDate': 1622964600,\n",
       "  'MobileLink': 'http://m.accuweather.com/en/in/guwahati/186893/extended-weather-forecast/186893?unit=c&lang=en-us',\n",
       "  'Link': 'http://www.accuweather.com/en/in/guwahati/186893/daily-weather-forecast/186893?unit=c&lang=en-us'},\n",
       " 'DailyForecasts': [{'Date': '2021-06-01T07:00:00+05:30',\n",
       "   'EpochDate': 1622511000,\n",
       "   'Sun': {'Rise': '2021-06-01T04:31:00+05:30',\n",
       "    'EpochRise': 1622502060,\n",
       "    'Set': '2021-06-01T18:11:00+05:30',\n",
       "    'EpochSet': 1622551260},\n",
       "   'Moon': {'Rise': '2021-06-01T23:47:00+05:30',\n",
       "    'EpochRise': 1622571420,\n",
       "    'Set': '2021-06-02T11:13:00+05:30',\n",
       "    'EpochSet': 1622612580,\n",
       "    'Phase': 'WaningGibbous',\n",
       "    'Age': 20},\n",
       "   'Temperature': {'Minimum': {'Value': 24.3, 'Unit': 'C', 'UnitType': 17},\n",
       "    'Maximum': {'Value': 32.0, 'Unit': 'C', 'UnitType': 17}},\n",
       "   'RealFeelTemperature': {'Minimum': {'Value': 28.9,\n",
       "     'Unit': 'C',\n",
       "     'UnitType': 17},\n",
       "    'Maximum': {'Value': 38.3, 'Unit': 'C', 'UnitType': 17}},\n",
       "   'RealFeelTemperatureShade': {'Minimum': {'Value': 28.9,\n",
       "     'Unit': 'C',\n",
       "     'UnitType': 17},\n",
       "    'Maximum': {'Value': 36.4, 'Unit': 'C', 'UnitType': 17}},\n",
       "   'HoursOfSun': 2.8,\n",
       "   'DegreeDaySummary': {'Heating': {'Value': 0.0, 'Unit': 'C', 'UnitType': 17},\n",
       "    'Cooling': {'Value': 10.0, 'Unit': 'C', 'UnitType': 17}},\n",
       "   'AirAndPollen': [{'Name': 'AirQuality',\n",
       "     'Value': 0,\n",
       "     'Category': 'Good',\n",
       "     'CategoryValue': 1,\n",
       "     'Type': 'Ozone'},\n",
       "    {'Name': 'Grass', 'Value': 0, 'Category': 'Low', 'CategoryValue': 1},\n",
       "    {'Name': 'Mold', 'Value': 0, 'Category': 'Low', 'CategoryValue': 1},\n",
       "    {'Name': 'Ragweed', 'Value': 0, 'Category': 'Low', 'CategoryValue': 1},\n",
       "    {'Name': 'Tree', 'Value': 0, 'Category': 'Low', 'CategoryValue': 1},\n",
       "    {'Name': 'UVIndex',\n",
       "     'Value': 8,\n",
       "     'Category': 'Very High',\n",
       "     'CategoryValue': 4}],\n",
       "   'Day': {'Icon': 13,\n",
       "    'IconPhrase': 'Mostly cloudy w/ showers',\n",
       "    'HasPrecipitation': True,\n",
       "    'PrecipitationType': 'Rain',\n",
       "    'PrecipitationIntensity': 'Light',\n",
       "    'ShortPhrase': 'Warmer with clearing',\n",
       "    'LongPhrase': 'Warmer; considerable cloudiness this morning, then clouds and sun this afternoon',\n",
       "    'PrecipitationProbability': 50,\n",
       "    'ThunderstormProbability': 12,\n",
       "    'RainProbability': 50,\n",
       "    'SnowProbability': 0,\n",
       "    'IceProbability': 0,\n",
       "    'Wind': {'Speed': {'Value': 5.6, 'Unit': 'km/h', 'UnitType': 7},\n",
       "     'Direction': {'Degrees': 329, 'Localized': 'NNW', 'English': 'NNW'}},\n",
       "    'WindGust': {'Speed': {'Value': 18.5, 'Unit': 'km/h', 'UnitType': 7},\n",
       "     'Direction': {'Degrees': 61, 'Localized': 'ENE', 'English': 'ENE'}},\n",
       "    'TotalLiquid': {'Value': 0.5, 'Unit': 'mm', 'UnitType': 3},\n",
       "    'Rain': {'Value': 0.5, 'Unit': 'mm', 'UnitType': 3},\n",
       "    'Snow': {'Value': 0.0, 'Unit': 'cm', 'UnitType': 4},\n",
       "    'Ice': {'Value': 0.0, 'Unit': 'mm', 'UnitType': 3},\n",
       "    'HoursOfPrecipitation': 0.5,\n",
       "    'HoursOfRain': 0.5,\n",
       "    'HoursOfSnow': 0.0,\n",
       "    'HoursOfIce': 0.0,\n",
       "    'CloudCover': 87},\n",
       "   'Night': {'Icon': 15,\n",
       "    'IconPhrase': 'Thunderstorms',\n",
       "    'HasPrecipitation': True,\n",
       "    'PrecipitationType': 'Rain',\n",
       "    'PrecipitationIntensity': 'Moderate',\n",
       "    'ShortPhrase': 'A stray t-storm early; cloudy',\n",
       "    'LongPhrase': 'A stray evening thunderstorm; otherwise, considerable cloudiness',\n",
       "    'PrecipitationProbability': 44,\n",
       "    'ThunderstormProbability': 26,\n",
       "    'RainProbability': 44,\n",
       "    'SnowProbability': 0,\n",
       "    'IceProbability': 0,\n",
       "    'Wind': {'Speed': {'Value': 5.6, 'Unit': 'km/h', 'UnitType': 7},\n",
       "     'Direction': {'Degrees': 145, 'Localized': 'SE', 'English': 'SE'}},\n",
       "    'WindGust': {'Speed': {'Value': 9.3, 'Unit': 'km/h', 'UnitType': 7},\n",
       "     'Direction': {'Degrees': 156, 'Localized': 'SSE', 'English': 'SSE'}},\n",
       "    'TotalLiquid': {'Value': 3.0, 'Unit': 'mm', 'UnitType': 3},\n",
       "    'Rain': {'Value': 3.0, 'Unit': 'mm', 'UnitType': 3},\n",
       "    'Snow': {'Value': 0.0, 'Unit': 'cm', 'UnitType': 4},\n",
       "    'Ice': {'Value': 0.0, 'Unit': 'mm', 'UnitType': 3},\n",
       "    'HoursOfPrecipitation': 1.0,\n",
       "    'HoursOfRain': 1.0,\n",
       "    'HoursOfSnow': 0.0,\n",
       "    'HoursOfIce': 0.0,\n",
       "    'CloudCover': 93},\n",
       "   'Sources': ['AccuWeather'],\n",
       "   'MobileLink': 'http://m.accuweather.com/en/in/guwahati/186893/daily-weather-forecast/186893?day=1&unit=c&lang=en-us',\n",
       "   'Link': 'http://www.accuweather.com/en/in/guwahati/186893/daily-weather-forecast/186893?day=1&unit=c&lang=en-us'}]}"
      ]
     },
     "execution_count": 60,
     "metadata": {},
     "output_type": "execute_result"
    }
   ],
   "source": [
    "d"
   ]
  },
  {
   "cell_type": "code",
   "execution_count": 61,
   "metadata": {},
   "outputs": [],
   "source": [
    "#Coronavirus"
   ]
  },
  {
   "cell_type": "code",
   "execution_count": null,
   "metadata": {},
   "outputs": [],
   "source": [
    "5th feb 2020 - today"
   ]
  },
  {
   "cell_type": "code",
   "execution_count": 62,
   "metadata": {},
   "outputs": [],
   "source": [
    "#india"
   ]
  },
  {
   "cell_type": "markdown",
   "metadata": {},
   "source": [
    "# Covid-19 "
   ]
  },
  {
   "cell_type": "code",
   "execution_count": 64,
   "metadata": {},
   "outputs": [],
   "source": [
    "import requests\n",
    "\n",
    "url = \"https://covid-19-india-data-by-zt.p.rapidapi.com/GetIndiaHistoricalDataBetweenDates\"\n",
    "\n",
    "querystring = {\"start_date\":\"2020-02-05\",\"end_date\":\"2021-05-31\"}\n",
    "\n",
    "headers = {\n",
    "    'x-rapidapi-key': \"7cd6bf113fmsh7358008b99e2b68p131b68jsnf29f543d01fd\",\n",
    "    'x-rapidapi-host': \"covid-19-india-data-by-zt.p.rapidapi.com\"\n",
    "    }\n",
    "\n",
    "response = requests.request(\"GET\", url, headers=headers, params=querystring)\n",
    "\n",
    "#print(response.text)"
   ]
  },
  {
   "cell_type": "code",
   "execution_count": 66,
   "metadata": {},
   "outputs": [],
   "source": [
    "data=response.json()"
   ]
  },
  {
   "cell_type": "code",
   "execution_count": 80,
   "metadata": {},
   "outputs": [],
   "source": [
    "for var in range(len(data['records'])):\n",
    "    d = data['records'][var]['dateofrecord']\n",
    "    d_deaths =data['records'][var]['cases']['dailydeceased']\n",
    "    d_cnf = data['records'][var]['cases']['dailyconfirmed']\n",
    "    d_rec =data['records'][var]['cases']['dailyrecovered']"
   ]
  },
  {
   "cell_type": "code",
   "execution_count": 84,
   "metadata": {},
   "outputs": [],
   "source": [
    "with open(\"c:/Users/HP-PC/Desktop/covid.txt\",\"w\") as f:\n",
    "    f.write(\"Date\\t\\tDeath\\t\\tConfirmed\\tRecovered\\n\")\n",
    "    for var in range(len(data['records'])):\n",
    "        d = data['records'][var]['dateofrecord']\n",
    "        d_deaths =data['records'][var]['cases']['dailydeceased']\n",
    "        d_cnf = data['records'][var]['cases']['dailyconfirmed']\n",
    "        d_rec =data['records'][var]['cases']['dailyrecovered']\n",
    "        f.write(f\"{d}\\t{d_deaths}\\t\\t{d_cnf}\\t\\t{d_rec}\\n\")"
   ]
  },
  {
   "cell_type": "code",
   "execution_count": 85,
   "metadata": {},
   "outputs": [],
   "source": [
    "with open(\"c:/Users/HP-PC/Desktop/covid1.csv\",\"w\") as f:\n",
    "    f.write(\"Date,Death,Confirmed,Recovered\\n\")\n",
    "    for var in range(len(data['records'])):\n",
    "        d = data['records'][var]['dateofrecord']\n",
    "        d_deaths =data['records'][var]['cases']['dailydeceased']\n",
    "        d_cnf = data['records'][var]['cases']['dailyconfirmed']\n",
    "        d_rec =data['records'][var]['cases']['dailyrecovered']\n",
    "        f.write(f\"{d},{d_deaths},{d_cnf},{d_rec}\\n\")"
   ]
  }
 ],
 "metadata": {
  "kernelspec": {
   "display_name": "Python 3",
   "language": "python",
   "name": "python3"
  },
  "language_info": {
   "codemirror_mode": {
    "name": "ipython",
    "version": 3
   },
   "file_extension": ".py",
   "mimetype": "text/x-python",
   "name": "python",
   "nbconvert_exporter": "python",
   "pygments_lexer": "ipython3",
   "version": "3.8.5"
  }
 },
 "nbformat": 4,
 "nbformat_minor": 4
}
