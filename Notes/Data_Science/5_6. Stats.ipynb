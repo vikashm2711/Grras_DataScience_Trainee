{
 "cells": [
  {
   "cell_type": "code",
   "execution_count": 1,
   "metadata": {},
   "outputs": [],
   "source": [
    "import numpy as np"
   ]
  },
  {
   "cell_type": "code",
   "execution_count": 2,
   "metadata": {},
   "outputs": [],
   "source": [
    "from random import randint"
   ]
  },
  {
   "cell_type": "code",
   "execution_count": 11,
   "metadata": {},
   "outputs": [
    {
     "data": {
      "text/plain": [
       "7"
      ]
     },
     "execution_count": 11,
     "metadata": {},
     "output_type": "execute_result"
    }
   ],
   "source": [
    "randint(1, 10) # start = 1, stop = 10"
   ]
  },
  {
   "cell_type": "code",
   "execution_count": 8,
   "metadata": {},
   "outputs": [
    {
     "name": "stdout",
     "output_type": "stream",
     "text": [
      "Help on method randint in module random:\n",
      "\n",
      "randint(a, b) method of random.Random instance\n",
      "    Return random integer in range [a, b], including both end points.\n",
      "\n"
     ]
    }
   ],
   "source": [
    "help(randint)"
   ]
  },
  {
   "cell_type": "code",
   "execution_count": 18,
   "metadata": {},
   "outputs": [
    {
     "data": {
      "text/plain": [
       "array([ 3,  3, 10,  7,  6,  8,  4,  3,  4,  2,  6,  8,  6,  1,  6,  6,  5,\n",
       "        8,  4,  6])"
      ]
     },
     "execution_count": 18,
     "metadata": {},
     "output_type": "execute_result"
    }
   ],
   "source": [
    "np.random.randint(1, 11, 20)"
   ]
  },
  {
   "cell_type": "code",
   "execution_count": 17,
   "metadata": {},
   "outputs": [
    {
     "name": "stdout",
     "output_type": "stream",
     "text": [
      "Help on built-in function randint:\n",
      "\n",
      "randint(...) method of numpy.random.mtrand.RandomState instance\n",
      "    randint(low, high=None, size=None, dtype=int)\n",
      "    \n",
      "    Return random integers from `low` (inclusive) to `high` (exclusive).\n",
      "    \n",
      "    Return random integers from the \"discrete uniform\" distribution of\n",
      "    the specified dtype in the \"half-open\" interval [`low`, `high`). If\n",
      "    `high` is None (the default), then results are from [0, `low`).\n",
      "    \n",
      "    .. note::\n",
      "        New code should use the ``integers`` method of a ``default_rng()``\n",
      "        instance instead; please see the :ref:`random-quick-start`.\n",
      "    \n",
      "    Parameters\n",
      "    ----------\n",
      "    low : int or array-like of ints\n",
      "        Lowest (signed) integers to be drawn from the distribution (unless\n",
      "        ``high=None``, in which case this parameter is one above the\n",
      "        *highest* such integer).\n",
      "    high : int or array-like of ints, optional\n",
      "        If provided, one above the largest (signed) integer to be drawn\n",
      "        from the distribution (see above for behavior if ``high=None``).\n",
      "        If array-like, must contain integer values\n",
      "    size : int or tuple of ints, optional\n",
      "        Output shape.  If the given shape is, e.g., ``(m, n, k)``, then\n",
      "        ``m * n * k`` samples are drawn.  Default is None, in which case a\n",
      "        single value is returned.\n",
      "    dtype : dtype, optional\n",
      "        Desired dtype of the result. Byteorder must be native.\n",
      "        The default value is int.\n",
      "    \n",
      "        .. versionadded:: 1.11.0\n",
      "    \n",
      "    Returns\n",
      "    -------\n",
      "    out : int or ndarray of ints\n",
      "        `size`-shaped array of random integers from the appropriate\n",
      "        distribution, or a single such random int if `size` not provided.\n",
      "    \n",
      "    See Also\n",
      "    --------\n",
      "    random_integers : similar to `randint`, only for the closed\n",
      "        interval [`low`, `high`], and 1 is the lowest value if `high` is\n",
      "        omitted.\n",
      "    Generator.integers: which should be used for new code.\n",
      "    \n",
      "    Examples\n",
      "    --------\n",
      "    >>> np.random.randint(2, size=10)\n",
      "    array([1, 0, 0, 0, 1, 1, 0, 0, 1, 0]) # random\n",
      "    >>> np.random.randint(1, size=10)\n",
      "    array([0, 0, 0, 0, 0, 0, 0, 0, 0, 0])\n",
      "    \n",
      "    Generate a 2 x 4 array of ints between 0 and 4, inclusive:\n",
      "    \n",
      "    >>> np.random.randint(5, size=(2, 4))\n",
      "    array([[4, 0, 2, 1], # random\n",
      "           [3, 2, 2, 0]])\n",
      "    \n",
      "    Generate a 1 x 3 array with 3 different upper bounds\n",
      "    \n",
      "    >>> np.random.randint(1, [3, 5, 10])\n",
      "    array([2, 2, 9]) # random\n",
      "    \n",
      "    Generate a 1 by 3 array with 3 different lower bounds\n",
      "    \n",
      "    >>> np.random.randint([1, 5, 7], 10)\n",
      "    array([9, 8, 7]) # random\n",
      "    \n",
      "    Generate a 2 by 4 array using broadcasting with dtype of uint8\n",
      "    \n",
      "    >>> np.random.randint([1, 3, 5, 7], [[10], [20]], dtype=np.uint8)\n",
      "    array([[ 8,  6,  9,  7], # random\n",
      "           [ 1, 16,  9, 12]], dtype=uint8)\n",
      "\n"
     ]
    }
   ],
   "source": [
    "help(np.random.randint)"
   ]
  },
  {
   "cell_type": "code",
   "execution_count": 3,
   "metadata": {},
   "outputs": [],
   "source": [
    "arr = np.random.randint(0, 31, 30)"
   ]
  },
  {
   "cell_type": "code",
   "execution_count": 4,
   "metadata": {},
   "outputs": [
    {
     "data": {
      "text/plain": [
       "array([12, 21, 27, 19, 10,  7,  4, 24, 17,  9,  2, 18, 27,  6, 21, 22,  1,\n",
       "       15, 30,  3, 28, 12, 20,  7, 12, 21, 19, 27,  1, 28])"
      ]
     },
     "execution_count": 4,
     "metadata": {},
     "output_type": "execute_result"
    }
   ],
   "source": [
    "arr"
   ]
  },
  {
   "cell_type": "code",
   "execution_count": 22,
   "metadata": {},
   "outputs": [
    {
     "data": {
      "text/plain": [
       "3.0"
      ]
     },
     "execution_count": 22,
     "metadata": {},
     "output_type": "execute_result"
    }
   ],
   "source": [
    "np.floor(3.2)"
   ]
  },
  {
   "cell_type": "code",
   "execution_count": 23,
   "metadata": {},
   "outputs": [
    {
     "data": {
      "text/plain": [
       "4.0"
      ]
     },
     "execution_count": 23,
     "metadata": {},
     "output_type": "execute_result"
    }
   ],
   "source": [
    "np.ceil(3.2)"
   ]
  },
  {
   "cell_type": "code",
   "execution_count": 24,
   "metadata": {},
   "outputs": [],
   "source": [
    "arr = np.random.randint(0, 31, 30)"
   ]
  },
  {
   "cell_type": "code",
   "execution_count": 30,
   "metadata": {},
   "outputs": [
    {
     "data": {
      "text/plain": [
       "array([22, 24,  0, 25,  6,  0,  4, 21,  0,  9,  0, 23, 15, 30, 30,  8,  3,\n",
       "       12, 18, 12,  8,  0,  3, 20, 23,  6,  5, 30, 11, 12])"
      ]
     },
     "execution_count": 30,
     "metadata": {},
     "output_type": "execute_result"
    }
   ],
   "source": [
    "arr"
   ]
  },
  {
   "cell_type": "code",
   "execution_count": 33,
   "metadata": {},
   "outputs": [
    {
     "data": {
      "text/plain": [
       "8"
      ]
     },
     "execution_count": 33,
     "metadata": {},
     "output_type": "execute_result"
    }
   ],
   "source": [
    "def freq(arr, ll, ul):\n",
    "    count = 0\n",
    "    for val in range(ll, ul):\n",
    "        num = 0\n",
    "        for i in arr:\n",
    "            if i == val:\n",
    "                num += 1 # num = 1 + 1 = 2, 2 + 1 = 3\n",
    "        count += num # count = 0, count = 0 + 5 = 5\n",
    "        #print(val, num)\n",
    "    return count\n",
    "freq(arr, 0, 5) # ll = 0, ul = 5, \n",
    "# val = 0, num = 0, "
   ]
  },
  {
   "cell_type": "code",
   "execution_count": 40,
   "metadata": {},
   "outputs": [
    {
     "name": "stdout",
     "output_type": "stream",
     "text": [
      "|\tIntervals\t|\tFrequency\t|\n",
      "__________________________________________________\n",
      "|\t0 - 5\t\t|\t8\t\t|\n",
      "__________________________________________________\n",
      "|\t5 - 10\t\t|\t6\t\t|\n",
      "__________________________________________________\n",
      "|\t10 - 15\t\t|\t4\t\t|\n",
      "__________________________________________________\n",
      "|\t15 - 20\t\t|\t2\t\t|\n",
      "__________________________________________________\n",
      "|\t20 - 25\t\t|\t6\t\t|\n",
      "__________________________________________________\n",
      "|\t25 - 30\t\t|\t1\t\t|\n",
      "__________________________________________________\n",
      "|\t30 - 35\t\t|\t3\t\t|\n",
      "__________________________________________________\n"
     ]
    }
   ],
   "source": [
    "N = len(arr)\n",
    "k = round(1 + 3.322*np.log10(N))\n",
    "range_ = max(arr) - min(arr)\n",
    "size = int(np.ceil(range_/k))\n",
    "print(\"|\\tIntervals\\t|\\tFrequency\\t|\")\n",
    "print(\"_\"*50)\n",
    "for i in range(min(arr), max(arr)+1, size):\n",
    "    print(f\"|\\t{i} - {i+size}\\t\\t|\\t{freq(arr, i, i+size)}\\t\\t|\")\n",
    "    print(\"_\"*50)"
   ]
  },
  {
   "cell_type": "code",
   "execution_count": 48,
   "metadata": {},
   "outputs": [
    {
     "name": "stdout",
     "output_type": "stream",
     "text": [
      "|\tIntervals\t|\tFrequency\t|\tLess Than CF\t|\tMore Than CF\t|\n",
      "____________________________________________________________________________________________________\n",
      "|\t0 - 5\t\t|\t8\t\t|\t\t8\t|\t\t30\t|\n",
      "____________________________________________________________________________________________________\n",
      "|\t5 - 10\t\t|\t6\t\t|\t\t14\t|\t\t22\t|\n",
      "____________________________________________________________________________________________________\n",
      "|\t10 - 15\t\t|\t4\t\t|\t\t18\t|\t\t16\t|\n",
      "____________________________________________________________________________________________________\n",
      "|\t15 - 20\t\t|\t2\t\t|\t\t20\t|\t\t12\t|\n",
      "____________________________________________________________________________________________________\n",
      "|\t20 - 25\t\t|\t6\t\t|\t\t26\t|\t\t10\t|\n",
      "____________________________________________________________________________________________________\n",
      "|\t25 - 30\t\t|\t1\t\t|\t\t27\t|\t\t4\t|\n",
      "____________________________________________________________________________________________________\n",
      "|\t30 - 35\t\t|\t3\t\t|\t\t30\t|\t\t3\t|\n",
      "____________________________________________________________________________________________________\n"
     ]
    }
   ],
   "source": [
    "N = len(arr)\n",
    "k = round(1 + 3.322*np.log10(N))\n",
    "range_ = max(arr) - min(arr)\n",
    "size = int(np.ceil(range_/k))\n",
    "print(\"|\\tIntervals\\t|\\tFrequency\\t|\\tLess Than CF\\t|\\tMore Than CF\\t|\")\n",
    "print(\"_\"*100)\n",
    "lcf = 0\n",
    "mcf = len(arr)\n",
    "for i in range(min(arr), max(arr)+1, size):\n",
    "    c = freq(arr, i, i+size)\n",
    "    lcf += c\n",
    "    print(f\"|\\t{i} - {i+size}\\t\\t|\\t{c}\\t\\t|\\t\\t{lcf}\\t|\\t\\t{mcf}\\t|\")\n",
    "    mcf -= c\n",
    "    print(\"_\"*100)"
   ]
  },
  {
   "cell_type": "markdown",
   "metadata": {},
   "source": [
    "### More Questions\n",
    "\n",
    "    1. Find Cumulative Percentage Frequency Table\n",
    "    2. Calculate mean of grouped frequency distribution table\n",
    "    3. Calculate weighted Arithemetic mean"
   ]
  },
  {
   "cell_type": "markdown",
   "metadata": {},
   "source": [
    "        5     2\n",
    "        6     3\n",
    "        7     10\n",
    "        4     5"
   ]
  },
  {
   "cell_type": "code",
   "execution_count": 14,
   "metadata": {},
   "outputs": [
    {
     "name": "stdout",
     "output_type": "stream",
     "text": [
      "|\tIntervals\t|\tFrequency\t|\tMid\t|\td\t|\tfd\t|\n",
      "____________________________________________________________________________________________________\n",
      "|\t1 - 6\t\t|\t5\t\t|\t3\t|\t-2.0\t|\t-10.0\t|\n",
      "____________________________________________________________________________________________________\n",
      "|\t6 - 11\t\t|\t5\t\t|\t8\t|\t-1.0\t|\t-5.0\t|\n",
      "____________________________________________________________________________________________________\n",
      "|\t11 - 16\t\t|\t4\t\t|\t13\t|\t0.0\t|\t0.0\t|\n",
      "____________________________________________________________________________________________________\n",
      "|\t16 - 21\t\t|\t5\t\t|\t18\t|\t1.0\t|\t5.0\t|\n",
      "____________________________________________________________________________________________________\n",
      "|\t21 - 26\t\t|\t5\t\t|\t23\t|\t2.0\t|\t10.0\t|\n",
      "____________________________________________________________________________________________________\n",
      "|\t26 - 31\t\t|\t6\t\t|\t28\t|\t3.0\t|\t18.0\t|\n",
      "____________________________________________________________________________________________________\n"
     ]
    }
   ],
   "source": [
    "def freq(arr, ll, ul):\n",
    "    count = 0\n",
    "    for val in range(ll, ul):\n",
    "        num = 0\n",
    "        for i in arr:\n",
    "            if i == val:\n",
    "                num += 1 # num = 1 + 1 = 2, 2 + 1 = 3\n",
    "        count += num # count = 0, count = 0 + 5 = 5\n",
    "        #print(val, num)\n",
    "    return count\n",
    "def main():\n",
    "    N = len(arr)\n",
    "    k = round(1 + 3.322*np.log10(N))\n",
    "    range_ = max(arr) - min(arr)\n",
    "    size = int(np.ceil(range_/k))\n",
    "    print(\"|\\tIntervals\\t|\\tFrequency\\t|\\tMid\\t|\\td\\t|\\tfd\\t|\")\n",
    "    print(\"_\"*100)\n",
    "    mid = []\n",
    "    f = []\n",
    "    for i in range(min(arr), max(arr)+1, size):\n",
    "        ll = i\n",
    "        ul = i + size\n",
    "        m = (ll + ul)//2\n",
    "        mid.append(m)\n",
    "        f.append(freq(arr, i, i+size))\n",
    "    pos = round(len(mid)/2)\n",
    "    A = mid[pos-1]\n",
    "    d = [(mid[i] - A)/size for i in range(len(mid))]\n",
    "    fd = [f[i]*d[i] for i in range(len(f))]\n",
    "    c = 0\n",
    "    for i in range(min(arr), max(arr)+1, size):\n",
    "        print(f\"|\\t{i} - {i+size}\\t\\t|\\t{f[c]}\\t\\t|\\t{mid[c]}\\t|\\t{d[c]}\\t|\\t{fd[c]}\\t|\")\n",
    "        print(\"_\"*100)\n",
    "        c += 1\n",
    "main()"
   ]
  },
  {
   "cell_type": "code",
   "execution_count": 11,
   "metadata": {},
   "outputs": [
    {
     "data": {
      "text/plain": [
       "3.0"
      ]
     },
     "execution_count": 11,
     "metadata": {},
     "output_type": "execute_result"
    }
   ],
   "source": [
    "6/2"
   ]
  },
  {
   "cell_type": "markdown",
   "metadata": {},
   "source": [
    "### Quartiles\n",
    "\n",
    "    values --> 10 20 30 40 50\n",
    "    \n",
    "    Q2 --> Median of your data = 30\n",
    "    Q1 --> median of smaller values than the Q2 \n",
    "            median of 10 and 20 will be Q1\n",
    "    Q3 --> median of greater values than the Q2 \n",
    "            median of 40 and 50 will be Q3"
   ]
  },
  {
   "cell_type": "markdown",
   "metadata": {},
   "source": [
    "#### Measures of Spread\n",
    "\n",
    "    1. Deviation\n",
    "    2. Std Deviation\n",
    "    3. Variance\n",
    "    4. Range"
   ]
  },
  {
   "cell_type": "markdown",
   "metadata": {},
   "source": [
    "$$ deviation = \\frac{\\sum\\limits_{i=0}^N |(\\bar x - x_i)|} {N} $$\n",
    "\n",
    "$$ variance = \\frac{\\sum\\limits_{i=0}^N (\\bar x - x_i)^2} {N} $$\n",
    "\n",
    "$$ std = \\sqrt{\\frac{\\sum\\limits_{i=0}^N (\\bar x - x_i)^2} {N}} $$"
   ]
  },
  {
   "cell_type": "code",
   "execution_count": null,
   "metadata": {},
   "outputs": [],
   "source": []
  }
 ],
 "metadata": {
  "kernelspec": {
   "display_name": "Python 3",
   "language": "python",
   "name": "python3"
  },
  "language_info": {
   "codemirror_mode": {
    "name": "ipython",
    "version": 3
   },
   "file_extension": ".py",
   "mimetype": "text/x-python",
   "name": "python",
   "nbconvert_exporter": "python",
   "pygments_lexer": "ipython3",
   "version": "3.8.5"
  }
 },
 "nbformat": 4,
 "nbformat_minor": 4
}
