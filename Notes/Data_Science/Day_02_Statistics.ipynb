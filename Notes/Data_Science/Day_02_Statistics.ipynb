{
 "cells": [
  {
   "cell_type": "markdown",
   "metadata": {},
   "source": [
    "# Measures of Center"
   ]
  },
  {
   "cell_type": "markdown",
   "metadata": {},
   "source": [
    "1. Mean\n",
    "2. Median\n",
    "3. Mode"
   ]
  },
  {
   "cell_type": "markdown",
   "metadata": {},
   "source": [
    "# Latex"
   ]
  },
  {
   "cell_type": "markdown",
   "metadata": {},
   "source": [
    "$$\\text{Ravi Ramawat}$$\n",
    "\n",
    "\n",
    "$$\\sum \\limits^N_{i=1}$$\n",
    "\n",
    "$$\\theta$$\n",
    "\n",
    "$$x^2$$\n",
    "\n",
    "$$Co_2$$\n",
    "\n",
    "$$H_2O$$\n",
    "\n",
    "$$\\eta$$\n",
    "\n",
    "$$\\mu$$\n",
    "\n",
    "$$\\omega$$\n",
    "\n",
    "$$\\int$$\n",
    "\n",
    "$$\\frac{p}{q}$$\n",
    "\n",
    "$$\\pi$$\n",
    "\n",
    "$$\\phi$$\n",
    "\n",
    "$$\\sigma$$\n",
    "\n",
    "$$\\log$$\n",
    "\n",
    "$$\\alpha$$\n",
    "\n",
    "$$\\beta$$\n",
    "\n",
    "$$\\gamma$$\n",
    "\n",
    "$$\\lambda$$\n",
    "\n",
    "$$\\sqrt{144}$$\n",
    "\n",
    "$$\\partial$$"
   ]
  },
  {
   "cell_type": "markdown",
   "metadata": {},
   "source": [
    "# Mean"
   ]
  },
  {
   "cell_type": "markdown",
   "metadata": {},
   "source": [
    "It is avg of the given dataset"
   ]
  },
  {
   "cell_type": "markdown",
   "metadata": {},
   "source": [
    "$$\\text{Mean} = \\frac{\\text{Sum of obverservations}}{\\text{Total No of Observations}}$$"
   ]
  },
  {
   "cell_type": "code",
   "execution_count": 3,
   "metadata": {},
   "outputs": [],
   "source": [
    "l = [123,12,4,3,524,6,3,53,4,32,543,6,53,4,12,4,326,346,34,34]"
   ]
  },
  {
   "cell_type": "code",
   "execution_count": 5,
   "metadata": {},
   "outputs": [
    {
     "name": "stdout",
     "output_type": "stream",
     "text": [
      "Mean =  106.3\n"
     ]
    }
   ],
   "source": [
    "s = 0\n",
    "for var in l:\n",
    "    s+=var\n",
    "m = s/len(l)\n",
    "print(\"Mean = \",m)"
   ]
  },
  {
   "cell_type": "code",
   "execution_count": 6,
   "metadata": {},
   "outputs": [],
   "source": [
    "import statistics as stats"
   ]
  },
  {
   "cell_type": "code",
   "execution_count": 7,
   "metadata": {},
   "outputs": [
    {
     "data": {
      "text/plain": [
       "106.3"
      ]
     },
     "execution_count": 7,
     "metadata": {},
     "output_type": "execute_result"
    }
   ],
   "source": [
    "stats.mean(l)"
   ]
  },
  {
   "cell_type": "markdown",
   "metadata": {},
   "source": [
    "### Formula Representaion"
   ]
  },
  {
   "cell_type": "markdown",
   "metadata": {},
   "source": [
    "$$\\text{Mean }(\\bar{x}) = \\frac{1}{N}\\sum\\limits_{i=1}^Nx_i$$\n",
    "\n",
    "                                        where = x is observation\n",
    "                                                N is Total No of Observation"
   ]
  },
  {
   "cell_type": "markdown",
   "metadata": {},
   "source": [
    "#Modules\n",
    "\n",
    "    numpy --> Scientific Calculation\n",
    "    statistics --> Stats\n",
    "    pyplot --> data visulalization"
   ]
  },
  {
   "cell_type": "code",
   "execution_count": 9,
   "metadata": {},
   "outputs": [],
   "source": [
    "import numpy as np\n",
    "import matplotlib.pyplot as plt"
   ]
  },
  {
   "cell_type": "code",
   "execution_count": 10,
   "metadata": {},
   "outputs": [
    {
     "data": {
      "text/plain": [
       "[123, 12, 4, 3, 524, 6, 3, 53, 4, 32, 543, 6, 53, 4, 12, 4, 326, 346, 34, 34]"
      ]
     },
     "execution_count": 10,
     "metadata": {},
     "output_type": "execute_result"
    }
   ],
   "source": [
    "l"
   ]
  },
  {
   "cell_type": "code",
   "execution_count": 33,
   "metadata": {},
   "outputs": [
    {
     "data": {
      "image/png": "[encoded data removed]",
      "text/plain": [
       "<Figure size 1080x360 with 1 Axes>"
      ]
     },
     "metadata": {
      "needs_background": "light"
     },
     "output_type": "display_data"
    }
   ],
   "source": [
    "plt.figure(figsize=(15,5))\n",
    "x = [var for var in range(1,len(l)+1)]\n",
    "plt.scatter(x,l,c='g',ec='k',label = \"Data Points\")\n",
    "plt.plot([1,20],[m,m],'r-.',lw=3,label = \"Mean\")\n",
    "plt.xticks(x)\n",
    "plt.xlabel(\"No of Points\")\n",
    "plt.ylabel(\"Value of Points\")\n",
    "plt.legend()\n",
    "plt.grid()\n",
    "plt.show()"
   ]
  },
  {
   "cell_type": "code",
   "execution_count": 37,
   "metadata": {},
   "outputs": [
    {
     "data": {
      "image/png": "[encoded data removed]",
      "text/plain": [
       "<Figure size 1080x360 with 1 Axes>"
      ]
     },
     "metadata": {
      "needs_background": "light"
     },
     "output_type": "display_data"
    }
   ],
   "source": [
    "l1 = [123, 12, 4, 3, 1524, 6, 3, 53, 4, 32, 1543, 6, 53, 4, 12, 4, 326, 346, 34, 34]\n",
    "plt.figure(figsize=(15,5))\n",
    "x = [var for var in range(1,len(l1)+1)]\n",
    "plt.scatter(x,l1,c='g',ec='k',label = \"Data Points\")\n",
    "plt.plot([1,20],[np.mean(l1),np.mean(l1)],'r-.',lw=3,label = \"Mean\")\n",
    "plt.xticks(x)\n",
    "plt.xlabel(\"No of Points\")\n",
    "plt.ylabel(\"Value of Points\")\n",
    "plt.legend()\n",
    "plt.grid()\n",
    "plt.show()"
   ]
  },
  {
   "cell_type": "code",
   "execution_count": 36,
   "metadata": {},
   "outputs": [
    {
     "data": {
      "text/plain": [
       "206.3"
      ]
     },
     "execution_count": 36,
     "metadata": {},
     "output_type": "execute_result"
    }
   ],
   "source": [
    "np.mean(l1)"
   ]
  },
  {
   "cell_type": "code",
   "execution_count": 38,
   "metadata": {},
   "outputs": [
    {
     "data": {
      "image/png": "[encoded data removed]",
      "text/plain": [
       "<Figure size 1080x360 with 1 Axes>"
      ]
     },
     "metadata": {
      "needs_background": "light"
     },
     "output_type": "display_data"
    }
   ],
   "source": [
    "l2 = [123, 12, 4, 3, -1524, 6, 3, 53, 4, 32, -1543, 6, 53, 4, 12, 4, 326, 346, 34, 34]\n",
    "plt.figure(figsize=(15,5))\n",
    "x = [var for var in range(1,len(l2)+1)]\n",
    "plt.scatter(x,l2,c='g',ec='k',label = \"Data Points\")\n",
    "plt.plot([1,20],[np.mean(l2),np.mean(l2)],'r-.',lw=3,label = \"Mean\")\n",
    "plt.xticks(x)\n",
    "plt.xlabel(\"No of Points\")\n",
    "plt.ylabel(\"Value of Points\")\n",
    "plt.legend()\n",
    "plt.grid()\n",
    "plt.show()"
   ]
  },
  {
   "cell_type": "code",
   "execution_count": 40,
   "metadata": {},
   "outputs": [
    {
     "data": {
      "text/plain": [
       "-100.4"
      ]
     },
     "execution_count": 40,
     "metadata": {},
     "output_type": "execute_result"
    }
   ],
   "source": [
    "np.mean(l2)"
   ]
  },
  {
   "cell_type": "code",
   "execution_count": 41,
   "metadata": {},
   "outputs": [
    {
     "data": {
      "text/plain": [
       "9.555555555555555"
      ]
     },
     "execution_count": 41,
     "metadata": {},
     "output_type": "execute_result"
    }
   ],
   "source": [
    "stats.mean([ 5, 8, 15, 7, 10, 22, 3, 1, 15])"
   ]
  },
  {
   "cell_type": "markdown",
   "metadata": {},
   "source": [
    "# Median"
   ]
  },
  {
   "cell_type": "markdown",
   "metadata": {},
   "source": [
    "it is the middle value of our dataset where all the values of the dataset will be in sorted form"
   ]
  },
  {
   "cell_type": "markdown",
   "metadata": {},
   "source": [
    "### For Odd Number of Observations\n",
    "\n",
    "                    \n",
    "        "
   ]
  },
  {
   "cell_type": "markdown",
   "metadata": {},
   "source": [
    "$$\\text{Median } \\mu = \\frac{n+1}{2}$$"
   ]
  },
  {
   "cell_type": "markdown",
   "metadata": {},
   "source": [
    "### For Even Number of Observations"
   ]
  },
  {
   "cell_type": "markdown",
   "metadata": {},
   "source": [
    "$$ i_1 = \\frac {N} {2} $$\n",
    "$$ i_2 = \\frac {N+2} / {2} $$\n",
    "\n",
    "$$ \\mu = \\frac {X[i_1] + X[i_2]} {2} $$"
   ]
  },
  {
   "cell_type": "code",
   "execution_count": 42,
   "metadata": {},
   "outputs": [
    {
     "data": {
      "text/plain": [
       "[123, 12, 4, 3, 524, 6, 3, 53, 4, 32, 543, 6, 53, 4, 12, 4, 326, 346, 34, 34]"
      ]
     },
     "execution_count": 42,
     "metadata": {},
     "output_type": "execute_result"
    }
   ],
   "source": [
    "l"
   ]
  },
  {
   "cell_type": "code",
   "execution_count": 44,
   "metadata": {},
   "outputs": [],
   "source": [
    "length = len(l)"
   ]
  },
  {
   "cell_type": "code",
   "execution_count": 45,
   "metadata": {},
   "outputs": [],
   "source": [
    "l.sort()"
   ]
  },
  {
   "cell_type": "code",
   "execution_count": 46,
   "metadata": {},
   "outputs": [
    {
     "data": {
      "text/plain": [
       "[3, 3, 4, 4, 4, 4, 6, 6, 12, 12, 32, 34, 34, 53, 53, 123, 326, 346, 524, 543]"
      ]
     },
     "execution_count": 46,
     "metadata": {},
     "output_type": "execute_result"
    }
   ],
   "source": [
    "l"
   ]
  },
  {
   "cell_type": "code",
   "execution_count": 49,
   "metadata": {},
   "outputs": [
    {
     "data": {
      "text/plain": [
       "22.0"
      ]
     },
     "execution_count": 49,
     "metadata": {},
     "output_type": "execute_result"
    }
   ],
   "source": [
    "(l[9]+l[10])/2"
   ]
  },
  {
   "cell_type": "code",
   "execution_count": 50,
   "metadata": {},
   "outputs": [
    {
     "data": {
      "text/plain": [
       "22.0"
      ]
     },
     "execution_count": 50,
     "metadata": {},
     "output_type": "execute_result"
    }
   ],
   "source": [
    "np.median(l)"
   ]
  },
  {
   "cell_type": "code",
   "execution_count": 51,
   "metadata": {},
   "outputs": [
    {
     "data": {
      "image/png": "[encoded data removed]",
      "text/plain": [
       "<Figure size 1080x360 with 1 Axes>"
      ]
     },
     "metadata": {
      "needs_background": "light"
     },
     "output_type": "display_data"
    }
   ],
   "source": [
    "plt.figure(figsize=(15,5))\n",
    "x = [var for var in range(1,len(l)+1)]\n",
    "plt.scatter(x,l,c='g',ec='k',label = \"Data Points\")\n",
    "plt.plot([1,20],[np.mean(l),np.mean(l)],'r-.',lw=3,label = \"Mean\")\n",
    "plt.plot([1,20],[np.median(l),np.median(l)],'b-.',lw=3,label = \"Medain\")\n",
    "plt.xticks(x)\n",
    "plt.xlabel(\"No of Points\")\n",
    "plt.ylabel(\"Value of Points\")\n",
    "plt.legend()\n",
    "plt.grid()\n",
    "plt.show()"
   ]
  },
  {
   "cell_type": "code",
   "execution_count": 52,
   "metadata": {},
   "outputs": [
    {
     "data": {
      "text/plain": [
       "[3, 3, 4, 4, 4, 4, 6, 6, 12, 12, 32, 34, 34, 53, 53, 123, 326, 346, 524, 543]"
      ]
     },
     "execution_count": 52,
     "metadata": {},
     "output_type": "execute_result"
    }
   ],
   "source": [
    "l"
   ]
  },
  {
   "cell_type": "code",
   "execution_count": 53,
   "metadata": {},
   "outputs": [],
   "source": [
    "l[l.index(524)] = 1300\n",
    "l[l.index(543)] = 1500"
   ]
  },
  {
   "cell_type": "code",
   "execution_count": 54,
   "metadata": {},
   "outputs": [
    {
     "name": "stdout",
     "output_type": "stream",
     "text": [
      "[3, 3, 4, 4, 4, 4, 6, 6, 12, 12, 32, 34, 34, 53, 53, 123, 326, 346, 1300, 1500]\n"
     ]
    }
   ],
   "source": [
    "print(l)"
   ]
  },
  {
   "cell_type": "code",
   "execution_count": 55,
   "metadata": {},
   "outputs": [
    {
     "data": {
      "image/png": "[encoded data removed]",
      "text/plain": [
       "<Figure size 1080x360 with 1 Axes>"
      ]
     },
     "metadata": {
      "needs_background": "light"
     },
     "output_type": "display_data"
    }
   ],
   "source": [
    "plt.figure(figsize=(15,5))\n",
    "x = [var for var in range(1,len(l)+1)]\n",
    "plt.scatter(x,l,c='g',ec='k',label = \"Data Points\")\n",
    "plt.plot([1,20],[np.mean(l),np.mean(l)],'r-.',lw=3,label = \"Mean\")\n",
    "plt.plot([1,20],[np.median(l),np.median(l)],'b-.',lw=3,label = \"Medain\")\n",
    "plt.xticks(x)\n",
    "plt.xlabel(\"No of Points\")\n",
    "plt.ylabel(\"Value of Points\")\n",
    "plt.legend()\n",
    "plt.grid()\n",
    "plt.show()"
   ]
  },
  {
   "cell_type": "code",
   "execution_count": 56,
   "metadata": {},
   "outputs": [
    {
     "data": {
      "text/plain": [
       "192.95"
      ]
     },
     "execution_count": 56,
     "metadata": {},
     "output_type": "execute_result"
    }
   ],
   "source": [
    "np.mean(l)"
   ]
  },
  {
   "cell_type": "code",
   "execution_count": 57,
   "metadata": {},
   "outputs": [
    {
     "data": {
      "text/plain": [
       "22.0"
      ]
     },
     "execution_count": 57,
     "metadata": {},
     "output_type": "execute_result"
    }
   ],
   "source": [
    "np.median(l)"
   ]
  },
  {
   "cell_type": "code",
   "execution_count": 62,
   "metadata": {},
   "outputs": [],
   "source": [
    "l=l[:-2]"
   ]
  },
  {
   "cell_type": "code",
   "execution_count": 70,
   "metadata": {},
   "outputs": [
    {
     "data": {
      "image/png": "[encoded data removed]",
      "text/plain": [
       "<Figure size 1080x360 with 1 Axes>"
      ]
     },
     "metadata": {
      "needs_background": "light"
     },
     "output_type": "display_data"
    }
   ],
   "source": [
    "plt.figure(figsize=(15,5))\n",
    "x = [var for var in range(1,len(l)+1)]\n",
    "plt.scatter(x,l,c='g',ec='k',label = \"Data Points\")\n",
    "plt.plot([1,20],[np.mean(l),np.mean(l)],'r-.',lw=3,label = \"Mean\")\n",
    "plt.plot([1,20],[np.median(l),np.median(l)],'b-.',lw=3,label = \"Medain\")\n",
    "plt.xticks(x)\n",
    "plt.xlabel(\"No of Points\")\n",
    "plt.ylabel(\"Value of Points\")\n",
    "plt.legend()\n",
    "plt.grid()\n",
    "plt.show()"
   ]
  },
  {
   "cell_type": "code",
   "execution_count": 69,
   "metadata": {},
   "outputs": [
    {
     "data": {
      "text/plain": [
       "9.0"
      ]
     },
     "execution_count": 69,
     "metadata": {},
     "output_type": "execute_result"
    }
   ],
   "source": [
    "np.median(l)"
   ]
  },
  {
   "cell_type": "code",
   "execution_count": 71,
   "metadata": {},
   "outputs": [
    {
     "data": {
      "text/plain": [
       "86.6875"
      ]
     },
     "execution_count": 71,
     "metadata": {},
     "output_type": "execute_result"
    }
   ],
   "source": [
    "np.mean(l)"
   ]
  }
 ],
 "metadata": {
  "kernelspec": {
   "display_name": "Python 3",
   "language": "python",
   "name": "python3"
  },
  "language_info": {
   "codemirror_mode": {
    "name": "ipython",
    "version": 3
   },
   "file_extension": ".py",
   "mimetype": "text/x-python",
   "name": "python",
   "nbconvert_exporter": "python",
   "pygments_lexer": "ipython3",
   "version": "3.8.5"
  }
 },
 "nbformat": 4,
 "nbformat_minor": 4
}
