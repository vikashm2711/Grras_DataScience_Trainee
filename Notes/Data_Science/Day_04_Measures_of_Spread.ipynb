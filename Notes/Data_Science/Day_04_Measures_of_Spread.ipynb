{
 "cells": [
  {
   "cell_type": "code",
   "execution_count": 1,
   "metadata": {},
   "outputs": [],
   "source": [
    "#Histogram"
   ]
  },
  {
   "cell_type": "code",
   "execution_count": 2,
   "metadata": {},
   "outputs": [],
   "source": [
    "import numpy as np\n",
    "import matplotlib.pyplot as plt"
   ]
  },
  {
   "cell_type": "code",
   "execution_count": 4,
   "metadata": {},
   "outputs": [],
   "source": [
    "from random import randint"
   ]
  },
  {
   "cell_type": "code",
   "execution_count": 5,
   "metadata": {},
   "outputs": [],
   "source": [
    "l = [randint(1,100) for var in range(100)]"
   ]
  },
  {
   "cell_type": "code",
   "execution_count": 6,
   "metadata": {},
   "outputs": [
    {
     "name": "stdout",
     "output_type": "stream",
     "text": [
      "[59, 62, 81, 25, 1, 42, 37, 32, 73, 86, 88, 83, 14, 23, 33, 26, 55, 53, 29, 8, 19, 89, 38, 52, 87, 12, 2, 18, 80, 4, 38, 94, 66, 79, 45, 27, 84, 50, 14, 99, 99, 9, 10, 82, 83, 73, 40, 35, 18, 95, 96, 63, 22, 6, 13, 34, 5, 38, 81, 77, 30, 47, 74, 21, 12, 20, 62, 91, 77, 59, 30, 36, 2, 72, 59, 51, 37, 5, 80, 87, 73, 60, 16, 91, 1, 33, 42, 40, 18, 83, 52, 1, 57, 13, 52, 56, 21, 18, 60, 55]\n"
     ]
    }
   ],
   "source": [
    "print(l)"
   ]
  },
  {
   "cell_type": "code",
   "execution_count": 10,
   "metadata": {},
   "outputs": [],
   "source": [
    "l.sort()"
   ]
  },
  {
   "cell_type": "code",
   "execution_count": 12,
   "metadata": {},
   "outputs": [
    {
     "name": "stdout",
     "output_type": "stream",
     "text": [
      "[1, 1, 1, 2, 2, 4, 5, 5, 6, 8, 9, 10, 12, 12, 13, 13, 14, 14, 16, 18, 18, 18, 18, 19, 20, 21, 21, 22, 23, 25, 26, 27, 29, 30, 30, 32, 33, 33, 34, 35, 36, 37, 37, 38, 38, 38, 40, 40, 42, 42, 45, 47, 50, 51, 52, 52, 52, 53, 55, 55, 56, 57, 59, 59, 59, 60, 60, 62, 62, 63, 66, 72, 73, 73, 73, 74, 77, 77, 79, 80, 80, 81, 81, 82, 83, 83, 83, 84, 86, 87, 87, 88, 89, 91, 91, 94, 95, 96, 99, 99]\n"
     ]
    }
   ],
   "source": [
    "print(l)"
   ]
  },
  {
   "cell_type": "code",
   "execution_count": 31,
   "metadata": {},
   "outputs": [],
   "source": [
    "a = np.random.randint(1,100,10000)"
   ]
  },
  {
   "cell_type": "code",
   "execution_count": 32,
   "metadata": {},
   "outputs": [
    {
     "data": {
      "image/png": "[encoded data removed]",
      "text/plain": [
       "<Figure size 432x288 with 1 Axes>"
      ]
     },
     "metadata": {
      "needs_background": "light"
     },
     "output_type": "display_data"
    }
   ],
   "source": [
    "plt.hist(a,bins=40,ec='k',color='#49ea')\n",
    "plt.show()"
   ]
  },
  {
   "cell_type": "code",
   "execution_count": 33,
   "metadata": {},
   "outputs": [],
   "source": [
    "b=  np.random.uniform(1,100,500)"
   ]
  },
  {
   "cell_type": "code",
   "execution_count": 36,
   "metadata": {},
   "outputs": [
    {
     "data": {
      "image/png": "[encoded data removed]",
      "text/plain": [
       "<Figure size 432x288 with 1 Axes>"
      ]
     },
     "metadata": {
      "needs_background": "light"
     },
     "output_type": "display_data"
    }
   ],
   "source": [
    "plt.hist(b,bins=70,color=\"#45a9\",ec='k')\n",
    "plt.show()"
   ]
  },
  {
   "cell_type": "code",
   "execution_count": 43,
   "metadata": {},
   "outputs": [],
   "source": [
    "x = np.random.normal(5.0,2.5,10000)"
   ]
  },
  {
   "cell_type": "code",
   "execution_count": 44,
   "metadata": {},
   "outputs": [
    {
     "data": {
      "image/png": "[encoded data removed]",
      "text/plain": [
       "<Figure size 432x288 with 1 Axes>"
      ]
     },
     "metadata": {
      "needs_background": "light"
     },
     "output_type": "display_data"
    }
   ],
   "source": [
    "plt.hist(x,bins=70,color=\"#45a9\",ec='k')\n",
    "plt.show()"
   ]
  },
  {
   "cell_type": "code",
   "execution_count": 46,
   "metadata": {},
   "outputs": [
    {
     "data": {
      "text/plain": [
       "5.027201661865779"
      ]
     },
     "execution_count": 46,
     "metadata": {},
     "output_type": "execute_result"
    }
   ],
   "source": [
    "np.mean(x)"
   ]
  },
  {
   "cell_type": "code",
   "execution_count": 47,
   "metadata": {},
   "outputs": [
    {
     "data": {
      "text/plain": [
       "5.0102788094209885"
      ]
     },
     "execution_count": 47,
     "metadata": {},
     "output_type": "execute_result"
    }
   ],
   "source": [
    "np.median(x)"
   ]
  },
  {
   "cell_type": "code",
   "execution_count": 57,
   "metadata": {},
   "outputs": [
    {
     "data": {
      "image/png": "[encoded data removed]",
      "text/plain": [
       "<Figure size 432x288 with 1 Axes>"
      ]
     },
     "metadata": {
      "needs_background": "light"
     },
     "output_type": "display_data"
    }
   ],
   "source": [
    "plt.hist(x,bins=70,color=\"#45a9\",ec='k')\n",
    "plt.plot([np.mean(x),np.mean(x)],[0,500],'r',label='Mean') #line plot\n",
    "plt.plot([np.median(x),np.median(x)],[0,500],'g',label=\"Median\")\n",
    "plt.show()\n",
    "plt.show()"
   ]
  },
  {
   "cell_type": "code",
   "execution_count": 59,
   "metadata": {},
   "outputs": [
    {
     "name": "stdout",
     "output_type": "stream",
     "text": [
      "[20, 1, 13, 19, 19, 17, 20, 12, 8, 3, 18, 11, 19, 6, 16, 7, 8, 12, 11, 6, 14, 17, 2, 4, 20, 12, 6, 5, 3, 5, 1, 6, 6, 10, 10, 17, 15, 7, 7, 10, 11, 5, 20, 9, 19, 4, 19, 1, 2, 14, 4, 9, 7, 14, 6, 19, 16, 15, 5, 9, 9, 18, 12, 1, 8, 17, 11, 17, 18, 14, 14, 11, 7, 4, 2, 16, 1, 18, 7, 15, 8, 14, 14, 3, 17, 17, 20, 15, 14, 8, 15, 5, 11, 3, 16, 14, 18, 10, 5, 5, 15, 18, 4, 18, 12, 15, 15, 14, 13, 10, 9, 10, 9, 4, 1, 4, 1, 17, 3, 9, 6, 15, 6, 3, 11, 4, 4, 9, 15, 11, 9, 19, 15, 10, 4, 13, 15, 7, 20, 16, 11, 14, 7, 12, 17, 1, 8, 13, 10, 14, 9, 13, 4, 14, 9, 8, 8, 17, 8, 12, 1, 2, 11, 5, 16, 9, 13, 12, 16, 15, 13, 2, 9, 1, 17, 14, 9, 11, 9, 16, 12, 8, 4, 17, 5, 14, 15, 17, 9, 10, 4, 13, 3, 18, 16, 14, 12, 20, 17, 12, 14, 20, 6, 7, 14, 13, 20, 4, 1, 8, 6, 15, 17, 3, 7, 14, 5, 15, 1, 19, 16, 7, 13, 5, 15, 12, 14, 9, 19, 4, 7, 20, 10, 20, 5, 17, 20, 12, 7, 10, 4, 3, 12, 10, 5, 12, 14, 19, 10, 13, 9, 16, 19, 16, 17, 15, 9, 8, 13, 8, 16, 16, 18, 15, 11, 8, 18, 11, 10, 6, 17, 17, 10, 13, 13, 18, 11, 13, 4, 10, 16, 11, 6, 7, 12, 12, 20, 20, 3, 3, 8, 10, 16, 6, 20, 8, 9, 7, 13, 16, 9, 6, 18, 5, 6, 5, 12, 2, 18, 2, 13, 20, 16, 7, 1, 7, 1, 14, 15, 8, 11, 6, 8, 7, 8, 13, 7, 9, 2, 10, 5, 19, 1, 11, 14, 12, 4, 12, 16, 5, 1, 14, 7, 17, 7, 13, 18, 15, 9, 7, 15, 3, 16, 16, 8, 9, 12, 3, 5, 8, 13, 18, 2, 19, 2, 4, 4, 20, 6, 16, 4, 12, 12, 18, 8, 8, 17, 20, 11, 11, 10, 19, 15, 16, 9, 14, 3, 19, 1, 13, 13, 10, 1, 16, 17, 11, 19, 7, 13, 18, 12, 7, 6, 1, 11, 17, 19, 16, 7, 6, 19, 17, 15, 2, 12, 3, 14, 9, 7, 11, 3, 3, 16, 2, 13, 10, 6, 13, 12, 14, 8, 6, 6, 15, 9, 6, 3, 10, 7, 17, 2, 5, 7, 14, 13, 8, 18, 19, 3, 7, 7, 12, 3, 7, 16, 18, 12, 10, 13, 1, 1, 8, 18, 10, 8, 4, 16, 10, 8, 1, 2, 18, 13, 18, 2, 15, 11, 16, 4, 10, 10, 16, 5, 1, 17, 15, 2, 7, 12, 20, 4, 10, 19, 10, 17, 8, 2, 12, 12, 20]\n"
     ]
    }
   ],
   "source": [
    "data = lambda x,y,n: [randint(x,y) for var in range(n)]\n",
    "print(data(1,20,500))"
   ]
  },
  {
   "cell_type": "code",
   "execution_count": 72,
   "metadata": {},
   "outputs": [],
   "source": [
    "l= 5, 8, 8, 10, 12"
   ]
  },
  {
   "cell_type": "code",
   "execution_count": 70,
   "metadata": {},
   "outputs": [],
   "source": [
    "l.sort()"
   ]
  },
  {
   "cell_type": "code",
   "execution_count": 73,
   "metadata": {},
   "outputs": [
    {
     "data": {
      "text/plain": [
       "8.0"
      ]
     },
     "execution_count": 73,
     "metadata": {},
     "output_type": "execute_result"
    }
   ],
   "source": [
    "np.median(l)"
   ]
  },
  {
   "cell_type": "code",
   "execution_count": 71,
   "metadata": {},
   "outputs": [
    {
     "data": {
      "text/plain": [
       "[1, 1, 2, 3, 4, 5, 8, 8, 10, 12]"
      ]
     },
     "execution_count": 71,
     "metadata": {},
     "output_type": "execute_result"
    }
   ],
   "source": [
    "l"
   ]
  },
  {
   "cell_type": "markdown",
   "metadata": {},
   "source": [
    "# Variance & STD"
   ]
  },
  {
   "cell_type": "markdown",
   "metadata": {},
   "source": [
    "$$\\text{ Variance }(\\sigma^2) = \\frac{1}{N}\\sum\\limits_{i=1}^N(x_i - \\bar{x})^2$$"
   ]
  },
  {
   "cell_type": "markdown",
   "metadata": {},
   "source": [
    "$$\\text{ Standard Deviation }(\\sigma) = \\sqrt{\\frac{1}{N}\\sum\\limits_{i=1}^N(x_i - \\bar{x})^2}$$"
   ]
  },
  {
   "cell_type": "code",
   "execution_count": 77,
   "metadata": {},
   "outputs": [],
   "source": [
    "x = np.arange(100)\n",
    "y = np.random.randint(1,100,100)"
   ]
  },
  {
   "cell_type": "code",
   "execution_count": 94,
   "metadata": {},
   "outputs": [
    {
     "data": {
      "image/png": "[encoded data removed]",
      "text/plain": [
       "<Figure size 1080x360 with 1 Axes>"
      ]
     },
     "metadata": {
      "needs_background": "light"
     },
     "output_type": "display_data"
    }
   ],
   "source": [
    "plt.figure(figsize=(15,5))\n",
    "plt.scatter(x,y,c='g',ec='k')\n",
    "plt.plot([0,100],[np.mean(y),np.mean(y)],'r-',lw=3,label=\"Mean\")\n",
    "plt.ylim(-20,120)\n",
    "plt.legend()\n",
    "plt.show()"
   ]
  },
  {
   "cell_type": "code",
   "execution_count": null,
   "metadata": {},
   "outputs": [],
   "source": []
  }
 ],
 "metadata": {
  "kernelspec": {
   "display_name": "Python 3",
   "language": "python",
   "name": "python3"
  },
  "language_info": {
   "codemirror_mode": {
    "name": "ipython",
    "version": 3
   },
   "file_extension": ".py",
   "mimetype": "text/x-python",
   "name": "python",
   "nbconvert_exporter": "python",
   "pygments_lexer": "ipython3",
   "version": "3.8.5"
  }
 },
 "nbformat": 4,
 "nbformat_minor": 4
}
