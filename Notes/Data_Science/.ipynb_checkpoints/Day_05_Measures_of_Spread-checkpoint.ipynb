{
 "cells": [
  {
   "cell_type": "code",
   "execution_count": 1,
   "metadata": {
    "ExecuteTime": {
     "end_time": "2021-08-12T05:49:27.551405Z",
     "start_time": "2021-08-12T05:49:25.966178Z"
    }
   },
   "outputs": [],
   "source": [
    "import numpy as np\n",
    "import matplotlib.pyplot as plt\n",
    "from random import randint"
   ]
  },
  {
   "cell_type": "code",
   "execution_count": 2,
   "metadata": {
    "ExecuteTime": {
     "end_time": "2021-08-12T05:49:27.567396Z",
     "start_time": "2021-08-12T05:49:27.554404Z"
    }
   },
   "outputs": [],
   "source": [
    "x = [var for var in range(1,101)]\n",
    "y = [randint(1,20) for var in range(100)]"
   ]
  },
  {
   "cell_type": "code",
   "execution_count": 3,
   "metadata": {
    "ExecuteTime": {
     "end_time": "2021-08-12T05:49:27.628360Z",
     "start_time": "2021-08-12T05:49:27.571394Z"
    }
   },
   "outputs": [
    {
     "data": {
      "text/plain": [
       "100"
      ]
     },
     "execution_count": 3,
     "metadata": {},
     "output_type": "execute_result"
    }
   ],
   "source": [
    "len(x)"
   ]
  },
  {
   "cell_type": "code",
   "execution_count": 4,
   "metadata": {
    "ExecuteTime": {
     "end_time": "2021-08-12T05:49:27.673373Z",
     "start_time": "2021-08-12T05:49:27.632358Z"
    }
   },
   "outputs": [
    {
     "data": {
      "text/plain": [
       "100"
      ]
     },
     "execution_count": 4,
     "metadata": {},
     "output_type": "execute_result"
    }
   ],
   "source": [
    "len(y)"
   ]
  },
  {
   "cell_type": "code",
   "execution_count": 5,
   "metadata": {
    "ExecuteTime": {
     "end_time": "2021-08-12T05:49:27.735324Z",
     "start_time": "2021-08-12T05:49:27.675359Z"
    }
   },
   "outputs": [
    {
     "name": "stdout",
     "output_type": "stream",
     "text": [
      "Mean -->  9.66\n",
      "4.0\n"
     ]
    }
   ],
   "source": [
    "m = sum(y)/len(y)\n",
    "print(\"Mean --> \",m)\n",
    "\n",
    "\n",
    "med = (y[49]+y[50])/2\n",
    "print(med)"
   ]
  },
  {
   "cell_type": "code",
   "execution_count": 6,
   "metadata": {
    "ExecuteTime": {
     "end_time": "2021-08-12T05:49:28.271952Z",
     "start_time": "2021-08-12T05:49:27.737322Z"
    }
   },
   "outputs": [
    {
     "data": {
      "image/png": "[encoded data removed]",
      "text/plain": [
       "<Figure size 1080x360 with 1 Axes>"
      ]
     },
     "metadata": {
      "needs_background": "light"
     },
     "output_type": "display_data"
    }
   ],
   "source": [
    "plt.figure(figsize=(15,5))\n",
    "plt.scatter(x,y,c='r',ec=\"k\")\n",
    "plt.plot([0,100],[m,m],'k',lw=3)\n",
    "#plt.plot([0,100],[med,med],'g')\n",
    "plt.xlim(-20,120)\n",
    "plt.ylim(-10,30)\n",
    "plt.show()"
   ]
  },
  {
   "cell_type": "code",
   "execution_count": 7,
   "metadata": {
    "ExecuteTime": {
     "end_time": "2021-08-12T05:49:28.287945Z",
     "start_time": "2021-08-12T05:49:28.279947Z"
    }
   },
   "outputs": [],
   "source": [
    "dev = [(xi - m)**2 for xi in y]"
   ]
  },
  {
   "cell_type": "code",
   "execution_count": 8,
   "metadata": {
    "ExecuteTime": {
     "end_time": "2021-08-12T05:49:28.349909Z",
     "start_time": "2021-08-12T05:49:28.296937Z"
    }
   },
   "outputs": [],
   "source": [
    "var = sum(dev)/len(dev)"
   ]
  },
  {
   "cell_type": "code",
   "execution_count": 9,
   "metadata": {
    "ExecuteTime": {
     "end_time": "2021-08-12T05:49:28.395881Z",
     "start_time": "2021-08-12T05:49:28.354904Z"
    }
   },
   "outputs": [],
   "source": [
    "from math import sqrt"
   ]
  },
  {
   "cell_type": "code",
   "execution_count": 10,
   "metadata": {
    "ExecuteTime": {
     "end_time": "2021-08-12T05:49:28.427862Z",
     "start_time": "2021-08-12T05:49:28.397880Z"
    }
   },
   "outputs": [],
   "source": [
    "std =sqrt(var)"
   ]
  },
  {
   "cell_type": "code",
   "execution_count": 11,
   "metadata": {
    "ExecuteTime": {
     "end_time": "2021-08-12T05:49:28.490018Z",
     "start_time": "2021-08-12T05:49:28.430862Z"
    }
   },
   "outputs": [
    {
     "data": {
      "text/plain": [
       "5.680176053609608"
      ]
     },
     "execution_count": 11,
     "metadata": {},
     "output_type": "execute_result"
    }
   ],
   "source": [
    "std"
   ]
  },
  {
   "cell_type": "code",
   "execution_count": 12,
   "metadata": {
    "ExecuteTime": {
     "end_time": "2021-08-12T05:49:28.522090Z",
     "start_time": "2021-08-12T05:49:28.492017Z"
    }
   },
   "outputs": [
    {
     "data": {
      "text/plain": [
       "15.340176053609607"
      ]
     },
     "execution_count": 12,
     "metadata": {},
     "output_type": "execute_result"
    }
   ],
   "source": [
    "m+std"
   ]
  },
  {
   "cell_type": "code",
   "execution_count": 13,
   "metadata": {
    "ExecuteTime": {
     "end_time": "2021-08-12T05:49:28.570061Z",
     "start_time": "2021-08-12T05:49:28.525087Z"
    }
   },
   "outputs": [
    {
     "data": {
      "text/plain": [
       "3.9798239463903924"
      ]
     },
     "execution_count": 13,
     "metadata": {},
     "output_type": "execute_result"
    }
   ],
   "source": [
    "m-std"
   ]
  },
  {
   "cell_type": "code",
   "execution_count": 14,
   "metadata": {
    "ExecuteTime": {
     "end_time": "2021-08-12T05:49:28.619054Z",
     "start_time": "2021-08-12T05:49:28.574059Z"
    }
   },
   "outputs": [
    {
     "data": {
      "text/plain": [
       "5.680176053609606"
      ]
     },
     "execution_count": 14,
     "metadata": {},
     "output_type": "execute_result"
    }
   ],
   "source": [
    "np.std(y)"
   ]
  },
  {
   "cell_type": "code",
   "execution_count": null,
   "metadata": {},
   "outputs": [],
   "source": []
  },
  {
   "cell_type": "code",
   "execution_count": 15,
   "metadata": {
    "ExecuteTime": {
     "end_time": "2021-08-12T05:49:29.072376Z",
     "start_time": "2021-08-12T05:49:28.622053Z"
    }
   },
   "outputs": [
    {
     "data": {
      "image/png": "[encoded data removed]",
      "text/plain": [
       "<Figure size 1080x360 with 1 Axes>"
      ]
     },
     "metadata": {
      "needs_background": "light"
     },
     "output_type": "display_data"
    }
   ],
   "source": [
    "plt.figure(figsize=(15,5))\n",
    "plt.scatter(x,y,c='r',ec=\"k\")\n",
    "plt.plot([0,100],[m,m],'k',lw=3,label = \"Mean\")\n",
    "plt.plot([0,100],[m+std,m+std],'b',label = \"Upper Bound\")\n",
    "plt.plot([0,100],[m-std,m-std],'c',label = \"Lower Bound\")\n",
    "#plt.plot([0,100],[med,med],'g')\n",
    "#plt.xlim(-20,120)\n",
    "#plt.ylim(-10,30)\n",
    "plt.legend()\n",
    "plt.show()"
   ]
  },
  {
   "cell_type": "code",
   "execution_count": 16,
   "metadata": {
    "ExecuteTime": {
     "end_time": "2021-08-12T05:49:29.366212Z",
     "start_time": "2021-08-12T05:49:29.075376Z"
    }
   },
   "outputs": [
    {
     "data": {
      "image/png": "[encoded data removed]",
      "text/plain": [
       "<Figure size 1080x360 with 1 Axes>"
      ]
     },
     "metadata": {
      "needs_background": "light"
     },
     "output_type": "display_data"
    }
   ],
   "source": [
    "plt.figure(figsize=(15,5))\n",
    "plt.scatter(x,y,c='r',ec=\"k\")\n",
    "plt.plot([0,100],[m,m],'k',lw=3,label = \"Mean\")\n",
    "#plt.plot([0,100],[m+std,m+std],'b',label = \"Upper Bound\")\n",
    "#plt.plot([0,100],[m-std,m-std],'c',label = \"Lower Bound\")\n",
    "#plt.plot([0,100],[med,med],'g')\n",
    "#plt.xlim(-20,120)\n",
    "#plt.ylim(-10,30)\n",
    "plt.legend()\n",
    "plt.show()"
   ]
  },
  {
   "cell_type": "code",
   "execution_count": 17,
   "metadata": {
    "ExecuteTime": {
     "end_time": "2021-08-12T05:49:29.382199Z",
     "start_time": "2021-08-12T05:49:29.373204Z"
    }
   },
   "outputs": [],
   "source": [
    "g = [abs(xi - m) for xi in y]"
   ]
  },
  {
   "cell_type": "code",
   "execution_count": 18,
   "metadata": {
    "ExecuteTime": {
     "end_time": "2021-08-12T05:49:29.413989Z",
     "start_time": "2021-08-12T05:49:29.387196Z"
    }
   },
   "outputs": [],
   "source": [
    "g.sort()"
   ]
  },
  {
   "cell_type": "code",
   "execution_count": 19,
   "metadata": {
    "ExecuteTime": {
     "end_time": "2021-08-12T05:49:29.460554Z",
     "start_time": "2021-08-12T05:49:29.417987Z"
    }
   },
   "outputs": [],
   "source": [
    "#g"
   ]
  },
  {
   "cell_type": "code",
   "execution_count": 20,
   "metadata": {
    "ExecuteTime": {
     "end_time": "2021-08-12T05:49:29.975258Z",
     "start_time": "2021-08-12T05:49:29.463551Z"
    }
   },
   "outputs": [
    {
     "data": {
      "image/png": "[encoded data removed]",
      "text/plain": [
       "<Figure size 1080x360 with 1 Axes>"
      ]
     },
     "metadata": {
      "needs_background": "light"
     },
     "output_type": "display_data"
    }
   ],
   "source": [
    "plt.figure(figsize=(15,5))\n",
    "plt.scatter(x,y,c='r',ec=\"k\")\n",
    "plt.plot([0,100],[m,m],'k',lw=3,label = \"Mean\")\n",
    "for var in range(len(x)):\n",
    "    plt.plot([x[var],x[var]],[m,y[var]])\n",
    "#plt.xlim(-20,120)\n",
    "#plt.ylim(-10,30)\n",
    "plt.legend()\n",
    "plt.show()"
   ]
  },
  {
   "cell_type": "code",
   "execution_count": 21,
   "metadata": {
    "ExecuteTime": {
     "end_time": "2021-08-12T05:49:30.226186Z",
     "start_time": "2021-08-12T05:49:29.977255Z"
    }
   },
   "outputs": [
    {
     "data": {
      "image/png": "[encoded data removed]",
      "text/plain": [
       "<Figure size 1080x360 with 1 Axes>"
      ]
     },
     "metadata": {
      "needs_background": "light"
     },
     "output_type": "display_data"
    }
   ],
   "source": [
    "plt.figure(figsize=(15,5))\n",
    "plt.scatter(x,y,c='r',ec=\"k\")\n",
    "#plt.plot([0,100],[m,m],'k',lw=3,label = \"Mean\")\n",
    "#plt.plot([0,100],[m+std,m+std],'b',label = \"Upper Bound\")\n",
    "#plt.plot([0,100],[m-std,m-std],'c',label = \"Lower Bound\")\n",
    "plt.plot([0,100],[np.median(y),np.median(y)],'g',label= \"Median\")\n",
    "#plt.xlim(-20,120)\n",
    "#plt.ylim(-10,30)\n",
    "plt.legend()\n",
    "plt.show()"
   ]
  },
  {
   "cell_type": "code",
   "execution_count": 22,
   "metadata": {
    "ExecuteTime": {
     "end_time": "2021-08-12T05:49:30.242194Z",
     "start_time": "2021-08-12T05:49:30.229184Z"
    }
   },
   "outputs": [],
   "source": [
    "med = np.median(y)"
   ]
  },
  {
   "cell_type": "code",
   "execution_count": 23,
   "metadata": {
    "ExecuteTime": {
     "end_time": "2021-08-12T05:49:30.273161Z",
     "start_time": "2021-08-12T05:49:30.247173Z"
    }
   },
   "outputs": [],
   "source": [
    "p = [(xi-med)**2 for xi in y]"
   ]
  },
  {
   "cell_type": "code",
   "execution_count": 24,
   "metadata": {
    "ExecuteTime": {
     "end_time": "2021-08-12T05:49:30.319190Z",
     "start_time": "2021-08-12T05:49:30.276157Z"
    }
   },
   "outputs": [
    {
     "data": {
      "text/plain": [
       "5.690342696182718"
      ]
     },
     "execution_count": 24,
     "metadata": {},
     "output_type": "execute_result"
    }
   ],
   "source": [
    "sqrt(sum(p)/len(p))"
   ]
  },
  {
   "cell_type": "code",
   "execution_count": 25,
   "metadata": {
    "ExecuteTime": {
     "end_time": "2021-08-12T05:49:30.365666Z",
     "start_time": "2021-08-12T05:49:30.322147Z"
    }
   },
   "outputs": [
    {
     "name": "stdout",
     "output_type": "stream",
     "text": [
      "[11, 5, 16, 1, 10, 12, 11, 12, 11, 13, 7, 17, 9, 12, 12, 18, 6, 7, 15, 8, 8, 17, 19, 12, 9, 2, 15, 19, 9, 7, 3, 11, 14, 2, 10, 5, 15, 15, 11, 1, 20, 14, 5, 14, 7, 14, 8, 9, 3, 3, 5, 5, 5, 1, 12, 17, 16, 3, 15, 6, 1, 19, 18, 16, 3, 1, 17, 1, 6, 10, 8, 2, 18, 2, 12, 19, 2, 9, 4, 6, 13, 17, 1, 2, 2, 17, 13, 10, 4, 2, 16, 16, 20, 7, 1, 5, 12, 12, 10, 13]\n"
     ]
    }
   ],
   "source": [
    "print(y)"
   ]
  },
  {
   "cell_type": "code",
   "execution_count": 26,
   "metadata": {
    "ExecuteTime": {
     "end_time": "2021-08-12T05:49:30.412597Z",
     "start_time": "2021-08-12T05:49:30.369619Z"
    }
   },
   "outputs": [
    {
     "data": {
      "text/plain": [
       "9.66"
      ]
     },
     "execution_count": 26,
     "metadata": {},
     "output_type": "execute_result"
    }
   ],
   "source": [
    "np.mean(y)"
   ]
  },
  {
   "cell_type": "code",
   "execution_count": 27,
   "metadata": {
    "ExecuteTime": {
     "end_time": "2021-08-12T05:49:30.443660Z",
     "start_time": "2021-08-12T05:49:30.414593Z"
    }
   },
   "outputs": [
    {
     "data": {
      "text/plain": [
       "10.0"
      ]
     },
     "execution_count": 27,
     "metadata": {},
     "output_type": "execute_result"
    }
   ],
   "source": [
    "np.median(y)"
   ]
  },
  {
   "cell_type": "code",
   "execution_count": 28,
   "metadata": {
    "ExecuteTime": {
     "end_time": "2021-08-12T05:49:30.489633Z",
     "start_time": "2021-08-12T05:49:30.450655Z"
    }
   },
   "outputs": [
    {
     "data": {
      "text/plain": [
       "5.680176053609606"
      ]
     },
     "execution_count": 28,
     "metadata": {},
     "output_type": "execute_result"
    }
   ],
   "source": [
    "np.std(y)"
   ]
  },
  {
   "cell_type": "code",
   "execution_count": 29,
   "metadata": {
    "ExecuteTime": {
     "end_time": "2021-08-12T05:49:30.816042Z",
     "start_time": "2021-08-12T05:49:30.492632Z"
    }
   },
   "outputs": [
    {
     "data": {
      "image/png": "[encoded data removed]",
      "text/plain": [
       "<Figure size 1080x360 with 1 Axes>"
      ]
     },
     "metadata": {
      "needs_background": "light"
     },
     "output_type": "display_data"
    }
   ],
   "source": [
    "plt.figure(figsize=(15,5))\n",
    "plt.scatter(x,y,c='r',ec=\"k\")\n",
    "plt.plot([0,100],[m,m],'k',lw=3,label = \"Mean\")\n",
    "plt.plot([0,100],[m+std,m+std],'b',label = \"Upper Bound\")\n",
    "plt.plot([0,100],[m-std,m-std],'c',label = \"Lower Bound\")\n",
    "#plt.plot([0,100],[med,med],'g')\n",
    "#plt.xlim(-20,120)\n",
    "#plt.ylim(-10,30)\n",
    "plt.legend()\n",
    "plt.show()"
   ]
  },
  {
   "cell_type": "code",
   "execution_count": 30,
   "metadata": {
    "ExecuteTime": {
     "end_time": "2021-08-12T05:49:30.832037Z",
     "start_time": "2021-08-12T05:49:30.820044Z"
    }
   },
   "outputs": [
    {
     "data": {
      "text/plain": [
       "array([5.5, 5.5, 5.5, 5.5, 5.5, 5.5, 5.5, 5.5, 5.5, 5.5, 5.5, 5.5, 5.5,\n",
       "       5.5, 5.5, 5.5, 5.5, 5.5, 5.5, 5.5, 5.5, 5.5, 5.5, 5.5, 5.5, 5.5,\n",
       "       5.5, 5.5, 5.5, 5.5, 5.5, 5.5, 5.5, 5.5, 5.5, 5.5, 5.5, 5.5, 5.5,\n",
       "       5.5, 5.5, 5.5, 5.5, 5.5, 5.5, 5.5, 5.5, 5.5, 5.5, 5.5, 5.5, 5.5,\n",
       "       5.5, 5.5, 5.5, 5.5, 5.5, 5.5, 5.5, 5.5, 5.5, 5.5, 5.5, 5.5, 5.5,\n",
       "       5.5, 5.5, 5.5, 5.5, 5.5, 5.5, 5.5, 5.5, 5.5, 5.5, 5.5, 5.5, 5.5,\n",
       "       5.5, 5.5, 5.5, 5.5, 5.5, 5.5, 5.5, 5.5, 5.5, 5.5, 5.5, 5.5, 5.5,\n",
       "       5.5, 5.5, 5.5, 5.5, 5.5, 5.5, 5.5, 5.5, 5.5])"
      ]
     },
     "execution_count": 30,
     "metadata": {},
     "output_type": "execute_result"
    }
   ],
   "source": [
    "np.random.normal(5.5,0,100)"
   ]
  },
  {
   "cell_type": "code",
   "execution_count": null,
   "metadata": {},
   "outputs": [],
   "source": []
  }
 ],
 "metadata": {
  "kernelspec": {
   "display_name": "Python 3",
   "language": "python",
   "name": "python3"
  },
  "language_info": {
   "codemirror_mode": {
    "name": "ipython",
    "version": 3
   },
   "file_extension": ".py",
   "mimetype": "text/x-python",
   "name": "python",
   "nbconvert_exporter": "python",
   "pygments_lexer": "ipython3",
   "version": "3.8.8"
  }
 },
 "nbformat": 4,
 "nbformat_minor": 4
}
