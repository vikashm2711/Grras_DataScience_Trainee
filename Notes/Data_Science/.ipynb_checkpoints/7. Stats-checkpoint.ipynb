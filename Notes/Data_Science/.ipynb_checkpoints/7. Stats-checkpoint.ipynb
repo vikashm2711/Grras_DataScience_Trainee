{
 "cells": [
  {
   "cell_type": "code",
   "execution_count": 3,
   "metadata": {
    "ExecuteTime": {
     "end_time": "2021-08-12T05:26:47.203528Z",
     "start_time": "2021-08-12T05:26:47.191530Z"
    }
   },
   "outputs": [],
   "source": [
    "import numpy as np\n",
    "import matplotlib.pyplot as plt"
   ]
  },
  {
   "cell_type": "code",
   "execution_count": 4,
   "metadata": {
    "ExecuteTime": {
     "end_time": "2021-08-12T05:26:47.248998Z",
     "start_time": "2021-08-12T05:26:47.203528Z"
    }
   },
   "outputs": [],
   "source": [
    "plt.rcParams['figure.figsize'] = 10, 5\n",
    "plt.rcParams['figure.dpi'] = 80"
   ]
  },
  {
   "cell_type": "code",
   "execution_count": 5,
   "metadata": {
    "ExecuteTime": {
     "end_time": "2021-08-12T05:26:47.313636Z",
     "start_time": "2021-08-12T05:26:47.260990Z"
    }
   },
   "outputs": [],
   "source": [
    "age = np.random.randint(10, 20, 20)"
   ]
  },
  {
   "cell_type": "code",
   "execution_count": 6,
   "metadata": {
    "ExecuteTime": {
     "end_time": "2021-08-12T05:26:47.410134Z",
     "start_time": "2021-08-12T05:26:47.316634Z"
    }
   },
   "outputs": [
    {
     "data": {
      "text/plain": [
       "array([18, 17, 19, 13, 14, 15, 14, 17, 11, 15, 13, 10, 17, 14, 14, 13, 19,\n",
       "       19, 10, 14])"
      ]
     },
     "execution_count": 6,
     "metadata": {},
     "output_type": "execute_result"
    }
   ],
   "source": [
    "age"
   ]
  },
  {
   "cell_type": "code",
   "execution_count": 7,
   "metadata": {
    "ExecuteTime": {
     "end_time": "2021-08-12T05:26:48.105567Z",
     "start_time": "2021-08-12T05:26:47.410134Z"
    }
   },
   "outputs": [
    {
     "data": {
      "image/png": "[encoded data removed]",
      "text/plain": [
       "<Figure size 800x400 with 1 Axes>"
      ]
     },
     "metadata": {
      "needs_background": "light"
     },
     "output_type": "display_data"
    }
   ],
   "source": [
    "plt.plot(age, 'o') # o --> marker. r --> red\n",
    "plt.xlabel(\"INDEX\")\n",
    "plt.ylabel(\"AGE\")\n",
    "plt.xticks(range(20))\n",
    "plt.show()\n",
    "# x --> index\n",
    "# y --> values --> arr"
   ]
  },
  {
   "cell_type": "code",
   "execution_count": 8,
   "metadata": {
    "ExecuteTime": {
     "end_time": "2021-08-12T05:26:48.121557Z",
     "start_time": "2021-08-12T05:26:48.108564Z"
    }
   },
   "outputs": [
    {
     "data": {
      "text/plain": [
       "14.8"
      ]
     },
     "execution_count": 8,
     "metadata": {},
     "output_type": "execute_result"
    }
   ],
   "source": [
    "age.mean()"
   ]
  },
  {
   "cell_type": "code",
   "execution_count": 9,
   "metadata": {
    "ExecuteTime": {
     "end_time": "2021-08-12T05:26:48.186064Z",
     "start_time": "2021-08-12T05:26:48.126557Z"
    }
   },
   "outputs": [
    {
     "data": {
      "text/plain": [
       "14.8"
      ]
     },
     "execution_count": 9,
     "metadata": {},
     "output_type": "execute_result"
    }
   ],
   "source": [
    "sum(age)/len(age)"
   ]
  },
  {
   "cell_type": "code",
   "execution_count": 10,
   "metadata": {
    "ExecuteTime": {
     "end_time": "2021-08-12T05:26:48.678038Z",
     "start_time": "2021-08-12T05:26:48.195058Z"
    }
   },
   "outputs": [
    {
     "data": {
      "image/png": "[encoded data removed]",
      "text/plain": [
       "<Figure size 800x400 with 1 Axes>"
      ]
     },
     "metadata": {
      "needs_background": "light"
     },
     "output_type": "display_data"
    }
   ],
   "source": [
    "plt.plot(age, 'o') # o --> marker. r --> red\n",
    "plt.xlabel(\"INDEX\")\n",
    "plt.ylabel(\"AGE\")\n",
    "plt.xticks(range(20))\n",
    "mean = age.mean()\n",
    "plt.plot([0, 19], [mean, mean], 'k')  # x1 = 0, x2 = 19, y1 = mean, y2 = mean, k --> black\n",
    "# plt.plot(x_values, y_values)\n",
    "plt.show()\n",
    "# x --> index\n",
    "# y --> values --> arr"
   ]
  },
  {
   "cell_type": "markdown",
   "metadata": {},
   "source": [
    "##### Deviation \n",
    "\n",
    "$$ dev = \\frac{\\sum\\limits_{i=1}^N \\bar x - x_i} {N}  $$"
   ]
  },
  {
   "cell_type": "code",
   "execution_count": 11,
   "metadata": {
    "ExecuteTime": {
     "end_time": "2021-08-12T05:26:48.711019Z",
     "start_time": "2021-08-12T05:26:48.682036Z"
    }
   },
   "outputs": [
    {
     "data": {
      "text/plain": [
       "0.8000000000000007"
      ]
     },
     "execution_count": 11,
     "metadata": {},
     "output_type": "execute_result"
    }
   ],
   "source": [
    "mean - age[-1] "
   ]
  },
  {
   "cell_type": "code",
   "execution_count": 12,
   "metadata": {
    "ExecuteTime": {
     "end_time": "2021-08-12T05:26:48.743072Z",
     "start_time": "2021-08-12T05:26:48.713018Z"
    }
   },
   "outputs": [
    {
     "data": {
      "text/plain": [
       "4.800000000000001"
      ]
     },
     "execution_count": 12,
     "metadata": {},
     "output_type": "execute_result"
    }
   ],
   "source": [
    "mean - age[-2]"
   ]
  },
  {
   "cell_type": "code",
   "execution_count": 13,
   "metadata": {
    "ExecuteTime": {
     "end_time": "2021-08-12T05:26:48.790249Z",
     "start_time": "2021-08-12T05:26:48.746070Z"
    }
   },
   "outputs": [
    {
     "data": {
      "text/plain": [
       "1.8000000000000007"
      ]
     },
     "execution_count": 13,
     "metadata": {},
     "output_type": "execute_result"
    }
   ],
   "source": [
    "mean - age[-5]"
   ]
  },
  {
   "cell_type": "code",
   "execution_count": 14,
   "metadata": {
    "ExecuteTime": {
     "end_time": "2021-08-12T05:26:48.836872Z",
     "start_time": "2021-08-12T05:26:48.793247Z"
    }
   },
   "outputs": [
    {
     "data": {
      "text/plain": [
       "array([18, 17, 19, 13, 14, 15, 14, 17, 11, 15, 13, 10, 17, 14, 14, 13, 19,\n",
       "       19, 10, 14])"
      ]
     },
     "execution_count": 14,
     "metadata": {},
     "output_type": "execute_result"
    }
   ],
   "source": [
    "age"
   ]
  },
  {
   "cell_type": "code",
   "execution_count": 15,
   "metadata": {
    "ExecuteTime": {
     "end_time": "2021-08-12T05:26:48.882769Z",
     "start_time": "2021-08-12T05:26:48.840871Z"
    }
   },
   "outputs": [
    {
     "data": {
      "text/plain": [
       "array([-3.2, -2.2, -4.2,  1.8,  0.8, -0.2,  0.8, -2.2,  3.8, -0.2,  1.8,\n",
       "        4.8, -2.2,  0.8,  0.8,  1.8, -4.2, -4.2,  4.8,  0.8])"
      ]
     },
     "execution_count": 15,
     "metadata": {},
     "output_type": "execute_result"
    }
   ],
   "source": [
    "age.mean() - age # index wise subtract"
   ]
  },
  {
   "cell_type": "code",
   "execution_count": 16,
   "metadata": {
    "ExecuteTime": {
     "end_time": "2021-08-12T05:26:48.914771Z",
     "start_time": "2021-08-12T05:26:48.887767Z"
    }
   },
   "outputs": [],
   "source": [
    "dev = []\n",
    "for i in age:\n",
    "    dev.append(age.mean() - i)"
   ]
  },
  {
   "cell_type": "code",
   "execution_count": 17,
   "metadata": {
    "ExecuteTime": {
     "end_time": "2021-08-12T05:26:48.962845Z",
     "start_time": "2021-08-12T05:26:48.917770Z"
    }
   },
   "outputs": [
    {
     "data": {
      "text/plain": [
       "[-3.1999999999999993,\n",
       " -2.1999999999999993,\n",
       " -4.199999999999999,\n",
       " 1.8000000000000007,\n",
       " 0.8000000000000007,\n",
       " -0.1999999999999993,\n",
       " 0.8000000000000007,\n",
       " -2.1999999999999993,\n",
       " 3.8000000000000007,\n",
       " -0.1999999999999993,\n",
       " 1.8000000000000007,\n",
       " 4.800000000000001,\n",
       " -2.1999999999999993,\n",
       " 0.8000000000000007,\n",
       " 0.8000000000000007,\n",
       " 1.8000000000000007,\n",
       " -4.199999999999999,\n",
       " -4.199999999999999,\n",
       " 4.800000000000001,\n",
       " 0.8000000000000007]"
      ]
     },
     "execution_count": 17,
     "metadata": {},
     "output_type": "execute_result"
    }
   ],
   "source": [
    "dev"
   ]
  },
  {
   "cell_type": "code",
   "execution_count": 18,
   "metadata": {
    "ExecuteTime": {
     "end_time": "2021-08-12T05:26:49.006079Z",
     "start_time": "2021-08-12T05:26:48.966151Z"
    }
   },
   "outputs": [
    {
     "name": "stdout",
     "output_type": "stream",
     "text": [
      "\n",
      " The value of deviation is :  0\n"
     ]
    }
   ],
   "source": [
    "dev = round(sum(age.mean() - age)/len(age))\n",
    "print(\"\\n The value of deviation is : \", dev)"
   ]
  },
  {
   "cell_type": "code",
   "execution_count": 19,
   "metadata": {
    "ExecuteTime": {
     "end_time": "2021-08-12T05:26:49.052961Z",
     "start_time": "2021-08-12T05:26:49.006079Z"
    }
   },
   "outputs": [],
   "source": [
    "# here we have problem that the dev is zero so we need to convert negative values into\n",
    "# positive values"
   ]
  },
  {
   "cell_type": "markdown",
   "metadata": {},
   "source": [
    "$$ dev = \\frac{\\sum\\limits_{i=1}^N |\\bar x - x_i|} {N}  $$"
   ]
  },
  {
   "cell_type": "code",
   "execution_count": 20,
   "metadata": {
    "ExecuteTime": {
     "end_time": "2021-08-12T05:26:49.100664Z",
     "start_time": "2021-08-12T05:26:49.058961Z"
    }
   },
   "outputs": [
    {
     "data": {
      "text/plain": [
       "array([3.2, 2.2, 4.2, 1.8, 0.8, 0.2, 0.8, 2.2, 3.8, 0.2, 1.8, 4.8, 2.2,\n",
       "       0.8, 0.8, 1.8, 4.2, 4.2, 4.8, 0.8])"
      ]
     },
     "execution_count": 20,
     "metadata": {},
     "output_type": "execute_result"
    }
   ],
   "source": [
    "abs(age.mean() - age)"
   ]
  },
  {
   "cell_type": "code",
   "execution_count": 21,
   "metadata": {
    "ExecuteTime": {
     "end_time": "2021-08-12T05:26:49.132657Z",
     "start_time": "2021-08-12T05:26:49.104664Z"
    }
   },
   "outputs": [
    {
     "name": "stdout",
     "output_type": "stream",
     "text": [
      "\n",
      " The value of deviation is :  2\n"
     ]
    }
   ],
   "source": [
    "dev = round(sum(abs(age.mean() - age))/len(age))\n",
    "print(\"\\n The value of deviation is : \", dev)"
   ]
  },
  {
   "cell_type": "code",
   "execution_count": 22,
   "metadata": {
    "ExecuteTime": {
     "end_time": "2021-08-12T05:26:49.178057Z",
     "start_time": "2021-08-12T05:26:49.135808Z"
    }
   },
   "outputs": [
    {
     "data": {
      "text/plain": [
       "14.8"
      ]
     },
     "execution_count": 22,
     "metadata": {},
     "output_type": "execute_result"
    }
   ],
   "source": [
    "age.mean()"
   ]
  },
  {
   "cell_type": "markdown",
   "metadata": {},
   "source": [
    "    mean +- dev\n",
    "    \n",
    "        mean + dev --> value to which the values can go maximum\n",
    "            14.6 + 2 = 16.6 \n",
    "            \n",
    "        mean - dev --> value to which the values can go minimum\n",
    "            14.6 - 2 = 12.6"
   ]
  },
  {
   "cell_type": "code",
   "execution_count": 31,
   "metadata": {
    "ExecuteTime": {
     "end_time": "2021-08-12T05:27:23.491566Z",
     "start_time": "2021-08-12T05:27:22.314140Z"
    }
   },
   "outputs": [
    {
     "ename": "NameError",
     "evalue": "name 'x' is not defined",
     "output_type": "error",
     "traceback": [
      "\u001b[1;31m---------------------------------------------------------------------------\u001b[0m",
      "\u001b[1;31mNameError\u001b[0m                                 Traceback (most recent call last)",
      "\u001b[1;32m<ipython-input-31-5461239a2b48>\u001b[0m in \u001b[0;36m<module>\u001b[1;34m\u001b[0m\n\u001b[0;32m      6\u001b[0m \u001b[0mdev\u001b[0m \u001b[1;33m=\u001b[0m \u001b[0mround\u001b[0m\u001b[1;33m(\u001b[0m\u001b[0msum\u001b[0m\u001b[1;33m(\u001b[0m\u001b[0mabs\u001b[0m\u001b[1;33m(\u001b[0m\u001b[0mage\u001b[0m\u001b[1;33m.\u001b[0m\u001b[0mmean\u001b[0m\u001b[1;33m(\u001b[0m\u001b[1;33m)\u001b[0m \u001b[1;33m-\u001b[0m \u001b[0mage\u001b[0m\u001b[1;33m)\u001b[0m\u001b[1;33m)\u001b[0m\u001b[1;33m/\u001b[0m\u001b[0mlen\u001b[0m\u001b[1;33m(\u001b[0m\u001b[0mage\u001b[0m\u001b[1;33m)\u001b[0m\u001b[1;33m)\u001b[0m\u001b[1;33m\u001b[0m\u001b[1;33m\u001b[0m\u001b[0m\n\u001b[0;32m      7\u001b[0m \u001b[0mplt\u001b[0m\u001b[1;33m.\u001b[0m\u001b[0mplot\u001b[0m\u001b[1;33m(\u001b[0m\u001b[1;33m[\u001b[0m\u001b[1;36m0\u001b[0m\u001b[1;33m,\u001b[0m \u001b[1;36m19\u001b[0m\u001b[1;33m]\u001b[0m\u001b[1;33m,\u001b[0m \u001b[1;33m[\u001b[0m\u001b[0mmean\u001b[0m\u001b[1;33m,\u001b[0m \u001b[0mmean\u001b[0m\u001b[1;33m]\u001b[0m\u001b[1;33m,\u001b[0m \u001b[1;34m'k'\u001b[0m\u001b[1;33m)\u001b[0m\u001b[1;33m\u001b[0m\u001b[1;33m\u001b[0m\u001b[0m\n\u001b[1;32m----> 8\u001b[1;33m \u001b[1;32mfor\u001b[0m \u001b[0mvar\u001b[0m \u001b[1;32min\u001b[0m \u001b[0mrange\u001b[0m\u001b[1;33m(\u001b[0m\u001b[0mlen\u001b[0m\u001b[1;33m(\u001b[0m\u001b[0mx\u001b[0m\u001b[1;33m)\u001b[0m\u001b[1;33m)\u001b[0m\u001b[1;33m:\u001b[0m\u001b[1;33m\u001b[0m\u001b[1;33m\u001b[0m\u001b[0m\n\u001b[0m\u001b[0;32m      9\u001b[0m     \u001b[0mplt\u001b[0m\u001b[1;33m.\u001b[0m\u001b[0mplot\u001b[0m\u001b[1;33m(\u001b[0m\u001b[1;33m[\u001b[0m\u001b[0mx\u001b[0m\u001b[1;33m[\u001b[0m\u001b[0mvar\u001b[0m\u001b[1;33m]\u001b[0m\u001b[1;33m,\u001b[0m\u001b[0mx\u001b[0m\u001b[1;33m[\u001b[0m\u001b[0mvar\u001b[0m\u001b[1;33m]\u001b[0m\u001b[1;33m]\u001b[0m\u001b[1;33m,\u001b[0m\u001b[1;33m[\u001b[0m\u001b[0mm\u001b[0m\u001b[1;33m,\u001b[0m\u001b[0my\u001b[0m\u001b[1;33m[\u001b[0m\u001b[0mvar\u001b[0m\u001b[1;33m]\u001b[0m\u001b[1;33m]\u001b[0m\u001b[1;33m)\u001b[0m\u001b[1;33m\u001b[0m\u001b[1;33m\u001b[0m\u001b[0m\n\u001b[0;32m     10\u001b[0m \u001b[0mplt\u001b[0m\u001b[1;33m.\u001b[0m\u001b[0mplot\u001b[0m\u001b[1;33m(\u001b[0m\u001b[1;33m[\u001b[0m\u001b[1;36m0\u001b[0m\u001b[1;33m,\u001b[0m \u001b[1;36m19\u001b[0m\u001b[1;33m]\u001b[0m\u001b[1;33m,\u001b[0m \u001b[1;33m[\u001b[0m\u001b[0mmean\u001b[0m\u001b[1;33m+\u001b[0m\u001b[0mdev\u001b[0m\u001b[1;33m,\u001b[0m \u001b[0mmean\u001b[0m\u001b[1;33m+\u001b[0m\u001b[0mdev\u001b[0m\u001b[1;33m]\u001b[0m\u001b[1;33m,\u001b[0m \u001b[1;34m'g'\u001b[0m\u001b[1;33m)\u001b[0m\u001b[1;33m\u001b[0m\u001b[1;33m\u001b[0m\u001b[0m\n",
      "\u001b[1;31mNameError\u001b[0m: name 'x' is not defined"
     ]
    },
    {
     "data": {
      "image/png": "[encoded data removed]",
      "text/plain": [
       "<Figure size 800x400 with 1 Axes>"
      ]
     },
     "metadata": {
      "needs_background": "light"
     },
     "output_type": "display_data"
    }
   ],
   "source": [
    "plt.plot(age, 'o') \n",
    "plt.xlabel(\"INDEX\")\n",
    "plt.ylabel(\"AGE\")\n",
    "plt.xticks(range(20))\n",
    "mean = age.mean()\n",
    "dev = round(sum(abs(age.mean() - age))/len(age))\n",
    "plt.plot([0, 19], [mean, mean], 'k')\n",
    "for var in range(len(x)):\n",
    "    plt.plot([x[var],x[var]],[m,y[var]])\n",
    "plt.plot([0, 19], [mean+dev, mean+dev], 'g')\n",
    "plt.plot([0, 19], [mean-dev, mean-dev], 'g')\n",
    "plt.show()"
   ]
  },
  {
   "cell_type": "markdown",
   "metadata": {},
   "source": [
    "$$ variance = \\frac{\\sum\\limits_{i=1}^N (\\bar x - x_i)^2} {N}  $$"
   ]
  },
  {
   "cell_type": "code",
   "execution_count": 24,
   "metadata": {
    "ExecuteTime": {
     "end_time": "2021-08-12T05:26:49.682108Z",
     "start_time": "2021-08-12T05:26:49.668116Z"
    }
   },
   "outputs": [],
   "source": [
    "var = sum((age.mean() - age)**2)/len(age)"
   ]
  },
  {
   "cell_type": "code",
   "execution_count": 25,
   "metadata": {
    "ExecuteTime": {
     "end_time": "2021-08-12T05:26:49.794888Z",
     "start_time": "2021-08-12T05:26:49.690104Z"
    }
   },
   "outputs": [
    {
     "data": {
      "text/plain": [
       "7.5600000000000005"
      ]
     },
     "execution_count": 25,
     "metadata": {},
     "output_type": "execute_result"
    }
   ],
   "source": [
    "var"
   ]
  },
  {
   "cell_type": "code",
   "execution_count": 26,
   "metadata": {
    "ExecuteTime": {
     "end_time": "2021-08-12T05:26:50.470920Z",
     "start_time": "2021-08-12T05:26:49.797888Z"
    }
   },
   "outputs": [
    {
     "data": {
      "image/png": "[encoded data removed]",
      "text/plain": [
       "<Figure size 800x400 with 1 Axes>"
      ]
     },
     "metadata": {
      "needs_background": "light"
     },
     "output_type": "display_data"
    }
   ],
   "source": [
    "plt.plot(age, 'o') \n",
    "plt.xlabel(\"INDEX\")\n",
    "plt.ylabel(\"AGE\")\n",
    "plt.xticks(range(20))\n",
    "mean = age.mean()\n",
    "dev = round(sum(abs(age.mean() - age))/len(age))\n",
    "var = sum((age.mean() - age)**2)/len(age)\n",
    "plt.plot([0, 19], [mean, mean], 'k') \n",
    "plt.plot([0, 19], [mean+dev, mean+dev], 'g')\n",
    "plt.plot([0, 19], [mean-dev, mean-dev], 'g')\n",
    "plt.plot([0, 19], [mean+var, mean+var], 'r')\n",
    "plt.plot([0, 19], [mean-var, mean-var], 'r')\n",
    "plt.show()"
   ]
  },
  {
   "cell_type": "code",
   "execution_count": 27,
   "metadata": {
    "ExecuteTime": {
     "end_time": "2021-08-12T05:26:50.482619Z",
     "start_time": "2021-08-12T05:26:50.473919Z"
    }
   },
   "outputs": [],
   "source": [
    "# variance will cover more than required values so sometimes it can cover the outliers as well\n",
    "# which we don't want to cover"
   ]
  },
  {
   "cell_type": "markdown",
   "metadata": {},
   "source": [
    "$$ STD = \\sqrt{\\frac{\\sum\\limits_{i=1}^N (\\bar x - x_i)^2} {N}}  $$"
   ]
  },
  {
   "cell_type": "code",
   "execution_count": 28,
   "metadata": {
    "ExecuteTime": {
     "end_time": "2021-08-12T05:26:51.339521Z",
     "start_time": "2021-08-12T05:26:50.486620Z"
    }
   },
   "outputs": [
    {
     "data": {
      "image/png": "[encoded data removed]",
      "text/plain": [
       "<Figure size 800x400 with 1 Axes>"
      ]
     },
     "metadata": {},
     "output_type": "display_data"
    }
   ],
   "source": [
    "plt.figure(facecolor=\"black\")\n",
    "plt.plot(age, '*') \n",
    "ax = plt.gca()\n",
    "ax.set_facecolor(\"black\")\n",
    "plt.xlabel(\"INDEX\", color=\"#123456\", fontsize=20)\n",
    "plt.ylabel(\"AGE\", color=\"#123456\", fontsize=20)\n",
    "plt.xticks(range(20))\n",
    "mean = age.mean()\n",
    "dev = round(sum(abs(age.mean() - age))/len(age))\n",
    "var = sum((age.mean() - age)**2)/len(age)\n",
    "std = np.sqrt(var)\n",
    "plt.plot([0, 19], [mean, mean], 'k', label=\"MEAN\") \n",
    "plt.plot([0, 19], [mean+dev, mean+dev], 'g--', label=\"DEVIATION\")\n",
    "plt.plot([0, 19], [mean-dev, mean-dev], 'g--')\n",
    "plt.plot([0, 19], [mean+var, mean+var], 'r--', label=\"VARIANCE\")\n",
    "plt.plot([0, 19], [mean-var, mean-var], 'r--')\n",
    "plt.plot([0, 19], [mean+std, mean+std], 'm--', label='STD')\n",
    "plt.plot([0, 19], [mean-std, mean-std], 'm--')\n",
    "plt.title(\"MEASURES OF SPREAD\", fontsize=25, color=\"#abcdef\")\n",
    "plt.tick_params(labelcolor=\"white\")\n",
    "plt.legend()\n",
    "plt.show()"
   ]
  },
  {
   "cell_type": "code",
   "execution_count": 29,
   "metadata": {
    "ExecuteTime": {
     "end_time": "2021-08-12T05:26:51.355397Z",
     "start_time": "2021-08-12T05:26:51.343519Z"
    }
   },
   "outputs": [
    {
     "data": {
      "text/plain": [
       "2.749545416973504"
      ]
     },
     "execution_count": 29,
     "metadata": {},
     "output_type": "execute_result"
    }
   ],
   "source": [
    "std"
   ]
  },
  {
   "cell_type": "code",
   "execution_count": 30,
   "metadata": {
    "ExecuteTime": {
     "end_time": "2021-08-12T05:26:51.417563Z",
     "start_time": "2021-08-12T05:26:51.359394Z"
    }
   },
   "outputs": [
    {
     "name": "stdout",
     "output_type": "stream",
     "text": [
      "Help on function plot in module matplotlib.pyplot:\n",
      "\n",
      "plot(*args, scalex=True, scaley=True, data=None, **kwargs)\n",
      "    Plot y versus x as lines and/or markers.\n",
      "    \n",
      "    Call signatures::\n",
      "    \n",
      "        plot([x], y, [fmt], *, data=None, **kwargs)\n",
      "        plot([x], y, [fmt], [x2], y2, [fmt2], ..., **kwargs)\n",
      "    \n",
      "    The coordinates of the points or line nodes are given by *x*, *y*.\n",
      "    \n",
      "    The optional parameter *fmt* is a convenient way for defining basic\n",
      "    formatting like color, marker and linestyle. It's a shortcut string\n",
      "    notation described in the *Notes* section below.\n",
      "    \n",
      "    >>> plot(x, y)        # plot x and y using default line style and color\n",
      "    >>> plot(x, y, 'bo')  # plot x and y using blue circle markers\n",
      "    >>> plot(y)           # plot y using x as index array 0..N-1\n",
      "    >>> plot(y, 'r+')     # ditto, but with red plusses\n",
      "    \n",
      "    You can use `.Line2D` properties as keyword arguments for more\n",
      "    control on the appearance. Line properties and *fmt* can be mixed.\n",
      "    The following two calls yield identical results:\n",
      "    \n",
      "    >>> plot(x, y, 'go--', linewidth=2, markersize=12)\n",
      "    >>> plot(x, y, color='green', marker='o', linestyle='dashed',\n",
      "    ...      linewidth=2, markersize=12)\n",
      "    \n",
      "    When conflicting with *fmt*, keyword arguments take precedence.\n",
      "    \n",
      "    \n",
      "    **Plotting labelled data**\n",
      "    \n",
      "    There's a convenient way for plotting objects with labelled data (i.e.\n",
      "    data that can be accessed by index ``obj['y']``). Instead of giving\n",
      "    the data in *x* and *y*, you can provide the object in the *data*\n",
      "    parameter and just give the labels for *x* and *y*::\n",
      "    \n",
      "    >>> plot('xlabel', 'ylabel', data=obj)\n",
      "    \n",
      "    All indexable objects are supported. This could e.g. be a `dict`, a\n",
      "    `pandas.DataFrame` or a structured numpy array.\n",
      "    \n",
      "    \n",
      "    **Plotting multiple sets of data**\n",
      "    \n",
      "    There are various ways to plot multiple sets of data.\n",
      "    \n",
      "    - The most straight forward way is just to call `plot` multiple times.\n",
      "      Example:\n",
      "    \n",
      "      >>> plot(x1, y1, 'bo')\n",
      "      >>> plot(x2, y2, 'go')\n",
      "    \n",
      "    - Alternatively, if your data is already a 2d array, you can pass it\n",
      "      directly to *x*, *y*. A separate data set will be drawn for every\n",
      "      column.\n",
      "    \n",
      "      Example: an array ``a`` where the first column represents the *x*\n",
      "      values and the other columns are the *y* columns::\n",
      "    \n",
      "      >>> plot(a[0], a[1:])\n",
      "    \n",
      "    - The third way is to specify multiple sets of *[x]*, *y*, *[fmt]*\n",
      "      groups::\n",
      "    \n",
      "      >>> plot(x1, y1, 'g^', x2, y2, 'g-')\n",
      "    \n",
      "      In this case, any additional keyword argument applies to all\n",
      "      datasets. Also this syntax cannot be combined with the *data*\n",
      "      parameter.\n",
      "    \n",
      "    By default, each line is assigned a different style specified by a\n",
      "    'style cycle'. The *fmt* and line property parameters are only\n",
      "    necessary if you want explicit deviations from these defaults.\n",
      "    Alternatively, you can also change the style cycle using\n",
      "    :rc:`axes.prop_cycle`.\n",
      "    \n",
      "    \n",
      "    Parameters\n",
      "    ----------\n",
      "    x, y : array-like or scalar\n",
      "        The horizontal / vertical coordinates of the data points.\n",
      "        *x* values are optional and default to ``range(len(y))``.\n",
      "    \n",
      "        Commonly, these parameters are 1D arrays.\n",
      "    \n",
      "        They can also be scalars, or two-dimensional (in that case, the\n",
      "        columns represent separate data sets).\n",
      "    \n",
      "        These arguments cannot be passed as keywords.\n",
      "    \n",
      "    fmt : str, optional\n",
      "        A format string, e.g. 'ro' for red circles. See the *Notes*\n",
      "        section for a full description of the format strings.\n",
      "    \n",
      "        Format strings are just an abbreviation for quickly setting\n",
      "        basic line properties. All of these and more can also be\n",
      "        controlled by keyword arguments.\n",
      "    \n",
      "        This argument cannot be passed as keyword.\n",
      "    \n",
      "    data : indexable object, optional\n",
      "        An object with labelled data. If given, provide the label names to\n",
      "        plot in *x* and *y*.\n",
      "    \n",
      "        .. note::\n",
      "            Technically there's a slight ambiguity in calls where the\n",
      "            second label is a valid *fmt*. ``plot('n', 'o', data=obj)``\n",
      "            could be ``plt(x, y)`` or ``plt(y, fmt)``. In such cases,\n",
      "            the former interpretation is chosen, but a warning is issued.\n",
      "            You may suppress the warning by adding an empty format string\n",
      "            ``plot('n', 'o', '', data=obj)``.\n",
      "    \n",
      "    Returns\n",
      "    -------\n",
      "    list of `.Line2D`\n",
      "        A list of lines representing the plotted data.\n",
      "    \n",
      "    Other Parameters\n",
      "    ----------------\n",
      "    scalex, scaley : bool, default: True\n",
      "        These parameters determine if the view limits are adapted to the\n",
      "        data limits. The values are passed on to `autoscale_view`.\n",
      "    \n",
      "    **kwargs : `.Line2D` properties, optional\n",
      "        *kwargs* are used to specify properties like a line label (for\n",
      "        auto legends), linewidth, antialiasing, marker face color.\n",
      "        Example::\n",
      "    \n",
      "        >>> plot([1, 2, 3], [1, 2, 3], 'go-', label='line 1', linewidth=2)\n",
      "        >>> plot([1, 2, 3], [1, 4, 9], 'rs', label='line 2')\n",
      "    \n",
      "        If you make multiple lines with one plot call, the kwargs\n",
      "        apply to all those lines.\n",
      "    \n",
      "        Here is a list of available `.Line2D` properties:\n",
      "    \n",
      "        Properties:\n",
      "        agg_filter: a filter function, which takes a (m, n, 3) float array and a dpi value, and returns a (m, n, 3) array\n",
      "        alpha: float or None\n",
      "        animated: bool\n",
      "        antialiased or aa: bool\n",
      "        clip_box: `.Bbox`\n",
      "        clip_on: bool\n",
      "        clip_path: Patch or (Path, Transform) or None\n",
      "        color or c: color\n",
      "        contains: unknown\n",
      "        dash_capstyle: {'butt', 'round', 'projecting'}\n",
      "        dash_joinstyle: {'miter', 'round', 'bevel'}\n",
      "        dashes: sequence of floats (on/off ink in points) or (None, None)\n",
      "        data: (2, N) array or two 1D arrays\n",
      "        drawstyle or ds: {'default', 'steps', 'steps-pre', 'steps-mid', 'steps-post'}, default: 'default'\n",
      "        figure: `.Figure`\n",
      "        fillstyle: {'full', 'left', 'right', 'bottom', 'top', 'none'}\n",
      "        gid: str\n",
      "        in_layout: bool\n",
      "        label: object\n",
      "        linestyle or ls: {'-', '--', '-.', ':', '', (offset, on-off-seq), ...}\n",
      "        linewidth or lw: float\n",
      "        marker: marker style string, `~.path.Path` or `~.markers.MarkerStyle`\n",
      "        markeredgecolor or mec: color\n",
      "        markeredgewidth or mew: float\n",
      "        markerfacecolor or mfc: color\n",
      "        markerfacecoloralt or mfcalt: color\n",
      "        markersize or ms: float\n",
      "        markevery: None or int or (int, int) or slice or List[int] or float or (float, float) or List[bool]\n",
      "        path_effects: `.AbstractPathEffect`\n",
      "        picker: unknown\n",
      "        pickradius: float\n",
      "        rasterized: bool or None\n",
      "        sketch_params: (scale: float, length: float, randomness: float)\n",
      "        snap: bool or None\n",
      "        solid_capstyle: {'butt', 'round', 'projecting'}\n",
      "        solid_joinstyle: {'miter', 'round', 'bevel'}\n",
      "        transform: `matplotlib.transforms.Transform`\n",
      "        url: str\n",
      "        visible: bool\n",
      "        xdata: 1D array\n",
      "        ydata: 1D array\n",
      "        zorder: float\n",
      "    \n",
      "    See Also\n",
      "    --------\n",
      "    scatter : XY scatter plot with markers of varying size and/or color (\n",
      "        sometimes also called bubble chart).\n",
      "    \n",
      "    Notes\n",
      "    -----\n",
      "    **Format Strings**\n",
      "    \n",
      "    A format string consists of a part for color, marker and line::\n",
      "    \n",
      "        fmt = '[marker][line][color]'\n",
      "    \n",
      "    Each of them is optional. If not provided, the value from the style\n",
      "    cycle is used. Exception: If ``line`` is given, but no ``marker``,\n",
      "    the data will be a line without markers.\n",
      "    \n",
      "    Other combinations such as ``[color][marker][line]`` are also\n",
      "    supported, but note that their parsing may be ambiguous.\n",
      "    \n",
      "    **Markers**\n",
      "    \n",
      "    =============    ===============================\n",
      "    character        description\n",
      "    =============    ===============================\n",
      "    ``'.'``          point marker\n",
      "    ``','``          pixel marker\n",
      "    ``'o'``          circle marker\n",
      "    ``'v'``          triangle_down marker\n",
      "    ``'^'``          triangle_up marker\n",
      "    ``'<'``          triangle_left marker\n",
      "    ``'>'``          triangle_right marker\n",
      "    ``'1'``          tri_down marker\n",
      "    ``'2'``          tri_up marker\n",
      "    ``'3'``          tri_left marker\n",
      "    ``'4'``          tri_right marker\n",
      "    ``'s'``          square marker\n",
      "    ``'p'``          pentagon marker\n",
      "    ``'*'``          star marker\n",
      "    ``'h'``          hexagon1 marker\n",
      "    ``'H'``          hexagon2 marker\n",
      "    ``'+'``          plus marker\n",
      "    ``'x'``          x marker\n",
      "    ``'D'``          diamond marker\n",
      "    ``'d'``          thin_diamond marker\n",
      "    ``'|'``          vline marker\n",
      "    ``'_'``          hline marker\n",
      "    =============    ===============================\n",
      "    \n",
      "    **Line Styles**\n",
      "    \n",
      "    =============    ===============================\n",
      "    character        description\n",
      "    =============    ===============================\n",
      "    ``'-'``          solid line style\n",
      "    ``'--'``         dashed line style\n",
      "    ``'-.'``         dash-dot line style\n",
      "    ``':'``          dotted line style\n",
      "    =============    ===============================\n",
      "    \n",
      "    Example format strings::\n",
      "    \n",
      "        'b'    # blue markers with default shape\n",
      "        'or'   # red circles\n",
      "        '-g'   # green solid line\n",
      "        '--'   # dashed line with default color\n",
      "        '^k:'  # black triangle_up markers connected by a dotted line\n",
      "    \n",
      "    **Colors**\n",
      "    \n",
      "    The supported color abbreviations are the single letter codes\n",
      "    \n",
      "    =============    ===============================\n",
      "    character        color\n",
      "    =============    ===============================\n",
      "    ``'b'``          blue\n",
      "    ``'g'``          green\n",
      "    ``'r'``          red\n",
      "    ``'c'``          cyan\n",
      "    ``'m'``          magenta\n",
      "    ``'y'``          yellow\n",
      "    ``'k'``          black\n",
      "    ``'w'``          white\n",
      "    =============    ===============================\n",
      "    \n",
      "    and the ``'CN'`` colors that index into the default property cycle.\n",
      "    \n",
      "    If the color"
     ]
    },
    {
     "data": {
      "text/html": [
       "<b>limit_output extension: Maximum message size of 10000 exceeded with 10167 characters</b>"
      ]
     },
     "metadata": {},
     "output_type": "display_data"
    }
   ],
   "source": [
    "help(plt.plot)"
   ]
  },
  {
   "cell_type": "code",
   "execution_count": null,
   "metadata": {},
   "outputs": [],
   "source": []
  }
 ],
 "metadata": {
  "kernelspec": {
   "display_name": "Python 3",
   "language": "python",
   "name": "python3"
  },
  "language_info": {
   "codemirror_mode": {
    "name": "ipython",
    "version": 3
   },
   "file_extension": ".py",
   "mimetype": "text/x-python",
   "name": "python",
   "nbconvert_exporter": "python",
   "pygments_lexer": "ipython3",
   "version": "3.8.8"
  }
 },
 "nbformat": 4,
 "nbformat_minor": 4
}
