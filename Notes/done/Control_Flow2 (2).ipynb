{
 "cells": [
  {
   "cell_type": "markdown",
   "metadata": {},
   "source": [
    "# Loops in  Python "
   ]
  },
  {
   "cell_type": "markdown",
   "metadata": {},
   "source": [
    "1. While\n",
    "2. For"
   ]
  },
  {
   "cell_type": "markdown",
   "metadata": {},
   "source": [
    "Defn --> Loop are used to repeat a statement again and again"
   ]
  },
  {
   "cell_type": "markdown",
   "metadata": {},
   "source": [
    "#Syntax for While"
   ]
  },
  {
   "cell_type": "markdown",
   "metadata": {},
   "source": [
    "\n",
    "       loop variable\n",
    "       while condition:\n",
    "            statements..1\n",
    "            ............2\n",
    "            ............3\n",
    "            ............\n",
    "            ............n\n",
    "            increment or decrement of loop var"
   ]
  },
  {
   "cell_type": "code",
   "execution_count": 1,
   "metadata": {},
   "outputs": [],
   "source": [
    "while 5:\n",
    "    print(\"Hello World\")  #Infinite loop"
   ]
  },
  {
   "cell_type": "code",
   "execution_count": 2,
   "metadata": {},
   "outputs": [],
   "source": [
    "while \"\":\n",
    "    print(\"Ravi Ramawat\")"
   ]
  },
  {
   "cell_type": "code",
   "execution_count": 1,
   "metadata": {},
   "outputs": [
    {
     "name": "stdout",
     "output_type": "stream",
     "text": [
      "1\t2\t3\t4\t5\t6\t7\t8\t9\t10\t11\t12\t13\t14\t15\t16\t17\t18\t19\t20\t21\t22\t23\t24\t25\t26\t27\t28\t29\t30\t31\t32\t33\t34\t35\t36\t37\t38\t39\t40\t41\t42\t43\t44\t45\t46\t47\t48\t49\t50\t51\t52\t53\t54\t55\t56\t57\t58\t59\t60\t61\t62\t63\t64\t65\t66\t67\t68\t69\t70\t71\t72\t73\t74\t75\t76\t77\t78\t79\t80\t81\t82\t83\t84\t85\t86\t87\t88\t89\t90\t91\t92\t93\t94\t95\t96\t97\t98\t99\t100\t"
     ]
    }
   ],
   "source": [
    "c = 1\n",
    "while c<=100:\n",
    "    print(c,end=\"\\t\")\n",
    "    c+=1 #c=c+1"
   ]
  },
  {
   "cell_type": "code",
   "execution_count": 2,
   "metadata": {},
   "outputs": [
    {
     "name": "stdout",
     "output_type": "stream",
     "text": [
      "Hello World\n",
      "Hello World\n",
      "Hello World\n",
      "Hello World\n",
      "Hello World\n",
      "Hello World\n",
      "Hello World\n",
      "Hello World\n",
      "Hello World\n",
      "Hello World\n"
     ]
    }
   ],
   "source": [
    "c = 1\n",
    "while c<=10:\n",
    "    print(\"Hello World\")\n",
    "    c+=1"
   ]
  },
  {
   "cell_type": "code",
   "execution_count": 3,
   "metadata": {},
   "outputs": [
    {
     "name": "stdout",
     "output_type": "stream",
     "text": [
      "100\t99\t98\t97\t96\t95\t94\t93\t92\t91\t90\t89\t88\t87\t86\t85\t84\t83\t82\t81\t80\t79\t78\t77\t76\t75\t74\t73\t72\t71\t70\t69\t68\t67\t66\t65\t64\t63\t62\t61\t60\t59\t58\t57\t56\t55\t54\t53\t52\t51\t50\t49\t48\t47\t46\t45\t44\t43\t42\t41\t40\t39\t38\t37\t36\t35\t34\t33\t32\t31\t30\t29\t28\t27\t26\t25\t24\t23\t22\t21\t20\t19\t18\t17\t16\t15\t14\t13\t12\t11\t10\t9\t8\t7\t6\t5\t4\t3\t2\t1\t0\t"
     ]
    }
   ],
   "source": [
    "c = 100\n",
    "while c>=0:\n",
    "    print(c,end=\"\\t\")\n",
    "    c-=1"
   ]
  },
  {
   "cell_type": "code",
   "execution_count": 16,
   "metadata": {},
   "outputs": [
    {
     "name": "stdout",
     "output_type": "stream",
     "text": [
      "Enter a number -->991\n",
      "991 X  1   =   991 \n",
      "991 X  2   =  1982 \n",
      "991 X  3   =  2973 \n",
      "991 X  4   =  3964 \n",
      "991 X  5   =  4955 \n",
      "991 X  6   =  5946 \n",
      "991 X  7   =  6937 \n",
      "991 X  8   =  7928 \n",
      "991 X  9   =  8919 \n",
      "991 X 10   =  9910 \n"
     ]
    }
   ],
   "source": [
    "#### Table\n",
    "num = int(input(\"Enter a number --> \"))\n",
    "c = 1\n",
    "while c<=10:\n",
    "    print(f\"{num:^3} X {c:^3}  =  {num*c:^5}\")\n",
    "    c+=1"
   ]
  },
  {
   "cell_type": "code",
   "execution_count": 17,
   "metadata": {},
   "outputs": [],
   "source": [
    "#input 1 int no. --> no of values \n",
    "#input \n",
    "#print list"
   ]
  },
  {
   "cell_type": "code",
   "execution_count": 2,
   "metadata": {},
   "outputs": [
    {
     "name": "stdout",
     "output_type": "stream",
     "text": [
      "Enter the number of elements --> 5\n",
      "Enter the element no.1 -->22\n",
      "[22]\n",
      "Enter the element no.2 -->66\n",
      "[22, 66]\n",
      "Enter the element no.3 -->55\n",
      "[22, 66, 55]\n",
      "Enter the element no.4 -->44\n",
      "[22, 66, 55, 44]\n",
      "Enter the element no.5 -->33\n",
      "[22, 66, 55, 44, 33]\n"
     ]
    }
   ],
   "source": [
    "n = int(input(\"Enter the number of elements --> \"))\n",
    "l = []\n",
    "c = 1\n",
    "while c<=n:\n",
    "    e = int(input(f\"Enter the element no.{c} -->\"))\n",
    "    l.append(e)\n",
    "    c+=1\n",
    "    print(l)\n",
    "print(\"Final List --> \",l)"
   ]
  },
  {
   "cell_type": "code",
   "execution_count": 3,
   "metadata": {},
   "outputs": [],
   "source": [
    "# Reserve of a string using while loop"
   ]
  },
  {
   "cell_type": "code",
   "execution_count": 13,
   "metadata": {},
   "outputs": [
    {
     "name": "stdout",
     "output_type": "stream",
     "text": [
      "Enter a String --> Ravi Ramawat\n",
      "tawamaR ivaR"
     ]
    }
   ],
   "source": [
    "s = input(\"Enter a String --> \")\n",
    "c = len(s)-1\n",
    "while c>=0:\n",
    "    print(s[c],end =\"\")\n",
    "    c-=1"
   ]
  },
  {
   "cell_type": "code",
   "execution_count": 14,
   "metadata": {},
   "outputs": [],
   "source": [
    "#Reverse of a int number using while loop"
   ]
  },
  {
   "cell_type": "code",
   "execution_count": 1,
   "metadata": {},
   "outputs": [
    {
     "name": "stdout",
     "output_type": "stream",
     "text": [
      "Enter a number -->1425\n",
      "Reverse of the number is --> 5241\n"
     ]
    }
   ],
   "source": [
    "num = int(input(\"Enter a number -->\"))\n",
    "res = 0\n",
    "while num!=0:\n",
    "    rem = num%10\n",
    "    res = res*10+rem\n",
    "    num = num//10\n",
    "print(f\"Reverse of the number is --> {res}\")"
   ]
  },
  {
   "cell_type": "code",
   "execution_count": 22,
   "metadata": {},
   "outputs": [],
   "source": [
    "# WAP to calculate factorial of a number -->"
   ]
  },
  {
   "cell_type": "code",
   "execution_count": 2,
   "metadata": {},
   "outputs": [
    {
     "data": {
      "text/plain": [
       "154"
      ]
     },
     "execution_count": 2,
     "metadata": {},
     "output_type": "execute_result"
    }
   ],
   "source": [
    "1545//10"
   ]
  },
  {
   "cell_type": "code",
   "execution_count": 25,
   "metadata": {},
   "outputs": [
    {
     "name": "stdout",
     "output_type": "stream",
     "text": [
      "Enter a number -->5\n",
      "Factorial --> 120\n"
     ]
    }
   ],
   "source": [
    "num = int(input(\"Enter a number -->\"))\n",
    "c = 1\n",
    "fact = 1\n",
    "while c<=num:\n",
    "    fact*=c\n",
    "    c+=1\n",
    "print(\"Factorial -->\",fact)"
   ]
  },
  {
   "cell_type": "code",
   "execution_count": 26,
   "metadata": {
    "code_folding": []
   },
   "outputs": [],
   "source": [
    "#WAP to print fibonacci series"
   ]
  },
  {
   "cell_type": "markdown",
   "metadata": {},
   "source": [
    "0 1 1 2 3 5 8 13 21 34 55 89 144.........."
   ]
  },
  {
   "cell_type": "code",
   "execution_count": 32,
   "metadata": {},
   "outputs": [
    {
     "name": "stdout",
     "output_type": "stream",
     "text": [
      "Enter the number of terms --> 4\n",
      "0 1 1 2 "
     ]
    }
   ],
   "source": [
    "n = int(input(\"Enter the number of terms --> \"))\n",
    "a = 0\n",
    "b = 1\n",
    "var = 1\n",
    "while var<=n:\n",
    "    c = a+b\n",
    "    print(a,end = \" \")\n",
    "    a = b\n",
    "    b = c\n",
    "    var+=1"
   ]
  },
  {
   "cell_type": "code",
   "execution_count": 33,
   "metadata": {},
   "outputs": [],
   "source": [
    "#WAP to check whether a number is prime or not"
   ]
  },
  {
   "cell_type": "code",
   "execution_count": 39,
   "metadata": {},
   "outputs": [
    {
     "ename": "ValueError",
     "evalue": "not enough values to unpack (expected 2, got 1)",
     "output_type": "error",
     "traceback": [
      "\u001b[1;31m---------------------------------------------------------------------------\u001b[0m",
      "\u001b[1;31mValueError\u001b[0m                                Traceback (most recent call last)",
      "\u001b[1;32m<ipython-input-39-4aee38e9e906>\u001b[0m in \u001b[0;36m<module>\u001b[1;34m\u001b[0m\n\u001b[1;32m----> 1\u001b[1;33m \u001b[0ma\u001b[0m\u001b[1;33m,\u001b[0m\u001b[0mb\u001b[0m \u001b[1;33m=\u001b[0m \u001b[1;34m\"R\"\u001b[0m\u001b[1;33m\u001b[0m\u001b[1;33m\u001b[0m\u001b[0m\n\u001b[0m",
      "\u001b[1;31mValueError\u001b[0m: not enough values to unpack (expected 2, got 1)"
     ]
    }
   ],
   "source": [
    "a,b = \"R\""
   ]
  },
  {
   "cell_type": "code",
   "execution_count": 40,
   "metadata": {},
   "outputs": [
    {
     "data": {
      "text/plain": [
       "1.0"
      ]
     },
     "execution_count": 40,
     "metadata": {},
     "output_type": "execute_result"
    }
   ],
   "source": [
    "1..(2........................n-1)...n"
   ]
  },
  {
   "cell_type": "code",
   "execution_count": 2,
   "metadata": {},
   "outputs": [
    {
     "name": "stdout",
     "output_type": "stream",
     "text": [
      "Hello World\n",
      "World\n"
     ]
    }
   ],
   "source": [
    "print(\"Hello World\\nWorld\")"
   ]
  },
  {
   "cell_type": "code",
   "execution_count": 3,
   "metadata": {},
   "outputs": [
    {
     "name": "stdout",
     "output_type": "stream",
     "text": [
      "World\n"
     ]
    }
   ],
   "source": [
    "print(\"Hello World\\rWorld\")"
   ]
  },
  {
   "cell_type": "code",
   "execution_count": 4,
   "metadata": {},
   "outputs": [
    {
     "name": "stdout",
     "output_type": "stream",
     "text": [
      "Hello\\nEveryone\n"
     ]
    }
   ],
   "source": [
    "print(r\"Hello\\nEveryone\")"
   ]
  },
  {
   "cell_type": "code",
   "execution_count": 3,
   "metadata": {},
   "outputs": [
    {
     "name": "stdout",
     "output_type": "stream",
     "text": [
      "Enter a number -->3\n",
      "3 is Prime\n"
     ]
    }
   ],
   "source": [
    "num = int(input(\"Enter a number -->\"))\n",
    "c = 2\n",
    "flag = 1\n",
    "while c<num:\n",
    "    if num%c==0:\n",
    "        flag=0\n",
    "        break\n",
    "    else:\n",
    "        flag=1\n",
    "    c+=1\n",
    "if flag==1:\n",
    "    print(f\"{num} is Prime\")\n",
    "else:\n",
    "    print(f\"{num} is Non-Prime\")"
   ]
  },
  {
   "cell_type": "code",
   "execution_count": 25,
   "metadata": {},
   "outputs": [],
   "source": [
    "from math import sqrt"
   ]
  },
  {
   "cell_type": "code",
   "execution_count": 33,
   "metadata": {},
   "outputs": [
    {
     "name": "stdout",
     "output_type": "stream",
     "text": [
      "Enter a number -->0\n",
      "0 is Prime\n"
     ]
    }
   ],
   "source": [
    "num = int(input(\"Enter a number -->\"))\n",
    "c = 2\n",
    "flag = 1\n",
    "check=round(sqrt(num))\n",
    "while c<check:\n",
    "    if num%c==0:\n",
    "        flag=0\n",
    "        break\n",
    "    else:\n",
    "        flag=1\n",
    "    c+=1\n",
    "if flag==1:\n",
    "    print(f\"{num} is Prime\")\n",
    "else:\n",
    "    print(f\"{num} is Non-Prime\")"
   ]
  },
  {
   "cell_type": "code",
   "execution_count": 70,
   "metadata": {},
   "outputs": [
    {
     "name": "stdout",
     "output_type": "stream",
     "text": [
      "Enter a number -->4999\n",
      "4999 is Prime\n"
     ]
    }
   ],
   "source": [
    "num = int(input(\"Enter a number -->\"))\n",
    "c = 2\n",
    "check=round(sqrt(num))\n",
    "while c<=check:\n",
    "    if num%c==0:\n",
    "        print(f\"{num} is Non-Prime\")\n",
    "        break\n",
    "    c+=1\n",
    "else:\n",
    "    print(f\"{num} is Prime\")"
   ]
  },
  {
   "cell_type": "code",
   "execution_count": 60,
   "metadata": {},
   "outputs": [
    {
     "data": {
      "text/plain": [
       "2.0"
      ]
     },
     "execution_count": 60,
     "metadata": {},
     "output_type": "execute_result"
    }
   ],
   "source": [
    "sqrt(4)"
   ]
  },
  {
   "cell_type": "code",
   "execution_count": 34,
   "metadata": {},
   "outputs": [],
   "source": [
    "#Armstrong number"
   ]
  },
  {
   "cell_type": "code",
   "execution_count": 47,
   "metadata": {},
   "outputs": [
    {
     "name": "stdout",
     "output_type": "stream",
     "text": [
      "Enter a number --> 1634\n",
      "1634 is Armstrong NUmber!!\n"
     ]
    }
   ],
   "source": [
    "num = int(input(\"Enter a number --> \"))\n",
    "v = num\n",
    "copy = num\n",
    "res = 0\n",
    "count = 0\n",
    "while num!=0:\n",
    "    num//=10\n",
    "    count+=1\n",
    "while copy!=0:\n",
    "    rem = copy%10\n",
    "    res = res+rem**count\n",
    "    copy//=10\n",
    "if v == res:\n",
    "    print(f\"{v} is Armstrong NUmber!!\")\n",
    "else:\n",
    "    print(f\"{v} is Not an Armstrong Number!!\")"
   ]
  },
  {
   "cell_type": "code",
   "execution_count": 48,
   "metadata": {},
   "outputs": [],
   "source": [
    "#Prime in a range"
   ]
  },
  {
   "cell_type": "code",
   "execution_count": 72,
   "metadata": {},
   "outputs": [
    {
     "name": "stdout",
     "output_type": "stream",
     "text": [
      "Enter the starting point and stop stop point of the range (comma separated) -->2,100\n",
      "2\t3\t5\t7\t11\t13\t17\t19\t23\t29\t31\t37\t41\t43\t47\t53\t59\t61\t67\t71\t73\t79\t83\t89\t97\t"
     ]
    }
   ],
   "source": [
    "s,e = map(int,input(\"Enter the starting point and stop stop point of the range (comma separated) -->\").split(\",\"))\n",
    "while s<=e:\n",
    "    c = 2\n",
    "    check=round(sqrt(s))\n",
    "    while c<=check:\n",
    "        if s%c==0:\n",
    "            break\n",
    "        c+=1\n",
    "    else:\n",
    "        print(s,end=\"\\t\")\n",
    "    s+=1"
   ]
  },
  {
   "cell_type": "code",
   "execution_count": 14,
   "metadata": {},
   "outputs": [
    {
     "name": "stdout",
     "output_type": "stream",
     "text": [
      "Hello\n",
      "how\n",
      "hope\n",
      "home\n"
     ]
    }
   ],
   "source": [
    "s = \"Hello Guys how are you , I hope you all are fine at home , stay safe use mask.\"\n",
    "s=s.split()\n",
    "c=0\n",
    "while c<len(s):\n",
    "    if s[c].lower()[0]=='h':\n",
    "        print(s[c])\n",
    "    c+=1"
   ]
  },
  {
   "cell_type": "code",
   "execution_count": 16,
   "metadata": {},
   "outputs": [
    {
     "name": "stdout",
     "output_type": "stream",
     "text": [
      "Guys\n",
      "hope\n",
      "fine\n",
      "home\n",
      "stay\n",
      "safe\n"
     ]
    }
   ],
   "source": [
    "s = \"Hello Guys how are you , I hope you all are fine at home , stay safe use mask.\"\n",
    "s=s.split()\n",
    "c=0\n",
    "while c<len(s):\n",
    "    if len(s[c])==4:\n",
    "        print(s[c])\n",
    "    c+=1"
   ]
  },
  {
   "cell_type": "code",
   "execution_count": 18,
   "metadata": {},
   "outputs": [],
   "source": [
    "s = ['Hi','Hello','cry','hey','dry','hola','fry','cola','try','Python','why']\n",
    "#HW --> print all the word which contain a vowel in it from s"
   ]
  },
  {
   "cell_type": "code",
   "execution_count": 3,
   "metadata": {
    "ExecuteTime": {
     "end_time": "2021-05-13T11:30:29.117423Z",
     "start_time": "2021-05-13T11:30:29.109423Z"
    }
   },
   "outputs": [
    {
     "name": "stdout",
     "output_type": "stream",
     "text": [
      "10\n",
      "10\n"
     ]
    }
   ],
   "source": [
    "x=5\n",
    "\n",
    "def hey():\n",
    "    global x\n",
    "    x+=5\n",
    "    print(x)\n",
    "hey()\n",
    "print(x)"
   ]
  },
  {
   "cell_type": "code",
   "execution_count": null,
   "metadata": {},
   "outputs": [],
   "source": []
  }
 ],
 "metadata": {
  "hide_input": false,
  "kernelspec": {
   "display_name": "Python 3",
   "language": "python",
   "name": "python3"
  },
  "language_info": {
   "codemirror_mode": {
    "name": "ipython",
    "version": 3
   },
   "file_extension": ".py",
   "mimetype": "text/x-python",
   "name": "python",
   "nbconvert_exporter": "python",
   "pygments_lexer": "ipython3",
   "version": "3.8.5"
  },
  "toc": {
   "base_numbering": 1,
   "nav_menu": {},
   "number_sections": true,
   "sideBar": true,
   "skip_h1_title": false,
   "title_cell": "Table of Contents",
   "title_sidebar": "Contents",
   "toc_cell": false,
   "toc_position": {},
   "toc_section_display": true,
   "toc_window_display": false
  },
  "varInspector": {
   "cols": {
    "lenName": 16,
    "lenType": 16,
    "lenVar": 40
   },
   "kernels_config": {
    "python": {
     "delete_cmd_postfix": "",
     "delete_cmd_prefix": "del ",
     "library": "var_list.py",
     "varRefreshCmd": "print(var_dic_list())"
    },
    "r": {
     "delete_cmd_postfix": ") ",
     "delete_cmd_prefix": "rm(",
     "library": "var_list.r",
     "varRefreshCmd": "cat(var_dic_list()) "
    }
   },
   "types_to_exclude": [
    "module",
    "function",
    "builtin_function_or_method",
    "instance",
    "_Feature"
   ],
   "window_display": false
  }
 },
 "nbformat": 4,
 "nbformat_minor": 4
}
