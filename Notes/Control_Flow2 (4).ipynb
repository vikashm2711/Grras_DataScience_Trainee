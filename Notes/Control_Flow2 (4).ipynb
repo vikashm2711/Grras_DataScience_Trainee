{
 "cells": [
  {
   "cell_type": "markdown",
   "metadata": {},
   "source": [
    "# Loops in  Python "
   ]
  },
  {
   "cell_type": "markdown",
   "metadata": {},
   "source": [
    "1. While\n",
    "2. For"
   ]
  },
  {
   "cell_type": "markdown",
   "metadata": {},
   "source": [
    "Defn --> Loop are used to repeat a statement again and again"
   ]
  },
  {
   "cell_type": "markdown",
   "metadata": {},
   "source": [
    "#Syntax for While"
   ]
  },
  {
   "cell_type": "markdown",
   "metadata": {},
   "source": [
    "\n",
    "       loop variable\n",
    "       while condition:\n",
    "            statements..1\n",
    "            ............2\n",
    "            ............3\n",
    "            ............\n",
    "            ............n\n",
    "            increment or decrement of loop var"
   ]
  },
  {
   "cell_type": "code",
   "execution_count": 1,
   "metadata": {},
   "outputs": [],
   "source": [
    "while 5:\n",
    "    print(\"Hello World\")  #Infinite loop"
   ]
  },
  {
   "cell_type": "code",
   "execution_count": 2,
   "metadata": {},
   "outputs": [],
   "source": [
    "while \"\":\n",
    "    print(\"Ravi Ramawat\")"
   ]
  },
  {
   "cell_type": "code",
   "execution_count": 1,
   "metadata": {},
   "outputs": [
    {
     "name": "stdout",
     "output_type": "stream",
     "text": [
      "1\t2\t3\t4\t5\t6\t7\t8\t9\t10\t11\t12\t13\t14\t15\t16\t17\t18\t19\t20\t21\t22\t23\t24\t25\t26\t27\t28\t29\t30\t31\t32\t33\t34\t35\t36\t37\t38\t39\t40\t41\t42\t43\t44\t45\t46\t47\t48\t49\t50\t51\t52\t53\t54\t55\t56\t57\t58\t59\t60\t61\t62\t63\t64\t65\t66\t67\t68\t69\t70\t71\t72\t73\t74\t75\t76\t77\t78\t79\t80\t81\t82\t83\t84\t85\t86\t87\t88\t89\t90\t91\t92\t93\t94\t95\t96\t97\t98\t99\t100\t"
     ]
    }
   ],
   "source": [
    "c = 1\n",
    "while c<=100:\n",
    "    print(c,end=\"\\t\")\n",
    "    c+=1 #c=c+1"
   ]
  },
  {
   "cell_type": "code",
   "execution_count": 2,
   "metadata": {},
   "outputs": [
    {
     "name": "stdout",
     "output_type": "stream",
     "text": [
      "Hello World\n",
      "Hello World\n",
      "Hello World\n",
      "Hello World\n",
      "Hello World\n",
      "Hello World\n",
      "Hello World\n",
      "Hello World\n",
      "Hello World\n",
      "Hello World\n"
     ]
    }
   ],
   "source": [
    "c = 1\n",
    "while c<=10:\n",
    "    print(\"Hello World\")\n",
    "    c+=1"
   ]
  },
  {
   "cell_type": "code",
   "execution_count": 3,
   "metadata": {},
   "outputs": [
    {
     "name": "stdout",
     "output_type": "stream",
     "text": [
      "100\t99\t98\t97\t96\t95\t94\t93\t92\t91\t90\t89\t88\t87\t86\t85\t84\t83\t82\t81\t80\t79\t78\t77\t76\t75\t74\t73\t72\t71\t70\t69\t68\t67\t66\t65\t64\t63\t62\t61\t60\t59\t58\t57\t56\t55\t54\t53\t52\t51\t50\t49\t48\t47\t46\t45\t44\t43\t42\t41\t40\t39\t38\t37\t36\t35\t34\t33\t32\t31\t30\t29\t28\t27\t26\t25\t24\t23\t22\t21\t20\t19\t18\t17\t16\t15\t14\t13\t12\t11\t10\t9\t8\t7\t6\t5\t4\t3\t2\t1\t0\t"
     ]
    }
   ],
   "source": [
    "c = 100\n",
    "while c>=0:\n",
    "    print(c,end=\"\\t\")\n",
    "    c-=1"
   ]
  },
  {
   "cell_type": "code",
   "execution_count": 16,
   "metadata": {},
   "outputs": [
    {
     "name": "stdout",
     "output_type": "stream",
     "text": [
      "Enter a number -->991\n",
      "991 X  1   =   991 \n",
      "991 X  2   =  1982 \n",
      "991 X  3   =  2973 \n",
      "991 X  4   =  3964 \n",
      "991 X  5   =  4955 \n",
      "991 X  6   =  5946 \n",
      "991 X  7   =  6937 \n",
      "991 X  8   =  7928 \n",
      "991 X  9   =  8919 \n",
      "991 X 10   =  9910 \n"
     ]
    }
   ],
   "source": [
    "#### Table\n",
    "num = int(input(\"Enter a number --> \"))\n",
    "c = 1\n",
    "while c<=10:\n",
    "    print(f\"{num:^3} X {c:^3}  =  {num*c:^5}\")\n",
    "    c+=1"
   ]
  },
  {
   "cell_type": "code",
   "execution_count": 17,
   "metadata": {},
   "outputs": [],
   "source": [
    "#input 1 int no. --> no of values \n",
    "#input \n",
    "#print list"
   ]
  },
  {
   "cell_type": "code",
   "execution_count": 2,
   "metadata": {},
   "outputs": [
    {
     "name": "stdout",
     "output_type": "stream",
     "text": [
      "Enter the number of elements --> 5\n",
      "Enter the element no.1 -->22\n",
      "[22]\n",
      "Enter the element no.2 -->66\n",
      "[22, 66]\n",
      "Enter the element no.3 -->55\n",
      "[22, 66, 55]\n",
      "Enter the element no.4 -->44\n",
      "[22, 66, 55, 44]\n",
      "Enter the element no.5 -->33\n",
      "[22, 66, 55, 44, 33]\n"
     ]
    }
   ],
   "source": [
    "n = int(input(\"Enter the number of elements --> \"))\n",
    "l = []\n",
    "c = 1\n",
    "while c<=n:\n",
    "    e = int(input(f\"Enter the element no.{c} -->\"))\n",
    "    l.append(e)\n",
    "    c+=1\n",
    "    print(l)\n",
    "print(\"Final List --> \",l)"
   ]
  },
  {
   "cell_type": "code",
   "execution_count": 3,
   "metadata": {},
   "outputs": [],
   "source": [
    "# Reserve of a string using while loop"
   ]
  },
  {
   "cell_type": "code",
   "execution_count": 13,
   "metadata": {},
   "outputs": [
    {
     "name": "stdout",
     "output_type": "stream",
     "text": [
      "Enter a String --> Ravi Ramawat\n",
      "tawamaR ivaR"
     ]
    }
   ],
   "source": [
    "s = input(\"Enter a String --> \")\n",
    "c = len(s)-1\n",
    "while c>=0:\n",
    "    print(s[c],end =\"\")\n",
    "    c-=1"
   ]
  },
  {
   "cell_type": "code",
   "execution_count": 14,
   "metadata": {},
   "outputs": [],
   "source": [
    "#Reverse of a int number using while loop"
   ]
  },
  {
   "cell_type": "code",
   "execution_count": 21,
   "metadata": {},
   "outputs": [
    {
     "name": "stdout",
     "output_type": "stream",
     "text": [
      "Enter a number -->1234\n",
      "Reverse of the number is --> 4321\n"
     ]
    }
   ],
   "source": [
    "num = int(input(\"Enter a number -->\"))\n",
    "res = 0\n",
    "while num!=0:\n",
    "    rem = num%10\n",
    "    res = res*10+rem\n",
    "    num = num//10\n",
    "print(f\"Reverse of the number is --> {res}\")"
   ]
  },
  {
   "cell_type": "code",
   "execution_count": 22,
   "metadata": {},
   "outputs": [],
   "source": [
    "# WAP to calculate factorial of a number -->"
   ]
  },
  {
   "cell_type": "code",
   "execution_count": 25,
   "metadata": {},
   "outputs": [
    {
     "name": "stdout",
     "output_type": "stream",
     "text": [
      "Enter a number -->5\n",
      "Factorial --> 120\n"
     ]
    }
   ],
   "source": [
    "num = int(input(\"Enter a number -->\"))\n",
    "c = 1\n",
    "fact = 1\n",
    "while c<=num:\n",
    "    fact*=c\n",
    "    c+=1\n",
    "print(\"Factorial -->\",fact)"
   ]
  },
  {
   "cell_type": "code",
   "execution_count": 26,
   "metadata": {},
   "outputs": [],
   "source": [
    "#WAP to print fibonacci series"
   ]
  },
  {
   "cell_type": "markdown",
   "metadata": {},
   "source": [
    "0 1 1 2 3 5 8 13 21 34 55 89 144.........."
   ]
  },
  {
   "cell_type": "code",
   "execution_count": 32,
   "metadata": {},
   "outputs": [
    {
     "name": "stdout",
     "output_type": "stream",
     "text": [
      "Enter the number of terms --> 4\n",
      "0 1 1 2 "
     ]
    }
   ],
   "source": [
    "n = int(input(\"Enter the number of terms --> \"))\n",
    "a = 0\n",
    "b = 1\n",
    "var = 1\n",
    "while var<=n:\n",
    "    c = a+b\n",
    "    print(a,end = \" \")\n",
    "    a = b\n",
    "    b = c\n",
    "    var+=1"
   ]
  },
  {
   "cell_type": "code",
   "execution_count": 33,
   "metadata": {},
   "outputs": [],
   "source": [
    "#WAP to check whether a number is prime or not"
   ]
  },
  {
   "cell_type": "code",
   "execution_count": 39,
   "metadata": {},
   "outputs": [
    {
     "ename": "ValueError",
     "evalue": "not enough values to unpack (expected 2, got 1)",
     "output_type": "error",
     "traceback": [
      "\u001b[1;31m---------------------------------------------------------------------------\u001b[0m",
      "\u001b[1;31mValueError\u001b[0m                                Traceback (most recent call last)",
      "\u001b[1;32m<ipython-input-39-4aee38e9e906>\u001b[0m in \u001b[0;36m<module>\u001b[1;34m\u001b[0m\n\u001b[1;32m----> 1\u001b[1;33m \u001b[0ma\u001b[0m\u001b[1;33m,\u001b[0m\u001b[0mb\u001b[0m \u001b[1;33m=\u001b[0m \u001b[1;34m\"R\"\u001b[0m\u001b[1;33m\u001b[0m\u001b[1;33m\u001b[0m\u001b[0m\n\u001b[0m",
      "\u001b[1;31mValueError\u001b[0m: not enough values to unpack (expected 2, got 1)"
     ]
    }
   ],
   "source": [
    "a,b = \"R\""
   ]
  },
  {
   "cell_type": "code",
   "execution_count": 40,
   "metadata": {},
   "outputs": [
    {
     "data": {
      "text/plain": [
       "1.0"
      ]
     },
     "execution_count": 40,
     "metadata": {},
     "output_type": "execute_result"
    }
   ],
   "source": [
    "1..(2........................n-1)...n"
   ]
  },
  {
   "cell_type": "code",
   "execution_count": 2,
   "metadata": {},
   "outputs": [
    {
     "name": "stdout",
     "output_type": "stream",
     "text": [
      "Hello World\n",
      "World\n"
     ]
    }
   ],
   "source": [
    "print(\"Hello World\\nWorld\")"
   ]
  },
  {
   "cell_type": "code",
   "execution_count": 3,
   "metadata": {},
   "outputs": [
    {
     "name": "stdout",
     "output_type": "stream",
     "text": [
      "World\n"
     ]
    }
   ],
   "source": [
    "print(\"Hello World\\rWorld\")"
   ]
  },
  {
   "cell_type": "code",
   "execution_count": 4,
   "metadata": {},
   "outputs": [
    {
     "name": "stdout",
     "output_type": "stream",
     "text": [
      "Hello\\nEveryone\n"
     ]
    }
   ],
   "source": [
    "print(r\"Hello\\nEveryone\")"
   ]
  },
  {
   "cell_type": "code",
   "execution_count": 28,
   "metadata": {},
   "outputs": [
    {
     "name": "stdout",
     "output_type": "stream",
     "text": [
      "Enter a number -->163\n",
      "163 is Prime\n"
     ]
    }
   ],
   "source": [
    "num = int(input(\"Enter a number -->\"))\n",
    "c = 2\n",
    "flag = 1\n",
    "while c<num:\n",
    "    if num%c==0:\n",
    "        flag=0\n",
    "        break\n",
    "    else:\n",
    "        flag=1\n",
    "    c+=1\n",
    "if flag==1:\n",
    "    print(f\"{num} is Prime\")\n",
    "else:\n",
    "    print(f\"{num} is Non-Prime\")"
   ]
  },
  {
   "cell_type": "code",
   "execution_count": 25,
   "metadata": {},
   "outputs": [],
   "source": [
    "from math import sqrt"
   ]
  },
  {
   "cell_type": "code",
   "execution_count": 33,
   "metadata": {},
   "outputs": [
    {
     "name": "stdout",
     "output_type": "stream",
     "text": [
      "Enter a number -->0\n",
      "0 is Prime\n"
     ]
    }
   ],
   "source": [
    "num = int(input(\"Enter a number -->\"))\n",
    "c = 2\n",
    "flag = 1\n",
    "check=round(sqrt(num))\n",
    "while c<check:\n",
    "    if num%c==0:\n",
    "        flag=0\n",
    "        break\n",
    "    else:\n",
    "        flag=1\n",
    "    c+=1\n",
    "if flag==1:\n",
    "    print(f\"{num} is Prime\")\n",
    "else:\n",
    "    print(f\"{num} is Non-Prime\")"
   ]
  },
  {
   "cell_type": "code",
   "execution_count": 70,
   "metadata": {},
   "outputs": [
    {
     "name": "stdout",
     "output_type": "stream",
     "text": [
      "Enter a number -->4999\n",
      "4999 is Prime\n"
     ]
    }
   ],
   "source": [
    "num = int(input(\"Enter a number -->\"))\n",
    "c = 2\n",
    "check=round(sqrt(num))\n",
    "while c<=check:\n",
    "    if num%c==0:\n",
    "        print(f\"{num} is Non-Prime\")\n",
    "        break\n",
    "    c+=1\n",
    "else:\n",
    "    print(f\"{num} is Prime\")"
   ]
  },
  {
   "cell_type": "code",
   "execution_count": 60,
   "metadata": {},
   "outputs": [
    {
     "data": {
      "text/plain": [
       "2.0"
      ]
     },
     "execution_count": 60,
     "metadata": {},
     "output_type": "execute_result"
    }
   ],
   "source": [
    "sqrt(4)"
   ]
  },
  {
   "cell_type": "code",
   "execution_count": 34,
   "metadata": {},
   "outputs": [],
   "source": [
    "#Armstrong number"
   ]
  },
  {
   "cell_type": "code",
   "execution_count": 47,
   "metadata": {},
   "outputs": [
    {
     "name": "stdout",
     "output_type": "stream",
     "text": [
      "Enter a number --> 1634\n",
      "1634 is Armstrong NUmber!!\n"
     ]
    }
   ],
   "source": [
    "num = int(input(\"Enter a number --> \"))\n",
    "v = num\n",
    "copy = num\n",
    "res = 0\n",
    "count = 0\n",
    "while num!=0:\n",
    "    num//=10\n",
    "    count+=1\n",
    "while copy!=0:\n",
    "    rem = copy%10\n",
    "    res = res+rem**count\n",
    "    copy//=10\n",
    "if v == res:\n",
    "    print(f\"{v} is Armstrong NUmber!!\")\n",
    "else:\n",
    "    print(f\"{v} is Not an Armstrong Number!!\")"
   ]
  },
  {
   "cell_type": "code",
   "execution_count": 48,
   "metadata": {},
   "outputs": [],
   "source": [
    "#Prime in a range"
   ]
  },
  {
   "cell_type": "code",
   "execution_count": 72,
   "metadata": {},
   "outputs": [
    {
     "name": "stdout",
     "output_type": "stream",
     "text": [
      "Enter the starting point and stop stop point of the range (comma separated) -->2,100\n",
      "2\t3\t5\t7\t11\t13\t17\t19\t23\t29\t31\t37\t41\t43\t47\t53\t59\t61\t67\t71\t73\t79\t83\t89\t97\t"
     ]
    }
   ],
   "source": [
    "s,e = map(int,input(\"Enter the starting point and stop stop point of the range (comma separated) -->\").split(\",\"))\n",
    "while s<=e:\n",
    "    c = 2\n",
    "    check=round(sqrt(s))\n",
    "    while c<=check:\n",
    "        if s%c==0:\n",
    "            break\n",
    "        c+=1\n",
    "    else:\n",
    "        print(s,end=\"\\t\")\n",
    "    s+=1"
   ]
  },
  {
   "cell_type": "code",
   "execution_count": 14,
   "metadata": {},
   "outputs": [
    {
     "name": "stdout",
     "output_type": "stream",
     "text": [
      "Hello\n",
      "how\n",
      "hope\n",
      "home\n"
     ]
    }
   ],
   "source": [
    "s = \"Hello Guys how are you , I hope you all are fine at home , stay safe use mask.\"\n",
    "s=s.split()\n",
    "c=0\n",
    "while c<len(s):\n",
    "    if s[c].lower()[0]=='h':\n",
    "        print(s[c])\n",
    "    c+=1"
   ]
  },
  {
   "cell_type": "code",
   "execution_count": 16,
   "metadata": {},
   "outputs": [
    {
     "name": "stdout",
     "output_type": "stream",
     "text": [
      "Guys\n",
      "hope\n",
      "fine\n",
      "home\n",
      "stay\n",
      "safe\n"
     ]
    }
   ],
   "source": [
    "s = \"Hello Guys how are you , I hope you all are fine at home , stay safe use mask.\"\n",
    "s=s.split()\n",
    "c=0\n",
    "while c<len(s):\n",
    "    if len(s[c])==4:\n",
    "        print(s[c])\n",
    "    c+=1"
   ]
  },
  {
   "cell_type": "code",
   "execution_count": 18,
   "metadata": {},
   "outputs": [],
   "source": [
    "s = ['Hi','Hello','cry','hey','dry','hola','fry','cola','try','Python','why']\n",
    "#HW --> print all the word which contain a vowel in it from s"
   ]
  },
  {
   "cell_type": "code",
   "execution_count": 6,
   "metadata": {},
   "outputs": [
    {
     "name": "stdout",
     "output_type": "stream",
     "text": [
      "Hi\n",
      "Hello\n",
      "hey\n",
      "hola\n",
      "cola\n",
      "Python\n"
     ]
    }
   ],
   "source": [
    "s = ['Hi','Hello','cry','hey','dry','hola','fry','cola','try','Python','why']\n",
    "v = \"a e i o u\".split()\n",
    "c = 0\n",
    "while c<len(s):\n",
    "    d = 0\n",
    "    while d<len(s[c]):\n",
    "        if s[c][d] in v:\n",
    "            print(s[c])\n",
    "            break\n",
    "        d+=1\n",
    "    c+=1"
   ]
  },
  {
   "cell_type": "code",
   "execution_count": 8,
   "metadata": {},
   "outputs": [
    {
     "name": "stdout",
     "output_type": "stream",
     "text": [
      "red mango\n",
      "red apple\n",
      "red berries\n",
      "red papaya\n",
      "green mango\n",
      "green apple\n",
      "green berries\n",
      "green papaya\n",
      "blue mango\n",
      "blue apple\n",
      "blue berries\n",
      "blue papaya\n",
      "orange mango\n",
      "orange apple\n",
      "orange berries\n",
      "orange papaya\n"
     ]
    }
   ],
   "source": [
    "colors = ['red','green','blue','orange']\n",
    "fruits = ['mango','apple','berries','papaya']\n",
    "c = 0\n",
    "while c<len(colors):\n",
    "    d = 0\n",
    "    while d<len(fruits):\n",
    "        print(colors[c],fruits[d])\n",
    "        d+=1\n",
    "    c+=1"
   ]
  },
  {
   "cell_type": "code",
   "execution_count": 9,
   "metadata": {},
   "outputs": [],
   "source": [
    "#Game --> Rock, Paper and Scissors"
   ]
  },
  {
   "cell_type": "code",
   "execution_count": 2,
   "metadata": {},
   "outputs": [
    {
     "name": "stdout",
     "output_type": "stream",
     "text": [
      "Enter your Name --> Ravi\n",
      "*****************************************************************************************************************************\n",
      "-----------------------------------------------------------------------------------------------------------------------------\n",
      "                                               Welcome to Rock Paper & Scissors                                              \n",
      "-----------------------------------------------------------------------------------------------------------------------------\n",
      "*****************************************************************************************************************************\n",
      "Enter your choice (r|p|s) --> r\n",
      "Match Ties!!! com --> r\n",
      "Do you want to play again??? y\n",
      "Enter your choice (r|p|s) --> p\n",
      "Ravi Wins!!! com --> r\n",
      "Do you want to play again??? y\n",
      "Enter your choice (r|p|s) --> s\n",
      "Ravi Wins!!! com --> p\n",
      "Do you want to play again??? n\n",
      "Thank You\n"
     ]
    }
   ],
   "source": [
    "from random import choice\n",
    "l = ['r','p','s']\n",
    "win = [('r','s'),('p','r'),('s','p')]\n",
    "name = input(\"Enter your Name --> \")\n",
    "print(\"*\"*125)\n",
    "print(\"-\"*125)\n",
    "print(\"Welcome to Rock Paper & Scissors\".center(125))\n",
    "print(\"-\"*125)\n",
    "print(\"*\"*125)\n",
    "while True:\n",
    "    com = choice(l)\n",
    "    p = input(\"Enter your choice (r|p|s) --> \")\n",
    "    if (p,com) in win:\n",
    "        print(f\"{name} Wins!!! com --> {com}\")\n",
    "    elif p==com:\n",
    "        print(f\"Match Ties!!! com --> {com}\")\n",
    "    else:\n",
    "        print(f\"Computer Player Wins  com --> {com}\")\n",
    "    ch = input(\"Do you want to play again??? \")\n",
    "    if ch == \"yes\" or ch == \"y\":\n",
    "        continue\n",
    "    else:\n",
    "        print(\"Thank You\")\n",
    "        break"
   ]
  },
  {
   "cell_type": "code",
   "execution_count": 10,
   "metadata": {},
   "outputs": [],
   "source": [
    "#import random\n",
    "#from random import *"
   ]
  },
  {
   "cell_type": "code",
   "execution_count": 27,
   "metadata": {},
   "outputs": [],
   "source": [
    "p = 'r'\n",
    "com = 'p'\n",
    "win = [('r','s'),('p','r'),('s','p')]"
   ]
  },
  {
   "cell_type": "code",
   "execution_count": 28,
   "metadata": {},
   "outputs": [
    {
     "data": {
      "text/plain": [
       "False"
      ]
     },
     "execution_count": 28,
     "metadata": {},
     "output_type": "execute_result"
    }
   ],
   "source": [
    "(p,com) in win"
   ]
  },
  {
   "cell_type": "code",
   "execution_count": 3,
   "metadata": {},
   "outputs": [],
   "source": [
    "#Guessing Game"
   ]
  },
  {
   "cell_type": "code",
   "execution_count": 4,
   "metadata": {},
   "outputs": [],
   "source": [
    "#Soch badi kar\n",
    "\n",
    "#Kam socha kar \n",
    "\n",
    "# win\n",
    "\n",
    "#withn 5 chances --> loss\n"
   ]
  },
  {
   "cell_type": "code",
   "execution_count": 5,
   "metadata": {},
   "outputs": [],
   "source": [
    "from random import randint"
   ]
  },
  {
   "cell_type": "code",
   "execution_count": 21,
   "metadata": {},
   "outputs": [
    {
     "name": "stdout",
     "output_type": "stream",
     "text": [
      "Enter your Name --> Ravi\n",
      "*****************************************************************************************************************************\n",
      "-----------------------------------------------------------------------------------------------------------------------------\n",
      "                                                   Welcome to Guessing Game                                                  \n",
      "-----------------------------------------------------------------------------------------------------------------------------\n",
      "*****************************************************************************************************************************\n",
      "Guess a number between 1-100 --> 43\n",
      "Soch badi kar!!!\n",
      "Guess a number between 1-100 --> 45\n",
      "Soch badi kar!!!\n",
      "Guess a number between 1-100 --> 665\n",
      "Kam Socha Kar!!!\n",
      "Guess a number between 1-100 --> 54\n",
      "Soch badi kar!!!\n",
      "Guess a number between 1-100 --> 33\n",
      "Soch badi kar!!!\n",
      "Chances Over!!!\n",
      "You lossed the game!!  Computer-->65\n"
     ]
    }
   ],
   "source": [
    "com = randint(1,100)\n",
    "name = input(\"Enter your Name --> \")\n",
    "print(\"*\"*125)\n",
    "print(\"-\"*125)\n",
    "print(\"Welcome to Guessing Game\".center(125))\n",
    "print(\"-\"*125)\n",
    "print(\"*\"*125)\n",
    "c=1\n",
    "while c<=5:\n",
    "    p = int(input(\"Guess a number between 1-100 --> \"))\n",
    "    if p==com:\n",
    "        print(f\"{name} Wins!!!  Computer --> {com}\")\n",
    "        break\n",
    "    elif p>com:\n",
    "        print(\"Kam Socha Kar!!!\")\n",
    "    elif p<com:\n",
    "        print(\"Soch badi kar!!!\")\n",
    "    else:\n",
    "        print(\"Invalid Guess!!!\")\n",
    "    c+=1\n",
    "else:\n",
    "    print(f\"Chances Over!!!\\nYou lossed the game!!  Computer-->{com}\")"
   ]
  },
  {
   "cell_type": "markdown",
   "metadata": {},
   "source": [
    "# For"
   ]
  },
  {
   "cell_type": "code",
   "execution_count": 22,
   "metadata": {},
   "outputs": [],
   "source": [
    "#syntax"
   ]
  },
  {
   "cell_type": "markdown",
   "metadata": {},
   "source": [
    "    for var in iterable:\n",
    "        statement..1\n",
    "        ...........2\n",
    "        ...........3\n",
    "        ............\n",
    "        ...........n"
   ]
  },
  {
   "cell_type": "code",
   "execution_count": 23,
   "metadata": {},
   "outputs": [
    {
     "name": "stdout",
     "output_type": "stream",
     "text": [
      "P\n",
      "y\n",
      "t\n",
      "h\n",
      "o\n",
      "n\n"
     ]
    }
   ],
   "source": [
    "for var in \"Python\":\n",
    "    print(var)"
   ]
  },
  {
   "cell_type": "code",
   "execution_count": 24,
   "metadata": {},
   "outputs": [
    {
     "name": "stdout",
     "output_type": "stream",
     "text": [
      "1\n",
      "132\n",
      "4\n",
      "35\n",
      "3\n",
      "5\n",
      "325\n"
     ]
    }
   ],
   "source": [
    "for var in [1,132,4,35,3,5,325]:\n",
    "    print(var)"
   ]
  },
  {
   "cell_type": "code",
   "execution_count": 25,
   "metadata": {},
   "outputs": [
    {
     "name": "stdout",
     "output_type": "stream",
     "text": [
      "1\n",
      "3\n",
      "5\n"
     ]
    }
   ],
   "source": [
    "for var in {1:2,3:4,5:6}:\n",
    "    print(var)"
   ]
  },
  {
   "cell_type": "code",
   "execution_count": 27,
   "metadata": {},
   "outputs": [],
   "source": [
    "a  = range(1,100)"
   ]
  },
  {
   "cell_type": "code",
   "execution_count": 29,
   "metadata": {},
   "outputs": [
    {
     "name": "stdout",
     "output_type": "stream",
     "text": [
      "1 2 3 4 5 6 7 8 9 10 11 12 13 14 15 16 17 18 19 20 21 22 23 24 25 26 27 28 29 30 31 32 33 34 35 36 37 38 39 40 41 42 43 44 45 46 47 48 49 50 51 52 53 54 55 56 57 58 59 60 61 62 63 64 65 66 67 68 69 70 71 72 73 74 75 76 77 78 79 80 81 82 83 84 85 86 87 88 89 90 91 92 93 94 95 96 97 98 99\n"
     ]
    }
   ],
   "source": [
    "print(*a)"
   ]
  },
  {
   "cell_type": "code",
   "execution_count": 32,
   "metadata": {},
   "outputs": [
    {
     "name": "stdout",
     "output_type": "stream",
     "text": [
      "1\t2\t3\t4\t5\t6\t7\t8\t9\t10\t11\t12\t13\t14\t15\t16\t17\t18\t19\t20\t21\t22\t23\t24\t25\t26\t27\t28\t29\t30\t31\t32\t33\t34\t35\t36\t37\t38\t39\t40\t41\t42\t43\t44\t45\t46\t47\t48\t49\t50\t51\t52\t53\t54\t55\t56\t57\t58\t59\t60\t61\t62\t63\t64\t65\t66\t67\t68\t69\t70\t71\t72\t73\t74\t75\t76\t77\t78\t79\t80\t81\t82\t83\t84\t85\t86\t87\t88\t89\t90\t91\t92\t93\t94\t95\t96\t97\t98\t99\t"
     ]
    }
   ],
   "source": [
    "for var in a:\n",
    "    print(var,end=\"\\t\")"
   ]
  },
  {
   "cell_type": "code",
   "execution_count": 33,
   "metadata": {},
   "outputs": [
    {
     "name": "stdout",
     "output_type": "stream",
     "text": [
      "1\t6\t11\t16\t21\t26\t31\t36\t41\t46\t51\t56\t61\t66\t71\t76\t81\t86\t91\t96\t"
     ]
    }
   ],
   "source": [
    "for var in range(1,101,5):\n",
    "    print(var,end=\"\\t\")"
   ]
  },
  {
   "cell_type": "code",
   "execution_count": 35,
   "metadata": {},
   "outputs": [
    {
     "name": "stdout",
     "output_type": "stream",
     "text": [
      "100\t99\t98\t97\t96\t95\t94\t93\t92\t91\t90\t89\t88\t87\t86\t85\t84\t83\t82\t81\t80\t79\t78\t77\t76\t75\t74\t73\t72\t71\t70\t69\t68\t67\t66\t65\t64\t63\t62\t61\t60\t59\t58\t57\t56\t55\t54\t53\t52\t51\t50\t49\t48\t47\t46\t45\t44\t43\t42\t41\t40\t39\t38\t37\t36\t35\t34\t33\t32\t31\t30\t29\t28\t27\t26\t25\t24\t23\t22\t21\t20\t19\t18\t17\t16\t15\t14\t13\t12\t11\t10\t9\t8\t7\t6\t5\t4\t3\t2\t1\t0\t"
     ]
    }
   ],
   "source": [
    "#100 --> 0\n",
    "for var in range(100,-1,-1):\n",
    "    print(var,end=\"\\t\")"
   ]
  },
  {
   "cell_type": "code",
   "execution_count": null,
   "metadata": {},
   "outputs": [],
   "source": [
    "#HW --> While --> For"
   ]
  },
  {
   "cell_type": "code",
   "execution_count": 37,
   "metadata": {},
   "outputs": [
    {
     "name": "stdout",
     "output_type": "stream",
     "text": [
      "0\n",
      "1\n",
      "2\n",
      "3\n",
      "4\n",
      "6\n",
      "7\n",
      "8\n"
     ]
    }
   ],
   "source": [
    "for var in range(10):\n",
    "    if var ==5:\n",
    "        continue\n",
    "    elif var == 9:\n",
    "        break\n",
    "    else:\n",
    "        print(var)\n",
    "    "
   ]
  },
  {
   "cell_type": "code",
   "execution_count": null,
   "metadata": {},
   "outputs": [],
   "source": []
  }
 ],
 "metadata": {
  "kernelspec": {
   "display_name": "Python 3",
   "language": "python",
   "name": "python3"
  },
  "language_info": {
   "codemirror_mode": {
    "name": "ipython",
    "version": 3
   },
   "file_extension": ".py",
   "mimetype": "text/x-python",
   "name": "python",
   "nbconvert_exporter": "python",
   "pygments_lexer": "ipython3",
   "version": "3.8.5"
  }
 },
 "nbformat": 4,
 "nbformat_minor": 4
}
