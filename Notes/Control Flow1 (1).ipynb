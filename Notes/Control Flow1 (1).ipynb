{
 "cells": [
  {
   "cell_type": "markdown",
   "metadata": {},
   "source": [
    "# Conditional statements\n",
    "\n",
    "    1. if\n",
    "    2. if-else\n",
    "    3. if-elif-else\n",
    "    4. Ladder or Branching\n",
    "    5. Nested"
   ]
  },
  {
   "cell_type": "code",
   "execution_count": 1,
   "metadata": {},
   "outputs": [],
   "source": [
    "#marks > 90%  --> cycle\n",
    "\n",
    "#covid19 control --> offline classes\n",
    "\n",
    "#will play cricket  --> rain"
   ]
  },
  {
   "cell_type": "code",
   "execution_count": 2,
   "metadata": {},
   "outputs": [],
   "source": [
    "#Syntax --> It is a way to represent our code"
   ]
  },
  {
   "cell_type": "markdown",
   "metadata": {},
   "source": [
    "    if condition:\n",
    "        statement...1\n",
    "        ............2\n",
    "        .............\n",
    "        .............\n",
    "        ............n"
   ]
  },
  {
   "cell_type": "code",
   "execution_count": 6,
   "metadata": {},
   "outputs": [
    {
     "name": "stdout",
     "output_type": "stream",
     "text": [
      "Cycle\n"
     ]
    }
   ],
   "source": [
    "marks = 90\n",
    "if marks>=90:\n",
    "    print(\"Cycle\")"
   ]
  },
  {
   "cell_type": "code",
   "execution_count": 7,
   "metadata": {},
   "outputs": [],
   "source": [
    "#identations --> Scope"
   ]
  },
  {
   "cell_type": "code",
   "execution_count": 11,
   "metadata": {},
   "outputs": [
    {
     "name": "stdout",
     "output_type": "stream",
     "text": [
      "Hey Guys How Are you???\n"
     ]
    }
   ],
   "source": [
    "a = 41\n",
    "b = 9\n",
    "if a<b:\n",
    "    print(f\"{a} is Greater\")\n",
    "    print(\"Hello World\")\n",
    "print(\"Hey Guys How Are you???\")"
   ]
  },
  {
   "cell_type": "code",
   "execution_count": 16,
   "metadata": {},
   "outputs": [
    {
     "name": "stdout",
     "output_type": "stream",
     "text": [
      "Enter a Value --> [1,2,3,4]\n",
      "Enter a Value -->[5,6,7,8]\n",
      "Sum of [1, 2, 3, 4] and [5, 6, 7, 8] is [1, 2, 3, 4, 5, 6, 7, 8]\n"
     ]
    }
   ],
   "source": [
    "a = eval(input(\"Enter a Value --> \")) #input function takes str by default\n",
    "b = eval(input(\"Enter a Value -->\"))\n",
    "print(f\"Sum of {a} and {b} is {a+b}\")"
   ]
  },
  {
   "cell_type": "markdown",
   "metadata": {},
   "source": [
    "<h1 style=\"color:Maroon;font-family:Comic Sans Ms\">Note:- Everything is True in Python except these \n",
    "    seven -- <li>None,<li> False, <li>0, <li>\"\", <li>[],<li> (), <li>{}</h1>"
   ]
  },
  {
   "cell_type": "code",
   "execution_count": 18,
   "metadata": {},
   "outputs": [
    {
     "name": "stdout",
     "output_type": "stream",
     "text": [
      "Python is Awesome\n"
     ]
    }
   ],
   "source": [
    "if 2:\n",
    "    print(\"Python is Awesome\")"
   ]
  },
  {
   "cell_type": "code",
   "execution_count": 19,
   "metadata": {},
   "outputs": [
    {
     "name": "stdout",
     "output_type": "stream",
     "text": [
      "Ramawat\n"
     ]
    }
   ],
   "source": [
    "if \"Ravi\":\n",
    "    print(\"Ramawat\")"
   ]
  },
  {
   "cell_type": "code",
   "execution_count": 20,
   "metadata": {},
   "outputs": [],
   "source": [
    "if None:\n",
    "    print(\"Helo\")"
   ]
  },
  {
   "cell_type": "code",
   "execution_count": 21,
   "metadata": {},
   "outputs": [],
   "source": [
    "if \"\":\n",
    "    print(\"Pytohn\")"
   ]
  },
  {
   "cell_type": "markdown",
   "metadata": {},
   "source": [
    "### if -else"
   ]
  },
  {
   "cell_type": "code",
   "execution_count": 22,
   "metadata": {},
   "outputs": [],
   "source": [
    "#Syntax"
   ]
  },
  {
   "cell_type": "markdown",
   "metadata": {},
   "source": [
    "    if condition:\n",
    "        Statement...1\n",
    "        ............2\n",
    "        ............3\n",
    "        .............\n",
    "        .............\n",
    "        ............n\n",
    "    else:\n",
    "        Statement...1\n",
    "        ............2\n",
    "        ............3\n",
    "        .............\n",
    "        .............\n",
    "        ............n"
   ]
  },
  {
   "cell_type": "code",
   "execution_count": 24,
   "metadata": {},
   "outputs": [],
   "source": [
    "#Greater Between two numbers"
   ]
  },
  {
   "cell_type": "code",
   "execution_count": 32,
   "metadata": {},
   "outputs": [
    {
     "name": "stdout",
     "output_type": "stream",
     "text": [
      "Enter two nos space separated --> 33 66\n",
      "66 is Greater\n"
     ]
    }
   ],
   "source": [
    "num1,num2 = map(eval,input(\"Enter two nos space separated --> \").split())\n",
    "if num1==num2:\n",
    "    print(\"Both the Values must be different!!!\")\n",
    "else:\n",
    "    if num1>num2:\n",
    "        print(f\"{num1} is Greater\")\n",
    "    else:\n",
    "        print(f\"{num2} is Greater\")"
   ]
  },
  {
   "cell_type": "code",
   "execution_count": 39,
   "metadata": {},
   "outputs": [
    {
     "name": "stdout",
     "output_type": "stream",
     "text": [
      "Enter three nos space separated --> 44 77 11\n",
      "77 is Greatest\n"
     ]
    }
   ],
   "source": [
    "#Greatest Between 3 nos.\n",
    "num1,num2,num3 = map(eval,input(\"Enter three nos space separated --> \").split())\n",
    "if num1>num2 and num1>num3:\n",
    "    print(f\"{num1} is Greatest\")\n",
    "else:\n",
    "    if num2>num3:\n",
    "        print(f\"{num2} is Greatest\")\n",
    "    else:\n",
    "        print(f'{num3} is Greatest')"
   ]
  },
  {
   "cell_type": "markdown",
   "metadata": {},
   "source": [
    "##### if-elif-else"
   ]
  },
  {
   "cell_type": "code",
   "execution_count": 42,
   "metadata": {},
   "outputs": [
    {
     "name": "stdout",
     "output_type": "stream",
     "text": [
      "Enter three nos space separated --> 6 3 2\n",
      "6 is Greatest\n"
     ]
    }
   ],
   "source": [
    "#Greatest Between 3 nos.\n",
    "num1,num2,num3 = map(eval,input(\"Enter three nos space separated --> \").split())\n",
    "if num1>num2 and num1>num3:\n",
    "    print(f\"{num1} is Greatest\")\n",
    "elif num2>num3:\n",
    "    print(f\"{num2} is Greatest\")\n",
    "else:\n",
    "    print(f'{num3} is Greatest')"
   ]
  },
  {
   "cell_type": "code",
   "execution_count": 43,
   "metadata": {},
   "outputs": [],
   "source": [
    "# WAP to print which type of value a user has taken input  "
   ]
  },
  {
   "cell_type": "code",
   "execution_count": 44,
   "metadata": {},
   "outputs": [],
   "source": [
    "#int\n",
    "#float\n",
    "#complex\n",
    "#str\n",
    "#list\n",
    "#tuple\n",
    "#dict\n",
    "#boolean\n",
    "#set"
   ]
  },
  {
   "cell_type": "code",
   "execution_count": 59,
   "metadata": {},
   "outputs": [
    {
     "name": "stdout",
     "output_type": "stream",
     "text": [
      "Enter a Value --> {1,2,3,4,5,5}\n",
      "The Enter value is Set\n"
     ]
    }
   ],
   "source": [
    "value = eval(input(\"Enter a Value --> \"))  #ladder or branching\n",
    "if type(value) == int:\n",
    "    print(\"The Enter value is Integer\")\n",
    "elif type(value) == float:\n",
    "    print(\"The Enter value is Float\")\n",
    "elif type(value) == complex:\n",
    "    print(\"The Enter value is Complex\")\n",
    "elif type(value) == str:\n",
    "    print(\"The Enter value is String\")\n",
    "elif type(value) == list:\n",
    "    print(\"The Enter value is List\")\n",
    "elif type(value) == dict:\n",
    "    print(\"The Enter value is Dictionary\")\n",
    "elif type(value) == set:\n",
    "    print(\"The Enter value is Set\")\n",
    "elif type(value) == tuple:\n",
    "    print(\"The Enter value is  Tuple\")\n",
    "elif type(value) == bool:\n",
    "    print(\"The Enter value is Boolean\")\n",
    "else:\n",
    "    print(\"Invalid Core Data Type\")"
   ]
  },
  {
   "cell_type": "code",
   "execution_count": 60,
   "metadata": {},
   "outputs": [],
   "source": [
    "#Calc"
   ]
  },
  {
   "cell_type": "code",
   "execution_count": 70,
   "metadata": {},
   "outputs": [
    {
     "name": "stdout",
     "output_type": "stream",
     "text": [
      "Enter a number --> 88\n",
      "Enter a number --> 0\n",
      "Enter an Operator -->/\n",
      "Can't Divide a number by 0\n"
     ]
    }
   ],
   "source": [
    "num1 = eval(input(\"Enter a number --> \"))\n",
    "num2 = eval(input(\"Enter a number --> \"))\n",
    "op = input(\"Enter an Operator -->\")\n",
    "if op == \"+\":\n",
    "    print(f\"{num1} + {num2} = {num1+num2}\")\n",
    "elif op == \"-\":\n",
    "    print(f\"{num1} - {num2} = {num1-num2}\")\n",
    "elif op == \"*\":\n",
    "    print(f\"{num1} * {num2} = {num1*num2}\")\n",
    "elif op == \"**\":\n",
    "    print(f\"{num1} ** {num2} = {num1**num2}\")\n",
    "elif op == \"/\" or op == \"//\" or op == \"%\":\n",
    "    if num2 == 0:\n",
    "        print(\"Can't Divide a number by 0\")\n",
    "    elif op == \"/\":\n",
    "        print(f\"{num1} / {num2} = {num1/num2}\")\n",
    "    elif op == \"//\":\n",
    "        print(f\"{num1} // {num2} = {num1//num2}\")\n",
    "    else:\n",
    "        print(f\"{num1} % {num2} = {num1%num2}\")\n",
    "else:\n",
    "    print(\"Invalid Operator!!!\")"
   ]
  },
  {
   "cell_type": "markdown",
   "metadata": {},
   "source": [
    "Q. A shop will give discount 11% if the cost purchased quantity is more than 1000.\n",
    "     \n",
    "     Ask user for quantity\n",
    "     Suppose one unit will cost 100\n",
    "     Print the Total cost for user"
   ]
  },
  {
   "cell_type": "code",
   "execution_count": null,
   "metadata": {},
   "outputs": [],
   "source": [
    "#Take input --> marks of 5 subjects  --> Percentage --> Grade\n",
    "\n",
    "#above 90 --> A\n",
    "#between 75 to 90 -->B\n",
    "#between 60 to 75 --> C\n",
    "#between 45 to 60 --> D\n",
    "#below 45 --> F"
   ]
  },
  {
   "cell_type": "code",
   "execution_count": 4,
   "metadata": {},
   "outputs": [
    {
     "name": "stdout",
     "output_type": "stream",
     "text": [
      "Enter a Year -->2100\n",
      "Common Year\n"
     ]
    }
   ],
   "source": [
    "year = int(input(\"Enter a Year -->\"))\n",
    "if (year%4==0 and year%100!=0) or year%400==0:\n",
    "    print(\"Leap Year\")\n",
    "else:\n",
    "    print(\"Common Year\")"
   ]
  },
  {
   "cell_type": "code",
   "execution_count": 8,
   "metadata": {},
   "outputs": [
    {
     "name": "stdout",
     "output_type": "stream",
     "text": [
      "Enter a Year -->2019\n",
      "Common Year\n"
     ]
    }
   ],
   "source": [
    "year = int(input(\"Enter a Year -->\"))\n",
    "if year%4==0:\n",
    "    if year%100!=0:\n",
    "        print(\"Leap Year\")\n",
    "    elif year%400==0:\n",
    "        print(\"Leap Year\")\n",
    "    else:\n",
    "        print(\"Common Year\")\n",
    "else:\n",
    "    print(\"Common Year\")"
   ]
  },
  {
   "cell_type": "code",
   "execution_count": 13,
   "metadata": {},
   "outputs": [
    {
     "name": "stdout",
     "output_type": "stream",
     "text": [
      "Scala\n"
     ]
    }
   ],
   "source": [
    "if False:\n",
    "    if False:\n",
    "        if False:\n",
    "            print(\"Python\")\n",
    "            if True:\n",
    "                print(\"Java\")\n",
    "            else:\n",
    "                print(\"C#\")\n",
    "                if False:\n",
    "                    print(\"Julia\")\n",
    "                else:\n",
    "                    print(\"JS\")\n",
    "        elif False:\n",
    "            print(\"C++\")\n",
    "        else:\n",
    "            print(\"Ruby\")\n",
    "    elif True:\n",
    "        print(\"C\")\n",
    "    else:\n",
    "        print(\"PHP\")\n",
    "elif False:\n",
    "    print(\"Fortran\")\n",
    "else:\n",
    "    print(\"Scala\")"
   ]
  },
  {
   "cell_type": "code",
   "execution_count": 14,
   "metadata": {},
   "outputs": [],
   "source": [
    "a = 1\n",
    "b = 2\n",
    "c = 3\n",
    "l=[a,b,c]\n",
    "l1 = [a,b,c]"
   ]
  },
  {
   "cell_type": "code",
   "execution_count": 15,
   "metadata": {},
   "outputs": [
    {
     "name": "stdout",
     "output_type": "stream",
     "text": [
      "2879314145088\n",
      "2879313844608\n"
     ]
    }
   ],
   "source": [
    "print(id(l))\n",
    "print(id(l1))"
   ]
  },
  {
   "cell_type": "code",
   "execution_count": 16,
   "metadata": {},
   "outputs": [
    {
     "name": "stdout",
     "output_type": "stream",
     "text": [
      "140731955750688\n",
      "140731955750688\n"
     ]
    }
   ],
   "source": [
    "print(id(l[0]))\n",
    "print(id(l1[0]))"
   ]
  },
  {
   "cell_type": "code",
   "execution_count": 17,
   "metadata": {},
   "outputs": [],
   "source": [
    "spam = {'cat':'dog'}"
   ]
  },
  {
   "cell_type": "code",
   "execution_count": 18,
   "metadata": {},
   "outputs": [
    {
     "data": {
      "text/plain": [
       "True"
      ]
     },
     "execution_count": 18,
     "metadata": {},
     "output_type": "execute_result"
    }
   ],
   "source": [
    "'cat' in spam"
   ]
  },
  {
   "cell_type": "code",
   "execution_count": 19,
   "metadata": {},
   "outputs": [
    {
     "data": {
      "text/plain": [
       "True"
      ]
     },
     "execution_count": 19,
     "metadata": {},
     "output_type": "execute_result"
    }
   ],
   "source": [
    "'cat' in spam.keys()"
   ]
  },
  {
   "cell_type": "code",
   "execution_count": 23,
   "metadata": {},
   "outputs": [
    {
     "name": "stdout",
     "output_type": "stream",
     "text": [
      "<class 'dict_keys'>\n"
     ]
    }
   ],
   "source": [
    "print(type(spam.keys()))"
   ]
  },
  {
   "cell_type": "code",
   "execution_count": null,
   "metadata": {},
   "outputs": [],
   "source": []
  }
 ],
 "metadata": {
  "kernelspec": {
   "display_name": "Python 3",
   "language": "python",
   "name": "python3"
  },
  "language_info": {
   "codemirror_mode": {
    "name": "ipython",
    "version": 3
   },
   "file_extension": ".py",
   "mimetype": "text/x-python",
   "name": "python",
   "nbconvert_exporter": "python",
   "pygments_lexer": "ipython3",
   "version": "3.8.5"
  }
 },
 "nbformat": 4,
 "nbformat_minor": 4
}
