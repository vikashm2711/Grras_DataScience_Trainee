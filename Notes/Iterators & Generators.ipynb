{
 "cells": [
  {
   "cell_type": "code",
   "execution_count": 1,
   "metadata": {},
   "outputs": [],
   "source": [
    "import string"
   ]
  },
  {
   "cell_type": "code",
   "execution_count": 4,
   "metadata": {},
   "outputs": [
    {
     "name": "stdout",
     "output_type": "stream",
     "text": [
      "__main__\n"
     ]
    }
   ],
   "source": [
    "#string.py\n",
    "print(__name__)"
   ]
  },
  {
   "cell_type": "code",
   "execution_count": 2,
   "metadata": {},
   "outputs": [
    {
     "name": "stdout",
     "output_type": "stream",
     "text": [
      "['Formatter', 'Template', '_ChainMap', '_TemplateMetaclass', '__all__', '__builtins__', '__cached__', '__doc__', '__file__', '__loader__', '__name__', '__package__', '__spec__', '_re', '_sentinel_dict', '_string', 'ascii_letters', 'ascii_lowercase', 'ascii_uppercase', 'capwords', 'digits', 'hexdigits', 'octdigits', 'printable', 'punctuation', 'whitespace']\n"
     ]
    }
   ],
   "source": [
    "print(dir(string))"
   ]
  },
  {
   "cell_type": "code",
   "execution_count": 5,
   "metadata": {},
   "outputs": [
    {
     "data": {
      "text/plain": [
       "'string'"
      ]
     },
     "execution_count": 5,
     "metadata": {},
     "output_type": "execute_result"
    }
   ],
   "source": [
    "string.__name__"
   ]
  },
  {
   "cell_type": "code",
   "execution_count": 6,
   "metadata": {},
   "outputs": [
    {
     "name": "stdout",
     "output_type": "stream",
     "text": [
      "['In', 'Out', '_', '_5', '__', '___', '__builtin__', '__builtins__', '__doc__', '__loader__', '__name__', '__package__', '__spec__', '_dh', '_i', '_i1', '_i2', '_i3', '_i4', '_i5', '_i6', '_ih', '_ii', '_iii', '_oh', 'exit', 'get_ipython', 'quit', 'string']\n"
     ]
    }
   ],
   "source": [
    "print(dir())"
   ]
  },
  {
   "cell_type": "code",
   "execution_count": 7,
   "metadata": {},
   "outputs": [],
   "source": [
    "string.__name__ = \"int\""
   ]
  },
  {
   "cell_type": "code",
   "execution_count": 8,
   "metadata": {},
   "outputs": [
    {
     "data": {
      "text/plain": [
       "'int'"
      ]
     },
     "execution_count": 8,
     "metadata": {},
     "output_type": "execute_result"
    }
   ],
   "source": [
    "string.__name__"
   ]
  },
  {
   "cell_type": "markdown",
   "metadata": {},
   "source": [
    "# Iterators & Generators"
   ]
  },
  {
   "cell_type": "code",
   "execution_count": 9,
   "metadata": {},
   "outputs": [],
   "source": [
    "#Iterable?"
   ]
  },
  {
   "cell_type": "code",
   "execution_count": 10,
   "metadata": {},
   "outputs": [],
   "source": [
    "#Iteration?"
   ]
  },
  {
   "cell_type": "code",
   "execution_count": 11,
   "metadata": {},
   "outputs": [
    {
     "name": "stdout",
     "output_type": "stream",
     "text": [
      "P\n",
      "y\n",
      "t\n",
      "h\n",
      "o\n",
      "n\n"
     ]
    }
   ],
   "source": [
    "for var in \"Python\":\n",
    "    print(var)"
   ]
  },
  {
   "cell_type": "code",
   "execution_count": 12,
   "metadata": {},
   "outputs": [],
   "source": [
    "#Iterators?"
   ]
  },
  {
   "cell_type": "code",
   "execution_count": 13,
   "metadata": {},
   "outputs": [],
   "source": [
    "#self --> value"
   ]
  },
  {
   "cell_type": "code",
   "execution_count": 26,
   "metadata": {},
   "outputs": [],
   "source": [
    "class Even:\n",
    "    def __init__(self,start,max_lim):\n",
    "        if start%2==0:\n",
    "            self.start = start\n",
    "        else:\n",
    "            self.start = start+1\n",
    "        self.max_lim = max_lim\n",
    "    def __iter__(self):\n",
    "        self.val = self.start-2\n",
    "        return self\n",
    "    def __next__(self):\n",
    "        if self.val < self.max_lim:\n",
    "            self.val+=2\n",
    "            return self.val\n",
    "        else:\n",
    "            raise StopIteration(\"Max Limit Has Exceeded\")"
   ]
  },
  {
   "cell_type": "code",
   "execution_count": 27,
   "metadata": {},
   "outputs": [],
   "source": [
    "obj1 = Even(1,100)"
   ]
  },
  {
   "cell_type": "code",
   "execution_count": 23,
   "metadata": {},
   "outputs": [
    {
     "name": "stdout",
     "output_type": "stream",
     "text": [
      "2\t4\t6\t8\t10\t12\t14\t16\t18\t20\t22\t24\t26\t28\t30\t32\t34\t36\t38\t40\t42\t44\t46\t48\t50\t52\t54\t56\t58\t60\t62\t64\t66\t68\t70\t72\t74\t76\t78\t80\t82\t84\t86\t88\t90\t92\t94\t96\t98\t100\t"
     ]
    }
   ],
   "source": [
    "for var in obj1:\n",
    "    print(var,end =\"\\t\")"
   ]
  },
  {
   "cell_type": "code",
   "execution_count": 30,
   "metadata": {},
   "outputs": [
    {
     "name": "stdout",
     "output_type": "stream",
     "text": [
      "2\n",
      "4\n",
      "6\n",
      "8\n",
      "10\n",
      "12\n",
      "14\n",
      "16\n",
      "18\n",
      "20\n",
      "22\n",
      "24\n",
      "26\n",
      "28\n",
      "30\n",
      "32\n",
      "34\n",
      "36\n",
      "38\n",
      "40\n",
      "42\n",
      "44\n",
      "46\n",
      "48\n",
      "50\n",
      "52\n",
      "54\n",
      "56\n",
      "58\n",
      "60\n",
      "62\n",
      "64\n",
      "66\n",
      "68\n",
      "70\n",
      "72\n",
      "74\n",
      "76\n",
      "78\n",
      "80\n",
      "82\n",
      "84\n",
      "86\n",
      "88\n",
      "90\n",
      "92\n",
      "94\n",
      "96\n",
      "98\n",
      "100\n"
     ]
    },
    {
     "ename": "StopIteration",
     "evalue": "Max Limit Has Exceeded",
     "output_type": "error",
     "traceback": [
      "\u001b[1;31m---------------------------------------------------------------------------\u001b[0m",
      "\u001b[1;31mStopIteration\u001b[0m                             Traceback (most recent call last)",
      "\u001b[1;32m<ipython-input-30-3bffb6f566d4>\u001b[0m in \u001b[0;36m<module>\u001b[1;34m\u001b[0m\n\u001b[0;32m      1\u001b[0m \u001b[0mobj1\u001b[0m \u001b[1;33m=\u001b[0m \u001b[0miter\u001b[0m\u001b[1;33m(\u001b[0m\u001b[0mobj1\u001b[0m\u001b[1;33m)\u001b[0m\u001b[1;33m\u001b[0m\u001b[1;33m\u001b[0m\u001b[0m\n\u001b[0;32m      2\u001b[0m \u001b[1;32mwhile\u001b[0m \u001b[1;32mTrue\u001b[0m\u001b[1;33m:\u001b[0m\u001b[1;33m\u001b[0m\u001b[1;33m\u001b[0m\u001b[0m\n\u001b[1;32m----> 3\u001b[1;33m     \u001b[0mprint\u001b[0m\u001b[1;33m(\u001b[0m\u001b[0mnext\u001b[0m\u001b[1;33m(\u001b[0m\u001b[0mobj1\u001b[0m\u001b[1;33m)\u001b[0m\u001b[1;33m)\u001b[0m\u001b[1;33m\u001b[0m\u001b[1;33m\u001b[0m\u001b[0m\n\u001b[0m",
      "\u001b[1;32m<ipython-input-26-a5c3b4685c05>\u001b[0m in \u001b[0;36m__next__\u001b[1;34m(self)\u001b[0m\n\u001b[0;32m     14\u001b[0m             \u001b[1;32mreturn\u001b[0m \u001b[0mself\u001b[0m\u001b[1;33m.\u001b[0m\u001b[0mval\u001b[0m\u001b[1;33m\u001b[0m\u001b[1;33m\u001b[0m\u001b[0m\n\u001b[0;32m     15\u001b[0m         \u001b[1;32melse\u001b[0m\u001b[1;33m:\u001b[0m\u001b[1;33m\u001b[0m\u001b[1;33m\u001b[0m\u001b[0m\n\u001b[1;32m---> 16\u001b[1;33m             \u001b[1;32mraise\u001b[0m \u001b[0mStopIteration\u001b[0m\u001b[1;33m(\u001b[0m\u001b[1;34m\"Max Limit Has Exceeded\"\u001b[0m\u001b[1;33m)\u001b[0m\u001b[1;33m\u001b[0m\u001b[1;33m\u001b[0m\u001b[0m\n\u001b[0m",
      "\u001b[1;31mStopIteration\u001b[0m: Max Limit Has Exceeded"
     ]
    }
   ],
   "source": [
    "obj1 = iter(obj1)\n",
    "while True:\n",
    "    print(next(obj1))"
   ]
  },
  {
   "cell_type": "code",
   "execution_count": 32,
   "metadata": {},
   "outputs": [],
   "source": [
    "d =enumerate([\"Aman\",\"Heta\",\"Shreya\",\"Manmohan\",\"Vikash\",\"Hanzala\",\"Abhishek\"])"
   ]
  },
  {
   "cell_type": "code",
   "execution_count": 33,
   "metadata": {},
   "outputs": [
    {
     "name": "stdout",
     "output_type": "stream",
     "text": [
      "['__class__', '__delattr__', '__dir__', '__doc__', '__eq__', '__format__', '__ge__', '__getattribute__', '__gt__', '__hash__', '__init__', '__init_subclass__', '__iter__', '__le__', '__lt__', '__ne__', '__new__', '__next__', '__reduce__', '__reduce_ex__', '__repr__', '__setattr__', '__sizeof__', '__str__', '__subclasshook__']\n"
     ]
    }
   ],
   "source": [
    "print(dir(d))"
   ]
  },
  {
   "cell_type": "code",
   "execution_count": 41,
   "metadata": {},
   "outputs": [
    {
     "ename": "StopIteration",
     "evalue": "",
     "output_type": "error",
     "traceback": [
      "\u001b[1;31m---------------------------------------------------------------------------\u001b[0m",
      "\u001b[1;31mStopIteration\u001b[0m                             Traceback (most recent call last)",
      "\u001b[1;32m<ipython-input-41-9b2daf1403f5>\u001b[0m in \u001b[0;36m<module>\u001b[1;34m\u001b[0m\n\u001b[1;32m----> 1\u001b[1;33m \u001b[0mnext\u001b[0m\u001b[1;33m(\u001b[0m\u001b[0md\u001b[0m\u001b[1;33m)\u001b[0m\u001b[1;33m\u001b[0m\u001b[1;33m\u001b[0m\u001b[0m\n\u001b[0m",
      "\u001b[1;31mStopIteration\u001b[0m: "
     ]
    }
   ],
   "source": [
    "next(d)"
   ]
  },
  {
   "cell_type": "code",
   "execution_count": 42,
   "metadata": {},
   "outputs": [],
   "source": [
    "class Prime:\n",
    "    def __init__(self,start):\n",
    "        self.start=start\n",
    "    def __iter__(self):\n",
    "        self.max_lim = 1000\n",
    "        self.count = 0\n",
    "        return self\n",
    "    def prime(self):\n",
    "        num = self.start\n",
    "        check = round(sqrt(num))\n",
    "        for var in range(2,check+1):\n",
    "            if num%var == 0:\n",
    "                self.start+=1\n",
    "                return self.prime()\n",
    "        else:\n",
    "            self.start+=1\n",
    "            return num\n",
    "    def __next__(self):\n",
    "        if self.count < self.max_lim:\n",
    "            self.count+=1\n",
    "            return self.prime()\n",
    "        else:\n",
    "            raise StopIteration"
   ]
  },
  {
   "cell_type": "code",
   "execution_count": 43,
   "metadata": {},
   "outputs": [],
   "source": [
    "from math import sqrt\n",
    "x = Prime(1)"
   ]
  },
  {
   "cell_type": "code",
   "execution_count": 45,
   "metadata": {},
   "outputs": [],
   "source": [
    "#x = iter(x)"
   ]
  },
  {
   "cell_type": "code",
   "execution_count": 46,
   "metadata": {},
   "outputs": [
    {
     "name": "stdout",
     "output_type": "stream",
     "text": [
      "1\t2\t3\t5\t7\t11\t13\t17\t19\t23\t29\t31\t37\t41\t43\t47\t53\t59\t61\t67\t71\t73\t79\t83\t89\t97\t101\t103\t107\t109\t113\t127\t131\t137\t139\t149\t151\t157\t163\t167\t173\t179\t181\t191\t193\t197\t199\t211\t223\t227\t229\t233\t239\t241\t251\t257\t263\t269\t271\t277\t281\t283\t293\t307\t311\t313\t317\t331\t337\t347\t349\t353\t359\t367\t373\t379\t383\t389\t397\t401\t409\t419\t421\t431\t433\t439\t443\t449\t457\t461\t463\t467\t479\t487\t491\t499\t503\t509\t521\t523\t541\t547\t557\t563\t569\t571\t577\t587\t593\t599\t601\t607\t613\t617\t619\t631\t641\t643\t647\t653\t659\t661\t673\t677\t683\t691\t701\t709\t719\t727\t733\t739\t743\t751\t757\t761\t769\t773\t787\t797\t809\t811\t821\t823\t827\t829\t839\t853\t857\t859\t863\t877\t881\t883\t887\t907\t911\t919\t929\t937\t941\t947\t953\t967\t971\t977\t983\t991\t997\t1009\t1013\t1019\t1021\t1031\t1033\t1039\t1049\t1051\t1061\t1063\t1069\t1087\t1091\t1093\t1097\t1103\t1109\t1117\t1123\t1129\t1151\t1153\t1163\t1171\t1181\t1187\t1193\t1201\t1213\t1217\t1223\t1229\t1231\t1237\t1249\t1259\t1277\t1279\t1283\t1289\t1291\t1297\t1301\t1303\t1307\t1319\t1321\t1327\t1361\t1367\t1373\t1381\t1399\t1409\t1423\t1427\t1429\t1433\t1439\t1447\t1451\t1453\t1459\t1471\t1481\t1483\t1487\t1489\t1493\t1499\t1511\t1523\t1531\t1543\t1549\t1553\t1559\t1567\t1571\t1579\t1583\t1597\t1601\t1607\t1609\t1613\t1619\t1621\t1627\t1637\t1657\t1663\t1667\t1669\t1693\t1697\t1699\t1709\t1721\t1723\t1733\t1741\t1747\t1753\t1759\t1777\t1783\t1787\t1789\t1801\t1811\t1823\t1831\t1847\t1861\t1867\t1871\t1873\t1877\t1879\t1889\t1901\t1907\t1913\t1931\t1933\t1949\t1951\t1973\t1979\t1987\t1993\t1997\t1999\t2003\t2011\t2017\t2027\t2029\t2039\t2053\t2063\t2069\t2081\t2083\t2087\t2089\t2099\t2111\t2113\t2129\t2131\t2137\t2141\t2143\t2153\t2161\t2179\t2203\t2207\t2213\t2221\t2237\t2239\t2243\t2251\t2267\t2269\t2273\t2281\t2287\t2293\t2297\t2309\t2311\t2333\t2339\t2341\t2347\t2351\t2357\t2371\t2377\t2381\t2383\t2389\t2393\t2399\t2411\t2417\t2423\t2437\t2441\t2447\t2459\t2467\t2473\t2477\t2503\t2521\t2531\t2539\t2543\t2549\t2551\t2557\t2579\t2591\t2593\t2609\t2617\t2621\t2633\t2647\t2657\t2659\t2663\t2671\t2677\t2683\t2687\t2689\t2693\t2699\t2707\t2711\t2713\t2719\t2729\t2731\t2741\t2749\t2753\t2767\t2777\t2789\t2791\t2797\t2801\t2803\t2819\t2833\t2837\t2843\t2851\t2857\t2861\t2879\t2887\t2897\t2903\t2909\t2917\t2927\t2939\t2953\t2957\t2963\t2969\t2971\t2999\t3001\t3011\t3019\t3023\t3037\t3041\t3049\t3061\t3067\t3079\t3083\t3089\t3109\t3119\t3121\t3137\t3163\t3167\t3169\t3181\t3187\t3191\t3203\t3209\t3217\t3221\t3229\t3251\t3253\t3257\t3259\t3271\t3299\t3301\t3307\t3313\t3319\t3323\t3329\t3331\t3343\t3347\t3359\t3361\t3371\t3373\t3389\t3391\t3407\t3413\t3433\t3449\t3457\t3461\t3463\t3467\t3469\t3491\t3499\t3511\t3517\t3527\t3529\t3533\t3539\t3541\t3547\t3557\t3559\t3571\t3581\t3583\t3593\t3607\t3613\t3617\t3623\t3631\t3637\t3643\t3659\t3671\t3673\t3677\t3691\t3697\t3701\t3709\t3719\t3727\t3733\t3739\t3761\t3767\t3769\t3779\t3793\t3797\t3803\t3821\t3823\t3833\t3847\t3851\t3853\t3863\t3877\t3881\t3889\t3907\t3911\t3917\t3919\t3923\t3929\t3931\t3943\t3947\t3967\t3989\t4001\t4003\t4007\t4013\t4019\t4021\t4027\t4049\t4051\t4057\t4073\t4079\t4091\t4093\t4099\t4111\t4127\t4129\t4133\t4139\t4153\t4157\t4159\t4177\t4201\t4211\t4217\t4219\t4229\t4231\t4241\t4243\t4253\t4259\t4261\t4271\t4273\t4283\t4289\t4297\t4327\t4337\t4339\t4349\t4357\t4363\t4373\t4391\t4397\t4409\t4421\t4423\t4441\t4447\t4451\t4457\t4463\t4481\t4483\t4493\t4507\t4513\t4517\t4519\t4523\t4547\t4549\t4561\t4567\t4583\t4591\t4597\t4603\t4621\t4637\t4639\t4643\t4649\t4651\t4657\t4663\t4673\t4679\t4691\t4703\t4721\t4723\t4729\t4733\t4751\t4759\t4783\t4787\t4789\t4793\t4799\t4801\t4813\t4817\t4831\t4861\t4871\t4877\t4889\t4903\t4909\t4919\t4931\t4933\t4937\t4943\t4951\t4957\t4967\t4969\t4973\t4987\t4993\t4999\t5003\t5009\t5011\t5021\t5023\t5039\t5051\t5059\t5077\t5081\t5087\t5099\t5101\t5107\t5113\t5119\t5147\t5153\t5167\t5171\t5179\t5189\t5197\t5209\t5227\t5231\t5233\t5237\t5261\t5273\t5279\t5281\t5297\t5303\t5309\t5323\t5333\t5347\t5351\t5381\t5387\t5393\t5399\t5407\t5413\t5417\t5419\t5431\t5437\t5441\t5443\t5449\t5471\t5477\t5479\t5483\t5501\t5503\t5507\t5519\t5521\t5527\t5531\t5557\t5563\t5569\t5573\t5581\t5591\t5623\t5639\t5641\t5647\t5651\t5653\t5657\t5659\t5669\t5683\t5689\t5693\t5701\t5711\t5717\t5737\t5741\t5743\t5749\t5779\t5783\t5791\t5801\t5807\t5813\t5821\t5827\t5839\t5843\t5849\t5851\t5857\t5861\t5867\t5869\t5879\t5881\t5897\t5903\t5923\t5927\t5939\t5953\t5981\t5987\t6007\t6011\t6029\t6037\t6043\t6047\t6053\t6067\t6073\t6079\t6089\t6091\t6101\t6113\t6121\t6131\t6133\t6143\t6151\t6163\t6173\t6197\t6199\t6203\t6211\t6217\t6221\t6229\t6247\t6257\t6263\t6269\t6271\t6277\t6287\t6299\t6301\t6311\t6317\t6323\t6329\t6337\t6343\t6353\t6359\t6361\t6367\t6373\t6379\t6389\t6397\t6421\t6427\t6449\t6451\t6469\t6473\t6481\t6491\t6521\t6529\t6547\t6551\t6553\t6563\t6569\t6571\t6577\t6581\t6599\t6607\t6619\t6637\t6653\t6659\t6661\t6673\t6679\t6689\t6691\t6701\t6703\t6709\t6719\t6733\t6737\t6761\t6763\t6779\t6781\t6791\t6793\t6803\t6823\t6827\t6829\t6833\t6841\t6857\t6863\t6869\t6871\t6883\t6899\t6907\t6911\t6917\t6947\t6949\t6959\t6961\t6967\t6971\t6977\t6983\t6991\t6997\t7001\t7013\t7019\t7027\t7039\t7043\t7057\t7069\t7079\t7103\t7109\t7121\t7127\t7129\t7151\t7159\t7177\t7187\t7193\t7207\t7211\t7213\t7219\t7229\t7237\t7243\t7247\t7253\t7283\t7297\t7307\t7309\t7321\t7331\t7333\t7349\t7351\t7369\t7393\t7411\t7417\t7433\t7451\t7457\t7459\t7477\t7481\t7487\t7489\t7499\t7507\t7517\t7523\t7529\t7537\t7541\t7547\t7549\t7559\t7561\t7573\t7577\t7583\t7589\t7591\t7603\t7607\t7621\t7639\t7643\t7649\t7669\t7673\t7681\t7687\t7691\t7699\t7703\t7717\t7723\t7727\t7741\t7753\t7757\t7759\t7789\t7793\t7817\t7823\t7829\t7841\t7853\t7867\t7873\t7877\t7879\t7883\t7901\t7907\t"
     ]
    }
   ],
   "source": [
    "for var in x:\n",
    "    print(var,end = \"\\t\")"
   ]
  },
  {
   "cell_type": "markdown",
   "metadata": {},
   "source": [
    "# Generators"
   ]
  },
  {
   "cell_type": "markdown",
   "metadata": {},
   "source": [
    "--> yield keyword is used to create a generator"
   ]
  },
  {
   "cell_type": "code",
   "execution_count": 57,
   "metadata": {},
   "outputs": [],
   "source": [
    "def even(num,max_length):\n",
    "    c = 0\n",
    "    while c<max_length:\n",
    "        if num%2 == 0:\n",
    "            yield num\n",
    "            num+=1\n",
    "        else:\n",
    "            num+=1\n",
    "        c+=1"
   ]
  },
  {
   "cell_type": "code",
   "execution_count": 58,
   "metadata": {},
   "outputs": [],
   "source": [
    "x = even(2,20)"
   ]
  },
  {
   "cell_type": "code",
   "execution_count": 54,
   "metadata": {},
   "outputs": [
    {
     "data": {
      "text/plain": [
       "<generator object even at 0x0000018FF040E350>"
      ]
     },
     "execution_count": 54,
     "metadata": {},
     "output_type": "execute_result"
    }
   ],
   "source": [
    "x"
   ]
  },
  {
   "cell_type": "code",
   "execution_count": 55,
   "metadata": {},
   "outputs": [
    {
     "name": "stdout",
     "output_type": "stream",
     "text": [
      "2\t4\t6\t8\t10\t12\t14\t16\t18\t20\t"
     ]
    }
   ],
   "source": [
    "for var in x:\n",
    "    print(var,end='\\t')"
   ]
  },
  {
   "cell_type": "code",
   "execution_count": 59,
   "metadata": {},
   "outputs": [
    {
     "name": "stdout",
     "output_type": "stream",
     "text": [
      "2\n",
      "4\n",
      "6\n",
      "8\n",
      "10\n",
      "12\n",
      "14\n",
      "16\n",
      "18\n",
      "20\n"
     ]
    },
    {
     "ename": "StopIteration",
     "evalue": "",
     "output_type": "error",
     "traceback": [
      "\u001b[1;31m---------------------------------------------------------------------------\u001b[0m",
      "\u001b[1;31mStopIteration\u001b[0m                             Traceback (most recent call last)",
      "\u001b[1;32m<ipython-input-59-5035b754d74c>\u001b[0m in \u001b[0;36m<module>\u001b[1;34m\u001b[0m\n\u001b[0;32m      1\u001b[0m \u001b[1;32mwhile\u001b[0m \u001b[1;32mTrue\u001b[0m\u001b[1;33m:\u001b[0m\u001b[1;33m\u001b[0m\u001b[1;33m\u001b[0m\u001b[0m\n\u001b[1;32m----> 2\u001b[1;33m     \u001b[0mprint\u001b[0m\u001b[1;33m(\u001b[0m\u001b[0mnext\u001b[0m\u001b[1;33m(\u001b[0m\u001b[0mx\u001b[0m\u001b[1;33m)\u001b[0m\u001b[1;33m)\u001b[0m\u001b[1;33m\u001b[0m\u001b[1;33m\u001b[0m\u001b[0m\n\u001b[0m",
      "\u001b[1;31mStopIteration\u001b[0m: "
     ]
    }
   ],
   "source": [
    "while True:\n",
    "    print(next(x))"
   ]
  },
  {
   "cell_type": "code",
   "execution_count": 60,
   "metadata": {},
   "outputs": [],
   "source": [
    "k = (var**2 for var in range(1000) if var%2)"
   ]
  },
  {
   "cell_type": "code",
   "execution_count": 61,
   "metadata": {},
   "outputs": [
    {
     "name": "stdout",
     "output_type": "stream",
     "text": [
      "1\t9\t25\t49\t81\t121\t169\t225\t289\t361\t441\t529\t625\t729\t841\t961\t1089\t1225\t1369\t1521\t1681\t1849\t2025\t2209\t2401\t2601\t2809\t3025\t3249\t3481\t3721\t3969\t4225\t4489\t4761\t5041\t5329\t5625\t5929\t6241\t6561\t6889\t7225\t7569\t7921\t8281\t8649\t9025\t9409\t9801\t10201\t10609\t11025\t11449\t11881\t12321\t12769\t13225\t13689\t14161\t14641\t15129\t15625\t16129\t16641\t17161\t17689\t18225\t18769\t19321\t19881\t20449\t21025\t21609\t22201\t22801\t23409\t24025\t24649\t25281\t25921\t26569\t27225\t27889\t28561\t29241\t29929\t30625\t31329\t32041\t32761\t33489\t34225\t34969\t35721\t36481\t37249\t38025\t38809\t39601\t40401\t41209\t42025\t42849\t43681\t44521\t45369\t46225\t47089\t47961\t48841\t49729\t50625\t51529\t52441\t53361\t54289\t55225\t56169\t57121\t58081\t59049\t60025\t61009\t62001\t63001\t64009\t65025\t66049\t67081\t68121\t69169\t70225\t71289\t72361\t73441\t74529\t75625\t76729\t77841\t78961\t80089\t81225\t82369\t83521\t84681\t85849\t87025\t88209\t89401\t90601\t91809\t93025\t94249\t95481\t96721\t97969\t99225\t100489\t101761\t103041\t104329\t105625\t106929\t108241\t109561\t110889\t112225\t113569\t114921\t116281\t117649\t119025\t120409\t121801\t123201\t124609\t126025\t127449\t128881\t130321\t131769\t133225\t134689\t136161\t137641\t139129\t140625\t142129\t143641\t145161\t146689\t148225\t149769\t151321\t152881\t154449\t156025\t157609\t159201\t160801\t162409\t164025\t165649\t167281\t168921\t170569\t172225\t173889\t175561\t177241\t178929\t180625\t182329\t184041\t185761\t187489\t189225\t190969\t192721\t194481\t196249\t198025\t199809\t201601\t203401\t205209\t207025\t208849\t210681\t212521\t214369\t216225\t218089\t219961\t221841\t223729\t225625\t227529\t229441\t231361\t233289\t235225\t237169\t239121\t241081\t243049\t245025\t247009\t249001\t251001\t253009\t255025\t257049\t259081\t261121\t263169\t265225\t267289\t269361\t271441\t273529\t275625\t277729\t279841\t281961\t284089\t286225\t288369\t290521\t292681\t294849\t297025\t299209\t301401\t303601\t305809\t308025\t310249\t312481\t314721\t316969\t319225\t321489\t323761\t326041\t328329\t330625\t332929\t335241\t337561\t339889\t342225\t344569\t346921\t349281\t351649\t354025\t356409\t358801\t361201\t363609\t366025\t368449\t370881\t373321\t375769\t378225\t380689\t383161\t385641\t388129\t390625\t393129\t395641\t398161\t400689\t403225\t405769\t408321\t410881\t413449\t416025\t418609\t421201\t423801\t426409\t429025\t431649\t434281\t436921\t439569\t442225\t444889\t447561\t450241\t452929\t455625\t458329\t461041\t463761\t466489\t469225\t471969\t474721\t477481\t480249\t483025\t485809\t488601\t491401\t494209\t497025\t499849\t502681\t505521\t508369\t511225\t514089\t516961\t519841\t522729\t525625\t528529\t531441\t534361\t537289\t540225\t543169\t546121\t549081\t552049\t555025\t558009\t561001\t564001\t567009\t570025\t573049\t576081\t579121\t582169\t585225\t588289\t591361\t594441\t597529\t600625\t603729\t606841\t609961\t613089\t616225\t619369\t622521\t625681\t628849\t632025\t635209\t638401\t641601\t644809\t648025\t651249\t654481\t657721\t660969\t664225\t667489\t670761\t674041\t677329\t680625\t683929\t687241\t690561\t693889\t697225\t700569\t703921\t707281\t710649\t714025\t717409\t720801\t724201\t727609\t731025\t734449\t737881\t741321\t744769\t748225\t751689\t755161\t758641\t762129\t765625\t769129\t772641\t776161\t779689\t783225\t786769\t790321\t793881\t797449\t801025\t804609\t808201\t811801\t815409\t819025\t822649\t826281\t829921\t833569\t837225\t840889\t844561\t848241\t851929\t855625\t859329\t863041\t866761\t870489\t874225\t877969\t881721\t885481\t889249\t893025\t896809\t900601\t904401\t908209\t912025\t915849\t919681\t923521\t927369\t931225\t935089\t938961\t942841\t946729\t950625\t954529\t958441\t962361\t966289\t970225\t974169\t978121\t982081\t986049\t990025\t994009\t998001\t"
     ]
    }
   ],
   "source": [
    "for var in k:\n",
    "    print(var,end=\"\\t\")"
   ]
  },
  {
   "cell_type": "code",
   "execution_count": 62,
   "metadata": {},
   "outputs": [
    {
     "name": "stdout",
     "output_type": "stream",
     "text": [
      "<generator object <genexpr> at 0x0000018FF040E9E0>\n"
     ]
    }
   ],
   "source": [
    "print(k)"
   ]
  },
  {
   "cell_type": "code",
   "execution_count": 66,
   "metadata": {},
   "outputs": [],
   "source": [
    "import time\n",
    "def mygen():\n",
    "    x = 0\n",
    "    while True:\n",
    "        x += 1\n",
    "        time.sleep(1)\n",
    "        yield print(f\"Hello World {x} Times\")"
   ]
  },
  {
   "cell_type": "code",
   "execution_count": 67,
   "metadata": {},
   "outputs": [],
   "source": [
    "v = mygen()"
   ]
  },
  {
   "cell_type": "code",
   "execution_count": 68,
   "metadata": {},
   "outputs": [
    {
     "name": "stdout",
     "output_type": "stream",
     "text": [
      "Hello World 1 Times\n",
      "Hello World 2 Times\n",
      "Hello World 3 Times\n",
      "Hello World 4 Times\n",
      "Hello World 5 Times\n",
      "Hello World 6 Times\n",
      "Hello World 7 Times\n",
      "Hello World 8 Times\n",
      "Hello World 9 Times\n",
      "Hello World 10 Times\n",
      "Hello World 11 Times\n",
      "Hello World 12 Times\n",
      "Hello World 13 Times\n",
      "Hello World 14 Times\n",
      "Hello World 15 Times\n",
      "Hello World 16 Times\n",
      "Hello World 17 Times\n",
      "Hello World 18 Times\n",
      "Hello World 19 Times\n",
      "Hello World 20 Times\n",
      "Hello World 21 Times\n",
      "Hello World 22 Times\n",
      "Hello World 23 Times\n",
      "Hello World 24 Times\n",
      "Hello World 25 Times\n",
      "Hello World 26 Times\n",
      "Hello World 27 Times\n",
      "Hello World 28 Times\n",
      "Hello World 29 Times\n",
      "Hello World 30 Times\n",
      "Hello World 31 Times\n",
      "Hello World 32 Times\n",
      "Hello World 33 Times\n",
      "Hello World 34 Times\n",
      "Hello World 35 Times\n",
      "Hello World 36 Times\n",
      "Hello World 37 Times\n",
      "Hello World 38 Times\n",
      "Hello World 39 Times\n",
      "Hello World 40 Times\n",
      "Hello World 41 Times\n",
      "Hello World 42 Times\n",
      "Hello World 43 Times\n",
      "Hello World 44 Times\n",
      "Hello World 45 Times\n",
      "Hello World 46 Times\n",
      "Hello World 47 Times\n",
      "Hello World 48 Times\n",
      "Hello World 49 Times\n",
      "Hello World 50 Times\n",
      "Hello World 51 Times\n",
      "Hello World 52 Times\n",
      "Hello World 53 Times\n",
      "Hello World 54 Times\n",
      "Hello World 55 Times\n",
      "Hello World 56 Times\n",
      "Hello World 57 Times\n",
      "Hello World 58 Times\n",
      "Hello World 59 Times\n",
      "Hello World 60 Times\n",
      "Hello World 61 Times\n",
      "Hello World 62 Times\n",
      "Hello World 63 Times\n",
      "Hello World 64 Times\n",
      "Hello World 65 Times\n",
      "Hello World 66 Times\n",
      "Hello World 67 Times\n",
      "Hello World 68 Times\n",
      "Hello World 69 Times\n",
      "Hello World 70 Times\n",
      "Hello World 71 Times\n",
      "Hello World 72 Times\n",
      "Hello World 73 Times\n",
      "Hello World 74 Times\n",
      "Hello World 75 Times\n",
      "Hello World 76 Times\n",
      "Hello World 77 Times\n",
      "Hello World 78 Times\n",
      "Hello World 79 Times\n",
      "Hello World 80 Times\n",
      "Hello World 81 Times\n",
      "Hello World 82 Times\n",
      "Hello World 83 Times\n",
      "Hello World 84 Times\n",
      "Hello World 85 Times\n",
      "Hello World 86 Times\n",
      "Hello World 87 Times\n",
      "Hello World 88 Times\n",
      "Hello World 89 Times\n"
     ]
    },
    {
     "ename": "KeyboardInterrupt",
     "evalue": "",
     "output_type": "error",
     "traceback": [
      "\u001b[1;31m---------------------------------------------------------------------------\u001b[0m",
      "\u001b[1;31mKeyboardInterrupt\u001b[0m                         Traceback (most recent call last)",
      "\u001b[1;32m<ipython-input-68-cf01276d1116>\u001b[0m in \u001b[0;36m<module>\u001b[1;34m\u001b[0m\n\u001b[0;32m      1\u001b[0m \u001b[1;32mwhile\u001b[0m \u001b[1;32mTrue\u001b[0m\u001b[1;33m:\u001b[0m\u001b[1;33m\u001b[0m\u001b[1;33m\u001b[0m\u001b[0m\n\u001b[1;32m----> 2\u001b[1;33m     \u001b[0mnext\u001b[0m\u001b[1;33m(\u001b[0m\u001b[0mv\u001b[0m\u001b[1;33m)\u001b[0m\u001b[1;33m\u001b[0m\u001b[1;33m\u001b[0m\u001b[0m\n\u001b[0m",
      "\u001b[1;32m<ipython-input-66-3ab0cbff66a9>\u001b[0m in \u001b[0;36mmygen\u001b[1;34m()\u001b[0m\n\u001b[0;32m      4\u001b[0m     \u001b[1;32mwhile\u001b[0m \u001b[1;32mTrue\u001b[0m\u001b[1;33m:\u001b[0m\u001b[1;33m\u001b[0m\u001b[1;33m\u001b[0m\u001b[0m\n\u001b[0;32m      5\u001b[0m         \u001b[0mx\u001b[0m \u001b[1;33m+=\u001b[0m \u001b[1;36m1\u001b[0m\u001b[1;33m\u001b[0m\u001b[1;33m\u001b[0m\u001b[0m\n\u001b[1;32m----> 6\u001b[1;33m         \u001b[0mtime\u001b[0m\u001b[1;33m.\u001b[0m\u001b[0msleep\u001b[0m\u001b[1;33m(\u001b[0m\u001b[1;36m1\u001b[0m\u001b[1;33m)\u001b[0m\u001b[1;33m\u001b[0m\u001b[1;33m\u001b[0m\u001b[0m\n\u001b[0m\u001b[0;32m      7\u001b[0m         \u001b[1;32myield\u001b[0m \u001b[0mprint\u001b[0m\u001b[1;33m(\u001b[0m\u001b[1;34mf\"Hello World {x} Times\"\u001b[0m\u001b[1;33m)\u001b[0m\u001b[1;33m\u001b[0m\u001b[1;33m\u001b[0m\u001b[0m\n",
      "\u001b[1;31mKeyboardInterrupt\u001b[0m: "
     ]
    }
   ],
   "source": [
    "while True:\n",
    "    next(v)"
   ]
  },
  {
   "cell_type": "code",
   "execution_count": null,
   "metadata": {},
   "outputs": [],
   "source": []
  }
 ],
 "metadata": {
  "kernelspec": {
   "display_name": "Python 3",
   "language": "python",
   "name": "python3"
  },
  "language_info": {
   "codemirror_mode": {
    "name": "ipython",
    "version": 3
   },
   "file_extension": ".py",
   "mimetype": "text/x-python",
   "name": "python",
   "nbconvert_exporter": "python",
   "pygments_lexer": "ipython3",
   "version": "3.8.5"
  }
 },
 "nbformat": 4,
 "nbformat_minor": 4
}
